{
 "cells": [
  {
   "cell_type": "markdown",
   "metadata": {},
   "source": [
    "# Notebook 1: Data Retrieval from FDB and Preprocessing\n",
    "\n",
    "This notebook serves as a guide to accessing data from FDB (Fields Database) object storage and preprocessing. In the first part, it demonstrates the computation of median ensembles of precipitations aggregated over 6 hours, followed by a more complex computational process, the computation of potential vorticity.\n",
    "\n",
    "https://github.com/MeteoSwiss/meteodata-lab"
   ]
  },
  {
   "cell_type": "markdown",
   "metadata": {},
   "source": [
    "## Accessing Data from FDB\n",
    "\n",
    "To access the data from FDB, follow these steps:\n",
    "\n",
    "### Configuring Access to FDB"
   ]
  },
  {
   "cell_type": "code",
   "execution_count": null,
   "metadata": {},
   "outputs": [],
   "source": [
    "import logging\n",
    "import os\n",
    "import sys\n",
    "from pathlib import Path\n",
    "\n",
    "from meteodatalab import mars, mch_model_data\n",
    "\n",
    "import plot_utils"
   ]
  },
  {
   "cell_type": "code",
   "execution_count": null,
   "metadata": {},
   "outputs": [],
   "source": [
    "logging.basicConfig(level=logging.INFO, stream=sys.stdout)\n",
    "logging.getLogger(\"matplotlib\").setLevel(logging.INFO)\n",
    "cwd = Path().resolve().parent\n",
    "view = cwd / \"spack-env/.spack-env/view\"\n",
    "assert view.exists()"
   ]
  },
  {
   "cell_type": "code",
   "execution_count": null,
   "metadata": {},
   "outputs": [],
   "source": [
    "os.environ[\"FDB5_HOME\"] = str(view)\n",
    "os.environ[\"FDB5_CONFIG\"] = \"\"\"\n",
    "---\n",
    "type: local\n",
    "engine: toc\n",
    "schema: /scratch/mch/vcherkas/fdb-realtime-lcm/schema\n",
    "spaces:\n",
    "- handler: Default\n",
    "  roots:\n",
    "  - path: /scratch/mch/vcherkas/fdb-root-realtime\n",
    "\"\"\""
   ]
  },
  {
   "cell_type": "markdown",
   "metadata": {},
   "source": [
    "### Retrieving Data\n",
    "\n",
    "Use query functions to retrieve the required data.\n",
    "\n",
    "The request for data is made by specifying the values of MARS keys.\n",
    "MARS keys are derived from GRIB keys and serve as a base for the FDB index.\n",
    "The `meteodatalab.mars` module provides helpers to build valid MARS request in the context of MeteoSwiss.\n",
    "\n",
    "Note that the available data in the test FDB instance is typically limited to the 2 last runs so make sure to update the date and time."
   ]
  },
  {
   "cell_type": "code",
   "execution_count": null,
   "metadata": {},
   "outputs": [],
   "source": [
    "request = mars.Request(\n",
    "    param=\"TOT_PREC\",\n",
    "    date=\"20240409\",\n",
    "    time=\"1800\",\n",
    "    number=tuple(range(11)),\n",
    "    step=tuple(i * 60 for i in range(10)),  # minutes\n",
    "    levtype=mars.LevType.SURFACE,\n",
    "    model=mars.Model.ICON_CH1_EPS,\n",
    ")"
   ]
  },
  {
   "cell_type": "code",
   "execution_count": null,
   "metadata": {},
   "outputs": [],
   "source": [
    "request.to_fdb()"
   ]
  },
  {
   "cell_type": "markdown",
   "metadata": {},
   "source": [
    "The `meteodatalab.mch_model_data` module provides some convenience functions to access model data.\n",
    "Earthkit-data is used in the background to read the data that is being returned by FDB."
   ]
  },
  {
   "cell_type": "code",
   "execution_count": null,
   "metadata": {},
   "outputs": [],
   "source": [
    "ds = mch_model_data.get_from_fdb(request)"
   ]
  },
  {
   "cell_type": "markdown",
   "metadata": {},
   "source": [
    "The data is returned as dictionary of xarray DataArrays where the keys are set to the param short name."
   ]
  },
  {
   "cell_type": "code",
   "execution_count": null,
   "metadata": {},
   "outputs": [],
   "source": [
    "ds[\"TOT_PREC\"]"
   ]
  },
  {
   "cell_type": "markdown",
   "metadata": {},
   "source": [
    "## Data Preprocessing for Computing Median Ensembles\n",
    "\n",
    "Before computing median ensembles aggregated over 6 hours, ensure the data undergoes appropriate preprocessing:\n",
    "\n",
    "### Data Aggregation\n",
    "Aggregate data over 6-hour intervals.\n",
    "\n",
    "`meteodatalab` implements operators that transform the data. \n",
    "\n",
    "For example, the total precipitation is accumulated from the reference time but reaggregated to 6 hour intervals using the `delta` operator."
   ]
  },
  {
   "cell_type": "code",
   "execution_count": null,
   "metadata": {},
   "outputs": [],
   "source": [
    "import numpy as np\n",
    "from meteodatalab.operators import time_operators as time_ops"
   ]
  },
  {
   "cell_type": "code",
   "execution_count": null,
   "metadata": {},
   "outputs": [],
   "source": [
    "tot_prec_6h = time_ops.delta(ds[\"TOT_PREC\"], np.timedelta64(6, \"h\"))"
   ]
  },
  {
   "cell_type": "code",
   "execution_count": null,
   "metadata": {},
   "outputs": [],
   "source": [
    "tot_prec_6h"
   ]
  },
  {
   "cell_type": "markdown",
   "metadata": {},
   "source": [
    "### Ensemble Calculation\n",
    "\n",
    "Compute median ensembles using preprocessed data."
   ]
  },
  {
   "cell_type": "code",
   "execution_count": null,
   "metadata": {},
   "outputs": [],
   "source": [
    "data = tot_prec_6h.isel(time=8).median(dim=\"eps\").clip(min=0)\n",
    "data.attrs[\"geography\"] = tot_prec_6h.geography\n",
    "plot_utils.plot_tot_prec(data)"
   ]
  },
  {
   "cell_type": "markdown",
   "metadata": {},
   "source": [
    "## Potential Vorticity Calculation and Wind Field Rotation\n",
    "\n",
    "This notebook introduces a comprehensive approach to computing potential vorticity (PV) and rotating the wind field, representing a more intricate computational process compared to Notebook 1, which primarily focused on straightforward data retrieval and preprocessing."
   ]
  },
  {
   "cell_type": "markdown",
   "metadata": {},
   "source": [
    "### Querying Data\n",
    "\n",
    "Utilize query functions to smoothly retrieve the nine required fields spanning all model levels."
   ]
  },
  {
   "cell_type": "code",
   "execution_count": null,
   "metadata": {},
   "outputs": [],
   "source": [
    "request = mars.Request(\n",
    "    param=(\"P\", \"T\", \"U\", \"V\", \"W\", \"QV\", \"QC\", \"QI\"),\n",
    "    date=\"20240419\",\n",
    "    time=\"1200\",\n",
    "    number=0,\n",
    "    step=420,\n",
    "    levtype=mars.LevType.MODEL_LEVEL,\n",
    "    levelist=tuple(range(1, 82)),\n",
    "    model=mars.Model.ICON_CH1_EPS,\n",
    ")"
   ]
  },
  {
   "cell_type": "code",
   "execution_count": null,
   "metadata": {},
   "outputs": [],
   "source": [
    "request_hhl_const = mars.Request(\n",
    "    param=\"HHL\",\n",
    "    date=\"20240419\",\n",
    "    time=\"1200\",\n",
    "    number=0,\n",
    "    step=0,\n",
    "    levtype=mars.LevType.MODEL_LEVEL,\n",
    "    levelist=tuple(range(1, 82)),\n",
    "    model=mars.Model.ICON_CH1_EPS,\n",
    ")"
   ]
  },
  {
   "cell_type": "code",
   "execution_count": null,
   "metadata": {},
   "outputs": [],
   "source": [
    "ds = mch_model_data.get_from_fdb(request)"
   ]
  },
  {
   "cell_type": "code",
   "execution_count": null,
   "metadata": {},
   "outputs": [],
   "source": [
    "ds |= mch_model_data.get_from_fdb(request_hhl_const)"
   ]
  },
  {
   "cell_type": "code",
   "execution_count": null,
   "metadata": {},
   "outputs": [],
   "source": [
    "hhl = ds[\"HHL\"].squeeze(drop=True)\n",
    "hhl"
   ]
  },
  {
   "cell_type": "markdown",
   "metadata": {},
   "source": [
    "### Computing Potential Vorticity\n",
    "\n",
    "The next Jupyter cell will tackle the computation of potential vorticity, a more complex process that isn't directly computed by the model."
   ]
  },
  {
   "cell_type": "code",
   "execution_count": null,
   "metadata": {},
   "outputs": [],
   "source": [
    "from meteodatalab import metadata\n",
    "from meteodatalab.operators.rho import compute_rho_tot\n",
    "from meteodatalab.operators.theta import compute_theta\n",
    "from meteodatalab.operators.pot_vortic import compute_pot_vortic"
   ]
  },
  {
   "cell_type": "code",
   "execution_count": null,
   "metadata": {},
   "outputs": [],
   "source": [
    "theta = compute_theta(ds[\"P\"], ds[\"T\"])\n",
    "rho_tot = compute_rho_tot(ds[\"T\"], ds[\"P\"], ds[\"QV\"], ds[\"QC\"], ds[\"QI\"])\n",
    "\n",
    "metadata.set_origin_xy(ds, \"HHL\")\n",
    "pot_vortic = compute_pot_vortic(ds[\"U\"], ds[\"V\"], ds[\"W\"], theta, rho_tot, hhl)"
   ]
  },
  {
   "cell_type": "markdown",
   "metadata": {},
   "source": [
    "### Interpolate to potential temperature levels\n",
    "\n",
    "It's possible to interpolate the potential vorticity on isotherms of potential temperature."
   ]
  },
  {
   "cell_type": "code",
   "execution_count": null,
   "metadata": {},
   "outputs": [],
   "source": [
    "from meteodatalab.operators.destagger import destagger\n",
    "from meteodatalab.operators.vertical_interpolation import interpolate_k2theta"
   ]
  },
  {
   "cell_type": "code",
   "execution_count": null,
   "metadata": {},
   "outputs": [],
   "source": [
    "hfl = destagger(hhl, \"z\")\n",
    "theta_values = [310.0, 315.0, 320.0, 325.0, 330.0, 335.0]\n",
    "pot_vortic_th = interpolate_k2theta(pot_vortic, \"low_fold\", theta, theta_values, \"K\", hfl)"
   ]
  },
  {
   "cell_type": "code",
   "execution_count": null,
   "metadata": {},
   "outputs": [],
   "source": [
    "pot_vortic_th.coords"
   ]
  },
  {
   "cell_type": "code",
   "execution_count": null,
   "metadata": {},
   "outputs": [],
   "source": [
    "plot_utils.plot_pot_vortic(pot_vortic_th.sel(theta=320), hhl.geography, \"Potential Vorticity at $\\\\theta$ = 320K\")"
   ]
  },
  {
   "cell_type": "markdown",
   "metadata": {},
   "source": [
    "### Compute the mean between pressure levels\n",
    "\n",
    "There's also an option to compute the mean potential vorticity between two isobars (or pressure levels)."
   ]
  },
  {
   "cell_type": "code",
   "execution_count": null,
   "metadata": {},
   "outputs": [],
   "source": [
    "from meteodatalab.operators.vertical_interpolation import interpolate_k2p\n",
    "from meteodatalab.operators.vertical_reduction import integrate_k"
   ]
  },
  {
   "cell_type": "code",
   "execution_count": null,
   "metadata": {},
   "outputs": [],
   "source": [
    "isobars = interpolate_k2p(hfl, \"linear_in_lnp\", ds[\"P\"], [700, 900], \"hPa\")\n",
    "h700, h900 = isobars.transpose(\"pressure\", ...)\n",
    "pot_vortic_mean = integrate_k(pot_vortic, \"normed_integral\", \"z2z\", hhl, (h900, h700))"
   ]
  },
  {
   "cell_type": "code",
   "execution_count": null,
   "metadata": {},
   "outputs": [],
   "source": [
    "plot_utils.plot_pot_vortic(pot_vortic_mean, hhl.geography, \"Mean potential vorticity between 900 and 700 hPa\")"
   ]
  },
  {
   "cell_type": "markdown",
   "metadata": {},
   "source": [
    "## Summary\n",
    "\n",
    "- retrieve data from FDB in python\n",
    "- read GRIB data into xarray\n",
    "- process the data with meteorological operators that are aware of the grib metadata\n",
    "- keep the GRIB metadata consistent thoughout operations"
   ]
  },
  {
   "cell_type": "code",
   "execution_count": null,
   "metadata": {},
   "outputs": [],
   "source": []
  }
 ],
 "metadata": {
  "kernelspec": {
   "display_name": "Python 3 (ipykernel)",
   "language": "python",
   "name": "python3"
  },
  "language_info": {
   "codemirror_mode": {
    "name": "ipython",
    "version": 3
   },
   "file_extension": ".py",
   "mimetype": "text/x-python",
   "name": "python",
   "nbconvert_exporter": "python",
   "pygments_lexer": "ipython3",
   "version": "3.12.3"
  }
 },
 "nbformat": 4,
 "nbformat_minor": 4
}
