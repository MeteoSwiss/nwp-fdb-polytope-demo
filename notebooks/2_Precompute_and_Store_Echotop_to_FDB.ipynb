{
 "cells": [
  {
   "cell_type": "markdown",
   "metadata": {},
   "source": [
    "# Notebook 2: Pre-compute echo-top variable and store back to FDB\n",
    "\n",
    "In the previous notebooks we demonstrated how users can compute various reprojections and derived data from raw model data. However, this approach may lack efficiency when multiple users or downstream applications need to perform the same Swiss grid reprojection or interpolation to pressure levels on identical data. To optimize the process for widely beneficial and frequently reused data transformations, we aim to pre-compute and **store the results back into FDB** (write access requires user to be in group s83). "
   ]
  },
  {
   "cell_type": "markdown",
   "metadata": {},
   "source": [
    "## Configuring Access to FDB"
   ]
  },
  {
   "cell_type": "code",
   "execution_count": null,
   "metadata": {},
   "outputs": [],
   "source": [
    "import os\n",
    "import logging\n",
    "import sys\n",
    "from pathlib import Path\n",
    "\n",
    "from meteodatalab import mars, mch_model_data\n"
   ]
  },
  {
   "cell_type": "code",
   "execution_count": null,
   "metadata": {},
   "outputs": [],
   "source": [
    "logging.basicConfig(level=logging.INFO, stream=sys.stdout)\n",
    "cwd = Path().resolve().parent\n",
    "view = cwd / \"spack-env/.spack-env/view\"\n",
    "assert view.exists()"
   ]
  },
  {
   "cell_type": "code",
   "execution_count": null,
   "metadata": {},
   "outputs": [],
   "source": [
    "os.environ[\"FDB5_HOME\"] = str(view)\n",
    "os.environ[\"FDB5_CONFIG\"] = \"\"\"\n",
    "---\n",
    "type: remote\n",
    "engine: remote\n",
    "host: balfrin-ln003.cscs.ch\n",
    "port: 30005\n",
    "store: remote\n",
    "\"\"\"\n",
    "os.environ[\"FDB_REMOTE_RETRIEVE_QUEUE_LENGTH\"] = \"100\"\n"
   ]
  },
  {
   "cell_type": "markdown",
   "metadata": {},
   "source": [
    "## Querying Data"
   ]
  },
  {
   "cell_type": "code",
   "execution_count": null,
   "metadata": {},
   "outputs": [],
   "source": [
    "date = \"20240626\"\n",
    "time = \"1200\"\n",
    "request_dbz = mars.Request(\n",
    "    param=\"DBZ\",\n",
    "    date=date,\n",
    "    time=time,\n",
    "    number=0,\n",
    "    step=60,\n",
    "    levtype=mars.LevType.MODEL_LEVEL,\n",
    "    levelist=tuple(range(1, 81)),\n",
    "    model=mars.Model.ICON_CH1_EPS,\n",
    ")\n",
    "request_hhl = mars.Request(\n",
    "    param=\"HHL\",\n",
    "    date=date,\n",
    "    time=time,\n",
    "    number=0,\n",
    "    step=0,\n",
    "    levtype=mars.LevType.MODEL_LEVEL,\n",
    "    levelist=tuple(range(1, 82)),\n",
    "    model=mars.Model.ICON_CH1_EPS,\n",
    ")\n"
   ]
  },
  {
   "cell_type": "code",
   "execution_count": null,
   "metadata": {},
   "outputs": [],
   "source": [
    "ds = mch_model_data.get_from_fdb(request_dbz)\n",
    "ds |= mch_model_data.get_from_fdb(request_hhl)"
   ]
  },
  {
   "cell_type": "code",
   "execution_count": null,
   "metadata": {},
   "outputs": [],
   "source": [
    "hhl = ds[\"HHL\"].squeeze(drop=True)\n",
    "hhl.sel(z=81).plot()\n"
   ]
  },
  {
   "cell_type": "code",
   "execution_count": null,
   "metadata": {},
   "outputs": [],
   "source": [
    "dbz = ds[\"DBZ\"]\n",
    "dbz.sel(z=40).plot()\n"
   ]
  },
  {
   "cell_type": "markdown",
   "metadata": {},
   "source": [
    "## Compute \"EchoTop\" field\n",
    "\n",
    "The EchoTop is related to the active core of a thundercloud and is defined as the greatest height at which a radar reflectivity of 15 dBZ is measured."
   ]
  },
  {
   "cell_type": "code",
   "execution_count": null,
   "metadata": {},
   "outputs": [],
   "source": [
    "from meteodatalab.operators.destagger import destagger\n",
    "from meteodatalab.operators.vertical_interpolation import interpolate_k2any\n"
   ]
  },
  {
   "cell_type": "code",
   "execution_count": null,
   "metadata": {},
   "outputs": [],
   "source": [
    "hfl = destagger(hhl, \"z\")\n",
    "# interpolate height to isosurface of radar reflectivity\n",
    "echo_top = interpolate_k2any(hfl, \"high_fold\", dbz, [15.0], hfl)\n",
    "echo_top.plot()"
   ]
  },
  {
   "cell_type": "markdown",
   "metadata": {},
   "source": [
    "## Write the field back to FDB\n",
    "\n",
    "Since `interpolate_k2any` is a generic operator, the metadata has to be updated to maintain consistency with the computed values."
   ]
  },
  {
   "cell_type": "code",
   "execution_count": null,
   "metadata": {},
   "outputs": [],
   "source": [
    "from meteodatalab import metadata\n"
   ]
  },
  {
   "cell_type": "code",
   "execution_count": null,
   "metadata": {},
   "outputs": [],
   "source": [
    "# override the GRIB template message metadata\n",
    "echo_top.attrs |= metadata.override(\n",
    "    echo_top.message, shortName=\"ECHOTOPinM\", typeOfLevel=\"echoTopInDBZ\"\n",
    ")\n"
   ]
  },
  {
   "cell_type": "markdown",
   "metadata": {},
   "source": [
    "In order to archive back to FDB you need write access to the FDB root directory which is only possible through the designated service account at CSCS."
   ]
  },
  {
   "cell_type": "code",
   "execution_count": null,
   "metadata": {},
   "outputs": [],
   "source": [
    "mch_model_data.archive_to_fdb(echo_top.rename({\"DBZ\": \"z\"}))\n"
   ]
  },
  {
   "cell_type": "markdown",
   "metadata": {},
   "source": [
    "## Summary\n",
    "\n",
    "- compute derived variable from direct model output\n",
    "- update the metadata\n",
    "- archive the result back to FDB"
   ]
  }
 ],
 "metadata": {
  "kernelspec": {
   "display_name": "Python 3 (ipykernel)",
   "language": "python",
   "name": "python3"
  },
  "language_info": {
   "codemirror_mode": {
    "name": "ipython",
    "version": 3
   },
   "file_extension": ".py",
   "mimetype": "text/x-python",
   "name": "python",
   "nbconvert_exporter": "python",
   "pygments_lexer": "ipython3",
   "version": "3.12.3"
  }
 },
 "nbformat": 4,
 "nbformat_minor": 4
}
