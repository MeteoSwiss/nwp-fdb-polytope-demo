{
 "cells": [
  {
   "cell_type": "markdown",
   "metadata": {},
   "source": [
    "# Notebook 3: Retrieve Echotop Field from Pre-Computed Data\n",
    "\n",
    "In Notebook 2, we pre-computed the Echotop variable from raw model data and stored it back into FDB. Now, in Notebook 3, our objective is to retrieve this pre-computed echo-top field. This field, initially not generated as part of the model's output, is highly valuable for numerous downstream applications, making it of considerable interest for many users to retrieve. Additionally, we apply a regridding of the data to the Swiss grid coordinate system (EPSG code 21781) to showcase another feature. By accessing this stored data, we streamline the process of accessing and utilizing essential meteorological information, enabling smoother workflows and improved insights."
   ]
  },
  {
   "cell_type": "markdown",
   "metadata": {},
   "source": [
    "1. **Configuring Access to Polytope**"
   ]
  },
  {
   "cell_type": "code",
   "execution_count": null,
   "metadata": {},
   "outputs": [],
   "source": [
    "import os\n",
    "\n",
    "os.environ[\"POLYTOPE_ADDRESS\"] = \"https://polytope-dev.mchml.cscs.ch\"\n",
    "#os.environ[\"POLYTOPE_USERNAME\"] = \"admin\"\n",
    "#os.environ[\"POLYTOPE_PASSWORD\"] = \"xxxxxxxxxxxxx\"\n"
   ]
  },
  {
   "cell_type": "markdown",
   "metadata": {},
   "source": [
    "2. **Querying Data**"
   ]
  },
  {
   "cell_type": "code",
   "execution_count": null,
   "metadata": {},
   "outputs": [],
   "source": [
    "from meteodatalab import mars, mch_model_data\n",
    "\n",
    "request = mars.Request(\n",
    "    param=\"ECHOTOPinM\",\n",
    "    date=\"20240409\",\n",
    "    time=\"1800\",\n",
    "    number=0,\n",
    "    step=60,\n",
    "    levtype=mars.LevType.SURFACE,\n",
    "    model=mars.Model.ICON_CH1_EPS,\n",
    ")\n",
    "\n",
    "ds = mch_model_data.get_from_polytope(request)\n"
   ]
  },
  {
   "cell_type": "markdown",
   "metadata": {},
   "source": [
    "3. **Regridding to the Swiss grid coordinate system**"
   ]
  },
  {
   "cell_type": "code",
   "execution_count": null,
   "metadata": {},
   "outputs": [],
   "source": [
    "from meteodatalab.operators.regrid import regrid, RegularGrid, Resampling, CRS\n",
    "\n",
    "echo_top = ds[\"ECHOTOPinM\"]\n",
    "dst = RegularGrid(\n",
    "    crs=CRS.from_epsg(21781),\n",
    "    xmin=400000,\n",
    "    xmax=900000,\n",
    "    ymin=50000,\n",
    "    ymax=350000,\n",
    "    nx=500,\n",
    "    ny=300,\n",
    ")\n",
    "echo_top_lv03 = regrid(echo_top, dst, Resampling.bilinear)\n"
   ]
  },
  {
   "cell_type": "markdown",
   "metadata": {},
   "source": [
    "4. **Visualizing the data**"
   ]
  },
  {
   "cell_type": "code",
   "execution_count": null,
   "metadata": {},
   "outputs": [],
   "source": [
    "import matplotlib.pyplot as plt\n",
    "from cartopy import crs as ccrs\n",
    "from cartopy import feature as cfeature\n",
    "\n",
    "crs = ccrs.epsg(21781)\n",
    "fig = plt.figure(figsize=(11, 8))\n",
    "ax = fig.add_subplot(1, 1, 1, projection=crs)\n",
    "\n",
    "f = echo_top_lv03.squeeze()\n",
    "c = ax.contourf(dst.x, dst.y, f.values, transform=crs)\n",
    "fig.colorbar(c, label=\"m\")\n",
    "\n",
    "ax.add_feature(cfeature.BORDERS)\n",
    "ax.add_feature(cfeature.LAKES, alpha=0.5)\n",
    "ax.add_feature(cfeature.RIVERS)\n",
    "\n",
    "ax.set_title(\"Echo top in meters\")\n"
   ]
  }
 ],
 "metadata": {
  "kernelspec": {
   "display_name": "Python 3 (ipykernel)",
   "language": "python",
   "name": "python3"
  },
  "language_info": {
   "codemirror_mode": {
    "name": "ipython",
    "version": 3
   },
   "file_extension": ".py",
   "mimetype": "text/x-python",
   "name": "python",
   "nbconvert_exporter": "python",
   "pygments_lexer": "ipython3",
   "version": "3.11.8"
  }
 },
 "nbformat": 4,
 "nbformat_minor": 2
}
