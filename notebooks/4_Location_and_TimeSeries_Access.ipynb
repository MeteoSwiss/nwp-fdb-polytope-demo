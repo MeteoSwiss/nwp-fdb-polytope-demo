{
 "cells": [
  {
   "cell_type": "markdown",
   "metadata": {},
   "source": [
    "# Notebook 4: Efficient Location and Time Series Access Using Polytope Feature Extraction\n",
    "\n",
    "Notebook 4 showcases efficient geo-location and time series access using polytope feature extraction. By leveraging this feature, we significantly reduce data retrieval from storage, optimizing workflows and resource utilization."
   ]
  },
  {
   "cell_type": "markdown",
   "metadata": {},
   "source": [
    "1. **Configuring Access to Polytope**"
   ]
  },
  {
   "cell_type": "code",
   "execution_count": null,
   "id": "d31a6eaa-f842-41f4-92e9-fa98c429c475",
   "metadata": {},
   "outputs": [],
   "source": [
    "import os\n",
    "from meteodatalab import mars\n",
    "\n",
    "\n",
    "os.environ[\"POLYTOPE_USERNAME\"] = \"admin\"\n",
    "os.environ[\"POLYTOPE_PASSWORD\"] = \"xxxxxxxxxxxxxxxxx\"\n",
    "os.environ[\"POLYTOPE_ADDRESS\"] = \"https://polytope-dev.mchml.cscs.ch\"\n"
   ]
  },
  {
   "cell_type": "markdown",
   "metadata": {},
   "source": [
    "2. **Selecting geo-location point of interest**"
   ]
  },
  {
   "cell_type": "code",
   "execution_count": null,
   "id": "9799bc63-a44f-49a3-8659-de2f3b0ead1b",
   "metadata": {},
   "outputs": [],
   "source": [
    "zrh = mars.Point(47.47, 8.55)"
   ]
  },
  {
   "cell_type": "markdown",
   "metadata": {},
   "source": [
    "3. **Querying the data** <br>\n",
    "The `feature` attribute tells polytope to extract **only the relevant data at the given point**.\n",
    "The amount of data that is retrieved from storage is signficantly reduced."
   ]
  },
  {
   "cell_type": "code",
   "execution_count": null,
   "metadata": {},
   "outputs": [],
   "source": [
    "request = mars.Request(\n",
    "    param=\"T_2M\",\n",
    "    date=\"20240222\",\n",
    "    time=\"0300\",\n",
    "    model=mars.Model.ICON_CH1_EPS,\n",
    "    levtype=mars.LevType.SURFACE,\n",
    "    number=1,\n",
    "    feature=mars.TimeseriesFeature(points=[zrh], end=1440),\n",
    ")"
   ]
  },
  {
   "cell_type": "code",
   "execution_count": null,
   "id": "23cd4785-05b0-4552-a03a-8e5451882af9",
   "metadata": {},
   "outputs": [],
   "source": [
    "from meteodatalab import mch_model_data\n",
    "\n",
    "ds = mch_model_data.get_from_polytope(request)\n"
   ]
  },
  {
   "cell_type": "markdown",
   "metadata": {},
   "source": [
    "4. **Visualizing the data**"
   ]
  },
  {
   "cell_type": "code",
   "execution_count": null,
   "id": "496f77c7-3002-4591-872f-3b0c7bdd655e",
   "metadata": {},
   "outputs": [],
   "source": [
    "ds[\"2m Temperature\"].plot()\n",
    "\n",
    "\n",
    "# Source: https://nwp-polytope-test.s3.eu-central-2.amazonaws.com/5ddc3f38-2b49-4e49-9f4f-c2287d85e15c\n"
   ]
  }
 ],
 "metadata": {
  "kernelspec": {
   "display_name": "Python 3 (ipykernel)",
   "language": "python",
   "name": "python3"
  },
  "language_info": {
   "codemirror_mode": {
    "name": "ipython",
    "version": 3
   },
   "file_extension": ".py",
   "mimetype": "text/x-python",
   "name": "python",
   "nbconvert_exporter": "python",
   "pygments_lexer": "ipython3",
   "version": "3.11.8"
  }
 },
 "nbformat": 4,
 "nbformat_minor": 5
}
