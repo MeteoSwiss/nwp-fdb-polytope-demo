{
 "cells": [
  {
   "cell_type": "markdown",
   "id": "c275f633",
   "metadata": {},
   "source": [
    "# Notebook 4: Efficient Location and Time Series Access Using Polytope Feature Extraction\n",
    "\n",
    "Notebook 4 showcases efficient geo-location and time series access using polytope feature extraction. By leveraging this feature, we significantly reduce data retrieval from storage, optimizing workflows and resource utilization."
   ]
  },
  {
   "cell_type": "markdown",
   "id": "cfcfc520",
   "metadata": {},
   "source": [
    "1. **Configuring Access to Polytope**"
   ]
  },
  {
   "cell_type": "code",
   "execution_count": null,
   "id": "d31a6eaa-f842-41f4-92e9-fa98c429c475",
   "metadata": {},
   "outputs": [],
   "source": [
    "import os\n",
    "import dataclasses as dc\n",
    "from meteodatalab import mars\n",
    "\n",
    "os.environ[\"POLYTOPE_USER_KEY\"] = \"XXXXXXX\"\n",
    "os.environ[\"POLYTOPE_ADDRESS\"] = \"https://polytope-dev.mchml.cscs.ch\"\n",
    "os.environ[\"POLYTOPE_LOG_LEVEL\"] = \"INFO\"\n"
   ]
  },
  {
   "cell_type": "markdown",
   "id": "e31b92b1",
   "metadata": {},
   "source": [
    "2. **Selecting geo-location point of interest**"
   ]
  },
  {
   "cell_type": "code",
   "execution_count": null,
   "id": "9799bc63-a44f-49a3-8659-de2f3b0ead1b",
   "metadata": {},
   "outputs": [],
   "source": [
    "zrh = mars.Point(47.47, 8.55)"
   ]
  },
  {
   "cell_type": "markdown",
   "id": "b370671c",
   "metadata": {},
   "source": [
    "3. **Querying the data** <br>\n",
    "The `feature` attribute tells polytope to extract **only the relevant data at the given point**.\n",
    "The amount of data that is retrieved from storage is signficantly reduced."
   ]
  },
  {
   "cell_type": "code",
   "execution_count": null,
   "id": "51050159",
   "metadata": {},
   "outputs": [],
   "source": [
    "request = mars.Request(\n",
    "    param=\"T_2M\",\n",
    "    date=\"20250402\",\n",
    "    time=\"1200\",\n",
    "    model=mars.Model.ICON_CH1_EPS,\n",
    "    levtype=mars.LevType.SURFACE,\n",
    "    number=2,\n",
    "    feature=mars.TimeseriesFeature(\n",
    "        points=[zrh],\n",
    "        range=mars.Range(start=0, end=30),\n",
    "        time_axis=\"step\",\n",
    "    )\n",
    ")"
   ]
  },
  {
   "cell_type": "code",
   "execution_count": null,
   "id": "edd881b9",
   "metadata": {},
   "outputs": [],
   "source": [
    "from meteodatalab import mch_model_data\n",
    "\n",
    "ds = mch_model_data.get_from_polytope(request)"
   ]
  },
  {
   "cell_type": "markdown",
   "id": "9e11dc6d",
   "metadata": {},
   "source": [
    "4. **Visualizing the data**"
   ]
  },
  {
   "cell_type": "code",
   "execution_count": null,
   "id": "0e1758d6",
   "metadata": {},
   "outputs": [],
   "source": [
    "ds[\"t_2m\"].plot()"
   ]
  },
  {
   "cell_type": "markdown",
   "id": "9a311558",
   "metadata": {},
   "source": [
    "5. **Plotting ensemble members of timeseries**"
   ]
  },
  {
   "cell_type": "code",
   "execution_count": null,
   "id": "8ac546a5",
   "metadata": {},
   "outputs": [],
   "source": [
    "# mars.Request is a dataclass\n",
    "requests = [\n",
    "    dc.replace(request, number=num, ) for num in range(1, 3)\n",
    "]\n",
    "requests"
   ]
  },
  {
   "cell_type": "code",
   "execution_count": null,
   "id": "23cd4785-05b0-4552-a03a-8e5451882af9",
   "metadata": {},
   "outputs": [],
   "source": [
    "ememb_ds = []\n",
    "for r in requests:\n",
    "    ememb_ds.append(mch_model_data.get_from_polytope(r))\n",
    "\n",
    "# from concurrent.futures import ThreadPoolExecutor\n",
    "# with ThreadPoolExecutor(max_workers=5) as exec:\n",
    "# #   ememb_ds = list(exec.map(mch_model_data.get_from_polytope, requests))\n"
   ]
  },
  {
   "cell_type": "code",
   "execution_count": null,
   "id": "f014b033",
   "metadata": {},
   "outputs": [],
   "source": [
    "\n",
    "import xarray as xr\n",
    "import numpy as np\n",
    "import matplotlib.pyplot as plt\n",
    "\n",
    "labels = []\n",
    "\n",
    "plt.figure()\n",
    "\n",
    "for mem_ds in ememb_ds:\n",
    "    ds_xr = mem_ds[\"t_2m\"]\n",
    "    label = f\"Member {ds_xr['number'].values[0]}\"\n",
    "    data = ds_xr.values.flatten()\n",
    "    time = ds_xr.t.values\n",
    "    plt.plot(time, data, label=label)\n",
    "\n",
    "plt.xlabel(\"t\")\n",
    "plt.ylabel(\"t_2m\")\n",
    "plt.legend()\n"
   ]
  }
 ],
 "metadata": {
  "kernelspec": {
   "display_name": "polytope-demo",
   "language": "python",
   "name": "python3"
  },
  "language_info": {
   "codemirror_mode": {
    "name": "ipython",
    "version": 3
   },
   "file_extension": ".py",
   "mimetype": "text/x-python",
   "name": "python",
   "nbconvert_exporter": "python",
   "pygments_lexer": "ipython3",
   "version": "3.11.11"
  }
 },
 "nbformat": 4,
 "nbformat_minor": 5
}
