{
 "cells": [
  {
   "cell_type": "markdown",
   "id": "cf8eecc3",
   "metadata": {},
   "source": [
    "# Polygon Feature: Country Cut-Out of Switzerland\n",
    "\n",
    "The following notebook demonstrates the full workflow to access, process and visualize ICON-CH1-EPS model data within the border of Switzerland using 2-meter temperature data. \n",
    "\n",
    "The data is retrieved using [Polytope](https://polytope.readthedocs.io/en/latest/), a feature extraction software developed by ECMWF. It applies concepts of computational geometry to extract n-dimensional polygons (also known as polytopes) from datacubes, such as a country cut-out. To access MeteoSwiss' operational ICON-CH1-EPS and ICON-CH2-EPS model data, [meteodata-lab](https://polytope.readthedocs.io/en/latest/) provides a wrapper around the polytope client that simplifies the request API. Follow the instructions to learn more about model data access via Polytope."
   ]
  },
  {
   "cell_type": "markdown",
   "id": "013e920a",
   "metadata": {},
   "source": [
    "### Installation\n",
    "Install all necessary requirements to run the notebook by visiting the instruction section in [README.md](https://github.com/MeteoSwiss/nwp-fdb-polytope-demo/blob/main/README.md#Installation-1)."
   ]
  },
  {
   "cell_type": "markdown",
   "id": "fa6f739e",
   "metadata": {},
   "source": [
    "### Configuring Access to Polytope\n",
    "To use ICON CSCS polytope, you need a polytope account. If you do not already have an account, you can create one [here](?)."
   ]
  },
  {
   "cell_type": "code",
   "execution_count": null,
   "id": "0136d505",
   "metadata": {},
   "outputs": [],
   "source": [
    "import os\n",
    "\n",
    "#ICON-CSCS polytope credentials\n",
    "os.environ[\"POLYTOPE_USERNAME\"] = \"xxxx\"\n",
    "os.environ[\"POLYTOPE_PASSWORD\"] = \"xxxx\"\n",
    "os.environ[\"POLYTOPE_ADDRESS\"] = \"https://polytope-dev.mchml.cscs.ch\""
   ]
  },
  {
   "cell_type": "markdown",
   "id": "1e97e156",
   "metadata": {},
   "source": [
    "### Selecting date and time of the forecast\n",
    "\n",
    "The realtime FDB typically **includes only the most recent day of forecasts**. Therefore, it is necessary to specify the current date and select a corresponding forecast time in the past."
   ]
  },
  {
   "cell_type": "code",
   "execution_count": null,
   "id": "4c13aa2c",
   "metadata": {},
   "outputs": [],
   "source": [
    "from datetime import datetime, timedelta\n",
    "\n",
    "# Current time\n",
    "now = datetime.now()\n",
    "\n",
    "# Subtract 12 hours\n",
    "past_time = now - timedelta(hours=12)\n",
    "\n",
    "# Round down to the nearest multiple of 6\n",
    "rounded_hour = (past_time.hour // 6) * 6\n",
    "rounded_time = past_time.replace(hour=rounded_hour, minute=0, second=0, microsecond=0)\n",
    "\n",
    "# Format as YYYYMMDD and HHMM\n",
    "date = rounded_time.strftime('%Y%m%d')\n",
    "time = rounded_time.strftime('%H%M')\n",
    "date,time"
   ]
  },
  {
   "cell_type": "markdown",
   "id": "5ebe493c",
   "metadata": {},
   "source": [
    "### Extract the country polygon of Switzerland\n",
    "In our example we are looking for the shape of Switzerland with a  resolution of 50'000'000 meters. With [earthkit.geo](https://earthkit-geo.readthedocs.io/en/latest/) it is possible to extract one or more country shapes using the function [country_polygons()](https://earthkit-geo.readthedocs.io/en/latest/_api/geo/cartography/index.html#geo.cartography.country_polygons)."
   ]
  },
  {
   "cell_type": "code",
   "execution_count": null,
   "id": "47753d87",
   "metadata": {},
   "outputs": [],
   "source": [
    "import earthkit.geo.cartography\n",
    "\n",
    "shapes = earthkit.geo.cartography.country_polygons(\"Switzerland\", resolution=50e6)"
   ]
  },
  {
   "cell_type": "markdown",
   "id": "52d8aae0",
   "metadata": {},
   "source": [
    "### Rotate the polygon points\n",
    "\n",
    "To use the polytope feature, it is necessary to rotated the given data using a South Pole rotation with a reference of lonigtude 10° and latitude of -43°. \n",
    "> **IMPORTANT**: The variable `shapes` contains tuples of first latitude and then longitude. However, the function `transform_point()` expects first longitude and then latitude."
   ]
  },
  {
   "cell_type": "code",
   "execution_count": null,
   "id": "5ab28dc9",
   "metadata": {},
   "outputs": [],
   "source": [
    "import cartopy.crs as ccrs\n",
    "\n",
    "# South pole rotation of lon=10, latitude=-43\n",
    "rotated_crs = ccrs.RotatedPole(\n",
    "    pole_longitude=190, pole_latitude=43\n",
    ")\n",
    "\n",
    "# Convert a point from geographic to rotated coordinates\n",
    "geo_crs = ccrs.PlateCarree()\n",
    "rotated_points = [\n",
    "    rotated_crs.transform_point(lon, lat, geo_crs)\n",
    "    for lat, lon in shapes[0]\n",
    "]"
   ]
  },
  {
   "cell_type": "markdown",
   "id": "a5502e1d",
   "metadata": {},
   "source": [
    "### Define the request\n",
    "\n",
    "Once the data is rotated, we need to define a mars request using [meteodata-lab](https://polytope.readthedocs.io/en/latest/). The `feature` attribute allows you to extract **only the relevant data at the given points**. Thus, the amount of data that is retrieved from storage is signficantly reduced. For the \"polygon\" `feature` the following dictionary is needed.\n",
    "> **IMPORTANT**: Don't forget to specify that the data points are tuples that first contain longitude and then latitude."
   ]
  },
  {
   "cell_type": "code",
   "execution_count": null,
   "id": "c85e8bad",
   "metadata": {},
   "outputs": [],
   "source": [
    "feature={\n",
    "    \"type\" : \"polygon\",\n",
    "    \"shape\" : rotated_points,\n",
    "    \"axes\" : [\"longitude\", \"latitude\"] #first longitude, then latitude\n",
    "}"
   ]
  },
  {
   "cell_type": "markdown",
   "id": "42af241b",
   "metadata": {},
   "source": [
    "Finally, we can define the request."
   ]
  },
  {
   "cell_type": "code",
   "execution_count": null,
   "id": "ecc7b3c5",
   "metadata": {},
   "outputs": [],
   "source": [
    "from meteodatalab import mars\n",
    "\n",
    "request = mars.Request(\n",
    "    param=\"T_2M\",\n",
    "    date=date,\n",
    "    time=time,\n",
    "    model=mars.Model.ICON_CH1_EPS,\n",
    "    levtype=mars.LevType.SURFACE,\n",
    "    number=1,\n",
    "    step=0,\n",
    "    feature=feature\n",
    ")"
   ]
  },
  {
   "cell_type": "markdown",
   "id": "33a27e3f",
   "metadata": {},
   "source": [
    "### Data retrieval\n",
    "Now we use [earthkit.data](https://earthkit-data.readthedocs.io/en/latest/) to load the data and convert it into an [xarray.Dataset](https://docs.xarray.dev/en/stable/generated/xarray.Dataset.html)."
   ]
  },
  {
   "cell_type": "code",
   "execution_count": null,
   "id": "b1da776f",
   "metadata": {},
   "outputs": [],
   "source": [
    "import earthkit.data as ekd\n",
    "ds = ekd.from_source(\n",
    "    \"polytope\",\n",
    "    \"mchgj\",\n",
    "    request.to_polytope(),\n",
    "    stream=False\n",
    ").to_xarray()"
   ]
  },
  {
   "cell_type": "markdown",
   "id": "198a08e7",
   "metadata": {},
   "source": [
    "### Reverse rotation\n",
    "The data in the dataset contains rotated longitudes and latitudes. To plot it, we need to reverse the rotation."
   ]
  },
  {
   "cell_type": "code",
   "execution_count": null,
   "id": "041e41bf",
   "metadata": {},
   "outputs": [],
   "source": [
    "unrotated_points = [\n",
    "    geo_crs.transform_point(lon, lat, rotated_crs)\n",
    "    for lon, lat in zip(ds.longitude,ds.latitude)\n",
    "]\n",
    "\n",
    "geo_lons, geo_lats = zip(*unrotated_points)\n",
    "\n",
    "ds_geo = ds.assign_coords(\n",
    "    longitude=(\"points\", list(geo_lons)),\n",
    "    latitude=(\"points\", list(geo_lats))\n",
    ")"
   ]
  },
  {
   "cell_type": "markdown",
   "id": "8455a10d",
   "metadata": {},
   "source": [
    "### Plotting\n",
    "\n",
    "We use the library [earthkit.plots](https://earthkit-plots.readthedocs.io/en/latest/) to plot the data. Moreover, we can specify a styling with [earthkit.plots.styles](https://earthkit-plots.readthedocs.io/en/latest/examples/guide/04-styles.html#4.-Styles) to shows a color spectrum from red to blue and convert the unit to Celsius for better readability."
   ]
  },
  {
   "cell_type": "code",
   "execution_count": null,
   "id": "ccfef983",
   "metadata": {},
   "outputs": [],
   "source": [
    "from earthkit.plots import Map\n",
    "from earthkit.plots.styles import Style\n",
    "from earthkit.plots.geo import bounds, domains\n",
    "\n",
    "xmin, xmax = 5, 11   # Longitude bounds\n",
    "ymin, ymax = 45.5, 48   # Latitude bounds\n",
    "\n",
    "bbox = bounds.BoundingBox(xmin, xmax, ymin, ymax, ccrs.Geodetic())\n",
    "domain = domains.Domain.from_bbox(\n",
    "    bbox=bbox,\n",
    "    name=\"CH2\"\n",
    ")\n",
    "\n",
    "style = Style(colors=\"RdBu_r\", units=\"celsius\")\n",
    "chart = Map(domain=domain)\n",
    "chart.point_cloud(ds_geo[\"t_2m\"], x=\"longitude\", y=\"latitude\", style=style)\n",
    "\n",
    "chart.coastlines()\n",
    "chart.borders()\n",
    "chart.gridlines()\n",
    "\n",
    "\n",
    "chart.title(\"Polygon Country Cut-Out: 2-Meter Temperature at {datetimes}\")\n",
    "\n",
    "chart.legend()\n",
    "\n",
    "chart.show()"
   ]
  }
 ],
 "metadata": {
  "kernelspec": {
   "display_name": "polytope demo",
   "language": "python",
   "name": "3.11"
  },
  "language_info": {
   "codemirror_mode": {
    "name": "ipython",
    "version": 3
   },
   "file_extension": ".py",
   "mimetype": "text/x-python",
   "name": "python",
   "nbconvert_exporter": "python",
   "pygments_lexer": "ipython3",
   "version": "3.11.8"
  }
 },
 "nbformat": 4,
 "nbformat_minor": 5
}
