{
 "cells": [
  {
   "cell_type": "markdown",
   "id": "683f60d8",
   "metadata": {},
   "source": [
    "[![Open Rendered Output](https://img.shields.io/badge/Rendered%20Output-Open-blue?logo=link&logoColor=white)](https://htmlpreview.github.io/?https://raw.githubusercontent.com/MeteoSwiss/nwp-fdb-polytope-demo/main/notebooks/snapshots/feature_time_series.html)\n"
   ]
  },
  {
   "cell_type": "markdown",
   "id": "c275f633",
   "metadata": {},
   "source": [
    "# Time Series Feature: Time Series at Zurich Airport\n",
    "\n",
    "This notebook demonstrates efficient geolocation and time-series access using Polytope feature extraction. By retrieving only the requested grid points, the I/O is greatly reduced and workflows can be considerably sped up."
   ]
  },
  {
   "cell_type": "markdown",
   "id": "d9deadd5",
   "metadata": {},
   "source": [
    "<div style=\"text-align:center;\">\n",
    "  <img src=\"./images/t_2m_time_series.png\" style=\"width:50%;\"/>\n",
    "</div>"
   ]
  },
  {
   "cell_type": "markdown",
   "id": "14590001",
   "metadata": {},
   "source": [
    "## Installation\n",
    "Follow the instructions in [README.md](https://github.com/MeteoSwiss/nwp-fdb-polytope-demo/blob/main/README.md#Installation-1) to install the necessary dependencies."
   ]
  },
  {
   "cell_type": "markdown",
   "id": "cfcfc520",
   "metadata": {},
   "source": [
    "## Configuring Access to Polytope\n",
    "To access ICON data via MeteoSwiss's Polytope, you need a Polytope offline token provided by MeteoSwiss. If you do not already have a token, you can request one [here](https://meteoswiss.atlassian.net/wiki/spaces/IW2/pages/327780397/Polytope#Offline-token-authentication). Then, create a new `config.yml` file based on [`config_example.yml`](config_example.yml), and replace <meteoswiss_key> with your access token there."
   ]
  },
  {
   "cell_type": "code",
   "execution_count": null,
   "id": "d31a6eaa-f842-41f4-92e9-fa98c429c475",
   "metadata": {},
   "outputs": [],
   "source": [
    "import os\n",
    "import yaml\n",
    "\n",
    "def load_config(path=\"config.yml\"):\n",
    "    if not os.path.exists(path):\n",
    "        raise FileNotFoundError(\"Missing config.yml. Please create one based on config_example.yml.\")\n",
    "    with open(path, \"r\") as f:\n",
    "        return yaml.safe_load(f)\n",
    "\n",
    "config = load_config()\n",
    "\n",
    "# ICON-CSCS Polytope credentials\n",
    "os.environ[\"POLYTOPE_USER_KEY\"] = config[\"meteoswiss\"][\"key\"]\n",
    "os.environ[\"POLYTOPE_ADDRESS\"] = \"https://polytope-depl.mchml.cscs.ch\"\n",
    "\n",
    "# To clear the environment variable\n",
    "os.environ[\"POLYTOPE_USER_EMAIL\"] = \"\""
   ]
  },
  {
   "cell_type": "markdown",
   "id": "b9dc71fd",
   "metadata": {},
   "source": [
    "## Select the geolocation\n",
    "We’ll request a time series at **Zurich Airport** (WGS84 coordinates)."
   ]
  },
  {
   "cell_type": "code",
   "execution_count": null,
   "id": "0a7b07d0",
   "metadata": {},
   "outputs": [],
   "source": [
    "zrh_geo_point = (8.565074, 47.453928)  # (longitude, latitude) in WGS84"
   ]
  },
  {
   "cell_type": "markdown",
   "id": "f8e2f934",
   "metadata": {},
   "source": [
    "## Rotate the point\n",
    "\n",
    "Given that the data source accessed by Polytope is stored on a rotated grid, it is necessary to provide Polytope with the point in rotated coordinates, using a South Pole rotation with a reference of longitude 10° and latitude of -43°.\n",
    "\n",
    "> **NOTE:** `transform_point()` expects `(longitude, latitude)`."
   ]
  },
  {
   "cell_type": "code",
   "execution_count": null,
   "id": "b2fcc9a0",
   "metadata": {},
   "outputs": [],
   "source": [
    "import cartopy.crs as ccrs\n",
    "\n",
    "geo_crs = ccrs.PlateCarree()\n",
    "rotated_crs = ccrs.RotatedPole(pole_longitude=190, pole_latitude=43)\n",
    "\n",
    "# Convert the point from geographic to rotated coordinates\n",
    "geo_lon, geo_lat = zrh_geo_point\n",
    "rot_lon, rot_lat = rotated_crs.transform_point(geo_lon, geo_lat, geo_crs)\n",
    "rotated_point = (rot_lon, rot_lat)"
   ]
  },
  {
   "cell_type": "markdown",
   "id": "e31b92b1",
   "metadata": {},
   "source": [
    "## Select the run date and time\n",
    "The FDB containing real-time data typically **holds only the most recent day of forecasts**. The next cell computes a valid run time automatically."
   ]
  },
  {
   "cell_type": "code",
   "execution_count": null,
   "id": "ce42ef6c",
   "metadata": {},
   "outputs": [],
   "source": [
    "from datetime import datetime, timedelta\n",
    "\n",
    "now = datetime.now()\n",
    "past_time = now - timedelta(hours=12)                # use a recent past cycle\n",
    "rounded_hour = (past_time.hour // 6) * 6             # round down to 6-hour cycles\n",
    "rounded_time = past_time.replace(hour=rounded_hour, minute=0, second=0, microsecond=0)\n",
    "\n",
    "date = rounded_time.strftime('%Y%m%d')\n",
    "time = rounded_time.strftime('%H%M')\n",
    "date, time"
   ]
  },
  {
   "cell_type": "markdown",
   "id": "a16ec2e1",
   "metadata": {},
   "source": [
    "## Define the feature\n",
    "Request a **time series at one point** (`rotated_point`) over **steps 0–120**. ICON-CH2-EPS is hourly in this range (use 0–33 for ICON-CH1-EPS).\n",
    "\n",
    "> **NOTE:** If points are `(longitude, latitude)`, set `axes=[\"longitude\", \"latitude\"]`."
   ]
  },
  {
   "cell_type": "code",
   "execution_count": null,
   "id": "05f726ec",
   "metadata": {},
   "outputs": [],
   "source": [
    "feature = {\n",
    "    \"type\": \"timeseries\",\n",
    "    \"points\": [rotated_point],      # single point in the rotated grid (lon, lat)\n",
    "    \"time_axis\": \"step\",\n",
    "    \"range\": {\"start\": 0, \"end\": 120},   # hourly steps 0..120\n",
    "    \"axes\": [\"longitude\", \"latitude\"]    # order must match the point tuple\n",
    "}"
   ]
  },
  {
   "cell_type": "markdown",
   "id": "f6a5949c",
   "metadata": {},
   "source": [
    "## Define the request\n",
    "Use [meteodata-lab](https://meteoswiss.github.io/meteodata-lab/)'s `mars.Request` for a clean, validated API. This example fetches **2-m temperature** from **ICON-CH2-EPS** at the **surface**, for **ensemble member 1** (`number=1`), at the selected run date/time.\n",
    "- `type=\"pf\"` — perturbed member (requires `number`).\n",
    "- `type=\"cf\"` — control forecast (no `number`)."
   ]
  },
  {
   "cell_type": "code",
   "execution_count": null,
   "id": "51050159",
   "metadata": {},
   "outputs": [],
   "source": [
    "from meteodatalab import mars\n",
    "\n",
    "request = mars.Request(\n",
    "    param=\"T_2M\",\n",
    "    date=date,\n",
    "    time=time,\n",
    "    model=mars.Model.ICON_CH2_EPS,\n",
    "    levtype=mars.LevType.SURFACE,\n",
    "    type=\"pf\",\n",
    "    number=1,\n",
    "    feature=feature\n",
    ")"
   ]
  },
  {
   "cell_type": "markdown",
   "id": "3382dc30",
   "metadata": {},
   "source": [
    "## Data retrieval\n",
    "Load the data with [earthkit.data](https://earthkit-data.readthedocs.io/en/latest/) and convert it to an [xarray.Dataset](https://docs.xarray.dev/en/stable/generated/xarray.Dataset.html)."
   ]
  },
  {
   "cell_type": "code",
   "execution_count": null,
   "id": "2280b32a",
   "metadata": {},
   "outputs": [],
   "source": [
    "import earthkit.data as ekd\n",
    "ds = ekd.from_source(\n",
    "    \"polytope\",\n",
    "    \"mchgj\",\n",
    "    request.to_polytope(),\n",
    "    stream=False\n",
    ").to_xarray()"
   ]
  },
  {
   "cell_type": "markdown",
   "id": "f64a4028",
   "metadata": {},
   "source": [
    "## Plot the results\n"
   ]
  },
  {
   "cell_type": "code",
   "execution_count": null,
   "id": "0001b5a3",
   "metadata": {},
   "outputs": [],
   "source": [
    "from earthkit.plots.interactive import Chart\n",
    "\n",
    "\n",
    "da = ds[\"t_2m\"] - 273.15\n",
    "da.name = \"t_2m (°C)\"\n",
    "\n",
    "chart = Chart()\n",
    "chart.line(da)"
   ]
  },
  {
   "cell_type": "markdown",
   "id": "37958b50",
   "metadata": {},
   "source": [
    "If you're viewing this on GitHub, plots are static and we export them as PNGs using `chart.show(\"png\")`.\n",
    "\n",
    "If you're running the notebook locally, use `chart.show()` to enable interactivity. You can hover over the chart to see precise timestamps and temperature values (°C)."
   ]
  },
  {
   "cell_type": "code",
   "execution_count": null,
   "id": "bf2bb9a2",
   "metadata": {},
   "outputs": [],
   "source": [
    "chart.show(\"png\")"
   ]
  },
  {
   "cell_type": "markdown",
   "id": "6ecbe31d",
   "metadata": {},
   "source": [
    "## Retrieve ensemble data\n",
    "\n",
    "We can also query the entire ensemble at the same geolocation.\n",
    "\n",
    "For ICON-CH2-EPS:"
   ]
  },
  {
   "cell_type": "code",
   "execution_count": null,
   "id": "251da6f4",
   "metadata": {},
   "outputs": [],
   "source": [
    "import dataclasses as dc\n",
    "\n",
    "req = dc.replace(\n",
    "    request,\n",
    "    number=[str(num) for num in range(1, 21)],\n",
    "    model=mars.Model.ICON_CH2_EPS,\n",
    "    feature={\n",
    "        \"type\": \"timeseries\",\n",
    "        \"points\": [rotated_point],\n",
    "        \"time_axis\": \"step\",\n",
    "        \"range\": {\"start\": 0, \"end\": 120},\n",
    "        \"axes\": [\"longitude\", \"latitude\"],\n",
    "    },\n",
    ")\n",
    "\n",
    "ds_ch2 = ekd.from_source(\"polytope\", \"mchgj\", req.to_polytope(), stream=False).to_xarray()"
   ]
  },
  {
   "cell_type": "markdown",
   "id": "353d31af",
   "metadata": {},
   "source": [
    "For ICON-CH1-EPS:"
   ]
  },
  {
   "cell_type": "code",
   "execution_count": null,
   "id": "57208fb7",
   "metadata": {},
   "outputs": [],
   "source": [
    "import dataclasses as dc\n",
    "\n",
    "req = dc.replace(\n",
    "    request,\n",
    "    number=[str(num) for num in range(1, 11)],\n",
    "    model=mars.Model.ICON_CH1_EPS,\n",
    "    feature={\n",
    "        \"type\": \"timeseries\",\n",
    "        \"points\": [rotated_point],\n",
    "        \"time_axis\": \"step\",\n",
    "        \"range\": {\"start\": 0, \"end\": 33},\n",
    "        \"axes\": [\"longitude\", \"latitude\"],\n",
    "    },\n",
    ")\n",
    "\n",
    "ds_ch1 = ekd.from_source(\"polytope\", \"mchgj\", req.to_polytope(), stream=False).to_xarray()"
   ]
  },
  {
   "cell_type": "markdown",
   "id": "1dc90019",
   "metadata": {},
   "source": [
    "We can also request the same data from **IFS** using **ECMWF Polytope**. To access the data follow the instructions on [https://polytope.readthedocs.io/en/latest/Service/Installation/](https://polytope.readthedocs.io/en/latest/Service/Installation/) in section Authentication. Once you’ve obtained your credentials, add them to your existing `config.yaml` file, which already contains the MeteoSwiss credentials."
   ]
  },
  {
   "cell_type": "code",
   "execution_count": null,
   "id": "040a0ee3",
   "metadata": {},
   "outputs": [],
   "source": [
    "import os\n",
    "\n",
    "# Use your ECMWF Polytope credentials\n",
    "os.environ[\"POLYTOPE_USER_KEY\"] = config[\"ecmwf\"][\"key\"]\n",
    "os.environ[\"POLYTOPE_USER_EMAIL\"] = config[\"ecmwf\"][\"user_email\"]\n",
    "os.environ[\"POLYTOPE_ADDRESS\"] = \"polytope.ecmwf.int\""
   ]
  },
  {
   "cell_type": "markdown",
   "id": "909c2846",
   "metadata": {},
   "source": [
    "> **Note:** For ECMWF Polytope, coordinates are **geographic** (WGS84). In the next request we pass `geo_lon` and `geo_lat`."
   ]
  },
  {
   "cell_type": "code",
   "execution_count": null,
   "id": "766b6958",
   "metadata": {},
   "outputs": [],
   "source": [
    "request = {\n",
    "    \"class\": \"od\",\n",
    "    \"stream\": \"enfo\",\n",
    "    \"type\": \"pf\",\n",
    "    \"date\": date,\n",
    "    \"time\": time,\n",
    "    \"levtype\": \"sfc\",\n",
    "    \"expver\": \"0001\",\n",
    "    \"domain\": \"g\",\n",
    "    \"param\": \"167\",\n",
    "    \"number\": \"1/to/50\",\n",
    "    \"step\": \"0/to/160\",\n",
    "    \"feature\": {\n",
    "        \"type\": \"timeseries\",\n",
    "        \"points\": [[float(round(geo_lon, 2)), float(round(geo_lat, 2))]],\n",
    "        \"time_axis\": \"step\",\n",
    "        \"axes\": [\"longitude\", \"latitude\"]\n",
    "    }\n",
    "}\n",
    "\n",
    "ds_ifs = ekd.from_source(\n",
    "    \"polytope\",\n",
    "    \"ecmwf-mars\",\n",
    "    request,\n",
    "    stream=False\n",
    ")"
   ]
  },
  {
   "cell_type": "markdown",
   "id": "3d40e194",
   "metadata": {},
   "source": [
    "## Plotting ensemble members of time series"
   ]
  },
  {
   "cell_type": "code",
   "execution_count": null,
   "id": "49a62740",
   "metadata": {},
   "outputs": [],
   "source": [
    "from earthkit.plots.interactive import Chart\n",
    "\n",
    "TIME_FREQUENCY = \"1h\"\n",
    "QUANTILES = [0, 0.1, 0.25, 0.5, 0.75, 0.9, 1]\n",
    "\n",
    "chart = Chart()\n",
    "\n",
    "# CH1\n",
    "chart.box(ds_ch1, quantiles=QUANTILES, line_color=\"#ea5545\")\n",
    "chart.line(ds_ch1, aggregation=\"mean\", line_color=\"grey\",\n",
    "           time_frequency=TIME_FREQUENCY,\n",
    "           name=\"ICON-CH1-EPS (mean)\")\n",
    "\n",
    "# CH2\n",
    "chart.box(ds_ch2, quantiles=QUANTILES, line_color=\"#ef9b20\")\n",
    "chart.line(ds_ch2, aggregation=\"mean\", line_color=\"grey\",\n",
    "           time_frequency=TIME_FREQUENCY,\n",
    "           name=\"ICON-CH2-EPS (mean)\")\n",
    "\n",
    "# IFS\n",
    "chart.box(ds_ifs, quantiles=QUANTILES, line_color=\"#27aeef\")\n",
    "chart.line(ds_ifs, aggregation=\"mean\", line_color=\"grey\",\n",
    "           time_frequency=TIME_FREQUENCY,\n",
    "           name=\"IFS (mean)\")"
   ]
  },
  {
   "cell_type": "markdown",
   "id": "24fd7ecd",
   "metadata": {},
   "source": [
    "If you're viewing this on GitHub, plots are static and we export them as PNGs using `chart.show(\"png\")`.\n",
    "\n",
    "If you're running the notebook locally, use `chart.show()` to enable interactivity."
   ]
  },
  {
   "cell_type": "code",
   "execution_count": null,
   "id": "ac7bddcc",
   "metadata": {},
   "outputs": [],
   "source": [
    "chart.show(\"png\")"
   ]
  }
 ],
 "metadata": {
  "kernelspec": {
   "display_name": "polytope demo-testdep-20251009",
   "language": "python",
   "name": "polytope-env"
  },
  "language_info": {
   "codemirror_mode": {
    "name": "ipython",
    "version": 3
   },
   "file_extension": ".py",
   "mimetype": "text/x-python",
   "name": "python",
   "nbconvert_exporter": "python",
   "pygments_lexer": "ipython3",
   "version": "3.11.9"
  }
 },
 "nbformat": 4,
 "nbformat_minor": 5
}
