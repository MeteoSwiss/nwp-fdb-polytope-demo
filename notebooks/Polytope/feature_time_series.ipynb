{
  "cells": [
    {
      "cell_type": "markdown",
      "id": "c275f633",
      "metadata": {},
      "source": [
        "# Time Series Feature: Time Series at Zurich Airport\n",
        "\n",
        "This notebook demonstrates efficient geolocation and time-series access using Polytope feature extraction. By requesting only what you need, you reduce I/O and speed up workflows."
      ]
    },
    {
      "cell_type": "markdown",
      "id": "14590001",
      "metadata": {},
      "source": [
        "## Installation\n",
        "Install all necessary requirements to run the notebook by following the instructions in [README.md](https://github.com/MeteoSwiss/nwp-fdb-polytope-demo/blob/main/README.md#Installation-1)."
      ]
    },
    {
      "cell_type": "markdown",
      "id": "cfcfc520",
      "metadata": {},
      "source": [
        "## Configuring access to Polytope\n",
        "To use ICON-CSCS Polytope, authenticate with your credentials or offline token. If you do not already have a token, MeteoSwiss users can create one [here](https://meteoswiss.atlassian.net/wiki/spaces/IW2/pages/327780397/Polytope#Offline-token-authentication)."
      ]
    },
    {
      "cell_type": "code",
      "execution_count": 1,
      "id": "d31a6eaa-f842-41f4-92e9-fa98c429c475",
      "metadata": {},
      "outputs": [],
      "source": [
        "import os\n",
        "\n",
        "# ECMWF Polytope (leave blank if using ICON-CSCS)\n",
        "os.environ[\"POLYTOPE_USER_KEY\"] = \"\"\n",
        "os.environ[\"POLYTOPE_USER_EMAIL\"] = \"\"\n",
        "\n",
        "# ICON-CSCS Polytope (leave blank if using ECMWF)\n",
        "os.environ[\"POLYTOPE_USERNAME\"] = \"<your-username>\"\n",
        "os.environ[\"POLYTOPE_PASSWORD\"] = \"<your-password>\"\n",
        "os.environ[\"POLYTOPE_ADDRESS\"] = \"https://polytope-dev.mchml.cscs.ch\""
      ]
    },
    {
      "cell_type": "markdown",
      "id": "b9dc71fd",
      "metadata": {},
      "source": [
        "## Select the geolocation\n",
        "We’ll request a time series at **Zurich Airport** (WGS84 coordinates)."
      ]
    },
    {
      "cell_type": "code",
      "execution_count": 2,
      "id": "0a7b07d0",
      "metadata": {},
      "outputs": [],
      "source": [
        "zrh_geo_point = (8.565074, 47.453928)  # (longitude, latitude) in WGS84"
      ]
    },
    {
      "cell_type": "markdown",
      "id": "f8e2f934",
      "metadata": {},
      "source": [
        "## Rotate the point\n",
        "Coordinates used in the Polytope `feature` must be in the **rotated** grid. Below we rotate the WGS84 point using a South Pole rotation (reference: lon 10°, lat −43°).\n",
        "\n",
        "> **IMPORTANT:** `transform_point()` expects `(longitude, latitude)`."
      ]
    },
    {
      "cell_type": "code",
      "execution_count": 3,
      "id": "b2fcc9a0",
      "metadata": {},
      "outputs": [],
      "source": [
        "import cartopy.crs as ccrs\n",
        "\n",
        "geo_crs = ccrs.PlateCarree()\n",
        "rotated_crs = ccrs.RotatedPole(pole_longitude=190, pole_latitude=43)\n",
        "\n",
        "# Convert the point from geographic to rotated coordinates\n",
        "geo_lon, geo_lat = zrh_geo_point\n",
        "rot_lon, rot_lat = rotated_crs.transform_point(geo_lon, geo_lat, geo_crs)\n",
        "rotated_point = (rot_lon, rot_lat)"
      ]
    },
    {
      "cell_type": "markdown",
      "id": "e31b92b1",
      "metadata": {},
      "source": [
        "## Select the run date and time\n",
        "The real-time FDB typically contains only the most recent day of forecasts. The next cell computes a valid run time automatically."
      ]
    },
    {
      "cell_type": "code",
      "execution_count": 4,
      "id": "ce42ef6c",
      "metadata": {},
      "outputs": [
        {
          "data": {
            "text/plain": [
              "('20250915', '0000')"
            ]
          },
          "execution_count": 4,
          "metadata": {},
          "output_type": "execute_result"
        }
      ],
      "source": [
        "from datetime import datetime, timedelta\n",
        "\n",
        "now = datetime.now()\n",
        "past_time = now - timedelta(hours=12)                # use a recent past cycle\n",
        "rounded_hour = (past_time.hour // 6) * 6             # round down to 6-hour cycles\n",
        "rounded_time = past_time.replace(hour=rounded_hour, minute=0, second=0, microsecond=0)\n",
        "\n",
        "date = rounded_time.strftime('%Y%m%d')\n",
        "time = rounded_time.strftime('%H%M')\n",
        "date, time"
      ]
    },
    {
      "cell_type": "markdown",
      "id": "a16ec2e1",
      "metadata": {},
      "source": [
        "## Define the feature\n",
        "Request a **time series at one point** (`rotated_point`) over **steps 0–120**. ICON-CH2-EPS is hourly in this range (use 0–33 for ICON-CH1-EPS).\n",
        "\n",
        "> **IMPORTANT:** If points are `(longitude, latitude)`, set `axes=[\"longitude\", \"latitude\"]`."
      ]
    },
    {
      "cell_type": "code",
      "execution_count": 5,
      "id": "05f726ec",
      "metadata": {},
      "outputs": [],
      "source": [
        "feature = {\n",
        "    \"type\": \"timeseries\",\n",
        "    \"points\": [rotated_point],      # single point in the rotated grid (lon, lat)\n",
        "    \"time_axis\": \"step\",\n",
        "    \"range\": {\"start\": 0, \"end\": 120},   # hourly steps 0..120\n",
        "    \"axes\": [\"longitude\", \"latitude\"]    # order must match the point tuple\n",
        "}"
      ]
    },
    {
      "cell_type": "markdown",
      "id": "f6a5949c",
      "metadata": {},
      "source": [
        "## Define the request\n",
        "Use [meteodata-lab](https://meteoswiss.github.io/meteodata-lab/)'s `mars.Request` for a clean, validated API. This example fetches **2-m temperature** from **ICON-CH2-EPS** at the **surface**, for **member 1**, at the selected run date/time.\n",
        "\n",
        "- `type=\"pf\"` — perturbed member (requires `number`).\n",
        "- `type=\"cf\"` — control forecast (no `number`)."
      ]
    },
    {
      "cell_type": "code",
      "execution_count": 6,
      "id": "51050159",
      "metadata": {},
      "outputs": [],
      "source": [
        "from meteodatalab import mars\n",
        "\n",
        "request = mars.Request(\n",
        "    param=\"T_2M\",\n",
        "    date=date,\n",
        "    time=time,\n",
        "    model=mars.Model.ICON_CH2_EPS,\n",
        "    levtype=mars.LevType.SURFACE,\n",
        "    type=\"pf\",\n",
        "    number=1,\n",
        "    feature=feature\n",
        ")"
      ]
    },
    {
      "cell_type": "markdown",
      "id": "3382dc30",
      "metadata": {},
      "source": [
        "## Data retrieval\n",
        "Load the data with [earthkit.data](https://earthkit-data.readthedocs.io/en/latest/) and convert it to an [xarray.Dataset](https://docs.xarray.dev/en/stable/generated/xarray.Dataset.html)."
      ]
    },
    {
      "cell_type": "code",
      "execution_count": 7,
      "id": "2280b32a",
      "metadata": {},
      "outputs": [
        {
          "name": "stderr",
          "output_type": "stream",
          "text": [
            "2025-09-15 16:38:54 - INFO - Sending request...\n",
            "{'request': 'class: od\\n'\n",
            "            \"date: '20250915'\\n\"\n",
            "            \"expver: '0001'\\n\"\n",
            "            'feature:\\n'\n",
            "            '  axes:\\n'\n",
            "            '  - longitude\\n'\n",
            "            '  - latitude\\n'\n",
            "            '  points:\\n'\n",
            "            '  - - -0.9702489359191186\\n'\n",
            "            '    - 0.4628136497221331\\n'\n",
            "            '  range:\\n'\n",
            "            '    end: 120\\n'\n",
            "            '    start: 0\\n'\n",
            "            '  time_axis: step\\n'\n",
            "            '  type: timeseries\\n'\n",
            "            'levtype: sfc\\n'\n",
            "            'model: icon-ch2-eps\\n'\n",
            "            'number: 1\\n'\n",
            "            \"param: '500011'\\n\"\n",
            "            'stream: enfo\\n'\n",
            "            \"time: '0000'\\n\"\n",
            "            'type: pf\\n',\n",
            " 'verb': 'retrieve'}\n",
            "2025-09-15 16:38:55 - INFO - Request accepted. Please poll ./cec297f4-9b18-46b7-b7fb-80ad3f6506fb for status\n",
            "2025-09-15 16:38:55 - INFO - Checking request status (cec297f4-9b18-46b7-b7fb-80ad3f6506fb)...\n",
            "2025-09-15 16:38:55 - INFO - The current status of the request is 'queued'\n",
            "2025-09-15 16:38:56 - INFO - The current status of the request is 'processing'\n",
            "2025-09-15 16:39:01 - INFO - The current status of the request is 'processed'\n",
            "                                                                                                                                                                                                                                                                                                                                              \r"
          ]
        }
      ],
      "source": [
        "import earthkit.data as ekd\n",
        "ds = ekd.from_source(\n",
        "    \"polytope\",\n",
        "    \"mchgj\",\n",
        "    request.to_polytope(),\n",
        "    stream=False\n",
        ").to_xarray()"
      ]
    },
    {
      "cell_type": "markdown",
      "id": "f64a4028",
      "metadata": {},
      "source": [
        "## Plot the results\n",
        "\n",
        "> **Tip:** Hover over the chart to see the exact timestamp and value (°C).  \n",
        "> If you’re viewing a static image (e.g., PNG export), tooltips aren’t available."
      ]
    },
    {
      "cell_type": "code",
      "execution_count": 8,
      "id": "0001b5a3",
      "metadata": {},
      "outputs": [
        {
          "data": {
            "application/vnd.plotly.v1+json": {
              "config": {
                "plotlyServerURL": "https://plot.ly"
              },
              "data": [
                {
                  "type": "scatter",
                  "x": [
                    "2025-09-15T00:00:00",
                    "2025-09-15T01:00:00",
                    "2025-09-15T02:00:00",
                    "2025-09-15T03:00:00",
                    "2025-09-15T04:00:00",
                    "2025-09-15T05:00:00",
                    "2025-09-15T06:00:00",
                    "2025-09-15T07:00:00",
                    "2025-09-15T08:00:00",
                    "2025-09-15T09:00:00",
                    "2025-09-15T10:00:00",
                    "2025-09-15T11:00:00",
                    "2025-09-15T12:00:00",
                    "2025-09-15T13:00:00",
                    "2025-09-15T14:00:00",
                    "2025-09-15T15:00:00",
                    "2025-09-15T16:00:00",
                    "2025-09-15T17:00:00",
                    "2025-09-15T18:00:00",
                    "2025-09-15T19:00:00",
                    "2025-09-15T20:00:00",
                    "2025-09-15T21:00:00",
                    "2025-09-15T22:00:00",
                    "2025-09-15T23:00:00",
                    "2025-09-16T00:00:00",
                    "2025-09-16T01:00:00",
                    "2025-09-16T02:00:00",
                    "2025-09-16T03:00:00",
                    "2025-09-16T04:00:00",
                    "2025-09-16T05:00:00",
                    "2025-09-16T06:00:00",
                    "2025-09-16T07:00:00",
                    "2025-09-16T08:00:00",
                    "2025-09-16T09:00:00",
                    "2025-09-16T10:00:00",
                    "2025-09-16T11:00:00",
                    "2025-09-16T12:00:00",
                    "2025-09-16T13:00:00",
                    "2025-09-16T14:00:00",
                    "2025-09-16T15:00:00",
                    "2025-09-16T16:00:00",
                    "2025-09-16T17:00:00",
                    "2025-09-16T18:00:00",
                    "2025-09-16T19:00:00",
                    "2025-09-16T20:00:00",
                    "2025-09-16T21:00:00",
                    "2025-09-16T22:00:00",
                    "2025-09-16T23:00:00",
                    "2025-09-17T00:00:00",
                    "2025-09-17T01:00:00",
                    "2025-09-17T02:00:00",
                    "2025-09-17T03:00:00",
                    "2025-09-17T04:00:00",
                    "2025-09-17T05:00:00",
                    "2025-09-17T06:00:00",
                    "2025-09-17T07:00:00",
                    "2025-09-17T08:00:00",
                    "2025-09-17T09:00:00",
                    "2025-09-17T10:00:00",
                    "2025-09-17T11:00:00",
                    "2025-09-17T12:00:00",
                    "2025-09-17T13:00:00",
                    "2025-09-17T14:00:00",
                    "2025-09-17T15:00:00",
                    "2025-09-17T16:00:00",
                    "2025-09-17T17:00:00",
                    "2025-09-17T18:00:00",
                    "2025-09-17T19:00:00",
                    "2025-09-17T20:00:00",
                    "2025-09-17T21:00:00",
                    "2025-09-17T22:00:00",
                    "2025-09-17T23:00:00",
                    "2025-09-18T00:00:00",
                    "2025-09-18T01:00:00",
                    "2025-09-18T02:00:00",
                    "2025-09-18T03:00:00",
                    "2025-09-18T04:00:00",
                    "2025-09-18T05:00:00",
                    "2025-09-18T06:00:00",
                    "2025-09-18T07:00:00",
                    "2025-09-18T08:00:00",
                    "2025-09-18T09:00:00",
                    "2025-09-18T10:00:00",
                    "2025-09-18T11:00:00",
                    "2025-09-18T12:00:00",
                    "2025-09-18T13:00:00",
                    "2025-09-18T14:00:00",
                    "2025-09-18T15:00:00",
                    "2025-09-18T16:00:00",
                    "2025-09-18T17:00:00",
                    "2025-09-18T18:00:00",
                    "2025-09-18T19:00:00",
                    "2025-09-18T20:00:00",
                    "2025-09-18T21:00:00",
                    "2025-09-18T22:00:00",
                    "2025-09-18T23:00:00",
                    "2025-09-19T00:00:00",
                    "2025-09-19T01:00:00",
                    "2025-09-19T02:00:00",
                    "2025-09-19T03:00:00",
                    "2025-09-19T04:00:00",
                    "2025-09-19T05:00:00",
                    "2025-09-19T06:00:00",
                    "2025-09-19T07:00:00",
                    "2025-09-19T08:00:00",
                    "2025-09-19T09:00:00",
                    "2025-09-19T10:00:00",
                    "2025-09-19T11:00:00",
                    "2025-09-19T12:00:00",
                    "2025-09-19T13:00:00",
                    "2025-09-19T14:00:00",
                    "2025-09-19T15:00:00",
                    "2025-09-19T16:00:00",
                    "2025-09-19T17:00:00",
                    "2025-09-19T18:00:00",
                    "2025-09-19T19:00:00",
                    "2025-09-19T20:00:00",
                    "2025-09-19T21:00:00",
                    "2025-09-19T22:00:00",
                    "2025-09-19T23:00:00",
                    "2025-09-20T00:00:00"
                  ],
                  "y": {
                    "bdata": "oJmZmZEAMUCgmZmZC/IwQKCZmZl/bTBAoJmZmc8CMECgmZmZ8SYwQKCZmZnvazBAoJmZmSHLMECgmZmZkToyQKCZmZm5xzNAoJmZmQsPNUCgmZmZH7A1QKCZmZm1pzdAoJmZmTttOECgmZmZOYY4QKCZmZm7gThAoJmZmYclOECgmZmZr0E2QKCZmZlpajVAoJmZmR0gM0CgmZmZKwMyQKCZmZmf7DFAoJmZma/yMUCgmZmZWUYxQKCZmZlRmTBAQDMzM0PoL0BAMzMz27guQEAzMzMnQC1AQDMzM1/qK0BAMzMzI08qQEAzMzPjyihAQDMzM1+PKEBAMzMz83AqQEAzMzMXFCxAQDMzM7cbLkCgmZmZ8ywwQKCZmZmZ6DBAoJmZmb1DMUCgmZmZN3sxQKCZmZldtDFAoJmZmXERMUCgmZmZKVEwQEAzMzPvmS5AQDMzM+suLEBAMzMzLykqQEAzMzNz8ChAQDMzMxdaKEBAMzMzS+MnQEAzMzODwydAQDMzM2eaJ0BAMzMzT/omQEAzMzNP7CVAQDMzM+8PJEBAMzMzvzsjQEAzMzPrZiJAQDMzM0eQIkBAMzMzA64lQEAzMzO/zylAQDMzM1doLUBAMzMzG0YuQEAzMzMTdy5AQDMzMytPL0CgmZmZzX8wQKCZmZl/CDFAoJmZmUVoMUCgmZmZ2UgxQKCZmZmhyzBAQDMzM9fcL0BAMzMzv5MtQEAzMzOzvClAQDMzMxvlJ0BAMzMzR9cmQEAzMzNLASZAQDMzMzc5JUBAMzMzw8UjQEAzMzN/CyJAQDMzM4feIUBAMzMzg08hQEAzMzNHYCBAgGZmZq6SH0BAMzMzr6QhQEAzMzOTGydAQDMzM0MtL0CgmZmZLWQyQKCZmZm3fDRAoJmZmZNANkCgmZmZYVg3QKCZmZkp0jdAoJmZmYmtN0CgmZmZ6R83QKCZmZn9ZzVAoJmZmZsVM0CgmZmZSRAwQEAzMzO/gy1AQDMzM0tlLEBAMzMzKzgpQEAzMzMHvCdAQDMzM+ukJ0BAMzMzL/slQEAzMzMT/CNAQDMzMxMuI0BAMzMzi04iQEAzMzO7ciFAgGZmZtbvHkBAMzMzH5AiQEAzMzNHRihAQDMzM+8AL0CgmZmZdeUyQKCZmZlZYDVAoJmZmY8XN0CgmZmZgZM4QKCZmZmrzDlAoJmZmUFJOkCgmZmZ4cY5QKCZmZlRtjdAoJmZmYNZNECgmZmZiXAyQKCZmZnxIzFAQDMzM4+nL0BAMzMzg+MtQEAzMzP7tixAQDMzM9epK0A=",
                    "dtype": "f8"
                  }
                }
              ],
              "layout": {
                "annotations": [
                  {
                    "font": {
                      "size": 16
                    },
                    "showarrow": false,
                    "text": "2-m T (°C)",
                    "x": 0.5,
                    "xanchor": "center",
                    "xref": "paper",
                    "y": 1,
                    "yanchor": "bottom",
                    "yref": "paper"
                  }
                ],
                "colorway": [
                  "#636EFA",
                  "#EF553B",
                  "#00CC96",
                  "#AB63FA",
                  "#FFA15A",
                  "#19D3F3",
                  "#FF6692",
                  "#B6E880",
                  "#FF97FF",
                  "#FECB52"
                ],
                "height": 750,
                "hovermode": "x",
                "plot_bgcolor": "white",
                "showlegend": false,
                "template": {
                  "data": {
                    "bar": [
                      {
                        "error_x": {
                          "color": "#2a3f5f"
                        },
                        "error_y": {
                          "color": "#2a3f5f"
                        },
                        "marker": {
                          "line": {
                            "color": "#E5ECF6",
                            "width": 0.5
                          },
                          "pattern": {
                            "fillmode": "overlay",
                            "size": 10,
                            "solidity": 0.2
                          }
                        },
                        "type": "bar"
                      }
                    ],
                    "barpolar": [
                      {
                        "marker": {
                          "line": {
                            "color": "#E5ECF6",
                            "width": 0.5
                          },
                          "pattern": {
                            "fillmode": "overlay",
                            "size": 10,
                            "solidity": 0.2
                          }
                        },
                        "type": "barpolar"
                      }
                    ],
                    "carpet": [
                      {
                        "aaxis": {
                          "endlinecolor": "#2a3f5f",
                          "gridcolor": "white",
                          "linecolor": "white",
                          "minorgridcolor": "white",
                          "startlinecolor": "#2a3f5f"
                        },
                        "baxis": {
                          "endlinecolor": "#2a3f5f",
                          "gridcolor": "white",
                          "linecolor": "white",
                          "minorgridcolor": "white",
                          "startlinecolor": "#2a3f5f"
                        },
                        "type": "carpet"
                      }
                    ],
                    "choropleth": [
                      {
                        "colorbar": {
                          "outlinewidth": 0,
                          "ticks": ""
                        },
                        "type": "choropleth"
                      }
                    ],
                    "contour": [
                      {
                        "colorbar": {
                          "outlinewidth": 0,
                          "ticks": ""
                        },
                        "colorscale": [
                          [
                            0,
                            "#0d0887"
                          ],
                          [
                            0.1111111111111111,
                            "#46039f"
                          ],
                          [
                            0.2222222222222222,
                            "#7201a8"
                          ],
                          [
                            0.3333333333333333,
                            "#9c179e"
                          ],
                          [
                            0.4444444444444444,
                            "#bd3786"
                          ],
                          [
                            0.5555555555555556,
                            "#d8576b"
                          ],
                          [
                            0.6666666666666666,
                            "#ed7953"
                          ],
                          [
                            0.7777777777777778,
                            "#fb9f3a"
                          ],
                          [
                            0.8888888888888888,
                            "#fdca26"
                          ],
                          [
                            1,
                            "#f0f921"
                          ]
                        ],
                        "type": "contour"
                      }
                    ],
                    "contourcarpet": [
                      {
                        "colorbar": {
                          "outlinewidth": 0,
                          "ticks": ""
                        },
                        "type": "contourcarpet"
                      }
                    ],
                    "heatmap": [
                      {
                        "colorbar": {
                          "outlinewidth": 0,
                          "ticks": ""
                        },
                        "colorscale": [
                          [
                            0,
                            "#0d0887"
                          ],
                          [
                            0.1111111111111111,
                            "#46039f"
                          ],
                          [
                            0.2222222222222222,
                            "#7201a8"
                          ],
                          [
                            0.3333333333333333,
                            "#9c179e"
                          ],
                          [
                            0.4444444444444444,
                            "#bd3786"
                          ],
                          [
                            0.5555555555555556,
                            "#d8576b"
                          ],
                          [
                            0.6666666666666666,
                            "#ed7953"
                          ],
                          [
                            0.7777777777777778,
                            "#fb9f3a"
                          ],
                          [
                            0.8888888888888888,
                            "#fdca26"
                          ],
                          [
                            1,
                            "#f0f921"
                          ]
                        ],
                        "type": "heatmap"
                      }
                    ],
                    "histogram": [
                      {
                        "marker": {
                          "pattern": {
                            "fillmode": "overlay",
                            "size": 10,
                            "solidity": 0.2
                          }
                        },
                        "type": "histogram"
                      }
                    ],
                    "histogram2d": [
                      {
                        "colorbar": {
                          "outlinewidth": 0,
                          "ticks": ""
                        },
                        "colorscale": [
                          [
                            0,
                            "#0d0887"
                          ],
                          [
                            0.1111111111111111,
                            "#46039f"
                          ],
                          [
                            0.2222222222222222,
                            "#7201a8"
                          ],
                          [
                            0.3333333333333333,
                            "#9c179e"
                          ],
                          [
                            0.4444444444444444,
                            "#bd3786"
                          ],
                          [
                            0.5555555555555556,
                            "#d8576b"
                          ],
                          [
                            0.6666666666666666,
                            "#ed7953"
                          ],
                          [
                            0.7777777777777778,
                            "#fb9f3a"
                          ],
                          [
                            0.8888888888888888,
                            "#fdca26"
                          ],
                          [
                            1,
                            "#f0f921"
                          ]
                        ],
                        "type": "histogram2d"
                      }
                    ],
                    "histogram2dcontour": [
                      {
                        "colorbar": {
                          "outlinewidth": 0,
                          "ticks": ""
                        },
                        "colorscale": [
                          [
                            0,
                            "#0d0887"
                          ],
                          [
                            0.1111111111111111,
                            "#46039f"
                          ],
                          [
                            0.2222222222222222,
                            "#7201a8"
                          ],
                          [
                            0.3333333333333333,
                            "#9c179e"
                          ],
                          [
                            0.4444444444444444,
                            "#bd3786"
                          ],
                          [
                            0.5555555555555556,
                            "#d8576b"
                          ],
                          [
                            0.6666666666666666,
                            "#ed7953"
                          ],
                          [
                            0.7777777777777778,
                            "#fb9f3a"
                          ],
                          [
                            0.8888888888888888,
                            "#fdca26"
                          ],
                          [
                            1,
                            "#f0f921"
                          ]
                        ],
                        "type": "histogram2dcontour"
                      }
                    ],
                    "mesh3d": [
                      {
                        "colorbar": {
                          "outlinewidth": 0,
                          "ticks": ""
                        },
                        "type": "mesh3d"
                      }
                    ],
                    "parcoords": [
                      {
                        "line": {
                          "colorbar": {
                            "outlinewidth": 0,
                            "ticks": ""
                          }
                        },
                        "type": "parcoords"
                      }
                    ],
                    "pie": [
                      {
                        "automargin": true,
                        "type": "pie"
                      }
                    ],
                    "scatter": [
                      {
                        "fillpattern": {
                          "fillmode": "overlay",
                          "size": 10,
                          "solidity": 0.2
                        },
                        "type": "scatter"
                      }
                    ],
                    "scatter3d": [
                      {
                        "line": {
                          "colorbar": {
                            "outlinewidth": 0,
                            "ticks": ""
                          }
                        },
                        "marker": {
                          "colorbar": {
                            "outlinewidth": 0,
                            "ticks": ""
                          }
                        },
                        "type": "scatter3d"
                      }
                    ],
                    "scattercarpet": [
                      {
                        "marker": {
                          "colorbar": {
                            "outlinewidth": 0,
                            "ticks": ""
                          }
                        },
                        "type": "scattercarpet"
                      }
                    ],
                    "scattergeo": [
                      {
                        "marker": {
                          "colorbar": {
                            "outlinewidth": 0,
                            "ticks": ""
                          }
                        },
                        "type": "scattergeo"
                      }
                    ],
                    "scattergl": [
                      {
                        "marker": {
                          "colorbar": {
                            "outlinewidth": 0,
                            "ticks": ""
                          }
                        },
                        "type": "scattergl"
                      }
                    ],
                    "scattermap": [
                      {
                        "marker": {
                          "colorbar": {
                            "outlinewidth": 0,
                            "ticks": ""
                          }
                        },
                        "type": "scattermap"
                      }
                    ],
                    "scattermapbox": [
                      {
                        "marker": {
                          "colorbar": {
                            "outlinewidth": 0,
                            "ticks": ""
                          }
                        },
                        "type": "scattermapbox"
                      }
                    ],
                    "scatterpolar": [
                      {
                        "marker": {
                          "colorbar": {
                            "outlinewidth": 0,
                            "ticks": ""
                          }
                        },
                        "type": "scatterpolar"
                      }
                    ],
                    "scatterpolargl": [
                      {
                        "marker": {
                          "colorbar": {
                            "outlinewidth": 0,
                            "ticks": ""
                          }
                        },
                        "type": "scatterpolargl"
                      }
                    ],
                    "scatterternary": [
                      {
                        "marker": {
                          "colorbar": {
                            "outlinewidth": 0,
                            "ticks": ""
                          }
                        },
                        "type": "scatterternary"
                      }
                    ],
                    "surface": [
                      {
                        "colorbar": {
                          "outlinewidth": 0,
                          "ticks": ""
                        },
                        "colorscale": [
                          [
                            0,
                            "#0d0887"
                          ],
                          [
                            0.1111111111111111,
                            "#46039f"
                          ],
                          [
                            0.2222222222222222,
                            "#7201a8"
                          ],
                          [
                            0.3333333333333333,
                            "#9c179e"
                          ],
                          [
                            0.4444444444444444,
                            "#bd3786"
                          ],
                          [
                            0.5555555555555556,
                            "#d8576b"
                          ],
                          [
                            0.6666666666666666,
                            "#ed7953"
                          ],
                          [
                            0.7777777777777778,
                            "#fb9f3a"
                          ],
                          [
                            0.8888888888888888,
                            "#fdca26"
                          ],
                          [
                            1,
                            "#f0f921"
                          ]
                        ],
                        "type": "surface"
                      }
                    ],
                    "table": [
                      {
                        "cells": {
                          "fill": {
                            "color": "#EBF0F8"
                          },
                          "line": {
                            "color": "white"
                          }
                        },
                        "header": {
                          "fill": {
                            "color": "#C8D4E3"
                          },
                          "line": {
                            "color": "white"
                          }
                        },
                        "type": "table"
                      }
                    ]
                  },
                  "layout": {
                    "annotationdefaults": {
                      "arrowcolor": "#2a3f5f",
                      "arrowhead": 0,
                      "arrowwidth": 1
                    },
                    "autotypenumbers": "strict",
                    "coloraxis": {
                      "colorbar": {
                        "outlinewidth": 0,
                        "ticks": ""
                      }
                    },
                    "colorscale": {
                      "diverging": [
                        [
                          0,
                          "#8e0152"
                        ],
                        [
                          0.1,
                          "#c51b7d"
                        ],
                        [
                          0.2,
                          "#de77ae"
                        ],
                        [
                          0.3,
                          "#f1b6da"
                        ],
                        [
                          0.4,
                          "#fde0ef"
                        ],
                        [
                          0.5,
                          "#f7f7f7"
                        ],
                        [
                          0.6,
                          "#e6f5d0"
                        ],
                        [
                          0.7,
                          "#b8e186"
                        ],
                        [
                          0.8,
                          "#7fbc41"
                        ],
                        [
                          0.9,
                          "#4d9221"
                        ],
                        [
                          1,
                          "#276419"
                        ]
                      ],
                      "sequential": [
                        [
                          0,
                          "#0d0887"
                        ],
                        [
                          0.1111111111111111,
                          "#46039f"
                        ],
                        [
                          0.2222222222222222,
                          "#7201a8"
                        ],
                        [
                          0.3333333333333333,
                          "#9c179e"
                        ],
                        [
                          0.4444444444444444,
                          "#bd3786"
                        ],
                        [
                          0.5555555555555556,
                          "#d8576b"
                        ],
                        [
                          0.6666666666666666,
                          "#ed7953"
                        ],
                        [
                          0.7777777777777778,
                          "#fb9f3a"
                        ],
                        [
                          0.8888888888888888,
                          "#fdca26"
                        ],
                        [
                          1,
                          "#f0f921"
                        ]
                      ],
                      "sequentialminus": [
                        [
                          0,
                          "#0d0887"
                        ],
                        [
                          0.1111111111111111,
                          "#46039f"
                        ],
                        [
                          0.2222222222222222,
                          "#7201a8"
                        ],
                        [
                          0.3333333333333333,
                          "#9c179e"
                        ],
                        [
                          0.4444444444444444,
                          "#bd3786"
                        ],
                        [
                          0.5555555555555556,
                          "#d8576b"
                        ],
                        [
                          0.6666666666666666,
                          "#ed7953"
                        ],
                        [
                          0.7777777777777778,
                          "#fb9f3a"
                        ],
                        [
                          0.8888888888888888,
                          "#fdca26"
                        ],
                        [
                          1,
                          "#f0f921"
                        ]
                      ]
                    },
                    "colorway": [
                      "#636efa",
                      "#EF553B",
                      "#00cc96",
                      "#ab63fa",
                      "#FFA15A",
                      "#19d3f3",
                      "#FF6692",
                      "#B6E880",
                      "#FF97FF",
                      "#FECB52"
                    ],
                    "font": {
                      "color": "#2a3f5f"
                    },
                    "geo": {
                      "bgcolor": "white",
                      "lakecolor": "white",
                      "landcolor": "#E5ECF6",
                      "showlakes": true,
                      "showland": true,
                      "subunitcolor": "white"
                    },
                    "hoverlabel": {
                      "align": "left"
                    },
                    "hovermode": "closest",
                    "mapbox": {
                      "style": "light"
                    },
                    "paper_bgcolor": "white",
                    "plot_bgcolor": "#E5ECF6",
                    "polar": {
                      "angularaxis": {
                        "gridcolor": "white",
                        "linecolor": "white",
                        "ticks": ""
                      },
                      "bgcolor": "#E5ECF6",
                      "radialaxis": {
                        "gridcolor": "white",
                        "linecolor": "white",
                        "ticks": ""
                      }
                    },
                    "scene": {
                      "xaxis": {
                        "backgroundcolor": "#E5ECF6",
                        "gridcolor": "white",
                        "gridwidth": 2,
                        "linecolor": "white",
                        "showbackground": true,
                        "ticks": "",
                        "zerolinecolor": "white"
                      },
                      "yaxis": {
                        "backgroundcolor": "#E5ECF6",
                        "gridcolor": "white",
                        "gridwidth": 2,
                        "linecolor": "white",
                        "showbackground": true,
                        "ticks": "",
                        "zerolinecolor": "white"
                      },
                      "zaxis": {
                        "backgroundcolor": "#E5ECF6",
                        "gridcolor": "white",
                        "gridwidth": 2,
                        "linecolor": "white",
                        "showbackground": true,
                        "ticks": "",
                        "zerolinecolor": "white"
                      }
                    },
                    "shapedefaults": {
                      "line": {
                        "color": "#2a3f5f"
                      }
                    },
                    "ternary": {
                      "aaxis": {
                        "gridcolor": "white",
                        "linecolor": "white",
                        "ticks": ""
                      },
                      "baxis": {
                        "gridcolor": "white",
                        "linecolor": "white",
                        "ticks": ""
                      },
                      "bgcolor": "#E5ECF6",
                      "caxis": {
                        "gridcolor": "white",
                        "linecolor": "white",
                        "ticks": ""
                      }
                    },
                    "title": {
                      "x": 0.05
                    },
                    "xaxis": {
                      "automargin": true,
                      "gridcolor": "white",
                      "linecolor": "white",
                      "ticks": "",
                      "title": {
                        "standoff": 15
                      },
                      "zerolinecolor": "white",
                      "zerolinewidth": 2
                    },
                    "yaxis": {
                      "automargin": true,
                      "gridcolor": "white",
                      "linecolor": "white",
                      "ticks": "",
                      "title": {
                        "standoff": 15
                      },
                      "zerolinecolor": "white",
                      "zerolinewidth": 2
                    }
                  }
                },
                "title": {
                  "text": "Time Series: 2-m Temperature at Zurich Airport"
                },
                "xaxis": {
                  "anchor": "y",
                  "domain": [
                    0,
                    1
                  ],
                  "gridwidth": 1,
                  "showgrid": false,
                  "showline": false,
                  "zeroline": false
                },
                "yaxis": {
                  "anchor": "x",
                  "domain": [
                    0,
                    1
                  ],
                  "gridcolor": "#EEEEEE",
                  "linecolor": "black",
                  "showgrid": true,
                  "showline": true,
                  "title": {
                    "text": ""
                  },
                  "zeroline": false
                }
              }
            }
          },
          "metadata": {},
          "output_type": "display_data"
        }
      ],
      "source": [
        "from earthkit.plots.interactive import Chart\n",
        "\n",
        "da = ds[\"t_2m\"] - 273.15\n",
        "da.name = \"2-m T (°C)\"\n",
        "\n",
        "chart = Chart()\n",
        "chart.line(da)\n",
        "chart.title(\"Time Series: 2-m Temperature at Zurich Airport\")\n",
        "chart.show()"
      ]
    },
    {
      "cell_type": "markdown",
      "id": "6ecbe31d",
      "metadata": {},
      "source": [
        "We can also query the entire ensemble at the same geolocation.\n",
        "\n",
        "For ICON-CH2-EPS:"
      ]
    },
    {
      "cell_type": "code",
      "execution_count": null,
      "id": "251da6f4",
      "metadata": {},
      "outputs": [],
      "source": [
        "import xarray as xr\n",
        "import dataclasses as dc\n",
        "\n",
        "ds_mems = []\n",
        "for num in range(1, 21):\n",
        "    req = dc.replace(\n",
        "        request,\n",
        "        number=str(num),\n",
        "        model=mars.Model.ICON_CH2_EPS,\n",
        "        feature={\n",
        "            \"type\": \"timeseries\",\n",
        "            \"points\": [rotated_point],\n",
        "            \"time_axis\": \"step\",\n",
        "            \"range\": {\"start\": 0, \"end\": 120},\n",
        "            \"axes\": [\"longitude\", \"latitude\"],\n",
        "        },\n",
        "    )\n",
        "    ds_mems.append(\n",
        "        ekd.from_source(\"polytope\", \"mchgj\", req.to_polytope(), stream=False).to_xarray()\n",
        "    )\n",
        "\n",
        "ds_ch2 = xr.concat(ds_mems, dim=\"number\")"
      ]
    },
    {
      "cell_type": "markdown",
      "id": "353d31af",
      "metadata": {},
      "source": [
        "For ICON-CH1-EPS:"
      ]
    },
    {
      "cell_type": "code",
      "execution_count": null,
      "id": "57208fb7",
      "metadata": {},
      "outputs": [],
      "source": [
        "import xarray as xr\n",
        "ds_mems = []\n",
        "for num in range(1, 11):\n",
        "    req = dc.replace(\n",
        "        request,\n",
        "        number=str(num),\n",
        "        model=mars.Model.ICON_CH1_EPS,\n",
        "        feature={\n",
        "            \"type\": \"timeseries\",\n",
        "            \"points\": [rotated_point],\n",
        "            \"time_axis\": \"step\",\n",
        "            \"range\": {\"start\": 0, \"end\": 33},\n",
        "            \"axes\": [\"longitude\", \"latitude\"],\n",
        "        },\n",
        "    )\n",
        "    ds_mems.append(\n",
        "        ekd.from_source(\"polytope\", \"mchgj\", req.to_polytope(), stream=False).to_xarray()\n",
        "    )\n",
        "\n",
        "ds_ch1 = xr.concat(ds_mems, dim=\"number\")"
      ]
    },
    {
      "cell_type": "markdown",
      "id": "1dc90019",
      "metadata": {},
      "source": [
        "We can also request the same data from **IFS** using **ECMWF Polytope**. See the ECMWF Polytope client README for account creation: https://github.com/ecmwf/polytope-client/?tab=readme-ov-file#2-account-creation"
      ]
    },
    {
      "cell_type": "code",
      "execution_count": 11,
      "id": "040a0ee3",
      "metadata": {},
      "outputs": [],
      "source": [
        "import os\n",
        "\n",
        "# Use your ECMWF Polytope credentials (do not hard-code secrets in notebooks)\n",
        "os.environ[\"POLYTOPE_USER_KEY\"] = \"<your-ecmwf-user-key>\"\n",
        "os.environ[\"POLYTOPE_USER_EMAIL\"] = \"<you@example.com>\"\n",
        "os.environ[\"POLYTOPE_ADDRESS\"] = \"polytope.ecmwf.int\""
      ]
    },
    {
      "cell_type": "markdown",
      "id": "909c2846",
      "metadata": {},
      "source": [
        "> **Note:** For ECMWF Polytope, coordinates are **geographic** (WGS84). In the next request we pass `geo_lon` and `geo_lat`."
      ]
    },
    {
      "cell_type": "code",
      "execution_count": null,
      "id": "766b6958",
      "metadata": {},
      "outputs": [],
      "source": [
        "request = {\n",
        "    \"class\": \"od\",\n",
        "    \"stream\": \"enfo\",\n",
        "    \"type\": \"pf\",\n",
        "    \"date\": date,\n",
        "    \"time\": time,\n",
        "    \"levtype\": \"sfc\",\n",
        "    \"expver\": \"0001\",\n",
        "    \"domain\": \"g\",\n",
        "    \"param\": \"167\",\n",
        "    \"number\": \"1/to/50\",\n",
        "    \"step\": \"0/to/160\",\n",
        "    \"feature\": {\n",
        "        \"type\": \"timeseries\",\n",
        "        \"points\": [[float(round(geo_lon, 2)), float(round(geo_lat, 2))]],\n",
        "        \"time_axis\": \"step\",\n",
        "        \"axes\": [\"longitude\", \"latitude\"]\n",
        "    }\n",
        "}\n",
        "\n",
        "ds_ifs = ekd.from_source(\n",
        "    \"polytope\",\n",
        "    \"ecmwf-mars\",\n",
        "    request,\n",
        "    stream=False,\n",
        "    address=\"polytope.ecmwf.int\",\n",
        ")"
      ]
    },
    {
      "cell_type": "markdown",
      "id": "3d40e194",
      "metadata": {},
      "source": [
        "**Plotting ensemble members of time series**"
      ]
    },
    {
      "cell_type": "code",
      "execution_count": 13,
      "id": "49a62740",
      "metadata": {},
      "outputs": [
        {
          "data": {
            "application/vnd.plotly.v1+json": {
              "config": {
                "plotlyServerURL": "https://plot.ly"
              },
              "data": [
                {
                  "fillcolor": "#B1B6FC",
                  "hoverinfo": "skip",
                  "line": {
                    "color": "#ea5545"
                  },
                  "lowerfence": {
                    "bdata": "AAAAAKkfckAAAADgSh9yQAAAAMAJGnJAAAAAIHIWckAAAABAghByQAAAAEA2DnJAAAAAYDYVckAAAAAgDSdyQAAAAODeKnJAAAAAIIpJckAAAABA7mVyQAAAAAB0dXJAAAAAgNiEckAAAABgrIRyQAAAAIAlfnJAAAAAYIB8ckAAAABARWRyQAAAAICmXHJAAAAAgFFFckAAAADAezZyQAAAAICHJXJAAAAAoPMackAAAABAbRByQAAAAOCpBXJAAAAAoHX7cUAAAADAWe1xQAAAAACs4XFAAAAAIKzZcUAAAABg8sxxQAAAAKD5yHFAAAAAAAnHcUAAAAAgNd1xQAAAAOAy8nFAAAAAgJ7/cUA=",
                    "dtype": "f8"
                  },
                  "median": {
                    "bdata": "AAAAAIEnckAAAACwzCZyQAAAAFCBInJAAAAAANkfckAAAACACCByQAAAAADMI3JAAAAAUJ8pckAAAAAwpDRyQAAAAJBKRnJAAAAAwPdZckAAAAAgknJyQAAAABCLiHJAAAAAIHeUckAAAABwNZdyQAAAABDAi3JAAAAAMOCFckAAAAAQbnRyQAAAAODPYXJAAAAAUIFOckAAAACA9j5yQAAAACCWM3JAAAAAwCAsckAAAABwoyVyQAAAAPDxGnJAAAAAMNERckAAAADQxgZyQAAAAFBT/3FAAAAAAB7zcUAAAABg0OtxQAAAALAp4nFAAAAAUNDecUAAAACwbOpxQAAAAOBk+nFAAAAAIKcJckA=",
                    "dtype": "f8"
                  },
                  "q1": {
                    "bdata": "ZmZmZikjckDNzMyMFyNyQM3MzEzHHHJAzczMnNkYckAzMzOjTxdyQGZmZuYAEnJAZmZmVvEXckAzMzPjOityQJqZmXkOO3JAAAAAcE1RckBmZmYmU2hyQJqZmXkbfHJAZmZm1nKHckAAAABQrZByQAAAALDjhnJAMzMz49iAckAAAABgbmxyQAAAAIDlXHJAMzMzs/dIckCamZm5PzdyQAAAAMAeJ3JAzczMrLEeckCamZmpoRJyQDMzM7OnC3JAmpmZKen7cUAzMzNzmvRxQGZmZpZz6XFAAAAAwJTecUCamZmp8tRxQAAAABCnz3FAAAAA4ILKcUCamZlZteFxQAAAABDX83FAzczMXDUAckA=",
                    "dtype": "f8"
                  },
                  "q3": {
                    "bdata": "zczMvFEsckDNzMxcCi1yQJqZmbmuJXJAmpmZWfcockAAAADQfy5yQJqZmWlBL3JAAAAAsAU0ckCamZnpOTxyQDMzMzNaTnJAzczMXGBickAzMzPzqHpyQAAAAMABjXJAZmZmFtSWckAAAACQBJ9yQM3MzNwomnJAmpmZqeaQckDNzMxMbnlyQDMzM0Nca3JAzczMrHlXckAzMzOjtUdyQM3MzNwwPnJAmpmZuVQzckAzMzOTzjFyQJqZmXnhJXJAAAAAQHgackAAAABQAg9yQGZmZtZWB3JAAAAAcGv7cUAzMzODle9xQJqZmTko5nFAAAAAkPficUDNzMysiO9xQAAAAPD+AHJAMzMzw/sQckA=",
                    "dtype": "f8"
                  },
                  "type": "box",
                  "upperfence": {
                    "bdata": "AAAAIN0sckAAAABASi9yQAAAAIBgK3JAAAAAwFwsckAAAACAGzFyQAAAAMA2NHJAAAAAQGE2ckAAAACA+TxyQAAAAADtUHJAAAAAoM9ickAAAABgunxyQAAAAEA9j3JAAAAAIHmXckAAAABA/6JyQAAAAIAQm3JAAAAAYGmTckAAAABA+YByQAAAAKDgc3JAAAAAAG1ackAAAACg3UhyQAAAAGB1PnJAAAAA4H45ckAAAACAIzRyQAAAAEBHLHJAAAAAQGEickAAAADA9RpyQAAAAGAsD3JAAAAAYGEDckAAAADAuPRxQAAAAODJ6HFAAAAA4G/kcUAAAABgG/BxQAAAAABABHJAAAAA4JoUckA=",
                    "dtype": "f8"
                  },
                  "width": 1080000,
                  "x": [
                    "2025-09-15T00:00:00",
                    "2025-09-15T01:00:00",
                    "2025-09-15T02:00:00",
                    "2025-09-15T03:00:00",
                    "2025-09-15T04:00:00",
                    "2025-09-15T05:00:00",
                    "2025-09-15T06:00:00",
                    "2025-09-15T07:00:00",
                    "2025-09-15T08:00:00",
                    "2025-09-15T09:00:00",
                    "2025-09-15T10:00:00",
                    "2025-09-15T11:00:00",
                    "2025-09-15T12:00:00",
                    "2025-09-15T13:00:00",
                    "2025-09-15T14:00:00",
                    "2025-09-15T15:00:00",
                    "2025-09-15T16:00:00",
                    "2025-09-15T17:00:00",
                    "2025-09-15T18:00:00",
                    "2025-09-15T19:00:00",
                    "2025-09-15T20:00:00",
                    "2025-09-15T21:00:00",
                    "2025-09-15T22:00:00",
                    "2025-09-15T23:00:00",
                    "2025-09-16T00:00:00",
                    "2025-09-16T01:00:00",
                    "2025-09-16T02:00:00",
                    "2025-09-16T03:00:00",
                    "2025-09-16T04:00:00",
                    "2025-09-16T05:00:00",
                    "2025-09-16T06:00:00",
                    "2025-09-16T07:00:00",
                    "2025-09-16T08:00:00",
                    "2025-09-16T09:00:00"
                  ],
                  "xaxis": "x",
                  "yaxis": "y"
                },
                {
                  "fillcolor": "#B1B6FC",
                  "hoverinfo": "skip",
                  "line": {
                    "color": "#ea5545"
                  },
                  "lowerfence": {
                    "bdata": "AAAAAKkfckAAAADgSh9yQAAAAMAJGnJAAAAAIHIWckAAAABAghByQAAAAEA2DnJAAAAAYDYVckAAAAAgDSdyQAAAAODeKnJAAAAAIIpJckAAAABA7mVyQAAAAAB0dXJAAAAAgNiEckAAAABgrIRyQAAAAIAlfnJAAAAAYIB8ckAAAABARWRyQAAAAICmXHJAAAAAgFFFckAAAADAezZyQAAAAICHJXJAAAAAoPMackAAAABAbRByQAAAAOCpBXJAAAAAoHX7cUAAAADAWe1xQAAAAACs4XFAAAAAIKzZcUAAAABg8sxxQAAAAKD5yHFAAAAAAAnHcUAAAAAgNd1xQAAAAOAy8nFAAAAAgJ7/cUA=",
                    "dtype": "f8"
                  },
                  "median": {
                    "bdata": "AAAAAIEnckAAAACwzCZyQAAAAFCBInJAAAAAANkfckAAAACACCByQAAAAADMI3JAAAAAUJ8pckAAAAAwpDRyQAAAAJBKRnJAAAAAwPdZckAAAAAgknJyQAAAABCLiHJAAAAAIHeUckAAAABwNZdyQAAAABDAi3JAAAAAMOCFckAAAAAQbnRyQAAAAODPYXJAAAAAUIFOckAAAACA9j5yQAAAACCWM3JAAAAAwCAsckAAAABwoyVyQAAAAPDxGnJAAAAAMNERckAAAADQxgZyQAAAAFBT/3FAAAAAAB7zcUAAAABg0OtxQAAAALAp4nFAAAAAUNDecUAAAACwbOpxQAAAAOBk+nFAAAAAIKcJckA=",
                    "dtype": "f8"
                  },
                  "q1": {
                    "bdata": "AAAA2DYlckAAAADoaSRyQAAAAJjtHnJAAAAA4I4bckAAAAAAZhtyQAAAAOi7HnJAAAAAkBMickAAAABYIy5yQAAAAJC3QXJAAAAAwNdYckAAAACYZmtyQAAAADCqgnJAAAAA+HiRckAAAAAwMZVyQAAAADAQiXJAAAAAkC+EckAAAAAor25yQAAAAEj8XnJAAAAAwBJKckAAAAAQZDxyQAAAAPh/LHJAAAAAKAUickAAAAAgDBtyQAAAAOD/EHJAAAAAWL4IckAAAABwif9xQAAAAKjT8XFAAAAAMBXkcUAAAAD4k9lxQAAAALDR0nFAAAAAqKjRcUAAAADgaORxQAAAAKDe9XFAAAAAwKAEckA=",
                    "dtype": "f8"
                  },
                  "q3": {
                    "bdata": "AAAAaIopckAAAAA4rypyQAAAAOgBJHJAAAAAeEwkckAAAABgaCpyQAAAAMBNK3JAAAAAQHQtckAAAABA4zhyQAAAAMicTHJAAAAAWNFfckAAAABYmXZyQAAAALjyi3JAAAAA2D6WckAAAADQbJtyQAAAAIhUk3JAAAAA8MiJckAAAAC4NndyQAAAABBkZ3JAAAAAOCFVckAAAADwsEJyQAAAAMAHOHJAAAAAeL4xckAAAAAosy1yQAAAAAB9IHJAAAAACPMUckAAAACY6AtyQAAAALiOA3JAAAAAoHX4cUAAAACwVO1xQAAAAADT43FAAAAAeFDhcUAAAACgTu5xQAAAAAj0/3FAAAAAaGgOckA=",
                    "dtype": "f8"
                  },
                  "showwhiskers": false,
                  "type": "box",
                  "upperfence": {
                    "bdata": "AAAAIN0sckAAAABASi9yQAAAAIBgK3JAAAAAwFwsckAAAACAGzFyQAAAAMA2NHJAAAAAQGE2ckAAAACA+TxyQAAAAADtUHJAAAAAoM9ickAAAABgunxyQAAAAEA9j3JAAAAAIHmXckAAAABA/6JyQAAAAIAQm3JAAAAAYGmTckAAAABA+YByQAAAAKDgc3JAAAAAAG1ackAAAACg3UhyQAAAAGB1PnJAAAAA4H45ckAAAACAIzRyQAAAAEBHLHJAAAAAQGEickAAAADA9RpyQAAAAGAsD3JAAAAAYGEDckAAAADAuPRxQAAAAODJ6HFAAAAA4G/kcUAAAABgG/BxQAAAAABABHJAAAAA4JoUckA=",
                    "dtype": "f8"
                  },
                  "width": 2160000,
                  "x": [
                    "2025-09-15T00:00:00",
                    "2025-09-15T01:00:00",
                    "2025-09-15T02:00:00",
                    "2025-09-15T03:00:00",
                    "2025-09-15T04:00:00",
                    "2025-09-15T05:00:00",
                    "2025-09-15T06:00:00",
                    "2025-09-15T07:00:00",
                    "2025-09-15T08:00:00",
                    "2025-09-15T09:00:00",
                    "2025-09-15T10:00:00",
                    "2025-09-15T11:00:00",
                    "2025-09-15T12:00:00",
                    "2025-09-15T13:00:00",
                    "2025-09-15T14:00:00",
                    "2025-09-15T15:00:00",
                    "2025-09-15T16:00:00",
                    "2025-09-15T17:00:00",
                    "2025-09-15T18:00:00",
                    "2025-09-15T19:00:00",
                    "2025-09-15T20:00:00",
                    "2025-09-15T21:00:00",
                    "2025-09-15T22:00:00",
                    "2025-09-15T23:00:00",
                    "2025-09-16T00:00:00",
                    "2025-09-16T01:00:00",
                    "2025-09-16T02:00:00",
                    "2025-09-16T03:00:00",
                    "2025-09-16T04:00:00",
                    "2025-09-16T05:00:00",
                    "2025-09-16T06:00:00",
                    "2025-09-16T07:00:00",
                    "2025-09-16T08:00:00",
                    "2025-09-16T09:00:00"
                  ],
                  "xaxis": "x",
                  "yaxis": "y"
                },
                {
                  "hovertemplate": "%{y:.2f}<extra>P<sub>0%</sub></extra>",
                  "marker": {
                    "color": "#ea5545",
                    "size": 0.00001
                  },
                  "mode": "markers",
                  "type": "scatter",
                  "x": [
                    "2025-09-15T00:00:00",
                    "2025-09-15T01:00:00",
                    "2025-09-15T02:00:00",
                    "2025-09-15T03:00:00",
                    "2025-09-15T04:00:00",
                    "2025-09-15T05:00:00",
                    "2025-09-15T06:00:00",
                    "2025-09-15T07:00:00",
                    "2025-09-15T08:00:00",
                    "2025-09-15T09:00:00",
                    "2025-09-15T10:00:00",
                    "2025-09-15T11:00:00",
                    "2025-09-15T12:00:00",
                    "2025-09-15T13:00:00",
                    "2025-09-15T14:00:00",
                    "2025-09-15T15:00:00",
                    "2025-09-15T16:00:00",
                    "2025-09-15T17:00:00",
                    "2025-09-15T18:00:00",
                    "2025-09-15T19:00:00",
                    "2025-09-15T20:00:00",
                    "2025-09-15T21:00:00",
                    "2025-09-15T22:00:00",
                    "2025-09-15T23:00:00",
                    "2025-09-16T00:00:00",
                    "2025-09-16T01:00:00",
                    "2025-09-16T02:00:00",
                    "2025-09-16T03:00:00",
                    "2025-09-16T04:00:00",
                    "2025-09-16T05:00:00",
                    "2025-09-16T06:00:00",
                    "2025-09-16T07:00:00",
                    "2025-09-16T08:00:00",
                    "2025-09-16T09:00:00"
                  ],
                  "xaxis": "x",
                  "y": {
                    "bdata": "AAAAAKkfckAAAADgSh9yQAAAAMAJGnJAAAAAIHIWckAAAABAghByQAAAAEA2DnJAAAAAYDYVckAAAAAgDSdyQAAAAODeKnJAAAAAIIpJckAAAABA7mVyQAAAAAB0dXJAAAAAgNiEckAAAABgrIRyQAAAAIAlfnJAAAAAYIB8ckAAAABARWRyQAAAAICmXHJAAAAAgFFFckAAAADAezZyQAAAAICHJXJAAAAAoPMackAAAABAbRByQAAAAOCpBXJAAAAAoHX7cUAAAADAWe1xQAAAAACs4XFAAAAAIKzZcUAAAABg8sxxQAAAAKD5yHFAAAAAAAnHcUAAAAAgNd1xQAAAAOAy8nFAAAAAgJ7/cUA=",
                    "dtype": "f8"
                  },
                  "yaxis": "y"
                },
                {
                  "hovertemplate": "%{y:.2f}<extra>P<sub>10%</sub></extra>",
                  "marker": {
                    "color": "#ea5545",
                    "size": 0.00001
                  },
                  "mode": "markers",
                  "type": "scatter",
                  "x": [
                    "2025-09-15T00:00:00",
                    "2025-09-15T01:00:00",
                    "2025-09-15T02:00:00",
                    "2025-09-15T03:00:00",
                    "2025-09-15T04:00:00",
                    "2025-09-15T05:00:00",
                    "2025-09-15T06:00:00",
                    "2025-09-15T07:00:00",
                    "2025-09-15T08:00:00",
                    "2025-09-15T09:00:00",
                    "2025-09-15T10:00:00",
                    "2025-09-15T11:00:00",
                    "2025-09-15T12:00:00",
                    "2025-09-15T13:00:00",
                    "2025-09-15T14:00:00",
                    "2025-09-15T15:00:00",
                    "2025-09-15T16:00:00",
                    "2025-09-15T17:00:00",
                    "2025-09-15T18:00:00",
                    "2025-09-15T19:00:00",
                    "2025-09-15T20:00:00",
                    "2025-09-15T21:00:00",
                    "2025-09-15T22:00:00",
                    "2025-09-15T23:00:00",
                    "2025-09-16T00:00:00",
                    "2025-09-16T01:00:00",
                    "2025-09-16T02:00:00",
                    "2025-09-16T03:00:00",
                    "2025-09-16T04:00:00",
                    "2025-09-16T05:00:00",
                    "2025-09-16T06:00:00",
                    "2025-09-16T07:00:00",
                    "2025-09-16T08:00:00",
                    "2025-09-16T09:00:00"
                  ],
                  "xaxis": "x",
                  "y": {
                    "bdata": "ZmZmZikjckDNzMyMFyNyQM3MzEzHHHJAzczMnNkYckAzMzOjTxdyQGZmZuYAEnJAZmZmVvEXckAzMzPjOityQJqZmXkOO3JAAAAAcE1RckBmZmYmU2hyQJqZmXkbfHJAZmZm1nKHckAAAABQrZByQAAAALDjhnJAMzMz49iAckAAAABgbmxyQAAAAIDlXHJAMzMzs/dIckCamZm5PzdyQAAAAMAeJ3JAzczMrLEeckCamZmpoRJyQDMzM7OnC3JAmpmZKen7cUAzMzNzmvRxQGZmZpZz6XFAAAAAwJTecUCamZmp8tRxQAAAABCnz3FAAAAA4ILKcUCamZlZteFxQAAAABDX83FAzczMXDUAckA=",
                    "dtype": "f8"
                  },
                  "yaxis": "y"
                },
                {
                  "hovertemplate": "%{y:.2f}<extra>P<sub>25%</sub></extra>",
                  "marker": {
                    "color": "#ea5545",
                    "size": 0.00001
                  },
                  "mode": "markers",
                  "type": "scatter",
                  "x": [
                    "2025-09-15T00:00:00",
                    "2025-09-15T01:00:00",
                    "2025-09-15T02:00:00",
                    "2025-09-15T03:00:00",
                    "2025-09-15T04:00:00",
                    "2025-09-15T05:00:00",
                    "2025-09-15T06:00:00",
                    "2025-09-15T07:00:00",
                    "2025-09-15T08:00:00",
                    "2025-09-15T09:00:00",
                    "2025-09-15T10:00:00",
                    "2025-09-15T11:00:00",
                    "2025-09-15T12:00:00",
                    "2025-09-15T13:00:00",
                    "2025-09-15T14:00:00",
                    "2025-09-15T15:00:00",
                    "2025-09-15T16:00:00",
                    "2025-09-15T17:00:00",
                    "2025-09-15T18:00:00",
                    "2025-09-15T19:00:00",
                    "2025-09-15T20:00:00",
                    "2025-09-15T21:00:00",
                    "2025-09-15T22:00:00",
                    "2025-09-15T23:00:00",
                    "2025-09-16T00:00:00",
                    "2025-09-16T01:00:00",
                    "2025-09-16T02:00:00",
                    "2025-09-16T03:00:00",
                    "2025-09-16T04:00:00",
                    "2025-09-16T05:00:00",
                    "2025-09-16T06:00:00",
                    "2025-09-16T07:00:00",
                    "2025-09-16T08:00:00",
                    "2025-09-16T09:00:00"
                  ],
                  "xaxis": "x",
                  "y": {
                    "bdata": "AAAA2DYlckAAAADoaSRyQAAAAJjtHnJAAAAA4I4bckAAAAAAZhtyQAAAAOi7HnJAAAAAkBMickAAAABYIy5yQAAAAJC3QXJAAAAAwNdYckAAAACYZmtyQAAAADCqgnJAAAAA+HiRckAAAAAwMZVyQAAAADAQiXJAAAAAkC+EckAAAAAor25yQAAAAEj8XnJAAAAAwBJKckAAAAAQZDxyQAAAAPh/LHJAAAAAKAUickAAAAAgDBtyQAAAAOD/EHJAAAAAWL4IckAAAABwif9xQAAAAKjT8XFAAAAAMBXkcUAAAAD4k9lxQAAAALDR0nFAAAAAqKjRcUAAAADgaORxQAAAAKDe9XFAAAAAwKAEckA=",
                    "dtype": "f8"
                  },
                  "yaxis": "y"
                },
                {
                  "hovertemplate": "%{y:.2f}<extra>P<sub>50%</sub></extra>",
                  "marker": {
                    "color": "#ea5545",
                    "size": 0.00001
                  },
                  "mode": "markers",
                  "type": "scatter",
                  "x": [
                    "2025-09-15T00:00:00",
                    "2025-09-15T01:00:00",
                    "2025-09-15T02:00:00",
                    "2025-09-15T03:00:00",
                    "2025-09-15T04:00:00",
                    "2025-09-15T05:00:00",
                    "2025-09-15T06:00:00",
                    "2025-09-15T07:00:00",
                    "2025-09-15T08:00:00",
                    "2025-09-15T09:00:00",
                    "2025-09-15T10:00:00",
                    "2025-09-15T11:00:00",
                    "2025-09-15T12:00:00",
                    "2025-09-15T13:00:00",
                    "2025-09-15T14:00:00",
                    "2025-09-15T15:00:00",
                    "2025-09-15T16:00:00",
                    "2025-09-15T17:00:00",
                    "2025-09-15T18:00:00",
                    "2025-09-15T19:00:00",
                    "2025-09-15T20:00:00",
                    "2025-09-15T21:00:00",
                    "2025-09-15T22:00:00",
                    "2025-09-15T23:00:00",
                    "2025-09-16T00:00:00",
                    "2025-09-16T01:00:00",
                    "2025-09-16T02:00:00",
                    "2025-09-16T03:00:00",
                    "2025-09-16T04:00:00",
                    "2025-09-16T05:00:00",
                    "2025-09-16T06:00:00",
                    "2025-09-16T07:00:00",
                    "2025-09-16T08:00:00",
                    "2025-09-16T09:00:00"
                  ],
                  "xaxis": "x",
                  "y": {
                    "bdata": "AAAAAIEnckAAAACwzCZyQAAAAFCBInJAAAAAANkfckAAAACACCByQAAAAADMI3JAAAAAUJ8pckAAAAAwpDRyQAAAAJBKRnJAAAAAwPdZckAAAAAgknJyQAAAABCLiHJAAAAAIHeUckAAAABwNZdyQAAAABDAi3JAAAAAMOCFckAAAAAQbnRyQAAAAODPYXJAAAAAUIFOckAAAACA9j5yQAAAACCWM3JAAAAAwCAsckAAAABwoyVyQAAAAPDxGnJAAAAAMNERckAAAADQxgZyQAAAAFBT/3FAAAAAAB7zcUAAAABg0OtxQAAAALAp4nFAAAAAUNDecUAAAACwbOpxQAAAAOBk+nFAAAAAIKcJckA=",
                    "dtype": "f8"
                  },
                  "yaxis": "y"
                },
                {
                  "hovertemplate": "%{y:.2f}<extra>P<sub>75%</sub></extra>",
                  "marker": {
                    "color": "#ea5545",
                    "size": 0.00001
                  },
                  "mode": "markers",
                  "type": "scatter",
                  "x": [
                    "2025-09-15T00:00:00",
                    "2025-09-15T01:00:00",
                    "2025-09-15T02:00:00",
                    "2025-09-15T03:00:00",
                    "2025-09-15T04:00:00",
                    "2025-09-15T05:00:00",
                    "2025-09-15T06:00:00",
                    "2025-09-15T07:00:00",
                    "2025-09-15T08:00:00",
                    "2025-09-15T09:00:00",
                    "2025-09-15T10:00:00",
                    "2025-09-15T11:00:00",
                    "2025-09-15T12:00:00",
                    "2025-09-15T13:00:00",
                    "2025-09-15T14:00:00",
                    "2025-09-15T15:00:00",
                    "2025-09-15T16:00:00",
                    "2025-09-15T17:00:00",
                    "2025-09-15T18:00:00",
                    "2025-09-15T19:00:00",
                    "2025-09-15T20:00:00",
                    "2025-09-15T21:00:00",
                    "2025-09-15T22:00:00",
                    "2025-09-15T23:00:00",
                    "2025-09-16T00:00:00",
                    "2025-09-16T01:00:00",
                    "2025-09-16T02:00:00",
                    "2025-09-16T03:00:00",
                    "2025-09-16T04:00:00",
                    "2025-09-16T05:00:00",
                    "2025-09-16T06:00:00",
                    "2025-09-16T07:00:00",
                    "2025-09-16T08:00:00",
                    "2025-09-16T09:00:00"
                  ],
                  "xaxis": "x",
                  "y": {
                    "bdata": "AAAAaIopckAAAAA4rypyQAAAAOgBJHJAAAAAeEwkckAAAABgaCpyQAAAAMBNK3JAAAAAQHQtckAAAABA4zhyQAAAAMicTHJAAAAAWNFfckAAAABYmXZyQAAAALjyi3JAAAAA2D6WckAAAADQbJtyQAAAAIhUk3JAAAAA8MiJckAAAAC4NndyQAAAABBkZ3JAAAAAOCFVckAAAADwsEJyQAAAAMAHOHJAAAAAeL4xckAAAAAosy1yQAAAAAB9IHJAAAAACPMUckAAAACY6AtyQAAAALiOA3JAAAAAoHX4cUAAAACwVO1xQAAAAADT43FAAAAAeFDhcUAAAACgTu5xQAAAAAj0/3FAAAAAaGgOckA=",
                    "dtype": "f8"
                  },
                  "yaxis": "y"
                },
                {
                  "hovertemplate": "%{y:.2f}<extra>P<sub>90%</sub></extra>",
                  "marker": {
                    "color": "#ea5545",
                    "size": 0.00001
                  },
                  "mode": "markers",
                  "type": "scatter",
                  "x": [
                    "2025-09-15T00:00:00",
                    "2025-09-15T01:00:00",
                    "2025-09-15T02:00:00",
                    "2025-09-15T03:00:00",
                    "2025-09-15T04:00:00",
                    "2025-09-15T05:00:00",
                    "2025-09-15T06:00:00",
                    "2025-09-15T07:00:00",
                    "2025-09-15T08:00:00",
                    "2025-09-15T09:00:00",
                    "2025-09-15T10:00:00",
                    "2025-09-15T11:00:00",
                    "2025-09-15T12:00:00",
                    "2025-09-15T13:00:00",
                    "2025-09-15T14:00:00",
                    "2025-09-15T15:00:00",
                    "2025-09-15T16:00:00",
                    "2025-09-15T17:00:00",
                    "2025-09-15T18:00:00",
                    "2025-09-15T19:00:00",
                    "2025-09-15T20:00:00",
                    "2025-09-15T21:00:00",
                    "2025-09-15T22:00:00",
                    "2025-09-15T23:00:00",
                    "2025-09-16T00:00:00",
                    "2025-09-16T01:00:00",
                    "2025-09-16T02:00:00",
                    "2025-09-16T03:00:00",
                    "2025-09-16T04:00:00",
                    "2025-09-16T05:00:00",
                    "2025-09-16T06:00:00",
                    "2025-09-16T07:00:00",
                    "2025-09-16T08:00:00",
                    "2025-09-16T09:00:00"
                  ],
                  "xaxis": "x",
                  "y": {
                    "bdata": "zczMvFEsckDNzMxcCi1yQJqZmbmuJXJAmpmZWfcockAAAADQfy5yQJqZmWlBL3JAAAAAsAU0ckCamZnpOTxyQDMzMzNaTnJAzczMXGBickAzMzPzqHpyQAAAAMABjXJAZmZmFtSWckAAAACQBJ9yQM3MzNwomnJAmpmZqeaQckDNzMxMbnlyQDMzM0Nca3JAzczMrHlXckAzMzOjtUdyQM3MzNwwPnJAmpmZuVQzckAzMzOTzjFyQJqZmXnhJXJAAAAAQHgackAAAABQAg9yQGZmZtZWB3JAAAAAcGv7cUAzMzODle9xQJqZmTko5nFAAAAAkPficUDNzMysiO9xQAAAAPD+AHJAMzMzw/sQckA=",
                    "dtype": "f8"
                  },
                  "yaxis": "y"
                },
                {
                  "hovertemplate": "%{y:.2f}<extra>P<sub>100%</sub></extra>",
                  "marker": {
                    "color": "#ea5545",
                    "size": 0.00001
                  },
                  "mode": "markers",
                  "type": "scatter",
                  "x": [
                    "2025-09-15T00:00:00",
                    "2025-09-15T01:00:00",
                    "2025-09-15T02:00:00",
                    "2025-09-15T03:00:00",
                    "2025-09-15T04:00:00",
                    "2025-09-15T05:00:00",
                    "2025-09-15T06:00:00",
                    "2025-09-15T07:00:00",
                    "2025-09-15T08:00:00",
                    "2025-09-15T09:00:00",
                    "2025-09-15T10:00:00",
                    "2025-09-15T11:00:00",
                    "2025-09-15T12:00:00",
                    "2025-09-15T13:00:00",
                    "2025-09-15T14:00:00",
                    "2025-09-15T15:00:00",
                    "2025-09-15T16:00:00",
                    "2025-09-15T17:00:00",
                    "2025-09-15T18:00:00",
                    "2025-09-15T19:00:00",
                    "2025-09-15T20:00:00",
                    "2025-09-15T21:00:00",
                    "2025-09-15T22:00:00",
                    "2025-09-15T23:00:00",
                    "2025-09-16T00:00:00",
                    "2025-09-16T01:00:00",
                    "2025-09-16T02:00:00",
                    "2025-09-16T03:00:00",
                    "2025-09-16T04:00:00",
                    "2025-09-16T05:00:00",
                    "2025-09-16T06:00:00",
                    "2025-09-16T07:00:00",
                    "2025-09-16T08:00:00",
                    "2025-09-16T09:00:00"
                  ],
                  "xaxis": "x",
                  "y": {
                    "bdata": "AAAAIN0sckAAAABASi9yQAAAAIBgK3JAAAAAwFwsckAAAACAGzFyQAAAAMA2NHJAAAAAQGE2ckAAAACA+TxyQAAAAADtUHJAAAAAoM9ickAAAABgunxyQAAAAEA9j3JAAAAAIHmXckAAAABA/6JyQAAAAIAQm3JAAAAAYGmTckAAAABA+YByQAAAAKDgc3JAAAAAAG1ackAAAACg3UhyQAAAAGB1PnJAAAAA4H45ckAAAACAIzRyQAAAAEBHLHJAAAAAQGEickAAAADA9RpyQAAAAGAsD3JAAAAAYGEDckAAAADAuPRxQAAAAODJ6HFAAAAA4G/kcUAAAABgG/BxQAAAAABABHJAAAAA4JoUckA=",
                    "dtype": "f8"
                  },
                  "yaxis": "y"
                },
                {
                  "line": {
                    "color": "grey"
                  },
                  "name": "mean",
                  "type": "scatter",
                  "x": [
                    "2025-09-15T00:00:00",
                    "2025-09-15T01:00:00",
                    "2025-09-15T02:00:00",
                    "2025-09-15T03:00:00",
                    "2025-09-15T04:00:00",
                    "2025-09-15T05:00:00",
                    "2025-09-15T06:00:00",
                    "2025-09-15T07:00:00",
                    "2025-09-15T08:00:00",
                    "2025-09-15T09:00:00",
                    "2025-09-15T10:00:00",
                    "2025-09-15T11:00:00",
                    "2025-09-15T12:00:00",
                    "2025-09-15T13:00:00",
                    "2025-09-15T14:00:00",
                    "2025-09-15T15:00:00",
                    "2025-09-15T16:00:00",
                    "2025-09-15T17:00:00",
                    "2025-09-15T18:00:00",
                    "2025-09-15T19:00:00",
                    "2025-09-15T20:00:00",
                    "2025-09-15T21:00:00",
                    "2025-09-15T22:00:00",
                    "2025-09-15T23:00:00",
                    "2025-09-16T00:00:00",
                    "2025-09-16T01:00:00",
                    "2025-09-16T02:00:00",
                    "2025-09-16T03:00:00",
                    "2025-09-16T04:00:00",
                    "2025-09-16T05:00:00",
                    "2025-09-16T06:00:00",
                    "2025-09-16T07:00:00",
                    "2025-09-16T08:00:00",
                    "2025-09-16T09:00:00"
                  ],
                  "y": {
                    "bdata": "AAAA8DcnckBmZmZGfidyQGZmZvbVIXJAmpmZWXggckAAAABg7iFyQGZmZuYSI3JAzczMfG4nckDNzMyssTNyQJqZmfnVRHJAzczMXCRackCamZk53HFyQDMzM3MRhnJAAAAAIAaSckAzMzNjKZdyQAAAAKDQjXJAMzMzQ0qHckDNzMw8RnNyQAAAAKDsY3JAmpmZWVtPckAAAAAQST9yQM3MzEzHMnJAAAAAIIMqckCamZmJ/SNyQJqZmWm1GXJAzczM7J8OckDNzMzcpQRyQM3MzByl+nFAMzMzgxPvcUAzMzOjzeRxQGZmZuZk3HFAZmZmZnDZcUAAAADQJ+lxQDMzM4O4+nFAZmZmVoEJckA=",
                    "dtype": "f8"
                  }
                },
                {
                  "fillcolor": "#B1B6FC",
                  "hoverinfo": "skip",
                  "line": {
                    "color": "#ef9b20"
                  },
                  "lowerfence": {
                    "bdata": "AAAA4EgcckAAAABgkhpyQAAAAMAeFHJAAAAAALIQckAAAAAg0wxyQAAAAGDaCXJAAAAAAPcRckAAAADAli5yQAAAAIC4N3JAAAAAAGtKckAAAADA+FZyQAAAAODManJAAAAAYBuIckAAAABg7IpyQAAAAEDGinJAAAAAoHR4ckAAAABggXZyQAAAAABXV3JAAAAAIDo3ckAAAAAAZS1yQAAAAABTKHJAAAAAgAwgckAAAAAg/hJyQAAAAOBYBnJAAAAAIGb/cUAAAACAf/ZxQAAAAKDa6nFAAAAAoLbhcUAAAAAAJ9lxQAAAACBCzHFAAAAA4N3HcUAAAADAsd9xQAAAACCU8nFAAAAAQAoCckAAAACAOA1yQAAAAAALFXJAAAAAgAYcckAAAAAgzxxyQAAAAIAZIXJAAAAAQMEdckAAAADADBRyQAAAAGB6A3JAAAAAwFfqcUAAAABg7NhxQAAAAEBVynFAAAAA4Ha+cUAAAAAAJ69xQAAAAMANrnFAAAAA4IamcUAAAACAPZ9xQAAAAKD1m3FAAAAAAMiQcUAAAAAg65BxQAAAAKCwjXFAAAAAAEqLcUAAAACAuahxQAAAAECIy3FAAAAAIJDkcUAAAADAI/hxQAAAAOCgBHJAAAAA4CoMckAAAABAuhByQAAAAGANE3JAAAAAAJIUckAAAADg7Q5yQAAAAODaCXJAAAAAYEgFckAAAACgwOtxQAAAAICn3HFAAAAAwH3RcUAAAACgIMlxQAAAAMBwwnFAAAAAIDC8cUAAAACAlLBxQAAAAGDConFAAAAAYPCdcUAAAAAgNX5xQAAAAGDWgXFAAAAAgACAcUAAAACAOoxxQAAAAGA3vXFAAAAA4NsEckAAAAAABzZyQAAAAOAxWnJAAAAAYMtwckAAAABAq3pyQAAAAGDDf3JAAAAAYIZ7ckAAAAAAXm9yQAAAAOD3U3JAAAAAAEsyckAAAAAAaxNyQAAAAKCv/HFAAAAAoBDocUAAAACAitpxQAAAAKBG0HFAAAAAAI7EcUAAAACAx7txQAAAAICFrXFAAAAAgPGKcUAAAAAAsodxQAAAAEDahHFAAAAAQAiMcUAAAABAkaBxQAAAAABvznFAAAAA4G0KckAAAABg5jhyQAAAAED9VXJAAAAAoHtpckAAAABAkndyQAAAAMCdg3JAAAAA4JeIckAAAADgIndyQAAAAOCUYXJAAAAAQOc0ckAAAABgaRFyQAAAAMDFCnJAAAAAwE3+cUAAAAAAbfNxQAAAAMB+2XFAAAAA4OvOcUA=",
                    "dtype": "f8"
                  },
                  "median": {
                    "bdata": "AAAAADIickAAAACApyByQAAAAGACG3JAAAAAgOsYckAAAADQUhpyQAAAANBiH3JAAAAAsBckckAAAADQFTVyQAAAAFDjTHJAAAAAADlfckAAAADA9m1yQAAAAAALg3JAAAAAoJiVckAAAAAAHZlyQAAAAFA6l3JAAAAAQLuOckAAAADg0n9yQAAAAMDbaHJAAAAAUKdMckAAAAAQLTlyQAAAAEDRMnJAAAAAgHQqckAAAADwoSRyQAAAAEAAHHJAAAAAsK8PckAAAADgYgVyQAAAADCU+XFAAAAAUJzucUAAAAAABuVxQAAAACD33HFAAAAAACLZcUAAAABwk+hxQAAAAGAW93FAAAAAIAMKckAAAABAexpyQAAAAEA0JHJAAAAAQKwockAAAADwzStyQAAAAND7LHJAAAAAAC4jckAAAABg7BdyQAAAAJD5B3JAAAAAIJXycUAAAACQvONxQAAAAJDb23FAAAAAgBTScUAAAACwr8txQAAAAGBExnFAAAAAkHG+cUAAAABQKLJxQAAAAOCGrXFAAAAAkAGtcUAAAAAQN6ZxQAAAAODXpHFAAAAAEAancUAAAACQl8BxQAAAALB24HFAAAAAAJj9cUAAAABAfBNyQAAAAHBpI3JAAAAAYJY1ckAAAABQiEVyQAAAANB5UHJAAAAAEKtSckAAAACQwE1yQAAAAPBPPXJAAAAAkFsockAAAAAQSA5yQAAAAHDQ+HFAAAAA8OnlcUAAAAAQmtlxQAAAAMD10nFAAAAAgODNcUAAAACQocBxQAAAAGADuHFAAAAA4NyvcUAAAACQfKlxQAAAAABro3FAAAAAwFmicUAAAACQqb1xQAAAADAa83FAAAAA4CUpckAAAADAKldyQAAAAOD1a3JAAAAAYEiDckAAAAAwqpByQAAAALAdlHJAAAAA4L6QckAAAAAgb4VyQAAAAIBbanJAAAAAwIdGckAAAAAQeSlyQAAAALBHEXJAAAAA8Nf9cUAAAADQgOlxQAAAAKCi33FAAAAA4F7UcUAAAACAIcdxQAAAALAOvHFAAAAAYACycUAAAAAglapxQAAAANCConFAAAAA4PGgcUAAAAAQSLlxQAAAAMAG6XFAAAAAwKQjckAAAACwy1JyQAAAAEBHbXJAAAAAwASGckAAAABA7JtyQAAAALDtpnJAAAAAkNKockAAAABg4p9yQAAAAODQgHJAAAAA8F1SckAAAACwJjNyQAAAAOBUIHJAAAAAQPsPckAAAADwhQJyQAAAAKC093FAAAAAoNDscUA=",
                    "dtype": "f8"
                  },
                  "q1": {
                    "bdata": "MzMzo/0eckAAAABQbR1yQM3MzKwDFXJAMzMzs/0RckCamZmplBJyQGZmZhabF3JAAAAAsKEeckCamZnJzjByQJqZmckpQ3JAMzMzo9xYckBmZmaWvGFyQM3MzHwXd3JAmpmZucCOckDNzMyMaZNyQAAAAJAbjXJAzczMbOl/ckAzMzMz4HZyQJqZmSnYYHJAAAAA8N5AckDNzMyMdzJyQM3MzDyGLHJAmpmZ6RQjckCamZkJSRdyQJqZmRl2CnJAZmZmpt8AckAAAADg1fhxQAAAAPBd73FAzczMrOvlcUCamZlpr9pxQAAAADBc0HFAAAAAcOnNcUDNzMz89OFxQAAAACAQ83FAzczMzHsFckDNzMy8phJyQAAAAPATHHJAAAAAANEgckAAAABAoCVyQJqZmVlsJnJAZmZmhlMeckCamZn56BRyQAAAAADOBHJAAAAAQMHtcUCamZkZwNtxQDMzM8My0XFAAAAAgH/BcUCamZlZY7pxQJqZmel0tnFAzczMzHGvcUCamZlZ46pxQDMzMzNAoXFAmpmZaXSecUBmZmYmHpRxQDMzM8PaknFAmpmZmUiOcUDNzMzcUq1xQM3MzJz11XFAZmZmlo/ucUCamZmZ3QNyQGZmZsaGB3JAzczMjJ8PckBmZmbm9BlyQM3MzKxeInJAMzMzY1oockAAAAAw0iZyQDMzMxOzIXJAZmZmhtAQckAzMzMD0PtxQGZmZqbB5HFAMzMzQ4/YcUAAAAAwztBxQAAAANDExnFAMzMzg6q/cUDNzMz8kLVxQDMzMyOgq3FAzczMbAWgcUDNzMz8j5NxQM3MzCyskXFAzczMLD6NcUAAAAAgXJ9xQDMzM3Mn0nFAmpmZafYUckDNzMw8UkByQGZmZnafYXJAzczMjBl1ckBmZmbmjn9yQGZmZsaug3JAzczMvAmBckCamZlpbHVyQM3MzNwKXXJAmpmZ2fI5ckAzMzMz9RlyQM3MzPwWBHJAmpmZ2XLxcUAAAADAW+FxQJqZmemH03FAAAAA0NfIcUCamZlZib9xQGZmZuYAsnFAzczMXMGicUCamZkZuplxQGZmZjYom3FAMzMzc0qTcUDNzMyca6ZxQGZmZsaI1HFAAAAA0JMVckBmZmb2RENyQGZmZqaUZnJAmpmZmbh/ckBmZmYGRJByQGZmZlbVlnJAmpmZqQSUckDNzMysNopyQM3MzOy9bnJAMzMz898/ckDNzMyMRB5yQM3MzPyfE3JAZmZmVt0FckAAAABAi/pxQM3MzLxh6nFAMzMzc+rjcUA=",
                    "dtype": "f8"
                  },
                  "q3": {
                    "bdata": "zczMjMwnckCamZk52CZyQAAAADCSInJAAAAAsEAhckAAAABQ3iRyQM3MzOz+JnJAzczMHFMockCamZmJTTdyQM3MzOwkUXJAmpmZmVBkckBmZmamKXZyQDMzM6OUi3JAmpmZWX6ZckDNzMwM+ZxyQJqZmRnRm3JAAAAAIN6UckBmZmameodyQAAAAGDCbHJAZmZm9gJVckCamZk5X0RyQAAAAKAmN3JAmpmZSWYyckBmZma2/SpyQDMzM9NSIXJAAAAAMAcZckCamZk5/gxyQDMzM2Og/nFAZmZm5mzycUCamZn50+hxQM3MzGwf4HFAAAAAUO/ecUAzMzODjuxxQM3MzJzg+3FAmpmZWT4OckCamZkJyR9yQJqZmSlWKnJAzczMjKsxckCamZn57zNyQJqZmWndMHJAzczMTF8pckDNzMzcfB5yQAAAAID5CnJAzczMnIX3cUAAAAAQ6+lxQJqZmUmc5XFAZmZmttbecUCamZlpg9ZxQM3MzBym0nFAAAAA4AnIcUDNzMysXrxxQAAAAOBlt3FAZmZmdmGycUDNzMzcFrRxQDMzM8PntXFAAAAAkKK+cUAzMzOTGs9xQDMzMyM863FAmpmZmUEPckAzMzMT6SRyQM3MzLzFO3JAZmZmRupLckCamZk5KWByQAAAANB3aHJAZmZmZiZqckAAAAAgzGFyQM3MzCzdT3JAZmZmJkY0ckAzMzOTEhpyQJqZmRmTAXJAZmZm1lnycUDNzMysz/BxQDMzMyPC5nFAMzMzAyrmcUBmZmZG1thxQGZmZjYYynFAmpmZmS6+cUBmZmZGb7lxQM3MzPzMs3FAAAAAgFW6cUCamZkpWNhxQAAAACBcE3JAmpmZyQpEckAAAACwEGJyQAAAAOBBenJAAAAA4DWOckBmZmbGH5lyQDMzM1PEn3JAMzMzY7qeckAzMzMz4ZJyQGZmZsa/d3JAzczMHEZVckCamZm5NzNyQDMzM3PVHXJAMzMzAwgPckAzMzMTdPtxQJqZmWnk8HFAAAAAIIbhcUDNzMxMe9RxQDMzMxP+ynFAmpmZiVXBcUAzMzNjXb5xQM3MzCyztnFAMzMzQwi1cUAzMzOzxM1xQM3MzIyA+nFAmpmZ6QcyckDNzMwcglpyQGZmZgYdfHJAmpmZOX2UckAAAADANKlyQM3MzCwZs3JAZmZmhj24ckAzMzMzebNyQM3MzMy9lXJAzczMrA1rckCamZmZCEtyQJqZmVneOXJAMzMz87YsckBmZmaWEiByQAAAAGAtF3JAmpmZiRUQckA=",
                    "dtype": "f8"
                  },
                  "type": "box",
                  "upperfence": {
                    "bdata": "AAAAoN8pckAAAADAiSpyQAAAAKC9I3JAAAAAwGIlckAAAABAtShyQAAAAKC7KnJAAAAAoMUsckAAAADA/jxyQAAAACAPUnJAAAAA4ANqckAAAADgjnpyQAAAAKAJj3JAAAAAwKGcckAAAAAgL55yQAAAAAA0n3JAAAAAIDyWckAAAAAAEYhyQAAAAOByb3JAAAAAQCtWckAAAADAPUZyQAAAAIB4PnJAAAAAgFU4ckAAAABg7i5yQAAAACCXJHJAAAAAIAkickAAAACA0Q9yQAAAAED7AnJAAAAAAFL1cUAAAADAO+txQAAAAEBH5nFAAAAAwEDlcUAAAABgo/BxQAAAAODo/XFAAAAAoGgQckAAAACAGiJyQAAAAADcLHJAAAAAALozckAAAADAejhyQAAAAKDnM3JAAAAAgDgrckAAAAAAZiNyQAAAACDCD3JAAAAAwPL4cUAAAADgrfFxQAAAAKDE6XFAAAAAAE3lcUAAAADAIt5xQAAAAKBT1XFAAAAAoDnPcUAAAADgOMpxQAAAAODIwXFAAAAAYNm2cUAAAABglbVxQAAAAOCjuHFAAAAAYDXAcUAAAACAPdZxQAAAAAA+8HFAAAAAQOAWckAAAABgGDFyQAAAAGDJRXJAAAAAYE9ackAAAACAzmdyQAAAACBOc3JAAAAAwJNyckAAAAAAT2lyQAAAAMBzVXJAAAAAYMQ9ckAAAADAqx1yQAAAAIDjD3JAAAAAwOQEckAAAAAgsQByQAAAAGB5+HFAAAAAYP/tcUAAAABgguZxQAAAAOBP4XFAAAAAAPvZcUAAAADAxc9xQAAAAGAKyHFAAAAAYIfJcUAAAADANeNxQAAAAOAfFnJAAAAAwPJFckAAAADALWpyQAAAAICVgXJAAAAAAD6QckAAAAAAY5xyQAAAACBZoXJAAAAAgLaickAAAABAQpVyQAAAAODCe3JAAAAAYABdckAAAADgHzhyQAAAACDBIHJAAAAAgJ8VckAAAADgYQVyQAAAAOBt83FAAAAAYJLncUAAAADg9d9xQAAAAEBd2HFAAAAA4LPNcUAAAADAgstxQAAAAEAdwnFAAAAA4DfHcUAAAADgOdFxQAAAAABtBXJAAAAAwNw4ckAAAABAj11yQAAAAGBqg3JAAAAAwNCickAAAACAnLdyQAAAAODzx3JAAAAAAPfHckAAAADgfr1yQAAAAIDzpnJAAAAA4JxxckAAAACAQVNyQAAAAAD8Q3JAAAAA4Ec5ckAAAAAgHDxyQAAAAOB7PnJAAAAAYLE0ckA=",
                    "dtype": "f8"
                  },
                  "width": 1080000,
                  "x": [
                    "2025-09-15T00:00:00",
                    "2025-09-15T01:00:00",
                    "2025-09-15T02:00:00",
                    "2025-09-15T03:00:00",
                    "2025-09-15T04:00:00",
                    "2025-09-15T05:00:00",
                    "2025-09-15T06:00:00",
                    "2025-09-15T07:00:00",
                    "2025-09-15T08:00:00",
                    "2025-09-15T09:00:00",
                    "2025-09-15T10:00:00",
                    "2025-09-15T11:00:00",
                    "2025-09-15T12:00:00",
                    "2025-09-15T13:00:00",
                    "2025-09-15T14:00:00",
                    "2025-09-15T15:00:00",
                    "2025-09-15T16:00:00",
                    "2025-09-15T17:00:00",
                    "2025-09-15T18:00:00",
                    "2025-09-15T19:00:00",
                    "2025-09-15T20:00:00",
                    "2025-09-15T21:00:00",
                    "2025-09-15T22:00:00",
                    "2025-09-15T23:00:00",
                    "2025-09-16T00:00:00",
                    "2025-09-16T01:00:00",
                    "2025-09-16T02:00:00",
                    "2025-09-16T03:00:00",
                    "2025-09-16T04:00:00",
                    "2025-09-16T05:00:00",
                    "2025-09-16T06:00:00",
                    "2025-09-16T07:00:00",
                    "2025-09-16T08:00:00",
                    "2025-09-16T09:00:00",
                    "2025-09-16T10:00:00",
                    "2025-09-16T11:00:00",
                    "2025-09-16T12:00:00",
                    "2025-09-16T13:00:00",
                    "2025-09-16T14:00:00",
                    "2025-09-16T15:00:00",
                    "2025-09-16T16:00:00",
                    "2025-09-16T17:00:00",
                    "2025-09-16T18:00:00",
                    "2025-09-16T19:00:00",
                    "2025-09-16T20:00:00",
                    "2025-09-16T21:00:00",
                    "2025-09-16T22:00:00",
                    "2025-09-16T23:00:00",
                    "2025-09-17T00:00:00",
                    "2025-09-17T01:00:00",
                    "2025-09-17T02:00:00",
                    "2025-09-17T03:00:00",
                    "2025-09-17T04:00:00",
                    "2025-09-17T05:00:00",
                    "2025-09-17T06:00:00",
                    "2025-09-17T07:00:00",
                    "2025-09-17T08:00:00",
                    "2025-09-17T09:00:00",
                    "2025-09-17T10:00:00",
                    "2025-09-17T11:00:00",
                    "2025-09-17T12:00:00",
                    "2025-09-17T13:00:00",
                    "2025-09-17T14:00:00",
                    "2025-09-17T15:00:00",
                    "2025-09-17T16:00:00",
                    "2025-09-17T17:00:00",
                    "2025-09-17T18:00:00",
                    "2025-09-17T19:00:00",
                    "2025-09-17T20:00:00",
                    "2025-09-17T21:00:00",
                    "2025-09-17T22:00:00",
                    "2025-09-17T23:00:00",
                    "2025-09-18T00:00:00",
                    "2025-09-18T01:00:00",
                    "2025-09-18T02:00:00",
                    "2025-09-18T03:00:00",
                    "2025-09-18T04:00:00",
                    "2025-09-18T05:00:00",
                    "2025-09-18T06:00:00",
                    "2025-09-18T07:00:00",
                    "2025-09-18T08:00:00",
                    "2025-09-18T09:00:00",
                    "2025-09-18T10:00:00",
                    "2025-09-18T11:00:00",
                    "2025-09-18T12:00:00",
                    "2025-09-18T13:00:00",
                    "2025-09-18T14:00:00",
                    "2025-09-18T15:00:00",
                    "2025-09-18T16:00:00",
                    "2025-09-18T17:00:00",
                    "2025-09-18T18:00:00",
                    "2025-09-18T19:00:00",
                    "2025-09-18T20:00:00",
                    "2025-09-18T21:00:00",
                    "2025-09-18T22:00:00",
                    "2025-09-18T23:00:00",
                    "2025-09-19T00:00:00",
                    "2025-09-19T01:00:00",
                    "2025-09-19T02:00:00",
                    "2025-09-19T03:00:00",
                    "2025-09-19T04:00:00",
                    "2025-09-19T05:00:00",
                    "2025-09-19T06:00:00",
                    "2025-09-19T07:00:00",
                    "2025-09-19T08:00:00",
                    "2025-09-19T09:00:00",
                    "2025-09-19T10:00:00",
                    "2025-09-19T11:00:00",
                    "2025-09-19T12:00:00",
                    "2025-09-19T13:00:00",
                    "2025-09-19T14:00:00",
                    "2025-09-19T15:00:00",
                    "2025-09-19T16:00:00",
                    "2025-09-19T17:00:00",
                    "2025-09-19T18:00:00",
                    "2025-09-19T19:00:00",
                    "2025-09-19T20:00:00",
                    "2025-09-19T21:00:00",
                    "2025-09-19T22:00:00",
                    "2025-09-19T23:00:00",
                    "2025-09-20T00:00:00"
                  ],
                  "xaxis": "x",
                  "yaxis": "y"
                },
                {
                  "fillcolor": "#B1B6FC",
                  "hoverinfo": "skip",
                  "line": {
                    "color": "#ef9b20"
                  },
                  "lowerfence": {
                    "bdata": "AAAA4EgcckAAAABgkhpyQAAAAMAeFHJAAAAAALIQckAAAAAg0wxyQAAAAGDaCXJAAAAAAPcRckAAAADAli5yQAAAAIC4N3JAAAAAAGtKckAAAADA+FZyQAAAAODManJAAAAAYBuIckAAAABg7IpyQAAAAEDGinJAAAAAoHR4ckAAAABggXZyQAAAAABXV3JAAAAAIDo3ckAAAAAAZS1yQAAAAABTKHJAAAAAgAwgckAAAAAg/hJyQAAAAOBYBnJAAAAAIGb/cUAAAACAf/ZxQAAAAKDa6nFAAAAAoLbhcUAAAAAAJ9lxQAAAACBCzHFAAAAA4N3HcUAAAADAsd9xQAAAACCU8nFAAAAAQAoCckAAAACAOA1yQAAAAAALFXJAAAAAgAYcckAAAAAgzxxyQAAAAIAZIXJAAAAAQMEdckAAAADADBRyQAAAAGB6A3JAAAAAwFfqcUAAAABg7NhxQAAAAEBVynFAAAAA4Ha+cUAAAAAAJ69xQAAAAMANrnFAAAAA4IamcUAAAACAPZ9xQAAAAKD1m3FAAAAAAMiQcUAAAAAg65BxQAAAAKCwjXFAAAAAAEqLcUAAAACAuahxQAAAAECIy3FAAAAAIJDkcUAAAADAI/hxQAAAAOCgBHJAAAAA4CoMckAAAABAuhByQAAAAGANE3JAAAAAAJIUckAAAADg7Q5yQAAAAODaCXJAAAAAYEgFckAAAACgwOtxQAAAAICn3HFAAAAAwH3RcUAAAACgIMlxQAAAAMBwwnFAAAAAIDC8cUAAAACAlLBxQAAAAGDConFAAAAAYPCdcUAAAAAgNX5xQAAAAGDWgXFAAAAAgACAcUAAAACAOoxxQAAAAGA3vXFAAAAA4NsEckAAAAAABzZyQAAAAOAxWnJAAAAAYMtwckAAAABAq3pyQAAAAGDDf3JAAAAAYIZ7ckAAAAAAXm9yQAAAAOD3U3JAAAAAAEsyckAAAAAAaxNyQAAAAKCv/HFAAAAAoBDocUAAAACAitpxQAAAAKBG0HFAAAAAAI7EcUAAAACAx7txQAAAAICFrXFAAAAAgPGKcUAAAAAAsodxQAAAAEDahHFAAAAAQAiMcUAAAABAkaBxQAAAAABvznFAAAAA4G0KckAAAABg5jhyQAAAAED9VXJAAAAAoHtpckAAAABAkndyQAAAAMCdg3JAAAAA4JeIckAAAADgIndyQAAAAOCUYXJAAAAAQOc0ckAAAABgaRFyQAAAAMDFCnJAAAAAwE3+cUAAAAAAbfNxQAAAAMB+2XFAAAAA4OvOcUA=",
                    "dtype": "f8"
                  },
                  "median": {
                    "bdata": "AAAAADIickAAAACApyByQAAAAGACG3JAAAAAgOsYckAAAADQUhpyQAAAANBiH3JAAAAAsBckckAAAADQFTVyQAAAAFDjTHJAAAAAADlfckAAAADA9m1yQAAAAAALg3JAAAAAoJiVckAAAAAAHZlyQAAAAFA6l3JAAAAAQLuOckAAAADg0n9yQAAAAMDbaHJAAAAAUKdMckAAAAAQLTlyQAAAAEDRMnJAAAAAgHQqckAAAADwoSRyQAAAAEAAHHJAAAAAsK8PckAAAADgYgVyQAAAADCU+XFAAAAAUJzucUAAAAAABuVxQAAAACD33HFAAAAAACLZcUAAAABwk+hxQAAAAGAW93FAAAAAIAMKckAAAABAexpyQAAAAEA0JHJAAAAAQKwockAAAADwzStyQAAAAND7LHJAAAAAAC4jckAAAABg7BdyQAAAAJD5B3JAAAAAIJXycUAAAACQvONxQAAAAJDb23FAAAAAgBTScUAAAACwr8txQAAAAGBExnFAAAAAkHG+cUAAAABQKLJxQAAAAOCGrXFAAAAAkAGtcUAAAAAQN6ZxQAAAAODXpHFAAAAAEAancUAAAACQl8BxQAAAALB24HFAAAAAAJj9cUAAAABAfBNyQAAAAHBpI3JAAAAAYJY1ckAAAABQiEVyQAAAANB5UHJAAAAAEKtSckAAAACQwE1yQAAAAPBPPXJAAAAAkFsockAAAAAQSA5yQAAAAHDQ+HFAAAAA8OnlcUAAAAAQmtlxQAAAAMD10nFAAAAAgODNcUAAAACQocBxQAAAAGADuHFAAAAA4NyvcUAAAACQfKlxQAAAAABro3FAAAAAwFmicUAAAACQqb1xQAAAADAa83FAAAAA4CUpckAAAADAKldyQAAAAOD1a3JAAAAAYEiDckAAAAAwqpByQAAAALAdlHJAAAAA4L6QckAAAAAgb4VyQAAAAIBbanJAAAAAwIdGckAAAAAQeSlyQAAAALBHEXJAAAAA8Nf9cUAAAADQgOlxQAAAAKCi33FAAAAA4F7UcUAAAACAIcdxQAAAALAOvHFAAAAAYACycUAAAAAglapxQAAAANCConFAAAAA4PGgcUAAAAAQSLlxQAAAAMAG6XFAAAAAwKQjckAAAACwy1JyQAAAAEBHbXJAAAAAwASGckAAAABA7JtyQAAAALDtpnJAAAAAkNKockAAAABg4p9yQAAAAODQgHJAAAAA8F1SckAAAACwJjNyQAAAAOBUIHJAAAAAQPsPckAAAADwhQJyQAAAAKC093FAAAAAoNDscUA=",
                    "dtype": "f8"
                  },
                  "q1": {
                    "bdata": "AAAAqM8gckAAAABAqR5yQAAAAECtGHJAAAAAuLIVckAAAAB41xVyQAAAAMCGHHJAAAAAWOshckAAAACAzjJyQAAAAMD9R3JAAAAA6FhbckAAAAAACWhyQAAAAGAJeHJAAAAAKPORckAAAAC4RJRyQAAAAGBrk3JAAAAA+H6GckAAAACQoHlyQAAAAEj8Y3JAAAAAAO1GckAAAADgzDZyQAAAADCvMHJAAAAAWKklckAAAAAwgx9yQAAAAFBgEXJAAAAAcL8JckAAAABoqwFyQAAAAHCK9nFAAAAAOCXqcUAAAACAhOBxQAAAAJg51nFAAAAA+K/UcUAAAADQ+ORxQAAAACjx9HFAAAAAYMAHckAAAADY1RVyQAAAAACPIHJAAAAAYNsjckAAAAD4PihyQAAAAFDAKHJAAAAAKIwhckAAAABo2xVyQAAAAGBGB3JAAAAAgJHucUAAAADg/d9xQAAAACAr1nFAAAAAMBzMcUAAAACAdMNxQAAAAHhwwXFAAAAAGN23cUAAAAAQDK1xQAAAACjNqXFAAAAASASncUAAAABAXKFxQAAAAOAfmXFAAAAAsCeccUAAAABIVLhxQAAAAIB+2nFAAAAAaFP5cUAAAADA9gdyQAAAADiqF3JAAAAAIDkqckAAAACIUDJyQAAAANCrPHJAAAAAqD9CckAAAAC4ZkByQAAAAECuNHJAAAAA+FgfckAAAAAoIgFyQAAAAIjP73FAAAAAIPjfcUAAAAAYKtVxQAAAAJhUzXFAAAAAMGfEcUAAAAAocrlxQAAAAKDGsXFAAAAAeG6ocUAAAADYrZ1xQAAAAKiTmHFAAAAAODeYcUAAAAD4BqFxQAAAANA13XFAAAAAyMYdckAAAAC4R0dyQAAAALAEZHJAAAAAqMB3ckAAAAAAUoNyQAAAAAguiHJAAAAAQAuIckAAAAAYHX1yQAAAACB0Y3JAAAAA2DNCckAAAAAguyFyQAAAAGDRCHJAAAAAwPL2cUAAAADgJ+RxQAAAALCb13FAAAAASBbLcUAAAAAwNMNxQAAAADhdtHFAAAAAEMyrcUAAAADwIaRxQAAAALjUnnFAAAAAWKKZcUAAAACARK9xQAAAAFBl3nFAAAAAUEwXckAAAAD4W0lyQAAAALiYaHJAAAAAKJ2CckAAAAC45pJyQAAAALCNmnJAAAAAAHqcckAAAABwCphyQAAAACA5e3JAAAAAcIREckAAAACoICpyQAAAAFA7F3JAAAAAqG4KckAAAADwt/1xQAAAAHjC9HFAAAAAkAnmcUA=",
                    "dtype": "f8"
                  },
                  "q3": {
                    "bdata": "AAAAQAolckAAAADwuiJyQAAAACDZHnJAAAAAwOgeckAAAACgLiByQAAAACBGJHJAAAAAmA4nckAAAADYeTZyQAAAAPjRTnJAAAAA4AxjckAAAACAhXJyQAAAADCUiXJAAAAA6LmYckAAAACgE5tyQAAAAFhgmXJAAAAA8DiSckAAAABgCYVyQAAAAFDPa3JAAAAAyB9QckAAAADQID9yQAAAABB9NHJAAAAAWF4wckAAAACoHCdyQAAAAKgWH3JAAAAA2KsUckAAAAAIYQhyQAAAAAAS+3FAAAAAgIHxcUAAAACAdudxQAAAAHje3nFAAAAAyHTdcUAAAADQ+OlxQAAAAJgS+nFAAAAAMDQMckAAAAC4Nx1yQAAAADCOKHJAAAAAaKovckAAAADwuS9yQAAAAEgSL3JAAAAA+OYnckAAAADoLhpyQAAAAECVCXJAAAAAAA71cUAAAADg5udxQAAAANjy4XFAAAAAGI/VcUAAAADAGdBxQAAAAKgxyHFAAAAA4CLCcUAAAACwiLhxQAAAAHDmsnFAAAAAYOSucUAAAACQXatxQAAAALD+rHFAAAAA+JCycUAAAABw38dxQAAAACAL6nFAAAAA2A4FckAAAADI3B5yQAAAAGgFLXJAAAAAmDQ+ckAAAAAY30xyQAAAALgpVXJAAAAAsD9bckAAAAA4GFZyQAAAAOATRXJAAAAAIJgwckAAAABIvhVyQAAAANg8/XFAAAAAwMjvcUAAAAAYVOdxQAAAAAij4HFAAAAAmHPZcUAAAADo1dFxQAAAADDkwnFAAAAAsDS7cUAAAADQrrRxQAAAAMjtsHFAAAAAcCm1cUAAAADI69NxQAAAAOAhDHJAAAAAKDg+ckAAAADoRVxyQAAAAOjPd3JAAAAA4CqKckAAAABg0JZyQAAAALiknXJAAAAAyPGZckAAAACQjYxyQAAAAIBJdXJAAAAAsKRRckAAAAAI1C9yQAAAAKhVGnJAAAAAcFAGckAAAAAA/vVxQAAAAAhA6XFAAAAAcNHacUAAAABIdcxxQAAAACjUyHFAAAAAoDm+cUAAAAD4erdxQAAAALA/r3FAAAAAeL+tcUAAAAD4dMFxQAAAADiy8nFAAAAAmOkrckAAAAB4bVhyQAAAANjBeHJAAAAAaKyQckAAAAAQcqFyQAAAABgPrHJAAAAAiHevckAAAADYB6hyQAAAAGA4j3JAAAAAUHtdckAAAADYWDtyQAAAAEDFJ3JAAAAAkLkUckAAAAAg3QhyQAAAAJBhAXJAAAAA6Fn5cUA=",
                    "dtype": "f8"
                  },
                  "showwhiskers": false,
                  "type": "box",
                  "upperfence": {
                    "bdata": "AAAAoN8pckAAAADAiSpyQAAAAKC9I3JAAAAAwGIlckAAAABAtShyQAAAAKC7KnJAAAAAoMUsckAAAADA/jxyQAAAACAPUnJAAAAA4ANqckAAAADgjnpyQAAAAKAJj3JAAAAAwKGcckAAAAAgL55yQAAAAAA0n3JAAAAAIDyWckAAAAAAEYhyQAAAAOByb3JAAAAAQCtWckAAAADAPUZyQAAAAIB4PnJAAAAAgFU4ckAAAABg7i5yQAAAACCXJHJAAAAAIAkickAAAACA0Q9yQAAAAED7AnJAAAAAAFL1cUAAAADAO+txQAAAAEBH5nFAAAAAwEDlcUAAAABgo/BxQAAAAODo/XFAAAAAoGgQckAAAACAGiJyQAAAAADcLHJAAAAAALozckAAAADAejhyQAAAAKDnM3JAAAAAgDgrckAAAAAAZiNyQAAAACDCD3JAAAAAwPL4cUAAAADgrfFxQAAAAKDE6XFAAAAAAE3lcUAAAADAIt5xQAAAAKBT1XFAAAAAoDnPcUAAAADgOMpxQAAAAODIwXFAAAAAYNm2cUAAAABglbVxQAAAAOCjuHFAAAAAYDXAcUAAAACAPdZxQAAAAAA+8HFAAAAAQOAWckAAAABgGDFyQAAAAGDJRXJAAAAAYE9ackAAAACAzmdyQAAAACBOc3JAAAAAwJNyckAAAAAAT2lyQAAAAMBzVXJAAAAAYMQ9ckAAAADAqx1yQAAAAIDjD3JAAAAAwOQEckAAAAAgsQByQAAAAGB5+HFAAAAAYP/tcUAAAABgguZxQAAAAOBP4XFAAAAAAPvZcUAAAADAxc9xQAAAAGAKyHFAAAAAYIfJcUAAAADANeNxQAAAAOAfFnJAAAAAwPJFckAAAADALWpyQAAAAICVgXJAAAAAAD6QckAAAAAAY5xyQAAAACBZoXJAAAAAgLaickAAAABAQpVyQAAAAODCe3JAAAAAYABdckAAAADgHzhyQAAAACDBIHJAAAAAgJ8VckAAAADgYQVyQAAAAOBt83FAAAAAYJLncUAAAADg9d9xQAAAAEBd2HFAAAAA4LPNcUAAAADAgstxQAAAAEAdwnFAAAAA4DfHcUAAAADgOdFxQAAAAABtBXJAAAAAwNw4ckAAAABAj11yQAAAAGBqg3JAAAAAwNCickAAAACAnLdyQAAAAODzx3JAAAAAAPfHckAAAADgfr1yQAAAAIDzpnJAAAAA4JxxckAAAACAQVNyQAAAAAD8Q3JAAAAA4Ec5ckAAAAAgHDxyQAAAAOB7PnJAAAAAYLE0ckA=",
                    "dtype": "f8"
                  },
                  "width": 2160000,
                  "x": [
                    "2025-09-15T00:00:00",
                    "2025-09-15T01:00:00",
                    "2025-09-15T02:00:00",
                    "2025-09-15T03:00:00",
                    "2025-09-15T04:00:00",
                    "2025-09-15T05:00:00",
                    "2025-09-15T06:00:00",
                    "2025-09-15T07:00:00",
                    "2025-09-15T08:00:00",
                    "2025-09-15T09:00:00",
                    "2025-09-15T10:00:00",
                    "2025-09-15T11:00:00",
                    "2025-09-15T12:00:00",
                    "2025-09-15T13:00:00",
                    "2025-09-15T14:00:00",
                    "2025-09-15T15:00:00",
                    "2025-09-15T16:00:00",
                    "2025-09-15T17:00:00",
                    "2025-09-15T18:00:00",
                    "2025-09-15T19:00:00",
                    "2025-09-15T20:00:00",
                    "2025-09-15T21:00:00",
                    "2025-09-15T22:00:00",
                    "2025-09-15T23:00:00",
                    "2025-09-16T00:00:00",
                    "2025-09-16T01:00:00",
                    "2025-09-16T02:00:00",
                    "2025-09-16T03:00:00",
                    "2025-09-16T04:00:00",
                    "2025-09-16T05:00:00",
                    "2025-09-16T06:00:00",
                    "2025-09-16T07:00:00",
                    "2025-09-16T08:00:00",
                    "2025-09-16T09:00:00",
                    "2025-09-16T10:00:00",
                    "2025-09-16T11:00:00",
                    "2025-09-16T12:00:00",
                    "2025-09-16T13:00:00",
                    "2025-09-16T14:00:00",
                    "2025-09-16T15:00:00",
                    "2025-09-16T16:00:00",
                    "2025-09-16T17:00:00",
                    "2025-09-16T18:00:00",
                    "2025-09-16T19:00:00",
                    "2025-09-16T20:00:00",
                    "2025-09-16T21:00:00",
                    "2025-09-16T22:00:00",
                    "2025-09-16T23:00:00",
                    "2025-09-17T00:00:00",
                    "2025-09-17T01:00:00",
                    "2025-09-17T02:00:00",
                    "2025-09-17T03:00:00",
                    "2025-09-17T04:00:00",
                    "2025-09-17T05:00:00",
                    "2025-09-17T06:00:00",
                    "2025-09-17T07:00:00",
                    "2025-09-17T08:00:00",
                    "2025-09-17T09:00:00",
                    "2025-09-17T10:00:00",
                    "2025-09-17T11:00:00",
                    "2025-09-17T12:00:00",
                    "2025-09-17T13:00:00",
                    "2025-09-17T14:00:00",
                    "2025-09-17T15:00:00",
                    "2025-09-17T16:00:00",
                    "2025-09-17T17:00:00",
                    "2025-09-17T18:00:00",
                    "2025-09-17T19:00:00",
                    "2025-09-17T20:00:00",
                    "2025-09-17T21:00:00",
                    "2025-09-17T22:00:00",
                    "2025-09-17T23:00:00",
                    "2025-09-18T00:00:00",
                    "2025-09-18T01:00:00",
                    "2025-09-18T02:00:00",
                    "2025-09-18T03:00:00",
                    "2025-09-18T04:00:00",
                    "2025-09-18T05:00:00",
                    "2025-09-18T06:00:00",
                    "2025-09-18T07:00:00",
                    "2025-09-18T08:00:00",
                    "2025-09-18T09:00:00",
                    "2025-09-18T10:00:00",
                    "2025-09-18T11:00:00",
                    "2025-09-18T12:00:00",
                    "2025-09-18T13:00:00",
                    "2025-09-18T14:00:00",
                    "2025-09-18T15:00:00",
                    "2025-09-18T16:00:00",
                    "2025-09-18T17:00:00",
                    "2025-09-18T18:00:00",
                    "2025-09-18T19:00:00",
                    "2025-09-18T20:00:00",
                    "2025-09-18T21:00:00",
                    "2025-09-18T22:00:00",
                    "2025-09-18T23:00:00",
                    "2025-09-19T00:00:00",
                    "2025-09-19T01:00:00",
                    "2025-09-19T02:00:00",
                    "2025-09-19T03:00:00",
                    "2025-09-19T04:00:00",
                    "2025-09-19T05:00:00",
                    "2025-09-19T06:00:00",
                    "2025-09-19T07:00:00",
                    "2025-09-19T08:00:00",
                    "2025-09-19T09:00:00",
                    "2025-09-19T10:00:00",
                    "2025-09-19T11:00:00",
                    "2025-09-19T12:00:00",
                    "2025-09-19T13:00:00",
                    "2025-09-19T14:00:00",
                    "2025-09-19T15:00:00",
                    "2025-09-19T16:00:00",
                    "2025-09-19T17:00:00",
                    "2025-09-19T18:00:00",
                    "2025-09-19T19:00:00",
                    "2025-09-19T20:00:00",
                    "2025-09-19T21:00:00",
                    "2025-09-19T22:00:00",
                    "2025-09-19T23:00:00",
                    "2025-09-20T00:00:00"
                  ],
                  "xaxis": "x",
                  "yaxis": "y"
                },
                {
                  "hovertemplate": "%{y:.2f}<extra>P<sub>0%</sub></extra>",
                  "marker": {
                    "color": "#ef9b20",
                    "size": 0.00001
                  },
                  "mode": "markers",
                  "type": "scatter",
                  "x": [
                    "2025-09-15T00:00:00",
                    "2025-09-15T01:00:00",
                    "2025-09-15T02:00:00",
                    "2025-09-15T03:00:00",
                    "2025-09-15T04:00:00",
                    "2025-09-15T05:00:00",
                    "2025-09-15T06:00:00",
                    "2025-09-15T07:00:00",
                    "2025-09-15T08:00:00",
                    "2025-09-15T09:00:00",
                    "2025-09-15T10:00:00",
                    "2025-09-15T11:00:00",
                    "2025-09-15T12:00:00",
                    "2025-09-15T13:00:00",
                    "2025-09-15T14:00:00",
                    "2025-09-15T15:00:00",
                    "2025-09-15T16:00:00",
                    "2025-09-15T17:00:00",
                    "2025-09-15T18:00:00",
                    "2025-09-15T19:00:00",
                    "2025-09-15T20:00:00",
                    "2025-09-15T21:00:00",
                    "2025-09-15T22:00:00",
                    "2025-09-15T23:00:00",
                    "2025-09-16T00:00:00",
                    "2025-09-16T01:00:00",
                    "2025-09-16T02:00:00",
                    "2025-09-16T03:00:00",
                    "2025-09-16T04:00:00",
                    "2025-09-16T05:00:00",
                    "2025-09-16T06:00:00",
                    "2025-09-16T07:00:00",
                    "2025-09-16T08:00:00",
                    "2025-09-16T09:00:00",
                    "2025-09-16T10:00:00",
                    "2025-09-16T11:00:00",
                    "2025-09-16T12:00:00",
                    "2025-09-16T13:00:00",
                    "2025-09-16T14:00:00",
                    "2025-09-16T15:00:00",
                    "2025-09-16T16:00:00",
                    "2025-09-16T17:00:00",
                    "2025-09-16T18:00:00",
                    "2025-09-16T19:00:00",
                    "2025-09-16T20:00:00",
                    "2025-09-16T21:00:00",
                    "2025-09-16T22:00:00",
                    "2025-09-16T23:00:00",
                    "2025-09-17T00:00:00",
                    "2025-09-17T01:00:00",
                    "2025-09-17T02:00:00",
                    "2025-09-17T03:00:00",
                    "2025-09-17T04:00:00",
                    "2025-09-17T05:00:00",
                    "2025-09-17T06:00:00",
                    "2025-09-17T07:00:00",
                    "2025-09-17T08:00:00",
                    "2025-09-17T09:00:00",
                    "2025-09-17T10:00:00",
                    "2025-09-17T11:00:00",
                    "2025-09-17T12:00:00",
                    "2025-09-17T13:00:00",
                    "2025-09-17T14:00:00",
                    "2025-09-17T15:00:00",
                    "2025-09-17T16:00:00",
                    "2025-09-17T17:00:00",
                    "2025-09-17T18:00:00",
                    "2025-09-17T19:00:00",
                    "2025-09-17T20:00:00",
                    "2025-09-17T21:00:00",
                    "2025-09-17T22:00:00",
                    "2025-09-17T23:00:00",
                    "2025-09-18T00:00:00",
                    "2025-09-18T01:00:00",
                    "2025-09-18T02:00:00",
                    "2025-09-18T03:00:00",
                    "2025-09-18T04:00:00",
                    "2025-09-18T05:00:00",
                    "2025-09-18T06:00:00",
                    "2025-09-18T07:00:00",
                    "2025-09-18T08:00:00",
                    "2025-09-18T09:00:00",
                    "2025-09-18T10:00:00",
                    "2025-09-18T11:00:00",
                    "2025-09-18T12:00:00",
                    "2025-09-18T13:00:00",
                    "2025-09-18T14:00:00",
                    "2025-09-18T15:00:00",
                    "2025-09-18T16:00:00",
                    "2025-09-18T17:00:00",
                    "2025-09-18T18:00:00",
                    "2025-09-18T19:00:00",
                    "2025-09-18T20:00:00",
                    "2025-09-18T21:00:00",
                    "2025-09-18T22:00:00",
                    "2025-09-18T23:00:00",
                    "2025-09-19T00:00:00",
                    "2025-09-19T01:00:00",
                    "2025-09-19T02:00:00",
                    "2025-09-19T03:00:00",
                    "2025-09-19T04:00:00",
                    "2025-09-19T05:00:00",
                    "2025-09-19T06:00:00",
                    "2025-09-19T07:00:00",
                    "2025-09-19T08:00:00",
                    "2025-09-19T09:00:00",
                    "2025-09-19T10:00:00",
                    "2025-09-19T11:00:00",
                    "2025-09-19T12:00:00",
                    "2025-09-19T13:00:00",
                    "2025-09-19T14:00:00",
                    "2025-09-19T15:00:00",
                    "2025-09-19T16:00:00",
                    "2025-09-19T17:00:00",
                    "2025-09-19T18:00:00",
                    "2025-09-19T19:00:00",
                    "2025-09-19T20:00:00",
                    "2025-09-19T21:00:00",
                    "2025-09-19T22:00:00",
                    "2025-09-19T23:00:00",
                    "2025-09-20T00:00:00"
                  ],
                  "xaxis": "x",
                  "y": {
                    "bdata": "AAAA4EgcckAAAABgkhpyQAAAAMAeFHJAAAAAALIQckAAAAAg0wxyQAAAAGDaCXJAAAAAAPcRckAAAADAli5yQAAAAIC4N3JAAAAAAGtKckAAAADA+FZyQAAAAODManJAAAAAYBuIckAAAABg7IpyQAAAAEDGinJAAAAAoHR4ckAAAABggXZyQAAAAABXV3JAAAAAIDo3ckAAAAAAZS1yQAAAAABTKHJAAAAAgAwgckAAAAAg/hJyQAAAAOBYBnJAAAAAIGb/cUAAAACAf/ZxQAAAAKDa6nFAAAAAoLbhcUAAAAAAJ9lxQAAAACBCzHFAAAAA4N3HcUAAAADAsd9xQAAAACCU8nFAAAAAQAoCckAAAACAOA1yQAAAAAALFXJAAAAAgAYcckAAAAAgzxxyQAAAAIAZIXJAAAAAQMEdckAAAADADBRyQAAAAGB6A3JAAAAAwFfqcUAAAABg7NhxQAAAAEBVynFAAAAA4Ha+cUAAAAAAJ69xQAAAAMANrnFAAAAA4IamcUAAAACAPZ9xQAAAAKD1m3FAAAAAAMiQcUAAAAAg65BxQAAAAKCwjXFAAAAAAEqLcUAAAACAuahxQAAAAECIy3FAAAAAIJDkcUAAAADAI/hxQAAAAOCgBHJAAAAA4CoMckAAAABAuhByQAAAAGANE3JAAAAAAJIUckAAAADg7Q5yQAAAAODaCXJAAAAAYEgFckAAAACgwOtxQAAAAICn3HFAAAAAwH3RcUAAAACgIMlxQAAAAMBwwnFAAAAAIDC8cUAAAACAlLBxQAAAAGDConFAAAAAYPCdcUAAAAAgNX5xQAAAAGDWgXFAAAAAgACAcUAAAACAOoxxQAAAAGA3vXFAAAAA4NsEckAAAAAABzZyQAAAAOAxWnJAAAAAYMtwckAAAABAq3pyQAAAAGDDf3JAAAAAYIZ7ckAAAAAAXm9yQAAAAOD3U3JAAAAAAEsyckAAAAAAaxNyQAAAAKCv/HFAAAAAoBDocUAAAACAitpxQAAAAKBG0HFAAAAAAI7EcUAAAACAx7txQAAAAICFrXFAAAAAgPGKcUAAAAAAsodxQAAAAEDahHFAAAAAQAiMcUAAAABAkaBxQAAAAABvznFAAAAA4G0KckAAAABg5jhyQAAAAED9VXJAAAAAoHtpckAAAABAkndyQAAAAMCdg3JAAAAA4JeIckAAAADgIndyQAAAAOCUYXJAAAAAQOc0ckAAAABgaRFyQAAAAMDFCnJAAAAAwE3+cUAAAAAAbfNxQAAAAMB+2XFAAAAA4OvOcUA=",
                    "dtype": "f8"
                  },
                  "yaxis": "y"
                },
                {
                  "hovertemplate": "%{y:.2f}<extra>P<sub>10%</sub></extra>",
                  "marker": {
                    "color": "#ef9b20",
                    "size": 0.00001
                  },
                  "mode": "markers",
                  "type": "scatter",
                  "x": [
                    "2025-09-15T00:00:00",
                    "2025-09-15T01:00:00",
                    "2025-09-15T02:00:00",
                    "2025-09-15T03:00:00",
                    "2025-09-15T04:00:00",
                    "2025-09-15T05:00:00",
                    "2025-09-15T06:00:00",
                    "2025-09-15T07:00:00",
                    "2025-09-15T08:00:00",
                    "2025-09-15T09:00:00",
                    "2025-09-15T10:00:00",
                    "2025-09-15T11:00:00",
                    "2025-09-15T12:00:00",
                    "2025-09-15T13:00:00",
                    "2025-09-15T14:00:00",
                    "2025-09-15T15:00:00",
                    "2025-09-15T16:00:00",
                    "2025-09-15T17:00:00",
                    "2025-09-15T18:00:00",
                    "2025-09-15T19:00:00",
                    "2025-09-15T20:00:00",
                    "2025-09-15T21:00:00",
                    "2025-09-15T22:00:00",
                    "2025-09-15T23:00:00",
                    "2025-09-16T00:00:00",
                    "2025-09-16T01:00:00",
                    "2025-09-16T02:00:00",
                    "2025-09-16T03:00:00",
                    "2025-09-16T04:00:00",
                    "2025-09-16T05:00:00",
                    "2025-09-16T06:00:00",
                    "2025-09-16T07:00:00",
                    "2025-09-16T08:00:00",
                    "2025-09-16T09:00:00",
                    "2025-09-16T10:00:00",
                    "2025-09-16T11:00:00",
                    "2025-09-16T12:00:00",
                    "2025-09-16T13:00:00",
                    "2025-09-16T14:00:00",
                    "2025-09-16T15:00:00",
                    "2025-09-16T16:00:00",
                    "2025-09-16T17:00:00",
                    "2025-09-16T18:00:00",
                    "2025-09-16T19:00:00",
                    "2025-09-16T20:00:00",
                    "2025-09-16T21:00:00",
                    "2025-09-16T22:00:00",
                    "2025-09-16T23:00:00",
                    "2025-09-17T00:00:00",
                    "2025-09-17T01:00:00",
                    "2025-09-17T02:00:00",
                    "2025-09-17T03:00:00",
                    "2025-09-17T04:00:00",
                    "2025-09-17T05:00:00",
                    "2025-09-17T06:00:00",
                    "2025-09-17T07:00:00",
                    "2025-09-17T08:00:00",
                    "2025-09-17T09:00:00",
                    "2025-09-17T10:00:00",
                    "2025-09-17T11:00:00",
                    "2025-09-17T12:00:00",
                    "2025-09-17T13:00:00",
                    "2025-09-17T14:00:00",
                    "2025-09-17T15:00:00",
                    "2025-09-17T16:00:00",
                    "2025-09-17T17:00:00",
                    "2025-09-17T18:00:00",
                    "2025-09-17T19:00:00",
                    "2025-09-17T20:00:00",
                    "2025-09-17T21:00:00",
                    "2025-09-17T22:00:00",
                    "2025-09-17T23:00:00",
                    "2025-09-18T00:00:00",
                    "2025-09-18T01:00:00",
                    "2025-09-18T02:00:00",
                    "2025-09-18T03:00:00",
                    "2025-09-18T04:00:00",
                    "2025-09-18T05:00:00",
                    "2025-09-18T06:00:00",
                    "2025-09-18T07:00:00",
                    "2025-09-18T08:00:00",
                    "2025-09-18T09:00:00",
                    "2025-09-18T10:00:00",
                    "2025-09-18T11:00:00",
                    "2025-09-18T12:00:00",
                    "2025-09-18T13:00:00",
                    "2025-09-18T14:00:00",
                    "2025-09-18T15:00:00",
                    "2025-09-18T16:00:00",
                    "2025-09-18T17:00:00",
                    "2025-09-18T18:00:00",
                    "2025-09-18T19:00:00",
                    "2025-09-18T20:00:00",
                    "2025-09-18T21:00:00",
                    "2025-09-18T22:00:00",
                    "2025-09-18T23:00:00",
                    "2025-09-19T00:00:00",
                    "2025-09-19T01:00:00",
                    "2025-09-19T02:00:00",
                    "2025-09-19T03:00:00",
                    "2025-09-19T04:00:00",
                    "2025-09-19T05:00:00",
                    "2025-09-19T06:00:00",
                    "2025-09-19T07:00:00",
                    "2025-09-19T08:00:00",
                    "2025-09-19T09:00:00",
                    "2025-09-19T10:00:00",
                    "2025-09-19T11:00:00",
                    "2025-09-19T12:00:00",
                    "2025-09-19T13:00:00",
                    "2025-09-19T14:00:00",
                    "2025-09-19T15:00:00",
                    "2025-09-19T16:00:00",
                    "2025-09-19T17:00:00",
                    "2025-09-19T18:00:00",
                    "2025-09-19T19:00:00",
                    "2025-09-19T20:00:00",
                    "2025-09-19T21:00:00",
                    "2025-09-19T22:00:00",
                    "2025-09-19T23:00:00",
                    "2025-09-20T00:00:00"
                  ],
                  "xaxis": "x",
                  "y": {
                    "bdata": "MzMzo/0eckAAAABQbR1yQM3MzKwDFXJAMzMzs/0RckCamZmplBJyQGZmZhabF3JAAAAAsKEeckCamZnJzjByQJqZmckpQ3JAMzMzo9xYckBmZmaWvGFyQM3MzHwXd3JAmpmZucCOckDNzMyMaZNyQAAAAJAbjXJAzczMbOl/ckAzMzMz4HZyQJqZmSnYYHJAAAAA8N5AckDNzMyMdzJyQM3MzDyGLHJAmpmZ6RQjckCamZkJSRdyQJqZmRl2CnJAZmZmpt8AckAAAADg1fhxQAAAAPBd73FAzczMrOvlcUCamZlpr9pxQAAAADBc0HFAAAAAcOnNcUDNzMz89OFxQAAAACAQ83FAzczMzHsFckDNzMy8phJyQAAAAPATHHJAAAAAANEgckAAAABAoCVyQJqZmVlsJnJAZmZmhlMeckCamZn56BRyQAAAAADOBHJAAAAAQMHtcUCamZkZwNtxQDMzM8My0XFAAAAAgH/BcUCamZlZY7pxQJqZmel0tnFAzczMzHGvcUCamZlZ46pxQDMzMzNAoXFAmpmZaXSecUBmZmYmHpRxQDMzM8PaknFAmpmZmUiOcUDNzMzcUq1xQM3MzJz11XFAZmZmlo/ucUCamZmZ3QNyQGZmZsaGB3JAzczMjJ8PckBmZmbm9BlyQM3MzKxeInJAMzMzY1oockAAAAAw0iZyQDMzMxOzIXJAZmZmhtAQckAzMzMD0PtxQGZmZqbB5HFAMzMzQ4/YcUAAAAAwztBxQAAAANDExnFAMzMzg6q/cUDNzMz8kLVxQDMzMyOgq3FAzczMbAWgcUDNzMz8j5NxQM3MzCyskXFAzczMLD6NcUAAAAAgXJ9xQDMzM3Mn0nFAmpmZafYUckDNzMw8UkByQGZmZnafYXJAzczMjBl1ckBmZmbmjn9yQGZmZsaug3JAzczMvAmBckCamZlpbHVyQM3MzNwKXXJAmpmZ2fI5ckAzMzMz9RlyQM3MzPwWBHJAmpmZ2XLxcUAAAADAW+FxQJqZmemH03FAAAAA0NfIcUCamZlZib9xQGZmZuYAsnFAzczMXMGicUCamZkZuplxQGZmZjYom3FAMzMzc0qTcUDNzMyca6ZxQGZmZsaI1HFAAAAA0JMVckBmZmb2RENyQGZmZqaUZnJAmpmZmbh/ckBmZmYGRJByQGZmZlbVlnJAmpmZqQSUckDNzMysNopyQM3MzOy9bnJAMzMz898/ckDNzMyMRB5yQM3MzPyfE3JAZmZmVt0FckAAAABAi/pxQM3MzLxh6nFAMzMzc+rjcUA=",
                    "dtype": "f8"
                  },
                  "yaxis": "y"
                },
                {
                  "hovertemplate": "%{y:.2f}<extra>P<sub>25%</sub></extra>",
                  "marker": {
                    "color": "#ef9b20",
                    "size": 0.00001
                  },
                  "mode": "markers",
                  "type": "scatter",
                  "x": [
                    "2025-09-15T00:00:00",
                    "2025-09-15T01:00:00",
                    "2025-09-15T02:00:00",
                    "2025-09-15T03:00:00",
                    "2025-09-15T04:00:00",
                    "2025-09-15T05:00:00",
                    "2025-09-15T06:00:00",
                    "2025-09-15T07:00:00",
                    "2025-09-15T08:00:00",
                    "2025-09-15T09:00:00",
                    "2025-09-15T10:00:00",
                    "2025-09-15T11:00:00",
                    "2025-09-15T12:00:00",
                    "2025-09-15T13:00:00",
                    "2025-09-15T14:00:00",
                    "2025-09-15T15:00:00",
                    "2025-09-15T16:00:00",
                    "2025-09-15T17:00:00",
                    "2025-09-15T18:00:00",
                    "2025-09-15T19:00:00",
                    "2025-09-15T20:00:00",
                    "2025-09-15T21:00:00",
                    "2025-09-15T22:00:00",
                    "2025-09-15T23:00:00",
                    "2025-09-16T00:00:00",
                    "2025-09-16T01:00:00",
                    "2025-09-16T02:00:00",
                    "2025-09-16T03:00:00",
                    "2025-09-16T04:00:00",
                    "2025-09-16T05:00:00",
                    "2025-09-16T06:00:00",
                    "2025-09-16T07:00:00",
                    "2025-09-16T08:00:00",
                    "2025-09-16T09:00:00",
                    "2025-09-16T10:00:00",
                    "2025-09-16T11:00:00",
                    "2025-09-16T12:00:00",
                    "2025-09-16T13:00:00",
                    "2025-09-16T14:00:00",
                    "2025-09-16T15:00:00",
                    "2025-09-16T16:00:00",
                    "2025-09-16T17:00:00",
                    "2025-09-16T18:00:00",
                    "2025-09-16T19:00:00",
                    "2025-09-16T20:00:00",
                    "2025-09-16T21:00:00",
                    "2025-09-16T22:00:00",
                    "2025-09-16T23:00:00",
                    "2025-09-17T00:00:00",
                    "2025-09-17T01:00:00",
                    "2025-09-17T02:00:00",
                    "2025-09-17T03:00:00",
                    "2025-09-17T04:00:00",
                    "2025-09-17T05:00:00",
                    "2025-09-17T06:00:00",
                    "2025-09-17T07:00:00",
                    "2025-09-17T08:00:00",
                    "2025-09-17T09:00:00",
                    "2025-09-17T10:00:00",
                    "2025-09-17T11:00:00",
                    "2025-09-17T12:00:00",
                    "2025-09-17T13:00:00",
                    "2025-09-17T14:00:00",
                    "2025-09-17T15:00:00",
                    "2025-09-17T16:00:00",
                    "2025-09-17T17:00:00",
                    "2025-09-17T18:00:00",
                    "2025-09-17T19:00:00",
                    "2025-09-17T20:00:00",
                    "2025-09-17T21:00:00",
                    "2025-09-17T22:00:00",
                    "2025-09-17T23:00:00",
                    "2025-09-18T00:00:00",
                    "2025-09-18T01:00:00",
                    "2025-09-18T02:00:00",
                    "2025-09-18T03:00:00",
                    "2025-09-18T04:00:00",
                    "2025-09-18T05:00:00",
                    "2025-09-18T06:00:00",
                    "2025-09-18T07:00:00",
                    "2025-09-18T08:00:00",
                    "2025-09-18T09:00:00",
                    "2025-09-18T10:00:00",
                    "2025-09-18T11:00:00",
                    "2025-09-18T12:00:00",
                    "2025-09-18T13:00:00",
                    "2025-09-18T14:00:00",
                    "2025-09-18T15:00:00",
                    "2025-09-18T16:00:00",
                    "2025-09-18T17:00:00",
                    "2025-09-18T18:00:00",
                    "2025-09-18T19:00:00",
                    "2025-09-18T20:00:00",
                    "2025-09-18T21:00:00",
                    "2025-09-18T22:00:00",
                    "2025-09-18T23:00:00",
                    "2025-09-19T00:00:00",
                    "2025-09-19T01:00:00",
                    "2025-09-19T02:00:00",
                    "2025-09-19T03:00:00",
                    "2025-09-19T04:00:00",
                    "2025-09-19T05:00:00",
                    "2025-09-19T06:00:00",
                    "2025-09-19T07:00:00",
                    "2025-09-19T08:00:00",
                    "2025-09-19T09:00:00",
                    "2025-09-19T10:00:00",
                    "2025-09-19T11:00:00",
                    "2025-09-19T12:00:00",
                    "2025-09-19T13:00:00",
                    "2025-09-19T14:00:00",
                    "2025-09-19T15:00:00",
                    "2025-09-19T16:00:00",
                    "2025-09-19T17:00:00",
                    "2025-09-19T18:00:00",
                    "2025-09-19T19:00:00",
                    "2025-09-19T20:00:00",
                    "2025-09-19T21:00:00",
                    "2025-09-19T22:00:00",
                    "2025-09-19T23:00:00",
                    "2025-09-20T00:00:00"
                  ],
                  "xaxis": "x",
                  "y": {
                    "bdata": "AAAAqM8gckAAAABAqR5yQAAAAECtGHJAAAAAuLIVckAAAAB41xVyQAAAAMCGHHJAAAAAWOshckAAAACAzjJyQAAAAMD9R3JAAAAA6FhbckAAAAAACWhyQAAAAGAJeHJAAAAAKPORckAAAAC4RJRyQAAAAGBrk3JAAAAA+H6GckAAAACQoHlyQAAAAEj8Y3JAAAAAAO1GckAAAADgzDZyQAAAADCvMHJAAAAAWKklckAAAAAwgx9yQAAAAFBgEXJAAAAAcL8JckAAAABoqwFyQAAAAHCK9nFAAAAAOCXqcUAAAACAhOBxQAAAAJg51nFAAAAA+K/UcUAAAADQ+ORxQAAAACjx9HFAAAAAYMAHckAAAADY1RVyQAAAAACPIHJAAAAAYNsjckAAAAD4PihyQAAAAFDAKHJAAAAAKIwhckAAAABo2xVyQAAAAGBGB3JAAAAAgJHucUAAAADg/d9xQAAAACAr1nFAAAAAMBzMcUAAAACAdMNxQAAAAHhwwXFAAAAAGN23cUAAAAAQDK1xQAAAACjNqXFAAAAASASncUAAAABAXKFxQAAAAOAfmXFAAAAAsCeccUAAAABIVLhxQAAAAIB+2nFAAAAAaFP5cUAAAADA9gdyQAAAADiqF3JAAAAAIDkqckAAAACIUDJyQAAAANCrPHJAAAAAqD9CckAAAAC4ZkByQAAAAECuNHJAAAAA+FgfckAAAAAoIgFyQAAAAIjP73FAAAAAIPjfcUAAAAAYKtVxQAAAAJhUzXFAAAAAMGfEcUAAAAAocrlxQAAAAKDGsXFAAAAAeG6ocUAAAADYrZ1xQAAAAKiTmHFAAAAAODeYcUAAAAD4BqFxQAAAANA13XFAAAAAyMYdckAAAAC4R0dyQAAAALAEZHJAAAAAqMB3ckAAAAAAUoNyQAAAAAguiHJAAAAAQAuIckAAAAAYHX1yQAAAACB0Y3JAAAAA2DNCckAAAAAguyFyQAAAAGDRCHJAAAAAwPL2cUAAAADgJ+RxQAAAALCb13FAAAAASBbLcUAAAAAwNMNxQAAAADhdtHFAAAAAEMyrcUAAAADwIaRxQAAAALjUnnFAAAAAWKKZcUAAAACARK9xQAAAAFBl3nFAAAAAUEwXckAAAAD4W0lyQAAAALiYaHJAAAAAKJ2CckAAAAC45pJyQAAAALCNmnJAAAAAAHqcckAAAABwCphyQAAAACA5e3JAAAAAcIREckAAAACoICpyQAAAAFA7F3JAAAAAqG4KckAAAADwt/1xQAAAAHjC9HFAAAAAkAnmcUA=",
                    "dtype": "f8"
                  },
                  "yaxis": "y"
                },
                {
                  "hovertemplate": "%{y:.2f}<extra>P<sub>50%</sub></extra>",
                  "marker": {
                    "color": "#ef9b20",
                    "size": 0.00001
                  },
                  "mode": "markers",
                  "type": "scatter",
                  "x": [
                    "2025-09-15T00:00:00",
                    "2025-09-15T01:00:00",
                    "2025-09-15T02:00:00",
                    "2025-09-15T03:00:00",
                    "2025-09-15T04:00:00",
                    "2025-09-15T05:00:00",
                    "2025-09-15T06:00:00",
                    "2025-09-15T07:00:00",
                    "2025-09-15T08:00:00",
                    "2025-09-15T09:00:00",
                    "2025-09-15T10:00:00",
                    "2025-09-15T11:00:00",
                    "2025-09-15T12:00:00",
                    "2025-09-15T13:00:00",
                    "2025-09-15T14:00:00",
                    "2025-09-15T15:00:00",
                    "2025-09-15T16:00:00",
                    "2025-09-15T17:00:00",
                    "2025-09-15T18:00:00",
                    "2025-09-15T19:00:00",
                    "2025-09-15T20:00:00",
                    "2025-09-15T21:00:00",
                    "2025-09-15T22:00:00",
                    "2025-09-15T23:00:00",
                    "2025-09-16T00:00:00",
                    "2025-09-16T01:00:00",
                    "2025-09-16T02:00:00",
                    "2025-09-16T03:00:00",
                    "2025-09-16T04:00:00",
                    "2025-09-16T05:00:00",
                    "2025-09-16T06:00:00",
                    "2025-09-16T07:00:00",
                    "2025-09-16T08:00:00",
                    "2025-09-16T09:00:00",
                    "2025-09-16T10:00:00",
                    "2025-09-16T11:00:00",
                    "2025-09-16T12:00:00",
                    "2025-09-16T13:00:00",
                    "2025-09-16T14:00:00",
                    "2025-09-16T15:00:00",
                    "2025-09-16T16:00:00",
                    "2025-09-16T17:00:00",
                    "2025-09-16T18:00:00",
                    "2025-09-16T19:00:00",
                    "2025-09-16T20:00:00",
                    "2025-09-16T21:00:00",
                    "2025-09-16T22:00:00",
                    "2025-09-16T23:00:00",
                    "2025-09-17T00:00:00",
                    "2025-09-17T01:00:00",
                    "2025-09-17T02:00:00",
                    "2025-09-17T03:00:00",
                    "2025-09-17T04:00:00",
                    "2025-09-17T05:00:00",
                    "2025-09-17T06:00:00",
                    "2025-09-17T07:00:00",
                    "2025-09-17T08:00:00",
                    "2025-09-17T09:00:00",
                    "2025-09-17T10:00:00",
                    "2025-09-17T11:00:00",
                    "2025-09-17T12:00:00",
                    "2025-09-17T13:00:00",
                    "2025-09-17T14:00:00",
                    "2025-09-17T15:00:00",
                    "2025-09-17T16:00:00",
                    "2025-09-17T17:00:00",
                    "2025-09-17T18:00:00",
                    "2025-09-17T19:00:00",
                    "2025-09-17T20:00:00",
                    "2025-09-17T21:00:00",
                    "2025-09-17T22:00:00",
                    "2025-09-17T23:00:00",
                    "2025-09-18T00:00:00",
                    "2025-09-18T01:00:00",
                    "2025-09-18T02:00:00",
                    "2025-09-18T03:00:00",
                    "2025-09-18T04:00:00",
                    "2025-09-18T05:00:00",
                    "2025-09-18T06:00:00",
                    "2025-09-18T07:00:00",
                    "2025-09-18T08:00:00",
                    "2025-09-18T09:00:00",
                    "2025-09-18T10:00:00",
                    "2025-09-18T11:00:00",
                    "2025-09-18T12:00:00",
                    "2025-09-18T13:00:00",
                    "2025-09-18T14:00:00",
                    "2025-09-18T15:00:00",
                    "2025-09-18T16:00:00",
                    "2025-09-18T17:00:00",
                    "2025-09-18T18:00:00",
                    "2025-09-18T19:00:00",
                    "2025-09-18T20:00:00",
                    "2025-09-18T21:00:00",
                    "2025-09-18T22:00:00",
                    "2025-09-18T23:00:00",
                    "2025-09-19T00:00:00",
                    "2025-09-19T01:00:00",
                    "2025-09-19T02:00:00",
                    "2025-09-19T03:00:00",
                    "2025-09-19T04:00:00",
                    "2025-09-19T05:00:00",
                    "2025-09-19T06:00:00",
                    "2025-09-19T07:00:00",
                    "2025-09-19T08:00:00",
                    "2025-09-19T09:00:00",
                    "2025-09-19T10:00:00",
                    "2025-09-19T11:00:00",
                    "2025-09-19T12:00:00",
                    "2025-09-19T13:00:00",
                    "2025-09-19T14:00:00",
                    "2025-09-19T15:00:00",
                    "2025-09-19T16:00:00",
                    "2025-09-19T17:00:00",
                    "2025-09-19T18:00:00",
                    "2025-09-19T19:00:00",
                    "2025-09-19T20:00:00",
                    "2025-09-19T21:00:00",
                    "2025-09-19T22:00:00",
                    "2025-09-19T23:00:00",
                    "2025-09-20T00:00:00"
                  ],
                  "xaxis": "x",
                  "y": {
                    "bdata": "AAAAADIickAAAACApyByQAAAAGACG3JAAAAAgOsYckAAAADQUhpyQAAAANBiH3JAAAAAsBckckAAAADQFTVyQAAAAFDjTHJAAAAAADlfckAAAADA9m1yQAAAAAALg3JAAAAAoJiVckAAAAAAHZlyQAAAAFA6l3JAAAAAQLuOckAAAADg0n9yQAAAAMDbaHJAAAAAUKdMckAAAAAQLTlyQAAAAEDRMnJAAAAAgHQqckAAAADwoSRyQAAAAEAAHHJAAAAAsK8PckAAAADgYgVyQAAAADCU+XFAAAAAUJzucUAAAAAABuVxQAAAACD33HFAAAAAACLZcUAAAABwk+hxQAAAAGAW93FAAAAAIAMKckAAAABAexpyQAAAAEA0JHJAAAAAQKwockAAAADwzStyQAAAAND7LHJAAAAAAC4jckAAAABg7BdyQAAAAJD5B3JAAAAAIJXycUAAAACQvONxQAAAAJDb23FAAAAAgBTScUAAAACwr8txQAAAAGBExnFAAAAAkHG+cUAAAABQKLJxQAAAAOCGrXFAAAAAkAGtcUAAAAAQN6ZxQAAAAODXpHFAAAAAEAancUAAAACQl8BxQAAAALB24HFAAAAAAJj9cUAAAABAfBNyQAAAAHBpI3JAAAAAYJY1ckAAAABQiEVyQAAAANB5UHJAAAAAEKtSckAAAACQwE1yQAAAAPBPPXJAAAAAkFsockAAAAAQSA5yQAAAAHDQ+HFAAAAA8OnlcUAAAAAQmtlxQAAAAMD10nFAAAAAgODNcUAAAACQocBxQAAAAGADuHFAAAAA4NyvcUAAAACQfKlxQAAAAABro3FAAAAAwFmicUAAAACQqb1xQAAAADAa83FAAAAA4CUpckAAAADAKldyQAAAAOD1a3JAAAAAYEiDckAAAAAwqpByQAAAALAdlHJAAAAA4L6QckAAAAAgb4VyQAAAAIBbanJAAAAAwIdGckAAAAAQeSlyQAAAALBHEXJAAAAA8Nf9cUAAAADQgOlxQAAAAKCi33FAAAAA4F7UcUAAAACAIcdxQAAAALAOvHFAAAAAYACycUAAAAAglapxQAAAANCConFAAAAA4PGgcUAAAAAQSLlxQAAAAMAG6XFAAAAAwKQjckAAAACwy1JyQAAAAEBHbXJAAAAAwASGckAAAABA7JtyQAAAALDtpnJAAAAAkNKockAAAABg4p9yQAAAAODQgHJAAAAA8F1SckAAAACwJjNyQAAAAOBUIHJAAAAAQPsPckAAAADwhQJyQAAAAKC093FAAAAAoNDscUA=",
                    "dtype": "f8"
                  },
                  "yaxis": "y"
                },
                {
                  "hovertemplate": "%{y:.2f}<extra>P<sub>75%</sub></extra>",
                  "marker": {
                    "color": "#ef9b20",
                    "size": 0.00001
                  },
                  "mode": "markers",
                  "type": "scatter",
                  "x": [
                    "2025-09-15T00:00:00",
                    "2025-09-15T01:00:00",
                    "2025-09-15T02:00:00",
                    "2025-09-15T03:00:00",
                    "2025-09-15T04:00:00",
                    "2025-09-15T05:00:00",
                    "2025-09-15T06:00:00",
                    "2025-09-15T07:00:00",
                    "2025-09-15T08:00:00",
                    "2025-09-15T09:00:00",
                    "2025-09-15T10:00:00",
                    "2025-09-15T11:00:00",
                    "2025-09-15T12:00:00",
                    "2025-09-15T13:00:00",
                    "2025-09-15T14:00:00",
                    "2025-09-15T15:00:00",
                    "2025-09-15T16:00:00",
                    "2025-09-15T17:00:00",
                    "2025-09-15T18:00:00",
                    "2025-09-15T19:00:00",
                    "2025-09-15T20:00:00",
                    "2025-09-15T21:00:00",
                    "2025-09-15T22:00:00",
                    "2025-09-15T23:00:00",
                    "2025-09-16T00:00:00",
                    "2025-09-16T01:00:00",
                    "2025-09-16T02:00:00",
                    "2025-09-16T03:00:00",
                    "2025-09-16T04:00:00",
                    "2025-09-16T05:00:00",
                    "2025-09-16T06:00:00",
                    "2025-09-16T07:00:00",
                    "2025-09-16T08:00:00",
                    "2025-09-16T09:00:00",
                    "2025-09-16T10:00:00",
                    "2025-09-16T11:00:00",
                    "2025-09-16T12:00:00",
                    "2025-09-16T13:00:00",
                    "2025-09-16T14:00:00",
                    "2025-09-16T15:00:00",
                    "2025-09-16T16:00:00",
                    "2025-09-16T17:00:00",
                    "2025-09-16T18:00:00",
                    "2025-09-16T19:00:00",
                    "2025-09-16T20:00:00",
                    "2025-09-16T21:00:00",
                    "2025-09-16T22:00:00",
                    "2025-09-16T23:00:00",
                    "2025-09-17T00:00:00",
                    "2025-09-17T01:00:00",
                    "2025-09-17T02:00:00",
                    "2025-09-17T03:00:00",
                    "2025-09-17T04:00:00",
                    "2025-09-17T05:00:00",
                    "2025-09-17T06:00:00",
                    "2025-09-17T07:00:00",
                    "2025-09-17T08:00:00",
                    "2025-09-17T09:00:00",
                    "2025-09-17T10:00:00",
                    "2025-09-17T11:00:00",
                    "2025-09-17T12:00:00",
                    "2025-09-17T13:00:00",
                    "2025-09-17T14:00:00",
                    "2025-09-17T15:00:00",
                    "2025-09-17T16:00:00",
                    "2025-09-17T17:00:00",
                    "2025-09-17T18:00:00",
                    "2025-09-17T19:00:00",
                    "2025-09-17T20:00:00",
                    "2025-09-17T21:00:00",
                    "2025-09-17T22:00:00",
                    "2025-09-17T23:00:00",
                    "2025-09-18T00:00:00",
                    "2025-09-18T01:00:00",
                    "2025-09-18T02:00:00",
                    "2025-09-18T03:00:00",
                    "2025-09-18T04:00:00",
                    "2025-09-18T05:00:00",
                    "2025-09-18T06:00:00",
                    "2025-09-18T07:00:00",
                    "2025-09-18T08:00:00",
                    "2025-09-18T09:00:00",
                    "2025-09-18T10:00:00",
                    "2025-09-18T11:00:00",
                    "2025-09-18T12:00:00",
                    "2025-09-18T13:00:00",
                    "2025-09-18T14:00:00",
                    "2025-09-18T15:00:00",
                    "2025-09-18T16:00:00",
                    "2025-09-18T17:00:00",
                    "2025-09-18T18:00:00",
                    "2025-09-18T19:00:00",
                    "2025-09-18T20:00:00",
                    "2025-09-18T21:00:00",
                    "2025-09-18T22:00:00",
                    "2025-09-18T23:00:00",
                    "2025-09-19T00:00:00",
                    "2025-09-19T01:00:00",
                    "2025-09-19T02:00:00",
                    "2025-09-19T03:00:00",
                    "2025-09-19T04:00:00",
                    "2025-09-19T05:00:00",
                    "2025-09-19T06:00:00",
                    "2025-09-19T07:00:00",
                    "2025-09-19T08:00:00",
                    "2025-09-19T09:00:00",
                    "2025-09-19T10:00:00",
                    "2025-09-19T11:00:00",
                    "2025-09-19T12:00:00",
                    "2025-09-19T13:00:00",
                    "2025-09-19T14:00:00",
                    "2025-09-19T15:00:00",
                    "2025-09-19T16:00:00",
                    "2025-09-19T17:00:00",
                    "2025-09-19T18:00:00",
                    "2025-09-19T19:00:00",
                    "2025-09-19T20:00:00",
                    "2025-09-19T21:00:00",
                    "2025-09-19T22:00:00",
                    "2025-09-19T23:00:00",
                    "2025-09-20T00:00:00"
                  ],
                  "xaxis": "x",
                  "y": {
                    "bdata": "AAAAQAolckAAAADwuiJyQAAAACDZHnJAAAAAwOgeckAAAACgLiByQAAAACBGJHJAAAAAmA4nckAAAADYeTZyQAAAAPjRTnJAAAAA4AxjckAAAACAhXJyQAAAADCUiXJAAAAA6LmYckAAAACgE5tyQAAAAFhgmXJAAAAA8DiSckAAAABgCYVyQAAAAFDPa3JAAAAAyB9QckAAAADQID9yQAAAABB9NHJAAAAAWF4wckAAAACoHCdyQAAAAKgWH3JAAAAA2KsUckAAAAAIYQhyQAAAAAAS+3FAAAAAgIHxcUAAAACAdudxQAAAAHje3nFAAAAAyHTdcUAAAADQ+OlxQAAAAJgS+nFAAAAAMDQMckAAAAC4Nx1yQAAAADCOKHJAAAAAaKovckAAAADwuS9yQAAAAEgSL3JAAAAA+OYnckAAAADoLhpyQAAAAECVCXJAAAAAAA71cUAAAADg5udxQAAAANjy4XFAAAAAGI/VcUAAAADAGdBxQAAAAKgxyHFAAAAA4CLCcUAAAACwiLhxQAAAAHDmsnFAAAAAYOSucUAAAACQXatxQAAAALD+rHFAAAAA+JCycUAAAABw38dxQAAAACAL6nFAAAAA2A4FckAAAADI3B5yQAAAAGgFLXJAAAAAmDQ+ckAAAAAY30xyQAAAALgpVXJAAAAAsD9bckAAAAA4GFZyQAAAAOATRXJAAAAAIJgwckAAAABIvhVyQAAAANg8/XFAAAAAwMjvcUAAAAAYVOdxQAAAAAij4HFAAAAAmHPZcUAAAADo1dFxQAAAADDkwnFAAAAAsDS7cUAAAADQrrRxQAAAAMjtsHFAAAAAcCm1cUAAAADI69NxQAAAAOAhDHJAAAAAKDg+ckAAAADoRVxyQAAAAOjPd3JAAAAA4CqKckAAAABg0JZyQAAAALiknXJAAAAAyPGZckAAAACQjYxyQAAAAIBJdXJAAAAAsKRRckAAAAAI1C9yQAAAAKhVGnJAAAAAcFAGckAAAAAA/vVxQAAAAAhA6XFAAAAAcNHacUAAAABIdcxxQAAAACjUyHFAAAAAoDm+cUAAAAD4erdxQAAAALA/r3FAAAAAeL+tcUAAAAD4dMFxQAAAADiy8nFAAAAAmOkrckAAAAB4bVhyQAAAANjBeHJAAAAAaKyQckAAAAAQcqFyQAAAABgPrHJAAAAAiHevckAAAADYB6hyQAAAAGA4j3JAAAAAUHtdckAAAADYWDtyQAAAAEDFJ3JAAAAAkLkUckAAAAAg3QhyQAAAAJBhAXJAAAAA6Fn5cUA=",
                    "dtype": "f8"
                  },
                  "yaxis": "y"
                },
                {
                  "hovertemplate": "%{y:.2f}<extra>P<sub>90%</sub></extra>",
                  "marker": {
                    "color": "#ef9b20",
                    "size": 0.00001
                  },
                  "mode": "markers",
                  "type": "scatter",
                  "x": [
                    "2025-09-15T00:00:00",
                    "2025-09-15T01:00:00",
                    "2025-09-15T02:00:00",
                    "2025-09-15T03:00:00",
                    "2025-09-15T04:00:00",
                    "2025-09-15T05:00:00",
                    "2025-09-15T06:00:00",
                    "2025-09-15T07:00:00",
                    "2025-09-15T08:00:00",
                    "2025-09-15T09:00:00",
                    "2025-09-15T10:00:00",
                    "2025-09-15T11:00:00",
                    "2025-09-15T12:00:00",
                    "2025-09-15T13:00:00",
                    "2025-09-15T14:00:00",
                    "2025-09-15T15:00:00",
                    "2025-09-15T16:00:00",
                    "2025-09-15T17:00:00",
                    "2025-09-15T18:00:00",
                    "2025-09-15T19:00:00",
                    "2025-09-15T20:00:00",
                    "2025-09-15T21:00:00",
                    "2025-09-15T22:00:00",
                    "2025-09-15T23:00:00",
                    "2025-09-16T00:00:00",
                    "2025-09-16T01:00:00",
                    "2025-09-16T02:00:00",
                    "2025-09-16T03:00:00",
                    "2025-09-16T04:00:00",
                    "2025-09-16T05:00:00",
                    "2025-09-16T06:00:00",
                    "2025-09-16T07:00:00",
                    "2025-09-16T08:00:00",
                    "2025-09-16T09:00:00",
                    "2025-09-16T10:00:00",
                    "2025-09-16T11:00:00",
                    "2025-09-16T12:00:00",
                    "2025-09-16T13:00:00",
                    "2025-09-16T14:00:00",
                    "2025-09-16T15:00:00",
                    "2025-09-16T16:00:00",
                    "2025-09-16T17:00:00",
                    "2025-09-16T18:00:00",
                    "2025-09-16T19:00:00",
                    "2025-09-16T20:00:00",
                    "2025-09-16T21:00:00",
                    "2025-09-16T22:00:00",
                    "2025-09-16T23:00:00",
                    "2025-09-17T00:00:00",
                    "2025-09-17T01:00:00",
                    "2025-09-17T02:00:00",
                    "2025-09-17T03:00:00",
                    "2025-09-17T04:00:00",
                    "2025-09-17T05:00:00",
                    "2025-09-17T06:00:00",
                    "2025-09-17T07:00:00",
                    "2025-09-17T08:00:00",
                    "2025-09-17T09:00:00",
                    "2025-09-17T10:00:00",
                    "2025-09-17T11:00:00",
                    "2025-09-17T12:00:00",
                    "2025-09-17T13:00:00",
                    "2025-09-17T14:00:00",
                    "2025-09-17T15:00:00",
                    "2025-09-17T16:00:00",
                    "2025-09-17T17:00:00",
                    "2025-09-17T18:00:00",
                    "2025-09-17T19:00:00",
                    "2025-09-17T20:00:00",
                    "2025-09-17T21:00:00",
                    "2025-09-17T22:00:00",
                    "2025-09-17T23:00:00",
                    "2025-09-18T00:00:00",
                    "2025-09-18T01:00:00",
                    "2025-09-18T02:00:00",
                    "2025-09-18T03:00:00",
                    "2025-09-18T04:00:00",
                    "2025-09-18T05:00:00",
                    "2025-09-18T06:00:00",
                    "2025-09-18T07:00:00",
                    "2025-09-18T08:00:00",
                    "2025-09-18T09:00:00",
                    "2025-09-18T10:00:00",
                    "2025-09-18T11:00:00",
                    "2025-09-18T12:00:00",
                    "2025-09-18T13:00:00",
                    "2025-09-18T14:00:00",
                    "2025-09-18T15:00:00",
                    "2025-09-18T16:00:00",
                    "2025-09-18T17:00:00",
                    "2025-09-18T18:00:00",
                    "2025-09-18T19:00:00",
                    "2025-09-18T20:00:00",
                    "2025-09-18T21:00:00",
                    "2025-09-18T22:00:00",
                    "2025-09-18T23:00:00",
                    "2025-09-19T00:00:00",
                    "2025-09-19T01:00:00",
                    "2025-09-19T02:00:00",
                    "2025-09-19T03:00:00",
                    "2025-09-19T04:00:00",
                    "2025-09-19T05:00:00",
                    "2025-09-19T06:00:00",
                    "2025-09-19T07:00:00",
                    "2025-09-19T08:00:00",
                    "2025-09-19T09:00:00",
                    "2025-09-19T10:00:00",
                    "2025-09-19T11:00:00",
                    "2025-09-19T12:00:00",
                    "2025-09-19T13:00:00",
                    "2025-09-19T14:00:00",
                    "2025-09-19T15:00:00",
                    "2025-09-19T16:00:00",
                    "2025-09-19T17:00:00",
                    "2025-09-19T18:00:00",
                    "2025-09-19T19:00:00",
                    "2025-09-19T20:00:00",
                    "2025-09-19T21:00:00",
                    "2025-09-19T22:00:00",
                    "2025-09-19T23:00:00",
                    "2025-09-20T00:00:00"
                  ],
                  "xaxis": "x",
                  "y": {
                    "bdata": "zczMjMwnckCamZk52CZyQAAAADCSInJAAAAAsEAhckAAAABQ3iRyQM3MzOz+JnJAzczMHFMockCamZmJTTdyQM3MzOwkUXJAmpmZmVBkckBmZmamKXZyQDMzM6OUi3JAmpmZWX6ZckDNzMwM+ZxyQJqZmRnRm3JAAAAAIN6UckBmZmameodyQAAAAGDCbHJAZmZm9gJVckCamZk5X0RyQAAAAKAmN3JAmpmZSWYyckBmZma2/SpyQDMzM9NSIXJAAAAAMAcZckCamZk5/gxyQDMzM2Og/nFAZmZm5mzycUCamZn50+hxQM3MzGwf4HFAAAAAUO/ecUAzMzODjuxxQM3MzJzg+3FAmpmZWT4OckCamZkJyR9yQJqZmSlWKnJAzczMjKsxckCamZn57zNyQJqZmWndMHJAzczMTF8pckDNzMzcfB5yQAAAAID5CnJAzczMnIX3cUAAAAAQ6+lxQJqZmUmc5XFAZmZmttbecUCamZlpg9ZxQM3MzBym0nFAAAAA4AnIcUDNzMysXrxxQAAAAOBlt3FAZmZmdmGycUDNzMzcFrRxQDMzM8PntXFAAAAAkKK+cUAzMzOTGs9xQDMzMyM863FAmpmZmUEPckAzMzMT6SRyQM3MzLzFO3JAZmZmRupLckCamZk5KWByQAAAANB3aHJAZmZmZiZqckAAAAAgzGFyQM3MzCzdT3JAZmZmJkY0ckAzMzOTEhpyQJqZmRmTAXJAZmZm1lnycUDNzMysz/BxQDMzMyPC5nFAMzMzAyrmcUBmZmZG1thxQGZmZjYYynFAmpmZmS6+cUBmZmZGb7lxQM3MzPzMs3FAAAAAgFW6cUCamZkpWNhxQAAAACBcE3JAmpmZyQpEckAAAACwEGJyQAAAAOBBenJAAAAA4DWOckBmZmbGH5lyQDMzM1PEn3JAMzMzY7qeckAzMzMz4ZJyQGZmZsa/d3JAzczMHEZVckCamZm5NzNyQDMzM3PVHXJAMzMzAwgPckAzMzMTdPtxQJqZmWnk8HFAAAAAIIbhcUDNzMxMe9RxQDMzMxP+ynFAmpmZiVXBcUAzMzNjXb5xQM3MzCyztnFAMzMzQwi1cUAzMzOzxM1xQM3MzIyA+nFAmpmZ6QcyckDNzMwcglpyQGZmZgYdfHJAmpmZOX2UckAAAADANKlyQM3MzCwZs3JAZmZmhj24ckAzMzMzebNyQM3MzMy9lXJAzczMrA1rckCamZmZCEtyQJqZmVneOXJAMzMz87YsckBmZmaWEiByQAAAAGAtF3JAmpmZiRUQckA=",
                    "dtype": "f8"
                  },
                  "yaxis": "y"
                },
                {
                  "hovertemplate": "%{y:.2f}<extra>P<sub>100%</sub></extra>",
                  "marker": {
                    "color": "#ef9b20",
                    "size": 0.00001
                  },
                  "mode": "markers",
                  "type": "scatter",
                  "x": [
                    "2025-09-15T00:00:00",
                    "2025-09-15T01:00:00",
                    "2025-09-15T02:00:00",
                    "2025-09-15T03:00:00",
                    "2025-09-15T04:00:00",
                    "2025-09-15T05:00:00",
                    "2025-09-15T06:00:00",
                    "2025-09-15T07:00:00",
                    "2025-09-15T08:00:00",
                    "2025-09-15T09:00:00",
                    "2025-09-15T10:00:00",
                    "2025-09-15T11:00:00",
                    "2025-09-15T12:00:00",
                    "2025-09-15T13:00:00",
                    "2025-09-15T14:00:00",
                    "2025-09-15T15:00:00",
                    "2025-09-15T16:00:00",
                    "2025-09-15T17:00:00",
                    "2025-09-15T18:00:00",
                    "2025-09-15T19:00:00",
                    "2025-09-15T20:00:00",
                    "2025-09-15T21:00:00",
                    "2025-09-15T22:00:00",
                    "2025-09-15T23:00:00",
                    "2025-09-16T00:00:00",
                    "2025-09-16T01:00:00",
                    "2025-09-16T02:00:00",
                    "2025-09-16T03:00:00",
                    "2025-09-16T04:00:00",
                    "2025-09-16T05:00:00",
                    "2025-09-16T06:00:00",
                    "2025-09-16T07:00:00",
                    "2025-09-16T08:00:00",
                    "2025-09-16T09:00:00",
                    "2025-09-16T10:00:00",
                    "2025-09-16T11:00:00",
                    "2025-09-16T12:00:00",
                    "2025-09-16T13:00:00",
                    "2025-09-16T14:00:00",
                    "2025-09-16T15:00:00",
                    "2025-09-16T16:00:00",
                    "2025-09-16T17:00:00",
                    "2025-09-16T18:00:00",
                    "2025-09-16T19:00:00",
                    "2025-09-16T20:00:00",
                    "2025-09-16T21:00:00",
                    "2025-09-16T22:00:00",
                    "2025-09-16T23:00:00",
                    "2025-09-17T00:00:00",
                    "2025-09-17T01:00:00",
                    "2025-09-17T02:00:00",
                    "2025-09-17T03:00:00",
                    "2025-09-17T04:00:00",
                    "2025-09-17T05:00:00",
                    "2025-09-17T06:00:00",
                    "2025-09-17T07:00:00",
                    "2025-09-17T08:00:00",
                    "2025-09-17T09:00:00",
                    "2025-09-17T10:00:00",
                    "2025-09-17T11:00:00",
                    "2025-09-17T12:00:00",
                    "2025-09-17T13:00:00",
                    "2025-09-17T14:00:00",
                    "2025-09-17T15:00:00",
                    "2025-09-17T16:00:00",
                    "2025-09-17T17:00:00",
                    "2025-09-17T18:00:00",
                    "2025-09-17T19:00:00",
                    "2025-09-17T20:00:00",
                    "2025-09-17T21:00:00",
                    "2025-09-17T22:00:00",
                    "2025-09-17T23:00:00",
                    "2025-09-18T00:00:00",
                    "2025-09-18T01:00:00",
                    "2025-09-18T02:00:00",
                    "2025-09-18T03:00:00",
                    "2025-09-18T04:00:00",
                    "2025-09-18T05:00:00",
                    "2025-09-18T06:00:00",
                    "2025-09-18T07:00:00",
                    "2025-09-18T08:00:00",
                    "2025-09-18T09:00:00",
                    "2025-09-18T10:00:00",
                    "2025-09-18T11:00:00",
                    "2025-09-18T12:00:00",
                    "2025-09-18T13:00:00",
                    "2025-09-18T14:00:00",
                    "2025-09-18T15:00:00",
                    "2025-09-18T16:00:00",
                    "2025-09-18T17:00:00",
                    "2025-09-18T18:00:00",
                    "2025-09-18T19:00:00",
                    "2025-09-18T20:00:00",
                    "2025-09-18T21:00:00",
                    "2025-09-18T22:00:00",
                    "2025-09-18T23:00:00",
                    "2025-09-19T00:00:00",
                    "2025-09-19T01:00:00",
                    "2025-09-19T02:00:00",
                    "2025-09-19T03:00:00",
                    "2025-09-19T04:00:00",
                    "2025-09-19T05:00:00",
                    "2025-09-19T06:00:00",
                    "2025-09-19T07:00:00",
                    "2025-09-19T08:00:00",
                    "2025-09-19T09:00:00",
                    "2025-09-19T10:00:00",
                    "2025-09-19T11:00:00",
                    "2025-09-19T12:00:00",
                    "2025-09-19T13:00:00",
                    "2025-09-19T14:00:00",
                    "2025-09-19T15:00:00",
                    "2025-09-19T16:00:00",
                    "2025-09-19T17:00:00",
                    "2025-09-19T18:00:00",
                    "2025-09-19T19:00:00",
                    "2025-09-19T20:00:00",
                    "2025-09-19T21:00:00",
                    "2025-09-19T22:00:00",
                    "2025-09-19T23:00:00",
                    "2025-09-20T00:00:00"
                  ],
                  "xaxis": "x",
                  "y": {
                    "bdata": "AAAAoN8pckAAAADAiSpyQAAAAKC9I3JAAAAAwGIlckAAAABAtShyQAAAAKC7KnJAAAAAoMUsckAAAADA/jxyQAAAACAPUnJAAAAA4ANqckAAAADgjnpyQAAAAKAJj3JAAAAAwKGcckAAAAAgL55yQAAAAAA0n3JAAAAAIDyWckAAAAAAEYhyQAAAAOByb3JAAAAAQCtWckAAAADAPUZyQAAAAIB4PnJAAAAAgFU4ckAAAABg7i5yQAAAACCXJHJAAAAAIAkickAAAACA0Q9yQAAAAED7AnJAAAAAAFL1cUAAAADAO+txQAAAAEBH5nFAAAAAwEDlcUAAAABgo/BxQAAAAODo/XFAAAAAoGgQckAAAACAGiJyQAAAAADcLHJAAAAAALozckAAAADAejhyQAAAAKDnM3JAAAAAgDgrckAAAAAAZiNyQAAAACDCD3JAAAAAwPL4cUAAAADgrfFxQAAAAKDE6XFAAAAAAE3lcUAAAADAIt5xQAAAAKBT1XFAAAAAoDnPcUAAAADgOMpxQAAAAODIwXFAAAAAYNm2cUAAAABglbVxQAAAAOCjuHFAAAAAYDXAcUAAAACAPdZxQAAAAAA+8HFAAAAAQOAWckAAAABgGDFyQAAAAGDJRXJAAAAAYE9ackAAAACAzmdyQAAAACBOc3JAAAAAwJNyckAAAAAAT2lyQAAAAMBzVXJAAAAAYMQ9ckAAAADAqx1yQAAAAIDjD3JAAAAAwOQEckAAAAAgsQByQAAAAGB5+HFAAAAAYP/tcUAAAABgguZxQAAAAOBP4XFAAAAAAPvZcUAAAADAxc9xQAAAAGAKyHFAAAAAYIfJcUAAAADANeNxQAAAAOAfFnJAAAAAwPJFckAAAADALWpyQAAAAICVgXJAAAAAAD6QckAAAAAAY5xyQAAAACBZoXJAAAAAgLaickAAAABAQpVyQAAAAODCe3JAAAAAYABdckAAAADgHzhyQAAAACDBIHJAAAAAgJ8VckAAAADgYQVyQAAAAOBt83FAAAAAYJLncUAAAADg9d9xQAAAAEBd2HFAAAAA4LPNcUAAAADAgstxQAAAAEAdwnFAAAAA4DfHcUAAAADgOdFxQAAAAABtBXJAAAAAwNw4ckAAAABAj11yQAAAAGBqg3JAAAAAwNCickAAAACAnLdyQAAAAODzx3JAAAAAAPfHckAAAADgfr1yQAAAAIDzpnJAAAAA4JxxckAAAACAQVNyQAAAAAD8Q3JAAAAA4Ec5ckAAAAAgHDxyQAAAAOB7PnJAAAAAYLE0ckA=",
                    "dtype": "f8"
                  },
                  "yaxis": "y"
                },
                {
                  "line": {
                    "color": "grey"
                  },
                  "name": "mean",
                  "type": "scatter",
                  "x": [
                    "2025-09-15T00:00:00",
                    "2025-09-15T01:00:00",
                    "2025-09-15T02:00:00",
                    "2025-09-15T03:00:00",
                    "2025-09-15T04:00:00",
                    "2025-09-15T05:00:00",
                    "2025-09-15T06:00:00",
                    "2025-09-15T07:00:00",
                    "2025-09-15T08:00:00",
                    "2025-09-15T09:00:00",
                    "2025-09-15T10:00:00",
                    "2025-09-15T11:00:00",
                    "2025-09-15T12:00:00",
                    "2025-09-15T13:00:00",
                    "2025-09-15T14:00:00",
                    "2025-09-15T15:00:00",
                    "2025-09-15T16:00:00",
                    "2025-09-15T17:00:00",
                    "2025-09-15T18:00:00",
                    "2025-09-15T19:00:00",
                    "2025-09-15T20:00:00",
                    "2025-09-15T21:00:00",
                    "2025-09-15T22:00:00",
                    "2025-09-15T23:00:00",
                    "2025-09-16T00:00:00",
                    "2025-09-16T01:00:00",
                    "2025-09-16T02:00:00",
                    "2025-09-16T03:00:00",
                    "2025-09-16T04:00:00",
                    "2025-09-16T05:00:00",
                    "2025-09-16T06:00:00",
                    "2025-09-16T07:00:00",
                    "2025-09-16T08:00:00",
                    "2025-09-16T09:00:00",
                    "2025-09-16T10:00:00",
                    "2025-09-16T11:00:00",
                    "2025-09-16T12:00:00",
                    "2025-09-16T13:00:00",
                    "2025-09-16T14:00:00",
                    "2025-09-16T15:00:00",
                    "2025-09-16T16:00:00",
                    "2025-09-16T17:00:00",
                    "2025-09-16T18:00:00",
                    "2025-09-16T19:00:00",
                    "2025-09-16T20:00:00",
                    "2025-09-16T21:00:00",
                    "2025-09-16T22:00:00",
                    "2025-09-16T23:00:00",
                    "2025-09-17T00:00:00",
                    "2025-09-17T01:00:00",
                    "2025-09-17T02:00:00",
                    "2025-09-17T03:00:00",
                    "2025-09-17T04:00:00",
                    "2025-09-17T05:00:00",
                    "2025-09-17T06:00:00",
                    "2025-09-17T07:00:00",
                    "2025-09-17T08:00:00",
                    "2025-09-17T09:00:00",
                    "2025-09-17T10:00:00",
                    "2025-09-17T11:00:00",
                    "2025-09-17T12:00:00",
                    "2025-09-17T13:00:00",
                    "2025-09-17T14:00:00",
                    "2025-09-17T15:00:00",
                    "2025-09-17T16:00:00",
                    "2025-09-17T17:00:00",
                    "2025-09-17T18:00:00",
                    "2025-09-17T19:00:00",
                    "2025-09-17T20:00:00",
                    "2025-09-17T21:00:00",
                    "2025-09-17T22:00:00",
                    "2025-09-17T23:00:00",
                    "2025-09-18T00:00:00",
                    "2025-09-18T01:00:00",
                    "2025-09-18T02:00:00",
                    "2025-09-18T03:00:00",
                    "2025-09-18T04:00:00",
                    "2025-09-18T05:00:00",
                    "2025-09-18T06:00:00",
                    "2025-09-18T07:00:00",
                    "2025-09-18T08:00:00",
                    "2025-09-18T09:00:00",
                    "2025-09-18T10:00:00",
                    "2025-09-18T11:00:00",
                    "2025-09-18T12:00:00",
                    "2025-09-18T13:00:00",
                    "2025-09-18T14:00:00",
                    "2025-09-18T15:00:00",
                    "2025-09-18T16:00:00",
                    "2025-09-18T17:00:00",
                    "2025-09-18T18:00:00",
                    "2025-09-18T19:00:00",
                    "2025-09-18T20:00:00",
                    "2025-09-18T21:00:00",
                    "2025-09-18T22:00:00",
                    "2025-09-18T23:00:00",
                    "2025-09-19T00:00:00",
                    "2025-09-19T01:00:00",
                    "2025-09-19T02:00:00",
                    "2025-09-19T03:00:00",
                    "2025-09-19T04:00:00",
                    "2025-09-19T05:00:00",
                    "2025-09-19T06:00:00",
                    "2025-09-19T07:00:00",
                    "2025-09-19T08:00:00",
                    "2025-09-19T09:00:00",
                    "2025-09-19T10:00:00",
                    "2025-09-19T11:00:00",
                    "2025-09-19T12:00:00",
                    "2025-09-19T13:00:00",
                    "2025-09-19T14:00:00",
                    "2025-09-19T15:00:00",
                    "2025-09-19T16:00:00",
                    "2025-09-19T17:00:00",
                    "2025-09-19T18:00:00",
                    "2025-09-19T19:00:00",
                    "2025-09-19T20:00:00",
                    "2025-09-19T21:00:00",
                    "2025-09-19T22:00:00",
                    "2025-09-19T23:00:00",
                    "2025-09-20T00:00:00"
                  ],
                  "y": {
                    "bdata": "ZmZm7vkickCamZlJjiFyQAAAAMCsG3JAzczM3OYZckCamZnBAxtyQAAAABi2HnJAmpmZyWojckCamZmpxTRyQDMzM1ufSnJAAAAACJpeckBmZmZmxGxyQM3MzJx2gXJAZmZmFm6UckDNzMyE0pdyQAAAAJDTlXJAzczMJPGLckAzMzMrVn9yQAAAAMhWZ3JAzczMbARLckAzMzOzYzpyQAAAAOBlMnJAAAAA0D8rckAzMzNzuyJyQJqZmbmpGHJAmpmZKSYPckAzMzOjdQRyQDMzM7Mv+HFAMzMzY3btcUAzMzNzkuNxQGZmZi502nFAzczMlFLYcUDNzMzsxOdxQGZmZr6U93FAMzMzY7oJckAAAAAobhlyQDMzM1PeI3JAzczMrAkpckDNzMwE8ityQM3MzGy3K3JAmpmZkf8jckDNzMyk6hhyQM3MzIw9CHJAZmZmvj3ycUAAAADQuONxQGZmZo6523FAMzMzQzbRcUAzMzMLEMpxQDMzM8PQxHFAmpmZybW8cUDNzMw8P7NxQAAAAJAHrnFAMzMzi+mpcUBmZmb2vaVxQM3MzCR1o3FAAAAA+OGmcUCamZk5t79xQM3MzLw44XFAzczMtL3+cUAzMzNLahNyQM3MzLztIXJAmpmZEZsyckDNzMz0HkByQJqZmcHDSXJAmpmZUSBNckBmZmYeCUlyQDMzMxMfO3JAmpmZwdglckAAAACAWAtyQAAAADBY9nFAZmZmfkPncUAzMzMrTN5xQGZmZkbi1nFAzczMfPbPcUDNzMz0a8VxQGZmZv6UunFAzczMTOGxcUBmZmY+a6hxQM3MzCzfo3FAzczM3JOjcUAAAAAwyLtxQM3MzLQQ8nFAMzMz48YrckCamZl5NlNyQM3MzOw+bnJAzczMbMuBckCamZmBlo1yQM3MzPTMknJAzczMLKOQckDNzMw0T4VyQJqZmZFKanJAzczMlIZIckCamZlhIyhyQGZmZiZUEXJAAAAA2M3+cUAAAAAAfu1xQAAAAKgu4XFAzczMXJbUcUBmZmZOQslxQGZmZpYFvnFAAAAAAB2zcUAzMzNLP6xxQJqZmVkNpnFAmpmZkfqjcUAzMzOzXrlxQGZmZoZE6HFAMzMz04whckCamZkR3k9yQJqZmXmmb3JAZmZmJj+IckAzMzNL+JpyQM3MzJyLpXJAmpmZgYanckAzMzMruJ9yQDMzMxsrg3JAzczMPP9SckDNzMwsmzNyQAAAACCIInJAZmZmLroTckDNzMwUWQhyQGZmZlbp/XFAZmZmZiz0cUA=",
                    "dtype": "f8"
                  }
                },
                {
                  "fillcolor": "#B1B6FC",
                  "hoverinfo": "skip",
                  "line": {
                    "color": "#27aeef"
                  },
                  "lowerfence": {
                    "bdata": "AAAAQA4IckAAAACwawdyQAAAAKAZB3JAAAAAIEkEckAAAABAOQNyQAAAAOC9BXJAAAAAIMUPckAAAABQ1iNyQAAAANC8L3JAAAAAQJNMckAAAADwmGlyQAAAAIB8dnJAAAAAIHRvckAAAACwzHJyQAAAACBoYHJAAAAAYBRWckAAAABA2jVyQAAAAKDzJ3JAAAAAMPoTckAAAACgPxByQAAAAFAFCXJAAAAAcCAFckAAAABA1vxxQAAAAHBe+XFAAAAAYHLvcUAAAADw3+ZxQAAAAGBZ3XFAAAAAQIDVcUAAAADwDdBxQAAAAKBbw3FAAAAAkFHLcUAAAACws99xQAAAANAG6XFAAAAAQMnycUAAAAAAgwZyQAAAAABREHJAAAAA0NATckAAAACgBBNyQAAAACBgDXJAAAAA0Cz+cUAAAADQPvhxQAAAAJCs6nFAAAAAEAnecUAAAAAwE9FxQAAAAFCyy3FAAAAAgA3GcUAAAACA7L9xQAAAAPBuuXFAAAAAkJuxcUAAAACAhKpxQAAAAKCLpHFAAAAAQCabcUAAAACwVJVxQAAAAACSi3FAAAAAMP6TcUAAAABQYL1xQAAAAHDo0nFAAAAA8AHZcUAAAACwyeRxQAAAALBd8XFAAAAA4O/vcUAAAABAGfpxQAAAAJBsBHJAAAAAsJYTckAAAACwLRRyQAAAAKD9BXJAAAAAcLjlcUAAAAAwnt1xQAAAAGAA3nFAAAAAQAHTcUAAAADghNBxQAAAAHDBzXFAAAAAUA3HcUAAAADQJL5xQAAAAPB4uHFAAAAAcNixcUAAAACgUq1xQAAAAKApqHFAAAAAkBu2cUAAAABgl85xQAAAABDU53FAAAAA4O8SckAAAABgXTtyQAAAAOCmUHJAAAAAAP1dckAAAACQrmdyQAAAABAPbXJAAAAAIF1tckAAAABAGGZyQAAAABAFQ3JAAAAAMCAlckAAAACQa/FxQAAAAPDCvHFAAAAAQFWecUAAAACQ7KlxQAAAALCLFHJAAAAAkL5ockAAAACQWoVyQAAAAICsM3JAAAAAgEAFckAAAACQielxQAAAAKAC03FAAAAAQEXScUAAAABwNyhyQAAAALDHdHJAAAAAUAFfckAAAADAOB5yQAAAAPD9BnJAAAAAAIT3cUAAAACQtsJxQAAAALCs4HFA",
                    "dtype": "f8"
                  },
                  "median": {
                    "bdata": "AAAA4KgbckAAAAA45hhyQAAAALBSF3JAAAAAKDMRckAAAABgsRRyQAAAAHCsFHJAAAAAWAsZckAAAAAosixyQAAAAAhNQ3JAAAAAwCVbckAAAACgInFyQAAAACipgHJAAAAAmAuHckAAAAC41oZyQAAAALjwg3JAAAAAWJV7ckAAAADQEV1yQAAAAPiSRHJAAAAAKAQtckAAAACwzyNyQAAAAECUFnJAAAAASIkRckAAAAA4mgxyQAAAAJh+BnJAAAAAgOIBckAAAAA4LPtxQAAAALgZ8nFAAAAAgCPrcUAAAACAaeNxQAAAABAv23FAAAAAQB3dcUAAAAAoc+pxQAAAAFCe93FAAAAAIBEGckAAAAB47RdyQAAAAKAjJXJAAAAAgDQtckAAAAAABS9yQAAAAAhZJXJAAAAAWJgSckAAAAAgvQVyQAAAAFA++HFAAAAACDfrcUAAAABop+JxQAAAAOjV3XFAAAAAMPLWcUAAAACYV9BxQAAAAHDty3FAAAAAkAHHcUAAAACoUcJxQAAAAADFvXFAAAAAyES4cUAAAABQnrFxQAAAAPgZrXFAAAAAeFS9cUAAAACYvddxQAAAAHgV8nFAAAAAwC8EckAAAADIPxJyQAAAAEjIHnJAAAAAiGwrckAAAABwpzVyQAAAAPBePXJAAAAAmB5BckAAAABY4TxyQAAAAAhqKnJAAAAAmOoOckAAAAC4eQJyQAAAAMCS83FAAAAAoKzqcUAAAAAAteNxQAAAACAL3HFAAAAAGM7UcUAAAAAgb85xQAAAABByyXFAAAAA4IfEcUAAAABYh8BxQAAAAPj0unFAAAAA+GTKcUAAAACYrOxxQAAAANiWFXJAAAAA0FY3ckAAAACgt1FyQAAAAHi6ZXJAAAAAWOt1ckAAAAAIMYByQAAAALBig3JAAAAAoIiAckAAAAAgcnhyQAAAABDfVHJAAAAAaBoyckAAAACw3wxyQAAAANDZ5nFAAAAAiDvGcUAAAAAQhcRxQAAAAPAJMXJAAAAACKSBckAAAADoG5VyQAAAAOj0RXJAAAAAeLkZckAAAACAOwRyQAAAAFjK9XFAAAAAsCjzcUAAAADQ0E9yQAAAAOCBonJAAAAA+MSxckAAAABIW19yQAAAABi6NnJAAAAAQEQdckAAAABgVA1yQAAAABjGnnJA",
                    "dtype": "f8"
                  },
                  "q1": {
                    "bdata": "mpmZcSgOckBmZmYmqhByQJqZmekfDnJAAAAA6DIKckAAAABY6QlyQAAAAEDMC3JAZmZmnjISckBmZmYWFilyQGZmZgYfPnJAmpmZkVtUckDNzMy0WW1yQJqZmfGCenJAAAAAMBx+ckAzMzODb3xyQJqZmXmvenJAmpmZ+QxmckAAAABYMkpyQAAAAMCxNXJAzczMZCEcckAAAAAQTBVyQAAAALiCD3JAMzMzg5YLckAzMzObbQdyQDMzM0uR/3FAAAAA8Pb4cUBmZmbOJvJxQGZmZqbL6HFAZmZmTobdcUAzMzNzINRxQDMzM6OvzHFAAAAAwBbTcUCamZkBKuNxQJqZmbk68HFAZmZmVq4AckDNzMxcTQ9yQJqZmUEzG3JAmpmZoS0ickDNzMyERyFyQGZmZu5WGXJAMzMzE6EKckAzMzMzovxxQAAAAHCP8XFAzczM/I7hcUDNzMw81dhxQAAAABiV0XFAmpmZiRnLcUAzMzM7u8VxQDMzM5tbwXFAzczM1DC7cUAAAAC4ubVxQAAAADADr3FAAAAAsGymcUAzMzPL6Z9xQJqZmcEenHFAmpmZibSmcUCamZnB6sdxQDMzMxOY4XFAAAAA6HrvcUDNzMyUMflxQGZmZtYAB3JAZmZmTksQckCamZn5rRtyQAAAAEj1J3JAzczMZHEsckCamZnZeypyQAAAADCAGHJAMzMzC7n/cUAAAAC4wvFxQJqZmYnW5nFAmpmZQczgcUAAAAB4z9dxQJqZmTEi0XFAZmZmPmnLcUDNzMy8JsRxQGZmZl73vXFAmpmZKS27cUBmZma+lrJxQJqZmQGJsXFAMzMzEx67cUAAAAAAPdhxQJqZmbkK/HFAAAAAyG8gckDNzMw8BUJyQDMzM3udW3JAmpmZUR1qckCamZmJvnNyQM3MzFzueHJAAAAAyLZ2ckDNzMw0tmtyQDMzM6sxSHJAZmZmHk4ockAzMzN7QAJyQAAAAHhK1XFAAAAAADi0cUCamZlJQ7RxQM3MzNxaJHJAmpmZWWR1ckCamZkhyoxyQM3MzLSDO3JAAAAA0HYNckAAAADw9PRxQM3MzCzP4XFAMzMzKyzecUAAAADo2DlyQJqZmTEamXJAMzMzG5OpckDNzMyUs1RyQDMzM8N+InJAzczMjPUAckAzMzP7efNxQGZmZsaCVXJA",
                    "dtype": "f8"
                  },
                  "q3": {
                    "bdata": "zczMxD8sckDNzMyEeSNyQAAAAHCAI3JAzczMTOYfckDNzMwULCFyQGZmZo7rIXJAAAAA6EIlckAzMzMrjjZyQAAAAAgfSHJAAAAAeAleckAzMzPjbHZyQDMzM+vehXJAZmZmLq+NckAAAADYxo9yQDMzM1OOjXJAzczMHLuHckBmZmbO/HVyQJqZmXlHV3JAZmZmtnE8ckCamZmpwy9yQAAAAEBEI3JAAAAAEIwcckDNzMy8nxdyQAAAAPDyEXJAzczMPGoLckBmZmbOUQNyQGZmZsaL+HFAZmZmXvb0cUAAAACARO9xQM3MzIQ253FAAAAA8OrlcUAAAAAgC/NxQDMzM0t1/3FAZmZmNhkQckDNzMwUeB9yQDMzM6MQLnJAzczM1KQ2ckBmZmaeETxyQDMzM7u1NnJAMzMzA3UmckAzMzOrRhByQGZmZrac/3FAAAAAqFL1cUAzMzMDpuxxQJqZmWlS6HFAmpmZKbTicUBmZmY2Ft1xQDMzM4Mj2HFAzczMRLrWcUDNzMw039BxQJqZmZGeznFAAAAAMKnGcUAzMzNj3cBxQGZmZt4VwHFAZmZm7kzNcUDNzMw8SuNxQDMzM+OX/HFAAAAAmFYPckAAAADgzR5yQDMzM7OALnJAMzMzw5U7ckDNzMyk2UlyQAAAAFjcVXJAAAAAcI9ZckCamZmJ9FRyQJqZmbGgOXJAZmZm3o4cckBmZmaWjwxyQJqZmTmJ/3FAAAAAECf1cUCamZnxze1xQGZmZh656HFAAAAA0GjhcUAzMzMjU95xQAAAADjq1nFAZmZmnmLRcUBmZmamn8xxQDMzM+sRxnFAmpmZ4QTTcUAAAADgR/ZxQGZmZvaIIXJAAAAAMI5CckBmZmYmh1xyQJqZmdF7dHJAZmZmroOCckDNzMzUYIxyQM3MzDTGj3JAzczMtJiMckCamZlhMYNyQAAAABAJX3JAAAAAOF89ckAzMzMr2hVyQJqZmcmU9nFAZmZmrjPZcUBmZmY26NVxQM3MzHTpPXJAzczM5BKUckAAAABwj6NyQJqZmTEZUHJAmpmZWSIrckBmZmZWAhJyQGZmZp4OB3JAmpmZIdwEckDNzMykTmdyQDMzM5Nnq3JAMzMzM8u5ckBmZmZ2xmtyQJqZmaEqRHJAzczM3M4vckAAAACwnSByQDMzM/OYq3JA",
                    "dtype": "f8"
                  },
                  "type": "box",
                  "upperfence": {
                    "bdata": "AAAAwPIzckAAAACArC1yQAAAABD4MHJAAAAAELkockAAAABQZipyQAAAAGAHKnJAAAAAMG8sckAAAADg2TxyQAAAAMBzT3JAAAAAcE9kckAAAADQZXpyQAAAAABFiXJAAAAAIOKVckAAAACgE5NyQAAAAOB2n3JAAAAAEDyWckAAAACwhYtyQAAAACDLcnJAAAAA4NVGckAAAAAwzzNyQAAAAJBQJnJAAAAAsDclckAAAABg8xpyQAAAAIBuFnJAAAAAILkSckAAAACQrhByQAAAAPDrBXJAAAAAUC75cUAAAADgmPNxQAAAAOCi63FAAAAA4OztcUAAAABwPPVxQAAAAODwA3JAAAAAoKYUckAAAADwAydyQAAAAHAiOHJAAAAA4Ic+ckAAAAAAfUZyQAAAAICOP3JAAAAAgE8xckAAAAAgax5yQAAAADDPCHJAAAAAMJP9cUAAAACwn/lxQAAAAPBY83FAAAAAcMTvcUAAAABgK+pxQAAAAOCd4XFAAAAAYEbccUAAAABg2txxQAAAANBA3XFAAAAA0NzccUAAAAAwl9ZxQAAAAMBG0HFAAAAAsA/WcUAAAACAn+xxQAAAAJA9A3JAAAAAAEgUckAAAACwliNyQAAAAJAXOnJAAAAA4FFNckAAAAAA6FtyQAAAAIBKY3JAAAAAsAxlckAAAADwD11yQAAAAPDwQXJAAAAA8HslckAAAABQ3BhyQAAAAKBeCnJAAAAAwLr8cUAAAAAwN/dxQAAAAFDO7nFAAAAAEPDrcUAAAAAwreZxQAAAAPCs4XFAAAAA8IfYcUAAAACgMdRxQAAAAKDrz3FAAAAAwOblcUAAAACQBghyQAAAAMBoMXJAAAAAsLdYckAAAAAgVnJyQAAAADD8hHJAAAAAQG2QckAAAADgRJZyQAAAAHA6mHJAAAAAEPGUckAAAABgNItyQAAAAHAGZnJAAAAAcPhFckAAAADQtxxyQAAAAODR/HFAAAAAwPLncUAAAAAQzdpxQAAAAOB9TXJAAAAAMHukckAAAADwTbFyQAAAAIA6YHJAAAAAAJcyckAAAACgZhpyQAAAAJCPEXJAAAAAoL0ZckAAAADw3nZyQAAAADBKs3JAAAAAYNC/ckAAAABwUnlyQAAAANCkXXJAAAAAgFdEckAAAADggChyQAAAAGAlsHJA",
                    "dtype": "f8"
                  },
                  "width": 1080000,
                  "x": [
                    "2025-09-15T00:00:00",
                    "2025-09-15T01:00:00",
                    "2025-09-15T02:00:00",
                    "2025-09-15T03:00:00",
                    "2025-09-15T04:00:00",
                    "2025-09-15T05:00:00",
                    "2025-09-15T06:00:00",
                    "2025-09-15T07:00:00",
                    "2025-09-15T08:00:00",
                    "2025-09-15T09:00:00",
                    "2025-09-15T10:00:00",
                    "2025-09-15T11:00:00",
                    "2025-09-15T12:00:00",
                    "2025-09-15T13:00:00",
                    "2025-09-15T14:00:00",
                    "2025-09-15T15:00:00",
                    "2025-09-15T16:00:00",
                    "2025-09-15T17:00:00",
                    "2025-09-15T18:00:00",
                    "2025-09-15T19:00:00",
                    "2025-09-15T20:00:00",
                    "2025-09-15T21:00:00",
                    "2025-09-15T22:00:00",
                    "2025-09-15T23:00:00",
                    "2025-09-16T00:00:00",
                    "2025-09-16T01:00:00",
                    "2025-09-16T02:00:00",
                    "2025-09-16T03:00:00",
                    "2025-09-16T04:00:00",
                    "2025-09-16T05:00:00",
                    "2025-09-16T06:00:00",
                    "2025-09-16T07:00:00",
                    "2025-09-16T08:00:00",
                    "2025-09-16T09:00:00",
                    "2025-09-16T10:00:00",
                    "2025-09-16T11:00:00",
                    "2025-09-16T12:00:00",
                    "2025-09-16T13:00:00",
                    "2025-09-16T14:00:00",
                    "2025-09-16T15:00:00",
                    "2025-09-16T16:00:00",
                    "2025-09-16T17:00:00",
                    "2025-09-16T18:00:00",
                    "2025-09-16T19:00:00",
                    "2025-09-16T20:00:00",
                    "2025-09-16T21:00:00",
                    "2025-09-16T22:00:00",
                    "2025-09-16T23:00:00",
                    "2025-09-17T00:00:00",
                    "2025-09-17T01:00:00",
                    "2025-09-17T02:00:00",
                    "2025-09-17T03:00:00",
                    "2025-09-17T04:00:00",
                    "2025-09-17T05:00:00",
                    "2025-09-17T06:00:00",
                    "2025-09-17T07:00:00",
                    "2025-09-17T08:00:00",
                    "2025-09-17T09:00:00",
                    "2025-09-17T10:00:00",
                    "2025-09-17T11:00:00",
                    "2025-09-17T12:00:00",
                    "2025-09-17T13:00:00",
                    "2025-09-17T14:00:00",
                    "2025-09-17T15:00:00",
                    "2025-09-17T16:00:00",
                    "2025-09-17T17:00:00",
                    "2025-09-17T18:00:00",
                    "2025-09-17T19:00:00",
                    "2025-09-17T20:00:00",
                    "2025-09-17T21:00:00",
                    "2025-09-17T22:00:00",
                    "2025-09-17T23:00:00",
                    "2025-09-18T00:00:00",
                    "2025-09-18T01:00:00",
                    "2025-09-18T02:00:00",
                    "2025-09-18T03:00:00",
                    "2025-09-18T04:00:00",
                    "2025-09-18T05:00:00",
                    "2025-09-18T06:00:00",
                    "2025-09-18T07:00:00",
                    "2025-09-18T08:00:00",
                    "2025-09-18T09:00:00",
                    "2025-09-18T10:00:00",
                    "2025-09-18T11:00:00",
                    "2025-09-18T12:00:00",
                    "2025-09-18T13:00:00",
                    "2025-09-18T14:00:00",
                    "2025-09-18T15:00:00",
                    "2025-09-18T16:00:00",
                    "2025-09-18T17:00:00",
                    "2025-09-18T18:00:00",
                    "2025-09-18T21:00:00",
                    "2025-09-19T00:00:00",
                    "2025-09-19T03:00:00",
                    "2025-09-19T06:00:00",
                    "2025-09-19T09:00:00",
                    "2025-09-19T12:00:00",
                    "2025-09-19T15:00:00",
                    "2025-09-19T18:00:00",
                    "2025-09-19T21:00:00",
                    "2025-09-20T00:00:00",
                    "2025-09-20T03:00:00",
                    "2025-09-20T06:00:00",
                    "2025-09-20T09:00:00",
                    "2025-09-20T12:00:00",
                    "2025-09-20T15:00:00",
                    "2025-09-20T18:00:00",
                    "2025-09-20T21:00:00",
                    "2025-09-21T00:00:00",
                    "2025-09-21T06:00:00",
                    "2025-09-21T12:00:00"
                  ],
                  "xaxis": "x",
                  "yaxis": "y"
                },
                {
                  "fillcolor": "#B1B6FC",
                  "hoverinfo": "skip",
                  "line": {
                    "color": "#27aeef"
                  },
                  "lowerfence": {
                    "bdata": "AAAAQA4IckAAAACwawdyQAAAAKAZB3JAAAAAIEkEckAAAABAOQNyQAAAAOC9BXJAAAAAIMUPckAAAABQ1iNyQAAAANC8L3JAAAAAQJNMckAAAADwmGlyQAAAAIB8dnJAAAAAIHRvckAAAACwzHJyQAAAACBoYHJAAAAAYBRWckAAAABA2jVyQAAAAKDzJ3JAAAAAMPoTckAAAACgPxByQAAAAFAFCXJAAAAAcCAFckAAAABA1vxxQAAAAHBe+XFAAAAAYHLvcUAAAADw3+ZxQAAAAGBZ3XFAAAAAQIDVcUAAAADwDdBxQAAAAKBbw3FAAAAAkFHLcUAAAACws99xQAAAANAG6XFAAAAAQMnycUAAAAAAgwZyQAAAAABREHJAAAAA0NATckAAAACgBBNyQAAAACBgDXJAAAAA0Cz+cUAAAADQPvhxQAAAAJCs6nFAAAAAEAnecUAAAAAwE9FxQAAAAFCyy3FAAAAAgA3GcUAAAACA7L9xQAAAAPBuuXFAAAAAkJuxcUAAAACAhKpxQAAAAKCLpHFAAAAAQCabcUAAAACwVJVxQAAAAACSi3FAAAAAMP6TcUAAAABQYL1xQAAAAHDo0nFAAAAA8AHZcUAAAACwyeRxQAAAALBd8XFAAAAA4O/vcUAAAABAGfpxQAAAAJBsBHJAAAAAsJYTckAAAACwLRRyQAAAAKD9BXJAAAAAcLjlcUAAAAAwnt1xQAAAAGAA3nFAAAAAQAHTcUAAAADghNBxQAAAAHDBzXFAAAAAUA3HcUAAAADQJL5xQAAAAPB4uHFAAAAAcNixcUAAAACgUq1xQAAAAKApqHFAAAAAkBu2cUAAAABgl85xQAAAABDU53FAAAAA4O8SckAAAABgXTtyQAAAAOCmUHJAAAAAAP1dckAAAACQrmdyQAAAABAPbXJAAAAAIF1tckAAAABAGGZyQAAAABAFQ3JAAAAAMCAlckAAAACQa/FxQAAAAPDCvHFAAAAAQFWecUAAAACQ7KlxQAAAALCLFHJAAAAAkL5ockAAAACQWoVyQAAAAICsM3JAAAAAgEAFckAAAACQielxQAAAAKAC03FAAAAAQEXScUAAAABwNyhyQAAAALDHdHJAAAAAUAFfckAAAADAOB5yQAAAAPD9BnJAAAAAAIT3cUAAAACQtsJxQAAAALCs4HFA",
                    "dtype": "f8"
                  },
                  "median": {
                    "bdata": "AAAA4KgbckAAAAA45hhyQAAAALBSF3JAAAAAKDMRckAAAABgsRRyQAAAAHCsFHJAAAAAWAsZckAAAAAosixyQAAAAAhNQ3JAAAAAwCVbckAAAACgInFyQAAAACipgHJAAAAAmAuHckAAAAC41oZyQAAAALjwg3JAAAAAWJV7ckAAAADQEV1yQAAAAPiSRHJAAAAAKAQtckAAAACwzyNyQAAAAECUFnJAAAAASIkRckAAAAA4mgxyQAAAAJh+BnJAAAAAgOIBckAAAAA4LPtxQAAAALgZ8nFAAAAAgCPrcUAAAACAaeNxQAAAABAv23FAAAAAQB3dcUAAAAAoc+pxQAAAAFCe93FAAAAAIBEGckAAAAB47RdyQAAAAKAjJXJAAAAAgDQtckAAAAAABS9yQAAAAAhZJXJAAAAAWJgSckAAAAAgvQVyQAAAAFA++HFAAAAACDfrcUAAAABop+JxQAAAAOjV3XFAAAAAMPLWcUAAAACYV9BxQAAAAHDty3FAAAAAkAHHcUAAAACoUcJxQAAAAADFvXFAAAAAyES4cUAAAABQnrFxQAAAAPgZrXFAAAAAeFS9cUAAAACYvddxQAAAAHgV8nFAAAAAwC8EckAAAADIPxJyQAAAAEjIHnJAAAAAiGwrckAAAABwpzVyQAAAAPBePXJAAAAAmB5BckAAAABY4TxyQAAAAAhqKnJAAAAAmOoOckAAAAC4eQJyQAAAAMCS83FAAAAAoKzqcUAAAAAAteNxQAAAACAL3HFAAAAAGM7UcUAAAAAgb85xQAAAABByyXFAAAAA4IfEcUAAAABYh8BxQAAAAPj0unFAAAAA+GTKcUAAAACYrOxxQAAAANiWFXJAAAAA0FY3ckAAAACgt1FyQAAAAHi6ZXJAAAAAWOt1ckAAAAAIMYByQAAAALBig3JAAAAAoIiAckAAAAAgcnhyQAAAABDfVHJAAAAAaBoyckAAAACw3wxyQAAAANDZ5nFAAAAAiDvGcUAAAAAQhcRxQAAAAPAJMXJAAAAACKSBckAAAADoG5VyQAAAAOj0RXJAAAAAeLkZckAAAACAOwRyQAAAAFjK9XFAAAAAsCjzcUAAAADQ0E9yQAAAAOCBonJAAAAA+MSxckAAAABIW19yQAAAABi6NnJAAAAAQEQdckAAAABgVA1yQAAAABjGnnJA",
                    "dtype": "f8"
                  },
                  "q1": {
                    "bdata": "AAAAtAMWckAAAAAwwhNyQAAAAMSKEXJAAAAAeA8MckAAAADc7A5yQAAAAKyoDnJAAAAABLsUckAAAACYLipyQAAAACRsQHJAAAAAhNBXckAAAAAw625yQAAAANT6fXJAAAAAOJyCckAAAACQAoFyQAAAACABfnJAAAAAhNZwckAAAACkZldyQAAAALjEPHJAAAAAlL0kckAAAADoRhtyQAAAAPQ3EnJAAAAA2CwNckAAAABMswhyQAAAANgJBHJAAAAAlLr8cUAAAAD43/dxQAAAAIQH7nFAAAAADOjkcUAAAAC829pxQAAAAJxh03FAAAAATHXXcUAAAADMgOdxQAAAAMBh83FAAAAAaJAEckAAAAAMmBJyQAAAAMAWH3JAAAAA3MYlckAAAABoUyhyQAAAADQzHXJAAAAAlCQOckAAAAC0qwByQAAAAMQp9XFAAAAAXEDmcUAAAADo6d5xQAAAALRU2HFAAAAANPHQcUAAAADs9MtxQAAAALA3xXFAAAAAODzAcUAAAADUl71xQAAAAESVtXFAAAAADPSucUAAAADouKpxQAAAAEhSpnFAAAAARAm1cUAAAAB08tFxQAAAAHxT6nFAAAAAwD/6cUAAAAA8aAZyQAAAAFTwFHJAAAAACIwhckAAAAC4XChyQAAAAKxqM3JAAAAA6Dk3ckAAAABglzRyQAAAAMCnIXJAAAAAyPgEckAAAAA8zPlxQAAAAGQj7nFAAAAAlD3kcUAAAAAEit1xQAAAADhp1XFAAAAAOILNcUAAAABg88hxQAAAAMikwnFAAAAAvE++cUAAAAD4YLpxQAAAAAiRtXFAAAAA/EfCcUAAAAAMJuFxQAAAAJCDCXJAAAAANNgsckAAAADQN0pyQAAAAFDkX3JAAAAAWOBvckAAAADIk3pyQAAAAEzkfnJAAAAAgB57ckAAAAAQ2XByQAAAACxbTXJAAAAAJHssckAAAADo7wdyQAAAAAzJ3nFAAAAAqDu9cUAAAACcKrxxQAAAAESHKXJAAAAAGB94ckAAAACYEJFyQAAAAJwMQXJAAAAA+N4TckAAAABY+ftxQAAAADAz63FAAAAAwIvpcUAAAAA8WUJyQAAAANijnHJAAAAAwBOtckAAAADk7FlyQAAAAAhpLHJAAAAAmLASckAAAABklAFyQAAAAOBTk3JA",
                    "dtype": "f8"
                  },
                  "q3": {
                    "bdata": "AAAAEHIlckAAAABQOh1yQAAAAHA1HXJAAAAAqJkXckAAAADA6BhyQAAAANiAGXJAAAAAiGoeckAAAAAo7S9yQAAAABgpRnJAAAAA1AldckAAAAA0EHRyQAAAAEyag3JAAAAA7M2KckAAAABEZYxyQAAAAJApinJAAAAAbN2BckAAAADgBmtyQAAAANA3SnJAAAAAMGM1ckAAAACorypyQAAAABRYHXJAAAAAdAgXckAAAAD8YBJyQAAAAGysDHJAAAAAnAQGckAAAAAoE/5xQAAAAJi19XFAAAAA4DbxcUAAAAAIMutxQAAAAGTV4HFAAAAAjPTicUAAAAAQUPBxQAAAAFj8/HFAAAAAqCMMckAAAACwLRtyQAAAAFBWKXJAAAAAjP4wckAAAAAoPzVyQAAAAEg0KXJAAAAAwMwackAAAACEZQlyQAAAADRQ+3FAAAAADD3ucUAAAADgJ+dxQAAAANxz4nFAAAAAdMjdcUAAAABIP9pxQAAAAJB803FAAAAAhLrPcUAAAACoy8pxQAAAALhwxHFAAAAAgEy+cUAAAABwn7txQAAAAEiZunFAAAAAqJLGcUAAAABgUd5xQAAAAJhE+HFAAAAAeE8JckAAAADYChhyQAAAALC5JnJAAAAAvLE0ckAAAACQ7kJyQAAAAITjSnJAAAAAELJOckAAAAAEt0lyQAAAANxFMnJAAAAAjP4UckAAAAC0PwhyQAAAALQl/HFAAAAALN3xcUAAAADwBOlxQAAAAKyz4HFAAAAAyMLZcUAAAAD8z9JxQAAAALRj0HFAAAAADA/LcUAAAADok8ZxQAAAAORWwHFAAAAAgAfOcUAAAABAUvNxQAAAACjeHHJAAAAAxH4+ckAAAACkz1dyQAAAALRNa3JAAAAAhEV6ckAAAAAEpYNyQAAAAMTmh3JAAAAA5AiGckAAAABcbH5yQAAAABR0WXJAAAAAGDA4ckAAAABwrBFyQAAAAPAy7nFAAAAA4L7PcUAAAAAg4NFxQAAAAKgzN3JAAAAASLeIckAAAAB4d5tyQAAAAKxGS3JAAAAANNkkckAAAAA03AlyQAAAANhJ/HFAAAAALHP+cUAAAACoZlxyQAAAAMCEqXJAAAAAlEu4ckAAAAD0cmVyQAAAADQlPnJAAAAAFMslckAAAAA4TxVyQAAAAET5p3JA",
                    "dtype": "f8"
                  },
                  "showwhiskers": false,
                  "type": "box",
                  "upperfence": {
                    "bdata": "AAAAwPIzckAAAACArC1yQAAAABD4MHJAAAAAELkockAAAABQZipyQAAAAGAHKnJAAAAAMG8sckAAAADg2TxyQAAAAMBzT3JAAAAAcE9kckAAAADQZXpyQAAAAABFiXJAAAAAIOKVckAAAACgE5NyQAAAAOB2n3JAAAAAEDyWckAAAACwhYtyQAAAACDLcnJAAAAA4NVGckAAAAAwzzNyQAAAAJBQJnJAAAAAsDclckAAAABg8xpyQAAAAIBuFnJAAAAAILkSckAAAACQrhByQAAAAPDrBXJAAAAAUC75cUAAAADgmPNxQAAAAOCi63FAAAAA4OztcUAAAABwPPVxQAAAAODwA3JAAAAAoKYUckAAAADwAydyQAAAAHAiOHJAAAAA4Ic+ckAAAAAAfUZyQAAAAICOP3JAAAAAgE8xckAAAAAgax5yQAAAADDPCHJAAAAAMJP9cUAAAACwn/lxQAAAAPBY83FAAAAAcMTvcUAAAABgK+pxQAAAAOCd4XFAAAAAYEbccUAAAABg2txxQAAAANBA3XFAAAAA0NzccUAAAAAwl9ZxQAAAAMBG0HFAAAAAsA/WcUAAAACAn+xxQAAAAJA9A3JAAAAAAEgUckAAAACwliNyQAAAAJAXOnJAAAAA4FFNckAAAAAA6FtyQAAAAIBKY3JAAAAAsAxlckAAAADwD11yQAAAAPDwQXJAAAAA8HslckAAAABQ3BhyQAAAAKBeCnJAAAAAwLr8cUAAAAAwN/dxQAAAAFDO7nFAAAAAEPDrcUAAAAAwreZxQAAAAPCs4XFAAAAA8IfYcUAAAACgMdRxQAAAAKDrz3FAAAAAwOblcUAAAACQBghyQAAAAMBoMXJAAAAAsLdYckAAAAAgVnJyQAAAADD8hHJAAAAAQG2QckAAAADgRJZyQAAAAHA6mHJAAAAAEPGUckAAAABgNItyQAAAAHAGZnJAAAAAcPhFckAAAADQtxxyQAAAAODR/HFAAAAAwPLncUAAAAAQzdpxQAAAAOB9TXJAAAAAMHukckAAAADwTbFyQAAAAIA6YHJAAAAAAJcyckAAAACgZhpyQAAAAJCPEXJAAAAAoL0ZckAAAADw3nZyQAAAADBKs3JAAAAAYNC/ckAAAABwUnlyQAAAANCkXXJAAAAAgFdEckAAAADggChyQAAAAGAlsHJA",
                    "dtype": "f8"
                  },
                  "width": 2160000,
                  "x": [
                    "2025-09-15T00:00:00",
                    "2025-09-15T01:00:00",
                    "2025-09-15T02:00:00",
                    "2025-09-15T03:00:00",
                    "2025-09-15T04:00:00",
                    "2025-09-15T05:00:00",
                    "2025-09-15T06:00:00",
                    "2025-09-15T07:00:00",
                    "2025-09-15T08:00:00",
                    "2025-09-15T09:00:00",
                    "2025-09-15T10:00:00",
                    "2025-09-15T11:00:00",
                    "2025-09-15T12:00:00",
                    "2025-09-15T13:00:00",
                    "2025-09-15T14:00:00",
                    "2025-09-15T15:00:00",
                    "2025-09-15T16:00:00",
                    "2025-09-15T17:00:00",
                    "2025-09-15T18:00:00",
                    "2025-09-15T19:00:00",
                    "2025-09-15T20:00:00",
                    "2025-09-15T21:00:00",
                    "2025-09-15T22:00:00",
                    "2025-09-15T23:00:00",
                    "2025-09-16T00:00:00",
                    "2025-09-16T01:00:00",
                    "2025-09-16T02:00:00",
                    "2025-09-16T03:00:00",
                    "2025-09-16T04:00:00",
                    "2025-09-16T05:00:00",
                    "2025-09-16T06:00:00",
                    "2025-09-16T07:00:00",
                    "2025-09-16T08:00:00",
                    "2025-09-16T09:00:00",
                    "2025-09-16T10:00:00",
                    "2025-09-16T11:00:00",
                    "2025-09-16T12:00:00",
                    "2025-09-16T13:00:00",
                    "2025-09-16T14:00:00",
                    "2025-09-16T15:00:00",
                    "2025-09-16T16:00:00",
                    "2025-09-16T17:00:00",
                    "2025-09-16T18:00:00",
                    "2025-09-16T19:00:00",
                    "2025-09-16T20:00:00",
                    "2025-09-16T21:00:00",
                    "2025-09-16T22:00:00",
                    "2025-09-16T23:00:00",
                    "2025-09-17T00:00:00",
                    "2025-09-17T01:00:00",
                    "2025-09-17T02:00:00",
                    "2025-09-17T03:00:00",
                    "2025-09-17T04:00:00",
                    "2025-09-17T05:00:00",
                    "2025-09-17T06:00:00",
                    "2025-09-17T07:00:00",
                    "2025-09-17T08:00:00",
                    "2025-09-17T09:00:00",
                    "2025-09-17T10:00:00",
                    "2025-09-17T11:00:00",
                    "2025-09-17T12:00:00",
                    "2025-09-17T13:00:00",
                    "2025-09-17T14:00:00",
                    "2025-09-17T15:00:00",
                    "2025-09-17T16:00:00",
                    "2025-09-17T17:00:00",
                    "2025-09-17T18:00:00",
                    "2025-09-17T19:00:00",
                    "2025-09-17T20:00:00",
                    "2025-09-17T21:00:00",
                    "2025-09-17T22:00:00",
                    "2025-09-17T23:00:00",
                    "2025-09-18T00:00:00",
                    "2025-09-18T01:00:00",
                    "2025-09-18T02:00:00",
                    "2025-09-18T03:00:00",
                    "2025-09-18T04:00:00",
                    "2025-09-18T05:00:00",
                    "2025-09-18T06:00:00",
                    "2025-09-18T07:00:00",
                    "2025-09-18T08:00:00",
                    "2025-09-18T09:00:00",
                    "2025-09-18T10:00:00",
                    "2025-09-18T11:00:00",
                    "2025-09-18T12:00:00",
                    "2025-09-18T13:00:00",
                    "2025-09-18T14:00:00",
                    "2025-09-18T15:00:00",
                    "2025-09-18T16:00:00",
                    "2025-09-18T17:00:00",
                    "2025-09-18T18:00:00",
                    "2025-09-18T21:00:00",
                    "2025-09-19T00:00:00",
                    "2025-09-19T03:00:00",
                    "2025-09-19T06:00:00",
                    "2025-09-19T09:00:00",
                    "2025-09-19T12:00:00",
                    "2025-09-19T15:00:00",
                    "2025-09-19T18:00:00",
                    "2025-09-19T21:00:00",
                    "2025-09-20T00:00:00",
                    "2025-09-20T03:00:00",
                    "2025-09-20T06:00:00",
                    "2025-09-20T09:00:00",
                    "2025-09-20T12:00:00",
                    "2025-09-20T15:00:00",
                    "2025-09-20T18:00:00",
                    "2025-09-20T21:00:00",
                    "2025-09-21T00:00:00",
                    "2025-09-21T06:00:00",
                    "2025-09-21T12:00:00"
                  ],
                  "xaxis": "x",
                  "yaxis": "y"
                },
                {
                  "hovertemplate": "%{y:.2f}<extra>P<sub>0%</sub></extra>",
                  "marker": {
                    "color": "#27aeef",
                    "size": 0.00001
                  },
                  "mode": "markers",
                  "type": "scatter",
                  "x": [
                    "2025-09-15T00:00:00",
                    "2025-09-15T01:00:00",
                    "2025-09-15T02:00:00",
                    "2025-09-15T03:00:00",
                    "2025-09-15T04:00:00",
                    "2025-09-15T05:00:00",
                    "2025-09-15T06:00:00",
                    "2025-09-15T07:00:00",
                    "2025-09-15T08:00:00",
                    "2025-09-15T09:00:00",
                    "2025-09-15T10:00:00",
                    "2025-09-15T11:00:00",
                    "2025-09-15T12:00:00",
                    "2025-09-15T13:00:00",
                    "2025-09-15T14:00:00",
                    "2025-09-15T15:00:00",
                    "2025-09-15T16:00:00",
                    "2025-09-15T17:00:00",
                    "2025-09-15T18:00:00",
                    "2025-09-15T19:00:00",
                    "2025-09-15T20:00:00",
                    "2025-09-15T21:00:00",
                    "2025-09-15T22:00:00",
                    "2025-09-15T23:00:00",
                    "2025-09-16T00:00:00",
                    "2025-09-16T01:00:00",
                    "2025-09-16T02:00:00",
                    "2025-09-16T03:00:00",
                    "2025-09-16T04:00:00",
                    "2025-09-16T05:00:00",
                    "2025-09-16T06:00:00",
                    "2025-09-16T07:00:00",
                    "2025-09-16T08:00:00",
                    "2025-09-16T09:00:00",
                    "2025-09-16T10:00:00",
                    "2025-09-16T11:00:00",
                    "2025-09-16T12:00:00",
                    "2025-09-16T13:00:00",
                    "2025-09-16T14:00:00",
                    "2025-09-16T15:00:00",
                    "2025-09-16T16:00:00",
                    "2025-09-16T17:00:00",
                    "2025-09-16T18:00:00",
                    "2025-09-16T19:00:00",
                    "2025-09-16T20:00:00",
                    "2025-09-16T21:00:00",
                    "2025-09-16T22:00:00",
                    "2025-09-16T23:00:00",
                    "2025-09-17T00:00:00",
                    "2025-09-17T01:00:00",
                    "2025-09-17T02:00:00",
                    "2025-09-17T03:00:00",
                    "2025-09-17T04:00:00",
                    "2025-09-17T05:00:00",
                    "2025-09-17T06:00:00",
                    "2025-09-17T07:00:00",
                    "2025-09-17T08:00:00",
                    "2025-09-17T09:00:00",
                    "2025-09-17T10:00:00",
                    "2025-09-17T11:00:00",
                    "2025-09-17T12:00:00",
                    "2025-09-17T13:00:00",
                    "2025-09-17T14:00:00",
                    "2025-09-17T15:00:00",
                    "2025-09-17T16:00:00",
                    "2025-09-17T17:00:00",
                    "2025-09-17T18:00:00",
                    "2025-09-17T19:00:00",
                    "2025-09-17T20:00:00",
                    "2025-09-17T21:00:00",
                    "2025-09-17T22:00:00",
                    "2025-09-17T23:00:00",
                    "2025-09-18T00:00:00",
                    "2025-09-18T01:00:00",
                    "2025-09-18T02:00:00",
                    "2025-09-18T03:00:00",
                    "2025-09-18T04:00:00",
                    "2025-09-18T05:00:00",
                    "2025-09-18T06:00:00",
                    "2025-09-18T07:00:00",
                    "2025-09-18T08:00:00",
                    "2025-09-18T09:00:00",
                    "2025-09-18T10:00:00",
                    "2025-09-18T11:00:00",
                    "2025-09-18T12:00:00",
                    "2025-09-18T13:00:00",
                    "2025-09-18T14:00:00",
                    "2025-09-18T15:00:00",
                    "2025-09-18T16:00:00",
                    "2025-09-18T17:00:00",
                    "2025-09-18T18:00:00",
                    "2025-09-18T21:00:00",
                    "2025-09-19T00:00:00",
                    "2025-09-19T03:00:00",
                    "2025-09-19T06:00:00",
                    "2025-09-19T09:00:00",
                    "2025-09-19T12:00:00",
                    "2025-09-19T15:00:00",
                    "2025-09-19T18:00:00",
                    "2025-09-19T21:00:00",
                    "2025-09-20T00:00:00",
                    "2025-09-20T03:00:00",
                    "2025-09-20T06:00:00",
                    "2025-09-20T09:00:00",
                    "2025-09-20T12:00:00",
                    "2025-09-20T15:00:00",
                    "2025-09-20T18:00:00",
                    "2025-09-20T21:00:00",
                    "2025-09-21T00:00:00",
                    "2025-09-21T06:00:00",
                    "2025-09-21T12:00:00"
                  ],
                  "xaxis": "x",
                  "y": {
                    "bdata": "AAAAQA4IckAAAACwawdyQAAAAKAZB3JAAAAAIEkEckAAAABAOQNyQAAAAOC9BXJAAAAAIMUPckAAAABQ1iNyQAAAANC8L3JAAAAAQJNMckAAAADwmGlyQAAAAIB8dnJAAAAAIHRvckAAAACwzHJyQAAAACBoYHJAAAAAYBRWckAAAABA2jVyQAAAAKDzJ3JAAAAAMPoTckAAAACgPxByQAAAAFAFCXJAAAAAcCAFckAAAABA1vxxQAAAAHBe+XFAAAAAYHLvcUAAAADw3+ZxQAAAAGBZ3XFAAAAAQIDVcUAAAADwDdBxQAAAAKBbw3FAAAAAkFHLcUAAAACws99xQAAAANAG6XFAAAAAQMnycUAAAAAAgwZyQAAAAABREHJAAAAA0NATckAAAACgBBNyQAAAACBgDXJAAAAA0Cz+cUAAAADQPvhxQAAAAJCs6nFAAAAAEAnecUAAAAAwE9FxQAAAAFCyy3FAAAAAgA3GcUAAAACA7L9xQAAAAPBuuXFAAAAAkJuxcUAAAACAhKpxQAAAAKCLpHFAAAAAQCabcUAAAACwVJVxQAAAAACSi3FAAAAAMP6TcUAAAABQYL1xQAAAAHDo0nFAAAAA8AHZcUAAAACwyeRxQAAAALBd8XFAAAAA4O/vcUAAAABAGfpxQAAAAJBsBHJAAAAAsJYTckAAAACwLRRyQAAAAKD9BXJAAAAAcLjlcUAAAAAwnt1xQAAAAGAA3nFAAAAAQAHTcUAAAADghNBxQAAAAHDBzXFAAAAAUA3HcUAAAADQJL5xQAAAAPB4uHFAAAAAcNixcUAAAACgUq1xQAAAAKApqHFAAAAAkBu2cUAAAABgl85xQAAAABDU53FAAAAA4O8SckAAAABgXTtyQAAAAOCmUHJAAAAAAP1dckAAAACQrmdyQAAAABAPbXJAAAAAIF1tckAAAABAGGZyQAAAABAFQ3JAAAAAMCAlckAAAACQa/FxQAAAAPDCvHFAAAAAQFWecUAAAACQ7KlxQAAAALCLFHJAAAAAkL5ockAAAACQWoVyQAAAAICsM3JAAAAAgEAFckAAAACQielxQAAAAKAC03FAAAAAQEXScUAAAABwNyhyQAAAALDHdHJAAAAAUAFfckAAAADAOB5yQAAAAPD9BnJAAAAAAIT3cUAAAACQtsJxQAAAALCs4HFA",
                    "dtype": "f8"
                  },
                  "yaxis": "y"
                },
                {
                  "hovertemplate": "%{y:.2f}<extra>P<sub>10%</sub></extra>",
                  "marker": {
                    "color": "#27aeef",
                    "size": 0.00001
                  },
                  "mode": "markers",
                  "type": "scatter",
                  "x": [
                    "2025-09-15T00:00:00",
                    "2025-09-15T01:00:00",
                    "2025-09-15T02:00:00",
                    "2025-09-15T03:00:00",
                    "2025-09-15T04:00:00",
                    "2025-09-15T05:00:00",
                    "2025-09-15T06:00:00",
                    "2025-09-15T07:00:00",
                    "2025-09-15T08:00:00",
                    "2025-09-15T09:00:00",
                    "2025-09-15T10:00:00",
                    "2025-09-15T11:00:00",
                    "2025-09-15T12:00:00",
                    "2025-09-15T13:00:00",
                    "2025-09-15T14:00:00",
                    "2025-09-15T15:00:00",
                    "2025-09-15T16:00:00",
                    "2025-09-15T17:00:00",
                    "2025-09-15T18:00:00",
                    "2025-09-15T19:00:00",
                    "2025-09-15T20:00:00",
                    "2025-09-15T21:00:00",
                    "2025-09-15T22:00:00",
                    "2025-09-15T23:00:00",
                    "2025-09-16T00:00:00",
                    "2025-09-16T01:00:00",
                    "2025-09-16T02:00:00",
                    "2025-09-16T03:00:00",
                    "2025-09-16T04:00:00",
                    "2025-09-16T05:00:00",
                    "2025-09-16T06:00:00",
                    "2025-09-16T07:00:00",
                    "2025-09-16T08:00:00",
                    "2025-09-16T09:00:00",
                    "2025-09-16T10:00:00",
                    "2025-09-16T11:00:00",
                    "2025-09-16T12:00:00",
                    "2025-09-16T13:00:00",
                    "2025-09-16T14:00:00",
                    "2025-09-16T15:00:00",
                    "2025-09-16T16:00:00",
                    "2025-09-16T17:00:00",
                    "2025-09-16T18:00:00",
                    "2025-09-16T19:00:00",
                    "2025-09-16T20:00:00",
                    "2025-09-16T21:00:00",
                    "2025-09-16T22:00:00",
                    "2025-09-16T23:00:00",
                    "2025-09-17T00:00:00",
                    "2025-09-17T01:00:00",
                    "2025-09-17T02:00:00",
                    "2025-09-17T03:00:00",
                    "2025-09-17T04:00:00",
                    "2025-09-17T05:00:00",
                    "2025-09-17T06:00:00",
                    "2025-09-17T07:00:00",
                    "2025-09-17T08:00:00",
                    "2025-09-17T09:00:00",
                    "2025-09-17T10:00:00",
                    "2025-09-17T11:00:00",
                    "2025-09-17T12:00:00",
                    "2025-09-17T13:00:00",
                    "2025-09-17T14:00:00",
                    "2025-09-17T15:00:00",
                    "2025-09-17T16:00:00",
                    "2025-09-17T17:00:00",
                    "2025-09-17T18:00:00",
                    "2025-09-17T19:00:00",
                    "2025-09-17T20:00:00",
                    "2025-09-17T21:00:00",
                    "2025-09-17T22:00:00",
                    "2025-09-17T23:00:00",
                    "2025-09-18T00:00:00",
                    "2025-09-18T01:00:00",
                    "2025-09-18T02:00:00",
                    "2025-09-18T03:00:00",
                    "2025-09-18T04:00:00",
                    "2025-09-18T05:00:00",
                    "2025-09-18T06:00:00",
                    "2025-09-18T07:00:00",
                    "2025-09-18T08:00:00",
                    "2025-09-18T09:00:00",
                    "2025-09-18T10:00:00",
                    "2025-09-18T11:00:00",
                    "2025-09-18T12:00:00",
                    "2025-09-18T13:00:00",
                    "2025-09-18T14:00:00",
                    "2025-09-18T15:00:00",
                    "2025-09-18T16:00:00",
                    "2025-09-18T17:00:00",
                    "2025-09-18T18:00:00",
                    "2025-09-18T21:00:00",
                    "2025-09-19T00:00:00",
                    "2025-09-19T03:00:00",
                    "2025-09-19T06:00:00",
                    "2025-09-19T09:00:00",
                    "2025-09-19T12:00:00",
                    "2025-09-19T15:00:00",
                    "2025-09-19T18:00:00",
                    "2025-09-19T21:00:00",
                    "2025-09-20T00:00:00",
                    "2025-09-20T03:00:00",
                    "2025-09-20T06:00:00",
                    "2025-09-20T09:00:00",
                    "2025-09-20T12:00:00",
                    "2025-09-20T15:00:00",
                    "2025-09-20T18:00:00",
                    "2025-09-20T21:00:00",
                    "2025-09-21T00:00:00",
                    "2025-09-21T06:00:00",
                    "2025-09-21T12:00:00"
                  ],
                  "xaxis": "x",
                  "y": {
                    "bdata": "mpmZcSgOckBmZmYmqhByQJqZmekfDnJAAAAA6DIKckAAAABY6QlyQAAAAEDMC3JAZmZmnjISckBmZmYWFilyQGZmZgYfPnJAmpmZkVtUckDNzMy0WW1yQJqZmfGCenJAAAAAMBx+ckAzMzODb3xyQJqZmXmvenJAmpmZ+QxmckAAAABYMkpyQAAAAMCxNXJAzczMZCEcckAAAAAQTBVyQAAAALiCD3JAMzMzg5YLckAzMzObbQdyQDMzM0uR/3FAAAAA8Pb4cUBmZmbOJvJxQGZmZqbL6HFAZmZmTobdcUAzMzNzINRxQDMzM6OvzHFAAAAAwBbTcUCamZkBKuNxQJqZmbk68HFAZmZmVq4AckDNzMxcTQ9yQJqZmUEzG3JAmpmZoS0ickDNzMyERyFyQGZmZu5WGXJAMzMzE6EKckAzMzMzovxxQAAAAHCP8XFAzczM/I7hcUDNzMw81dhxQAAAABiV0XFAmpmZiRnLcUAzMzM7u8VxQDMzM5tbwXFAzczM1DC7cUAAAAC4ubVxQAAAADADr3FAAAAAsGymcUAzMzPL6Z9xQJqZmcEenHFAmpmZibSmcUCamZnB6sdxQDMzMxOY4XFAAAAA6HrvcUDNzMyUMflxQGZmZtYAB3JAZmZmTksQckCamZn5rRtyQAAAAEj1J3JAzczMZHEsckCamZnZeypyQAAAADCAGHJAMzMzC7n/cUAAAAC4wvFxQJqZmYnW5nFAmpmZQczgcUAAAAB4z9dxQJqZmTEi0XFAZmZmPmnLcUDNzMy8JsRxQGZmZl73vXFAmpmZKS27cUBmZma+lrJxQJqZmQGJsXFAMzMzEx67cUAAAAAAPdhxQJqZmbkK/HFAAAAAyG8gckDNzMw8BUJyQDMzM3udW3JAmpmZUR1qckCamZmJvnNyQM3MzFzueHJAAAAAyLZ2ckDNzMw0tmtyQDMzM6sxSHJAZmZmHk4ockAzMzN7QAJyQAAAAHhK1XFAAAAAADi0cUCamZlJQ7RxQM3MzNxaJHJAmpmZWWR1ckCamZkhyoxyQM3MzLSDO3JAAAAA0HYNckAAAADw9PRxQM3MzCzP4XFAMzMzKyzecUAAAADo2DlyQJqZmTEamXJAMzMzG5OpckDNzMyUs1RyQDMzM8N+InJAzczMjPUAckAzMzP7efNxQGZmZsaCVXJA",
                    "dtype": "f8"
                  },
                  "yaxis": "y"
                },
                {
                  "hovertemplate": "%{y:.2f}<extra>P<sub>25%</sub></extra>",
                  "marker": {
                    "color": "#27aeef",
                    "size": 0.00001
                  },
                  "mode": "markers",
                  "type": "scatter",
                  "x": [
                    "2025-09-15T00:00:00",
                    "2025-09-15T01:00:00",
                    "2025-09-15T02:00:00",
                    "2025-09-15T03:00:00",
                    "2025-09-15T04:00:00",
                    "2025-09-15T05:00:00",
                    "2025-09-15T06:00:00",
                    "2025-09-15T07:00:00",
                    "2025-09-15T08:00:00",
                    "2025-09-15T09:00:00",
                    "2025-09-15T10:00:00",
                    "2025-09-15T11:00:00",
                    "2025-09-15T12:00:00",
                    "2025-09-15T13:00:00",
                    "2025-09-15T14:00:00",
                    "2025-09-15T15:00:00",
                    "2025-09-15T16:00:00",
                    "2025-09-15T17:00:00",
                    "2025-09-15T18:00:00",
                    "2025-09-15T19:00:00",
                    "2025-09-15T20:00:00",
                    "2025-09-15T21:00:00",
                    "2025-09-15T22:00:00",
                    "2025-09-15T23:00:00",
                    "2025-09-16T00:00:00",
                    "2025-09-16T01:00:00",
                    "2025-09-16T02:00:00",
                    "2025-09-16T03:00:00",
                    "2025-09-16T04:00:00",
                    "2025-09-16T05:00:00",
                    "2025-09-16T06:00:00",
                    "2025-09-16T07:00:00",
                    "2025-09-16T08:00:00",
                    "2025-09-16T09:00:00",
                    "2025-09-16T10:00:00",
                    "2025-09-16T11:00:00",
                    "2025-09-16T12:00:00",
                    "2025-09-16T13:00:00",
                    "2025-09-16T14:00:00",
                    "2025-09-16T15:00:00",
                    "2025-09-16T16:00:00",
                    "2025-09-16T17:00:00",
                    "2025-09-16T18:00:00",
                    "2025-09-16T19:00:00",
                    "2025-09-16T20:00:00",
                    "2025-09-16T21:00:00",
                    "2025-09-16T22:00:00",
                    "2025-09-16T23:00:00",
                    "2025-09-17T00:00:00",
                    "2025-09-17T01:00:00",
                    "2025-09-17T02:00:00",
                    "2025-09-17T03:00:00",
                    "2025-09-17T04:00:00",
                    "2025-09-17T05:00:00",
                    "2025-09-17T06:00:00",
                    "2025-09-17T07:00:00",
                    "2025-09-17T08:00:00",
                    "2025-09-17T09:00:00",
                    "2025-09-17T10:00:00",
                    "2025-09-17T11:00:00",
                    "2025-09-17T12:00:00",
                    "2025-09-17T13:00:00",
                    "2025-09-17T14:00:00",
                    "2025-09-17T15:00:00",
                    "2025-09-17T16:00:00",
                    "2025-09-17T17:00:00",
                    "2025-09-17T18:00:00",
                    "2025-09-17T19:00:00",
                    "2025-09-17T20:00:00",
                    "2025-09-17T21:00:00",
                    "2025-09-17T22:00:00",
                    "2025-09-17T23:00:00",
                    "2025-09-18T00:00:00",
                    "2025-09-18T01:00:00",
                    "2025-09-18T02:00:00",
                    "2025-09-18T03:00:00",
                    "2025-09-18T04:00:00",
                    "2025-09-18T05:00:00",
                    "2025-09-18T06:00:00",
                    "2025-09-18T07:00:00",
                    "2025-09-18T08:00:00",
                    "2025-09-18T09:00:00",
                    "2025-09-18T10:00:00",
                    "2025-09-18T11:00:00",
                    "2025-09-18T12:00:00",
                    "2025-09-18T13:00:00",
                    "2025-09-18T14:00:00",
                    "2025-09-18T15:00:00",
                    "2025-09-18T16:00:00",
                    "2025-09-18T17:00:00",
                    "2025-09-18T18:00:00",
                    "2025-09-18T21:00:00",
                    "2025-09-19T00:00:00",
                    "2025-09-19T03:00:00",
                    "2025-09-19T06:00:00",
                    "2025-09-19T09:00:00",
                    "2025-09-19T12:00:00",
                    "2025-09-19T15:00:00",
                    "2025-09-19T18:00:00",
                    "2025-09-19T21:00:00",
                    "2025-09-20T00:00:00",
                    "2025-09-20T03:00:00",
                    "2025-09-20T06:00:00",
                    "2025-09-20T09:00:00",
                    "2025-09-20T12:00:00",
                    "2025-09-20T15:00:00",
                    "2025-09-20T18:00:00",
                    "2025-09-20T21:00:00",
                    "2025-09-21T00:00:00",
                    "2025-09-21T06:00:00",
                    "2025-09-21T12:00:00"
                  ],
                  "xaxis": "x",
                  "y": {
                    "bdata": "AAAAtAMWckAAAAAwwhNyQAAAAMSKEXJAAAAAeA8MckAAAADc7A5yQAAAAKyoDnJAAAAABLsUckAAAACYLipyQAAAACRsQHJAAAAAhNBXckAAAAAw625yQAAAANT6fXJAAAAAOJyCckAAAACQAoFyQAAAACABfnJAAAAAhNZwckAAAACkZldyQAAAALjEPHJAAAAAlL0kckAAAADoRhtyQAAAAPQ3EnJAAAAA2CwNckAAAABMswhyQAAAANgJBHJAAAAAlLr8cUAAAAD43/dxQAAAAIQH7nFAAAAADOjkcUAAAAC829pxQAAAAJxh03FAAAAATHXXcUAAAADMgOdxQAAAAMBh83FAAAAAaJAEckAAAAAMmBJyQAAAAMAWH3JAAAAA3MYlckAAAABoUyhyQAAAADQzHXJAAAAAlCQOckAAAAC0qwByQAAAAMQp9XFAAAAAXEDmcUAAAADo6d5xQAAAALRU2HFAAAAANPHQcUAAAADs9MtxQAAAALA3xXFAAAAAODzAcUAAAADUl71xQAAAAESVtXFAAAAADPSucUAAAADouKpxQAAAAEhSpnFAAAAARAm1cUAAAAB08tFxQAAAAHxT6nFAAAAAwD/6cUAAAAA8aAZyQAAAAFTwFHJAAAAACIwhckAAAAC4XChyQAAAAKxqM3JAAAAA6Dk3ckAAAABglzRyQAAAAMCnIXJAAAAAyPgEckAAAAA8zPlxQAAAAGQj7nFAAAAAlD3kcUAAAAAEit1xQAAAADhp1XFAAAAAOILNcUAAAABg88hxQAAAAMikwnFAAAAAvE++cUAAAAD4YLpxQAAAAAiRtXFAAAAA/EfCcUAAAAAMJuFxQAAAAJCDCXJAAAAANNgsckAAAADQN0pyQAAAAFDkX3JAAAAAWOBvckAAAADIk3pyQAAAAEzkfnJAAAAAgB57ckAAAAAQ2XByQAAAACxbTXJAAAAAJHssckAAAADo7wdyQAAAAAzJ3nFAAAAAqDu9cUAAAACcKrxxQAAAAESHKXJAAAAAGB94ckAAAACYEJFyQAAAAJwMQXJAAAAA+N4TckAAAABY+ftxQAAAADAz63FAAAAAwIvpcUAAAAA8WUJyQAAAANijnHJAAAAAwBOtckAAAADk7FlyQAAAAAhpLHJAAAAAmLASckAAAABklAFyQAAAAOBTk3JA",
                    "dtype": "f8"
                  },
                  "yaxis": "y"
                },
                {
                  "hovertemplate": "%{y:.2f}<extra>P<sub>50%</sub></extra>",
                  "marker": {
                    "color": "#27aeef",
                    "size": 0.00001
                  },
                  "mode": "markers",
                  "type": "scatter",
                  "x": [
                    "2025-09-15T00:00:00",
                    "2025-09-15T01:00:00",
                    "2025-09-15T02:00:00",
                    "2025-09-15T03:00:00",
                    "2025-09-15T04:00:00",
                    "2025-09-15T05:00:00",
                    "2025-09-15T06:00:00",
                    "2025-09-15T07:00:00",
                    "2025-09-15T08:00:00",
                    "2025-09-15T09:00:00",
                    "2025-09-15T10:00:00",
                    "2025-09-15T11:00:00",
                    "2025-09-15T12:00:00",
                    "2025-09-15T13:00:00",
                    "2025-09-15T14:00:00",
                    "2025-09-15T15:00:00",
                    "2025-09-15T16:00:00",
                    "2025-09-15T17:00:00",
                    "2025-09-15T18:00:00",
                    "2025-09-15T19:00:00",
                    "2025-09-15T20:00:00",
                    "2025-09-15T21:00:00",
                    "2025-09-15T22:00:00",
                    "2025-09-15T23:00:00",
                    "2025-09-16T00:00:00",
                    "2025-09-16T01:00:00",
                    "2025-09-16T02:00:00",
                    "2025-09-16T03:00:00",
                    "2025-09-16T04:00:00",
                    "2025-09-16T05:00:00",
                    "2025-09-16T06:00:00",
                    "2025-09-16T07:00:00",
                    "2025-09-16T08:00:00",
                    "2025-09-16T09:00:00",
                    "2025-09-16T10:00:00",
                    "2025-09-16T11:00:00",
                    "2025-09-16T12:00:00",
                    "2025-09-16T13:00:00",
                    "2025-09-16T14:00:00",
                    "2025-09-16T15:00:00",
                    "2025-09-16T16:00:00",
                    "2025-09-16T17:00:00",
                    "2025-09-16T18:00:00",
                    "2025-09-16T19:00:00",
                    "2025-09-16T20:00:00",
                    "2025-09-16T21:00:00",
                    "2025-09-16T22:00:00",
                    "2025-09-16T23:00:00",
                    "2025-09-17T00:00:00",
                    "2025-09-17T01:00:00",
                    "2025-09-17T02:00:00",
                    "2025-09-17T03:00:00",
                    "2025-09-17T04:00:00",
                    "2025-09-17T05:00:00",
                    "2025-09-17T06:00:00",
                    "2025-09-17T07:00:00",
                    "2025-09-17T08:00:00",
                    "2025-09-17T09:00:00",
                    "2025-09-17T10:00:00",
                    "2025-09-17T11:00:00",
                    "2025-09-17T12:00:00",
                    "2025-09-17T13:00:00",
                    "2025-09-17T14:00:00",
                    "2025-09-17T15:00:00",
                    "2025-09-17T16:00:00",
                    "2025-09-17T17:00:00",
                    "2025-09-17T18:00:00",
                    "2025-09-17T19:00:00",
                    "2025-09-17T20:00:00",
                    "2025-09-17T21:00:00",
                    "2025-09-17T22:00:00",
                    "2025-09-17T23:00:00",
                    "2025-09-18T00:00:00",
                    "2025-09-18T01:00:00",
                    "2025-09-18T02:00:00",
                    "2025-09-18T03:00:00",
                    "2025-09-18T04:00:00",
                    "2025-09-18T05:00:00",
                    "2025-09-18T06:00:00",
                    "2025-09-18T07:00:00",
                    "2025-09-18T08:00:00",
                    "2025-09-18T09:00:00",
                    "2025-09-18T10:00:00",
                    "2025-09-18T11:00:00",
                    "2025-09-18T12:00:00",
                    "2025-09-18T13:00:00",
                    "2025-09-18T14:00:00",
                    "2025-09-18T15:00:00",
                    "2025-09-18T16:00:00",
                    "2025-09-18T17:00:00",
                    "2025-09-18T18:00:00",
                    "2025-09-18T21:00:00",
                    "2025-09-19T00:00:00",
                    "2025-09-19T03:00:00",
                    "2025-09-19T06:00:00",
                    "2025-09-19T09:00:00",
                    "2025-09-19T12:00:00",
                    "2025-09-19T15:00:00",
                    "2025-09-19T18:00:00",
                    "2025-09-19T21:00:00",
                    "2025-09-20T00:00:00",
                    "2025-09-20T03:00:00",
                    "2025-09-20T06:00:00",
                    "2025-09-20T09:00:00",
                    "2025-09-20T12:00:00",
                    "2025-09-20T15:00:00",
                    "2025-09-20T18:00:00",
                    "2025-09-20T21:00:00",
                    "2025-09-21T00:00:00",
                    "2025-09-21T06:00:00",
                    "2025-09-21T12:00:00"
                  ],
                  "xaxis": "x",
                  "y": {
                    "bdata": "AAAA4KgbckAAAAA45hhyQAAAALBSF3JAAAAAKDMRckAAAABgsRRyQAAAAHCsFHJAAAAAWAsZckAAAAAosixyQAAAAAhNQ3JAAAAAwCVbckAAAACgInFyQAAAACipgHJAAAAAmAuHckAAAAC41oZyQAAAALjwg3JAAAAAWJV7ckAAAADQEV1yQAAAAPiSRHJAAAAAKAQtckAAAACwzyNyQAAAAECUFnJAAAAASIkRckAAAAA4mgxyQAAAAJh+BnJAAAAAgOIBckAAAAA4LPtxQAAAALgZ8nFAAAAAgCPrcUAAAACAaeNxQAAAABAv23FAAAAAQB3dcUAAAAAoc+pxQAAAAFCe93FAAAAAIBEGckAAAAB47RdyQAAAAKAjJXJAAAAAgDQtckAAAAAABS9yQAAAAAhZJXJAAAAAWJgSckAAAAAgvQVyQAAAAFA++HFAAAAACDfrcUAAAABop+JxQAAAAOjV3XFAAAAAMPLWcUAAAACYV9BxQAAAAHDty3FAAAAAkAHHcUAAAACoUcJxQAAAAADFvXFAAAAAyES4cUAAAABQnrFxQAAAAPgZrXFAAAAAeFS9cUAAAACYvddxQAAAAHgV8nFAAAAAwC8EckAAAADIPxJyQAAAAEjIHnJAAAAAiGwrckAAAABwpzVyQAAAAPBePXJAAAAAmB5BckAAAABY4TxyQAAAAAhqKnJAAAAAmOoOckAAAAC4eQJyQAAAAMCS83FAAAAAoKzqcUAAAAAAteNxQAAAACAL3HFAAAAAGM7UcUAAAAAgb85xQAAAABByyXFAAAAA4IfEcUAAAABYh8BxQAAAAPj0unFAAAAA+GTKcUAAAACYrOxxQAAAANiWFXJAAAAA0FY3ckAAAACgt1FyQAAAAHi6ZXJAAAAAWOt1ckAAAAAIMYByQAAAALBig3JAAAAAoIiAckAAAAAgcnhyQAAAABDfVHJAAAAAaBoyckAAAACw3wxyQAAAANDZ5nFAAAAAiDvGcUAAAAAQhcRxQAAAAPAJMXJAAAAACKSBckAAAADoG5VyQAAAAOj0RXJAAAAAeLkZckAAAACAOwRyQAAAAFjK9XFAAAAAsCjzcUAAAADQ0E9yQAAAAOCBonJAAAAA+MSxckAAAABIW19yQAAAABi6NnJAAAAAQEQdckAAAABgVA1yQAAAABjGnnJA",
                    "dtype": "f8"
                  },
                  "yaxis": "y"
                },
                {
                  "hovertemplate": "%{y:.2f}<extra>P<sub>75%</sub></extra>",
                  "marker": {
                    "color": "#27aeef",
                    "size": 0.00001
                  },
                  "mode": "markers",
                  "type": "scatter",
                  "x": [
                    "2025-09-15T00:00:00",
                    "2025-09-15T01:00:00",
                    "2025-09-15T02:00:00",
                    "2025-09-15T03:00:00",
                    "2025-09-15T04:00:00",
                    "2025-09-15T05:00:00",
                    "2025-09-15T06:00:00",
                    "2025-09-15T07:00:00",
                    "2025-09-15T08:00:00",
                    "2025-09-15T09:00:00",
                    "2025-09-15T10:00:00",
                    "2025-09-15T11:00:00",
                    "2025-09-15T12:00:00",
                    "2025-09-15T13:00:00",
                    "2025-09-15T14:00:00",
                    "2025-09-15T15:00:00",
                    "2025-09-15T16:00:00",
                    "2025-09-15T17:00:00",
                    "2025-09-15T18:00:00",
                    "2025-09-15T19:00:00",
                    "2025-09-15T20:00:00",
                    "2025-09-15T21:00:00",
                    "2025-09-15T22:00:00",
                    "2025-09-15T23:00:00",
                    "2025-09-16T00:00:00",
                    "2025-09-16T01:00:00",
                    "2025-09-16T02:00:00",
                    "2025-09-16T03:00:00",
                    "2025-09-16T04:00:00",
                    "2025-09-16T05:00:00",
                    "2025-09-16T06:00:00",
                    "2025-09-16T07:00:00",
                    "2025-09-16T08:00:00",
                    "2025-09-16T09:00:00",
                    "2025-09-16T10:00:00",
                    "2025-09-16T11:00:00",
                    "2025-09-16T12:00:00",
                    "2025-09-16T13:00:00",
                    "2025-09-16T14:00:00",
                    "2025-09-16T15:00:00",
                    "2025-09-16T16:00:00",
                    "2025-09-16T17:00:00",
                    "2025-09-16T18:00:00",
                    "2025-09-16T19:00:00",
                    "2025-09-16T20:00:00",
                    "2025-09-16T21:00:00",
                    "2025-09-16T22:00:00",
                    "2025-09-16T23:00:00",
                    "2025-09-17T00:00:00",
                    "2025-09-17T01:00:00",
                    "2025-09-17T02:00:00",
                    "2025-09-17T03:00:00",
                    "2025-09-17T04:00:00",
                    "2025-09-17T05:00:00",
                    "2025-09-17T06:00:00",
                    "2025-09-17T07:00:00",
                    "2025-09-17T08:00:00",
                    "2025-09-17T09:00:00",
                    "2025-09-17T10:00:00",
                    "2025-09-17T11:00:00",
                    "2025-09-17T12:00:00",
                    "2025-09-17T13:00:00",
                    "2025-09-17T14:00:00",
                    "2025-09-17T15:00:00",
                    "2025-09-17T16:00:00",
                    "2025-09-17T17:00:00",
                    "2025-09-17T18:00:00",
                    "2025-09-17T19:00:00",
                    "2025-09-17T20:00:00",
                    "2025-09-17T21:00:00",
                    "2025-09-17T22:00:00",
                    "2025-09-17T23:00:00",
                    "2025-09-18T00:00:00",
                    "2025-09-18T01:00:00",
                    "2025-09-18T02:00:00",
                    "2025-09-18T03:00:00",
                    "2025-09-18T04:00:00",
                    "2025-09-18T05:00:00",
                    "2025-09-18T06:00:00",
                    "2025-09-18T07:00:00",
                    "2025-09-18T08:00:00",
                    "2025-09-18T09:00:00",
                    "2025-09-18T10:00:00",
                    "2025-09-18T11:00:00",
                    "2025-09-18T12:00:00",
                    "2025-09-18T13:00:00",
                    "2025-09-18T14:00:00",
                    "2025-09-18T15:00:00",
                    "2025-09-18T16:00:00",
                    "2025-09-18T17:00:00",
                    "2025-09-18T18:00:00",
                    "2025-09-18T21:00:00",
                    "2025-09-19T00:00:00",
                    "2025-09-19T03:00:00",
                    "2025-09-19T06:00:00",
                    "2025-09-19T09:00:00",
                    "2025-09-19T12:00:00",
                    "2025-09-19T15:00:00",
                    "2025-09-19T18:00:00",
                    "2025-09-19T21:00:00",
                    "2025-09-20T00:00:00",
                    "2025-09-20T03:00:00",
                    "2025-09-20T06:00:00",
                    "2025-09-20T09:00:00",
                    "2025-09-20T12:00:00",
                    "2025-09-20T15:00:00",
                    "2025-09-20T18:00:00",
                    "2025-09-20T21:00:00",
                    "2025-09-21T00:00:00",
                    "2025-09-21T06:00:00",
                    "2025-09-21T12:00:00"
                  ],
                  "xaxis": "x",
                  "y": {
                    "bdata": "AAAAEHIlckAAAABQOh1yQAAAAHA1HXJAAAAAqJkXckAAAADA6BhyQAAAANiAGXJAAAAAiGoeckAAAAAo7S9yQAAAABgpRnJAAAAA1AldckAAAAA0EHRyQAAAAEyag3JAAAAA7M2KckAAAABEZYxyQAAAAJApinJAAAAAbN2BckAAAADgBmtyQAAAANA3SnJAAAAAMGM1ckAAAACorypyQAAAABRYHXJAAAAAdAgXckAAAAD8YBJyQAAAAGysDHJAAAAAnAQGckAAAAAoE/5xQAAAAJi19XFAAAAA4DbxcUAAAAAIMutxQAAAAGTV4HFAAAAAjPTicUAAAAAQUPBxQAAAAFj8/HFAAAAAqCMMckAAAACwLRtyQAAAAFBWKXJAAAAAjP4wckAAAAAoPzVyQAAAAEg0KXJAAAAAwMwackAAAACEZQlyQAAAADRQ+3FAAAAADD3ucUAAAADgJ+dxQAAAANxz4nFAAAAAdMjdcUAAAABIP9pxQAAAAJB803FAAAAAhLrPcUAAAACoy8pxQAAAALhwxHFAAAAAgEy+cUAAAABwn7txQAAAAEiZunFAAAAAqJLGcUAAAABgUd5xQAAAAJhE+HFAAAAAeE8JckAAAADYChhyQAAAALC5JnJAAAAAvLE0ckAAAACQ7kJyQAAAAITjSnJAAAAAELJOckAAAAAEt0lyQAAAANxFMnJAAAAAjP4UckAAAAC0PwhyQAAAALQl/HFAAAAALN3xcUAAAADwBOlxQAAAAKyz4HFAAAAAyMLZcUAAAAD8z9JxQAAAALRj0HFAAAAADA/LcUAAAADok8ZxQAAAAORWwHFAAAAAgAfOcUAAAABAUvNxQAAAACjeHHJAAAAAxH4+ckAAAACkz1dyQAAAALRNa3JAAAAAhEV6ckAAAAAEpYNyQAAAAMTmh3JAAAAA5AiGckAAAABcbH5yQAAAABR0WXJAAAAAGDA4ckAAAABwrBFyQAAAAPAy7nFAAAAA4L7PcUAAAAAg4NFxQAAAAKgzN3JAAAAASLeIckAAAAB4d5tyQAAAAKxGS3JAAAAANNkkckAAAAA03AlyQAAAANhJ/HFAAAAALHP+cUAAAACoZlxyQAAAAMCEqXJAAAAAlEu4ckAAAAD0cmVyQAAAADQlPnJAAAAAFMslckAAAAA4TxVyQAAAAET5p3JA",
                    "dtype": "f8"
                  },
                  "yaxis": "y"
                },
                {
                  "hovertemplate": "%{y:.2f}<extra>P<sub>90%</sub></extra>",
                  "marker": {
                    "color": "#27aeef",
                    "size": 0.00001
                  },
                  "mode": "markers",
                  "type": "scatter",
                  "x": [
                    "2025-09-15T00:00:00",
                    "2025-09-15T01:00:00",
                    "2025-09-15T02:00:00",
                    "2025-09-15T03:00:00",
                    "2025-09-15T04:00:00",
                    "2025-09-15T05:00:00",
                    "2025-09-15T06:00:00",
                    "2025-09-15T07:00:00",
                    "2025-09-15T08:00:00",
                    "2025-09-15T09:00:00",
                    "2025-09-15T10:00:00",
                    "2025-09-15T11:00:00",
                    "2025-09-15T12:00:00",
                    "2025-09-15T13:00:00",
                    "2025-09-15T14:00:00",
                    "2025-09-15T15:00:00",
                    "2025-09-15T16:00:00",
                    "2025-09-15T17:00:00",
                    "2025-09-15T18:00:00",
                    "2025-09-15T19:00:00",
                    "2025-09-15T20:00:00",
                    "2025-09-15T21:00:00",
                    "2025-09-15T22:00:00",
                    "2025-09-15T23:00:00",
                    "2025-09-16T00:00:00",
                    "2025-09-16T01:00:00",
                    "2025-09-16T02:00:00",
                    "2025-09-16T03:00:00",
                    "2025-09-16T04:00:00",
                    "2025-09-16T05:00:00",
                    "2025-09-16T06:00:00",
                    "2025-09-16T07:00:00",
                    "2025-09-16T08:00:00",
                    "2025-09-16T09:00:00",
                    "2025-09-16T10:00:00",
                    "2025-09-16T11:00:00",
                    "2025-09-16T12:00:00",
                    "2025-09-16T13:00:00",
                    "2025-09-16T14:00:00",
                    "2025-09-16T15:00:00",
                    "2025-09-16T16:00:00",
                    "2025-09-16T17:00:00",
                    "2025-09-16T18:00:00",
                    "2025-09-16T19:00:00",
                    "2025-09-16T20:00:00",
                    "2025-09-16T21:00:00",
                    "2025-09-16T22:00:00",
                    "2025-09-16T23:00:00",
                    "2025-09-17T00:00:00",
                    "2025-09-17T01:00:00",
                    "2025-09-17T02:00:00",
                    "2025-09-17T03:00:00",
                    "2025-09-17T04:00:00",
                    "2025-09-17T05:00:00",
                    "2025-09-17T06:00:00",
                    "2025-09-17T07:00:00",
                    "2025-09-17T08:00:00",
                    "2025-09-17T09:00:00",
                    "2025-09-17T10:00:00",
                    "2025-09-17T11:00:00",
                    "2025-09-17T12:00:00",
                    "2025-09-17T13:00:00",
                    "2025-09-17T14:00:00",
                    "2025-09-17T15:00:00",
                    "2025-09-17T16:00:00",
                    "2025-09-17T17:00:00",
                    "2025-09-17T18:00:00",
                    "2025-09-17T19:00:00",
                    "2025-09-17T20:00:00",
                    "2025-09-17T21:00:00",
                    "2025-09-17T22:00:00",
                    "2025-09-17T23:00:00",
                    "2025-09-18T00:00:00",
                    "2025-09-18T01:00:00",
                    "2025-09-18T02:00:00",
                    "2025-09-18T03:00:00",
                    "2025-09-18T04:00:00",
                    "2025-09-18T05:00:00",
                    "2025-09-18T06:00:00",
                    "2025-09-18T07:00:00",
                    "2025-09-18T08:00:00",
                    "2025-09-18T09:00:00",
                    "2025-09-18T10:00:00",
                    "2025-09-18T11:00:00",
                    "2025-09-18T12:00:00",
                    "2025-09-18T13:00:00",
                    "2025-09-18T14:00:00",
                    "2025-09-18T15:00:00",
                    "2025-09-18T16:00:00",
                    "2025-09-18T17:00:00",
                    "2025-09-18T18:00:00",
                    "2025-09-18T21:00:00",
                    "2025-09-19T00:00:00",
                    "2025-09-19T03:00:00",
                    "2025-09-19T06:00:00",
                    "2025-09-19T09:00:00",
                    "2025-09-19T12:00:00",
                    "2025-09-19T15:00:00",
                    "2025-09-19T18:00:00",
                    "2025-09-19T21:00:00",
                    "2025-09-20T00:00:00",
                    "2025-09-20T03:00:00",
                    "2025-09-20T06:00:00",
                    "2025-09-20T09:00:00",
                    "2025-09-20T12:00:00",
                    "2025-09-20T15:00:00",
                    "2025-09-20T18:00:00",
                    "2025-09-20T21:00:00",
                    "2025-09-21T00:00:00",
                    "2025-09-21T06:00:00",
                    "2025-09-21T12:00:00"
                  ],
                  "xaxis": "x",
                  "y": {
                    "bdata": "zczMxD8sckDNzMyEeSNyQAAAAHCAI3JAzczMTOYfckDNzMwULCFyQGZmZo7rIXJAAAAA6EIlckAzMzMrjjZyQAAAAAgfSHJAAAAAeAleckAzMzPjbHZyQDMzM+vehXJAZmZmLq+NckAAAADYxo9yQDMzM1OOjXJAzczMHLuHckBmZmbO/HVyQJqZmXlHV3JAZmZmtnE8ckCamZmpwy9yQAAAAEBEI3JAAAAAEIwcckDNzMy8nxdyQAAAAPDyEXJAzczMPGoLckBmZmbOUQNyQGZmZsaL+HFAZmZmXvb0cUAAAACARO9xQM3MzIQ253FAAAAA8OrlcUAAAAAgC/NxQDMzM0t1/3FAZmZmNhkQckDNzMwUeB9yQDMzM6MQLnJAzczM1KQ2ckBmZmaeETxyQDMzM7u1NnJAMzMzA3UmckAzMzOrRhByQGZmZrac/3FAAAAAqFL1cUAzMzMDpuxxQJqZmWlS6HFAmpmZKbTicUBmZmY2Ft1xQDMzM4Mj2HFAzczMRLrWcUDNzMw039BxQJqZmZGeznFAAAAAMKnGcUAzMzNj3cBxQGZmZt4VwHFAZmZm7kzNcUDNzMw8SuNxQDMzM+OX/HFAAAAAmFYPckAAAADgzR5yQDMzM7OALnJAMzMzw5U7ckDNzMyk2UlyQAAAAFjcVXJAAAAAcI9ZckCamZmJ9FRyQJqZmbGgOXJAZmZm3o4cckBmZmaWjwxyQJqZmTmJ/3FAAAAAECf1cUCamZnxze1xQGZmZh656HFAAAAA0GjhcUAzMzMjU95xQAAAADjq1nFAZmZmnmLRcUBmZmamn8xxQDMzM+sRxnFAmpmZ4QTTcUAAAADgR/ZxQGZmZvaIIXJAAAAAMI5CckBmZmYmh1xyQJqZmdF7dHJAZmZmroOCckDNzMzUYIxyQM3MzDTGj3JAzczMtJiMckCamZlhMYNyQAAAABAJX3JAAAAAOF89ckAzMzMr2hVyQJqZmcmU9nFAZmZmrjPZcUBmZmY26NVxQM3MzHTpPXJAzczM5BKUckAAAABwj6NyQJqZmTEZUHJAmpmZWSIrckBmZmZWAhJyQGZmZp4OB3JAmpmZIdwEckDNzMykTmdyQDMzM5Nnq3JAMzMzM8u5ckBmZmZ2xmtyQJqZmaEqRHJAzczM3M4vckAAAACwnSByQDMzM/OYq3JA",
                    "dtype": "f8"
                  },
                  "yaxis": "y"
                },
                {
                  "hovertemplate": "%{y:.2f}<extra>P<sub>100%</sub></extra>",
                  "marker": {
                    "color": "#27aeef",
                    "size": 0.00001
                  },
                  "mode": "markers",
                  "type": "scatter",
                  "x": [
                    "2025-09-15T00:00:00",
                    "2025-09-15T01:00:00",
                    "2025-09-15T02:00:00",
                    "2025-09-15T03:00:00",
                    "2025-09-15T04:00:00",
                    "2025-09-15T05:00:00",
                    "2025-09-15T06:00:00",
                    "2025-09-15T07:00:00",
                    "2025-09-15T08:00:00",
                    "2025-09-15T09:00:00",
                    "2025-09-15T10:00:00",
                    "2025-09-15T11:00:00",
                    "2025-09-15T12:00:00",
                    "2025-09-15T13:00:00",
                    "2025-09-15T14:00:00",
                    "2025-09-15T15:00:00",
                    "2025-09-15T16:00:00",
                    "2025-09-15T17:00:00",
                    "2025-09-15T18:00:00",
                    "2025-09-15T19:00:00",
                    "2025-09-15T20:00:00",
                    "2025-09-15T21:00:00",
                    "2025-09-15T22:00:00",
                    "2025-09-15T23:00:00",
                    "2025-09-16T00:00:00",
                    "2025-09-16T01:00:00",
                    "2025-09-16T02:00:00",
                    "2025-09-16T03:00:00",
                    "2025-09-16T04:00:00",
                    "2025-09-16T05:00:00",
                    "2025-09-16T06:00:00",
                    "2025-09-16T07:00:00",
                    "2025-09-16T08:00:00",
                    "2025-09-16T09:00:00",
                    "2025-09-16T10:00:00",
                    "2025-09-16T11:00:00",
                    "2025-09-16T12:00:00",
                    "2025-09-16T13:00:00",
                    "2025-09-16T14:00:00",
                    "2025-09-16T15:00:00",
                    "2025-09-16T16:00:00",
                    "2025-09-16T17:00:00",
                    "2025-09-16T18:00:00",
                    "2025-09-16T19:00:00",
                    "2025-09-16T20:00:00",
                    "2025-09-16T21:00:00",
                    "2025-09-16T22:00:00",
                    "2025-09-16T23:00:00",
                    "2025-09-17T00:00:00",
                    "2025-09-17T01:00:00",
                    "2025-09-17T02:00:00",
                    "2025-09-17T03:00:00",
                    "2025-09-17T04:00:00",
                    "2025-09-17T05:00:00",
                    "2025-09-17T06:00:00",
                    "2025-09-17T07:00:00",
                    "2025-09-17T08:00:00",
                    "2025-09-17T09:00:00",
                    "2025-09-17T10:00:00",
                    "2025-09-17T11:00:00",
                    "2025-09-17T12:00:00",
                    "2025-09-17T13:00:00",
                    "2025-09-17T14:00:00",
                    "2025-09-17T15:00:00",
                    "2025-09-17T16:00:00",
                    "2025-09-17T17:00:00",
                    "2025-09-17T18:00:00",
                    "2025-09-17T19:00:00",
                    "2025-09-17T20:00:00",
                    "2025-09-17T21:00:00",
                    "2025-09-17T22:00:00",
                    "2025-09-17T23:00:00",
                    "2025-09-18T00:00:00",
                    "2025-09-18T01:00:00",
                    "2025-09-18T02:00:00",
                    "2025-09-18T03:00:00",
                    "2025-09-18T04:00:00",
                    "2025-09-18T05:00:00",
                    "2025-09-18T06:00:00",
                    "2025-09-18T07:00:00",
                    "2025-09-18T08:00:00",
                    "2025-09-18T09:00:00",
                    "2025-09-18T10:00:00",
                    "2025-09-18T11:00:00",
                    "2025-09-18T12:00:00",
                    "2025-09-18T13:00:00",
                    "2025-09-18T14:00:00",
                    "2025-09-18T15:00:00",
                    "2025-09-18T16:00:00",
                    "2025-09-18T17:00:00",
                    "2025-09-18T18:00:00",
                    "2025-09-18T21:00:00",
                    "2025-09-19T00:00:00",
                    "2025-09-19T03:00:00",
                    "2025-09-19T06:00:00",
                    "2025-09-19T09:00:00",
                    "2025-09-19T12:00:00",
                    "2025-09-19T15:00:00",
                    "2025-09-19T18:00:00",
                    "2025-09-19T21:00:00",
                    "2025-09-20T00:00:00",
                    "2025-09-20T03:00:00",
                    "2025-09-20T06:00:00",
                    "2025-09-20T09:00:00",
                    "2025-09-20T12:00:00",
                    "2025-09-20T15:00:00",
                    "2025-09-20T18:00:00",
                    "2025-09-20T21:00:00",
                    "2025-09-21T00:00:00",
                    "2025-09-21T06:00:00",
                    "2025-09-21T12:00:00"
                  ],
                  "xaxis": "x",
                  "y": {
                    "bdata": "AAAAwPIzckAAAACArC1yQAAAABD4MHJAAAAAELkockAAAABQZipyQAAAAGAHKnJAAAAAMG8sckAAAADg2TxyQAAAAMBzT3JAAAAAcE9kckAAAADQZXpyQAAAAABFiXJAAAAAIOKVckAAAACgE5NyQAAAAOB2n3JAAAAAEDyWckAAAACwhYtyQAAAACDLcnJAAAAA4NVGckAAAAAwzzNyQAAAAJBQJnJAAAAAsDclckAAAABg8xpyQAAAAIBuFnJAAAAAILkSckAAAACQrhByQAAAAPDrBXJAAAAAUC75cUAAAADgmPNxQAAAAOCi63FAAAAA4OztcUAAAABwPPVxQAAAAODwA3JAAAAAoKYUckAAAADwAydyQAAAAHAiOHJAAAAA4Ic+ckAAAAAAfUZyQAAAAICOP3JAAAAAgE8xckAAAAAgax5yQAAAADDPCHJAAAAAMJP9cUAAAACwn/lxQAAAAPBY83FAAAAAcMTvcUAAAABgK+pxQAAAAOCd4XFAAAAAYEbccUAAAABg2txxQAAAANBA3XFAAAAA0NzccUAAAAAwl9ZxQAAAAMBG0HFAAAAAsA/WcUAAAACAn+xxQAAAAJA9A3JAAAAAAEgUckAAAACwliNyQAAAAJAXOnJAAAAA4FFNckAAAAAA6FtyQAAAAIBKY3JAAAAAsAxlckAAAADwD11yQAAAAPDwQXJAAAAA8HslckAAAABQ3BhyQAAAAKBeCnJAAAAAwLr8cUAAAAAwN/dxQAAAAFDO7nFAAAAAEPDrcUAAAAAwreZxQAAAAPCs4XFAAAAA8IfYcUAAAACgMdRxQAAAAKDrz3FAAAAAwOblcUAAAACQBghyQAAAAMBoMXJAAAAAsLdYckAAAAAgVnJyQAAAADD8hHJAAAAAQG2QckAAAADgRJZyQAAAAHA6mHJAAAAAEPGUckAAAABgNItyQAAAAHAGZnJAAAAAcPhFckAAAADQtxxyQAAAAODR/HFAAAAAwPLncUAAAAAQzdpxQAAAAOB9TXJAAAAAMHukckAAAADwTbFyQAAAAIA6YHJAAAAAAJcyckAAAACgZhpyQAAAAJCPEXJAAAAAoL0ZckAAAADw3nZyQAAAADBKs3JAAAAAYNC/ckAAAABwUnlyQAAAANCkXXJAAAAAgFdEckAAAADggChyQAAAAGAlsHJA",
                    "dtype": "f8"
                  },
                  "yaxis": "y"
                },
                {
                  "line": {
                    "color": "grey"
                  },
                  "name": "mean",
                  "type": "scatter",
                  "x": [
                    "2025-09-15T00:00:00",
                    "2025-09-15T01:00:00",
                    "2025-09-15T02:00:00",
                    "2025-09-15T03:00:00",
                    "2025-09-15T04:00:00",
                    "2025-09-15T05:00:00",
                    "2025-09-15T06:00:00",
                    "2025-09-15T07:00:00",
                    "2025-09-15T08:00:00",
                    "2025-09-15T09:00:00",
                    "2025-09-15T10:00:00",
                    "2025-09-15T11:00:00",
                    "2025-09-15T12:00:00",
                    "2025-09-15T13:00:00",
                    "2025-09-15T14:00:00",
                    "2025-09-15T15:00:00",
                    "2025-09-15T16:00:00",
                    "2025-09-15T17:00:00",
                    "2025-09-15T18:00:00",
                    "2025-09-15T19:00:00",
                    "2025-09-15T20:00:00",
                    "2025-09-15T21:00:00",
                    "2025-09-15T22:00:00",
                    "2025-09-15T23:00:00",
                    "2025-09-16T00:00:00",
                    "2025-09-16T01:00:00",
                    "2025-09-16T02:00:00",
                    "2025-09-16T03:00:00",
                    "2025-09-16T04:00:00",
                    "2025-09-16T05:00:00",
                    "2025-09-16T06:00:00",
                    "2025-09-16T07:00:00",
                    "2025-09-16T08:00:00",
                    "2025-09-16T09:00:00",
                    "2025-09-16T10:00:00",
                    "2025-09-16T11:00:00",
                    "2025-09-16T12:00:00",
                    "2025-09-16T13:00:00",
                    "2025-09-16T14:00:00",
                    "2025-09-16T15:00:00",
                    "2025-09-16T16:00:00",
                    "2025-09-16T17:00:00",
                    "2025-09-16T18:00:00",
                    "2025-09-16T19:00:00",
                    "2025-09-16T20:00:00",
                    "2025-09-16T21:00:00",
                    "2025-09-16T22:00:00",
                    "2025-09-16T23:00:00",
                    "2025-09-17T00:00:00",
                    "2025-09-17T01:00:00",
                    "2025-09-17T02:00:00",
                    "2025-09-17T03:00:00",
                    "2025-09-17T04:00:00",
                    "2025-09-17T05:00:00",
                    "2025-09-17T06:00:00",
                    "2025-09-17T07:00:00",
                    "2025-09-17T08:00:00",
                    "2025-09-17T09:00:00",
                    "2025-09-17T10:00:00",
                    "2025-09-17T11:00:00",
                    "2025-09-17T12:00:00",
                    "2025-09-17T13:00:00",
                    "2025-09-17T14:00:00",
                    "2025-09-17T15:00:00",
                    "2025-09-17T16:00:00",
                    "2025-09-17T17:00:00",
                    "2025-09-17T18:00:00",
                    "2025-09-17T19:00:00",
                    "2025-09-17T20:00:00",
                    "2025-09-17T21:00:00",
                    "2025-09-17T22:00:00",
                    "2025-09-17T23:00:00",
                    "2025-09-18T00:00:00",
                    "2025-09-18T01:00:00",
                    "2025-09-18T02:00:00",
                    "2025-09-18T03:00:00",
                    "2025-09-18T04:00:00",
                    "2025-09-18T05:00:00",
                    "2025-09-18T06:00:00",
                    "2025-09-18T07:00:00",
                    "2025-09-18T08:00:00",
                    "2025-09-18T09:00:00",
                    "2025-09-18T10:00:00",
                    "2025-09-18T11:00:00",
                    "2025-09-18T12:00:00",
                    "2025-09-18T13:00:00",
                    "2025-09-18T14:00:00",
                    "2025-09-18T15:00:00",
                    "2025-09-18T16:00:00",
                    "2025-09-18T17:00:00",
                    "2025-09-18T18:00:00",
                    "2025-09-18T19:00:00",
                    "2025-09-18T20:00:00",
                    "2025-09-18T21:00:00",
                    "2025-09-18T22:00:00",
                    "2025-09-18T23:00:00",
                    "2025-09-19T00:00:00",
                    "2025-09-19T01:00:00",
                    "2025-09-19T02:00:00",
                    "2025-09-19T03:00:00",
                    "2025-09-19T04:00:00",
                    "2025-09-19T05:00:00",
                    "2025-09-19T06:00:00",
                    "2025-09-19T07:00:00",
                    "2025-09-19T08:00:00",
                    "2025-09-19T09:00:00",
                    "2025-09-19T10:00:00",
                    "2025-09-19T11:00:00",
                    "2025-09-19T12:00:00",
                    "2025-09-19T13:00:00",
                    "2025-09-19T14:00:00",
                    "2025-09-19T15:00:00",
                    "2025-09-19T16:00:00",
                    "2025-09-19T17:00:00",
                    "2025-09-19T18:00:00",
                    "2025-09-19T19:00:00",
                    "2025-09-19T20:00:00",
                    "2025-09-19T21:00:00",
                    "2025-09-19T22:00:00",
                    "2025-09-19T23:00:00",
                    "2025-09-20T00:00:00",
                    "2025-09-20T01:00:00",
                    "2025-09-20T02:00:00",
                    "2025-09-20T03:00:00",
                    "2025-09-20T04:00:00",
                    "2025-09-20T05:00:00",
                    "2025-09-20T06:00:00",
                    "2025-09-20T07:00:00",
                    "2025-09-20T08:00:00",
                    "2025-09-20T09:00:00",
                    "2025-09-20T10:00:00",
                    "2025-09-20T11:00:00",
                    "2025-09-20T12:00:00",
                    "2025-09-20T13:00:00",
                    "2025-09-20T14:00:00",
                    "2025-09-20T15:00:00",
                    "2025-09-20T16:00:00",
                    "2025-09-20T17:00:00",
                    "2025-09-20T18:00:00",
                    "2025-09-20T19:00:00",
                    "2025-09-20T20:00:00",
                    "2025-09-20T21:00:00",
                    "2025-09-20T22:00:00",
                    "2025-09-20T23:00:00",
                    "2025-09-21T00:00:00",
                    "2025-09-21T01:00:00",
                    "2025-09-21T02:00:00",
                    "2025-09-21T03:00:00",
                    "2025-09-21T04:00:00",
                    "2025-09-21T05:00:00",
                    "2025-09-21T06:00:00",
                    "2025-09-21T07:00:00",
                    "2025-09-21T08:00:00",
                    "2025-09-21T09:00:00",
                    "2025-09-21T10:00:00",
                    "2025-09-21T11:00:00",
                    "2025-09-21T12:00:00"
                  ],
                  "y": {
                    "bdata": "FK5HMQYdckC4HoWz7BhyQHsUrtf0F3JAFK5H4dgSckAAAAAA3BRyQNejcE0oFXJA9ihcdyYackBSuB4VAC5yQPYoXIcPQ3JAzczMpExackAUrke5mHFyQK5H4cKBgHJAuB6FY1OGckCuR+F6koZyQNejcF31g3JAXI/CXS15ckA9CtejHGByQIXrUUA/RXJAH4Xrkf4sckAK16OgLSNyQJqZmfnNF3JAzczMRLoSckBmZmY2mg1yQFK4Hn3sB3JAXI/CHegBckDsUbh+4fpxQB+F67nY8XFAzczMVEfqcUA9CtcbcOJxQEjhesR92nFAXI/CnbbccUCPwvWYKutxQFyPwpXj93FAuB6FmzwHckB7FK7HYRdyQJqZmRnYJHJAcT0Kn4wsckDD9SgEAy5yQOF6FG6FJXJAexSuTzEVckDhehSO7QVyQMP1KGx8+HFAmpmZqSHrcUApXI8aOeNxQK5H4eqB3XFAZmZmTmfXcUDXo3Cd49FxQHE9CuefzHFAuB6Fa/3HcUBSuB6lacNxQIXrUfBAvnFAzczM/Le3cUA9CtcTa7JxQFK4Hj3ornFAmpmZaS+7cUCF61FY8tZxQGZmZoaD8HFAMzMz0yQBckB7FK7nsQ5yQPYoXKfWHHJASOF6fJkpckAAAABAyTRyQM3MzAR8PXJAAAAACFhBckBmZmY29j1yQClcj0oeKXJA4XoUjvUNckApXI/KXgByQArXo0ia9HFAXI/CBc3qcUBI4XqU0+JxQAAAAFD423FAMzMzOw/VcUAAAAAAK89xQFyPwqXLyXFAhetRwFHFcUBmZmb+f8BxQDMzM/vIu3FASOF6VJLIcUDsUbhOmOpxQArXozgOEnJAH4XrUak1ckC4HoVrD1FyQClcjwJBZnJA9ihcd8J1ckBxPQoH339yQK5H4dLhg3JA16NwVUmBckC4HoXTZXdyQI/C9UiWU3JAhetRMO4yckAAAAAAAAD4/wAAAAAAAPj/hetRGH4MckAAAAAAAAD4/wAAAAAAAPj/KVyPQhflcUAAAAAAAAD4/wAAAAAAAPj/H4XreUbGcUAAAAAAAAD4/wAAAAAAAPj/rkfhklXFcUAAAAAAAAD4/wAAAAAAAPj/exSupwUxckAAAAAAAAD4/wAAAAAAAPj/cT0KL+uCckAAAAAAAAD4/wAAAAAAAPj/pHA94sqWckAAAAAAAAD4/wAAAAAAAPj/zczMLJZGckAAAAAAAAD4/wAAAAAAAPj/7FG4BoIbckAAAAAAAAD4/wAAAAAAAPj/XI/C9e4CckAAAAAAAAD4/wAAAAAAAPj/exSuD8v0cUAAAAAAAAD4/wAAAAAAAPj/cT0K7zPzcUAAAAAAAAD4/wAAAAAAAPj/9ihc5z1QckAAAAAAAAD4/wAAAAAAAPj/7FG49lCickAAAAAAAAD4/wAAAAAAAPj/zczMTL2wckAAAAAAAAD4/wAAAAAAAPj/mpmZWTZeckAAAAAAAAD4/wAAAAAAAPj/w/UoxJs0ckAAAAAAAAD4/wAAAAAAAPj/SOF6zH4bckAAAAAAAAD4/wAAAAAAAPj/AAAAAAAA+P8AAAAAAAD4/wAAAAAAAPj/AAAA4C8KckAAAAAAAAD4/wAAAAAAAPj/AAAAAAAA+P8AAAAAAAD4/wAAAAAAAPj/ZmZmZviLckA=",
                    "dtype": "f8"
                  }
                }
              ],
              "layout": {
                "annotations": [
                  {
                    "font": {
                      "size": 16
                    },
                    "showarrow": false,
                    "text": "t_2m",
                    "x": 0.5,
                    "xanchor": "center",
                    "xref": "paper",
                    "y": 1,
                    "yanchor": "bottom",
                    "yref": "paper"
                  }
                ],
                "colorway": [
                  "#636EFA",
                  "#EF553B",
                  "#00CC96",
                  "#AB63FA",
                  "#FFA15A",
                  "#19D3F3",
                  "#FF6692",
                  "#B6E880",
                  "#FF97FF",
                  "#FECB52"
                ],
                "height": 750,
                "hovermode": "x",
                "plot_bgcolor": "white",
                "showlegend": false,
                "template": {
                  "data": {
                    "bar": [
                      {
                        "error_x": {
                          "color": "#2a3f5f"
                        },
                        "error_y": {
                          "color": "#2a3f5f"
                        },
                        "marker": {
                          "line": {
                            "color": "#E5ECF6",
                            "width": 0.5
                          },
                          "pattern": {
                            "fillmode": "overlay",
                            "size": 10,
                            "solidity": 0.2
                          }
                        },
                        "type": "bar"
                      }
                    ],
                    "barpolar": [
                      {
                        "marker": {
                          "line": {
                            "color": "#E5ECF6",
                            "width": 0.5
                          },
                          "pattern": {
                            "fillmode": "overlay",
                            "size": 10,
                            "solidity": 0.2
                          }
                        },
                        "type": "barpolar"
                      }
                    ],
                    "carpet": [
                      {
                        "aaxis": {
                          "endlinecolor": "#2a3f5f",
                          "gridcolor": "white",
                          "linecolor": "white",
                          "minorgridcolor": "white",
                          "startlinecolor": "#2a3f5f"
                        },
                        "baxis": {
                          "endlinecolor": "#2a3f5f",
                          "gridcolor": "white",
                          "linecolor": "white",
                          "minorgridcolor": "white",
                          "startlinecolor": "#2a3f5f"
                        },
                        "type": "carpet"
                      }
                    ],
                    "choropleth": [
                      {
                        "colorbar": {
                          "outlinewidth": 0,
                          "ticks": ""
                        },
                        "type": "choropleth"
                      }
                    ],
                    "contour": [
                      {
                        "colorbar": {
                          "outlinewidth": 0,
                          "ticks": ""
                        },
                        "colorscale": [
                          [
                            0,
                            "#0d0887"
                          ],
                          [
                            0.1111111111111111,
                            "#46039f"
                          ],
                          [
                            0.2222222222222222,
                            "#7201a8"
                          ],
                          [
                            0.3333333333333333,
                            "#9c179e"
                          ],
                          [
                            0.4444444444444444,
                            "#bd3786"
                          ],
                          [
                            0.5555555555555556,
                            "#d8576b"
                          ],
                          [
                            0.6666666666666666,
                            "#ed7953"
                          ],
                          [
                            0.7777777777777778,
                            "#fb9f3a"
                          ],
                          [
                            0.8888888888888888,
                            "#fdca26"
                          ],
                          [
                            1,
                            "#f0f921"
                          ]
                        ],
                        "type": "contour"
                      }
                    ],
                    "contourcarpet": [
                      {
                        "colorbar": {
                          "outlinewidth": 0,
                          "ticks": ""
                        },
                        "type": "contourcarpet"
                      }
                    ],
                    "heatmap": [
                      {
                        "colorbar": {
                          "outlinewidth": 0,
                          "ticks": ""
                        },
                        "colorscale": [
                          [
                            0,
                            "#0d0887"
                          ],
                          [
                            0.1111111111111111,
                            "#46039f"
                          ],
                          [
                            0.2222222222222222,
                            "#7201a8"
                          ],
                          [
                            0.3333333333333333,
                            "#9c179e"
                          ],
                          [
                            0.4444444444444444,
                            "#bd3786"
                          ],
                          [
                            0.5555555555555556,
                            "#d8576b"
                          ],
                          [
                            0.6666666666666666,
                            "#ed7953"
                          ],
                          [
                            0.7777777777777778,
                            "#fb9f3a"
                          ],
                          [
                            0.8888888888888888,
                            "#fdca26"
                          ],
                          [
                            1,
                            "#f0f921"
                          ]
                        ],
                        "type": "heatmap"
                      }
                    ],
                    "histogram": [
                      {
                        "marker": {
                          "pattern": {
                            "fillmode": "overlay",
                            "size": 10,
                            "solidity": 0.2
                          }
                        },
                        "type": "histogram"
                      }
                    ],
                    "histogram2d": [
                      {
                        "colorbar": {
                          "outlinewidth": 0,
                          "ticks": ""
                        },
                        "colorscale": [
                          [
                            0,
                            "#0d0887"
                          ],
                          [
                            0.1111111111111111,
                            "#46039f"
                          ],
                          [
                            0.2222222222222222,
                            "#7201a8"
                          ],
                          [
                            0.3333333333333333,
                            "#9c179e"
                          ],
                          [
                            0.4444444444444444,
                            "#bd3786"
                          ],
                          [
                            0.5555555555555556,
                            "#d8576b"
                          ],
                          [
                            0.6666666666666666,
                            "#ed7953"
                          ],
                          [
                            0.7777777777777778,
                            "#fb9f3a"
                          ],
                          [
                            0.8888888888888888,
                            "#fdca26"
                          ],
                          [
                            1,
                            "#f0f921"
                          ]
                        ],
                        "type": "histogram2d"
                      }
                    ],
                    "histogram2dcontour": [
                      {
                        "colorbar": {
                          "outlinewidth": 0,
                          "ticks": ""
                        },
                        "colorscale": [
                          [
                            0,
                            "#0d0887"
                          ],
                          [
                            0.1111111111111111,
                            "#46039f"
                          ],
                          [
                            0.2222222222222222,
                            "#7201a8"
                          ],
                          [
                            0.3333333333333333,
                            "#9c179e"
                          ],
                          [
                            0.4444444444444444,
                            "#bd3786"
                          ],
                          [
                            0.5555555555555556,
                            "#d8576b"
                          ],
                          [
                            0.6666666666666666,
                            "#ed7953"
                          ],
                          [
                            0.7777777777777778,
                            "#fb9f3a"
                          ],
                          [
                            0.8888888888888888,
                            "#fdca26"
                          ],
                          [
                            1,
                            "#f0f921"
                          ]
                        ],
                        "type": "histogram2dcontour"
                      }
                    ],
                    "mesh3d": [
                      {
                        "colorbar": {
                          "outlinewidth": 0,
                          "ticks": ""
                        },
                        "type": "mesh3d"
                      }
                    ],
                    "parcoords": [
                      {
                        "line": {
                          "colorbar": {
                            "outlinewidth": 0,
                            "ticks": ""
                          }
                        },
                        "type": "parcoords"
                      }
                    ],
                    "pie": [
                      {
                        "automargin": true,
                        "type": "pie"
                      }
                    ],
                    "scatter": [
                      {
                        "fillpattern": {
                          "fillmode": "overlay",
                          "size": 10,
                          "solidity": 0.2
                        },
                        "type": "scatter"
                      }
                    ],
                    "scatter3d": [
                      {
                        "line": {
                          "colorbar": {
                            "outlinewidth": 0,
                            "ticks": ""
                          }
                        },
                        "marker": {
                          "colorbar": {
                            "outlinewidth": 0,
                            "ticks": ""
                          }
                        },
                        "type": "scatter3d"
                      }
                    ],
                    "scattercarpet": [
                      {
                        "marker": {
                          "colorbar": {
                            "outlinewidth": 0,
                            "ticks": ""
                          }
                        },
                        "type": "scattercarpet"
                      }
                    ],
                    "scattergeo": [
                      {
                        "marker": {
                          "colorbar": {
                            "outlinewidth": 0,
                            "ticks": ""
                          }
                        },
                        "type": "scattergeo"
                      }
                    ],
                    "scattergl": [
                      {
                        "marker": {
                          "colorbar": {
                            "outlinewidth": 0,
                            "ticks": ""
                          }
                        },
                        "type": "scattergl"
                      }
                    ],
                    "scattermap": [
                      {
                        "marker": {
                          "colorbar": {
                            "outlinewidth": 0,
                            "ticks": ""
                          }
                        },
                        "type": "scattermap"
                      }
                    ],
                    "scattermapbox": [
                      {
                        "marker": {
                          "colorbar": {
                            "outlinewidth": 0,
                            "ticks": ""
                          }
                        },
                        "type": "scattermapbox"
                      }
                    ],
                    "scatterpolar": [
                      {
                        "marker": {
                          "colorbar": {
                            "outlinewidth": 0,
                            "ticks": ""
                          }
                        },
                        "type": "scatterpolar"
                      }
                    ],
                    "scatterpolargl": [
                      {
                        "marker": {
                          "colorbar": {
                            "outlinewidth": 0,
                            "ticks": ""
                          }
                        },
                        "type": "scatterpolargl"
                      }
                    ],
                    "scatterternary": [
                      {
                        "marker": {
                          "colorbar": {
                            "outlinewidth": 0,
                            "ticks": ""
                          }
                        },
                        "type": "scatterternary"
                      }
                    ],
                    "surface": [
                      {
                        "colorbar": {
                          "outlinewidth": 0,
                          "ticks": ""
                        },
                        "colorscale": [
                          [
                            0,
                            "#0d0887"
                          ],
                          [
                            0.1111111111111111,
                            "#46039f"
                          ],
                          [
                            0.2222222222222222,
                            "#7201a8"
                          ],
                          [
                            0.3333333333333333,
                            "#9c179e"
                          ],
                          [
                            0.4444444444444444,
                            "#bd3786"
                          ],
                          [
                            0.5555555555555556,
                            "#d8576b"
                          ],
                          [
                            0.6666666666666666,
                            "#ed7953"
                          ],
                          [
                            0.7777777777777778,
                            "#fb9f3a"
                          ],
                          [
                            0.8888888888888888,
                            "#fdca26"
                          ],
                          [
                            1,
                            "#f0f921"
                          ]
                        ],
                        "type": "surface"
                      }
                    ],
                    "table": [
                      {
                        "cells": {
                          "fill": {
                            "color": "#EBF0F8"
                          },
                          "line": {
                            "color": "white"
                          }
                        },
                        "header": {
                          "fill": {
                            "color": "#C8D4E3"
                          },
                          "line": {
                            "color": "white"
                          }
                        },
                        "type": "table"
                      }
                    ]
                  },
                  "layout": {
                    "annotationdefaults": {
                      "arrowcolor": "#2a3f5f",
                      "arrowhead": 0,
                      "arrowwidth": 1
                    },
                    "autotypenumbers": "strict",
                    "coloraxis": {
                      "colorbar": {
                        "outlinewidth": 0,
                        "ticks": ""
                      }
                    },
                    "colorscale": {
                      "diverging": [
                        [
                          0,
                          "#8e0152"
                        ],
                        [
                          0.1,
                          "#c51b7d"
                        ],
                        [
                          0.2,
                          "#de77ae"
                        ],
                        [
                          0.3,
                          "#f1b6da"
                        ],
                        [
                          0.4,
                          "#fde0ef"
                        ],
                        [
                          0.5,
                          "#f7f7f7"
                        ],
                        [
                          0.6,
                          "#e6f5d0"
                        ],
                        [
                          0.7,
                          "#b8e186"
                        ],
                        [
                          0.8,
                          "#7fbc41"
                        ],
                        [
                          0.9,
                          "#4d9221"
                        ],
                        [
                          1,
                          "#276419"
                        ]
                      ],
                      "sequential": [
                        [
                          0,
                          "#0d0887"
                        ],
                        [
                          0.1111111111111111,
                          "#46039f"
                        ],
                        [
                          0.2222222222222222,
                          "#7201a8"
                        ],
                        [
                          0.3333333333333333,
                          "#9c179e"
                        ],
                        [
                          0.4444444444444444,
                          "#bd3786"
                        ],
                        [
                          0.5555555555555556,
                          "#d8576b"
                        ],
                        [
                          0.6666666666666666,
                          "#ed7953"
                        ],
                        [
                          0.7777777777777778,
                          "#fb9f3a"
                        ],
                        [
                          0.8888888888888888,
                          "#fdca26"
                        ],
                        [
                          1,
                          "#f0f921"
                        ]
                      ],
                      "sequentialminus": [
                        [
                          0,
                          "#0d0887"
                        ],
                        [
                          0.1111111111111111,
                          "#46039f"
                        ],
                        [
                          0.2222222222222222,
                          "#7201a8"
                        ],
                        [
                          0.3333333333333333,
                          "#9c179e"
                        ],
                        [
                          0.4444444444444444,
                          "#bd3786"
                        ],
                        [
                          0.5555555555555556,
                          "#d8576b"
                        ],
                        [
                          0.6666666666666666,
                          "#ed7953"
                        ],
                        [
                          0.7777777777777778,
                          "#fb9f3a"
                        ],
                        [
                          0.8888888888888888,
                          "#fdca26"
                        ],
                        [
                          1,
                          "#f0f921"
                        ]
                      ]
                    },
                    "colorway": [
                      "#636efa",
                      "#EF553B",
                      "#00cc96",
                      "#ab63fa",
                      "#FFA15A",
                      "#19d3f3",
                      "#FF6692",
                      "#B6E880",
                      "#FF97FF",
                      "#FECB52"
                    ],
                    "font": {
                      "color": "#2a3f5f"
                    },
                    "geo": {
                      "bgcolor": "white",
                      "lakecolor": "white",
                      "landcolor": "#E5ECF6",
                      "showlakes": true,
                      "showland": true,
                      "subunitcolor": "white"
                    },
                    "hoverlabel": {
                      "align": "left"
                    },
                    "hovermode": "closest",
                    "mapbox": {
                      "style": "light"
                    },
                    "paper_bgcolor": "white",
                    "plot_bgcolor": "#E5ECF6",
                    "polar": {
                      "angularaxis": {
                        "gridcolor": "white",
                        "linecolor": "white",
                        "ticks": ""
                      },
                      "bgcolor": "#E5ECF6",
                      "radialaxis": {
                        "gridcolor": "white",
                        "linecolor": "white",
                        "ticks": ""
                      }
                    },
                    "scene": {
                      "xaxis": {
                        "backgroundcolor": "#E5ECF6",
                        "gridcolor": "white",
                        "gridwidth": 2,
                        "linecolor": "white",
                        "showbackground": true,
                        "ticks": "",
                        "zerolinecolor": "white"
                      },
                      "yaxis": {
                        "backgroundcolor": "#E5ECF6",
                        "gridcolor": "white",
                        "gridwidth": 2,
                        "linecolor": "white",
                        "showbackground": true,
                        "ticks": "",
                        "zerolinecolor": "white"
                      },
                      "zaxis": {
                        "backgroundcolor": "#E5ECF6",
                        "gridcolor": "white",
                        "gridwidth": 2,
                        "linecolor": "white",
                        "showbackground": true,
                        "ticks": "",
                        "zerolinecolor": "white"
                      }
                    },
                    "shapedefaults": {
                      "line": {
                        "color": "#2a3f5f"
                      }
                    },
                    "ternary": {
                      "aaxis": {
                        "gridcolor": "white",
                        "linecolor": "white",
                        "ticks": ""
                      },
                      "baxis": {
                        "gridcolor": "white",
                        "linecolor": "white",
                        "ticks": ""
                      },
                      "bgcolor": "#E5ECF6",
                      "caxis": {
                        "gridcolor": "white",
                        "linecolor": "white",
                        "ticks": ""
                      }
                    },
                    "title": {
                      "x": 0.05
                    },
                    "xaxis": {
                      "automargin": true,
                      "gridcolor": "white",
                      "linecolor": "white",
                      "ticks": "",
                      "title": {
                        "standoff": 15
                      },
                      "zerolinecolor": "white",
                      "zerolinewidth": 2
                    },
                    "yaxis": {
                      "automargin": true,
                      "gridcolor": "white",
                      "linecolor": "white",
                      "ticks": "",
                      "title": {
                        "standoff": 15
                      },
                      "zerolinecolor": "white",
                      "zerolinewidth": 2
                    }
                  }
                },
                "xaxis": {
                  "anchor": "y",
                  "domain": [
                    0,
                    1
                  ],
                  "gridwidth": 1,
                  "showgrid": false,
                  "showline": false,
                  "zeroline": false
                },
                "yaxis": {
                  "anchor": "x",
                  "domain": [
                    0,
                    1
                  ],
                  "gridcolor": "#EEEEEE",
                  "linecolor": "black",
                  "showgrid": true,
                  "showline": true,
                  "title": {
                    "text": "K"
                  },
                  "zeroline": false
                }
              }
            }
          },
          "metadata": {},
          "output_type": "display_data"
        }
      ],
      "source": [
        "from earthkit.plots.interactive import Chart\n",
        "\n",
        "TIME_FREQUENCY = \"1h\"\n",
        "QUANTILES = [0, 0.1, 0.25, 0.5, 0.75, 0.9, 1]\n",
        "\n",
        "chart = Chart()\n",
        "chart.box(ds_ch1, quantiles=QUANTILES, line_color=\"#ea5545\")\n",
        "chart.line(ds_ch1, aggregation=\"mean\", line_color=\"grey\", time_frequency=TIME_FREQUENCY)\n",
        "chart.box(ds_ch2, quantiles=QUANTILES, line_color=\"#ef9b20\")\n",
        "chart.line(ds_ch2, aggregation=\"mean\", line_color=\"grey\", time_frequency=TIME_FREQUENCY)\n",
        "chart.box(ds_ifs, quantiles=QUANTILES, line_color=\"#27aeef\")\n",
        "chart.line(ds_ifs, aggregation=\"mean\", line_color=\"grey\", time_frequency=TIME_FREQUENCY)\n",
        "\n",
        "chart.show()"
      ]
    }
  ],
  "metadata": {
    "kernelspec": {
      "display_name": "polytope demo",
      "language": "python",
      "name": "polytope-demo"
    },
    "language_info": {
      "codemirror_mode": {
        "name": "ipython",
        "version": 3
      },
      "file_extension": ".py",
      "mimetype": "text/x-python",
      "name": "python",
      "nbconvert_exporter": "python",
      "pygments_lexer": "ipython3",
      "version": "3.11.6"
    }
  },
  "nbformat": 4,
  "nbformat_minor": 5
}
