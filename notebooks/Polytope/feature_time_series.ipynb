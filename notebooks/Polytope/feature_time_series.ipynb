{
  "cells": [
    {
      "cell_type": "markdown",
      "id": "c275f633",
      "metadata": {},
      "source": [
        "# Time Series Feature: Time Series at Zurich Airport\n",
        "\n",
        "This notebook demonstrates efficient geolocation and time-series access using Polytope feature extraction. By retrieving only the requested grid points, the I/O is greatly reduced and workflows can be considerably sped up."
      ]
    },
    {
      "cell_type": "markdown",
      "id": "d9deadd5",
      "metadata": {},
      "source": [
        "<div style=\"text-align:center;\">\n",
        "  <img src=\"./images/t_2m_time_series.png\" style=\"width:50%;\"/>\n",
        "</div>"
      ]
    },
    {
      "cell_type": "markdown",
      "id": "14590001",
      "metadata": {},
      "source": [
        "## Installation\n",
        "Follow the instructions in [README.md](https://github.com/MeteoSwiss/nwp-fdb-polytope-demo/blob/main/README.md#Installation-1) to install the necessary dependencies."
      ]
    },
    {
      "cell_type": "markdown",
      "id": "cfcfc520",
      "metadata": {},
      "source": [
        "## Configuring access to Polytope\n",
        "To access ICON data via MeteoSwiss's Polytope, you need a Polytope offline token provided by MeteoSwiss. If you do not already have a token, you can request one [here](https://meteoswiss.atlassian.net/wiki/spaces/IW2/pages/327780397/Polytope#Offline-token-authentication)."
      ]
    },
    {
      "cell_type": "code",
      "execution_count": 1,
      "id": "d31a6eaa-f842-41f4-92e9-fa98c429c475",
      "metadata": {},
      "outputs": [],
      "source": [
        "import os\n",
        "\n",
        "# ECMWF Polytope (leave blank if using ICON-CSCS)\n",
        "os.environ[\"POLYTOPE_USER_KEY\"] = \"\"\n",
        "os.environ[\"POLYTOPE_USER_EMAIL\"] = \"\"\n",
        "\n",
        "# ICON-CSCS Polytope (leave blank if using ECMWF)\n",
        "os.environ[\"POLYTOPE_USERNAME\"] = \"xxx\"\n",
        "os.environ[\"POLYTOPE_PASSWORD\"] = \"xxx\"\n",
        "os.environ[\"POLYTOPE_ADDRESS\"] = \"https://polytope-dev.mchml.cscs.ch\""
      ]
    },
    {
      "cell_type": "markdown",
      "id": "b9dc71fd",
      "metadata": {},
      "source": [
        "## Select the geolocation\n",
        "We’ll request a time series at **Zurich Airport** (WGS84 coordinates)."
      ]
    },
    {
      "cell_type": "code",
      "execution_count": 2,
      "id": "0a7b07d0",
      "metadata": {},
      "outputs": [],
      "source": [
        "zrh_geo_point = (8.565074, 47.453928)  # (longitude, latitude) in WGS84"
      ]
    },
    {
      "cell_type": "markdown",
      "id": "f8e2f934",
      "metadata": {},
      "source": [
        "## Rotate the point\n",
        "\n",
        "Given that the data source accessed by Polytope is stored on a rotated grid, it is necessary to provide Polytope with the point in rotated coordinates, using a South Pole rotation with a reference of longitude 10° and latitude of -43°.\n",
        "\n",
        "> **NOTE:** `transform_point()` expects `(longitude, latitude)`."
      ]
    },
    {
      "cell_type": "code",
      "execution_count": 3,
      "id": "b2fcc9a0",
      "metadata": {},
      "outputs": [],
      "source": [
        "import cartopy.crs as ccrs\n",
        "\n",
        "geo_crs = ccrs.PlateCarree()\n",
        "rotated_crs = ccrs.RotatedPole(pole_longitude=190, pole_latitude=43)\n",
        "\n",
        "# Convert the point from geographic to rotated coordinates\n",
        "geo_lon, geo_lat = zrh_geo_point\n",
        "rot_lon, rot_lat = rotated_crs.transform_point(geo_lon, geo_lat, geo_crs)\n",
        "rotated_point = (rot_lon, rot_lat)"
      ]
    },
    {
      "cell_type": "markdown",
      "id": "e31b92b1",
      "metadata": {},
      "source": [
        "## Select the run date and time\n",
        "The FDB containing real-time data typically **holds only the most recent day of forecasts**. The next cell computes a valid run time automatically."
      ]
    },
    {
      "cell_type": "code",
      "execution_count": 4,
      "id": "ce42ef6c",
      "metadata": {},
      "outputs": [
        {
          "data": {
            "text/plain": [
              "('20250916', '1800')"
            ]
          },
          "execution_count": 4,
          "metadata": {},
          "output_type": "execute_result"
        }
      ],
      "source": [
        "from datetime import datetime, timedelta\n",
        "\n",
        "now = datetime.now()\n",
        "past_time = now - timedelta(hours=12)                # use a recent past cycle\n",
        "rounded_hour = (past_time.hour // 6) * 6             # round down to 6-hour cycles\n",
        "rounded_time = past_time.replace(hour=rounded_hour, minute=0, second=0, microsecond=0)\n",
        "\n",
        "date = rounded_time.strftime('%Y%m%d')\n",
        "time = rounded_time.strftime('%H%M')\n",
        "date, time"
      ]
    },
    {
      "cell_type": "markdown",
      "id": "a16ec2e1",
      "metadata": {},
      "source": [
        "## Define the feature\n",
        "Request a **time series at one point** (`rotated_point`) over **steps 0–120**. ICON-CH2-EPS is hourly in this range (use 0–33 for ICON-CH1-EPS).\n",
        "\n",
        "> **NOTE:** If points are `(longitude, latitude)`, set `axes=[\"longitude\", \"latitude\"]`."
      ]
    },
    {
      "cell_type": "code",
      "execution_count": 5,
      "id": "05f726ec",
      "metadata": {},
      "outputs": [],
      "source": [
        "feature = {\n",
        "    \"type\": \"timeseries\",\n",
        "    \"points\": [rotated_point],      # single point in the rotated grid (lon, lat)\n",
        "    \"time_axis\": \"step\",\n",
        "    \"range\": {\"start\": 0, \"end\": 120},   # hourly steps 0..120\n",
        "    \"axes\": [\"longitude\", \"latitude\"]    # order must match the point tuple\n",
        "}"
      ]
    },
    {
      "cell_type": "markdown",
      "id": "f6a5949c",
      "metadata": {},
      "source": [
        "## Define the request\n",
        "Use [meteodata-lab](https://meteoswiss.github.io/meteodata-lab/)'s `mars.Request` for a clean, validated API. This example fetches **2-m temperature** from **ICON-CH2-EPS** at the **surface**, for **ensemble member 1** (`number=1`), at the selected run date/time.\n",
        "- `type=\"pf\"` — perturbed member (requires `number`).\n",
        "- `type=\"cf\"` — control forecast (no `number`)."
      ]
    },
    {
      "cell_type": "code",
      "execution_count": 6,
      "id": "51050159",
      "metadata": {},
      "outputs": [],
      "source": [
        "from meteodatalab import mars\n",
        "\n",
        "request = mars.Request(\n",
        "    param=\"T_2M\",\n",
        "    date=date,\n",
        "    time=time,\n",
        "    model=mars.Model.ICON_CH2_EPS,\n",
        "    levtype=mars.LevType.SURFACE,\n",
        "    type=\"pf\",\n",
        "    number=1,\n",
        "    feature=feature\n",
        ")"
      ]
    },
    {
      "cell_type": "markdown",
      "id": "3382dc30",
      "metadata": {},
      "source": [
        "## Data retrieval\n",
        "Load the data with [earthkit.data](https://earthkit-data.readthedocs.io/en/latest/) and convert it to an [xarray.Dataset](https://docs.xarray.dev/en/stable/generated/xarray.Dataset.html)."
      ]
    },
    {
      "cell_type": "code",
      "execution_count": 7,
      "id": "2280b32a",
      "metadata": {},
      "outputs": [
        {
          "name": "stderr",
          "output_type": "stream",
          "text": [
            "2025-09-17 09:32:15 - INFO - Sending request...\n",
            "{'request': 'class: od\\n'\n",
            "            \"date: '20250916'\\n\"\n",
            "            \"expver: '0001'\\n\"\n",
            "            'feature:\\n'\n",
            "            '  axes:\\n'\n",
            "            '  - longitude\\n'\n",
            "            '  - latitude\\n'\n",
            "            '  points:\\n'\n",
            "            '  - - -0.9702489359191186\\n'\n",
            "            '    - 0.4628136497221331\\n'\n",
            "            '  range:\\n'\n",
            "            '    end: 120\\n'\n",
            "            '    start: 0\\n'\n",
            "            '  time_axis: step\\n'\n",
            "            '  type: timeseries\\n'\n",
            "            'levtype: sfc\\n'\n",
            "            'model: icon-ch2-eps\\n'\n",
            "            'number: 1\\n'\n",
            "            \"param: '500011'\\n\"\n",
            "            'stream: enfo\\n'\n",
            "            \"time: '1800'\\n\"\n",
            "            'type: pf\\n',\n",
            " 'verb': 'retrieve'}\n",
            "2025-09-17 09:32:15 - INFO - Request accepted. Please poll ./015edec2-cdcd-48d1-b7b8-570e4acc31a1 for status\n",
            "2025-09-17 09:32:15 - INFO - Checking request status (015edec2-cdcd-48d1-b7b8-570e4acc31a1)...\n",
            "2025-09-17 09:32:16 - INFO - The current status of the request is 'queued'\n",
            "2025-09-17 09:32:16 - INFO - The current status of the request is 'processing'\n",
            "2025-09-17 09:32:34 - INFO - The current status of the request is 'processed'\n",
            "                                                                                                                                                                                                                                                                                                                                                   \r"
          ]
        }
      ],
      "source": [
        "import earthkit.data as ekd\n",
        "ds = ekd.from_source(\n",
        "    \"polytope\",\n",
        "    \"mchgj\",\n",
        "    request.to_polytope(),\n",
        "    stream=False\n",
        ").to_xarray()"
      ]
    },
    {
      "cell_type": "markdown",
      "id": "f64a4028",
      "metadata": {},
      "source": [
        "## Plot the results\n",
        "\n",
        "> **Tip:** Hover over the chart to see the exact timestamp and value (°C).  \n",
        "> If you’re viewing a static image (e.g., PNG export), tooltips aren’t available."
      ]
    },
    {
      "cell_type": "code",
      "execution_count": 8,
      "id": "0001b5a3",
      "metadata": {},
      "outputs": [
        {
          "data": {
            "application/vnd.plotly.v1+json": {
              "config": {
                "plotlyServerURL": "https://plot.ly"
              },
              "data": [
                {
                  "type": "scatter",
                  "x": [
                    "2025-09-16T18:00:00",
                    "2025-09-16T19:00:00",
                    "2025-09-16T20:00:00",
                    "2025-09-16T21:00:00",
                    "2025-09-16T22:00:00",
                    "2025-09-16T23:00:00",
                    "2025-09-17T00:00:00",
                    "2025-09-17T01:00:00",
                    "2025-09-17T02:00:00",
                    "2025-09-17T03:00:00",
                    "2025-09-17T04:00:00",
                    "2025-09-17T05:00:00",
                    "2025-09-17T06:00:00",
                    "2025-09-17T07:00:00",
                    "2025-09-17T08:00:00",
                    "2025-09-17T09:00:00",
                    "2025-09-17T10:00:00",
                    "2025-09-17T11:00:00",
                    "2025-09-17T12:00:00",
                    "2025-09-17T13:00:00",
                    "2025-09-17T14:00:00",
                    "2025-09-17T15:00:00",
                    "2025-09-17T16:00:00",
                    "2025-09-17T17:00:00",
                    "2025-09-17T18:00:00",
                    "2025-09-17T19:00:00",
                    "2025-09-17T20:00:00",
                    "2025-09-17T21:00:00",
                    "2025-09-17T22:00:00",
                    "2025-09-17T23:00:00",
                    "2025-09-18T00:00:00",
                    "2025-09-18T01:00:00",
                    "2025-09-18T02:00:00",
                    "2025-09-18T03:00:00",
                    "2025-09-18T04:00:00",
                    "2025-09-18T05:00:00",
                    "2025-09-18T06:00:00",
                    "2025-09-18T07:00:00",
                    "2025-09-18T08:00:00",
                    "2025-09-18T09:00:00",
                    "2025-09-18T10:00:00",
                    "2025-09-18T11:00:00",
                    "2025-09-18T12:00:00",
                    "2025-09-18T13:00:00",
                    "2025-09-18T14:00:00",
                    "2025-09-18T15:00:00",
                    "2025-09-18T16:00:00",
                    "2025-09-18T17:00:00",
                    "2025-09-18T18:00:00",
                    "2025-09-18T19:00:00",
                    "2025-09-18T20:00:00",
                    "2025-09-18T21:00:00",
                    "2025-09-18T22:00:00",
                    "2025-09-18T23:00:00",
                    "2025-09-19T00:00:00",
                    "2025-09-19T01:00:00",
                    "2025-09-19T02:00:00",
                    "2025-09-19T03:00:00",
                    "2025-09-19T04:00:00",
                    "2025-09-19T05:00:00",
                    "2025-09-19T06:00:00",
                    "2025-09-19T07:00:00",
                    "2025-09-19T08:00:00",
                    "2025-09-19T09:00:00",
                    "2025-09-19T10:00:00",
                    "2025-09-19T11:00:00",
                    "2025-09-19T12:00:00",
                    "2025-09-19T13:00:00",
                    "2025-09-19T14:00:00",
                    "2025-09-19T15:00:00",
                    "2025-09-19T16:00:00",
                    "2025-09-19T17:00:00",
                    "2025-09-19T18:00:00",
                    "2025-09-19T19:00:00",
                    "2025-09-19T20:00:00",
                    "2025-09-19T21:00:00",
                    "2025-09-19T22:00:00",
                    "2025-09-19T23:00:00",
                    "2025-09-20T00:00:00",
                    "2025-09-20T01:00:00",
                    "2025-09-20T02:00:00",
                    "2025-09-20T03:00:00",
                    "2025-09-20T04:00:00",
                    "2025-09-20T05:00:00",
                    "2025-09-20T06:00:00",
                    "2025-09-20T07:00:00",
                    "2025-09-20T08:00:00",
                    "2025-09-20T09:00:00",
                    "2025-09-20T10:00:00",
                    "2025-09-20T11:00:00",
                    "2025-09-20T12:00:00",
                    "2025-09-20T13:00:00",
                    "2025-09-20T14:00:00",
                    "2025-09-20T15:00:00",
                    "2025-09-20T16:00:00",
                    "2025-09-20T17:00:00",
                    "2025-09-20T18:00:00",
                    "2025-09-20T19:00:00",
                    "2025-09-20T20:00:00",
                    "2025-09-20T21:00:00",
                    "2025-09-20T22:00:00",
                    "2025-09-20T23:00:00",
                    "2025-09-21T00:00:00",
                    "2025-09-21T01:00:00",
                    "2025-09-21T02:00:00",
                    "2025-09-21T03:00:00",
                    "2025-09-21T04:00:00",
                    "2025-09-21T05:00:00",
                    "2025-09-21T06:00:00",
                    "2025-09-21T07:00:00",
                    "2025-09-21T08:00:00",
                    "2025-09-21T09:00:00",
                    "2025-09-21T10:00:00",
                    "2025-09-21T11:00:00",
                    "2025-09-21T12:00:00",
                    "2025-09-21T13:00:00",
                    "2025-09-21T14:00:00",
                    "2025-09-21T15:00:00",
                    "2025-09-21T16:00:00",
                    "2025-09-21T17:00:00",
                    "2025-09-21T18:00:00"
                  ],
                  "y": {
                    "bdata": "QDMzM0OpLUBAMzMzD0MsQEAzMzOPLCtAQDMzM9MdKkBAMzMz7/ooQEAzMzMn8ChAQDMzM/cNKEBAMzMzm50mQEAzMzOzNiVAQDMzM6dvJEBAMzMzi/cjQEAzMzOzUSNAQDMzM5t/JEBAMzMzp9gnQEAzMzO/byxAoJmZmbEiMECgmZmZt0ExQKCZmZk5MDJAoJmZmU21MkCgmZmZc0ozQKCZmZmfWjNAoJmZmT9TM0CgmZmZFxczQKCZmZm/QTJAoJmZmVNxMEBAMzMz30QvQEAzMzPH1ixAQDMzM/s6KkBAMzMzF4EpQEAzMzM7cShAQDMzM/vhJ0BAMzMzx2InQEAzMzPvdSVAQDMzM5t3JEBAMzMzez4jQEAzMzMDmiFAQDMzMydLIUBAMzMzw7YkQEAzMzPrPitAoJmZmYMQMUCgmZmZqYUzQKCZmZktlTVAoJmZmVMiN0CgmZmZEx04QKCZmZkvhThAoJmZmfs1OECgmZmZY3I3QKCZmZkvfTVAoJmZmblPM0CgmZmZu94wQEAzMzP7jy9AQDMzM2s2LkBAMzMzVzQsQEAzMzOnmipAQDMzM0MHKUBAMzMzt3knQEAzMzN3MSVAQDMzM5M0I0BAMzMzO3wjQEAzMzNnTyNAQDMzM2/QIkBAMzMzx2gmQEAzMzPj1SxAoJmZmW+MMUCgmZmZYTI0QKCZmZnHNDZAoJmZmfWlN0CgmZmZqcE4QKCZmZnzYDlAoJmZmcFWOUCgmZmZTz85QKCZmZkN2zZAoJmZmZ3+M0CgmZmZ8fwxQKCZmZmj3jBAoJmZmQ8hMEBAMzMz4ykuQEAzMzPjdyxAQDMzM0MgK0BAMzMzj64qQEAzMzOzbyhAQDMzM0c9KEBAMzMzd5woQEAzMzMXHilAQDMzM3uaKEBAMzMzN+8oQEAzMzMfnipAoJmZmTVuMECgmZmZSdQ0QKCZmZmvgDdAoJmZmQFUOUCgmZmZkXk6QKCZmZnzKTtAoJmZmQdJO0CgmZmZW1o6QKCZmZkvjDhAoJmZmfkMN0CgmZmZO3AzQKCZmZkfVjJAoJmZmYnuMUCgmZmZ14ExQKCZmZldNTFAoJmZmf/OMECgmZmZkWYwQEAzMzPztyxAQDMzM6ftKkBAMzMzC68qQEAzMzP7UitAQDMzMyeGKkBAMzMz22IrQKCZmZkNaTBAoJmZmfNJNECgmZmZm5s3QKCZmZlhdjhAoJmZmUNiOUCgmZmZjfQ5QKCZmZm59DlAoJmZmevnOUCgmZmZ9X85QKCZmZnBKTdAoJmZmVFlM0A=",
                    "dtype": "f8"
                  }
                }
              ],
              "layout": {
                "annotations": [
                  {
                    "font": {
                      "size": 16
                    },
                    "showarrow": false,
                    "text": "t_2m (°C)",
                    "x": 0.5,
                    "xanchor": "center",
                    "xref": "paper",
                    "y": 1,
                    "yanchor": "bottom",
                    "yref": "paper"
                  }
                ],
                "colorway": [
                  "#636EFA",
                  "#EF553B",
                  "#00CC96",
                  "#AB63FA",
                  "#FFA15A",
                  "#19D3F3",
                  "#FF6692",
                  "#B6E880",
                  "#FF97FF",
                  "#FECB52"
                ],
                "height": 750,
                "hovermode": "x",
                "plot_bgcolor": "white",
                "showlegend": false,
                "template": {
                  "data": {
                    "bar": [
                      {
                        "error_x": {
                          "color": "#2a3f5f"
                        },
                        "error_y": {
                          "color": "#2a3f5f"
                        },
                        "marker": {
                          "line": {
                            "color": "#E5ECF6",
                            "width": 0.5
                          },
                          "pattern": {
                            "fillmode": "overlay",
                            "size": 10,
                            "solidity": 0.2
                          }
                        },
                        "type": "bar"
                      }
                    ],
                    "barpolar": [
                      {
                        "marker": {
                          "line": {
                            "color": "#E5ECF6",
                            "width": 0.5
                          },
                          "pattern": {
                            "fillmode": "overlay",
                            "size": 10,
                            "solidity": 0.2
                          }
                        },
                        "type": "barpolar"
                      }
                    ],
                    "carpet": [
                      {
                        "aaxis": {
                          "endlinecolor": "#2a3f5f",
                          "gridcolor": "white",
                          "linecolor": "white",
                          "minorgridcolor": "white",
                          "startlinecolor": "#2a3f5f"
                        },
                        "baxis": {
                          "endlinecolor": "#2a3f5f",
                          "gridcolor": "white",
                          "linecolor": "white",
                          "minorgridcolor": "white",
                          "startlinecolor": "#2a3f5f"
                        },
                        "type": "carpet"
                      }
                    ],
                    "choropleth": [
                      {
                        "colorbar": {
                          "outlinewidth": 0,
                          "ticks": ""
                        },
                        "type": "choropleth"
                      }
                    ],
                    "contour": [
                      {
                        "colorbar": {
                          "outlinewidth": 0,
                          "ticks": ""
                        },
                        "colorscale": [
                          [
                            0,
                            "#0d0887"
                          ],
                          [
                            0.1111111111111111,
                            "#46039f"
                          ],
                          [
                            0.2222222222222222,
                            "#7201a8"
                          ],
                          [
                            0.3333333333333333,
                            "#9c179e"
                          ],
                          [
                            0.4444444444444444,
                            "#bd3786"
                          ],
                          [
                            0.5555555555555556,
                            "#d8576b"
                          ],
                          [
                            0.6666666666666666,
                            "#ed7953"
                          ],
                          [
                            0.7777777777777778,
                            "#fb9f3a"
                          ],
                          [
                            0.8888888888888888,
                            "#fdca26"
                          ],
                          [
                            1,
                            "#f0f921"
                          ]
                        ],
                        "type": "contour"
                      }
                    ],
                    "contourcarpet": [
                      {
                        "colorbar": {
                          "outlinewidth": 0,
                          "ticks": ""
                        },
                        "type": "contourcarpet"
                      }
                    ],
                    "heatmap": [
                      {
                        "colorbar": {
                          "outlinewidth": 0,
                          "ticks": ""
                        },
                        "colorscale": [
                          [
                            0,
                            "#0d0887"
                          ],
                          [
                            0.1111111111111111,
                            "#46039f"
                          ],
                          [
                            0.2222222222222222,
                            "#7201a8"
                          ],
                          [
                            0.3333333333333333,
                            "#9c179e"
                          ],
                          [
                            0.4444444444444444,
                            "#bd3786"
                          ],
                          [
                            0.5555555555555556,
                            "#d8576b"
                          ],
                          [
                            0.6666666666666666,
                            "#ed7953"
                          ],
                          [
                            0.7777777777777778,
                            "#fb9f3a"
                          ],
                          [
                            0.8888888888888888,
                            "#fdca26"
                          ],
                          [
                            1,
                            "#f0f921"
                          ]
                        ],
                        "type": "heatmap"
                      }
                    ],
                    "histogram": [
                      {
                        "marker": {
                          "pattern": {
                            "fillmode": "overlay",
                            "size": 10,
                            "solidity": 0.2
                          }
                        },
                        "type": "histogram"
                      }
                    ],
                    "histogram2d": [
                      {
                        "colorbar": {
                          "outlinewidth": 0,
                          "ticks": ""
                        },
                        "colorscale": [
                          [
                            0,
                            "#0d0887"
                          ],
                          [
                            0.1111111111111111,
                            "#46039f"
                          ],
                          [
                            0.2222222222222222,
                            "#7201a8"
                          ],
                          [
                            0.3333333333333333,
                            "#9c179e"
                          ],
                          [
                            0.4444444444444444,
                            "#bd3786"
                          ],
                          [
                            0.5555555555555556,
                            "#d8576b"
                          ],
                          [
                            0.6666666666666666,
                            "#ed7953"
                          ],
                          [
                            0.7777777777777778,
                            "#fb9f3a"
                          ],
                          [
                            0.8888888888888888,
                            "#fdca26"
                          ],
                          [
                            1,
                            "#f0f921"
                          ]
                        ],
                        "type": "histogram2d"
                      }
                    ],
                    "histogram2dcontour": [
                      {
                        "colorbar": {
                          "outlinewidth": 0,
                          "ticks": ""
                        },
                        "colorscale": [
                          [
                            0,
                            "#0d0887"
                          ],
                          [
                            0.1111111111111111,
                            "#46039f"
                          ],
                          [
                            0.2222222222222222,
                            "#7201a8"
                          ],
                          [
                            0.3333333333333333,
                            "#9c179e"
                          ],
                          [
                            0.4444444444444444,
                            "#bd3786"
                          ],
                          [
                            0.5555555555555556,
                            "#d8576b"
                          ],
                          [
                            0.6666666666666666,
                            "#ed7953"
                          ],
                          [
                            0.7777777777777778,
                            "#fb9f3a"
                          ],
                          [
                            0.8888888888888888,
                            "#fdca26"
                          ],
                          [
                            1,
                            "#f0f921"
                          ]
                        ],
                        "type": "histogram2dcontour"
                      }
                    ],
                    "mesh3d": [
                      {
                        "colorbar": {
                          "outlinewidth": 0,
                          "ticks": ""
                        },
                        "type": "mesh3d"
                      }
                    ],
                    "parcoords": [
                      {
                        "line": {
                          "colorbar": {
                            "outlinewidth": 0,
                            "ticks": ""
                          }
                        },
                        "type": "parcoords"
                      }
                    ],
                    "pie": [
                      {
                        "automargin": true,
                        "type": "pie"
                      }
                    ],
                    "scatter": [
                      {
                        "fillpattern": {
                          "fillmode": "overlay",
                          "size": 10,
                          "solidity": 0.2
                        },
                        "type": "scatter"
                      }
                    ],
                    "scatter3d": [
                      {
                        "line": {
                          "colorbar": {
                            "outlinewidth": 0,
                            "ticks": ""
                          }
                        },
                        "marker": {
                          "colorbar": {
                            "outlinewidth": 0,
                            "ticks": ""
                          }
                        },
                        "type": "scatter3d"
                      }
                    ],
                    "scattercarpet": [
                      {
                        "marker": {
                          "colorbar": {
                            "outlinewidth": 0,
                            "ticks": ""
                          }
                        },
                        "type": "scattercarpet"
                      }
                    ],
                    "scattergeo": [
                      {
                        "marker": {
                          "colorbar": {
                            "outlinewidth": 0,
                            "ticks": ""
                          }
                        },
                        "type": "scattergeo"
                      }
                    ],
                    "scattergl": [
                      {
                        "marker": {
                          "colorbar": {
                            "outlinewidth": 0,
                            "ticks": ""
                          }
                        },
                        "type": "scattergl"
                      }
                    ],
                    "scattermap": [
                      {
                        "marker": {
                          "colorbar": {
                            "outlinewidth": 0,
                            "ticks": ""
                          }
                        },
                        "type": "scattermap"
                      }
                    ],
                    "scattermapbox": [
                      {
                        "marker": {
                          "colorbar": {
                            "outlinewidth": 0,
                            "ticks": ""
                          }
                        },
                        "type": "scattermapbox"
                      }
                    ],
                    "scatterpolar": [
                      {
                        "marker": {
                          "colorbar": {
                            "outlinewidth": 0,
                            "ticks": ""
                          }
                        },
                        "type": "scatterpolar"
                      }
                    ],
                    "scatterpolargl": [
                      {
                        "marker": {
                          "colorbar": {
                            "outlinewidth": 0,
                            "ticks": ""
                          }
                        },
                        "type": "scatterpolargl"
                      }
                    ],
                    "scatterternary": [
                      {
                        "marker": {
                          "colorbar": {
                            "outlinewidth": 0,
                            "ticks": ""
                          }
                        },
                        "type": "scatterternary"
                      }
                    ],
                    "surface": [
                      {
                        "colorbar": {
                          "outlinewidth": 0,
                          "ticks": ""
                        },
                        "colorscale": [
                          [
                            0,
                            "#0d0887"
                          ],
                          [
                            0.1111111111111111,
                            "#46039f"
                          ],
                          [
                            0.2222222222222222,
                            "#7201a8"
                          ],
                          [
                            0.3333333333333333,
                            "#9c179e"
                          ],
                          [
                            0.4444444444444444,
                            "#bd3786"
                          ],
                          [
                            0.5555555555555556,
                            "#d8576b"
                          ],
                          [
                            0.6666666666666666,
                            "#ed7953"
                          ],
                          [
                            0.7777777777777778,
                            "#fb9f3a"
                          ],
                          [
                            0.8888888888888888,
                            "#fdca26"
                          ],
                          [
                            1,
                            "#f0f921"
                          ]
                        ],
                        "type": "surface"
                      }
                    ],
                    "table": [
                      {
                        "cells": {
                          "fill": {
                            "color": "#EBF0F8"
                          },
                          "line": {
                            "color": "white"
                          }
                        },
                        "header": {
                          "fill": {
                            "color": "#C8D4E3"
                          },
                          "line": {
                            "color": "white"
                          }
                        },
                        "type": "table"
                      }
                    ]
                  },
                  "layout": {
                    "annotationdefaults": {
                      "arrowcolor": "#2a3f5f",
                      "arrowhead": 0,
                      "arrowwidth": 1
                    },
                    "autotypenumbers": "strict",
                    "coloraxis": {
                      "colorbar": {
                        "outlinewidth": 0,
                        "ticks": ""
                      }
                    },
                    "colorscale": {
                      "diverging": [
                        [
                          0,
                          "#8e0152"
                        ],
                        [
                          0.1,
                          "#c51b7d"
                        ],
                        [
                          0.2,
                          "#de77ae"
                        ],
                        [
                          0.3,
                          "#f1b6da"
                        ],
                        [
                          0.4,
                          "#fde0ef"
                        ],
                        [
                          0.5,
                          "#f7f7f7"
                        ],
                        [
                          0.6,
                          "#e6f5d0"
                        ],
                        [
                          0.7,
                          "#b8e186"
                        ],
                        [
                          0.8,
                          "#7fbc41"
                        ],
                        [
                          0.9,
                          "#4d9221"
                        ],
                        [
                          1,
                          "#276419"
                        ]
                      ],
                      "sequential": [
                        [
                          0,
                          "#0d0887"
                        ],
                        [
                          0.1111111111111111,
                          "#46039f"
                        ],
                        [
                          0.2222222222222222,
                          "#7201a8"
                        ],
                        [
                          0.3333333333333333,
                          "#9c179e"
                        ],
                        [
                          0.4444444444444444,
                          "#bd3786"
                        ],
                        [
                          0.5555555555555556,
                          "#d8576b"
                        ],
                        [
                          0.6666666666666666,
                          "#ed7953"
                        ],
                        [
                          0.7777777777777778,
                          "#fb9f3a"
                        ],
                        [
                          0.8888888888888888,
                          "#fdca26"
                        ],
                        [
                          1,
                          "#f0f921"
                        ]
                      ],
                      "sequentialminus": [
                        [
                          0,
                          "#0d0887"
                        ],
                        [
                          0.1111111111111111,
                          "#46039f"
                        ],
                        [
                          0.2222222222222222,
                          "#7201a8"
                        ],
                        [
                          0.3333333333333333,
                          "#9c179e"
                        ],
                        [
                          0.4444444444444444,
                          "#bd3786"
                        ],
                        [
                          0.5555555555555556,
                          "#d8576b"
                        ],
                        [
                          0.6666666666666666,
                          "#ed7953"
                        ],
                        [
                          0.7777777777777778,
                          "#fb9f3a"
                        ],
                        [
                          0.8888888888888888,
                          "#fdca26"
                        ],
                        [
                          1,
                          "#f0f921"
                        ]
                      ]
                    },
                    "colorway": [
                      "#636efa",
                      "#EF553B",
                      "#00cc96",
                      "#ab63fa",
                      "#FFA15A",
                      "#19d3f3",
                      "#FF6692",
                      "#B6E880",
                      "#FF97FF",
                      "#FECB52"
                    ],
                    "font": {
                      "color": "#2a3f5f"
                    },
                    "geo": {
                      "bgcolor": "white",
                      "lakecolor": "white",
                      "landcolor": "#E5ECF6",
                      "showlakes": true,
                      "showland": true,
                      "subunitcolor": "white"
                    },
                    "hoverlabel": {
                      "align": "left"
                    },
                    "hovermode": "closest",
                    "mapbox": {
                      "style": "light"
                    },
                    "paper_bgcolor": "white",
                    "plot_bgcolor": "#E5ECF6",
                    "polar": {
                      "angularaxis": {
                        "gridcolor": "white",
                        "linecolor": "white",
                        "ticks": ""
                      },
                      "bgcolor": "#E5ECF6",
                      "radialaxis": {
                        "gridcolor": "white",
                        "linecolor": "white",
                        "ticks": ""
                      }
                    },
                    "scene": {
                      "xaxis": {
                        "backgroundcolor": "#E5ECF6",
                        "gridcolor": "white",
                        "gridwidth": 2,
                        "linecolor": "white",
                        "showbackground": true,
                        "ticks": "",
                        "zerolinecolor": "white"
                      },
                      "yaxis": {
                        "backgroundcolor": "#E5ECF6",
                        "gridcolor": "white",
                        "gridwidth": 2,
                        "linecolor": "white",
                        "showbackground": true,
                        "ticks": "",
                        "zerolinecolor": "white"
                      },
                      "zaxis": {
                        "backgroundcolor": "#E5ECF6",
                        "gridcolor": "white",
                        "gridwidth": 2,
                        "linecolor": "white",
                        "showbackground": true,
                        "ticks": "",
                        "zerolinecolor": "white"
                      }
                    },
                    "shapedefaults": {
                      "line": {
                        "color": "#2a3f5f"
                      }
                    },
                    "ternary": {
                      "aaxis": {
                        "gridcolor": "white",
                        "linecolor": "white",
                        "ticks": ""
                      },
                      "baxis": {
                        "gridcolor": "white",
                        "linecolor": "white",
                        "ticks": ""
                      },
                      "bgcolor": "#E5ECF6",
                      "caxis": {
                        "gridcolor": "white",
                        "linecolor": "white",
                        "ticks": ""
                      }
                    },
                    "title": {
                      "x": 0.05
                    },
                    "xaxis": {
                      "automargin": true,
                      "gridcolor": "white",
                      "linecolor": "white",
                      "ticks": "",
                      "title": {
                        "standoff": 15
                      },
                      "zerolinecolor": "white",
                      "zerolinewidth": 2
                    },
                    "yaxis": {
                      "automargin": true,
                      "gridcolor": "white",
                      "linecolor": "white",
                      "ticks": "",
                      "title": {
                        "standoff": 15
                      },
                      "zerolinecolor": "white",
                      "zerolinewidth": 2
                    }
                  }
                },
                "xaxis": {
                  "anchor": "y",
                  "domain": [
                    0,
                    1
                  ],
                  "gridwidth": 1,
                  "showgrid": false,
                  "showline": false,
                  "zeroline": false
                },
                "yaxis": {
                  "anchor": "x",
                  "domain": [
                    0,
                    1
                  ],
                  "gridcolor": "#EEEEEE",
                  "linecolor": "black",
                  "showgrid": true,
                  "showline": true,
                  "title": {
                    "text": ""
                  },
                  "zeroline": false
                }
              }
            }
          },
          "metadata": {},
          "output_type": "display_data"
        }
      ],
      "source": [
        "from earthkit.plots.interactive import Chart\n",
        "\n",
        "\n",
        "da = ds[\"t_2m\"] - 273.15\n",
        "da.name = \"t_2m (°C)\"\n",
        "\n",
        "chart = Chart()\n",
        "chart.line(da)\n",
        "\n",
        "chart.show()"
      ]
    },
    {
      "cell_type": "markdown",
      "id": "6ecbe31d",
      "metadata": {},
      "source": [
        "We can also query the entire ensemble at the same geolocation.\n",
        "\n",
        "For ICON-CH2-EPS:"
      ]
    },
    {
      "cell_type": "code",
      "execution_count": null,
      "id": "251da6f4",
      "metadata": {},
      "outputs": [],
      "source": [
        "import xarray as xr\n",
        "import dataclasses as dc\n",
        "\n",
        "ds_mems = []\n",
        "for num in range(1, 21):\n",
        "    req = dc.replace(\n",
        "        request,\n",
        "        number=str(num),\n",
        "        model=mars.Model.ICON_CH2_EPS,\n",
        "        feature={\n",
        "            \"type\": \"timeseries\",\n",
        "            \"points\": [rotated_point],\n",
        "            \"time_axis\": \"step\",\n",
        "            \"range\": {\"start\": 0, \"end\": 120},\n",
        "            \"axes\": [\"longitude\", \"latitude\"],\n",
        "        },\n",
        "    )\n",
        "    ds_mems.append(\n",
        "        ekd.from_source(\"polytope\", \"mchgj\", req.to_polytope(), stream=False).to_xarray()\n",
        "    )\n",
        "\n",
        "ds_ch2 = xr.concat(ds_mems, dim=\"number\")"
      ]
    },
    {
      "cell_type": "markdown",
      "id": "353d31af",
      "metadata": {},
      "source": [
        "For ICON-CH1-EPS:"
      ]
    },
    {
      "cell_type": "code",
      "execution_count": null,
      "id": "57208fb7",
      "metadata": {},
      "outputs": [],
      "source": [
        "import xarray as xr\n",
        "ds_mems = []\n",
        "for num in range(1, 11):\n",
        "    req = dc.replace(\n",
        "        request,\n",
        "        number=str(num),\n",
        "        model=mars.Model.ICON_CH1_EPS,\n",
        "        feature={\n",
        "            \"type\": \"timeseries\",\n",
        "            \"points\": [rotated_point],\n",
        "            \"time_axis\": \"step\",\n",
        "            \"range\": {\"start\": 0, \"end\": 33},\n",
        "            \"axes\": [\"longitude\", \"latitude\"],\n",
        "        },\n",
        "    )\n",
        "    ds_mems.append(\n",
        "        ekd.from_source(\"polytope\", \"mchgj\", req.to_polytope(), stream=False).to_xarray()\n",
        "    )\n",
        "\n",
        "ds_ch1 = xr.concat(ds_mems, dim=\"number\")"
      ]
    },
    {
      "cell_type": "markdown",
      "id": "1dc90019",
      "metadata": {},
      "source": [
        "We can also request the same data from **IFS** using **ECMWF Polytope**. See the ECMWF Polytope client README for account creation: https://github.com/ecmwf/polytope-client/?tab=readme-ov-file#2-account-creation"
      ]
    },
    {
      "cell_type": "code",
      "execution_count": 11,
      "id": "040a0ee3",
      "metadata": {},
      "outputs": [],
      "source": [
        "import os\n",
        "\n",
        "# Use your ECMWF Polytope credentials (do not hard-code secrets in notebooks)\n",
        "os.environ[\"POLYTOPE_USER_KEY\"] = \"xxx\"\n",
        "os.environ[\"POLYTOPE_USER_EMAIL\"] = \"xxx\"\n",
        "os.environ[\"POLYTOPE_ADDRESS\"] = \"polytope.ecmwf.int\""
      ]
    },
    {
      "cell_type": "markdown",
      "id": "909c2846",
      "metadata": {},
      "source": [
        "> **Note:** For ECMWF Polytope, coordinates are **geographic** (WGS84). In the next request we pass `geo_lon` and `geo_lat`."
      ]
    },
    {
      "cell_type": "code",
      "execution_count": null,
      "id": "766b6958",
      "metadata": {},
      "outputs": [],
      "source": [
        "request = {\n",
        "    \"class\": \"od\",\n",
        "    \"stream\": \"enfo\",\n",
        "    \"type\": \"pf\",\n",
        "    \"date\": date,\n",
        "    \"time\": time,\n",
        "    \"levtype\": \"sfc\",\n",
        "    \"expver\": \"0001\",\n",
        "    \"domain\": \"g\",\n",
        "    \"param\": \"167\",\n",
        "    \"number\": \"1/to/50\",\n",
        "    \"step\": \"0/to/160\",\n",
        "    \"feature\": {\n",
        "        \"type\": \"timeseries\",\n",
        "        \"points\": [[float(round(geo_lon, 2)), float(round(geo_lat, 2))]],\n",
        "        \"time_axis\": \"step\",\n",
        "        \"axes\": [\"longitude\", \"latitude\"]\n",
        "    }\n",
        "}\n",
        "\n",
        "ds_ifs = ekd.from_source(\n",
        "    \"polytope\",\n",
        "    \"ecmwf-mars\",\n",
        "    request,\n",
        "    stream=False,\n",
        "    address=\"polytope.ecmwf.int\",\n",
        ")"
      ]
    },
    {
      "cell_type": "markdown",
      "id": "3d40e194",
      "metadata": {},
      "source": [
        "**Plotting ensemble members of time series**"
      ]
    },
    {
      "cell_type": "code",
      "execution_count": 14,
      "id": "49a62740",
      "metadata": {},
      "outputs": [
        {
          "data": {
            "application/vnd.plotly.v1+json": {
              "config": {
                "plotlyServerURL": "https://plot.ly"
              },
              "data": [
                {
                  "fillcolor": "#B1B6FC",
                  "hoverinfo": "skip",
                  "legendgroup": "CH1",
                  "line": {
                    "color": "#ea5545"
                  },
                  "lowerfence": {
                    "bdata": "AAAAQBr0cUAAAAAgf+FxQAAAAIBr03FAAAAA4F7LcUAAAADgGsFxQAAAAMAdtHFAAAAAQByrcUAAAAAgFapxQAAAAGA+pHFAAAAAAPagcUAAAADACKNxQAAAAODInnFAAAAAoF6lcUAAAABgc7pxQAAAAEAS3HFAAAAAYOj7cUAAAACgkRlyQAAAAGDEJ3JAAAAA4LExckAAAAAgNDdyQAAAAIBrOXJAAAAAoDE6ckAAAAAAgTZyQAAAAIAAL3JAAAAAoIUeckAAAADAKApyQAAAAMBX7HFAAAAAwFrbcUAAAACgl89xQAAAAMC/y3FAAAAAgF3JcUAAAAAAK8VxQAAAAMC4u3FAAAAAoAy0cUA=",
                    "dtype": "f8"
                  },
                  "median": {
                    "bdata": "AAAA4MD9cUAAAACAVfNxQAAAAKCG53FAAAAAYLvccUAAAACAJNVxQAAAAEB1zXFAAAAAkM69cUAAAABgwrtxQAAAAADounFAAAAAUAWzcUAAAAAgkq1xQAAAAEA7qXFAAAAAALKpcUAAAADAz8FxQAAAAPBu53FAAAAAwLMFckAAAACAjSByQAAAAFDLMnJAAAAAcPQ9ckAAAAAAVklyQAAAAODfSXJAAAAAkAlMckAAAACgZkZyQAAAAEAwO3JAAAAAgM4jckAAAAAgHBFyQAAAABCBBnJAAAAAoE3lcUAAAADg3NpxQAAAAJCq1nFAAAAAUM7ScUAAAAAQT8xxQAAAAKC5xnFAAAAA0NzBcUA=",
                    "dtype": "f8"
                  },
                  "q1": {
                    "bdata": "ZmZm5o/4cUBmZmZmeehxQDMzM/Nr3HFAAAAA8ADUcUCamZlZocRxQAAAAKAEunFAmpmZCWSycUAzMzMjF6xxQJqZmfmnqnFAzczMXHahcUCamZkJjKNxQM3MzBwgoHFAZmZmxmqlcUAAAAAArb9xQJqZmUmj4XFAzczMzNcBckBmZmb29BlyQJqZmakIKHJAZmZmVl4yckAAAABAyjhyQAAAAHAoO3JAMzMzg1Y8ckBmZmY2ZzpyQDMzM0N7NHJAmpmZ2T4gckAzMzMz9AtyQAAAAKD173FAAAAAICXecUCamZnJbNRxQM3MzBxpzXFAMzMzg9PJcUAzMzOjfsZxQM3MzCyYvHFAzczMzK+1cUA=",
                    "dtype": "f8"
                  },
                  "q3": {
                    "bdata": "zczM/CwDckAAAADQQ/pxQJqZmfnw7XFAZmZmhnXocUCamZkpDuFxQGZmZhY92HFAMzMzM/3RcUAAAADgscxxQM3MzNzwy3FAMzMz47fDcUAAAAAgYLpxQM3MzFx+uXFAZmZm9hC3cUAzMzPThNFxQJqZmfnU7nFAmpmZeTAMckAzMzNzgCVyQJqZmak6NnJAMzMzE0hDckAzMzPTWVByQM3MzIwlWXJAzczMbNVYckCamZm5klRyQGZmZsYCR3JAZmZmJrEqckBmZmamoRhyQAAAAEA6CXJAmpmZaeP5cUBmZmaWN+hxQDMzM3NQ4HFAzczMPPffcUAAAACAPNdxQAAAAPDNznFAAAAAsGnZcUA=",
                    "dtype": "f8"
                  },
                  "showlegend": false,
                  "type": "box",
                  "upperfence": {
                    "bdata": "AAAAoLoDckAAAACgNfxxQAAAAGC08HFAAAAAwOrocUAAAABA1+JxQAAAAAD92nFAAAAAAKrScUAAAACgy9dxQAAAACAM2HFAAAAAwCHNcUAAAADgscBxQAAAAOBgu3FAAAAAgHq+cUAAAABA2dJxQAAAAAAj93FAAAAAwMgUckAAAABgdyhyQAAAAGAEN3JAAAAAIINFckAAAACAkVJyQAAAAMDlWnJAAAAA4GxeckAAAABAqFdyQAAAACDvSXJAAAAAwNgqckAAAADAch9yQAAAAGBnEHJAAAAA4DX6cUAAAACgWO5xQAAAACD44XFAAAAAIPrlcUAAAADAMtpxQAAAAMBr03FAAAAAoCjfcUA=",
                    "dtype": "f8"
                  },
                  "width": 1080000,
                  "x": [
                    "2025-09-16T18:00:00",
                    "2025-09-16T19:00:00",
                    "2025-09-16T20:00:00",
                    "2025-09-16T21:00:00",
                    "2025-09-16T22:00:00",
                    "2025-09-16T23:00:00",
                    "2025-09-17T00:00:00",
                    "2025-09-17T01:00:00",
                    "2025-09-17T02:00:00",
                    "2025-09-17T03:00:00",
                    "2025-09-17T04:00:00",
                    "2025-09-17T05:00:00",
                    "2025-09-17T06:00:00",
                    "2025-09-17T07:00:00",
                    "2025-09-17T08:00:00",
                    "2025-09-17T09:00:00",
                    "2025-09-17T10:00:00",
                    "2025-09-17T11:00:00",
                    "2025-09-17T12:00:00",
                    "2025-09-17T13:00:00",
                    "2025-09-17T14:00:00",
                    "2025-09-17T15:00:00",
                    "2025-09-17T16:00:00",
                    "2025-09-17T17:00:00",
                    "2025-09-17T18:00:00",
                    "2025-09-17T19:00:00",
                    "2025-09-17T20:00:00",
                    "2025-09-17T21:00:00",
                    "2025-09-17T22:00:00",
                    "2025-09-17T23:00:00",
                    "2025-09-18T00:00:00",
                    "2025-09-18T01:00:00",
                    "2025-09-18T02:00:00",
                    "2025-09-18T03:00:00"
                  ],
                  "xaxis": "x",
                  "yaxis": "y"
                },
                {
                  "fillcolor": "#B1B6FC",
                  "hoverinfo": "skip",
                  "legendgroup": "CH1",
                  "line": {
                    "color": "#ea5545"
                  },
                  "lowerfence": {
                    "bdata": "AAAAQBr0cUAAAAAgf+FxQAAAAIBr03FAAAAA4F7LcUAAAADgGsFxQAAAAMAdtHFAAAAAQByrcUAAAAAgFapxQAAAAGA+pHFAAAAAAPagcUAAAADACKNxQAAAAODInnFAAAAAoF6lcUAAAABgc7pxQAAAAEAS3HFAAAAAYOj7cUAAAACgkRlyQAAAAGDEJ3JAAAAA4LExckAAAAAgNDdyQAAAAIBrOXJAAAAAoDE6ckAAAAAAgTZyQAAAAIAAL3JAAAAAoIUeckAAAADAKApyQAAAAMBX7HFAAAAAwFrbcUAAAACgl89xQAAAAMC/y3FAAAAAgF3JcUAAAAAAK8VxQAAAAMC4u3FAAAAAoAy0cUA=",
                    "dtype": "f8"
                  },
                  "median": {
                    "bdata": "AAAA4MD9cUAAAACAVfNxQAAAAKCG53FAAAAAYLvccUAAAACAJNVxQAAAAEB1zXFAAAAAkM69cUAAAABgwrtxQAAAAADounFAAAAAUAWzcUAAAAAgkq1xQAAAAEA7qXFAAAAAALKpcUAAAADAz8FxQAAAAPBu53FAAAAAwLMFckAAAACAjSByQAAAAFDLMnJAAAAAcPQ9ckAAAAAAVklyQAAAAODfSXJAAAAAkAlMckAAAACgZkZyQAAAAEAwO3JAAAAAgM4jckAAAAAgHBFyQAAAABCBBnJAAAAAoE3lcUAAAADg3NpxQAAAAJCq1nFAAAAAUM7ScUAAAAAQT8xxQAAAAKC5xnFAAAAA0NzBcUA=",
                    "dtype": "f8"
                  },
                  "q1": {
                    "bdata": "AAAAoLv7cUAAAACoautxQAAAAMgF33FAAAAAqJHbcUAAAACgG8xxQAAAAHjPw3FAAAAAoCy1cUAAAADQ8rNxQAAAAMg1rnFAAAAAgLKncUAAAAAYcKVxQAAAAHhkoXFAAAAA6HSmcUAAAADwacBxQAAAAJhI5HFAAAAA8CAFckAAAADwwhxyQAAAAGhQLXJAAAAAIF41ckAAAACw8j1yQAAAAMAmQXJAAAAAIPtDckAAAABgrEByQAAAABBVNnJAAAAACAchckAAAAC4LQ5yQAAAAPAb8nFAAAAAQM7gcUAAAABwgddxQAAAACga0XFAAAAA+PbNcUAAAABwZslxQAAAACB3v3FAAAAAQOy6cUA=",
                    "dtype": "f8"
                  },
                  "q3": {
                    "bdata": "AAAA4LcCckAAAABgivdxQAAAAOiS63FAAAAAMEPmcUAAAACI1d5xQAAAAABw1nFAAAAAGMjOcUAAAAAAW8lxQAAAAFDSw3FAAAAA6De7cUAAAADIirZxQAAAANCYsnFAAAAAqGW0cUAAAAAYGM1xQAAAAFCF63FAAAAAIOIKckAAAAAwRSJyQAAAALhsNXJAAAAAqPhCckAAAAAABk5yQAAAAFiKUHJAAAAAwO9RckAAAAAgDU9yQAAAAAguRHJAAAAAaJAockAAAAD4MxZyQAAAAPjdB3JAAAAAwBzxcUAAAACQPeJxQAAAANg23nFAAAAAuF3XcUAAAACI99FxQAAAAGBwzHFAAAAAKDDKcUA=",
                    "dtype": "f8"
                  },
                  "showlegend": false,
                  "showwhiskers": false,
                  "type": "box",
                  "upperfence": {
                    "bdata": "AAAAoLoDckAAAACgNfxxQAAAAGC08HFAAAAAwOrocUAAAABA1+JxQAAAAAD92nFAAAAAAKrScUAAAACgy9dxQAAAACAM2HFAAAAAwCHNcUAAAADgscBxQAAAAOBgu3FAAAAAgHq+cUAAAABA2dJxQAAAAAAj93FAAAAAwMgUckAAAABgdyhyQAAAAGAEN3JAAAAAIINFckAAAACAkVJyQAAAAMDlWnJAAAAA4GxeckAAAABAqFdyQAAAACDvSXJAAAAAwNgqckAAAADAch9yQAAAAGBnEHJAAAAA4DX6cUAAAACgWO5xQAAAACD44XFAAAAAIPrlcUAAAADAMtpxQAAAAMBr03FAAAAAoCjfcUA=",
                    "dtype": "f8"
                  },
                  "width": 2160000,
                  "x": [
                    "2025-09-16T18:00:00",
                    "2025-09-16T19:00:00",
                    "2025-09-16T20:00:00",
                    "2025-09-16T21:00:00",
                    "2025-09-16T22:00:00",
                    "2025-09-16T23:00:00",
                    "2025-09-17T00:00:00",
                    "2025-09-17T01:00:00",
                    "2025-09-17T02:00:00",
                    "2025-09-17T03:00:00",
                    "2025-09-17T04:00:00",
                    "2025-09-17T05:00:00",
                    "2025-09-17T06:00:00",
                    "2025-09-17T07:00:00",
                    "2025-09-17T08:00:00",
                    "2025-09-17T09:00:00",
                    "2025-09-17T10:00:00",
                    "2025-09-17T11:00:00",
                    "2025-09-17T12:00:00",
                    "2025-09-17T13:00:00",
                    "2025-09-17T14:00:00",
                    "2025-09-17T15:00:00",
                    "2025-09-17T16:00:00",
                    "2025-09-17T17:00:00",
                    "2025-09-17T18:00:00",
                    "2025-09-17T19:00:00",
                    "2025-09-17T20:00:00",
                    "2025-09-17T21:00:00",
                    "2025-09-17T22:00:00",
                    "2025-09-17T23:00:00",
                    "2025-09-18T00:00:00",
                    "2025-09-18T01:00:00",
                    "2025-09-18T02:00:00",
                    "2025-09-18T03:00:00"
                  ],
                  "xaxis": "x",
                  "yaxis": "y"
                },
                {
                  "hovertemplate": "%{y:.2f}<extra>P<sub>0%</sub></extra>",
                  "marker": {
                    "color": "#ea5545",
                    "size": 0.00001
                  },
                  "mode": "markers",
                  "type": "scatter",
                  "x": [
                    "2025-09-16T18:00:00",
                    "2025-09-16T19:00:00",
                    "2025-09-16T20:00:00",
                    "2025-09-16T21:00:00",
                    "2025-09-16T22:00:00",
                    "2025-09-16T23:00:00",
                    "2025-09-17T00:00:00",
                    "2025-09-17T01:00:00",
                    "2025-09-17T02:00:00",
                    "2025-09-17T03:00:00",
                    "2025-09-17T04:00:00",
                    "2025-09-17T05:00:00",
                    "2025-09-17T06:00:00",
                    "2025-09-17T07:00:00",
                    "2025-09-17T08:00:00",
                    "2025-09-17T09:00:00",
                    "2025-09-17T10:00:00",
                    "2025-09-17T11:00:00",
                    "2025-09-17T12:00:00",
                    "2025-09-17T13:00:00",
                    "2025-09-17T14:00:00",
                    "2025-09-17T15:00:00",
                    "2025-09-17T16:00:00",
                    "2025-09-17T17:00:00",
                    "2025-09-17T18:00:00",
                    "2025-09-17T19:00:00",
                    "2025-09-17T20:00:00",
                    "2025-09-17T21:00:00",
                    "2025-09-17T22:00:00",
                    "2025-09-17T23:00:00",
                    "2025-09-18T00:00:00",
                    "2025-09-18T01:00:00",
                    "2025-09-18T02:00:00",
                    "2025-09-18T03:00:00"
                  ],
                  "xaxis": "x",
                  "y": {
                    "bdata": "AAAAQBr0cUAAAAAgf+FxQAAAAIBr03FAAAAA4F7LcUAAAADgGsFxQAAAAMAdtHFAAAAAQByrcUAAAAAgFapxQAAAAGA+pHFAAAAAAPagcUAAAADACKNxQAAAAODInnFAAAAAoF6lcUAAAABgc7pxQAAAAEAS3HFAAAAAYOj7cUAAAACgkRlyQAAAAGDEJ3JAAAAA4LExckAAAAAgNDdyQAAAAIBrOXJAAAAAoDE6ckAAAAAAgTZyQAAAAIAAL3JAAAAAoIUeckAAAADAKApyQAAAAMBX7HFAAAAAwFrbcUAAAACgl89xQAAAAMC/y3FAAAAAgF3JcUAAAAAAK8VxQAAAAMC4u3FAAAAAoAy0cUA=",
                    "dtype": "f8"
                  },
                  "yaxis": "y"
                },
                {
                  "hovertemplate": "%{y:.2f}<extra>P<sub>10%</sub></extra>",
                  "marker": {
                    "color": "#ea5545",
                    "size": 0.00001
                  },
                  "mode": "markers",
                  "type": "scatter",
                  "x": [
                    "2025-09-16T18:00:00",
                    "2025-09-16T19:00:00",
                    "2025-09-16T20:00:00",
                    "2025-09-16T21:00:00",
                    "2025-09-16T22:00:00",
                    "2025-09-16T23:00:00",
                    "2025-09-17T00:00:00",
                    "2025-09-17T01:00:00",
                    "2025-09-17T02:00:00",
                    "2025-09-17T03:00:00",
                    "2025-09-17T04:00:00",
                    "2025-09-17T05:00:00",
                    "2025-09-17T06:00:00",
                    "2025-09-17T07:00:00",
                    "2025-09-17T08:00:00",
                    "2025-09-17T09:00:00",
                    "2025-09-17T10:00:00",
                    "2025-09-17T11:00:00",
                    "2025-09-17T12:00:00",
                    "2025-09-17T13:00:00",
                    "2025-09-17T14:00:00",
                    "2025-09-17T15:00:00",
                    "2025-09-17T16:00:00",
                    "2025-09-17T17:00:00",
                    "2025-09-17T18:00:00",
                    "2025-09-17T19:00:00",
                    "2025-09-17T20:00:00",
                    "2025-09-17T21:00:00",
                    "2025-09-17T22:00:00",
                    "2025-09-17T23:00:00",
                    "2025-09-18T00:00:00",
                    "2025-09-18T01:00:00",
                    "2025-09-18T02:00:00",
                    "2025-09-18T03:00:00"
                  ],
                  "xaxis": "x",
                  "y": {
                    "bdata": "ZmZm5o/4cUBmZmZmeehxQDMzM/Nr3HFAAAAA8ADUcUCamZlZocRxQAAAAKAEunFAmpmZCWSycUAzMzMjF6xxQJqZmfmnqnFAzczMXHahcUCamZkJjKNxQM3MzBwgoHFAZmZmxmqlcUAAAAAArb9xQJqZmUmj4XFAzczMzNcBckBmZmb29BlyQJqZmakIKHJAZmZmVl4yckAAAABAyjhyQAAAAHAoO3JAMzMzg1Y8ckBmZmY2ZzpyQDMzM0N7NHJAmpmZ2T4gckAzMzMz9AtyQAAAAKD173FAAAAAICXecUCamZnJbNRxQM3MzBxpzXFAMzMzg9PJcUAzMzOjfsZxQM3MzCyYvHFAzczMzK+1cUA=",
                    "dtype": "f8"
                  },
                  "yaxis": "y"
                },
                {
                  "hovertemplate": "%{y:.2f}<extra>P<sub>25%</sub></extra>",
                  "marker": {
                    "color": "#ea5545",
                    "size": 0.00001
                  },
                  "mode": "markers",
                  "type": "scatter",
                  "x": [
                    "2025-09-16T18:00:00",
                    "2025-09-16T19:00:00",
                    "2025-09-16T20:00:00",
                    "2025-09-16T21:00:00",
                    "2025-09-16T22:00:00",
                    "2025-09-16T23:00:00",
                    "2025-09-17T00:00:00",
                    "2025-09-17T01:00:00",
                    "2025-09-17T02:00:00",
                    "2025-09-17T03:00:00",
                    "2025-09-17T04:00:00",
                    "2025-09-17T05:00:00",
                    "2025-09-17T06:00:00",
                    "2025-09-17T07:00:00",
                    "2025-09-17T08:00:00",
                    "2025-09-17T09:00:00",
                    "2025-09-17T10:00:00",
                    "2025-09-17T11:00:00",
                    "2025-09-17T12:00:00",
                    "2025-09-17T13:00:00",
                    "2025-09-17T14:00:00",
                    "2025-09-17T15:00:00",
                    "2025-09-17T16:00:00",
                    "2025-09-17T17:00:00",
                    "2025-09-17T18:00:00",
                    "2025-09-17T19:00:00",
                    "2025-09-17T20:00:00",
                    "2025-09-17T21:00:00",
                    "2025-09-17T22:00:00",
                    "2025-09-17T23:00:00",
                    "2025-09-18T00:00:00",
                    "2025-09-18T01:00:00",
                    "2025-09-18T02:00:00",
                    "2025-09-18T03:00:00"
                  ],
                  "xaxis": "x",
                  "y": {
                    "bdata": "AAAAoLv7cUAAAACoautxQAAAAMgF33FAAAAAqJHbcUAAAACgG8xxQAAAAHjPw3FAAAAAoCy1cUAAAADQ8rNxQAAAAMg1rnFAAAAAgLKncUAAAAAYcKVxQAAAAHhkoXFAAAAA6HSmcUAAAADwacBxQAAAAJhI5HFAAAAA8CAFckAAAADwwhxyQAAAAGhQLXJAAAAAIF41ckAAAACw8j1yQAAAAMAmQXJAAAAAIPtDckAAAABgrEByQAAAABBVNnJAAAAACAchckAAAAC4LQ5yQAAAAPAb8nFAAAAAQM7gcUAAAABwgddxQAAAACga0XFAAAAA+PbNcUAAAABwZslxQAAAACB3v3FAAAAAQOy6cUA=",
                    "dtype": "f8"
                  },
                  "yaxis": "y"
                },
                {
                  "hovertemplate": "%{y:.2f}<extra>P<sub>50%</sub></extra>",
                  "marker": {
                    "color": "#ea5545",
                    "size": 0.00001
                  },
                  "mode": "markers",
                  "type": "scatter",
                  "x": [
                    "2025-09-16T18:00:00",
                    "2025-09-16T19:00:00",
                    "2025-09-16T20:00:00",
                    "2025-09-16T21:00:00",
                    "2025-09-16T22:00:00",
                    "2025-09-16T23:00:00",
                    "2025-09-17T00:00:00",
                    "2025-09-17T01:00:00",
                    "2025-09-17T02:00:00",
                    "2025-09-17T03:00:00",
                    "2025-09-17T04:00:00",
                    "2025-09-17T05:00:00",
                    "2025-09-17T06:00:00",
                    "2025-09-17T07:00:00",
                    "2025-09-17T08:00:00",
                    "2025-09-17T09:00:00",
                    "2025-09-17T10:00:00",
                    "2025-09-17T11:00:00",
                    "2025-09-17T12:00:00",
                    "2025-09-17T13:00:00",
                    "2025-09-17T14:00:00",
                    "2025-09-17T15:00:00",
                    "2025-09-17T16:00:00",
                    "2025-09-17T17:00:00",
                    "2025-09-17T18:00:00",
                    "2025-09-17T19:00:00",
                    "2025-09-17T20:00:00",
                    "2025-09-17T21:00:00",
                    "2025-09-17T22:00:00",
                    "2025-09-17T23:00:00",
                    "2025-09-18T00:00:00",
                    "2025-09-18T01:00:00",
                    "2025-09-18T02:00:00",
                    "2025-09-18T03:00:00"
                  ],
                  "xaxis": "x",
                  "y": {
                    "bdata": "AAAA4MD9cUAAAACAVfNxQAAAAKCG53FAAAAAYLvccUAAAACAJNVxQAAAAEB1zXFAAAAAkM69cUAAAABgwrtxQAAAAADounFAAAAAUAWzcUAAAAAgkq1xQAAAAEA7qXFAAAAAALKpcUAAAADAz8FxQAAAAPBu53FAAAAAwLMFckAAAACAjSByQAAAAFDLMnJAAAAAcPQ9ckAAAAAAVklyQAAAAODfSXJAAAAAkAlMckAAAACgZkZyQAAAAEAwO3JAAAAAgM4jckAAAAAgHBFyQAAAABCBBnJAAAAAoE3lcUAAAADg3NpxQAAAAJCq1nFAAAAAUM7ScUAAAAAQT8xxQAAAAKC5xnFAAAAA0NzBcUA=",
                    "dtype": "f8"
                  },
                  "yaxis": "y"
                },
                {
                  "hovertemplate": "%{y:.2f}<extra>P<sub>75%</sub></extra>",
                  "marker": {
                    "color": "#ea5545",
                    "size": 0.00001
                  },
                  "mode": "markers",
                  "type": "scatter",
                  "x": [
                    "2025-09-16T18:00:00",
                    "2025-09-16T19:00:00",
                    "2025-09-16T20:00:00",
                    "2025-09-16T21:00:00",
                    "2025-09-16T22:00:00",
                    "2025-09-16T23:00:00",
                    "2025-09-17T00:00:00",
                    "2025-09-17T01:00:00",
                    "2025-09-17T02:00:00",
                    "2025-09-17T03:00:00",
                    "2025-09-17T04:00:00",
                    "2025-09-17T05:00:00",
                    "2025-09-17T06:00:00",
                    "2025-09-17T07:00:00",
                    "2025-09-17T08:00:00",
                    "2025-09-17T09:00:00",
                    "2025-09-17T10:00:00",
                    "2025-09-17T11:00:00",
                    "2025-09-17T12:00:00",
                    "2025-09-17T13:00:00",
                    "2025-09-17T14:00:00",
                    "2025-09-17T15:00:00",
                    "2025-09-17T16:00:00",
                    "2025-09-17T17:00:00",
                    "2025-09-17T18:00:00",
                    "2025-09-17T19:00:00",
                    "2025-09-17T20:00:00",
                    "2025-09-17T21:00:00",
                    "2025-09-17T22:00:00",
                    "2025-09-17T23:00:00",
                    "2025-09-18T00:00:00",
                    "2025-09-18T01:00:00",
                    "2025-09-18T02:00:00",
                    "2025-09-18T03:00:00"
                  ],
                  "xaxis": "x",
                  "y": {
                    "bdata": "AAAA4LcCckAAAABgivdxQAAAAOiS63FAAAAAMEPmcUAAAACI1d5xQAAAAABw1nFAAAAAGMjOcUAAAAAAW8lxQAAAAFDSw3FAAAAA6De7cUAAAADIirZxQAAAANCYsnFAAAAAqGW0cUAAAAAYGM1xQAAAAFCF63FAAAAAIOIKckAAAAAwRSJyQAAAALhsNXJAAAAAqPhCckAAAAAABk5yQAAAAFiKUHJAAAAAwO9RckAAAAAgDU9yQAAAAAguRHJAAAAAaJAockAAAAD4MxZyQAAAAPjdB3JAAAAAwBzxcUAAAACQPeJxQAAAANg23nFAAAAAuF3XcUAAAACI99FxQAAAAGBwzHFAAAAAKDDKcUA=",
                    "dtype": "f8"
                  },
                  "yaxis": "y"
                },
                {
                  "hovertemplate": "%{y:.2f}<extra>P<sub>90%</sub></extra>",
                  "marker": {
                    "color": "#ea5545",
                    "size": 0.00001
                  },
                  "mode": "markers",
                  "type": "scatter",
                  "x": [
                    "2025-09-16T18:00:00",
                    "2025-09-16T19:00:00",
                    "2025-09-16T20:00:00",
                    "2025-09-16T21:00:00",
                    "2025-09-16T22:00:00",
                    "2025-09-16T23:00:00",
                    "2025-09-17T00:00:00",
                    "2025-09-17T01:00:00",
                    "2025-09-17T02:00:00",
                    "2025-09-17T03:00:00",
                    "2025-09-17T04:00:00",
                    "2025-09-17T05:00:00",
                    "2025-09-17T06:00:00",
                    "2025-09-17T07:00:00",
                    "2025-09-17T08:00:00",
                    "2025-09-17T09:00:00",
                    "2025-09-17T10:00:00",
                    "2025-09-17T11:00:00",
                    "2025-09-17T12:00:00",
                    "2025-09-17T13:00:00",
                    "2025-09-17T14:00:00",
                    "2025-09-17T15:00:00",
                    "2025-09-17T16:00:00",
                    "2025-09-17T17:00:00",
                    "2025-09-17T18:00:00",
                    "2025-09-17T19:00:00",
                    "2025-09-17T20:00:00",
                    "2025-09-17T21:00:00",
                    "2025-09-17T22:00:00",
                    "2025-09-17T23:00:00",
                    "2025-09-18T00:00:00",
                    "2025-09-18T01:00:00",
                    "2025-09-18T02:00:00",
                    "2025-09-18T03:00:00"
                  ],
                  "xaxis": "x",
                  "y": {
                    "bdata": "zczM/CwDckAAAADQQ/pxQJqZmfnw7XFAZmZmhnXocUCamZkpDuFxQGZmZhY92HFAMzMzM/3RcUAAAADgscxxQM3MzNzwy3FAMzMz47fDcUAAAAAgYLpxQM3MzFx+uXFAZmZm9hC3cUAzMzPThNFxQJqZmfnU7nFAmpmZeTAMckAzMzNzgCVyQJqZmak6NnJAMzMzE0hDckAzMzPTWVByQM3MzIwlWXJAzczMbNVYckCamZm5klRyQGZmZsYCR3JAZmZmJrEqckBmZmamoRhyQAAAAEA6CXJAmpmZaeP5cUBmZmaWN+hxQDMzM3NQ4HFAzczMPPffcUAAAACAPNdxQAAAAPDNznFAAAAAsGnZcUA=",
                    "dtype": "f8"
                  },
                  "yaxis": "y"
                },
                {
                  "hovertemplate": "%{y:.2f}<extra>P<sub>100%</sub></extra>",
                  "marker": {
                    "color": "#ea5545",
                    "size": 0.00001
                  },
                  "mode": "markers",
                  "type": "scatter",
                  "x": [
                    "2025-09-16T18:00:00",
                    "2025-09-16T19:00:00",
                    "2025-09-16T20:00:00",
                    "2025-09-16T21:00:00",
                    "2025-09-16T22:00:00",
                    "2025-09-16T23:00:00",
                    "2025-09-17T00:00:00",
                    "2025-09-17T01:00:00",
                    "2025-09-17T02:00:00",
                    "2025-09-17T03:00:00",
                    "2025-09-17T04:00:00",
                    "2025-09-17T05:00:00",
                    "2025-09-17T06:00:00",
                    "2025-09-17T07:00:00",
                    "2025-09-17T08:00:00",
                    "2025-09-17T09:00:00",
                    "2025-09-17T10:00:00",
                    "2025-09-17T11:00:00",
                    "2025-09-17T12:00:00",
                    "2025-09-17T13:00:00",
                    "2025-09-17T14:00:00",
                    "2025-09-17T15:00:00",
                    "2025-09-17T16:00:00",
                    "2025-09-17T17:00:00",
                    "2025-09-17T18:00:00",
                    "2025-09-17T19:00:00",
                    "2025-09-17T20:00:00",
                    "2025-09-17T21:00:00",
                    "2025-09-17T22:00:00",
                    "2025-09-17T23:00:00",
                    "2025-09-18T00:00:00",
                    "2025-09-18T01:00:00",
                    "2025-09-18T02:00:00",
                    "2025-09-18T03:00:00"
                  ],
                  "xaxis": "x",
                  "y": {
                    "bdata": "AAAAoLoDckAAAACgNfxxQAAAAGC08HFAAAAAwOrocUAAAABA1+JxQAAAAAD92nFAAAAAAKrScUAAAACgy9dxQAAAACAM2HFAAAAAwCHNcUAAAADgscBxQAAAAOBgu3FAAAAAgHq+cUAAAABA2dJxQAAAAAAj93FAAAAAwMgUckAAAABgdyhyQAAAAGAEN3JAAAAAIINFckAAAACAkVJyQAAAAMDlWnJAAAAA4GxeckAAAABAqFdyQAAAACDvSXJAAAAAwNgqckAAAADAch9yQAAAAGBnEHJAAAAA4DX6cUAAAACgWO5xQAAAACD44XFAAAAAIPrlcUAAAADAMtpxQAAAAMBr03FAAAAAoCjfcUA=",
                    "dtype": "f8"
                  },
                  "yaxis": "y"
                },
                {
                  "legendgroup": "CH1",
                  "line": {
                    "color": "grey"
                  },
                  "name": "ICON-CH1-EPS (mean)",
                  "showlegend": true,
                  "type": "scatter",
                  "x": [
                    "2025-09-16T18:00:00",
                    "2025-09-16T19:00:00",
                    "2025-09-16T20:00:00",
                    "2025-09-16T21:00:00",
                    "2025-09-16T22:00:00",
                    "2025-09-16T23:00:00",
                    "2025-09-17T00:00:00",
                    "2025-09-17T01:00:00",
                    "2025-09-17T02:00:00",
                    "2025-09-17T03:00:00",
                    "2025-09-17T04:00:00",
                    "2025-09-17T05:00:00",
                    "2025-09-17T06:00:00",
                    "2025-09-17T07:00:00",
                    "2025-09-17T08:00:00",
                    "2025-09-17T09:00:00",
                    "2025-09-17T10:00:00",
                    "2025-09-17T11:00:00",
                    "2025-09-17T12:00:00",
                    "2025-09-17T13:00:00",
                    "2025-09-17T14:00:00",
                    "2025-09-17T15:00:00",
                    "2025-09-17T16:00:00",
                    "2025-09-17T17:00:00",
                    "2025-09-17T18:00:00",
                    "2025-09-17T19:00:00",
                    "2025-09-17T20:00:00",
                    "2025-09-17T21:00:00",
                    "2025-09-17T22:00:00",
                    "2025-09-17T23:00:00",
                    "2025-09-18T00:00:00",
                    "2025-09-18T01:00:00",
                    "2025-09-18T02:00:00",
                    "2025-09-18T03:00:00"
                  ],
                  "y": {
                    "bdata": "mpmZKRD+cUAAAACAUPFxQGZmZgZR5XFAMzMzE0fecUDNzMxMatRxQDMzM9Nyy3FAZmZmVp7AcUAzMzPj7L1xQJqZmXnVunFAAAAAQEuzcUCamZnpxq5xQGZmZlbxqnFAMzMzA7KtcUAAAADwFcZxQGZmZpYu6HFAZmZmRmAHckBmZmYWKCByQAAAAHDNMHJAZmZmFoM8ckAzMzOTWUZyQJqZmfn8SXJAZmZmxnZLckAzMzMDhkdyQM3MzGzgPHJAMzMzM6ckckBmZmYmPBJyQM3MzAxJ/3FAAAAAcMbocUAzMzPTHN1xQM3MzIzK1nFAzczMvBzUcUAAAABQC85xQM3MzLxIxnFAzczMfLTEcUA=",
                    "dtype": "f8"
                  }
                },
                {
                  "fillcolor": "#B1B6FC",
                  "hoverinfo": "skip",
                  "legendgroup": "CH2",
                  "line": {
                    "color": "#ef9b20"
                  },
                  "lowerfence": {
                    "bdata": "AAAAoBvtcUAAAABgON1xQAAAAIANz3FAAAAAQKHFcUAAAAAgL8BxQAAAAGBCsXFAAAAAoJeocUAAAADgg6dxQAAAAICfo3FAAAAAgNaacUAAAAAAB5JxQAAAAKDwjnFAAAAAAKCScUAAAABgPaxxQAAAAAA53XFAAAAAwCcDckAAAAAgyhlyQAAAAGB0KXJAAAAAgBg3ckAAAAAA+z5yQAAAACDLQ3JAAAAAoKhDckAAAAAgRT9yQAAAAOD6MHJAAAAA4EkVckAAAADA2flxQAAAAOC47XFAAAAAIOfccUAAAACgn9VxQAAAAAD0znFAAAAAgHPIcUAAAABAb8ZxQAAAAACquHFAAAAAgF2ycUAAAAAAS6BxQAAAAAA6mHFAAAAAgFCScUAAAAAgL6lxQAAAAMBvynFAAAAAwOwKckAAAACgpDtyQAAAAGBqXXJAAAAAgEx1ckAAAACA2IVyQAAAAADOjXJAAAAAwBeMckAAAABg0nlyQAAAAODGYHJAAAAAIPxBckAAAADg2hJyQAAAAIDJ+3FAAAAAAAbrcUAAAAAAWtVxQAAAAICi1HFAAAAAQLzJcUAAAAAgv8RxQAAAAOAotnFAAAAAAGGncUAAAACg1aJxQAAAAIBfnXFAAAAAgNuUcUAAAABgWrFxQAAAAMAM3nFAAAAAYGEWckAAAABASkxyQAAAAMBmb3JAAAAAoGuHckAAAAAggpVyQAAAAODNoHJAAAAAQPqickAAAAAg85hyQAAAAODRdXJAAAAAQFBSckAAAACANTJyQAAAAACJHnJAAAAAwPkQckAAAACAtQNyQAAAAIAl9nFAAAAAgGjrcUAAAACgJ+VxQAAAAADk1XFAAAAA4G3ScUAAAADgTtJxQAAAAOBTynFAAAAAANrKcUAAAAAg4NlxQAAAAGBX53FAAAAAQOgWckAAAADgMEhyQAAAAOC4dHJAAAAAwEqYckAAAADg8adyQAAAAIAWsXJAAAAAIBawckAAAABg8qtyQAAAAEDRgnJAAAAAwAhQckAAAAAgaklyQAAAAIBHNnJAAAAAAOwickAAAABAbxRyQAAAAIDVB3JAAAAAACrtcUAAAABgTt1xQAAAAEBY4nFAAAAAwKjccUAAAAAAuc1xQAAAAIDHznFAAAAAgCXOcUAAAABg9dZxQAAAAICm+3FAAAAAQLD7cUAAAABAjvpxQAAAAOBq8HFAAAAAwFXncUAAAAAAg9NxQAAAAOBmxXFAAAAAoAvGcUAAAADAYcJxQAAAAMCGwXFAAAAAYFK5cUA=",
                    "dtype": "f8"
                  },
                  "median": {
                    "bdata": "AAAA0B34cUAAAACwQOlxQAAAACAi33FAAAAA4GLZcUAAAABwC9NxQAAAANDPzHFAAAAAoLW5cUAAAAAg/bFxQAAAAKDLrXFAAAAA4AqpcUAAAADgd6NxQAAAAIAJoHFAAAAAMBKjcUAAAADAt75xQAAAAJCo53FAAAAAEPoKckAAAADg+CByQAAAAACuMXJAAAAAQLM9ckAAAABAwEZyQAAAAMCUSnJAAAAAsC1JckAAAACAq0RyQAAAAKBoNnJAAAAAkBgeckAAAAAAqApyQAAAAACK+HFAAAAA4DzlcUAAAADgqtxxQAAAAODZ1XFAAAAAgHvRcUAAAABwPMxxQAAAAIBkwXFAAAAAwMy4cUAAAADQCbFxQAAAAJD/pXFAAAAA8IKecUAAAABA67lxQAAAAJAD8HFAAAAAsIEjckAAAACgNkpyQAAAANCSa3JAAAAAUKOAckAAAACwnI9yQAAAANCXlXJAAAAAkACVckAAAABAKIdyQAAAAFCxaHJAAAAA4HVHckAAAADQ5SByQAAAAMCuD3JAAAAAsNT/cUAAAACgxu5xQAAAAPBp4XFAAAAA8D/ScUAAAACw7cdxQAAAAICtunFAAAAAkD6wcUAAAACQsaxxQAAAACBzpnFAAAAAwGukcUAAAACQncJxQAAAAOCZ9XFAAAAAcMwockAAAAAgalZyQAAAAPDddXJAAAAAUFaNckAAAABwWZ5yQAAAAMAHp3JAAAAAkPKnckAAAABw2qNyQAAAAPC4jHJAAAAAUCZkckAAAACwTDxyQAAAAHAFJXJAAAAAkBIWckAAAADQTA5yQAAAANAtA3JAAAAAgH37cUAAAABwEO5xQAAAAPAo6HFAAAAAgDjhcUAAAACggN1xQAAAABBP3nFAAAAAEGLgcUAAAACQKOhxQAAAAMAM/HFAAAAAIDQhckAAAADAjF9yQAAAABDRjHJAAAAA0LqnckAAAABwo7hyQAAAAEBEw3JAAAAAcP/EckAAAAAwO7pyQAAAAIC8nnJAAAAAILd0ckAAAABwhVByQAAAAMD8QXJAAAAA0MQyckAAAADgRylyQAAAAJCiH3JAAAAAwIAVckAAAABw5glyQAAAACAWBXJAAAAAwBcAckAAAAAAJ/txQAAAAMDu8XFAAAAAMLPncUAAAAAwlPdxQAAAAAAOI3JAAAAAoO9VckAAAABQDYRyQAAAADBhmHJAAAAAkOWqckAAAACgP7RyQAAAAPCQuHJAAAAA4HO2ckAAAADgVKxyQAAAANBqkXJAAAAAcNhfckA=",
                    "dtype": "f8"
                  },
                  "q1": {
                    "bdata": "MzMzg1T0cUCamZk56+JxQDMzM/Pu1XFAZmZm5v7LcUAAAABQd8dxQAAAAHAztnFAMzMzs6yscUAAAACQHalxQGZmZiZpqHFAMzMzwyqgcUCamZm5jphxQJqZmSmoknFAZmZmJiiVcUAzMzNDArRxQAAAANBC4HFAAAAAQCMFckDNzMy8+RtyQAAAALBCLHJAAAAAIPE5ckCamZkZnUNyQDMzMyOoR3JAZmZmZvxFckCamZnZBEFyQAAAAKCfMnJAZmZmprIYckAzMzPzxv5xQJqZmRmk8HFAAAAAkLDfcUBmZmb2AthxQGZmZuYJz3FAAAAAsO7KcUAAAADwBMhxQJqZmYkXvXFAZmZmJvmzcUAzMzNzqaZxQAAAALD9m3FAAAAA8AmUcUAAAABwJa1xQAAAAACH5XFAMzMzY3ccckDNzMxMo0NyQGZmZuY4YHJAMzMzQ4Z3ckAzMzOjB4lyQM3MzNwNkHJAAAAAkFOOckAAAABgUHxyQJqZmQmnYXJAMzMzwytDckBmZmZ2xhhyQM3MzEzJBHJAzczMLMD3cUBmZmbmouVxQM3MzJyu2nFAAAAAwI/OcUBmZmamJsVxQGZmZpYXt3FAZmZmtgKpcUCamZlJhKZxQDMzM7PHn3FAzczM/P6acUAzMzOjSbpxQM3MzCwy53FAmpmZCV4cckCamZmpZk1yQDMzMyOfcHJAMzMz87eIckCamZnJk5hyQJqZmdnFoXJAmpmZeTukckDNzMz8BJxyQJqZmXmMgHJAAAAAkHtXckDNzMy8TjRyQGZmZgYhIHJAZmZmhmoTckAzMzODwQlyQDMzMzNm/XFAMzMz0/bvcUCamZlZvudxQGZmZrYr4nFAzczMDDHXcUCamZkpxNJxQDMzM9OU1nFAmpmZSR7WcUAAAACAl9txQGZmZlZp8XFAMzMzgw0ZckBmZmbm3E9yQM3MzKytgXJAZmZmtqWeckAAAADwL7FyQGZmZpZiunJAMzMzs+29ckCamZmpurFyQAAAADCiknJAZmZmphlhckAAAAAgNktyQM3MzJzCN3JAzczMzLAockAzMzMjIB5yQAAAAIA6FXJAZmZm1tQJckCamZnplv9xQAAAAPDT6XFAMzMzE8HocUDNzMycH+dxQGZmZvav1HFAAAAAYALZcUAAAABwZ+VxQAAAAPDoBXJAmpmZeRQwckAAAAAQnhtyQJqZmQl7HnJAzczMPH4OckAzMzOD/AVyQM3MzOxRBXJAMzMzs6IBckCamZm52/pxQM3MzExj33FAZmZmVifXcUA=",
                    "dtype": "f8"
                  },
                  "q3": {
                    "bdata": "mpmZOYb+cUCamZmZrvBxQAAAAFB153FAzczMjCDhcUAAAAAwjNpxQAAAACDt2XFAAAAAgEvNcUBmZma2IsZxQJqZmYk6vXFAzczMfJC4cUDNzMwcyq9xQDMzM8M5q3FAmpmZyTytcUBmZmZGeMdxQJqZmVkE8nFAAAAA0I4SckCamZkphiZyQM3MzPwpNXJAmpmZCXdAckAAAABwaUlyQAAAACAZTnJAAAAAsAJOckAzMzNTRklyQDMzMwM4PnJAmpmZ2aArckAzMzMjBBJyQM3MzOxMAXJAzczMjGzrcUDNzMysO+JxQGZmZqbP2nFAmpmZqbbWcUCamZl5+89xQJqZmelfyHFAZmZmNqS+cUDNzMysyLZxQGZmZtazrnFAmpmZ+USqcUBmZmZGiMpxQM3MzHzu+HFAmpmZ+YYockCamZlJ31ByQGZmZqaDcnJAZmZm9tSFckAAAAAwIZVyQDMzM2O9mnJAAAAAsDCYckDNzMxMloxyQGZmZvb9dHJAAAAAIFdUckAAAADgdCxyQDMzM5NaGHJAMzMzE9QKckAAAADQnPlxQM3MzNwl63FAAAAAEAffcUAzMzPjy9JxQDMzMzMMw3FAAAAA8FC2cUBmZma2y7NxQGZmZjYerXFAZmZmls6qcUDNzMz8ssVxQM3MzJwX+XFAZmZm9ugtckCamZlZe11yQDMzM4N3fHJAmpmZufCSckDNzMw8yKRyQJqZmblwrnJAzczMvOOyckCamZmZ0apyQGZmZrZplHJAzczMPA5sckAzMzOjtklyQM3MzAzzLXJAAAAA8P0dckCamZnpwRVyQAAAAECLDHJAMzMzc/cBckAAAABwUf5xQGZmZgZN73FAzczM/K/qcUDNzMw8puZxQGZmZpbu5nFAzczMDK3mcUDNzMzc4+5xQM3MzDy8A3JAZmZm5mw7ckBmZmbGHXVyQGZmZrZBl3JAZmZmNm6xckBmZmYWvL5yQDMzMwOBx3JAMzMzg3rIckAAAADwKcJyQGZmZiZKqHJAzczM/MWDckDNzMwsimZyQAAAAADITHJAmpmZOV1GckDNzMzME0NyQJqZmUmIMXJAmpmZCc8pckDNzMxs7yVyQM3MzAxQInJAMzMzY3sdckCamZlpnhhyQAAAAPD6FXJAZmZmpmwTckDNzMz8Gh5yQDMzM7MYRXJAmpmZCVpsckCamZkpmo1yQGZmZibjpXJAMzMzU5G2ckDNzMysKMByQM3MzGzmx3JAmpmZ2azHckCamZmp8LxyQM3MzPzgo3JAzczM7BV0ckA=",
                    "dtype": "f8"
                  },
                  "showlegend": false,
                  "type": "box",
                  "upperfence": {
                    "bdata": "AAAAgLD/cUAAAADgfvRxQAAAAODK63FAAAAAAFXjcUAAAAAAc99xQAAAACA+33FAAAAAIOnScUAAAACAMclxQAAAAKB0x3FAAAAAQLDFcUAAAAAAZL9xQAAAACBPuHFAAAAAQGO2cUAAAACgK9FxQAAAAIAS9nFAAAAAwCkVckAAAACAGydyQAAAAGDJNnJAAAAAgMVDckAAAABAkkxyQAAAAGBtUHJAAAAAADRPckAAAAAgYEtyQAAAAKBfP3JAAAAAIOc0ckAAAAAAQityQAAAAAC3H3JAAAAAoLIMckAAAACgK/txQAAAAKC97HFAAAAAANbhcUAAAAAgH9ZxQAAAAOBJy3FAAAAAYPXCcUAAAAAAIr1xQAAAAMDdsnFAAAAAIKm0cUAAAACAJNBxQAAAAKCG/nFAAAAAwI4pckAAAABggVJyQAAAAACQc3JAAAAAIF2GckAAAAAA+5VyQAAAAGABm3JAAAAAQPWYckAAAAAA3ZByQAAAAKBBfnJAAAAAgOlXckAAAACgmzVyQAAAAOAUHnJAAAAAoHEOckAAAADAW/xxQAAAAKDe8XFAAAAAIMvhcUAAAABARNZxQAAAAECwx3FAAAAAgIbAcUAAAAAAV7hxQAAAAGCzsXFAAAAA4NOxcUAAAACAO8dxQAAAAIDz+XFAAAAAAJ4vckAAAABgGGJyQAAAAOCOfnJAAAAAAG2UckAAAABgialyQAAAAMBKtnJAAAAAgMK5ckAAAACgwLJyQAAAAMBTlnJAAAAAoBxyckAAAAAA80tyQAAAAOD9MXJAAAAAwPAkckAAAACAuiJyQAAAAIAjEXJAAAAAAFwNckAAAADgbQVyQAAAAOCW+XFAAAAAgK7scUAAAADga+hxQAAAAMAs6nFAAAAAoHrqcUAAAAAATPRxQAAAAGB1GnJAAAAAwFdNckAAAADAZ39yQAAAACD3nXJAAAAAIGu0ckAAAADgXcNyQAAAAACkyHJAAAAAoGvMckAAAAAgW8RyQAAAAEDZr3JAAAAAwAqGckAAAABAvXByQAAAAODvXHJAAAAAINpcckAAAACAQUxyQAAAAIBqRHJAAAAA4KhDckAAAACA0EJyQAAAAKCiRXJAAAAAIElBckAAAABgZzJyQAAAACA3KHJAAAAAoDgmckAAAACgTStyQAAAAOD7VHJAAAAAwFB5ckAAAADAapFyQAAAAICFqHJAAAAAwJO7ckAAAAAABshyQAAAACBtznJAAAAAoL7OckAAAAAALMhyQAAAAAB7r3JAAAAAYEyOckA=",
                    "dtype": "f8"
                  },
                  "width": 1080000,
                  "x": [
                    "2025-09-16T18:00:00",
                    "2025-09-16T19:00:00",
                    "2025-09-16T20:00:00",
                    "2025-09-16T21:00:00",
                    "2025-09-16T22:00:00",
                    "2025-09-16T23:00:00",
                    "2025-09-17T00:00:00",
                    "2025-09-17T01:00:00",
                    "2025-09-17T02:00:00",
                    "2025-09-17T03:00:00",
                    "2025-09-17T04:00:00",
                    "2025-09-17T05:00:00",
                    "2025-09-17T06:00:00",
                    "2025-09-17T07:00:00",
                    "2025-09-17T08:00:00",
                    "2025-09-17T09:00:00",
                    "2025-09-17T10:00:00",
                    "2025-09-17T11:00:00",
                    "2025-09-17T12:00:00",
                    "2025-09-17T13:00:00",
                    "2025-09-17T14:00:00",
                    "2025-09-17T15:00:00",
                    "2025-09-17T16:00:00",
                    "2025-09-17T17:00:00",
                    "2025-09-17T18:00:00",
                    "2025-09-17T19:00:00",
                    "2025-09-17T20:00:00",
                    "2025-09-17T21:00:00",
                    "2025-09-17T22:00:00",
                    "2025-09-17T23:00:00",
                    "2025-09-18T00:00:00",
                    "2025-09-18T01:00:00",
                    "2025-09-18T02:00:00",
                    "2025-09-18T03:00:00",
                    "2025-09-18T04:00:00",
                    "2025-09-18T05:00:00",
                    "2025-09-18T06:00:00",
                    "2025-09-18T07:00:00",
                    "2025-09-18T08:00:00",
                    "2025-09-18T09:00:00",
                    "2025-09-18T10:00:00",
                    "2025-09-18T11:00:00",
                    "2025-09-18T12:00:00",
                    "2025-09-18T13:00:00",
                    "2025-09-18T14:00:00",
                    "2025-09-18T15:00:00",
                    "2025-09-18T16:00:00",
                    "2025-09-18T17:00:00",
                    "2025-09-18T18:00:00",
                    "2025-09-18T19:00:00",
                    "2025-09-18T20:00:00",
                    "2025-09-18T21:00:00",
                    "2025-09-18T22:00:00",
                    "2025-09-18T23:00:00",
                    "2025-09-19T00:00:00",
                    "2025-09-19T01:00:00",
                    "2025-09-19T02:00:00",
                    "2025-09-19T03:00:00",
                    "2025-09-19T04:00:00",
                    "2025-09-19T05:00:00",
                    "2025-09-19T06:00:00",
                    "2025-09-19T07:00:00",
                    "2025-09-19T08:00:00",
                    "2025-09-19T09:00:00",
                    "2025-09-19T10:00:00",
                    "2025-09-19T11:00:00",
                    "2025-09-19T12:00:00",
                    "2025-09-19T13:00:00",
                    "2025-09-19T14:00:00",
                    "2025-09-19T15:00:00",
                    "2025-09-19T16:00:00",
                    "2025-09-19T17:00:00",
                    "2025-09-19T18:00:00",
                    "2025-09-19T19:00:00",
                    "2025-09-19T20:00:00",
                    "2025-09-19T21:00:00",
                    "2025-09-19T22:00:00",
                    "2025-09-19T23:00:00",
                    "2025-09-20T00:00:00",
                    "2025-09-20T01:00:00",
                    "2025-09-20T02:00:00",
                    "2025-09-20T03:00:00",
                    "2025-09-20T04:00:00",
                    "2025-09-20T05:00:00",
                    "2025-09-20T06:00:00",
                    "2025-09-20T07:00:00",
                    "2025-09-20T08:00:00",
                    "2025-09-20T09:00:00",
                    "2025-09-20T10:00:00",
                    "2025-09-20T11:00:00",
                    "2025-09-20T12:00:00",
                    "2025-09-20T13:00:00",
                    "2025-09-20T14:00:00",
                    "2025-09-20T15:00:00",
                    "2025-09-20T16:00:00",
                    "2025-09-20T17:00:00",
                    "2025-09-20T18:00:00",
                    "2025-09-20T19:00:00",
                    "2025-09-20T20:00:00",
                    "2025-09-20T21:00:00",
                    "2025-09-20T22:00:00",
                    "2025-09-20T23:00:00",
                    "2025-09-21T00:00:00",
                    "2025-09-21T01:00:00",
                    "2025-09-21T02:00:00",
                    "2025-09-21T03:00:00",
                    "2025-09-21T04:00:00",
                    "2025-09-21T05:00:00",
                    "2025-09-21T06:00:00",
                    "2025-09-21T07:00:00",
                    "2025-09-21T08:00:00",
                    "2025-09-21T09:00:00",
                    "2025-09-21T10:00:00",
                    "2025-09-21T11:00:00",
                    "2025-09-21T12:00:00",
                    "2025-09-21T13:00:00",
                    "2025-09-21T14:00:00",
                    "2025-09-21T15:00:00",
                    "2025-09-21T16:00:00",
                    "2025-09-21T17:00:00",
                    "2025-09-21T18:00:00"
                  ],
                  "xaxis": "x",
                  "yaxis": "y"
                },
                {
                  "fillcolor": "#B1B6FC",
                  "hoverinfo": "skip",
                  "legendgroup": "CH2",
                  "line": {
                    "color": "#ef9b20"
                  },
                  "lowerfence": {
                    "bdata": "AAAAoBvtcUAAAABgON1xQAAAAIANz3FAAAAAQKHFcUAAAAAgL8BxQAAAAGBCsXFAAAAAoJeocUAAAADgg6dxQAAAAICfo3FAAAAAgNaacUAAAAAAB5JxQAAAAKDwjnFAAAAAAKCScUAAAABgPaxxQAAAAAA53XFAAAAAwCcDckAAAAAgyhlyQAAAAGB0KXJAAAAAgBg3ckAAAAAA+z5yQAAAACDLQ3JAAAAAoKhDckAAAAAgRT9yQAAAAOD6MHJAAAAA4EkVckAAAADA2flxQAAAAOC47XFAAAAAIOfccUAAAACgn9VxQAAAAAD0znFAAAAAgHPIcUAAAABAb8ZxQAAAAACquHFAAAAAgF2ycUAAAAAAS6BxQAAAAAA6mHFAAAAAgFCScUAAAAAgL6lxQAAAAMBvynFAAAAAwOwKckAAAACgpDtyQAAAAGBqXXJAAAAAgEx1ckAAAACA2IVyQAAAAADOjXJAAAAAwBeMckAAAABg0nlyQAAAAODGYHJAAAAAIPxBckAAAADg2hJyQAAAAIDJ+3FAAAAAAAbrcUAAAAAAWtVxQAAAAICi1HFAAAAAQLzJcUAAAAAgv8RxQAAAAOAotnFAAAAAAGGncUAAAACg1aJxQAAAAIBfnXFAAAAAgNuUcUAAAABgWrFxQAAAAMAM3nFAAAAAYGEWckAAAABASkxyQAAAAMBmb3JAAAAAoGuHckAAAAAggpVyQAAAAODNoHJAAAAAQPqickAAAAAg85hyQAAAAODRdXJAAAAAQFBSckAAAACANTJyQAAAAACJHnJAAAAAwPkQckAAAACAtQNyQAAAAIAl9nFAAAAAgGjrcUAAAACgJ+VxQAAAAADk1XFAAAAA4G3ScUAAAADgTtJxQAAAAOBTynFAAAAAANrKcUAAAAAg4NlxQAAAAGBX53FAAAAAQOgWckAAAADgMEhyQAAAAOC4dHJAAAAAwEqYckAAAADg8adyQAAAAIAWsXJAAAAAIBawckAAAABg8qtyQAAAAEDRgnJAAAAAwAhQckAAAAAgaklyQAAAAIBHNnJAAAAAAOwickAAAABAbxRyQAAAAIDVB3JAAAAAACrtcUAAAABgTt1xQAAAAEBY4nFAAAAAwKjccUAAAAAAuc1xQAAAAIDHznFAAAAAgCXOcUAAAABg9dZxQAAAAICm+3FAAAAAQLD7cUAAAABAjvpxQAAAAOBq8HFAAAAAwFXncUAAAAAAg9NxQAAAAOBmxXFAAAAAoAvGcUAAAADAYcJxQAAAAMCGwXFAAAAAYFK5cUA=",
                    "dtype": "f8"
                  },
                  "median": {
                    "bdata": "AAAA0B34cUAAAACwQOlxQAAAACAi33FAAAAA4GLZcUAAAABwC9NxQAAAANDPzHFAAAAAoLW5cUAAAAAg/bFxQAAAAKDLrXFAAAAA4AqpcUAAAADgd6NxQAAAAIAJoHFAAAAAMBKjcUAAAADAt75xQAAAAJCo53FAAAAAEPoKckAAAADg+CByQAAAAACuMXJAAAAAQLM9ckAAAABAwEZyQAAAAMCUSnJAAAAAsC1JckAAAACAq0RyQAAAAKBoNnJAAAAAkBgeckAAAAAAqApyQAAAAACK+HFAAAAA4DzlcUAAAADgqtxxQAAAAODZ1XFAAAAAgHvRcUAAAABwPMxxQAAAAIBkwXFAAAAAwMy4cUAAAADQCbFxQAAAAJD/pXFAAAAA8IKecUAAAABA67lxQAAAAJAD8HFAAAAAsIEjckAAAACgNkpyQAAAANCSa3JAAAAAUKOAckAAAACwnI9yQAAAANCXlXJAAAAAkACVckAAAABAKIdyQAAAAFCxaHJAAAAA4HVHckAAAADQ5SByQAAAAMCuD3JAAAAAsNT/cUAAAACgxu5xQAAAAPBp4XFAAAAA8D/ScUAAAACw7cdxQAAAAICtunFAAAAAkD6wcUAAAACQsaxxQAAAACBzpnFAAAAAwGukcUAAAACQncJxQAAAAOCZ9XFAAAAAcMwockAAAAAgalZyQAAAAPDddXJAAAAAUFaNckAAAABwWZ5yQAAAAMAHp3JAAAAAkPKnckAAAABw2qNyQAAAAPC4jHJAAAAAUCZkckAAAACwTDxyQAAAAHAFJXJAAAAAkBIWckAAAADQTA5yQAAAANAtA3JAAAAAgH37cUAAAABwEO5xQAAAAPAo6HFAAAAAgDjhcUAAAACggN1xQAAAABBP3nFAAAAAEGLgcUAAAACQKOhxQAAAAMAM/HFAAAAAIDQhckAAAADAjF9yQAAAABDRjHJAAAAA0LqnckAAAABwo7hyQAAAAEBEw3JAAAAAcP/EckAAAAAwO7pyQAAAAIC8nnJAAAAAILd0ckAAAABwhVByQAAAAMD8QXJAAAAA0MQyckAAAADgRylyQAAAAJCiH3JAAAAAwIAVckAAAABw5glyQAAAACAWBXJAAAAAwBcAckAAAAAAJ/txQAAAAMDu8XFAAAAAMLPncUAAAAAwlPdxQAAAAAAOI3JAAAAAoO9VckAAAABQDYRyQAAAADBhmHJAAAAAkOWqckAAAACgP7RyQAAAAPCQuHJAAAAA4HO2ckAAAADgVKxyQAAAANBqkXJAAAAAcNhfckA=",
                    "dtype": "f8"
                  },
                  "q1": {
                    "bdata": "AAAAYDv2cUAAAAAA7uZxQAAAAPjq2HFAAAAAGBrQcUAAAAC4Ls1xQAAAAPADwnFAAAAA8AavcUAAAABAd6xxQAAAAKDtqnFAAAAAgHekcUAAAAD4s59xQAAAACDMmnFAAAAACBCfcUAAAAAQ1LtxQAAAAKDR5XFAAAAAQEEIckAAAAAAwx1yQAAAAAB9LnJAAAAAuBE8ckAAAABIg0VyQAAAAFAbSXJAAAAAcCNHckAAAADok0NyQAAAABgWNXJAAAAAcAYbckAAAABAEwRyQAAAAHgI9HFAAAAAMF/jcUAAAABwdtpxQAAAABic1HFAAAAAELLNcUAAAABosslxQAAAAAjzvnFAAAAAYB+2cUAAAABIAKxxQAAAAJBQn3FAAAAAmLuacUAAAAAYDbdxQAAAANga7XFAAAAAcPsdckAAAADwjkVyQAAAAIjZY3JAAAAAELZ8ckAAAAAwlIxyQAAAAKj6knJAAAAAaLORckAAAACgi39yQAAAAEjmZHJAAAAA+PtDckAAAAAYMxxyQAAAAPjyCHJAAAAAUPn7cUAAAACg6OpxQAAAAFBT3XFAAAAAmLTPcUAAAADo6MVxQAAAABiOuHFAAAAAeLWscUAAAADY8qdxQAAAAIA3o3FAAAAA0EChcUAAAABY/75xQAAAAPAC8XFAAAAAMPYlckAAAAAIK1JyQAAAALjKcnJAAAAAUFGLckAAAABA7JpyQAAAANi5pXJAAAAAwH+mckAAAABYU51yQAAAAGAhg3JAAAAAMDlackAAAADQVDdyQAAAABhXIHJAAAAACH4UckAAAADoJAtyQAAAAKANAXJAAAAAWMv1cUAAAABwDOxxQAAAAIhx5HFAAAAAOLndcUAAAAAQN9lxQAAAAJjO2nFAAAAASPLbcUAAAAAAlONxQAAAAKCN9nFAAAAAYMsZckAAAAAwDFZyQAAAAMgDiXJAAAAA6EqjckAAAAAABLVyQAAAAKCYvnJAAAAA+HvAckAAAADg+rVyQAAAACgMm3JAAAAAMN5nckAAAABQrktyQAAAADApOXJAAAAAYKksckAAAABQrSJyQAAAADB1GnJAAAAA2CUOckAAAADgtwNyQAAAAEAS+3FAAAAAaBX0cUAAAAC4oOpxQAAAANiD4nFAAAAA0GfhcUAAAABwnO9xQAAAABC9D3JAAAAAYHA7ckAAAAAI9XJyQAAAADiAj3JAAAAAgIKZckAAAACgyqByQAAAAICCmnJAAAAAEIyKckAAAACQD21yQAAAADAxSHJAAAAAiEkockA=",
                    "dtype": "f8"
                  },
                  "q3": {
                    "bdata": "AAAAGN78cUAAAADwU+9xQAAAAADw5XFAAAAASKndcUAAAABg49ZxQAAAAGiD1HFAAAAAWIvGcUAAAACQZr1xQAAAALDtuHFAAAAAALmzcUAAAACYv6txQAAAAIBMpXFAAAAA6C2pcUAAAAAoVMNxQAAAAJgu6nFAAAAA2AsPckAAAAAYmSNyQAAAACDuM3JAAAAACKM/ckAAAAA4dkhyQAAAAJinTHJAAAAAsBNLckAAAABoO0dyQAAAABgPOnJAAAAAEEAkckAAAADgEg5yQAAAADjD/HFAAAAA+BnocUAAAACwdeBxQAAAAAiO2HFAAAAAwEbTcUAAAAD4EM9xQAAAANBrwnFAAAAA+F27cUAAAAD4t7RxQAAAAKBjqnFAAAAA+I2mcUAAAAAIvcBxQAAAABgs9nFAAAAAeC0mckAAAABAsE5yQAAAAMiocHJAAAAAWDmFckAAAAAIJJRyQAAAAPhvmXJAAAAAYIeWckAAAAAYnYpyQAAAAJhvanJAAAAAEOBKckAAAACwfCdyQAAAAFATFXJAAAAAoJcBckAAAABogvRxQAAAAAhz53FAAAAAYJDacUAAAADgCsxxQAAAAGg1vnFAAAAAYIKzcUAAAACwZrBxQAAAACCvq3FAAAAAcBipcUAAAAAwOMRxQAAAAGgU+HFAAAAASHYrckAAAAB4zllyQAAAAJCpeHJAAAAAKMaPckAAAADIwZ9yQAAAALD5qXJAAAAAQO6rckAAAABY6qZyQAAAAChrk3JAAAAAYKpqckAAAADgLUNyQAAAAGBuKHJAAAAAyBcbckAAAADA6xFyQAAAAJCvB3JAAAAAYGb/cUAAAADo5vdxQAAAAAgu7nFAAAAAOPHmcUAAAACoP+NxQAAAAKD34nFAAAAA+EvkcUAAAABIKO1xQAAAAKAcAHJAAAAAyMkuckAAAACgVmtyQAAAALACkHJAAAAAqM2qckAAAACo67tyQAAAABgWxXJAAAAAQNDGckAAAADQer1yQAAAAFjoonJAAAAAIBx+ckAAAADARlhyQAAAAKBgRnJAAAAAkPM6ckAAAACo1S5yQAAAAPiyJ3JAAAAASNgickAAAACoeBlyQAAAAOgzEHJAAAAAKNwOckAAAACY2whyQAAAANC+/nFAAAAAKOEBckAAAADYFhpyQAAAACjIMXJAAAAAGD9mckAAAADIzYlyQAAAAHAun3JAAAAA8GqwckAAAAD4jL1yQAAAALBswnJAAAAAoNzCckAAAABw3LpyQAAAAAiimXJAAAAAeBtrckA=",
                    "dtype": "f8"
                  },
                  "showlegend": false,
                  "showwhiskers": false,
                  "type": "box",
                  "upperfence": {
                    "bdata": "AAAAgLD/cUAAAADgfvRxQAAAAODK63FAAAAAAFXjcUAAAAAAc99xQAAAACA+33FAAAAAIOnScUAAAACAMclxQAAAAKB0x3FAAAAAQLDFcUAAAAAAZL9xQAAAACBPuHFAAAAAQGO2cUAAAACgK9FxQAAAAIAS9nFAAAAAwCkVckAAAACAGydyQAAAAGDJNnJAAAAAgMVDckAAAABAkkxyQAAAAGBtUHJAAAAAADRPckAAAAAgYEtyQAAAAKBfP3JAAAAAIOc0ckAAAAAAQityQAAAAAC3H3JAAAAAoLIMckAAAACgK/txQAAAAKC97HFAAAAAANbhcUAAAAAgH9ZxQAAAAOBJy3FAAAAAYPXCcUAAAAAAIr1xQAAAAMDdsnFAAAAAIKm0cUAAAACAJNBxQAAAAKCG/nFAAAAAwI4pckAAAABggVJyQAAAAACQc3JAAAAAIF2GckAAAAAA+5VyQAAAAGABm3JAAAAAQPWYckAAAAAA3ZByQAAAAKBBfnJAAAAAgOlXckAAAACgmzVyQAAAAOAUHnJAAAAAoHEOckAAAADAW/xxQAAAAKDe8XFAAAAAIMvhcUAAAABARNZxQAAAAECwx3FAAAAAgIbAcUAAAAAAV7hxQAAAAGCzsXFAAAAA4NOxcUAAAACAO8dxQAAAAIDz+XFAAAAAAJ4vckAAAABgGGJyQAAAAOCOfnJAAAAAAG2UckAAAABgialyQAAAAMBKtnJAAAAAgMK5ckAAAACgwLJyQAAAAMBTlnJAAAAAoBxyckAAAAAA80tyQAAAAOD9MXJAAAAAwPAkckAAAACAuiJyQAAAAIAjEXJAAAAAAFwNckAAAADgbQVyQAAAAOCW+XFAAAAAgK7scUAAAADga+hxQAAAAMAs6nFAAAAAoHrqcUAAAAAATPRxQAAAAGB1GnJAAAAAwFdNckAAAADAZ39yQAAAACD3nXJAAAAAIGu0ckAAAADgXcNyQAAAAACkyHJAAAAAoGvMckAAAAAgW8RyQAAAAEDZr3JAAAAAwAqGckAAAABAvXByQAAAAODvXHJAAAAAINpcckAAAACAQUxyQAAAAIBqRHJAAAAA4KhDckAAAACA0EJyQAAAAKCiRXJAAAAAIElBckAAAABgZzJyQAAAACA3KHJAAAAAoDgmckAAAACgTStyQAAAAOD7VHJAAAAAwFB5ckAAAADAapFyQAAAAICFqHJAAAAAwJO7ckAAAAAABshyQAAAACBtznJAAAAAoL7OckAAAAAALMhyQAAAAAB7r3JAAAAAYEyOckA=",
                    "dtype": "f8"
                  },
                  "width": 2160000,
                  "x": [
                    "2025-09-16T18:00:00",
                    "2025-09-16T19:00:00",
                    "2025-09-16T20:00:00",
                    "2025-09-16T21:00:00",
                    "2025-09-16T22:00:00",
                    "2025-09-16T23:00:00",
                    "2025-09-17T00:00:00",
                    "2025-09-17T01:00:00",
                    "2025-09-17T02:00:00",
                    "2025-09-17T03:00:00",
                    "2025-09-17T04:00:00",
                    "2025-09-17T05:00:00",
                    "2025-09-17T06:00:00",
                    "2025-09-17T07:00:00",
                    "2025-09-17T08:00:00",
                    "2025-09-17T09:00:00",
                    "2025-09-17T10:00:00",
                    "2025-09-17T11:00:00",
                    "2025-09-17T12:00:00",
                    "2025-09-17T13:00:00",
                    "2025-09-17T14:00:00",
                    "2025-09-17T15:00:00",
                    "2025-09-17T16:00:00",
                    "2025-09-17T17:00:00",
                    "2025-09-17T18:00:00",
                    "2025-09-17T19:00:00",
                    "2025-09-17T20:00:00",
                    "2025-09-17T21:00:00",
                    "2025-09-17T22:00:00",
                    "2025-09-17T23:00:00",
                    "2025-09-18T00:00:00",
                    "2025-09-18T01:00:00",
                    "2025-09-18T02:00:00",
                    "2025-09-18T03:00:00",
                    "2025-09-18T04:00:00",
                    "2025-09-18T05:00:00",
                    "2025-09-18T06:00:00",
                    "2025-09-18T07:00:00",
                    "2025-09-18T08:00:00",
                    "2025-09-18T09:00:00",
                    "2025-09-18T10:00:00",
                    "2025-09-18T11:00:00",
                    "2025-09-18T12:00:00",
                    "2025-09-18T13:00:00",
                    "2025-09-18T14:00:00",
                    "2025-09-18T15:00:00",
                    "2025-09-18T16:00:00",
                    "2025-09-18T17:00:00",
                    "2025-09-18T18:00:00",
                    "2025-09-18T19:00:00",
                    "2025-09-18T20:00:00",
                    "2025-09-18T21:00:00",
                    "2025-09-18T22:00:00",
                    "2025-09-18T23:00:00",
                    "2025-09-19T00:00:00",
                    "2025-09-19T01:00:00",
                    "2025-09-19T02:00:00",
                    "2025-09-19T03:00:00",
                    "2025-09-19T04:00:00",
                    "2025-09-19T05:00:00",
                    "2025-09-19T06:00:00",
                    "2025-09-19T07:00:00",
                    "2025-09-19T08:00:00",
                    "2025-09-19T09:00:00",
                    "2025-09-19T10:00:00",
                    "2025-09-19T11:00:00",
                    "2025-09-19T12:00:00",
                    "2025-09-19T13:00:00",
                    "2025-09-19T14:00:00",
                    "2025-09-19T15:00:00",
                    "2025-09-19T16:00:00",
                    "2025-09-19T17:00:00",
                    "2025-09-19T18:00:00",
                    "2025-09-19T19:00:00",
                    "2025-09-19T20:00:00",
                    "2025-09-19T21:00:00",
                    "2025-09-19T22:00:00",
                    "2025-09-19T23:00:00",
                    "2025-09-20T00:00:00",
                    "2025-09-20T01:00:00",
                    "2025-09-20T02:00:00",
                    "2025-09-20T03:00:00",
                    "2025-09-20T04:00:00",
                    "2025-09-20T05:00:00",
                    "2025-09-20T06:00:00",
                    "2025-09-20T07:00:00",
                    "2025-09-20T08:00:00",
                    "2025-09-20T09:00:00",
                    "2025-09-20T10:00:00",
                    "2025-09-20T11:00:00",
                    "2025-09-20T12:00:00",
                    "2025-09-20T13:00:00",
                    "2025-09-20T14:00:00",
                    "2025-09-20T15:00:00",
                    "2025-09-20T16:00:00",
                    "2025-09-20T17:00:00",
                    "2025-09-20T18:00:00",
                    "2025-09-20T19:00:00",
                    "2025-09-20T20:00:00",
                    "2025-09-20T21:00:00",
                    "2025-09-20T22:00:00",
                    "2025-09-20T23:00:00",
                    "2025-09-21T00:00:00",
                    "2025-09-21T01:00:00",
                    "2025-09-21T02:00:00",
                    "2025-09-21T03:00:00",
                    "2025-09-21T04:00:00",
                    "2025-09-21T05:00:00",
                    "2025-09-21T06:00:00",
                    "2025-09-21T07:00:00",
                    "2025-09-21T08:00:00",
                    "2025-09-21T09:00:00",
                    "2025-09-21T10:00:00",
                    "2025-09-21T11:00:00",
                    "2025-09-21T12:00:00",
                    "2025-09-21T13:00:00",
                    "2025-09-21T14:00:00",
                    "2025-09-21T15:00:00",
                    "2025-09-21T16:00:00",
                    "2025-09-21T17:00:00",
                    "2025-09-21T18:00:00"
                  ],
                  "xaxis": "x",
                  "yaxis": "y"
                },
                {
                  "hovertemplate": "%{y:.2f}<extra>P<sub>0%</sub></extra>",
                  "marker": {
                    "color": "#ef9b20",
                    "size": 0.00001
                  },
                  "mode": "markers",
                  "type": "scatter",
                  "x": [
                    "2025-09-16T18:00:00",
                    "2025-09-16T19:00:00",
                    "2025-09-16T20:00:00",
                    "2025-09-16T21:00:00",
                    "2025-09-16T22:00:00",
                    "2025-09-16T23:00:00",
                    "2025-09-17T00:00:00",
                    "2025-09-17T01:00:00",
                    "2025-09-17T02:00:00",
                    "2025-09-17T03:00:00",
                    "2025-09-17T04:00:00",
                    "2025-09-17T05:00:00",
                    "2025-09-17T06:00:00",
                    "2025-09-17T07:00:00",
                    "2025-09-17T08:00:00",
                    "2025-09-17T09:00:00",
                    "2025-09-17T10:00:00",
                    "2025-09-17T11:00:00",
                    "2025-09-17T12:00:00",
                    "2025-09-17T13:00:00",
                    "2025-09-17T14:00:00",
                    "2025-09-17T15:00:00",
                    "2025-09-17T16:00:00",
                    "2025-09-17T17:00:00",
                    "2025-09-17T18:00:00",
                    "2025-09-17T19:00:00",
                    "2025-09-17T20:00:00",
                    "2025-09-17T21:00:00",
                    "2025-09-17T22:00:00",
                    "2025-09-17T23:00:00",
                    "2025-09-18T00:00:00",
                    "2025-09-18T01:00:00",
                    "2025-09-18T02:00:00",
                    "2025-09-18T03:00:00",
                    "2025-09-18T04:00:00",
                    "2025-09-18T05:00:00",
                    "2025-09-18T06:00:00",
                    "2025-09-18T07:00:00",
                    "2025-09-18T08:00:00",
                    "2025-09-18T09:00:00",
                    "2025-09-18T10:00:00",
                    "2025-09-18T11:00:00",
                    "2025-09-18T12:00:00",
                    "2025-09-18T13:00:00",
                    "2025-09-18T14:00:00",
                    "2025-09-18T15:00:00",
                    "2025-09-18T16:00:00",
                    "2025-09-18T17:00:00",
                    "2025-09-18T18:00:00",
                    "2025-09-18T19:00:00",
                    "2025-09-18T20:00:00",
                    "2025-09-18T21:00:00",
                    "2025-09-18T22:00:00",
                    "2025-09-18T23:00:00",
                    "2025-09-19T00:00:00",
                    "2025-09-19T01:00:00",
                    "2025-09-19T02:00:00",
                    "2025-09-19T03:00:00",
                    "2025-09-19T04:00:00",
                    "2025-09-19T05:00:00",
                    "2025-09-19T06:00:00",
                    "2025-09-19T07:00:00",
                    "2025-09-19T08:00:00",
                    "2025-09-19T09:00:00",
                    "2025-09-19T10:00:00",
                    "2025-09-19T11:00:00",
                    "2025-09-19T12:00:00",
                    "2025-09-19T13:00:00",
                    "2025-09-19T14:00:00",
                    "2025-09-19T15:00:00",
                    "2025-09-19T16:00:00",
                    "2025-09-19T17:00:00",
                    "2025-09-19T18:00:00",
                    "2025-09-19T19:00:00",
                    "2025-09-19T20:00:00",
                    "2025-09-19T21:00:00",
                    "2025-09-19T22:00:00",
                    "2025-09-19T23:00:00",
                    "2025-09-20T00:00:00",
                    "2025-09-20T01:00:00",
                    "2025-09-20T02:00:00",
                    "2025-09-20T03:00:00",
                    "2025-09-20T04:00:00",
                    "2025-09-20T05:00:00",
                    "2025-09-20T06:00:00",
                    "2025-09-20T07:00:00",
                    "2025-09-20T08:00:00",
                    "2025-09-20T09:00:00",
                    "2025-09-20T10:00:00",
                    "2025-09-20T11:00:00",
                    "2025-09-20T12:00:00",
                    "2025-09-20T13:00:00",
                    "2025-09-20T14:00:00",
                    "2025-09-20T15:00:00",
                    "2025-09-20T16:00:00",
                    "2025-09-20T17:00:00",
                    "2025-09-20T18:00:00",
                    "2025-09-20T19:00:00",
                    "2025-09-20T20:00:00",
                    "2025-09-20T21:00:00",
                    "2025-09-20T22:00:00",
                    "2025-09-20T23:00:00",
                    "2025-09-21T00:00:00",
                    "2025-09-21T01:00:00",
                    "2025-09-21T02:00:00",
                    "2025-09-21T03:00:00",
                    "2025-09-21T04:00:00",
                    "2025-09-21T05:00:00",
                    "2025-09-21T06:00:00",
                    "2025-09-21T07:00:00",
                    "2025-09-21T08:00:00",
                    "2025-09-21T09:00:00",
                    "2025-09-21T10:00:00",
                    "2025-09-21T11:00:00",
                    "2025-09-21T12:00:00",
                    "2025-09-21T13:00:00",
                    "2025-09-21T14:00:00",
                    "2025-09-21T15:00:00",
                    "2025-09-21T16:00:00",
                    "2025-09-21T17:00:00",
                    "2025-09-21T18:00:00"
                  ],
                  "xaxis": "x",
                  "y": {
                    "bdata": "AAAAoBvtcUAAAABgON1xQAAAAIANz3FAAAAAQKHFcUAAAAAgL8BxQAAAAGBCsXFAAAAAoJeocUAAAADgg6dxQAAAAICfo3FAAAAAgNaacUAAAAAAB5JxQAAAAKDwjnFAAAAAAKCScUAAAABgPaxxQAAAAAA53XFAAAAAwCcDckAAAAAgyhlyQAAAAGB0KXJAAAAAgBg3ckAAAAAA+z5yQAAAACDLQ3JAAAAAoKhDckAAAAAgRT9yQAAAAOD6MHJAAAAA4EkVckAAAADA2flxQAAAAOC47XFAAAAAIOfccUAAAACgn9VxQAAAAAD0znFAAAAAgHPIcUAAAABAb8ZxQAAAAACquHFAAAAAgF2ycUAAAAAAS6BxQAAAAAA6mHFAAAAAgFCScUAAAAAgL6lxQAAAAMBvynFAAAAAwOwKckAAAACgpDtyQAAAAGBqXXJAAAAAgEx1ckAAAACA2IVyQAAAAADOjXJAAAAAwBeMckAAAABg0nlyQAAAAODGYHJAAAAAIPxBckAAAADg2hJyQAAAAIDJ+3FAAAAAAAbrcUAAAAAAWtVxQAAAAICi1HFAAAAAQLzJcUAAAAAgv8RxQAAAAOAotnFAAAAAAGGncUAAAACg1aJxQAAAAIBfnXFAAAAAgNuUcUAAAABgWrFxQAAAAMAM3nFAAAAAYGEWckAAAABASkxyQAAAAMBmb3JAAAAAoGuHckAAAAAggpVyQAAAAODNoHJAAAAAQPqickAAAAAg85hyQAAAAODRdXJAAAAAQFBSckAAAACANTJyQAAAAACJHnJAAAAAwPkQckAAAACAtQNyQAAAAIAl9nFAAAAAgGjrcUAAAACgJ+VxQAAAAADk1XFAAAAA4G3ScUAAAADgTtJxQAAAAOBTynFAAAAAANrKcUAAAAAg4NlxQAAAAGBX53FAAAAAQOgWckAAAADgMEhyQAAAAOC4dHJAAAAAwEqYckAAAADg8adyQAAAAIAWsXJAAAAAIBawckAAAABg8qtyQAAAAEDRgnJAAAAAwAhQckAAAAAgaklyQAAAAIBHNnJAAAAAAOwickAAAABAbxRyQAAAAIDVB3JAAAAAACrtcUAAAABgTt1xQAAAAEBY4nFAAAAAwKjccUAAAAAAuc1xQAAAAIDHznFAAAAAgCXOcUAAAABg9dZxQAAAAICm+3FAAAAAQLD7cUAAAABAjvpxQAAAAOBq8HFAAAAAwFXncUAAAAAAg9NxQAAAAOBmxXFAAAAAoAvGcUAAAADAYcJxQAAAAMCGwXFAAAAAYFK5cUA=",
                    "dtype": "f8"
                  },
                  "yaxis": "y"
                },
                {
                  "hovertemplate": "%{y:.2f}<extra>P<sub>10%</sub></extra>",
                  "marker": {
                    "color": "#ef9b20",
                    "size": 0.00001
                  },
                  "mode": "markers",
                  "type": "scatter",
                  "x": [
                    "2025-09-16T18:00:00",
                    "2025-09-16T19:00:00",
                    "2025-09-16T20:00:00",
                    "2025-09-16T21:00:00",
                    "2025-09-16T22:00:00",
                    "2025-09-16T23:00:00",
                    "2025-09-17T00:00:00",
                    "2025-09-17T01:00:00",
                    "2025-09-17T02:00:00",
                    "2025-09-17T03:00:00",
                    "2025-09-17T04:00:00",
                    "2025-09-17T05:00:00",
                    "2025-09-17T06:00:00",
                    "2025-09-17T07:00:00",
                    "2025-09-17T08:00:00",
                    "2025-09-17T09:00:00",
                    "2025-09-17T10:00:00",
                    "2025-09-17T11:00:00",
                    "2025-09-17T12:00:00",
                    "2025-09-17T13:00:00",
                    "2025-09-17T14:00:00",
                    "2025-09-17T15:00:00",
                    "2025-09-17T16:00:00",
                    "2025-09-17T17:00:00",
                    "2025-09-17T18:00:00",
                    "2025-09-17T19:00:00",
                    "2025-09-17T20:00:00",
                    "2025-09-17T21:00:00",
                    "2025-09-17T22:00:00",
                    "2025-09-17T23:00:00",
                    "2025-09-18T00:00:00",
                    "2025-09-18T01:00:00",
                    "2025-09-18T02:00:00",
                    "2025-09-18T03:00:00",
                    "2025-09-18T04:00:00",
                    "2025-09-18T05:00:00",
                    "2025-09-18T06:00:00",
                    "2025-09-18T07:00:00",
                    "2025-09-18T08:00:00",
                    "2025-09-18T09:00:00",
                    "2025-09-18T10:00:00",
                    "2025-09-18T11:00:00",
                    "2025-09-18T12:00:00",
                    "2025-09-18T13:00:00",
                    "2025-09-18T14:00:00",
                    "2025-09-18T15:00:00",
                    "2025-09-18T16:00:00",
                    "2025-09-18T17:00:00",
                    "2025-09-18T18:00:00",
                    "2025-09-18T19:00:00",
                    "2025-09-18T20:00:00",
                    "2025-09-18T21:00:00",
                    "2025-09-18T22:00:00",
                    "2025-09-18T23:00:00",
                    "2025-09-19T00:00:00",
                    "2025-09-19T01:00:00",
                    "2025-09-19T02:00:00",
                    "2025-09-19T03:00:00",
                    "2025-09-19T04:00:00",
                    "2025-09-19T05:00:00",
                    "2025-09-19T06:00:00",
                    "2025-09-19T07:00:00",
                    "2025-09-19T08:00:00",
                    "2025-09-19T09:00:00",
                    "2025-09-19T10:00:00",
                    "2025-09-19T11:00:00",
                    "2025-09-19T12:00:00",
                    "2025-09-19T13:00:00",
                    "2025-09-19T14:00:00",
                    "2025-09-19T15:00:00",
                    "2025-09-19T16:00:00",
                    "2025-09-19T17:00:00",
                    "2025-09-19T18:00:00",
                    "2025-09-19T19:00:00",
                    "2025-09-19T20:00:00",
                    "2025-09-19T21:00:00",
                    "2025-09-19T22:00:00",
                    "2025-09-19T23:00:00",
                    "2025-09-20T00:00:00",
                    "2025-09-20T01:00:00",
                    "2025-09-20T02:00:00",
                    "2025-09-20T03:00:00",
                    "2025-09-20T04:00:00",
                    "2025-09-20T05:00:00",
                    "2025-09-20T06:00:00",
                    "2025-09-20T07:00:00",
                    "2025-09-20T08:00:00",
                    "2025-09-20T09:00:00",
                    "2025-09-20T10:00:00",
                    "2025-09-20T11:00:00",
                    "2025-09-20T12:00:00",
                    "2025-09-20T13:00:00",
                    "2025-09-20T14:00:00",
                    "2025-09-20T15:00:00",
                    "2025-09-20T16:00:00",
                    "2025-09-20T17:00:00",
                    "2025-09-20T18:00:00",
                    "2025-09-20T19:00:00",
                    "2025-09-20T20:00:00",
                    "2025-09-20T21:00:00",
                    "2025-09-20T22:00:00",
                    "2025-09-20T23:00:00",
                    "2025-09-21T00:00:00",
                    "2025-09-21T01:00:00",
                    "2025-09-21T02:00:00",
                    "2025-09-21T03:00:00",
                    "2025-09-21T04:00:00",
                    "2025-09-21T05:00:00",
                    "2025-09-21T06:00:00",
                    "2025-09-21T07:00:00",
                    "2025-09-21T08:00:00",
                    "2025-09-21T09:00:00",
                    "2025-09-21T10:00:00",
                    "2025-09-21T11:00:00",
                    "2025-09-21T12:00:00",
                    "2025-09-21T13:00:00",
                    "2025-09-21T14:00:00",
                    "2025-09-21T15:00:00",
                    "2025-09-21T16:00:00",
                    "2025-09-21T17:00:00",
                    "2025-09-21T18:00:00"
                  ],
                  "xaxis": "x",
                  "y": {
                    "bdata": "MzMzg1T0cUCamZk56+JxQDMzM/Pu1XFAZmZm5v7LcUAAAABQd8dxQAAAAHAztnFAMzMzs6yscUAAAACQHalxQGZmZiZpqHFAMzMzwyqgcUCamZm5jphxQJqZmSmoknFAZmZmJiiVcUAzMzNDArRxQAAAANBC4HFAAAAAQCMFckDNzMy8+RtyQAAAALBCLHJAAAAAIPE5ckCamZkZnUNyQDMzMyOoR3JAZmZmZvxFckCamZnZBEFyQAAAAKCfMnJAZmZmprIYckAzMzPzxv5xQJqZmRmk8HFAAAAAkLDfcUBmZmb2AthxQGZmZuYJz3FAAAAAsO7KcUAAAADwBMhxQJqZmYkXvXFAZmZmJvmzcUAzMzNzqaZxQAAAALD9m3FAAAAA8AmUcUAAAABwJa1xQAAAAACH5XFAMzMzY3ccckDNzMxMo0NyQGZmZuY4YHJAMzMzQ4Z3ckAzMzOjB4lyQM3MzNwNkHJAAAAAkFOOckAAAABgUHxyQJqZmQmnYXJAMzMzwytDckBmZmZ2xhhyQM3MzEzJBHJAzczMLMD3cUBmZmbmouVxQM3MzJyu2nFAAAAAwI/OcUBmZmamJsVxQGZmZpYXt3FAZmZmtgKpcUCamZlJhKZxQDMzM7PHn3FAzczM/P6acUAzMzOjSbpxQM3MzCwy53FAmpmZCV4cckCamZmpZk1yQDMzMyOfcHJAMzMz87eIckCamZnJk5hyQJqZmdnFoXJAmpmZeTukckDNzMz8BJxyQJqZmXmMgHJAAAAAkHtXckDNzMy8TjRyQGZmZgYhIHJAZmZmhmoTckAzMzODwQlyQDMzMzNm/XFAMzMz0/bvcUCamZlZvudxQGZmZrYr4nFAzczMDDHXcUCamZkpxNJxQDMzM9OU1nFAmpmZSR7WcUAAAACAl9txQGZmZlZp8XFAMzMzgw0ZckBmZmbm3E9yQM3MzKytgXJAZmZmtqWeckAAAADwL7FyQGZmZpZiunJAMzMzs+29ckCamZmpurFyQAAAADCiknJAZmZmphlhckAAAAAgNktyQM3MzJzCN3JAzczMzLAockAzMzMjIB5yQAAAAIA6FXJAZmZm1tQJckCamZnplv9xQAAAAPDT6XFAMzMzE8HocUDNzMycH+dxQGZmZvav1HFAAAAAYALZcUAAAABwZ+VxQAAAAPDoBXJAmpmZeRQwckAAAAAQnhtyQJqZmQl7HnJAzczMPH4OckAzMzOD/AVyQM3MzOxRBXJAMzMzs6IBckCamZm52/pxQM3MzExj33FAZmZmVifXcUA=",
                    "dtype": "f8"
                  },
                  "yaxis": "y"
                },
                {
                  "hovertemplate": "%{y:.2f}<extra>P<sub>25%</sub></extra>",
                  "marker": {
                    "color": "#ef9b20",
                    "size": 0.00001
                  },
                  "mode": "markers",
                  "type": "scatter",
                  "x": [
                    "2025-09-16T18:00:00",
                    "2025-09-16T19:00:00",
                    "2025-09-16T20:00:00",
                    "2025-09-16T21:00:00",
                    "2025-09-16T22:00:00",
                    "2025-09-16T23:00:00",
                    "2025-09-17T00:00:00",
                    "2025-09-17T01:00:00",
                    "2025-09-17T02:00:00",
                    "2025-09-17T03:00:00",
                    "2025-09-17T04:00:00",
                    "2025-09-17T05:00:00",
                    "2025-09-17T06:00:00",
                    "2025-09-17T07:00:00",
                    "2025-09-17T08:00:00",
                    "2025-09-17T09:00:00",
                    "2025-09-17T10:00:00",
                    "2025-09-17T11:00:00",
                    "2025-09-17T12:00:00",
                    "2025-09-17T13:00:00",
                    "2025-09-17T14:00:00",
                    "2025-09-17T15:00:00",
                    "2025-09-17T16:00:00",
                    "2025-09-17T17:00:00",
                    "2025-09-17T18:00:00",
                    "2025-09-17T19:00:00",
                    "2025-09-17T20:00:00",
                    "2025-09-17T21:00:00",
                    "2025-09-17T22:00:00",
                    "2025-09-17T23:00:00",
                    "2025-09-18T00:00:00",
                    "2025-09-18T01:00:00",
                    "2025-09-18T02:00:00",
                    "2025-09-18T03:00:00",
                    "2025-09-18T04:00:00",
                    "2025-09-18T05:00:00",
                    "2025-09-18T06:00:00",
                    "2025-09-18T07:00:00",
                    "2025-09-18T08:00:00",
                    "2025-09-18T09:00:00",
                    "2025-09-18T10:00:00",
                    "2025-09-18T11:00:00",
                    "2025-09-18T12:00:00",
                    "2025-09-18T13:00:00",
                    "2025-09-18T14:00:00",
                    "2025-09-18T15:00:00",
                    "2025-09-18T16:00:00",
                    "2025-09-18T17:00:00",
                    "2025-09-18T18:00:00",
                    "2025-09-18T19:00:00",
                    "2025-09-18T20:00:00",
                    "2025-09-18T21:00:00",
                    "2025-09-18T22:00:00",
                    "2025-09-18T23:00:00",
                    "2025-09-19T00:00:00",
                    "2025-09-19T01:00:00",
                    "2025-09-19T02:00:00",
                    "2025-09-19T03:00:00",
                    "2025-09-19T04:00:00",
                    "2025-09-19T05:00:00",
                    "2025-09-19T06:00:00",
                    "2025-09-19T07:00:00",
                    "2025-09-19T08:00:00",
                    "2025-09-19T09:00:00",
                    "2025-09-19T10:00:00",
                    "2025-09-19T11:00:00",
                    "2025-09-19T12:00:00",
                    "2025-09-19T13:00:00",
                    "2025-09-19T14:00:00",
                    "2025-09-19T15:00:00",
                    "2025-09-19T16:00:00",
                    "2025-09-19T17:00:00",
                    "2025-09-19T18:00:00",
                    "2025-09-19T19:00:00",
                    "2025-09-19T20:00:00",
                    "2025-09-19T21:00:00",
                    "2025-09-19T22:00:00",
                    "2025-09-19T23:00:00",
                    "2025-09-20T00:00:00",
                    "2025-09-20T01:00:00",
                    "2025-09-20T02:00:00",
                    "2025-09-20T03:00:00",
                    "2025-09-20T04:00:00",
                    "2025-09-20T05:00:00",
                    "2025-09-20T06:00:00",
                    "2025-09-20T07:00:00",
                    "2025-09-20T08:00:00",
                    "2025-09-20T09:00:00",
                    "2025-09-20T10:00:00",
                    "2025-09-20T11:00:00",
                    "2025-09-20T12:00:00",
                    "2025-09-20T13:00:00",
                    "2025-09-20T14:00:00",
                    "2025-09-20T15:00:00",
                    "2025-09-20T16:00:00",
                    "2025-09-20T17:00:00",
                    "2025-09-20T18:00:00",
                    "2025-09-20T19:00:00",
                    "2025-09-20T20:00:00",
                    "2025-09-20T21:00:00",
                    "2025-09-20T22:00:00",
                    "2025-09-20T23:00:00",
                    "2025-09-21T00:00:00",
                    "2025-09-21T01:00:00",
                    "2025-09-21T02:00:00",
                    "2025-09-21T03:00:00",
                    "2025-09-21T04:00:00",
                    "2025-09-21T05:00:00",
                    "2025-09-21T06:00:00",
                    "2025-09-21T07:00:00",
                    "2025-09-21T08:00:00",
                    "2025-09-21T09:00:00",
                    "2025-09-21T10:00:00",
                    "2025-09-21T11:00:00",
                    "2025-09-21T12:00:00",
                    "2025-09-21T13:00:00",
                    "2025-09-21T14:00:00",
                    "2025-09-21T15:00:00",
                    "2025-09-21T16:00:00",
                    "2025-09-21T17:00:00",
                    "2025-09-21T18:00:00"
                  ],
                  "xaxis": "x",
                  "y": {
                    "bdata": "AAAAYDv2cUAAAAAA7uZxQAAAAPjq2HFAAAAAGBrQcUAAAAC4Ls1xQAAAAPADwnFAAAAA8AavcUAAAABAd6xxQAAAAKDtqnFAAAAAgHekcUAAAAD4s59xQAAAACDMmnFAAAAACBCfcUAAAAAQ1LtxQAAAAKDR5XFAAAAAQEEIckAAAAAAwx1yQAAAAAB9LnJAAAAAuBE8ckAAAABIg0VyQAAAAFAbSXJAAAAAcCNHckAAAADok0NyQAAAABgWNXJAAAAAcAYbckAAAABAEwRyQAAAAHgI9HFAAAAAMF/jcUAAAABwdtpxQAAAABic1HFAAAAAELLNcUAAAABosslxQAAAAAjzvnFAAAAAYB+2cUAAAABIAKxxQAAAAJBQn3FAAAAAmLuacUAAAAAYDbdxQAAAANga7XFAAAAAcPsdckAAAADwjkVyQAAAAIjZY3JAAAAAELZ8ckAAAAAwlIxyQAAAAKj6knJAAAAAaLORckAAAACgi39yQAAAAEjmZHJAAAAA+PtDckAAAAAYMxxyQAAAAPjyCHJAAAAAUPn7cUAAAACg6OpxQAAAAFBT3XFAAAAAmLTPcUAAAADo6MVxQAAAABiOuHFAAAAAeLWscUAAAADY8qdxQAAAAIA3o3FAAAAA0EChcUAAAABY/75xQAAAAPAC8XFAAAAAMPYlckAAAAAIK1JyQAAAALjKcnJAAAAAUFGLckAAAABA7JpyQAAAANi5pXJAAAAAwH+mckAAAABYU51yQAAAAGAhg3JAAAAAMDlackAAAADQVDdyQAAAABhXIHJAAAAACH4UckAAAADoJAtyQAAAAKANAXJAAAAAWMv1cUAAAABwDOxxQAAAAIhx5HFAAAAAOLndcUAAAAAQN9lxQAAAAJjO2nFAAAAASPLbcUAAAAAAlONxQAAAAKCN9nFAAAAAYMsZckAAAAAwDFZyQAAAAMgDiXJAAAAA6EqjckAAAAAABLVyQAAAAKCYvnJAAAAA+HvAckAAAADg+rVyQAAAACgMm3JAAAAAMN5nckAAAABQrktyQAAAADApOXJAAAAAYKksckAAAABQrSJyQAAAADB1GnJAAAAA2CUOckAAAADgtwNyQAAAAEAS+3FAAAAAaBX0cUAAAAC4oOpxQAAAANiD4nFAAAAA0GfhcUAAAABwnO9xQAAAABC9D3JAAAAAYHA7ckAAAAAI9XJyQAAAADiAj3JAAAAAgIKZckAAAACgyqByQAAAAICCmnJAAAAAEIyKckAAAACQD21yQAAAADAxSHJAAAAAiEkockA=",
                    "dtype": "f8"
                  },
                  "yaxis": "y"
                },
                {
                  "hovertemplate": "%{y:.2f}<extra>P<sub>50%</sub></extra>",
                  "marker": {
                    "color": "#ef9b20",
                    "size": 0.00001
                  },
                  "mode": "markers",
                  "type": "scatter",
                  "x": [
                    "2025-09-16T18:00:00",
                    "2025-09-16T19:00:00",
                    "2025-09-16T20:00:00",
                    "2025-09-16T21:00:00",
                    "2025-09-16T22:00:00",
                    "2025-09-16T23:00:00",
                    "2025-09-17T00:00:00",
                    "2025-09-17T01:00:00",
                    "2025-09-17T02:00:00",
                    "2025-09-17T03:00:00",
                    "2025-09-17T04:00:00",
                    "2025-09-17T05:00:00",
                    "2025-09-17T06:00:00",
                    "2025-09-17T07:00:00",
                    "2025-09-17T08:00:00",
                    "2025-09-17T09:00:00",
                    "2025-09-17T10:00:00",
                    "2025-09-17T11:00:00",
                    "2025-09-17T12:00:00",
                    "2025-09-17T13:00:00",
                    "2025-09-17T14:00:00",
                    "2025-09-17T15:00:00",
                    "2025-09-17T16:00:00",
                    "2025-09-17T17:00:00",
                    "2025-09-17T18:00:00",
                    "2025-09-17T19:00:00",
                    "2025-09-17T20:00:00",
                    "2025-09-17T21:00:00",
                    "2025-09-17T22:00:00",
                    "2025-09-17T23:00:00",
                    "2025-09-18T00:00:00",
                    "2025-09-18T01:00:00",
                    "2025-09-18T02:00:00",
                    "2025-09-18T03:00:00",
                    "2025-09-18T04:00:00",
                    "2025-09-18T05:00:00",
                    "2025-09-18T06:00:00",
                    "2025-09-18T07:00:00",
                    "2025-09-18T08:00:00",
                    "2025-09-18T09:00:00",
                    "2025-09-18T10:00:00",
                    "2025-09-18T11:00:00",
                    "2025-09-18T12:00:00",
                    "2025-09-18T13:00:00",
                    "2025-09-18T14:00:00",
                    "2025-09-18T15:00:00",
                    "2025-09-18T16:00:00",
                    "2025-09-18T17:00:00",
                    "2025-09-18T18:00:00",
                    "2025-09-18T19:00:00",
                    "2025-09-18T20:00:00",
                    "2025-09-18T21:00:00",
                    "2025-09-18T22:00:00",
                    "2025-09-18T23:00:00",
                    "2025-09-19T00:00:00",
                    "2025-09-19T01:00:00",
                    "2025-09-19T02:00:00",
                    "2025-09-19T03:00:00",
                    "2025-09-19T04:00:00",
                    "2025-09-19T05:00:00",
                    "2025-09-19T06:00:00",
                    "2025-09-19T07:00:00",
                    "2025-09-19T08:00:00",
                    "2025-09-19T09:00:00",
                    "2025-09-19T10:00:00",
                    "2025-09-19T11:00:00",
                    "2025-09-19T12:00:00",
                    "2025-09-19T13:00:00",
                    "2025-09-19T14:00:00",
                    "2025-09-19T15:00:00",
                    "2025-09-19T16:00:00",
                    "2025-09-19T17:00:00",
                    "2025-09-19T18:00:00",
                    "2025-09-19T19:00:00",
                    "2025-09-19T20:00:00",
                    "2025-09-19T21:00:00",
                    "2025-09-19T22:00:00",
                    "2025-09-19T23:00:00",
                    "2025-09-20T00:00:00",
                    "2025-09-20T01:00:00",
                    "2025-09-20T02:00:00",
                    "2025-09-20T03:00:00",
                    "2025-09-20T04:00:00",
                    "2025-09-20T05:00:00",
                    "2025-09-20T06:00:00",
                    "2025-09-20T07:00:00",
                    "2025-09-20T08:00:00",
                    "2025-09-20T09:00:00",
                    "2025-09-20T10:00:00",
                    "2025-09-20T11:00:00",
                    "2025-09-20T12:00:00",
                    "2025-09-20T13:00:00",
                    "2025-09-20T14:00:00",
                    "2025-09-20T15:00:00",
                    "2025-09-20T16:00:00",
                    "2025-09-20T17:00:00",
                    "2025-09-20T18:00:00",
                    "2025-09-20T19:00:00",
                    "2025-09-20T20:00:00",
                    "2025-09-20T21:00:00",
                    "2025-09-20T22:00:00",
                    "2025-09-20T23:00:00",
                    "2025-09-21T00:00:00",
                    "2025-09-21T01:00:00",
                    "2025-09-21T02:00:00",
                    "2025-09-21T03:00:00",
                    "2025-09-21T04:00:00",
                    "2025-09-21T05:00:00",
                    "2025-09-21T06:00:00",
                    "2025-09-21T07:00:00",
                    "2025-09-21T08:00:00",
                    "2025-09-21T09:00:00",
                    "2025-09-21T10:00:00",
                    "2025-09-21T11:00:00",
                    "2025-09-21T12:00:00",
                    "2025-09-21T13:00:00",
                    "2025-09-21T14:00:00",
                    "2025-09-21T15:00:00",
                    "2025-09-21T16:00:00",
                    "2025-09-21T17:00:00",
                    "2025-09-21T18:00:00"
                  ],
                  "xaxis": "x",
                  "y": {
                    "bdata": "AAAA0B34cUAAAACwQOlxQAAAACAi33FAAAAA4GLZcUAAAABwC9NxQAAAANDPzHFAAAAAoLW5cUAAAAAg/bFxQAAAAKDLrXFAAAAA4AqpcUAAAADgd6NxQAAAAIAJoHFAAAAAMBKjcUAAAADAt75xQAAAAJCo53FAAAAAEPoKckAAAADg+CByQAAAAACuMXJAAAAAQLM9ckAAAABAwEZyQAAAAMCUSnJAAAAAsC1JckAAAACAq0RyQAAAAKBoNnJAAAAAkBgeckAAAAAAqApyQAAAAACK+HFAAAAA4DzlcUAAAADgqtxxQAAAAODZ1XFAAAAAgHvRcUAAAABwPMxxQAAAAIBkwXFAAAAAwMy4cUAAAADQCbFxQAAAAJD/pXFAAAAA8IKecUAAAABA67lxQAAAAJAD8HFAAAAAsIEjckAAAACgNkpyQAAAANCSa3JAAAAAUKOAckAAAACwnI9yQAAAANCXlXJAAAAAkACVckAAAABAKIdyQAAAAFCxaHJAAAAA4HVHckAAAADQ5SByQAAAAMCuD3JAAAAAsNT/cUAAAACgxu5xQAAAAPBp4XFAAAAA8D/ScUAAAACw7cdxQAAAAICtunFAAAAAkD6wcUAAAACQsaxxQAAAACBzpnFAAAAAwGukcUAAAACQncJxQAAAAOCZ9XFAAAAAcMwockAAAAAgalZyQAAAAPDddXJAAAAAUFaNckAAAABwWZ5yQAAAAMAHp3JAAAAAkPKnckAAAABw2qNyQAAAAPC4jHJAAAAAUCZkckAAAACwTDxyQAAAAHAFJXJAAAAAkBIWckAAAADQTA5yQAAAANAtA3JAAAAAgH37cUAAAABwEO5xQAAAAPAo6HFAAAAAgDjhcUAAAACggN1xQAAAABBP3nFAAAAAEGLgcUAAAACQKOhxQAAAAMAM/HFAAAAAIDQhckAAAADAjF9yQAAAABDRjHJAAAAA0LqnckAAAABwo7hyQAAAAEBEw3JAAAAAcP/EckAAAAAwO7pyQAAAAIC8nnJAAAAAILd0ckAAAABwhVByQAAAAMD8QXJAAAAA0MQyckAAAADgRylyQAAAAJCiH3JAAAAAwIAVckAAAABw5glyQAAAACAWBXJAAAAAwBcAckAAAAAAJ/txQAAAAMDu8XFAAAAAMLPncUAAAAAwlPdxQAAAAAAOI3JAAAAAoO9VckAAAABQDYRyQAAAADBhmHJAAAAAkOWqckAAAACgP7RyQAAAAPCQuHJAAAAA4HO2ckAAAADgVKxyQAAAANBqkXJAAAAAcNhfckA=",
                    "dtype": "f8"
                  },
                  "yaxis": "y"
                },
                {
                  "hovertemplate": "%{y:.2f}<extra>P<sub>75%</sub></extra>",
                  "marker": {
                    "color": "#ef9b20",
                    "size": 0.00001
                  },
                  "mode": "markers",
                  "type": "scatter",
                  "x": [
                    "2025-09-16T18:00:00",
                    "2025-09-16T19:00:00",
                    "2025-09-16T20:00:00",
                    "2025-09-16T21:00:00",
                    "2025-09-16T22:00:00",
                    "2025-09-16T23:00:00",
                    "2025-09-17T00:00:00",
                    "2025-09-17T01:00:00",
                    "2025-09-17T02:00:00",
                    "2025-09-17T03:00:00",
                    "2025-09-17T04:00:00",
                    "2025-09-17T05:00:00",
                    "2025-09-17T06:00:00",
                    "2025-09-17T07:00:00",
                    "2025-09-17T08:00:00",
                    "2025-09-17T09:00:00",
                    "2025-09-17T10:00:00",
                    "2025-09-17T11:00:00",
                    "2025-09-17T12:00:00",
                    "2025-09-17T13:00:00",
                    "2025-09-17T14:00:00",
                    "2025-09-17T15:00:00",
                    "2025-09-17T16:00:00",
                    "2025-09-17T17:00:00",
                    "2025-09-17T18:00:00",
                    "2025-09-17T19:00:00",
                    "2025-09-17T20:00:00",
                    "2025-09-17T21:00:00",
                    "2025-09-17T22:00:00",
                    "2025-09-17T23:00:00",
                    "2025-09-18T00:00:00",
                    "2025-09-18T01:00:00",
                    "2025-09-18T02:00:00",
                    "2025-09-18T03:00:00",
                    "2025-09-18T04:00:00",
                    "2025-09-18T05:00:00",
                    "2025-09-18T06:00:00",
                    "2025-09-18T07:00:00",
                    "2025-09-18T08:00:00",
                    "2025-09-18T09:00:00",
                    "2025-09-18T10:00:00",
                    "2025-09-18T11:00:00",
                    "2025-09-18T12:00:00",
                    "2025-09-18T13:00:00",
                    "2025-09-18T14:00:00",
                    "2025-09-18T15:00:00",
                    "2025-09-18T16:00:00",
                    "2025-09-18T17:00:00",
                    "2025-09-18T18:00:00",
                    "2025-09-18T19:00:00",
                    "2025-09-18T20:00:00",
                    "2025-09-18T21:00:00",
                    "2025-09-18T22:00:00",
                    "2025-09-18T23:00:00",
                    "2025-09-19T00:00:00",
                    "2025-09-19T01:00:00",
                    "2025-09-19T02:00:00",
                    "2025-09-19T03:00:00",
                    "2025-09-19T04:00:00",
                    "2025-09-19T05:00:00",
                    "2025-09-19T06:00:00",
                    "2025-09-19T07:00:00",
                    "2025-09-19T08:00:00",
                    "2025-09-19T09:00:00",
                    "2025-09-19T10:00:00",
                    "2025-09-19T11:00:00",
                    "2025-09-19T12:00:00",
                    "2025-09-19T13:00:00",
                    "2025-09-19T14:00:00",
                    "2025-09-19T15:00:00",
                    "2025-09-19T16:00:00",
                    "2025-09-19T17:00:00",
                    "2025-09-19T18:00:00",
                    "2025-09-19T19:00:00",
                    "2025-09-19T20:00:00",
                    "2025-09-19T21:00:00",
                    "2025-09-19T22:00:00",
                    "2025-09-19T23:00:00",
                    "2025-09-20T00:00:00",
                    "2025-09-20T01:00:00",
                    "2025-09-20T02:00:00",
                    "2025-09-20T03:00:00",
                    "2025-09-20T04:00:00",
                    "2025-09-20T05:00:00",
                    "2025-09-20T06:00:00",
                    "2025-09-20T07:00:00",
                    "2025-09-20T08:00:00",
                    "2025-09-20T09:00:00",
                    "2025-09-20T10:00:00",
                    "2025-09-20T11:00:00",
                    "2025-09-20T12:00:00",
                    "2025-09-20T13:00:00",
                    "2025-09-20T14:00:00",
                    "2025-09-20T15:00:00",
                    "2025-09-20T16:00:00",
                    "2025-09-20T17:00:00",
                    "2025-09-20T18:00:00",
                    "2025-09-20T19:00:00",
                    "2025-09-20T20:00:00",
                    "2025-09-20T21:00:00",
                    "2025-09-20T22:00:00",
                    "2025-09-20T23:00:00",
                    "2025-09-21T00:00:00",
                    "2025-09-21T01:00:00",
                    "2025-09-21T02:00:00",
                    "2025-09-21T03:00:00",
                    "2025-09-21T04:00:00",
                    "2025-09-21T05:00:00",
                    "2025-09-21T06:00:00",
                    "2025-09-21T07:00:00",
                    "2025-09-21T08:00:00",
                    "2025-09-21T09:00:00",
                    "2025-09-21T10:00:00",
                    "2025-09-21T11:00:00",
                    "2025-09-21T12:00:00",
                    "2025-09-21T13:00:00",
                    "2025-09-21T14:00:00",
                    "2025-09-21T15:00:00",
                    "2025-09-21T16:00:00",
                    "2025-09-21T17:00:00",
                    "2025-09-21T18:00:00"
                  ],
                  "xaxis": "x",
                  "y": {
                    "bdata": "AAAAGN78cUAAAADwU+9xQAAAAADw5XFAAAAASKndcUAAAABg49ZxQAAAAGiD1HFAAAAAWIvGcUAAAACQZr1xQAAAALDtuHFAAAAAALmzcUAAAACYv6txQAAAAIBMpXFAAAAA6C2pcUAAAAAoVMNxQAAAAJgu6nFAAAAA2AsPckAAAAAYmSNyQAAAACDuM3JAAAAACKM/ckAAAAA4dkhyQAAAAJinTHJAAAAAsBNLckAAAABoO0dyQAAAABgPOnJAAAAAEEAkckAAAADgEg5yQAAAADjD/HFAAAAA+BnocUAAAACwdeBxQAAAAAiO2HFAAAAAwEbTcUAAAAD4EM9xQAAAANBrwnFAAAAA+F27cUAAAAD4t7RxQAAAAKBjqnFAAAAA+I2mcUAAAAAIvcBxQAAAABgs9nFAAAAAeC0mckAAAABAsE5yQAAAAMiocHJAAAAAWDmFckAAAAAIJJRyQAAAAPhvmXJAAAAAYIeWckAAAAAYnYpyQAAAAJhvanJAAAAAEOBKckAAAACwfCdyQAAAAFATFXJAAAAAoJcBckAAAABogvRxQAAAAAhz53FAAAAAYJDacUAAAADgCsxxQAAAAGg1vnFAAAAAYIKzcUAAAACwZrBxQAAAACCvq3FAAAAAcBipcUAAAAAwOMRxQAAAAGgU+HFAAAAASHYrckAAAAB4zllyQAAAAJCpeHJAAAAAKMaPckAAAADIwZ9yQAAAALD5qXJAAAAAQO6rckAAAABY6qZyQAAAAChrk3JAAAAAYKpqckAAAADgLUNyQAAAAGBuKHJAAAAAyBcbckAAAADA6xFyQAAAAJCvB3JAAAAAYGb/cUAAAADo5vdxQAAAAAgu7nFAAAAAOPHmcUAAAACoP+NxQAAAAKD34nFAAAAA+EvkcUAAAABIKO1xQAAAAKAcAHJAAAAAyMkuckAAAACgVmtyQAAAALACkHJAAAAAqM2qckAAAACo67tyQAAAABgWxXJAAAAAQNDGckAAAADQer1yQAAAAFjoonJAAAAAIBx+ckAAAADARlhyQAAAAKBgRnJAAAAAkPM6ckAAAACo1S5yQAAAAPiyJ3JAAAAASNgickAAAACoeBlyQAAAAOgzEHJAAAAAKNwOckAAAACY2whyQAAAANC+/nFAAAAAKOEBckAAAADYFhpyQAAAACjIMXJAAAAAGD9mckAAAADIzYlyQAAAAHAun3JAAAAA8GqwckAAAAD4jL1yQAAAALBswnJAAAAAoNzCckAAAABw3LpyQAAAAAiimXJAAAAAeBtrckA=",
                    "dtype": "f8"
                  },
                  "yaxis": "y"
                },
                {
                  "hovertemplate": "%{y:.2f}<extra>P<sub>90%</sub></extra>",
                  "marker": {
                    "color": "#ef9b20",
                    "size": 0.00001
                  },
                  "mode": "markers",
                  "type": "scatter",
                  "x": [
                    "2025-09-16T18:00:00",
                    "2025-09-16T19:00:00",
                    "2025-09-16T20:00:00",
                    "2025-09-16T21:00:00",
                    "2025-09-16T22:00:00",
                    "2025-09-16T23:00:00",
                    "2025-09-17T00:00:00",
                    "2025-09-17T01:00:00",
                    "2025-09-17T02:00:00",
                    "2025-09-17T03:00:00",
                    "2025-09-17T04:00:00",
                    "2025-09-17T05:00:00",
                    "2025-09-17T06:00:00",
                    "2025-09-17T07:00:00",
                    "2025-09-17T08:00:00",
                    "2025-09-17T09:00:00",
                    "2025-09-17T10:00:00",
                    "2025-09-17T11:00:00",
                    "2025-09-17T12:00:00",
                    "2025-09-17T13:00:00",
                    "2025-09-17T14:00:00",
                    "2025-09-17T15:00:00",
                    "2025-09-17T16:00:00",
                    "2025-09-17T17:00:00",
                    "2025-09-17T18:00:00",
                    "2025-09-17T19:00:00",
                    "2025-09-17T20:00:00",
                    "2025-09-17T21:00:00",
                    "2025-09-17T22:00:00",
                    "2025-09-17T23:00:00",
                    "2025-09-18T00:00:00",
                    "2025-09-18T01:00:00",
                    "2025-09-18T02:00:00",
                    "2025-09-18T03:00:00",
                    "2025-09-18T04:00:00",
                    "2025-09-18T05:00:00",
                    "2025-09-18T06:00:00",
                    "2025-09-18T07:00:00",
                    "2025-09-18T08:00:00",
                    "2025-09-18T09:00:00",
                    "2025-09-18T10:00:00",
                    "2025-09-18T11:00:00",
                    "2025-09-18T12:00:00",
                    "2025-09-18T13:00:00",
                    "2025-09-18T14:00:00",
                    "2025-09-18T15:00:00",
                    "2025-09-18T16:00:00",
                    "2025-09-18T17:00:00",
                    "2025-09-18T18:00:00",
                    "2025-09-18T19:00:00",
                    "2025-09-18T20:00:00",
                    "2025-09-18T21:00:00",
                    "2025-09-18T22:00:00",
                    "2025-09-18T23:00:00",
                    "2025-09-19T00:00:00",
                    "2025-09-19T01:00:00",
                    "2025-09-19T02:00:00",
                    "2025-09-19T03:00:00",
                    "2025-09-19T04:00:00",
                    "2025-09-19T05:00:00",
                    "2025-09-19T06:00:00",
                    "2025-09-19T07:00:00",
                    "2025-09-19T08:00:00",
                    "2025-09-19T09:00:00",
                    "2025-09-19T10:00:00",
                    "2025-09-19T11:00:00",
                    "2025-09-19T12:00:00",
                    "2025-09-19T13:00:00",
                    "2025-09-19T14:00:00",
                    "2025-09-19T15:00:00",
                    "2025-09-19T16:00:00",
                    "2025-09-19T17:00:00",
                    "2025-09-19T18:00:00",
                    "2025-09-19T19:00:00",
                    "2025-09-19T20:00:00",
                    "2025-09-19T21:00:00",
                    "2025-09-19T22:00:00",
                    "2025-09-19T23:00:00",
                    "2025-09-20T00:00:00",
                    "2025-09-20T01:00:00",
                    "2025-09-20T02:00:00",
                    "2025-09-20T03:00:00",
                    "2025-09-20T04:00:00",
                    "2025-09-20T05:00:00",
                    "2025-09-20T06:00:00",
                    "2025-09-20T07:00:00",
                    "2025-09-20T08:00:00",
                    "2025-09-20T09:00:00",
                    "2025-09-20T10:00:00",
                    "2025-09-20T11:00:00",
                    "2025-09-20T12:00:00",
                    "2025-09-20T13:00:00",
                    "2025-09-20T14:00:00",
                    "2025-09-20T15:00:00",
                    "2025-09-20T16:00:00",
                    "2025-09-20T17:00:00",
                    "2025-09-20T18:00:00",
                    "2025-09-20T19:00:00",
                    "2025-09-20T20:00:00",
                    "2025-09-20T21:00:00",
                    "2025-09-20T22:00:00",
                    "2025-09-20T23:00:00",
                    "2025-09-21T00:00:00",
                    "2025-09-21T01:00:00",
                    "2025-09-21T02:00:00",
                    "2025-09-21T03:00:00",
                    "2025-09-21T04:00:00",
                    "2025-09-21T05:00:00",
                    "2025-09-21T06:00:00",
                    "2025-09-21T07:00:00",
                    "2025-09-21T08:00:00",
                    "2025-09-21T09:00:00",
                    "2025-09-21T10:00:00",
                    "2025-09-21T11:00:00",
                    "2025-09-21T12:00:00",
                    "2025-09-21T13:00:00",
                    "2025-09-21T14:00:00",
                    "2025-09-21T15:00:00",
                    "2025-09-21T16:00:00",
                    "2025-09-21T17:00:00",
                    "2025-09-21T18:00:00"
                  ],
                  "xaxis": "x",
                  "y": {
                    "bdata": "mpmZOYb+cUCamZmZrvBxQAAAAFB153FAzczMjCDhcUAAAAAwjNpxQAAAACDt2XFAAAAAgEvNcUBmZma2IsZxQJqZmYk6vXFAzczMfJC4cUDNzMwcyq9xQDMzM8M5q3FAmpmZyTytcUBmZmZGeMdxQJqZmVkE8nFAAAAA0I4SckCamZkphiZyQM3MzPwpNXJAmpmZCXdAckAAAABwaUlyQAAAACAZTnJAAAAAsAJOckAzMzNTRklyQDMzMwM4PnJAmpmZ2aArckAzMzMjBBJyQM3MzOxMAXJAzczMjGzrcUDNzMysO+JxQGZmZqbP2nFAmpmZqbbWcUCamZl5+89xQJqZmelfyHFAZmZmNqS+cUDNzMysyLZxQGZmZtazrnFAmpmZ+USqcUBmZmZGiMpxQM3MzHzu+HFAmpmZ+YYockCamZlJ31ByQGZmZqaDcnJAZmZm9tSFckAAAAAwIZVyQDMzM2O9mnJAAAAAsDCYckDNzMxMloxyQGZmZvb9dHJAAAAAIFdUckAAAADgdCxyQDMzM5NaGHJAMzMzE9QKckAAAADQnPlxQM3MzNwl63FAAAAAEAffcUAzMzPjy9JxQDMzMzMMw3FAAAAA8FC2cUBmZma2y7NxQGZmZjYerXFAZmZmls6qcUDNzMz8ssVxQM3MzJwX+XFAZmZm9ugtckCamZlZe11yQDMzM4N3fHJAmpmZufCSckDNzMw8yKRyQJqZmblwrnJAzczMvOOyckCamZmZ0apyQGZmZrZplHJAzczMPA5sckAzMzOjtklyQM3MzAzzLXJAAAAA8P0dckCamZnpwRVyQAAAAECLDHJAMzMzc/cBckAAAABwUf5xQGZmZgZN73FAzczM/K/qcUDNzMw8puZxQGZmZpbu5nFAzczMDK3mcUDNzMzc4+5xQM3MzDy8A3JAZmZm5mw7ckBmZmbGHXVyQGZmZrZBl3JAZmZmNm6xckBmZmYWvL5yQDMzMwOBx3JAMzMzg3rIckAAAADwKcJyQGZmZiZKqHJAzczM/MWDckDNzMwsimZyQAAAAADITHJAmpmZOV1GckDNzMzME0NyQJqZmUmIMXJAmpmZCc8pckDNzMxs7yVyQM3MzAxQInJAMzMzY3sdckCamZlpnhhyQAAAAPD6FXJAZmZmpmwTckDNzMz8Gh5yQDMzM7MYRXJAmpmZCVpsckCamZkpmo1yQGZmZibjpXJAMzMzU5G2ckDNzMysKMByQM3MzGzmx3JAmpmZ2azHckCamZmp8LxyQM3MzPzgo3JAzczM7BV0ckA=",
                    "dtype": "f8"
                  },
                  "yaxis": "y"
                },
                {
                  "hovertemplate": "%{y:.2f}<extra>P<sub>100%</sub></extra>",
                  "marker": {
                    "color": "#ef9b20",
                    "size": 0.00001
                  },
                  "mode": "markers",
                  "type": "scatter",
                  "x": [
                    "2025-09-16T18:00:00",
                    "2025-09-16T19:00:00",
                    "2025-09-16T20:00:00",
                    "2025-09-16T21:00:00",
                    "2025-09-16T22:00:00",
                    "2025-09-16T23:00:00",
                    "2025-09-17T00:00:00",
                    "2025-09-17T01:00:00",
                    "2025-09-17T02:00:00",
                    "2025-09-17T03:00:00",
                    "2025-09-17T04:00:00",
                    "2025-09-17T05:00:00",
                    "2025-09-17T06:00:00",
                    "2025-09-17T07:00:00",
                    "2025-09-17T08:00:00",
                    "2025-09-17T09:00:00",
                    "2025-09-17T10:00:00",
                    "2025-09-17T11:00:00",
                    "2025-09-17T12:00:00",
                    "2025-09-17T13:00:00",
                    "2025-09-17T14:00:00",
                    "2025-09-17T15:00:00",
                    "2025-09-17T16:00:00",
                    "2025-09-17T17:00:00",
                    "2025-09-17T18:00:00",
                    "2025-09-17T19:00:00",
                    "2025-09-17T20:00:00",
                    "2025-09-17T21:00:00",
                    "2025-09-17T22:00:00",
                    "2025-09-17T23:00:00",
                    "2025-09-18T00:00:00",
                    "2025-09-18T01:00:00",
                    "2025-09-18T02:00:00",
                    "2025-09-18T03:00:00",
                    "2025-09-18T04:00:00",
                    "2025-09-18T05:00:00",
                    "2025-09-18T06:00:00",
                    "2025-09-18T07:00:00",
                    "2025-09-18T08:00:00",
                    "2025-09-18T09:00:00",
                    "2025-09-18T10:00:00",
                    "2025-09-18T11:00:00",
                    "2025-09-18T12:00:00",
                    "2025-09-18T13:00:00",
                    "2025-09-18T14:00:00",
                    "2025-09-18T15:00:00",
                    "2025-09-18T16:00:00",
                    "2025-09-18T17:00:00",
                    "2025-09-18T18:00:00",
                    "2025-09-18T19:00:00",
                    "2025-09-18T20:00:00",
                    "2025-09-18T21:00:00",
                    "2025-09-18T22:00:00",
                    "2025-09-18T23:00:00",
                    "2025-09-19T00:00:00",
                    "2025-09-19T01:00:00",
                    "2025-09-19T02:00:00",
                    "2025-09-19T03:00:00",
                    "2025-09-19T04:00:00",
                    "2025-09-19T05:00:00",
                    "2025-09-19T06:00:00",
                    "2025-09-19T07:00:00",
                    "2025-09-19T08:00:00",
                    "2025-09-19T09:00:00",
                    "2025-09-19T10:00:00",
                    "2025-09-19T11:00:00",
                    "2025-09-19T12:00:00",
                    "2025-09-19T13:00:00",
                    "2025-09-19T14:00:00",
                    "2025-09-19T15:00:00",
                    "2025-09-19T16:00:00",
                    "2025-09-19T17:00:00",
                    "2025-09-19T18:00:00",
                    "2025-09-19T19:00:00",
                    "2025-09-19T20:00:00",
                    "2025-09-19T21:00:00",
                    "2025-09-19T22:00:00",
                    "2025-09-19T23:00:00",
                    "2025-09-20T00:00:00",
                    "2025-09-20T01:00:00",
                    "2025-09-20T02:00:00",
                    "2025-09-20T03:00:00",
                    "2025-09-20T04:00:00",
                    "2025-09-20T05:00:00",
                    "2025-09-20T06:00:00",
                    "2025-09-20T07:00:00",
                    "2025-09-20T08:00:00",
                    "2025-09-20T09:00:00",
                    "2025-09-20T10:00:00",
                    "2025-09-20T11:00:00",
                    "2025-09-20T12:00:00",
                    "2025-09-20T13:00:00",
                    "2025-09-20T14:00:00",
                    "2025-09-20T15:00:00",
                    "2025-09-20T16:00:00",
                    "2025-09-20T17:00:00",
                    "2025-09-20T18:00:00",
                    "2025-09-20T19:00:00",
                    "2025-09-20T20:00:00",
                    "2025-09-20T21:00:00",
                    "2025-09-20T22:00:00",
                    "2025-09-20T23:00:00",
                    "2025-09-21T00:00:00",
                    "2025-09-21T01:00:00",
                    "2025-09-21T02:00:00",
                    "2025-09-21T03:00:00",
                    "2025-09-21T04:00:00",
                    "2025-09-21T05:00:00",
                    "2025-09-21T06:00:00",
                    "2025-09-21T07:00:00",
                    "2025-09-21T08:00:00",
                    "2025-09-21T09:00:00",
                    "2025-09-21T10:00:00",
                    "2025-09-21T11:00:00",
                    "2025-09-21T12:00:00",
                    "2025-09-21T13:00:00",
                    "2025-09-21T14:00:00",
                    "2025-09-21T15:00:00",
                    "2025-09-21T16:00:00",
                    "2025-09-21T17:00:00",
                    "2025-09-21T18:00:00"
                  ],
                  "xaxis": "x",
                  "y": {
                    "bdata": "AAAAgLD/cUAAAADgfvRxQAAAAODK63FAAAAAAFXjcUAAAAAAc99xQAAAACA+33FAAAAAIOnScUAAAACAMclxQAAAAKB0x3FAAAAAQLDFcUAAAAAAZL9xQAAAACBPuHFAAAAAQGO2cUAAAACgK9FxQAAAAIAS9nFAAAAAwCkVckAAAACAGydyQAAAAGDJNnJAAAAAgMVDckAAAABAkkxyQAAAAGBtUHJAAAAAADRPckAAAAAgYEtyQAAAAKBfP3JAAAAAIOc0ckAAAAAAQityQAAAAAC3H3JAAAAAoLIMckAAAACgK/txQAAAAKC97HFAAAAAANbhcUAAAAAgH9ZxQAAAAOBJy3FAAAAAYPXCcUAAAAAAIr1xQAAAAMDdsnFAAAAAIKm0cUAAAACAJNBxQAAAAKCG/nFAAAAAwI4pckAAAABggVJyQAAAAACQc3JAAAAAIF2GckAAAAAA+5VyQAAAAGABm3JAAAAAQPWYckAAAAAA3ZByQAAAAKBBfnJAAAAAgOlXckAAAACgmzVyQAAAAOAUHnJAAAAAoHEOckAAAADAW/xxQAAAAKDe8XFAAAAAIMvhcUAAAABARNZxQAAAAECwx3FAAAAAgIbAcUAAAAAAV7hxQAAAAGCzsXFAAAAA4NOxcUAAAACAO8dxQAAAAIDz+XFAAAAAAJ4vckAAAABgGGJyQAAAAOCOfnJAAAAAAG2UckAAAABgialyQAAAAMBKtnJAAAAAgMK5ckAAAACgwLJyQAAAAMBTlnJAAAAAoBxyckAAAAAA80tyQAAAAOD9MXJAAAAAwPAkckAAAACAuiJyQAAAAIAjEXJAAAAAAFwNckAAAADgbQVyQAAAAOCW+XFAAAAAgK7scUAAAADga+hxQAAAAMAs6nFAAAAAoHrqcUAAAAAATPRxQAAAAGB1GnJAAAAAwFdNckAAAADAZ39yQAAAACD3nXJAAAAAIGu0ckAAAADgXcNyQAAAAACkyHJAAAAAoGvMckAAAAAgW8RyQAAAAEDZr3JAAAAAwAqGckAAAABAvXByQAAAAODvXHJAAAAAINpcckAAAACAQUxyQAAAAIBqRHJAAAAA4KhDckAAAACA0EJyQAAAAKCiRXJAAAAAIElBckAAAABgZzJyQAAAACA3KHJAAAAAoDgmckAAAACgTStyQAAAAOD7VHJAAAAAwFB5ckAAAADAapFyQAAAAICFqHJAAAAAwJO7ckAAAAAABshyQAAAACBtznJAAAAAoL7OckAAAAAALMhyQAAAAAB7r3JAAAAAYEyOckA=",
                    "dtype": "f8"
                  },
                  "yaxis": "y"
                },
                {
                  "legendgroup": "CH2",
                  "line": {
                    "color": "grey"
                  },
                  "name": "ICON-CH2-EPS (mean)",
                  "showlegend": true,
                  "type": "scatter",
                  "x": [
                    "2025-09-16T18:00:00",
                    "2025-09-16T19:00:00",
                    "2025-09-16T20:00:00",
                    "2025-09-16T21:00:00",
                    "2025-09-16T22:00:00",
                    "2025-09-16T23:00:00",
                    "2025-09-17T00:00:00",
                    "2025-09-17T01:00:00",
                    "2025-09-17T02:00:00",
                    "2025-09-17T03:00:00",
                    "2025-09-17T04:00:00",
                    "2025-09-17T05:00:00",
                    "2025-09-17T06:00:00",
                    "2025-09-17T07:00:00",
                    "2025-09-17T08:00:00",
                    "2025-09-17T09:00:00",
                    "2025-09-17T10:00:00",
                    "2025-09-17T11:00:00",
                    "2025-09-17T12:00:00",
                    "2025-09-17T13:00:00",
                    "2025-09-17T14:00:00",
                    "2025-09-17T15:00:00",
                    "2025-09-17T16:00:00",
                    "2025-09-17T17:00:00",
                    "2025-09-17T18:00:00",
                    "2025-09-17T19:00:00",
                    "2025-09-17T20:00:00",
                    "2025-09-17T21:00:00",
                    "2025-09-17T22:00:00",
                    "2025-09-17T23:00:00",
                    "2025-09-18T00:00:00",
                    "2025-09-18T01:00:00",
                    "2025-09-18T02:00:00",
                    "2025-09-18T03:00:00",
                    "2025-09-18T04:00:00",
                    "2025-09-18T05:00:00",
                    "2025-09-18T06:00:00",
                    "2025-09-18T07:00:00",
                    "2025-09-18T08:00:00",
                    "2025-09-18T09:00:00",
                    "2025-09-18T10:00:00",
                    "2025-09-18T11:00:00",
                    "2025-09-18T12:00:00",
                    "2025-09-18T13:00:00",
                    "2025-09-18T14:00:00",
                    "2025-09-18T15:00:00",
                    "2025-09-18T16:00:00",
                    "2025-09-18T17:00:00",
                    "2025-09-18T18:00:00",
                    "2025-09-18T19:00:00",
                    "2025-09-18T20:00:00",
                    "2025-09-18T21:00:00",
                    "2025-09-18T22:00:00",
                    "2025-09-18T23:00:00",
                    "2025-09-19T00:00:00",
                    "2025-09-19T01:00:00",
                    "2025-09-19T02:00:00",
                    "2025-09-19T03:00:00",
                    "2025-09-19T04:00:00",
                    "2025-09-19T05:00:00",
                    "2025-09-19T06:00:00",
                    "2025-09-19T07:00:00",
                    "2025-09-19T08:00:00",
                    "2025-09-19T09:00:00",
                    "2025-09-19T10:00:00",
                    "2025-09-19T11:00:00",
                    "2025-09-19T12:00:00",
                    "2025-09-19T13:00:00",
                    "2025-09-19T14:00:00",
                    "2025-09-19T15:00:00",
                    "2025-09-19T16:00:00",
                    "2025-09-19T17:00:00",
                    "2025-09-19T18:00:00",
                    "2025-09-19T19:00:00",
                    "2025-09-19T20:00:00",
                    "2025-09-19T21:00:00",
                    "2025-09-19T22:00:00",
                    "2025-09-19T23:00:00",
                    "2025-09-20T00:00:00",
                    "2025-09-20T01:00:00",
                    "2025-09-20T02:00:00",
                    "2025-09-20T03:00:00",
                    "2025-09-20T04:00:00",
                    "2025-09-20T05:00:00",
                    "2025-09-20T06:00:00",
                    "2025-09-20T07:00:00",
                    "2025-09-20T08:00:00",
                    "2025-09-20T09:00:00",
                    "2025-09-20T10:00:00",
                    "2025-09-20T11:00:00",
                    "2025-09-20T12:00:00",
                    "2025-09-20T13:00:00",
                    "2025-09-20T14:00:00",
                    "2025-09-20T15:00:00",
                    "2025-09-20T16:00:00",
                    "2025-09-20T17:00:00",
                    "2025-09-20T18:00:00",
                    "2025-09-20T19:00:00",
                    "2025-09-20T20:00:00",
                    "2025-09-20T21:00:00",
                    "2025-09-20T22:00:00",
                    "2025-09-20T23:00:00",
                    "2025-09-21T00:00:00",
                    "2025-09-21T01:00:00",
                    "2025-09-21T02:00:00",
                    "2025-09-21T03:00:00",
                    "2025-09-21T04:00:00",
                    "2025-09-21T05:00:00",
                    "2025-09-21T06:00:00",
                    "2025-09-21T07:00:00",
                    "2025-09-21T08:00:00",
                    "2025-09-21T09:00:00",
                    "2025-09-21T10:00:00",
                    "2025-09-21T11:00:00",
                    "2025-09-21T12:00:00",
                    "2025-09-21T13:00:00",
                    "2025-09-21T14:00:00",
                    "2025-09-21T15:00:00",
                    "2025-09-21T16:00:00",
                    "2025-09-21T17:00:00",
                    "2025-09-21T18:00:00"
                  ],
                  "y": {
                    "bdata": "AAAAMH74cUDNzMxkOepxQJqZmVET33FAmpmZUeLWcUDNzMx0rNFxQAAAAMD5yXFAZmZmjrO7cUCamZnR8LRxQM3MzMz9sHFAAAAAyHCrcUAzMzMz76RxQGZmZr4XoHFAzczM/IqjcUDNzMwMxb5xQJqZmXmX6HFAmpmZUZYLckAAAABIJCFyQM3MzNwlMXJAmpmZcaA9ckDNzMzElkZyQAAAAFiCSnJAZmZm9ktJckBmZmbm/0RyQM3MzGynN3JAAAAA2GUgckCamZlRaQpyQGZmZuYY+nFAZmZm7qDncUBmZmY2RN5xQAAAAFil1nFAMzMzu2HRcUBmZmaucMxxQDMzM+N3wXFAMzMzQze5cUBmZma2qq9xQM3MzFxEpXFAMzMzq/efcUCamZlpsrtxQDMzM7sU73FAzczM1K4hckCamZlxmUlyQJqZmenvaXJAAAAAWBOAckAzMzObhY9yQM3MzNSblXJAAAAAONaTckAAAAAAyoVyQDMzMwPkaXJAZmZmBiZJckAzMzNjFCJyQM3MzPz3DnJAzczM1GH/cUDNzMyM1O5xQAAAAEh44nFAmpmZucTUcUBmZmZ+vclxQDMzMyvyu3FAzczMHM+wcUCamZlhjqxxQAAAANA5p3FAZmZmDjOkcUCamZlJssBxQDMzMyO+8nFAAAAA2FAnckBmZmZOLlZyQAAAAEgzdnJAzczMnJuNckCamZkhKJ5yQGZmZq4sqHJAzczMjDeqckDNzMyMf6NyQAAAAEAbi3JAzczM3M5ickBmZmbWrz1yQGZmZrawJXJAZmZmFkUYckAAAADwOw9yQM3MzHQhBHJAAAAACMP6cUCamZlxnPFxQJqZmTnZ6HFAzczMHGDhcUCamZlBf91xQJqZmeG13XFAMzMz26zecUDNzMwMgudxQM3MzLw6/HFAzczMfD4mckCamZnpBWFyQAAAAMj0i3JAzczMZIqnckDNzMz0N7hyQJqZmelqwXJAmpmZUYfDckDNzMz0eLlyQDMzMzvPnXJAzczM1CNyckAAAAAoeFRyQJqZmbH9QXJAzczM1KQ1ckBmZmamDCtyQM3MzLSNIXJAMzMzU4UXckCamZmZsQ5yQAAAAAB2B3JAAAAAAJICckAAAABQefxxQM3MzOTa83FAzczM5F/ycUBmZmYGYgFyQAAAADiII3JAMzMzO45QckBmZmbmg3FyQAAAABDmg3JAzczMfKOPckCamZmhypZyQJqZmRGDmHJAmpmZ6aCTckBmZmZ+nYdyQM3MzOzXaXJAZmZmDvZEckA=",
                    "dtype": "f8"
                  }
                },
                {
                  "fillcolor": "#B1B6FC",
                  "hoverinfo": "skip",
                  "legendgroup": "IFS",
                  "line": {
                    "color": "#27aeef"
                  },
                  "lowerfence": {
                    "bdata": "AAAAAKrccUAAAAAAC9txQAAAAGBM1XFAAAAA8O3TcUAAAACwdM1xQAAAABAXyXFAAAAAQCzEcUAAAAAQ/7txQAAAAPCYs3FAAAAAkFuscUAAAADQxKZxQAAAANA+nXFAAAAA4CWfcUAAAABgqc5xQAAAAGDX5nFAAAAAoM/6cUAAAAAgAQpyQAAAADBhGnJAAAAAoKsmckAAAACwpS5yQAAAAKA2MHJAAAAA4NUxckAAAABg2SlyQAAAAPDbFHJAAAAA8NX7cUAAAABAbfJxQAAAALDs5HFAAAAAEG/ccUAAAABQBNBxQAAAAKCcynFAAAAAUE3CcUAAAACAirFxQAAAAPChqnFAAAAA8JercUAAAAAQaqhxQAAAABAWp3FAAAAA4L+wcUAAAACwyMhxQAAAAMAt83FAAAAAgMkeckAAAADgsD9yQAAAAEC7WnJAAAAA8OJuckAAAAAQ9HpyQAAAACCbgHJAAAAA4Op9ckAAAAAg23FyQAAAAEBZSnJAAAAAYH4lckAAAABQhQ5yQAAAAPDTAHJAAAAA0Nv1cUAAAADQPeBxQAAAAIDg0HFAAAAA4LPGcUAAAAAQer5xQAAAAPAGtHFAAAAA0JapcUAAAABQH6VxQAAAAKCOp3FAAAAAwDytcUAAAACgS85xQAAAAABk9HFAAAAAoD0cckAAAABAu0FyQAAAAHC3WnJAAAAAUGFsckAAAADwAHxyQAAAALDth3JAAAAA8BqJckAAAACQt31yQAAAANAPVnJAAAAAcP0yckAAAAAwhCZyQAAAACDsGnJAAAAAwBgLckAAAAAg+vtxQAAAANCi9HFAAAAAMNnrcUAAAADA7OtxQAAAANCh5nFAAAAAEDvocUAAAABQZeJxQAAAAPA73nFAAAAAAEjmcUAAAACAbQByQAAAAGD5GHJAAAAA0JE2ckAAAACQXF9yQAAAAFBHgXJAAAAAYKGYckAAAABQOaRyQAAAAFD4QXJAAAAAoJMgckAAAADwgBByQAAAAIDhBnJAAAAAQErvcUAAAACwPdRxQAAAAEChzXFAAAAAcKOvcUAAAAAQH7VxQAAAAHAdr3FAAAAA8O+dcUAAAADQxpxxQAAAACDQmXFAAAAAYEuacUAAAAAwDIVxQAAAAKD2cnFAAAAAwHtxcUA=",
                    "dtype": "f8"
                  },
                  "median": {
                    "bdata": "AAAAUH3scUAAAABQj+dxQAAAAOCb5HFAAAAA8C7hcUAAAADIft1xQAAAANih13FAAAAAkD3ScUAAAAAoa8pxQAAAABiJxnFAAAAAIMW/cUAAAAAQ7LtxQAAAAEDBunFAAAAA4PHCcUAAAAAIweBxQAAAAJgJ+XFAAAAACDMKckAAAAAgExtyQAAAAMiiJ3JAAAAAiMsxckAAAAB48ThyQAAAAJBGPXJAAAAAWLc8ckAAAABY7DdyQAAAALAIJnJAAAAAoHEOckAAAAAI3wFyQAAAAGDt+HFAAAAA+MXucUAAAADojudxQAAAADC84nFAAAAAmKrdcUAAAAAISNdxQAAAANCEz3FAAAAACNnJcUAAAACoi8NxQAAAANB5vnFAAAAACOXHcUAAAAD4zuNxQAAAAFgdB3JAAAAAuEstckAAAACofE1yQAAAADB+Z3JAAAAAMGd6ckAAAABYe4VyQAAAAJhdiXJAAAAAcKiGckAAAACQZXxyQAAAAKj7WHJAAAAAGHw6ckAAAACAFCxyQAAAAOC+HnJAAAAAuGwTckAAAADAhAdyQAAAAHjM+HFAAAAAkPLvcUAAAABYbOVxQAAAALDz1nFAAAAAYF7McUAAAAAYyMRxQAAAAMBtwHFAAAAAuF3IcUAAAAAgeelxQAAAAAiREHJAAAAAwCo1ckAAAACoYVVyQAAAAIAAb3JAAAAAIJCAckAAAACAQIxyQAAAAOialHJAAAAAgLKTckAAAADImIlyQAAAAEgdaXJAAAAAmLtIckAAAADgtjhyQAAAAEAfLXJAAAAA+GAeckAAAAAIZhJyQAAAAEjmC3JAAAAAmBsHckAAAAAQ7f5xQAAAADjn/HFAAAAA6G/6cUAAAACg7fZxQAAAAEiw83FAAAAAyHX7cUAAAADQghNyQAAAAMhIMHJAAAAAmBBWckAAAAB41HlyQAAAAGBWlHJAAAAAcCCmckAAAABQ7bJyQAAAAEBqanJAAAAAeHRCckAAAADw9TByQAAAALDxJHJAAAAAqMQgckAAAADI12ByQAAAAMAniHJAAAAA0KNqckAAAACYBityQAAAAIhtE3JAAAAAWMv0cUAAAADI8ONxQAAAALDE3nFAAAAA8BTfcUAAAADQNulxQAAAACBs7HFAAAAAYGbScUA=",
                    "dtype": "f8"
                  },
                  "q1": {
                    "bdata": "ZmZmRrXjcUDNzMxkJt9xQGZmZsas2nFAZmZm9ujYcUCamZn5UNVxQJqZmQG1znFAzczMfLnIcUAzMzOTAsFxQM3MzLR4u3FAMzMzI2u4cUAAAAAQdK9xQM3MzIx5q3FAZmZmLsO2cUAAAAAIu9ZxQJqZmQme8XFAMzMzG/QBckAzMzMzDhFyQAAAALCtIHJAAAAA6JkrckDNzMyE7DNyQM3MzKy1N3JAZmZmzjk2ckBmZmaOPDFyQGZmZvZNHnJAZmZmxhcHckBmZmZOOvlxQM3MzPRK7nFAZmZm/sblcUAzMzPrK91xQM3MzCTq1XFAMzMz20/McUCamZmxR8NxQJqZmRndvHFAZmZmDtK4cUAAAAC4EbZxQGZmZn4/tHFAzczMBGu5cUAzMzMDw9VxQDMzM+Nn/HFAmpmZGeslckDNzMwsKUZyQM3MzOzYX3JAmpmZ0cxzckBmZmbOXn5yQAAAADgkg3JAZmZm9qKAckDNzMw833NyQGZmZubhTXJAmpmZUZIvckDNzMz8Uh5yQJqZmYmeE3JAMzMzuzMEckAAAADwSvFxQJqZmZnD43FAmpmZQZrScUAAAABg68dxQJqZmcmZv3FAAAAAAAy6cUCamZm5W7RxQDMzM1vJsXFAmpmZ8VK5cUBmZmamq9xxQJqZmemmBHJAAAAA4IYpckDNzMyMukVyQM3MzKx8X3JAzczMhNJ0ckAzMzObKYNyQGZmZvaLjHJAAAAAmGONckCamZm5loNyQM3MzDSxYnJAMzMz+xVAckCamZlpMTJyQDMzM5swI3JAmpmZOdUSckAzMzPLsAVyQJqZmZmaA3JAMzMzG8/6cUBmZmYGV/RxQAAAADDT8XFAAAAAKIPtcUCamZmBfuxxQDMzM8NC6HFAzczM/JLwcUAAAABAfwZyQM3MzBxeIXJAzczMBLBHckAzMzNDkmxyQM3MzHyvinJAmpmZGU6dckAAAACQmqpyQGZmZk50WnJAZmZmJg0zckAAAABQ2SFyQAAAADByDXJAZmZmfhANckBmZmb+thpyQAAAAPDA8nFAmpmZieHhcUDNzMwcVs9xQJqZmUmuyHFAAAAAkDq8cUAAAAAoE7pxQDMzMzshrXFAAAAAuGutcUBmZmbmrqlxQAAAAAC4onFAAAAAEM6McUA=",
                    "dtype": "f8"
                  },
                  "q3": {
                    "bdata": "mpmZ4UP2cUDNzMwk0e5xQDMzM/No7HFAMzMzm6jpcUAzMzPjoeZxQJqZmdEm4HFAzczMRIfbcUCamZl5zNRxQDMzMxN+0HFAMzMzQ/XScUCamZm51M5xQAAAAGBFzHFAzczMzPrTcUAAAACANepxQJqZmaF4AXJAmpmZwcoPckBmZmY+ECByQDMzMwPOLHJAzczMRFA3ckDNzMwMcEJyQM3MzHQLRXJAZmZmTo9EckAzMzOrhz1yQAAAAOhqLHJAZmZmZuoXckDNzMz0ewxyQJqZmYkgAXJAAAAAqK72cUAzMzP7Re9xQJqZmbmI63FAmpmZCZ/ncUAAAACAAONxQJqZmakF3XFAmpmZ6RDZcUAAAAAYBdRxQM3MzLzpznFAzczM1MbVcUCamZmxMvFxQDMzM8PlFXJAzczMtGk4ckAzMzPTqVZyQJqZmVHNbnJAzczM1KOAckAAAACQU4pyQM3MzPxbj3JAMzMzW+GMckAAAAA4sINyQAAAAFjkY3JAmpmZmXZEckCamZnZVDJyQM3MzMSgJnJAAAAAIIMdckDNzMzEnBJyQGZmZi7BCXJAzczMNCP8cUAAAACoXfFxQAAAAOCB5XFAAAAA0BbacUAzMzMb4tFxQDMzM+MPz3FAmpmZ8aTZcUDNzMzMrvZxQAAAAGDDGnJAAAAAyGZCckAzMzPzRWByQJqZmemBeXJAzczMjIePckDNzMxUkJ5yQM3MzIxQo3JAZmZm/pCgckAzMzPzI5VyQJqZmdHZcXJAMzMzw5NSckBmZma+SkJyQGZmZi7oNHJAzczM5AInckBmZmbGchtyQGZmZp4cFHJAAAAAuLoOckDNzMxs0AhyQDMzM+MZBnJAAAAACOUFckAzMzMLxQNyQAAAAMgtAnJAMzMzC7oMckAAAABg+ydyQDMzMwstQXJAZmZmrkdjckCamZnxiYRyQM3MzDRdnHJAAAAA2KiuckDNzMycj7lyQAAAAIArdHJAmpmZwehOckAzMzN7/UdyQGZmZgY0OnJAMzMzq50yckAzMzM7xHByQM3MzDyfpXJAmpmZia6pckCamZnh2mVyQGZmZm4IQXJAAAAA0EspckAAAACYMhVyQGZmZpZ8EnJAMzMzSxVWckDNzMxsa3RyQAAAABAtZnJAmpmZ8Wc2ckA=",
                    "dtype": "f8"
                  },
                  "showlegend": false,
                  "type": "box",
                  "upperfence": {
                    "bdata": "AAAAYCoEckAAAABADfZxQAAAADDH8HFAAAAA8DHucUAAAADgYupxQAAAANDq5XFAAAAAcC7kcUAAAAAgst9xQAAAAIAW23FAAAAAcJ/dcUAAAABwitpxQAAAAFCX13FAAAAAoNXYcUAAAACQOfBxQAAAAKAfBXJAAAAAQDITckAAAABwESVyQAAAAADpNXJAAAAAsL1SckAAAAAg8XpyQAAAAEAXV3JAAAAAAM1LckAAAACQJkJyQAAAALC0NHJAAAAAgFsfckAAAADAIxVyQAAAAFB2DnJAAAAAwOUQckAAAABAjxJyQAAAADAmBnJAAAAAoLv3cUAAAACwsu1xQAAAACBm6XFAAAAAAGTlcUAAAADgqd9xQAAAAMAP23FAAAAAgKHkcUAAAADQJfxxQAAAALALH3JAAAAAQEZDckAAAACgAl5yQAAAAJAVcXJAAAAAkEWBckAAAADwoI1yQAAAADDpknJAAAAAwLqPckAAAABg44hyQAAAAMAWaXJAAAAAQH1IckAAAADgpTZyQAAAAHDxKnJAAAAA0DYhckAAAACQWxdyQAAAAGCcD3JAAAAAQCwFckAAAACAOwJyQAAAAKBG/nFAAAAA4Cn1cUAAAACgbOZxQAAAAHDs1nFAAAAA0O3jcUAAAAAgTQRyQAAAAPBiKHJAAAAA4J9JckAAAAAwz2hyQAAAAGBkg3JAAAAAoAKZckAAAACgw6ZyQAAAABBJq3JAAAAA4LGockAAAACghqByQAAAANA6eXJAAAAAUPVackAAAACA/0hyQAAAALB4PnJAAAAAgEcwckAAAADAgypyQAAAAHBjHnJAAAAAED0XckAAAABgXBJyQAAAAKCYC3JAAAAAsMQMckAAAAAgfApyQAAAAECeC3JAAAAA8KQXckAAAAAgGTFyQAAAAEB4TXJAAAAAkB1wckAAAACQSYtyQAAAADCLo3JAAAAA8OCyckAAAADwbr5yQAAAABDEe3JAAAAA4JJdckAAAAAQJ1JyQAAAABBGSHJAAAAAoEU6ckAAAADQnnNyQAAAAGDtr3JAAAAAoH63ckAAAADQ+m5yQAAAAOC6TXJAAAAAwN4/ckAAAADwTyxyQAAAAACTN3JAAAAAwOR7ckAAAABAT6RyQAAAAMAHonJAAAAAAABvckA=",
                    "dtype": "f8"
                  },
                  "width": 1080000,
                  "x": [
                    "2025-09-16T18:00:00",
                    "2025-09-16T19:00:00",
                    "2025-09-16T20:00:00",
                    "2025-09-16T21:00:00",
                    "2025-09-16T22:00:00",
                    "2025-09-16T23:00:00",
                    "2025-09-17T00:00:00",
                    "2025-09-17T01:00:00",
                    "2025-09-17T02:00:00",
                    "2025-09-17T03:00:00",
                    "2025-09-17T04:00:00",
                    "2025-09-17T05:00:00",
                    "2025-09-17T06:00:00",
                    "2025-09-17T07:00:00",
                    "2025-09-17T08:00:00",
                    "2025-09-17T09:00:00",
                    "2025-09-17T10:00:00",
                    "2025-09-17T11:00:00",
                    "2025-09-17T12:00:00",
                    "2025-09-17T13:00:00",
                    "2025-09-17T14:00:00",
                    "2025-09-17T15:00:00",
                    "2025-09-17T16:00:00",
                    "2025-09-17T17:00:00",
                    "2025-09-17T18:00:00",
                    "2025-09-17T19:00:00",
                    "2025-09-17T20:00:00",
                    "2025-09-17T21:00:00",
                    "2025-09-17T22:00:00",
                    "2025-09-17T23:00:00",
                    "2025-09-18T00:00:00",
                    "2025-09-18T01:00:00",
                    "2025-09-18T02:00:00",
                    "2025-09-18T03:00:00",
                    "2025-09-18T04:00:00",
                    "2025-09-18T05:00:00",
                    "2025-09-18T06:00:00",
                    "2025-09-18T07:00:00",
                    "2025-09-18T08:00:00",
                    "2025-09-18T09:00:00",
                    "2025-09-18T10:00:00",
                    "2025-09-18T11:00:00",
                    "2025-09-18T12:00:00",
                    "2025-09-18T13:00:00",
                    "2025-09-18T14:00:00",
                    "2025-09-18T15:00:00",
                    "2025-09-18T16:00:00",
                    "2025-09-18T17:00:00",
                    "2025-09-18T18:00:00",
                    "2025-09-18T19:00:00",
                    "2025-09-18T20:00:00",
                    "2025-09-18T21:00:00",
                    "2025-09-18T22:00:00",
                    "2025-09-18T23:00:00",
                    "2025-09-19T00:00:00",
                    "2025-09-19T01:00:00",
                    "2025-09-19T02:00:00",
                    "2025-09-19T03:00:00",
                    "2025-09-19T04:00:00",
                    "2025-09-19T05:00:00",
                    "2025-09-19T06:00:00",
                    "2025-09-19T07:00:00",
                    "2025-09-19T08:00:00",
                    "2025-09-19T09:00:00",
                    "2025-09-19T10:00:00",
                    "2025-09-19T11:00:00",
                    "2025-09-19T12:00:00",
                    "2025-09-19T13:00:00",
                    "2025-09-19T14:00:00",
                    "2025-09-19T15:00:00",
                    "2025-09-19T16:00:00",
                    "2025-09-19T17:00:00",
                    "2025-09-19T18:00:00",
                    "2025-09-19T19:00:00",
                    "2025-09-19T20:00:00",
                    "2025-09-19T21:00:00",
                    "2025-09-19T22:00:00",
                    "2025-09-19T23:00:00",
                    "2025-09-20T00:00:00",
                    "2025-09-20T01:00:00",
                    "2025-09-20T02:00:00",
                    "2025-09-20T03:00:00",
                    "2025-09-20T04:00:00",
                    "2025-09-20T05:00:00",
                    "2025-09-20T06:00:00",
                    "2025-09-20T07:00:00",
                    "2025-09-20T08:00:00",
                    "2025-09-20T09:00:00",
                    "2025-09-20T10:00:00",
                    "2025-09-20T11:00:00",
                    "2025-09-20T12:00:00",
                    "2025-09-20T15:00:00",
                    "2025-09-20T18:00:00",
                    "2025-09-20T21:00:00",
                    "2025-09-21T00:00:00",
                    "2025-09-21T03:00:00",
                    "2025-09-21T06:00:00",
                    "2025-09-21T09:00:00",
                    "2025-09-21T12:00:00",
                    "2025-09-21T15:00:00",
                    "2025-09-21T18:00:00",
                    "2025-09-21T21:00:00",
                    "2025-09-22T00:00:00",
                    "2025-09-22T03:00:00",
                    "2025-09-22T06:00:00",
                    "2025-09-22T09:00:00",
                    "2025-09-22T12:00:00",
                    "2025-09-22T15:00:00",
                    "2025-09-22T18:00:00"
                  ],
                  "xaxis": "x",
                  "yaxis": "y"
                },
                {
                  "fillcolor": "#B1B6FC",
                  "hoverinfo": "skip",
                  "legendgroup": "IFS",
                  "line": {
                    "color": "#27aeef"
                  },
                  "lowerfence": {
                    "bdata": "AAAAAKrccUAAAAAAC9txQAAAAGBM1XFAAAAA8O3TcUAAAACwdM1xQAAAABAXyXFAAAAAQCzEcUAAAAAQ/7txQAAAAPCYs3FAAAAAkFuscUAAAADQxKZxQAAAANA+nXFAAAAA4CWfcUAAAABgqc5xQAAAAGDX5nFAAAAAoM/6cUAAAAAgAQpyQAAAADBhGnJAAAAAoKsmckAAAACwpS5yQAAAAKA2MHJAAAAA4NUxckAAAABg2SlyQAAAAPDbFHJAAAAA8NX7cUAAAABAbfJxQAAAALDs5HFAAAAAEG/ccUAAAABQBNBxQAAAAKCcynFAAAAAUE3CcUAAAACAirFxQAAAAPChqnFAAAAA8JercUAAAAAQaqhxQAAAABAWp3FAAAAA4L+wcUAAAACwyMhxQAAAAMAt83FAAAAAgMkeckAAAADgsD9yQAAAAEC7WnJAAAAA8OJuckAAAAAQ9HpyQAAAACCbgHJAAAAA4Op9ckAAAAAg23FyQAAAAEBZSnJAAAAAYH4lckAAAABQhQ5yQAAAAPDTAHJAAAAA0Nv1cUAAAADQPeBxQAAAAIDg0HFAAAAA4LPGcUAAAAAQer5xQAAAAPAGtHFAAAAA0JapcUAAAABQH6VxQAAAAKCOp3FAAAAAwDytcUAAAACgS85xQAAAAABk9HFAAAAAoD0cckAAAABAu0FyQAAAAHC3WnJAAAAAUGFsckAAAADwAHxyQAAAALDth3JAAAAA8BqJckAAAACQt31yQAAAANAPVnJAAAAAcP0yckAAAAAwhCZyQAAAACDsGnJAAAAAwBgLckAAAAAg+vtxQAAAANCi9HFAAAAAMNnrcUAAAADA7OtxQAAAANCh5nFAAAAAEDvocUAAAABQZeJxQAAAAPA73nFAAAAAAEjmcUAAAACAbQByQAAAAGD5GHJAAAAA0JE2ckAAAACQXF9yQAAAAFBHgXJAAAAAYKGYckAAAABQOaRyQAAAAFD4QXJAAAAAoJMgckAAAADwgBByQAAAAIDhBnJAAAAAQErvcUAAAACwPdRxQAAAAEChzXFAAAAAcKOvcUAAAAAQH7VxQAAAAHAdr3FAAAAA8O+dcUAAAADQxpxxQAAAACDQmXFAAAAAYEuacUAAAAAwDIVxQAAAAKD2cnFAAAAAwHtxcUA=",
                    "dtype": "f8"
                  },
                  "median": {
                    "bdata": "AAAAUH3scUAAAABQj+dxQAAAAOCb5HFAAAAA8C7hcUAAAADIft1xQAAAANih13FAAAAAkD3ScUAAAAAoa8pxQAAAABiJxnFAAAAAIMW/cUAAAAAQ7LtxQAAAAEDBunFAAAAA4PHCcUAAAAAIweBxQAAAAJgJ+XFAAAAACDMKckAAAAAgExtyQAAAAMiiJ3JAAAAAiMsxckAAAAB48ThyQAAAAJBGPXJAAAAAWLc8ckAAAABY7DdyQAAAALAIJnJAAAAAoHEOckAAAAAI3wFyQAAAAGDt+HFAAAAA+MXucUAAAADojudxQAAAADC84nFAAAAAmKrdcUAAAAAISNdxQAAAANCEz3FAAAAACNnJcUAAAACoi8NxQAAAANB5vnFAAAAACOXHcUAAAAD4zuNxQAAAAFgdB3JAAAAAuEstckAAAACofE1yQAAAADB+Z3JAAAAAMGd6ckAAAABYe4VyQAAAAJhdiXJAAAAAcKiGckAAAACQZXxyQAAAAKj7WHJAAAAAGHw6ckAAAACAFCxyQAAAAOC+HnJAAAAAuGwTckAAAADAhAdyQAAAAHjM+HFAAAAAkPLvcUAAAABYbOVxQAAAALDz1nFAAAAAYF7McUAAAAAYyMRxQAAAAMBtwHFAAAAAuF3IcUAAAAAgeelxQAAAAAiREHJAAAAAwCo1ckAAAACoYVVyQAAAAIAAb3JAAAAAIJCAckAAAACAQIxyQAAAAOialHJAAAAAgLKTckAAAADImIlyQAAAAEgdaXJAAAAAmLtIckAAAADgtjhyQAAAAEAfLXJAAAAA+GAeckAAAAAIZhJyQAAAAEjmC3JAAAAAmBsHckAAAAAQ7f5xQAAAADjn/HFAAAAA6G/6cUAAAACg7fZxQAAAAEiw83FAAAAAyHX7cUAAAADQghNyQAAAAMhIMHJAAAAAmBBWckAAAAB41HlyQAAAAGBWlHJAAAAAcCCmckAAAABQ7bJyQAAAAEBqanJAAAAAeHRCckAAAADw9TByQAAAALDxJHJAAAAAqMQgckAAAADI12ByQAAAAMAniHJAAAAA0KNqckAAAACYBityQAAAAIhtE3JAAAAAWMv0cUAAAADI8ONxQAAAALDE3nFAAAAA8BTfcUAAAADQNulxQAAAACBs7HFAAAAAYGbScUA=",
                    "dtype": "f8"
                  },
                  "q1": {
                    "bdata": "AAAAyDTmcUAAAADcUuNxQAAAANQf33FAAAAATOnccUAAAACsJ9lxQAAAAEwR03FAAAAASGXNcUAAAABonsVxQAAAAPCWvnFAAAAA0AG8cUAAAABgY7NxQAAAAADDsHFAAAAALAi7cUAAAADE9NtxQAAAAAiX9HFAAAAANIoGckAAAABoMBdyQAAAAKxqI3JAAAAAaOYtckAAAACcdTVyQAAAABjgOXJAAAAAKCk4ckAAAAAEJjRyQAAAAAzLIXJAAAAAOCEJckAAAAB0Pv5xQAAAAHgj9HFAAAAAaB/qcUAAAACo3+JxQAAAACxz3XFAAAAALILXcUAAAABcAs9xQAAAAMgiynFAAAAAVLfDcUAAAACcDb9xQAAAADCjuHFAAAAAyNO/cUAAAAAUSttxQAAAADTXAXJAAAAA0FEockAAAABwvUpyQAAAAKRQZHJAAAAAVOV1ckAAAACcwYFyQAAAABBehXJAAAAAyCuEckAAAADQFnlyQAAAAECkU3JAAAAA6BozckAAAABkaSNyQAAAAOj3FnJAAAAAZHsMckAAAAAwswByQAAAAHTC8XFAAAAA3NzjcUAAAABkQdlxQAAAADBSznFAAAAABLbDcUAAAADwq7txQAAAAGhgtnFAAAAA5JLBcUAAAACAiOFxQAAAAJC1B3JAAAAA7CIvckAAAACs2U5yQAAAAOiQaHJAAAAA5Hh7ckAAAACkL4lyQAAAAAhXkHJAAAAALBGRckAAAAB0PYdyQAAAAEgeZ3JAAAAAsAVDckAAAACUXzVyQAAAALDYKHJAAAAA/NcXckAAAACcnwtyQAAAALxfBnJAAAAA9NoAckAAAABUrflxQAAAAMRF9nFAAAAAqD70cUAAAACw1vBxQAAAAIyC7nFAAAAAwGr3cUAAAABI1gtyQAAAAKzsJnJAAAAA+C1NckAAAAAganJyQAAAAPinjXJAAAAArF2ickAAAABopK9yQAAAANzUYnJAAAAAEP44ckAAAAB8fyhyQAAAAHDZEnJAAAAANPATckAAAAC06UJyQAAAAABZNHJAAAAAjCMOckAAAADcdfBxQAAAANhD13FAAAAAmA3QcUAAAABcxshxQAAAAERYvXFAAAAAgJfFcUAAAACcnsRxQAAAACCiuXFAAAAAYMGqcUA=",
                    "dtype": "f8"
                  },
                  "q3": {
                    "bdata": "AAAAzCTxcUAAAADIduxxQAAAAEQU6XFAAAAAsBTncUAAAABMIOJxQAAAAKxJ23FAAAAAkGbXcUAAAACIhs9xQAAAAPCjynFAAAAATFLJcUAAAAD4VsZxQAAAAFxQxnFAAAAAREfNcUAAAAC0a+ZxQAAAABDf/HFAAAAA6J4NckAAAADMmh1yQAAAAIAEKnJAAAAAOPwzckAAAAA8ozxyQAAAACjLQHJAAAAAMBNAckAAAACU1jpyQAAAAOD8KHJAAAAAPPISckAAAAC0awhyQAAAAGBU/XFAAAAAjNfzcUAAAAB8C+txQAAAAMAI53FAAAAAJCjhcUAAAADEtttxQAAAADwx13FAAAAAiIDScUAAAAAYDstxQAAAALiDxXFAAAAAeETOcUAAAABQnOpxQAAAAHT0DnJAAAAA0Hk0ckAAAABEPVRyQAAAAPRsa3JAAAAAQLJ8ckAAAACsk4hyQAAAAAgLjXJAAAAAMDqKckAAAACEpn9yQAAAAEArYHJAAAAAzBpBckAAAAA4ti9yQAAAACiPI3JAAAAAEFcZckAAAACUSg1yQAAAAFA0AnJAAAAA7Cz3cUAAAADwsupxQAAAALwY33FAAAAAmOvUcUAAAABsqMpxQAAAAKCZxXFAAAAA9AbScUAAAABAXe9xQAAAALyCFnJAAAAA2L07ckAAAADEzFpyQAAAACyrc3JAAAAAuDmIckAAAACMOpRyQAAAAOyImXJAAAAAkLyYckAAAABs341yQAAAAKhAbHJAAAAAcNZNckAAAADIMT5yQAAAACSAMXJAAAAAzKsickAAAABATRdyQAAAAEzPD3JAAAAAlGsLckAAAABAwAZyQAAAANgeA3JAAAAA2EQBckAAAACQNP5xQAAAANhI+nFAAAAAFN0EckAAAABAbiByQAAAALwLPHJAAAAAKA1eckAAAADEloByQAAAACw9mnJAAAAALI2rckAAAADQgbdyQAAAAJA+bnJAAAAArFpIckAAAADYHTtyQAAAAFDwMHJAAAAAhKArckAAAAAAD2xyQAAAALQBnHJAAAAAKEafckAAAADAYkhyQAAAAJDjLXJAAAAAsNsVckAAAADo3QtyQAAAAJxRB3JAAAAAEMoNckAAAADgtyJyQAAAAJCfFnJAAAAAYIb5cUA=",
                    "dtype": "f8"
                  },
                  "showlegend": false,
                  "showwhiskers": false,
                  "type": "box",
                  "upperfence": {
                    "bdata": "AAAAYCoEckAAAABADfZxQAAAADDH8HFAAAAA8DHucUAAAADgYupxQAAAANDq5XFAAAAAcC7kcUAAAAAgst9xQAAAAIAW23FAAAAAcJ/dcUAAAABwitpxQAAAAFCX13FAAAAAoNXYcUAAAACQOfBxQAAAAKAfBXJAAAAAQDITckAAAABwESVyQAAAAADpNXJAAAAAsL1SckAAAAAg8XpyQAAAAEAXV3JAAAAAAM1LckAAAACQJkJyQAAAALC0NHJAAAAAgFsfckAAAADAIxVyQAAAAFB2DnJAAAAAwOUQckAAAABAjxJyQAAAADAmBnJAAAAAoLv3cUAAAACwsu1xQAAAACBm6XFAAAAAAGTlcUAAAADgqd9xQAAAAMAP23FAAAAAgKHkcUAAAADQJfxxQAAAALALH3JAAAAAQEZDckAAAACgAl5yQAAAAJAVcXJAAAAAkEWBckAAAADwoI1yQAAAADDpknJAAAAAwLqPckAAAABg44hyQAAAAMAWaXJAAAAAQH1IckAAAADgpTZyQAAAAHDxKnJAAAAA0DYhckAAAACQWxdyQAAAAGCcD3JAAAAAQCwFckAAAACAOwJyQAAAAKBG/nFAAAAA4Cn1cUAAAACgbOZxQAAAAHDs1nFAAAAA0O3jcUAAAAAgTQRyQAAAAPBiKHJAAAAA4J9JckAAAAAwz2hyQAAAAGBkg3JAAAAAoAKZckAAAACgw6ZyQAAAABBJq3JAAAAA4LGockAAAACghqByQAAAANA6eXJAAAAAUPVackAAAACA/0hyQAAAALB4PnJAAAAAgEcwckAAAADAgypyQAAAAHBjHnJAAAAAED0XckAAAABgXBJyQAAAAKCYC3JAAAAAsMQMckAAAAAgfApyQAAAAECeC3JAAAAA8KQXckAAAAAgGTFyQAAAAEB4TXJAAAAAkB1wckAAAACQSYtyQAAAADCLo3JAAAAA8OCyckAAAADwbr5yQAAAABDEe3JAAAAA4JJdckAAAAAQJ1JyQAAAABBGSHJAAAAAoEU6ckAAAADQnnNyQAAAAGDtr3JAAAAAoH63ckAAAADQ+m5yQAAAAOC6TXJAAAAAwN4/ckAAAADwTyxyQAAAAACTN3JAAAAAwOR7ckAAAABAT6RyQAAAAMAHonJAAAAAAABvckA=",
                    "dtype": "f8"
                  },
                  "width": 2160000,
                  "x": [
                    "2025-09-16T18:00:00",
                    "2025-09-16T19:00:00",
                    "2025-09-16T20:00:00",
                    "2025-09-16T21:00:00",
                    "2025-09-16T22:00:00",
                    "2025-09-16T23:00:00",
                    "2025-09-17T00:00:00",
                    "2025-09-17T01:00:00",
                    "2025-09-17T02:00:00",
                    "2025-09-17T03:00:00",
                    "2025-09-17T04:00:00",
                    "2025-09-17T05:00:00",
                    "2025-09-17T06:00:00",
                    "2025-09-17T07:00:00",
                    "2025-09-17T08:00:00",
                    "2025-09-17T09:00:00",
                    "2025-09-17T10:00:00",
                    "2025-09-17T11:00:00",
                    "2025-09-17T12:00:00",
                    "2025-09-17T13:00:00",
                    "2025-09-17T14:00:00",
                    "2025-09-17T15:00:00",
                    "2025-09-17T16:00:00",
                    "2025-09-17T17:00:00",
                    "2025-09-17T18:00:00",
                    "2025-09-17T19:00:00",
                    "2025-09-17T20:00:00",
                    "2025-09-17T21:00:00",
                    "2025-09-17T22:00:00",
                    "2025-09-17T23:00:00",
                    "2025-09-18T00:00:00",
                    "2025-09-18T01:00:00",
                    "2025-09-18T02:00:00",
                    "2025-09-18T03:00:00",
                    "2025-09-18T04:00:00",
                    "2025-09-18T05:00:00",
                    "2025-09-18T06:00:00",
                    "2025-09-18T07:00:00",
                    "2025-09-18T08:00:00",
                    "2025-09-18T09:00:00",
                    "2025-09-18T10:00:00",
                    "2025-09-18T11:00:00",
                    "2025-09-18T12:00:00",
                    "2025-09-18T13:00:00",
                    "2025-09-18T14:00:00",
                    "2025-09-18T15:00:00",
                    "2025-09-18T16:00:00",
                    "2025-09-18T17:00:00",
                    "2025-09-18T18:00:00",
                    "2025-09-18T19:00:00",
                    "2025-09-18T20:00:00",
                    "2025-09-18T21:00:00",
                    "2025-09-18T22:00:00",
                    "2025-09-18T23:00:00",
                    "2025-09-19T00:00:00",
                    "2025-09-19T01:00:00",
                    "2025-09-19T02:00:00",
                    "2025-09-19T03:00:00",
                    "2025-09-19T04:00:00",
                    "2025-09-19T05:00:00",
                    "2025-09-19T06:00:00",
                    "2025-09-19T07:00:00",
                    "2025-09-19T08:00:00",
                    "2025-09-19T09:00:00",
                    "2025-09-19T10:00:00",
                    "2025-09-19T11:00:00",
                    "2025-09-19T12:00:00",
                    "2025-09-19T13:00:00",
                    "2025-09-19T14:00:00",
                    "2025-09-19T15:00:00",
                    "2025-09-19T16:00:00",
                    "2025-09-19T17:00:00",
                    "2025-09-19T18:00:00",
                    "2025-09-19T19:00:00",
                    "2025-09-19T20:00:00",
                    "2025-09-19T21:00:00",
                    "2025-09-19T22:00:00",
                    "2025-09-19T23:00:00",
                    "2025-09-20T00:00:00",
                    "2025-09-20T01:00:00",
                    "2025-09-20T02:00:00",
                    "2025-09-20T03:00:00",
                    "2025-09-20T04:00:00",
                    "2025-09-20T05:00:00",
                    "2025-09-20T06:00:00",
                    "2025-09-20T07:00:00",
                    "2025-09-20T08:00:00",
                    "2025-09-20T09:00:00",
                    "2025-09-20T10:00:00",
                    "2025-09-20T11:00:00",
                    "2025-09-20T12:00:00",
                    "2025-09-20T15:00:00",
                    "2025-09-20T18:00:00",
                    "2025-09-20T21:00:00",
                    "2025-09-21T00:00:00",
                    "2025-09-21T03:00:00",
                    "2025-09-21T06:00:00",
                    "2025-09-21T09:00:00",
                    "2025-09-21T12:00:00",
                    "2025-09-21T15:00:00",
                    "2025-09-21T18:00:00",
                    "2025-09-21T21:00:00",
                    "2025-09-22T00:00:00",
                    "2025-09-22T03:00:00",
                    "2025-09-22T06:00:00",
                    "2025-09-22T09:00:00",
                    "2025-09-22T12:00:00",
                    "2025-09-22T15:00:00",
                    "2025-09-22T18:00:00"
                  ],
                  "xaxis": "x",
                  "yaxis": "y"
                },
                {
                  "hovertemplate": "%{y:.2f}<extra>P<sub>0%</sub></extra>",
                  "marker": {
                    "color": "#27aeef",
                    "size": 0.00001
                  },
                  "mode": "markers",
                  "type": "scatter",
                  "x": [
                    "2025-09-16T18:00:00",
                    "2025-09-16T19:00:00",
                    "2025-09-16T20:00:00",
                    "2025-09-16T21:00:00",
                    "2025-09-16T22:00:00",
                    "2025-09-16T23:00:00",
                    "2025-09-17T00:00:00",
                    "2025-09-17T01:00:00",
                    "2025-09-17T02:00:00",
                    "2025-09-17T03:00:00",
                    "2025-09-17T04:00:00",
                    "2025-09-17T05:00:00",
                    "2025-09-17T06:00:00",
                    "2025-09-17T07:00:00",
                    "2025-09-17T08:00:00",
                    "2025-09-17T09:00:00",
                    "2025-09-17T10:00:00",
                    "2025-09-17T11:00:00",
                    "2025-09-17T12:00:00",
                    "2025-09-17T13:00:00",
                    "2025-09-17T14:00:00",
                    "2025-09-17T15:00:00",
                    "2025-09-17T16:00:00",
                    "2025-09-17T17:00:00",
                    "2025-09-17T18:00:00",
                    "2025-09-17T19:00:00",
                    "2025-09-17T20:00:00",
                    "2025-09-17T21:00:00",
                    "2025-09-17T22:00:00",
                    "2025-09-17T23:00:00",
                    "2025-09-18T00:00:00",
                    "2025-09-18T01:00:00",
                    "2025-09-18T02:00:00",
                    "2025-09-18T03:00:00",
                    "2025-09-18T04:00:00",
                    "2025-09-18T05:00:00",
                    "2025-09-18T06:00:00",
                    "2025-09-18T07:00:00",
                    "2025-09-18T08:00:00",
                    "2025-09-18T09:00:00",
                    "2025-09-18T10:00:00",
                    "2025-09-18T11:00:00",
                    "2025-09-18T12:00:00",
                    "2025-09-18T13:00:00",
                    "2025-09-18T14:00:00",
                    "2025-09-18T15:00:00",
                    "2025-09-18T16:00:00",
                    "2025-09-18T17:00:00",
                    "2025-09-18T18:00:00",
                    "2025-09-18T19:00:00",
                    "2025-09-18T20:00:00",
                    "2025-09-18T21:00:00",
                    "2025-09-18T22:00:00",
                    "2025-09-18T23:00:00",
                    "2025-09-19T00:00:00",
                    "2025-09-19T01:00:00",
                    "2025-09-19T02:00:00",
                    "2025-09-19T03:00:00",
                    "2025-09-19T04:00:00",
                    "2025-09-19T05:00:00",
                    "2025-09-19T06:00:00",
                    "2025-09-19T07:00:00",
                    "2025-09-19T08:00:00",
                    "2025-09-19T09:00:00",
                    "2025-09-19T10:00:00",
                    "2025-09-19T11:00:00",
                    "2025-09-19T12:00:00",
                    "2025-09-19T13:00:00",
                    "2025-09-19T14:00:00",
                    "2025-09-19T15:00:00",
                    "2025-09-19T16:00:00",
                    "2025-09-19T17:00:00",
                    "2025-09-19T18:00:00",
                    "2025-09-19T19:00:00",
                    "2025-09-19T20:00:00",
                    "2025-09-19T21:00:00",
                    "2025-09-19T22:00:00",
                    "2025-09-19T23:00:00",
                    "2025-09-20T00:00:00",
                    "2025-09-20T01:00:00",
                    "2025-09-20T02:00:00",
                    "2025-09-20T03:00:00",
                    "2025-09-20T04:00:00",
                    "2025-09-20T05:00:00",
                    "2025-09-20T06:00:00",
                    "2025-09-20T07:00:00",
                    "2025-09-20T08:00:00",
                    "2025-09-20T09:00:00",
                    "2025-09-20T10:00:00",
                    "2025-09-20T11:00:00",
                    "2025-09-20T12:00:00",
                    "2025-09-20T15:00:00",
                    "2025-09-20T18:00:00",
                    "2025-09-20T21:00:00",
                    "2025-09-21T00:00:00",
                    "2025-09-21T03:00:00",
                    "2025-09-21T06:00:00",
                    "2025-09-21T09:00:00",
                    "2025-09-21T12:00:00",
                    "2025-09-21T15:00:00",
                    "2025-09-21T18:00:00",
                    "2025-09-21T21:00:00",
                    "2025-09-22T00:00:00",
                    "2025-09-22T03:00:00",
                    "2025-09-22T06:00:00",
                    "2025-09-22T09:00:00",
                    "2025-09-22T12:00:00",
                    "2025-09-22T15:00:00",
                    "2025-09-22T18:00:00"
                  ],
                  "xaxis": "x",
                  "y": {
                    "bdata": "AAAAAKrccUAAAAAAC9txQAAAAGBM1XFAAAAA8O3TcUAAAACwdM1xQAAAABAXyXFAAAAAQCzEcUAAAAAQ/7txQAAAAPCYs3FAAAAAkFuscUAAAADQxKZxQAAAANA+nXFAAAAA4CWfcUAAAABgqc5xQAAAAGDX5nFAAAAAoM/6cUAAAAAgAQpyQAAAADBhGnJAAAAAoKsmckAAAACwpS5yQAAAAKA2MHJAAAAA4NUxckAAAABg2SlyQAAAAPDbFHJAAAAA8NX7cUAAAABAbfJxQAAAALDs5HFAAAAAEG/ccUAAAABQBNBxQAAAAKCcynFAAAAAUE3CcUAAAACAirFxQAAAAPChqnFAAAAA8JercUAAAAAQaqhxQAAAABAWp3FAAAAA4L+wcUAAAACwyMhxQAAAAMAt83FAAAAAgMkeckAAAADgsD9yQAAAAEC7WnJAAAAA8OJuckAAAAAQ9HpyQAAAACCbgHJAAAAA4Op9ckAAAAAg23FyQAAAAEBZSnJAAAAAYH4lckAAAABQhQ5yQAAAAPDTAHJAAAAA0Nv1cUAAAADQPeBxQAAAAIDg0HFAAAAA4LPGcUAAAAAQer5xQAAAAPAGtHFAAAAA0JapcUAAAABQH6VxQAAAAKCOp3FAAAAAwDytcUAAAACgS85xQAAAAABk9HFAAAAAoD0cckAAAABAu0FyQAAAAHC3WnJAAAAAUGFsckAAAADwAHxyQAAAALDth3JAAAAA8BqJckAAAACQt31yQAAAANAPVnJAAAAAcP0yckAAAAAwhCZyQAAAACDsGnJAAAAAwBgLckAAAAAg+vtxQAAAANCi9HFAAAAAMNnrcUAAAADA7OtxQAAAANCh5nFAAAAAEDvocUAAAABQZeJxQAAAAPA73nFAAAAAAEjmcUAAAACAbQByQAAAAGD5GHJAAAAA0JE2ckAAAACQXF9yQAAAAFBHgXJAAAAAYKGYckAAAABQOaRyQAAAAFD4QXJAAAAAoJMgckAAAADwgBByQAAAAIDhBnJAAAAAQErvcUAAAACwPdRxQAAAAEChzXFAAAAAcKOvcUAAAAAQH7VxQAAAAHAdr3FAAAAA8O+dcUAAAADQxpxxQAAAACDQmXFAAAAAYEuacUAAAAAwDIVxQAAAAKD2cnFAAAAAwHtxcUA=",
                    "dtype": "f8"
                  },
                  "yaxis": "y"
                },
                {
                  "hovertemplate": "%{y:.2f}<extra>P<sub>10%</sub></extra>",
                  "marker": {
                    "color": "#27aeef",
                    "size": 0.00001
                  },
                  "mode": "markers",
                  "type": "scatter",
                  "x": [
                    "2025-09-16T18:00:00",
                    "2025-09-16T19:00:00",
                    "2025-09-16T20:00:00",
                    "2025-09-16T21:00:00",
                    "2025-09-16T22:00:00",
                    "2025-09-16T23:00:00",
                    "2025-09-17T00:00:00",
                    "2025-09-17T01:00:00",
                    "2025-09-17T02:00:00",
                    "2025-09-17T03:00:00",
                    "2025-09-17T04:00:00",
                    "2025-09-17T05:00:00",
                    "2025-09-17T06:00:00",
                    "2025-09-17T07:00:00",
                    "2025-09-17T08:00:00",
                    "2025-09-17T09:00:00",
                    "2025-09-17T10:00:00",
                    "2025-09-17T11:00:00",
                    "2025-09-17T12:00:00",
                    "2025-09-17T13:00:00",
                    "2025-09-17T14:00:00",
                    "2025-09-17T15:00:00",
                    "2025-09-17T16:00:00",
                    "2025-09-17T17:00:00",
                    "2025-09-17T18:00:00",
                    "2025-09-17T19:00:00",
                    "2025-09-17T20:00:00",
                    "2025-09-17T21:00:00",
                    "2025-09-17T22:00:00",
                    "2025-09-17T23:00:00",
                    "2025-09-18T00:00:00",
                    "2025-09-18T01:00:00",
                    "2025-09-18T02:00:00",
                    "2025-09-18T03:00:00",
                    "2025-09-18T04:00:00",
                    "2025-09-18T05:00:00",
                    "2025-09-18T06:00:00",
                    "2025-09-18T07:00:00",
                    "2025-09-18T08:00:00",
                    "2025-09-18T09:00:00",
                    "2025-09-18T10:00:00",
                    "2025-09-18T11:00:00",
                    "2025-09-18T12:00:00",
                    "2025-09-18T13:00:00",
                    "2025-09-18T14:00:00",
                    "2025-09-18T15:00:00",
                    "2025-09-18T16:00:00",
                    "2025-09-18T17:00:00",
                    "2025-09-18T18:00:00",
                    "2025-09-18T19:00:00",
                    "2025-09-18T20:00:00",
                    "2025-09-18T21:00:00",
                    "2025-09-18T22:00:00",
                    "2025-09-18T23:00:00",
                    "2025-09-19T00:00:00",
                    "2025-09-19T01:00:00",
                    "2025-09-19T02:00:00",
                    "2025-09-19T03:00:00",
                    "2025-09-19T04:00:00",
                    "2025-09-19T05:00:00",
                    "2025-09-19T06:00:00",
                    "2025-09-19T07:00:00",
                    "2025-09-19T08:00:00",
                    "2025-09-19T09:00:00",
                    "2025-09-19T10:00:00",
                    "2025-09-19T11:00:00",
                    "2025-09-19T12:00:00",
                    "2025-09-19T13:00:00",
                    "2025-09-19T14:00:00",
                    "2025-09-19T15:00:00",
                    "2025-09-19T16:00:00",
                    "2025-09-19T17:00:00",
                    "2025-09-19T18:00:00",
                    "2025-09-19T19:00:00",
                    "2025-09-19T20:00:00",
                    "2025-09-19T21:00:00",
                    "2025-09-19T22:00:00",
                    "2025-09-19T23:00:00",
                    "2025-09-20T00:00:00",
                    "2025-09-20T01:00:00",
                    "2025-09-20T02:00:00",
                    "2025-09-20T03:00:00",
                    "2025-09-20T04:00:00",
                    "2025-09-20T05:00:00",
                    "2025-09-20T06:00:00",
                    "2025-09-20T07:00:00",
                    "2025-09-20T08:00:00",
                    "2025-09-20T09:00:00",
                    "2025-09-20T10:00:00",
                    "2025-09-20T11:00:00",
                    "2025-09-20T12:00:00",
                    "2025-09-20T15:00:00",
                    "2025-09-20T18:00:00",
                    "2025-09-20T21:00:00",
                    "2025-09-21T00:00:00",
                    "2025-09-21T03:00:00",
                    "2025-09-21T06:00:00",
                    "2025-09-21T09:00:00",
                    "2025-09-21T12:00:00",
                    "2025-09-21T15:00:00",
                    "2025-09-21T18:00:00",
                    "2025-09-21T21:00:00",
                    "2025-09-22T00:00:00",
                    "2025-09-22T03:00:00",
                    "2025-09-22T06:00:00",
                    "2025-09-22T09:00:00",
                    "2025-09-22T12:00:00",
                    "2025-09-22T15:00:00",
                    "2025-09-22T18:00:00"
                  ],
                  "xaxis": "x",
                  "y": {
                    "bdata": "ZmZmRrXjcUDNzMxkJt9xQGZmZsas2nFAZmZm9ujYcUCamZn5UNVxQJqZmQG1znFAzczMfLnIcUAzMzOTAsFxQM3MzLR4u3FAMzMzI2u4cUAAAAAQdK9xQM3MzIx5q3FAZmZmLsO2cUAAAAAIu9ZxQJqZmQme8XFAMzMzG/QBckAzMzMzDhFyQAAAALCtIHJAAAAA6JkrckDNzMyE7DNyQM3MzKy1N3JAZmZmzjk2ckBmZmaOPDFyQGZmZvZNHnJAZmZmxhcHckBmZmZOOvlxQM3MzPRK7nFAZmZm/sblcUAzMzPrK91xQM3MzCTq1XFAMzMz20/McUCamZmxR8NxQJqZmRndvHFAZmZmDtK4cUAAAAC4EbZxQGZmZn4/tHFAzczMBGu5cUAzMzMDw9VxQDMzM+Nn/HFAmpmZGeslckDNzMwsKUZyQM3MzOzYX3JAmpmZ0cxzckBmZmbOXn5yQAAAADgkg3JAZmZm9qKAckDNzMw833NyQGZmZubhTXJAmpmZUZIvckDNzMz8Uh5yQJqZmYmeE3JAMzMzuzMEckAAAADwSvFxQJqZmZnD43FAmpmZQZrScUAAAABg68dxQJqZmcmZv3FAAAAAAAy6cUCamZm5W7RxQDMzM1vJsXFAmpmZ8VK5cUBmZmamq9xxQJqZmemmBHJAAAAA4IYpckDNzMyMukVyQM3MzKx8X3JAzczMhNJ0ckAzMzObKYNyQGZmZvaLjHJAAAAAmGONckCamZm5loNyQM3MzDSxYnJAMzMz+xVAckCamZlpMTJyQDMzM5swI3JAmpmZOdUSckAzMzPLsAVyQJqZmZmaA3JAMzMzG8/6cUBmZmYGV/RxQAAAADDT8XFAAAAAKIPtcUCamZmBfuxxQDMzM8NC6HFAzczM/JLwcUAAAABAfwZyQM3MzBxeIXJAzczMBLBHckAzMzNDkmxyQM3MzHyvinJAmpmZGU6dckAAAACQmqpyQGZmZk50WnJAZmZmJg0zckAAAABQ2SFyQAAAADByDXJAZmZmfhANckBmZmb+thpyQAAAAPDA8nFAmpmZieHhcUDNzMwcVs9xQJqZmUmuyHFAAAAAkDq8cUAAAAAoE7pxQDMzMzshrXFAAAAAuGutcUBmZmbmrqlxQAAAAAC4onFAAAAAEM6McUA=",
                    "dtype": "f8"
                  },
                  "yaxis": "y"
                },
                {
                  "hovertemplate": "%{y:.2f}<extra>P<sub>25%</sub></extra>",
                  "marker": {
                    "color": "#27aeef",
                    "size": 0.00001
                  },
                  "mode": "markers",
                  "type": "scatter",
                  "x": [
                    "2025-09-16T18:00:00",
                    "2025-09-16T19:00:00",
                    "2025-09-16T20:00:00",
                    "2025-09-16T21:00:00",
                    "2025-09-16T22:00:00",
                    "2025-09-16T23:00:00",
                    "2025-09-17T00:00:00",
                    "2025-09-17T01:00:00",
                    "2025-09-17T02:00:00",
                    "2025-09-17T03:00:00",
                    "2025-09-17T04:00:00",
                    "2025-09-17T05:00:00",
                    "2025-09-17T06:00:00",
                    "2025-09-17T07:00:00",
                    "2025-09-17T08:00:00",
                    "2025-09-17T09:00:00",
                    "2025-09-17T10:00:00",
                    "2025-09-17T11:00:00",
                    "2025-09-17T12:00:00",
                    "2025-09-17T13:00:00",
                    "2025-09-17T14:00:00",
                    "2025-09-17T15:00:00",
                    "2025-09-17T16:00:00",
                    "2025-09-17T17:00:00",
                    "2025-09-17T18:00:00",
                    "2025-09-17T19:00:00",
                    "2025-09-17T20:00:00",
                    "2025-09-17T21:00:00",
                    "2025-09-17T22:00:00",
                    "2025-09-17T23:00:00",
                    "2025-09-18T00:00:00",
                    "2025-09-18T01:00:00",
                    "2025-09-18T02:00:00",
                    "2025-09-18T03:00:00",
                    "2025-09-18T04:00:00",
                    "2025-09-18T05:00:00",
                    "2025-09-18T06:00:00",
                    "2025-09-18T07:00:00",
                    "2025-09-18T08:00:00",
                    "2025-09-18T09:00:00",
                    "2025-09-18T10:00:00",
                    "2025-09-18T11:00:00",
                    "2025-09-18T12:00:00",
                    "2025-09-18T13:00:00",
                    "2025-09-18T14:00:00",
                    "2025-09-18T15:00:00",
                    "2025-09-18T16:00:00",
                    "2025-09-18T17:00:00",
                    "2025-09-18T18:00:00",
                    "2025-09-18T19:00:00",
                    "2025-09-18T20:00:00",
                    "2025-09-18T21:00:00",
                    "2025-09-18T22:00:00",
                    "2025-09-18T23:00:00",
                    "2025-09-19T00:00:00",
                    "2025-09-19T01:00:00",
                    "2025-09-19T02:00:00",
                    "2025-09-19T03:00:00",
                    "2025-09-19T04:00:00",
                    "2025-09-19T05:00:00",
                    "2025-09-19T06:00:00",
                    "2025-09-19T07:00:00",
                    "2025-09-19T08:00:00",
                    "2025-09-19T09:00:00",
                    "2025-09-19T10:00:00",
                    "2025-09-19T11:00:00",
                    "2025-09-19T12:00:00",
                    "2025-09-19T13:00:00",
                    "2025-09-19T14:00:00",
                    "2025-09-19T15:00:00",
                    "2025-09-19T16:00:00",
                    "2025-09-19T17:00:00",
                    "2025-09-19T18:00:00",
                    "2025-09-19T19:00:00",
                    "2025-09-19T20:00:00",
                    "2025-09-19T21:00:00",
                    "2025-09-19T22:00:00",
                    "2025-09-19T23:00:00",
                    "2025-09-20T00:00:00",
                    "2025-09-20T01:00:00",
                    "2025-09-20T02:00:00",
                    "2025-09-20T03:00:00",
                    "2025-09-20T04:00:00",
                    "2025-09-20T05:00:00",
                    "2025-09-20T06:00:00",
                    "2025-09-20T07:00:00",
                    "2025-09-20T08:00:00",
                    "2025-09-20T09:00:00",
                    "2025-09-20T10:00:00",
                    "2025-09-20T11:00:00",
                    "2025-09-20T12:00:00",
                    "2025-09-20T15:00:00",
                    "2025-09-20T18:00:00",
                    "2025-09-20T21:00:00",
                    "2025-09-21T00:00:00",
                    "2025-09-21T03:00:00",
                    "2025-09-21T06:00:00",
                    "2025-09-21T09:00:00",
                    "2025-09-21T12:00:00",
                    "2025-09-21T15:00:00",
                    "2025-09-21T18:00:00",
                    "2025-09-21T21:00:00",
                    "2025-09-22T00:00:00",
                    "2025-09-22T03:00:00",
                    "2025-09-22T06:00:00",
                    "2025-09-22T09:00:00",
                    "2025-09-22T12:00:00",
                    "2025-09-22T15:00:00",
                    "2025-09-22T18:00:00"
                  ],
                  "xaxis": "x",
                  "y": {
                    "bdata": "AAAAyDTmcUAAAADcUuNxQAAAANQf33FAAAAATOnccUAAAACsJ9lxQAAAAEwR03FAAAAASGXNcUAAAABonsVxQAAAAPCWvnFAAAAA0AG8cUAAAABgY7NxQAAAAADDsHFAAAAALAi7cUAAAADE9NtxQAAAAAiX9HFAAAAANIoGckAAAABoMBdyQAAAAKxqI3JAAAAAaOYtckAAAACcdTVyQAAAABjgOXJAAAAAKCk4ckAAAAAEJjRyQAAAAAzLIXJAAAAAOCEJckAAAAB0Pv5xQAAAAHgj9HFAAAAAaB/qcUAAAACo3+JxQAAAACxz3XFAAAAALILXcUAAAABcAs9xQAAAAMgiynFAAAAAVLfDcUAAAACcDb9xQAAAADCjuHFAAAAAyNO/cUAAAAAUSttxQAAAADTXAXJAAAAA0FEockAAAABwvUpyQAAAAKRQZHJAAAAAVOV1ckAAAACcwYFyQAAAABBehXJAAAAAyCuEckAAAADQFnlyQAAAAECkU3JAAAAA6BozckAAAABkaSNyQAAAAOj3FnJAAAAAZHsMckAAAAAwswByQAAAAHTC8XFAAAAA3NzjcUAAAABkQdlxQAAAADBSznFAAAAABLbDcUAAAADwq7txQAAAAGhgtnFAAAAA5JLBcUAAAACAiOFxQAAAAJC1B3JAAAAA7CIvckAAAACs2U5yQAAAAOiQaHJAAAAA5Hh7ckAAAACkL4lyQAAAAAhXkHJAAAAALBGRckAAAAB0PYdyQAAAAEgeZ3JAAAAAsAVDckAAAACUXzVyQAAAALDYKHJAAAAA/NcXckAAAACcnwtyQAAAALxfBnJAAAAA9NoAckAAAABUrflxQAAAAMRF9nFAAAAAqD70cUAAAACw1vBxQAAAAIyC7nFAAAAAwGr3cUAAAABI1gtyQAAAAKzsJnJAAAAA+C1NckAAAAAganJyQAAAAPinjXJAAAAArF2ickAAAABopK9yQAAAANzUYnJAAAAAEP44ckAAAAB8fyhyQAAAAHDZEnJAAAAANPATckAAAAC06UJyQAAAAABZNHJAAAAAjCMOckAAAADcdfBxQAAAANhD13FAAAAAmA3QcUAAAABcxshxQAAAAERYvXFAAAAAgJfFcUAAAACcnsRxQAAAACCiuXFAAAAAYMGqcUA=",
                    "dtype": "f8"
                  },
                  "yaxis": "y"
                },
                {
                  "hovertemplate": "%{y:.2f}<extra>P<sub>50%</sub></extra>",
                  "marker": {
                    "color": "#27aeef",
                    "size": 0.00001
                  },
                  "mode": "markers",
                  "type": "scatter",
                  "x": [
                    "2025-09-16T18:00:00",
                    "2025-09-16T19:00:00",
                    "2025-09-16T20:00:00",
                    "2025-09-16T21:00:00",
                    "2025-09-16T22:00:00",
                    "2025-09-16T23:00:00",
                    "2025-09-17T00:00:00",
                    "2025-09-17T01:00:00",
                    "2025-09-17T02:00:00",
                    "2025-09-17T03:00:00",
                    "2025-09-17T04:00:00",
                    "2025-09-17T05:00:00",
                    "2025-09-17T06:00:00",
                    "2025-09-17T07:00:00",
                    "2025-09-17T08:00:00",
                    "2025-09-17T09:00:00",
                    "2025-09-17T10:00:00",
                    "2025-09-17T11:00:00",
                    "2025-09-17T12:00:00",
                    "2025-09-17T13:00:00",
                    "2025-09-17T14:00:00",
                    "2025-09-17T15:00:00",
                    "2025-09-17T16:00:00",
                    "2025-09-17T17:00:00",
                    "2025-09-17T18:00:00",
                    "2025-09-17T19:00:00",
                    "2025-09-17T20:00:00",
                    "2025-09-17T21:00:00",
                    "2025-09-17T22:00:00",
                    "2025-09-17T23:00:00",
                    "2025-09-18T00:00:00",
                    "2025-09-18T01:00:00",
                    "2025-09-18T02:00:00",
                    "2025-09-18T03:00:00",
                    "2025-09-18T04:00:00",
                    "2025-09-18T05:00:00",
                    "2025-09-18T06:00:00",
                    "2025-09-18T07:00:00",
                    "2025-09-18T08:00:00",
                    "2025-09-18T09:00:00",
                    "2025-09-18T10:00:00",
                    "2025-09-18T11:00:00",
                    "2025-09-18T12:00:00",
                    "2025-09-18T13:00:00",
                    "2025-09-18T14:00:00",
                    "2025-09-18T15:00:00",
                    "2025-09-18T16:00:00",
                    "2025-09-18T17:00:00",
                    "2025-09-18T18:00:00",
                    "2025-09-18T19:00:00",
                    "2025-09-18T20:00:00",
                    "2025-09-18T21:00:00",
                    "2025-09-18T22:00:00",
                    "2025-09-18T23:00:00",
                    "2025-09-19T00:00:00",
                    "2025-09-19T01:00:00",
                    "2025-09-19T02:00:00",
                    "2025-09-19T03:00:00",
                    "2025-09-19T04:00:00",
                    "2025-09-19T05:00:00",
                    "2025-09-19T06:00:00",
                    "2025-09-19T07:00:00",
                    "2025-09-19T08:00:00",
                    "2025-09-19T09:00:00",
                    "2025-09-19T10:00:00",
                    "2025-09-19T11:00:00",
                    "2025-09-19T12:00:00",
                    "2025-09-19T13:00:00",
                    "2025-09-19T14:00:00",
                    "2025-09-19T15:00:00",
                    "2025-09-19T16:00:00",
                    "2025-09-19T17:00:00",
                    "2025-09-19T18:00:00",
                    "2025-09-19T19:00:00",
                    "2025-09-19T20:00:00",
                    "2025-09-19T21:00:00",
                    "2025-09-19T22:00:00",
                    "2025-09-19T23:00:00",
                    "2025-09-20T00:00:00",
                    "2025-09-20T01:00:00",
                    "2025-09-20T02:00:00",
                    "2025-09-20T03:00:00",
                    "2025-09-20T04:00:00",
                    "2025-09-20T05:00:00",
                    "2025-09-20T06:00:00",
                    "2025-09-20T07:00:00",
                    "2025-09-20T08:00:00",
                    "2025-09-20T09:00:00",
                    "2025-09-20T10:00:00",
                    "2025-09-20T11:00:00",
                    "2025-09-20T12:00:00",
                    "2025-09-20T15:00:00",
                    "2025-09-20T18:00:00",
                    "2025-09-20T21:00:00",
                    "2025-09-21T00:00:00",
                    "2025-09-21T03:00:00",
                    "2025-09-21T06:00:00",
                    "2025-09-21T09:00:00",
                    "2025-09-21T12:00:00",
                    "2025-09-21T15:00:00",
                    "2025-09-21T18:00:00",
                    "2025-09-21T21:00:00",
                    "2025-09-22T00:00:00",
                    "2025-09-22T03:00:00",
                    "2025-09-22T06:00:00",
                    "2025-09-22T09:00:00",
                    "2025-09-22T12:00:00",
                    "2025-09-22T15:00:00",
                    "2025-09-22T18:00:00"
                  ],
                  "xaxis": "x",
                  "y": {
                    "bdata": "AAAAUH3scUAAAABQj+dxQAAAAOCb5HFAAAAA8C7hcUAAAADIft1xQAAAANih13FAAAAAkD3ScUAAAAAoa8pxQAAAABiJxnFAAAAAIMW/cUAAAAAQ7LtxQAAAAEDBunFAAAAA4PHCcUAAAAAIweBxQAAAAJgJ+XFAAAAACDMKckAAAAAgExtyQAAAAMiiJ3JAAAAAiMsxckAAAAB48ThyQAAAAJBGPXJAAAAAWLc8ckAAAABY7DdyQAAAALAIJnJAAAAAoHEOckAAAAAI3wFyQAAAAGDt+HFAAAAA+MXucUAAAADojudxQAAAADC84nFAAAAAmKrdcUAAAAAISNdxQAAAANCEz3FAAAAACNnJcUAAAACoi8NxQAAAANB5vnFAAAAACOXHcUAAAAD4zuNxQAAAAFgdB3JAAAAAuEstckAAAACofE1yQAAAADB+Z3JAAAAAMGd6ckAAAABYe4VyQAAAAJhdiXJAAAAAcKiGckAAAACQZXxyQAAAAKj7WHJAAAAAGHw6ckAAAACAFCxyQAAAAOC+HnJAAAAAuGwTckAAAADAhAdyQAAAAHjM+HFAAAAAkPLvcUAAAABYbOVxQAAAALDz1nFAAAAAYF7McUAAAAAYyMRxQAAAAMBtwHFAAAAAuF3IcUAAAAAgeelxQAAAAAiREHJAAAAAwCo1ckAAAACoYVVyQAAAAIAAb3JAAAAAIJCAckAAAACAQIxyQAAAAOialHJAAAAAgLKTckAAAADImIlyQAAAAEgdaXJAAAAAmLtIckAAAADgtjhyQAAAAEAfLXJAAAAA+GAeckAAAAAIZhJyQAAAAEjmC3JAAAAAmBsHckAAAAAQ7f5xQAAAADjn/HFAAAAA6G/6cUAAAACg7fZxQAAAAEiw83FAAAAAyHX7cUAAAADQghNyQAAAAMhIMHJAAAAAmBBWckAAAAB41HlyQAAAAGBWlHJAAAAAcCCmckAAAABQ7bJyQAAAAEBqanJAAAAAeHRCckAAAADw9TByQAAAALDxJHJAAAAAqMQgckAAAADI12ByQAAAAMAniHJAAAAA0KNqckAAAACYBityQAAAAIhtE3JAAAAAWMv0cUAAAADI8ONxQAAAALDE3nFAAAAA8BTfcUAAAADQNulxQAAAACBs7HFAAAAAYGbScUA=",
                    "dtype": "f8"
                  },
                  "yaxis": "y"
                },
                {
                  "hovertemplate": "%{y:.2f}<extra>P<sub>75%</sub></extra>",
                  "marker": {
                    "color": "#27aeef",
                    "size": 0.00001
                  },
                  "mode": "markers",
                  "type": "scatter",
                  "x": [
                    "2025-09-16T18:00:00",
                    "2025-09-16T19:00:00",
                    "2025-09-16T20:00:00",
                    "2025-09-16T21:00:00",
                    "2025-09-16T22:00:00",
                    "2025-09-16T23:00:00",
                    "2025-09-17T00:00:00",
                    "2025-09-17T01:00:00",
                    "2025-09-17T02:00:00",
                    "2025-09-17T03:00:00",
                    "2025-09-17T04:00:00",
                    "2025-09-17T05:00:00",
                    "2025-09-17T06:00:00",
                    "2025-09-17T07:00:00",
                    "2025-09-17T08:00:00",
                    "2025-09-17T09:00:00",
                    "2025-09-17T10:00:00",
                    "2025-09-17T11:00:00",
                    "2025-09-17T12:00:00",
                    "2025-09-17T13:00:00",
                    "2025-09-17T14:00:00",
                    "2025-09-17T15:00:00",
                    "2025-09-17T16:00:00",
                    "2025-09-17T17:00:00",
                    "2025-09-17T18:00:00",
                    "2025-09-17T19:00:00",
                    "2025-09-17T20:00:00",
                    "2025-09-17T21:00:00",
                    "2025-09-17T22:00:00",
                    "2025-09-17T23:00:00",
                    "2025-09-18T00:00:00",
                    "2025-09-18T01:00:00",
                    "2025-09-18T02:00:00",
                    "2025-09-18T03:00:00",
                    "2025-09-18T04:00:00",
                    "2025-09-18T05:00:00",
                    "2025-09-18T06:00:00",
                    "2025-09-18T07:00:00",
                    "2025-09-18T08:00:00",
                    "2025-09-18T09:00:00",
                    "2025-09-18T10:00:00",
                    "2025-09-18T11:00:00",
                    "2025-09-18T12:00:00",
                    "2025-09-18T13:00:00",
                    "2025-09-18T14:00:00",
                    "2025-09-18T15:00:00",
                    "2025-09-18T16:00:00",
                    "2025-09-18T17:00:00",
                    "2025-09-18T18:00:00",
                    "2025-09-18T19:00:00",
                    "2025-09-18T20:00:00",
                    "2025-09-18T21:00:00",
                    "2025-09-18T22:00:00",
                    "2025-09-18T23:00:00",
                    "2025-09-19T00:00:00",
                    "2025-09-19T01:00:00",
                    "2025-09-19T02:00:00",
                    "2025-09-19T03:00:00",
                    "2025-09-19T04:00:00",
                    "2025-09-19T05:00:00",
                    "2025-09-19T06:00:00",
                    "2025-09-19T07:00:00",
                    "2025-09-19T08:00:00",
                    "2025-09-19T09:00:00",
                    "2025-09-19T10:00:00",
                    "2025-09-19T11:00:00",
                    "2025-09-19T12:00:00",
                    "2025-09-19T13:00:00",
                    "2025-09-19T14:00:00",
                    "2025-09-19T15:00:00",
                    "2025-09-19T16:00:00",
                    "2025-09-19T17:00:00",
                    "2025-09-19T18:00:00",
                    "2025-09-19T19:00:00",
                    "2025-09-19T20:00:00",
                    "2025-09-19T21:00:00",
                    "2025-09-19T22:00:00",
                    "2025-09-19T23:00:00",
                    "2025-09-20T00:00:00",
                    "2025-09-20T01:00:00",
                    "2025-09-20T02:00:00",
                    "2025-09-20T03:00:00",
                    "2025-09-20T04:00:00",
                    "2025-09-20T05:00:00",
                    "2025-09-20T06:00:00",
                    "2025-09-20T07:00:00",
                    "2025-09-20T08:00:00",
                    "2025-09-20T09:00:00",
                    "2025-09-20T10:00:00",
                    "2025-09-20T11:00:00",
                    "2025-09-20T12:00:00",
                    "2025-09-20T15:00:00",
                    "2025-09-20T18:00:00",
                    "2025-09-20T21:00:00",
                    "2025-09-21T00:00:00",
                    "2025-09-21T03:00:00",
                    "2025-09-21T06:00:00",
                    "2025-09-21T09:00:00",
                    "2025-09-21T12:00:00",
                    "2025-09-21T15:00:00",
                    "2025-09-21T18:00:00",
                    "2025-09-21T21:00:00",
                    "2025-09-22T00:00:00",
                    "2025-09-22T03:00:00",
                    "2025-09-22T06:00:00",
                    "2025-09-22T09:00:00",
                    "2025-09-22T12:00:00",
                    "2025-09-22T15:00:00",
                    "2025-09-22T18:00:00"
                  ],
                  "xaxis": "x",
                  "y": {
                    "bdata": "AAAAzCTxcUAAAADIduxxQAAAAEQU6XFAAAAAsBTncUAAAABMIOJxQAAAAKxJ23FAAAAAkGbXcUAAAACIhs9xQAAAAPCjynFAAAAATFLJcUAAAAD4VsZxQAAAAFxQxnFAAAAAREfNcUAAAAC0a+ZxQAAAABDf/HFAAAAA6J4NckAAAADMmh1yQAAAAIAEKnJAAAAAOPwzckAAAAA8ozxyQAAAACjLQHJAAAAAMBNAckAAAACU1jpyQAAAAOD8KHJAAAAAPPISckAAAAC0awhyQAAAAGBU/XFAAAAAjNfzcUAAAAB8C+txQAAAAMAI53FAAAAAJCjhcUAAAADEtttxQAAAADwx13FAAAAAiIDScUAAAAAYDstxQAAAALiDxXFAAAAAeETOcUAAAABQnOpxQAAAAHT0DnJAAAAA0Hk0ckAAAABEPVRyQAAAAPRsa3JAAAAAQLJ8ckAAAACsk4hyQAAAAAgLjXJAAAAAMDqKckAAAACEpn9yQAAAAEArYHJAAAAAzBpBckAAAAA4ti9yQAAAACiPI3JAAAAAEFcZckAAAACUSg1yQAAAAFA0AnJAAAAA7Cz3cUAAAADwsupxQAAAALwY33FAAAAAmOvUcUAAAABsqMpxQAAAAKCZxXFAAAAA9AbScUAAAABAXe9xQAAAALyCFnJAAAAA2L07ckAAAADEzFpyQAAAACyrc3JAAAAAuDmIckAAAACMOpRyQAAAAOyImXJAAAAAkLyYckAAAABs341yQAAAAKhAbHJAAAAAcNZNckAAAADIMT5yQAAAACSAMXJAAAAAzKsickAAAABATRdyQAAAAEzPD3JAAAAAlGsLckAAAABAwAZyQAAAANgeA3JAAAAA2EQBckAAAACQNP5xQAAAANhI+nFAAAAAFN0EckAAAABAbiByQAAAALwLPHJAAAAAKA1eckAAAADEloByQAAAACw9mnJAAAAALI2rckAAAADQgbdyQAAAAJA+bnJAAAAArFpIckAAAADYHTtyQAAAAFDwMHJAAAAAhKArckAAAAAAD2xyQAAAALQBnHJAAAAAKEafckAAAADAYkhyQAAAAJDjLXJAAAAAsNsVckAAAADo3QtyQAAAAJxRB3JAAAAAEMoNckAAAADgtyJyQAAAAJCfFnJAAAAAYIb5cUA=",
                    "dtype": "f8"
                  },
                  "yaxis": "y"
                },
                {
                  "hovertemplate": "%{y:.2f}<extra>P<sub>90%</sub></extra>",
                  "marker": {
                    "color": "#27aeef",
                    "size": 0.00001
                  },
                  "mode": "markers",
                  "type": "scatter",
                  "x": [
                    "2025-09-16T18:00:00",
                    "2025-09-16T19:00:00",
                    "2025-09-16T20:00:00",
                    "2025-09-16T21:00:00",
                    "2025-09-16T22:00:00",
                    "2025-09-16T23:00:00",
                    "2025-09-17T00:00:00",
                    "2025-09-17T01:00:00",
                    "2025-09-17T02:00:00",
                    "2025-09-17T03:00:00",
                    "2025-09-17T04:00:00",
                    "2025-09-17T05:00:00",
                    "2025-09-17T06:00:00",
                    "2025-09-17T07:00:00",
                    "2025-09-17T08:00:00",
                    "2025-09-17T09:00:00",
                    "2025-09-17T10:00:00",
                    "2025-09-17T11:00:00",
                    "2025-09-17T12:00:00",
                    "2025-09-17T13:00:00",
                    "2025-09-17T14:00:00",
                    "2025-09-17T15:00:00",
                    "2025-09-17T16:00:00",
                    "2025-09-17T17:00:00",
                    "2025-09-17T18:00:00",
                    "2025-09-17T19:00:00",
                    "2025-09-17T20:00:00",
                    "2025-09-17T21:00:00",
                    "2025-09-17T22:00:00",
                    "2025-09-17T23:00:00",
                    "2025-09-18T00:00:00",
                    "2025-09-18T01:00:00",
                    "2025-09-18T02:00:00",
                    "2025-09-18T03:00:00",
                    "2025-09-18T04:00:00",
                    "2025-09-18T05:00:00",
                    "2025-09-18T06:00:00",
                    "2025-09-18T07:00:00",
                    "2025-09-18T08:00:00",
                    "2025-09-18T09:00:00",
                    "2025-09-18T10:00:00",
                    "2025-09-18T11:00:00",
                    "2025-09-18T12:00:00",
                    "2025-09-18T13:00:00",
                    "2025-09-18T14:00:00",
                    "2025-09-18T15:00:00",
                    "2025-09-18T16:00:00",
                    "2025-09-18T17:00:00",
                    "2025-09-18T18:00:00",
                    "2025-09-18T19:00:00",
                    "2025-09-18T20:00:00",
                    "2025-09-18T21:00:00",
                    "2025-09-18T22:00:00",
                    "2025-09-18T23:00:00",
                    "2025-09-19T00:00:00",
                    "2025-09-19T01:00:00",
                    "2025-09-19T02:00:00",
                    "2025-09-19T03:00:00",
                    "2025-09-19T04:00:00",
                    "2025-09-19T05:00:00",
                    "2025-09-19T06:00:00",
                    "2025-09-19T07:00:00",
                    "2025-09-19T08:00:00",
                    "2025-09-19T09:00:00",
                    "2025-09-19T10:00:00",
                    "2025-09-19T11:00:00",
                    "2025-09-19T12:00:00",
                    "2025-09-19T13:00:00",
                    "2025-09-19T14:00:00",
                    "2025-09-19T15:00:00",
                    "2025-09-19T16:00:00",
                    "2025-09-19T17:00:00",
                    "2025-09-19T18:00:00",
                    "2025-09-19T19:00:00",
                    "2025-09-19T20:00:00",
                    "2025-09-19T21:00:00",
                    "2025-09-19T22:00:00",
                    "2025-09-19T23:00:00",
                    "2025-09-20T00:00:00",
                    "2025-09-20T01:00:00",
                    "2025-09-20T02:00:00",
                    "2025-09-20T03:00:00",
                    "2025-09-20T04:00:00",
                    "2025-09-20T05:00:00",
                    "2025-09-20T06:00:00",
                    "2025-09-20T07:00:00",
                    "2025-09-20T08:00:00",
                    "2025-09-20T09:00:00",
                    "2025-09-20T10:00:00",
                    "2025-09-20T11:00:00",
                    "2025-09-20T12:00:00",
                    "2025-09-20T15:00:00",
                    "2025-09-20T18:00:00",
                    "2025-09-20T21:00:00",
                    "2025-09-21T00:00:00",
                    "2025-09-21T03:00:00",
                    "2025-09-21T06:00:00",
                    "2025-09-21T09:00:00",
                    "2025-09-21T12:00:00",
                    "2025-09-21T15:00:00",
                    "2025-09-21T18:00:00",
                    "2025-09-21T21:00:00",
                    "2025-09-22T00:00:00",
                    "2025-09-22T03:00:00",
                    "2025-09-22T06:00:00",
                    "2025-09-22T09:00:00",
                    "2025-09-22T12:00:00",
                    "2025-09-22T15:00:00",
                    "2025-09-22T18:00:00"
                  ],
                  "xaxis": "x",
                  "y": {
                    "bdata": "mpmZ4UP2cUDNzMwk0e5xQDMzM/No7HFAMzMzm6jpcUAzMzPjoeZxQJqZmdEm4HFAzczMRIfbcUCamZl5zNRxQDMzMxN+0HFAMzMzQ/XScUCamZm51M5xQAAAAGBFzHFAzczMzPrTcUAAAACANepxQJqZmaF4AXJAmpmZwcoPckBmZmY+ECByQDMzMwPOLHJAzczMRFA3ckDNzMwMcEJyQM3MzHQLRXJAZmZmTo9EckAzMzOrhz1yQAAAAOhqLHJAZmZmZuoXckDNzMz0ewxyQJqZmYkgAXJAAAAAqK72cUAzMzP7Re9xQJqZmbmI63FAmpmZCZ/ncUAAAACAAONxQJqZmakF3XFAmpmZ6RDZcUAAAAAYBdRxQM3MzLzpznFAzczM1MbVcUCamZmxMvFxQDMzM8PlFXJAzczMtGk4ckAzMzPTqVZyQJqZmVHNbnJAzczM1KOAckAAAACQU4pyQM3MzPxbj3JAMzMzW+GMckAAAAA4sINyQAAAAFjkY3JAmpmZmXZEckCamZnZVDJyQM3MzMSgJnJAAAAAIIMdckDNzMzEnBJyQGZmZi7BCXJAzczMNCP8cUAAAACoXfFxQAAAAOCB5XFAAAAA0BbacUAzMzMb4tFxQDMzM+MPz3FAmpmZ8aTZcUDNzMzMrvZxQAAAAGDDGnJAAAAAyGZCckAzMzPzRWByQJqZmemBeXJAzczMjIePckDNzMxUkJ5yQM3MzIxQo3JAZmZm/pCgckAzMzPzI5VyQJqZmdHZcXJAMzMzw5NSckBmZma+SkJyQGZmZi7oNHJAzczM5AInckBmZmbGchtyQGZmZp4cFHJAAAAAuLoOckDNzMxs0AhyQDMzM+MZBnJAAAAACOUFckAzMzMLxQNyQAAAAMgtAnJAMzMzC7oMckAAAABg+ydyQDMzMwstQXJAZmZmrkdjckCamZnxiYRyQM3MzDRdnHJAAAAA2KiuckDNzMycj7lyQAAAAIArdHJAmpmZwehOckAzMzN7/UdyQGZmZgY0OnJAMzMzq50yckAzMzM7xHByQM3MzDyfpXJAmpmZia6pckCamZnh2mVyQGZmZm4IQXJAAAAA0EspckAAAACYMhVyQGZmZpZ8EnJAMzMzSxVWckDNzMxsa3RyQAAAABAtZnJAmpmZ8Wc2ckA=",
                    "dtype": "f8"
                  },
                  "yaxis": "y"
                },
                {
                  "hovertemplate": "%{y:.2f}<extra>P<sub>100%</sub></extra>",
                  "marker": {
                    "color": "#27aeef",
                    "size": 0.00001
                  },
                  "mode": "markers",
                  "type": "scatter",
                  "x": [
                    "2025-09-16T18:00:00",
                    "2025-09-16T19:00:00",
                    "2025-09-16T20:00:00",
                    "2025-09-16T21:00:00",
                    "2025-09-16T22:00:00",
                    "2025-09-16T23:00:00",
                    "2025-09-17T00:00:00",
                    "2025-09-17T01:00:00",
                    "2025-09-17T02:00:00",
                    "2025-09-17T03:00:00",
                    "2025-09-17T04:00:00",
                    "2025-09-17T05:00:00",
                    "2025-09-17T06:00:00",
                    "2025-09-17T07:00:00",
                    "2025-09-17T08:00:00",
                    "2025-09-17T09:00:00",
                    "2025-09-17T10:00:00",
                    "2025-09-17T11:00:00",
                    "2025-09-17T12:00:00",
                    "2025-09-17T13:00:00",
                    "2025-09-17T14:00:00",
                    "2025-09-17T15:00:00",
                    "2025-09-17T16:00:00",
                    "2025-09-17T17:00:00",
                    "2025-09-17T18:00:00",
                    "2025-09-17T19:00:00",
                    "2025-09-17T20:00:00",
                    "2025-09-17T21:00:00",
                    "2025-09-17T22:00:00",
                    "2025-09-17T23:00:00",
                    "2025-09-18T00:00:00",
                    "2025-09-18T01:00:00",
                    "2025-09-18T02:00:00",
                    "2025-09-18T03:00:00",
                    "2025-09-18T04:00:00",
                    "2025-09-18T05:00:00",
                    "2025-09-18T06:00:00",
                    "2025-09-18T07:00:00",
                    "2025-09-18T08:00:00",
                    "2025-09-18T09:00:00",
                    "2025-09-18T10:00:00",
                    "2025-09-18T11:00:00",
                    "2025-09-18T12:00:00",
                    "2025-09-18T13:00:00",
                    "2025-09-18T14:00:00",
                    "2025-09-18T15:00:00",
                    "2025-09-18T16:00:00",
                    "2025-09-18T17:00:00",
                    "2025-09-18T18:00:00",
                    "2025-09-18T19:00:00",
                    "2025-09-18T20:00:00",
                    "2025-09-18T21:00:00",
                    "2025-09-18T22:00:00",
                    "2025-09-18T23:00:00",
                    "2025-09-19T00:00:00",
                    "2025-09-19T01:00:00",
                    "2025-09-19T02:00:00",
                    "2025-09-19T03:00:00",
                    "2025-09-19T04:00:00",
                    "2025-09-19T05:00:00",
                    "2025-09-19T06:00:00",
                    "2025-09-19T07:00:00",
                    "2025-09-19T08:00:00",
                    "2025-09-19T09:00:00",
                    "2025-09-19T10:00:00",
                    "2025-09-19T11:00:00",
                    "2025-09-19T12:00:00",
                    "2025-09-19T13:00:00",
                    "2025-09-19T14:00:00",
                    "2025-09-19T15:00:00",
                    "2025-09-19T16:00:00",
                    "2025-09-19T17:00:00",
                    "2025-09-19T18:00:00",
                    "2025-09-19T19:00:00",
                    "2025-09-19T20:00:00",
                    "2025-09-19T21:00:00",
                    "2025-09-19T22:00:00",
                    "2025-09-19T23:00:00",
                    "2025-09-20T00:00:00",
                    "2025-09-20T01:00:00",
                    "2025-09-20T02:00:00",
                    "2025-09-20T03:00:00",
                    "2025-09-20T04:00:00",
                    "2025-09-20T05:00:00",
                    "2025-09-20T06:00:00",
                    "2025-09-20T07:00:00",
                    "2025-09-20T08:00:00",
                    "2025-09-20T09:00:00",
                    "2025-09-20T10:00:00",
                    "2025-09-20T11:00:00",
                    "2025-09-20T12:00:00",
                    "2025-09-20T15:00:00",
                    "2025-09-20T18:00:00",
                    "2025-09-20T21:00:00",
                    "2025-09-21T00:00:00",
                    "2025-09-21T03:00:00",
                    "2025-09-21T06:00:00",
                    "2025-09-21T09:00:00",
                    "2025-09-21T12:00:00",
                    "2025-09-21T15:00:00",
                    "2025-09-21T18:00:00",
                    "2025-09-21T21:00:00",
                    "2025-09-22T00:00:00",
                    "2025-09-22T03:00:00",
                    "2025-09-22T06:00:00",
                    "2025-09-22T09:00:00",
                    "2025-09-22T12:00:00",
                    "2025-09-22T15:00:00",
                    "2025-09-22T18:00:00"
                  ],
                  "xaxis": "x",
                  "y": {
                    "bdata": "AAAAYCoEckAAAABADfZxQAAAADDH8HFAAAAA8DHucUAAAADgYupxQAAAANDq5XFAAAAAcC7kcUAAAAAgst9xQAAAAIAW23FAAAAAcJ/dcUAAAABwitpxQAAAAFCX13FAAAAAoNXYcUAAAACQOfBxQAAAAKAfBXJAAAAAQDITckAAAABwESVyQAAAAADpNXJAAAAAsL1SckAAAAAg8XpyQAAAAEAXV3JAAAAAAM1LckAAAACQJkJyQAAAALC0NHJAAAAAgFsfckAAAADAIxVyQAAAAFB2DnJAAAAAwOUQckAAAABAjxJyQAAAADAmBnJAAAAAoLv3cUAAAACwsu1xQAAAACBm6XFAAAAAAGTlcUAAAADgqd9xQAAAAMAP23FAAAAAgKHkcUAAAADQJfxxQAAAALALH3JAAAAAQEZDckAAAACgAl5yQAAAAJAVcXJAAAAAkEWBckAAAADwoI1yQAAAADDpknJAAAAAwLqPckAAAABg44hyQAAAAMAWaXJAAAAAQH1IckAAAADgpTZyQAAAAHDxKnJAAAAA0DYhckAAAACQWxdyQAAAAGCcD3JAAAAAQCwFckAAAACAOwJyQAAAAKBG/nFAAAAA4Cn1cUAAAACgbOZxQAAAAHDs1nFAAAAA0O3jcUAAAAAgTQRyQAAAAPBiKHJAAAAA4J9JckAAAAAwz2hyQAAAAGBkg3JAAAAAoAKZckAAAACgw6ZyQAAAABBJq3JAAAAA4LGockAAAACghqByQAAAANA6eXJAAAAAUPVackAAAACA/0hyQAAAALB4PnJAAAAAgEcwckAAAADAgypyQAAAAHBjHnJAAAAAED0XckAAAABgXBJyQAAAAKCYC3JAAAAAsMQMckAAAAAgfApyQAAAAECeC3JAAAAA8KQXckAAAAAgGTFyQAAAAEB4TXJAAAAAkB1wckAAAACQSYtyQAAAADCLo3JAAAAA8OCyckAAAADwbr5yQAAAABDEe3JAAAAA4JJdckAAAAAQJ1JyQAAAABBGSHJAAAAAoEU6ckAAAADQnnNyQAAAAGDtr3JAAAAAoH63ckAAAADQ+m5yQAAAAOC6TXJAAAAAwN4/ckAAAADwTyxyQAAAAACTN3JAAAAAwOR7ckAAAABAT6RyQAAAAMAHonJAAAAAAABvckA=",
                    "dtype": "f8"
                  },
                  "yaxis": "y"
                },
                {
                  "legendgroup": "IFS",
                  "line": {
                    "color": "grey"
                  },
                  "name": "IFS (mean)",
                  "showlegend": true,
                  "type": "scatter",
                  "x": [
                    "2025-09-16T18:00:00",
                    "2025-09-16T19:00:00",
                    "2025-09-16T20:00:00",
                    "2025-09-16T21:00:00",
                    "2025-09-16T22:00:00",
                    "2025-09-16T23:00:00",
                    "2025-09-17T00:00:00",
                    "2025-09-17T01:00:00",
                    "2025-09-17T02:00:00",
                    "2025-09-17T03:00:00",
                    "2025-09-17T04:00:00",
                    "2025-09-17T05:00:00",
                    "2025-09-17T06:00:00",
                    "2025-09-17T07:00:00",
                    "2025-09-17T08:00:00",
                    "2025-09-17T09:00:00",
                    "2025-09-17T10:00:00",
                    "2025-09-17T11:00:00",
                    "2025-09-17T12:00:00",
                    "2025-09-17T13:00:00",
                    "2025-09-17T14:00:00",
                    "2025-09-17T15:00:00",
                    "2025-09-17T16:00:00",
                    "2025-09-17T17:00:00",
                    "2025-09-17T18:00:00",
                    "2025-09-17T19:00:00",
                    "2025-09-17T20:00:00",
                    "2025-09-17T21:00:00",
                    "2025-09-17T22:00:00",
                    "2025-09-17T23:00:00",
                    "2025-09-18T00:00:00",
                    "2025-09-18T01:00:00",
                    "2025-09-18T02:00:00",
                    "2025-09-18T03:00:00",
                    "2025-09-18T04:00:00",
                    "2025-09-18T05:00:00",
                    "2025-09-18T06:00:00",
                    "2025-09-18T07:00:00",
                    "2025-09-18T08:00:00",
                    "2025-09-18T09:00:00",
                    "2025-09-18T10:00:00",
                    "2025-09-18T11:00:00",
                    "2025-09-18T12:00:00",
                    "2025-09-18T13:00:00",
                    "2025-09-18T14:00:00",
                    "2025-09-18T15:00:00",
                    "2025-09-18T16:00:00",
                    "2025-09-18T17:00:00",
                    "2025-09-18T18:00:00",
                    "2025-09-18T19:00:00",
                    "2025-09-18T20:00:00",
                    "2025-09-18T21:00:00",
                    "2025-09-18T22:00:00",
                    "2025-09-18T23:00:00",
                    "2025-09-19T00:00:00",
                    "2025-09-19T01:00:00",
                    "2025-09-19T02:00:00",
                    "2025-09-19T03:00:00",
                    "2025-09-19T04:00:00",
                    "2025-09-19T05:00:00",
                    "2025-09-19T06:00:00",
                    "2025-09-19T07:00:00",
                    "2025-09-19T08:00:00",
                    "2025-09-19T09:00:00",
                    "2025-09-19T10:00:00",
                    "2025-09-19T11:00:00",
                    "2025-09-19T12:00:00",
                    "2025-09-19T13:00:00",
                    "2025-09-19T14:00:00",
                    "2025-09-19T15:00:00",
                    "2025-09-19T16:00:00",
                    "2025-09-19T17:00:00",
                    "2025-09-19T18:00:00",
                    "2025-09-19T19:00:00",
                    "2025-09-19T20:00:00",
                    "2025-09-19T21:00:00",
                    "2025-09-19T22:00:00",
                    "2025-09-19T23:00:00",
                    "2025-09-20T00:00:00",
                    "2025-09-20T01:00:00",
                    "2025-09-20T02:00:00",
                    "2025-09-20T03:00:00",
                    "2025-09-20T04:00:00",
                    "2025-09-20T05:00:00",
                    "2025-09-20T06:00:00",
                    "2025-09-20T07:00:00",
                    "2025-09-20T08:00:00",
                    "2025-09-20T09:00:00",
                    "2025-09-20T10:00:00",
                    "2025-09-20T11:00:00",
                    "2025-09-20T12:00:00",
                    "2025-09-20T13:00:00",
                    "2025-09-20T14:00:00",
                    "2025-09-20T15:00:00",
                    "2025-09-20T16:00:00",
                    "2025-09-20T17:00:00",
                    "2025-09-20T18:00:00",
                    "2025-09-20T19:00:00",
                    "2025-09-20T20:00:00",
                    "2025-09-20T21:00:00",
                    "2025-09-20T22:00:00",
                    "2025-09-20T23:00:00",
                    "2025-09-21T00:00:00",
                    "2025-09-21T01:00:00",
                    "2025-09-21T02:00:00",
                    "2025-09-21T03:00:00",
                    "2025-09-21T04:00:00",
                    "2025-09-21T05:00:00",
                    "2025-09-21T06:00:00",
                    "2025-09-21T07:00:00",
                    "2025-09-21T08:00:00",
                    "2025-09-21T09:00:00",
                    "2025-09-21T10:00:00",
                    "2025-09-21T11:00:00",
                    "2025-09-21T12:00:00",
                    "2025-09-21T13:00:00",
                    "2025-09-21T14:00:00",
                    "2025-09-21T15:00:00",
                    "2025-09-21T16:00:00",
                    "2025-09-21T17:00:00",
                    "2025-09-21T18:00:00",
                    "2025-09-21T19:00:00",
                    "2025-09-21T20:00:00",
                    "2025-09-21T21:00:00",
                    "2025-09-21T22:00:00",
                    "2025-09-21T23:00:00",
                    "2025-09-22T00:00:00",
                    "2025-09-22T01:00:00",
                    "2025-09-22T02:00:00",
                    "2025-09-22T03:00:00",
                    "2025-09-22T04:00:00",
                    "2025-09-22T05:00:00",
                    "2025-09-22T06:00:00",
                    "2025-09-22T07:00:00",
                    "2025-09-22T08:00:00",
                    "2025-09-22T09:00:00",
                    "2025-09-22T10:00:00",
                    "2025-09-22T11:00:00",
                    "2025-09-22T12:00:00",
                    "2025-09-22T13:00:00",
                    "2025-09-22T14:00:00",
                    "2025-09-22T15:00:00",
                    "2025-09-22T16:00:00",
                    "2025-09-22T17:00:00",
                    "2025-09-22T18:00:00"
                  ],
                  "y": {
                    "bdata": "XI/C1bLscUDD9Sg0n+dxQDMzM/P643FAw/UojDLhcUAUrke5sN1xQGZmZl6H13FASOF6TL3ScUBI4XoM48pxQArXo4CsxXFASOF6pBbDcUBxPQoHtr1xQClcj6qTu3FAKVyPCtjDcUDsUbiGw+BxQHE9Cu/t+HFAexSuB3wJckAK16MI3hlyQGZmZkZNJ3JAPQrXQ7cyckCF61GoVztyQArXo+AdPnJAzczMfBM9ckAzMzObpzdyQKRwPQqrJXJAUrgeVX8OckDD9SiMpgJyQNejcI24+HFAexSuL2DvcUCPwvWYl+dxQPYoXBdP4nFAw/UotDXccUDsUbjW9dRxQArXo3BtznFAZmZmXpHJcUDhehTWxcRxQIXrUcjAv3FApHA9+rbHcUD2KFy3KONxQOxRuDY3CHJArkfhUnouckAK16PIe05yQJqZmYFQZ3JA7FG4lqR5ckAfheuJ6oRyQJqZmbFViXJA16Nw7cyGckBcj8IlKHxyQKRwPaJIWXJA4XoUtqE5ckD2KFxPxilyQBSuR0llHXJAZmZmRhQSckA9CtcbJwVyQLgehYsG+HFAUrgeheLrcUBcj8IV5uBxQFyPwqWt1XFAPQrXK4fLcUAUrkdBK8RxQEjheszRv3FA16NwVdrJcUCPwvUQJ+lxQI/C9bCpD3JAUrgeXV41ckAK16Ng31RyQHE9CgdJbnJAMzMz8+aBckCPwvVY/o5yQOF6FIYRlnJA16Nw5amVckDXo3DN2opyQPYoXLdPaXJAKVyPusRIckC4HoVL8TlyQOF6FIaCLHJAKVyPInIdckDNzMzU1RFyQHsUrrcfC3JAuB6F22AFckCPwvWIDQByQAAAAEA2/HFAXI/CFaz6cUDhehRGvvdxQNejcD1j9HFACtejQNj9cUD2KFwvcxZyQFyPwq2fMXJAzczMXI1VckDNzMz0EHlyQLgehVPTk3JApHA9GmmmckAAAAAAAAD4/wAAAAAAAPj/exSuv7uyckAAAAAAAAD4/wAAAAAAAPj/9ihcJ2dockAAAAAAAAD4/wAAAAAAAPj/7FG4VuFAckAAAAAAAAD4/wAAAAAAAPj/FK5H8RYyckAAAAAAAAD4/wAAAAAAAPj/16Nw1akjckAAAAAAAAD4/wAAAAAAAPj/SOF6jJofckAAAAAAAAD4/wAAAAAAAPj/w/UolLtQckAAAAAAAAD4/wAAAAAAAPj/pHA9eudkckAAAAAAAAD4/wAAAAAAAPj/KVyPAi5TckAAAAAAAAD4/wAAAAAAAPj/7FG4VjMeckAAAAAAAAD4/wAAAAAAAPj/FK5HIf0EckAAAAAAAAD4/wAAAAAAAPj/exSux8f0cUAAAAAAAAD4/wAAAAAAAPj/MzMz00HocUAAAAAAAAD4/wAAAAAAAPj/SOF6hLbfcUAAAAAAAAD4/wAAAAAAAPj/FK5HQb7vcUAAAAAAAAD4/wAAAAAAAPj/H4XrwVH8cUAAAAAAAAD4/wAAAAAAAPj/PQrXizH1cUAAAAAAAAD4/wAAAAAAAPj/4XoUHjHYcUA=",
                    "dtype": "f8"
                  }
                }
              ],
              "layout": {
                "annotations": [
                  {
                    "font": {
                      "size": 16
                    },
                    "showarrow": false,
                    "text": "t_2m",
                    "x": 0.5,
                    "xanchor": "center",
                    "xref": "paper",
                    "y": 1,
                    "yanchor": "bottom",
                    "yref": "paper"
                  }
                ],
                "colorway": [
                  "#636EFA",
                  "#EF553B",
                  "#00CC96",
                  "#AB63FA",
                  "#FFA15A",
                  "#19D3F3",
                  "#FF6692",
                  "#B6E880",
                  "#FF97FF",
                  "#FECB52"
                ],
                "height": 750,
                "hovermode": "x",
                "plot_bgcolor": "white",
                "showlegend": false,
                "template": {
                  "data": {
                    "bar": [
                      {
                        "error_x": {
                          "color": "#2a3f5f"
                        },
                        "error_y": {
                          "color": "#2a3f5f"
                        },
                        "marker": {
                          "line": {
                            "color": "#E5ECF6",
                            "width": 0.5
                          },
                          "pattern": {
                            "fillmode": "overlay",
                            "size": 10,
                            "solidity": 0.2
                          }
                        },
                        "type": "bar"
                      }
                    ],
                    "barpolar": [
                      {
                        "marker": {
                          "line": {
                            "color": "#E5ECF6",
                            "width": 0.5
                          },
                          "pattern": {
                            "fillmode": "overlay",
                            "size": 10,
                            "solidity": 0.2
                          }
                        },
                        "type": "barpolar"
                      }
                    ],
                    "carpet": [
                      {
                        "aaxis": {
                          "endlinecolor": "#2a3f5f",
                          "gridcolor": "white",
                          "linecolor": "white",
                          "minorgridcolor": "white",
                          "startlinecolor": "#2a3f5f"
                        },
                        "baxis": {
                          "endlinecolor": "#2a3f5f",
                          "gridcolor": "white",
                          "linecolor": "white",
                          "minorgridcolor": "white",
                          "startlinecolor": "#2a3f5f"
                        },
                        "type": "carpet"
                      }
                    ],
                    "choropleth": [
                      {
                        "colorbar": {
                          "outlinewidth": 0,
                          "ticks": ""
                        },
                        "type": "choropleth"
                      }
                    ],
                    "contour": [
                      {
                        "colorbar": {
                          "outlinewidth": 0,
                          "ticks": ""
                        },
                        "colorscale": [
                          [
                            0,
                            "#0d0887"
                          ],
                          [
                            0.1111111111111111,
                            "#46039f"
                          ],
                          [
                            0.2222222222222222,
                            "#7201a8"
                          ],
                          [
                            0.3333333333333333,
                            "#9c179e"
                          ],
                          [
                            0.4444444444444444,
                            "#bd3786"
                          ],
                          [
                            0.5555555555555556,
                            "#d8576b"
                          ],
                          [
                            0.6666666666666666,
                            "#ed7953"
                          ],
                          [
                            0.7777777777777778,
                            "#fb9f3a"
                          ],
                          [
                            0.8888888888888888,
                            "#fdca26"
                          ],
                          [
                            1,
                            "#f0f921"
                          ]
                        ],
                        "type": "contour"
                      }
                    ],
                    "contourcarpet": [
                      {
                        "colorbar": {
                          "outlinewidth": 0,
                          "ticks": ""
                        },
                        "type": "contourcarpet"
                      }
                    ],
                    "heatmap": [
                      {
                        "colorbar": {
                          "outlinewidth": 0,
                          "ticks": ""
                        },
                        "colorscale": [
                          [
                            0,
                            "#0d0887"
                          ],
                          [
                            0.1111111111111111,
                            "#46039f"
                          ],
                          [
                            0.2222222222222222,
                            "#7201a8"
                          ],
                          [
                            0.3333333333333333,
                            "#9c179e"
                          ],
                          [
                            0.4444444444444444,
                            "#bd3786"
                          ],
                          [
                            0.5555555555555556,
                            "#d8576b"
                          ],
                          [
                            0.6666666666666666,
                            "#ed7953"
                          ],
                          [
                            0.7777777777777778,
                            "#fb9f3a"
                          ],
                          [
                            0.8888888888888888,
                            "#fdca26"
                          ],
                          [
                            1,
                            "#f0f921"
                          ]
                        ],
                        "type": "heatmap"
                      }
                    ],
                    "histogram": [
                      {
                        "marker": {
                          "pattern": {
                            "fillmode": "overlay",
                            "size": 10,
                            "solidity": 0.2
                          }
                        },
                        "type": "histogram"
                      }
                    ],
                    "histogram2d": [
                      {
                        "colorbar": {
                          "outlinewidth": 0,
                          "ticks": ""
                        },
                        "colorscale": [
                          [
                            0,
                            "#0d0887"
                          ],
                          [
                            0.1111111111111111,
                            "#46039f"
                          ],
                          [
                            0.2222222222222222,
                            "#7201a8"
                          ],
                          [
                            0.3333333333333333,
                            "#9c179e"
                          ],
                          [
                            0.4444444444444444,
                            "#bd3786"
                          ],
                          [
                            0.5555555555555556,
                            "#d8576b"
                          ],
                          [
                            0.6666666666666666,
                            "#ed7953"
                          ],
                          [
                            0.7777777777777778,
                            "#fb9f3a"
                          ],
                          [
                            0.8888888888888888,
                            "#fdca26"
                          ],
                          [
                            1,
                            "#f0f921"
                          ]
                        ],
                        "type": "histogram2d"
                      }
                    ],
                    "histogram2dcontour": [
                      {
                        "colorbar": {
                          "outlinewidth": 0,
                          "ticks": ""
                        },
                        "colorscale": [
                          [
                            0,
                            "#0d0887"
                          ],
                          [
                            0.1111111111111111,
                            "#46039f"
                          ],
                          [
                            0.2222222222222222,
                            "#7201a8"
                          ],
                          [
                            0.3333333333333333,
                            "#9c179e"
                          ],
                          [
                            0.4444444444444444,
                            "#bd3786"
                          ],
                          [
                            0.5555555555555556,
                            "#d8576b"
                          ],
                          [
                            0.6666666666666666,
                            "#ed7953"
                          ],
                          [
                            0.7777777777777778,
                            "#fb9f3a"
                          ],
                          [
                            0.8888888888888888,
                            "#fdca26"
                          ],
                          [
                            1,
                            "#f0f921"
                          ]
                        ],
                        "type": "histogram2dcontour"
                      }
                    ],
                    "mesh3d": [
                      {
                        "colorbar": {
                          "outlinewidth": 0,
                          "ticks": ""
                        },
                        "type": "mesh3d"
                      }
                    ],
                    "parcoords": [
                      {
                        "line": {
                          "colorbar": {
                            "outlinewidth": 0,
                            "ticks": ""
                          }
                        },
                        "type": "parcoords"
                      }
                    ],
                    "pie": [
                      {
                        "automargin": true,
                        "type": "pie"
                      }
                    ],
                    "scatter": [
                      {
                        "fillpattern": {
                          "fillmode": "overlay",
                          "size": 10,
                          "solidity": 0.2
                        },
                        "type": "scatter"
                      }
                    ],
                    "scatter3d": [
                      {
                        "line": {
                          "colorbar": {
                            "outlinewidth": 0,
                            "ticks": ""
                          }
                        },
                        "marker": {
                          "colorbar": {
                            "outlinewidth": 0,
                            "ticks": ""
                          }
                        },
                        "type": "scatter3d"
                      }
                    ],
                    "scattercarpet": [
                      {
                        "marker": {
                          "colorbar": {
                            "outlinewidth": 0,
                            "ticks": ""
                          }
                        },
                        "type": "scattercarpet"
                      }
                    ],
                    "scattergeo": [
                      {
                        "marker": {
                          "colorbar": {
                            "outlinewidth": 0,
                            "ticks": ""
                          }
                        },
                        "type": "scattergeo"
                      }
                    ],
                    "scattergl": [
                      {
                        "marker": {
                          "colorbar": {
                            "outlinewidth": 0,
                            "ticks": ""
                          }
                        },
                        "type": "scattergl"
                      }
                    ],
                    "scattermap": [
                      {
                        "marker": {
                          "colorbar": {
                            "outlinewidth": 0,
                            "ticks": ""
                          }
                        },
                        "type": "scattermap"
                      }
                    ],
                    "scattermapbox": [
                      {
                        "marker": {
                          "colorbar": {
                            "outlinewidth": 0,
                            "ticks": ""
                          }
                        },
                        "type": "scattermapbox"
                      }
                    ],
                    "scatterpolar": [
                      {
                        "marker": {
                          "colorbar": {
                            "outlinewidth": 0,
                            "ticks": ""
                          }
                        },
                        "type": "scatterpolar"
                      }
                    ],
                    "scatterpolargl": [
                      {
                        "marker": {
                          "colorbar": {
                            "outlinewidth": 0,
                            "ticks": ""
                          }
                        },
                        "type": "scatterpolargl"
                      }
                    ],
                    "scatterternary": [
                      {
                        "marker": {
                          "colorbar": {
                            "outlinewidth": 0,
                            "ticks": ""
                          }
                        },
                        "type": "scatterternary"
                      }
                    ],
                    "surface": [
                      {
                        "colorbar": {
                          "outlinewidth": 0,
                          "ticks": ""
                        },
                        "colorscale": [
                          [
                            0,
                            "#0d0887"
                          ],
                          [
                            0.1111111111111111,
                            "#46039f"
                          ],
                          [
                            0.2222222222222222,
                            "#7201a8"
                          ],
                          [
                            0.3333333333333333,
                            "#9c179e"
                          ],
                          [
                            0.4444444444444444,
                            "#bd3786"
                          ],
                          [
                            0.5555555555555556,
                            "#d8576b"
                          ],
                          [
                            0.6666666666666666,
                            "#ed7953"
                          ],
                          [
                            0.7777777777777778,
                            "#fb9f3a"
                          ],
                          [
                            0.8888888888888888,
                            "#fdca26"
                          ],
                          [
                            1,
                            "#f0f921"
                          ]
                        ],
                        "type": "surface"
                      }
                    ],
                    "table": [
                      {
                        "cells": {
                          "fill": {
                            "color": "#EBF0F8"
                          },
                          "line": {
                            "color": "white"
                          }
                        },
                        "header": {
                          "fill": {
                            "color": "#C8D4E3"
                          },
                          "line": {
                            "color": "white"
                          }
                        },
                        "type": "table"
                      }
                    ]
                  },
                  "layout": {
                    "annotationdefaults": {
                      "arrowcolor": "#2a3f5f",
                      "arrowhead": 0,
                      "arrowwidth": 1
                    },
                    "autotypenumbers": "strict",
                    "coloraxis": {
                      "colorbar": {
                        "outlinewidth": 0,
                        "ticks": ""
                      }
                    },
                    "colorscale": {
                      "diverging": [
                        [
                          0,
                          "#8e0152"
                        ],
                        [
                          0.1,
                          "#c51b7d"
                        ],
                        [
                          0.2,
                          "#de77ae"
                        ],
                        [
                          0.3,
                          "#f1b6da"
                        ],
                        [
                          0.4,
                          "#fde0ef"
                        ],
                        [
                          0.5,
                          "#f7f7f7"
                        ],
                        [
                          0.6,
                          "#e6f5d0"
                        ],
                        [
                          0.7,
                          "#b8e186"
                        ],
                        [
                          0.8,
                          "#7fbc41"
                        ],
                        [
                          0.9,
                          "#4d9221"
                        ],
                        [
                          1,
                          "#276419"
                        ]
                      ],
                      "sequential": [
                        [
                          0,
                          "#0d0887"
                        ],
                        [
                          0.1111111111111111,
                          "#46039f"
                        ],
                        [
                          0.2222222222222222,
                          "#7201a8"
                        ],
                        [
                          0.3333333333333333,
                          "#9c179e"
                        ],
                        [
                          0.4444444444444444,
                          "#bd3786"
                        ],
                        [
                          0.5555555555555556,
                          "#d8576b"
                        ],
                        [
                          0.6666666666666666,
                          "#ed7953"
                        ],
                        [
                          0.7777777777777778,
                          "#fb9f3a"
                        ],
                        [
                          0.8888888888888888,
                          "#fdca26"
                        ],
                        [
                          1,
                          "#f0f921"
                        ]
                      ],
                      "sequentialminus": [
                        [
                          0,
                          "#0d0887"
                        ],
                        [
                          0.1111111111111111,
                          "#46039f"
                        ],
                        [
                          0.2222222222222222,
                          "#7201a8"
                        ],
                        [
                          0.3333333333333333,
                          "#9c179e"
                        ],
                        [
                          0.4444444444444444,
                          "#bd3786"
                        ],
                        [
                          0.5555555555555556,
                          "#d8576b"
                        ],
                        [
                          0.6666666666666666,
                          "#ed7953"
                        ],
                        [
                          0.7777777777777778,
                          "#fb9f3a"
                        ],
                        [
                          0.8888888888888888,
                          "#fdca26"
                        ],
                        [
                          1,
                          "#f0f921"
                        ]
                      ]
                    },
                    "colorway": [
                      "#636efa",
                      "#EF553B",
                      "#00cc96",
                      "#ab63fa",
                      "#FFA15A",
                      "#19d3f3",
                      "#FF6692",
                      "#B6E880",
                      "#FF97FF",
                      "#FECB52"
                    ],
                    "font": {
                      "color": "#2a3f5f"
                    },
                    "geo": {
                      "bgcolor": "white",
                      "lakecolor": "white",
                      "landcolor": "#E5ECF6",
                      "showlakes": true,
                      "showland": true,
                      "subunitcolor": "white"
                    },
                    "hoverlabel": {
                      "align": "left"
                    },
                    "hovermode": "closest",
                    "mapbox": {
                      "style": "light"
                    },
                    "paper_bgcolor": "white",
                    "plot_bgcolor": "#E5ECF6",
                    "polar": {
                      "angularaxis": {
                        "gridcolor": "white",
                        "linecolor": "white",
                        "ticks": ""
                      },
                      "bgcolor": "#E5ECF6",
                      "radialaxis": {
                        "gridcolor": "white",
                        "linecolor": "white",
                        "ticks": ""
                      }
                    },
                    "scene": {
                      "xaxis": {
                        "backgroundcolor": "#E5ECF6",
                        "gridcolor": "white",
                        "gridwidth": 2,
                        "linecolor": "white",
                        "showbackground": true,
                        "ticks": "",
                        "zerolinecolor": "white"
                      },
                      "yaxis": {
                        "backgroundcolor": "#E5ECF6",
                        "gridcolor": "white",
                        "gridwidth": 2,
                        "linecolor": "white",
                        "showbackground": true,
                        "ticks": "",
                        "zerolinecolor": "white"
                      },
                      "zaxis": {
                        "backgroundcolor": "#E5ECF6",
                        "gridcolor": "white",
                        "gridwidth": 2,
                        "linecolor": "white",
                        "showbackground": true,
                        "ticks": "",
                        "zerolinecolor": "white"
                      }
                    },
                    "shapedefaults": {
                      "line": {
                        "color": "#2a3f5f"
                      }
                    },
                    "ternary": {
                      "aaxis": {
                        "gridcolor": "white",
                        "linecolor": "white",
                        "ticks": ""
                      },
                      "baxis": {
                        "gridcolor": "white",
                        "linecolor": "white",
                        "ticks": ""
                      },
                      "bgcolor": "#E5ECF6",
                      "caxis": {
                        "gridcolor": "white",
                        "linecolor": "white",
                        "ticks": ""
                      }
                    },
                    "title": {
                      "x": 0.05
                    },
                    "xaxis": {
                      "automargin": true,
                      "gridcolor": "white",
                      "linecolor": "white",
                      "ticks": "",
                      "title": {
                        "standoff": 15
                      },
                      "zerolinecolor": "white",
                      "zerolinewidth": 2
                    },
                    "yaxis": {
                      "automargin": true,
                      "gridcolor": "white",
                      "linecolor": "white",
                      "ticks": "",
                      "title": {
                        "standoff": 15
                      },
                      "zerolinecolor": "white",
                      "zerolinewidth": 2
                    }
                  }
                },
                "xaxis": {
                  "anchor": "y",
                  "domain": [
                    0,
                    1
                  ],
                  "gridwidth": 1,
                  "showgrid": false,
                  "showline": false,
                  "zeroline": false
                },
                "yaxis": {
                  "anchor": "x",
                  "domain": [
                    0,
                    1
                  ],
                  "gridcolor": "#EEEEEE",
                  "linecolor": "black",
                  "showgrid": true,
                  "showline": true,
                  "title": {
                    "text": "K"
                  },
                  "zeroline": false
                }
              }
            }
          },
          "metadata": {},
          "output_type": "display_data"
        }
      ],
      "source": [
        "from earthkit.plots.interactive import Chart\n",
        "\n",
        "TIME_FREQUENCY = \"1h\"\n",
        "QUANTILES = [0, 0.1, 0.25, 0.5, 0.75, 0.9, 1]\n",
        "\n",
        "chart = Chart()\n",
        "\n",
        "# CH1\n",
        "chart.box(ds_ch1, quantiles=QUANTILES, line_color=\"#ea5545\",\n",
        "          legendgroup=\"CH1\", showlegend=False)\n",
        "chart.line(ds_ch1, aggregation=\"mean\", line_color=\"grey\",\n",
        "           time_frequency=TIME_FREQUENCY,\n",
        "           legendgroup=\"CH1\", name=\"ICON-CH1-EPS (mean)\", showlegend=True)\n",
        "\n",
        "# CH2\n",
        "chart.box(ds_ch2, quantiles=QUANTILES, line_color=\"#ef9b20\",\n",
        "          legendgroup=\"CH2\", showlegend=False)\n",
        "chart.line(ds_ch2, aggregation=\"mean\", line_color=\"grey\",\n",
        "           time_frequency=TIME_FREQUENCY,\n",
        "           legendgroup=\"CH2\", name=\"ICON-CH2-EPS (mean)\", showlegend=True)\n",
        "\n",
        "# IFS\n",
        "chart.box(ds_ifs, quantiles=QUANTILES, line_color=\"#27aeef\",\n",
        "          legendgroup=\"IFS\", showlegend=False)\n",
        "chart.line(ds_ifs, aggregation=\"mean\", line_color=\"grey\",\n",
        "           time_frequency=TIME_FREQUENCY,\n",
        "           legendgroup=\"IFS\", name=\"IFS (mean)\", showlegend=True)\n",
        "\n",
        "chart.show()\n"
      ]
    },
    {
      "cell_type": "code",
      "execution_count": null,
      "id": "61c7c801",
      "metadata": {},
      "outputs": [],
      "source": []
    }
  ],
  "metadata": {
    "kernelspec": {
      "display_name": "polytope demo-test-after-review",
      "language": "python",
      "name": "polytope-env"
    },
    "language_info": {
      "codemirror_mode": {
        "name": "ipython",
        "version": 3
      },
      "file_extension": ".py",
      "mimetype": "text/x-python",
      "name": "python",
      "nbconvert_exporter": "python",
      "pygments_lexer": "ipython3",
      "version": "3.11.9"
    }
  },
  "nbformat": 4,
  "nbformat_minor": 5
}
