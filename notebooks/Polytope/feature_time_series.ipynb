{
  "cells": [
    {
      "cell_type": "markdown",
      "id": "c275f633",
      "metadata": {},
      "source": [
        "# Time Series Feature: Time Series at Zurich Airport\n",
        "\n",
        "This notebook demonstrates efficient geolocation and time-series access using Polytope feature extraction. By retrieving only the requested grid points, the I/O is greatly reduced and workflows can be considerably sped up."
      ]
    },
    {
      "cell_type": "markdown",
      "id": "14590001",
      "metadata": {},
      "source": [
        "## Installation\n",
        "Follow the instructions in [README.md](https://github.com/MeteoSwiss/nwp-fdb-polytope-demo/blob/main/README.md#Installation-1) to install the necessary dependencies."
      ]
    },
    {
      "cell_type": "markdown",
      "id": "cfcfc520",
      "metadata": {},
      "source": [
        "## Configuring access to Polytope\n",
        "To access ICON data via MeteoSwiss's Polytope, you need a Polytope offline token provided by MeteoSwiss. If you do not already have a token, you can request one [here](https://meteoswiss.atlassian.net/wiki/spaces/IW2/pages/327780397/Polytope#Offline-token-authentication)."
      ]
    },
    {
      "cell_type": "code",
      "execution_count": 1,
      "id": "d31a6eaa-f842-41f4-92e9-fa98c429c475",
      "metadata": {},
      "outputs": [],
      "source": [
        "import os\n",
        "\n",
        "# ECMWF Polytope (leave blank if using ICON-CSCS)\n",
        "os.environ[\"POLYTOPE_USER_KEY\"] = \"\"\n",
        "os.environ[\"POLYTOPE_USER_EMAIL\"] = \"\"\n",
        "\n",
        "# ICON-CSCS Polytope (leave blank if using ECMWF)\n",
        "os.environ[\"POLYTOPE_USERNAME\"] = \"xxx\"\n",
        "os.environ[\"POLYTOPE_PASSWORD\"] = \"xxx\"\n",
        "os.environ[\"POLYTOPE_ADDRESS\"] = \"https://polytope-dev.mchml.cscs.ch\""
      ]
    },
    {
      "cell_type": "markdown",
      "id": "b9dc71fd",
      "metadata": {},
      "source": [
        "## Select the geolocation\n",
        "We’ll request a time series at **Zurich Airport** (WGS84 coordinates)."
      ]
    },
    {
      "cell_type": "code",
      "execution_count": 2,
      "id": "0a7b07d0",
      "metadata": {},
      "outputs": [],
      "source": [
        "zrh_geo_point = (8.565074, 47.453928)  # (longitude, latitude) in WGS84"
      ]
    },
    {
      "cell_type": "markdown",
      "id": "f8e2f934",
      "metadata": {},
      "source": [
        "## Rotate the point\n",
        "\n",
        "Given that the data source accessed by Polytope is stored on a rotated grid, it is necessary to provide Polytope with the point in rotated coordinates, using a South Pole rotation with a reference of longitude 10° and latitude of -43°.\n",
        "\n",
        "> **NOTE:** `transform_point()` expects `(longitude, latitude)`."
      ]
    },
    {
      "cell_type": "code",
      "execution_count": 3,
      "id": "b2fcc9a0",
      "metadata": {},
      "outputs": [],
      "source": [
        "import cartopy.crs as ccrs\n",
        "\n",
        "geo_crs = ccrs.PlateCarree()\n",
        "rotated_crs = ccrs.RotatedPole(pole_longitude=190, pole_latitude=43)\n",
        "\n",
        "# Convert the point from geographic to rotated coordinates\n",
        "geo_lon, geo_lat = zrh_geo_point\n",
        "rot_lon, rot_lat = rotated_crs.transform_point(geo_lon, geo_lat, geo_crs)\n",
        "rotated_point = (rot_lon, rot_lat)"
      ]
    },
    {
      "cell_type": "markdown",
      "id": "e31b92b1",
      "metadata": {},
      "source": [
        "## Select the run date and time\n",
        "The FDB containing real-time data typically **holds only the most recent day of forecasts**. The next cell computes a valid run time automatically."
      ]
    },
    {
      "cell_type": "code",
      "execution_count": 4,
      "id": "ce42ef6c",
      "metadata": {},
      "outputs": [
        {
          "data": {
            "text/plain": [
              "('20250916', '0600')"
            ]
          },
          "execution_count": 4,
          "metadata": {},
          "output_type": "execute_result"
        }
      ],
      "source": [
        "from datetime import datetime, timedelta\n",
        "\n",
        "now = datetime.now()\n",
        "past_time = now - timedelta(hours=12)                # use a recent past cycle\n",
        "rounded_hour = (past_time.hour // 6) * 6             # round down to 6-hour cycles\n",
        "rounded_time = past_time.replace(hour=rounded_hour, minute=0, second=0, microsecond=0)\n",
        "\n",
        "date = rounded_time.strftime('%Y%m%d')\n",
        "time = rounded_time.strftime('%H%M')\n",
        "date, time"
      ]
    },
    {
      "cell_type": "markdown",
      "id": "a16ec2e1",
      "metadata": {},
      "source": [
        "## Define the feature\n",
        "Request a **time series at one point** (`rotated_point`) over **steps 0–120**. ICON-CH2-EPS is hourly in this range (use 0–33 for ICON-CH1-EPS).\n",
        "\n",
        "> **NOTE:** If points are `(longitude, latitude)`, set `axes=[\"longitude\", \"latitude\"]`."
      ]
    },
    {
      "cell_type": "code",
      "execution_count": 5,
      "id": "05f726ec",
      "metadata": {},
      "outputs": [],
      "source": [
        "feature = {\n",
        "    \"type\": \"timeseries\",\n",
        "    \"points\": [rotated_point],      # single point in the rotated grid (lon, lat)\n",
        "    \"time_axis\": \"step\",\n",
        "    \"range\": {\"start\": 0, \"end\": 120},   # hourly steps 0..120\n",
        "    \"axes\": [\"longitude\", \"latitude\"]    # order must match the point tuple\n",
        "}"
      ]
    },
    {
      "cell_type": "markdown",
      "id": "f6a5949c",
      "metadata": {},
      "source": [
        "## Define the request\n",
        "Use [meteodata-lab](https://meteoswiss.github.io/meteodata-lab/)'s `mars.Request` for a clean, validated API. This example fetches **2-m temperature** from **ICON-CH2-EPS** at the **surface**, for **ensemble member 1** (`number=1`), at the selected run date/time.\n",
        "- `type=\"pf\"` — perturbed member (requires `number`).\n",
        "- `type=\"cf\"` — control forecast (no `number`)."
      ]
    },
    {
      "cell_type": "code",
      "execution_count": 6,
      "id": "51050159",
      "metadata": {},
      "outputs": [],
      "source": [
        "from meteodatalab import mars\n",
        "\n",
        "request = mars.Request(\n",
        "    param=\"T_2M\",\n",
        "    date=date,\n",
        "    time=time,\n",
        "    model=mars.Model.ICON_CH2_EPS,\n",
        "    levtype=mars.LevType.SURFACE,\n",
        "    type=\"pf\",\n",
        "    number=1,\n",
        "    feature=feature\n",
        ")"
      ]
    },
    {
      "cell_type": "markdown",
      "id": "3382dc30",
      "metadata": {},
      "source": [
        "## Data retrieval\n",
        "Load the data with [earthkit.data](https://earthkit-data.readthedocs.io/en/latest/) and convert it to an [xarray.Dataset](https://docs.xarray.dev/en/stable/generated/xarray.Dataset.html)."
      ]
    },
    {
      "cell_type": "code",
      "execution_count": 7,
      "id": "2280b32a",
      "metadata": {},
      "outputs": [
        {
          "name": "stderr",
          "output_type": "stream",
          "text": [
            "2025-09-16 22:12:58 - INFO - Sending request...\n",
            "{'request': 'class: od\\n'\n",
            "            \"date: '20250916'\\n\"\n",
            "            \"expver: '0001'\\n\"\n",
            "            'feature:\\n'\n",
            "            '  axes:\\n'\n",
            "            '  - longitude\\n'\n",
            "            '  - latitude\\n'\n",
            "            '  points:\\n'\n",
            "            '  - - -0.9702489359191186\\n'\n",
            "            '    - 0.4628136497221331\\n'\n",
            "            '  range:\\n'\n",
            "            '    end: 120\\n'\n",
            "            '    start: 0\\n'\n",
            "            '  time_axis: step\\n'\n",
            "            '  type: timeseries\\n'\n",
            "            'levtype: sfc\\n'\n",
            "            'model: icon-ch2-eps\\n'\n",
            "            'number: 1\\n'\n",
            "            \"param: '500011'\\n\"\n",
            "            'stream: enfo\\n'\n",
            "            \"time: '0600'\\n\"\n",
            "            'type: pf\\n',\n",
            " 'verb': 'retrieve'}\n",
            "2025-09-16 22:12:59 - INFO - Request accepted. Please poll ./8e35793f-7ea9-402b-897f-1f9f3e2e2513 for status\n",
            "2025-09-16 22:12:59 - INFO - Checking request status (8e35793f-7ea9-402b-897f-1f9f3e2e2513)...\n",
            "2025-09-16 22:12:59 - INFO - The current status of the request is 'queued'\n",
            "2025-09-16 22:12:59 - INFO - The current status of the request is 'processing'\n",
            "2025-09-16 22:13:13 - INFO - The current status of the request is 'processed'\n",
            "                                                                                                                                                                                                                                                                                                                                                   \r"
          ]
        }
      ],
      "source": [
        "import earthkit.data as ekd\n",
        "ds = ekd.from_source(\n",
        "    \"polytope\",\n",
        "    \"mchgj\",\n",
        "    request.to_polytope(),\n",
        "    stream=False\n",
        ").to_xarray()"
      ]
    },
    {
      "cell_type": "markdown",
      "id": "f64a4028",
      "metadata": {},
      "source": [
        "## Plot the results\n",
        "\n",
        "> **Tip:** Hover over the chart to see the exact timestamp and value (°C).  \n",
        "> If you’re viewing a static image (e.g., PNG export), tooltips aren’t available."
      ]
    },
    {
      "cell_type": "code",
      "execution_count": 8,
      "id": "0001b5a3",
      "metadata": {},
      "outputs": [
        {
          "data": {
            "application/vnd.plotly.v1+json": {
              "config": {
                "plotlyServerURL": "https://plot.ly"
              },
              "data": [
                {
                  "type": "scatter",
                  "x": [
                    "2025-09-16T06:00:00",
                    "2025-09-16T07:00:00",
                    "2025-09-16T08:00:00",
                    "2025-09-16T09:00:00",
                    "2025-09-16T10:00:00",
                    "2025-09-16T11:00:00",
                    "2025-09-16T12:00:00",
                    "2025-09-16T13:00:00",
                    "2025-09-16T14:00:00",
                    "2025-09-16T15:00:00",
                    "2025-09-16T16:00:00",
                    "2025-09-16T17:00:00",
                    "2025-09-16T18:00:00",
                    "2025-09-16T19:00:00",
                    "2025-09-16T20:00:00",
                    "2025-09-16T21:00:00",
                    "2025-09-16T22:00:00",
                    "2025-09-16T23:00:00",
                    "2025-09-17T00:00:00",
                    "2025-09-17T01:00:00",
                    "2025-09-17T02:00:00",
                    "2025-09-17T03:00:00",
                    "2025-09-17T04:00:00",
                    "2025-09-17T05:00:00",
                    "2025-09-17T06:00:00",
                    "2025-09-17T07:00:00",
                    "2025-09-17T08:00:00",
                    "2025-09-17T09:00:00",
                    "2025-09-17T10:00:00",
                    "2025-09-17T11:00:00",
                    "2025-09-17T12:00:00",
                    "2025-09-17T13:00:00",
                    "2025-09-17T14:00:00",
                    "2025-09-17T15:00:00",
                    "2025-09-17T16:00:00",
                    "2025-09-17T17:00:00",
                    "2025-09-17T18:00:00",
                    "2025-09-17T19:00:00",
                    "2025-09-17T20:00:00",
                    "2025-09-17T21:00:00",
                    "2025-09-17T22:00:00",
                    "2025-09-17T23:00:00",
                    "2025-09-18T00:00:00",
                    "2025-09-18T01:00:00",
                    "2025-09-18T02:00:00",
                    "2025-09-18T03:00:00",
                    "2025-09-18T04:00:00",
                    "2025-09-18T05:00:00",
                    "2025-09-18T06:00:00",
                    "2025-09-18T07:00:00",
                    "2025-09-18T08:00:00",
                    "2025-09-18T09:00:00",
                    "2025-09-18T10:00:00",
                    "2025-09-18T11:00:00",
                    "2025-09-18T12:00:00",
                    "2025-09-18T13:00:00",
                    "2025-09-18T14:00:00",
                    "2025-09-18T15:00:00",
                    "2025-09-18T16:00:00",
                    "2025-09-18T17:00:00",
                    "2025-09-18T18:00:00",
                    "2025-09-18T19:00:00",
                    "2025-09-18T20:00:00",
                    "2025-09-18T21:00:00",
                    "2025-09-18T22:00:00",
                    "2025-09-18T23:00:00",
                    "2025-09-19T00:00:00",
                    "2025-09-19T01:00:00",
                    "2025-09-19T02:00:00",
                    "2025-09-19T03:00:00",
                    "2025-09-19T04:00:00",
                    "2025-09-19T05:00:00",
                    "2025-09-19T06:00:00",
                    "2025-09-19T07:00:00",
                    "2025-09-19T08:00:00",
                    "2025-09-19T09:00:00",
                    "2025-09-19T10:00:00",
                    "2025-09-19T11:00:00",
                    "2025-09-19T12:00:00",
                    "2025-09-19T13:00:00",
                    "2025-09-19T14:00:00",
                    "2025-09-19T15:00:00",
                    "2025-09-19T16:00:00",
                    "2025-09-19T17:00:00",
                    "2025-09-19T18:00:00",
                    "2025-09-19T19:00:00",
                    "2025-09-19T20:00:00",
                    "2025-09-19T21:00:00",
                    "2025-09-19T22:00:00",
                    "2025-09-19T23:00:00",
                    "2025-09-20T00:00:00",
                    "2025-09-20T01:00:00",
                    "2025-09-20T02:00:00",
                    "2025-09-20T03:00:00",
                    "2025-09-20T04:00:00",
                    "2025-09-20T05:00:00",
                    "2025-09-20T06:00:00",
                    "2025-09-20T07:00:00",
                    "2025-09-20T08:00:00",
                    "2025-09-20T09:00:00",
                    "2025-09-20T10:00:00",
                    "2025-09-20T11:00:00",
                    "2025-09-20T12:00:00",
                    "2025-09-20T13:00:00",
                    "2025-09-20T14:00:00",
                    "2025-09-20T15:00:00",
                    "2025-09-20T16:00:00",
                    "2025-09-20T17:00:00",
                    "2025-09-20T18:00:00",
                    "2025-09-20T19:00:00",
                    "2025-09-20T20:00:00",
                    "2025-09-20T21:00:00",
                    "2025-09-20T22:00:00",
                    "2025-09-20T23:00:00",
                    "2025-09-21T00:00:00",
                    "2025-09-21T01:00:00",
                    "2025-09-21T02:00:00",
                    "2025-09-21T03:00:00",
                    "2025-09-21T04:00:00",
                    "2025-09-21T05:00:00",
                    "2025-09-21T06:00:00"
                  ],
                  "y": {
                    "bdata": "QDMzMw84KkBAMzMz/5QrQEAzMzOjGi1AQDMzM8sOLkBAMzMzL7EvQKCZmZkT2DBAoJmZmZVQMUCgmZmZ/awxQKCZmZnRvzFAoJmZmVEBMUCgmZmZr0IwQEAzMzOLpy5AQDMzM/PPK0BAMzMznw8qQEAzMzPLIihAQDMzM+MaJ0BAMzMzp18mQEAzMzNr/yNAQDMzMzP9IUBAMzMzzwIiQEAzMzNHjCJAQDMzM6+oIkBAMzMze/QhQEAzMzP/wSFAQDMzMwsCIkBAMzMz54glQEAzMzP7+ilAQDMzM0NyLUBAMzMz87AuQKCZmZl1KzBAoJmZmfM8MUCgmZmZ1fUxQKCZmZk1yTJAoJmZmTU9M0CgmZmZER0zQKCZmZkJHTJAoJmZmXHYMEBAMzMz9yEvQEAzMzMrTypAQDMzM2cSKUBAMzMzOxQoQEAzMzOT9yZAQDMzM+frJUBAMzMzX8ckQEAzMzNj1SNAQDMzM6+RI0BAMzMzk9giQEAzMzPj+yJAQDMzMzPmIUBAMzMzK+EiQEAzMzMvRilAoJmZmfd6MECgmZmZAxszQKCZmZnz/DRAoJmZmS2vNkCgmZmZB6Q3QKCZmZnJ8TdAoJmZmdPrN0CgmZmZJ2c3QKCZmZnD7zVAoJmZmesRNECgmZmZK3ExQKCZmZn5KDBAQDMzM6tlLUBAMzMzEx0rQEAzMzMbYylAQDMzMz+KJ0BAMzMzfz0lQEAzMzPPlSNAQDMzM68bI0BAMzMzl3oiQEAzMzPH8SBAQDMzM6OyIEBAMzMz55kjQEAzMzOPlCpAoJmZmbP/MECgmZmZS7kzQKCZmZnHxzVAoJmZmSG3N0CgmZmZJ4A5QKCZmZlzWjpAoJmZmbW5OkCgmZmZe/s5QKCZmZkxjTdAoJmZme1zNECgmZmZkYQyQKCZmZk/MTFAoJmZmQczMEBAMzMzFwYvQEAzMzMPQy5AQDMzMy+WLUBAMzMzX3stQEAzMzOvVypAQDMzM6vtJ0BAMzMzd7smQEAzMzOvSCdAQDMzM/+cJ0BAMzMz+xQqQEAzMzMP/C1AoJmZmfUIMkCgmZmZH0U1QKCZmZnTUjdAoJmZmdUMOUCgmZmZIYc6QKCZmZl9/jpAoJmZmbMyO0CgmZmZ6aI6QKCZmZnv8jhAoJmZmdfKNUCgmZmZNyI0QKCZmZkJOzNAoJmZmXFwMkCgmZmZj9wxQKCZmZllczFAoJmZmTtcMUCgmZmZ/TgxQKCZmZnNHjFAoJmZmVUEMUCgmZmZrZswQEAzMzOLqy9AQDMzM09JL0A=",
                    "dtype": "f8"
                  }
                }
              ],
              "layout": {
                "annotations": [
                  {
                    "font": {
                      "size": 16
                    },
                    "showarrow": false,
                    "text": "t_2m (°C)",
                    "x": 0.5,
                    "xanchor": "center",
                    "xref": "paper",
                    "y": 1,
                    "yanchor": "bottom",
                    "yref": "paper"
                  }
                ],
                "colorway": [
                  "#636EFA",
                  "#EF553B",
                  "#00CC96",
                  "#AB63FA",
                  "#FFA15A",
                  "#19D3F3",
                  "#FF6692",
                  "#B6E880",
                  "#FF97FF",
                  "#FECB52"
                ],
                "height": 750,
                "hovermode": "x",
                "plot_bgcolor": "white",
                "showlegend": false,
                "template": {
                  "data": {
                    "bar": [
                      {
                        "error_x": {
                          "color": "#2a3f5f"
                        },
                        "error_y": {
                          "color": "#2a3f5f"
                        },
                        "marker": {
                          "line": {
                            "color": "#E5ECF6",
                            "width": 0.5
                          },
                          "pattern": {
                            "fillmode": "overlay",
                            "size": 10,
                            "solidity": 0.2
                          }
                        },
                        "type": "bar"
                      }
                    ],
                    "barpolar": [
                      {
                        "marker": {
                          "line": {
                            "color": "#E5ECF6",
                            "width": 0.5
                          },
                          "pattern": {
                            "fillmode": "overlay",
                            "size": 10,
                            "solidity": 0.2
                          }
                        },
                        "type": "barpolar"
                      }
                    ],
                    "carpet": [
                      {
                        "aaxis": {
                          "endlinecolor": "#2a3f5f",
                          "gridcolor": "white",
                          "linecolor": "white",
                          "minorgridcolor": "white",
                          "startlinecolor": "#2a3f5f"
                        },
                        "baxis": {
                          "endlinecolor": "#2a3f5f",
                          "gridcolor": "white",
                          "linecolor": "white",
                          "minorgridcolor": "white",
                          "startlinecolor": "#2a3f5f"
                        },
                        "type": "carpet"
                      }
                    ],
                    "choropleth": [
                      {
                        "colorbar": {
                          "outlinewidth": 0,
                          "ticks": ""
                        },
                        "type": "choropleth"
                      }
                    ],
                    "contour": [
                      {
                        "colorbar": {
                          "outlinewidth": 0,
                          "ticks": ""
                        },
                        "colorscale": [
                          [
                            0,
                            "#0d0887"
                          ],
                          [
                            0.1111111111111111,
                            "#46039f"
                          ],
                          [
                            0.2222222222222222,
                            "#7201a8"
                          ],
                          [
                            0.3333333333333333,
                            "#9c179e"
                          ],
                          [
                            0.4444444444444444,
                            "#bd3786"
                          ],
                          [
                            0.5555555555555556,
                            "#d8576b"
                          ],
                          [
                            0.6666666666666666,
                            "#ed7953"
                          ],
                          [
                            0.7777777777777778,
                            "#fb9f3a"
                          ],
                          [
                            0.8888888888888888,
                            "#fdca26"
                          ],
                          [
                            1,
                            "#f0f921"
                          ]
                        ],
                        "type": "contour"
                      }
                    ],
                    "contourcarpet": [
                      {
                        "colorbar": {
                          "outlinewidth": 0,
                          "ticks": ""
                        },
                        "type": "contourcarpet"
                      }
                    ],
                    "heatmap": [
                      {
                        "colorbar": {
                          "outlinewidth": 0,
                          "ticks": ""
                        },
                        "colorscale": [
                          [
                            0,
                            "#0d0887"
                          ],
                          [
                            0.1111111111111111,
                            "#46039f"
                          ],
                          [
                            0.2222222222222222,
                            "#7201a8"
                          ],
                          [
                            0.3333333333333333,
                            "#9c179e"
                          ],
                          [
                            0.4444444444444444,
                            "#bd3786"
                          ],
                          [
                            0.5555555555555556,
                            "#d8576b"
                          ],
                          [
                            0.6666666666666666,
                            "#ed7953"
                          ],
                          [
                            0.7777777777777778,
                            "#fb9f3a"
                          ],
                          [
                            0.8888888888888888,
                            "#fdca26"
                          ],
                          [
                            1,
                            "#f0f921"
                          ]
                        ],
                        "type": "heatmap"
                      }
                    ],
                    "histogram": [
                      {
                        "marker": {
                          "pattern": {
                            "fillmode": "overlay",
                            "size": 10,
                            "solidity": 0.2
                          }
                        },
                        "type": "histogram"
                      }
                    ],
                    "histogram2d": [
                      {
                        "colorbar": {
                          "outlinewidth": 0,
                          "ticks": ""
                        },
                        "colorscale": [
                          [
                            0,
                            "#0d0887"
                          ],
                          [
                            0.1111111111111111,
                            "#46039f"
                          ],
                          [
                            0.2222222222222222,
                            "#7201a8"
                          ],
                          [
                            0.3333333333333333,
                            "#9c179e"
                          ],
                          [
                            0.4444444444444444,
                            "#bd3786"
                          ],
                          [
                            0.5555555555555556,
                            "#d8576b"
                          ],
                          [
                            0.6666666666666666,
                            "#ed7953"
                          ],
                          [
                            0.7777777777777778,
                            "#fb9f3a"
                          ],
                          [
                            0.8888888888888888,
                            "#fdca26"
                          ],
                          [
                            1,
                            "#f0f921"
                          ]
                        ],
                        "type": "histogram2d"
                      }
                    ],
                    "histogram2dcontour": [
                      {
                        "colorbar": {
                          "outlinewidth": 0,
                          "ticks": ""
                        },
                        "colorscale": [
                          [
                            0,
                            "#0d0887"
                          ],
                          [
                            0.1111111111111111,
                            "#46039f"
                          ],
                          [
                            0.2222222222222222,
                            "#7201a8"
                          ],
                          [
                            0.3333333333333333,
                            "#9c179e"
                          ],
                          [
                            0.4444444444444444,
                            "#bd3786"
                          ],
                          [
                            0.5555555555555556,
                            "#d8576b"
                          ],
                          [
                            0.6666666666666666,
                            "#ed7953"
                          ],
                          [
                            0.7777777777777778,
                            "#fb9f3a"
                          ],
                          [
                            0.8888888888888888,
                            "#fdca26"
                          ],
                          [
                            1,
                            "#f0f921"
                          ]
                        ],
                        "type": "histogram2dcontour"
                      }
                    ],
                    "mesh3d": [
                      {
                        "colorbar": {
                          "outlinewidth": 0,
                          "ticks": ""
                        },
                        "type": "mesh3d"
                      }
                    ],
                    "parcoords": [
                      {
                        "line": {
                          "colorbar": {
                            "outlinewidth": 0,
                            "ticks": ""
                          }
                        },
                        "type": "parcoords"
                      }
                    ],
                    "pie": [
                      {
                        "automargin": true,
                        "type": "pie"
                      }
                    ],
                    "scatter": [
                      {
                        "fillpattern": {
                          "fillmode": "overlay",
                          "size": 10,
                          "solidity": 0.2
                        },
                        "type": "scatter"
                      }
                    ],
                    "scatter3d": [
                      {
                        "line": {
                          "colorbar": {
                            "outlinewidth": 0,
                            "ticks": ""
                          }
                        },
                        "marker": {
                          "colorbar": {
                            "outlinewidth": 0,
                            "ticks": ""
                          }
                        },
                        "type": "scatter3d"
                      }
                    ],
                    "scattercarpet": [
                      {
                        "marker": {
                          "colorbar": {
                            "outlinewidth": 0,
                            "ticks": ""
                          }
                        },
                        "type": "scattercarpet"
                      }
                    ],
                    "scattergeo": [
                      {
                        "marker": {
                          "colorbar": {
                            "outlinewidth": 0,
                            "ticks": ""
                          }
                        },
                        "type": "scattergeo"
                      }
                    ],
                    "scattergl": [
                      {
                        "marker": {
                          "colorbar": {
                            "outlinewidth": 0,
                            "ticks": ""
                          }
                        },
                        "type": "scattergl"
                      }
                    ],
                    "scattermap": [
                      {
                        "marker": {
                          "colorbar": {
                            "outlinewidth": 0,
                            "ticks": ""
                          }
                        },
                        "type": "scattermap"
                      }
                    ],
                    "scattermapbox": [
                      {
                        "marker": {
                          "colorbar": {
                            "outlinewidth": 0,
                            "ticks": ""
                          }
                        },
                        "type": "scattermapbox"
                      }
                    ],
                    "scatterpolar": [
                      {
                        "marker": {
                          "colorbar": {
                            "outlinewidth": 0,
                            "ticks": ""
                          }
                        },
                        "type": "scatterpolar"
                      }
                    ],
                    "scatterpolargl": [
                      {
                        "marker": {
                          "colorbar": {
                            "outlinewidth": 0,
                            "ticks": ""
                          }
                        },
                        "type": "scatterpolargl"
                      }
                    ],
                    "scatterternary": [
                      {
                        "marker": {
                          "colorbar": {
                            "outlinewidth": 0,
                            "ticks": ""
                          }
                        },
                        "type": "scatterternary"
                      }
                    ],
                    "surface": [
                      {
                        "colorbar": {
                          "outlinewidth": 0,
                          "ticks": ""
                        },
                        "colorscale": [
                          [
                            0,
                            "#0d0887"
                          ],
                          [
                            0.1111111111111111,
                            "#46039f"
                          ],
                          [
                            0.2222222222222222,
                            "#7201a8"
                          ],
                          [
                            0.3333333333333333,
                            "#9c179e"
                          ],
                          [
                            0.4444444444444444,
                            "#bd3786"
                          ],
                          [
                            0.5555555555555556,
                            "#d8576b"
                          ],
                          [
                            0.6666666666666666,
                            "#ed7953"
                          ],
                          [
                            0.7777777777777778,
                            "#fb9f3a"
                          ],
                          [
                            0.8888888888888888,
                            "#fdca26"
                          ],
                          [
                            1,
                            "#f0f921"
                          ]
                        ],
                        "type": "surface"
                      }
                    ],
                    "table": [
                      {
                        "cells": {
                          "fill": {
                            "color": "#EBF0F8"
                          },
                          "line": {
                            "color": "white"
                          }
                        },
                        "header": {
                          "fill": {
                            "color": "#C8D4E3"
                          },
                          "line": {
                            "color": "white"
                          }
                        },
                        "type": "table"
                      }
                    ]
                  },
                  "layout": {
                    "annotationdefaults": {
                      "arrowcolor": "#2a3f5f",
                      "arrowhead": 0,
                      "arrowwidth": 1
                    },
                    "autotypenumbers": "strict",
                    "coloraxis": {
                      "colorbar": {
                        "outlinewidth": 0,
                        "ticks": ""
                      }
                    },
                    "colorscale": {
                      "diverging": [
                        [
                          0,
                          "#8e0152"
                        ],
                        [
                          0.1,
                          "#c51b7d"
                        ],
                        [
                          0.2,
                          "#de77ae"
                        ],
                        [
                          0.3,
                          "#f1b6da"
                        ],
                        [
                          0.4,
                          "#fde0ef"
                        ],
                        [
                          0.5,
                          "#f7f7f7"
                        ],
                        [
                          0.6,
                          "#e6f5d0"
                        ],
                        [
                          0.7,
                          "#b8e186"
                        ],
                        [
                          0.8,
                          "#7fbc41"
                        ],
                        [
                          0.9,
                          "#4d9221"
                        ],
                        [
                          1,
                          "#276419"
                        ]
                      ],
                      "sequential": [
                        [
                          0,
                          "#0d0887"
                        ],
                        [
                          0.1111111111111111,
                          "#46039f"
                        ],
                        [
                          0.2222222222222222,
                          "#7201a8"
                        ],
                        [
                          0.3333333333333333,
                          "#9c179e"
                        ],
                        [
                          0.4444444444444444,
                          "#bd3786"
                        ],
                        [
                          0.5555555555555556,
                          "#d8576b"
                        ],
                        [
                          0.6666666666666666,
                          "#ed7953"
                        ],
                        [
                          0.7777777777777778,
                          "#fb9f3a"
                        ],
                        [
                          0.8888888888888888,
                          "#fdca26"
                        ],
                        [
                          1,
                          "#f0f921"
                        ]
                      ],
                      "sequentialminus": [
                        [
                          0,
                          "#0d0887"
                        ],
                        [
                          0.1111111111111111,
                          "#46039f"
                        ],
                        [
                          0.2222222222222222,
                          "#7201a8"
                        ],
                        [
                          0.3333333333333333,
                          "#9c179e"
                        ],
                        [
                          0.4444444444444444,
                          "#bd3786"
                        ],
                        [
                          0.5555555555555556,
                          "#d8576b"
                        ],
                        [
                          0.6666666666666666,
                          "#ed7953"
                        ],
                        [
                          0.7777777777777778,
                          "#fb9f3a"
                        ],
                        [
                          0.8888888888888888,
                          "#fdca26"
                        ],
                        [
                          1,
                          "#f0f921"
                        ]
                      ]
                    },
                    "colorway": [
                      "#636efa",
                      "#EF553B",
                      "#00cc96",
                      "#ab63fa",
                      "#FFA15A",
                      "#19d3f3",
                      "#FF6692",
                      "#B6E880",
                      "#FF97FF",
                      "#FECB52"
                    ],
                    "font": {
                      "color": "#2a3f5f"
                    },
                    "geo": {
                      "bgcolor": "white",
                      "lakecolor": "white",
                      "landcolor": "#E5ECF6",
                      "showlakes": true,
                      "showland": true,
                      "subunitcolor": "white"
                    },
                    "hoverlabel": {
                      "align": "left"
                    },
                    "hovermode": "closest",
                    "mapbox": {
                      "style": "light"
                    },
                    "paper_bgcolor": "white",
                    "plot_bgcolor": "#E5ECF6",
                    "polar": {
                      "angularaxis": {
                        "gridcolor": "white",
                        "linecolor": "white",
                        "ticks": ""
                      },
                      "bgcolor": "#E5ECF6",
                      "radialaxis": {
                        "gridcolor": "white",
                        "linecolor": "white",
                        "ticks": ""
                      }
                    },
                    "scene": {
                      "xaxis": {
                        "backgroundcolor": "#E5ECF6",
                        "gridcolor": "white",
                        "gridwidth": 2,
                        "linecolor": "white",
                        "showbackground": true,
                        "ticks": "",
                        "zerolinecolor": "white"
                      },
                      "yaxis": {
                        "backgroundcolor": "#E5ECF6",
                        "gridcolor": "white",
                        "gridwidth": 2,
                        "linecolor": "white",
                        "showbackground": true,
                        "ticks": "",
                        "zerolinecolor": "white"
                      },
                      "zaxis": {
                        "backgroundcolor": "#E5ECF6",
                        "gridcolor": "white",
                        "gridwidth": 2,
                        "linecolor": "white",
                        "showbackground": true,
                        "ticks": "",
                        "zerolinecolor": "white"
                      }
                    },
                    "shapedefaults": {
                      "line": {
                        "color": "#2a3f5f"
                      }
                    },
                    "ternary": {
                      "aaxis": {
                        "gridcolor": "white",
                        "linecolor": "white",
                        "ticks": ""
                      },
                      "baxis": {
                        "gridcolor": "white",
                        "linecolor": "white",
                        "ticks": ""
                      },
                      "bgcolor": "#E5ECF6",
                      "caxis": {
                        "gridcolor": "white",
                        "linecolor": "white",
                        "ticks": ""
                      }
                    },
                    "title": {
                      "x": 0.05
                    },
                    "xaxis": {
                      "automargin": true,
                      "gridcolor": "white",
                      "linecolor": "white",
                      "ticks": "",
                      "title": {
                        "standoff": 15
                      },
                      "zerolinecolor": "white",
                      "zerolinewidth": 2
                    },
                    "yaxis": {
                      "automargin": true,
                      "gridcolor": "white",
                      "linecolor": "white",
                      "ticks": "",
                      "title": {
                        "standoff": 15
                      },
                      "zerolinecolor": "white",
                      "zerolinewidth": 2
                    }
                  }
                },
                "title": {
                  "text": "Time Series: 2-m Temperature at Zurich Airport"
                },
                "xaxis": {
                  "anchor": "y",
                  "domain": [
                    0,
                    1
                  ],
                  "gridwidth": 1,
                  "showgrid": false,
                  "showline": false,
                  "zeroline": false
                },
                "yaxis": {
                  "anchor": "x",
                  "domain": [
                    0,
                    1
                  ],
                  "gridcolor": "#EEEEEE",
                  "linecolor": "black",
                  "showgrid": true,
                  "showline": true,
                  "title": {
                    "text": ""
                  },
                  "zeroline": false
                }
              }
            }
          },
          "metadata": {},
          "output_type": "display_data"
        }
      ],
      "source": [
        "from earthkit.plots.interactive import Chart\n",
        "\n",
        "\n",
        "da = ds[\"t_2m\"] - 273.15\n",
        "da.name = \"t_2m (°C)\"\n",
        "\n",
        "chart = Chart()\n",
        "chart.line(da)\n",
        "\n",
        "chart.title(\"Time Series: 2-m Temperature at Zurich Airport\")\n",
        "chart.show()"
      ]
    },
    {
      "cell_type": "markdown",
      "id": "6ecbe31d",
      "metadata": {},
      "source": [
        "We can also query the entire ensemble at the same geolocation.\n",
        "\n",
        "For ICON-CH2-EPS:"
      ]
    },
    {
      "cell_type": "code",
      "execution_count": null,
      "id": "251da6f4",
      "metadata": {},
      "outputs": [],
      "source": [
        "import xarray as xr\n",
        "import dataclasses as dc\n",
        "\n",
        "ds_mems = []\n",
        "for num in range(1, 21):\n",
        "    req = dc.replace(\n",
        "        request,\n",
        "        number=str(num),\n",
        "        model=mars.Model.ICON_CH2_EPS,\n",
        "        feature={\n",
        "            \"type\": \"timeseries\",\n",
        "            \"points\": [rotated_point],\n",
        "            \"time_axis\": \"step\",\n",
        "            \"range\": {\"start\": 0, \"end\": 120},\n",
        "            \"axes\": [\"longitude\", \"latitude\"],\n",
        "        },\n",
        "    )\n",
        "    ds_mems.append(\n",
        "        ekd.from_source(\"polytope\", \"mchgj\", req.to_polytope(), stream=False).to_xarray()\n",
        "    )\n",
        "\n",
        "ds_ch2 = xr.concat(ds_mems, dim=\"number\")"
      ]
    },
    {
      "cell_type": "markdown",
      "id": "353d31af",
      "metadata": {},
      "source": [
        "For ICON-CH1-EPS:"
      ]
    },
    {
      "cell_type": "code",
      "execution_count": null,
      "id": "57208fb7",
      "metadata": {},
      "outputs": [],
      "source": [
        "import xarray as xr\n",
        "ds_mems = []\n",
        "for num in range(1, 11):\n",
        "    req = dc.replace(\n",
        "        request,\n",
        "        number=str(num),\n",
        "        model=mars.Model.ICON_CH1_EPS,\n",
        "        feature={\n",
        "            \"type\": \"timeseries\",\n",
        "            \"points\": [rotated_point],\n",
        "            \"time_axis\": \"step\",\n",
        "            \"range\": {\"start\": 0, \"end\": 33},\n",
        "            \"axes\": [\"longitude\", \"latitude\"],\n",
        "        },\n",
        "    )\n",
        "    ds_mems.append(\n",
        "        ekd.from_source(\"polytope\", \"mchgj\", req.to_polytope(), stream=False).to_xarray()\n",
        "    )\n",
        "\n",
        "ds_ch1 = xr.concat(ds_mems, dim=\"number\")"
      ]
    },
    {
      "cell_type": "markdown",
      "id": "1dc90019",
      "metadata": {},
      "source": [
        "We can also request the same data from **IFS** using **ECMWF Polytope**. See the ECMWF Polytope client README for account creation: https://github.com/ecmwf/polytope-client/?tab=readme-ov-file#2-account-creation"
      ]
    },
    {
      "cell_type": "code",
      "execution_count": 11,
      "id": "040a0ee3",
      "metadata": {},
      "outputs": [],
      "source": [
        "import os\n",
        "\n",
        "# Use your ECMWF Polytope credentials (do not hard-code secrets in notebooks)\n",
        "os.environ[\"POLYTOPE_USER_KEY\"] = \"xxx\"\n",
        "os.environ[\"POLYTOPE_USER_EMAIL\"] = \"xxx\"\n",
        "os.environ[\"POLYTOPE_ADDRESS\"] = \"polytope.ecmwf.int\""
      ]
    },
    {
      "cell_type": "markdown",
      "id": "909c2846",
      "metadata": {},
      "source": [
        "> **Note:** For ECMWF Polytope, coordinates are **geographic** (WGS84). In the next request we pass `geo_lon` and `geo_lat`."
      ]
    },
    {
      "cell_type": "code",
      "execution_count": null,
      "id": "766b6958",
      "metadata": {},
      "outputs": [],
      "source": [
        "request = {\n",
        "    \"class\": \"od\",\n",
        "    \"stream\": \"enfo\",\n",
        "    \"type\": \"pf\",\n",
        "    \"date\": date,\n",
        "    \"time\": time,\n",
        "    \"levtype\": \"sfc\",\n",
        "    \"expver\": \"0001\",\n",
        "    \"domain\": \"g\",\n",
        "    \"param\": \"167\",\n",
        "    \"number\": \"1/to/50\",\n",
        "    \"step\": \"0/to/160\",\n",
        "    \"feature\": {\n",
        "        \"type\": \"timeseries\",\n",
        "        \"points\": [[float(round(geo_lon, 2)), float(round(geo_lat, 2))]],\n",
        "        \"time_axis\": \"step\",\n",
        "        \"axes\": [\"longitude\", \"latitude\"]\n",
        "    }\n",
        "}\n",
        "\n",
        "ds_ifs = ekd.from_source(\n",
        "    \"polytope\",\n",
        "    \"ecmwf-mars\",\n",
        "    request,\n",
        "    stream=False,\n",
        "    address=\"polytope.ecmwf.int\",\n",
        ")"
      ]
    },
    {
      "cell_type": "markdown",
      "id": "3d40e194",
      "metadata": {},
      "source": [
        "**Plotting ensemble members of time series**"
      ]
    },
    {
      "cell_type": "code",
      "execution_count": 13,
      "id": "49a62740",
      "metadata": {},
      "outputs": [
        {
          "data": {
            "application/vnd.plotly.v1+json": {
              "config": {
                "plotlyServerURL": "https://plot.ly"
              },
              "data": [
                {
                  "fillcolor": "#B1B6FC",
                  "hoverinfo": "skip",
                  "line": {
                    "color": "#ea5545"
                  },
                  "lowerfence": {
                    "bdata": "AAAAYCfecUAAAABAX+1xQAAAAMDP93FAAAAAoJoBckAAAADAgQ9yQAAAAGCUG3JAAAAAIA8cckAAAADAfh1yQAAAAMCTGXJAAAAAAIgSckAAAADAEwZyQAAAAED093FAAAAAwBzmcUAAAADg2dFxQAAAAMAvzHFAAAAAYDjGcUAAAABALbVxQAAAAADgqHFAAAAAgJegcUAAAABABqJxQAAAAKDgmnFAAAAAAAmVcUAAAACABo1xQAAAAMDxknFAAAAAQIqWcUAAAADgJq5xQAAAAKDCznFAAAAAYIDtcUAAAACAIgZyQAAAAOAmGHJAAAAAoDcjckAAAACANipyQAAAAMC+NXJAAAAAYDs0ckA=",
                    "dtype": "f8"
                  },
                  "median": {
                    "bdata": "AAAAIFDicUAAAAAQ3PBxQAAAAPBw/nFAAAAAIKwKckAAAACA9xdyQAAAANDCIHJAAAAAoB0rckAAAACQhS5yQAAAALDTLXJAAAAAwCYkckAAAAAwNhdyQAAAAHChBnJAAAAAUCbzcUAAAADALORxQAAAAJCG2XFAAAAA4GnUcUAAAADQQ8JxQAAAAEDBtXFAAAAAkJ23cUAAAACAqrRxQAAAAHAArnFAAAAA0H+qcUAAAAAQLaJxQAAAAHBgo3FAAAAA0BWmcUAAAAAAxL5xQAAAANCF2XFAAAAAMLL3cUAAAACQ6xFyQAAAAEC2JHJAAAAAEK4zckAAAADwbjpyQAAAABAbPnJAAAAAcDlAckA=",
                    "dtype": "f8"
                  },
                  "q1": {
                    "bdata": "zczMzOLecUAzMzMj+O1xQGZmZhYZ+nFAmpmZCTIEckBmZma2ZBFyQJqZmRnhG3JAzczMDGwcckDNzMzsLh5yQAAAADDUHXJAMzMzk0EbckAAAACgIw1yQGZmZqbT/HFAzczMbLjqcUBmZmaWKtxxQM3MzCwj0XFAzczMHEfGcUAAAACAyrlxQM3MzLx8rnFAmpmZiTmkcUBmZmYWU6JxQDMzM/MDm3FAAAAAwFCZcUCamZkJZZBxQAAAAOCmk3FAMzMzMzObcUBmZmYW8a9xQDMzM3N70XFAzczMjDDucUBmZmbm4QlyQAAAAKC1GnJAMzMzI5EpckCamZkJhTFyQDMzM4PVOHJAAAAAwGc1ckA=",
                    "dtype": "f8"
                  },
                  "q3": {
                    "bdata": "zczM/ADncUBmZma2e/NxQJqZmdkVAnJAMzMzszYNckCamZlZVhtyQGZmZlYZK3JAZmZm1pEwckAAAACAqjRyQGZmZnabMnJAMzMzk/orckAAAAAgTB5yQM3MzGyIDXJAZmZmlsj9cUAAAADQ0/JxQAAAAGDT7XFAmpmZyfvocUDNzMzMv99xQDMzM6MO23FAmpmZqRzQcUAzMzMj5dlxQJqZmUn80XFAAAAA0AzCcUAAAADAv7txQM3MzGxOrXFAmpmZiXmzcUBmZmZmOMdxQAAAABBZ6HFAAAAAQNsHckCamZmZiyFyQJqZmRnqNXJAZmZmlplFckCamZnp6U5yQJqZmalOVHJAAAAA4GBTckA=",
                    "dtype": "f8"
                  },
                  "type": "box",
                  "upperfence": {
                    "bdata": "AAAAgMTpcUAAAADABvZxQAAAAEDCA3JAAAAAIHQNckAAAABgwBxyQAAAACAsK3JAAAAAAJ85ckAAAABgiDpyQAAAAKDgNnJAAAAAgMwsckAAAAAgDiByQAAAAKCLDnJAAAAAwBT+cUAAAACgg/dxQAAAAMBg9HFAAAAAYATscUAAAAAALORxQAAAAMB23HFAAAAAQGDdcUAAAAAANt5xQAAAAODX3XFAAAAAgFLVcUAAAABA8s9xQAAAAMAaxXFAAAAAICe9cUAAAACAjdFxQAAAAEC98HFAAAAAwLkMckAAAAAgtyNyQAAAAIACOHJAAAAAgDRGckAAAADgPVJyQAAAACD9WHJAAAAAYC5ackA=",
                    "dtype": "f8"
                  },
                  "width": 1080000,
                  "x": [
                    "2025-09-16T06:00:00",
                    "2025-09-16T07:00:00",
                    "2025-09-16T08:00:00",
                    "2025-09-16T09:00:00",
                    "2025-09-16T10:00:00",
                    "2025-09-16T11:00:00",
                    "2025-09-16T12:00:00",
                    "2025-09-16T13:00:00",
                    "2025-09-16T14:00:00",
                    "2025-09-16T15:00:00",
                    "2025-09-16T16:00:00",
                    "2025-09-16T17:00:00",
                    "2025-09-16T18:00:00",
                    "2025-09-16T19:00:00",
                    "2025-09-16T20:00:00",
                    "2025-09-16T21:00:00",
                    "2025-09-16T22:00:00",
                    "2025-09-16T23:00:00",
                    "2025-09-17T00:00:00",
                    "2025-09-17T01:00:00",
                    "2025-09-17T02:00:00",
                    "2025-09-17T03:00:00",
                    "2025-09-17T04:00:00",
                    "2025-09-17T05:00:00",
                    "2025-09-17T06:00:00",
                    "2025-09-17T07:00:00",
                    "2025-09-17T08:00:00",
                    "2025-09-17T09:00:00",
                    "2025-09-17T10:00:00",
                    "2025-09-17T11:00:00",
                    "2025-09-17T12:00:00",
                    "2025-09-17T13:00:00",
                    "2025-09-17T14:00:00",
                    "2025-09-17T15:00:00"
                  ],
                  "xaxis": "x",
                  "yaxis": "y"
                },
                {
                  "fillcolor": "#B1B6FC",
                  "hoverinfo": "skip",
                  "line": {
                    "color": "#ea5545"
                  },
                  "lowerfence": {
                    "bdata": "AAAAYCfecUAAAABAX+1xQAAAAMDP93FAAAAAoJoBckAAAADAgQ9yQAAAAGCUG3JAAAAAIA8cckAAAADAfh1yQAAAAMCTGXJAAAAAAIgSckAAAADAEwZyQAAAAED093FAAAAAwBzmcUAAAADg2dFxQAAAAMAvzHFAAAAAYDjGcUAAAABALbVxQAAAAADgqHFAAAAAgJegcUAAAABABqJxQAAAAKDgmnFAAAAAAAmVcUAAAACABo1xQAAAAMDxknFAAAAAQIqWcUAAAADgJq5xQAAAAKDCznFAAAAAYIDtcUAAAACAIgZyQAAAAOAmGHJAAAAAoDcjckAAAACANipyQAAAAMC+NXJAAAAAYDs0ckA=",
                    "dtype": "f8"
                  },
                  "median": {
                    "bdata": "AAAAIFDicUAAAAAQ3PBxQAAAAPBw/nFAAAAAIKwKckAAAACA9xdyQAAAANDCIHJAAAAAoB0rckAAAACQhS5yQAAAALDTLXJAAAAAwCYkckAAAAAwNhdyQAAAAHChBnJAAAAAUCbzcUAAAADALORxQAAAAJCG2XFAAAAA4GnUcUAAAADQQ8JxQAAAAEDBtXFAAAAAkJ23cUAAAACAqrRxQAAAAHAArnFAAAAA0H+qcUAAAAAQLaJxQAAAAHBgo3FAAAAA0BWmcUAAAAAAxL5xQAAAANCF2XFAAAAAMLL3cUAAAACQ6xFyQAAAAEC2JHJAAAAAEK4zckAAAADwbjpyQAAAABAbPnJAAAAAcDlAckA=",
                    "dtype": "f8"
                  },
                  "q1": {
                    "bdata": "AAAA4DTgcUAAAADAXO9xQAAAACgy+3FAAAAAoHIHckAAAABg+xJyQAAAADCnHXJAAAAAgLUickAAAABgkCZyQAAAAJDAI3JAAAAAeBUeckAAAACgtA9yQAAAADBDAHJAAAAA2K3tcUAAAACowN1xQAAAAFge0nFAAAAAOF3McUAAAADobLxxQAAAAEh+snFAAAAAWGatcUAAAADwqKVxQAAAAID5oXFAAAAA2HibcUAAAAAIQZtxQAAAAAj5n3FAAAAA8DGhcUAAAABY8rdxQAAAAIBX1HFAAAAACPXycUAAAACgVA1yQAAAABBWHXJAAAAA0DouckAAAACwSDVyQAAAAAj7O3JAAAAAwN87ckA=",
                    "dtype": "f8"
                  },
                  "q3": {
                    "bdata": "AAAAKP7kcUAAAADIJvJxQAAAAACGAXJAAAAAeM4LckAAAACY9hpyQAAAAJAvJnJAAAAAUIEvckAAAADYHDNyQAAAAPiPMXJAAAAAcFgqckAAAABYUxpyQAAAAGiAC3JAAAAA2PD4cUAAAACQqe5xQAAAAIju5nFAAAAAcOngcUAAAAC4XtlxQAAAAPC4yHFAAAAACL3CcUAAAAAA3chxQAAAACB3wXFAAAAAUBK5cUAAAACQQapxQAAAACBxqXFAAAAASOyscUAAAADga8RxQAAAADjH4nFAAAAAAPD9cUAAAABg+RxyQAAAAOgmL3JAAAAAGFw9ckAAAADw7ERyQAAAAOC7SXJAAAAAME5NckA=",
                    "dtype": "f8"
                  },
                  "showwhiskers": false,
                  "type": "box",
                  "upperfence": {
                    "bdata": "AAAAgMTpcUAAAADABvZxQAAAAEDCA3JAAAAAIHQNckAAAABgwBxyQAAAACAsK3JAAAAAAJ85ckAAAABgiDpyQAAAAKDgNnJAAAAAgMwsckAAAAAgDiByQAAAAKCLDnJAAAAAwBT+cUAAAACgg/dxQAAAAMBg9HFAAAAAYATscUAAAAAALORxQAAAAMB23HFAAAAAQGDdcUAAAAAANt5xQAAAAODX3XFAAAAAgFLVcUAAAABA8s9xQAAAAMAaxXFAAAAAICe9cUAAAACAjdFxQAAAAEC98HFAAAAAwLkMckAAAAAgtyNyQAAAAIACOHJAAAAAgDRGckAAAADgPVJyQAAAACD9WHJAAAAAYC5ackA=",
                    "dtype": "f8"
                  },
                  "width": 2160000,
                  "x": [
                    "2025-09-16T06:00:00",
                    "2025-09-16T07:00:00",
                    "2025-09-16T08:00:00",
                    "2025-09-16T09:00:00",
                    "2025-09-16T10:00:00",
                    "2025-09-16T11:00:00",
                    "2025-09-16T12:00:00",
                    "2025-09-16T13:00:00",
                    "2025-09-16T14:00:00",
                    "2025-09-16T15:00:00",
                    "2025-09-16T16:00:00",
                    "2025-09-16T17:00:00",
                    "2025-09-16T18:00:00",
                    "2025-09-16T19:00:00",
                    "2025-09-16T20:00:00",
                    "2025-09-16T21:00:00",
                    "2025-09-16T22:00:00",
                    "2025-09-16T23:00:00",
                    "2025-09-17T00:00:00",
                    "2025-09-17T01:00:00",
                    "2025-09-17T02:00:00",
                    "2025-09-17T03:00:00",
                    "2025-09-17T04:00:00",
                    "2025-09-17T05:00:00",
                    "2025-09-17T06:00:00",
                    "2025-09-17T07:00:00",
                    "2025-09-17T08:00:00",
                    "2025-09-17T09:00:00",
                    "2025-09-17T10:00:00",
                    "2025-09-17T11:00:00",
                    "2025-09-17T12:00:00",
                    "2025-09-17T13:00:00",
                    "2025-09-17T14:00:00",
                    "2025-09-17T15:00:00"
                  ],
                  "xaxis": "x",
                  "yaxis": "y"
                },
                {
                  "hovertemplate": "%{y:.2f}<extra>P<sub>0%</sub></extra>",
                  "marker": {
                    "color": "#ea5545",
                    "size": 0.00001
                  },
                  "mode": "markers",
                  "type": "scatter",
                  "x": [
                    "2025-09-16T06:00:00",
                    "2025-09-16T07:00:00",
                    "2025-09-16T08:00:00",
                    "2025-09-16T09:00:00",
                    "2025-09-16T10:00:00",
                    "2025-09-16T11:00:00",
                    "2025-09-16T12:00:00",
                    "2025-09-16T13:00:00",
                    "2025-09-16T14:00:00",
                    "2025-09-16T15:00:00",
                    "2025-09-16T16:00:00",
                    "2025-09-16T17:00:00",
                    "2025-09-16T18:00:00",
                    "2025-09-16T19:00:00",
                    "2025-09-16T20:00:00",
                    "2025-09-16T21:00:00",
                    "2025-09-16T22:00:00",
                    "2025-09-16T23:00:00",
                    "2025-09-17T00:00:00",
                    "2025-09-17T01:00:00",
                    "2025-09-17T02:00:00",
                    "2025-09-17T03:00:00",
                    "2025-09-17T04:00:00",
                    "2025-09-17T05:00:00",
                    "2025-09-17T06:00:00",
                    "2025-09-17T07:00:00",
                    "2025-09-17T08:00:00",
                    "2025-09-17T09:00:00",
                    "2025-09-17T10:00:00",
                    "2025-09-17T11:00:00",
                    "2025-09-17T12:00:00",
                    "2025-09-17T13:00:00",
                    "2025-09-17T14:00:00",
                    "2025-09-17T15:00:00"
                  ],
                  "xaxis": "x",
                  "y": {
                    "bdata": "AAAAYCfecUAAAABAX+1xQAAAAMDP93FAAAAAoJoBckAAAADAgQ9yQAAAAGCUG3JAAAAAIA8cckAAAADAfh1yQAAAAMCTGXJAAAAAAIgSckAAAADAEwZyQAAAAED093FAAAAAwBzmcUAAAADg2dFxQAAAAMAvzHFAAAAAYDjGcUAAAABALbVxQAAAAADgqHFAAAAAgJegcUAAAABABqJxQAAAAKDgmnFAAAAAAAmVcUAAAACABo1xQAAAAMDxknFAAAAAQIqWcUAAAADgJq5xQAAAAKDCznFAAAAAYIDtcUAAAACAIgZyQAAAAOAmGHJAAAAAoDcjckAAAACANipyQAAAAMC+NXJAAAAAYDs0ckA=",
                    "dtype": "f8"
                  },
                  "yaxis": "y"
                },
                {
                  "hovertemplate": "%{y:.2f}<extra>P<sub>10%</sub></extra>",
                  "marker": {
                    "color": "#ea5545",
                    "size": 0.00001
                  },
                  "mode": "markers",
                  "type": "scatter",
                  "x": [
                    "2025-09-16T06:00:00",
                    "2025-09-16T07:00:00",
                    "2025-09-16T08:00:00",
                    "2025-09-16T09:00:00",
                    "2025-09-16T10:00:00",
                    "2025-09-16T11:00:00",
                    "2025-09-16T12:00:00",
                    "2025-09-16T13:00:00",
                    "2025-09-16T14:00:00",
                    "2025-09-16T15:00:00",
                    "2025-09-16T16:00:00",
                    "2025-09-16T17:00:00",
                    "2025-09-16T18:00:00",
                    "2025-09-16T19:00:00",
                    "2025-09-16T20:00:00",
                    "2025-09-16T21:00:00",
                    "2025-09-16T22:00:00",
                    "2025-09-16T23:00:00",
                    "2025-09-17T00:00:00",
                    "2025-09-17T01:00:00",
                    "2025-09-17T02:00:00",
                    "2025-09-17T03:00:00",
                    "2025-09-17T04:00:00",
                    "2025-09-17T05:00:00",
                    "2025-09-17T06:00:00",
                    "2025-09-17T07:00:00",
                    "2025-09-17T08:00:00",
                    "2025-09-17T09:00:00",
                    "2025-09-17T10:00:00",
                    "2025-09-17T11:00:00",
                    "2025-09-17T12:00:00",
                    "2025-09-17T13:00:00",
                    "2025-09-17T14:00:00",
                    "2025-09-17T15:00:00"
                  ],
                  "xaxis": "x",
                  "y": {
                    "bdata": "zczMzOLecUAzMzMj+O1xQGZmZhYZ+nFAmpmZCTIEckBmZma2ZBFyQJqZmRnhG3JAzczMDGwcckDNzMzsLh5yQAAAADDUHXJAMzMzk0EbckAAAACgIw1yQGZmZqbT/HFAzczMbLjqcUBmZmaWKtxxQM3MzCwj0XFAzczMHEfGcUAAAACAyrlxQM3MzLx8rnFAmpmZiTmkcUBmZmYWU6JxQDMzM/MDm3FAAAAAwFCZcUCamZkJZZBxQAAAAOCmk3FAMzMzMzObcUBmZmYW8a9xQDMzM3N70XFAzczMjDDucUBmZmbm4QlyQAAAAKC1GnJAMzMzI5EpckCamZkJhTFyQDMzM4PVOHJAAAAAwGc1ckA=",
                    "dtype": "f8"
                  },
                  "yaxis": "y"
                },
                {
                  "hovertemplate": "%{y:.2f}<extra>P<sub>25%</sub></extra>",
                  "marker": {
                    "color": "#ea5545",
                    "size": 0.00001
                  },
                  "mode": "markers",
                  "type": "scatter",
                  "x": [
                    "2025-09-16T06:00:00",
                    "2025-09-16T07:00:00",
                    "2025-09-16T08:00:00",
                    "2025-09-16T09:00:00",
                    "2025-09-16T10:00:00",
                    "2025-09-16T11:00:00",
                    "2025-09-16T12:00:00",
                    "2025-09-16T13:00:00",
                    "2025-09-16T14:00:00",
                    "2025-09-16T15:00:00",
                    "2025-09-16T16:00:00",
                    "2025-09-16T17:00:00",
                    "2025-09-16T18:00:00",
                    "2025-09-16T19:00:00",
                    "2025-09-16T20:00:00",
                    "2025-09-16T21:00:00",
                    "2025-09-16T22:00:00",
                    "2025-09-16T23:00:00",
                    "2025-09-17T00:00:00",
                    "2025-09-17T01:00:00",
                    "2025-09-17T02:00:00",
                    "2025-09-17T03:00:00",
                    "2025-09-17T04:00:00",
                    "2025-09-17T05:00:00",
                    "2025-09-17T06:00:00",
                    "2025-09-17T07:00:00",
                    "2025-09-17T08:00:00",
                    "2025-09-17T09:00:00",
                    "2025-09-17T10:00:00",
                    "2025-09-17T11:00:00",
                    "2025-09-17T12:00:00",
                    "2025-09-17T13:00:00",
                    "2025-09-17T14:00:00",
                    "2025-09-17T15:00:00"
                  ],
                  "xaxis": "x",
                  "y": {
                    "bdata": "AAAA4DTgcUAAAADAXO9xQAAAACgy+3FAAAAAoHIHckAAAABg+xJyQAAAADCnHXJAAAAAgLUickAAAABgkCZyQAAAAJDAI3JAAAAAeBUeckAAAACgtA9yQAAAADBDAHJAAAAA2K3tcUAAAACowN1xQAAAAFge0nFAAAAAOF3McUAAAADobLxxQAAAAEh+snFAAAAAWGatcUAAAADwqKVxQAAAAID5oXFAAAAA2HibcUAAAAAIQZtxQAAAAAj5n3FAAAAA8DGhcUAAAABY8rdxQAAAAIBX1HFAAAAACPXycUAAAACgVA1yQAAAABBWHXJAAAAA0DouckAAAACwSDVyQAAAAAj7O3JAAAAAwN87ckA=",
                    "dtype": "f8"
                  },
                  "yaxis": "y"
                },
                {
                  "hovertemplate": "%{y:.2f}<extra>P<sub>50%</sub></extra>",
                  "marker": {
                    "color": "#ea5545",
                    "size": 0.00001
                  },
                  "mode": "markers",
                  "type": "scatter",
                  "x": [
                    "2025-09-16T06:00:00",
                    "2025-09-16T07:00:00",
                    "2025-09-16T08:00:00",
                    "2025-09-16T09:00:00",
                    "2025-09-16T10:00:00",
                    "2025-09-16T11:00:00",
                    "2025-09-16T12:00:00",
                    "2025-09-16T13:00:00",
                    "2025-09-16T14:00:00",
                    "2025-09-16T15:00:00",
                    "2025-09-16T16:00:00",
                    "2025-09-16T17:00:00",
                    "2025-09-16T18:00:00",
                    "2025-09-16T19:00:00",
                    "2025-09-16T20:00:00",
                    "2025-09-16T21:00:00",
                    "2025-09-16T22:00:00",
                    "2025-09-16T23:00:00",
                    "2025-09-17T00:00:00",
                    "2025-09-17T01:00:00",
                    "2025-09-17T02:00:00",
                    "2025-09-17T03:00:00",
                    "2025-09-17T04:00:00",
                    "2025-09-17T05:00:00",
                    "2025-09-17T06:00:00",
                    "2025-09-17T07:00:00",
                    "2025-09-17T08:00:00",
                    "2025-09-17T09:00:00",
                    "2025-09-17T10:00:00",
                    "2025-09-17T11:00:00",
                    "2025-09-17T12:00:00",
                    "2025-09-17T13:00:00",
                    "2025-09-17T14:00:00",
                    "2025-09-17T15:00:00"
                  ],
                  "xaxis": "x",
                  "y": {
                    "bdata": "AAAAIFDicUAAAAAQ3PBxQAAAAPBw/nFAAAAAIKwKckAAAACA9xdyQAAAANDCIHJAAAAAoB0rckAAAACQhS5yQAAAALDTLXJAAAAAwCYkckAAAAAwNhdyQAAAAHChBnJAAAAAUCbzcUAAAADALORxQAAAAJCG2XFAAAAA4GnUcUAAAADQQ8JxQAAAAEDBtXFAAAAAkJ23cUAAAACAqrRxQAAAAHAArnFAAAAA0H+qcUAAAAAQLaJxQAAAAHBgo3FAAAAA0BWmcUAAAAAAxL5xQAAAANCF2XFAAAAAMLL3cUAAAACQ6xFyQAAAAEC2JHJAAAAAEK4zckAAAADwbjpyQAAAABAbPnJAAAAAcDlAckA=",
                    "dtype": "f8"
                  },
                  "yaxis": "y"
                },
                {
                  "hovertemplate": "%{y:.2f}<extra>P<sub>75%</sub></extra>",
                  "marker": {
                    "color": "#ea5545",
                    "size": 0.00001
                  },
                  "mode": "markers",
                  "type": "scatter",
                  "x": [
                    "2025-09-16T06:00:00",
                    "2025-09-16T07:00:00",
                    "2025-09-16T08:00:00",
                    "2025-09-16T09:00:00",
                    "2025-09-16T10:00:00",
                    "2025-09-16T11:00:00",
                    "2025-09-16T12:00:00",
                    "2025-09-16T13:00:00",
                    "2025-09-16T14:00:00",
                    "2025-09-16T15:00:00",
                    "2025-09-16T16:00:00",
                    "2025-09-16T17:00:00",
                    "2025-09-16T18:00:00",
                    "2025-09-16T19:00:00",
                    "2025-09-16T20:00:00",
                    "2025-09-16T21:00:00",
                    "2025-09-16T22:00:00",
                    "2025-09-16T23:00:00",
                    "2025-09-17T00:00:00",
                    "2025-09-17T01:00:00",
                    "2025-09-17T02:00:00",
                    "2025-09-17T03:00:00",
                    "2025-09-17T04:00:00",
                    "2025-09-17T05:00:00",
                    "2025-09-17T06:00:00",
                    "2025-09-17T07:00:00",
                    "2025-09-17T08:00:00",
                    "2025-09-17T09:00:00",
                    "2025-09-17T10:00:00",
                    "2025-09-17T11:00:00",
                    "2025-09-17T12:00:00",
                    "2025-09-17T13:00:00",
                    "2025-09-17T14:00:00",
                    "2025-09-17T15:00:00"
                  ],
                  "xaxis": "x",
                  "y": {
                    "bdata": "AAAAKP7kcUAAAADIJvJxQAAAAACGAXJAAAAAeM4LckAAAACY9hpyQAAAAJAvJnJAAAAAUIEvckAAAADYHDNyQAAAAPiPMXJAAAAAcFgqckAAAABYUxpyQAAAAGiAC3JAAAAA2PD4cUAAAACQqe5xQAAAAIju5nFAAAAAcOngcUAAAAC4XtlxQAAAAPC4yHFAAAAACL3CcUAAAAAA3chxQAAAACB3wXFAAAAAUBK5cUAAAACQQapxQAAAACBxqXFAAAAASOyscUAAAADga8RxQAAAADjH4nFAAAAAAPD9cUAAAABg+RxyQAAAAOgmL3JAAAAAGFw9ckAAAADw7ERyQAAAAOC7SXJAAAAAME5NckA=",
                    "dtype": "f8"
                  },
                  "yaxis": "y"
                },
                {
                  "hovertemplate": "%{y:.2f}<extra>P<sub>90%</sub></extra>",
                  "marker": {
                    "color": "#ea5545",
                    "size": 0.00001
                  },
                  "mode": "markers",
                  "type": "scatter",
                  "x": [
                    "2025-09-16T06:00:00",
                    "2025-09-16T07:00:00",
                    "2025-09-16T08:00:00",
                    "2025-09-16T09:00:00",
                    "2025-09-16T10:00:00",
                    "2025-09-16T11:00:00",
                    "2025-09-16T12:00:00",
                    "2025-09-16T13:00:00",
                    "2025-09-16T14:00:00",
                    "2025-09-16T15:00:00",
                    "2025-09-16T16:00:00",
                    "2025-09-16T17:00:00",
                    "2025-09-16T18:00:00",
                    "2025-09-16T19:00:00",
                    "2025-09-16T20:00:00",
                    "2025-09-16T21:00:00",
                    "2025-09-16T22:00:00",
                    "2025-09-16T23:00:00",
                    "2025-09-17T00:00:00",
                    "2025-09-17T01:00:00",
                    "2025-09-17T02:00:00",
                    "2025-09-17T03:00:00",
                    "2025-09-17T04:00:00",
                    "2025-09-17T05:00:00",
                    "2025-09-17T06:00:00",
                    "2025-09-17T07:00:00",
                    "2025-09-17T08:00:00",
                    "2025-09-17T09:00:00",
                    "2025-09-17T10:00:00",
                    "2025-09-17T11:00:00",
                    "2025-09-17T12:00:00",
                    "2025-09-17T13:00:00",
                    "2025-09-17T14:00:00",
                    "2025-09-17T15:00:00"
                  ],
                  "xaxis": "x",
                  "y": {
                    "bdata": "zczM/ADncUBmZma2e/NxQJqZmdkVAnJAMzMzszYNckCamZlZVhtyQGZmZlYZK3JAZmZm1pEwckAAAACAqjRyQGZmZnabMnJAMzMzk/orckAAAAAgTB5yQM3MzGyIDXJAZmZmlsj9cUAAAADQ0/JxQAAAAGDT7XFAmpmZyfvocUDNzMzMv99xQDMzM6MO23FAmpmZqRzQcUAzMzMj5dlxQJqZmUn80XFAAAAA0AzCcUAAAADAv7txQM3MzGxOrXFAmpmZiXmzcUBmZmZmOMdxQAAAABBZ6HFAAAAAQNsHckCamZmZiyFyQJqZmRnqNXJAZmZmlplFckCamZnp6U5yQJqZmalOVHJAAAAA4GBTckA=",
                    "dtype": "f8"
                  },
                  "yaxis": "y"
                },
                {
                  "hovertemplate": "%{y:.2f}<extra>P<sub>100%</sub></extra>",
                  "marker": {
                    "color": "#ea5545",
                    "size": 0.00001
                  },
                  "mode": "markers",
                  "type": "scatter",
                  "x": [
                    "2025-09-16T06:00:00",
                    "2025-09-16T07:00:00",
                    "2025-09-16T08:00:00",
                    "2025-09-16T09:00:00",
                    "2025-09-16T10:00:00",
                    "2025-09-16T11:00:00",
                    "2025-09-16T12:00:00",
                    "2025-09-16T13:00:00",
                    "2025-09-16T14:00:00",
                    "2025-09-16T15:00:00",
                    "2025-09-16T16:00:00",
                    "2025-09-16T17:00:00",
                    "2025-09-16T18:00:00",
                    "2025-09-16T19:00:00",
                    "2025-09-16T20:00:00",
                    "2025-09-16T21:00:00",
                    "2025-09-16T22:00:00",
                    "2025-09-16T23:00:00",
                    "2025-09-17T00:00:00",
                    "2025-09-17T01:00:00",
                    "2025-09-17T02:00:00",
                    "2025-09-17T03:00:00",
                    "2025-09-17T04:00:00",
                    "2025-09-17T05:00:00",
                    "2025-09-17T06:00:00",
                    "2025-09-17T07:00:00",
                    "2025-09-17T08:00:00",
                    "2025-09-17T09:00:00",
                    "2025-09-17T10:00:00",
                    "2025-09-17T11:00:00",
                    "2025-09-17T12:00:00",
                    "2025-09-17T13:00:00",
                    "2025-09-17T14:00:00",
                    "2025-09-17T15:00:00"
                  ],
                  "xaxis": "x",
                  "y": {
                    "bdata": "AAAAgMTpcUAAAADABvZxQAAAAEDCA3JAAAAAIHQNckAAAABgwBxyQAAAACAsK3JAAAAAAJ85ckAAAABgiDpyQAAAAKDgNnJAAAAAgMwsckAAAAAgDiByQAAAAKCLDnJAAAAAwBT+cUAAAACgg/dxQAAAAMBg9HFAAAAAYATscUAAAAAALORxQAAAAMB23HFAAAAAQGDdcUAAAAAANt5xQAAAAODX3XFAAAAAgFLVcUAAAABA8s9xQAAAAMAaxXFAAAAAICe9cUAAAACAjdFxQAAAAEC98HFAAAAAwLkMckAAAAAgtyNyQAAAAIACOHJAAAAAgDRGckAAAADgPVJyQAAAACD9WHJAAAAAYC5ackA=",
                    "dtype": "f8"
                  },
                  "yaxis": "y"
                },
                {
                  "line": {
                    "color": "grey"
                  },
                  "name": "mean",
                  "type": "scatter",
                  "x": [
                    "2025-09-16T06:00:00",
                    "2025-09-16T07:00:00",
                    "2025-09-16T08:00:00",
                    "2025-09-16T09:00:00",
                    "2025-09-16T10:00:00",
                    "2025-09-16T11:00:00",
                    "2025-09-16T12:00:00",
                    "2025-09-16T13:00:00",
                    "2025-09-16T14:00:00",
                    "2025-09-16T15:00:00",
                    "2025-09-16T16:00:00",
                    "2025-09-16T17:00:00",
                    "2025-09-16T18:00:00",
                    "2025-09-16T19:00:00",
                    "2025-09-16T20:00:00",
                    "2025-09-16T21:00:00",
                    "2025-09-16T22:00:00",
                    "2025-09-16T23:00:00",
                    "2025-09-17T00:00:00",
                    "2025-09-17T01:00:00",
                    "2025-09-17T02:00:00",
                    "2025-09-17T03:00:00",
                    "2025-09-17T04:00:00",
                    "2025-09-17T05:00:00",
                    "2025-09-17T06:00:00",
                    "2025-09-17T07:00:00",
                    "2025-09-17T08:00:00",
                    "2025-09-17T09:00:00",
                    "2025-09-17T10:00:00",
                    "2025-09-17T11:00:00",
                    "2025-09-17T12:00:00",
                    "2025-09-17T13:00:00",
                    "2025-09-17T14:00:00",
                    "2025-09-17T15:00:00"
                  ],
                  "y": {
                    "bdata": "AAAAgNXicUBmZmaG7PBxQJqZmYk2/nFAzczMTGcJckAAAACg+RZyQAAAAKA6InJAmpmZ6VwpckDNzMysoCxyQJqZmXmwKnJAmpmZaVgjckDNzMyshhVyQAAAAIBcBXJAZmZmBkbzcUCamZnpmuVxQGZmZpar3HFAzczMfLXWcUBmZma2OclxQDMzM2M6vnFAmpmZqWe5cUBmZmYmHblxQAAAAABOs3FAzczMvMKscUDNzMz8vaVxQJqZmVm5pHFAMzMzY7SncUCamZmZGL5xQDMzM0Pe23FAmpmZ2bz5cUBmZmYWMBRyQGZmZrbfJnJAzczMjCg1ckAAAABwfD1yQDMzMxMOQ3JAmpmZqd5DckA=",
                    "dtype": "f8"
                  }
                },
                {
                  "fillcolor": "#B1B6FC",
                  "hoverinfo": "skip",
                  "line": {
                    "color": "#ef9b20"
                  },
                  "lowerfence": {
                    "bdata": "AAAAAIvYcUAAAAAgMepxQAAAAMC19nFAAAAAYNP7cUAAAADgfQ1yQAAAAADTG3JAAAAAANgickAAAADATCVyQAAAAKA/H3JAAAAAoKwWckAAAABAHwtyQAAAACBq/HFAAAAAoCbkcUAAAABgZtlxQAAAAAB4zXFAAAAAQOfKcUAAAACAS8FxQAAAAMBhsnFAAAAAAFCicUAAAACgq5txQAAAAEBEm3FAAAAAYCadcUAAAAAgcJVxQAAAAEB2i3FAAAAAAHyQcUAAAABAAbBxQAAAAGBw0HFAAAAAYMzhcUAAAADgp/ZxQAAAAKAmCnJAAAAAIFAZckAAAABguyRyQAAAAKB7LXJAAAAAYGAxckAAAABA1y9yQAAAAID+JHJAAAAAAAkJckAAAACgf/NxQAAAAEDB23FAAAAAoMzOcUAAAAAgMchxQAAAAMAlwHFAAAAAwFK3cUAAAABAua9xQAAAAAC7pnFAAAAAwGSPcUAAAACgnINxQAAAAGAbgXFAAAAAoJKAcUAAAABAkpBxQAAAACAdxHFAAAAAoOEFckAAAAAAOi5yQAAAACC3T3JAAAAAIGJqckAAAAAgNXxyQAAAAICghnJAAAAAILaJckAAAABgtH9yQAAAAMA2YnJAAAAAwPkvckAAAACgCAtyQAAAAGCu8HFAAAAA4MLtcUAAAACAI91xQAAAAGAG03FAAAAAQJDBcUAAAABg+6xxQAAAAABCqXFAAAAAgC2jcUAAAADgL5lxQAAAAGCsj3FAAAAAQMWNcUAAAABgvqBxQAAAAEDs1HFAAAAA4PMEckAAAAAAgEJyQAAAACCVaHJAAAAAgLCDckAAAAAAFpVyQAAAAIDgn3JAAAAAgEagckAAAACgAJlyQAAAAIAlfnJAAAAAADdNckAAAADAKy5yQAAAAMCcFnJAAAAAQPsKckAAAABAh/dxQAAAAICe5XFAAAAAgM3ecUAAAACAXNJxQAAAAGCnyXFAAAAA4Di3cUAAAABAwqJxQAAAAEDOn3FAAAAAgDOpcUAAAACAFb9xQAAAAIAT3HFAAAAAQAkMckAAAAAA+DlyQAAAAIBMdHJAAAAAQJmYckAAAACAMqhyQAAAACAJqXJAAAAAwDOwckAAAABg2KtyQAAAAED5lHJAAAAAIGBeckAAAAAANT9yQAAAAABINnJAAAAAgDomckAAAAAg/RRyQAAAAKBwB3JAAAAAgKn/cUAAAADAH/BxQAAAAOCx6nFAAAAAwCfkcUAAAADgN9txQAAAAGDk3HFAAAAAAF/WcUA=",
                    "dtype": "f8"
                  },
                  "median": {
                    "bdata": "AAAAUMzicUAAAACgrPBxQAAAABBp/XFAAAAAUGIFckAAAABwWhZyQAAAAJCPI3JAAAAAcBYqckAAAAAAgC1yQAAAAPAxLnJAAAAA0AUickAAAAAg+RNyQAAAACAiA3JAAAAAoAbtcUAAAAAwCeJxQAAAANDB2XFAAAAAIPTVcUAAAADw8c5xQAAAAHBsyHFAAAAAwBi+cUAAAADgN7BxQAAAAABBqnFAAAAAUAqncUAAAABgTKJxQAAAAHBin3FAAAAA0GKgcUAAAACA5LlxQAAAAFDP33FAAAAA8Cn+cUAAAABgtRNyQAAAAPC6JnJAAAAAwPwzckAAAABALTxyQAAAAOCLQHJAAAAA0HxCckAAAADQyT5yQAAAACCoMHJAAAAAIIQbckAAAADQQgdyQAAAAGBj8XFAAAAAIKzfcUAAAAAgZtZxQAAAAID5zXFAAAAAgH3HcUAAAACwdL9xQAAAAIDRs3FAAAAA0DmscUAAAADgfaBxQAAAAMAwmHFAAAAAcNqTcUAAAADQt6dxQAAAAADN3HFAAAAA8LwWckAAAACgAEFyQAAAAFBFYHJAAAAAEIV6ckAAAAAgmopyQAAAANA7knJAAAAAIISRckAAAAAg1IhyQAAAANA8b3JAAAAAgPhIckAAAADA/BxyQAAAALAxEHJAAAAA4Ef8cUAAAABA1u1xQAAAABAi4XFAAAAAoCjTcUAAAADgxsJxQAAAAOACuXFAAAAAcDOwcUAAAAAgKqxxQAAAANDBpXFAAAAAYMWfcUAAAADQfLpxQAAAAPAF6HFAAAAA4GMickAAAADwdFFyQAAAAADKc3JAAAAA0GCLckAAAABAh5xyQAAAAMAMqXJAAAAAUL2sckAAAADQmadyQAAAANBNjHJAAAAAwOxcckAAAADQ7j1yQAAAAPCaKHJAAAAAQJ0ZckAAAACQvg5yQAAAAKB1AnJAAAAAgHL1cUAAAACAG/JxQAAAAOBh6HFAAAAAMLXacUAAAABgkNJxQAAAALDn1XFAAAAAENfXcUAAAABAAuJxQAAAAMDI/HFAAAAAAMkuckAAAABgYmZyQAAAAKAUjXJAAAAAUFmnckAAAAAwOrlyQAAAAFBGwnJAAAAAsC7CckAAAAAAZrhyQAAAACB0nHJAAAAAYOZyckAAAACAtVpyQAAAABDBRXJAAAAAMCw5ckAAAACQdS9yQAAAANCtJ3JAAAAAAO8bckAAAAAAJRZyQAAAAICoDnJAAAAAwE8PckAAAAAg4gdyQAAAAOB9A3JAAAAAkO//cUA=",
                    "dtype": "f8"
                  },
                  "q1": {
                    "bdata": "MzMzI9TecUDNzMzML+xxQJqZmbkN93FAMzMzM3T/cUAAAACAvg9yQM3MzPwEH3JAzczMzPokckAzMzNTnypyQDMzMxPjJXJAZmZmZhkeckBmZmZmZxByQJqZmak5/3FAmpmZiYHncUBmZmbWSN5xQJqZmQls1HFAMzMzMxTNcUBmZmZm78ZxQGZmZoYkvHFAAAAA4HCqcUCamZnZVqJxQM3MzMwIpHFAAAAAQIahcUBmZmYGWpdxQGZmZia7lHFAAAAAENGRcUBmZmbWBLNxQJqZmVlk13FAZmZmtobucUAAAACQXgZyQJqZmZlvDXJAZmZmZlUcckDNzMy8hCtyQJqZmbnvNHJAzczMLHE5ckDNzMyMtTVyQGZmZjZGJ3JAAAAAAEIUckDNzMwsk/1xQAAAAHB743FAMzMzU2vTcUBmZmY2KcxxQJqZmSl0xnFAAAAAkEa7cUAzMzPTPLRxQJqZmVltqnFAAAAAEH+ecUBmZma2Do1xQDMzM9OahHFAmpmZuYuEcUDNzMw8XplxQM3MzAyQx3FAzczMTEcJckBmZma2aDhyQM3MzIywWXJAZmZmBr5wckDNzMy8goNyQM3MzLwBjHJAzczMTNSMckAzMzNT24ByQDMzM0NSaHJAzczM/GVBckAAAAAQ5xVyQDMzM7PKAHJAAAAAILjwcUAAAAAQt+BxQAAAACCK2HFAmpmZWZ/IcUDNzMy8z7dxQGZmZvYZrnFAzczMzPqmcUDNzMy8fZxxQGZmZtaalXFAAAAAQMGXcUBmZmbGs6hxQJqZmdl72XFAMzMzM6wMckCamZm5q0dyQJqZmXmKbXJAzczM7CKGckBmZmYmTphyQDMzM9ODoHJAZmZmluqhckBmZmbWVZxyQGZmZkYihXJAzczMrDhTckAAAAAwSjFyQDMzMzOxGnJAmpmZKTYMckCamZk5TARyQM3MzGys93FAZmZmZj7ocUCamZm5XdhxQM3MzMzA0XFAzczMbBDKcUCamZk5isdxQDMzM5MtxHFAzczMjEbCcUCamZk5lNBxQDMzM0NF6XFAmpmZ+QcackBmZmY2sFVyQGZmZkZBgHJAzczMTDmbckAAAADggKxyQAAAAJD4tnJAMzMzg0+6ckAAAABgBrJyQM3MzIxNlnJAmpmZyaZmckDNzMxsYkhyQGZmZmYqOHJAZmZm1hIrckAzMzMDbR9yQGZmZkZLFXJAZmZmJnoMckAAAABQqAVyQM3MzPzI+HFAmpmZGSHtcUCamZmpEuxxQJqZmSm46XFAmpmZ+fXmcUA=",
                    "dtype": "f8"
                  },
                  "q3": {
                    "bdata": "zczMbPXpcUAzMzNzJPNxQJqZmSnwAXJAZmZmdrwJckBmZmZGORtyQM3MzGxwKHJAzczM/IQwckAAAAAgbzVyQM3MzDzeM3JAZmZmlnUlckDNzMxs7hhyQDMzM9PfB3JAAAAA4CPxcUBmZmY2fOZxQAAAAIAN4HFAAAAAkK7ccUBmZmbGG9hxQGZmZpYl0nFAmpmZaVHIcUDNzMzMjL5xQDMzM4Pfu3FAzczMHNi0cUAAAAAASrVxQDMzM4MYt3FAZmZmhu60cUAzMzPj+8ZxQJqZmQkk53FAzczMzIUIckCamZlpbx9yQAAAAKDGMHJAmpmZOTc+ckDNzMxsxEVyQM3MzCx5SXJAAAAAkDhJckAzMzPD1EdyQAAAAJB7OnJAmpmZeSwkckAzMzMjIg5yQGZmZrZg+nFAMzMz4/XocUCamZnZ9N5xQDMzMwPF13FAAAAAcLTQcUCamZn5WslxQJqZmSklvHFAMzMzE0+zcUDNzMyc2qtxQAAAAGBZpHFAMzMzQ6GhcUDNzMy8oLZxQM3MzDyy7HFAZmZmdj4eckBmZmZG4EZyQM3MzAzeanJAmpmZ2WKDckAAAADQvJFyQJqZmRmfl3JAAAAAUN6ZckAAAACgUpByQJqZmfk2eHJAmpmZGWxYckAzMzOj5y5yQM3MzIwnHXJAAAAAEIEGckDNzMz8vvZxQAAAABAN7HFAzczM/D/YcUCamZkp/sxxQJqZmemWwnFAZmZmZuO5cUCamZk5cLVxQJqZmXk9tXFAmpmZqdS2cUDNzMxcD8ZxQGZmZsYw9XFAZmZm5qoqckAAAABQQllyQGZmZtbifXJAzczMfJKWckDNzMysDKtyQJqZmSmouHJAzczMbDm+ckDNzMz8qLJyQM3MzAz7mnJAmpmZSeJtckDNzMwMs0RyQM3MzCz0MXJAzczMLPQhckBmZmbWERhyQJqZmXnhCnJAmpmZidMCckDNzMwsfP5xQDMzM8MS+HFAmpmZKbzucUAAAABQGulxQM3MzCzj53FAAAAAADLqcUAAAAAg4fJxQAAAAPDxBHJAZmZmFp09ckCamZnZ5XJyQAAAAODYmHJAZmZmdlGvckCamZm5hL1yQAAAAMBnxnJAmpmZyZHJckCamZmpLsByQDMzM8PzpnJAzczMTAeDckAAAACAM2NyQM3MzLx/UXJAzczMHF5DckCamZmZ6jdyQGZmZjY2NHJAAAAAwFouckDNzMzMRixyQJqZmQkCJXJAmpmZ+ewnckCamZnpnSlyQDMzM3PiJ3JAmpmZORUickA=",
                    "dtype": "f8"
                  },
                  "type": "box",
                  "upperfence": {
                    "bdata": "AAAA4JHxcUAAAABAMflxQAAAAADiAnJAAAAAwNENckAAAAAAex5yQAAAAIBHLnJAAAAA4BgxckAAAABAwzVyQAAAACA2OHJAAAAAQDsockAAAACgUxpyQAAAAOCKCnJAAAAAINXzcUAAAAAgGOpxQAAAAACi43FAAAAA4APfcUAAAAAABdtxQAAAAEA22XFAAAAA4CHNcUAAAAAgIcNxQAAAAMB8vnFAAAAAgJLAcUAAAACAqrpxQAAAACDFuHFAAAAAwHO4cUAAAAAAHs9xQAAAAMBj6nFAAAAAAJMKckAAAADAkiJyQAAAACCBNXJAAAAAYIFBckAAAAAAXElyQAAAAIBtTnJAAAAAwB1NckAAAABAs0hyQAAAAKDtQ3JAAAAAAFUyckAAAAAgPBdyQAAAACCj/HFAAAAAYNrqcUAAAABAv+JxQAAAACAw3HFAAAAAQNvScUAAAABgy8txQAAAAECfwHFAAAAAwKG1cUAAAADgxK9xQAAAAIBFqnFAAAAAYHemcUAAAABgILxxQAAAAEAy73FAAAAAgI4hckAAAADgU0pyQAAAAGA4bnJAAAAAgOKGckAAAAAgXJVyQAAAAIBEnnJAAAAAIOieckAAAACAt5JyQAAAAIARfXJAAAAAYABfckAAAADAzzhyQAAAAMCrJ3JAAAAAAEASckAAAACgRgtyQAAAAADa/nFAAAAAwHDkcUAAAACgZNlxQAAAAGDZyXFAAAAAwMbGcUAAAACA8cRxQAAAAACDw3FAAAAAYHLDcUAAAADgS8txQAAAAKCv+nFAAAAAwK0tckAAAADguFpyQAAAAEB7f3JAAAAAIGKkckAAAABA5LhyQAAAAAAyxHJAAAAA4FbGckAAAADgarxyQAAAAICdoHJAAAAAoAJ8ckAAAAAAN0xyQAAAAED1NHJAAAAAoCkqckAAAABAhCByQAAAAMB1D3JAAAAAgIgIckAAAADA+QFyQAAAAIC2+XFAAAAAgBHwcUAAAACAhutxQAAAAIBQ7XFAAAAAQNHvcUAAAADgSPNxQAAAAAC/C3JAAAAAYHRBckAAAACgnHdyQAAAAADFmXJAAAAAQOeyckAAAADApcByQAAAAOAzyXJAAAAAYJDKckAAAABghMJyQAAAAEAIq3JAAAAAIEOPckAAAACA5GNyQAAAAECpXHJAAAAA4KZFckAAAADAbD9yQAAAAIC7N3JAAAAAoNc3ckAAAACgKjNyQAAAAIC+L3JAAAAAQJIuckAAAAAgBDNyQAAAACB/MXJAAAAA4EcxckA=",
                    "dtype": "f8"
                  },
                  "width": 1080000,
                  "x": [
                    "2025-09-16T06:00:00",
                    "2025-09-16T07:00:00",
                    "2025-09-16T08:00:00",
                    "2025-09-16T09:00:00",
                    "2025-09-16T10:00:00",
                    "2025-09-16T11:00:00",
                    "2025-09-16T12:00:00",
                    "2025-09-16T13:00:00",
                    "2025-09-16T14:00:00",
                    "2025-09-16T15:00:00",
                    "2025-09-16T16:00:00",
                    "2025-09-16T17:00:00",
                    "2025-09-16T18:00:00",
                    "2025-09-16T19:00:00",
                    "2025-09-16T20:00:00",
                    "2025-09-16T21:00:00",
                    "2025-09-16T22:00:00",
                    "2025-09-16T23:00:00",
                    "2025-09-17T00:00:00",
                    "2025-09-17T01:00:00",
                    "2025-09-17T02:00:00",
                    "2025-09-17T03:00:00",
                    "2025-09-17T04:00:00",
                    "2025-09-17T05:00:00",
                    "2025-09-17T06:00:00",
                    "2025-09-17T07:00:00",
                    "2025-09-17T08:00:00",
                    "2025-09-17T09:00:00",
                    "2025-09-17T10:00:00",
                    "2025-09-17T11:00:00",
                    "2025-09-17T12:00:00",
                    "2025-09-17T13:00:00",
                    "2025-09-17T14:00:00",
                    "2025-09-17T15:00:00",
                    "2025-09-17T16:00:00",
                    "2025-09-17T17:00:00",
                    "2025-09-17T18:00:00",
                    "2025-09-17T19:00:00",
                    "2025-09-17T20:00:00",
                    "2025-09-17T21:00:00",
                    "2025-09-17T22:00:00",
                    "2025-09-17T23:00:00",
                    "2025-09-18T00:00:00",
                    "2025-09-18T01:00:00",
                    "2025-09-18T02:00:00",
                    "2025-09-18T03:00:00",
                    "2025-09-18T04:00:00",
                    "2025-09-18T05:00:00",
                    "2025-09-18T06:00:00",
                    "2025-09-18T07:00:00",
                    "2025-09-18T08:00:00",
                    "2025-09-18T09:00:00",
                    "2025-09-18T10:00:00",
                    "2025-09-18T11:00:00",
                    "2025-09-18T12:00:00",
                    "2025-09-18T13:00:00",
                    "2025-09-18T14:00:00",
                    "2025-09-18T15:00:00",
                    "2025-09-18T16:00:00",
                    "2025-09-18T17:00:00",
                    "2025-09-18T18:00:00",
                    "2025-09-18T19:00:00",
                    "2025-09-18T20:00:00",
                    "2025-09-18T21:00:00",
                    "2025-09-18T22:00:00",
                    "2025-09-18T23:00:00",
                    "2025-09-19T00:00:00",
                    "2025-09-19T01:00:00",
                    "2025-09-19T02:00:00",
                    "2025-09-19T03:00:00",
                    "2025-09-19T04:00:00",
                    "2025-09-19T05:00:00",
                    "2025-09-19T06:00:00",
                    "2025-09-19T07:00:00",
                    "2025-09-19T08:00:00",
                    "2025-09-19T09:00:00",
                    "2025-09-19T10:00:00",
                    "2025-09-19T11:00:00",
                    "2025-09-19T12:00:00",
                    "2025-09-19T13:00:00",
                    "2025-09-19T14:00:00",
                    "2025-09-19T15:00:00",
                    "2025-09-19T16:00:00",
                    "2025-09-19T17:00:00",
                    "2025-09-19T18:00:00",
                    "2025-09-19T19:00:00",
                    "2025-09-19T20:00:00",
                    "2025-09-19T21:00:00",
                    "2025-09-19T22:00:00",
                    "2025-09-19T23:00:00",
                    "2025-09-20T00:00:00",
                    "2025-09-20T01:00:00",
                    "2025-09-20T02:00:00",
                    "2025-09-20T03:00:00",
                    "2025-09-20T04:00:00",
                    "2025-09-20T05:00:00",
                    "2025-09-20T06:00:00",
                    "2025-09-20T07:00:00",
                    "2025-09-20T08:00:00",
                    "2025-09-20T09:00:00",
                    "2025-09-20T10:00:00",
                    "2025-09-20T11:00:00",
                    "2025-09-20T12:00:00",
                    "2025-09-20T13:00:00",
                    "2025-09-20T14:00:00",
                    "2025-09-20T15:00:00",
                    "2025-09-20T16:00:00",
                    "2025-09-20T17:00:00",
                    "2025-09-20T18:00:00",
                    "2025-09-20T19:00:00",
                    "2025-09-20T20:00:00",
                    "2025-09-20T21:00:00",
                    "2025-09-20T22:00:00",
                    "2025-09-20T23:00:00",
                    "2025-09-21T00:00:00",
                    "2025-09-21T01:00:00",
                    "2025-09-21T02:00:00",
                    "2025-09-21T03:00:00",
                    "2025-09-21T04:00:00",
                    "2025-09-21T05:00:00",
                    "2025-09-21T06:00:00"
                  ],
                  "xaxis": "x",
                  "yaxis": "y"
                },
                {
                  "fillcolor": "#B1B6FC",
                  "hoverinfo": "skip",
                  "line": {
                    "color": "#ef9b20"
                  },
                  "lowerfence": {
                    "bdata": "AAAAAIvYcUAAAAAgMepxQAAAAMC19nFAAAAAYNP7cUAAAADgfQ1yQAAAAADTG3JAAAAAANgickAAAADATCVyQAAAAKA/H3JAAAAAoKwWckAAAABAHwtyQAAAACBq/HFAAAAAoCbkcUAAAABgZtlxQAAAAAB4zXFAAAAAQOfKcUAAAACAS8FxQAAAAMBhsnFAAAAAAFCicUAAAACgq5txQAAAAEBEm3FAAAAAYCadcUAAAAAgcJVxQAAAAEB2i3FAAAAAAHyQcUAAAABAAbBxQAAAAGBw0HFAAAAAYMzhcUAAAADgp/ZxQAAAAKAmCnJAAAAAIFAZckAAAABguyRyQAAAAKB7LXJAAAAAYGAxckAAAABA1y9yQAAAAID+JHJAAAAAAAkJckAAAACgf/NxQAAAAEDB23FAAAAAoMzOcUAAAAAgMchxQAAAAMAlwHFAAAAAwFK3cUAAAABAua9xQAAAAAC7pnFAAAAAwGSPcUAAAACgnINxQAAAAGAbgXFAAAAAoJKAcUAAAABAkpBxQAAAACAdxHFAAAAAoOEFckAAAAAAOi5yQAAAACC3T3JAAAAAIGJqckAAAAAgNXxyQAAAAICghnJAAAAAILaJckAAAABgtH9yQAAAAMA2YnJAAAAAwPkvckAAAACgCAtyQAAAAGCu8HFAAAAA4MLtcUAAAACAI91xQAAAAGAG03FAAAAAQJDBcUAAAABg+6xxQAAAAABCqXFAAAAAgC2jcUAAAADgL5lxQAAAAGCsj3FAAAAAQMWNcUAAAABgvqBxQAAAAEDs1HFAAAAA4PMEckAAAAAAgEJyQAAAACCVaHJAAAAAgLCDckAAAAAAFpVyQAAAAIDgn3JAAAAAgEagckAAAACgAJlyQAAAAIAlfnJAAAAAADdNckAAAADAKy5yQAAAAMCcFnJAAAAAQPsKckAAAABAh/dxQAAAAICe5XFAAAAAgM3ecUAAAACAXNJxQAAAAGCnyXFAAAAA4Di3cUAAAABAwqJxQAAAAEDOn3FAAAAAgDOpcUAAAACAFb9xQAAAAIAT3HFAAAAAQAkMckAAAAAA+DlyQAAAAIBMdHJAAAAAQJmYckAAAACAMqhyQAAAACAJqXJAAAAAwDOwckAAAABg2KtyQAAAAED5lHJAAAAAIGBeckAAAAAANT9yQAAAAABINnJAAAAAgDomckAAAAAg/RRyQAAAAKBwB3JAAAAAgKn/cUAAAADAH/BxQAAAAOCx6nFAAAAAwCfkcUAAAADgN9txQAAAAGDk3HFAAAAAAF/WcUA=",
                    "dtype": "f8"
                  },
                  "median": {
                    "bdata": "AAAAUMzicUAAAACgrPBxQAAAABBp/XFAAAAAUGIFckAAAABwWhZyQAAAAJCPI3JAAAAAcBYqckAAAAAAgC1yQAAAAPAxLnJAAAAA0AUickAAAAAg+RNyQAAAACAiA3JAAAAAoAbtcUAAAAAwCeJxQAAAANDB2XFAAAAAIPTVcUAAAADw8c5xQAAAAHBsyHFAAAAAwBi+cUAAAADgN7BxQAAAAABBqnFAAAAAUAqncUAAAABgTKJxQAAAAHBin3FAAAAA0GKgcUAAAACA5LlxQAAAAFDP33FAAAAA8Cn+cUAAAABgtRNyQAAAAPC6JnJAAAAAwPwzckAAAABALTxyQAAAAOCLQHJAAAAA0HxCckAAAADQyT5yQAAAACCoMHJAAAAAIIQbckAAAADQQgdyQAAAAGBj8XFAAAAAIKzfcUAAAAAgZtZxQAAAAID5zXFAAAAAgH3HcUAAAACwdL9xQAAAAIDRs3FAAAAA0DmscUAAAADgfaBxQAAAAMAwmHFAAAAAcNqTcUAAAADQt6dxQAAAAADN3HFAAAAA8LwWckAAAACgAEFyQAAAAFBFYHJAAAAAEIV6ckAAAAAgmopyQAAAANA7knJAAAAAIISRckAAAAAg1IhyQAAAANA8b3JAAAAAgPhIckAAAADA/BxyQAAAALAxEHJAAAAA4Ef8cUAAAABA1u1xQAAAABAi4XFAAAAAoCjTcUAAAADgxsJxQAAAAOACuXFAAAAAcDOwcUAAAAAgKqxxQAAAANDBpXFAAAAAYMWfcUAAAADQfLpxQAAAAPAF6HFAAAAA4GMickAAAADwdFFyQAAAAADKc3JAAAAA0GCLckAAAABAh5xyQAAAAMAMqXJAAAAAUL2sckAAAADQmadyQAAAANBNjHJAAAAAwOxcckAAAADQ7j1yQAAAAPCaKHJAAAAAQJ0ZckAAAACQvg5yQAAAAKB1AnJAAAAAgHL1cUAAAACAG/JxQAAAAOBh6HFAAAAAMLXacUAAAABgkNJxQAAAALDn1XFAAAAAENfXcUAAAABAAuJxQAAAAMDI/HFAAAAAAMkuckAAAABgYmZyQAAAAKAUjXJAAAAAUFmnckAAAAAwOrlyQAAAAFBGwnJAAAAAsC7CckAAAAAAZrhyQAAAACB0nHJAAAAAYOZyckAAAACAtVpyQAAAABDBRXJAAAAAMCw5ckAAAACQdS9yQAAAANCtJ3JAAAAAAO8bckAAAAAAJRZyQAAAAICoDnJAAAAAwE8PckAAAAAg4gdyQAAAAOB9A3JAAAAAkO//cUA=",
                    "dtype": "f8"
                  },
                  "q1": {
                    "bdata": "AAAAWITfcUAAAABYPO5xQAAAAKiY+nFAAAAA6FQCckAAAADIdBRyQAAAAGBnIXJAAAAAIGsnckAAAAB4TStyQAAAAMAcK3JAAAAAuCsgckAAAADIxRFyQAAAACgSAXJAAAAAADrqcUAAAABwIeBxQAAAALha1nFAAAAACPjQcUAAAADg0cpxQAAAAFDZw3FAAAAAUHWzcUAAAABwqalxQAAAAHh0pnFAAAAA+OOjcUAAAADgdp5xQAAAAECwmHFAAAAA4OeWcUAAAABAr7VxQAAAAIBl2nFAAAAA4JP7cUAAAAAgcg5yQAAAAOhiHXJAAAAAQBQuckAAAADgGzdyQAAAAEgRPXJAAAAAoOQ+ckAAAAAI6jlyQAAAAJhcKXJAAAAAmK4WckAAAACwzf9xQAAAAIDD53FAAAAAGBjZcUAAAADwx9FxQAAAABCAyXFAAAAAQLLBcUAAAABokrhxQAAAAACUr3FAAAAAgCGicUAAAAAYMpVxQAAAALiUjHFAAAAAwDWJcUAAAABAL6BxQAAAALiL2HFAAAAAaHkSckAAAAAA/zpyQAAAAGDIW3JAAAAAGNp0ckAAAABYqIZyQAAAALg2jnJAAAAAeEyOckAAAACQGoVyQAAAAFgTbXJAAAAA+NZFckAAAACQvRhyQAAAADhaBXJAAAAAsOD0cUAAAAAAWOpxQAAAAHh73XFAAAAASKLNcUAAAADI/btxQAAAAGhus3FAAAAAwCKqcUAAAAB4N55xQAAAAMjKm3FAAAAAAD+acUAAAABANrBxQAAAAHgu33FAAAAAgG8dckAAAABQLUxyQAAAADjUb3JAAAAAuOyJckAAAACg2ZlyQAAAAOgEo3JAAAAA6N2nckAAAAD4pJ9yQAAAAMCbhnJAAAAAMGJYckAAAACI5jdyQAAAAJDcInJAAAAAsFcVckAAAACgfwlyQAAAACgl/nFAAAAAUNPrcUAAAACIBeJxQAAAAOBG2nFAAAAAWKPScUAAAAAI/ctxQAAAANi7yXFAAAAAuIrHcUAAAABIW9RxQAAAAGhm9HFAAAAAeHsjckAAAACou1tyQAAAAFBZhnJAAAAAoFmfckAAAACYjLNyQAAAAACcvHJAAAAAqFe+ckAAAADoG7VyQAAAAGgsmHJAAAAAkJ1qckAAAADgm1JyQAAAAPhbPXJAAAAA8FMvckAAAAAQPyhyQAAAAPAWIHJAAAAAENcWckAAAABoRwtyQAAAAMDqAXJAAAAAaBv8cUAAAADwv/RxQAAAAMDu8XFAAAAAcGvycUA=",
                    "dtype": "f8"
                  },
                  "q3": {
                    "bdata": "AAAA4HfncUAAAACIVvJxQAAAAPC7/nFAAAAASKsIckAAAADAHBlyQAAAACjpJXJAAAAA4LQsckAAAADo7zFyQAAAAKDQMXJAAAAAcBAjckAAAACQDBdyQAAAAODgBnJAAAAA8DzvcUAAAADYb+NxQAAAANjO23FAAAAAIIfacUAAAAAw3NNxQAAAAGCzy3FAAAAAEPDCcUAAAAAQl7hxQAAAAIA1r3FAAAAAwBSucUAAAAAosapxQAAAAPgtqnFAAAAAGIiscUAAAABI68FxQAAAAJBZ4nFAAAAA+N8GckAAAAAQ5RtyQAAAAIiPLHJAAAAAEGQ4ckAAAAAYTkByQAAAANivRXJAAAAA8N1GckAAAAD4DURyQAAAAPgONXJAAAAAkPYfckAAAABQMQtyQAAAABh79nFAAAAAyLPjcUAAAAAwxtxxQAAAALg21HFAAAAAYK3McUAAAAAQo8RxQAAAAMgpuHFAAAAAIJyvcUAAAACIPqdxQAAAAGBxnnFAAAAAIIWacUAAAAAQNaxxQAAAACAJ4XFAAAAAeIMackAAAABY9UNyQAAAADCJZXJAAAAAoGN/ckAAAAAwMo9yQAAAAOjrlnJAAAAA0M2VckAAAACAXotyQAAAAFhMdXJAAAAAuFBOckAAAACI2ChyQAAAADBFFXJAAAAAWBcEckAAAAA4cPBxQAAAACAt5HFAAAAA0JDVcUAAAAA4XMpxQAAAAKhrwHFAAAAAUDi2cUAAAADoR7JxQAAAALBhrXFAAAAA4A+qcUAAAAB4O8FxQAAAAJB973FAAAAAIK8mckAAAACAo1VyQAAAAPh5dnJAAAAAAB+RckAAAAAoDqVyQAAAAEAkr3JAAAAAOMazckAAAABof69yQAAAALhKlHJAAAAAMA5ickAAAABgnkByQAAAAOiILnJAAAAAQEMfckAAAACoLBRyQAAAACDGB3JAAAAAaCz/cUAAAADg8vtxQAAAABAi8XFAAAAAuG/qcUAAAAA4OORxQAAAAOBa33FAAAAAQLnhcUAAAADIAuxxQAAAAKgEAXJAAAAA4L0zckAAAACgWm1yQAAAAGj/k3JAAAAASCWsckAAAABoOLtyQAAAACj/xHJAAAAAWHHHckAAAADwL71yQAAAAJimpXJAAAAA+PR6ckAAAADwBWFyQAAAAOjkTHJAAAAA2Ig/ckAAAAAoHDZyQAAAAOCpLnJAAAAAEM4ockAAAADgfSFyQAAAAEg/GnJAAAAA2OMcckAAAADQzRxyQAAAAHgSEXJAAAAAuFcNckA=",
                    "dtype": "f8"
                  },
                  "showwhiskers": false,
                  "type": "box",
                  "upperfence": {
                    "bdata": "AAAA4JHxcUAAAABAMflxQAAAAADiAnJAAAAAwNENckAAAAAAex5yQAAAAIBHLnJAAAAA4BgxckAAAABAwzVyQAAAACA2OHJAAAAAQDsockAAAACgUxpyQAAAAOCKCnJAAAAAINXzcUAAAAAgGOpxQAAAAACi43FAAAAA4APfcUAAAAAABdtxQAAAAEA22XFAAAAA4CHNcUAAAAAgIcNxQAAAAMB8vnFAAAAAgJLAcUAAAACAqrpxQAAAACDFuHFAAAAAwHO4cUAAAAAAHs9xQAAAAMBj6nFAAAAAAJMKckAAAADAkiJyQAAAACCBNXJAAAAAYIFBckAAAAAAXElyQAAAAIBtTnJAAAAAwB1NckAAAABAs0hyQAAAAKDtQ3JAAAAAAFUyckAAAAAgPBdyQAAAACCj/HFAAAAAYNrqcUAAAABAv+JxQAAAACAw3HFAAAAAQNvScUAAAABgy8txQAAAAECfwHFAAAAAwKG1cUAAAADgxK9xQAAAAIBFqnFAAAAAYHemcUAAAABgILxxQAAAAEAy73FAAAAAgI4hckAAAADgU0pyQAAAAGA4bnJAAAAAgOKGckAAAAAgXJVyQAAAAIBEnnJAAAAAIOieckAAAACAt5JyQAAAAIARfXJAAAAAYABfckAAAADAzzhyQAAAAMCrJ3JAAAAAAEASckAAAACgRgtyQAAAAADa/nFAAAAAwHDkcUAAAACgZNlxQAAAAGDZyXFAAAAAwMbGcUAAAACA8cRxQAAAAACDw3FAAAAAYHLDcUAAAADgS8txQAAAAKCv+nFAAAAAwK0tckAAAADguFpyQAAAAEB7f3JAAAAAIGKkckAAAABA5LhyQAAAAAAyxHJAAAAA4FbGckAAAADgarxyQAAAAICdoHJAAAAAoAJ8ckAAAAAAN0xyQAAAAED1NHJAAAAAoCkqckAAAABAhCByQAAAAMB1D3JAAAAAgIgIckAAAADA+QFyQAAAAIC2+XFAAAAAgBHwcUAAAACAhutxQAAAAIBQ7XFAAAAAQNHvcUAAAADgSPNxQAAAAAC/C3JAAAAAYHRBckAAAACgnHdyQAAAAADFmXJAAAAAQOeyckAAAADApcByQAAAAOAzyXJAAAAAYJDKckAAAABghMJyQAAAAEAIq3JAAAAAIEOPckAAAACA5GNyQAAAAECpXHJAAAAA4KZFckAAAADAbD9yQAAAAIC7N3JAAAAAoNc3ckAAAACgKjNyQAAAAIC+L3JAAAAAQJIuckAAAAAgBDNyQAAAACB/MXJAAAAA4EcxckA=",
                    "dtype": "f8"
                  },
                  "width": 2160000,
                  "x": [
                    "2025-09-16T06:00:00",
                    "2025-09-16T07:00:00",
                    "2025-09-16T08:00:00",
                    "2025-09-16T09:00:00",
                    "2025-09-16T10:00:00",
                    "2025-09-16T11:00:00",
                    "2025-09-16T12:00:00",
                    "2025-09-16T13:00:00",
                    "2025-09-16T14:00:00",
                    "2025-09-16T15:00:00",
                    "2025-09-16T16:00:00",
                    "2025-09-16T17:00:00",
                    "2025-09-16T18:00:00",
                    "2025-09-16T19:00:00",
                    "2025-09-16T20:00:00",
                    "2025-09-16T21:00:00",
                    "2025-09-16T22:00:00",
                    "2025-09-16T23:00:00",
                    "2025-09-17T00:00:00",
                    "2025-09-17T01:00:00",
                    "2025-09-17T02:00:00",
                    "2025-09-17T03:00:00",
                    "2025-09-17T04:00:00",
                    "2025-09-17T05:00:00",
                    "2025-09-17T06:00:00",
                    "2025-09-17T07:00:00",
                    "2025-09-17T08:00:00",
                    "2025-09-17T09:00:00",
                    "2025-09-17T10:00:00",
                    "2025-09-17T11:00:00",
                    "2025-09-17T12:00:00",
                    "2025-09-17T13:00:00",
                    "2025-09-17T14:00:00",
                    "2025-09-17T15:00:00",
                    "2025-09-17T16:00:00",
                    "2025-09-17T17:00:00",
                    "2025-09-17T18:00:00",
                    "2025-09-17T19:00:00",
                    "2025-09-17T20:00:00",
                    "2025-09-17T21:00:00",
                    "2025-09-17T22:00:00",
                    "2025-09-17T23:00:00",
                    "2025-09-18T00:00:00",
                    "2025-09-18T01:00:00",
                    "2025-09-18T02:00:00",
                    "2025-09-18T03:00:00",
                    "2025-09-18T04:00:00",
                    "2025-09-18T05:00:00",
                    "2025-09-18T06:00:00",
                    "2025-09-18T07:00:00",
                    "2025-09-18T08:00:00",
                    "2025-09-18T09:00:00",
                    "2025-09-18T10:00:00",
                    "2025-09-18T11:00:00",
                    "2025-09-18T12:00:00",
                    "2025-09-18T13:00:00",
                    "2025-09-18T14:00:00",
                    "2025-09-18T15:00:00",
                    "2025-09-18T16:00:00",
                    "2025-09-18T17:00:00",
                    "2025-09-18T18:00:00",
                    "2025-09-18T19:00:00",
                    "2025-09-18T20:00:00",
                    "2025-09-18T21:00:00",
                    "2025-09-18T22:00:00",
                    "2025-09-18T23:00:00",
                    "2025-09-19T00:00:00",
                    "2025-09-19T01:00:00",
                    "2025-09-19T02:00:00",
                    "2025-09-19T03:00:00",
                    "2025-09-19T04:00:00",
                    "2025-09-19T05:00:00",
                    "2025-09-19T06:00:00",
                    "2025-09-19T07:00:00",
                    "2025-09-19T08:00:00",
                    "2025-09-19T09:00:00",
                    "2025-09-19T10:00:00",
                    "2025-09-19T11:00:00",
                    "2025-09-19T12:00:00",
                    "2025-09-19T13:00:00",
                    "2025-09-19T14:00:00",
                    "2025-09-19T15:00:00",
                    "2025-09-19T16:00:00",
                    "2025-09-19T17:00:00",
                    "2025-09-19T18:00:00",
                    "2025-09-19T19:00:00",
                    "2025-09-19T20:00:00",
                    "2025-09-19T21:00:00",
                    "2025-09-19T22:00:00",
                    "2025-09-19T23:00:00",
                    "2025-09-20T00:00:00",
                    "2025-09-20T01:00:00",
                    "2025-09-20T02:00:00",
                    "2025-09-20T03:00:00",
                    "2025-09-20T04:00:00",
                    "2025-09-20T05:00:00",
                    "2025-09-20T06:00:00",
                    "2025-09-20T07:00:00",
                    "2025-09-20T08:00:00",
                    "2025-09-20T09:00:00",
                    "2025-09-20T10:00:00",
                    "2025-09-20T11:00:00",
                    "2025-09-20T12:00:00",
                    "2025-09-20T13:00:00",
                    "2025-09-20T14:00:00",
                    "2025-09-20T15:00:00",
                    "2025-09-20T16:00:00",
                    "2025-09-20T17:00:00",
                    "2025-09-20T18:00:00",
                    "2025-09-20T19:00:00",
                    "2025-09-20T20:00:00",
                    "2025-09-20T21:00:00",
                    "2025-09-20T22:00:00",
                    "2025-09-20T23:00:00",
                    "2025-09-21T00:00:00",
                    "2025-09-21T01:00:00",
                    "2025-09-21T02:00:00",
                    "2025-09-21T03:00:00",
                    "2025-09-21T04:00:00",
                    "2025-09-21T05:00:00",
                    "2025-09-21T06:00:00"
                  ],
                  "xaxis": "x",
                  "yaxis": "y"
                },
                {
                  "hovertemplate": "%{y:.2f}<extra>P<sub>0%</sub></extra>",
                  "marker": {
                    "color": "#ef9b20",
                    "size": 0.00001
                  },
                  "mode": "markers",
                  "type": "scatter",
                  "x": [
                    "2025-09-16T06:00:00",
                    "2025-09-16T07:00:00",
                    "2025-09-16T08:00:00",
                    "2025-09-16T09:00:00",
                    "2025-09-16T10:00:00",
                    "2025-09-16T11:00:00",
                    "2025-09-16T12:00:00",
                    "2025-09-16T13:00:00",
                    "2025-09-16T14:00:00",
                    "2025-09-16T15:00:00",
                    "2025-09-16T16:00:00",
                    "2025-09-16T17:00:00",
                    "2025-09-16T18:00:00",
                    "2025-09-16T19:00:00",
                    "2025-09-16T20:00:00",
                    "2025-09-16T21:00:00",
                    "2025-09-16T22:00:00",
                    "2025-09-16T23:00:00",
                    "2025-09-17T00:00:00",
                    "2025-09-17T01:00:00",
                    "2025-09-17T02:00:00",
                    "2025-09-17T03:00:00",
                    "2025-09-17T04:00:00",
                    "2025-09-17T05:00:00",
                    "2025-09-17T06:00:00",
                    "2025-09-17T07:00:00",
                    "2025-09-17T08:00:00",
                    "2025-09-17T09:00:00",
                    "2025-09-17T10:00:00",
                    "2025-09-17T11:00:00",
                    "2025-09-17T12:00:00",
                    "2025-09-17T13:00:00",
                    "2025-09-17T14:00:00",
                    "2025-09-17T15:00:00",
                    "2025-09-17T16:00:00",
                    "2025-09-17T17:00:00",
                    "2025-09-17T18:00:00",
                    "2025-09-17T19:00:00",
                    "2025-09-17T20:00:00",
                    "2025-09-17T21:00:00",
                    "2025-09-17T22:00:00",
                    "2025-09-17T23:00:00",
                    "2025-09-18T00:00:00",
                    "2025-09-18T01:00:00",
                    "2025-09-18T02:00:00",
                    "2025-09-18T03:00:00",
                    "2025-09-18T04:00:00",
                    "2025-09-18T05:00:00",
                    "2025-09-18T06:00:00",
                    "2025-09-18T07:00:00",
                    "2025-09-18T08:00:00",
                    "2025-09-18T09:00:00",
                    "2025-09-18T10:00:00",
                    "2025-09-18T11:00:00",
                    "2025-09-18T12:00:00",
                    "2025-09-18T13:00:00",
                    "2025-09-18T14:00:00",
                    "2025-09-18T15:00:00",
                    "2025-09-18T16:00:00",
                    "2025-09-18T17:00:00",
                    "2025-09-18T18:00:00",
                    "2025-09-18T19:00:00",
                    "2025-09-18T20:00:00",
                    "2025-09-18T21:00:00",
                    "2025-09-18T22:00:00",
                    "2025-09-18T23:00:00",
                    "2025-09-19T00:00:00",
                    "2025-09-19T01:00:00",
                    "2025-09-19T02:00:00",
                    "2025-09-19T03:00:00",
                    "2025-09-19T04:00:00",
                    "2025-09-19T05:00:00",
                    "2025-09-19T06:00:00",
                    "2025-09-19T07:00:00",
                    "2025-09-19T08:00:00",
                    "2025-09-19T09:00:00",
                    "2025-09-19T10:00:00",
                    "2025-09-19T11:00:00",
                    "2025-09-19T12:00:00",
                    "2025-09-19T13:00:00",
                    "2025-09-19T14:00:00",
                    "2025-09-19T15:00:00",
                    "2025-09-19T16:00:00",
                    "2025-09-19T17:00:00",
                    "2025-09-19T18:00:00",
                    "2025-09-19T19:00:00",
                    "2025-09-19T20:00:00",
                    "2025-09-19T21:00:00",
                    "2025-09-19T22:00:00",
                    "2025-09-19T23:00:00",
                    "2025-09-20T00:00:00",
                    "2025-09-20T01:00:00",
                    "2025-09-20T02:00:00",
                    "2025-09-20T03:00:00",
                    "2025-09-20T04:00:00",
                    "2025-09-20T05:00:00",
                    "2025-09-20T06:00:00",
                    "2025-09-20T07:00:00",
                    "2025-09-20T08:00:00",
                    "2025-09-20T09:00:00",
                    "2025-09-20T10:00:00",
                    "2025-09-20T11:00:00",
                    "2025-09-20T12:00:00",
                    "2025-09-20T13:00:00",
                    "2025-09-20T14:00:00",
                    "2025-09-20T15:00:00",
                    "2025-09-20T16:00:00",
                    "2025-09-20T17:00:00",
                    "2025-09-20T18:00:00",
                    "2025-09-20T19:00:00",
                    "2025-09-20T20:00:00",
                    "2025-09-20T21:00:00",
                    "2025-09-20T22:00:00",
                    "2025-09-20T23:00:00",
                    "2025-09-21T00:00:00",
                    "2025-09-21T01:00:00",
                    "2025-09-21T02:00:00",
                    "2025-09-21T03:00:00",
                    "2025-09-21T04:00:00",
                    "2025-09-21T05:00:00",
                    "2025-09-21T06:00:00"
                  ],
                  "xaxis": "x",
                  "y": {
                    "bdata": "AAAAAIvYcUAAAAAgMepxQAAAAMC19nFAAAAAYNP7cUAAAADgfQ1yQAAAAADTG3JAAAAAANgickAAAADATCVyQAAAAKA/H3JAAAAAoKwWckAAAABAHwtyQAAAACBq/HFAAAAAoCbkcUAAAABgZtlxQAAAAAB4zXFAAAAAQOfKcUAAAACAS8FxQAAAAMBhsnFAAAAAAFCicUAAAACgq5txQAAAAEBEm3FAAAAAYCadcUAAAAAgcJVxQAAAAEB2i3FAAAAAAHyQcUAAAABAAbBxQAAAAGBw0HFAAAAAYMzhcUAAAADgp/ZxQAAAAKAmCnJAAAAAIFAZckAAAABguyRyQAAAAKB7LXJAAAAAYGAxckAAAABA1y9yQAAAAID+JHJAAAAAAAkJckAAAACgf/NxQAAAAEDB23FAAAAAoMzOcUAAAAAgMchxQAAAAMAlwHFAAAAAwFK3cUAAAABAua9xQAAAAAC7pnFAAAAAwGSPcUAAAACgnINxQAAAAGAbgXFAAAAAoJKAcUAAAABAkpBxQAAAACAdxHFAAAAAoOEFckAAAAAAOi5yQAAAACC3T3JAAAAAIGJqckAAAAAgNXxyQAAAAICghnJAAAAAILaJckAAAABgtH9yQAAAAMA2YnJAAAAAwPkvckAAAACgCAtyQAAAAGCu8HFAAAAA4MLtcUAAAACAI91xQAAAAGAG03FAAAAAQJDBcUAAAABg+6xxQAAAAABCqXFAAAAAgC2jcUAAAADgL5lxQAAAAGCsj3FAAAAAQMWNcUAAAABgvqBxQAAAAEDs1HFAAAAA4PMEckAAAAAAgEJyQAAAACCVaHJAAAAAgLCDckAAAAAAFpVyQAAAAIDgn3JAAAAAgEagckAAAACgAJlyQAAAAIAlfnJAAAAAADdNckAAAADAKy5yQAAAAMCcFnJAAAAAQPsKckAAAABAh/dxQAAAAICe5XFAAAAAgM3ecUAAAACAXNJxQAAAAGCnyXFAAAAA4Di3cUAAAABAwqJxQAAAAEDOn3FAAAAAgDOpcUAAAACAFb9xQAAAAIAT3HFAAAAAQAkMckAAAAAA+DlyQAAAAIBMdHJAAAAAQJmYckAAAACAMqhyQAAAACAJqXJAAAAAwDOwckAAAABg2KtyQAAAAED5lHJAAAAAIGBeckAAAAAANT9yQAAAAABINnJAAAAAgDomckAAAAAg/RRyQAAAAKBwB3JAAAAAgKn/cUAAAADAH/BxQAAAAOCx6nFAAAAAwCfkcUAAAADgN9txQAAAAGDk3HFAAAAAAF/WcUA=",
                    "dtype": "f8"
                  },
                  "yaxis": "y"
                },
                {
                  "hovertemplate": "%{y:.2f}<extra>P<sub>10%</sub></extra>",
                  "marker": {
                    "color": "#ef9b20",
                    "size": 0.00001
                  },
                  "mode": "markers",
                  "type": "scatter",
                  "x": [
                    "2025-09-16T06:00:00",
                    "2025-09-16T07:00:00",
                    "2025-09-16T08:00:00",
                    "2025-09-16T09:00:00",
                    "2025-09-16T10:00:00",
                    "2025-09-16T11:00:00",
                    "2025-09-16T12:00:00",
                    "2025-09-16T13:00:00",
                    "2025-09-16T14:00:00",
                    "2025-09-16T15:00:00",
                    "2025-09-16T16:00:00",
                    "2025-09-16T17:00:00",
                    "2025-09-16T18:00:00",
                    "2025-09-16T19:00:00",
                    "2025-09-16T20:00:00",
                    "2025-09-16T21:00:00",
                    "2025-09-16T22:00:00",
                    "2025-09-16T23:00:00",
                    "2025-09-17T00:00:00",
                    "2025-09-17T01:00:00",
                    "2025-09-17T02:00:00",
                    "2025-09-17T03:00:00",
                    "2025-09-17T04:00:00",
                    "2025-09-17T05:00:00",
                    "2025-09-17T06:00:00",
                    "2025-09-17T07:00:00",
                    "2025-09-17T08:00:00",
                    "2025-09-17T09:00:00",
                    "2025-09-17T10:00:00",
                    "2025-09-17T11:00:00",
                    "2025-09-17T12:00:00",
                    "2025-09-17T13:00:00",
                    "2025-09-17T14:00:00",
                    "2025-09-17T15:00:00",
                    "2025-09-17T16:00:00",
                    "2025-09-17T17:00:00",
                    "2025-09-17T18:00:00",
                    "2025-09-17T19:00:00",
                    "2025-09-17T20:00:00",
                    "2025-09-17T21:00:00",
                    "2025-09-17T22:00:00",
                    "2025-09-17T23:00:00",
                    "2025-09-18T00:00:00",
                    "2025-09-18T01:00:00",
                    "2025-09-18T02:00:00",
                    "2025-09-18T03:00:00",
                    "2025-09-18T04:00:00",
                    "2025-09-18T05:00:00",
                    "2025-09-18T06:00:00",
                    "2025-09-18T07:00:00",
                    "2025-09-18T08:00:00",
                    "2025-09-18T09:00:00",
                    "2025-09-18T10:00:00",
                    "2025-09-18T11:00:00",
                    "2025-09-18T12:00:00",
                    "2025-09-18T13:00:00",
                    "2025-09-18T14:00:00",
                    "2025-09-18T15:00:00",
                    "2025-09-18T16:00:00",
                    "2025-09-18T17:00:00",
                    "2025-09-18T18:00:00",
                    "2025-09-18T19:00:00",
                    "2025-09-18T20:00:00",
                    "2025-09-18T21:00:00",
                    "2025-09-18T22:00:00",
                    "2025-09-18T23:00:00",
                    "2025-09-19T00:00:00",
                    "2025-09-19T01:00:00",
                    "2025-09-19T02:00:00",
                    "2025-09-19T03:00:00",
                    "2025-09-19T04:00:00",
                    "2025-09-19T05:00:00",
                    "2025-09-19T06:00:00",
                    "2025-09-19T07:00:00",
                    "2025-09-19T08:00:00",
                    "2025-09-19T09:00:00",
                    "2025-09-19T10:00:00",
                    "2025-09-19T11:00:00",
                    "2025-09-19T12:00:00",
                    "2025-09-19T13:00:00",
                    "2025-09-19T14:00:00",
                    "2025-09-19T15:00:00",
                    "2025-09-19T16:00:00",
                    "2025-09-19T17:00:00",
                    "2025-09-19T18:00:00",
                    "2025-09-19T19:00:00",
                    "2025-09-19T20:00:00",
                    "2025-09-19T21:00:00",
                    "2025-09-19T22:00:00",
                    "2025-09-19T23:00:00",
                    "2025-09-20T00:00:00",
                    "2025-09-20T01:00:00",
                    "2025-09-20T02:00:00",
                    "2025-09-20T03:00:00",
                    "2025-09-20T04:00:00",
                    "2025-09-20T05:00:00",
                    "2025-09-20T06:00:00",
                    "2025-09-20T07:00:00",
                    "2025-09-20T08:00:00",
                    "2025-09-20T09:00:00",
                    "2025-09-20T10:00:00",
                    "2025-09-20T11:00:00",
                    "2025-09-20T12:00:00",
                    "2025-09-20T13:00:00",
                    "2025-09-20T14:00:00",
                    "2025-09-20T15:00:00",
                    "2025-09-20T16:00:00",
                    "2025-09-20T17:00:00",
                    "2025-09-20T18:00:00",
                    "2025-09-20T19:00:00",
                    "2025-09-20T20:00:00",
                    "2025-09-20T21:00:00",
                    "2025-09-20T22:00:00",
                    "2025-09-20T23:00:00",
                    "2025-09-21T00:00:00",
                    "2025-09-21T01:00:00",
                    "2025-09-21T02:00:00",
                    "2025-09-21T03:00:00",
                    "2025-09-21T04:00:00",
                    "2025-09-21T05:00:00",
                    "2025-09-21T06:00:00"
                  ],
                  "xaxis": "x",
                  "y": {
                    "bdata": "MzMzI9TecUDNzMzML+xxQJqZmbkN93FAMzMzM3T/cUAAAACAvg9yQM3MzPwEH3JAzczMzPokckAzMzNTnypyQDMzMxPjJXJAZmZmZhkeckBmZmZmZxByQJqZmak5/3FAmpmZiYHncUBmZmbWSN5xQJqZmQls1HFAMzMzMxTNcUBmZmZm78ZxQGZmZoYkvHFAAAAA4HCqcUCamZnZVqJxQM3MzMwIpHFAAAAAQIahcUBmZmYGWpdxQGZmZia7lHFAAAAAENGRcUBmZmbWBLNxQJqZmVlk13FAZmZmtobucUAAAACQXgZyQJqZmZlvDXJAZmZmZlUcckDNzMy8hCtyQJqZmbnvNHJAzczMLHE5ckDNzMyMtTVyQGZmZjZGJ3JAAAAAAEIUckDNzMwsk/1xQAAAAHB743FAMzMzU2vTcUBmZmY2KcxxQJqZmSl0xnFAAAAAkEa7cUAzMzPTPLRxQJqZmVltqnFAAAAAEH+ecUBmZma2Do1xQDMzM9OahHFAmpmZuYuEcUDNzMw8XplxQM3MzAyQx3FAzczMTEcJckBmZma2aDhyQM3MzIywWXJAZmZmBr5wckDNzMy8goNyQM3MzLwBjHJAzczMTNSMckAzMzNT24ByQDMzM0NSaHJAzczM/GVBckAAAAAQ5xVyQDMzM7PKAHJAAAAAILjwcUAAAAAQt+BxQAAAACCK2HFAmpmZWZ/IcUDNzMy8z7dxQGZmZvYZrnFAzczMzPqmcUDNzMy8fZxxQGZmZtaalXFAAAAAQMGXcUBmZmbGs6hxQJqZmdl72XFAMzMzM6wMckCamZm5q0dyQJqZmXmKbXJAzczM7CKGckBmZmYmTphyQDMzM9ODoHJAZmZmluqhckBmZmbWVZxyQGZmZkYihXJAzczMrDhTckAAAAAwSjFyQDMzMzOxGnJAmpmZKTYMckCamZk5TARyQM3MzGys93FAZmZmZj7ocUCamZm5XdhxQM3MzMzA0XFAzczMbBDKcUCamZk5isdxQDMzM5MtxHFAzczMjEbCcUCamZk5lNBxQDMzM0NF6XFAmpmZ+QcackBmZmY2sFVyQGZmZkZBgHJAzczMTDmbckAAAADggKxyQAAAAJD4tnJAMzMzg0+6ckAAAABgBrJyQM3MzIxNlnJAmpmZyaZmckDNzMxsYkhyQGZmZmYqOHJAZmZm1hIrckAzMzMDbR9yQGZmZkZLFXJAZmZmJnoMckAAAABQqAVyQM3MzPzI+HFAmpmZGSHtcUCamZmpEuxxQJqZmSm46XFAmpmZ+fXmcUA=",
                    "dtype": "f8"
                  },
                  "yaxis": "y"
                },
                {
                  "hovertemplate": "%{y:.2f}<extra>P<sub>25%</sub></extra>",
                  "marker": {
                    "color": "#ef9b20",
                    "size": 0.00001
                  },
                  "mode": "markers",
                  "type": "scatter",
                  "x": [
                    "2025-09-16T06:00:00",
                    "2025-09-16T07:00:00",
                    "2025-09-16T08:00:00",
                    "2025-09-16T09:00:00",
                    "2025-09-16T10:00:00",
                    "2025-09-16T11:00:00",
                    "2025-09-16T12:00:00",
                    "2025-09-16T13:00:00",
                    "2025-09-16T14:00:00",
                    "2025-09-16T15:00:00",
                    "2025-09-16T16:00:00",
                    "2025-09-16T17:00:00",
                    "2025-09-16T18:00:00",
                    "2025-09-16T19:00:00",
                    "2025-09-16T20:00:00",
                    "2025-09-16T21:00:00",
                    "2025-09-16T22:00:00",
                    "2025-09-16T23:00:00",
                    "2025-09-17T00:00:00",
                    "2025-09-17T01:00:00",
                    "2025-09-17T02:00:00",
                    "2025-09-17T03:00:00",
                    "2025-09-17T04:00:00",
                    "2025-09-17T05:00:00",
                    "2025-09-17T06:00:00",
                    "2025-09-17T07:00:00",
                    "2025-09-17T08:00:00",
                    "2025-09-17T09:00:00",
                    "2025-09-17T10:00:00",
                    "2025-09-17T11:00:00",
                    "2025-09-17T12:00:00",
                    "2025-09-17T13:00:00",
                    "2025-09-17T14:00:00",
                    "2025-09-17T15:00:00",
                    "2025-09-17T16:00:00",
                    "2025-09-17T17:00:00",
                    "2025-09-17T18:00:00",
                    "2025-09-17T19:00:00",
                    "2025-09-17T20:00:00",
                    "2025-09-17T21:00:00",
                    "2025-09-17T22:00:00",
                    "2025-09-17T23:00:00",
                    "2025-09-18T00:00:00",
                    "2025-09-18T01:00:00",
                    "2025-09-18T02:00:00",
                    "2025-09-18T03:00:00",
                    "2025-09-18T04:00:00",
                    "2025-09-18T05:00:00",
                    "2025-09-18T06:00:00",
                    "2025-09-18T07:00:00",
                    "2025-09-18T08:00:00",
                    "2025-09-18T09:00:00",
                    "2025-09-18T10:00:00",
                    "2025-09-18T11:00:00",
                    "2025-09-18T12:00:00",
                    "2025-09-18T13:00:00",
                    "2025-09-18T14:00:00",
                    "2025-09-18T15:00:00",
                    "2025-09-18T16:00:00",
                    "2025-09-18T17:00:00",
                    "2025-09-18T18:00:00",
                    "2025-09-18T19:00:00",
                    "2025-09-18T20:00:00",
                    "2025-09-18T21:00:00",
                    "2025-09-18T22:00:00",
                    "2025-09-18T23:00:00",
                    "2025-09-19T00:00:00",
                    "2025-09-19T01:00:00",
                    "2025-09-19T02:00:00",
                    "2025-09-19T03:00:00",
                    "2025-09-19T04:00:00",
                    "2025-09-19T05:00:00",
                    "2025-09-19T06:00:00",
                    "2025-09-19T07:00:00",
                    "2025-09-19T08:00:00",
                    "2025-09-19T09:00:00",
                    "2025-09-19T10:00:00",
                    "2025-09-19T11:00:00",
                    "2025-09-19T12:00:00",
                    "2025-09-19T13:00:00",
                    "2025-09-19T14:00:00",
                    "2025-09-19T15:00:00",
                    "2025-09-19T16:00:00",
                    "2025-09-19T17:00:00",
                    "2025-09-19T18:00:00",
                    "2025-09-19T19:00:00",
                    "2025-09-19T20:00:00",
                    "2025-09-19T21:00:00",
                    "2025-09-19T22:00:00",
                    "2025-09-19T23:00:00",
                    "2025-09-20T00:00:00",
                    "2025-09-20T01:00:00",
                    "2025-09-20T02:00:00",
                    "2025-09-20T03:00:00",
                    "2025-09-20T04:00:00",
                    "2025-09-20T05:00:00",
                    "2025-09-20T06:00:00",
                    "2025-09-20T07:00:00",
                    "2025-09-20T08:00:00",
                    "2025-09-20T09:00:00",
                    "2025-09-20T10:00:00",
                    "2025-09-20T11:00:00",
                    "2025-09-20T12:00:00",
                    "2025-09-20T13:00:00",
                    "2025-09-20T14:00:00",
                    "2025-09-20T15:00:00",
                    "2025-09-20T16:00:00",
                    "2025-09-20T17:00:00",
                    "2025-09-20T18:00:00",
                    "2025-09-20T19:00:00",
                    "2025-09-20T20:00:00",
                    "2025-09-20T21:00:00",
                    "2025-09-20T22:00:00",
                    "2025-09-20T23:00:00",
                    "2025-09-21T00:00:00",
                    "2025-09-21T01:00:00",
                    "2025-09-21T02:00:00",
                    "2025-09-21T03:00:00",
                    "2025-09-21T04:00:00",
                    "2025-09-21T05:00:00",
                    "2025-09-21T06:00:00"
                  ],
                  "xaxis": "x",
                  "y": {
                    "bdata": "AAAAWITfcUAAAABYPO5xQAAAAKiY+nFAAAAA6FQCckAAAADIdBRyQAAAAGBnIXJAAAAAIGsnckAAAAB4TStyQAAAAMAcK3JAAAAAuCsgckAAAADIxRFyQAAAACgSAXJAAAAAADrqcUAAAABwIeBxQAAAALha1nFAAAAACPjQcUAAAADg0cpxQAAAAFDZw3FAAAAAUHWzcUAAAABwqalxQAAAAHh0pnFAAAAA+OOjcUAAAADgdp5xQAAAAECwmHFAAAAA4OeWcUAAAABAr7VxQAAAAIBl2nFAAAAA4JP7cUAAAAAgcg5yQAAAAOhiHXJAAAAAQBQuckAAAADgGzdyQAAAAEgRPXJAAAAAoOQ+ckAAAAAI6jlyQAAAAJhcKXJAAAAAmK4WckAAAACwzf9xQAAAAIDD53FAAAAAGBjZcUAAAADwx9FxQAAAABCAyXFAAAAAQLLBcUAAAABokrhxQAAAAACUr3FAAAAAgCGicUAAAAAYMpVxQAAAALiUjHFAAAAAwDWJcUAAAABAL6BxQAAAALiL2HFAAAAAaHkSckAAAAAA/zpyQAAAAGDIW3JAAAAAGNp0ckAAAABYqIZyQAAAALg2jnJAAAAAeEyOckAAAACQGoVyQAAAAFgTbXJAAAAA+NZFckAAAACQvRhyQAAAADhaBXJAAAAAsOD0cUAAAAAAWOpxQAAAAHh73XFAAAAASKLNcUAAAADI/btxQAAAAGhus3FAAAAAwCKqcUAAAAB4N55xQAAAAMjKm3FAAAAAAD+acUAAAABANrBxQAAAAHgu33FAAAAAgG8dckAAAABQLUxyQAAAADjUb3JAAAAAuOyJckAAAACg2ZlyQAAAAOgEo3JAAAAA6N2nckAAAAD4pJ9yQAAAAMCbhnJAAAAAMGJYckAAAACI5jdyQAAAAJDcInJAAAAAsFcVckAAAACgfwlyQAAAACgl/nFAAAAAUNPrcUAAAACIBeJxQAAAAOBG2nFAAAAAWKPScUAAAAAI/ctxQAAAANi7yXFAAAAAuIrHcUAAAABIW9RxQAAAAGhm9HFAAAAAeHsjckAAAACou1tyQAAAAFBZhnJAAAAAoFmfckAAAACYjLNyQAAAAACcvHJAAAAAqFe+ckAAAADoG7VyQAAAAGgsmHJAAAAAkJ1qckAAAADgm1JyQAAAAPhbPXJAAAAA8FMvckAAAAAQPyhyQAAAAPAWIHJAAAAAENcWckAAAABoRwtyQAAAAMDqAXJAAAAAaBv8cUAAAADwv/RxQAAAAMDu8XFAAAAAcGvycUA=",
                    "dtype": "f8"
                  },
                  "yaxis": "y"
                },
                {
                  "hovertemplate": "%{y:.2f}<extra>P<sub>50%</sub></extra>",
                  "marker": {
                    "color": "#ef9b20",
                    "size": 0.00001
                  },
                  "mode": "markers",
                  "type": "scatter",
                  "x": [
                    "2025-09-16T06:00:00",
                    "2025-09-16T07:00:00",
                    "2025-09-16T08:00:00",
                    "2025-09-16T09:00:00",
                    "2025-09-16T10:00:00",
                    "2025-09-16T11:00:00",
                    "2025-09-16T12:00:00",
                    "2025-09-16T13:00:00",
                    "2025-09-16T14:00:00",
                    "2025-09-16T15:00:00",
                    "2025-09-16T16:00:00",
                    "2025-09-16T17:00:00",
                    "2025-09-16T18:00:00",
                    "2025-09-16T19:00:00",
                    "2025-09-16T20:00:00",
                    "2025-09-16T21:00:00",
                    "2025-09-16T22:00:00",
                    "2025-09-16T23:00:00",
                    "2025-09-17T00:00:00",
                    "2025-09-17T01:00:00",
                    "2025-09-17T02:00:00",
                    "2025-09-17T03:00:00",
                    "2025-09-17T04:00:00",
                    "2025-09-17T05:00:00",
                    "2025-09-17T06:00:00",
                    "2025-09-17T07:00:00",
                    "2025-09-17T08:00:00",
                    "2025-09-17T09:00:00",
                    "2025-09-17T10:00:00",
                    "2025-09-17T11:00:00",
                    "2025-09-17T12:00:00",
                    "2025-09-17T13:00:00",
                    "2025-09-17T14:00:00",
                    "2025-09-17T15:00:00",
                    "2025-09-17T16:00:00",
                    "2025-09-17T17:00:00",
                    "2025-09-17T18:00:00",
                    "2025-09-17T19:00:00",
                    "2025-09-17T20:00:00",
                    "2025-09-17T21:00:00",
                    "2025-09-17T22:00:00",
                    "2025-09-17T23:00:00",
                    "2025-09-18T00:00:00",
                    "2025-09-18T01:00:00",
                    "2025-09-18T02:00:00",
                    "2025-09-18T03:00:00",
                    "2025-09-18T04:00:00",
                    "2025-09-18T05:00:00",
                    "2025-09-18T06:00:00",
                    "2025-09-18T07:00:00",
                    "2025-09-18T08:00:00",
                    "2025-09-18T09:00:00",
                    "2025-09-18T10:00:00",
                    "2025-09-18T11:00:00",
                    "2025-09-18T12:00:00",
                    "2025-09-18T13:00:00",
                    "2025-09-18T14:00:00",
                    "2025-09-18T15:00:00",
                    "2025-09-18T16:00:00",
                    "2025-09-18T17:00:00",
                    "2025-09-18T18:00:00",
                    "2025-09-18T19:00:00",
                    "2025-09-18T20:00:00",
                    "2025-09-18T21:00:00",
                    "2025-09-18T22:00:00",
                    "2025-09-18T23:00:00",
                    "2025-09-19T00:00:00",
                    "2025-09-19T01:00:00",
                    "2025-09-19T02:00:00",
                    "2025-09-19T03:00:00",
                    "2025-09-19T04:00:00",
                    "2025-09-19T05:00:00",
                    "2025-09-19T06:00:00",
                    "2025-09-19T07:00:00",
                    "2025-09-19T08:00:00",
                    "2025-09-19T09:00:00",
                    "2025-09-19T10:00:00",
                    "2025-09-19T11:00:00",
                    "2025-09-19T12:00:00",
                    "2025-09-19T13:00:00",
                    "2025-09-19T14:00:00",
                    "2025-09-19T15:00:00",
                    "2025-09-19T16:00:00",
                    "2025-09-19T17:00:00",
                    "2025-09-19T18:00:00",
                    "2025-09-19T19:00:00",
                    "2025-09-19T20:00:00",
                    "2025-09-19T21:00:00",
                    "2025-09-19T22:00:00",
                    "2025-09-19T23:00:00",
                    "2025-09-20T00:00:00",
                    "2025-09-20T01:00:00",
                    "2025-09-20T02:00:00",
                    "2025-09-20T03:00:00",
                    "2025-09-20T04:00:00",
                    "2025-09-20T05:00:00",
                    "2025-09-20T06:00:00",
                    "2025-09-20T07:00:00",
                    "2025-09-20T08:00:00",
                    "2025-09-20T09:00:00",
                    "2025-09-20T10:00:00",
                    "2025-09-20T11:00:00",
                    "2025-09-20T12:00:00",
                    "2025-09-20T13:00:00",
                    "2025-09-20T14:00:00",
                    "2025-09-20T15:00:00",
                    "2025-09-20T16:00:00",
                    "2025-09-20T17:00:00",
                    "2025-09-20T18:00:00",
                    "2025-09-20T19:00:00",
                    "2025-09-20T20:00:00",
                    "2025-09-20T21:00:00",
                    "2025-09-20T22:00:00",
                    "2025-09-20T23:00:00",
                    "2025-09-21T00:00:00",
                    "2025-09-21T01:00:00",
                    "2025-09-21T02:00:00",
                    "2025-09-21T03:00:00",
                    "2025-09-21T04:00:00",
                    "2025-09-21T05:00:00",
                    "2025-09-21T06:00:00"
                  ],
                  "xaxis": "x",
                  "y": {
                    "bdata": "AAAAUMzicUAAAACgrPBxQAAAABBp/XFAAAAAUGIFckAAAABwWhZyQAAAAJCPI3JAAAAAcBYqckAAAAAAgC1yQAAAAPAxLnJAAAAA0AUickAAAAAg+RNyQAAAACAiA3JAAAAAoAbtcUAAAAAwCeJxQAAAANDB2XFAAAAAIPTVcUAAAADw8c5xQAAAAHBsyHFAAAAAwBi+cUAAAADgN7BxQAAAAABBqnFAAAAAUAqncUAAAABgTKJxQAAAAHBin3FAAAAA0GKgcUAAAACA5LlxQAAAAFDP33FAAAAA8Cn+cUAAAABgtRNyQAAAAPC6JnJAAAAAwPwzckAAAABALTxyQAAAAOCLQHJAAAAA0HxCckAAAADQyT5yQAAAACCoMHJAAAAAIIQbckAAAADQQgdyQAAAAGBj8XFAAAAAIKzfcUAAAAAgZtZxQAAAAID5zXFAAAAAgH3HcUAAAACwdL9xQAAAAIDRs3FAAAAA0DmscUAAAADgfaBxQAAAAMAwmHFAAAAAcNqTcUAAAADQt6dxQAAAAADN3HFAAAAA8LwWckAAAACgAEFyQAAAAFBFYHJAAAAAEIV6ckAAAAAgmopyQAAAANA7knJAAAAAIISRckAAAAAg1IhyQAAAANA8b3JAAAAAgPhIckAAAADA/BxyQAAAALAxEHJAAAAA4Ef8cUAAAABA1u1xQAAAABAi4XFAAAAAoCjTcUAAAADgxsJxQAAAAOACuXFAAAAAcDOwcUAAAAAgKqxxQAAAANDBpXFAAAAAYMWfcUAAAADQfLpxQAAAAPAF6HFAAAAA4GMickAAAADwdFFyQAAAAADKc3JAAAAA0GCLckAAAABAh5xyQAAAAMAMqXJAAAAAUL2sckAAAADQmadyQAAAANBNjHJAAAAAwOxcckAAAADQ7j1yQAAAAPCaKHJAAAAAQJ0ZckAAAACQvg5yQAAAAKB1AnJAAAAAgHL1cUAAAACAG/JxQAAAAOBh6HFAAAAAMLXacUAAAABgkNJxQAAAALDn1XFAAAAAENfXcUAAAABAAuJxQAAAAMDI/HFAAAAAAMkuckAAAABgYmZyQAAAAKAUjXJAAAAAUFmnckAAAAAwOrlyQAAAAFBGwnJAAAAAsC7CckAAAAAAZrhyQAAAACB0nHJAAAAAYOZyckAAAACAtVpyQAAAABDBRXJAAAAAMCw5ckAAAACQdS9yQAAAANCtJ3JAAAAAAO8bckAAAAAAJRZyQAAAAICoDnJAAAAAwE8PckAAAAAg4gdyQAAAAOB9A3JAAAAAkO//cUA=",
                    "dtype": "f8"
                  },
                  "yaxis": "y"
                },
                {
                  "hovertemplate": "%{y:.2f}<extra>P<sub>75%</sub></extra>",
                  "marker": {
                    "color": "#ef9b20",
                    "size": 0.00001
                  },
                  "mode": "markers",
                  "type": "scatter",
                  "x": [
                    "2025-09-16T06:00:00",
                    "2025-09-16T07:00:00",
                    "2025-09-16T08:00:00",
                    "2025-09-16T09:00:00",
                    "2025-09-16T10:00:00",
                    "2025-09-16T11:00:00",
                    "2025-09-16T12:00:00",
                    "2025-09-16T13:00:00",
                    "2025-09-16T14:00:00",
                    "2025-09-16T15:00:00",
                    "2025-09-16T16:00:00",
                    "2025-09-16T17:00:00",
                    "2025-09-16T18:00:00",
                    "2025-09-16T19:00:00",
                    "2025-09-16T20:00:00",
                    "2025-09-16T21:00:00",
                    "2025-09-16T22:00:00",
                    "2025-09-16T23:00:00",
                    "2025-09-17T00:00:00",
                    "2025-09-17T01:00:00",
                    "2025-09-17T02:00:00",
                    "2025-09-17T03:00:00",
                    "2025-09-17T04:00:00",
                    "2025-09-17T05:00:00",
                    "2025-09-17T06:00:00",
                    "2025-09-17T07:00:00",
                    "2025-09-17T08:00:00",
                    "2025-09-17T09:00:00",
                    "2025-09-17T10:00:00",
                    "2025-09-17T11:00:00",
                    "2025-09-17T12:00:00",
                    "2025-09-17T13:00:00",
                    "2025-09-17T14:00:00",
                    "2025-09-17T15:00:00",
                    "2025-09-17T16:00:00",
                    "2025-09-17T17:00:00",
                    "2025-09-17T18:00:00",
                    "2025-09-17T19:00:00",
                    "2025-09-17T20:00:00",
                    "2025-09-17T21:00:00",
                    "2025-09-17T22:00:00",
                    "2025-09-17T23:00:00",
                    "2025-09-18T00:00:00",
                    "2025-09-18T01:00:00",
                    "2025-09-18T02:00:00",
                    "2025-09-18T03:00:00",
                    "2025-09-18T04:00:00",
                    "2025-09-18T05:00:00",
                    "2025-09-18T06:00:00",
                    "2025-09-18T07:00:00",
                    "2025-09-18T08:00:00",
                    "2025-09-18T09:00:00",
                    "2025-09-18T10:00:00",
                    "2025-09-18T11:00:00",
                    "2025-09-18T12:00:00",
                    "2025-09-18T13:00:00",
                    "2025-09-18T14:00:00",
                    "2025-09-18T15:00:00",
                    "2025-09-18T16:00:00",
                    "2025-09-18T17:00:00",
                    "2025-09-18T18:00:00",
                    "2025-09-18T19:00:00",
                    "2025-09-18T20:00:00",
                    "2025-09-18T21:00:00",
                    "2025-09-18T22:00:00",
                    "2025-09-18T23:00:00",
                    "2025-09-19T00:00:00",
                    "2025-09-19T01:00:00",
                    "2025-09-19T02:00:00",
                    "2025-09-19T03:00:00",
                    "2025-09-19T04:00:00",
                    "2025-09-19T05:00:00",
                    "2025-09-19T06:00:00",
                    "2025-09-19T07:00:00",
                    "2025-09-19T08:00:00",
                    "2025-09-19T09:00:00",
                    "2025-09-19T10:00:00",
                    "2025-09-19T11:00:00",
                    "2025-09-19T12:00:00",
                    "2025-09-19T13:00:00",
                    "2025-09-19T14:00:00",
                    "2025-09-19T15:00:00",
                    "2025-09-19T16:00:00",
                    "2025-09-19T17:00:00",
                    "2025-09-19T18:00:00",
                    "2025-09-19T19:00:00",
                    "2025-09-19T20:00:00",
                    "2025-09-19T21:00:00",
                    "2025-09-19T22:00:00",
                    "2025-09-19T23:00:00",
                    "2025-09-20T00:00:00",
                    "2025-09-20T01:00:00",
                    "2025-09-20T02:00:00",
                    "2025-09-20T03:00:00",
                    "2025-09-20T04:00:00",
                    "2025-09-20T05:00:00",
                    "2025-09-20T06:00:00",
                    "2025-09-20T07:00:00",
                    "2025-09-20T08:00:00",
                    "2025-09-20T09:00:00",
                    "2025-09-20T10:00:00",
                    "2025-09-20T11:00:00",
                    "2025-09-20T12:00:00",
                    "2025-09-20T13:00:00",
                    "2025-09-20T14:00:00",
                    "2025-09-20T15:00:00",
                    "2025-09-20T16:00:00",
                    "2025-09-20T17:00:00",
                    "2025-09-20T18:00:00",
                    "2025-09-20T19:00:00",
                    "2025-09-20T20:00:00",
                    "2025-09-20T21:00:00",
                    "2025-09-20T22:00:00",
                    "2025-09-20T23:00:00",
                    "2025-09-21T00:00:00",
                    "2025-09-21T01:00:00",
                    "2025-09-21T02:00:00",
                    "2025-09-21T03:00:00",
                    "2025-09-21T04:00:00",
                    "2025-09-21T05:00:00",
                    "2025-09-21T06:00:00"
                  ],
                  "xaxis": "x",
                  "y": {
                    "bdata": "AAAA4HfncUAAAACIVvJxQAAAAPC7/nFAAAAASKsIckAAAADAHBlyQAAAACjpJXJAAAAA4LQsckAAAADo7zFyQAAAAKDQMXJAAAAAcBAjckAAAACQDBdyQAAAAODgBnJAAAAA8DzvcUAAAADYb+NxQAAAANjO23FAAAAAIIfacUAAAAAw3NNxQAAAAGCzy3FAAAAAEPDCcUAAAAAQl7hxQAAAAIA1r3FAAAAAwBSucUAAAAAosapxQAAAAPgtqnFAAAAAGIiscUAAAABI68FxQAAAAJBZ4nFAAAAA+N8GckAAAAAQ5RtyQAAAAIiPLHJAAAAAEGQ4ckAAAAAYTkByQAAAANivRXJAAAAA8N1GckAAAAD4DURyQAAAAPgONXJAAAAAkPYfckAAAABQMQtyQAAAABh79nFAAAAAyLPjcUAAAAAwxtxxQAAAALg21HFAAAAAYK3McUAAAAAQo8RxQAAAAMgpuHFAAAAAIJyvcUAAAACIPqdxQAAAAGBxnnFAAAAAIIWacUAAAAAQNaxxQAAAACAJ4XFAAAAAeIMackAAAABY9UNyQAAAADCJZXJAAAAAoGN/ckAAAAAwMo9yQAAAAOjrlnJAAAAA0M2VckAAAACAXotyQAAAAFhMdXJAAAAAuFBOckAAAACI2ChyQAAAADBFFXJAAAAAWBcEckAAAAA4cPBxQAAAACAt5HFAAAAA0JDVcUAAAAA4XMpxQAAAAKhrwHFAAAAAUDi2cUAAAADoR7JxQAAAALBhrXFAAAAA4A+qcUAAAAB4O8FxQAAAAJB973FAAAAAIK8mckAAAACAo1VyQAAAAPh5dnJAAAAAAB+RckAAAAAoDqVyQAAAAEAkr3JAAAAAOMazckAAAABof69yQAAAALhKlHJAAAAAMA5ickAAAABgnkByQAAAAOiILnJAAAAAQEMfckAAAACoLBRyQAAAACDGB3JAAAAAaCz/cUAAAADg8vtxQAAAABAi8XFAAAAAuG/qcUAAAAA4OORxQAAAAOBa33FAAAAAQLnhcUAAAADIAuxxQAAAAKgEAXJAAAAA4L0zckAAAACgWm1yQAAAAGj/k3JAAAAASCWsckAAAABoOLtyQAAAACj/xHJAAAAAWHHHckAAAADwL71yQAAAAJimpXJAAAAA+PR6ckAAAADwBWFyQAAAAOjkTHJAAAAA2Ig/ckAAAAAoHDZyQAAAAOCpLnJAAAAAEM4ockAAAADgfSFyQAAAAEg/GnJAAAAA2OMcckAAAADQzRxyQAAAAHgSEXJAAAAAuFcNckA=",
                    "dtype": "f8"
                  },
                  "yaxis": "y"
                },
                {
                  "hovertemplate": "%{y:.2f}<extra>P<sub>90%</sub></extra>",
                  "marker": {
                    "color": "#ef9b20",
                    "size": 0.00001
                  },
                  "mode": "markers",
                  "type": "scatter",
                  "x": [
                    "2025-09-16T06:00:00",
                    "2025-09-16T07:00:00",
                    "2025-09-16T08:00:00",
                    "2025-09-16T09:00:00",
                    "2025-09-16T10:00:00",
                    "2025-09-16T11:00:00",
                    "2025-09-16T12:00:00",
                    "2025-09-16T13:00:00",
                    "2025-09-16T14:00:00",
                    "2025-09-16T15:00:00",
                    "2025-09-16T16:00:00",
                    "2025-09-16T17:00:00",
                    "2025-09-16T18:00:00",
                    "2025-09-16T19:00:00",
                    "2025-09-16T20:00:00",
                    "2025-09-16T21:00:00",
                    "2025-09-16T22:00:00",
                    "2025-09-16T23:00:00",
                    "2025-09-17T00:00:00",
                    "2025-09-17T01:00:00",
                    "2025-09-17T02:00:00",
                    "2025-09-17T03:00:00",
                    "2025-09-17T04:00:00",
                    "2025-09-17T05:00:00",
                    "2025-09-17T06:00:00",
                    "2025-09-17T07:00:00",
                    "2025-09-17T08:00:00",
                    "2025-09-17T09:00:00",
                    "2025-09-17T10:00:00",
                    "2025-09-17T11:00:00",
                    "2025-09-17T12:00:00",
                    "2025-09-17T13:00:00",
                    "2025-09-17T14:00:00",
                    "2025-09-17T15:00:00",
                    "2025-09-17T16:00:00",
                    "2025-09-17T17:00:00",
                    "2025-09-17T18:00:00",
                    "2025-09-17T19:00:00",
                    "2025-09-17T20:00:00",
                    "2025-09-17T21:00:00",
                    "2025-09-17T22:00:00",
                    "2025-09-17T23:00:00",
                    "2025-09-18T00:00:00",
                    "2025-09-18T01:00:00",
                    "2025-09-18T02:00:00",
                    "2025-09-18T03:00:00",
                    "2025-09-18T04:00:00",
                    "2025-09-18T05:00:00",
                    "2025-09-18T06:00:00",
                    "2025-09-18T07:00:00",
                    "2025-09-18T08:00:00",
                    "2025-09-18T09:00:00",
                    "2025-09-18T10:00:00",
                    "2025-09-18T11:00:00",
                    "2025-09-18T12:00:00",
                    "2025-09-18T13:00:00",
                    "2025-09-18T14:00:00",
                    "2025-09-18T15:00:00",
                    "2025-09-18T16:00:00",
                    "2025-09-18T17:00:00",
                    "2025-09-18T18:00:00",
                    "2025-09-18T19:00:00",
                    "2025-09-18T20:00:00",
                    "2025-09-18T21:00:00",
                    "2025-09-18T22:00:00",
                    "2025-09-18T23:00:00",
                    "2025-09-19T00:00:00",
                    "2025-09-19T01:00:00",
                    "2025-09-19T02:00:00",
                    "2025-09-19T03:00:00",
                    "2025-09-19T04:00:00",
                    "2025-09-19T05:00:00",
                    "2025-09-19T06:00:00",
                    "2025-09-19T07:00:00",
                    "2025-09-19T08:00:00",
                    "2025-09-19T09:00:00",
                    "2025-09-19T10:00:00",
                    "2025-09-19T11:00:00",
                    "2025-09-19T12:00:00",
                    "2025-09-19T13:00:00",
                    "2025-09-19T14:00:00",
                    "2025-09-19T15:00:00",
                    "2025-09-19T16:00:00",
                    "2025-09-19T17:00:00",
                    "2025-09-19T18:00:00",
                    "2025-09-19T19:00:00",
                    "2025-09-19T20:00:00",
                    "2025-09-19T21:00:00",
                    "2025-09-19T22:00:00",
                    "2025-09-19T23:00:00",
                    "2025-09-20T00:00:00",
                    "2025-09-20T01:00:00",
                    "2025-09-20T02:00:00",
                    "2025-09-20T03:00:00",
                    "2025-09-20T04:00:00",
                    "2025-09-20T05:00:00",
                    "2025-09-20T06:00:00",
                    "2025-09-20T07:00:00",
                    "2025-09-20T08:00:00",
                    "2025-09-20T09:00:00",
                    "2025-09-20T10:00:00",
                    "2025-09-20T11:00:00",
                    "2025-09-20T12:00:00",
                    "2025-09-20T13:00:00",
                    "2025-09-20T14:00:00",
                    "2025-09-20T15:00:00",
                    "2025-09-20T16:00:00",
                    "2025-09-20T17:00:00",
                    "2025-09-20T18:00:00",
                    "2025-09-20T19:00:00",
                    "2025-09-20T20:00:00",
                    "2025-09-20T21:00:00",
                    "2025-09-20T22:00:00",
                    "2025-09-20T23:00:00",
                    "2025-09-21T00:00:00",
                    "2025-09-21T01:00:00",
                    "2025-09-21T02:00:00",
                    "2025-09-21T03:00:00",
                    "2025-09-21T04:00:00",
                    "2025-09-21T05:00:00",
                    "2025-09-21T06:00:00"
                  ],
                  "xaxis": "x",
                  "y": {
                    "bdata": "zczMbPXpcUAzMzNzJPNxQJqZmSnwAXJAZmZmdrwJckBmZmZGORtyQM3MzGxwKHJAzczM/IQwckAAAAAgbzVyQM3MzDzeM3JAZmZmlnUlckDNzMxs7hhyQDMzM9PfB3JAAAAA4CPxcUBmZmY2fOZxQAAAAIAN4HFAAAAAkK7ccUBmZmbGG9hxQGZmZpYl0nFAmpmZaVHIcUDNzMzMjL5xQDMzM4Pfu3FAzczMHNi0cUAAAAAASrVxQDMzM4MYt3FAZmZmhu60cUAzMzPj+8ZxQJqZmQkk53FAzczMzIUIckCamZlpbx9yQAAAAKDGMHJAmpmZOTc+ckDNzMxsxEVyQM3MzCx5SXJAAAAAkDhJckAzMzPD1EdyQAAAAJB7OnJAmpmZeSwkckAzMzMjIg5yQGZmZrZg+nFAMzMz4/XocUCamZnZ9N5xQDMzMwPF13FAAAAAcLTQcUCamZn5WslxQJqZmSklvHFAMzMzE0+zcUDNzMyc2qtxQAAAAGBZpHFAMzMzQ6GhcUDNzMy8oLZxQM3MzDyy7HFAZmZmdj4eckBmZmZG4EZyQM3MzAzeanJAmpmZ2WKDckAAAADQvJFyQJqZmRmfl3JAAAAAUN6ZckAAAACgUpByQJqZmfk2eHJAmpmZGWxYckAzMzOj5y5yQM3MzIwnHXJAAAAAEIEGckDNzMz8vvZxQAAAABAN7HFAzczM/D/YcUCamZkp/sxxQJqZmemWwnFAZmZmZuO5cUCamZk5cLVxQJqZmXk9tXFAmpmZqdS2cUDNzMxcD8ZxQGZmZsYw9XFAZmZm5qoqckAAAABQQllyQGZmZtbifXJAzczMfJKWckDNzMysDKtyQJqZmSmouHJAzczMbDm+ckDNzMz8qLJyQM3MzAz7mnJAmpmZSeJtckDNzMwMs0RyQM3MzCz0MXJAzczMLPQhckBmZmbWERhyQJqZmXnhCnJAmpmZidMCckDNzMwsfP5xQDMzM8MS+HFAmpmZKbzucUAAAABQGulxQM3MzCzj53FAAAAAADLqcUAAAAAg4fJxQAAAAPDxBHJAZmZmFp09ckCamZnZ5XJyQAAAAODYmHJAZmZmdlGvckCamZm5hL1yQAAAAMBnxnJAmpmZyZHJckCamZmpLsByQDMzM8PzpnJAzczMTAeDckAAAACAM2NyQM3MzLx/UXJAzczMHF5DckCamZmZ6jdyQGZmZjY2NHJAAAAAwFouckDNzMzMRixyQJqZmQkCJXJAmpmZ+ewnckCamZnpnSlyQDMzM3PiJ3JAmpmZORUickA=",
                    "dtype": "f8"
                  },
                  "yaxis": "y"
                },
                {
                  "hovertemplate": "%{y:.2f}<extra>P<sub>100%</sub></extra>",
                  "marker": {
                    "color": "#ef9b20",
                    "size": 0.00001
                  },
                  "mode": "markers",
                  "type": "scatter",
                  "x": [
                    "2025-09-16T06:00:00",
                    "2025-09-16T07:00:00",
                    "2025-09-16T08:00:00",
                    "2025-09-16T09:00:00",
                    "2025-09-16T10:00:00",
                    "2025-09-16T11:00:00",
                    "2025-09-16T12:00:00",
                    "2025-09-16T13:00:00",
                    "2025-09-16T14:00:00",
                    "2025-09-16T15:00:00",
                    "2025-09-16T16:00:00",
                    "2025-09-16T17:00:00",
                    "2025-09-16T18:00:00",
                    "2025-09-16T19:00:00",
                    "2025-09-16T20:00:00",
                    "2025-09-16T21:00:00",
                    "2025-09-16T22:00:00",
                    "2025-09-16T23:00:00",
                    "2025-09-17T00:00:00",
                    "2025-09-17T01:00:00",
                    "2025-09-17T02:00:00",
                    "2025-09-17T03:00:00",
                    "2025-09-17T04:00:00",
                    "2025-09-17T05:00:00",
                    "2025-09-17T06:00:00",
                    "2025-09-17T07:00:00",
                    "2025-09-17T08:00:00",
                    "2025-09-17T09:00:00",
                    "2025-09-17T10:00:00",
                    "2025-09-17T11:00:00",
                    "2025-09-17T12:00:00",
                    "2025-09-17T13:00:00",
                    "2025-09-17T14:00:00",
                    "2025-09-17T15:00:00",
                    "2025-09-17T16:00:00",
                    "2025-09-17T17:00:00",
                    "2025-09-17T18:00:00",
                    "2025-09-17T19:00:00",
                    "2025-09-17T20:00:00",
                    "2025-09-17T21:00:00",
                    "2025-09-17T22:00:00",
                    "2025-09-17T23:00:00",
                    "2025-09-18T00:00:00",
                    "2025-09-18T01:00:00",
                    "2025-09-18T02:00:00",
                    "2025-09-18T03:00:00",
                    "2025-09-18T04:00:00",
                    "2025-09-18T05:00:00",
                    "2025-09-18T06:00:00",
                    "2025-09-18T07:00:00",
                    "2025-09-18T08:00:00",
                    "2025-09-18T09:00:00",
                    "2025-09-18T10:00:00",
                    "2025-09-18T11:00:00",
                    "2025-09-18T12:00:00",
                    "2025-09-18T13:00:00",
                    "2025-09-18T14:00:00",
                    "2025-09-18T15:00:00",
                    "2025-09-18T16:00:00",
                    "2025-09-18T17:00:00",
                    "2025-09-18T18:00:00",
                    "2025-09-18T19:00:00",
                    "2025-09-18T20:00:00",
                    "2025-09-18T21:00:00",
                    "2025-09-18T22:00:00",
                    "2025-09-18T23:00:00",
                    "2025-09-19T00:00:00",
                    "2025-09-19T01:00:00",
                    "2025-09-19T02:00:00",
                    "2025-09-19T03:00:00",
                    "2025-09-19T04:00:00",
                    "2025-09-19T05:00:00",
                    "2025-09-19T06:00:00",
                    "2025-09-19T07:00:00",
                    "2025-09-19T08:00:00",
                    "2025-09-19T09:00:00",
                    "2025-09-19T10:00:00",
                    "2025-09-19T11:00:00",
                    "2025-09-19T12:00:00",
                    "2025-09-19T13:00:00",
                    "2025-09-19T14:00:00",
                    "2025-09-19T15:00:00",
                    "2025-09-19T16:00:00",
                    "2025-09-19T17:00:00",
                    "2025-09-19T18:00:00",
                    "2025-09-19T19:00:00",
                    "2025-09-19T20:00:00",
                    "2025-09-19T21:00:00",
                    "2025-09-19T22:00:00",
                    "2025-09-19T23:00:00",
                    "2025-09-20T00:00:00",
                    "2025-09-20T01:00:00",
                    "2025-09-20T02:00:00",
                    "2025-09-20T03:00:00",
                    "2025-09-20T04:00:00",
                    "2025-09-20T05:00:00",
                    "2025-09-20T06:00:00",
                    "2025-09-20T07:00:00",
                    "2025-09-20T08:00:00",
                    "2025-09-20T09:00:00",
                    "2025-09-20T10:00:00",
                    "2025-09-20T11:00:00",
                    "2025-09-20T12:00:00",
                    "2025-09-20T13:00:00",
                    "2025-09-20T14:00:00",
                    "2025-09-20T15:00:00",
                    "2025-09-20T16:00:00",
                    "2025-09-20T17:00:00",
                    "2025-09-20T18:00:00",
                    "2025-09-20T19:00:00",
                    "2025-09-20T20:00:00",
                    "2025-09-20T21:00:00",
                    "2025-09-20T22:00:00",
                    "2025-09-20T23:00:00",
                    "2025-09-21T00:00:00",
                    "2025-09-21T01:00:00",
                    "2025-09-21T02:00:00",
                    "2025-09-21T03:00:00",
                    "2025-09-21T04:00:00",
                    "2025-09-21T05:00:00",
                    "2025-09-21T06:00:00"
                  ],
                  "xaxis": "x",
                  "y": {
                    "bdata": "AAAA4JHxcUAAAABAMflxQAAAAADiAnJAAAAAwNENckAAAAAAex5yQAAAAIBHLnJAAAAA4BgxckAAAABAwzVyQAAAACA2OHJAAAAAQDsockAAAACgUxpyQAAAAOCKCnJAAAAAINXzcUAAAAAgGOpxQAAAAACi43FAAAAA4APfcUAAAAAABdtxQAAAAEA22XFAAAAA4CHNcUAAAAAgIcNxQAAAAMB8vnFAAAAAgJLAcUAAAACAqrpxQAAAACDFuHFAAAAAwHO4cUAAAAAAHs9xQAAAAMBj6nFAAAAAAJMKckAAAADAkiJyQAAAACCBNXJAAAAAYIFBckAAAAAAXElyQAAAAIBtTnJAAAAAwB1NckAAAABAs0hyQAAAAKDtQ3JAAAAAAFUyckAAAAAgPBdyQAAAACCj/HFAAAAAYNrqcUAAAABAv+JxQAAAACAw3HFAAAAAQNvScUAAAABgy8txQAAAAECfwHFAAAAAwKG1cUAAAADgxK9xQAAAAIBFqnFAAAAAYHemcUAAAABgILxxQAAAAEAy73FAAAAAgI4hckAAAADgU0pyQAAAAGA4bnJAAAAAgOKGckAAAAAgXJVyQAAAAIBEnnJAAAAAIOieckAAAACAt5JyQAAAAIARfXJAAAAAYABfckAAAADAzzhyQAAAAMCrJ3JAAAAAAEASckAAAACgRgtyQAAAAADa/nFAAAAAwHDkcUAAAACgZNlxQAAAAGDZyXFAAAAAwMbGcUAAAACA8cRxQAAAAACDw3FAAAAAYHLDcUAAAADgS8txQAAAAKCv+nFAAAAAwK0tckAAAADguFpyQAAAAEB7f3JAAAAAIGKkckAAAABA5LhyQAAAAAAyxHJAAAAA4FbGckAAAADgarxyQAAAAICdoHJAAAAAoAJ8ckAAAAAAN0xyQAAAAED1NHJAAAAAoCkqckAAAABAhCByQAAAAMB1D3JAAAAAgIgIckAAAADA+QFyQAAAAIC2+XFAAAAAgBHwcUAAAACAhutxQAAAAIBQ7XFAAAAAQNHvcUAAAADgSPNxQAAAAAC/C3JAAAAAYHRBckAAAACgnHdyQAAAAADFmXJAAAAAQOeyckAAAADApcByQAAAAOAzyXJAAAAAYJDKckAAAABghMJyQAAAAEAIq3JAAAAAIEOPckAAAACA5GNyQAAAAECpXHJAAAAA4KZFckAAAADAbD9yQAAAAIC7N3JAAAAAoNc3ckAAAACgKjNyQAAAAIC+L3JAAAAAQJIuckAAAAAgBDNyQAAAACB/MXJAAAAA4EcxckA=",
                    "dtype": "f8"
                  },
                  "yaxis": "y"
                },
                {
                  "line": {
                    "color": "grey"
                  },
                  "name": "mean",
                  "type": "scatter",
                  "x": [
                    "2025-09-16T06:00:00",
                    "2025-09-16T07:00:00",
                    "2025-09-16T08:00:00",
                    "2025-09-16T09:00:00",
                    "2025-09-16T10:00:00",
                    "2025-09-16T11:00:00",
                    "2025-09-16T12:00:00",
                    "2025-09-16T13:00:00",
                    "2025-09-16T14:00:00",
                    "2025-09-16T15:00:00",
                    "2025-09-16T16:00:00",
                    "2025-09-16T17:00:00",
                    "2025-09-16T18:00:00",
                    "2025-09-16T19:00:00",
                    "2025-09-16T20:00:00",
                    "2025-09-16T21:00:00",
                    "2025-09-16T22:00:00",
                    "2025-09-16T23:00:00",
                    "2025-09-17T00:00:00",
                    "2025-09-17T01:00:00",
                    "2025-09-17T02:00:00",
                    "2025-09-17T03:00:00",
                    "2025-09-17T04:00:00",
                    "2025-09-17T05:00:00",
                    "2025-09-17T06:00:00",
                    "2025-09-17T07:00:00",
                    "2025-09-17T08:00:00",
                    "2025-09-17T09:00:00",
                    "2025-09-17T10:00:00",
                    "2025-09-17T11:00:00",
                    "2025-09-17T12:00:00",
                    "2025-09-17T13:00:00",
                    "2025-09-17T14:00:00",
                    "2025-09-17T15:00:00",
                    "2025-09-17T16:00:00",
                    "2025-09-17T17:00:00",
                    "2025-09-17T18:00:00",
                    "2025-09-17T19:00:00",
                    "2025-09-17T20:00:00",
                    "2025-09-17T21:00:00",
                    "2025-09-17T22:00:00",
                    "2025-09-17T23:00:00",
                    "2025-09-18T00:00:00",
                    "2025-09-18T01:00:00",
                    "2025-09-18T02:00:00",
                    "2025-09-18T03:00:00",
                    "2025-09-18T04:00:00",
                    "2025-09-18T05:00:00",
                    "2025-09-18T06:00:00",
                    "2025-09-18T07:00:00",
                    "2025-09-18T08:00:00",
                    "2025-09-18T09:00:00",
                    "2025-09-18T10:00:00",
                    "2025-09-18T11:00:00",
                    "2025-09-18T12:00:00",
                    "2025-09-18T13:00:00",
                    "2025-09-18T14:00:00",
                    "2025-09-18T15:00:00",
                    "2025-09-18T16:00:00",
                    "2025-09-18T17:00:00",
                    "2025-09-18T18:00:00",
                    "2025-09-18T19:00:00",
                    "2025-09-18T20:00:00",
                    "2025-09-18T21:00:00",
                    "2025-09-18T22:00:00",
                    "2025-09-18T23:00:00",
                    "2025-09-19T00:00:00",
                    "2025-09-19T01:00:00",
                    "2025-09-19T02:00:00",
                    "2025-09-19T03:00:00",
                    "2025-09-19T04:00:00",
                    "2025-09-19T05:00:00",
                    "2025-09-19T06:00:00",
                    "2025-09-19T07:00:00",
                    "2025-09-19T08:00:00",
                    "2025-09-19T09:00:00",
                    "2025-09-19T10:00:00",
                    "2025-09-19T11:00:00",
                    "2025-09-19T12:00:00",
                    "2025-09-19T13:00:00",
                    "2025-09-19T14:00:00",
                    "2025-09-19T15:00:00",
                    "2025-09-19T16:00:00",
                    "2025-09-19T17:00:00",
                    "2025-09-19T18:00:00",
                    "2025-09-19T19:00:00",
                    "2025-09-19T20:00:00",
                    "2025-09-19T21:00:00",
                    "2025-09-19T22:00:00",
                    "2025-09-19T23:00:00",
                    "2025-09-20T00:00:00",
                    "2025-09-20T01:00:00",
                    "2025-09-20T02:00:00",
                    "2025-09-20T03:00:00",
                    "2025-09-20T04:00:00",
                    "2025-09-20T05:00:00",
                    "2025-09-20T06:00:00",
                    "2025-09-20T07:00:00",
                    "2025-09-20T08:00:00",
                    "2025-09-20T09:00:00",
                    "2025-09-20T10:00:00",
                    "2025-09-20T11:00:00",
                    "2025-09-20T12:00:00",
                    "2025-09-20T13:00:00",
                    "2025-09-20T14:00:00",
                    "2025-09-20T15:00:00",
                    "2025-09-20T16:00:00",
                    "2025-09-20T17:00:00",
                    "2025-09-20T18:00:00",
                    "2025-09-20T19:00:00",
                    "2025-09-20T20:00:00",
                    "2025-09-20T21:00:00",
                    "2025-09-20T22:00:00",
                    "2025-09-20T23:00:00",
                    "2025-09-21T00:00:00",
                    "2025-09-21T01:00:00",
                    "2025-09-21T02:00:00",
                    "2025-09-21T03:00:00",
                    "2025-09-21T04:00:00",
                    "2025-09-21T05:00:00",
                    "2025-09-21T06:00:00"
                  ],
                  "y": {
                    "bdata": "ZmZmdrPjcUAzMzOjV/BxQM3MzNTO/HFAmpmZuS8FckAzMzOzGxZyQGZmZl7HI3JAMzMzOwIqckCamZm5ny5yQAAAAGDgLXJAZmZmzokhckAzMzNDRRRyQAAAAPCtA3JAAAAAWMLscUBmZmbW9eFxQJqZmbGg2XFAzczMbD3VcUDNzMzUxc5xQM3MzHxyx3FAmpmZQdC6cUDNzMzs7a9xQJqZmaFerHFAmpmZMaGpcUBmZmaWQKVxQAAAABheoXFAMzMzkwyicUBmZmb2FbxxQJqZmXn+3nFAMzMz+xn+cUDNzMxs1BJyQGZmZjZwI3JAzczMhIwxckAzMzNzfjpyQAAAAIBWQHJAmpmZiexBckAAAADocD5yQM3MzLSxMHJAzczMrPEbckAAAACYKQZyQJqZmfFV73FAmpmZqVrecUBmZmYuJtZxQM3MzOSIznFAMzMzA4nGcUBmZmaWJb9xQGZmZrbEs3FAmpmZSV2pcUDNzMzkMJ5xQGZmZg6TlXFAmpmZcd2ScUDNzMxUs6ZxQDMzMyPR23FAZmZmnnMVckAAAABYhT9yQGZmZt7ZYHJAAAAASLp5ckAzMzNDkYpyQGZmZgZ2knJAZmZmto2SckAzMzNbj4hyQGZmZh56cHJAzczMDE9KckDNzMw8IyByQAAAADBwDnJAmpmZSUX8cUAAAACAuO1xQDMzM8O04XFAZmZm/vTRcUBmZmYeQ8NxQAAAALAnuXFAZmZmZpawcUCamZkZIKpxQM3MzKyapXFAMzMzI5yjcUAAAAD40bhxQM3MzHS653FAzczMFI4fckAAAAAgz1ByQM3MzGQ6dHJAMzMz2/SNckDNzMwERKByQJqZmSkiq3JAmpmZaZmuckCamZl5v6dyQGZmZs48jnJAzczMfMleckBmZmYuezxyQDMzM4PlJ3JAZmZmHkgZckAAAAB4Vg5yQJqZmfGXAXJAZmZmlo/1cUCamZnJGe5xQDMzM2PH5XFAZmZmrn7bcUCamZlZENVxQJqZmTlo03FAmpmZGR/VcUAAAACAnOBxQGZmZv6U+XFAzczMjLErckAzMzMreGNyQAAAAJjPi3JAAAAAyAymckDNzMzsu7ZyQDMzM+vcv3JAmpmZkaXBckAzMzOro7hyQJqZmfEknnJAAAAAqGpzckBmZmaWr1dyQDMzMwNRRnJAZmZmfnM3ckAzMzO7ey1yQAAAANAWJnJAmpmZyfIdckAAAADwPhVyQAAAAMDADnJAzczM1M0LckBmZmYmhQhyQGZmZm7xBHJAzczMZPMBckA=",
                    "dtype": "f8"
                  }
                },
                {
                  "fillcolor": "#B1B6FC",
                  "hoverinfo": "skip",
                  "line": {
                    "color": "#27aeef"
                  },
                  "lowerfence": {
                    "bdata": "AAAAAG7ScUAAAADAGuhxQAAAAIDX63FAAAAAUJftcUAAAADwMvZxQAAAAPDTC3JAAAAAcKcZckAAAADwrRpyQAAAAMDmEXJAAAAAQFIFckAAAADAMPdxQAAAAIDK63FAAAAAsHPccUAAAABg8NZxQAAAAFBgz3FAAAAAMHbJcUAAAAAACMNxQAAAAHAbunFAAAAAEKe1cUAAAABgxqtxQAAAAKCJp3FAAAAA4EyicUAAAAAwtJpxQAAAAKBbkHFAAAAAkA+ScUAAAAAg3rpxQAAAAOBx3nFAAAAAMN3vcUAAAABwqPdxQAAAABB2AHJAAAAA8F0MckAAAABgCxNyQAAAAFCmJnJAAAAAkIYqckAAAACwFilyQAAAAAArGHJAAAAAIEf+cUAAAACQHPFxQAAAANAh43FAAAAAsIXYcUAAAABwAdNxQAAAADAOz3FAAAAAgDi+cUAAAAAgfLNxQAAAAOAIqnFAAAAAgIilcUAAAACgIalxQAAAAFAGpnFAAAAAgJutcUAAAADgbctxQAAAABBW43FAAAAAkEIUckAAAADwHD1yQAAAADA6WHJAAAAAYAdrckAAAABA2HVyQAAAACCOeHJAAAAAYK9zckAAAACgLGhyQAAAAKAMP3JAAAAAgL4dckAAAABwMxhyQAAAAKDRA3JAAAAAgBflcUAAAAAwMtZxQAAAAOCQxnFAAAAA0Nq7cUAAAADgOrVxQAAAAPAEsHFAAAAAcNuqcUAAAADQeaRxQAAAAADRpnFAAAAA0B2pcUAAAABwbs5xQAAAAGCV7HFAAAAAID4QckAAAABA/y9yQAAAAFBuTHJAAAAAoPJjckAAAABgfHZyQAAAAPA6gXJAAAAAsEWCckAAAACwbHZyQAAAAMDLUXJAAAAAkEMvckAAAAAg3iVyQAAAAKBHFHJAAAAAkFQFckAAAAAgwP9xQAAAANBq93FAAAAA0PnscUAAAAAwLM5xQAAAABC23HFAAAAAkHY6ckAAAADAH45yQAAAAGCsb3JAAAAAMNZIckAAAACgoSpyQAAAABBdCnJAAAAA0M/kcUAAAADgFtFxQAAAAABosXFAAAAA0KXDcUAAAABwuMBxQAAAAKAVsXFAAAAAAE2mcUAAAAAgHp5xQAAAAKA6mHFAAAAAAB+GcUA=",
                    "dtype": "f8"
                  },
                  "median": {
                    "bdata": "AAAAQJnfcUAAAACwHvFxQAAAAHA4/nFAAAAAwNwDckAAAABwFg5yQAAAAFACHnJAAAAA2AoqckAAAAAYwi9yQAAAAMAVLHJAAAAA6M0ackAAAABAiAhyQAAAACgy+HFAAAAA2K/rcUAAAAAo+ORxQAAAAFDA3nFAAAAAMCracUAAAABgmdNxQAAAADCpzHFAAAAAEITIcUAAAAAo+r5xQAAAAGCfuXFAAAAAiIu0cUAAAACgIrJxQAAAAIhprXFAAAAA0My7cUAAAABgmddxQAAAAAAt83FAAAAAaLoEckAAAACI8BNyQAAAAGg4IXJAAAAAgBYtckAAAADYGjRyQAAAADhBOnJAAAAASM07ckAAAADYHjdyQAAAAFjeJHJAAAAAaPoKckAAAACg0v9xQAAAABAF9nFAAAAAAB/ucUAAAABI3uZxQAAAACgx4HFAAAAAuKLZcUAAAAAYeNNxQAAAAMDZynFAAAAAEMHEcUAAAACge79xQAAAANDEvXFAAAAAyHjJcUAAAACINeNxQAAAABAfBHJAAAAASP4rckAAAACYhEpyQAAAAAAqY3JAAAAAEPZ1ckAAAABwP4JyQAAAAFDBhnJAAAAAIEaFckAAAAAwXntyQAAAAKCFWHJAAAAAkEU3ckAAAACA/SdyQAAAABgkHHJAAAAA6JUQckAAAABouQFyQAAAAIAn83FAAAAAuD7ocUAAAADYKdtxQAAAAFAzz3FAAAAA6MjHcUAAAABIK8NxQAAAAIDNwXFAAAAA+ALJcUAAAADQJOlxQAAAADgADnJAAAAAcJcyckAAAABQYVByQAAAABigaXJAAAAAUMd9ckAAAACw0YxyQAAAAADPlXJAAAAAALuUckAAAAB4hYpyQAAAAAD9Z3JAAAAAqMlHckAAAABwfzZyQAAAAMh3K3JAAAAAKPseckAAAADIIBNyQAAAAMDCCXJAAAAAyJ8FckAAAAAQIvtxQAAAAICJ+3FAAAAAKHxUckAAAADAqKNyQAAAANhLsXJAAAAAsMNkckAAAABY2j1yQAAAAGhyKHJAAAAAwMQWckAAAABIUxVyQAAAABBlZnJAAAAACAGVckAAAAAoa49yQAAAABA+PHJAAAAAaL4dckAAAAAQpApyQAAAAAgbAXJAAAAAuA7/cUA=",
                    "dtype": "f8"
                  },
                  "q1": {
                    "bdata": "mpmZwVXZcUAAAABYP+txQJqZmbkZ9XFAmpmZmf/5cUAzMzO7VgVyQGZmZq5iFHJAzczMNK4cckDNzMysHSVyQM3MzJwPHnJAmpmZyXgMckDNzMyExv1xQM3MzPxz8XFAZmZmnk/icUDNzMwUNd1xQM3MzHym13FAZmZmfurPcUCamZkpZ8txQM3MzHwxxHFAAAAAQP+7cUCamZnpNbZxQGZmZs7isHFAAAAAaOWpcUDNzMxci6RxQGZmZnYOnXFAAAAAOIiocUCamZkZG8xxQDMzM/P47HFAZmZmdpz2cUBmZmZ23gdyQGZmZhYwFXJAAAAAUBMlckAzMzMTzSxyQGZmZtZaM3JAAAAAIN4zckCamZnxri5yQDMzM/tcH3JAZmZmNrkGckAzMzMDjfdxQM3MzMT97HFAZmZmtlPhcUBmZmZ2ftpxQJqZmYno1XFAzczMbCHQcUBmZmYWUMhxQJqZmVHcwHFAzczMzPi7cUAzMzPzKrdxQJqZmWEnr3FAMzMzoz+5cUDNzMy05tJxQM3MzMS/+XFAMzMzCyshckDNzMx0DUFyQAAAABDbWnJAmpmZMf9tckAzMzMT/3lyQJqZmZkCf3JAzczMjEF+ckBmZmaeQnNyQM3MzDz/SHJAMzMz88EqckCamZmhCRtyQDMzM/PjEnJAZmZm7vwCckAAAADAW+5xQM3MzLTq33FAzczM3HfScUBmZmbOlMdxQAAAAOAlu3FAmpmZEfO1cUBmZmY+pLBxQDMzM/Nbs3FAAAAAuHu4cUDNzMwUEthxQJqZmVkN+nFAMzMzY6ohckAAAAAAI0ByQAAAAMBlWHJAMzMzIzVwckCamZkpj4JyQJqZmVntjHJAZmZmrqeOckDNzMzEVINyQAAAAIACXnJAAAAAsFw9ckAAAAAoay1yQM3MzNxkHnJAAAAASHIQckDNzMwcggZyQGZmZr52/HFAzczMtG/5cUAAAACw9O5xQGZmZm577XFAZmZm3mpCckBmZmZOFppyQM3MzIRbqHJAzczM3HtXckCamZlhFDByQAAAABjxGnJAZmZmfsoDckDNzMyErAVyQDMzM4sLJ3JAMzMz86wbckBmZmb28/RxQAAAAHi+1nFAmpmZ4ZzFcUAzMzNjSbZxQAAAAAgPqHFAMzMze+2hcUA=",
                    "dtype": "f8"
                  },
                  "q3": {
                    "bdata": "mpmZUQntcUAzMzPDS/pxQDMzM8PiB3JAzczM1AoQckAAAAAARxpyQGZmZr6wKnJAAAAAkF0zckCamZkxSThyQAAAAMgwNXJAZmZmFpApckDNzMwUrhJyQJqZmZny/3FAZmZm1hD0cUDNzMwkguxxQM3MzNTQ5nFAZmZmTnrgcUDNzMw0bNxxQM3MzITb1nFAmpmZAXbRcUBmZmb+6MlxQM3MzCxOx3FAMzMzIz3IcUCamZkRA8hxQJqZmdnCynFAzczMvFTPcUDNzMzMfORxQGZmZuaQ+XFAAAAAeCsLckDNzMzstBtyQAAAAJh6KXJAAAAAWNkyckBmZmYGhTxyQDMzM/PJQnJAmpmZ0WdCckAzMzOL2j1yQDMzM+ueLHJAMzMzO2wWckBmZmaGDwpyQGZmZk6E/3FAMzMzM7n0cUAzMzNTAu5xQM3MzExu53FAMzMzs8fhcUCamZlh39xxQGZmZj5N13FAZmZmrq7ScUAzMzMT/s1xQJqZmclcyXFAzczMNM3RcUDNzMy0PPBxQGZmZsbBEnJAzczM5AA1ckBmZmZ+NVRyQAAAAOiIbHJAAAAACC9+ckAAAAAI74hyQJqZmcHejHJAAAAAIIaKckAzMzMLRYByQDMzM2vrX3JAmpmZaUFEckAzMzMbXjVyQJqZmXmkJ3JAmpmZca8cckAzMzOrFhFyQGZmZkYbAnJAmpmZkWj2cUCamZlh+uxxQGZmZtaV6HFAmpmZwdHbcUAzMzPLStZxQGZmZrZgz3FAzczMjGnYcUBmZmauH/RxQGZmZo7/GXJAZmZm/nA+ckAzMzObJl1yQGZmZv4adnJAAAAAEASKckDNzMwUeJZyQDMzM6vcnXJAAAAAUJOcckAzMzPjR5FyQDMzMwunbnJAMzMz2whOckDNzMwEHENyQJqZmcmmNXJAmpmZUY8rckBmZmYGEiByQM3MzEzjFnJAzczMDGwQckCamZkpyglyQDMzMwNICnJAZmZm9iFjckCamZkpQa1yQM3MzJxjuXJAAAAAYN9uckCamZlJokhyQDMzM0tIOHJAmpmZUaEwckCamZmRMChyQGZmZu6IdnJAzczM9PqockBmZmYmgqtyQJqZmRndY3JAmpmZ8Sw9ckAAAAAgRCVyQM3MzFSlF3JAZmZmzvsSckA=",
                    "dtype": "f8"
                  },
                  "type": "box",
                  "upperfence": {
                    "bdata": "AAAAoMb3cUAAAACgDAFyQAAAAGBpDHJAAAAAUDAbckAAAADwhidyQAAAANCjMnJAAAAA0Kw3ckAAAABAhEByQAAAAGAXPXJAAAAAcKY5ckAAAAAApyFyQAAAAOCxBHJAAAAAUE/4cUAAAAAgSPJxQAAAAHCF63FAAAAAgNTpcUAAAACQrudxQAAAAMCw3HFAAAAAcDfdcUAAAACQI9txQAAAALCc2XFAAAAAwHbbcUAAAACQ2NZxQAAAAHDY1XFAAAAAAF3bcUAAAADQJ+pxQAAAAOB0AnJAAAAAEE4SckAAAAAQayByQAAAANCOL3JAAAAAgBtBckAAAADgDkhyQAAAANBxTXJAAAAAcD1GckAAAABwf0NyQAAAAJD/NXJAAAAAsAcgckAAAABQ1BJyQAAAABDECnJAAAAA4DYIckAAAAAgbgVyQAAAANAj+nFAAAAA0IHtcUAAAACQIuNxQAAAANDy23FAAAAAoAXVcUAAAACw79BxQAAAAKCaznFAAAAAANrbcUAAAACAKP1xQAAAAEDPIXJAAAAAgBJAckAAAAAg+VdyQAAAAOB5cHJAAAAAUGeDckAAAACQ2o5yQAAAAMDSknJAAAAAoL+OckAAAAAgk4VyQAAAAOC9YXJAAAAAQKlHckAAAABwqDhyQAAAANB/LXJAAAAAEKkickAAAABwMhtyQAAAAECJE3JAAAAAIAIJckAAAAAQWPxxQAAAAHA49XFAAAAAgPLucUAAAABwfuRxQAAAACCi23FAAAAAEJLgcUAAAAAQz/lxQAAAAOCmIHJAAAAA8KpFckAAAABwYGFyQAAAAPDEenJAAAAAEIyOckAAAADg7pxyQAAAAAC3pHJAAAAAoDmjckAAAABwNJZyQAAAAMD1dHJAAAAAkE1UckAAAABgm0ZyQAAAABCgQHJAAAAAkKA6ckAAAAAQkS1yQAAAAABuInJAAAAAgIIdckAAAACQiQ9yQAAAAGC0FXJAAAAAgAdqckAAAABgHrJyQAAAAJAGw3JAAAAAgJJ0ckAAAABQFFNyQAAAABD8UXJAAAAAMIQ5ckAAAACAkD1yQAAAALCye3JAAAAAAA6xckAAAAAwZbhyQAAAABC6anJAAAAA0OJJckAAAAAAUTRyQAAAADDPH3JAAAAAsLwZckA=",
                    "dtype": "f8"
                  },
                  "width": 1080000,
                  "x": [
                    "2025-09-16T06:00:00",
                    "2025-09-16T07:00:00",
                    "2025-09-16T08:00:00",
                    "2025-09-16T09:00:00",
                    "2025-09-16T10:00:00",
                    "2025-09-16T11:00:00",
                    "2025-09-16T12:00:00",
                    "2025-09-16T13:00:00",
                    "2025-09-16T14:00:00",
                    "2025-09-16T15:00:00",
                    "2025-09-16T16:00:00",
                    "2025-09-16T17:00:00",
                    "2025-09-16T18:00:00",
                    "2025-09-16T19:00:00",
                    "2025-09-16T20:00:00",
                    "2025-09-16T21:00:00",
                    "2025-09-16T22:00:00",
                    "2025-09-16T23:00:00",
                    "2025-09-17T00:00:00",
                    "2025-09-17T01:00:00",
                    "2025-09-17T02:00:00",
                    "2025-09-17T03:00:00",
                    "2025-09-17T04:00:00",
                    "2025-09-17T05:00:00",
                    "2025-09-17T06:00:00",
                    "2025-09-17T07:00:00",
                    "2025-09-17T08:00:00",
                    "2025-09-17T09:00:00",
                    "2025-09-17T10:00:00",
                    "2025-09-17T11:00:00",
                    "2025-09-17T12:00:00",
                    "2025-09-17T13:00:00",
                    "2025-09-17T14:00:00",
                    "2025-09-17T15:00:00",
                    "2025-09-17T16:00:00",
                    "2025-09-17T17:00:00",
                    "2025-09-17T18:00:00",
                    "2025-09-17T19:00:00",
                    "2025-09-17T20:00:00",
                    "2025-09-17T21:00:00",
                    "2025-09-17T22:00:00",
                    "2025-09-17T23:00:00",
                    "2025-09-18T00:00:00",
                    "2025-09-18T01:00:00",
                    "2025-09-18T02:00:00",
                    "2025-09-18T03:00:00",
                    "2025-09-18T04:00:00",
                    "2025-09-18T05:00:00",
                    "2025-09-18T06:00:00",
                    "2025-09-18T07:00:00",
                    "2025-09-18T08:00:00",
                    "2025-09-18T09:00:00",
                    "2025-09-18T10:00:00",
                    "2025-09-18T11:00:00",
                    "2025-09-18T12:00:00",
                    "2025-09-18T13:00:00",
                    "2025-09-18T14:00:00",
                    "2025-09-18T15:00:00",
                    "2025-09-18T16:00:00",
                    "2025-09-18T17:00:00",
                    "2025-09-18T18:00:00",
                    "2025-09-18T19:00:00",
                    "2025-09-18T20:00:00",
                    "2025-09-18T21:00:00",
                    "2025-09-18T22:00:00",
                    "2025-09-18T23:00:00",
                    "2025-09-19T00:00:00",
                    "2025-09-19T01:00:00",
                    "2025-09-19T02:00:00",
                    "2025-09-19T03:00:00",
                    "2025-09-19T04:00:00",
                    "2025-09-19T05:00:00",
                    "2025-09-19T06:00:00",
                    "2025-09-19T07:00:00",
                    "2025-09-19T08:00:00",
                    "2025-09-19T09:00:00",
                    "2025-09-19T10:00:00",
                    "2025-09-19T11:00:00",
                    "2025-09-19T12:00:00",
                    "2025-09-19T13:00:00",
                    "2025-09-19T14:00:00",
                    "2025-09-19T15:00:00",
                    "2025-09-19T16:00:00",
                    "2025-09-19T17:00:00",
                    "2025-09-19T18:00:00",
                    "2025-09-19T19:00:00",
                    "2025-09-19T20:00:00",
                    "2025-09-19T21:00:00",
                    "2025-09-19T22:00:00",
                    "2025-09-19T23:00:00",
                    "2025-09-20T00:00:00",
                    "2025-09-20T03:00:00",
                    "2025-09-20T06:00:00",
                    "2025-09-20T09:00:00",
                    "2025-09-20T12:00:00",
                    "2025-09-20T15:00:00",
                    "2025-09-20T18:00:00",
                    "2025-09-20T21:00:00",
                    "2025-09-21T00:00:00",
                    "2025-09-21T03:00:00",
                    "2025-09-21T06:00:00",
                    "2025-09-21T09:00:00",
                    "2025-09-21T12:00:00",
                    "2025-09-21T15:00:00",
                    "2025-09-21T18:00:00",
                    "2025-09-21T21:00:00",
                    "2025-09-22T00:00:00",
                    "2025-09-22T03:00:00",
                    "2025-09-22T06:00:00"
                  ],
                  "xaxis": "x",
                  "yaxis": "y"
                },
                {
                  "fillcolor": "#B1B6FC",
                  "hoverinfo": "skip",
                  "line": {
                    "color": "#27aeef"
                  },
                  "lowerfence": {
                    "bdata": "AAAAAG7ScUAAAADAGuhxQAAAAIDX63FAAAAAUJftcUAAAADwMvZxQAAAAPDTC3JAAAAAcKcZckAAAADwrRpyQAAAAMDmEXJAAAAAQFIFckAAAADAMPdxQAAAAIDK63FAAAAAsHPccUAAAABg8NZxQAAAAFBgz3FAAAAAMHbJcUAAAAAACMNxQAAAAHAbunFAAAAAEKe1cUAAAABgxqtxQAAAAKCJp3FAAAAA4EyicUAAAAAwtJpxQAAAAKBbkHFAAAAAkA+ScUAAAAAg3rpxQAAAAOBx3nFAAAAAMN3vcUAAAABwqPdxQAAAABB2AHJAAAAA8F0MckAAAABgCxNyQAAAAFCmJnJAAAAAkIYqckAAAACwFilyQAAAAAArGHJAAAAAIEf+cUAAAACQHPFxQAAAANAh43FAAAAAsIXYcUAAAABwAdNxQAAAADAOz3FAAAAAgDi+cUAAAAAgfLNxQAAAAOAIqnFAAAAAgIilcUAAAACgIalxQAAAAFAGpnFAAAAAgJutcUAAAADgbctxQAAAABBW43FAAAAAkEIUckAAAADwHD1yQAAAADA6WHJAAAAAYAdrckAAAABA2HVyQAAAACCOeHJAAAAAYK9zckAAAACgLGhyQAAAAKAMP3JAAAAAgL4dckAAAABwMxhyQAAAAKDRA3JAAAAAgBflcUAAAAAwMtZxQAAAAOCQxnFAAAAA0Nq7cUAAAADgOrVxQAAAAPAEsHFAAAAAcNuqcUAAAADQeaRxQAAAAADRpnFAAAAA0B2pcUAAAABwbs5xQAAAAGCV7HFAAAAAID4QckAAAABA/y9yQAAAAFBuTHJAAAAAoPJjckAAAABgfHZyQAAAAPA6gXJAAAAAsEWCckAAAACwbHZyQAAAAMDLUXJAAAAAkEMvckAAAAAg3iVyQAAAAKBHFHJAAAAAkFQFckAAAAAgwP9xQAAAANBq93FAAAAA0PnscUAAAAAwLM5xQAAAABC23HFAAAAAkHY6ckAAAADAH45yQAAAAGCsb3JAAAAAMNZIckAAAACgoSpyQAAAABBdCnJAAAAA0M/kcUAAAADgFtFxQAAAAABosXFAAAAA0KXDcUAAAABwuMBxQAAAAKAVsXFAAAAAAE2mcUAAAAAgHp5xQAAAAKA6mHFAAAAAAB+GcUA=",
                    "dtype": "f8"
                  },
                  "median": {
                    "bdata": "AAAAQJnfcUAAAACwHvFxQAAAAHA4/nFAAAAAwNwDckAAAABwFg5yQAAAAFACHnJAAAAA2AoqckAAAAAYwi9yQAAAAMAVLHJAAAAA6M0ackAAAABAiAhyQAAAACgy+HFAAAAA2K/rcUAAAAAo+ORxQAAAAFDA3nFAAAAAMCracUAAAABgmdNxQAAAADCpzHFAAAAAEITIcUAAAAAo+r5xQAAAAGCfuXFAAAAAiIu0cUAAAACgIrJxQAAAAIhprXFAAAAA0My7cUAAAABgmddxQAAAAAAt83FAAAAAaLoEckAAAACI8BNyQAAAAGg4IXJAAAAAgBYtckAAAADYGjRyQAAAADhBOnJAAAAASM07ckAAAADYHjdyQAAAAFjeJHJAAAAAaPoKckAAAACg0v9xQAAAABAF9nFAAAAAAB/ucUAAAABI3uZxQAAAACgx4HFAAAAAuKLZcUAAAAAYeNNxQAAAAMDZynFAAAAAEMHEcUAAAACge79xQAAAANDEvXFAAAAAyHjJcUAAAACINeNxQAAAABAfBHJAAAAASP4rckAAAACYhEpyQAAAAAAqY3JAAAAAEPZ1ckAAAABwP4JyQAAAAFDBhnJAAAAAIEaFckAAAAAwXntyQAAAAKCFWHJAAAAAkEU3ckAAAACA/SdyQAAAABgkHHJAAAAA6JUQckAAAABouQFyQAAAAIAn83FAAAAAuD7ocUAAAADYKdtxQAAAAFAzz3FAAAAA6MjHcUAAAABIK8NxQAAAAIDNwXFAAAAA+ALJcUAAAADQJOlxQAAAADgADnJAAAAAcJcyckAAAABQYVByQAAAABigaXJAAAAAUMd9ckAAAACw0YxyQAAAAADPlXJAAAAAALuUckAAAAB4hYpyQAAAAAD9Z3JAAAAAqMlHckAAAABwfzZyQAAAAMh3K3JAAAAAKPseckAAAADIIBNyQAAAAMDCCXJAAAAAyJ8FckAAAAAQIvtxQAAAAICJ+3FAAAAAKHxUckAAAADAqKNyQAAAANhLsXJAAAAAsMNkckAAAABY2j1yQAAAAGhyKHJAAAAAwMQWckAAAABIUxVyQAAAABBlZnJAAAAACAGVckAAAAAoa49yQAAAABA+PHJAAAAAaL4dckAAAAAQpApyQAAAAAgbAXJAAAAAuA7/cUA=",
                    "dtype": "f8"
                  },
                  "q1": {
                    "bdata": "AAAA6NPbcUAAAADgf+1xQAAAAKiY+HFAAAAArHv+cUAAAABMcwhyQAAAAFCdGHJAAAAABPQjckAAAACIIytyQAAAALBxI3JAAAAATFsTckAAAAAgZgNyQAAAAFBy9HFAAAAAwNrncUAAAABkmeFxQAAAALQH23FAAAAAjEjTcUAAAAAIGM5xQAAAACROyHFAAAAAmNjCcUAAAAAARrpxQAAAAKQ4tHFAAAAAUHmucUAAAAC8y6lxQAAAADAhpHFAAAAAnFCycUAAAACA0NNxQAAAAFjU8HFAAAAA2O//cUAAAACYVRByQAAAALg/HHJAAAAAcPgockAAAAAsvTByQAAAANSKNnJAAAAAyOM3ckAAAAAgbzRyQAAAAEyZIXJAAAAAOE4IckAAAACcs/txQAAAAIiQ8nFAAAAAfAPncUAAAAAcO+FxQAAAAKz02nFAAAAAkBLVcUAAAADsQ8txQAAAAEj5xHFAAAAAbLi+cUAAAABk4rpxQAAAAHRatnFAAAAA1Ci/cUAAAABkONhxQAAAALB+/nFAAAAAHNojckAAAAAcAERyQAAAACQbXnJAAAAAnI9yckAAAACsAX5yQAAAAAiCg3JAAAAArA2BckAAAABwlXZyQAAAAOgvUnJAAAAA7PYwckAAAAAgziFyQAAAAJjmFnJAAAAAjLkIckAAAADMpvpxQAAAAARd6HFAAAAAvI3ccUAAAABofM9xQAAAAODgxHFAAAAA7Pm+cUAAAABMkrtxQAAAAKyfuHFAAAAAzPS+cUAAAABUbuFxQAAAAJx/AnJAAAAAIPYmckAAAACg1kVyQAAAAGSJYXJAAAAAlJx2ckAAAABwAodyQAAAANSckXJAAAAAENmRckAAAAC0ZoZyQAAAADhsYnJAAAAADDtCckAAAAAg+jJyQAAAACCPJnJAAAAAwPQXckAAAABsrgtyQAAAADzOBHJAAAAAlNr/cUAAAABMfPNxQAAAABR48nFAAAAA5CJIckAAAADMiJ5yQAAAAOTurHJAAAAAuA5dckAAAABsjTZyQAAAADikIXJAAAAAqKoLckAAAACwqQ9yQAAAAGScVHJAAAAAoEhfckAAAAA86T5yQAAAAKwUB3JAAAAAlHbqcUAAAACgZOJxQAAAAGgm13FAAAAAdIzMcUA=",
                    "dtype": "f8"
                  },
                  "q3": {
                    "bdata": "AAAA/HHmcUAAAACUpfRxQAAAAKChAHJAAAAARIEKckAAAAAoEBNyQAAAAHCJJHJAAAAAQHMuckAAAABUjjRyQAAAAMROMXJAAAAACIQjckAAAADwFg5yQAAAANih+3FAAAAAWCTwcUAAAADYyOlxQAAAAKxr4nFAAAAAeHvdcUAAAACIS9dxQAAAAETv0nFAAAAAKNzLcUAAAADIZsRxQAAAAOybv3FAAAAA1My7cUAAAADgG75xQAAAAJjOvHFAAAAAvOTFcUAAAACciN5xQAAAAFzn9nFAAAAAbNwIckAAAADMjBlyQAAAABzgJXJAAAAAUC0wckAAAAD8aThyQAAAAFy6PXJAAAAAcPc+ckAAAACYADxyQAAAANj9KHJAAAAAAIwQckAAAACobgRyQAAAAEQn/HFAAAAAcMLycUAAAAC0GOtxQAAAAMiE5XFAAAAAjA/fcUAAAADYSdlxQAAAAHj20HFAAAAApKXLcUAAAAAgQ8dxQAAAALyJw3FAAAAAnIXNcUAAAAB8G+lxQAAAAKj9DXJAAAAAOIYwckAAAAAQl09yQAAAAIBgaHJAAAAAeI96ckAAAADc1YVyQAAAAEB5inJAAAAAQMOHckAAAAAIU35yQAAAAPixXXJAAAAAQB89ckAAAADksy1yQAAAAHDRH3JAAAAAgKQUckAAAADcKwlyQAAAAJiz/XFAAAAApNHxcUAAAADMD+dxQAAAABya3HFAAAAA8M7QcUAAAABwB8xxQAAAAOh4ynFAAAAA2ETRcUAAAAD0m+9xQAAAAJjEFXJAAAAAeB87ckAAAABAsFlyQAAAADxmc3JAAAAAyA+FckAAAACkbpNyQAAAAFCXmnJAAAAAyHOZckAAAAA824xyQAAAAMxka3JAAAAACDdMckAAAADgFD1yQAAAAAD/L3JAAAAA6JQkckAAAACwwhpyQAAAAOhKFHJAAAAADFgOckAAAADc/QByQAAAAETeA3JAAAAA6D9bckAAAACgG6lyQAAAAJBOtXJAAAAAuDpsckAAAADktURyQAAAAHzHLXJAAAAAPL8ickAAAABYPSFyQAAAAODzbHJAAAAAvFygckAAAABAv6JyQAAAANCeWnJAAAAAhGg0ckAAAABIXh9yQAAAAISNDnJAAAAAcE8LckA=",
                    "dtype": "f8"
                  },
                  "showwhiskers": false,
                  "type": "box",
                  "upperfence": {
                    "bdata": "AAAAoMb3cUAAAACgDAFyQAAAAGBpDHJAAAAAUDAbckAAAADwhidyQAAAANCjMnJAAAAA0Kw3ckAAAABAhEByQAAAAGAXPXJAAAAAcKY5ckAAAAAApyFyQAAAAOCxBHJAAAAAUE/4cUAAAAAgSPJxQAAAAHCF63FAAAAAgNTpcUAAAACQrudxQAAAAMCw3HFAAAAAcDfdcUAAAACQI9txQAAAALCc2XFAAAAAwHbbcUAAAACQ2NZxQAAAAHDY1XFAAAAAAF3bcUAAAADQJ+pxQAAAAOB0AnJAAAAAEE4SckAAAAAQayByQAAAANCOL3JAAAAAgBtBckAAAADgDkhyQAAAANBxTXJAAAAAcD1GckAAAABwf0NyQAAAAJD/NXJAAAAAsAcgckAAAABQ1BJyQAAAABDECnJAAAAA4DYIckAAAAAgbgVyQAAAANAj+nFAAAAA0IHtcUAAAACQIuNxQAAAANDy23FAAAAAoAXVcUAAAACw79BxQAAAAKCaznFAAAAAANrbcUAAAACAKP1xQAAAAEDPIXJAAAAAgBJAckAAAAAg+VdyQAAAAOB5cHJAAAAAUGeDckAAAACQ2o5yQAAAAMDSknJAAAAAoL+OckAAAAAgk4VyQAAAAOC9YXJAAAAAQKlHckAAAABwqDhyQAAAANB/LXJAAAAAEKkickAAAABwMhtyQAAAAECJE3JAAAAAIAIJckAAAAAQWPxxQAAAAHA49XFAAAAAgPLucUAAAABwfuRxQAAAACCi23FAAAAAEJLgcUAAAAAQz/lxQAAAAOCmIHJAAAAA8KpFckAAAABwYGFyQAAAAPDEenJAAAAAEIyOckAAAADg7pxyQAAAAAC3pHJAAAAAoDmjckAAAABwNJZyQAAAAMD1dHJAAAAAkE1UckAAAABgm0ZyQAAAABCgQHJAAAAAkKA6ckAAAAAQkS1yQAAAAABuInJAAAAAgIIdckAAAACQiQ9yQAAAAGC0FXJAAAAAgAdqckAAAABgHrJyQAAAAJAGw3JAAAAAgJJ0ckAAAABQFFNyQAAAABD8UXJAAAAAMIQ5ckAAAACAkD1yQAAAALCye3JAAAAAAA6xckAAAAAwZbhyQAAAABC6anJAAAAA0OJJckAAAAAAUTRyQAAAADDPH3JAAAAAsLwZckA=",
                    "dtype": "f8"
                  },
                  "width": 2160000,
                  "x": [
                    "2025-09-16T06:00:00",
                    "2025-09-16T07:00:00",
                    "2025-09-16T08:00:00",
                    "2025-09-16T09:00:00",
                    "2025-09-16T10:00:00",
                    "2025-09-16T11:00:00",
                    "2025-09-16T12:00:00",
                    "2025-09-16T13:00:00",
                    "2025-09-16T14:00:00",
                    "2025-09-16T15:00:00",
                    "2025-09-16T16:00:00",
                    "2025-09-16T17:00:00",
                    "2025-09-16T18:00:00",
                    "2025-09-16T19:00:00",
                    "2025-09-16T20:00:00",
                    "2025-09-16T21:00:00",
                    "2025-09-16T22:00:00",
                    "2025-09-16T23:00:00",
                    "2025-09-17T00:00:00",
                    "2025-09-17T01:00:00",
                    "2025-09-17T02:00:00",
                    "2025-09-17T03:00:00",
                    "2025-09-17T04:00:00",
                    "2025-09-17T05:00:00",
                    "2025-09-17T06:00:00",
                    "2025-09-17T07:00:00",
                    "2025-09-17T08:00:00",
                    "2025-09-17T09:00:00",
                    "2025-09-17T10:00:00",
                    "2025-09-17T11:00:00",
                    "2025-09-17T12:00:00",
                    "2025-09-17T13:00:00",
                    "2025-09-17T14:00:00",
                    "2025-09-17T15:00:00",
                    "2025-09-17T16:00:00",
                    "2025-09-17T17:00:00",
                    "2025-09-17T18:00:00",
                    "2025-09-17T19:00:00",
                    "2025-09-17T20:00:00",
                    "2025-09-17T21:00:00",
                    "2025-09-17T22:00:00",
                    "2025-09-17T23:00:00",
                    "2025-09-18T00:00:00",
                    "2025-09-18T01:00:00",
                    "2025-09-18T02:00:00",
                    "2025-09-18T03:00:00",
                    "2025-09-18T04:00:00",
                    "2025-09-18T05:00:00",
                    "2025-09-18T06:00:00",
                    "2025-09-18T07:00:00",
                    "2025-09-18T08:00:00",
                    "2025-09-18T09:00:00",
                    "2025-09-18T10:00:00",
                    "2025-09-18T11:00:00",
                    "2025-09-18T12:00:00",
                    "2025-09-18T13:00:00",
                    "2025-09-18T14:00:00",
                    "2025-09-18T15:00:00",
                    "2025-09-18T16:00:00",
                    "2025-09-18T17:00:00",
                    "2025-09-18T18:00:00",
                    "2025-09-18T19:00:00",
                    "2025-09-18T20:00:00",
                    "2025-09-18T21:00:00",
                    "2025-09-18T22:00:00",
                    "2025-09-18T23:00:00",
                    "2025-09-19T00:00:00",
                    "2025-09-19T01:00:00",
                    "2025-09-19T02:00:00",
                    "2025-09-19T03:00:00",
                    "2025-09-19T04:00:00",
                    "2025-09-19T05:00:00",
                    "2025-09-19T06:00:00",
                    "2025-09-19T07:00:00",
                    "2025-09-19T08:00:00",
                    "2025-09-19T09:00:00",
                    "2025-09-19T10:00:00",
                    "2025-09-19T11:00:00",
                    "2025-09-19T12:00:00",
                    "2025-09-19T13:00:00",
                    "2025-09-19T14:00:00",
                    "2025-09-19T15:00:00",
                    "2025-09-19T16:00:00",
                    "2025-09-19T17:00:00",
                    "2025-09-19T18:00:00",
                    "2025-09-19T19:00:00",
                    "2025-09-19T20:00:00",
                    "2025-09-19T21:00:00",
                    "2025-09-19T22:00:00",
                    "2025-09-19T23:00:00",
                    "2025-09-20T00:00:00",
                    "2025-09-20T03:00:00",
                    "2025-09-20T06:00:00",
                    "2025-09-20T09:00:00",
                    "2025-09-20T12:00:00",
                    "2025-09-20T15:00:00",
                    "2025-09-20T18:00:00",
                    "2025-09-20T21:00:00",
                    "2025-09-21T00:00:00",
                    "2025-09-21T03:00:00",
                    "2025-09-21T06:00:00",
                    "2025-09-21T09:00:00",
                    "2025-09-21T12:00:00",
                    "2025-09-21T15:00:00",
                    "2025-09-21T18:00:00",
                    "2025-09-21T21:00:00",
                    "2025-09-22T00:00:00",
                    "2025-09-22T03:00:00",
                    "2025-09-22T06:00:00"
                  ],
                  "xaxis": "x",
                  "yaxis": "y"
                },
                {
                  "hovertemplate": "%{y:.2f}<extra>P<sub>0%</sub></extra>",
                  "marker": {
                    "color": "#27aeef",
                    "size": 0.00001
                  },
                  "mode": "markers",
                  "type": "scatter",
                  "x": [
                    "2025-09-16T06:00:00",
                    "2025-09-16T07:00:00",
                    "2025-09-16T08:00:00",
                    "2025-09-16T09:00:00",
                    "2025-09-16T10:00:00",
                    "2025-09-16T11:00:00",
                    "2025-09-16T12:00:00",
                    "2025-09-16T13:00:00",
                    "2025-09-16T14:00:00",
                    "2025-09-16T15:00:00",
                    "2025-09-16T16:00:00",
                    "2025-09-16T17:00:00",
                    "2025-09-16T18:00:00",
                    "2025-09-16T19:00:00",
                    "2025-09-16T20:00:00",
                    "2025-09-16T21:00:00",
                    "2025-09-16T22:00:00",
                    "2025-09-16T23:00:00",
                    "2025-09-17T00:00:00",
                    "2025-09-17T01:00:00",
                    "2025-09-17T02:00:00",
                    "2025-09-17T03:00:00",
                    "2025-09-17T04:00:00",
                    "2025-09-17T05:00:00",
                    "2025-09-17T06:00:00",
                    "2025-09-17T07:00:00",
                    "2025-09-17T08:00:00",
                    "2025-09-17T09:00:00",
                    "2025-09-17T10:00:00",
                    "2025-09-17T11:00:00",
                    "2025-09-17T12:00:00",
                    "2025-09-17T13:00:00",
                    "2025-09-17T14:00:00",
                    "2025-09-17T15:00:00",
                    "2025-09-17T16:00:00",
                    "2025-09-17T17:00:00",
                    "2025-09-17T18:00:00",
                    "2025-09-17T19:00:00",
                    "2025-09-17T20:00:00",
                    "2025-09-17T21:00:00",
                    "2025-09-17T22:00:00",
                    "2025-09-17T23:00:00",
                    "2025-09-18T00:00:00",
                    "2025-09-18T01:00:00",
                    "2025-09-18T02:00:00",
                    "2025-09-18T03:00:00",
                    "2025-09-18T04:00:00",
                    "2025-09-18T05:00:00",
                    "2025-09-18T06:00:00",
                    "2025-09-18T07:00:00",
                    "2025-09-18T08:00:00",
                    "2025-09-18T09:00:00",
                    "2025-09-18T10:00:00",
                    "2025-09-18T11:00:00",
                    "2025-09-18T12:00:00",
                    "2025-09-18T13:00:00",
                    "2025-09-18T14:00:00",
                    "2025-09-18T15:00:00",
                    "2025-09-18T16:00:00",
                    "2025-09-18T17:00:00",
                    "2025-09-18T18:00:00",
                    "2025-09-18T19:00:00",
                    "2025-09-18T20:00:00",
                    "2025-09-18T21:00:00",
                    "2025-09-18T22:00:00",
                    "2025-09-18T23:00:00",
                    "2025-09-19T00:00:00",
                    "2025-09-19T01:00:00",
                    "2025-09-19T02:00:00",
                    "2025-09-19T03:00:00",
                    "2025-09-19T04:00:00",
                    "2025-09-19T05:00:00",
                    "2025-09-19T06:00:00",
                    "2025-09-19T07:00:00",
                    "2025-09-19T08:00:00",
                    "2025-09-19T09:00:00",
                    "2025-09-19T10:00:00",
                    "2025-09-19T11:00:00",
                    "2025-09-19T12:00:00",
                    "2025-09-19T13:00:00",
                    "2025-09-19T14:00:00",
                    "2025-09-19T15:00:00",
                    "2025-09-19T16:00:00",
                    "2025-09-19T17:00:00",
                    "2025-09-19T18:00:00",
                    "2025-09-19T19:00:00",
                    "2025-09-19T20:00:00",
                    "2025-09-19T21:00:00",
                    "2025-09-19T22:00:00",
                    "2025-09-19T23:00:00",
                    "2025-09-20T00:00:00",
                    "2025-09-20T03:00:00",
                    "2025-09-20T06:00:00",
                    "2025-09-20T09:00:00",
                    "2025-09-20T12:00:00",
                    "2025-09-20T15:00:00",
                    "2025-09-20T18:00:00",
                    "2025-09-20T21:00:00",
                    "2025-09-21T00:00:00",
                    "2025-09-21T03:00:00",
                    "2025-09-21T06:00:00",
                    "2025-09-21T09:00:00",
                    "2025-09-21T12:00:00",
                    "2025-09-21T15:00:00",
                    "2025-09-21T18:00:00",
                    "2025-09-21T21:00:00",
                    "2025-09-22T00:00:00",
                    "2025-09-22T03:00:00",
                    "2025-09-22T06:00:00"
                  ],
                  "xaxis": "x",
                  "y": {
                    "bdata": "AAAAAG7ScUAAAADAGuhxQAAAAIDX63FAAAAAUJftcUAAAADwMvZxQAAAAPDTC3JAAAAAcKcZckAAAADwrRpyQAAAAMDmEXJAAAAAQFIFckAAAADAMPdxQAAAAIDK63FAAAAAsHPccUAAAABg8NZxQAAAAFBgz3FAAAAAMHbJcUAAAAAACMNxQAAAAHAbunFAAAAAEKe1cUAAAABgxqtxQAAAAKCJp3FAAAAA4EyicUAAAAAwtJpxQAAAAKBbkHFAAAAAkA+ScUAAAAAg3rpxQAAAAOBx3nFAAAAAMN3vcUAAAABwqPdxQAAAABB2AHJAAAAA8F0MckAAAABgCxNyQAAAAFCmJnJAAAAAkIYqckAAAACwFilyQAAAAAArGHJAAAAAIEf+cUAAAACQHPFxQAAAANAh43FAAAAAsIXYcUAAAABwAdNxQAAAADAOz3FAAAAAgDi+cUAAAAAgfLNxQAAAAOAIqnFAAAAAgIilcUAAAACgIalxQAAAAFAGpnFAAAAAgJutcUAAAADgbctxQAAAABBW43FAAAAAkEIUckAAAADwHD1yQAAAADA6WHJAAAAAYAdrckAAAABA2HVyQAAAACCOeHJAAAAAYK9zckAAAACgLGhyQAAAAKAMP3JAAAAAgL4dckAAAABwMxhyQAAAAKDRA3JAAAAAgBflcUAAAAAwMtZxQAAAAOCQxnFAAAAA0Nq7cUAAAADgOrVxQAAAAPAEsHFAAAAAcNuqcUAAAADQeaRxQAAAAADRpnFAAAAA0B2pcUAAAABwbs5xQAAAAGCV7HFAAAAAID4QckAAAABA/y9yQAAAAFBuTHJAAAAAoPJjckAAAABgfHZyQAAAAPA6gXJAAAAAsEWCckAAAACwbHZyQAAAAMDLUXJAAAAAkEMvckAAAAAg3iVyQAAAAKBHFHJAAAAAkFQFckAAAAAgwP9xQAAAANBq93FAAAAA0PnscUAAAAAwLM5xQAAAABC23HFAAAAAkHY6ckAAAADAH45yQAAAAGCsb3JAAAAAMNZIckAAAACgoSpyQAAAABBdCnJAAAAA0M/kcUAAAADgFtFxQAAAAABosXFAAAAA0KXDcUAAAABwuMBxQAAAAKAVsXFAAAAAAE2mcUAAAAAgHp5xQAAAAKA6mHFAAAAAAB+GcUA=",
                    "dtype": "f8"
                  },
                  "yaxis": "y"
                },
                {
                  "hovertemplate": "%{y:.2f}<extra>P<sub>10%</sub></extra>",
                  "marker": {
                    "color": "#27aeef",
                    "size": 0.00001
                  },
                  "mode": "markers",
                  "type": "scatter",
                  "x": [
                    "2025-09-16T06:00:00",
                    "2025-09-16T07:00:00",
                    "2025-09-16T08:00:00",
                    "2025-09-16T09:00:00",
                    "2025-09-16T10:00:00",
                    "2025-09-16T11:00:00",
                    "2025-09-16T12:00:00",
                    "2025-09-16T13:00:00",
                    "2025-09-16T14:00:00",
                    "2025-09-16T15:00:00",
                    "2025-09-16T16:00:00",
                    "2025-09-16T17:00:00",
                    "2025-09-16T18:00:00",
                    "2025-09-16T19:00:00",
                    "2025-09-16T20:00:00",
                    "2025-09-16T21:00:00",
                    "2025-09-16T22:00:00",
                    "2025-09-16T23:00:00",
                    "2025-09-17T00:00:00",
                    "2025-09-17T01:00:00",
                    "2025-09-17T02:00:00",
                    "2025-09-17T03:00:00",
                    "2025-09-17T04:00:00",
                    "2025-09-17T05:00:00",
                    "2025-09-17T06:00:00",
                    "2025-09-17T07:00:00",
                    "2025-09-17T08:00:00",
                    "2025-09-17T09:00:00",
                    "2025-09-17T10:00:00",
                    "2025-09-17T11:00:00",
                    "2025-09-17T12:00:00",
                    "2025-09-17T13:00:00",
                    "2025-09-17T14:00:00",
                    "2025-09-17T15:00:00",
                    "2025-09-17T16:00:00",
                    "2025-09-17T17:00:00",
                    "2025-09-17T18:00:00",
                    "2025-09-17T19:00:00",
                    "2025-09-17T20:00:00",
                    "2025-09-17T21:00:00",
                    "2025-09-17T22:00:00",
                    "2025-09-17T23:00:00",
                    "2025-09-18T00:00:00",
                    "2025-09-18T01:00:00",
                    "2025-09-18T02:00:00",
                    "2025-09-18T03:00:00",
                    "2025-09-18T04:00:00",
                    "2025-09-18T05:00:00",
                    "2025-09-18T06:00:00",
                    "2025-09-18T07:00:00",
                    "2025-09-18T08:00:00",
                    "2025-09-18T09:00:00",
                    "2025-09-18T10:00:00",
                    "2025-09-18T11:00:00",
                    "2025-09-18T12:00:00",
                    "2025-09-18T13:00:00",
                    "2025-09-18T14:00:00",
                    "2025-09-18T15:00:00",
                    "2025-09-18T16:00:00",
                    "2025-09-18T17:00:00",
                    "2025-09-18T18:00:00",
                    "2025-09-18T19:00:00",
                    "2025-09-18T20:00:00",
                    "2025-09-18T21:00:00",
                    "2025-09-18T22:00:00",
                    "2025-09-18T23:00:00",
                    "2025-09-19T00:00:00",
                    "2025-09-19T01:00:00",
                    "2025-09-19T02:00:00",
                    "2025-09-19T03:00:00",
                    "2025-09-19T04:00:00",
                    "2025-09-19T05:00:00",
                    "2025-09-19T06:00:00",
                    "2025-09-19T07:00:00",
                    "2025-09-19T08:00:00",
                    "2025-09-19T09:00:00",
                    "2025-09-19T10:00:00",
                    "2025-09-19T11:00:00",
                    "2025-09-19T12:00:00",
                    "2025-09-19T13:00:00",
                    "2025-09-19T14:00:00",
                    "2025-09-19T15:00:00",
                    "2025-09-19T16:00:00",
                    "2025-09-19T17:00:00",
                    "2025-09-19T18:00:00",
                    "2025-09-19T19:00:00",
                    "2025-09-19T20:00:00",
                    "2025-09-19T21:00:00",
                    "2025-09-19T22:00:00",
                    "2025-09-19T23:00:00",
                    "2025-09-20T00:00:00",
                    "2025-09-20T03:00:00",
                    "2025-09-20T06:00:00",
                    "2025-09-20T09:00:00",
                    "2025-09-20T12:00:00",
                    "2025-09-20T15:00:00",
                    "2025-09-20T18:00:00",
                    "2025-09-20T21:00:00",
                    "2025-09-21T00:00:00",
                    "2025-09-21T03:00:00",
                    "2025-09-21T06:00:00",
                    "2025-09-21T09:00:00",
                    "2025-09-21T12:00:00",
                    "2025-09-21T15:00:00",
                    "2025-09-21T18:00:00",
                    "2025-09-21T21:00:00",
                    "2025-09-22T00:00:00",
                    "2025-09-22T03:00:00",
                    "2025-09-22T06:00:00"
                  ],
                  "xaxis": "x",
                  "y": {
                    "bdata": "mpmZwVXZcUAAAABYP+txQJqZmbkZ9XFAmpmZmf/5cUAzMzO7VgVyQGZmZq5iFHJAzczMNK4cckDNzMysHSVyQM3MzJwPHnJAmpmZyXgMckDNzMyExv1xQM3MzPxz8XFAZmZmnk/icUDNzMwUNd1xQM3MzHym13FAZmZmfurPcUCamZkpZ8txQM3MzHwxxHFAAAAAQP+7cUCamZnpNbZxQGZmZs7isHFAAAAAaOWpcUDNzMxci6RxQGZmZnYOnXFAAAAAOIiocUCamZkZG8xxQDMzM/P47HFAZmZmdpz2cUBmZmZ23gdyQGZmZhYwFXJAAAAAUBMlckAzMzMTzSxyQGZmZtZaM3JAAAAAIN4zckCamZnxri5yQDMzM/tcH3JAZmZmNrkGckAzMzMDjfdxQM3MzMT97HFAZmZmtlPhcUBmZmZ2ftpxQJqZmYno1XFAzczMbCHQcUBmZmYWUMhxQJqZmVHcwHFAzczMzPi7cUAzMzPzKrdxQJqZmWEnr3FAMzMzoz+5cUDNzMy05tJxQM3MzMS/+XFAMzMzCyshckDNzMx0DUFyQAAAABDbWnJAmpmZMf9tckAzMzMT/3lyQJqZmZkCf3JAzczMjEF+ckBmZmaeQnNyQM3MzDz/SHJAMzMz88EqckCamZmhCRtyQDMzM/PjEnJAZmZm7vwCckAAAADAW+5xQM3MzLTq33FAzczM3HfScUBmZmbOlMdxQAAAAOAlu3FAmpmZEfO1cUBmZmY+pLBxQDMzM/Nbs3FAAAAAuHu4cUDNzMwUEthxQJqZmVkN+nFAMzMzY6ohckAAAAAAI0ByQAAAAMBlWHJAMzMzIzVwckCamZkpj4JyQJqZmVntjHJAZmZmrqeOckDNzMzEVINyQAAAAIACXnJAAAAAsFw9ckAAAAAoay1yQM3MzNxkHnJAAAAASHIQckDNzMwcggZyQGZmZr52/HFAzczMtG/5cUAAAACw9O5xQGZmZm577XFAZmZm3mpCckBmZmZOFppyQM3MzIRbqHJAzczM3HtXckCamZlhFDByQAAAABjxGnJAZmZmfsoDckDNzMyErAVyQDMzM4sLJ3JAMzMz86wbckBmZmb28/RxQAAAAHi+1nFAmpmZ4ZzFcUAzMzNjSbZxQAAAAAgPqHFAMzMze+2hcUA=",
                    "dtype": "f8"
                  },
                  "yaxis": "y"
                },
                {
                  "hovertemplate": "%{y:.2f}<extra>P<sub>25%</sub></extra>",
                  "marker": {
                    "color": "#27aeef",
                    "size": 0.00001
                  },
                  "mode": "markers",
                  "type": "scatter",
                  "x": [
                    "2025-09-16T06:00:00",
                    "2025-09-16T07:00:00",
                    "2025-09-16T08:00:00",
                    "2025-09-16T09:00:00",
                    "2025-09-16T10:00:00",
                    "2025-09-16T11:00:00",
                    "2025-09-16T12:00:00",
                    "2025-09-16T13:00:00",
                    "2025-09-16T14:00:00",
                    "2025-09-16T15:00:00",
                    "2025-09-16T16:00:00",
                    "2025-09-16T17:00:00",
                    "2025-09-16T18:00:00",
                    "2025-09-16T19:00:00",
                    "2025-09-16T20:00:00",
                    "2025-09-16T21:00:00",
                    "2025-09-16T22:00:00",
                    "2025-09-16T23:00:00",
                    "2025-09-17T00:00:00",
                    "2025-09-17T01:00:00",
                    "2025-09-17T02:00:00",
                    "2025-09-17T03:00:00",
                    "2025-09-17T04:00:00",
                    "2025-09-17T05:00:00",
                    "2025-09-17T06:00:00",
                    "2025-09-17T07:00:00",
                    "2025-09-17T08:00:00",
                    "2025-09-17T09:00:00",
                    "2025-09-17T10:00:00",
                    "2025-09-17T11:00:00",
                    "2025-09-17T12:00:00",
                    "2025-09-17T13:00:00",
                    "2025-09-17T14:00:00",
                    "2025-09-17T15:00:00",
                    "2025-09-17T16:00:00",
                    "2025-09-17T17:00:00",
                    "2025-09-17T18:00:00",
                    "2025-09-17T19:00:00",
                    "2025-09-17T20:00:00",
                    "2025-09-17T21:00:00",
                    "2025-09-17T22:00:00",
                    "2025-09-17T23:00:00",
                    "2025-09-18T00:00:00",
                    "2025-09-18T01:00:00",
                    "2025-09-18T02:00:00",
                    "2025-09-18T03:00:00",
                    "2025-09-18T04:00:00",
                    "2025-09-18T05:00:00",
                    "2025-09-18T06:00:00",
                    "2025-09-18T07:00:00",
                    "2025-09-18T08:00:00",
                    "2025-09-18T09:00:00",
                    "2025-09-18T10:00:00",
                    "2025-09-18T11:00:00",
                    "2025-09-18T12:00:00",
                    "2025-09-18T13:00:00",
                    "2025-09-18T14:00:00",
                    "2025-09-18T15:00:00",
                    "2025-09-18T16:00:00",
                    "2025-09-18T17:00:00",
                    "2025-09-18T18:00:00",
                    "2025-09-18T19:00:00",
                    "2025-09-18T20:00:00",
                    "2025-09-18T21:00:00",
                    "2025-09-18T22:00:00",
                    "2025-09-18T23:00:00",
                    "2025-09-19T00:00:00",
                    "2025-09-19T01:00:00",
                    "2025-09-19T02:00:00",
                    "2025-09-19T03:00:00",
                    "2025-09-19T04:00:00",
                    "2025-09-19T05:00:00",
                    "2025-09-19T06:00:00",
                    "2025-09-19T07:00:00",
                    "2025-09-19T08:00:00",
                    "2025-09-19T09:00:00",
                    "2025-09-19T10:00:00",
                    "2025-09-19T11:00:00",
                    "2025-09-19T12:00:00",
                    "2025-09-19T13:00:00",
                    "2025-09-19T14:00:00",
                    "2025-09-19T15:00:00",
                    "2025-09-19T16:00:00",
                    "2025-09-19T17:00:00",
                    "2025-09-19T18:00:00",
                    "2025-09-19T19:00:00",
                    "2025-09-19T20:00:00",
                    "2025-09-19T21:00:00",
                    "2025-09-19T22:00:00",
                    "2025-09-19T23:00:00",
                    "2025-09-20T00:00:00",
                    "2025-09-20T03:00:00",
                    "2025-09-20T06:00:00",
                    "2025-09-20T09:00:00",
                    "2025-09-20T12:00:00",
                    "2025-09-20T15:00:00",
                    "2025-09-20T18:00:00",
                    "2025-09-20T21:00:00",
                    "2025-09-21T00:00:00",
                    "2025-09-21T03:00:00",
                    "2025-09-21T06:00:00",
                    "2025-09-21T09:00:00",
                    "2025-09-21T12:00:00",
                    "2025-09-21T15:00:00",
                    "2025-09-21T18:00:00",
                    "2025-09-21T21:00:00",
                    "2025-09-22T00:00:00",
                    "2025-09-22T03:00:00",
                    "2025-09-22T06:00:00"
                  ],
                  "xaxis": "x",
                  "y": {
                    "bdata": "AAAA6NPbcUAAAADgf+1xQAAAAKiY+HFAAAAArHv+cUAAAABMcwhyQAAAAFCdGHJAAAAABPQjckAAAACIIytyQAAAALBxI3JAAAAATFsTckAAAAAgZgNyQAAAAFBy9HFAAAAAwNrncUAAAABkmeFxQAAAALQH23FAAAAAjEjTcUAAAAAIGM5xQAAAACROyHFAAAAAmNjCcUAAAAAARrpxQAAAAKQ4tHFAAAAAUHmucUAAAAC8y6lxQAAAADAhpHFAAAAAnFCycUAAAACA0NNxQAAAAFjU8HFAAAAA2O//cUAAAACYVRByQAAAALg/HHJAAAAAcPgockAAAAAsvTByQAAAANSKNnJAAAAAyOM3ckAAAAAgbzRyQAAAAEyZIXJAAAAAOE4IckAAAACcs/txQAAAAIiQ8nFAAAAAfAPncUAAAAAcO+FxQAAAAKz02nFAAAAAkBLVcUAAAADsQ8txQAAAAEj5xHFAAAAAbLi+cUAAAABk4rpxQAAAAHRatnFAAAAA1Ci/cUAAAABkONhxQAAAALB+/nFAAAAAHNojckAAAAAcAERyQAAAACQbXnJAAAAAnI9yckAAAACsAX5yQAAAAAiCg3JAAAAArA2BckAAAABwlXZyQAAAAOgvUnJAAAAA7PYwckAAAAAgziFyQAAAAJjmFnJAAAAAjLkIckAAAADMpvpxQAAAAARd6HFAAAAAvI3ccUAAAABofM9xQAAAAODgxHFAAAAA7Pm+cUAAAABMkrtxQAAAAKyfuHFAAAAAzPS+cUAAAABUbuFxQAAAAJx/AnJAAAAAIPYmckAAAACg1kVyQAAAAGSJYXJAAAAAlJx2ckAAAABwAodyQAAAANSckXJAAAAAENmRckAAAAC0ZoZyQAAAADhsYnJAAAAADDtCckAAAAAg+jJyQAAAACCPJnJAAAAAwPQXckAAAABsrgtyQAAAADzOBHJAAAAAlNr/cUAAAABMfPNxQAAAABR48nFAAAAA5CJIckAAAADMiJ5yQAAAAOTurHJAAAAAuA5dckAAAABsjTZyQAAAADikIXJAAAAAqKoLckAAAACwqQ9yQAAAAGScVHJAAAAAoEhfckAAAAA86T5yQAAAAKwUB3JAAAAAlHbqcUAAAACgZOJxQAAAAGgm13FAAAAAdIzMcUA=",
                    "dtype": "f8"
                  },
                  "yaxis": "y"
                },
                {
                  "hovertemplate": "%{y:.2f}<extra>P<sub>50%</sub></extra>",
                  "marker": {
                    "color": "#27aeef",
                    "size": 0.00001
                  },
                  "mode": "markers",
                  "type": "scatter",
                  "x": [
                    "2025-09-16T06:00:00",
                    "2025-09-16T07:00:00",
                    "2025-09-16T08:00:00",
                    "2025-09-16T09:00:00",
                    "2025-09-16T10:00:00",
                    "2025-09-16T11:00:00",
                    "2025-09-16T12:00:00",
                    "2025-09-16T13:00:00",
                    "2025-09-16T14:00:00",
                    "2025-09-16T15:00:00",
                    "2025-09-16T16:00:00",
                    "2025-09-16T17:00:00",
                    "2025-09-16T18:00:00",
                    "2025-09-16T19:00:00",
                    "2025-09-16T20:00:00",
                    "2025-09-16T21:00:00",
                    "2025-09-16T22:00:00",
                    "2025-09-16T23:00:00",
                    "2025-09-17T00:00:00",
                    "2025-09-17T01:00:00",
                    "2025-09-17T02:00:00",
                    "2025-09-17T03:00:00",
                    "2025-09-17T04:00:00",
                    "2025-09-17T05:00:00",
                    "2025-09-17T06:00:00",
                    "2025-09-17T07:00:00",
                    "2025-09-17T08:00:00",
                    "2025-09-17T09:00:00",
                    "2025-09-17T10:00:00",
                    "2025-09-17T11:00:00",
                    "2025-09-17T12:00:00",
                    "2025-09-17T13:00:00",
                    "2025-09-17T14:00:00",
                    "2025-09-17T15:00:00",
                    "2025-09-17T16:00:00",
                    "2025-09-17T17:00:00",
                    "2025-09-17T18:00:00",
                    "2025-09-17T19:00:00",
                    "2025-09-17T20:00:00",
                    "2025-09-17T21:00:00",
                    "2025-09-17T22:00:00",
                    "2025-09-17T23:00:00",
                    "2025-09-18T00:00:00",
                    "2025-09-18T01:00:00",
                    "2025-09-18T02:00:00",
                    "2025-09-18T03:00:00",
                    "2025-09-18T04:00:00",
                    "2025-09-18T05:00:00",
                    "2025-09-18T06:00:00",
                    "2025-09-18T07:00:00",
                    "2025-09-18T08:00:00",
                    "2025-09-18T09:00:00",
                    "2025-09-18T10:00:00",
                    "2025-09-18T11:00:00",
                    "2025-09-18T12:00:00",
                    "2025-09-18T13:00:00",
                    "2025-09-18T14:00:00",
                    "2025-09-18T15:00:00",
                    "2025-09-18T16:00:00",
                    "2025-09-18T17:00:00",
                    "2025-09-18T18:00:00",
                    "2025-09-18T19:00:00",
                    "2025-09-18T20:00:00",
                    "2025-09-18T21:00:00",
                    "2025-09-18T22:00:00",
                    "2025-09-18T23:00:00",
                    "2025-09-19T00:00:00",
                    "2025-09-19T01:00:00",
                    "2025-09-19T02:00:00",
                    "2025-09-19T03:00:00",
                    "2025-09-19T04:00:00",
                    "2025-09-19T05:00:00",
                    "2025-09-19T06:00:00",
                    "2025-09-19T07:00:00",
                    "2025-09-19T08:00:00",
                    "2025-09-19T09:00:00",
                    "2025-09-19T10:00:00",
                    "2025-09-19T11:00:00",
                    "2025-09-19T12:00:00",
                    "2025-09-19T13:00:00",
                    "2025-09-19T14:00:00",
                    "2025-09-19T15:00:00",
                    "2025-09-19T16:00:00",
                    "2025-09-19T17:00:00",
                    "2025-09-19T18:00:00",
                    "2025-09-19T19:00:00",
                    "2025-09-19T20:00:00",
                    "2025-09-19T21:00:00",
                    "2025-09-19T22:00:00",
                    "2025-09-19T23:00:00",
                    "2025-09-20T00:00:00",
                    "2025-09-20T03:00:00",
                    "2025-09-20T06:00:00",
                    "2025-09-20T09:00:00",
                    "2025-09-20T12:00:00",
                    "2025-09-20T15:00:00",
                    "2025-09-20T18:00:00",
                    "2025-09-20T21:00:00",
                    "2025-09-21T00:00:00",
                    "2025-09-21T03:00:00",
                    "2025-09-21T06:00:00",
                    "2025-09-21T09:00:00",
                    "2025-09-21T12:00:00",
                    "2025-09-21T15:00:00",
                    "2025-09-21T18:00:00",
                    "2025-09-21T21:00:00",
                    "2025-09-22T00:00:00",
                    "2025-09-22T03:00:00",
                    "2025-09-22T06:00:00"
                  ],
                  "xaxis": "x",
                  "y": {
                    "bdata": "AAAAQJnfcUAAAACwHvFxQAAAAHA4/nFAAAAAwNwDckAAAABwFg5yQAAAAFACHnJAAAAA2AoqckAAAAAYwi9yQAAAAMAVLHJAAAAA6M0ackAAAABAiAhyQAAAACgy+HFAAAAA2K/rcUAAAAAo+ORxQAAAAFDA3nFAAAAAMCracUAAAABgmdNxQAAAADCpzHFAAAAAEITIcUAAAAAo+r5xQAAAAGCfuXFAAAAAiIu0cUAAAACgIrJxQAAAAIhprXFAAAAA0My7cUAAAABgmddxQAAAAAAt83FAAAAAaLoEckAAAACI8BNyQAAAAGg4IXJAAAAAgBYtckAAAADYGjRyQAAAADhBOnJAAAAASM07ckAAAADYHjdyQAAAAFjeJHJAAAAAaPoKckAAAACg0v9xQAAAABAF9nFAAAAAAB/ucUAAAABI3uZxQAAAACgx4HFAAAAAuKLZcUAAAAAYeNNxQAAAAMDZynFAAAAAEMHEcUAAAACge79xQAAAANDEvXFAAAAAyHjJcUAAAACINeNxQAAAABAfBHJAAAAASP4rckAAAACYhEpyQAAAAAAqY3JAAAAAEPZ1ckAAAABwP4JyQAAAAFDBhnJAAAAAIEaFckAAAAAwXntyQAAAAKCFWHJAAAAAkEU3ckAAAACA/SdyQAAAABgkHHJAAAAA6JUQckAAAABouQFyQAAAAIAn83FAAAAAuD7ocUAAAADYKdtxQAAAAFAzz3FAAAAA6MjHcUAAAABIK8NxQAAAAIDNwXFAAAAA+ALJcUAAAADQJOlxQAAAADgADnJAAAAAcJcyckAAAABQYVByQAAAABigaXJAAAAAUMd9ckAAAACw0YxyQAAAAADPlXJAAAAAALuUckAAAAB4hYpyQAAAAAD9Z3JAAAAAqMlHckAAAABwfzZyQAAAAMh3K3JAAAAAKPseckAAAADIIBNyQAAAAMDCCXJAAAAAyJ8FckAAAAAQIvtxQAAAAICJ+3FAAAAAKHxUckAAAADAqKNyQAAAANhLsXJAAAAAsMNkckAAAABY2j1yQAAAAGhyKHJAAAAAwMQWckAAAABIUxVyQAAAABBlZnJAAAAACAGVckAAAAAoa49yQAAAABA+PHJAAAAAaL4dckAAAAAQpApyQAAAAAgbAXJAAAAAuA7/cUA=",
                    "dtype": "f8"
                  },
                  "yaxis": "y"
                },
                {
                  "hovertemplate": "%{y:.2f}<extra>P<sub>75%</sub></extra>",
                  "marker": {
                    "color": "#27aeef",
                    "size": 0.00001
                  },
                  "mode": "markers",
                  "type": "scatter",
                  "x": [
                    "2025-09-16T06:00:00",
                    "2025-09-16T07:00:00",
                    "2025-09-16T08:00:00",
                    "2025-09-16T09:00:00",
                    "2025-09-16T10:00:00",
                    "2025-09-16T11:00:00",
                    "2025-09-16T12:00:00",
                    "2025-09-16T13:00:00",
                    "2025-09-16T14:00:00",
                    "2025-09-16T15:00:00",
                    "2025-09-16T16:00:00",
                    "2025-09-16T17:00:00",
                    "2025-09-16T18:00:00",
                    "2025-09-16T19:00:00",
                    "2025-09-16T20:00:00",
                    "2025-09-16T21:00:00",
                    "2025-09-16T22:00:00",
                    "2025-09-16T23:00:00",
                    "2025-09-17T00:00:00",
                    "2025-09-17T01:00:00",
                    "2025-09-17T02:00:00",
                    "2025-09-17T03:00:00",
                    "2025-09-17T04:00:00",
                    "2025-09-17T05:00:00",
                    "2025-09-17T06:00:00",
                    "2025-09-17T07:00:00",
                    "2025-09-17T08:00:00",
                    "2025-09-17T09:00:00",
                    "2025-09-17T10:00:00",
                    "2025-09-17T11:00:00",
                    "2025-09-17T12:00:00",
                    "2025-09-17T13:00:00",
                    "2025-09-17T14:00:00",
                    "2025-09-17T15:00:00",
                    "2025-09-17T16:00:00",
                    "2025-09-17T17:00:00",
                    "2025-09-17T18:00:00",
                    "2025-09-17T19:00:00",
                    "2025-09-17T20:00:00",
                    "2025-09-17T21:00:00",
                    "2025-09-17T22:00:00",
                    "2025-09-17T23:00:00",
                    "2025-09-18T00:00:00",
                    "2025-09-18T01:00:00",
                    "2025-09-18T02:00:00",
                    "2025-09-18T03:00:00",
                    "2025-09-18T04:00:00",
                    "2025-09-18T05:00:00",
                    "2025-09-18T06:00:00",
                    "2025-09-18T07:00:00",
                    "2025-09-18T08:00:00",
                    "2025-09-18T09:00:00",
                    "2025-09-18T10:00:00",
                    "2025-09-18T11:00:00",
                    "2025-09-18T12:00:00",
                    "2025-09-18T13:00:00",
                    "2025-09-18T14:00:00",
                    "2025-09-18T15:00:00",
                    "2025-09-18T16:00:00",
                    "2025-09-18T17:00:00",
                    "2025-09-18T18:00:00",
                    "2025-09-18T19:00:00",
                    "2025-09-18T20:00:00",
                    "2025-09-18T21:00:00",
                    "2025-09-18T22:00:00",
                    "2025-09-18T23:00:00",
                    "2025-09-19T00:00:00",
                    "2025-09-19T01:00:00",
                    "2025-09-19T02:00:00",
                    "2025-09-19T03:00:00",
                    "2025-09-19T04:00:00",
                    "2025-09-19T05:00:00",
                    "2025-09-19T06:00:00",
                    "2025-09-19T07:00:00",
                    "2025-09-19T08:00:00",
                    "2025-09-19T09:00:00",
                    "2025-09-19T10:00:00",
                    "2025-09-19T11:00:00",
                    "2025-09-19T12:00:00",
                    "2025-09-19T13:00:00",
                    "2025-09-19T14:00:00",
                    "2025-09-19T15:00:00",
                    "2025-09-19T16:00:00",
                    "2025-09-19T17:00:00",
                    "2025-09-19T18:00:00",
                    "2025-09-19T19:00:00",
                    "2025-09-19T20:00:00",
                    "2025-09-19T21:00:00",
                    "2025-09-19T22:00:00",
                    "2025-09-19T23:00:00",
                    "2025-09-20T00:00:00",
                    "2025-09-20T03:00:00",
                    "2025-09-20T06:00:00",
                    "2025-09-20T09:00:00",
                    "2025-09-20T12:00:00",
                    "2025-09-20T15:00:00",
                    "2025-09-20T18:00:00",
                    "2025-09-20T21:00:00",
                    "2025-09-21T00:00:00",
                    "2025-09-21T03:00:00",
                    "2025-09-21T06:00:00",
                    "2025-09-21T09:00:00",
                    "2025-09-21T12:00:00",
                    "2025-09-21T15:00:00",
                    "2025-09-21T18:00:00",
                    "2025-09-21T21:00:00",
                    "2025-09-22T00:00:00",
                    "2025-09-22T03:00:00",
                    "2025-09-22T06:00:00"
                  ],
                  "xaxis": "x",
                  "y": {
                    "bdata": "AAAA/HHmcUAAAACUpfRxQAAAAKChAHJAAAAARIEKckAAAAAoEBNyQAAAAHCJJHJAAAAAQHMuckAAAABUjjRyQAAAAMROMXJAAAAACIQjckAAAADwFg5yQAAAANih+3FAAAAAWCTwcUAAAADYyOlxQAAAAKxr4nFAAAAAeHvdcUAAAACIS9dxQAAAAETv0nFAAAAAKNzLcUAAAADIZsRxQAAAAOybv3FAAAAA1My7cUAAAADgG75xQAAAAJjOvHFAAAAAvOTFcUAAAACciN5xQAAAAFzn9nFAAAAAbNwIckAAAADMjBlyQAAAABzgJXJAAAAAUC0wckAAAAD8aThyQAAAAFy6PXJAAAAAcPc+ckAAAACYADxyQAAAANj9KHJAAAAAAIwQckAAAACobgRyQAAAAEQn/HFAAAAAcMLycUAAAAC0GOtxQAAAAMiE5XFAAAAAjA/fcUAAAADYSdlxQAAAAHj20HFAAAAApKXLcUAAAAAgQ8dxQAAAALyJw3FAAAAAnIXNcUAAAAB8G+lxQAAAAKj9DXJAAAAAOIYwckAAAAAQl09yQAAAAIBgaHJAAAAAeI96ckAAAADc1YVyQAAAAEB5inJAAAAAQMOHckAAAAAIU35yQAAAAPixXXJAAAAAQB89ckAAAADksy1yQAAAAHDRH3JAAAAAgKQUckAAAADcKwlyQAAAAJiz/XFAAAAApNHxcUAAAADMD+dxQAAAABya3HFAAAAA8M7QcUAAAABwB8xxQAAAAOh4ynFAAAAA2ETRcUAAAAD0m+9xQAAAAJjEFXJAAAAAeB87ckAAAABAsFlyQAAAADxmc3JAAAAAyA+FckAAAACkbpNyQAAAAFCXmnJAAAAAyHOZckAAAAA824xyQAAAAMxka3JAAAAACDdMckAAAADgFD1yQAAAAAD/L3JAAAAA6JQkckAAAACwwhpyQAAAAOhKFHJAAAAADFgOckAAAADc/QByQAAAAETeA3JAAAAA6D9bckAAAACgG6lyQAAAAJBOtXJAAAAAuDpsckAAAADktURyQAAAAHzHLXJAAAAAPL8ickAAAABYPSFyQAAAAODzbHJAAAAAvFygckAAAABAv6JyQAAAANCeWnJAAAAAhGg0ckAAAABIXh9yQAAAAISNDnJAAAAAcE8LckA=",
                    "dtype": "f8"
                  },
                  "yaxis": "y"
                },
                {
                  "hovertemplate": "%{y:.2f}<extra>P<sub>90%</sub></extra>",
                  "marker": {
                    "color": "#27aeef",
                    "size": 0.00001
                  },
                  "mode": "markers",
                  "type": "scatter",
                  "x": [
                    "2025-09-16T06:00:00",
                    "2025-09-16T07:00:00",
                    "2025-09-16T08:00:00",
                    "2025-09-16T09:00:00",
                    "2025-09-16T10:00:00",
                    "2025-09-16T11:00:00",
                    "2025-09-16T12:00:00",
                    "2025-09-16T13:00:00",
                    "2025-09-16T14:00:00",
                    "2025-09-16T15:00:00",
                    "2025-09-16T16:00:00",
                    "2025-09-16T17:00:00",
                    "2025-09-16T18:00:00",
                    "2025-09-16T19:00:00",
                    "2025-09-16T20:00:00",
                    "2025-09-16T21:00:00",
                    "2025-09-16T22:00:00",
                    "2025-09-16T23:00:00",
                    "2025-09-17T00:00:00",
                    "2025-09-17T01:00:00",
                    "2025-09-17T02:00:00",
                    "2025-09-17T03:00:00",
                    "2025-09-17T04:00:00",
                    "2025-09-17T05:00:00",
                    "2025-09-17T06:00:00",
                    "2025-09-17T07:00:00",
                    "2025-09-17T08:00:00",
                    "2025-09-17T09:00:00",
                    "2025-09-17T10:00:00",
                    "2025-09-17T11:00:00",
                    "2025-09-17T12:00:00",
                    "2025-09-17T13:00:00",
                    "2025-09-17T14:00:00",
                    "2025-09-17T15:00:00",
                    "2025-09-17T16:00:00",
                    "2025-09-17T17:00:00",
                    "2025-09-17T18:00:00",
                    "2025-09-17T19:00:00",
                    "2025-09-17T20:00:00",
                    "2025-09-17T21:00:00",
                    "2025-09-17T22:00:00",
                    "2025-09-17T23:00:00",
                    "2025-09-18T00:00:00",
                    "2025-09-18T01:00:00",
                    "2025-09-18T02:00:00",
                    "2025-09-18T03:00:00",
                    "2025-09-18T04:00:00",
                    "2025-09-18T05:00:00",
                    "2025-09-18T06:00:00",
                    "2025-09-18T07:00:00",
                    "2025-09-18T08:00:00",
                    "2025-09-18T09:00:00",
                    "2025-09-18T10:00:00",
                    "2025-09-18T11:00:00",
                    "2025-09-18T12:00:00",
                    "2025-09-18T13:00:00",
                    "2025-09-18T14:00:00",
                    "2025-09-18T15:00:00",
                    "2025-09-18T16:00:00",
                    "2025-09-18T17:00:00",
                    "2025-09-18T18:00:00",
                    "2025-09-18T19:00:00",
                    "2025-09-18T20:00:00",
                    "2025-09-18T21:00:00",
                    "2025-09-18T22:00:00",
                    "2025-09-18T23:00:00",
                    "2025-09-19T00:00:00",
                    "2025-09-19T01:00:00",
                    "2025-09-19T02:00:00",
                    "2025-09-19T03:00:00",
                    "2025-09-19T04:00:00",
                    "2025-09-19T05:00:00",
                    "2025-09-19T06:00:00",
                    "2025-09-19T07:00:00",
                    "2025-09-19T08:00:00",
                    "2025-09-19T09:00:00",
                    "2025-09-19T10:00:00",
                    "2025-09-19T11:00:00",
                    "2025-09-19T12:00:00",
                    "2025-09-19T13:00:00",
                    "2025-09-19T14:00:00",
                    "2025-09-19T15:00:00",
                    "2025-09-19T16:00:00",
                    "2025-09-19T17:00:00",
                    "2025-09-19T18:00:00",
                    "2025-09-19T19:00:00",
                    "2025-09-19T20:00:00",
                    "2025-09-19T21:00:00",
                    "2025-09-19T22:00:00",
                    "2025-09-19T23:00:00",
                    "2025-09-20T00:00:00",
                    "2025-09-20T03:00:00",
                    "2025-09-20T06:00:00",
                    "2025-09-20T09:00:00",
                    "2025-09-20T12:00:00",
                    "2025-09-20T15:00:00",
                    "2025-09-20T18:00:00",
                    "2025-09-20T21:00:00",
                    "2025-09-21T00:00:00",
                    "2025-09-21T03:00:00",
                    "2025-09-21T06:00:00",
                    "2025-09-21T09:00:00",
                    "2025-09-21T12:00:00",
                    "2025-09-21T15:00:00",
                    "2025-09-21T18:00:00",
                    "2025-09-21T21:00:00",
                    "2025-09-22T00:00:00",
                    "2025-09-22T03:00:00",
                    "2025-09-22T06:00:00"
                  ],
                  "xaxis": "x",
                  "y": {
                    "bdata": "mpmZUQntcUAzMzPDS/pxQDMzM8PiB3JAzczM1AoQckAAAAAARxpyQGZmZr6wKnJAAAAAkF0zckCamZkxSThyQAAAAMgwNXJAZmZmFpApckDNzMwUrhJyQJqZmZny/3FAZmZm1hD0cUDNzMwkguxxQM3MzNTQ5nFAZmZmTnrgcUDNzMw0bNxxQM3MzITb1nFAmpmZAXbRcUBmZmb+6MlxQM3MzCxOx3FAMzMzIz3IcUCamZkRA8hxQJqZmdnCynFAzczMvFTPcUDNzMzMfORxQGZmZuaQ+XFAAAAAeCsLckDNzMzstBtyQAAAAJh6KXJAAAAAWNkyckBmZmYGhTxyQDMzM/PJQnJAmpmZ0WdCckAzMzOL2j1yQDMzM+ueLHJAMzMzO2wWckBmZmaGDwpyQGZmZk6E/3FAMzMzM7n0cUAzMzNTAu5xQM3MzExu53FAMzMzs8fhcUCamZlh39xxQGZmZj5N13FAZmZmrq7ScUAzMzMT/s1xQJqZmclcyXFAzczMNM3RcUDNzMy0PPBxQGZmZsbBEnJAzczM5AA1ckBmZmZ+NVRyQAAAAOiIbHJAAAAACC9+ckAAAAAI74hyQJqZmcHejHJAAAAAIIaKckAzMzMLRYByQDMzM2vrX3JAmpmZaUFEckAzMzMbXjVyQJqZmXmkJ3JAmpmZca8cckAzMzOrFhFyQGZmZkYbAnJAmpmZkWj2cUCamZlh+uxxQGZmZtaV6HFAmpmZwdHbcUAzMzPLStZxQGZmZrZgz3FAzczMjGnYcUBmZmauH/RxQGZmZo7/GXJAZmZm/nA+ckAzMzObJl1yQGZmZv4adnJAAAAAEASKckDNzMwUeJZyQDMzM6vcnXJAAAAAUJOcckAzMzPjR5FyQDMzMwunbnJAMzMz2whOckDNzMwEHENyQJqZmcmmNXJAmpmZUY8rckBmZmYGEiByQM3MzEzjFnJAzczMDGwQckCamZkpyglyQDMzMwNICnJAZmZm9iFjckCamZkpQa1yQM3MzJxjuXJAAAAAYN9uckCamZlJokhyQDMzM0tIOHJAmpmZUaEwckCamZmRMChyQGZmZu6IdnJAzczM9PqockBmZmYmgqtyQJqZmRndY3JAmpmZ8Sw9ckAAAAAgRCVyQM3MzFSlF3JAZmZmzvsSckA=",
                    "dtype": "f8"
                  },
                  "yaxis": "y"
                },
                {
                  "hovertemplate": "%{y:.2f}<extra>P<sub>100%</sub></extra>",
                  "marker": {
                    "color": "#27aeef",
                    "size": 0.00001
                  },
                  "mode": "markers",
                  "type": "scatter",
                  "x": [
                    "2025-09-16T06:00:00",
                    "2025-09-16T07:00:00",
                    "2025-09-16T08:00:00",
                    "2025-09-16T09:00:00",
                    "2025-09-16T10:00:00",
                    "2025-09-16T11:00:00",
                    "2025-09-16T12:00:00",
                    "2025-09-16T13:00:00",
                    "2025-09-16T14:00:00",
                    "2025-09-16T15:00:00",
                    "2025-09-16T16:00:00",
                    "2025-09-16T17:00:00",
                    "2025-09-16T18:00:00",
                    "2025-09-16T19:00:00",
                    "2025-09-16T20:00:00",
                    "2025-09-16T21:00:00",
                    "2025-09-16T22:00:00",
                    "2025-09-16T23:00:00",
                    "2025-09-17T00:00:00",
                    "2025-09-17T01:00:00",
                    "2025-09-17T02:00:00",
                    "2025-09-17T03:00:00",
                    "2025-09-17T04:00:00",
                    "2025-09-17T05:00:00",
                    "2025-09-17T06:00:00",
                    "2025-09-17T07:00:00",
                    "2025-09-17T08:00:00",
                    "2025-09-17T09:00:00",
                    "2025-09-17T10:00:00",
                    "2025-09-17T11:00:00",
                    "2025-09-17T12:00:00",
                    "2025-09-17T13:00:00",
                    "2025-09-17T14:00:00",
                    "2025-09-17T15:00:00",
                    "2025-09-17T16:00:00",
                    "2025-09-17T17:00:00",
                    "2025-09-17T18:00:00",
                    "2025-09-17T19:00:00",
                    "2025-09-17T20:00:00",
                    "2025-09-17T21:00:00",
                    "2025-09-17T22:00:00",
                    "2025-09-17T23:00:00",
                    "2025-09-18T00:00:00",
                    "2025-09-18T01:00:00",
                    "2025-09-18T02:00:00",
                    "2025-09-18T03:00:00",
                    "2025-09-18T04:00:00",
                    "2025-09-18T05:00:00",
                    "2025-09-18T06:00:00",
                    "2025-09-18T07:00:00",
                    "2025-09-18T08:00:00",
                    "2025-09-18T09:00:00",
                    "2025-09-18T10:00:00",
                    "2025-09-18T11:00:00",
                    "2025-09-18T12:00:00",
                    "2025-09-18T13:00:00",
                    "2025-09-18T14:00:00",
                    "2025-09-18T15:00:00",
                    "2025-09-18T16:00:00",
                    "2025-09-18T17:00:00",
                    "2025-09-18T18:00:00",
                    "2025-09-18T19:00:00",
                    "2025-09-18T20:00:00",
                    "2025-09-18T21:00:00",
                    "2025-09-18T22:00:00",
                    "2025-09-18T23:00:00",
                    "2025-09-19T00:00:00",
                    "2025-09-19T01:00:00",
                    "2025-09-19T02:00:00",
                    "2025-09-19T03:00:00",
                    "2025-09-19T04:00:00",
                    "2025-09-19T05:00:00",
                    "2025-09-19T06:00:00",
                    "2025-09-19T07:00:00",
                    "2025-09-19T08:00:00",
                    "2025-09-19T09:00:00",
                    "2025-09-19T10:00:00",
                    "2025-09-19T11:00:00",
                    "2025-09-19T12:00:00",
                    "2025-09-19T13:00:00",
                    "2025-09-19T14:00:00",
                    "2025-09-19T15:00:00",
                    "2025-09-19T16:00:00",
                    "2025-09-19T17:00:00",
                    "2025-09-19T18:00:00",
                    "2025-09-19T19:00:00",
                    "2025-09-19T20:00:00",
                    "2025-09-19T21:00:00",
                    "2025-09-19T22:00:00",
                    "2025-09-19T23:00:00",
                    "2025-09-20T00:00:00",
                    "2025-09-20T03:00:00",
                    "2025-09-20T06:00:00",
                    "2025-09-20T09:00:00",
                    "2025-09-20T12:00:00",
                    "2025-09-20T15:00:00",
                    "2025-09-20T18:00:00",
                    "2025-09-20T21:00:00",
                    "2025-09-21T00:00:00",
                    "2025-09-21T03:00:00",
                    "2025-09-21T06:00:00",
                    "2025-09-21T09:00:00",
                    "2025-09-21T12:00:00",
                    "2025-09-21T15:00:00",
                    "2025-09-21T18:00:00",
                    "2025-09-21T21:00:00",
                    "2025-09-22T00:00:00",
                    "2025-09-22T03:00:00",
                    "2025-09-22T06:00:00"
                  ],
                  "xaxis": "x",
                  "y": {
                    "bdata": "AAAAoMb3cUAAAACgDAFyQAAAAGBpDHJAAAAAUDAbckAAAADwhidyQAAAANCjMnJAAAAA0Kw3ckAAAABAhEByQAAAAGAXPXJAAAAAcKY5ckAAAAAApyFyQAAAAOCxBHJAAAAAUE/4cUAAAAAgSPJxQAAAAHCF63FAAAAAgNTpcUAAAACQrudxQAAAAMCw3HFAAAAAcDfdcUAAAACQI9txQAAAALCc2XFAAAAAwHbbcUAAAACQ2NZxQAAAAHDY1XFAAAAAAF3bcUAAAADQJ+pxQAAAAOB0AnJAAAAAEE4SckAAAAAQayByQAAAANCOL3JAAAAAgBtBckAAAADgDkhyQAAAANBxTXJAAAAAcD1GckAAAABwf0NyQAAAAJD/NXJAAAAAsAcgckAAAABQ1BJyQAAAABDECnJAAAAA4DYIckAAAAAgbgVyQAAAANAj+nFAAAAA0IHtcUAAAACQIuNxQAAAANDy23FAAAAAoAXVcUAAAACw79BxQAAAAKCaznFAAAAAANrbcUAAAACAKP1xQAAAAEDPIXJAAAAAgBJAckAAAAAg+VdyQAAAAOB5cHJAAAAAUGeDckAAAACQ2o5yQAAAAMDSknJAAAAAoL+OckAAAAAgk4VyQAAAAOC9YXJAAAAAQKlHckAAAABwqDhyQAAAANB/LXJAAAAAEKkickAAAABwMhtyQAAAAECJE3JAAAAAIAIJckAAAAAQWPxxQAAAAHA49XFAAAAAgPLucUAAAABwfuRxQAAAACCi23FAAAAAEJLgcUAAAAAQz/lxQAAAAOCmIHJAAAAA8KpFckAAAABwYGFyQAAAAPDEenJAAAAAEIyOckAAAADg7pxyQAAAAAC3pHJAAAAAoDmjckAAAABwNJZyQAAAAMD1dHJAAAAAkE1UckAAAABgm0ZyQAAAABCgQHJAAAAAkKA6ckAAAAAQkS1yQAAAAABuInJAAAAAgIIdckAAAACQiQ9yQAAAAGC0FXJAAAAAgAdqckAAAABgHrJyQAAAAJAGw3JAAAAAgJJ0ckAAAABQFFNyQAAAABD8UXJAAAAAMIQ5ckAAAACAkD1yQAAAALCye3JAAAAAAA6xckAAAAAwZbhyQAAAABC6anJAAAAA0OJJckAAAAAAUTRyQAAAADDPH3JAAAAAsLwZckA=",
                    "dtype": "f8"
                  },
                  "yaxis": "y"
                },
                {
                  "line": {
                    "color": "grey"
                  },
                  "name": "mean",
                  "type": "scatter",
                  "x": [
                    "2025-09-16T06:00:00",
                    "2025-09-16T07:00:00",
                    "2025-09-16T08:00:00",
                    "2025-09-16T09:00:00",
                    "2025-09-16T10:00:00",
                    "2025-09-16T11:00:00",
                    "2025-09-16T12:00:00",
                    "2025-09-16T13:00:00",
                    "2025-09-16T14:00:00",
                    "2025-09-16T15:00:00",
                    "2025-09-16T16:00:00",
                    "2025-09-16T17:00:00",
                    "2025-09-16T18:00:00",
                    "2025-09-16T19:00:00",
                    "2025-09-16T20:00:00",
                    "2025-09-16T21:00:00",
                    "2025-09-16T22:00:00",
                    "2025-09-16T23:00:00",
                    "2025-09-17T00:00:00",
                    "2025-09-17T01:00:00",
                    "2025-09-17T02:00:00",
                    "2025-09-17T03:00:00",
                    "2025-09-17T04:00:00",
                    "2025-09-17T05:00:00",
                    "2025-09-17T06:00:00",
                    "2025-09-17T07:00:00",
                    "2025-09-17T08:00:00",
                    "2025-09-17T09:00:00",
                    "2025-09-17T10:00:00",
                    "2025-09-17T11:00:00",
                    "2025-09-17T12:00:00",
                    "2025-09-17T13:00:00",
                    "2025-09-17T14:00:00",
                    "2025-09-17T15:00:00",
                    "2025-09-17T16:00:00",
                    "2025-09-17T17:00:00",
                    "2025-09-17T18:00:00",
                    "2025-09-17T19:00:00",
                    "2025-09-17T20:00:00",
                    "2025-09-17T21:00:00",
                    "2025-09-17T22:00:00",
                    "2025-09-17T23:00:00",
                    "2025-09-18T00:00:00",
                    "2025-09-18T01:00:00",
                    "2025-09-18T02:00:00",
                    "2025-09-18T03:00:00",
                    "2025-09-18T04:00:00",
                    "2025-09-18T05:00:00",
                    "2025-09-18T06:00:00",
                    "2025-09-18T07:00:00",
                    "2025-09-18T08:00:00",
                    "2025-09-18T09:00:00",
                    "2025-09-18T10:00:00",
                    "2025-09-18T11:00:00",
                    "2025-09-18T12:00:00",
                    "2025-09-18T13:00:00",
                    "2025-09-18T14:00:00",
                    "2025-09-18T15:00:00",
                    "2025-09-18T16:00:00",
                    "2025-09-18T17:00:00",
                    "2025-09-18T18:00:00",
                    "2025-09-18T19:00:00",
                    "2025-09-18T20:00:00",
                    "2025-09-18T21:00:00",
                    "2025-09-18T22:00:00",
                    "2025-09-18T23:00:00",
                    "2025-09-19T00:00:00",
                    "2025-09-19T01:00:00",
                    "2025-09-19T02:00:00",
                    "2025-09-19T03:00:00",
                    "2025-09-19T04:00:00",
                    "2025-09-19T05:00:00",
                    "2025-09-19T06:00:00",
                    "2025-09-19T07:00:00",
                    "2025-09-19T08:00:00",
                    "2025-09-19T09:00:00",
                    "2025-09-19T10:00:00",
                    "2025-09-19T11:00:00",
                    "2025-09-19T12:00:00",
                    "2025-09-19T13:00:00",
                    "2025-09-19T14:00:00",
                    "2025-09-19T15:00:00",
                    "2025-09-19T16:00:00",
                    "2025-09-19T17:00:00",
                    "2025-09-19T18:00:00",
                    "2025-09-19T19:00:00",
                    "2025-09-19T20:00:00",
                    "2025-09-19T21:00:00",
                    "2025-09-19T22:00:00",
                    "2025-09-19T23:00:00",
                    "2025-09-20T00:00:00",
                    "2025-09-20T01:00:00",
                    "2025-09-20T02:00:00",
                    "2025-09-20T03:00:00",
                    "2025-09-20T04:00:00",
                    "2025-09-20T05:00:00",
                    "2025-09-20T06:00:00",
                    "2025-09-20T07:00:00",
                    "2025-09-20T08:00:00",
                    "2025-09-20T09:00:00",
                    "2025-09-20T10:00:00",
                    "2025-09-20T11:00:00",
                    "2025-09-20T12:00:00",
                    "2025-09-20T13:00:00",
                    "2025-09-20T14:00:00",
                    "2025-09-20T15:00:00",
                    "2025-09-20T16:00:00",
                    "2025-09-20T17:00:00",
                    "2025-09-20T18:00:00",
                    "2025-09-20T19:00:00",
                    "2025-09-20T20:00:00",
                    "2025-09-20T21:00:00",
                    "2025-09-20T22:00:00",
                    "2025-09-20T23:00:00",
                    "2025-09-21T00:00:00",
                    "2025-09-21T01:00:00",
                    "2025-09-21T02:00:00",
                    "2025-09-21T03:00:00",
                    "2025-09-21T04:00:00",
                    "2025-09-21T05:00:00",
                    "2025-09-21T06:00:00",
                    "2025-09-21T07:00:00",
                    "2025-09-21T08:00:00",
                    "2025-09-21T09:00:00",
                    "2025-09-21T10:00:00",
                    "2025-09-21T11:00:00",
                    "2025-09-21T12:00:00",
                    "2025-09-21T13:00:00",
                    "2025-09-21T14:00:00",
                    "2025-09-21T15:00:00",
                    "2025-09-21T16:00:00",
                    "2025-09-21T17:00:00",
                    "2025-09-21T18:00:00",
                    "2025-09-21T19:00:00",
                    "2025-09-21T20:00:00",
                    "2025-09-21T21:00:00",
                    "2025-09-21T22:00:00",
                    "2025-09-21T23:00:00",
                    "2025-09-22T00:00:00",
                    "2025-09-22T01:00:00",
                    "2025-09-22T02:00:00",
                    "2025-09-22T03:00:00",
                    "2025-09-22T04:00:00",
                    "2025-09-22T05:00:00",
                    "2025-09-22T06:00:00"
                  ],
                  "y": {
                    "bdata": "rkfhQoPhcUB7FK6fq/FxQOF6FFZC/XFAuB6FQ6QEckBmZmb2SQ5yQHsUru9VHnJAexSuRzQpckCPwvVIKS9yQM3MzDTiKXJAmpmZcUcbckD2KFwnywhyQDMzM6Mu+HFA16NwjYXrcUCkcD1iReVxQB+F6wkS33FAcT0Kv/DYcUCkcD36E9NxQI/C9QhrzXFAFK5H2U/HcUD2KFw/u79xQAAAAJhyunFAzczMBCG3cUAfhespKbRxQEjhehT5sHFAH4XrCeO7cUAzMzO73NdxQK5H4fot83FAw/UoNKcDckBI4Xok8RJyQFyPwr1JIHJAKVyP6hwsckApXI8q8jNyQKRwPWrFOXJAmpmZWTA7ckBxPQonTjdyQOF6FLYrJXJAZmZm1qgMckAAAAAIbwByQHE9CkeF9nFApHA9MvnscUDsUbi+6uVxQLgehSPc33FApHA9govZcUC4HoVDA9JxQAAAAKC8ynFAMzMzE1/FcUB7FK4Pk8BxQDMzM9PyvHFAw/UoTLjGcUD2KFzvsOFxQMP1KGwyBXJAMzMzm2cqckC4HoVDC0pyQHE9ChdjY3JA16Nw3VN2ckDhehT22IFyQOF6FBathnJArkfhyliEckBcj8KVQXpyQK5H4VKRVnJAuB6Fq/s2ckBcj8JVKihyQDMzM6MNHHJAUrgeLXYOckApXI8y/gByQMP1KGQm83FA7FG4zmDmcUCF61EgANtxQLgehSse0HFA7FG4nrHIcUBI4XpULMRxQAAAAKBfwXFAzczM/PDHcUDXo3Bdk+dxQLgehQOsC3JAAAAA8JMwckCkcD0qTk9yQArXo5jqaHJAuB6FU719ckAfheuh24xyQClcjyJ0lXJAw/UoDG+VckCamZmB04lyQClcj5rkZnJACtejqEhGckBSuB79WTdyQIXrUbg4K3JAH4XrAS0eckBSuB5FGBNyQOxRuD4lC3JAhetRoPAFckAAAAAAAAD4/wAAAAAAAPj/MzMzO8T6cUAAAAAAAAD4/wAAAAAAAPj/PQrXU+T6cUAAAAAAAAD4/wAAAAAAAPj/ZmZmlsNSckAAAAAAAAD4/wAAAAAAAPj/CtejGGajckAAAAAAAAD4/wAAAAAAAPj/MzMzq5avckAAAAAAAAD4/wAAAAAAAPj/XI/CNYxjckAAAAAAAAD4/wAAAAAAAPj/zczMzHc9ckAAAAAAAAD4/wAAAAAAAPj/j8L1KLopckAAAAAAAAD4/wAAAAAAAPj/exSuRyQYckAAAAAAAAD4/wAAAAAAAPj/UrgeJVQWckAAAAAAAAD4/wAAAAAAAPj/XI/C3VtXckAAAAAAAAD4/wAAAAAAAPj/exSujz14ckAAAAAAAAD4/wAAAAAAAPj/4XoUBrNqckAAAAAAAAD4/wAAAAAAAPj/rkfhAngsckAAAAAAAAD4/wAAAAAAAPj/FK5H4dEQckAAAAAAAAD4/wAAAAAAAPj/9ihcb5j9cUAAAAAAAAD4/wAAAAAAAPj/PQrXe5DwcUAAAAAAAAD4/wAAAAAAAPj/hetR0L3rcUA=",
                    "dtype": "f8"
                  }
                }
              ],
              "layout": {
                "annotations": [
                  {
                    "font": {
                      "size": 16
                    },
                    "showarrow": false,
                    "text": "t_2m",
                    "x": 0.5,
                    "xanchor": "center",
                    "xref": "paper",
                    "y": 1,
                    "yanchor": "bottom",
                    "yref": "paper"
                  }
                ],
                "colorway": [
                  "#636EFA",
                  "#EF553B",
                  "#00CC96",
                  "#AB63FA",
                  "#FFA15A",
                  "#19D3F3",
                  "#FF6692",
                  "#B6E880",
                  "#FF97FF",
                  "#FECB52"
                ],
                "height": 750,
                "hovermode": "x",
                "plot_bgcolor": "white",
                "showlegend": false,
                "template": {
                  "data": {
                    "bar": [
                      {
                        "error_x": {
                          "color": "#2a3f5f"
                        },
                        "error_y": {
                          "color": "#2a3f5f"
                        },
                        "marker": {
                          "line": {
                            "color": "#E5ECF6",
                            "width": 0.5
                          },
                          "pattern": {
                            "fillmode": "overlay",
                            "size": 10,
                            "solidity": 0.2
                          }
                        },
                        "type": "bar"
                      }
                    ],
                    "barpolar": [
                      {
                        "marker": {
                          "line": {
                            "color": "#E5ECF6",
                            "width": 0.5
                          },
                          "pattern": {
                            "fillmode": "overlay",
                            "size": 10,
                            "solidity": 0.2
                          }
                        },
                        "type": "barpolar"
                      }
                    ],
                    "carpet": [
                      {
                        "aaxis": {
                          "endlinecolor": "#2a3f5f",
                          "gridcolor": "white",
                          "linecolor": "white",
                          "minorgridcolor": "white",
                          "startlinecolor": "#2a3f5f"
                        },
                        "baxis": {
                          "endlinecolor": "#2a3f5f",
                          "gridcolor": "white",
                          "linecolor": "white",
                          "minorgridcolor": "white",
                          "startlinecolor": "#2a3f5f"
                        },
                        "type": "carpet"
                      }
                    ],
                    "choropleth": [
                      {
                        "colorbar": {
                          "outlinewidth": 0,
                          "ticks": ""
                        },
                        "type": "choropleth"
                      }
                    ],
                    "contour": [
                      {
                        "colorbar": {
                          "outlinewidth": 0,
                          "ticks": ""
                        },
                        "colorscale": [
                          [
                            0,
                            "#0d0887"
                          ],
                          [
                            0.1111111111111111,
                            "#46039f"
                          ],
                          [
                            0.2222222222222222,
                            "#7201a8"
                          ],
                          [
                            0.3333333333333333,
                            "#9c179e"
                          ],
                          [
                            0.4444444444444444,
                            "#bd3786"
                          ],
                          [
                            0.5555555555555556,
                            "#d8576b"
                          ],
                          [
                            0.6666666666666666,
                            "#ed7953"
                          ],
                          [
                            0.7777777777777778,
                            "#fb9f3a"
                          ],
                          [
                            0.8888888888888888,
                            "#fdca26"
                          ],
                          [
                            1,
                            "#f0f921"
                          ]
                        ],
                        "type": "contour"
                      }
                    ],
                    "contourcarpet": [
                      {
                        "colorbar": {
                          "outlinewidth": 0,
                          "ticks": ""
                        },
                        "type": "contourcarpet"
                      }
                    ],
                    "heatmap": [
                      {
                        "colorbar": {
                          "outlinewidth": 0,
                          "ticks": ""
                        },
                        "colorscale": [
                          [
                            0,
                            "#0d0887"
                          ],
                          [
                            0.1111111111111111,
                            "#46039f"
                          ],
                          [
                            0.2222222222222222,
                            "#7201a8"
                          ],
                          [
                            0.3333333333333333,
                            "#9c179e"
                          ],
                          [
                            0.4444444444444444,
                            "#bd3786"
                          ],
                          [
                            0.5555555555555556,
                            "#d8576b"
                          ],
                          [
                            0.6666666666666666,
                            "#ed7953"
                          ],
                          [
                            0.7777777777777778,
                            "#fb9f3a"
                          ],
                          [
                            0.8888888888888888,
                            "#fdca26"
                          ],
                          [
                            1,
                            "#f0f921"
                          ]
                        ],
                        "type": "heatmap"
                      }
                    ],
                    "histogram": [
                      {
                        "marker": {
                          "pattern": {
                            "fillmode": "overlay",
                            "size": 10,
                            "solidity": 0.2
                          }
                        },
                        "type": "histogram"
                      }
                    ],
                    "histogram2d": [
                      {
                        "colorbar": {
                          "outlinewidth": 0,
                          "ticks": ""
                        },
                        "colorscale": [
                          [
                            0,
                            "#0d0887"
                          ],
                          [
                            0.1111111111111111,
                            "#46039f"
                          ],
                          [
                            0.2222222222222222,
                            "#7201a8"
                          ],
                          [
                            0.3333333333333333,
                            "#9c179e"
                          ],
                          [
                            0.4444444444444444,
                            "#bd3786"
                          ],
                          [
                            0.5555555555555556,
                            "#d8576b"
                          ],
                          [
                            0.6666666666666666,
                            "#ed7953"
                          ],
                          [
                            0.7777777777777778,
                            "#fb9f3a"
                          ],
                          [
                            0.8888888888888888,
                            "#fdca26"
                          ],
                          [
                            1,
                            "#f0f921"
                          ]
                        ],
                        "type": "histogram2d"
                      }
                    ],
                    "histogram2dcontour": [
                      {
                        "colorbar": {
                          "outlinewidth": 0,
                          "ticks": ""
                        },
                        "colorscale": [
                          [
                            0,
                            "#0d0887"
                          ],
                          [
                            0.1111111111111111,
                            "#46039f"
                          ],
                          [
                            0.2222222222222222,
                            "#7201a8"
                          ],
                          [
                            0.3333333333333333,
                            "#9c179e"
                          ],
                          [
                            0.4444444444444444,
                            "#bd3786"
                          ],
                          [
                            0.5555555555555556,
                            "#d8576b"
                          ],
                          [
                            0.6666666666666666,
                            "#ed7953"
                          ],
                          [
                            0.7777777777777778,
                            "#fb9f3a"
                          ],
                          [
                            0.8888888888888888,
                            "#fdca26"
                          ],
                          [
                            1,
                            "#f0f921"
                          ]
                        ],
                        "type": "histogram2dcontour"
                      }
                    ],
                    "mesh3d": [
                      {
                        "colorbar": {
                          "outlinewidth": 0,
                          "ticks": ""
                        },
                        "type": "mesh3d"
                      }
                    ],
                    "parcoords": [
                      {
                        "line": {
                          "colorbar": {
                            "outlinewidth": 0,
                            "ticks": ""
                          }
                        },
                        "type": "parcoords"
                      }
                    ],
                    "pie": [
                      {
                        "automargin": true,
                        "type": "pie"
                      }
                    ],
                    "scatter": [
                      {
                        "fillpattern": {
                          "fillmode": "overlay",
                          "size": 10,
                          "solidity": 0.2
                        },
                        "type": "scatter"
                      }
                    ],
                    "scatter3d": [
                      {
                        "line": {
                          "colorbar": {
                            "outlinewidth": 0,
                            "ticks": ""
                          }
                        },
                        "marker": {
                          "colorbar": {
                            "outlinewidth": 0,
                            "ticks": ""
                          }
                        },
                        "type": "scatter3d"
                      }
                    ],
                    "scattercarpet": [
                      {
                        "marker": {
                          "colorbar": {
                            "outlinewidth": 0,
                            "ticks": ""
                          }
                        },
                        "type": "scattercarpet"
                      }
                    ],
                    "scattergeo": [
                      {
                        "marker": {
                          "colorbar": {
                            "outlinewidth": 0,
                            "ticks": ""
                          }
                        },
                        "type": "scattergeo"
                      }
                    ],
                    "scattergl": [
                      {
                        "marker": {
                          "colorbar": {
                            "outlinewidth": 0,
                            "ticks": ""
                          }
                        },
                        "type": "scattergl"
                      }
                    ],
                    "scattermap": [
                      {
                        "marker": {
                          "colorbar": {
                            "outlinewidth": 0,
                            "ticks": ""
                          }
                        },
                        "type": "scattermap"
                      }
                    ],
                    "scattermapbox": [
                      {
                        "marker": {
                          "colorbar": {
                            "outlinewidth": 0,
                            "ticks": ""
                          }
                        },
                        "type": "scattermapbox"
                      }
                    ],
                    "scatterpolar": [
                      {
                        "marker": {
                          "colorbar": {
                            "outlinewidth": 0,
                            "ticks": ""
                          }
                        },
                        "type": "scatterpolar"
                      }
                    ],
                    "scatterpolargl": [
                      {
                        "marker": {
                          "colorbar": {
                            "outlinewidth": 0,
                            "ticks": ""
                          }
                        },
                        "type": "scatterpolargl"
                      }
                    ],
                    "scatterternary": [
                      {
                        "marker": {
                          "colorbar": {
                            "outlinewidth": 0,
                            "ticks": ""
                          }
                        },
                        "type": "scatterternary"
                      }
                    ],
                    "surface": [
                      {
                        "colorbar": {
                          "outlinewidth": 0,
                          "ticks": ""
                        },
                        "colorscale": [
                          [
                            0,
                            "#0d0887"
                          ],
                          [
                            0.1111111111111111,
                            "#46039f"
                          ],
                          [
                            0.2222222222222222,
                            "#7201a8"
                          ],
                          [
                            0.3333333333333333,
                            "#9c179e"
                          ],
                          [
                            0.4444444444444444,
                            "#bd3786"
                          ],
                          [
                            0.5555555555555556,
                            "#d8576b"
                          ],
                          [
                            0.6666666666666666,
                            "#ed7953"
                          ],
                          [
                            0.7777777777777778,
                            "#fb9f3a"
                          ],
                          [
                            0.8888888888888888,
                            "#fdca26"
                          ],
                          [
                            1,
                            "#f0f921"
                          ]
                        ],
                        "type": "surface"
                      }
                    ],
                    "table": [
                      {
                        "cells": {
                          "fill": {
                            "color": "#EBF0F8"
                          },
                          "line": {
                            "color": "white"
                          }
                        },
                        "header": {
                          "fill": {
                            "color": "#C8D4E3"
                          },
                          "line": {
                            "color": "white"
                          }
                        },
                        "type": "table"
                      }
                    ]
                  },
                  "layout": {
                    "annotationdefaults": {
                      "arrowcolor": "#2a3f5f",
                      "arrowhead": 0,
                      "arrowwidth": 1
                    },
                    "autotypenumbers": "strict",
                    "coloraxis": {
                      "colorbar": {
                        "outlinewidth": 0,
                        "ticks": ""
                      }
                    },
                    "colorscale": {
                      "diverging": [
                        [
                          0,
                          "#8e0152"
                        ],
                        [
                          0.1,
                          "#c51b7d"
                        ],
                        [
                          0.2,
                          "#de77ae"
                        ],
                        [
                          0.3,
                          "#f1b6da"
                        ],
                        [
                          0.4,
                          "#fde0ef"
                        ],
                        [
                          0.5,
                          "#f7f7f7"
                        ],
                        [
                          0.6,
                          "#e6f5d0"
                        ],
                        [
                          0.7,
                          "#b8e186"
                        ],
                        [
                          0.8,
                          "#7fbc41"
                        ],
                        [
                          0.9,
                          "#4d9221"
                        ],
                        [
                          1,
                          "#276419"
                        ]
                      ],
                      "sequential": [
                        [
                          0,
                          "#0d0887"
                        ],
                        [
                          0.1111111111111111,
                          "#46039f"
                        ],
                        [
                          0.2222222222222222,
                          "#7201a8"
                        ],
                        [
                          0.3333333333333333,
                          "#9c179e"
                        ],
                        [
                          0.4444444444444444,
                          "#bd3786"
                        ],
                        [
                          0.5555555555555556,
                          "#d8576b"
                        ],
                        [
                          0.6666666666666666,
                          "#ed7953"
                        ],
                        [
                          0.7777777777777778,
                          "#fb9f3a"
                        ],
                        [
                          0.8888888888888888,
                          "#fdca26"
                        ],
                        [
                          1,
                          "#f0f921"
                        ]
                      ],
                      "sequentialminus": [
                        [
                          0,
                          "#0d0887"
                        ],
                        [
                          0.1111111111111111,
                          "#46039f"
                        ],
                        [
                          0.2222222222222222,
                          "#7201a8"
                        ],
                        [
                          0.3333333333333333,
                          "#9c179e"
                        ],
                        [
                          0.4444444444444444,
                          "#bd3786"
                        ],
                        [
                          0.5555555555555556,
                          "#d8576b"
                        ],
                        [
                          0.6666666666666666,
                          "#ed7953"
                        ],
                        [
                          0.7777777777777778,
                          "#fb9f3a"
                        ],
                        [
                          0.8888888888888888,
                          "#fdca26"
                        ],
                        [
                          1,
                          "#f0f921"
                        ]
                      ]
                    },
                    "colorway": [
                      "#636efa",
                      "#EF553B",
                      "#00cc96",
                      "#ab63fa",
                      "#FFA15A",
                      "#19d3f3",
                      "#FF6692",
                      "#B6E880",
                      "#FF97FF",
                      "#FECB52"
                    ],
                    "font": {
                      "color": "#2a3f5f"
                    },
                    "geo": {
                      "bgcolor": "white",
                      "lakecolor": "white",
                      "landcolor": "#E5ECF6",
                      "showlakes": true,
                      "showland": true,
                      "subunitcolor": "white"
                    },
                    "hoverlabel": {
                      "align": "left"
                    },
                    "hovermode": "closest",
                    "mapbox": {
                      "style": "light"
                    },
                    "paper_bgcolor": "white",
                    "plot_bgcolor": "#E5ECF6",
                    "polar": {
                      "angularaxis": {
                        "gridcolor": "white",
                        "linecolor": "white",
                        "ticks": ""
                      },
                      "bgcolor": "#E5ECF6",
                      "radialaxis": {
                        "gridcolor": "white",
                        "linecolor": "white",
                        "ticks": ""
                      }
                    },
                    "scene": {
                      "xaxis": {
                        "backgroundcolor": "#E5ECF6",
                        "gridcolor": "white",
                        "gridwidth": 2,
                        "linecolor": "white",
                        "showbackground": true,
                        "ticks": "",
                        "zerolinecolor": "white"
                      },
                      "yaxis": {
                        "backgroundcolor": "#E5ECF6",
                        "gridcolor": "white",
                        "gridwidth": 2,
                        "linecolor": "white",
                        "showbackground": true,
                        "ticks": "",
                        "zerolinecolor": "white"
                      },
                      "zaxis": {
                        "backgroundcolor": "#E5ECF6",
                        "gridcolor": "white",
                        "gridwidth": 2,
                        "linecolor": "white",
                        "showbackground": true,
                        "ticks": "",
                        "zerolinecolor": "white"
                      }
                    },
                    "shapedefaults": {
                      "line": {
                        "color": "#2a3f5f"
                      }
                    },
                    "ternary": {
                      "aaxis": {
                        "gridcolor": "white",
                        "linecolor": "white",
                        "ticks": ""
                      },
                      "baxis": {
                        "gridcolor": "white",
                        "linecolor": "white",
                        "ticks": ""
                      },
                      "bgcolor": "#E5ECF6",
                      "caxis": {
                        "gridcolor": "white",
                        "linecolor": "white",
                        "ticks": ""
                      }
                    },
                    "title": {
                      "x": 0.05
                    },
                    "xaxis": {
                      "automargin": true,
                      "gridcolor": "white",
                      "linecolor": "white",
                      "ticks": "",
                      "title": {
                        "standoff": 15
                      },
                      "zerolinecolor": "white",
                      "zerolinewidth": 2
                    },
                    "yaxis": {
                      "automargin": true,
                      "gridcolor": "white",
                      "linecolor": "white",
                      "ticks": "",
                      "title": {
                        "standoff": 15
                      },
                      "zerolinecolor": "white",
                      "zerolinewidth": 2
                    }
                  }
                },
                "xaxis": {
                  "anchor": "y",
                  "domain": [
                    0,
                    1
                  ],
                  "gridwidth": 1,
                  "showgrid": false,
                  "showline": false,
                  "zeroline": false
                },
                "yaxis": {
                  "anchor": "x",
                  "domain": [
                    0,
                    1
                  ],
                  "gridcolor": "#EEEEEE",
                  "linecolor": "black",
                  "showgrid": true,
                  "showline": true,
                  "title": {
                    "text": "K"
                  },
                  "zeroline": false
                }
              }
            }
          },
          "metadata": {},
          "output_type": "display_data"
        }
      ],
      "source": [
        "from earthkit.plots.interactive import Chart\n",
        "\n",
        "TIME_FREQUENCY = \"1h\"\n",
        "QUANTILES = [0, 0.1, 0.25, 0.5, 0.75, 0.9, 1]\n",
        "\n",
        "chart = Chart()\n",
        "chart.box(ds_ch1, quantiles=QUANTILES, line_color=\"#ea5545\")\n",
        "chart.line(ds_ch1, aggregation=\"mean\", line_color=\"grey\", time_frequency=TIME_FREQUENCY)\n",
        "chart.box(ds_ch2, quantiles=QUANTILES, line_color=\"#ef9b20\")\n",
        "chart.line(ds_ch2, aggregation=\"mean\", line_color=\"grey\", time_frequency=TIME_FREQUENCY)\n",
        "chart.box(ds_ifs, quantiles=QUANTILES, line_color=\"#27aeef\")\n",
        "chart.line(ds_ifs, aggregation=\"mean\", line_color=\"grey\", time_frequency=TIME_FREQUENCY)\n",
        "\n",
        "chart.show()"
      ]
    }
  ],
  "metadata": {
    "kernelspec": {
      "display_name": "polytope demo-test-after-review",
      "language": "python",
      "name": "polytope-env"
    },
    "language_info": {
      "codemirror_mode": {
        "name": "ipython",
        "version": 3
      },
      "file_extension": ".py",
      "mimetype": "text/x-python",
      "name": "python",
      "nbconvert_exporter": "python",
      "pygments_lexer": "ipython3",
      "version": "3.11.9"
    }
  },
  "nbformat": 4,
  "nbformat_minor": 5
}
