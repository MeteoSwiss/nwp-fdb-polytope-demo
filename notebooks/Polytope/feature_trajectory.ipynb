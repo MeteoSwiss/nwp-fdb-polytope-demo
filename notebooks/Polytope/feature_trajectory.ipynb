{
 "cells": [
  {
   "cell_type": "markdown",
   "id": "d8f8370f",
   "metadata": {},
   "source": [
    "[![Open Rendered Output](https://img.shields.io/badge/Rendered%20Output-Open-blue?logo=link&logoColor=white)](https://htmlpreview.github.io/?https://raw.githubusercontent.com/MeteoSwiss/nwp-fdb-polytope-demo/main/notebooks/snapshots/feature_trajectory.html)"
   ]
  },
  {
   "cell_type": "markdown",
   "id": "1f7d72cd",
   "metadata": {},
   "source": [
    "# Trajectory Feature: Trajectories between MeteoSwiss Stations \n",
    "\n",
    "The following notebook demonstrates the full workflow to access, process and visualize trajectories of ICON-CH1-EPS temperature data between four MeteoSwiss locations. "
   ]
  },
  {
   "cell_type": "markdown",
   "id": "77425b62",
   "metadata": {},
   "source": [
    "<div style=\"text-align:center;\">\n",
    "  <img src=\"https://raw.githubusercontent.com/MeteoSwiss/nwp-fdb-polytope-demo/main/notebooks/Polytope/images/t_2m_trajectory.png\" style=\"width:50%;\"/>\n",
    "</div>"
   ]
  },
  {
   "cell_type": "markdown",
   "id": "82174c8f",
   "metadata": {},
   "source": [
    "The data is retrieved using [Polytope](https://polytope.readthedocs.io/en/latest/), a feature extraction software developed by ECMWF. It applies concepts of computational geometry to extract n-dimensional polygons (also known as polytopes) from datacubes, such as trajectories. To access MeteoSwiss' operational ICON-CH1-EPS and ICON-CH2-EPS model data, [meteodata-lab](https://meteoswiss.github.io/meteodata-lab/) provides a wrapper around the polytope client that simplifies the request API. Follow the instructions to learn more about model data access via Polytope."
   ]
  },
  {
   "cell_type": "markdown",
   "id": "013e920a",
   "metadata": {},
   "source": [
    "## Installation\n",
    "Follow the instructions in [README.md](https://github.com/MeteoSwiss/nwp-fdb-polytope-demo/blob/main/README.md#Installation-1) to install the necessary dependencies."
   ]
  },
  {
   "cell_type": "markdown",
   "id": "fa6f739e",
   "metadata": {},
   "source": [
    "## Configuring Access to Polytope\n",
    "To access ICON data via MeteoSwiss's Polytope, you need a Polytope offline token provided by MeteoSwiss. If you do not already have a token, you can request one [here](https://meteoswiss.atlassian.net/wiki/spaces/IW2/pages/327780397/Polytope#Offline-token-authentication). Then, create a new `config.yml` file based on [`config_example.yml`](config_example.yml), and replace <meteoswiss_key> with your access token there. "
   ]
  },
  {
   "cell_type": "code",
   "execution_count": null,
   "id": "0136d505",
   "metadata": {},
   "outputs": [],
   "source": [
    "import os\n",
    "import yaml\n",
    "\n",
    "def load_config(path=\"config.yml\"):\n",
    "    if not os.path.exists(path):\n",
    "        raise FileNotFoundError(\"Missing config.yml. Please create one based on config_example.yml.\")\n",
    "    with open(path, \"r\") as f:\n",
    "        return yaml.safe_load(f)\n",
    "\n",
    "config = load_config()\n",
    "\n",
    "#ICON-CSCS Polytope credentials\n",
    "os.environ[\"POLYTOPE_USER_KEY\"] = config[\"meteoswiss\"][\"key\"]\n",
    "os.environ[\"POLYTOPE_ADDRESS\"] = \"https://polytope-depl.mchml.cscs.ch\""
   ]
  },
  {
   "cell_type": "markdown",
   "id": "1e97e156",
   "metadata": {},
   "source": [
    "## Selecting date and time of the forecast\n",
    "\n",
    "The realtime FDB typically **includes only the most recent day of forecasts**. Therefore, it is necessary to specify the current date and select a corresponding forecast time in the past."
   ]
  },
  {
   "cell_type": "code",
   "execution_count": null,
   "id": "4c13aa2c",
   "metadata": {},
   "outputs": [],
   "source": [
    "from datetime import datetime, timedelta\n",
    "\n",
    "# Current time\n",
    "now = datetime.now()\n",
    "\n",
    "# Subtract 12 hours\n",
    "past_time = now - timedelta(hours=12)\n",
    "\n",
    "# Round down to the nearest multiple of 6\n",
    "rounded_hour = (past_time.hour // 6) * 6\n",
    "rounded_time = past_time.replace(hour=rounded_hour, minute=0, second=0, microsecond=0)\n",
    "\n",
    "# Format as YYYYMMDD and HHMM\n",
    "date = rounded_time.strftime('%Y%m%d')\n",
    "time = rounded_time.strftime('%H%M')\n",
    "date,time"
   ]
  },
  {
   "cell_type": "markdown",
   "id": "52d8aae0",
   "metadata": {},
   "source": [
    "## Select the geolocation\n",
    "We’ll request trajectories connecting all MeteoSwiss stations.\n",
    "\n",
    "To use the Polytope feature for extracting trajectories, it is necessary to rotate the given data points (here Zurich Airport, Payerne, Geneva and Locarno) since the data source accessed by Polytope is stored on a rotated grid. By using a South Pole rotation with a reference of longitude 10° and latitude of -43°, we are able to access the desired data points. \n",
    "> **IMPORTANT**: The function `transform_point()` expects first longitude and then latitude."
   ]
  },
  {
   "cell_type": "code",
   "execution_count": null,
   "id": "5ab28dc9",
   "metadata": {},
   "outputs": [],
   "source": [
    "import cartopy.crs as ccrs\n",
    "\n",
    "# points for the trajectory\n",
    "geo_points_dict = [\n",
    "    {\"name\" : \"Zurich Airport\", \"longitude\" : 8.565, \"latitude\" : 47.454},\n",
    "    {\"name\" : \"Payerne\", \"longitude\" : 6.933, \"latitude\" : 46.817},\n",
    "    {\"name\" : \"Geneva\", \"longitude\" : 6.143, \"latitude\" : 46.204},\n",
    "    {\"name\" : \"Locarno\", \"longitude\" : 8.799, \"latitude\" : 46.170},\n",
    "]\n",
    "\n",
    "geo_points = [(city[\"longitude\"], city[\"latitude\"]) for city in geo_points_dict]\n",
    "\n",
    "# South pole rotation of lon=10, latitude=-43\n",
    "rotated_crs = ccrs.RotatedPole(\n",
    "    pole_longitude=190, pole_latitude=43\n",
    ")\n",
    "\n",
    "# Convert a point from geographic to rotated coordinates\n",
    "geo_crs = ccrs.PlateCarree()\n",
    "rotated_points = [\n",
    "    rotated_crs.transform_point(lon, lat, geo_crs)\n",
    "    for lon, lat in geo_points\n",
    "]"
   ]
  },
  {
   "cell_type": "markdown",
   "id": "a5502e1d",
   "metadata": {},
   "source": [
    "## Define the request\n",
    "\n",
    "Once the points are rotated, we need to define a mars request using [meteodata-lab](https://polytope.readthedocs.io/en/latest/). The `feature` attribute allows you to extract **only the relevant data at the given points**. Thus, the amount of data that is retrieved from storage is significantly reduced. For the \"trajectory\" `feature` the following dictionary is needed.\n"
   ]
  },
  {
   "cell_type": "code",
   "execution_count": null,
   "id": "834a0588",
   "metadata": {},
   "outputs": [],
   "source": [
    "feature={\n",
    "    \"type\" : \"trajectory\",\n",
    "    \"points\" : rotated_points,\n",
    "    \"inflation\" : 0.05,\n",
    "    \"inflate\" : 'round',\n",
    "    \"axes\" : [\"longitude\", \"latitude\"],\n",
    "}"
   ]
  },
  {
   "cell_type": "markdown",
   "id": "2740095f",
   "metadata": {},
   "source": [
    "- The `inflation` key defines the size of the steps along the trajectory. If it is a single value, this will be the inflation along `longitude` and `latitude`. If it is a list of values, each value will correspond to the inflation of the corresponding axis described in the `axes` key. <br>\n",
    "- The `inflate` key defines the shape that flyes along the trajectory. For a 2D-field you can choose between `round` and `box`."
   ]
  },
  {
   "cell_type": "markdown",
   "id": "d29f9407",
   "metadata": {},
   "source": [
    "Finally, we can define the request. This example fetches **2-meter temperature** from **ICON-CH1-EPS** at the **surface**, for the **control forecast (cf)**, at the selected run date/time."
   ]
  },
  {
   "cell_type": "code",
   "execution_count": null,
   "id": "ecc7b3c5",
   "metadata": {},
   "outputs": [],
   "source": [
    "from meteodatalab import mars\n",
    "\n",
    "request = mars.Request(\n",
    "    param=\"T_2M\",\n",
    "    date=date,\n",
    "    time=time,\n",
    "    model=mars.Model.ICON_CH1_EPS,\n",
    "    levtype=mars.LevType.SURFACE,\n",
    "    type=\"cf\",\n",
    "    step=0,\n",
    "    feature=feature\n",
    ")"
   ]
  },
  {
   "cell_type": "markdown",
   "id": "33a27e3f",
   "metadata": {},
   "source": [
    "## Data retrieval\n",
    "Now we use [earthkit.data](https://earthkit-data.readthedocs.io/en/latest/) to load the data and convert it into an [xarray.Dataset](https://docs.xarray.dev/en/stable/generated/xarray.Dataset.html)."
   ]
  },
  {
   "cell_type": "code",
   "execution_count": null,
   "id": "b1da776f",
   "metadata": {},
   "outputs": [],
   "source": [
    "import earthkit.data as ekd\n",
    "ds = ekd.from_source(\n",
    "    \"polytope\",\n",
    "    \"mchgj\",\n",
    "    request.to_polytope(),\n",
    "    stream=False\n",
    ").to_xarray()"
   ]
  },
  {
   "cell_type": "markdown",
   "id": "287690bb",
   "metadata": {},
   "source": [
    "## Reverse rotation\n",
    "The data in the dataset contains rotated longitudes and latitudes. To plot it, we will reverse the rotation."
   ]
  },
  {
   "cell_type": "code",
   "execution_count": null,
   "id": "ca76d2ba",
   "metadata": {},
   "outputs": [],
   "source": [
    "unrotated_points = [\n",
    "    geo_crs.transform_point(lon, lat, rotated_crs)\n",
    "    for lon, lat in zip(ds.longitude,ds.latitude)\n",
    "]\n",
    "\n",
    "geo_lons, geo_lats = zip(*unrotated_points)\n",
    "\n",
    "ds_geo = ds.assign_coords(\n",
    "    longitude=(\"points\", list(geo_lons)),\n",
    "    latitude=(\"points\", list(geo_lats))\n",
    ")"
   ]
  },
  {
   "cell_type": "markdown",
   "id": "8455a10d",
   "metadata": {},
   "source": [
    "## Plotting\n",
    "\n",
    "We use the library [earthkit.plots](https://earthkit-plots.readthedocs.io/en/latest/) to plot the data. Moreover, we can specify a styling with [earthkit.plots.styles](https://earthkit-plots.readthedocs.io/en/latest/examples/guide/04-styles.html#4.-Styles) to show a color spectrum from red to blue and convert the unit to degrees Celsius for better readability."
   ]
  },
  {
   "cell_type": "code",
   "execution_count": null,
   "id": "ccfef983",
   "metadata": {},
   "outputs": [],
   "source": [
    "from earthkit.plots import Map\n",
    "from earthkit.plots.styles import Style\n",
    "from earthkit.plots.geo import bounds, domains\n",
    "\n",
    "xmin, xmax = 5, 11   # Longitude bounds\n",
    "ymin, ymax = 45.5, 48   # Latitude bounds\n",
    "\n",
    "crs = ccrs.Geodetic()\n",
    "\n",
    "bbox = bounds.BoundingBox(xmin, xmax, ymin, ymax, crs)\n",
    "domain = domains.Domain.from_bbox(\n",
    "    bbox=bbox,\n",
    "    name=\"CH2\"\n",
    ")\n",
    "\n",
    "style = Style(colors=\"RdBu_r\", units=\"celsius\")\n",
    "chart = Map(domain=domain)\n",
    "chart.point_cloud(ds_geo[\"t_2m\"], x=\"longitude\", y=\"latitude\", style=style)\n",
    "\n",
    "lons = [city[\"longitude\"]for city in geo_points_dict]\n",
    "lats = [city[\"latitude\"] for city in geo_points_dict]\n",
    "names = [city[\"name\"] for city in geo_points_dict]\n",
    "\n",
    "ax = chart.ax\n",
    "ax.plot(lons, lats, \".\", color=\"black\", markersize=10, transform=crs)\n",
    "\n",
    "chart.coastlines()\n",
    "chart.borders()\n",
    "chart.gridlines()\n",
    "\n",
    "\n",
    "chart.title(\"Trajectory Feature: 2-Meter Temperature at {datetimes}\")\n",
    "\n",
    "chart.legend()\n",
    "\n",
    "for lon, lat, name in zip(lons, lats, names):\n",
    "    ax.text(\n",
    "        lon, lat+0.1, name,\n",
    "        transform=crs,\n",
    "        fontsize=12,\n",
    "        color=\"black\",\n",
    "        ha=\"center\",\n",
    "        va=\"bottom\"\n",
    "    )\n",
    "\n",
    "chart.show()"
   ]
  }
 ],
 "metadata": {
  "kernelspec": {
   "display_name": "polytope demo",
   "language": "python",
   "name": "polytope-env"
  },
  "language_info": {
   "codemirror_mode": {
    "name": "ipython",
    "version": 3
   },
   "file_extension": ".py",
   "mimetype": "text/x-python",
   "name": "python",
   "nbconvert_exporter": "python",
   "pygments_lexer": "ipython3",
   "version": "3.11.8"
  }
 },
 "nbformat": 4,
 "nbformat_minor": 5
}
