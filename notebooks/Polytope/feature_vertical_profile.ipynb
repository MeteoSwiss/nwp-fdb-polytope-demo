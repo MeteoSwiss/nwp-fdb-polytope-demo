{
 "cells": [
  {
   "cell_type": "markdown",
   "id": "1f7d72cd",
   "metadata": {},
   "source": [
    "# Vertical Profile Feature\n",
    "\n",
    "The following notebook demonstrates the full workflow to access, process and visualize a vertical profile of ICON-CH1-EPS temperature data. "
   ]
  },
  {
   "cell_type": "markdown",
   "id": "77425b62",
   "metadata": {},
   "source": [
    "<div style=\"text-align:center;\">\n",
    "  <img src=\"./images/t_2m_vertical_profile.png\" style=\"width:70%;\"/>\n",
    "</div>"
   ]
  },
  {
   "cell_type": "markdown",
   "id": "82174c8f",
   "metadata": {},
   "source": [
    "The data is retrieved using [Polytope](https://polytope.readthedocs.io/en/latest/), a feature extraction software developed by ECMWF. It applies concepts of computational geometry to extract n-dimensional polygons (also known as polytopes) from datacubes, such as a vertical profile. To access MeteoSwiss' operational ICON-CH1-EPS and ICON-CH2-EPS model data, [meteodata-lab](https://meteoswiss.github.io/meteodata-lab/) provides a wrapper around the polytope client that simplifies the request API. Follow the instructions to learn more about model data access via Polytope."
   ]
  },
  {
   "cell_type": "markdown",
   "id": "013e920a",
   "metadata": {},
   "source": [
    "## Installation\n",
    "Follow the instructions in [README.md](https://github.com/MeteoSwiss/nwp-fdb-polytope-demo/blob/main/README.md#Installation-1) to install the necessary dependencies."
   ]
  },
  {
   "cell_type": "markdown",
   "id": "fa6f739e",
   "metadata": {},
   "source": [
    "## Configuring Access to Polytope\n",
    "To use ICON CSCS polytope, you need a polytope offline token provided by MeteoSwiss. If you do not already have a token, you can request one [here](https://meteoswiss.atlassian.net/wiki/spaces/IW2/pages/327780397/Polytope#Offline-token-authentication)."
   ]
  },
  {
   "cell_type": "code",
   "execution_count": null,
   "id": "0136d505",
   "metadata": {},
   "outputs": [],
   "source": [
    "import os\n",
    "import yaml\n",
    "\n",
    "def load_config(path=\"config.yml\"):\n",
    "    if not os.path.exists(path):\n",
    "        raise FileNotFoundError(\"Missing config.yml. Please create one based on config_example.yml.\")\n",
    "    with open(path, \"r\") as f:\n",
    "        return yaml.safe_load(f)\n",
    "\n",
    "config = load_config()\n",
    "\n",
    "#ICON-CSCS Polytope credentials\n",
    "os.environ[\"POLYTOPE_USER_KEY\"] = config[\"meteoswiss\"][\"key\"]\n",
    "os.environ[\"POLYTOPE_ADDRESS\"] = \"https://polytope-depl.mchml.cscs.ch\""
   ]
  },
  {
   "cell_type": "markdown",
   "id": "1e97e156",
   "metadata": {},
   "source": [
    "## Selecting date and time of the forecast\n",
    "\n",
    "The realtime FDB typically **includes only the most recent day of forecasts**. Therefore, it is necessary to specify the current date and select a corresponding forecast time in the past."
   ]
  },
  {
   "cell_type": "code",
   "execution_count": null,
   "id": "4c13aa2c",
   "metadata": {},
   "outputs": [],
   "source": [
    "from datetime import datetime, timedelta\n",
    "\n",
    "# Current time\n",
    "now = datetime.now()\n",
    "\n",
    "# Subtract 12 hours\n",
    "past_time = now - timedelta(hours=12)\n",
    "\n",
    "# Round down to the nearest multiple of 6\n",
    "rounded_hour = (past_time.hour // 6) * 6\n",
    "rounded_time = past_time.replace(hour=rounded_hour, minute=0, second=0, microsecond=0)\n",
    "\n",
    "# Format as YYYYMMDD and HHMM\n",
    "date = rounded_time.strftime('%Y%m%d')\n",
    "time = rounded_time.strftime('%H%M')\n",
    "date,time"
   ]
  },
  {
   "cell_type": "markdown",
   "id": "52d8aae0",
   "metadata": {},
   "source": [
    "## Define and rotate the polygon points\n",
    "\n",
    "To use the polytope feature, it is necessary to rotate the given data point (here Zurich Airport) using a South Pole rotation with a reference of longitude 10° and latitude of -43°. \n",
    "> **IMPORTANT**: The function `transform_point()` expects first longitude and then latitude."
   ]
  },
  {
   "cell_type": "code",
   "execution_count": null,
   "id": "5ab28dc9",
   "metadata": {},
   "outputs": [],
   "source": [
    "import cartopy.crs as ccrs\n",
    "\n",
    "# point for vertical profile\n",
    "zrh_geo_point = (8.565074, 47.453928)  # (longitude, latitude) in WGS84\n",
    "\n",
    "# South pole rotation of lon=10, latitude=-43\n",
    "rotated_crs = ccrs.RotatedPole(\n",
    "    pole_longitude=190, pole_latitude=43\n",
    ")\n",
    "\n",
    "# Convert a point from geographic to rotated coordinates\n",
    "geo_crs = ccrs.PlateCarree()\n",
    "rotated_point = rotated_crs.transform_point(zrh_geo_point[0], zrh_geo_point[1], geo_crs)"
   ]
  },
  {
   "cell_type": "markdown",
   "id": "a5502e1d",
   "metadata": {},
   "source": [
    "## Define the request\n",
    "\n",
    "Once the data is rotated, we need to define a mars request using [meteodata-lab](https://polytope.readthedocs.io/en/latest/). The `feature` attribute allows you to extract **only the relevant data at the given points**. Thus, the amount of data that is retrieved from storage is significantly reduced. For the \"vertical profile\" `feature` the following dictionary is needed.\n",
    "> **IMPORTANT**: Don't forget to specify that the data points are tuples that first contain longitude and then latitude."
   ]
  },
  {
   "cell_type": "code",
   "execution_count": null,
   "id": "834a0588",
   "metadata": {},
   "outputs": [],
   "source": [
    "feature={\n",
    "    \"type\" : \"verticalprofile\",\n",
    "    \"points\" : [rotated_point],\n",
    "    \"axes\" : \"levelist\"\n",
    "}"
   ]
  },
  {
   "cell_type": "markdown",
   "id": "d29f9407",
   "metadata": {},
   "source": [
    "Finally, we can define the request. This example fetches **2-m temperature** from **ICON-CH1-EPS** at the **pressure level** 100 to 850, for the **control forecast**, at the selected run date/time.\n",
    "- `type=\"pf\"` — perturbed member (requires `number`).\n",
    "- `type=\"cf\"` — control forecast (no `number`)."
   ]
  },
  {
   "cell_type": "code",
   "execution_count": null,
   "id": "ecc7b3c5",
   "metadata": {},
   "outputs": [],
   "source": [
    "from meteodatalab import mars\n",
    "\n",
    "request = mars.Request(\n",
    "    param=\"T\",\n",
    "    date=date,\n",
    "    time=time,\n",
    "    model=mars.Model.ICON_CH1_EPS,\n",
    "    levtype=mars.LevType.PRESSURE_LEVEL,\n",
    "    type=\"cf\",\n",
    "    step=0,\n",
    "    levelist=range(100,900,50),\n",
    "    feature=feature\n",
    ")"
   ]
  },
  {
   "cell_type": "markdown",
   "id": "33a27e3f",
   "metadata": {},
   "source": [
    "## Data retrieval\n",
    "Now we use [earthkit.data](https://earthkit-data.readthedocs.io/en/latest/) to load the data and convert it into an [xarray.Dataset](https://docs.xarray.dev/en/stable/generated/xarray.Dataset.html)."
   ]
  },
  {
   "cell_type": "code",
   "execution_count": null,
   "id": "b1da776f",
   "metadata": {},
   "outputs": [],
   "source": [
    "import earthkit.data as ekd\n",
    "ds = ekd.from_source(\n",
    "    \"polytope\",\n",
    "    \"mchgj\",\n",
    "    request.to_polytope(),\n",
    "    stream=False\n",
    ").to_xarray()"
   ]
  },
  {
   "cell_type": "markdown",
   "id": "8455a10d",
   "metadata": {},
   "source": [
    "## Plotting\n",
    "\n",
    "We use the library [earthkit.plots](https://earthkit-plots.readthedocs.io/en/latest/) to plot the data."
   ]
  },
  {
   "cell_type": "code",
   "execution_count": null,
   "id": "ccfef983",
   "metadata": {},
   "outputs": [],
   "source": [
    "from earthkit.plots.interactive import Chart\n",
    "\n",
    "da = ds[\"t\"].to_dataframe().reset_index()\n",
    "\n",
    "chart = Chart()\n",
    "\n",
    "# convert to degree Celsius\n",
    "chart.line(x=da[\"t\"].values - 273.15, y=da[\"levelist\"].values)\n",
    "\n",
    "# set axis names\n",
    "chart.fig.update_layout(xaxis1={\"title\": \"Temperature (°C)\"})\n",
    "chart.fig.update_layout(yaxis1={\"title\": \"Pressure levels (hPa)\"})\n",
    "chart.fig.update_yaxes(autorange=\"reversed\")\n",
    "\n",
    "chart.title(f\"Vertical Profile at Zurich Airport: Temperature (date={date}, time={time})\")\n",
    "\n",
    "chart.show()"
   ]
  }
 ],
 "metadata": {
  "kernelspec": {
   "display_name": "polytope demo",
   "language": "python",
   "name": "polytope-env"
  },
  "language_info": {
   "codemirror_mode": {
    "name": "ipython",
    "version": 3
   },
   "file_extension": ".py",
   "mimetype": "text/x-python",
   "name": "python",
   "nbconvert_exporter": "python",
   "pygments_lexer": "ipython3",
   "version": "3.11.8"
  }
 },
 "nbformat": 4,
 "nbformat_minor": 5
}
