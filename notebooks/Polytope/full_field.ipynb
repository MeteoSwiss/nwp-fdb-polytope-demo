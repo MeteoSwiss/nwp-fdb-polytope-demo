{
 "cells": [
  {
   "cell_type": "markdown",
   "id": "d8f8370f",
   "metadata": {},
   "source": [
    "[![Open Rendered Output](https://img.shields.io/badge/Rendered%20Output-Open-blue?logo=link&logoColor=white)](https://htmlpreview.github.io/?https://raw.githubusercontent.com/MeteoSwiss/nwp-fdb-polytope-demo/main/notebooks/snapshots/full_field.html)"
   ]
  },
  {
   "cell_type": "markdown",
   "id": "cf8eecc3",
   "metadata": {},
   "source": [
    "# ICON-CH1-EPS Full Horizontal Field with Polytope & earthkit\n",
    "\n",
    "The following notebook demonstrates the full workflow to access, process and visualize ICON-CH1-EPS model data on the full horizontal field using 2-meter temperature data. "
   ]
  },
  {
   "cell_type": "markdown",
   "id": "a378f24b",
   "metadata": {},
   "source": [
    "<div style=\"text-align:center;\">\n",
    "  <img src=\"https://raw.githubusercontent.com/MeteoSwiss/nwp-fdb-polytope-demo/main/notebooks/Polytope/images/t_2m_full_field.png\" style=\"width:70%;\"/>\n",
    "</div>"
   ]
  },
  {
   "cell_type": "markdown",
   "id": "d77db417",
   "metadata": {},
   "source": [
    "The data is retrieved using [Polytope](https://polytope.readthedocs.io/en/latest/), a feature extraction software developed by ECMWF. It applies concepts of computational geometry to extract n-dimensional polygons (also known as polytopes) from datacubes, also including the full horizontal field. To access MeteoSwiss' operational ICON-CH1-EPS and ICON-CH2-EPS model data, [meteodata-lab](https://meteoswiss.github.io/meteodata-lab/) provides a wrapper around the Polytope client that simplifies the request API. Follow the instructions to learn more about model data access via Polytope."
   ]
  },
  {
   "cell_type": "markdown",
   "id": "013e920a",
   "metadata": {},
   "source": [
    "## Installation\n",
    "Follow the instructions in [README.md](https://github.com/MeteoSwiss/nwp-fdb-polytope-demo/blob/main/README.md#Installation-1) to install the necessary dependencies."
   ]
  },
  {
   "cell_type": "markdown",
   "id": "fa6f739e",
   "metadata": {},
   "source": [
    "## Configuring Access to Polytope\n",
    "To access ICON data via MeteoSwiss's Polytope, you need a Polytope offline token provided by MeteoSwiss. If you do not already have a token, you can request one [here](https://meteoswiss.atlassian.net/wiki/spaces/IW2/pages/327780397/Polytope#Offline-token-authentication). Then, create a new `config.yml` file based on [`config_example.yml`](config_example.yml), and replace <meteoswiss_key> with your access token there. "
   ]
  },
  {
   "cell_type": "code",
   "execution_count": null,
   "id": "0136d505",
   "metadata": {},
   "outputs": [],
   "source": [
    "import os\n",
    "import yaml\n",
    "\n",
    "def load_config(path=\"config.yml\"):\n",
    "    if not os.path.exists(path):\n",
    "        raise FileNotFoundError(\"Missing config.yml. Please create one based on config_example.yml\")\n",
    "    with open(path, \"r\") as f:\n",
    "        return yaml.safe_load(f)\n",
    "\n",
    "config = load_config()\n",
    "\n",
    "#ICON-CSCS Polytope credentials\n",
    "os.environ[\"POLYTOPE_USER_KEY\"] = config[\"meteoswiss\"][\"key\"]\n",
    "os.environ[\"POLYTOPE_ADDRESS\"] = \"https://polytope-depl.mchml.cscs.ch\""
   ]
  },
  {
   "cell_type": "markdown",
   "id": "1e97e156",
   "metadata": {},
   "source": [
    "## Selecting date and time of the forecast\n",
    "\n",
    "The FDB containing real-time data typically **holds only the most recent day of forecasts**. Therefore, it is necessary to specify the current date and select a corresponding forecast time in the past."
   ]
  },
  {
   "cell_type": "code",
   "execution_count": null,
   "id": "4c13aa2c",
   "metadata": {},
   "outputs": [],
   "source": [
    "from datetime import datetime, timedelta\n",
    "\n",
    "# Current time\n",
    "now = datetime.now()\n",
    "\n",
    "# Subtract 12 hours\n",
    "past_time = now - timedelta(hours=12)\n",
    "\n",
    "# Round down to the nearest multiple of 6\n",
    "rounded_hour = (past_time.hour // 6) * 6\n",
    "rounded_time = past_time.replace(hour=rounded_hour, minute=0, second=0, microsecond=0)\n",
    "\n",
    "# Format as YYYYMMDD and HHMM\n",
    "date = rounded_time.strftime('%Y%m%d')\n",
    "time = rounded_time.strftime('%H%M')\n",
    "date,time"
   ]
  },
  {
   "cell_type": "markdown",
   "id": "a5502e1d",
   "metadata": {},
   "source": [
    "## Define the request\n",
    "\n",
    "While other notebooks in this folder demonstrate how to use Polytope for feature extraction (e.g., extracting subsets or regions of interest), this example shows that we can also access the full horizontal grid directly via Polytope. To access the data containing the complete horizontal field, we need to define a MARS request **without** the `feature` key. The `meteodatalab.mars` module provides tools to help build valid MARS requests in the context of MeteoSwiss.  \n",
    "\n",
    "This example fetches **2-m temperature** from **ICON-CH1-EPS** at the **surface**, for the **control forecast** (`type=\"cf\"`), at the selected run date/time."
   ]
  },
  {
   "cell_type": "code",
   "execution_count": null,
   "id": "ecc7b3c5",
   "metadata": {},
   "outputs": [],
   "source": [
    "from meteodatalab import mars\n",
    "\n",
    "request = mars.Request(\n",
    "    param=\"T_2M\",\n",
    "    date=date,\n",
    "    time=time,\n",
    "    model=mars.Model.ICON_CH1_EPS,\n",
    "    levtype=mars.LevType.SURFACE,\n",
    "    type=\"cf\",\n",
    "    step=0\n",
    ")"
   ]
  },
  {
   "cell_type": "markdown",
   "id": "33a27e3f",
   "metadata": {},
   "source": [
    "## Data retrieval\n",
    "Now we use [earthkit.data](https://earthkit-data.readthedocs.io/en/latest/) to load the data and convert it into an [xarray.Dataset](https://docs.xarray.dev/en/stable/generated/xarray.Dataset.html). Since we request the full horizonal data, we need to make sure to access the collection `mch`."
   ]
  },
  {
   "cell_type": "code",
   "execution_count": null,
   "id": "b1da776f",
   "metadata": {},
   "outputs": [],
   "source": [
    "import earthkit.data as ekd\n",
    "ds = ekd.from_source(\n",
    "    \"polytope\",\n",
    "    \"mch\",\n",
    "    request.to_polytope(),\n",
    "    stream=False\n",
    ").to_xarray()"
   ]
  },
  {
   "cell_type": "markdown",
   "id": "8455a10d",
   "metadata": {},
   "source": [
    "## Plotting\n",
    "\n",
    "We use the library [earthkit.plots](https://earthkit-plots.readthedocs.io/en/latest/) to plot the data. Moreover, we can specify a styling with [earthkit.plots.styles](https://earthkit-plots.readthedocs.io/en/latest/examples/guide/04-styles.html#4.-Styles) to show a color spectrum from red to blue and convert the unit to Celsius for better readability."
   ]
  },
  {
   "cell_type": "code",
   "execution_count": null,
   "id": "ccfef983",
   "metadata": {},
   "outputs": [],
   "source": [
    "from earthkit.plots import Map\n",
    "from earthkit.plots.styles import Style\n",
    "from earthkit.plots.geo import bounds, domains\n",
    "import cartopy.crs as ccrs\n",
    "\n",
    "xmin, xmax = 5.5, 11   # Longitude bounds\n",
    "ymin, ymax = 45.5, 48   # Latitude bounds\n",
    "\n",
    "bbox = bounds.BoundingBox(xmin, xmax, ymin, ymax, ccrs.Geodetic())\n",
    "domain = domains.Domain.from_bbox(\n",
    "    bbox=bbox,\n",
    "    name=\"CH2\"\n",
    ")\n",
    "\n",
    "style = Style(colors=\"RdBu_r\", units=\"celsius\")\n",
    "chart = Map(domain=domain)\n",
    "chart.point_cloud(ds[\"T_2M\"], x=\"longitude\", y=\"latitude\", style=style)\n",
    "\n",
    "chart.coastlines()\n",
    "chart.borders()\n",
    "chart.gridlines()\n",
    "\n",
    "\n",
    "chart.title(f\"2-Meter Temperature at {rounded_time.isoformat()}\")\n",
    "\n",
    "chart.legend()\n",
    "\n",
    "chart.show()"
   ]
  }
 ],
 "metadata": {
  "kernelspec": {
   "display_name": "polytope demo",
   "language": "python",
   "name": "3.11"
  },
  "language_info": {
   "codemirror_mode": {
    "name": "ipython",
    "version": 3
   },
   "file_extension": ".py",
   "mimetype": "text/x-python",
   "name": "python",
   "nbconvert_exporter": "python",
   "pygments_lexer": "ipython3",
   "version": "3.11.8"
  }
 },
 "nbformat": 4,
 "nbformat_minor": 5
}
