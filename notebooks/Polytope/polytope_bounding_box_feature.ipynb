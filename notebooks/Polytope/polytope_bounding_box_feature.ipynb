{
 "cells": [
  {
   "cell_type": "markdown",
   "id": "c275f633",
   "metadata": {},
   "source": [
    "# Polytop FDB Access"
   ]
  },
  {
   "cell_type": "markdown",
   "id": "14590001",
   "metadata": {},
   "source": [
    "## Installation\n",
    "See instruction in [Polytope installation](https://github.com/MeteoSwiss/nwp-fdb-polytope-demo/blob/main/README.md#Installation-1)"
   ]
  },
  {
   "cell_type": "markdown",
   "id": "cfcfc520",
   "metadata": {},
   "source": [
    "**Configuring Access to Polytope**"
   ]
  },
  {
   "cell_type": "code",
   "execution_count": null,
   "id": "d31a6eaa-f842-41f4-92e9-fa98c429c475",
   "metadata": {},
   "outputs": [],
   "source": [
    "import os\n",
    "from meteodatalab import mars\n",
    "\n",
    "#ECMWF polytope credentials\n",
    "# leave empty for ICON-CSCS polytope\n",
    "os.environ[\"POLYTOPE_USER_KEY\"] = \"\"\n",
    "os.environ[\"POLYTOPE_USER_EMAIL\"] = \"\"\n",
    "\n",
    "#ICON-CSCS polytope credentials\n",
    "# leave empty for ecmwf polytope\n",
    "os.environ[\"POLYTOPE_USER_KEY\"] = \"xxxx\"\n",
    "os.environ[\"POLYTOPE_ADDRESS\"] = \"https://polytope-dev.mchml.cscs.ch\"\n",
    "os.environ[\"POLYTOPE_LOG_LEVEL\"] = \"INFO\""
   ]
  },
  {
   "cell_type": "markdown",
   "id": "e31b92b1",
   "metadata": {},
   "source": [
    "**Selecting date,time of the forecast**"
   ]
  },
  {
   "cell_type": "code",
   "execution_count": null,
   "id": "ce42ef6c",
   "metadata": {},
   "outputs": [],
   "source": [
    "from datetime import datetime, timedelta\n",
    "\n",
    "# Current time\n",
    "now = datetime.now()\n",
    "\n",
    "# Subtract 12 hours\n",
    "past_time = now - timedelta(hours=12)\n",
    "\n",
    "# Round down to the nearest multiple of 6\n",
    "rounded_hour = (past_time.hour // 6) * 6\n",
    "rounded_time = past_time.replace(hour=rounded_hour, minute=0, second=0, microsecond=0)\n",
    "\n",
    "# Format as YYYYMMDD and HHMM\n",
    "date = rounded_time.strftime('%Y%m%d')\n",
    "time = rounded_time.strftime('%H%M')\n",
    "date,time\n"
   ]
  },
  {
   "cell_type": "markdown",
   "id": "b370671c",
   "metadata": {},
   "source": [
    "**Define and rotate bounding box points**"
   ]
  },
  {
   "cell_type": "code",
   "execution_count": null,
   "id": "210cc66b",
   "metadata": {},
   "outputs": [],
   "source": [
    "import cartopy.crs as ccrs\n",
    "# IMPORTANT: first longitude, then latitude\n",
    "\n",
    "# point 1: top left corner, point 2: bottem right corner\n",
    "geo_points = [[7, 47], [8, 46.5]]\n",
    "#geo_points = points\n",
    "\n",
    "# South pole rotation of lon=10, latitude=-43\n",
    "rotated_crs = ccrs.RotatedPole(\n",
    "    pole_longitude=190, pole_latitude=43\n",
    ")\n",
    "\n",
    "# Convert a point from geographic to rotated coordinates\n",
    "geo_crs = ccrs.PlateCarree()\n",
    "rotated_points = [\n",
    "    rotated_crs.transform_point(lon, lat, geo_crs)\n",
    "    for lon, lat in geo_points\n",
    "]\n",
    "\n",
    "rotated_points"
   ]
  },
  {
   "cell_type": "markdown",
   "id": "1dbc3266",
   "metadata": {},
   "source": [
    "**Define the request**"
   ]
  },
  {
   "cell_type": "code",
   "execution_count": null,
   "id": "51050159",
   "metadata": {},
   "outputs": [],
   "source": [
    "# IMPORTANT: first longitude, then latitude\n",
    "request = mars.Request(\n",
    "    param=\"T_2M\",\n",
    "    date=\"20250814\",\n",
    "    time=\"0600\",\n",
    "    model=mars.Model.ICON_CH1_EPS,\n",
    "    levtype=mars.LevType.SURFACE,\n",
    "    number=1,\n",
    "    step=0,\n",
    "    feature={\n",
    "        \"type\" : \"boundingbox\",\n",
    "        \"points\" : rotated_points,\n",
    "        \"axes\" : [\"longitude\", \"latitude\"]\n",
    "    }\n",
    ")"
   ]
  },
  {
   "cell_type": "markdown",
   "id": "1dd2a202",
   "metadata": {},
   "source": [
    "**Retrieve the data**"
   ]
  },
  {
   "cell_type": "code",
   "execution_count": null,
   "id": "2280b32a",
   "metadata": {},
   "outputs": [],
   "source": [
    "import earthkit.data as ekd\n",
    "ds = ekd.from_source(\n",
    "    \"polytope\",\n",
    "    \"mchgj\",\n",
    "    request.to_polytope(),\n",
    "    stream=False\n",
    ").to_xarray()"
   ]
  },
  {
   "cell_type": "markdown",
   "id": "f81d7941",
   "metadata": {},
   "source": [
    "**Rotate back to geo lat/lon**"
   ]
  },
  {
   "cell_type": "code",
   "execution_count": null,
   "id": "6676f1f2",
   "metadata": {},
   "outputs": [],
   "source": [
    "unrotated_points = [\n",
    "    geo_crs.transform_point(lon, lat, rotated_crs)\n",
    "    for lon, lat in zip(ds.longitude,ds.latitude)\n",
    "]\n",
    "\n",
    "geo_lons, geo_lats = zip(*unrotated_points)\n",
    "\n",
    "ds_geo = ds.assign_coords(\n",
    "    longitude=(\"points\", list(geo_lons)),\n",
    "    latitude=(\"points\", list(geo_lats))\n",
    ")"
   ]
  },
  {
   "cell_type": "markdown",
   "id": "c4b4e808",
   "metadata": {},
   "source": [
    "**Plot the data**"
   ]
  },
  {
   "cell_type": "code",
   "execution_count": null,
   "id": "0fa2c389",
   "metadata": {},
   "outputs": [],
   "source": [
    "from earthkit.plots import Map\n",
    "from earthkit.plots.geo import bounds, domains\n",
    "\n",
    "xmin, xmax = 5, 11   # Longitude bounds\n",
    "ymin, ymax = 45.5, 48   # Latitude bounds\n",
    "\n",
    "bbox = bounds.BoundingBox(xmin, xmax, ymin, ymax, ccrs.Geodetic())\n",
    "domain = domains.Domain.from_bbox(\n",
    "    bbox=bbox,\n",
    "    name=\"CH2\"\n",
    ")\n",
    "chart = Map(domain=domain)\n",
    "chart.grid_cells(ds_geo['t_2m'], x=\"longitude\", y=\"latitude\")\n",
    "\n",
    "chart.coastlines()\n",
    "chart.borders()\n",
    "chart.gridlines()\n",
    "\n",
    "\n",
    "chart.title(\"{variable_name} (number={number})\")\n",
    "\n",
    "chart.legend()\n",
    "\n",
    "chart.show()"
   ]
  }
 ],
 "metadata": {
  "kernelspec": {
   "display_name": "polytope demo",
   "language": "python",
   "name": "3.11"
  },
  "language_info": {
   "codemirror_mode": {
    "name": "ipython",
    "version": 3
   },
   "file_extension": ".py",
   "mimetype": "text/x-python",
   "name": "python",
   "nbconvert_exporter": "python",
   "pygments_lexer": "ipython3",
   "version": "3.11.8"
  }
 },
 "nbformat": 4,
 "nbformat_minor": 5
}
