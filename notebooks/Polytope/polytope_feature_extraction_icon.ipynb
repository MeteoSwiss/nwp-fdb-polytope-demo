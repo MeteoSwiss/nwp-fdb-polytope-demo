{
 "cells": [
  {
   "cell_type": "markdown",
   "id": "c275f633",
   "metadata": {},
   "source": [
    "# Location and Time Series Access Using Polytope Feature Extraction\n",
    "\n",
    "This notebook showcases efficient geo-location and time series access using polytope feature extraction. By leveraging this feature, we significantly reduce data retrieval from storage, optimizing workflows and resource utilization."
   ]
  },
  {
   "cell_type": "markdown",
   "id": "14590001",
   "metadata": {},
   "source": [
    "## Installation\n",
    "See instruction in [Polytope installation](https://github.com/MeteoSwiss/nwp-fdb-polytope-demo/blob/main/README.md#Installation-1)"
   ]
  },
  {
   "cell_type": "markdown",
   "id": "cfcfc520",
   "metadata": {},
   "source": [
    "**Configuring Access to Polytope**"
   ]
  },
  {
   "cell_type": "code",
   "execution_count": null,
   "id": "d31a6eaa-f842-41f4-92e9-fa98c429c475",
   "metadata": {},
   "outputs": [],
   "source": [
    "import os\n",
    "import dataclasses as dc\n",
    "from meteodatalab import mars\n",
    "\n",
    "#ECMWF polytope credentials\n",
    "# leave empty for ICON-CSCS polytope\n",
    "os.environ[\"POLYTOPE_USER_KEY\"] = \"\"\n",
    "os.environ[\"POLYTOPE_USER_EMAIL\"] = \"\"\n",
    "\n",
    "#ICON-CSCS polytope credentials\n",
    "# leave empty for ecmwf polytope\n",
    "os.environ[\"POLYTOPE_USER_KEY\"] = \"xxxx\"\n",
    "os.environ[\"POLYTOPE_ADDRESS\"] = \"https://polytope-dev.mchml.cscs.ch\"\n",
    "os.environ[\"POLYTOPE_LOG_LEVEL\"] = \"INFO\""
   ]
  },
  {
   "cell_type": "markdown",
   "id": "b9dc71fd",
   "metadata": {},
   "source": [
    "**Selecting geo-location point of interest in rotated lat-lon grid (ICON-CH1 & ICON-CH2) as well as in geographical coordinates**"
   ]
  },
  {
   "cell_type": "code",
   "execution_count": 28,
   "id": "397d3f67",
   "metadata": {},
   "outputs": [],
   "source": [
    "import cartopy.crs as ccrs\n",
    "import numpy as np\n",
    "#zrh_gc = (8.55,47.3367)\n",
    "rot_coord = (0,0)\n",
    "\n",
    "\n",
    "# South pole rotation of lon=10, latitude=-43\n",
    "rotated_crs = ccrs.RotatedPole(\n",
    "    pole_longitude=190, pole_latitude=43\n",
    ")\n",
    "\n",
    "# Convert a point from geographic to rotated coordinates\n",
    "original_crs = ccrs.PlateCarree()\n",
    "(x,y) = original_crs.transform_point(*rot_coord, rotated_crs)\n",
    "rotated_point = mars.Point(*rot_coord[::-1])\n",
    "geo_point = mars.Point(y,x)\n"
   ]
  },
  {
   "cell_type": "markdown",
   "id": "e31b92b1",
   "metadata": {},
   "source": [
    "**Selecting date,time of the forecast**"
   ]
  },
  {
   "cell_type": "code",
   "execution_count": null,
   "id": "ce42ef6c",
   "metadata": {},
   "outputs": [],
   "source": [
    "from datetime import datetime, timedelta\n",
    "\n",
    "# Current time\n",
    "now = datetime.now()\n",
    "\n",
    "# Subtract 12 hours\n",
    "past_time = now - timedelta(hours=12)\n",
    "\n",
    "# Round down to the nearest multiple of 6\n",
    "rounded_hour = (past_time.hour // 6) * 6\n",
    "rounded_time = past_time.replace(hour=rounded_hour, minute=0, second=0, microsecond=0)\n",
    "\n",
    "# Format as YYYYMMDD and HHMM\n",
    "date = rounded_time.strftime('%Y%m%d')\n",
    "time = rounded_time.strftime('%H%M')\n",
    "date,time\n"
   ]
  },
  {
   "cell_type": "markdown",
   "id": "b370671c",
   "metadata": {},
   "source": [
    "**Querying the data** <br>\n",
    "The `feature` attribute tells polytope to extract **only the relevant data at the given point**.\n",
    "The amount of data that is retrieved from storage is signficantly reduced."
   ]
  },
  {
   "cell_type": "code",
   "execution_count": 30,
   "id": "51050159",
   "metadata": {},
   "outputs": [],
   "source": [
    "request = mars.Request(\n",
    "    param=\"T_2M\",\n",
    "    date=date,\n",
    "    time=time,\n",
    "    model=mars.Model.ICON_CH2_EPS,\n",
    "    levtype=mars.LevType.SURFACE,\n",
    "    number=1,\n",
    "    feature=mars.TimeseriesFeature(\n",
    "        points=[rotated_point],\n",
    "        range=mars.Range(start=0, end=120),\n",
    "        time_axis=\"step\",\n",
    "    )\n",
    ")"
   ]
  },
  {
   "cell_type": "code",
   "execution_count": null,
   "id": "2280b32a",
   "metadata": {},
   "outputs": [],
   "source": [
    "import earthkit.data as ekd\n",
    "ds = ekd.from_source(\n",
    "    \"polytope\",\n",
    "    \"mchgj\",\n",
    "    request.to_polytope(),\n",
    "    stream=False\n",
    ").to_xarray()"
   ]
  },
  {
   "cell_type": "markdown",
   "id": "f64a4028",
   "metadata": {},
   "source": [
    "**Plot the results**"
   ]
  },
  {
   "cell_type": "code",
   "execution_count": null,
   "id": "0001b5a3",
   "metadata": {},
   "outputs": [
    {
     "data": {
      "application/vnd.plotly.v1+json": {
       "config": {
        "plotlyServerURL": "https://plot.ly"
       },
       "data": [
        {
         "type": "scatter",
         "x": [
          "2025-07-09T00:00:00",
          "2025-07-09T01:00:00",
          "2025-07-09T02:00:00",
          "2025-07-09T03:00:00",
          "2025-07-09T04:00:00",
          "2025-07-09T05:00:00",
          "2025-07-09T06:00:00",
          "2025-07-09T07:00:00",
          "2025-07-09T08:00:00",
          "2025-07-09T09:00:00",
          "2025-07-09T10:00:00",
          "2025-07-09T11:00:00",
          "2025-07-09T12:00:00",
          "2025-07-09T13:00:00",
          "2025-07-09T14:00:00",
          "2025-07-09T15:00:00",
          "2025-07-09T16:00:00",
          "2025-07-09T17:00:00",
          "2025-07-09T18:00:00",
          "2025-07-09T19:00:00",
          "2025-07-09T20:00:00",
          "2025-07-09T21:00:00",
          "2025-07-09T22:00:00",
          "2025-07-09T23:00:00",
          "2025-07-10T00:00:00",
          "2025-07-10T01:00:00",
          "2025-07-10T02:00:00",
          "2025-07-10T03:00:00",
          "2025-07-10T04:00:00",
          "2025-07-10T05:00:00",
          "2025-07-10T06:00:00",
          "2025-07-10T07:00:00",
          "2025-07-10T08:00:00",
          "2025-07-10T09:00:00",
          "2025-07-10T10:00:00",
          "2025-07-10T11:00:00",
          "2025-07-10T12:00:00",
          "2025-07-10T13:00:00",
          "2025-07-10T14:00:00",
          "2025-07-10T15:00:00",
          "2025-07-10T16:00:00",
          "2025-07-10T17:00:00",
          "2025-07-10T18:00:00",
          "2025-07-10T19:00:00",
          "2025-07-10T20:00:00",
          "2025-07-10T21:00:00",
          "2025-07-10T22:00:00",
          "2025-07-10T23:00:00",
          "2025-07-11T00:00:00",
          "2025-07-11T01:00:00",
          "2025-07-11T02:00:00",
          "2025-07-11T03:00:00",
          "2025-07-11T04:00:00",
          "2025-07-11T05:00:00",
          "2025-07-11T06:00:00",
          "2025-07-11T07:00:00",
          "2025-07-11T08:00:00",
          "2025-07-11T09:00:00",
          "2025-07-11T10:00:00",
          "2025-07-11T11:00:00",
          "2025-07-11T12:00:00",
          "2025-07-11T13:00:00",
          "2025-07-11T14:00:00",
          "2025-07-11T15:00:00",
          "2025-07-11T16:00:00",
          "2025-07-11T17:00:00",
          "2025-07-11T18:00:00",
          "2025-07-11T19:00:00",
          "2025-07-11T20:00:00",
          "2025-07-11T21:00:00",
          "2025-07-11T22:00:00",
          "2025-07-11T23:00:00",
          "2025-07-12T00:00:00",
          "2025-07-12T01:00:00",
          "2025-07-12T02:00:00",
          "2025-07-12T03:00:00",
          "2025-07-12T04:00:00",
          "2025-07-12T05:00:00",
          "2025-07-12T06:00:00",
          "2025-07-12T07:00:00",
          "2025-07-12T08:00:00",
          "2025-07-12T09:00:00",
          "2025-07-12T10:00:00",
          "2025-07-12T11:00:00",
          "2025-07-12T12:00:00",
          "2025-07-12T13:00:00",
          "2025-07-12T14:00:00",
          "2025-07-12T15:00:00",
          "2025-07-12T16:00:00",
          "2025-07-12T17:00:00",
          "2025-07-12T18:00:00",
          "2025-07-12T19:00:00",
          "2025-07-12T20:00:00",
          "2025-07-12T21:00:00",
          "2025-07-12T22:00:00",
          "2025-07-12T23:00:00",
          "2025-07-13T00:00:00",
          "2025-07-13T01:00:00",
          "2025-07-13T02:00:00",
          "2025-07-13T03:00:00",
          "2025-07-13T04:00:00",
          "2025-07-13T05:00:00",
          "2025-07-13T06:00:00",
          "2025-07-13T07:00:00",
          "2025-07-13T08:00:00",
          "2025-07-13T09:00:00",
          "2025-07-13T10:00:00",
          "2025-07-13T11:00:00",
          "2025-07-13T12:00:00",
          "2025-07-13T13:00:00",
          "2025-07-13T14:00:00",
          "2025-07-13T15:00:00",
          "2025-07-13T16:00:00",
          "2025-07-13T17:00:00",
          "2025-07-13T18:00:00",
          "2025-07-13T19:00:00",
          "2025-07-13T20:00:00",
          "2025-07-13T21:00:00",
          "2025-07-13T22:00:00",
          "2025-07-13T23:00:00",
          "2025-07-14T00:00:00"
         ],
         "y": {
          "bdata": "AAAAAGRecUAAAACAJWxxQAAAAODCbHFAAAAAgLlocUAAAACg/mVxQAAAACCtZXFAAAAA4FxucUAAAADACm1xQAAAAAC9e3FAAAAAoIiJcUAAAADgr6txQAAAACAbt3FAAAAA4OrIcUAAAABgBsFxQAAAAEDKynFAAAAA4JnPcUAAAAAgMcVxQAAAAIBHuXFAAAAAQMSwcUAAAADgxqZxQAAAAACBnHFAAAAA4NqOcUAAAABAF4dxQAAAAKBsgXFAAAAAwO+AcUAAAACganhxQAAAACD6dHFAAAAAINB0cUAAAAAAeHRxQAAAAEBEh3FAAAAA4CaecUAAAABAdrJxQAAAAEDAzXFAAAAAYKrjcUAAAABA8fVxQAAAAIDZBHJAAAAAYDkQckAAAACAjRZyQAAAAKASFnJAAAAAYKIRckAAAABAigpyQAAAAOCOAnJAAAAAwCPzcUAAAACgTd1xQAAAAIBjzHFAAAAAQPvCcUAAAACgzsNxQAAAAKDkuHFAAAAAQNa1cUAAAABgArJxQAAAAADJrXFAAAAAIEmrcUAAAAAAaapxQAAAACAPt3FAAAAAYJLFcUAAAACAVdtxQAAAAKCx8XFAAAAA4LMBckAAAAAgWgVyQAAAAECQEXJAAAAA4E8cckAAAABgRCJyQAAAAEDSI3JAAAAAoDAfckAAAABgEBlyQAAAAKB7DnJAAAAAgOz8cUAAAACgGedxQAAAAKDZ2HFAAAAAQGPPcUAAAABA7MZxQAAAAKC6v3FAAAAAQCfDcUAAAAAAZb9xQAAAAMC5unFAAAAAIKi1cUAAAACgw7JxQAAAAGBwv3FAAAAA4CDVcUAAAACgCedxQAAAAEAxAXJAAAAAIEMSckAAAAAgRR9yQAAAAMBXKnJAAAAAgDwwckAAAADgOC9yQAAAAMCNLXJAAAAAgCsockAAAACgQiByQAAAAACmGnJAAAAAgOIQckAAAABg/vhxQAAAAABA5HFAAAAA4IDacUAAAADAiNdxQAAAAECB03FAAAAA4J7TcUAAAADgotBxQAAAAACiynFAAAAA4LbIcUAAAAAgwMZxQAAAAEBB0HFAAAAAILDwcUAAAABgOwpyQAAAAGC8HXJAAAAAYO0ockAAAABArjZyQAAAAIDlRHJAAAAAYGlNckAAAADg2lJyQAAAAMASVnJAAAAAgMVJckAAAABA+URyQAAAAMDOQHJAAAAAwLAwckAAAADANBByQAAAAADR/3FAAAAAoIP4cUAAAAAg7PBxQAAAAIC453FAAAAAoF3hcUA=",
          "dtype": "f8"
         }
        }
       ],
       "layout": {
        "annotations": [
         {
          "font": {
           "size": 16
          },
          "showarrow": false,
          "text": "t_2m",
          "x": 0.5,
          "xanchor": "center",
          "xref": "paper",
          "y": 1,
          "yanchor": "bottom",
          "yref": "paper"
         }
        ],
        "colorway": [
         "#636EFA",
         "#EF553B",
         "#00CC96",
         "#AB63FA",
         "#FFA15A",
         "#19D3F3",
         "#FF6692",
         "#B6E880",
         "#FF97FF",
         "#FECB52"
        ],
        "height": 750,
        "hovermode": "x",
        "plot_bgcolor": "white",
        "showlegend": false,
        "template": {
         "data": {
          "bar": [
           {
            "error_x": {
             "color": "#2a3f5f"
            },
            "error_y": {
             "color": "#2a3f5f"
            },
            "marker": {
             "line": {
              "color": "#E5ECF6",
              "width": 0.5
             },
             "pattern": {
              "fillmode": "overlay",
              "size": 10,
              "solidity": 0.2
             }
            },
            "type": "bar"
           }
          ],
          "barpolar": [
           {
            "marker": {
             "line": {
              "color": "#E5ECF6",
              "width": 0.5
             },
             "pattern": {
              "fillmode": "overlay",
              "size": 10,
              "solidity": 0.2
             }
            },
            "type": "barpolar"
           }
          ],
          "carpet": [
           {
            "aaxis": {
             "endlinecolor": "#2a3f5f",
             "gridcolor": "white",
             "linecolor": "white",
             "minorgridcolor": "white",
             "startlinecolor": "#2a3f5f"
            },
            "baxis": {
             "endlinecolor": "#2a3f5f",
             "gridcolor": "white",
             "linecolor": "white",
             "minorgridcolor": "white",
             "startlinecolor": "#2a3f5f"
            },
            "type": "carpet"
           }
          ],
          "choropleth": [
           {
            "colorbar": {
             "outlinewidth": 0,
             "ticks": ""
            },
            "type": "choropleth"
           }
          ],
          "contour": [
           {
            "colorbar": {
             "outlinewidth": 0,
             "ticks": ""
            },
            "colorscale": [
             [
              0,
              "#0d0887"
             ],
             [
              0.1111111111111111,
              "#46039f"
             ],
             [
              0.2222222222222222,
              "#7201a8"
             ],
             [
              0.3333333333333333,
              "#9c179e"
             ],
             [
              0.4444444444444444,
              "#bd3786"
             ],
             [
              0.5555555555555556,
              "#d8576b"
             ],
             [
              0.6666666666666666,
              "#ed7953"
             ],
             [
              0.7777777777777778,
              "#fb9f3a"
             ],
             [
              0.8888888888888888,
              "#fdca26"
             ],
             [
              1,
              "#f0f921"
             ]
            ],
            "type": "contour"
           }
          ],
          "contourcarpet": [
           {
            "colorbar": {
             "outlinewidth": 0,
             "ticks": ""
            },
            "type": "contourcarpet"
           }
          ],
          "heatmap": [
           {
            "colorbar": {
             "outlinewidth": 0,
             "ticks": ""
            },
            "colorscale": [
             [
              0,
              "#0d0887"
             ],
             [
              0.1111111111111111,
              "#46039f"
             ],
             [
              0.2222222222222222,
              "#7201a8"
             ],
             [
              0.3333333333333333,
              "#9c179e"
             ],
             [
              0.4444444444444444,
              "#bd3786"
             ],
             [
              0.5555555555555556,
              "#d8576b"
             ],
             [
              0.6666666666666666,
              "#ed7953"
             ],
             [
              0.7777777777777778,
              "#fb9f3a"
             ],
             [
              0.8888888888888888,
              "#fdca26"
             ],
             [
              1,
              "#f0f921"
             ]
            ],
            "type": "heatmap"
           }
          ],
          "histogram": [
           {
            "marker": {
             "pattern": {
              "fillmode": "overlay",
              "size": 10,
              "solidity": 0.2
             }
            },
            "type": "histogram"
           }
          ],
          "histogram2d": [
           {
            "colorbar": {
             "outlinewidth": 0,
             "ticks": ""
            },
            "colorscale": [
             [
              0,
              "#0d0887"
             ],
             [
              0.1111111111111111,
              "#46039f"
             ],
             [
              0.2222222222222222,
              "#7201a8"
             ],
             [
              0.3333333333333333,
              "#9c179e"
             ],
             [
              0.4444444444444444,
              "#bd3786"
             ],
             [
              0.5555555555555556,
              "#d8576b"
             ],
             [
              0.6666666666666666,
              "#ed7953"
             ],
             [
              0.7777777777777778,
              "#fb9f3a"
             ],
             [
              0.8888888888888888,
              "#fdca26"
             ],
             [
              1,
              "#f0f921"
             ]
            ],
            "type": "histogram2d"
           }
          ],
          "histogram2dcontour": [
           {
            "colorbar": {
             "outlinewidth": 0,
             "ticks": ""
            },
            "colorscale": [
             [
              0,
              "#0d0887"
             ],
             [
              0.1111111111111111,
              "#46039f"
             ],
             [
              0.2222222222222222,
              "#7201a8"
             ],
             [
              0.3333333333333333,
              "#9c179e"
             ],
             [
              0.4444444444444444,
              "#bd3786"
             ],
             [
              0.5555555555555556,
              "#d8576b"
             ],
             [
              0.6666666666666666,
              "#ed7953"
             ],
             [
              0.7777777777777778,
              "#fb9f3a"
             ],
             [
              0.8888888888888888,
              "#fdca26"
             ],
             [
              1,
              "#f0f921"
             ]
            ],
            "type": "histogram2dcontour"
           }
          ],
          "mesh3d": [
           {
            "colorbar": {
             "outlinewidth": 0,
             "ticks": ""
            },
            "type": "mesh3d"
           }
          ],
          "parcoords": [
           {
            "line": {
             "colorbar": {
              "outlinewidth": 0,
              "ticks": ""
             }
            },
            "type": "parcoords"
           }
          ],
          "pie": [
           {
            "automargin": true,
            "type": "pie"
           }
          ],
          "scatter": [
           {
            "fillpattern": {
             "fillmode": "overlay",
             "size": 10,
             "solidity": 0.2
            },
            "type": "scatter"
           }
          ],
          "scatter3d": [
           {
            "line": {
             "colorbar": {
              "outlinewidth": 0,
              "ticks": ""
             }
            },
            "marker": {
             "colorbar": {
              "outlinewidth": 0,
              "ticks": ""
             }
            },
            "type": "scatter3d"
           }
          ],
          "scattercarpet": [
           {
            "marker": {
             "colorbar": {
              "outlinewidth": 0,
              "ticks": ""
             }
            },
            "type": "scattercarpet"
           }
          ],
          "scattergeo": [
           {
            "marker": {
             "colorbar": {
              "outlinewidth": 0,
              "ticks": ""
             }
            },
            "type": "scattergeo"
           }
          ],
          "scattergl": [
           {
            "marker": {
             "colorbar": {
              "outlinewidth": 0,
              "ticks": ""
             }
            },
            "type": "scattergl"
           }
          ],
          "scattermap": [
           {
            "marker": {
             "colorbar": {
              "outlinewidth": 0,
              "ticks": ""
             }
            },
            "type": "scattermap"
           }
          ],
          "scattermapbox": [
           {
            "marker": {
             "colorbar": {
              "outlinewidth": 0,
              "ticks": ""
             }
            },
            "type": "scattermapbox"
           }
          ],
          "scatterpolar": [
           {
            "marker": {
             "colorbar": {
              "outlinewidth": 0,
              "ticks": ""
             }
            },
            "type": "scatterpolar"
           }
          ],
          "scatterpolargl": [
           {
            "marker": {
             "colorbar": {
              "outlinewidth": 0,
              "ticks": ""
             }
            },
            "type": "scatterpolargl"
           }
          ],
          "scatterternary": [
           {
            "marker": {
             "colorbar": {
              "outlinewidth": 0,
              "ticks": ""
             }
            },
            "type": "scatterternary"
           }
          ],
          "surface": [
           {
            "colorbar": {
             "outlinewidth": 0,
             "ticks": ""
            },
            "colorscale": [
             [
              0,
              "#0d0887"
             ],
             [
              0.1111111111111111,
              "#46039f"
             ],
             [
              0.2222222222222222,
              "#7201a8"
             ],
             [
              0.3333333333333333,
              "#9c179e"
             ],
             [
              0.4444444444444444,
              "#bd3786"
             ],
             [
              0.5555555555555556,
              "#d8576b"
             ],
             [
              0.6666666666666666,
              "#ed7953"
             ],
             [
              0.7777777777777778,
              "#fb9f3a"
             ],
             [
              0.8888888888888888,
              "#fdca26"
             ],
             [
              1,
              "#f0f921"
             ]
            ],
            "type": "surface"
           }
          ],
          "table": [
           {
            "cells": {
             "fill": {
              "color": "#EBF0F8"
             },
             "line": {
              "color": "white"
             }
            },
            "header": {
             "fill": {
              "color": "#C8D4E3"
             },
             "line": {
              "color": "white"
             }
            },
            "type": "table"
           }
          ]
         },
         "layout": {
          "annotationdefaults": {
           "arrowcolor": "#2a3f5f",
           "arrowhead": 0,
           "arrowwidth": 1
          },
          "autotypenumbers": "strict",
          "coloraxis": {
           "colorbar": {
            "outlinewidth": 0,
            "ticks": ""
           }
          },
          "colorscale": {
           "diverging": [
            [
             0,
             "#8e0152"
            ],
            [
             0.1,
             "#c51b7d"
            ],
            [
             0.2,
             "#de77ae"
            ],
            [
             0.3,
             "#f1b6da"
            ],
            [
             0.4,
             "#fde0ef"
            ],
            [
             0.5,
             "#f7f7f7"
            ],
            [
             0.6,
             "#e6f5d0"
            ],
            [
             0.7,
             "#b8e186"
            ],
            [
             0.8,
             "#7fbc41"
            ],
            [
             0.9,
             "#4d9221"
            ],
            [
             1,
             "#276419"
            ]
           ],
           "sequential": [
            [
             0,
             "#0d0887"
            ],
            [
             0.1111111111111111,
             "#46039f"
            ],
            [
             0.2222222222222222,
             "#7201a8"
            ],
            [
             0.3333333333333333,
             "#9c179e"
            ],
            [
             0.4444444444444444,
             "#bd3786"
            ],
            [
             0.5555555555555556,
             "#d8576b"
            ],
            [
             0.6666666666666666,
             "#ed7953"
            ],
            [
             0.7777777777777778,
             "#fb9f3a"
            ],
            [
             0.8888888888888888,
             "#fdca26"
            ],
            [
             1,
             "#f0f921"
            ]
           ],
           "sequentialminus": [
            [
             0,
             "#0d0887"
            ],
            [
             0.1111111111111111,
             "#46039f"
            ],
            [
             0.2222222222222222,
             "#7201a8"
            ],
            [
             0.3333333333333333,
             "#9c179e"
            ],
            [
             0.4444444444444444,
             "#bd3786"
            ],
            [
             0.5555555555555556,
             "#d8576b"
            ],
            [
             0.6666666666666666,
             "#ed7953"
            ],
            [
             0.7777777777777778,
             "#fb9f3a"
            ],
            [
             0.8888888888888888,
             "#fdca26"
            ],
            [
             1,
             "#f0f921"
            ]
           ]
          },
          "colorway": [
           "#636efa",
           "#EF553B",
           "#00cc96",
           "#ab63fa",
           "#FFA15A",
           "#19d3f3",
           "#FF6692",
           "#B6E880",
           "#FF97FF",
           "#FECB52"
          ],
          "font": {
           "color": "#2a3f5f"
          },
          "geo": {
           "bgcolor": "white",
           "lakecolor": "white",
           "landcolor": "#E5ECF6",
           "showlakes": true,
           "showland": true,
           "subunitcolor": "white"
          },
          "hoverlabel": {
           "align": "left"
          },
          "hovermode": "closest",
          "mapbox": {
           "style": "light"
          },
          "paper_bgcolor": "white",
          "plot_bgcolor": "#E5ECF6",
          "polar": {
           "angularaxis": {
            "gridcolor": "white",
            "linecolor": "white",
            "ticks": ""
           },
           "bgcolor": "#E5ECF6",
           "radialaxis": {
            "gridcolor": "white",
            "linecolor": "white",
            "ticks": ""
           }
          },
          "scene": {
           "xaxis": {
            "backgroundcolor": "#E5ECF6",
            "gridcolor": "white",
            "gridwidth": 2,
            "linecolor": "white",
            "showbackground": true,
            "ticks": "",
            "zerolinecolor": "white"
           },
           "yaxis": {
            "backgroundcolor": "#E5ECF6",
            "gridcolor": "white",
            "gridwidth": 2,
            "linecolor": "white",
            "showbackground": true,
            "ticks": "",
            "zerolinecolor": "white"
           },
           "zaxis": {
            "backgroundcolor": "#E5ECF6",
            "gridcolor": "white",
            "gridwidth": 2,
            "linecolor": "white",
            "showbackground": true,
            "ticks": "",
            "zerolinecolor": "white"
           }
          },
          "shapedefaults": {
           "line": {
            "color": "#2a3f5f"
           }
          },
          "ternary": {
           "aaxis": {
            "gridcolor": "white",
            "linecolor": "white",
            "ticks": ""
           },
           "baxis": {
            "gridcolor": "white",
            "linecolor": "white",
            "ticks": ""
           },
           "bgcolor": "#E5ECF6",
           "caxis": {
            "gridcolor": "white",
            "linecolor": "white",
            "ticks": ""
           }
          },
          "title": {
           "x": 0.05
          },
          "xaxis": {
           "automargin": true,
           "gridcolor": "white",
           "linecolor": "white",
           "ticks": "",
           "title": {
            "standoff": 15
           },
           "zerolinecolor": "white",
           "zerolinewidth": 2
          },
          "yaxis": {
           "automargin": true,
           "gridcolor": "white",
           "linecolor": "white",
           "ticks": "",
           "title": {
            "standoff": 15
           },
           "zerolinecolor": "white",
           "zerolinewidth": 2
          }
         }
        },
        "xaxis": {
         "anchor": "y",
         "domain": [
          0,
          1
         ],
         "gridwidth": 1,
         "showgrid": false,
         "showline": false,
         "zeroline": false
        },
        "yaxis": {
         "anchor": "x",
         "domain": [
          0,
          1
         ],
         "gridcolor": "#EEEEEE",
         "linecolor": "black",
         "showgrid": true,
         "showline": true,
         "title": {
          "text": "K"
         },
         "zeroline": false
        }
       }
      }
     },
     "metadata": {},
     "output_type": "display_data"
    }
   ],
   "source": [
    "from earthkit.plots.interactive import Chart\n",
    "\n",
    "chart = Chart()\n",
    "chart.line(ds)\n",
    "chart.show()\n"
   ]
  },
  {
   "cell_type": "markdown",
   "id": "6ecbe31d",
   "metadata": {},
   "source": [
    "We can also query the entire ensemble data for the same geo-location. \n",
    "\n",
    "For ICON-CH2-EPS"
   ]
  },
  {
   "cell_type": "code",
   "execution_count": null,
   "id": "251da6f4",
   "metadata": {},
   "outputs": [],
   "source": [
    "import xarray as xr\n",
    "ds_mems = []\n",
    "for num in range(1,21):\n",
    "    req = dc.replace(request, number=str(num), model=mars.Model.ICON_CH2_EPS, feature=mars.TimeseriesFeature(\n",
    "        points=[rotated_point],\n",
    "        range=mars.Range(start=0, end=120),\n",
    "        time_axis=\"step\",\n",
    "    ))\n",
    "    print(req.to_polytope())\n",
    "    ds_mems.append(ekd.from_source(\n",
    "      \"polytope\",\n",
    "      \"mchgj\",\n",
    "      req.to_polytope(),\n",
    "      stream=False\n",
    "    ).to_xarray())\n",
    "\n",
    "ds_ch2 = xr.concat(ds_mems, dim='number')\n",
    "\n",
    "    "
   ]
  },
  {
   "cell_type": "markdown",
   "id": "353d31af",
   "metadata": {},
   "source": [
    "For ICON-CH1-EPS"
   ]
  },
  {
   "cell_type": "code",
   "execution_count": null,
   "id": "57208fb7",
   "metadata": {},
   "outputs": [],
   "source": [
    "import xarray as xr\n",
    "ds_mems = []\n",
    "for num in range(1,11):\n",
    "    req = dc.replace(request, number=str(num), model=mars.Model.ICON_CH1_EPS, feature=mars.TimeseriesFeature(\n",
    "        points=[rotated_point],\n",
    "        range=mars.Range(start=0, end=33),\n",
    "        time_axis=\"step\",\n",
    "    ))\n",
    "    print(req.to_polytope())\n",
    "    ds_mems.append(ekd.from_source(\n",
    "      \"polytope\",\n",
    "      \"mchgj\",\n",
    "      req.to_polytope(),\n",
    "      stream=False\n",
    "    ).to_xarray())\n",
    "\n",
    "ds_ch1 = xr.concat(ds_mems, dim='number')"
   ]
  },
  {
   "cell_type": "markdown",
   "id": "1dc90019",
   "metadata": {},
   "source": [
    "We can also request the same data for IFS using the polytope of ecmwf"
   ]
  },
  {
   "cell_type": "code",
   "execution_count": null,
   "id": "040a0ee3",
   "metadata": {},
   "outputs": [],
   "source": [
    "import os\n",
    "\n",
    "os.environ[\"POLYTOPE_USER_KEY\"] = \"xxxx\"\n",
    "os.environ[\"POLYTOPE_USER_EMAIL\"] = \"xxx.yyy@domain.ch\"\n",
    "os.environ[\"POLYTOPE_ADDRESS\"] = \"polytope.ecmwf.int\""
   ]
  },
  {
   "cell_type": "code",
   "execution_count": null,
   "id": "766b6958",
   "metadata": {},
   "outputs": [],
   "source": [
    "\n",
    "request = {\n",
    "    \"class\": \"od\",\n",
    "    \"stream\" : \"enfo\",\n",
    "    \"type\" : \"pf\",\n",
    "    \"date\" : -1,\n",
    "    \"time\" : \"0000\",\n",
    "    \"levtype\" : \"sfc\",\n",
    "    \"expver\" : \"0001\",\n",
    "    \"domain\" : \"g\",\n",
    "    \"param\" : \"167\",\n",
    "    \"number\" : \"1/to/50\",\n",
    "    \"step\": \"0/to/160\",\n",
    "    \"feature\" : {\n",
    "        \"type\" : \"timeseries\",\n",
    "        \"points\": [[float(round(geo_point.lon,2)),float(round(geo_point.lat))]],\n",
    "        \"axes\": \"step\",\n",
    "    },\n",
    "}\n",
    "\n",
    "ds_ifs = ekd.from_source(\n",
    "    \"polytope\",\n",
    "    \"ecmwf-mars\",\n",
    "    request,\n",
    "    stream=False,\n",
    "    address='polytope.ecmwf.int',\n",
    ")"
   ]
  },
  {
   "cell_type": "markdown",
   "id": "3d40e194",
   "metadata": {},
   "source": [
    "**Plotting ensemble members of timeseries**"
   ]
  },
  {
   "cell_type": "code",
   "execution_count": 44,
   "id": "49a62740",
   "metadata": {},
   "outputs": [
    {
     "data": {
      "application/vnd.plotly.v1+json": {
       "config": {
        "plotlyServerURL": "https://plot.ly"
       },
       "data": [
        {
         "fillcolor": "#B1B6FC",
         "hoverinfo": "skip",
         "line": {
          "color": "#ea5545"
         },
         "lowerfence": {
          "bdata": "AAAAwIeDcUAAAACg64VxQAAAAGB5hXFAAAAA4CWEcUAAAABgYYZxQAAAAGDliHFAAAAAIEaKcUAAAAAA8IxxQAAAAMC6kHFAAAAAIIGVcUAAAACA2ZlxQAAAACBytHFAAAAAYDG0cUAAAABg59BxQAAAAKDu0XFAAAAA4ADScUAAAABAW9RxQAAAAID91nFAAAAAIBPUcUAAAADgWslxQAAAAABPtXFAAAAAwEurcUAAAAAAH6hxQAAAAABQpHFAAAAA4LWecUAAAAAgbJxxQAAAACDCmHFAAAAAoOKUcUAAAAAAGYxxQAAAAOAHoHFAAAAAYJG0cUAAAABgjNFxQAAAAEB453FAAAAAwDH8cUA=",
          "dtype": "f8"
         },
         "median": {
          "bdata": "AAAAoFWGcUAAAABQoItxQAAAAGD2iXFAAAAAINCJcUAAAAAggYpxQAAAACC3jXFAAAAA4KSScUAAAADAZpdxQAAAAHDxnXFAAAAA8LKxcUAAAADwqspxQAAAAIC213FAAAAA8DDncUAAAABwH/BxQAAAAFBM+3FAAAAAYBL/cUAAAADAOfxxQAAAAKD/9XFAAAAAIATpcUAAAABgs91xQAAAAHAWx3FAAAAAUCK/cUAAAABgMrdxQAAAAIBts3FAAAAAAOi1cUAAAADQNbFxQAAAAGAcq3FAAAAAEH+ocUAAAADAq6RxQAAAAFAfsXFAAAAAsAPEcUAAAADwn+FxQAAAAJCP+XFAAAAAgGIMckA=",
          "dtype": "f8"
         },
         "q1": {
          "bdata": "MzMzA2OEcUDNzMysf4ZxQAAAAFBRh3FAZmZm5jaHcUDNzMw8LodxQM3MzKwdinFAmpmZKeCPcUCamZlpE5FxQDMzM5NIl3FAzczM7DugcUBmZmYGi6xxQDMzM+OWwXFAAAAA4C3RcUBmZma2Y99xQDMzM0Of63FAMzMzE7f1cUAzMzNDXO9xQDMzMxOC6nFAAAAAACnecUBmZmZ2es1xQM3MzGxDvHFAmpmZeQm2cUCamZlZRKhxQGZmZtYIpXFAZmZmVsuicUCamZmpUJ5xQGZmZkaWnXFAmpmZOdWWcUDNzMyMIZVxQGZmZuYconFAmpmZWXW2cUCamZkJ3dFxQDMzM/O87XFAMzMz48sDckA=",
          "dtype": "f8"
         },
         "q3": {
          "bdata": "zczMvMSJcUAzMzOjuI1xQDMzM8POjHFAzczMTBWPcUDNzMzc7IxxQJqZmfkcknFAZmZmJpKVcUCamZk5t5txQM3MzJyzq3FAmpmZWZfCcUAAAABgfddxQJqZmVnS6HFAZmZm9mgBckCamZl53AtyQAAAAECwD3JAZmZmFncRckAzMzPzrAlyQGZmZiYhAnJAzczMTG70cUBmZmYGCeZxQGZmZuZV13FAmpmZuVLIcUAAAAAAg8NxQJqZmZmYwHFAzczMXArAcUDNzMy8L75xQDMzMxNnunFAzczMXDC1cUCamZmZALNxQJqZmUntv3FAAAAAAE/VcUAAAAAQQOlxQM3MzHzmAnJAmpmZaRgSckA=",
          "dtype": "f8"
         },
         "type": "box",
         "upperfence": {
          "bdata": "AAAAYCGLcUAAAAAANY9xQAAAAEAojnFAAAAAoLeRcUAAAACgDJBxQAAAAEALk3FAAAAA4NWVcUAAAACgkqFxQAAAAKAasnFAAAAAIADGcUAAAAAAyNpxQAAAAOA173FAAAAAQDMJckAAAACgdQ9yQAAAAIDYE3JAAAAAYAQUckAAAADAswpyQAAAAKCrBHJAAAAAAJ70cUAAAADA5eZxQAAAAGCB2HFAAAAAQFnIcUAAAABAVMRxQAAAAEBrwnFAAAAAQEHCcUAAAADABcJxQAAAAMAcvXFAAAAAgIW5cUAAAAAAs7dxQAAAAGBcwXFAAAAAwBfXcUAAAACATepxQAAAAGB/A3JAAAAAAJQackA=",
          "dtype": "f8"
         },
         "width": 1080000,
         "x": [
          "2025-07-09T00:00:00",
          "2025-07-09T01:00:00",
          "2025-07-09T02:00:00",
          "2025-07-09T03:00:00",
          "2025-07-09T04:00:00",
          "2025-07-09T05:00:00",
          "2025-07-09T06:00:00",
          "2025-07-09T07:00:00",
          "2025-07-09T08:00:00",
          "2025-07-09T09:00:00",
          "2025-07-09T10:00:00",
          "2025-07-09T11:00:00",
          "2025-07-09T12:00:00",
          "2025-07-09T13:00:00",
          "2025-07-09T14:00:00",
          "2025-07-09T15:00:00",
          "2025-07-09T16:00:00",
          "2025-07-09T17:00:00",
          "2025-07-09T18:00:00",
          "2025-07-09T19:00:00",
          "2025-07-09T20:00:00",
          "2025-07-09T21:00:00",
          "2025-07-09T22:00:00",
          "2025-07-09T23:00:00",
          "2025-07-10T00:00:00",
          "2025-07-10T01:00:00",
          "2025-07-10T02:00:00",
          "2025-07-10T03:00:00",
          "2025-07-10T04:00:00",
          "2025-07-10T05:00:00",
          "2025-07-10T06:00:00",
          "2025-07-10T07:00:00",
          "2025-07-10T08:00:00",
          "2025-07-10T09:00:00"
         ],
         "xaxis": "x",
         "yaxis": "y"
        },
        {
         "fillcolor": "#B1B6FC",
         "hoverinfo": "skip",
         "line": {
          "color": "#ea5545"
         },
         "lowerfence": {
          "bdata": "AAAAwIeDcUAAAACg64VxQAAAAGB5hXFAAAAA4CWEcUAAAABgYYZxQAAAAGDliHFAAAAAIEaKcUAAAAAA8IxxQAAAAMC6kHFAAAAAIIGVcUAAAACA2ZlxQAAAACBytHFAAAAAYDG0cUAAAABg59BxQAAAAKDu0XFAAAAA4ADScUAAAABAW9RxQAAAAID91nFAAAAAIBPUcUAAAADgWslxQAAAAABPtXFAAAAAwEurcUAAAAAAH6hxQAAAAABQpHFAAAAA4LWecUAAAAAgbJxxQAAAACDCmHFAAAAAoOKUcUAAAAAAGYxxQAAAAOAHoHFAAAAAYJG0cUAAAABgjNFxQAAAAEB453FAAAAAwDH8cUA=",
          "dtype": "f8"
         },
         "median": {
          "bdata": "AAAAoFWGcUAAAABQoItxQAAAAGD2iXFAAAAAINCJcUAAAAAggYpxQAAAACC3jXFAAAAA4KSScUAAAADAZpdxQAAAAHDxnXFAAAAA8LKxcUAAAADwqspxQAAAAIC213FAAAAA8DDncUAAAABwH/BxQAAAAFBM+3FAAAAAYBL/cUAAAADAOfxxQAAAAKD/9XFAAAAAIATpcUAAAABgs91xQAAAAHAWx3FAAAAAUCK/cUAAAABgMrdxQAAAAIBts3FAAAAAAOi1cUAAAADQNbFxQAAAAGAcq3FAAAAAEH+ocUAAAADAq6RxQAAAAFAfsXFAAAAAsAPEcUAAAADwn+FxQAAAAJCP+XFAAAAAgGIMckA=",
          "dtype": "f8"
         },
         "q1": {
          "bdata": "AAAAmLaEcUAAAAA4V4lxQAAAALCEiHFAAAAAOKGHcUAAAADw7IhxQAAAAKipi3FAAAAAoGORcUAAAAB4NJRxQAAAAEBjm3FAAAAAWDqocUAAAACYlLdxQAAAAPDVyHFAAAAAsEDacUAAAABwzeVxQAAAACCw9HFAAAAAEDv6cUAAAACIrvZxQAAAADAR7XFAAAAA6OPhcUAAAACoktVxQAAAAIiFxHFAAAAAICS8cUAAAAD4Qa1xQAAAAHDmqXFAAAAAOJSlcUAAAAB4sKVxQAAAAPiHpXFAAAAAQE6mcUAAAABQj6BxQAAAANCRrnFAAAAA2EHBcUAAAACgltVxQAAAACBR8nFAAAAA8EEKckA=",
          "dtype": "f8"
         },
         "q3": {
          "bdata": "AAAAyBKHcUAAAADgJo1xQAAAALj6i3FAAAAA4HOLcUAAAAAw+ItxQAAAACibkXFAAAAAAOGUcUAAAADYVppxQAAAAIBnp3FAAAAAgDm/cUAAAAD4B9ZxQAAAABDq4HFAAAAAYBD5cUAAAAAguv5xQAAAAChuB3JAAAAAQHgOckAAAAAYkv5xQAAAABgJ+nFAAAAAUD7scUAAAABop+FxQAAAAChkz3FAAAAA6BPGcUAAAACwLb5xQAAAANANv3FAAAAAoPu8cUAAAACYwLhxQAAAAFBEt3FAAAAA8JazcUAAAACggq9xQAAAAECXvHFAAAAAuKLScUAAAABAB+dxQAAAAFhX/3FAAAAA0KsQckA=",
          "dtype": "f8"
         },
         "showwhiskers": false,
         "type": "box",
         "upperfence": {
          "bdata": "AAAAYCGLcUAAAAAANY9xQAAAAEAojnFAAAAAoLeRcUAAAACgDJBxQAAAAEALk3FAAAAA4NWVcUAAAACgkqFxQAAAAKAasnFAAAAAIADGcUAAAAAAyNpxQAAAAOA173FAAAAAQDMJckAAAACgdQ9yQAAAAIDYE3JAAAAAYAQUckAAAADAswpyQAAAAKCrBHJAAAAAAJ70cUAAAADA5eZxQAAAAGCB2HFAAAAAQFnIcUAAAABAVMRxQAAAAEBrwnFAAAAAQEHCcUAAAADABcJxQAAAAMAcvXFAAAAAgIW5cUAAAAAAs7dxQAAAAGBcwXFAAAAAwBfXcUAAAACATepxQAAAAGB/A3JAAAAAAJQackA=",
          "dtype": "f8"
         },
         "width": 2160000,
         "x": [
          "2025-07-09T00:00:00",
          "2025-07-09T01:00:00",
          "2025-07-09T02:00:00",
          "2025-07-09T03:00:00",
          "2025-07-09T04:00:00",
          "2025-07-09T05:00:00",
          "2025-07-09T06:00:00",
          "2025-07-09T07:00:00",
          "2025-07-09T08:00:00",
          "2025-07-09T09:00:00",
          "2025-07-09T10:00:00",
          "2025-07-09T11:00:00",
          "2025-07-09T12:00:00",
          "2025-07-09T13:00:00",
          "2025-07-09T14:00:00",
          "2025-07-09T15:00:00",
          "2025-07-09T16:00:00",
          "2025-07-09T17:00:00",
          "2025-07-09T18:00:00",
          "2025-07-09T19:00:00",
          "2025-07-09T20:00:00",
          "2025-07-09T21:00:00",
          "2025-07-09T22:00:00",
          "2025-07-09T23:00:00",
          "2025-07-10T00:00:00",
          "2025-07-10T01:00:00",
          "2025-07-10T02:00:00",
          "2025-07-10T03:00:00",
          "2025-07-10T04:00:00",
          "2025-07-10T05:00:00",
          "2025-07-10T06:00:00",
          "2025-07-10T07:00:00",
          "2025-07-10T08:00:00",
          "2025-07-10T09:00:00"
         ],
         "xaxis": "x",
         "yaxis": "y"
        },
        {
         "hovertemplate": "%{y:.2f}<extra>P<sub>0%</sub></extra>",
         "marker": {
          "color": "#ea5545",
          "size": 0.00001
         },
         "mode": "markers",
         "type": "scatter",
         "x": [
          "2025-07-09T00:00:00",
          "2025-07-09T01:00:00",
          "2025-07-09T02:00:00",
          "2025-07-09T03:00:00",
          "2025-07-09T04:00:00",
          "2025-07-09T05:00:00",
          "2025-07-09T06:00:00",
          "2025-07-09T07:00:00",
          "2025-07-09T08:00:00",
          "2025-07-09T09:00:00",
          "2025-07-09T10:00:00",
          "2025-07-09T11:00:00",
          "2025-07-09T12:00:00",
          "2025-07-09T13:00:00",
          "2025-07-09T14:00:00",
          "2025-07-09T15:00:00",
          "2025-07-09T16:00:00",
          "2025-07-09T17:00:00",
          "2025-07-09T18:00:00",
          "2025-07-09T19:00:00",
          "2025-07-09T20:00:00",
          "2025-07-09T21:00:00",
          "2025-07-09T22:00:00",
          "2025-07-09T23:00:00",
          "2025-07-10T00:00:00",
          "2025-07-10T01:00:00",
          "2025-07-10T02:00:00",
          "2025-07-10T03:00:00",
          "2025-07-10T04:00:00",
          "2025-07-10T05:00:00",
          "2025-07-10T06:00:00",
          "2025-07-10T07:00:00",
          "2025-07-10T08:00:00",
          "2025-07-10T09:00:00"
         ],
         "xaxis": "x",
         "y": {
          "bdata": "AAAAwIeDcUAAAACg64VxQAAAAGB5hXFAAAAA4CWEcUAAAABgYYZxQAAAAGDliHFAAAAAIEaKcUAAAAAA8IxxQAAAAMC6kHFAAAAAIIGVcUAAAACA2ZlxQAAAACBytHFAAAAAYDG0cUAAAABg59BxQAAAAKDu0XFAAAAA4ADScUAAAABAW9RxQAAAAID91nFAAAAAIBPUcUAAAADgWslxQAAAAABPtXFAAAAAwEurcUAAAAAAH6hxQAAAAABQpHFAAAAA4LWecUAAAAAgbJxxQAAAACDCmHFAAAAAoOKUcUAAAAAAGYxxQAAAAOAHoHFAAAAAYJG0cUAAAABgjNFxQAAAAEB453FAAAAAwDH8cUA=",
          "dtype": "f8"
         },
         "yaxis": "y"
        },
        {
         "hovertemplate": "%{y:.2f}<extra>P<sub>10%</sub></extra>",
         "marker": {
          "color": "#ea5545",
          "size": 0.00001
         },
         "mode": "markers",
         "type": "scatter",
         "x": [
          "2025-07-09T00:00:00",
          "2025-07-09T01:00:00",
          "2025-07-09T02:00:00",
          "2025-07-09T03:00:00",
          "2025-07-09T04:00:00",
          "2025-07-09T05:00:00",
          "2025-07-09T06:00:00",
          "2025-07-09T07:00:00",
          "2025-07-09T08:00:00",
          "2025-07-09T09:00:00",
          "2025-07-09T10:00:00",
          "2025-07-09T11:00:00",
          "2025-07-09T12:00:00",
          "2025-07-09T13:00:00",
          "2025-07-09T14:00:00",
          "2025-07-09T15:00:00",
          "2025-07-09T16:00:00",
          "2025-07-09T17:00:00",
          "2025-07-09T18:00:00",
          "2025-07-09T19:00:00",
          "2025-07-09T20:00:00",
          "2025-07-09T21:00:00",
          "2025-07-09T22:00:00",
          "2025-07-09T23:00:00",
          "2025-07-10T00:00:00",
          "2025-07-10T01:00:00",
          "2025-07-10T02:00:00",
          "2025-07-10T03:00:00",
          "2025-07-10T04:00:00",
          "2025-07-10T05:00:00",
          "2025-07-10T06:00:00",
          "2025-07-10T07:00:00",
          "2025-07-10T08:00:00",
          "2025-07-10T09:00:00"
         ],
         "xaxis": "x",
         "y": {
          "bdata": "MzMzA2OEcUDNzMysf4ZxQAAAAFBRh3FAZmZm5jaHcUDNzMw8LodxQM3MzKwdinFAmpmZKeCPcUCamZlpE5FxQDMzM5NIl3FAzczM7DugcUBmZmYGi6xxQDMzM+OWwXFAAAAA4C3RcUBmZma2Y99xQDMzM0Of63FAMzMzE7f1cUAzMzNDXO9xQDMzMxOC6nFAAAAAACnecUBmZmZ2es1xQM3MzGxDvHFAmpmZeQm2cUCamZlZRKhxQGZmZtYIpXFAZmZmVsuicUCamZmpUJ5xQGZmZkaWnXFAmpmZOdWWcUDNzMyMIZVxQGZmZuYconFAmpmZWXW2cUCamZkJ3dFxQDMzM/O87XFAMzMz48sDckA=",
          "dtype": "f8"
         },
         "yaxis": "y"
        },
        {
         "hovertemplate": "%{y:.2f}<extra>P<sub>25%</sub></extra>",
         "marker": {
          "color": "#ea5545",
          "size": 0.00001
         },
         "mode": "markers",
         "type": "scatter",
         "x": [
          "2025-07-09T00:00:00",
          "2025-07-09T01:00:00",
          "2025-07-09T02:00:00",
          "2025-07-09T03:00:00",
          "2025-07-09T04:00:00",
          "2025-07-09T05:00:00",
          "2025-07-09T06:00:00",
          "2025-07-09T07:00:00",
          "2025-07-09T08:00:00",
          "2025-07-09T09:00:00",
          "2025-07-09T10:00:00",
          "2025-07-09T11:00:00",
          "2025-07-09T12:00:00",
          "2025-07-09T13:00:00",
          "2025-07-09T14:00:00",
          "2025-07-09T15:00:00",
          "2025-07-09T16:00:00",
          "2025-07-09T17:00:00",
          "2025-07-09T18:00:00",
          "2025-07-09T19:00:00",
          "2025-07-09T20:00:00",
          "2025-07-09T21:00:00",
          "2025-07-09T22:00:00",
          "2025-07-09T23:00:00",
          "2025-07-10T00:00:00",
          "2025-07-10T01:00:00",
          "2025-07-10T02:00:00",
          "2025-07-10T03:00:00",
          "2025-07-10T04:00:00",
          "2025-07-10T05:00:00",
          "2025-07-10T06:00:00",
          "2025-07-10T07:00:00",
          "2025-07-10T08:00:00",
          "2025-07-10T09:00:00"
         ],
         "xaxis": "x",
         "y": {
          "bdata": "AAAAmLaEcUAAAAA4V4lxQAAAALCEiHFAAAAAOKGHcUAAAADw7IhxQAAAAKipi3FAAAAAoGORcUAAAAB4NJRxQAAAAEBjm3FAAAAAWDqocUAAAACYlLdxQAAAAPDVyHFAAAAAsEDacUAAAABwzeVxQAAAACCw9HFAAAAAEDv6cUAAAACIrvZxQAAAADAR7XFAAAAA6OPhcUAAAACoktVxQAAAAIiFxHFAAAAAICS8cUAAAAD4Qa1xQAAAAHDmqXFAAAAAOJSlcUAAAAB4sKVxQAAAAPiHpXFAAAAAQE6mcUAAAABQj6BxQAAAANCRrnFAAAAA2EHBcUAAAACgltVxQAAAACBR8nFAAAAA8EEKckA=",
          "dtype": "f8"
         },
         "yaxis": "y"
        },
        {
         "hovertemplate": "%{y:.2f}<extra>P<sub>50%</sub></extra>",
         "marker": {
          "color": "#ea5545",
          "size": 0.00001
         },
         "mode": "markers",
         "type": "scatter",
         "x": [
          "2025-07-09T00:00:00",
          "2025-07-09T01:00:00",
          "2025-07-09T02:00:00",
          "2025-07-09T03:00:00",
          "2025-07-09T04:00:00",
          "2025-07-09T05:00:00",
          "2025-07-09T06:00:00",
          "2025-07-09T07:00:00",
          "2025-07-09T08:00:00",
          "2025-07-09T09:00:00",
          "2025-07-09T10:00:00",
          "2025-07-09T11:00:00",
          "2025-07-09T12:00:00",
          "2025-07-09T13:00:00",
          "2025-07-09T14:00:00",
          "2025-07-09T15:00:00",
          "2025-07-09T16:00:00",
          "2025-07-09T17:00:00",
          "2025-07-09T18:00:00",
          "2025-07-09T19:00:00",
          "2025-07-09T20:00:00",
          "2025-07-09T21:00:00",
          "2025-07-09T22:00:00",
          "2025-07-09T23:00:00",
          "2025-07-10T00:00:00",
          "2025-07-10T01:00:00",
          "2025-07-10T02:00:00",
          "2025-07-10T03:00:00",
          "2025-07-10T04:00:00",
          "2025-07-10T05:00:00",
          "2025-07-10T06:00:00",
          "2025-07-10T07:00:00",
          "2025-07-10T08:00:00",
          "2025-07-10T09:00:00"
         ],
         "xaxis": "x",
         "y": {
          "bdata": "AAAAoFWGcUAAAABQoItxQAAAAGD2iXFAAAAAINCJcUAAAAAggYpxQAAAACC3jXFAAAAA4KSScUAAAADAZpdxQAAAAHDxnXFAAAAA8LKxcUAAAADwqspxQAAAAIC213FAAAAA8DDncUAAAABwH/BxQAAAAFBM+3FAAAAAYBL/cUAAAADAOfxxQAAAAKD/9XFAAAAAIATpcUAAAABgs91xQAAAAHAWx3FAAAAAUCK/cUAAAABgMrdxQAAAAIBts3FAAAAAAOi1cUAAAADQNbFxQAAAAGAcq3FAAAAAEH+ocUAAAADAq6RxQAAAAFAfsXFAAAAAsAPEcUAAAADwn+FxQAAAAJCP+XFAAAAAgGIMckA=",
          "dtype": "f8"
         },
         "yaxis": "y"
        },
        {
         "hovertemplate": "%{y:.2f}<extra>P<sub>75%</sub></extra>",
         "marker": {
          "color": "#ea5545",
          "size": 0.00001
         },
         "mode": "markers",
         "type": "scatter",
         "x": [
          "2025-07-09T00:00:00",
          "2025-07-09T01:00:00",
          "2025-07-09T02:00:00",
          "2025-07-09T03:00:00",
          "2025-07-09T04:00:00",
          "2025-07-09T05:00:00",
          "2025-07-09T06:00:00",
          "2025-07-09T07:00:00",
          "2025-07-09T08:00:00",
          "2025-07-09T09:00:00",
          "2025-07-09T10:00:00",
          "2025-07-09T11:00:00",
          "2025-07-09T12:00:00",
          "2025-07-09T13:00:00",
          "2025-07-09T14:00:00",
          "2025-07-09T15:00:00",
          "2025-07-09T16:00:00",
          "2025-07-09T17:00:00",
          "2025-07-09T18:00:00",
          "2025-07-09T19:00:00",
          "2025-07-09T20:00:00",
          "2025-07-09T21:00:00",
          "2025-07-09T22:00:00",
          "2025-07-09T23:00:00",
          "2025-07-10T00:00:00",
          "2025-07-10T01:00:00",
          "2025-07-10T02:00:00",
          "2025-07-10T03:00:00",
          "2025-07-10T04:00:00",
          "2025-07-10T05:00:00",
          "2025-07-10T06:00:00",
          "2025-07-10T07:00:00",
          "2025-07-10T08:00:00",
          "2025-07-10T09:00:00"
         ],
         "xaxis": "x",
         "y": {
          "bdata": "AAAAyBKHcUAAAADgJo1xQAAAALj6i3FAAAAA4HOLcUAAAAAw+ItxQAAAACibkXFAAAAAAOGUcUAAAADYVppxQAAAAIBnp3FAAAAAgDm/cUAAAAD4B9ZxQAAAABDq4HFAAAAAYBD5cUAAAAAguv5xQAAAAChuB3JAAAAAQHgOckAAAAAYkv5xQAAAABgJ+nFAAAAAUD7scUAAAABop+FxQAAAAChkz3FAAAAA6BPGcUAAAACwLb5xQAAAANANv3FAAAAAoPu8cUAAAACYwLhxQAAAAFBEt3FAAAAA8JazcUAAAACggq9xQAAAAECXvHFAAAAAuKLScUAAAABAB+dxQAAAAFhX/3FAAAAA0KsQckA=",
          "dtype": "f8"
         },
         "yaxis": "y"
        },
        {
         "hovertemplate": "%{y:.2f}<extra>P<sub>90%</sub></extra>",
         "marker": {
          "color": "#ea5545",
          "size": 0.00001
         },
         "mode": "markers",
         "type": "scatter",
         "x": [
          "2025-07-09T00:00:00",
          "2025-07-09T01:00:00",
          "2025-07-09T02:00:00",
          "2025-07-09T03:00:00",
          "2025-07-09T04:00:00",
          "2025-07-09T05:00:00",
          "2025-07-09T06:00:00",
          "2025-07-09T07:00:00",
          "2025-07-09T08:00:00",
          "2025-07-09T09:00:00",
          "2025-07-09T10:00:00",
          "2025-07-09T11:00:00",
          "2025-07-09T12:00:00",
          "2025-07-09T13:00:00",
          "2025-07-09T14:00:00",
          "2025-07-09T15:00:00",
          "2025-07-09T16:00:00",
          "2025-07-09T17:00:00",
          "2025-07-09T18:00:00",
          "2025-07-09T19:00:00",
          "2025-07-09T20:00:00",
          "2025-07-09T21:00:00",
          "2025-07-09T22:00:00",
          "2025-07-09T23:00:00",
          "2025-07-10T00:00:00",
          "2025-07-10T01:00:00",
          "2025-07-10T02:00:00",
          "2025-07-10T03:00:00",
          "2025-07-10T04:00:00",
          "2025-07-10T05:00:00",
          "2025-07-10T06:00:00",
          "2025-07-10T07:00:00",
          "2025-07-10T08:00:00",
          "2025-07-10T09:00:00"
         ],
         "xaxis": "x",
         "y": {
          "bdata": "zczMvMSJcUAzMzOjuI1xQDMzM8POjHFAzczMTBWPcUDNzMzc7IxxQJqZmfkcknFAZmZmJpKVcUCamZk5t5txQM3MzJyzq3FAmpmZWZfCcUAAAABgfddxQJqZmVnS6HFAZmZm9mgBckCamZl53AtyQAAAAECwD3JAZmZmFncRckAzMzPzrAlyQGZmZiYhAnJAzczMTG70cUBmZmYGCeZxQGZmZuZV13FAmpmZuVLIcUAAAAAAg8NxQJqZmZmYwHFAzczMXArAcUDNzMy8L75xQDMzMxNnunFAzczMXDC1cUCamZmZALNxQJqZmUntv3FAAAAAAE/VcUAAAAAQQOlxQM3MzHzmAnJAmpmZaRgSckA=",
          "dtype": "f8"
         },
         "yaxis": "y"
        },
        {
         "hovertemplate": "%{y:.2f}<extra>P<sub>100%</sub></extra>",
         "marker": {
          "color": "#ea5545",
          "size": 0.00001
         },
         "mode": "markers",
         "type": "scatter",
         "x": [
          "2025-07-09T00:00:00",
          "2025-07-09T01:00:00",
          "2025-07-09T02:00:00",
          "2025-07-09T03:00:00",
          "2025-07-09T04:00:00",
          "2025-07-09T05:00:00",
          "2025-07-09T06:00:00",
          "2025-07-09T07:00:00",
          "2025-07-09T08:00:00",
          "2025-07-09T09:00:00",
          "2025-07-09T10:00:00",
          "2025-07-09T11:00:00",
          "2025-07-09T12:00:00",
          "2025-07-09T13:00:00",
          "2025-07-09T14:00:00",
          "2025-07-09T15:00:00",
          "2025-07-09T16:00:00",
          "2025-07-09T17:00:00",
          "2025-07-09T18:00:00",
          "2025-07-09T19:00:00",
          "2025-07-09T20:00:00",
          "2025-07-09T21:00:00",
          "2025-07-09T22:00:00",
          "2025-07-09T23:00:00",
          "2025-07-10T00:00:00",
          "2025-07-10T01:00:00",
          "2025-07-10T02:00:00",
          "2025-07-10T03:00:00",
          "2025-07-10T04:00:00",
          "2025-07-10T05:00:00",
          "2025-07-10T06:00:00",
          "2025-07-10T07:00:00",
          "2025-07-10T08:00:00",
          "2025-07-10T09:00:00"
         ],
         "xaxis": "x",
         "y": {
          "bdata": "AAAAYCGLcUAAAAAANY9xQAAAAEAojnFAAAAAoLeRcUAAAACgDJBxQAAAAEALk3FAAAAA4NWVcUAAAACgkqFxQAAAAKAasnFAAAAAIADGcUAAAAAAyNpxQAAAAOA173FAAAAAQDMJckAAAACgdQ9yQAAAAIDYE3JAAAAAYAQUckAAAADAswpyQAAAAKCrBHJAAAAAAJ70cUAAAADA5eZxQAAAAGCB2HFAAAAAQFnIcUAAAABAVMRxQAAAAEBrwnFAAAAAQEHCcUAAAADABcJxQAAAAMAcvXFAAAAAgIW5cUAAAAAAs7dxQAAAAGBcwXFAAAAAwBfXcUAAAACATepxQAAAAGB/A3JAAAAAAJQackA=",
          "dtype": "f8"
         },
         "yaxis": "y"
        },
        {
         "line": {
          "color": "grey"
         },
         "name": "mean",
         "type": "scatter",
         "x": [
          "2025-07-09T00:00:00",
          "2025-07-09T01:00:00",
          "2025-07-09T02:00:00",
          "2025-07-09T03:00:00",
          "2025-07-09T04:00:00",
          "2025-07-09T05:00:00",
          "2025-07-09T06:00:00",
          "2025-07-09T07:00:00",
          "2025-07-09T08:00:00",
          "2025-07-09T09:00:00",
          "2025-07-09T10:00:00",
          "2025-07-09T11:00:00",
          "2025-07-09T12:00:00",
          "2025-07-09T13:00:00",
          "2025-07-09T14:00:00",
          "2025-07-09T15:00:00",
          "2025-07-09T16:00:00",
          "2025-07-09T17:00:00",
          "2025-07-09T18:00:00",
          "2025-07-09T19:00:00",
          "2025-07-09T20:00:00",
          "2025-07-09T21:00:00",
          "2025-07-09T22:00:00",
          "2025-07-09T23:00:00",
          "2025-07-10T00:00:00",
          "2025-07-10T01:00:00",
          "2025-07-10T02:00:00",
          "2025-07-10T03:00:00",
          "2025-07-10T04:00:00",
          "2025-07-10T05:00:00",
          "2025-07-10T06:00:00",
          "2025-07-10T07:00:00",
          "2025-07-10T08:00:00",
          "2025-07-10T09:00:00"
         ],
         "y": {
          "bdata": "AAAAgHuGcUDNzMz8+YpxQGZmZhYcinFAZmZmlimKcUCamZmZfIpxQAAAAIAvjnFAAAAAcGeScUAAAADwIZdxQJqZmXm9oHFAzczMjMWxcUBmZmZW1MRxQDMzMwM81XFAAAAAIOXmcUAzMzOz7vFxQAAAAHAt+3FAZmZmttL/cUAzMzPDY/lxQJqZmQmV83FAAAAAMHzncUAAAADwO9txQGZmZrbZyHFAZmZm5ve+cUAAAABQDbZxQJqZmcmSs3FAzczM/MKxcUCamZlJTq9xQAAAAFCZrHFAmpmZmVmpcUAzMzMzYKVxQAAAAOB/snFAzczMfNrGcUAzMzNDkN5xQDMzM2Nk+HFAzczMjFQMckA=",
          "dtype": "f8"
         }
        },
        {
         "fillcolor": "#B1B6FC",
         "hoverinfo": "skip",
         "line": {
          "color": "#ef9b20"
         },
         "lowerfence": {
          "bdata": "AAAAoE1dcUAAAADgK2hxQAAAAMDuZ3FAAAAAQFBjcUAAAAAA3WFxQAAAAEDmZHFAAAAAIJVlcUAAAACge2txQAAAAACRcnFAAAAAIOKAcUAAAADAz5NxQAAAAGBfoHFAAAAAwIGhcUAAAACgQqhxQAAAAMA3rnFAAAAAgEXBcUAAAABgyL1xQAAAAIBHuXFAAAAAQMSwcUAAAABANqZxQAAAAAAOkXFAAAAAQGaIcUAAAABAF4dxQAAAAKBsgXFAAAAAwMSAcUAAAACganhxQAAAACD6dHFAAAAAINB0cUAAAAAAeHRxQAAAAACHhHFAAAAAwMadcUAAAAAg7bFxQAAAAGB9zHFAAAAAgLffcUAAAABAbe1xQAAAAOBr+3FAAAAAICwDckAAAABg9wRyQAAAAEBhBHJAAAAAIM0DckAAAAAgkvdxQAAAAKBd9nFAAAAA4BjocUAAAADgNtRxQAAAAGCTw3FAAAAAQHS1cUAAAADg/qtxQAAAAMBkqHFAAAAAQI2ncUAAAACgo6RxQAAAAGCxoXFAAAAAgPKecUAAAAAg15pxQAAAAMB/qXFAAAAAoNi+cUAAAADAl9JxQAAAAKAC6nFAAAAAoEv8cUAAAACg4fRxQAAAAKCoCXJAAAAAgC4WckAAAABggxxyQAAAAODhFXJAAAAAIDf6cUAAAACgo+pxQAAAAEBi8nFAAAAAAEXfcUAAAAAADcpxQAAAAODzxHFAAAAAQGq8cUAAAAAg0LFxQAAAAADPrXFAAAAAIIaqcUAAAABglqVxQAAAAIAQo3FAAAAAAAOgcUAAAADA0ZxxQAAAAICqrHFAAAAAIJbDcUAAAAAAj9JxQAAAACBd6XFAAAAAABr9cUAAAADgnQ1yQAAAAABEFHJAAAAAAG4MckAAAADg5vlxQAAAAACf7HFAAAAAoKnicUAAAADg9exxQAAAAEBr8nFAAAAA4NbvcUAAAADACOFxQAAAAOC303FAAAAAAKLNcUAAAACAFMdxQAAAAMCVwHFAAAAAQO+/cUAAAACAOb1xQAAAACD5t3FAAAAAYAa1cUAAAACgUrBxQAAAAADgv3FAAAAAINPdcUAAAABgavpxQAAAAGDHDHJAAAAAYFn2cUAAAAAgthdyQAAAAOBBCnJAAAAAIEb4cUAAAADgyg5yQAAAAIB3KHJAAAAA4LMAckAAAABgYf5xQAAAAGBV8XFAAAAAQPz5cUAAAAAAk/FxQAAAAGCu6XFAAAAAIKfgcUAAAABgqNxxQAAAAMCp2nFAAAAAoPHYcUA=",
          "dtype": "f8"
         },
         "median": {
          "bdata": "AAAAYFRicUAAAAAw1m1xQAAAAMB9bHFAAAAAsLFocUAAAAAAu2ZxQAAAABD+Z3FAAAAA8D1ucUAAAADAtHFxQAAAADDhfXFAAAAAgLSScUAAAADQwalxQAAAAKDytnFAAAAAAGbDcUAAAABgh8hxQAAAALD40XFAAAAA8BHTcUAAAABwi89xQAAAAAD+x3FAAAAAcGO8cUAAAABgMK1xQAAAAOC4nnFAAAAAINqUcUAAAADAUIxxQAAAANDShnFAAAAAcGOEcUAAAAAwxYBxQAAAABDHfHFAAAAAkJV6cUAAAAAQRnhxQAAAAJCNinFAAAAAEMegcUAAAAAAgLVxQAAAANB7z3FAAAAAMK/kcUAAAABAp/VxQAAAABANBXJAAAAA0JMPckAAAADA0xNyQAAAAKD8E3JAAAAA4NsPckAAAABg1AhyQAAAANAX/3FAAAAAoC/wcUAAAADgS9pxQAAAAOCvy3FAAAAAgJK/cUAAAACwP7hxQAAAAEDfsXFAAAAAYPGtcUAAAAAA2qpxQAAAAPDspnFAAAAAcHqjcUAAAADQtqFxQAAAAACCsHFAAAAAcMbDcUAAAACQVdlxQAAAAFBs8XFAAAAAkJcCckAAAAAQsBByQAAAACD4GnJAAAAAcDEjckAAAABQ/SZyQAAAAOC4JHJAAAAAUPYfckAAAADAYBlyQAAAAJBZDnJAAAAA8P38cUAAAACQYOdxQAAAALAI1XFAAAAA0EbNcUAAAAAwvcVxQAAAADA2v3FAAAAAgGW+cUAAAACQAb1xQAAAALAhuXFAAAAAkA+2cUAAAACQZrVxQAAAALAxw3FAAAAAYNHUcUAAAABwO+hxQAAAAHDNAXJAAAAAoPQSckAAAABwfyRyQAAAACAqMXJAAAAAgO85ckAAAACQnDhyQAAAAPB4OHJAAAAA4C4xckAAAABgzihyQAAAADDHIXJAAAAAUO0TckAAAACAK/9xQAAAAFCb5nFAAAAAsNXgcUAAAAAQ6NpxQAAAAPC71HFAAAAAEPzPcUAAAABQsMxxQAAAAHAlynFAAAAAkOLHcUAAAADwD8ZxQAAAAED71HFAAAAAcL7wcUAAAACQsQhyQAAAAACzIHJAAAAAwLIxckAAAACAdj1yQAAAAFAsSHJAAAAAUNhPckAAAACgB1VyQAAAAHABUnJAAAAAoL9LckAAAADgAkVyQAAAAGCJOHJAAAAAUHItckAAAAAgIhdyQAAAAKBVAnJAAAAAAED4cUAAAABAzvBxQAAAAKCp63FAAAAAsN/lcUA=",
          "dtype": "f8"
         },
         "q1": {
          "bdata": "ZmZmVg1ecUBmZmYWxWtxQJqZmRlfaXFAZmZmtj1lcUBmZmZW9mNxQAAAAFDFZXFAzczMHC5qcUBmZmY2b21xQAAAAKDkdHFAAAAAAByDcUDNzMyciZlxQAAAANBkrHFAmpmZeWWycUBmZmYWIbRxQM3MzKxAvnFAZmZmdnnFcUAzMzNT1cRxQDMzM+OEvXFAzczM7CK0cUCamZmZ3aZxQM3MzOw1lnFAAAAA8H6JcUAzMzNDlodxQM3MzHyQg3FAmpmZKT6BcUDNzMyMx3xxQAAAADAmenFAmpmZWTl4cUDNzMzsb3ZxQM3MzIxGiHFAZmZmVh2ecUAzMzPD+bJxQDMzM3ObzHFAMzMzYx3hcUBmZmbWSvFxQGZmZpY6/nFAmpmZebkHckCamZkpNQpyQDMzM7OWCXJAzczMnFwEckAzMzMzsAFyQM3MzEyv+HFAZmZmNrjpcUAzMzNzUdZxQDMzM2PtxnFAMzMzk5m3cUAAAABQnLBxQDMzM1MDrXFAmpmZudKpcUAzMzNT8qRxQJqZmantonFAmpmZKX6fcUDNzMzMdp1xQM3MzLwNrXFAZmZmVsnBcUAAAADgsNRxQM3MzLwK7HFAmpmZGY7+cUCamZmpRQVyQM3MzMx0EXJAzczMvBwZckBmZmaGnx9yQJqZmVmuG3JAZmZmFpwXckDNzMxc0w1yQDMzM8PH/HFAzczMrB7zcUDNzMysUd1xQGZmZiaRyXFAzczMbErEcUAAAADQHb1xQAAAAGBxtnFAZmZmtpyzcUCamZmJla9xQJqZmenBqHFAzczM3CemcUCamZm576JxQJqZmYmVsHFAMzMzYwjHcUCamZmpgtxxQAAAACCo9HFAzczMTLEEckCamZm5pxNyQDMzM4PKHHJAzczM7GQQckBmZmaG8yNyQDMzM9O9H3JAMzMzI7UjckAAAABwdxtyQDMzM+PTD3JAmpmZ2Z8FckCamZmZ2/JxQGZmZma62XFAAAAAkA3ScUCamZl5/cpxQDMzM1OExnFAzczMPNnEcUBmZma2acBxQGZmZrbpvnFAzczMrDa7cUAzMzMDdrpxQM3MzEwsy3FAMzMzMynmcUBmZmbW8vxxQDMzM9M+FnJAzczMzPokckBmZmb2UjFyQDMzMzOMOnJAzczMrPI5ckDNzMyMXUVyQJqZmWk1RXJAmpmZWRA+ckAzMzMz5CdyQJqZmVnoGnJAZmZmVt8PckAzMzOTLgByQAAAAFA37nFAAAAAQNrlcUAAAADgbOBxQAAAAIAH3nFAAAAAoLHacUA=",
          "dtype": "f8"
         },
         "q3": {
          "bdata": "MzMz075mcUDNzMzMQXBxQDMzMyMPb3FAmpmZmRNvcUCamZn5l2xxQAAAAMCKbHFAmpmZyVFycUCamZn5lXhxQDMzMwNdiHFAmpmZOcafcUCamZm5GLJxQM3MzPwJxHFAMzMzAwfPcUAzMzOjf9dxQM3MzIwg4HFAzczM/HnfcUCamZlpeNhxQJqZmTkSz3FAzczMnE7BcUAzMzNDQLBxQJqZmYn4pXFAmpmZaaGWcUDNzMxsYpBxQDMzM7N2jHFAAAAAUH+GcUBmZmb2koNxQM3MzLwXgXFAMzMzg05/cUCamZlZ6XtxQAAAAEALjXFAmpmZifmjcUBmZmYWfLdxQAAAAKCE0nFAmpmZmSbocUAAAACQTvlxQM3MzOyHCHJAAAAAYLgSckDNzMwMoBhyQM3MzJysGHJAmpmZWQ8UckAzMzOjQAxyQJqZmQnOAnJAzczMPPnzcUAAAAAg2N1xQAAAAGCyznFAAAAAECbEcUDNzMzMcb9xQAAAAAAVunFAAAAAkBu1cUBmZmZmzrFxQAAAAIDsrXFAAAAAMFircUAzMzOzKKlxQAAAAMBttXFAMzMzU0PKcUAAAAAwrt1xQGZmZuYd9XFAAAAAoFQJckDNzMwMVxlyQJqZmclzJ3JAmpmZuc8tckAzMzOzKjJyQJqZmbmoMnJAMzMzw0ItckAAAABg3CNyQJqZmSmBGnJAZmZmRuIIckAzMzNzWPBxQAAAAHBI3HFAAAAAgPrXcUDNzMysNtJxQAAAAEDWynFAAAAAQF3GcUDNzMzMJcNxQM3MzNw/vnFAMzMzgxC7cUCamZnJB7pxQGZmZmZXx3FAZmZmxjfccUAzMzNzl+1xQGZmZsZ/CXJAMzMzc4AfckCamZlJYC9yQGZmZuYaPHJAZmZmhpBFckCamZnpjUdyQJqZmUluR3JAzczMXEdAckAAAACg0zhyQM3MzIwCMXJAMzMzw2okckAzMzOzGQ5yQM3MzEzh93FAmpmZKeHtcUAzMzNTAudxQM3MzHzA4XFAZmZmZs/hcUBmZma2EeFxQM3MzCxh5HFAmpmZ6crfcUCamZmJ6+BxQGZmZqbv7HFAAAAAEK77cUDNzMxMJBdyQDMzM2OYKnJAMzMzI6k9ckAzMzOzq0xyQAAAAFDMVnJAmpmZaX1fckAzMzPD4mRyQGZmZraXYnJAmpmZidNfckCamZl57VVyQDMzMzOSSXJAmpmZSTY3ckAAAABgByJyQJqZmSnhC3JAMzMzw6MAckAzMzNDvvlxQDMzM3Pn8HFAAAAAQBfzcUA=",
          "dtype": "f8"
         },
         "type": "box",
         "upperfence": {
          "bdata": "AAAAAHxqcUAAAABgLXRxQAAAAKBScHFAAAAAICdwcUAAAACgOG5xQAAAAMD4cXFAAAAAANd4cUAAAACAS39xQAAAAKBdjXFAAAAA4DyjcUAAAACgCrdxQAAAAMAeyHFAAAAAwGzQcUAAAAAAtNtxQAAAAKCC43FAAAAAYC3jcUAAAAAAbttxQAAAAKDc0HFAAAAAIHTDcUAAAABA8rRxQAAAAKABp3FAAAAAIKKZcUAAAABgUZlxQAAAAMDMlnFAAAAAAESQcUAAAADgfYtxQAAAAEBzhXFAAAAAIAKBcUAAAAAAu35xQAAAAEDwjXFAAAAAoBSlcUAAAACgortxQAAAAKDU0nFAAAAAgCLpcUAAAAAgGvtxQAAAAOB6C3JAAAAAAP4WckAAAACA8BtyQAAAACB8G3JAAAAAwAsYckAAAADAMA9yQAAAAMAWB3JAAAAA4Aj4cUAAAAAAAuFxQAAAAKCx0XFAAAAAoGLHcUAAAACgzsNxQAAAAODnu3FAAAAAQNa1cUAAAAAAZbVxQAAAAIAQsHFAAAAAwM6scUAAAAAAaapxQAAAAIC7unFAAAAAoBzNcUAAAABgjN5xQAAAAEDT+XFAAAAAYOIOckAAAAAgdR1yQAAAAEAQK3JAAAAA4MgzckAAAACgGDdyQAAAAOBSNnJAAAAAAHoxckAAAACgkCdyQAAAAGBHG3JAAAAAgKYJckAAAADg4fBxQAAAACA033FAAAAAYLPfcUAAAADAbNpxQAAAAEAG1nFAAAAAYNDPcUAAAADgZc9xQAAAACDZ0XFAAAAAYGbMcUAAAABAEspxQAAAAMC8znFAAAAAQL3ccUAAAAAAWfBxQAAAAIDWC3JAAAAAoJQgckAAAAAA6zRyQAAAAMBpQ3JAAAAAAE9MckAAAABgTlFyQAAAAIDxUnJAAAAAgAdQckAAAACgREhyQAAAAOChO3JAAAAAgGorckAAAAAgQhFyQAAAAECdAnJAAAAA4OL0cUAAAAAAQepxQAAAAAD25XFAAAAAQDDncUAAAACAIONxQAAAAMAd53FAAAAAgD7jcUAAAAAASuZxQAAAAMCE7nFAAAAAIAkFckAAAADAmx9yQAAAAAC8LnJAAAAAYKdDckAAAACgcVRyQAAAAIBWYHJAAAAAwCxpckAAAABg521yQAAAAGDda3JAAAAAoOBqckAAAAAAs2VyQAAAAMAEW3JAAAAAgERIckAAAACAVStyQAAAAMBnEXJAAAAAoDoIckAAAACghf9xQAAAACCP+3FAAAAAQFz5cUA=",
          "dtype": "f8"
         },
         "width": 1080000,
         "x": [
          "2025-07-09T00:00:00",
          "2025-07-09T01:00:00",
          "2025-07-09T02:00:00",
          "2025-07-09T03:00:00",
          "2025-07-09T04:00:00",
          "2025-07-09T05:00:00",
          "2025-07-09T06:00:00",
          "2025-07-09T07:00:00",
          "2025-07-09T08:00:00",
          "2025-07-09T09:00:00",
          "2025-07-09T10:00:00",
          "2025-07-09T11:00:00",
          "2025-07-09T12:00:00",
          "2025-07-09T13:00:00",
          "2025-07-09T14:00:00",
          "2025-07-09T15:00:00",
          "2025-07-09T16:00:00",
          "2025-07-09T17:00:00",
          "2025-07-09T18:00:00",
          "2025-07-09T19:00:00",
          "2025-07-09T20:00:00",
          "2025-07-09T21:00:00",
          "2025-07-09T22:00:00",
          "2025-07-09T23:00:00",
          "2025-07-10T00:00:00",
          "2025-07-10T01:00:00",
          "2025-07-10T02:00:00",
          "2025-07-10T03:00:00",
          "2025-07-10T04:00:00",
          "2025-07-10T05:00:00",
          "2025-07-10T06:00:00",
          "2025-07-10T07:00:00",
          "2025-07-10T08:00:00",
          "2025-07-10T09:00:00",
          "2025-07-10T10:00:00",
          "2025-07-10T11:00:00",
          "2025-07-10T12:00:00",
          "2025-07-10T13:00:00",
          "2025-07-10T14:00:00",
          "2025-07-10T15:00:00",
          "2025-07-10T16:00:00",
          "2025-07-10T17:00:00",
          "2025-07-10T18:00:00",
          "2025-07-10T19:00:00",
          "2025-07-10T20:00:00",
          "2025-07-10T21:00:00",
          "2025-07-10T22:00:00",
          "2025-07-10T23:00:00",
          "2025-07-11T00:00:00",
          "2025-07-11T01:00:00",
          "2025-07-11T02:00:00",
          "2025-07-11T03:00:00",
          "2025-07-11T04:00:00",
          "2025-07-11T05:00:00",
          "2025-07-11T06:00:00",
          "2025-07-11T07:00:00",
          "2025-07-11T08:00:00",
          "2025-07-11T09:00:00",
          "2025-07-11T10:00:00",
          "2025-07-11T11:00:00",
          "2025-07-11T12:00:00",
          "2025-07-11T13:00:00",
          "2025-07-11T14:00:00",
          "2025-07-11T15:00:00",
          "2025-07-11T16:00:00",
          "2025-07-11T17:00:00",
          "2025-07-11T18:00:00",
          "2025-07-11T19:00:00",
          "2025-07-11T20:00:00",
          "2025-07-11T21:00:00",
          "2025-07-11T22:00:00",
          "2025-07-11T23:00:00",
          "2025-07-12T00:00:00",
          "2025-07-12T01:00:00",
          "2025-07-12T02:00:00",
          "2025-07-12T03:00:00",
          "2025-07-12T04:00:00",
          "2025-07-12T05:00:00",
          "2025-07-12T06:00:00",
          "2025-07-12T07:00:00",
          "2025-07-12T08:00:00",
          "2025-07-12T09:00:00",
          "2025-07-12T10:00:00",
          "2025-07-12T11:00:00",
          "2025-07-12T12:00:00",
          "2025-07-12T13:00:00",
          "2025-07-12T14:00:00",
          "2025-07-12T15:00:00",
          "2025-07-12T16:00:00",
          "2025-07-12T17:00:00",
          "2025-07-12T18:00:00",
          "2025-07-12T19:00:00",
          "2025-07-12T20:00:00",
          "2025-07-12T21:00:00",
          "2025-07-12T22:00:00",
          "2025-07-12T23:00:00",
          "2025-07-13T00:00:00",
          "2025-07-13T01:00:00",
          "2025-07-13T02:00:00",
          "2025-07-13T03:00:00",
          "2025-07-13T04:00:00",
          "2025-07-13T05:00:00",
          "2025-07-13T06:00:00",
          "2025-07-13T07:00:00",
          "2025-07-13T08:00:00",
          "2025-07-13T09:00:00",
          "2025-07-13T10:00:00",
          "2025-07-13T11:00:00",
          "2025-07-13T12:00:00",
          "2025-07-13T13:00:00",
          "2025-07-13T14:00:00",
          "2025-07-13T15:00:00",
          "2025-07-13T16:00:00",
          "2025-07-13T17:00:00",
          "2025-07-13T18:00:00",
          "2025-07-13T19:00:00",
          "2025-07-13T20:00:00",
          "2025-07-13T21:00:00",
          "2025-07-13T22:00:00",
          "2025-07-13T23:00:00",
          "2025-07-14T00:00:00"
         ],
         "xaxis": "x",
         "yaxis": "y"
        },
        {
         "fillcolor": "#B1B6FC",
         "hoverinfo": "skip",
         "line": {
          "color": "#ef9b20"
         },
         "lowerfence": {
          "bdata": "AAAAoE1dcUAAAADgK2hxQAAAAMDuZ3FAAAAAQFBjcUAAAAAA3WFxQAAAAEDmZHFAAAAAIJVlcUAAAACge2txQAAAAACRcnFAAAAAIOKAcUAAAADAz5NxQAAAAGBfoHFAAAAAwIGhcUAAAACgQqhxQAAAAMA3rnFAAAAAgEXBcUAAAABgyL1xQAAAAIBHuXFAAAAAQMSwcUAAAABANqZxQAAAAAAOkXFAAAAAQGaIcUAAAABAF4dxQAAAAKBsgXFAAAAAwMSAcUAAAACganhxQAAAACD6dHFAAAAAINB0cUAAAAAAeHRxQAAAAACHhHFAAAAAwMadcUAAAAAg7bFxQAAAAGB9zHFAAAAAgLffcUAAAABAbe1xQAAAAOBr+3FAAAAAICwDckAAAABg9wRyQAAAAEBhBHJAAAAAIM0DckAAAAAgkvdxQAAAAKBd9nFAAAAA4BjocUAAAADgNtRxQAAAAGCTw3FAAAAAQHS1cUAAAADg/qtxQAAAAMBkqHFAAAAAQI2ncUAAAACgo6RxQAAAAGCxoXFAAAAAgPKecUAAAAAg15pxQAAAAMB/qXFAAAAAoNi+cUAAAADAl9JxQAAAAKAC6nFAAAAAoEv8cUAAAACg4fRxQAAAAKCoCXJAAAAAgC4WckAAAABggxxyQAAAAODhFXJAAAAAIDf6cUAAAACgo+pxQAAAAEBi8nFAAAAAAEXfcUAAAAAADcpxQAAAAODzxHFAAAAAQGq8cUAAAAAg0LFxQAAAAADPrXFAAAAAIIaqcUAAAABglqVxQAAAAIAQo3FAAAAAAAOgcUAAAADA0ZxxQAAAAICqrHFAAAAAIJbDcUAAAAAAj9JxQAAAACBd6XFAAAAAABr9cUAAAADgnQ1yQAAAAABEFHJAAAAAAG4MckAAAADg5vlxQAAAAACf7HFAAAAAoKnicUAAAADg9exxQAAAAEBr8nFAAAAA4NbvcUAAAADACOFxQAAAAOC303FAAAAAAKLNcUAAAACAFMdxQAAAAMCVwHFAAAAAQO+/cUAAAACAOb1xQAAAACD5t3FAAAAAYAa1cUAAAACgUrBxQAAAAADgv3FAAAAAINPdcUAAAABgavpxQAAAAGDHDHJAAAAAYFn2cUAAAAAgthdyQAAAAOBBCnJAAAAAIEb4cUAAAADgyg5yQAAAAIB3KHJAAAAA4LMAckAAAABgYf5xQAAAAGBV8XFAAAAAQPz5cUAAAAAAk/FxQAAAAGCu6XFAAAAAIKfgcUAAAABgqNxxQAAAAMCp2nFAAAAAoPHYcUA=",
          "dtype": "f8"
         },
         "median": {
          "bdata": "AAAAYFRicUAAAAAw1m1xQAAAAMB9bHFAAAAAsLFocUAAAAAAu2ZxQAAAABD+Z3FAAAAA8D1ucUAAAADAtHFxQAAAADDhfXFAAAAAgLSScUAAAADQwalxQAAAAKDytnFAAAAAAGbDcUAAAABgh8hxQAAAALD40XFAAAAA8BHTcUAAAABwi89xQAAAAAD+x3FAAAAAcGO8cUAAAABgMK1xQAAAAOC4nnFAAAAAINqUcUAAAADAUIxxQAAAANDShnFAAAAAcGOEcUAAAAAwxYBxQAAAABDHfHFAAAAAkJV6cUAAAAAQRnhxQAAAAJCNinFAAAAAEMegcUAAAAAAgLVxQAAAANB7z3FAAAAAMK/kcUAAAABAp/VxQAAAABANBXJAAAAA0JMPckAAAADA0xNyQAAAAKD8E3JAAAAA4NsPckAAAABg1AhyQAAAANAX/3FAAAAAoC/wcUAAAADgS9pxQAAAAOCvy3FAAAAAgJK/cUAAAACwP7hxQAAAAEDfsXFAAAAAYPGtcUAAAAAA2qpxQAAAAPDspnFAAAAAcHqjcUAAAADQtqFxQAAAAACCsHFAAAAAcMbDcUAAAACQVdlxQAAAAFBs8XFAAAAAkJcCckAAAAAQsBByQAAAACD4GnJAAAAAcDEjckAAAABQ/SZyQAAAAOC4JHJAAAAAUPYfckAAAADAYBlyQAAAAJBZDnJAAAAA8P38cUAAAACQYOdxQAAAALAI1XFAAAAA0EbNcUAAAAAwvcVxQAAAADA2v3FAAAAAgGW+cUAAAACQAb1xQAAAALAhuXFAAAAAkA+2cUAAAACQZrVxQAAAALAxw3FAAAAAYNHUcUAAAABwO+hxQAAAAHDNAXJAAAAAoPQSckAAAABwfyRyQAAAACAqMXJAAAAAgO85ckAAAACQnDhyQAAAAPB4OHJAAAAA4C4xckAAAABgzihyQAAAADDHIXJAAAAAUO0TckAAAACAK/9xQAAAAFCb5nFAAAAAsNXgcUAAAAAQ6NpxQAAAAPC71HFAAAAAEPzPcUAAAABQsMxxQAAAAHAlynFAAAAAkOLHcUAAAADwD8ZxQAAAAED71HFAAAAAcL7wcUAAAACQsQhyQAAAAACzIHJAAAAAwLIxckAAAACAdj1yQAAAAFAsSHJAAAAAUNhPckAAAACgB1VyQAAAAHABUnJAAAAAoL9LckAAAADgAkVyQAAAAGCJOHJAAAAAUHItckAAAAAgIhdyQAAAAKBVAnJAAAAAAED4cUAAAABAzvBxQAAAAKCp63FAAAAAsN/lcUA=",
          "dtype": "f8"
         },
         "q1": {
          "bdata": "AAAAyAFhcUAAAACYH2xxQAAAAEDNanFAAAAA6GxncUAAAABw4GRxQAAAAAiVZnFAAAAAsM1scUAAAAAgq29xQAAAAHi+eXFAAAAAaAeJcUAAAAB41aNxQAAAAOAVsnFAAAAASPm0cUAAAABIEsJxQAAAAPDAyXFAAAAAeLnPcUAAAACg1MtxQAAAACDkw3FAAAAACCS5cUAAAACwDqtxQAAAAMDumXFAAAAAMM6RcUAAAAAIxIlxQAAAAFAthHFAAAAAaNmBcUAAAACoVH5xQAAAAFihe3FAAAAAyCV5cUAAAABwTHdxQAAAALj4iHFAAAAAGEWfcUAAAABIPrRxQAAAAMDQzXFAAAAA0IDhcUAAAAA4P/JxQAAAAHh4AHJAAAAAOLsKckAAAAAgkw9yQAAAAPDjDXJAAAAAYFcMckAAAABwNQVyQAAAAODa+nFAAAAA0FvscUAAAADo09dxQAAAADh9yHFAAAAASNi6cUAAAAAoobNxQAAAAAhjrnFAAAAAEGarcUAAAAAg1adxQAAAAEghpHFAAAAA2CWhcUAAAAAAXJ9xQAAAANhDrnFAAAAA0G3CcUAAAABYM9dxQAAAADD77XFAAAAACPj/cUAAAAAQFQ1yQAAAAHBnGHJAAAAAQCMeckAAAACoHSJyQAAAAJhWH3JAAAAASE8dckAAAABQ1hVyQAAAAJh+C3JAAAAAWFT6cUAAAAC4zuVxQAAAAJiM0XFAAAAAAA/IcUAAAAAI1cBxQAAAACCdvXFAAAAA8Ci5cUAAAACIN7VxQAAAAMh8sXFAAAAA8AWtcUAAAACoWKtxQAAAAAAmuHFAAAAAkPfOcUAAAACo/+NxQAAAAHCq+3FAAAAAcNcPckAAAABIjBtyQAAAAHDGIHJAAAAAoBwqckAAAAAQ8C1yQAAAAJB3KXJAAAAAWC8mckAAAADAMyByQAAAAHAqGHJAAAAA0DwNckAAAAAQ0PdxQAAAAFhI4nFAAAAAOHbZcUAAAACg6tFxQAAAABj2y3FAAAAAiBDIcUAAAABYqcVxQAAAAHDawnFAAAAAqCXBcUAAAADgkcBxQAAAAKieznFAAAAAwFbrcUAAAABAFARyQAAAAGDSG3JAAAAAQGkqckAAAABAbjZyQAAAAIB8QnJAAAAAkF1KckAAAAAIZUpyQAAAAJDMSnJAAAAA4PxFckAAAAAIfjhyQAAAAFD5JXJAAAAA2MAhckAAAADgUwtyQAAAAOCY+HFAAAAASADucUAAAAC4RulxQAAAAKjd43FAAAAAUDjhcUA=",
          "dtype": "f8"
         },
         "q3": {
          "bdata": "AAAAWG5kcUAAAAAInG9xQAAAAKC5bnFAAAAA8PJscUAAAACAvmhxQAAAAGihanFAAAAA8DVvcUAAAABAtHZxQAAAADiUf3FAAAAAWESacUAAAADw9a1xQAAAABDav3FAAAAAYJbJcUAAAABIndBxQAAAALB213FAAAAA+CDYcUAAAAAwV9NxQAAAAPiay3FAAAAACIO+cUAAAADQu65xQAAAAJDXo3FAAAAAqFWWcUAAAACgJo9xQAAAAHgaiXFAAAAAmJaFcUAAAAAwq4FxQAAAAHDlfXFAAAAAqEB7cUAAAAAIonlxQAAAADiajHFAAAAAOKaicUAAAAAowLZxQAAAANCt0HFAAAAAGDHmcUAAAADwOPhxQAAAALi0BnJAAAAAiIYQckAAAAAIxBZyQAAAAMh7F3JAAAAAWDETckAAAACwZQtyQAAAAED2AXJAAAAAyH7ycUAAAACIRtxxQAAAAHiMzXFAAAAAYOrCcUAAAAA40LtxQAAAAHhOtXFAAAAAsOOwcUAAAABYFK1xQAAAAJh4q3FAAAAASMincUAAAAAgbqVxQAAAAAg+s3FAAAAASAnGcUAAAAAITNtxQAAAAIg583FAAAAA2DkHckAAAADwUxdyQAAAAJjrI3JAAAAAyIopckAAAADgoSpyQAAAAGCAK3JAAAAA8OQkckAAAADITR1yQAAAAFAEEXJAAAAAIMQBckAAAADATuxxQAAAAGii2HFAAAAAAM7UcUAAAAAgcc9xQAAAAOBtx3FAAAAAcAvCcUAAAABwqL9xQAAAALgIu3FAAAAAwGu5cUAAAACgDrhxQAAAAGDjxHFAAAAAeA3bcUAAAABQRuxxQAAAAPieBXJAAAAA8K8ackAAAABwQCxyQAAAAPhON3JAAAAA6B9BckAAAAB4+0NyQAAAACCARHJAAAAA+NY5ckAAAACwTDByQAAAACjdK3JAAAAACLEeckAAAACQgQhyQAAAAEgu8HFAAAAAeL3kcUAAAADALt9xQAAAAGCE2nFAAAAAEOTXcUAAAAA4xtNxQAAAAMjr0HFAAAAAyMzPcUAAAACQJ9BxQAAAAIgc4HFAAAAAiBj5cUAAAACwWhFyQAAAALDFKXJAAAAAqAc3ckAAAAAQKkZyQAAAAFBeUnJAAAAA8LZXckAAAABQ8ltyQAAAAJCjWHJAAAAAYBtUckAAAADAaktyQAAAAEBmQnJAAAAAcEMyckAAAAAAeR1yQAAAAMh0CXJAAAAA+A38cUAAAABYvPRxQAAAACBk73FAAAAAMCfscUA=",
          "dtype": "f8"
         },
         "showwhiskers": false,
         "type": "box",
         "upperfence": {
          "bdata": "AAAAAHxqcUAAAABgLXRxQAAAAKBScHFAAAAAICdwcUAAAACgOG5xQAAAAMD4cXFAAAAAANd4cUAAAACAS39xQAAAAKBdjXFAAAAA4DyjcUAAAACgCrdxQAAAAMAeyHFAAAAAwGzQcUAAAAAAtNtxQAAAAKCC43FAAAAAYC3jcUAAAAAAbttxQAAAAKDc0HFAAAAAIHTDcUAAAABA8rRxQAAAAKABp3FAAAAAIKKZcUAAAABgUZlxQAAAAMDMlnFAAAAAAESQcUAAAADgfYtxQAAAAEBzhXFAAAAAIAKBcUAAAAAAu35xQAAAAEDwjXFAAAAAoBSlcUAAAACgortxQAAAAKDU0nFAAAAAgCLpcUAAAAAgGvtxQAAAAOB6C3JAAAAAAP4WckAAAACA8BtyQAAAACB8G3JAAAAAwAsYckAAAADAMA9yQAAAAMAWB3JAAAAA4Aj4cUAAAAAAAuFxQAAAAKCx0XFAAAAAoGLHcUAAAACgzsNxQAAAAODnu3FAAAAAQNa1cUAAAAAAZbVxQAAAAIAQsHFAAAAAwM6scUAAAAAAaapxQAAAAIC7unFAAAAAoBzNcUAAAABgjN5xQAAAAEDT+XFAAAAAYOIOckAAAAAgdR1yQAAAAEAQK3JAAAAA4MgzckAAAACgGDdyQAAAAOBSNnJAAAAAAHoxckAAAACgkCdyQAAAAGBHG3JAAAAAgKYJckAAAADg4fBxQAAAACA033FAAAAAYLPfcUAAAADAbNpxQAAAAEAG1nFAAAAAYNDPcUAAAADgZc9xQAAAACDZ0XFAAAAAYGbMcUAAAABAEspxQAAAAMC8znFAAAAAQL3ccUAAAAAAWfBxQAAAAIDWC3JAAAAAoJQgckAAAAAA6zRyQAAAAMBpQ3JAAAAAAE9MckAAAABgTlFyQAAAAIDxUnJAAAAAgAdQckAAAACgREhyQAAAAOChO3JAAAAAgGorckAAAAAgQhFyQAAAAECdAnJAAAAA4OL0cUAAAAAAQepxQAAAAAD25XFAAAAAQDDncUAAAACAIONxQAAAAMAd53FAAAAAgD7jcUAAAAAASuZxQAAAAMCE7nFAAAAAIAkFckAAAADAmx9yQAAAAAC8LnJAAAAAYKdDckAAAACgcVRyQAAAAIBWYHJAAAAAwCxpckAAAABg521yQAAAAGDda3JAAAAAoOBqckAAAAAAs2VyQAAAAMAEW3JAAAAAgERIckAAAACAVStyQAAAAMBnEXJAAAAAoDoIckAAAACghf9xQAAAACCP+3FAAAAAQFz5cUA=",
          "dtype": "f8"
         },
         "width": 2160000,
         "x": [
          "2025-07-09T00:00:00",
          "2025-07-09T01:00:00",
          "2025-07-09T02:00:00",
          "2025-07-09T03:00:00",
          "2025-07-09T04:00:00",
          "2025-07-09T05:00:00",
          "2025-07-09T06:00:00",
          "2025-07-09T07:00:00",
          "2025-07-09T08:00:00",
          "2025-07-09T09:00:00",
          "2025-07-09T10:00:00",
          "2025-07-09T11:00:00",
          "2025-07-09T12:00:00",
          "2025-07-09T13:00:00",
          "2025-07-09T14:00:00",
          "2025-07-09T15:00:00",
          "2025-07-09T16:00:00",
          "2025-07-09T17:00:00",
          "2025-07-09T18:00:00",
          "2025-07-09T19:00:00",
          "2025-07-09T20:00:00",
          "2025-07-09T21:00:00",
          "2025-07-09T22:00:00",
          "2025-07-09T23:00:00",
          "2025-07-10T00:00:00",
          "2025-07-10T01:00:00",
          "2025-07-10T02:00:00",
          "2025-07-10T03:00:00",
          "2025-07-10T04:00:00",
          "2025-07-10T05:00:00",
          "2025-07-10T06:00:00",
          "2025-07-10T07:00:00",
          "2025-07-10T08:00:00",
          "2025-07-10T09:00:00",
          "2025-07-10T10:00:00",
          "2025-07-10T11:00:00",
          "2025-07-10T12:00:00",
          "2025-07-10T13:00:00",
          "2025-07-10T14:00:00",
          "2025-07-10T15:00:00",
          "2025-07-10T16:00:00",
          "2025-07-10T17:00:00",
          "2025-07-10T18:00:00",
          "2025-07-10T19:00:00",
          "2025-07-10T20:00:00",
          "2025-07-10T21:00:00",
          "2025-07-10T22:00:00",
          "2025-07-10T23:00:00",
          "2025-07-11T00:00:00",
          "2025-07-11T01:00:00",
          "2025-07-11T02:00:00",
          "2025-07-11T03:00:00",
          "2025-07-11T04:00:00",
          "2025-07-11T05:00:00",
          "2025-07-11T06:00:00",
          "2025-07-11T07:00:00",
          "2025-07-11T08:00:00",
          "2025-07-11T09:00:00",
          "2025-07-11T10:00:00",
          "2025-07-11T11:00:00",
          "2025-07-11T12:00:00",
          "2025-07-11T13:00:00",
          "2025-07-11T14:00:00",
          "2025-07-11T15:00:00",
          "2025-07-11T16:00:00",
          "2025-07-11T17:00:00",
          "2025-07-11T18:00:00",
          "2025-07-11T19:00:00",
          "2025-07-11T20:00:00",
          "2025-07-11T21:00:00",
          "2025-07-11T22:00:00",
          "2025-07-11T23:00:00",
          "2025-07-12T00:00:00",
          "2025-07-12T01:00:00",
          "2025-07-12T02:00:00",
          "2025-07-12T03:00:00",
          "2025-07-12T04:00:00",
          "2025-07-12T05:00:00",
          "2025-07-12T06:00:00",
          "2025-07-12T07:00:00",
          "2025-07-12T08:00:00",
          "2025-07-12T09:00:00",
          "2025-07-12T10:00:00",
          "2025-07-12T11:00:00",
          "2025-07-12T12:00:00",
          "2025-07-12T13:00:00",
          "2025-07-12T14:00:00",
          "2025-07-12T15:00:00",
          "2025-07-12T16:00:00",
          "2025-07-12T17:00:00",
          "2025-07-12T18:00:00",
          "2025-07-12T19:00:00",
          "2025-07-12T20:00:00",
          "2025-07-12T21:00:00",
          "2025-07-12T22:00:00",
          "2025-07-12T23:00:00",
          "2025-07-13T00:00:00",
          "2025-07-13T01:00:00",
          "2025-07-13T02:00:00",
          "2025-07-13T03:00:00",
          "2025-07-13T04:00:00",
          "2025-07-13T05:00:00",
          "2025-07-13T06:00:00",
          "2025-07-13T07:00:00",
          "2025-07-13T08:00:00",
          "2025-07-13T09:00:00",
          "2025-07-13T10:00:00",
          "2025-07-13T11:00:00",
          "2025-07-13T12:00:00",
          "2025-07-13T13:00:00",
          "2025-07-13T14:00:00",
          "2025-07-13T15:00:00",
          "2025-07-13T16:00:00",
          "2025-07-13T17:00:00",
          "2025-07-13T18:00:00",
          "2025-07-13T19:00:00",
          "2025-07-13T20:00:00",
          "2025-07-13T21:00:00",
          "2025-07-13T22:00:00",
          "2025-07-13T23:00:00",
          "2025-07-14T00:00:00"
         ],
         "xaxis": "x",
         "yaxis": "y"
        },
        {
         "hovertemplate": "%{y:.2f}<extra>P<sub>0%</sub></extra>",
         "marker": {
          "color": "#ef9b20",
          "size": 0.00001
         },
         "mode": "markers",
         "type": "scatter",
         "x": [
          "2025-07-09T00:00:00",
          "2025-07-09T01:00:00",
          "2025-07-09T02:00:00",
          "2025-07-09T03:00:00",
          "2025-07-09T04:00:00",
          "2025-07-09T05:00:00",
          "2025-07-09T06:00:00",
          "2025-07-09T07:00:00",
          "2025-07-09T08:00:00",
          "2025-07-09T09:00:00",
          "2025-07-09T10:00:00",
          "2025-07-09T11:00:00",
          "2025-07-09T12:00:00",
          "2025-07-09T13:00:00",
          "2025-07-09T14:00:00",
          "2025-07-09T15:00:00",
          "2025-07-09T16:00:00",
          "2025-07-09T17:00:00",
          "2025-07-09T18:00:00",
          "2025-07-09T19:00:00",
          "2025-07-09T20:00:00",
          "2025-07-09T21:00:00",
          "2025-07-09T22:00:00",
          "2025-07-09T23:00:00",
          "2025-07-10T00:00:00",
          "2025-07-10T01:00:00",
          "2025-07-10T02:00:00",
          "2025-07-10T03:00:00",
          "2025-07-10T04:00:00",
          "2025-07-10T05:00:00",
          "2025-07-10T06:00:00",
          "2025-07-10T07:00:00",
          "2025-07-10T08:00:00",
          "2025-07-10T09:00:00",
          "2025-07-10T10:00:00",
          "2025-07-10T11:00:00",
          "2025-07-10T12:00:00",
          "2025-07-10T13:00:00",
          "2025-07-10T14:00:00",
          "2025-07-10T15:00:00",
          "2025-07-10T16:00:00",
          "2025-07-10T17:00:00",
          "2025-07-10T18:00:00",
          "2025-07-10T19:00:00",
          "2025-07-10T20:00:00",
          "2025-07-10T21:00:00",
          "2025-07-10T22:00:00",
          "2025-07-10T23:00:00",
          "2025-07-11T00:00:00",
          "2025-07-11T01:00:00",
          "2025-07-11T02:00:00",
          "2025-07-11T03:00:00",
          "2025-07-11T04:00:00",
          "2025-07-11T05:00:00",
          "2025-07-11T06:00:00",
          "2025-07-11T07:00:00",
          "2025-07-11T08:00:00",
          "2025-07-11T09:00:00",
          "2025-07-11T10:00:00",
          "2025-07-11T11:00:00",
          "2025-07-11T12:00:00",
          "2025-07-11T13:00:00",
          "2025-07-11T14:00:00",
          "2025-07-11T15:00:00",
          "2025-07-11T16:00:00",
          "2025-07-11T17:00:00",
          "2025-07-11T18:00:00",
          "2025-07-11T19:00:00",
          "2025-07-11T20:00:00",
          "2025-07-11T21:00:00",
          "2025-07-11T22:00:00",
          "2025-07-11T23:00:00",
          "2025-07-12T00:00:00",
          "2025-07-12T01:00:00",
          "2025-07-12T02:00:00",
          "2025-07-12T03:00:00",
          "2025-07-12T04:00:00",
          "2025-07-12T05:00:00",
          "2025-07-12T06:00:00",
          "2025-07-12T07:00:00",
          "2025-07-12T08:00:00",
          "2025-07-12T09:00:00",
          "2025-07-12T10:00:00",
          "2025-07-12T11:00:00",
          "2025-07-12T12:00:00",
          "2025-07-12T13:00:00",
          "2025-07-12T14:00:00",
          "2025-07-12T15:00:00",
          "2025-07-12T16:00:00",
          "2025-07-12T17:00:00",
          "2025-07-12T18:00:00",
          "2025-07-12T19:00:00",
          "2025-07-12T20:00:00",
          "2025-07-12T21:00:00",
          "2025-07-12T22:00:00",
          "2025-07-12T23:00:00",
          "2025-07-13T00:00:00",
          "2025-07-13T01:00:00",
          "2025-07-13T02:00:00",
          "2025-07-13T03:00:00",
          "2025-07-13T04:00:00",
          "2025-07-13T05:00:00",
          "2025-07-13T06:00:00",
          "2025-07-13T07:00:00",
          "2025-07-13T08:00:00",
          "2025-07-13T09:00:00",
          "2025-07-13T10:00:00",
          "2025-07-13T11:00:00",
          "2025-07-13T12:00:00",
          "2025-07-13T13:00:00",
          "2025-07-13T14:00:00",
          "2025-07-13T15:00:00",
          "2025-07-13T16:00:00",
          "2025-07-13T17:00:00",
          "2025-07-13T18:00:00",
          "2025-07-13T19:00:00",
          "2025-07-13T20:00:00",
          "2025-07-13T21:00:00",
          "2025-07-13T22:00:00",
          "2025-07-13T23:00:00",
          "2025-07-14T00:00:00"
         ],
         "xaxis": "x",
         "y": {
          "bdata": "AAAAoE1dcUAAAADgK2hxQAAAAMDuZ3FAAAAAQFBjcUAAAAAA3WFxQAAAAEDmZHFAAAAAIJVlcUAAAACge2txQAAAAACRcnFAAAAAIOKAcUAAAADAz5NxQAAAAGBfoHFAAAAAwIGhcUAAAACgQqhxQAAAAMA3rnFAAAAAgEXBcUAAAABgyL1xQAAAAIBHuXFAAAAAQMSwcUAAAABANqZxQAAAAAAOkXFAAAAAQGaIcUAAAABAF4dxQAAAAKBsgXFAAAAAwMSAcUAAAACganhxQAAAACD6dHFAAAAAINB0cUAAAAAAeHRxQAAAAACHhHFAAAAAwMadcUAAAAAg7bFxQAAAAGB9zHFAAAAAgLffcUAAAABAbe1xQAAAAOBr+3FAAAAAICwDckAAAABg9wRyQAAAAEBhBHJAAAAAIM0DckAAAAAgkvdxQAAAAKBd9nFAAAAA4BjocUAAAADgNtRxQAAAAGCTw3FAAAAAQHS1cUAAAADg/qtxQAAAAMBkqHFAAAAAQI2ncUAAAACgo6RxQAAAAGCxoXFAAAAAgPKecUAAAAAg15pxQAAAAMB/qXFAAAAAoNi+cUAAAADAl9JxQAAAAKAC6nFAAAAAoEv8cUAAAACg4fRxQAAAAKCoCXJAAAAAgC4WckAAAABggxxyQAAAAODhFXJAAAAAIDf6cUAAAACgo+pxQAAAAEBi8nFAAAAAAEXfcUAAAAAADcpxQAAAAODzxHFAAAAAQGq8cUAAAAAg0LFxQAAAAADPrXFAAAAAIIaqcUAAAABglqVxQAAAAIAQo3FAAAAAAAOgcUAAAADA0ZxxQAAAAICqrHFAAAAAIJbDcUAAAAAAj9JxQAAAACBd6XFAAAAAABr9cUAAAADgnQ1yQAAAAABEFHJAAAAAAG4MckAAAADg5vlxQAAAAACf7HFAAAAAoKnicUAAAADg9exxQAAAAEBr8nFAAAAA4NbvcUAAAADACOFxQAAAAOC303FAAAAAAKLNcUAAAACAFMdxQAAAAMCVwHFAAAAAQO+/cUAAAACAOb1xQAAAACD5t3FAAAAAYAa1cUAAAACgUrBxQAAAAADgv3FAAAAAINPdcUAAAABgavpxQAAAAGDHDHJAAAAAYFn2cUAAAAAgthdyQAAAAOBBCnJAAAAAIEb4cUAAAADgyg5yQAAAAIB3KHJAAAAA4LMAckAAAABgYf5xQAAAAGBV8XFAAAAAQPz5cUAAAAAAk/FxQAAAAGCu6XFAAAAAIKfgcUAAAABgqNxxQAAAAMCp2nFAAAAAoPHYcUA=",
          "dtype": "f8"
         },
         "yaxis": "y"
        },
        {
         "hovertemplate": "%{y:.2f}<extra>P<sub>10%</sub></extra>",
         "marker": {
          "color": "#ef9b20",
          "size": 0.00001
         },
         "mode": "markers",
         "type": "scatter",
         "x": [
          "2025-07-09T00:00:00",
          "2025-07-09T01:00:00",
          "2025-07-09T02:00:00",
          "2025-07-09T03:00:00",
          "2025-07-09T04:00:00",
          "2025-07-09T05:00:00",
          "2025-07-09T06:00:00",
          "2025-07-09T07:00:00",
          "2025-07-09T08:00:00",
          "2025-07-09T09:00:00",
          "2025-07-09T10:00:00",
          "2025-07-09T11:00:00",
          "2025-07-09T12:00:00",
          "2025-07-09T13:00:00",
          "2025-07-09T14:00:00",
          "2025-07-09T15:00:00",
          "2025-07-09T16:00:00",
          "2025-07-09T17:00:00",
          "2025-07-09T18:00:00",
          "2025-07-09T19:00:00",
          "2025-07-09T20:00:00",
          "2025-07-09T21:00:00",
          "2025-07-09T22:00:00",
          "2025-07-09T23:00:00",
          "2025-07-10T00:00:00",
          "2025-07-10T01:00:00",
          "2025-07-10T02:00:00",
          "2025-07-10T03:00:00",
          "2025-07-10T04:00:00",
          "2025-07-10T05:00:00",
          "2025-07-10T06:00:00",
          "2025-07-10T07:00:00",
          "2025-07-10T08:00:00",
          "2025-07-10T09:00:00",
          "2025-07-10T10:00:00",
          "2025-07-10T11:00:00",
          "2025-07-10T12:00:00",
          "2025-07-10T13:00:00",
          "2025-07-10T14:00:00",
          "2025-07-10T15:00:00",
          "2025-07-10T16:00:00",
          "2025-07-10T17:00:00",
          "2025-07-10T18:00:00",
          "2025-07-10T19:00:00",
          "2025-07-10T20:00:00",
          "2025-07-10T21:00:00",
          "2025-07-10T22:00:00",
          "2025-07-10T23:00:00",
          "2025-07-11T00:00:00",
          "2025-07-11T01:00:00",
          "2025-07-11T02:00:00",
          "2025-07-11T03:00:00",
          "2025-07-11T04:00:00",
          "2025-07-11T05:00:00",
          "2025-07-11T06:00:00",
          "2025-07-11T07:00:00",
          "2025-07-11T08:00:00",
          "2025-07-11T09:00:00",
          "2025-07-11T10:00:00",
          "2025-07-11T11:00:00",
          "2025-07-11T12:00:00",
          "2025-07-11T13:00:00",
          "2025-07-11T14:00:00",
          "2025-07-11T15:00:00",
          "2025-07-11T16:00:00",
          "2025-07-11T17:00:00",
          "2025-07-11T18:00:00",
          "2025-07-11T19:00:00",
          "2025-07-11T20:00:00",
          "2025-07-11T21:00:00",
          "2025-07-11T22:00:00",
          "2025-07-11T23:00:00",
          "2025-07-12T00:00:00",
          "2025-07-12T01:00:00",
          "2025-07-12T02:00:00",
          "2025-07-12T03:00:00",
          "2025-07-12T04:00:00",
          "2025-07-12T05:00:00",
          "2025-07-12T06:00:00",
          "2025-07-12T07:00:00",
          "2025-07-12T08:00:00",
          "2025-07-12T09:00:00",
          "2025-07-12T10:00:00",
          "2025-07-12T11:00:00",
          "2025-07-12T12:00:00",
          "2025-07-12T13:00:00",
          "2025-07-12T14:00:00",
          "2025-07-12T15:00:00",
          "2025-07-12T16:00:00",
          "2025-07-12T17:00:00",
          "2025-07-12T18:00:00",
          "2025-07-12T19:00:00",
          "2025-07-12T20:00:00",
          "2025-07-12T21:00:00",
          "2025-07-12T22:00:00",
          "2025-07-12T23:00:00",
          "2025-07-13T00:00:00",
          "2025-07-13T01:00:00",
          "2025-07-13T02:00:00",
          "2025-07-13T03:00:00",
          "2025-07-13T04:00:00",
          "2025-07-13T05:00:00",
          "2025-07-13T06:00:00",
          "2025-07-13T07:00:00",
          "2025-07-13T08:00:00",
          "2025-07-13T09:00:00",
          "2025-07-13T10:00:00",
          "2025-07-13T11:00:00",
          "2025-07-13T12:00:00",
          "2025-07-13T13:00:00",
          "2025-07-13T14:00:00",
          "2025-07-13T15:00:00",
          "2025-07-13T16:00:00",
          "2025-07-13T17:00:00",
          "2025-07-13T18:00:00",
          "2025-07-13T19:00:00",
          "2025-07-13T20:00:00",
          "2025-07-13T21:00:00",
          "2025-07-13T22:00:00",
          "2025-07-13T23:00:00",
          "2025-07-14T00:00:00"
         ],
         "xaxis": "x",
         "y": {
          "bdata": "ZmZmVg1ecUBmZmYWxWtxQJqZmRlfaXFAZmZmtj1lcUBmZmZW9mNxQAAAAFDFZXFAzczMHC5qcUBmZmY2b21xQAAAAKDkdHFAAAAAAByDcUDNzMyciZlxQAAAANBkrHFAmpmZeWWycUBmZmYWIbRxQM3MzKxAvnFAZmZmdnnFcUAzMzNT1cRxQDMzM+OEvXFAzczM7CK0cUCamZmZ3aZxQM3MzOw1lnFAAAAA8H6JcUAzMzNDlodxQM3MzHyQg3FAmpmZKT6BcUDNzMyMx3xxQAAAADAmenFAmpmZWTl4cUDNzMzsb3ZxQM3MzIxGiHFAZmZmVh2ecUAzMzPD+bJxQDMzM3ObzHFAMzMzYx3hcUBmZmbWSvFxQGZmZpY6/nFAmpmZebkHckCamZkpNQpyQDMzM7OWCXJAzczMnFwEckAzMzMzsAFyQM3MzEyv+HFAZmZmNrjpcUAzMzNzUdZxQDMzM2PtxnFAMzMzk5m3cUAAAABQnLBxQDMzM1MDrXFAmpmZudKpcUAzMzNT8qRxQJqZmantonFAmpmZKX6fcUDNzMzMdp1xQM3MzLwNrXFAZmZmVsnBcUAAAADgsNRxQM3MzLwK7HFAmpmZGY7+cUCamZmpRQVyQM3MzMx0EXJAzczMvBwZckBmZmaGnx9yQJqZmVmuG3JAZmZmFpwXckDNzMxc0w1yQDMzM8PH/HFAzczMrB7zcUDNzMysUd1xQGZmZiaRyXFAzczMbErEcUAAAADQHb1xQAAAAGBxtnFAZmZmtpyzcUCamZmJla9xQJqZmenBqHFAzczM3CemcUCamZm576JxQJqZmYmVsHFAMzMzYwjHcUCamZmpgtxxQAAAACCo9HFAzczMTLEEckCamZm5pxNyQDMzM4PKHHJAzczM7GQQckBmZmaG8yNyQDMzM9O9H3JAMzMzI7UjckAAAABwdxtyQDMzM+PTD3JAmpmZ2Z8FckCamZmZ2/JxQGZmZma62XFAAAAAkA3ScUCamZl5/cpxQDMzM1OExnFAzczMPNnEcUBmZma2acBxQGZmZrbpvnFAzczMrDa7cUAzMzMDdrpxQM3MzEwsy3FAMzMzMynmcUBmZmbW8vxxQDMzM9M+FnJAzczMzPokckBmZmb2UjFyQDMzMzOMOnJAzczMrPI5ckDNzMyMXUVyQJqZmWk1RXJAmpmZWRA+ckAzMzMz5CdyQJqZmVnoGnJAZmZmVt8PckAzMzOTLgByQAAAAFA37nFAAAAAQNrlcUAAAADgbOBxQAAAAIAH3nFAAAAAoLHacUA=",
          "dtype": "f8"
         },
         "yaxis": "y"
        },
        {
         "hovertemplate": "%{y:.2f}<extra>P<sub>25%</sub></extra>",
         "marker": {
          "color": "#ef9b20",
          "size": 0.00001
         },
         "mode": "markers",
         "type": "scatter",
         "x": [
          "2025-07-09T00:00:00",
          "2025-07-09T01:00:00",
          "2025-07-09T02:00:00",
          "2025-07-09T03:00:00",
          "2025-07-09T04:00:00",
          "2025-07-09T05:00:00",
          "2025-07-09T06:00:00",
          "2025-07-09T07:00:00",
          "2025-07-09T08:00:00",
          "2025-07-09T09:00:00",
          "2025-07-09T10:00:00",
          "2025-07-09T11:00:00",
          "2025-07-09T12:00:00",
          "2025-07-09T13:00:00",
          "2025-07-09T14:00:00",
          "2025-07-09T15:00:00",
          "2025-07-09T16:00:00",
          "2025-07-09T17:00:00",
          "2025-07-09T18:00:00",
          "2025-07-09T19:00:00",
          "2025-07-09T20:00:00",
          "2025-07-09T21:00:00",
          "2025-07-09T22:00:00",
          "2025-07-09T23:00:00",
          "2025-07-10T00:00:00",
          "2025-07-10T01:00:00",
          "2025-07-10T02:00:00",
          "2025-07-10T03:00:00",
          "2025-07-10T04:00:00",
          "2025-07-10T05:00:00",
          "2025-07-10T06:00:00",
          "2025-07-10T07:00:00",
          "2025-07-10T08:00:00",
          "2025-07-10T09:00:00",
          "2025-07-10T10:00:00",
          "2025-07-10T11:00:00",
          "2025-07-10T12:00:00",
          "2025-07-10T13:00:00",
          "2025-07-10T14:00:00",
          "2025-07-10T15:00:00",
          "2025-07-10T16:00:00",
          "2025-07-10T17:00:00",
          "2025-07-10T18:00:00",
          "2025-07-10T19:00:00",
          "2025-07-10T20:00:00",
          "2025-07-10T21:00:00",
          "2025-07-10T22:00:00",
          "2025-07-10T23:00:00",
          "2025-07-11T00:00:00",
          "2025-07-11T01:00:00",
          "2025-07-11T02:00:00",
          "2025-07-11T03:00:00",
          "2025-07-11T04:00:00",
          "2025-07-11T05:00:00",
          "2025-07-11T06:00:00",
          "2025-07-11T07:00:00",
          "2025-07-11T08:00:00",
          "2025-07-11T09:00:00",
          "2025-07-11T10:00:00",
          "2025-07-11T11:00:00",
          "2025-07-11T12:00:00",
          "2025-07-11T13:00:00",
          "2025-07-11T14:00:00",
          "2025-07-11T15:00:00",
          "2025-07-11T16:00:00",
          "2025-07-11T17:00:00",
          "2025-07-11T18:00:00",
          "2025-07-11T19:00:00",
          "2025-07-11T20:00:00",
          "2025-07-11T21:00:00",
          "2025-07-11T22:00:00",
          "2025-07-11T23:00:00",
          "2025-07-12T00:00:00",
          "2025-07-12T01:00:00",
          "2025-07-12T02:00:00",
          "2025-07-12T03:00:00",
          "2025-07-12T04:00:00",
          "2025-07-12T05:00:00",
          "2025-07-12T06:00:00",
          "2025-07-12T07:00:00",
          "2025-07-12T08:00:00",
          "2025-07-12T09:00:00",
          "2025-07-12T10:00:00",
          "2025-07-12T11:00:00",
          "2025-07-12T12:00:00",
          "2025-07-12T13:00:00",
          "2025-07-12T14:00:00",
          "2025-07-12T15:00:00",
          "2025-07-12T16:00:00",
          "2025-07-12T17:00:00",
          "2025-07-12T18:00:00",
          "2025-07-12T19:00:00",
          "2025-07-12T20:00:00",
          "2025-07-12T21:00:00",
          "2025-07-12T22:00:00",
          "2025-07-12T23:00:00",
          "2025-07-13T00:00:00",
          "2025-07-13T01:00:00",
          "2025-07-13T02:00:00",
          "2025-07-13T03:00:00",
          "2025-07-13T04:00:00",
          "2025-07-13T05:00:00",
          "2025-07-13T06:00:00",
          "2025-07-13T07:00:00",
          "2025-07-13T08:00:00",
          "2025-07-13T09:00:00",
          "2025-07-13T10:00:00",
          "2025-07-13T11:00:00",
          "2025-07-13T12:00:00",
          "2025-07-13T13:00:00",
          "2025-07-13T14:00:00",
          "2025-07-13T15:00:00",
          "2025-07-13T16:00:00",
          "2025-07-13T17:00:00",
          "2025-07-13T18:00:00",
          "2025-07-13T19:00:00",
          "2025-07-13T20:00:00",
          "2025-07-13T21:00:00",
          "2025-07-13T22:00:00",
          "2025-07-13T23:00:00",
          "2025-07-14T00:00:00"
         ],
         "xaxis": "x",
         "y": {
          "bdata": "AAAAyAFhcUAAAACYH2xxQAAAAEDNanFAAAAA6GxncUAAAABw4GRxQAAAAAiVZnFAAAAAsM1scUAAAAAgq29xQAAAAHi+eXFAAAAAaAeJcUAAAAB41aNxQAAAAOAVsnFAAAAASPm0cUAAAABIEsJxQAAAAPDAyXFAAAAAeLnPcUAAAACg1MtxQAAAACDkw3FAAAAACCS5cUAAAACwDqtxQAAAAMDumXFAAAAAMM6RcUAAAAAIxIlxQAAAAFAthHFAAAAAaNmBcUAAAACoVH5xQAAAAFihe3FAAAAAyCV5cUAAAABwTHdxQAAAALj4iHFAAAAAGEWfcUAAAABIPrRxQAAAAMDQzXFAAAAA0IDhcUAAAAA4P/JxQAAAAHh4AHJAAAAAOLsKckAAAAAgkw9yQAAAAPDjDXJAAAAAYFcMckAAAABwNQVyQAAAAODa+nFAAAAA0FvscUAAAADo09dxQAAAADh9yHFAAAAASNi6cUAAAAAoobNxQAAAAAhjrnFAAAAAEGarcUAAAAAg1adxQAAAAEghpHFAAAAA2CWhcUAAAAAAXJ9xQAAAANhDrnFAAAAA0G3CcUAAAABYM9dxQAAAADD77XFAAAAACPj/cUAAAAAQFQ1yQAAAAHBnGHJAAAAAQCMeckAAAACoHSJyQAAAAJhWH3JAAAAASE8dckAAAABQ1hVyQAAAAJh+C3JAAAAAWFT6cUAAAAC4zuVxQAAAAJiM0XFAAAAAAA/IcUAAAAAI1cBxQAAAACCdvXFAAAAA8Ci5cUAAAACIN7VxQAAAAMh8sXFAAAAA8AWtcUAAAACoWKtxQAAAAAAmuHFAAAAAkPfOcUAAAACo/+NxQAAAAHCq+3FAAAAAcNcPckAAAABIjBtyQAAAAHDGIHJAAAAAoBwqckAAAAAQ8C1yQAAAAJB3KXJAAAAAWC8mckAAAADAMyByQAAAAHAqGHJAAAAA0DwNckAAAAAQ0PdxQAAAAFhI4nFAAAAAOHbZcUAAAACg6tFxQAAAABj2y3FAAAAAiBDIcUAAAABYqcVxQAAAAHDawnFAAAAAqCXBcUAAAADgkcBxQAAAAKieznFAAAAAwFbrcUAAAABAFARyQAAAAGDSG3JAAAAAQGkqckAAAABAbjZyQAAAAIB8QnJAAAAAkF1KckAAAAAIZUpyQAAAAJDMSnJAAAAA4PxFckAAAAAIfjhyQAAAAFD5JXJAAAAA2MAhckAAAADgUwtyQAAAAOCY+HFAAAAASADucUAAAAC4RulxQAAAAKjd43FAAAAAUDjhcUA=",
          "dtype": "f8"
         },
         "yaxis": "y"
        },
        {
         "hovertemplate": "%{y:.2f}<extra>P<sub>50%</sub></extra>",
         "marker": {
          "color": "#ef9b20",
          "size": 0.00001
         },
         "mode": "markers",
         "type": "scatter",
         "x": [
          "2025-07-09T00:00:00",
          "2025-07-09T01:00:00",
          "2025-07-09T02:00:00",
          "2025-07-09T03:00:00",
          "2025-07-09T04:00:00",
          "2025-07-09T05:00:00",
          "2025-07-09T06:00:00",
          "2025-07-09T07:00:00",
          "2025-07-09T08:00:00",
          "2025-07-09T09:00:00",
          "2025-07-09T10:00:00",
          "2025-07-09T11:00:00",
          "2025-07-09T12:00:00",
          "2025-07-09T13:00:00",
          "2025-07-09T14:00:00",
          "2025-07-09T15:00:00",
          "2025-07-09T16:00:00",
          "2025-07-09T17:00:00",
          "2025-07-09T18:00:00",
          "2025-07-09T19:00:00",
          "2025-07-09T20:00:00",
          "2025-07-09T21:00:00",
          "2025-07-09T22:00:00",
          "2025-07-09T23:00:00",
          "2025-07-10T00:00:00",
          "2025-07-10T01:00:00",
          "2025-07-10T02:00:00",
          "2025-07-10T03:00:00",
          "2025-07-10T04:00:00",
          "2025-07-10T05:00:00",
          "2025-07-10T06:00:00",
          "2025-07-10T07:00:00",
          "2025-07-10T08:00:00",
          "2025-07-10T09:00:00",
          "2025-07-10T10:00:00",
          "2025-07-10T11:00:00",
          "2025-07-10T12:00:00",
          "2025-07-10T13:00:00",
          "2025-07-10T14:00:00",
          "2025-07-10T15:00:00",
          "2025-07-10T16:00:00",
          "2025-07-10T17:00:00",
          "2025-07-10T18:00:00",
          "2025-07-10T19:00:00",
          "2025-07-10T20:00:00",
          "2025-07-10T21:00:00",
          "2025-07-10T22:00:00",
          "2025-07-10T23:00:00",
          "2025-07-11T00:00:00",
          "2025-07-11T01:00:00",
          "2025-07-11T02:00:00",
          "2025-07-11T03:00:00",
          "2025-07-11T04:00:00",
          "2025-07-11T05:00:00",
          "2025-07-11T06:00:00",
          "2025-07-11T07:00:00",
          "2025-07-11T08:00:00",
          "2025-07-11T09:00:00",
          "2025-07-11T10:00:00",
          "2025-07-11T11:00:00",
          "2025-07-11T12:00:00",
          "2025-07-11T13:00:00",
          "2025-07-11T14:00:00",
          "2025-07-11T15:00:00",
          "2025-07-11T16:00:00",
          "2025-07-11T17:00:00",
          "2025-07-11T18:00:00",
          "2025-07-11T19:00:00",
          "2025-07-11T20:00:00",
          "2025-07-11T21:00:00",
          "2025-07-11T22:00:00",
          "2025-07-11T23:00:00",
          "2025-07-12T00:00:00",
          "2025-07-12T01:00:00",
          "2025-07-12T02:00:00",
          "2025-07-12T03:00:00",
          "2025-07-12T04:00:00",
          "2025-07-12T05:00:00",
          "2025-07-12T06:00:00",
          "2025-07-12T07:00:00",
          "2025-07-12T08:00:00",
          "2025-07-12T09:00:00",
          "2025-07-12T10:00:00",
          "2025-07-12T11:00:00",
          "2025-07-12T12:00:00",
          "2025-07-12T13:00:00",
          "2025-07-12T14:00:00",
          "2025-07-12T15:00:00",
          "2025-07-12T16:00:00",
          "2025-07-12T17:00:00",
          "2025-07-12T18:00:00",
          "2025-07-12T19:00:00",
          "2025-07-12T20:00:00",
          "2025-07-12T21:00:00",
          "2025-07-12T22:00:00",
          "2025-07-12T23:00:00",
          "2025-07-13T00:00:00",
          "2025-07-13T01:00:00",
          "2025-07-13T02:00:00",
          "2025-07-13T03:00:00",
          "2025-07-13T04:00:00",
          "2025-07-13T05:00:00",
          "2025-07-13T06:00:00",
          "2025-07-13T07:00:00",
          "2025-07-13T08:00:00",
          "2025-07-13T09:00:00",
          "2025-07-13T10:00:00",
          "2025-07-13T11:00:00",
          "2025-07-13T12:00:00",
          "2025-07-13T13:00:00",
          "2025-07-13T14:00:00",
          "2025-07-13T15:00:00",
          "2025-07-13T16:00:00",
          "2025-07-13T17:00:00",
          "2025-07-13T18:00:00",
          "2025-07-13T19:00:00",
          "2025-07-13T20:00:00",
          "2025-07-13T21:00:00",
          "2025-07-13T22:00:00",
          "2025-07-13T23:00:00",
          "2025-07-14T00:00:00"
         ],
         "xaxis": "x",
         "y": {
          "bdata": "AAAAYFRicUAAAAAw1m1xQAAAAMB9bHFAAAAAsLFocUAAAAAAu2ZxQAAAABD+Z3FAAAAA8D1ucUAAAADAtHFxQAAAADDhfXFAAAAAgLSScUAAAADQwalxQAAAAKDytnFAAAAAAGbDcUAAAABgh8hxQAAAALD40XFAAAAA8BHTcUAAAABwi89xQAAAAAD+x3FAAAAAcGO8cUAAAABgMK1xQAAAAOC4nnFAAAAAINqUcUAAAADAUIxxQAAAANDShnFAAAAAcGOEcUAAAAAwxYBxQAAAABDHfHFAAAAAkJV6cUAAAAAQRnhxQAAAAJCNinFAAAAAEMegcUAAAAAAgLVxQAAAANB7z3FAAAAAMK/kcUAAAABAp/VxQAAAABANBXJAAAAA0JMPckAAAADA0xNyQAAAAKD8E3JAAAAA4NsPckAAAABg1AhyQAAAANAX/3FAAAAAoC/wcUAAAADgS9pxQAAAAOCvy3FAAAAAgJK/cUAAAACwP7hxQAAAAEDfsXFAAAAAYPGtcUAAAAAA2qpxQAAAAPDspnFAAAAAcHqjcUAAAADQtqFxQAAAAACCsHFAAAAAcMbDcUAAAACQVdlxQAAAAFBs8XFAAAAAkJcCckAAAAAQsBByQAAAACD4GnJAAAAAcDEjckAAAABQ/SZyQAAAAOC4JHJAAAAAUPYfckAAAADAYBlyQAAAAJBZDnJAAAAA8P38cUAAAACQYOdxQAAAALAI1XFAAAAA0EbNcUAAAAAwvcVxQAAAADA2v3FAAAAAgGW+cUAAAACQAb1xQAAAALAhuXFAAAAAkA+2cUAAAACQZrVxQAAAALAxw3FAAAAAYNHUcUAAAABwO+hxQAAAAHDNAXJAAAAAoPQSckAAAABwfyRyQAAAACAqMXJAAAAAgO85ckAAAACQnDhyQAAAAPB4OHJAAAAA4C4xckAAAABgzihyQAAAADDHIXJAAAAAUO0TckAAAACAK/9xQAAAAFCb5nFAAAAAsNXgcUAAAAAQ6NpxQAAAAPC71HFAAAAAEPzPcUAAAABQsMxxQAAAAHAlynFAAAAAkOLHcUAAAADwD8ZxQAAAAED71HFAAAAAcL7wcUAAAACQsQhyQAAAAACzIHJAAAAAwLIxckAAAACAdj1yQAAAAFAsSHJAAAAAUNhPckAAAACgB1VyQAAAAHABUnJAAAAAoL9LckAAAADgAkVyQAAAAGCJOHJAAAAAUHItckAAAAAgIhdyQAAAAKBVAnJAAAAAAED4cUAAAABAzvBxQAAAAKCp63FAAAAAsN/lcUA=",
          "dtype": "f8"
         },
         "yaxis": "y"
        },
        {
         "hovertemplate": "%{y:.2f}<extra>P<sub>75%</sub></extra>",
         "marker": {
          "color": "#ef9b20",
          "size": 0.00001
         },
         "mode": "markers",
         "type": "scatter",
         "x": [
          "2025-07-09T00:00:00",
          "2025-07-09T01:00:00",
          "2025-07-09T02:00:00",
          "2025-07-09T03:00:00",
          "2025-07-09T04:00:00",
          "2025-07-09T05:00:00",
          "2025-07-09T06:00:00",
          "2025-07-09T07:00:00",
          "2025-07-09T08:00:00",
          "2025-07-09T09:00:00",
          "2025-07-09T10:00:00",
          "2025-07-09T11:00:00",
          "2025-07-09T12:00:00",
          "2025-07-09T13:00:00",
          "2025-07-09T14:00:00",
          "2025-07-09T15:00:00",
          "2025-07-09T16:00:00",
          "2025-07-09T17:00:00",
          "2025-07-09T18:00:00",
          "2025-07-09T19:00:00",
          "2025-07-09T20:00:00",
          "2025-07-09T21:00:00",
          "2025-07-09T22:00:00",
          "2025-07-09T23:00:00",
          "2025-07-10T00:00:00",
          "2025-07-10T01:00:00",
          "2025-07-10T02:00:00",
          "2025-07-10T03:00:00",
          "2025-07-10T04:00:00",
          "2025-07-10T05:00:00",
          "2025-07-10T06:00:00",
          "2025-07-10T07:00:00",
          "2025-07-10T08:00:00",
          "2025-07-10T09:00:00",
          "2025-07-10T10:00:00",
          "2025-07-10T11:00:00",
          "2025-07-10T12:00:00",
          "2025-07-10T13:00:00",
          "2025-07-10T14:00:00",
          "2025-07-10T15:00:00",
          "2025-07-10T16:00:00",
          "2025-07-10T17:00:00",
          "2025-07-10T18:00:00",
          "2025-07-10T19:00:00",
          "2025-07-10T20:00:00",
          "2025-07-10T21:00:00",
          "2025-07-10T22:00:00",
          "2025-07-10T23:00:00",
          "2025-07-11T00:00:00",
          "2025-07-11T01:00:00",
          "2025-07-11T02:00:00",
          "2025-07-11T03:00:00",
          "2025-07-11T04:00:00",
          "2025-07-11T05:00:00",
          "2025-07-11T06:00:00",
          "2025-07-11T07:00:00",
          "2025-07-11T08:00:00",
          "2025-07-11T09:00:00",
          "2025-07-11T10:00:00",
          "2025-07-11T11:00:00",
          "2025-07-11T12:00:00",
          "2025-07-11T13:00:00",
          "2025-07-11T14:00:00",
          "2025-07-11T15:00:00",
          "2025-07-11T16:00:00",
          "2025-07-11T17:00:00",
          "2025-07-11T18:00:00",
          "2025-07-11T19:00:00",
          "2025-07-11T20:00:00",
          "2025-07-11T21:00:00",
          "2025-07-11T22:00:00",
          "2025-07-11T23:00:00",
          "2025-07-12T00:00:00",
          "2025-07-12T01:00:00",
          "2025-07-12T02:00:00",
          "2025-07-12T03:00:00",
          "2025-07-12T04:00:00",
          "2025-07-12T05:00:00",
          "2025-07-12T06:00:00",
          "2025-07-12T07:00:00",
          "2025-07-12T08:00:00",
          "2025-07-12T09:00:00",
          "2025-07-12T10:00:00",
          "2025-07-12T11:00:00",
          "2025-07-12T12:00:00",
          "2025-07-12T13:00:00",
          "2025-07-12T14:00:00",
          "2025-07-12T15:00:00",
          "2025-07-12T16:00:00",
          "2025-07-12T17:00:00",
          "2025-07-12T18:00:00",
          "2025-07-12T19:00:00",
          "2025-07-12T20:00:00",
          "2025-07-12T21:00:00",
          "2025-07-12T22:00:00",
          "2025-07-12T23:00:00",
          "2025-07-13T00:00:00",
          "2025-07-13T01:00:00",
          "2025-07-13T02:00:00",
          "2025-07-13T03:00:00",
          "2025-07-13T04:00:00",
          "2025-07-13T05:00:00",
          "2025-07-13T06:00:00",
          "2025-07-13T07:00:00",
          "2025-07-13T08:00:00",
          "2025-07-13T09:00:00",
          "2025-07-13T10:00:00",
          "2025-07-13T11:00:00",
          "2025-07-13T12:00:00",
          "2025-07-13T13:00:00",
          "2025-07-13T14:00:00",
          "2025-07-13T15:00:00",
          "2025-07-13T16:00:00",
          "2025-07-13T17:00:00",
          "2025-07-13T18:00:00",
          "2025-07-13T19:00:00",
          "2025-07-13T20:00:00",
          "2025-07-13T21:00:00",
          "2025-07-13T22:00:00",
          "2025-07-13T23:00:00",
          "2025-07-14T00:00:00"
         ],
         "xaxis": "x",
         "y": {
          "bdata": "AAAAWG5kcUAAAAAInG9xQAAAAKC5bnFAAAAA8PJscUAAAACAvmhxQAAAAGihanFAAAAA8DVvcUAAAABAtHZxQAAAADiUf3FAAAAAWESacUAAAADw9a1xQAAAABDav3FAAAAAYJbJcUAAAABIndBxQAAAALB213FAAAAA+CDYcUAAAAAwV9NxQAAAAPiay3FAAAAACIO+cUAAAADQu65xQAAAAJDXo3FAAAAAqFWWcUAAAACgJo9xQAAAAHgaiXFAAAAAmJaFcUAAAAAwq4FxQAAAAHDlfXFAAAAAqEB7cUAAAAAIonlxQAAAADiajHFAAAAAOKaicUAAAAAowLZxQAAAANCt0HFAAAAAGDHmcUAAAADwOPhxQAAAALi0BnJAAAAAiIYQckAAAAAIxBZyQAAAAMh7F3JAAAAAWDETckAAAACwZQtyQAAAAED2AXJAAAAAyH7ycUAAAACIRtxxQAAAAHiMzXFAAAAAYOrCcUAAAAA40LtxQAAAAHhOtXFAAAAAsOOwcUAAAABYFK1xQAAAAJh4q3FAAAAASMincUAAAAAgbqVxQAAAAAg+s3FAAAAASAnGcUAAAAAITNtxQAAAAIg583FAAAAA2DkHckAAAADwUxdyQAAAAJjrI3JAAAAAyIopckAAAADgoSpyQAAAAGCAK3JAAAAA8OQkckAAAADITR1yQAAAAFAEEXJAAAAAIMQBckAAAADATuxxQAAAAGii2HFAAAAAAM7UcUAAAAAgcc9xQAAAAOBtx3FAAAAAcAvCcUAAAABwqL9xQAAAALgIu3FAAAAAwGu5cUAAAACgDrhxQAAAAGDjxHFAAAAAeA3bcUAAAABQRuxxQAAAAPieBXJAAAAA8K8ackAAAABwQCxyQAAAAPhON3JAAAAA6B9BckAAAAB4+0NyQAAAACCARHJAAAAA+NY5ckAAAACwTDByQAAAACjdK3JAAAAACLEeckAAAACQgQhyQAAAAEgu8HFAAAAAeL3kcUAAAADALt9xQAAAAGCE2nFAAAAAEOTXcUAAAAA4xtNxQAAAAMjr0HFAAAAAyMzPcUAAAACQJ9BxQAAAAIgc4HFAAAAAiBj5cUAAAACwWhFyQAAAALDFKXJAAAAAqAc3ckAAAAAQKkZyQAAAAFBeUnJAAAAA8LZXckAAAABQ8ltyQAAAAJCjWHJAAAAAYBtUckAAAADAaktyQAAAAEBmQnJAAAAAcEMyckAAAAAAeR1yQAAAAMh0CXJAAAAA+A38cUAAAABYvPRxQAAAACBk73FAAAAAMCfscUA=",
          "dtype": "f8"
         },
         "yaxis": "y"
        },
        {
         "hovertemplate": "%{y:.2f}<extra>P<sub>90%</sub></extra>",
         "marker": {
          "color": "#ef9b20",
          "size": 0.00001
         },
         "mode": "markers",
         "type": "scatter",
         "x": [
          "2025-07-09T00:00:00",
          "2025-07-09T01:00:00",
          "2025-07-09T02:00:00",
          "2025-07-09T03:00:00",
          "2025-07-09T04:00:00",
          "2025-07-09T05:00:00",
          "2025-07-09T06:00:00",
          "2025-07-09T07:00:00",
          "2025-07-09T08:00:00",
          "2025-07-09T09:00:00",
          "2025-07-09T10:00:00",
          "2025-07-09T11:00:00",
          "2025-07-09T12:00:00",
          "2025-07-09T13:00:00",
          "2025-07-09T14:00:00",
          "2025-07-09T15:00:00",
          "2025-07-09T16:00:00",
          "2025-07-09T17:00:00",
          "2025-07-09T18:00:00",
          "2025-07-09T19:00:00",
          "2025-07-09T20:00:00",
          "2025-07-09T21:00:00",
          "2025-07-09T22:00:00",
          "2025-07-09T23:00:00",
          "2025-07-10T00:00:00",
          "2025-07-10T01:00:00",
          "2025-07-10T02:00:00",
          "2025-07-10T03:00:00",
          "2025-07-10T04:00:00",
          "2025-07-10T05:00:00",
          "2025-07-10T06:00:00",
          "2025-07-10T07:00:00",
          "2025-07-10T08:00:00",
          "2025-07-10T09:00:00",
          "2025-07-10T10:00:00",
          "2025-07-10T11:00:00",
          "2025-07-10T12:00:00",
          "2025-07-10T13:00:00",
          "2025-07-10T14:00:00",
          "2025-07-10T15:00:00",
          "2025-07-10T16:00:00",
          "2025-07-10T17:00:00",
          "2025-07-10T18:00:00",
          "2025-07-10T19:00:00",
          "2025-07-10T20:00:00",
          "2025-07-10T21:00:00",
          "2025-07-10T22:00:00",
          "2025-07-10T23:00:00",
          "2025-07-11T00:00:00",
          "2025-07-11T01:00:00",
          "2025-07-11T02:00:00",
          "2025-07-11T03:00:00",
          "2025-07-11T04:00:00",
          "2025-07-11T05:00:00",
          "2025-07-11T06:00:00",
          "2025-07-11T07:00:00",
          "2025-07-11T08:00:00",
          "2025-07-11T09:00:00",
          "2025-07-11T10:00:00",
          "2025-07-11T11:00:00",
          "2025-07-11T12:00:00",
          "2025-07-11T13:00:00",
          "2025-07-11T14:00:00",
          "2025-07-11T15:00:00",
          "2025-07-11T16:00:00",
          "2025-07-11T17:00:00",
          "2025-07-11T18:00:00",
          "2025-07-11T19:00:00",
          "2025-07-11T20:00:00",
          "2025-07-11T21:00:00",
          "2025-07-11T22:00:00",
          "2025-07-11T23:00:00",
          "2025-07-12T00:00:00",
          "2025-07-12T01:00:00",
          "2025-07-12T02:00:00",
          "2025-07-12T03:00:00",
          "2025-07-12T04:00:00",
          "2025-07-12T05:00:00",
          "2025-07-12T06:00:00",
          "2025-07-12T07:00:00",
          "2025-07-12T08:00:00",
          "2025-07-12T09:00:00",
          "2025-07-12T10:00:00",
          "2025-07-12T11:00:00",
          "2025-07-12T12:00:00",
          "2025-07-12T13:00:00",
          "2025-07-12T14:00:00",
          "2025-07-12T15:00:00",
          "2025-07-12T16:00:00",
          "2025-07-12T17:00:00",
          "2025-07-12T18:00:00",
          "2025-07-12T19:00:00",
          "2025-07-12T20:00:00",
          "2025-07-12T21:00:00",
          "2025-07-12T22:00:00",
          "2025-07-12T23:00:00",
          "2025-07-13T00:00:00",
          "2025-07-13T01:00:00",
          "2025-07-13T02:00:00",
          "2025-07-13T03:00:00",
          "2025-07-13T04:00:00",
          "2025-07-13T05:00:00",
          "2025-07-13T06:00:00",
          "2025-07-13T07:00:00",
          "2025-07-13T08:00:00",
          "2025-07-13T09:00:00",
          "2025-07-13T10:00:00",
          "2025-07-13T11:00:00",
          "2025-07-13T12:00:00",
          "2025-07-13T13:00:00",
          "2025-07-13T14:00:00",
          "2025-07-13T15:00:00",
          "2025-07-13T16:00:00",
          "2025-07-13T17:00:00",
          "2025-07-13T18:00:00",
          "2025-07-13T19:00:00",
          "2025-07-13T20:00:00",
          "2025-07-13T21:00:00",
          "2025-07-13T22:00:00",
          "2025-07-13T23:00:00",
          "2025-07-14T00:00:00"
         ],
         "xaxis": "x",
         "y": {
          "bdata": "MzMz075mcUDNzMzMQXBxQDMzMyMPb3FAmpmZmRNvcUCamZn5l2xxQAAAAMCKbHFAmpmZyVFycUCamZn5lXhxQDMzMwNdiHFAmpmZOcafcUCamZm5GLJxQM3MzPwJxHFAMzMzAwfPcUAzMzOjf9dxQM3MzIwg4HFAzczM/HnfcUCamZlpeNhxQJqZmTkSz3FAzczMnE7BcUAzMzNDQLBxQJqZmYn4pXFAmpmZaaGWcUDNzMxsYpBxQDMzM7N2jHFAAAAAUH+GcUBmZmb2koNxQM3MzLwXgXFAMzMzg05/cUCamZlZ6XtxQAAAAEALjXFAmpmZifmjcUBmZmYWfLdxQAAAAKCE0nFAmpmZmSbocUAAAACQTvlxQM3MzOyHCHJAAAAAYLgSckDNzMwMoBhyQM3MzJysGHJAmpmZWQ8UckAzMzOjQAxyQJqZmQnOAnJAzczMPPnzcUAAAAAg2N1xQAAAAGCyznFAAAAAECbEcUDNzMzMcb9xQAAAAAAVunFAAAAAkBu1cUBmZmZmzrFxQAAAAIDsrXFAAAAAMFircUAzMzOzKKlxQAAAAMBttXFAMzMzU0PKcUAAAAAwrt1xQGZmZuYd9XFAAAAAoFQJckDNzMwMVxlyQJqZmclzJ3JAmpmZuc8tckAzMzOzKjJyQJqZmbmoMnJAMzMzw0ItckAAAABg3CNyQJqZmSmBGnJAZmZmRuIIckAzMzNzWPBxQAAAAHBI3HFAAAAAgPrXcUDNzMysNtJxQAAAAEDWynFAAAAAQF3GcUDNzMzMJcNxQM3MzNw/vnFAMzMzgxC7cUCamZnJB7pxQGZmZmZXx3FAZmZmxjfccUAzMzNzl+1xQGZmZsZ/CXJAMzMzc4AfckCamZlJYC9yQGZmZuYaPHJAZmZmhpBFckCamZnpjUdyQJqZmUluR3JAzczMXEdAckAAAACg0zhyQM3MzIwCMXJAMzMzw2okckAzMzOzGQ5yQM3MzEzh93FAmpmZKeHtcUAzMzNTAudxQM3MzHzA4XFAZmZmZs/hcUBmZma2EeFxQM3MzCxh5HFAmpmZ6crfcUCamZmJ6+BxQGZmZqbv7HFAAAAAEK77cUDNzMxMJBdyQDMzM2OYKnJAMzMzI6k9ckAzMzOzq0xyQAAAAFDMVnJAmpmZaX1fckAzMzPD4mRyQGZmZraXYnJAmpmZidNfckCamZl57VVyQDMzMzOSSXJAmpmZSTY3ckAAAABgByJyQJqZmSnhC3JAMzMzw6MAckAzMzNDvvlxQDMzM3Pn8HFAAAAAQBfzcUA=",
          "dtype": "f8"
         },
         "yaxis": "y"
        },
        {
         "hovertemplate": "%{y:.2f}<extra>P<sub>100%</sub></extra>",
         "marker": {
          "color": "#ef9b20",
          "size": 0.00001
         },
         "mode": "markers",
         "type": "scatter",
         "x": [
          "2025-07-09T00:00:00",
          "2025-07-09T01:00:00",
          "2025-07-09T02:00:00",
          "2025-07-09T03:00:00",
          "2025-07-09T04:00:00",
          "2025-07-09T05:00:00",
          "2025-07-09T06:00:00",
          "2025-07-09T07:00:00",
          "2025-07-09T08:00:00",
          "2025-07-09T09:00:00",
          "2025-07-09T10:00:00",
          "2025-07-09T11:00:00",
          "2025-07-09T12:00:00",
          "2025-07-09T13:00:00",
          "2025-07-09T14:00:00",
          "2025-07-09T15:00:00",
          "2025-07-09T16:00:00",
          "2025-07-09T17:00:00",
          "2025-07-09T18:00:00",
          "2025-07-09T19:00:00",
          "2025-07-09T20:00:00",
          "2025-07-09T21:00:00",
          "2025-07-09T22:00:00",
          "2025-07-09T23:00:00",
          "2025-07-10T00:00:00",
          "2025-07-10T01:00:00",
          "2025-07-10T02:00:00",
          "2025-07-10T03:00:00",
          "2025-07-10T04:00:00",
          "2025-07-10T05:00:00",
          "2025-07-10T06:00:00",
          "2025-07-10T07:00:00",
          "2025-07-10T08:00:00",
          "2025-07-10T09:00:00",
          "2025-07-10T10:00:00",
          "2025-07-10T11:00:00",
          "2025-07-10T12:00:00",
          "2025-07-10T13:00:00",
          "2025-07-10T14:00:00",
          "2025-07-10T15:00:00",
          "2025-07-10T16:00:00",
          "2025-07-10T17:00:00",
          "2025-07-10T18:00:00",
          "2025-07-10T19:00:00",
          "2025-07-10T20:00:00",
          "2025-07-10T21:00:00",
          "2025-07-10T22:00:00",
          "2025-07-10T23:00:00",
          "2025-07-11T00:00:00",
          "2025-07-11T01:00:00",
          "2025-07-11T02:00:00",
          "2025-07-11T03:00:00",
          "2025-07-11T04:00:00",
          "2025-07-11T05:00:00",
          "2025-07-11T06:00:00",
          "2025-07-11T07:00:00",
          "2025-07-11T08:00:00",
          "2025-07-11T09:00:00",
          "2025-07-11T10:00:00",
          "2025-07-11T11:00:00",
          "2025-07-11T12:00:00",
          "2025-07-11T13:00:00",
          "2025-07-11T14:00:00",
          "2025-07-11T15:00:00",
          "2025-07-11T16:00:00",
          "2025-07-11T17:00:00",
          "2025-07-11T18:00:00",
          "2025-07-11T19:00:00",
          "2025-07-11T20:00:00",
          "2025-07-11T21:00:00",
          "2025-07-11T22:00:00",
          "2025-07-11T23:00:00",
          "2025-07-12T00:00:00",
          "2025-07-12T01:00:00",
          "2025-07-12T02:00:00",
          "2025-07-12T03:00:00",
          "2025-07-12T04:00:00",
          "2025-07-12T05:00:00",
          "2025-07-12T06:00:00",
          "2025-07-12T07:00:00",
          "2025-07-12T08:00:00",
          "2025-07-12T09:00:00",
          "2025-07-12T10:00:00",
          "2025-07-12T11:00:00",
          "2025-07-12T12:00:00",
          "2025-07-12T13:00:00",
          "2025-07-12T14:00:00",
          "2025-07-12T15:00:00",
          "2025-07-12T16:00:00",
          "2025-07-12T17:00:00",
          "2025-07-12T18:00:00",
          "2025-07-12T19:00:00",
          "2025-07-12T20:00:00",
          "2025-07-12T21:00:00",
          "2025-07-12T22:00:00",
          "2025-07-12T23:00:00",
          "2025-07-13T00:00:00",
          "2025-07-13T01:00:00",
          "2025-07-13T02:00:00",
          "2025-07-13T03:00:00",
          "2025-07-13T04:00:00",
          "2025-07-13T05:00:00",
          "2025-07-13T06:00:00",
          "2025-07-13T07:00:00",
          "2025-07-13T08:00:00",
          "2025-07-13T09:00:00",
          "2025-07-13T10:00:00",
          "2025-07-13T11:00:00",
          "2025-07-13T12:00:00",
          "2025-07-13T13:00:00",
          "2025-07-13T14:00:00",
          "2025-07-13T15:00:00",
          "2025-07-13T16:00:00",
          "2025-07-13T17:00:00",
          "2025-07-13T18:00:00",
          "2025-07-13T19:00:00",
          "2025-07-13T20:00:00",
          "2025-07-13T21:00:00",
          "2025-07-13T22:00:00",
          "2025-07-13T23:00:00",
          "2025-07-14T00:00:00"
         ],
         "xaxis": "x",
         "y": {
          "bdata": "AAAAAHxqcUAAAABgLXRxQAAAAKBScHFAAAAAICdwcUAAAACgOG5xQAAAAMD4cXFAAAAAANd4cUAAAACAS39xQAAAAKBdjXFAAAAA4DyjcUAAAACgCrdxQAAAAMAeyHFAAAAAwGzQcUAAAAAAtNtxQAAAAKCC43FAAAAAYC3jcUAAAAAAbttxQAAAAKDc0HFAAAAAIHTDcUAAAABA8rRxQAAAAKABp3FAAAAAIKKZcUAAAABgUZlxQAAAAMDMlnFAAAAAAESQcUAAAADgfYtxQAAAAEBzhXFAAAAAIAKBcUAAAAAAu35xQAAAAEDwjXFAAAAAoBSlcUAAAACgortxQAAAAKDU0nFAAAAAgCLpcUAAAAAgGvtxQAAAAOB6C3JAAAAAAP4WckAAAACA8BtyQAAAACB8G3JAAAAAwAsYckAAAADAMA9yQAAAAMAWB3JAAAAA4Aj4cUAAAAAAAuFxQAAAAKCx0XFAAAAAoGLHcUAAAACgzsNxQAAAAODnu3FAAAAAQNa1cUAAAAAAZbVxQAAAAIAQsHFAAAAAwM6scUAAAAAAaapxQAAAAIC7unFAAAAAoBzNcUAAAABgjN5xQAAAAEDT+XFAAAAAYOIOckAAAAAgdR1yQAAAAEAQK3JAAAAA4MgzckAAAACgGDdyQAAAAOBSNnJAAAAAAHoxckAAAACgkCdyQAAAAGBHG3JAAAAAgKYJckAAAADg4fBxQAAAACA033FAAAAAYLPfcUAAAADAbNpxQAAAAEAG1nFAAAAAYNDPcUAAAADgZc9xQAAAACDZ0XFAAAAAYGbMcUAAAABAEspxQAAAAMC8znFAAAAAQL3ccUAAAAAAWfBxQAAAAIDWC3JAAAAAoJQgckAAAAAA6zRyQAAAAMBpQ3JAAAAAAE9MckAAAABgTlFyQAAAAIDxUnJAAAAAgAdQckAAAACgREhyQAAAAOChO3JAAAAAgGorckAAAAAgQhFyQAAAAECdAnJAAAAA4OL0cUAAAAAAQepxQAAAAAD25XFAAAAAQDDncUAAAACAIONxQAAAAMAd53FAAAAAgD7jcUAAAAAASuZxQAAAAMCE7nFAAAAAIAkFckAAAADAmx9yQAAAAAC8LnJAAAAAYKdDckAAAACgcVRyQAAAAIBWYHJAAAAAwCxpckAAAABg521yQAAAAGDda3JAAAAAoOBqckAAAAAAs2VyQAAAAMAEW3JAAAAAgERIckAAAACAVStyQAAAAMBnEXJAAAAAoDoIckAAAACghf9xQAAAACCP+3FAAAAAQFz5cUA=",
          "dtype": "f8"
         },
         "yaxis": "y"
        },
        {
         "line": {
          "color": "grey"
         },
         "name": "mean",
         "type": "scatter",
         "x": [
          "2025-07-09T00:00:00",
          "2025-07-09T01:00:00",
          "2025-07-09T02:00:00",
          "2025-07-09T03:00:00",
          "2025-07-09T04:00:00",
          "2025-07-09T05:00:00",
          "2025-07-09T06:00:00",
          "2025-07-09T07:00:00",
          "2025-07-09T08:00:00",
          "2025-07-09T09:00:00",
          "2025-07-09T10:00:00",
          "2025-07-09T11:00:00",
          "2025-07-09T12:00:00",
          "2025-07-09T13:00:00",
          "2025-07-09T14:00:00",
          "2025-07-09T15:00:00",
          "2025-07-09T16:00:00",
          "2025-07-09T17:00:00",
          "2025-07-09T18:00:00",
          "2025-07-09T19:00:00",
          "2025-07-09T20:00:00",
          "2025-07-09T21:00:00",
          "2025-07-09T22:00:00",
          "2025-07-09T23:00:00",
          "2025-07-10T00:00:00",
          "2025-07-10T01:00:00",
          "2025-07-10T02:00:00",
          "2025-07-10T03:00:00",
          "2025-07-10T04:00:00",
          "2025-07-10T05:00:00",
          "2025-07-10T06:00:00",
          "2025-07-10T07:00:00",
          "2025-07-10T08:00:00",
          "2025-07-10T09:00:00",
          "2025-07-10T10:00:00",
          "2025-07-10T11:00:00",
          "2025-07-10T12:00:00",
          "2025-07-10T13:00:00",
          "2025-07-10T14:00:00",
          "2025-07-10T15:00:00",
          "2025-07-10T16:00:00",
          "2025-07-10T17:00:00",
          "2025-07-10T18:00:00",
          "2025-07-10T19:00:00",
          "2025-07-10T20:00:00",
          "2025-07-10T21:00:00",
          "2025-07-10T22:00:00",
          "2025-07-10T23:00:00",
          "2025-07-11T00:00:00",
          "2025-07-11T01:00:00",
          "2025-07-11T02:00:00",
          "2025-07-11T03:00:00",
          "2025-07-11T04:00:00",
          "2025-07-11T05:00:00",
          "2025-07-11T06:00:00",
          "2025-07-11T07:00:00",
          "2025-07-11T08:00:00",
          "2025-07-11T09:00:00",
          "2025-07-11T10:00:00",
          "2025-07-11T11:00:00",
          "2025-07-11T12:00:00",
          "2025-07-11T13:00:00",
          "2025-07-11T14:00:00",
          "2025-07-11T15:00:00",
          "2025-07-11T16:00:00",
          "2025-07-11T17:00:00",
          "2025-07-11T18:00:00",
          "2025-07-11T19:00:00",
          "2025-07-11T20:00:00",
          "2025-07-11T21:00:00",
          "2025-07-11T22:00:00",
          "2025-07-11T23:00:00",
          "2025-07-12T00:00:00",
          "2025-07-12T01:00:00",
          "2025-07-12T02:00:00",
          "2025-07-12T03:00:00",
          "2025-07-12T04:00:00",
          "2025-07-12T05:00:00",
          "2025-07-12T06:00:00",
          "2025-07-12T07:00:00",
          "2025-07-12T08:00:00",
          "2025-07-12T09:00:00",
          "2025-07-12T10:00:00",
          "2025-07-12T11:00:00",
          "2025-07-12T12:00:00",
          "2025-07-12T13:00:00",
          "2025-07-12T14:00:00",
          "2025-07-12T15:00:00",
          "2025-07-12T16:00:00",
          "2025-07-12T17:00:00",
          "2025-07-12T18:00:00",
          "2025-07-12T19:00:00",
          "2025-07-12T20:00:00",
          "2025-07-12T21:00:00",
          "2025-07-12T22:00:00",
          "2025-07-12T23:00:00",
          "2025-07-13T00:00:00",
          "2025-07-13T01:00:00",
          "2025-07-13T02:00:00",
          "2025-07-13T03:00:00",
          "2025-07-13T04:00:00",
          "2025-07-13T05:00:00",
          "2025-07-13T06:00:00",
          "2025-07-13T07:00:00",
          "2025-07-13T08:00:00",
          "2025-07-13T09:00:00",
          "2025-07-13T10:00:00",
          "2025-07-13T11:00:00",
          "2025-07-13T12:00:00",
          "2025-07-13T13:00:00",
          "2025-07-13T14:00:00",
          "2025-07-13T15:00:00",
          "2025-07-13T16:00:00",
          "2025-07-13T17:00:00",
          "2025-07-13T18:00:00",
          "2025-07-13T19:00:00",
          "2025-07-13T20:00:00",
          "2025-07-13T21:00:00",
          "2025-07-13T22:00:00",
          "2025-07-13T23:00:00",
          "2025-07-14T00:00:00"
         ],
         "y": {
          "bdata": "MzMz07ZicUCamZmpAW5xQDMzM3t3bHFAZmZm5t5pcUAzMzPrM2dxQJqZmUn6aHFAzczM3EVucUDNzMzsSXNxQJqZmZmwfXFAAAAAAPyRcUBmZmZmMahxQJqZmSEluHFAzczM3HbAcUAAAABAeMdxQDMzM9Poz3FAmpmZAdLScUBmZmaGP89xQGZmZj5Hx3FAmpmZoZC7cUCamZmZ4axxQAAAAFARnnFAAAAAaA+TcUDNzMw04YxxQDMzMyOJh3FAmpmZ6YKEcUAzMzOrj4BxQGZmZlb6fHFAAAAAkJt6cUAAAADA0XhxQDMzMzN5inFAmpmZEd6gcUCamZkBl7VxQGZmZlZ7z3FAAAAAkEPkcUAAAADAV/VxQAAAAPi8A3JAAAAAANsNckBmZmZOhBJyQM3MzMxrEnJAAAAA+MgOckDNzMykhwdyQAAAAPh5/nFAzczM3IrvcUBmZmZmPNpxQJqZmeEIy3FAzczMlIy+cUDNzMyMx7dxQDMzM+NzsnFAzczMLH6ucUBmZmYGCatxQGZmZpbxp3FAZmZm5qOkcUDNzMyEfqJxQJqZmeEfsXFAmpmZKeDEcUDNzMxs/9hxQDMzMxvq8HFAzczMTLkDckCamZnh5g9yQJqZmckeHHJAZmZm5s8jckDNzMw8rSdyQGZmZt51JXJAZmZmBpAfckCamZnhgBdyQGZmZt7pDHJAzczMPML7cUAzMzPLY+ZxQGZmZr7903FAAAAAUIrNcUCamZnZaMZxQAAAALDlwHFAzczMpBS9cUAAAACYZbpxQGZmZibstnFAZmZmprSzcUDNzMxM8LFxQGZmZubNvnFAzczMpM3TcUCamZmhLuZxQJqZmaGL/3FAAAAAyG8TckAzMzM7QyNyQGZmZhZuLXJAMzMz+3szckAzMzPbVTVyQM3MzASVM3JAmpmZybMuckDNzMxE8iZyQDMzM7txIHJAzczMBB4UckBmZmb+Mf9xQJqZmSEI6XFAmpmZ6QngcUDNzMwsWdlxQJqZmTki1HFAAAAA2D3RcUAzMzPLOM5xQGZmZq4ezHFAMzMzO3LKcUDNzMxMIslxQGZmZkaH13FAMzMzs4/xcUCamZn5xgpyQAAAAPC4IHJAzczMrCsvckAzMzO7RD1yQM3MzIwNR3JAZmZmBulLckBmZmaWvVFyQDMzM6PIUXJAZmZmDo1KckAzMzMLZ0ByQDMzMwuUNHJAmpmZ0YgnckBmZmb+4RJyQDMzM6Ou/3FAAAAA+Gv1cUCamZnJyu5xQGZmZsbG6XFAAAAAQMzmcUA=",
          "dtype": "f8"
         }
        },
        {
         "fillcolor": "#B1B6FC",
         "hoverinfo": "skip",
         "line": {
          "color": "#27aeef"
         },
         "lowerfence": {
          "bdata": "AAAAkA9zckAAAAAQb2hyQAAAAIAhYnJAAAAAwNJfckAAAACQ+W5yQAAAAHDPh3JAAAAAAOOeckAAAACA6a9yQAAAAKAStHJAAAAA8G7GckAAAADQyN5yQAAAAGCI+HJAAAAAINP8ckAAAAAQLvJyQAAAAEBR3HJAAAAAgNjIckAAAABgyrRyQAAAAFCotXJAAAAAcN+wckAAAAAQrKpyQAAAAADNonJAAAAA4JeYckAAAAAw9Y1yQAAAAGAShnJAAAAA8F6BckAAAADQCXxyQAAAAAAGdHJAAAAAQK9zckAAAADAfoNyQAAAACDAlHJAAAAAIO+qckAAAADApsNyQAAAALD513JAAAAAIODnckAAAADAbvJyQAAAAIBr+nJAAAAAwCH3ckAAAACQ0fpyQAAAAMB+5nJAAAAAsMx3ckAAAACwl2JyQAAAABAvaXJAAAAAQI17ckAAAADAjXxyQAAAALAwdXJAAAAAgIh9ckAAAABgun5yQAAAAJBPhXJAAAAAQK2FckAAAADgyn1yQAAAAAAXe3JAAAAAoEZxckAAAADQh3ZyQAAAAPCziXJAAAAAMICdckAAAADg2rJyQAAAABAgzXJAAAAAsC7gckAAAABwUvhyQAAAAIAGAXNAAAAA8DAIc0AAAADw0ftyQAAAAFCT53JAAAAA4IfNckAAAAAA9cRyQAAAAEAKtXJAAAAAsPajckAAAABgBp1yQAAAAEAtlnJAAAAAADCJckAAAABgZIFyQAAAALAUenJAAAAAgCBzckAAAACwhWxyQAAAAEBjZ3JAAAAA0KNgckAAAADAnWhyQAAAAICme3JAAAAAUMWRckAAAACgArByQAAAAMBzynJAAAAAkMjeckAAAADw4/JyQAAAAKCW3nJAAAAAgKztckAAAADA+t1yQAAAACD+vnJAAAAAcKBrckAAAAAwmWxyQAAAAADpdXJAAAAA4FuEckAAAABAKXdyQAAAAKCPZXJAAAAAAMtbckAAAABQCo1yQAAAAAALt3JAAAAA4BnhckAAAAAQqrVyQAAAAEC+lnJAAAAAwOCCckAAAABQVnRyQAAAAFCFbXJAAAAAMK6eckAAAADwz+FyQAAAAIAT6nJAAAAAMJK4ckAAAABwLJxyQAAAAIDliHJAAAAAoCCBckAAAABwl5JyQAAAABDExXJA",
          "dtype": "f8"
         },
         "median": {
          "bdata": "AAAAuMmKckAAAABgPYByQAAAADjdeXJAAAAA6M11ckAAAADQo4JyQAAAAIB7l3JAAAAAIByvckAAAADwicxyQAAAANDK4HJAAAAA2Lz4ckAAAAAAAgxzQAAAAAgIF3NAAAAAULEVc0AAAABASwpzQAAAAKCI/XJAAAAAEF7tckAAAABwN99yQAAAAMiR0XJAAAAAqJPIckAAAACAiMByQAAAACjhtXJAAAAAOMOtckAAAACQV6ZyQAAAANDdnXJAAAAAMEqYckAAAACA6ZFyQAAAANiui3JAAAAAcByHckAAAADARJVyQAAAAIj8pXJAAAAAeLi7ckAAAADAm9ZyQAAAABgS8XJAAAAA8HUHc0AAAACoWBZzQAAAAMBXG3NAAAAACDcfc0AAAACAiRdzQAAAACgEDnNAAAAA+Nf+ckAAAAA4qO9yQAAAAJhL3nJAAAAAwLjTckAAAAAYRslyQAAAAKAkv3JAAAAA6IizckAAAACQWKlyQAAAALBsn3JAAAAAWICWckAAAADI9JByQAAAAMhWjXJAAAAAiPmLckAAAAAYkJlyQAAAAHAGrnJAAAAAqHi/ckAAAADwqNJyQAAAANC67HJAAAAACLQDc0AAAADIxBRzQAAAAMCtInNAAAAASHArc0AAAADwuChzQAAAADiEIHNAAAAA+KETc0AAAAB4TAJzQAAAACgU7XJAAAAAWPnackAAAABYRcpyQAAAAGB0vHJAAAAAKMGwckAAAACgyKVyQAAAAHDUm3JAAAAAsFSUckAAAACQIY1yQAAAAFjYhXJAAAAAGCSCckAAAACwfY5yQAAAADCxnnJAAAAAiPm1ckAAAACoRc9yQAAAAAhD63JAAAAA0LP+ckAAAAAA6Q1zQAAAAECyGXNAAAAAADofc0AAAABg2xlzQAAAAPjVD3NAAAAAUAf/ckAAAAAYhOxyQAAAAJAj2nJAAAAAMHfLckAAAABgralyQAAAAJA4jHJAAAAAmER+ckAAAACQmrByQAAAAEDPAXNAAAAAMH0kc0AAAABgXAdzQAAAAEiJ13JAAAAAgICwckAAAAAQCJdyQAAAAMDyiHJAAAAAsKK+ckAAAACgsgpzQAAAAGBMLHNAAAAAUNQMc0AAAAAQ+tpyQAAAAEAWtXJAAAAAeAKgckAAAACIDb1yQAAAAKgMKXNA",
          "dtype": "f8"
         },
         "q1": {
          "bdata": "zczMxAx/ckCamZkBAndyQDMzM8sacXJAAAAAoDBtckCamZn5nHZyQM3MzFw8jHJAMzMz236kckAzMzOjjsByQM3MzJRU1HJAzczM9OrnckBmZmZuMv5yQJqZmWHmBHNAZmZmVq4Fc0AzMzOjLP5yQM3MzNRo5nJAmpmZaQ7ackDNzMx8189yQDMzM0s2wHJAAAAAMFW6ckCamZmpnrJyQAAAAGDmq3JAAAAAoKugckAzMzPzIplyQJqZmTGsj3JAmpmZaSKJckDNzMyMGIRyQDMzMzslgHJAmpmZGVR8ckDNzMwUbotyQJqZmWGLm3JAMzMz84GzckAzMzNjU8hyQDMzM/N04HJAzczMzNL0ckDNzMz0nf9yQDMzM/O+AnNAzczM7LMGc0DNzMykVAlzQJqZmTkH/HJAMzMzgwHickAAAAAAXd9yQJqZmamd0nJAzczMxN3GckCamZlZN7tyQAAAAChor3JAzczMlP6kckBmZmb2a5pyQAAAAIgqlHJAZmZmnluKckCamZmZboZyQM3MzCSVgHJAMzMzs8B8ckCamZnxOY5yQGZmZmZklXJAmpmZebqrckCamZkRHMlyQM3MzNwm5XJAzczM3Mz7ckDNzMxkXgxzQAAAALi2GHNAzczMnIkgc0DNzMyUeB1zQAAAAIhDF3NAZmZmVoMHc0CamZkJivNyQM3MzLRC3XJAAAAAuHjMckDNzMzsc8FyQAAAADhPtHJAAAAAaK+nckBmZmYWaptyQAAAADhCknJAZmZmrryIckAzMzPj/YFyQAAAAABve3JAAAAAGBl3ckCamZmR2XxyQDMzMwNHjnJAZmZm7vykckBmZmbW279yQJqZmVnb1nJAAAAAsJDtckBmZmY2Z/xyQM3MzASpB3NAMzMzMxAMc0AzMzPLbgdzQAAAAOCP83JAZmZmnl3pckDNzMwc0NdyQGZmZqbax3JAmpmZIem6ckCamZl5D5hyQJqZmZEXe3JAzczMvDhrckAAAAAYUaNyQGZmZpZE7nJAmpmZId8Ic0DNzMwsmfFyQM3MzFy1x3JAMzMz29+lckCamZmhcYlyQM3MzAyqenJAmpmZ6emxckBmZmbWEfdyQM3MzBQbF3NAAAAA+AHyckCamZl5FMlyQM3MzDTOpnJAMzMz44qSckDNzMzExKxyQGZmZqaQC3NA",
          "dtype": "f8"
         },
         "q3": {
          "bdata": "MzMzO6WdckDNzMy89pByQAAAAGDniHJAzczMxHGDckAzMzNrm45yQAAAAAgpo3JAzczMbM65ckAAAADIdNZyQGZmZtb87XJAmpmZwbYFc0BmZmaW4RtzQGZmZob5InNAmpmZETwqc0CamZmJXiFzQJqZmem4E3NAMzMzc+T6ckBmZmYOhvRyQGZmZrbt5HJAZmZmhiLVckAAAAAQastyQGZmZhagwXJAAAAAYMy3ckBmZmZO2rByQGZmZj61q3JAzczMpE6jckAAAABoOZ1yQJqZmZGRlnJAZmZmflaUckBmZmauLZ9yQDMzM1PgsnJAZmZm1vrGckCamZmRy95yQDMzM8Pg93JAzczMjBAUc0AzMzMTLCZzQDMzM2s6MHNAZmZmhoA0c0AzMzNTpC1zQM3MzFSmIXNAzczMxLUOc0AzMzOT0/9yQAAAAChS7XJAZmZm9sHcckBmZmYGv9FyQGZmZl7YyHJAmpmZCWO9ckCamZlBULVyQDMzM/NMqnJAZmZmbiGjckAAAADA9J1yQJqZmWk0mXJAZmZmtpaWckAAAAAgvqJyQJqZmeG7tnJAmpmZUVTLckAzMzOTf99yQJqZmRl593JAzczMxKMNc0AAAAAAKSJzQAAAADB5MHNAMzMzg4A4c0AAAAAI7jRzQDMzM5t3KnNAZmZmfkcdc0AzMzN7iglzQAAAAOhg93JAmpmZqTTockBmZmZWKdlyQM3MzHQtyXJAAAAAcA66ckCamZmpEq5yQM3MzPzTpHJAMzMzyzObckAzMzNTH5RyQJqZmZl6j3JAMzMzu7qOckBmZmZmKZlyQGZmZr5MrHJAAAAA+FbBckDNzMwcMt1yQAAAAKjl+HJAMzMzA6AOc0DNzMw0qB9zQDMzM6sFKXNAAAAAQNItc0CamZmplShzQM3MzLS5HHNAmpmZ+e8Lc0AzMzNjcvlyQM3MzPTk6HJAZmZmtpHYckBmZmamc7RyQGZmZlZjmnJAMzMzYxGKckDNzMxEKLpyQDMzM/OiEXNAAAAAEKczc0BmZmZ2UxRzQAAAALgW5nJAAAAAeNW/ckDNzMws8KNyQAAAAPBFmXJAmpmZuRnMckAzMzNjqRpzQAAAAJi4PXNAZmZmhr4gc0CamZnZ/OpyQM3MzFyKwnJAAAAAMJSockBmZmbuqs5yQGZmZi62OnNA",
          "dtype": "f8"
         },
         "type": "box",
         "upperfence": {
          "bdata": "AAAAoL2ickAAAAAwlptyQAAAAKAalnJAAAAAIMyRckAAAABAGppyQAAAALBGqXJAAAAAACTAckAAAAAQT91yQAAAAHBd9nJAAAAAoNsQc0AAAACwoCJzQAAAABAkL3NAAAAA8J49c0AAAABQojJzQAAAAACXJXNAAAAAkKkbc0AAAACwh/pyQAAAACBG63JAAAAAMKbfckAAAACwp9dyQAAAAICsz3JAAAAA0PTMckAAAACwKcdyQAAAANDrvXJAAAAAcKe2ckAAAADwIbFyQAAAADA1qHJAAAAAANKkckAAAADwnLByQAAAAGBYv3JAAAAAIDrRckAAAABg7eNyQAAAAICIAXNAAAAAUAomc0AAAABQny5zQAAAAEBrOHNAAAAAsOA+c0AAAAAATjtzQAAAAJBIL3NAAAAAABUlc0AAAACAghRzQAAAACCI+XJAAAAAMK7tckAAAABQpt1yQAAAABCD1nJAAAAAAAfNckAAAAAQxMFyQAAAACB0u3JAAAAAkFm1ckAAAABAR7JyQAAAAGCdrnJAAAAAcImsckAAAADgL7lyQAAAAPDNx3JAAAAAkCzYckAAAABQb+9yQAAAACA6BHNAAAAAIGomc0AAAADwZz1zQAAAALCTQnNAAAAAcBdQc0AAAAAw00dzQAAAAJDyN3NAAAAA4D0nc0AAAABABh9zQAAAABBrAXNAAAAAwGvwckAAAACQIeVyQAAAAMBw1nJAAAAAsLrGckAAAACgSr5yQAAAAIBBtnJAAAAAwHWwckAAAAAwj6hyQAAAACCqonJAAAAAYLeeckAAAACwRKtyQAAAACDVu3JAAAAA4MbNckAAAADw/uVyQAAAADCHEnNAAAAA0IIqc0AAAADQnjZzQAAAAMAzMHNAAAAAoHkzc0AAAADgSC1zQAAAAHBwK3NAAAAAUK8hc0AAAACw3w5zQAAAAFAi+HJAAAAAoITickAAAACg875yQAAAAABQpnJAAAAAQCiXckAAAACg4c1yQAAAAJAfK3NAAAAAMKBAc0AAAAAQLyRzQAAAAPCw+nJAAAAA0OzMckAAAAAQHrtyQAAAAPBEp3JAAAAAQKbTckAAAAAwoClzQAAAAHCJSnNAAAAA0EAmc0AAAABwyflyQAAAAKBez3JAAAAAIM+1ckAAAADwFdVyQAAAANAJR3NA",
          "dtype": "f8"
         },
         "width": 1080000,
         "x": [
          "2025-07-08T00:00:00",
          "2025-07-08T01:00:00",
          "2025-07-08T02:00:00",
          "2025-07-08T03:00:00",
          "2025-07-08T04:00:00",
          "2025-07-08T05:00:00",
          "2025-07-08T06:00:00",
          "2025-07-08T07:00:00",
          "2025-07-08T08:00:00",
          "2025-07-08T09:00:00",
          "2025-07-08T10:00:00",
          "2025-07-08T11:00:00",
          "2025-07-08T12:00:00",
          "2025-07-08T13:00:00",
          "2025-07-08T14:00:00",
          "2025-07-08T15:00:00",
          "2025-07-08T16:00:00",
          "2025-07-08T17:00:00",
          "2025-07-08T18:00:00",
          "2025-07-08T19:00:00",
          "2025-07-08T20:00:00",
          "2025-07-08T21:00:00",
          "2025-07-08T22:00:00",
          "2025-07-08T23:00:00",
          "2025-07-09T00:00:00",
          "2025-07-09T01:00:00",
          "2025-07-09T02:00:00",
          "2025-07-09T03:00:00",
          "2025-07-09T04:00:00",
          "2025-07-09T05:00:00",
          "2025-07-09T06:00:00",
          "2025-07-09T07:00:00",
          "2025-07-09T08:00:00",
          "2025-07-09T09:00:00",
          "2025-07-09T10:00:00",
          "2025-07-09T11:00:00",
          "2025-07-09T12:00:00",
          "2025-07-09T13:00:00",
          "2025-07-09T14:00:00",
          "2025-07-09T15:00:00",
          "2025-07-09T16:00:00",
          "2025-07-09T17:00:00",
          "2025-07-09T18:00:00",
          "2025-07-09T19:00:00",
          "2025-07-09T20:00:00",
          "2025-07-09T21:00:00",
          "2025-07-09T22:00:00",
          "2025-07-09T23:00:00",
          "2025-07-10T00:00:00",
          "2025-07-10T01:00:00",
          "2025-07-10T02:00:00",
          "2025-07-10T03:00:00",
          "2025-07-10T04:00:00",
          "2025-07-10T05:00:00",
          "2025-07-10T06:00:00",
          "2025-07-10T07:00:00",
          "2025-07-10T08:00:00",
          "2025-07-10T09:00:00",
          "2025-07-10T10:00:00",
          "2025-07-10T11:00:00",
          "2025-07-10T12:00:00",
          "2025-07-10T13:00:00",
          "2025-07-10T14:00:00",
          "2025-07-10T15:00:00",
          "2025-07-10T16:00:00",
          "2025-07-10T17:00:00",
          "2025-07-10T18:00:00",
          "2025-07-10T19:00:00",
          "2025-07-10T20:00:00",
          "2025-07-10T21:00:00",
          "2025-07-10T22:00:00",
          "2025-07-10T23:00:00",
          "2025-07-11T00:00:00",
          "2025-07-11T01:00:00",
          "2025-07-11T02:00:00",
          "2025-07-11T03:00:00",
          "2025-07-11T04:00:00",
          "2025-07-11T05:00:00",
          "2025-07-11T06:00:00",
          "2025-07-11T07:00:00",
          "2025-07-11T08:00:00",
          "2025-07-11T09:00:00",
          "2025-07-11T10:00:00",
          "2025-07-11T11:00:00",
          "2025-07-11T12:00:00",
          "2025-07-11T13:00:00",
          "2025-07-11T14:00:00",
          "2025-07-11T15:00:00",
          "2025-07-11T16:00:00",
          "2025-07-11T17:00:00",
          "2025-07-11T18:00:00",
          "2025-07-11T21:00:00",
          "2025-07-12T00:00:00",
          "2025-07-12T03:00:00",
          "2025-07-12T06:00:00",
          "2025-07-12T09:00:00",
          "2025-07-12T12:00:00",
          "2025-07-12T15:00:00",
          "2025-07-12T18:00:00",
          "2025-07-12T21:00:00",
          "2025-07-13T00:00:00",
          "2025-07-13T03:00:00",
          "2025-07-13T06:00:00",
          "2025-07-13T09:00:00",
          "2025-07-13T12:00:00",
          "2025-07-13T15:00:00",
          "2025-07-13T18:00:00",
          "2025-07-13T21:00:00",
          "2025-07-14T00:00:00",
          "2025-07-14T06:00:00",
          "2025-07-14T12:00:00"
         ],
         "xaxis": "x",
         "yaxis": "y"
        },
        {
         "fillcolor": "#B1B6FC",
         "hoverinfo": "skip",
         "line": {
          "color": "#27aeef"
         },
         "lowerfence": {
          "bdata": "AAAAkA9zckAAAAAQb2hyQAAAAIAhYnJAAAAAwNJfckAAAACQ+W5yQAAAAHDPh3JAAAAAAOOeckAAAACA6a9yQAAAAKAStHJAAAAA8G7GckAAAADQyN5yQAAAAGCI+HJAAAAAINP8ckAAAAAQLvJyQAAAAEBR3HJAAAAAgNjIckAAAABgyrRyQAAAAFCotXJAAAAAcN+wckAAAAAQrKpyQAAAAADNonJAAAAA4JeYckAAAAAw9Y1yQAAAAGAShnJAAAAA8F6BckAAAADQCXxyQAAAAAAGdHJAAAAAQK9zckAAAADAfoNyQAAAACDAlHJAAAAAIO+qckAAAADApsNyQAAAALD513JAAAAAIODnckAAAADAbvJyQAAAAIBr+nJAAAAAwCH3ckAAAACQ0fpyQAAAAMB+5nJAAAAAsMx3ckAAAACwl2JyQAAAABAvaXJAAAAAQI17ckAAAADAjXxyQAAAALAwdXJAAAAAgIh9ckAAAABgun5yQAAAAJBPhXJAAAAAQK2FckAAAADgyn1yQAAAAAAXe3JAAAAAoEZxckAAAADQh3ZyQAAAAPCziXJAAAAAMICdckAAAADg2rJyQAAAABAgzXJAAAAAsC7gckAAAABwUvhyQAAAAIAGAXNAAAAA8DAIc0AAAADw0ftyQAAAAFCT53JAAAAA4IfNckAAAAAA9cRyQAAAAEAKtXJAAAAAsPajckAAAABgBp1yQAAAAEAtlnJAAAAAADCJckAAAABgZIFyQAAAALAUenJAAAAAgCBzckAAAACwhWxyQAAAAEBjZ3JAAAAA0KNgckAAAADAnWhyQAAAAICme3JAAAAAUMWRckAAAACgArByQAAAAMBzynJAAAAAkMjeckAAAADw4/JyQAAAAKCW3nJAAAAAgKztckAAAADA+t1yQAAAACD+vnJAAAAAcKBrckAAAAAwmWxyQAAAAADpdXJAAAAA4FuEckAAAABAKXdyQAAAAKCPZXJAAAAAAMtbckAAAABQCo1yQAAAAAALt3JAAAAA4BnhckAAAAAQqrVyQAAAAEC+lnJAAAAAwOCCckAAAABQVnRyQAAAAFCFbXJAAAAAMK6eckAAAADwz+FyQAAAAIAT6nJAAAAAMJK4ckAAAABwLJxyQAAAAIDliHJAAAAAoCCBckAAAABwl5JyQAAAABDExXJA",
          "dtype": "f8"
         },
         "median": {
          "bdata": "AAAAuMmKckAAAABgPYByQAAAADjdeXJAAAAA6M11ckAAAADQo4JyQAAAAIB7l3JAAAAAIByvckAAAADwicxyQAAAANDK4HJAAAAA2Lz4ckAAAAAAAgxzQAAAAAgIF3NAAAAAULEVc0AAAABASwpzQAAAAKCI/XJAAAAAEF7tckAAAABwN99yQAAAAMiR0XJAAAAAqJPIckAAAACAiMByQAAAACjhtXJAAAAAOMOtckAAAACQV6ZyQAAAANDdnXJAAAAAMEqYckAAAACA6ZFyQAAAANiui3JAAAAAcByHckAAAADARJVyQAAAAIj8pXJAAAAAeLi7ckAAAADAm9ZyQAAAABgS8XJAAAAA8HUHc0AAAACoWBZzQAAAAMBXG3NAAAAACDcfc0AAAACAiRdzQAAAACgEDnNAAAAA+Nf+ckAAAAA4qO9yQAAAAJhL3nJAAAAAwLjTckAAAAAYRslyQAAAAKAkv3JAAAAA6IizckAAAACQWKlyQAAAALBsn3JAAAAAWICWckAAAADI9JByQAAAAMhWjXJAAAAAiPmLckAAAAAYkJlyQAAAAHAGrnJAAAAAqHi/ckAAAADwqNJyQAAAANC67HJAAAAACLQDc0AAAADIxBRzQAAAAMCtInNAAAAASHArc0AAAADwuChzQAAAADiEIHNAAAAA+KETc0AAAAB4TAJzQAAAACgU7XJAAAAAWPnackAAAABYRcpyQAAAAGB0vHJAAAAAKMGwckAAAACgyKVyQAAAAHDUm3JAAAAAsFSUckAAAACQIY1yQAAAAFjYhXJAAAAAGCSCckAAAACwfY5yQAAAADCxnnJAAAAAiPm1ckAAAACoRc9yQAAAAAhD63JAAAAA0LP+ckAAAAAA6Q1zQAAAAECyGXNAAAAAADofc0AAAABg2xlzQAAAAPjVD3NAAAAAUAf/ckAAAAAYhOxyQAAAAJAj2nJAAAAAMHfLckAAAABgralyQAAAAJA4jHJAAAAAmER+ckAAAACQmrByQAAAAEDPAXNAAAAAMH0kc0AAAABgXAdzQAAAAEiJ13JAAAAAgICwckAAAAAQCJdyQAAAAMDyiHJAAAAAsKK+ckAAAACgsgpzQAAAAGBMLHNAAAAAUNQMc0AAAAAQ+tpyQAAAAEAWtXJAAAAAeAKgckAAAACIDb1yQAAAAKgMKXNA",
          "dtype": "f8"
         },
         "q1": {
          "bdata": "AAAAzIeDckAAAACcc3pyQAAAAEgLdHJAAAAA4LpwckAAAABYLHtyQAAAABDlkHJAAAAAfLinckAAAAC4sMdyQAAAAOjn2HJAAAAAhOjxckAAAAAIQwFzQAAAAGQVDHNAAAAA2NMMc0AAAABQmwJzQAAAAPhy8XJAAAAA5AblckAAAAAAO9hyQAAAALTqyXJAAAAAXBPAckAAAAD0VrhyQAAAANxHr3JAAAAA3IenckAAAACkop9yQAAAANC7l3JAAAAAZAuTckAAAABAjYpyQAAAAPiXg3JAAAAAjICCckAAAABUNo9yQAAAAOzJoHJAAAAAmCC2ckAAAADwAtFyQAAAAODV6XJAAAAAgIz8ckAAAAAU7AZzQAAAAHwpDXNAAAAAVMwPc0AAAAAo7w9zQAAAAKRBBHNAAAAAtCr1ckAAAACIcOlyQAAAADQc13JAAAAAZOLLckAAAADAy8NyQAAAAJgfuHJAAAAADGStckAAAAB4ZqFyQAAAAEAFmHJAAAAAMJCQckAAAACUm4pyQAAAANhYhXJAAAAAaFaFckAAAAB8F5ZyQAAAAJijoXJAAAAAZK61ckAAAAC4sMxyQAAAAPy/6HJAAAAAtP/+ckAAAADsghBzQAAAAFjCHXNAAAAAcLImc0AAAACwCCRzQAAAAPx1G3NAAAAADCUOc0AAAABADv1yQAAAAPhC5HJAAAAAIL7SckAAAAB8HsRyQAAAAExbtnJAAAAArPOqckAAAABwMaFyQAAAAFDPlXJAAAAA7NeNckAAAADgLYhyQAAAAGStgnJAAAAAZNh+ckAAAAC8p4dyQAAAAFyClXJAAAAA2N+uckAAAADkychyQAAAAMSJ4nJAAAAAmBr1ckAAAACIrgZzQAAAAMhKDnNAAAAA5LMSc0AAAABoDA5zQAAAAGRJAXNAAAAADAXyckAAAACUKOFyQAAAAMQy0XJAAAAATM3DckAAAAAcCZ9yQAAAAJyFgnJAAAAAiFFwckAAAACsi6hyQAAAAKxi9nJAAAAA4PoTc0AAAAC4M/pyQAAAAHznz3JAAAAAECerckAAAACQm5JyQAAAAKD9f3JAAAAAFEi4ckAAAAB4pQVzQAAAAJA0I3NAAAAAkMADc0AAAACIZc9yQAAAAFjIrXJAAAAA2BqYckAAAACQk7ZyQAAAAADBGXNA",
          "dtype": "f8"
         },
         "q3": {
          "bdata": "AAAAALCTckAAAAC8SIhyQAAAAGy6gnJAAAAABHd9ckAAAABAe4hyQAAAAJC9nHJAAAAAmDW0ckAAAACYcM9yQAAAAKga53JAAAAAmNT/ckAAAAAUvBJzQAAAAOh4HXNAAAAAaAocc0AAAACIXhVzQAAAANRGA3NAAAAAsIfzckAAAABoyedyQAAAAPSF2HJAAAAA8D3PckAAAABsdMVyQAAAAFgnv3JAAAAAbKe1ckAAAACA7K1yQAAAAFzipnJAAAAAXLGfckAAAACg5JdyQAAAAJTZkXJAAAAAFHiPckAAAAD02ppyQAAAAHCprXJAAAAADMPCckAAAAA82NxyQAAAANx79XJAAAAA0LgPc0AAAABcNiFzQAAAALSdKnNAAAAAhGgvc0AAAABQBCNzQAAAAKxhFnNAAAAAnBQLc0AAAADQR/ZyQAAAADAf5HJAAAAAgCXYckAAAAAUzc5yQAAAAByIxHJAAAAAaNm4ckAAAADU5a5yQAAAANC/pXJAAAAALNmeckAAAAAI1ZdyQAAAANxmlHJAAAAAPAiSckAAAADcOp9yQAAAAESJsnJAAAAA4B7GckAAAADEYNxyQAAAAORB8XJAAAAASAcHc0AAAAA0ghxzQAAAAOhRK3NAAAAA4Dwzc0AAAADISDBzQAAAAPihJXNAAAAA8I0Yc0AAAACo1AZzQAAAAKh29HJAAAAASATjckAAAAAcjM9yQAAAAOSywXJAAAAANPy0ckAAAADkZKtyQAAAALgDonJAAAAAyAyYckAAAADsXpByQAAAAPSai3JAAAAAROCJckAAAACQDJZyQAAAAASKpnJAAAAACKK7ckAAAADMHNZyQAAAAIzF73JAAAAAGJQDc0AAAABQ0RNzQAAAAJhpIHNAAAAAlJ8oc0AAAACQ/SFzQAAAAAx8F3NAAAAAECYEc0AAAABwC/RyQAAAAGRP4HJAAAAATJbSckAAAABsQ7ByQAAAAACMknJAAAAADLWDckAAAACkVbZyQAAAAJTvB3NAAAAAWHwpc0AAAAAIdQ5zQAAAAHTi33JAAAAAQDq2ckAAAADERJ5yQAAAAGxxj3JAAAAAvEPEckAAAADYExRzQAAAALh2NHNAAAAAVHMac0AAAACw7+RyQAAAAKi6unJAAAAACJOkckAAAAAYWslyQAAAAAyHL3NA",
          "dtype": "f8"
         },
         "showwhiskers": false,
         "type": "box",
         "upperfence": {
          "bdata": "AAAAoL2ickAAAAAwlptyQAAAAKAalnJAAAAAIMyRckAAAABAGppyQAAAALBGqXJAAAAAACTAckAAAAAQT91yQAAAAHBd9nJAAAAAoNsQc0AAAACwoCJzQAAAABAkL3NAAAAA8J49c0AAAABQojJzQAAAAACXJXNAAAAAkKkbc0AAAACwh/pyQAAAACBG63JAAAAAMKbfckAAAACwp9dyQAAAAICsz3JAAAAA0PTMckAAAACwKcdyQAAAANDrvXJAAAAAcKe2ckAAAADwIbFyQAAAADA1qHJAAAAAANKkckAAAADwnLByQAAAAGBYv3JAAAAAIDrRckAAAABg7eNyQAAAAICIAXNAAAAAUAomc0AAAABQny5zQAAAAEBrOHNAAAAAsOA+c0AAAAAATjtzQAAAAJBIL3NAAAAAABUlc0AAAACAghRzQAAAACCI+XJAAAAAMK7tckAAAABQpt1yQAAAABCD1nJAAAAAAAfNckAAAAAQxMFyQAAAACB0u3JAAAAAkFm1ckAAAABAR7JyQAAAAGCdrnJAAAAAcImsckAAAADgL7lyQAAAAPDNx3JAAAAAkCzYckAAAABQb+9yQAAAACA6BHNAAAAAIGomc0AAAADwZz1zQAAAALCTQnNAAAAAcBdQc0AAAAAw00dzQAAAAJDyN3NAAAAA4D0nc0AAAABABh9zQAAAABBrAXNAAAAAwGvwckAAAACQIeVyQAAAAMBw1nJAAAAAsLrGckAAAACgSr5yQAAAAIBBtnJAAAAAwHWwckAAAAAwj6hyQAAAACCqonJAAAAAYLeeckAAAACwRKtyQAAAACDVu3JAAAAA4MbNckAAAADw/uVyQAAAADCHEnNAAAAA0IIqc0AAAADQnjZzQAAAAMAzMHNAAAAAoHkzc0AAAADgSC1zQAAAAHBwK3NAAAAAUK8hc0AAAACw3w5zQAAAAFAi+HJAAAAAoITickAAAACg875yQAAAAABQpnJAAAAAQCiXckAAAACg4c1yQAAAAJAfK3NAAAAAMKBAc0AAAAAQLyRzQAAAAPCw+nJAAAAA0OzMckAAAAAQHrtyQAAAAPBEp3JAAAAAQKbTckAAAAAwoClzQAAAAHCJSnNAAAAA0EAmc0AAAABwyflyQAAAAKBez3JAAAAAIM+1ckAAAADwFdVyQAAAANAJR3NA",
          "dtype": "f8"
         },
         "width": 2160000,
         "x": [
          "2025-07-08T00:00:00",
          "2025-07-08T01:00:00",
          "2025-07-08T02:00:00",
          "2025-07-08T03:00:00",
          "2025-07-08T04:00:00",
          "2025-07-08T05:00:00",
          "2025-07-08T06:00:00",
          "2025-07-08T07:00:00",
          "2025-07-08T08:00:00",
          "2025-07-08T09:00:00",
          "2025-07-08T10:00:00",
          "2025-07-08T11:00:00",
          "2025-07-08T12:00:00",
          "2025-07-08T13:00:00",
          "2025-07-08T14:00:00",
          "2025-07-08T15:00:00",
          "2025-07-08T16:00:00",
          "2025-07-08T17:00:00",
          "2025-07-08T18:00:00",
          "2025-07-08T19:00:00",
          "2025-07-08T20:00:00",
          "2025-07-08T21:00:00",
          "2025-07-08T22:00:00",
          "2025-07-08T23:00:00",
          "2025-07-09T00:00:00",
          "2025-07-09T01:00:00",
          "2025-07-09T02:00:00",
          "2025-07-09T03:00:00",
          "2025-07-09T04:00:00",
          "2025-07-09T05:00:00",
          "2025-07-09T06:00:00",
          "2025-07-09T07:00:00",
          "2025-07-09T08:00:00",
          "2025-07-09T09:00:00",
          "2025-07-09T10:00:00",
          "2025-07-09T11:00:00",
          "2025-07-09T12:00:00",
          "2025-07-09T13:00:00",
          "2025-07-09T14:00:00",
          "2025-07-09T15:00:00",
          "2025-07-09T16:00:00",
          "2025-07-09T17:00:00",
          "2025-07-09T18:00:00",
          "2025-07-09T19:00:00",
          "2025-07-09T20:00:00",
          "2025-07-09T21:00:00",
          "2025-07-09T22:00:00",
          "2025-07-09T23:00:00",
          "2025-07-10T00:00:00",
          "2025-07-10T01:00:00",
          "2025-07-10T02:00:00",
          "2025-07-10T03:00:00",
          "2025-07-10T04:00:00",
          "2025-07-10T05:00:00",
          "2025-07-10T06:00:00",
          "2025-07-10T07:00:00",
          "2025-07-10T08:00:00",
          "2025-07-10T09:00:00",
          "2025-07-10T10:00:00",
          "2025-07-10T11:00:00",
          "2025-07-10T12:00:00",
          "2025-07-10T13:00:00",
          "2025-07-10T14:00:00",
          "2025-07-10T15:00:00",
          "2025-07-10T16:00:00",
          "2025-07-10T17:00:00",
          "2025-07-10T18:00:00",
          "2025-07-10T19:00:00",
          "2025-07-10T20:00:00",
          "2025-07-10T21:00:00",
          "2025-07-10T22:00:00",
          "2025-07-10T23:00:00",
          "2025-07-11T00:00:00",
          "2025-07-11T01:00:00",
          "2025-07-11T02:00:00",
          "2025-07-11T03:00:00",
          "2025-07-11T04:00:00",
          "2025-07-11T05:00:00",
          "2025-07-11T06:00:00",
          "2025-07-11T07:00:00",
          "2025-07-11T08:00:00",
          "2025-07-11T09:00:00",
          "2025-07-11T10:00:00",
          "2025-07-11T11:00:00",
          "2025-07-11T12:00:00",
          "2025-07-11T13:00:00",
          "2025-07-11T14:00:00",
          "2025-07-11T15:00:00",
          "2025-07-11T16:00:00",
          "2025-07-11T17:00:00",
          "2025-07-11T18:00:00",
          "2025-07-11T21:00:00",
          "2025-07-12T00:00:00",
          "2025-07-12T03:00:00",
          "2025-07-12T06:00:00",
          "2025-07-12T09:00:00",
          "2025-07-12T12:00:00",
          "2025-07-12T15:00:00",
          "2025-07-12T18:00:00",
          "2025-07-12T21:00:00",
          "2025-07-13T00:00:00",
          "2025-07-13T03:00:00",
          "2025-07-13T06:00:00",
          "2025-07-13T09:00:00",
          "2025-07-13T12:00:00",
          "2025-07-13T15:00:00",
          "2025-07-13T18:00:00",
          "2025-07-13T21:00:00",
          "2025-07-14T00:00:00",
          "2025-07-14T06:00:00",
          "2025-07-14T12:00:00"
         ],
         "xaxis": "x",
         "yaxis": "y"
        },
        {
         "hovertemplate": "%{y:.2f}<extra>P<sub>0%</sub></extra>",
         "marker": {
          "color": "#27aeef",
          "size": 0.00001
         },
         "mode": "markers",
         "type": "scatter",
         "x": [
          "2025-07-08T00:00:00",
          "2025-07-08T01:00:00",
          "2025-07-08T02:00:00",
          "2025-07-08T03:00:00",
          "2025-07-08T04:00:00",
          "2025-07-08T05:00:00",
          "2025-07-08T06:00:00",
          "2025-07-08T07:00:00",
          "2025-07-08T08:00:00",
          "2025-07-08T09:00:00",
          "2025-07-08T10:00:00",
          "2025-07-08T11:00:00",
          "2025-07-08T12:00:00",
          "2025-07-08T13:00:00",
          "2025-07-08T14:00:00",
          "2025-07-08T15:00:00",
          "2025-07-08T16:00:00",
          "2025-07-08T17:00:00",
          "2025-07-08T18:00:00",
          "2025-07-08T19:00:00",
          "2025-07-08T20:00:00",
          "2025-07-08T21:00:00",
          "2025-07-08T22:00:00",
          "2025-07-08T23:00:00",
          "2025-07-09T00:00:00",
          "2025-07-09T01:00:00",
          "2025-07-09T02:00:00",
          "2025-07-09T03:00:00",
          "2025-07-09T04:00:00",
          "2025-07-09T05:00:00",
          "2025-07-09T06:00:00",
          "2025-07-09T07:00:00",
          "2025-07-09T08:00:00",
          "2025-07-09T09:00:00",
          "2025-07-09T10:00:00",
          "2025-07-09T11:00:00",
          "2025-07-09T12:00:00",
          "2025-07-09T13:00:00",
          "2025-07-09T14:00:00",
          "2025-07-09T15:00:00",
          "2025-07-09T16:00:00",
          "2025-07-09T17:00:00",
          "2025-07-09T18:00:00",
          "2025-07-09T19:00:00",
          "2025-07-09T20:00:00",
          "2025-07-09T21:00:00",
          "2025-07-09T22:00:00",
          "2025-07-09T23:00:00",
          "2025-07-10T00:00:00",
          "2025-07-10T01:00:00",
          "2025-07-10T02:00:00",
          "2025-07-10T03:00:00",
          "2025-07-10T04:00:00",
          "2025-07-10T05:00:00",
          "2025-07-10T06:00:00",
          "2025-07-10T07:00:00",
          "2025-07-10T08:00:00",
          "2025-07-10T09:00:00",
          "2025-07-10T10:00:00",
          "2025-07-10T11:00:00",
          "2025-07-10T12:00:00",
          "2025-07-10T13:00:00",
          "2025-07-10T14:00:00",
          "2025-07-10T15:00:00",
          "2025-07-10T16:00:00",
          "2025-07-10T17:00:00",
          "2025-07-10T18:00:00",
          "2025-07-10T19:00:00",
          "2025-07-10T20:00:00",
          "2025-07-10T21:00:00",
          "2025-07-10T22:00:00",
          "2025-07-10T23:00:00",
          "2025-07-11T00:00:00",
          "2025-07-11T01:00:00",
          "2025-07-11T02:00:00",
          "2025-07-11T03:00:00",
          "2025-07-11T04:00:00",
          "2025-07-11T05:00:00",
          "2025-07-11T06:00:00",
          "2025-07-11T07:00:00",
          "2025-07-11T08:00:00",
          "2025-07-11T09:00:00",
          "2025-07-11T10:00:00",
          "2025-07-11T11:00:00",
          "2025-07-11T12:00:00",
          "2025-07-11T13:00:00",
          "2025-07-11T14:00:00",
          "2025-07-11T15:00:00",
          "2025-07-11T16:00:00",
          "2025-07-11T17:00:00",
          "2025-07-11T18:00:00",
          "2025-07-11T21:00:00",
          "2025-07-12T00:00:00",
          "2025-07-12T03:00:00",
          "2025-07-12T06:00:00",
          "2025-07-12T09:00:00",
          "2025-07-12T12:00:00",
          "2025-07-12T15:00:00",
          "2025-07-12T18:00:00",
          "2025-07-12T21:00:00",
          "2025-07-13T00:00:00",
          "2025-07-13T03:00:00",
          "2025-07-13T06:00:00",
          "2025-07-13T09:00:00",
          "2025-07-13T12:00:00",
          "2025-07-13T15:00:00",
          "2025-07-13T18:00:00",
          "2025-07-13T21:00:00",
          "2025-07-14T00:00:00",
          "2025-07-14T06:00:00",
          "2025-07-14T12:00:00"
         ],
         "xaxis": "x",
         "y": {
          "bdata": "AAAAkA9zckAAAAAQb2hyQAAAAIAhYnJAAAAAwNJfckAAAACQ+W5yQAAAAHDPh3JAAAAAAOOeckAAAACA6a9yQAAAAKAStHJAAAAA8G7GckAAAADQyN5yQAAAAGCI+HJAAAAAINP8ckAAAAAQLvJyQAAAAEBR3HJAAAAAgNjIckAAAABgyrRyQAAAAFCotXJAAAAAcN+wckAAAAAQrKpyQAAAAADNonJAAAAA4JeYckAAAAAw9Y1yQAAAAGAShnJAAAAA8F6BckAAAADQCXxyQAAAAAAGdHJAAAAAQK9zckAAAADAfoNyQAAAACDAlHJAAAAAIO+qckAAAADApsNyQAAAALD513JAAAAAIODnckAAAADAbvJyQAAAAIBr+nJAAAAAwCH3ckAAAACQ0fpyQAAAAMB+5nJAAAAAsMx3ckAAAACwl2JyQAAAABAvaXJAAAAAQI17ckAAAADAjXxyQAAAALAwdXJAAAAAgIh9ckAAAABgun5yQAAAAJBPhXJAAAAAQK2FckAAAADgyn1yQAAAAAAXe3JAAAAAoEZxckAAAADQh3ZyQAAAAPCziXJAAAAAMICdckAAAADg2rJyQAAAABAgzXJAAAAAsC7gckAAAABwUvhyQAAAAIAGAXNAAAAA8DAIc0AAAADw0ftyQAAAAFCT53JAAAAA4IfNckAAAAAA9cRyQAAAAEAKtXJAAAAAsPajckAAAABgBp1yQAAAAEAtlnJAAAAAADCJckAAAABgZIFyQAAAALAUenJAAAAAgCBzckAAAACwhWxyQAAAAEBjZ3JAAAAA0KNgckAAAADAnWhyQAAAAICme3JAAAAAUMWRckAAAACgArByQAAAAMBzynJAAAAAkMjeckAAAADw4/JyQAAAAKCW3nJAAAAAgKztckAAAADA+t1yQAAAACD+vnJAAAAAcKBrckAAAAAwmWxyQAAAAADpdXJAAAAA4FuEckAAAABAKXdyQAAAAKCPZXJAAAAAAMtbckAAAABQCo1yQAAAAAALt3JAAAAA4BnhckAAAAAQqrVyQAAAAEC+lnJAAAAAwOCCckAAAABQVnRyQAAAAFCFbXJAAAAAMK6eckAAAADwz+FyQAAAAIAT6nJAAAAAMJK4ckAAAABwLJxyQAAAAIDliHJAAAAAoCCBckAAAABwl5JyQAAAABDExXJA",
          "dtype": "f8"
         },
         "yaxis": "y"
        },
        {
         "hovertemplate": "%{y:.2f}<extra>P<sub>10%</sub></extra>",
         "marker": {
          "color": "#27aeef",
          "size": 0.00001
         },
         "mode": "markers",
         "type": "scatter",
         "x": [
          "2025-07-08T00:00:00",
          "2025-07-08T01:00:00",
          "2025-07-08T02:00:00",
          "2025-07-08T03:00:00",
          "2025-07-08T04:00:00",
          "2025-07-08T05:00:00",
          "2025-07-08T06:00:00",
          "2025-07-08T07:00:00",
          "2025-07-08T08:00:00",
          "2025-07-08T09:00:00",
          "2025-07-08T10:00:00",
          "2025-07-08T11:00:00",
          "2025-07-08T12:00:00",
          "2025-07-08T13:00:00",
          "2025-07-08T14:00:00",
          "2025-07-08T15:00:00",
          "2025-07-08T16:00:00",
          "2025-07-08T17:00:00",
          "2025-07-08T18:00:00",
          "2025-07-08T19:00:00",
          "2025-07-08T20:00:00",
          "2025-07-08T21:00:00",
          "2025-07-08T22:00:00",
          "2025-07-08T23:00:00",
          "2025-07-09T00:00:00",
          "2025-07-09T01:00:00",
          "2025-07-09T02:00:00",
          "2025-07-09T03:00:00",
          "2025-07-09T04:00:00",
          "2025-07-09T05:00:00",
          "2025-07-09T06:00:00",
          "2025-07-09T07:00:00",
          "2025-07-09T08:00:00",
          "2025-07-09T09:00:00",
          "2025-07-09T10:00:00",
          "2025-07-09T11:00:00",
          "2025-07-09T12:00:00",
          "2025-07-09T13:00:00",
          "2025-07-09T14:00:00",
          "2025-07-09T15:00:00",
          "2025-07-09T16:00:00",
          "2025-07-09T17:00:00",
          "2025-07-09T18:00:00",
          "2025-07-09T19:00:00",
          "2025-07-09T20:00:00",
          "2025-07-09T21:00:00",
          "2025-07-09T22:00:00",
          "2025-07-09T23:00:00",
          "2025-07-10T00:00:00",
          "2025-07-10T01:00:00",
          "2025-07-10T02:00:00",
          "2025-07-10T03:00:00",
          "2025-07-10T04:00:00",
          "2025-07-10T05:00:00",
          "2025-07-10T06:00:00",
          "2025-07-10T07:00:00",
          "2025-07-10T08:00:00",
          "2025-07-10T09:00:00",
          "2025-07-10T10:00:00",
          "2025-07-10T11:00:00",
          "2025-07-10T12:00:00",
          "2025-07-10T13:00:00",
          "2025-07-10T14:00:00",
          "2025-07-10T15:00:00",
          "2025-07-10T16:00:00",
          "2025-07-10T17:00:00",
          "2025-07-10T18:00:00",
          "2025-07-10T19:00:00",
          "2025-07-10T20:00:00",
          "2025-07-10T21:00:00",
          "2025-07-10T22:00:00",
          "2025-07-10T23:00:00",
          "2025-07-11T00:00:00",
          "2025-07-11T01:00:00",
          "2025-07-11T02:00:00",
          "2025-07-11T03:00:00",
          "2025-07-11T04:00:00",
          "2025-07-11T05:00:00",
          "2025-07-11T06:00:00",
          "2025-07-11T07:00:00",
          "2025-07-11T08:00:00",
          "2025-07-11T09:00:00",
          "2025-07-11T10:00:00",
          "2025-07-11T11:00:00",
          "2025-07-11T12:00:00",
          "2025-07-11T13:00:00",
          "2025-07-11T14:00:00",
          "2025-07-11T15:00:00",
          "2025-07-11T16:00:00",
          "2025-07-11T17:00:00",
          "2025-07-11T18:00:00",
          "2025-07-11T21:00:00",
          "2025-07-12T00:00:00",
          "2025-07-12T03:00:00",
          "2025-07-12T06:00:00",
          "2025-07-12T09:00:00",
          "2025-07-12T12:00:00",
          "2025-07-12T15:00:00",
          "2025-07-12T18:00:00",
          "2025-07-12T21:00:00",
          "2025-07-13T00:00:00",
          "2025-07-13T03:00:00",
          "2025-07-13T06:00:00",
          "2025-07-13T09:00:00",
          "2025-07-13T12:00:00",
          "2025-07-13T15:00:00",
          "2025-07-13T18:00:00",
          "2025-07-13T21:00:00",
          "2025-07-14T00:00:00",
          "2025-07-14T06:00:00",
          "2025-07-14T12:00:00"
         ],
         "xaxis": "x",
         "y": {
          "bdata": "zczMxAx/ckCamZkBAndyQDMzM8sacXJAAAAAoDBtckCamZn5nHZyQM3MzFw8jHJAMzMz236kckAzMzOjjsByQM3MzJRU1HJAzczM9OrnckBmZmZuMv5yQJqZmWHmBHNAZmZmVq4Fc0AzMzOjLP5yQM3MzNRo5nJAmpmZaQ7ackDNzMx8189yQDMzM0s2wHJAAAAAMFW6ckCamZmpnrJyQAAAAGDmq3JAAAAAoKugckAzMzPzIplyQJqZmTGsj3JAmpmZaSKJckDNzMyMGIRyQDMzMzslgHJAmpmZGVR8ckDNzMwUbotyQJqZmWGLm3JAMzMz84GzckAzMzNjU8hyQDMzM/N04HJAzczMzNL0ckDNzMz0nf9yQDMzM/O+AnNAzczM7LMGc0DNzMykVAlzQJqZmTkH/HJAMzMzgwHickAAAAAAXd9yQJqZmamd0nJAzczMxN3GckCamZlZN7tyQAAAAChor3JAzczMlP6kckBmZmb2a5pyQAAAAIgqlHJAZmZmnluKckCamZmZboZyQM3MzCSVgHJAMzMzs8B8ckCamZnxOY5yQGZmZmZklXJAmpmZebqrckCamZkRHMlyQM3MzNwm5XJAzczM3Mz7ckDNzMxkXgxzQAAAALi2GHNAzczMnIkgc0DNzMyUeB1zQAAAAIhDF3NAZmZmVoMHc0CamZkJivNyQM3MzLRC3XJAAAAAuHjMckDNzMzsc8FyQAAAADhPtHJAAAAAaK+nckBmZmYWaptyQAAAADhCknJAZmZmrryIckAzMzPj/YFyQAAAAABve3JAAAAAGBl3ckCamZmR2XxyQDMzMwNHjnJAZmZm7vykckBmZmbW279yQJqZmVnb1nJAAAAAsJDtckBmZmY2Z/xyQM3MzASpB3NAMzMzMxAMc0AzMzPLbgdzQAAAAOCP83JAZmZmnl3pckDNzMwc0NdyQGZmZqbax3JAmpmZIem6ckCamZl5D5hyQJqZmZEXe3JAzczMvDhrckAAAAAYUaNyQGZmZpZE7nJAmpmZId8Ic0DNzMwsmfFyQM3MzFy1x3JAMzMz29+lckCamZmhcYlyQM3MzAyqenJAmpmZ6emxckBmZmbWEfdyQM3MzBQbF3NAAAAA+AHyckCamZl5FMlyQM3MzDTOpnJAMzMz44qSckDNzMzExKxyQGZmZqaQC3NA",
          "dtype": "f8"
         },
         "yaxis": "y"
        },
        {
         "hovertemplate": "%{y:.2f}<extra>P<sub>25%</sub></extra>",
         "marker": {
          "color": "#27aeef",
          "size": 0.00001
         },
         "mode": "markers",
         "type": "scatter",
         "x": [
          "2025-07-08T00:00:00",
          "2025-07-08T01:00:00",
          "2025-07-08T02:00:00",
          "2025-07-08T03:00:00",
          "2025-07-08T04:00:00",
          "2025-07-08T05:00:00",
          "2025-07-08T06:00:00",
          "2025-07-08T07:00:00",
          "2025-07-08T08:00:00",
          "2025-07-08T09:00:00",
          "2025-07-08T10:00:00",
          "2025-07-08T11:00:00",
          "2025-07-08T12:00:00",
          "2025-07-08T13:00:00",
          "2025-07-08T14:00:00",
          "2025-07-08T15:00:00",
          "2025-07-08T16:00:00",
          "2025-07-08T17:00:00",
          "2025-07-08T18:00:00",
          "2025-07-08T19:00:00",
          "2025-07-08T20:00:00",
          "2025-07-08T21:00:00",
          "2025-07-08T22:00:00",
          "2025-07-08T23:00:00",
          "2025-07-09T00:00:00",
          "2025-07-09T01:00:00",
          "2025-07-09T02:00:00",
          "2025-07-09T03:00:00",
          "2025-07-09T04:00:00",
          "2025-07-09T05:00:00",
          "2025-07-09T06:00:00",
          "2025-07-09T07:00:00",
          "2025-07-09T08:00:00",
          "2025-07-09T09:00:00",
          "2025-07-09T10:00:00",
          "2025-07-09T11:00:00",
          "2025-07-09T12:00:00",
          "2025-07-09T13:00:00",
          "2025-07-09T14:00:00",
          "2025-07-09T15:00:00",
          "2025-07-09T16:00:00",
          "2025-07-09T17:00:00",
          "2025-07-09T18:00:00",
          "2025-07-09T19:00:00",
          "2025-07-09T20:00:00",
          "2025-07-09T21:00:00",
          "2025-07-09T22:00:00",
          "2025-07-09T23:00:00",
          "2025-07-10T00:00:00",
          "2025-07-10T01:00:00",
          "2025-07-10T02:00:00",
          "2025-07-10T03:00:00",
          "2025-07-10T04:00:00",
          "2025-07-10T05:00:00",
          "2025-07-10T06:00:00",
          "2025-07-10T07:00:00",
          "2025-07-10T08:00:00",
          "2025-07-10T09:00:00",
          "2025-07-10T10:00:00",
          "2025-07-10T11:00:00",
          "2025-07-10T12:00:00",
          "2025-07-10T13:00:00",
          "2025-07-10T14:00:00",
          "2025-07-10T15:00:00",
          "2025-07-10T16:00:00",
          "2025-07-10T17:00:00",
          "2025-07-10T18:00:00",
          "2025-07-10T19:00:00",
          "2025-07-10T20:00:00",
          "2025-07-10T21:00:00",
          "2025-07-10T22:00:00",
          "2025-07-10T23:00:00",
          "2025-07-11T00:00:00",
          "2025-07-11T01:00:00",
          "2025-07-11T02:00:00",
          "2025-07-11T03:00:00",
          "2025-07-11T04:00:00",
          "2025-07-11T05:00:00",
          "2025-07-11T06:00:00",
          "2025-07-11T07:00:00",
          "2025-07-11T08:00:00",
          "2025-07-11T09:00:00",
          "2025-07-11T10:00:00",
          "2025-07-11T11:00:00",
          "2025-07-11T12:00:00",
          "2025-07-11T13:00:00",
          "2025-07-11T14:00:00",
          "2025-07-11T15:00:00",
          "2025-07-11T16:00:00",
          "2025-07-11T17:00:00",
          "2025-07-11T18:00:00",
          "2025-07-11T21:00:00",
          "2025-07-12T00:00:00",
          "2025-07-12T03:00:00",
          "2025-07-12T06:00:00",
          "2025-07-12T09:00:00",
          "2025-07-12T12:00:00",
          "2025-07-12T15:00:00",
          "2025-07-12T18:00:00",
          "2025-07-12T21:00:00",
          "2025-07-13T00:00:00",
          "2025-07-13T03:00:00",
          "2025-07-13T06:00:00",
          "2025-07-13T09:00:00",
          "2025-07-13T12:00:00",
          "2025-07-13T15:00:00",
          "2025-07-13T18:00:00",
          "2025-07-13T21:00:00",
          "2025-07-14T00:00:00",
          "2025-07-14T06:00:00",
          "2025-07-14T12:00:00"
         ],
         "xaxis": "x",
         "y": {
          "bdata": "AAAAzIeDckAAAACcc3pyQAAAAEgLdHJAAAAA4LpwckAAAABYLHtyQAAAABDlkHJAAAAAfLinckAAAAC4sMdyQAAAAOjn2HJAAAAAhOjxckAAAAAIQwFzQAAAAGQVDHNAAAAA2NMMc0AAAABQmwJzQAAAAPhy8XJAAAAA5AblckAAAAAAO9hyQAAAALTqyXJAAAAAXBPAckAAAAD0VrhyQAAAANxHr3JAAAAA3IenckAAAACkop9yQAAAANC7l3JAAAAAZAuTckAAAABAjYpyQAAAAPiXg3JAAAAAjICCckAAAABUNo9yQAAAAOzJoHJAAAAAmCC2ckAAAADwAtFyQAAAAODV6XJAAAAAgIz8ckAAAAAU7AZzQAAAAHwpDXNAAAAAVMwPc0AAAAAo7w9zQAAAAKRBBHNAAAAAtCr1ckAAAACIcOlyQAAAADQc13JAAAAAZOLLckAAAADAy8NyQAAAAJgfuHJAAAAADGStckAAAAB4ZqFyQAAAAEAFmHJAAAAAMJCQckAAAACUm4pyQAAAANhYhXJAAAAAaFaFckAAAAB8F5ZyQAAAAJijoXJAAAAAZK61ckAAAAC4sMxyQAAAAPy/6HJAAAAAtP/+ckAAAADsghBzQAAAAFjCHXNAAAAAcLImc0AAAACwCCRzQAAAAPx1G3NAAAAADCUOc0AAAABADv1yQAAAAPhC5HJAAAAAIL7SckAAAAB8HsRyQAAAAExbtnJAAAAArPOqckAAAABwMaFyQAAAAFDPlXJAAAAA7NeNckAAAADgLYhyQAAAAGStgnJAAAAAZNh+ckAAAAC8p4dyQAAAAFyClXJAAAAA2N+uckAAAADkychyQAAAAMSJ4nJAAAAAmBr1ckAAAACIrgZzQAAAAMhKDnNAAAAA5LMSc0AAAABoDA5zQAAAAGRJAXNAAAAADAXyckAAAACUKOFyQAAAAMQy0XJAAAAATM3DckAAAAAcCZ9yQAAAAJyFgnJAAAAAiFFwckAAAACsi6hyQAAAAKxi9nJAAAAA4PoTc0AAAAC4M/pyQAAAAHznz3JAAAAAECerckAAAACQm5JyQAAAAKD9f3JAAAAAFEi4ckAAAAB4pQVzQAAAAJA0I3NAAAAAkMADc0AAAACIZc9yQAAAAFjIrXJAAAAA2BqYckAAAACQk7ZyQAAAAADBGXNA",
          "dtype": "f8"
         },
         "yaxis": "y"
        },
        {
         "hovertemplate": "%{y:.2f}<extra>P<sub>50%</sub></extra>",
         "marker": {
          "color": "#27aeef",
          "size": 0.00001
         },
         "mode": "markers",
         "type": "scatter",
         "x": [
          "2025-07-08T00:00:00",
          "2025-07-08T01:00:00",
          "2025-07-08T02:00:00",
          "2025-07-08T03:00:00",
          "2025-07-08T04:00:00",
          "2025-07-08T05:00:00",
          "2025-07-08T06:00:00",
          "2025-07-08T07:00:00",
          "2025-07-08T08:00:00",
          "2025-07-08T09:00:00",
          "2025-07-08T10:00:00",
          "2025-07-08T11:00:00",
          "2025-07-08T12:00:00",
          "2025-07-08T13:00:00",
          "2025-07-08T14:00:00",
          "2025-07-08T15:00:00",
          "2025-07-08T16:00:00",
          "2025-07-08T17:00:00",
          "2025-07-08T18:00:00",
          "2025-07-08T19:00:00",
          "2025-07-08T20:00:00",
          "2025-07-08T21:00:00",
          "2025-07-08T22:00:00",
          "2025-07-08T23:00:00",
          "2025-07-09T00:00:00",
          "2025-07-09T01:00:00",
          "2025-07-09T02:00:00",
          "2025-07-09T03:00:00",
          "2025-07-09T04:00:00",
          "2025-07-09T05:00:00",
          "2025-07-09T06:00:00",
          "2025-07-09T07:00:00",
          "2025-07-09T08:00:00",
          "2025-07-09T09:00:00",
          "2025-07-09T10:00:00",
          "2025-07-09T11:00:00",
          "2025-07-09T12:00:00",
          "2025-07-09T13:00:00",
          "2025-07-09T14:00:00",
          "2025-07-09T15:00:00",
          "2025-07-09T16:00:00",
          "2025-07-09T17:00:00",
          "2025-07-09T18:00:00",
          "2025-07-09T19:00:00",
          "2025-07-09T20:00:00",
          "2025-07-09T21:00:00",
          "2025-07-09T22:00:00",
          "2025-07-09T23:00:00",
          "2025-07-10T00:00:00",
          "2025-07-10T01:00:00",
          "2025-07-10T02:00:00",
          "2025-07-10T03:00:00",
          "2025-07-10T04:00:00",
          "2025-07-10T05:00:00",
          "2025-07-10T06:00:00",
          "2025-07-10T07:00:00",
          "2025-07-10T08:00:00",
          "2025-07-10T09:00:00",
          "2025-07-10T10:00:00",
          "2025-07-10T11:00:00",
          "2025-07-10T12:00:00",
          "2025-07-10T13:00:00",
          "2025-07-10T14:00:00",
          "2025-07-10T15:00:00",
          "2025-07-10T16:00:00",
          "2025-07-10T17:00:00",
          "2025-07-10T18:00:00",
          "2025-07-10T19:00:00",
          "2025-07-10T20:00:00",
          "2025-07-10T21:00:00",
          "2025-07-10T22:00:00",
          "2025-07-10T23:00:00",
          "2025-07-11T00:00:00",
          "2025-07-11T01:00:00",
          "2025-07-11T02:00:00",
          "2025-07-11T03:00:00",
          "2025-07-11T04:00:00",
          "2025-07-11T05:00:00",
          "2025-07-11T06:00:00",
          "2025-07-11T07:00:00",
          "2025-07-11T08:00:00",
          "2025-07-11T09:00:00",
          "2025-07-11T10:00:00",
          "2025-07-11T11:00:00",
          "2025-07-11T12:00:00",
          "2025-07-11T13:00:00",
          "2025-07-11T14:00:00",
          "2025-07-11T15:00:00",
          "2025-07-11T16:00:00",
          "2025-07-11T17:00:00",
          "2025-07-11T18:00:00",
          "2025-07-11T21:00:00",
          "2025-07-12T00:00:00",
          "2025-07-12T03:00:00",
          "2025-07-12T06:00:00",
          "2025-07-12T09:00:00",
          "2025-07-12T12:00:00",
          "2025-07-12T15:00:00",
          "2025-07-12T18:00:00",
          "2025-07-12T21:00:00",
          "2025-07-13T00:00:00",
          "2025-07-13T03:00:00",
          "2025-07-13T06:00:00",
          "2025-07-13T09:00:00",
          "2025-07-13T12:00:00",
          "2025-07-13T15:00:00",
          "2025-07-13T18:00:00",
          "2025-07-13T21:00:00",
          "2025-07-14T00:00:00",
          "2025-07-14T06:00:00",
          "2025-07-14T12:00:00"
         ],
         "xaxis": "x",
         "y": {
          "bdata": "AAAAuMmKckAAAABgPYByQAAAADjdeXJAAAAA6M11ckAAAADQo4JyQAAAAIB7l3JAAAAAIByvckAAAADwicxyQAAAANDK4HJAAAAA2Lz4ckAAAAAAAgxzQAAAAAgIF3NAAAAAULEVc0AAAABASwpzQAAAAKCI/XJAAAAAEF7tckAAAABwN99yQAAAAMiR0XJAAAAAqJPIckAAAACAiMByQAAAACjhtXJAAAAAOMOtckAAAACQV6ZyQAAAANDdnXJAAAAAMEqYckAAAACA6ZFyQAAAANiui3JAAAAAcByHckAAAADARJVyQAAAAIj8pXJAAAAAeLi7ckAAAADAm9ZyQAAAABgS8XJAAAAA8HUHc0AAAACoWBZzQAAAAMBXG3NAAAAACDcfc0AAAACAiRdzQAAAACgEDnNAAAAA+Nf+ckAAAAA4qO9yQAAAAJhL3nJAAAAAwLjTckAAAAAYRslyQAAAAKAkv3JAAAAA6IizckAAAACQWKlyQAAAALBsn3JAAAAAWICWckAAAADI9JByQAAAAMhWjXJAAAAAiPmLckAAAAAYkJlyQAAAAHAGrnJAAAAAqHi/ckAAAADwqNJyQAAAANC67HJAAAAACLQDc0AAAADIxBRzQAAAAMCtInNAAAAASHArc0AAAADwuChzQAAAADiEIHNAAAAA+KETc0AAAAB4TAJzQAAAACgU7XJAAAAAWPnackAAAABYRcpyQAAAAGB0vHJAAAAAKMGwckAAAACgyKVyQAAAAHDUm3JAAAAAsFSUckAAAACQIY1yQAAAAFjYhXJAAAAAGCSCckAAAACwfY5yQAAAADCxnnJAAAAAiPm1ckAAAACoRc9yQAAAAAhD63JAAAAA0LP+ckAAAAAA6Q1zQAAAAECyGXNAAAAAADofc0AAAABg2xlzQAAAAPjVD3NAAAAAUAf/ckAAAAAYhOxyQAAAAJAj2nJAAAAAMHfLckAAAABgralyQAAAAJA4jHJAAAAAmER+ckAAAACQmrByQAAAAEDPAXNAAAAAMH0kc0AAAABgXAdzQAAAAEiJ13JAAAAAgICwckAAAAAQCJdyQAAAAMDyiHJAAAAAsKK+ckAAAACgsgpzQAAAAGBMLHNAAAAAUNQMc0AAAAAQ+tpyQAAAAEAWtXJAAAAAeAKgckAAAACIDb1yQAAAAKgMKXNA",
          "dtype": "f8"
         },
         "yaxis": "y"
        },
        {
         "hovertemplate": "%{y:.2f}<extra>P<sub>75%</sub></extra>",
         "marker": {
          "color": "#27aeef",
          "size": 0.00001
         },
         "mode": "markers",
         "type": "scatter",
         "x": [
          "2025-07-08T00:00:00",
          "2025-07-08T01:00:00",
          "2025-07-08T02:00:00",
          "2025-07-08T03:00:00",
          "2025-07-08T04:00:00",
          "2025-07-08T05:00:00",
          "2025-07-08T06:00:00",
          "2025-07-08T07:00:00",
          "2025-07-08T08:00:00",
          "2025-07-08T09:00:00",
          "2025-07-08T10:00:00",
          "2025-07-08T11:00:00",
          "2025-07-08T12:00:00",
          "2025-07-08T13:00:00",
          "2025-07-08T14:00:00",
          "2025-07-08T15:00:00",
          "2025-07-08T16:00:00",
          "2025-07-08T17:00:00",
          "2025-07-08T18:00:00",
          "2025-07-08T19:00:00",
          "2025-07-08T20:00:00",
          "2025-07-08T21:00:00",
          "2025-07-08T22:00:00",
          "2025-07-08T23:00:00",
          "2025-07-09T00:00:00",
          "2025-07-09T01:00:00",
          "2025-07-09T02:00:00",
          "2025-07-09T03:00:00",
          "2025-07-09T04:00:00",
          "2025-07-09T05:00:00",
          "2025-07-09T06:00:00",
          "2025-07-09T07:00:00",
          "2025-07-09T08:00:00",
          "2025-07-09T09:00:00",
          "2025-07-09T10:00:00",
          "2025-07-09T11:00:00",
          "2025-07-09T12:00:00",
          "2025-07-09T13:00:00",
          "2025-07-09T14:00:00",
          "2025-07-09T15:00:00",
          "2025-07-09T16:00:00",
          "2025-07-09T17:00:00",
          "2025-07-09T18:00:00",
          "2025-07-09T19:00:00",
          "2025-07-09T20:00:00",
          "2025-07-09T21:00:00",
          "2025-07-09T22:00:00",
          "2025-07-09T23:00:00",
          "2025-07-10T00:00:00",
          "2025-07-10T01:00:00",
          "2025-07-10T02:00:00",
          "2025-07-10T03:00:00",
          "2025-07-10T04:00:00",
          "2025-07-10T05:00:00",
          "2025-07-10T06:00:00",
          "2025-07-10T07:00:00",
          "2025-07-10T08:00:00",
          "2025-07-10T09:00:00",
          "2025-07-10T10:00:00",
          "2025-07-10T11:00:00",
          "2025-07-10T12:00:00",
          "2025-07-10T13:00:00",
          "2025-07-10T14:00:00",
          "2025-07-10T15:00:00",
          "2025-07-10T16:00:00",
          "2025-07-10T17:00:00",
          "2025-07-10T18:00:00",
          "2025-07-10T19:00:00",
          "2025-07-10T20:00:00",
          "2025-07-10T21:00:00",
          "2025-07-10T22:00:00",
          "2025-07-10T23:00:00",
          "2025-07-11T00:00:00",
          "2025-07-11T01:00:00",
          "2025-07-11T02:00:00",
          "2025-07-11T03:00:00",
          "2025-07-11T04:00:00",
          "2025-07-11T05:00:00",
          "2025-07-11T06:00:00",
          "2025-07-11T07:00:00",
          "2025-07-11T08:00:00",
          "2025-07-11T09:00:00",
          "2025-07-11T10:00:00",
          "2025-07-11T11:00:00",
          "2025-07-11T12:00:00",
          "2025-07-11T13:00:00",
          "2025-07-11T14:00:00",
          "2025-07-11T15:00:00",
          "2025-07-11T16:00:00",
          "2025-07-11T17:00:00",
          "2025-07-11T18:00:00",
          "2025-07-11T21:00:00",
          "2025-07-12T00:00:00",
          "2025-07-12T03:00:00",
          "2025-07-12T06:00:00",
          "2025-07-12T09:00:00",
          "2025-07-12T12:00:00",
          "2025-07-12T15:00:00",
          "2025-07-12T18:00:00",
          "2025-07-12T21:00:00",
          "2025-07-13T00:00:00",
          "2025-07-13T03:00:00",
          "2025-07-13T06:00:00",
          "2025-07-13T09:00:00",
          "2025-07-13T12:00:00",
          "2025-07-13T15:00:00",
          "2025-07-13T18:00:00",
          "2025-07-13T21:00:00",
          "2025-07-14T00:00:00",
          "2025-07-14T06:00:00",
          "2025-07-14T12:00:00"
         ],
         "xaxis": "x",
         "y": {
          "bdata": "AAAAALCTckAAAAC8SIhyQAAAAGy6gnJAAAAABHd9ckAAAABAe4hyQAAAAJC9nHJAAAAAmDW0ckAAAACYcM9yQAAAAKga53JAAAAAmNT/ckAAAAAUvBJzQAAAAOh4HXNAAAAAaAocc0AAAACIXhVzQAAAANRGA3NAAAAAsIfzckAAAABoyedyQAAAAPSF2HJAAAAA8D3PckAAAABsdMVyQAAAAFgnv3JAAAAAbKe1ckAAAACA7K1yQAAAAFzipnJAAAAAXLGfckAAAACg5JdyQAAAAJTZkXJAAAAAFHiPckAAAAD02ppyQAAAAHCprXJAAAAADMPCckAAAAA82NxyQAAAANx79XJAAAAA0LgPc0AAAABcNiFzQAAAALSdKnNAAAAAhGgvc0AAAABQBCNzQAAAAKxhFnNAAAAAnBQLc0AAAADQR/ZyQAAAADAf5HJAAAAAgCXYckAAAAAUzc5yQAAAAByIxHJAAAAAaNm4ckAAAADU5a5yQAAAANC/pXJAAAAALNmeckAAAAAI1ZdyQAAAANxmlHJAAAAAPAiSckAAAADcOp9yQAAAAESJsnJAAAAA4B7GckAAAADEYNxyQAAAAORB8XJAAAAASAcHc0AAAAA0ghxzQAAAAOhRK3NAAAAA4Dwzc0AAAADISDBzQAAAAPihJXNAAAAA8I0Yc0AAAACo1AZzQAAAAKh29HJAAAAASATjckAAAAAcjM9yQAAAAOSywXJAAAAANPy0ckAAAADkZKtyQAAAALgDonJAAAAAyAyYckAAAADsXpByQAAAAPSai3JAAAAAROCJckAAAACQDJZyQAAAAASKpnJAAAAACKK7ckAAAADMHNZyQAAAAIzF73JAAAAAGJQDc0AAAABQ0RNzQAAAAJhpIHNAAAAAlJ8oc0AAAACQ/SFzQAAAAAx8F3NAAAAAECYEc0AAAABwC/RyQAAAAGRP4HJAAAAATJbSckAAAABsQ7ByQAAAAACMknJAAAAADLWDckAAAACkVbZyQAAAAJTvB3NAAAAAWHwpc0AAAAAIdQ5zQAAAAHTi33JAAAAAQDq2ckAAAADERJ5yQAAAAGxxj3JAAAAAvEPEckAAAADYExRzQAAAALh2NHNAAAAAVHMac0AAAACw7+RyQAAAAKi6unJAAAAACJOkckAAAAAYWslyQAAAAAyHL3NA",
          "dtype": "f8"
         },
         "yaxis": "y"
        },
        {
         "hovertemplate": "%{y:.2f}<extra>P<sub>90%</sub></extra>",
         "marker": {
          "color": "#27aeef",
          "size": 0.00001
         },
         "mode": "markers",
         "type": "scatter",
         "x": [
          "2025-07-08T00:00:00",
          "2025-07-08T01:00:00",
          "2025-07-08T02:00:00",
          "2025-07-08T03:00:00",
          "2025-07-08T04:00:00",
          "2025-07-08T05:00:00",
          "2025-07-08T06:00:00",
          "2025-07-08T07:00:00",
          "2025-07-08T08:00:00",
          "2025-07-08T09:00:00",
          "2025-07-08T10:00:00",
          "2025-07-08T11:00:00",
          "2025-07-08T12:00:00",
          "2025-07-08T13:00:00",
          "2025-07-08T14:00:00",
          "2025-07-08T15:00:00",
          "2025-07-08T16:00:00",
          "2025-07-08T17:00:00",
          "2025-07-08T18:00:00",
          "2025-07-08T19:00:00",
          "2025-07-08T20:00:00",
          "2025-07-08T21:00:00",
          "2025-07-08T22:00:00",
          "2025-07-08T23:00:00",
          "2025-07-09T00:00:00",
          "2025-07-09T01:00:00",
          "2025-07-09T02:00:00",
          "2025-07-09T03:00:00",
          "2025-07-09T04:00:00",
          "2025-07-09T05:00:00",
          "2025-07-09T06:00:00",
          "2025-07-09T07:00:00",
          "2025-07-09T08:00:00",
          "2025-07-09T09:00:00",
          "2025-07-09T10:00:00",
          "2025-07-09T11:00:00",
          "2025-07-09T12:00:00",
          "2025-07-09T13:00:00",
          "2025-07-09T14:00:00",
          "2025-07-09T15:00:00",
          "2025-07-09T16:00:00",
          "2025-07-09T17:00:00",
          "2025-07-09T18:00:00",
          "2025-07-09T19:00:00",
          "2025-07-09T20:00:00",
          "2025-07-09T21:00:00",
          "2025-07-09T22:00:00",
          "2025-07-09T23:00:00",
          "2025-07-10T00:00:00",
          "2025-07-10T01:00:00",
          "2025-07-10T02:00:00",
          "2025-07-10T03:00:00",
          "2025-07-10T04:00:00",
          "2025-07-10T05:00:00",
          "2025-07-10T06:00:00",
          "2025-07-10T07:00:00",
          "2025-07-10T08:00:00",
          "2025-07-10T09:00:00",
          "2025-07-10T10:00:00",
          "2025-07-10T11:00:00",
          "2025-07-10T12:00:00",
          "2025-07-10T13:00:00",
          "2025-07-10T14:00:00",
          "2025-07-10T15:00:00",
          "2025-07-10T16:00:00",
          "2025-07-10T17:00:00",
          "2025-07-10T18:00:00",
          "2025-07-10T19:00:00",
          "2025-07-10T20:00:00",
          "2025-07-10T21:00:00",
          "2025-07-10T22:00:00",
          "2025-07-10T23:00:00",
          "2025-07-11T00:00:00",
          "2025-07-11T01:00:00",
          "2025-07-11T02:00:00",
          "2025-07-11T03:00:00",
          "2025-07-11T04:00:00",
          "2025-07-11T05:00:00",
          "2025-07-11T06:00:00",
          "2025-07-11T07:00:00",
          "2025-07-11T08:00:00",
          "2025-07-11T09:00:00",
          "2025-07-11T10:00:00",
          "2025-07-11T11:00:00",
          "2025-07-11T12:00:00",
          "2025-07-11T13:00:00",
          "2025-07-11T14:00:00",
          "2025-07-11T15:00:00",
          "2025-07-11T16:00:00",
          "2025-07-11T17:00:00",
          "2025-07-11T18:00:00",
          "2025-07-11T21:00:00",
          "2025-07-12T00:00:00",
          "2025-07-12T03:00:00",
          "2025-07-12T06:00:00",
          "2025-07-12T09:00:00",
          "2025-07-12T12:00:00",
          "2025-07-12T15:00:00",
          "2025-07-12T18:00:00",
          "2025-07-12T21:00:00",
          "2025-07-13T00:00:00",
          "2025-07-13T03:00:00",
          "2025-07-13T06:00:00",
          "2025-07-13T09:00:00",
          "2025-07-13T12:00:00",
          "2025-07-13T15:00:00",
          "2025-07-13T18:00:00",
          "2025-07-13T21:00:00",
          "2025-07-14T00:00:00",
          "2025-07-14T06:00:00",
          "2025-07-14T12:00:00"
         ],
         "xaxis": "x",
         "y": {
          "bdata": "MzMzO6WdckDNzMy89pByQAAAAGDniHJAzczMxHGDckAzMzNrm45yQAAAAAgpo3JAzczMbM65ckAAAADIdNZyQGZmZtb87XJAmpmZwbYFc0BmZmaW4RtzQGZmZob5InNAmpmZETwqc0CamZmJXiFzQJqZmem4E3NAMzMzc+T6ckBmZmYOhvRyQGZmZrbt5HJAZmZmhiLVckAAAAAQastyQGZmZhagwXJAAAAAYMy3ckBmZmZO2rByQGZmZj61q3JAzczMpE6jckAAAABoOZ1yQJqZmZGRlnJAZmZmflaUckBmZmauLZ9yQDMzM1PgsnJAZmZm1vrGckCamZmRy95yQDMzM8Pg93JAzczMjBAUc0AzMzMTLCZzQDMzM2s6MHNAZmZmhoA0c0AzMzNTpC1zQM3MzFSmIXNAzczMxLUOc0AzMzOT0/9yQAAAAChS7XJAZmZm9sHcckBmZmYGv9FyQGZmZl7YyHJAmpmZCWO9ckCamZlBULVyQDMzM/NMqnJAZmZmbiGjckAAAADA9J1yQJqZmWk0mXJAZmZmtpaWckAAAAAgvqJyQJqZmeG7tnJAmpmZUVTLckAzMzOTf99yQJqZmRl593JAzczMxKMNc0AAAAAAKSJzQAAAADB5MHNAMzMzg4A4c0AAAAAI7jRzQDMzM5t3KnNAZmZmfkcdc0AzMzN7iglzQAAAAOhg93JAmpmZqTTockBmZmZWKdlyQM3MzHQtyXJAAAAAcA66ckCamZmpEq5yQM3MzPzTpHJAMzMzyzObckAzMzNTH5RyQJqZmZl6j3JAMzMzu7qOckBmZmZmKZlyQGZmZr5MrHJAAAAA+FbBckDNzMwcMt1yQAAAAKjl+HJAMzMzA6AOc0DNzMw0qB9zQDMzM6sFKXNAAAAAQNItc0CamZmplShzQM3MzLS5HHNAmpmZ+e8Lc0AzMzNjcvlyQM3MzPTk6HJAZmZmtpHYckBmZmamc7RyQGZmZlZjmnJAMzMzYxGKckDNzMxEKLpyQDMzM/OiEXNAAAAAEKczc0BmZmZ2UxRzQAAAALgW5nJAAAAAeNW/ckDNzMws8KNyQAAAAPBFmXJAmpmZuRnMckAzMzNjqRpzQAAAAJi4PXNAZmZmhr4gc0CamZnZ/OpyQM3MzFyKwnJAAAAAMJSockBmZmbuqs5yQGZmZi62OnNA",
          "dtype": "f8"
         },
         "yaxis": "y"
        },
        {
         "hovertemplate": "%{y:.2f}<extra>P<sub>100%</sub></extra>",
         "marker": {
          "color": "#27aeef",
          "size": 0.00001
         },
         "mode": "markers",
         "type": "scatter",
         "x": [
          "2025-07-08T00:00:00",
          "2025-07-08T01:00:00",
          "2025-07-08T02:00:00",
          "2025-07-08T03:00:00",
          "2025-07-08T04:00:00",
          "2025-07-08T05:00:00",
          "2025-07-08T06:00:00",
          "2025-07-08T07:00:00",
          "2025-07-08T08:00:00",
          "2025-07-08T09:00:00",
          "2025-07-08T10:00:00",
          "2025-07-08T11:00:00",
          "2025-07-08T12:00:00",
          "2025-07-08T13:00:00",
          "2025-07-08T14:00:00",
          "2025-07-08T15:00:00",
          "2025-07-08T16:00:00",
          "2025-07-08T17:00:00",
          "2025-07-08T18:00:00",
          "2025-07-08T19:00:00",
          "2025-07-08T20:00:00",
          "2025-07-08T21:00:00",
          "2025-07-08T22:00:00",
          "2025-07-08T23:00:00",
          "2025-07-09T00:00:00",
          "2025-07-09T01:00:00",
          "2025-07-09T02:00:00",
          "2025-07-09T03:00:00",
          "2025-07-09T04:00:00",
          "2025-07-09T05:00:00",
          "2025-07-09T06:00:00",
          "2025-07-09T07:00:00",
          "2025-07-09T08:00:00",
          "2025-07-09T09:00:00",
          "2025-07-09T10:00:00",
          "2025-07-09T11:00:00",
          "2025-07-09T12:00:00",
          "2025-07-09T13:00:00",
          "2025-07-09T14:00:00",
          "2025-07-09T15:00:00",
          "2025-07-09T16:00:00",
          "2025-07-09T17:00:00",
          "2025-07-09T18:00:00",
          "2025-07-09T19:00:00",
          "2025-07-09T20:00:00",
          "2025-07-09T21:00:00",
          "2025-07-09T22:00:00",
          "2025-07-09T23:00:00",
          "2025-07-10T00:00:00",
          "2025-07-10T01:00:00",
          "2025-07-10T02:00:00",
          "2025-07-10T03:00:00",
          "2025-07-10T04:00:00",
          "2025-07-10T05:00:00",
          "2025-07-10T06:00:00",
          "2025-07-10T07:00:00",
          "2025-07-10T08:00:00",
          "2025-07-10T09:00:00",
          "2025-07-10T10:00:00",
          "2025-07-10T11:00:00",
          "2025-07-10T12:00:00",
          "2025-07-10T13:00:00",
          "2025-07-10T14:00:00",
          "2025-07-10T15:00:00",
          "2025-07-10T16:00:00",
          "2025-07-10T17:00:00",
          "2025-07-10T18:00:00",
          "2025-07-10T19:00:00",
          "2025-07-10T20:00:00",
          "2025-07-10T21:00:00",
          "2025-07-10T22:00:00",
          "2025-07-10T23:00:00",
          "2025-07-11T00:00:00",
          "2025-07-11T01:00:00",
          "2025-07-11T02:00:00",
          "2025-07-11T03:00:00",
          "2025-07-11T04:00:00",
          "2025-07-11T05:00:00",
          "2025-07-11T06:00:00",
          "2025-07-11T07:00:00",
          "2025-07-11T08:00:00",
          "2025-07-11T09:00:00",
          "2025-07-11T10:00:00",
          "2025-07-11T11:00:00",
          "2025-07-11T12:00:00",
          "2025-07-11T13:00:00",
          "2025-07-11T14:00:00",
          "2025-07-11T15:00:00",
          "2025-07-11T16:00:00",
          "2025-07-11T17:00:00",
          "2025-07-11T18:00:00",
          "2025-07-11T21:00:00",
          "2025-07-12T00:00:00",
          "2025-07-12T03:00:00",
          "2025-07-12T06:00:00",
          "2025-07-12T09:00:00",
          "2025-07-12T12:00:00",
          "2025-07-12T15:00:00",
          "2025-07-12T18:00:00",
          "2025-07-12T21:00:00",
          "2025-07-13T00:00:00",
          "2025-07-13T03:00:00",
          "2025-07-13T06:00:00",
          "2025-07-13T09:00:00",
          "2025-07-13T12:00:00",
          "2025-07-13T15:00:00",
          "2025-07-13T18:00:00",
          "2025-07-13T21:00:00",
          "2025-07-14T00:00:00",
          "2025-07-14T06:00:00",
          "2025-07-14T12:00:00"
         ],
         "xaxis": "x",
         "y": {
          "bdata": "AAAAoL2ickAAAAAwlptyQAAAAKAalnJAAAAAIMyRckAAAABAGppyQAAAALBGqXJAAAAAACTAckAAAAAQT91yQAAAAHBd9nJAAAAAoNsQc0AAAACwoCJzQAAAABAkL3NAAAAA8J49c0AAAABQojJzQAAAAACXJXNAAAAAkKkbc0AAAACwh/pyQAAAACBG63JAAAAAMKbfckAAAACwp9dyQAAAAICsz3JAAAAA0PTMckAAAACwKcdyQAAAANDrvXJAAAAAcKe2ckAAAADwIbFyQAAAADA1qHJAAAAAANKkckAAAADwnLByQAAAAGBYv3JAAAAAIDrRckAAAABg7eNyQAAAAICIAXNAAAAAUAomc0AAAABQny5zQAAAAEBrOHNAAAAAsOA+c0AAAAAATjtzQAAAAJBIL3NAAAAAABUlc0AAAACAghRzQAAAACCI+XJAAAAAMK7tckAAAABQpt1yQAAAABCD1nJAAAAAAAfNckAAAAAQxMFyQAAAACB0u3JAAAAAkFm1ckAAAABAR7JyQAAAAGCdrnJAAAAAcImsckAAAADgL7lyQAAAAPDNx3JAAAAAkCzYckAAAABQb+9yQAAAACA6BHNAAAAAIGomc0AAAADwZz1zQAAAALCTQnNAAAAAcBdQc0AAAAAw00dzQAAAAJDyN3NAAAAA4D0nc0AAAABABh9zQAAAABBrAXNAAAAAwGvwckAAAACQIeVyQAAAAMBw1nJAAAAAsLrGckAAAACgSr5yQAAAAIBBtnJAAAAAwHWwckAAAAAwj6hyQAAAACCqonJAAAAAYLeeckAAAACwRKtyQAAAACDVu3JAAAAA4MbNckAAAADw/uVyQAAAADCHEnNAAAAA0IIqc0AAAADQnjZzQAAAAMAzMHNAAAAAoHkzc0AAAADgSC1zQAAAAHBwK3NAAAAAUK8hc0AAAACw3w5zQAAAAFAi+HJAAAAAoITickAAAACg875yQAAAAABQpnJAAAAAQCiXckAAAACg4c1yQAAAAJAfK3NAAAAAMKBAc0AAAAAQLyRzQAAAAPCw+nJAAAAA0OzMckAAAAAQHrtyQAAAAPBEp3JAAAAAQKbTckAAAAAwoClzQAAAAHCJSnNAAAAA0EAmc0AAAABwyflyQAAAAKBez3JAAAAAIM+1ckAAAADwFdVyQAAAANAJR3NA",
          "dtype": "f8"
         },
         "yaxis": "y"
        },
        {
         "line": {
          "color": "grey"
         },
         "name": "mean",
         "type": "scatter",
         "x": [
          "2025-07-08T00:00:00",
          "2025-07-08T01:00:00",
          "2025-07-08T02:00:00",
          "2025-07-08T03:00:00",
          "2025-07-08T04:00:00",
          "2025-07-08T05:00:00",
          "2025-07-08T06:00:00",
          "2025-07-08T07:00:00",
          "2025-07-08T08:00:00",
          "2025-07-08T09:00:00",
          "2025-07-08T10:00:00",
          "2025-07-08T11:00:00",
          "2025-07-08T12:00:00",
          "2025-07-08T13:00:00",
          "2025-07-08T14:00:00",
          "2025-07-08T15:00:00",
          "2025-07-08T16:00:00",
          "2025-07-08T17:00:00",
          "2025-07-08T18:00:00",
          "2025-07-08T19:00:00",
          "2025-07-08T20:00:00",
          "2025-07-08T21:00:00",
          "2025-07-08T22:00:00",
          "2025-07-08T23:00:00",
          "2025-07-09T00:00:00",
          "2025-07-09T01:00:00",
          "2025-07-09T02:00:00",
          "2025-07-09T03:00:00",
          "2025-07-09T04:00:00",
          "2025-07-09T05:00:00",
          "2025-07-09T06:00:00",
          "2025-07-09T07:00:00",
          "2025-07-09T08:00:00",
          "2025-07-09T09:00:00",
          "2025-07-09T10:00:00",
          "2025-07-09T11:00:00",
          "2025-07-09T12:00:00",
          "2025-07-09T13:00:00",
          "2025-07-09T14:00:00",
          "2025-07-09T15:00:00",
          "2025-07-09T16:00:00",
          "2025-07-09T17:00:00",
          "2025-07-09T18:00:00",
          "2025-07-09T19:00:00",
          "2025-07-09T20:00:00",
          "2025-07-09T21:00:00",
          "2025-07-09T22:00:00",
          "2025-07-09T23:00:00",
          "2025-07-10T00:00:00",
          "2025-07-10T01:00:00",
          "2025-07-10T02:00:00",
          "2025-07-10T03:00:00",
          "2025-07-10T04:00:00",
          "2025-07-10T05:00:00",
          "2025-07-10T06:00:00",
          "2025-07-10T07:00:00",
          "2025-07-10T08:00:00",
          "2025-07-10T09:00:00",
          "2025-07-10T10:00:00",
          "2025-07-10T11:00:00",
          "2025-07-10T12:00:00",
          "2025-07-10T13:00:00",
          "2025-07-10T14:00:00",
          "2025-07-10T15:00:00",
          "2025-07-10T16:00:00",
          "2025-07-10T17:00:00",
          "2025-07-10T18:00:00",
          "2025-07-10T19:00:00",
          "2025-07-10T20:00:00",
          "2025-07-10T21:00:00",
          "2025-07-10T22:00:00",
          "2025-07-10T23:00:00",
          "2025-07-11T00:00:00",
          "2025-07-11T01:00:00",
          "2025-07-11T02:00:00",
          "2025-07-11T03:00:00",
          "2025-07-11T04:00:00",
          "2025-07-11T05:00:00",
          "2025-07-11T06:00:00",
          "2025-07-11T07:00:00",
          "2025-07-11T08:00:00",
          "2025-07-11T09:00:00",
          "2025-07-11T10:00:00",
          "2025-07-11T11:00:00",
          "2025-07-11T12:00:00",
          "2025-07-11T13:00:00",
          "2025-07-11T14:00:00",
          "2025-07-11T15:00:00",
          "2025-07-11T16:00:00",
          "2025-07-11T17:00:00",
          "2025-07-11T18:00:00",
          "2025-07-11T19:00:00",
          "2025-07-11T20:00:00",
          "2025-07-11T21:00:00",
          "2025-07-11T22:00:00",
          "2025-07-11T23:00:00",
          "2025-07-12T00:00:00",
          "2025-07-12T01:00:00",
          "2025-07-12T02:00:00",
          "2025-07-12T03:00:00",
          "2025-07-12T04:00:00",
          "2025-07-12T05:00:00",
          "2025-07-12T06:00:00",
          "2025-07-12T07:00:00",
          "2025-07-12T08:00:00",
          "2025-07-12T09:00:00",
          "2025-07-12T10:00:00",
          "2025-07-12T11:00:00",
          "2025-07-12T12:00:00",
          "2025-07-12T13:00:00",
          "2025-07-12T14:00:00",
          "2025-07-12T15:00:00",
          "2025-07-12T16:00:00",
          "2025-07-12T17:00:00",
          "2025-07-12T18:00:00",
          "2025-07-12T19:00:00",
          "2025-07-12T20:00:00",
          "2025-07-12T21:00:00",
          "2025-07-12T22:00:00",
          "2025-07-12T23:00:00",
          "2025-07-13T00:00:00",
          "2025-07-13T01:00:00",
          "2025-07-13T02:00:00",
          "2025-07-13T03:00:00",
          "2025-07-13T04:00:00",
          "2025-07-13T05:00:00",
          "2025-07-13T06:00:00",
          "2025-07-13T07:00:00",
          "2025-07-13T08:00:00",
          "2025-07-13T09:00:00",
          "2025-07-13T10:00:00",
          "2025-07-13T11:00:00",
          "2025-07-13T12:00:00",
          "2025-07-13T13:00:00",
          "2025-07-13T14:00:00",
          "2025-07-13T15:00:00",
          "2025-07-13T16:00:00",
          "2025-07-13T17:00:00",
          "2025-07-13T18:00:00",
          "2025-07-13T19:00:00",
          "2025-07-13T20:00:00",
          "2025-07-13T21:00:00",
          "2025-07-13T22:00:00",
          "2025-07-13T23:00:00",
          "2025-07-14T00:00:00",
          "2025-07-14T01:00:00",
          "2025-07-14T02:00:00",
          "2025-07-14T03:00:00",
          "2025-07-14T04:00:00",
          "2025-07-14T05:00:00",
          "2025-07-14T06:00:00",
          "2025-07-14T07:00:00",
          "2025-07-14T08:00:00",
          "2025-07-14T09:00:00",
          "2025-07-14T10:00:00",
          "2025-07-14T11:00:00",
          "2025-07-14T12:00:00"
         ],
         "y": {
          "bdata": "MzMzSxyMckApXI+6KoJyQAAAAEhye3JAH4XruSR3ckApXI9yj4JyQHE9Cj8Gl3JAH4XrqZeuckB7FK5HIctyQK5H4UJL4HJA4XoUFnr3ckCPwvUo0QpzQMP1KPynFXNAexSub0YWc0AUrkeBqAxzQGZmZt4Z/HJArkfhUlHsckDhehROid9yQLgehauz0XJAAAAAuOjHckCPwvVo/L5yQB+F68H0tnJAH4Xr2SyuckA9Ctc7X6ZyQD0K13sUn3JASOF6dLGXckDNzMwcOZFyQKRwPRpMi3JAXI/CzUaIckC4HoUbAJVyQAAAAHBQp3JAexSux7C8ckDNzMwcs9VyQOF6FFaX7nJAzczM7NIFc0ApXI86MRRzQArXo1BrG3NAhetRcF0fc0D2KFwv7RlzQLgehau8DXNAuB6F45n7ckBxPQoXYu1yQFyPwhWv3HJA4XoUXhnRckCkcD1S98ZyQOxRuO5zvHJACtejOFSyckDXo3BVt6dyQFyPwoURn3JAZmZmDoSXckCkcD0iu5FyQJqZmRFSjXJA7FG4fmGLckBI4XrU/phyQFK4HmWQqnJA9ihc5+m9ckA9CtfD2tNyQI/C9ZgH7XJArkfhCqEDc0DD9Sjc0hZzQArXo1ClI3NAUrgeJUwsc0BSuB7VPilzQLgehUtlH3NAhetRKF8Rc0CPwvUQjABzQLgehUuD63JAZmZmjiPackDNzMz81cpyQM3MzBTSvHJAexSuh2awckBSuB7ddqVyQLgehUvLm3JA9ihcb/iSckCamZnxA4xyQArXo3D2hXJAw/UoBNGCckC4HoUzjo1yQLgehZPonXJAj8L14CK1ckBxPQrH0s5yQLgehYMq6XJA7FG4lpv9ckDD9SisQg5zQFyPwj2zF3NAAAAA2MEcc0CF61HQjhdzQPYoXJeDCnNAuB6F05T4ckBI4XrUE+dyQFyPwj1k13JArkfhapHJckAAAAAAAAD4/wAAAAAAAPj/mpmZaemmckAAAAAAAAD4/wAAAAAAAPj/uB6Fc6OKckAAAAAAAAD4/wAAAAAAAPj/w/UoBNB7ckAAAAAAAAD4/wAAAAAAAPj/uB6Fo2mvckAAAAAAAAD4/wAAAAAAAPj/mpmZWYf/ckAAAAAAAAD4/wAAAAAAAPj/9ihcn2Ifc0AAAAAAAAD4/wAAAAAAAPj/MzMzg6gDc0AAAAAAAAD4/wAAAAAAAPj/16NwlZLWckAAAAAAAAD4/wAAAAAAAPj/4XoUtmyxckAAAAAAAAD4/wAAAAAAAPj/7FG4hhCYckAAAAAAAAD4/wAAAAAAAPj/j8L1IKeIckAAAAAAAAD4/wAAAAAAAPj/KVyPyru9ckAAAAAAAAD4/wAAAAAAAPj/AAAAsO8Kc0AAAAAAAAD4/wAAAAAAAPj/UrgeZV8qc0AAAAAAAAD4/wAAAAAAAPj/SOF6pN8Kc0AAAAAAAAD4/wAAAAAAAPj/16Nw1WfZckAAAAAAAAD4/wAAAAAAAPj/uB6F+6S0ckAAAAAAAAD4/wAAAAAAAPj/w/UobPWdckAAAAAAAAD4/wAAAAAAAPj/AAAAAAAA+P8AAAAAAAD4/wAAAAAAAPj/UrgehXK9ckAAAAAAAAD4/wAAAAAAAPj/AAAAAAAA+P8AAAAAAAD4/wAAAAAAAPj/MzMz690ic0A=",
          "dtype": "f8"
         }
        }
       ],
       "layout": {
        "annotations": [
         {
          "font": {
           "size": 16
          },
          "showarrow": false,
          "text": "t_2m",
          "x": 0.5,
          "xanchor": "center",
          "xref": "paper",
          "y": 1,
          "yanchor": "bottom",
          "yref": "paper"
         }
        ],
        "colorway": [
         "#636EFA",
         "#EF553B",
         "#00CC96",
         "#AB63FA",
         "#FFA15A",
         "#19D3F3",
         "#FF6692",
         "#B6E880",
         "#FF97FF",
         "#FECB52"
        ],
        "height": 750,
        "hovermode": "x",
        "plot_bgcolor": "white",
        "showlegend": false,
        "template": {
         "data": {
          "bar": [
           {
            "error_x": {
             "color": "#2a3f5f"
            },
            "error_y": {
             "color": "#2a3f5f"
            },
            "marker": {
             "line": {
              "color": "#E5ECF6",
              "width": 0.5
             },
             "pattern": {
              "fillmode": "overlay",
              "size": 10,
              "solidity": 0.2
             }
            },
            "type": "bar"
           }
          ],
          "barpolar": [
           {
            "marker": {
             "line": {
              "color": "#E5ECF6",
              "width": 0.5
             },
             "pattern": {
              "fillmode": "overlay",
              "size": 10,
              "solidity": 0.2
             }
            },
            "type": "barpolar"
           }
          ],
          "carpet": [
           {
            "aaxis": {
             "endlinecolor": "#2a3f5f",
             "gridcolor": "white",
             "linecolor": "white",
             "minorgridcolor": "white",
             "startlinecolor": "#2a3f5f"
            },
            "baxis": {
             "endlinecolor": "#2a3f5f",
             "gridcolor": "white",
             "linecolor": "white",
             "minorgridcolor": "white",
             "startlinecolor": "#2a3f5f"
            },
            "type": "carpet"
           }
          ],
          "choropleth": [
           {
            "colorbar": {
             "outlinewidth": 0,
             "ticks": ""
            },
            "type": "choropleth"
           }
          ],
          "contour": [
           {
            "colorbar": {
             "outlinewidth": 0,
             "ticks": ""
            },
            "colorscale": [
             [
              0,
              "#0d0887"
             ],
             [
              0.1111111111111111,
              "#46039f"
             ],
             [
              0.2222222222222222,
              "#7201a8"
             ],
             [
              0.3333333333333333,
              "#9c179e"
             ],
             [
              0.4444444444444444,
              "#bd3786"
             ],
             [
              0.5555555555555556,
              "#d8576b"
             ],
             [
              0.6666666666666666,
              "#ed7953"
             ],
             [
              0.7777777777777778,
              "#fb9f3a"
             ],
             [
              0.8888888888888888,
              "#fdca26"
             ],
             [
              1,
              "#f0f921"
             ]
            ],
            "type": "contour"
           }
          ],
          "contourcarpet": [
           {
            "colorbar": {
             "outlinewidth": 0,
             "ticks": ""
            },
            "type": "contourcarpet"
           }
          ],
          "heatmap": [
           {
            "colorbar": {
             "outlinewidth": 0,
             "ticks": ""
            },
            "colorscale": [
             [
              0,
              "#0d0887"
             ],
             [
              0.1111111111111111,
              "#46039f"
             ],
             [
              0.2222222222222222,
              "#7201a8"
             ],
             [
              0.3333333333333333,
              "#9c179e"
             ],
             [
              0.4444444444444444,
              "#bd3786"
             ],
             [
              0.5555555555555556,
              "#d8576b"
             ],
             [
              0.6666666666666666,
              "#ed7953"
             ],
             [
              0.7777777777777778,
              "#fb9f3a"
             ],
             [
              0.8888888888888888,
              "#fdca26"
             ],
             [
              1,
              "#f0f921"
             ]
            ],
            "type": "heatmap"
           }
          ],
          "histogram": [
           {
            "marker": {
             "pattern": {
              "fillmode": "overlay",
              "size": 10,
              "solidity": 0.2
             }
            },
            "type": "histogram"
           }
          ],
          "histogram2d": [
           {
            "colorbar": {
             "outlinewidth": 0,
             "ticks": ""
            },
            "colorscale": [
             [
              0,
              "#0d0887"
             ],
             [
              0.1111111111111111,
              "#46039f"
             ],
             [
              0.2222222222222222,
              "#7201a8"
             ],
             [
              0.3333333333333333,
              "#9c179e"
             ],
             [
              0.4444444444444444,
              "#bd3786"
             ],
             [
              0.5555555555555556,
              "#d8576b"
             ],
             [
              0.6666666666666666,
              "#ed7953"
             ],
             [
              0.7777777777777778,
              "#fb9f3a"
             ],
             [
              0.8888888888888888,
              "#fdca26"
             ],
             [
              1,
              "#f0f921"
             ]
            ],
            "type": "histogram2d"
           }
          ],
          "histogram2dcontour": [
           {
            "colorbar": {
             "outlinewidth": 0,
             "ticks": ""
            },
            "colorscale": [
             [
              0,
              "#0d0887"
             ],
             [
              0.1111111111111111,
              "#46039f"
             ],
             [
              0.2222222222222222,
              "#7201a8"
             ],
             [
              0.3333333333333333,
              "#9c179e"
             ],
             [
              0.4444444444444444,
              "#bd3786"
             ],
             [
              0.5555555555555556,
              "#d8576b"
             ],
             [
              0.6666666666666666,
              "#ed7953"
             ],
             [
              0.7777777777777778,
              "#fb9f3a"
             ],
             [
              0.8888888888888888,
              "#fdca26"
             ],
             [
              1,
              "#f0f921"
             ]
            ],
            "type": "histogram2dcontour"
           }
          ],
          "mesh3d": [
           {
            "colorbar": {
             "outlinewidth": 0,
             "ticks": ""
            },
            "type": "mesh3d"
           }
          ],
          "parcoords": [
           {
            "line": {
             "colorbar": {
              "outlinewidth": 0,
              "ticks": ""
             }
            },
            "type": "parcoords"
           }
          ],
          "pie": [
           {
            "automargin": true,
            "type": "pie"
           }
          ],
          "scatter": [
           {
            "fillpattern": {
             "fillmode": "overlay",
             "size": 10,
             "solidity": 0.2
            },
            "type": "scatter"
           }
          ],
          "scatter3d": [
           {
            "line": {
             "colorbar": {
              "outlinewidth": 0,
              "ticks": ""
             }
            },
            "marker": {
             "colorbar": {
              "outlinewidth": 0,
              "ticks": ""
             }
            },
            "type": "scatter3d"
           }
          ],
          "scattercarpet": [
           {
            "marker": {
             "colorbar": {
              "outlinewidth": 0,
              "ticks": ""
             }
            },
            "type": "scattercarpet"
           }
          ],
          "scattergeo": [
           {
            "marker": {
             "colorbar": {
              "outlinewidth": 0,
              "ticks": ""
             }
            },
            "type": "scattergeo"
           }
          ],
          "scattergl": [
           {
            "marker": {
             "colorbar": {
              "outlinewidth": 0,
              "ticks": ""
             }
            },
            "type": "scattergl"
           }
          ],
          "scattermap": [
           {
            "marker": {
             "colorbar": {
              "outlinewidth": 0,
              "ticks": ""
             }
            },
            "type": "scattermap"
           }
          ],
          "scattermapbox": [
           {
            "marker": {
             "colorbar": {
              "outlinewidth": 0,
              "ticks": ""
             }
            },
            "type": "scattermapbox"
           }
          ],
          "scatterpolar": [
           {
            "marker": {
             "colorbar": {
              "outlinewidth": 0,
              "ticks": ""
             }
            },
            "type": "scatterpolar"
           }
          ],
          "scatterpolargl": [
           {
            "marker": {
             "colorbar": {
              "outlinewidth": 0,
              "ticks": ""
             }
            },
            "type": "scatterpolargl"
           }
          ],
          "scatterternary": [
           {
            "marker": {
             "colorbar": {
              "outlinewidth": 0,
              "ticks": ""
             }
            },
            "type": "scatterternary"
           }
          ],
          "surface": [
           {
            "colorbar": {
             "outlinewidth": 0,
             "ticks": ""
            },
            "colorscale": [
             [
              0,
              "#0d0887"
             ],
             [
              0.1111111111111111,
              "#46039f"
             ],
             [
              0.2222222222222222,
              "#7201a8"
             ],
             [
              0.3333333333333333,
              "#9c179e"
             ],
             [
              0.4444444444444444,
              "#bd3786"
             ],
             [
              0.5555555555555556,
              "#d8576b"
             ],
             [
              0.6666666666666666,
              "#ed7953"
             ],
             [
              0.7777777777777778,
              "#fb9f3a"
             ],
             [
              0.8888888888888888,
              "#fdca26"
             ],
             [
              1,
              "#f0f921"
             ]
            ],
            "type": "surface"
           }
          ],
          "table": [
           {
            "cells": {
             "fill": {
              "color": "#EBF0F8"
             },
             "line": {
              "color": "white"
             }
            },
            "header": {
             "fill": {
              "color": "#C8D4E3"
             },
             "line": {
              "color": "white"
             }
            },
            "type": "table"
           }
          ]
         },
         "layout": {
          "annotationdefaults": {
           "arrowcolor": "#2a3f5f",
           "arrowhead": 0,
           "arrowwidth": 1
          },
          "autotypenumbers": "strict",
          "coloraxis": {
           "colorbar": {
            "outlinewidth": 0,
            "ticks": ""
           }
          },
          "colorscale": {
           "diverging": [
            [
             0,
             "#8e0152"
            ],
            [
             0.1,
             "#c51b7d"
            ],
            [
             0.2,
             "#de77ae"
            ],
            [
             0.3,
             "#f1b6da"
            ],
            [
             0.4,
             "#fde0ef"
            ],
            [
             0.5,
             "#f7f7f7"
            ],
            [
             0.6,
             "#e6f5d0"
            ],
            [
             0.7,
             "#b8e186"
            ],
            [
             0.8,
             "#7fbc41"
            ],
            [
             0.9,
             "#4d9221"
            ],
            [
             1,
             "#276419"
            ]
           ],
           "sequential": [
            [
             0,
             "#0d0887"
            ],
            [
             0.1111111111111111,
             "#46039f"
            ],
            [
             0.2222222222222222,
             "#7201a8"
            ],
            [
             0.3333333333333333,
             "#9c179e"
            ],
            [
             0.4444444444444444,
             "#bd3786"
            ],
            [
             0.5555555555555556,
             "#d8576b"
            ],
            [
             0.6666666666666666,
             "#ed7953"
            ],
            [
             0.7777777777777778,
             "#fb9f3a"
            ],
            [
             0.8888888888888888,
             "#fdca26"
            ],
            [
             1,
             "#f0f921"
            ]
           ],
           "sequentialminus": [
            [
             0,
             "#0d0887"
            ],
            [
             0.1111111111111111,
             "#46039f"
            ],
            [
             0.2222222222222222,
             "#7201a8"
            ],
            [
             0.3333333333333333,
             "#9c179e"
            ],
            [
             0.4444444444444444,
             "#bd3786"
            ],
            [
             0.5555555555555556,
             "#d8576b"
            ],
            [
             0.6666666666666666,
             "#ed7953"
            ],
            [
             0.7777777777777778,
             "#fb9f3a"
            ],
            [
             0.8888888888888888,
             "#fdca26"
            ],
            [
             1,
             "#f0f921"
            ]
           ]
          },
          "colorway": [
           "#636efa",
           "#EF553B",
           "#00cc96",
           "#ab63fa",
           "#FFA15A",
           "#19d3f3",
           "#FF6692",
           "#B6E880",
           "#FF97FF",
           "#FECB52"
          ],
          "font": {
           "color": "#2a3f5f"
          },
          "geo": {
           "bgcolor": "white",
           "lakecolor": "white",
           "landcolor": "#E5ECF6",
           "showlakes": true,
           "showland": true,
           "subunitcolor": "white"
          },
          "hoverlabel": {
           "align": "left"
          },
          "hovermode": "closest",
          "mapbox": {
           "style": "light"
          },
          "paper_bgcolor": "white",
          "plot_bgcolor": "#E5ECF6",
          "polar": {
           "angularaxis": {
            "gridcolor": "white",
            "linecolor": "white",
            "ticks": ""
           },
           "bgcolor": "#E5ECF6",
           "radialaxis": {
            "gridcolor": "white",
            "linecolor": "white",
            "ticks": ""
           }
          },
          "scene": {
           "xaxis": {
            "backgroundcolor": "#E5ECF6",
            "gridcolor": "white",
            "gridwidth": 2,
            "linecolor": "white",
            "showbackground": true,
            "ticks": "",
            "zerolinecolor": "white"
           },
           "yaxis": {
            "backgroundcolor": "#E5ECF6",
            "gridcolor": "white",
            "gridwidth": 2,
            "linecolor": "white",
            "showbackground": true,
            "ticks": "",
            "zerolinecolor": "white"
           },
           "zaxis": {
            "backgroundcolor": "#E5ECF6",
            "gridcolor": "white",
            "gridwidth": 2,
            "linecolor": "white",
            "showbackground": true,
            "ticks": "",
            "zerolinecolor": "white"
           }
          },
          "shapedefaults": {
           "line": {
            "color": "#2a3f5f"
           }
          },
          "ternary": {
           "aaxis": {
            "gridcolor": "white",
            "linecolor": "white",
            "ticks": ""
           },
           "baxis": {
            "gridcolor": "white",
            "linecolor": "white",
            "ticks": ""
           },
           "bgcolor": "#E5ECF6",
           "caxis": {
            "gridcolor": "white",
            "linecolor": "white",
            "ticks": ""
           }
          },
          "title": {
           "x": 0.05
          },
          "xaxis": {
           "automargin": true,
           "gridcolor": "white",
           "linecolor": "white",
           "ticks": "",
           "title": {
            "standoff": 15
           },
           "zerolinecolor": "white",
           "zerolinewidth": 2
          },
          "yaxis": {
           "automargin": true,
           "gridcolor": "white",
           "linecolor": "white",
           "ticks": "",
           "title": {
            "standoff": 15
           },
           "zerolinecolor": "white",
           "zerolinewidth": 2
          }
         }
        },
        "xaxis": {
         "anchor": "y",
         "domain": [
          0,
          1
         ],
         "gridwidth": 1,
         "showgrid": false,
         "showline": false,
         "zeroline": false
        },
        "yaxis": {
         "anchor": "x",
         "domain": [
          0,
          1
         ],
         "gridcolor": "#EEEEEE",
         "linecolor": "black",
         "showgrid": true,
         "showline": true,
         "title": {
          "text": "K"
         },
         "zeroline": false
        }
       }
      }
     },
     "metadata": {},
     "output_type": "display_data"
    }
   ],
   "source": [
    "from earthkit.plots.interactive import Chart\n",
    "\n",
    "\n",
    "TIME_FREQUENCY = \"1h\"\n",
    "QUANTILES = [0, 0.1, 0.25, 0.5, 0.75, 0.9, 1]\n",
    "\n",
    "chart = Chart()\n",
    "chart.box(ds_ch1, quantiles=QUANTILES, line_color='#ea5545' )\n",
    "chart.line(ds_ch1,aggregation='mean', line_color='grey', time_frequency=TIME_FREQUENCY)\n",
    "chart.box(ds_ch2, quantiles=QUANTILES, line_color=\"#ef9b20\")\n",
    "chart.line(ds_ch2,aggregation='mean', line_color='grey', time_frequency=TIME_FREQUENCY)\n",
    "chart.box(ds_ifs, quantiles=QUANTILES, line_color=\"#27aeef\")\n",
    "chart.line(ds_ifs,aggregation='mean', line_color='grey', time_frequency=TIME_FREQUENCY)\n",
    "\n",
    "chart.show()  # Repla\n"
   ]
  }
 ],
 "metadata": {
  "kernelspec": {
   "display_name": "polytope demo",
   "language": "python",
   "name": "polytope-demo"
  },
  "language_info": {
   "codemirror_mode": {
    "name": "ipython",
    "version": 3
   },
   "file_extension": ".py",
   "mimetype": "text/x-python",
   "name": "python",
   "nbconvert_exporter": "python",
   "pygments_lexer": "ipython3",
   "version": "3.11.6"
  }
 },
 "nbformat": 4,
 "nbformat_minor": 5
}
