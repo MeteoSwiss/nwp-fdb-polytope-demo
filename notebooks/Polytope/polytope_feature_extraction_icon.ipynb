{
 "cells": [
  {
   "cell_type": "markdown",
   "id": "c275f633",
   "metadata": {},
   "source": [
    "# Location and Time Series Access Using Polytope Feature Extraction\n",
    "\n",
    "This notebook showcases efficient geo-location and time series access using polytope feature extraction. By leveraging this feature, we significantly reduce data retrieval from storage, optimizing workflows and resource utilization."
   ]
  },
  {
   "cell_type": "markdown",
   "id": "14590001",
   "metadata": {},
   "source": [
    "## Installation\n",
    "See instruction in [Polytope installation](https://github.com/MeteoSwiss/nwp-fdb-polytope-demo/blob/main/README.md#Installation-1)"
   ]
  },
  {
   "cell_type": "markdown",
   "id": "cfcfc520",
   "metadata": {},
   "source": [
    "**Configuring Access to Polytope**"
   ]
  },
  {
   "cell_type": "code",
   "execution_count": null,
   "id": "d31a6eaa-f842-41f4-92e9-fa98c429c475",
   "metadata": {},
   "outputs": [],
   "source": [
    "import os\n",
    "import dataclasses as dc\n",
    "from meteodatalab import mars\n",
    "\n",
    "#ECMWF polytope credentials\n",
    "# leave empty for ICON-CSCS polytope\n",
    "os.environ[\"POLYTOPE_USER_KEY\"] = \"\"\n",
    "os.environ[\"POLYTOPE_USER_EMAIL\"] = \"\"\n",
    "\n",
    "#ICON-CSCS polytope credentials\n",
    "# leave empty for ecmwf polytope\n",
    "os.environ[\"POLYTOPE_USER_KEY\"] = \"xxxx\"\n",
    "os.environ[\"POLYTOPE_ADDRESS\"] = \"https://polytope-dev.mchml.cscs.ch\"\n",
    "os.environ[\"POLYTOPE_LOG_LEVEL\"] = \"INFO\""
   ]
  },
  {
   "cell_type": "markdown",
   "id": "b9dc71fd",
   "metadata": {},
   "source": [
    "**Selecting geo-location point of interest in rotated lat-lon grid (ICON-CH1 & ICON-CH2) as well as in geographical coordinates**"
   ]
  },
  {
   "cell_type": "code",
   "execution_count": null,
   "id": "397d3f67",
   "metadata": {},
   "outputs": [],
   "source": [
    "import cartopy.crs as ccrs\n",
    "import numpy as np\n",
    "#zrh_gc = (8.55,47.3367)\n",
    "rot_coord = (0,0)\n",
    "\n",
    "\n",
    "# South pole rotation of lon=10, latitude=-43\n",
    "rotated_crs = ccrs.RotatedPole(\n",
    "    pole_longitude=190, pole_latitude=43\n",
    ")\n",
    "\n",
    "# Convert a point from geographic to rotated coordinates\n",
    "original_crs = ccrs.PlateCarree()\n",
    "(x,y) = original_crs.transform_point(*rot_coord, rotated_crs)\n",
    "rotated_point = mars.Point(*rot_coord[::-1])\n",
    "geo_point = mars.Point(y,x)\n"
   ]
  },
  {
   "cell_type": "markdown",
   "id": "e31b92b1",
   "metadata": {},
   "source": [
    "**Selecting date,time of the forecast**"
   ]
  },
  {
   "cell_type": "code",
   "execution_count": null,
   "id": "ce42ef6c",
   "metadata": {},
   "outputs": [],
   "source": [
    "from datetime import datetime, timedelta\n",
    "\n",
    "# Current time\n",
    "now = datetime.now()\n",
    "\n",
    "# Subtract 12 hours\n",
    "past_time = now - timedelta(hours=12)\n",
    "\n",
    "# Round down to the nearest multiple of 6\n",
    "rounded_hour = (past_time.hour // 6) * 6\n",
    "rounded_time = past_time.replace(hour=rounded_hour, minute=0, second=0, microsecond=0)\n",
    "\n",
    "# Format as YYYYMMDD and HHMM\n",
    "date = rounded_time.strftime('%Y%m%d')\n",
    "time = rounded_time.strftime('%H%M')\n",
    "date,time\n"
   ]
  },
  {
   "cell_type": "markdown",
   "id": "b370671c",
   "metadata": {},
   "source": [
    "**Querying the data** <br>\n",
    "The `feature` attribute tells polytope to extract **only the relevant data at the given point**.\n",
    "The amount of data that is retrieved from storage is signficantly reduced."
   ]
  },
  {
   "cell_type": "code",
   "execution_count": null,
   "id": "51050159",
   "metadata": {},
   "outputs": [],
   "source": [
    "request = mars.Request(\n",
    "    param=\"T_2M\",\n",
    "    date=date,\n",
    "    time=time,\n",
    "    model=mars.Model.ICON_CH2_EPS,\n",
    "    levtype=mars.LevType.SURFACE,\n",
    "    number=1,\n",
    "    feature=mars.TimeseriesFeature(\n",
    "        points=[rotated_point],\n",
    "        range=mars.Range(start=0, end=120),\n",
    "        time_axis=\"step\",\n",
    "    )\n",
    ")"
   ]
  },
  {
   "cell_type": "code",
   "execution_count": null,
   "id": "2280b32a",
   "metadata": {},
   "outputs": [],
   "source": [
    "import earthkit.data as ekd\n",
    "ds = ekd.from_source(\n",
    "    \"polytope\",\n",
    "    \"mchgj\",\n",
    "    request.to_polytope(),\n",
    "    stream=False\n",
    ").to_xarray()"
   ]
  },
  {
   "cell_type": "markdown",
   "id": "f64a4028",
   "metadata": {},
   "source": [
    "**Plot the results**"
   ]
  },
  {
   "cell_type": "code",
   "execution_count": null,
   "id": "0001b5a3",
   "metadata": {},
   "outputs": [],
   "source": [
    "from earthkit.plots.interactive import Chart\n",
    "\n",
    "chart = Chart()\n",
    "chart.line(ds)\n",
    "chart.show(renderer=\"png\")  # Replace with chart.show() in an interactive session!\n",
    "\n"
   ]
  },
  {
   "cell_type": "markdown",
   "id": "6ecbe31d",
   "metadata": {},
   "source": [
    "We can also query the entire ensemble data for the same geo-location. \n",
    "\n",
    "For ICON-CH2-EPS"
   ]
  },
  {
   "cell_type": "code",
   "execution_count": null,
   "id": "251da6f4",
   "metadata": {},
   "outputs": [],
   "source": [
    "import xarray as xr\n",
    "ds_mems = []\n",
    "for num in range(1,21):\n",
    "    req = dc.replace(request, number=str(num), model=mars.Model.ICON_CH2_EPS, feature=mars.TimeseriesFeature(\n",
    "        points=[rotated_point],\n",
    "        range=mars.Range(start=0, end=120),\n",
    "        time_axis=\"step\",\n",
    "    ))\n",
    "    print(req.to_polytope())\n",
    "    ds_mems.append(ekd.from_source(\n",
    "      \"polytope\",\n",
    "      \"mchgj\",\n",
    "      req.to_polytope(),\n",
    "      stream=False\n",
    "    ).to_xarray())\n",
    "\n",
    "ds_ch2 = xr.concat(ds_mems, dim='number')\n",
    "\n",
    "    "
   ]
  },
  {
   "cell_type": "markdown",
   "id": "353d31af",
   "metadata": {},
   "source": [
    "For ICON-CH1-EPS"
   ]
  },
  {
   "cell_type": "code",
   "execution_count": null,
   "id": "57208fb7",
   "metadata": {},
   "outputs": [],
   "source": [
    "import xarray as xr\n",
    "ds_mems = []\n",
    "for num in range(1,11):\n",
    "    req = dc.replace(request, number=str(num), model=mars.Model.ICON_CH1_EPS, feature=mars.TimeseriesFeature(\n",
    "        points=[rotated_point],\n",
    "        range=mars.Range(start=0, end=33),\n",
    "        time_axis=\"step\",\n",
    "    ))\n",
    "    print(req.to_polytope())\n",
    "    ds_mems.append(ekd.from_source(\n",
    "      \"polytope\",\n",
    "      \"mchgj\",\n",
    "      req.to_polytope(),\n",
    "      stream=False\n",
    "    ).to_xarray())\n",
    "\n",
    "ds_ch1 = xr.concat(ds_mems, dim='number')"
   ]
  },
  {
   "cell_type": "markdown",
   "id": "1dc90019",
   "metadata": {},
   "source": [
    "We can also request the same data for IFS using the polytope of ecmwf"
   ]
  },
  {
   "cell_type": "code",
   "execution_count": null,
   "id": "040a0ee3",
   "metadata": {},
   "outputs": [],
   "source": [
    "import os\n",
    "\n",
    "os.environ[\"POLYTOPE_USER_KEY\"] = \"xxxx\"\n",
    "os.environ[\"POLYTOPE_USER_EMAIL\"] = \"xxx.yyy@domain.ch\"\n",
    "os.environ[\"POLYTOPE_ADDRESS\"] = \"polytope.ecmwf.int\""
   ]
  },
  {
   "cell_type": "code",
   "execution_count": null,
   "id": "766b6958",
   "metadata": {},
   "outputs": [],
   "source": [
    "\n",
    "request = {\n",
    "    \"class\": \"od\",\n",
    "    \"stream\" : \"enfo\",\n",
    "    \"type\" : \"pf\",\n",
    "    \"date\" : -1,\n",
    "    \"time\" : \"0000\",\n",
    "    \"levtype\" : \"sfc\",\n",
    "    \"expver\" : \"0001\",\n",
    "    \"domain\" : \"g\",\n",
    "    \"param\" : \"167\",\n",
    "    \"number\" : \"1/to/50\",\n",
    "    \"step\": \"0/to/160\",\n",
    "    \"feature\" : {\n",
    "        \"type\" : \"timeseries\",\n",
    "        \"points\": [[float(round(geo_point.lon,2)),float(round(geo_point.lat))]],\n",
    "        \"axes\": \"step\",\n",
    "    },\n",
    "}\n",
    "\n",
    "ds_ifs = ekd.from_source(\n",
    "    \"polytope\",\n",
    "    \"ecmwf-mars\",\n",
    "    request,\n",
    "    stream=False,\n",
    "    address='polytope.ecmwf.int',\n",
    ")"
   ]
  },
  {
   "cell_type": "markdown",
   "id": "3d40e194",
   "metadata": {},
   "source": [
    "**Plotting ensemble members of timeseries**"
   ]
  },
  {
   "cell_type": "code",
   "execution_count": null,
   "id": "49a62740",
   "metadata": {},
   "outputs": [],
   "source": [
    "from earthkit.plots.interactive import Chart\n",
    "\n",
    "\n",
    "TIME_FREQUENCY = \"1h\"\n",
    "QUANTILES = [0, 0.1, 0.25, 0.5, 0.75, 0.9, 1]\n",
    "\n",
    "chart = Chart()\n",
    "chart.box(ds_ch1, quantiles=QUANTILES, line_color='#ea5545' )\n",
    "chart.line(ds_ch1,aggregation='mean', line_color='grey', time_frequency=TIME_FREQUENCY)\n",
    "chart.box(ds_ch2, quantiles=QUANTILES, line_color=\"#ef9b20\")\n",
    "chart.line(ds_ch2,aggregation='mean', line_color='grey', time_frequency=TIME_FREQUENCY)\n",
    "chart.box(ds_ifs, quantiles=QUANTILES, line_color=\"#27aeef\")\n",
    "chart.line(ds_ifs,aggregation='mean', line_color='grey', time_frequency=TIME_FREQUENCY)\n",
    "\n",
    "chart.show(renderer=\"png\")  # Replace with chart.show() in an interactive session!\n"
   ]
  },
  {
   "cell_type": "code",
   "execution_count": null,
   "id": "7bbdf801",
   "metadata": {},
   "outputs": [],
   "source": []
  }
 ],
 "metadata": {
  "kernelspec": {
   "display_name": ".venv2",
   "language": "python",
   "name": "python3"
  },
  "language_info": {
   "codemirror_mode": {
    "name": "ipython",
    "version": 3
   },
   "file_extension": ".py",
   "mimetype": "text/x-python",
   "name": "python",
   "nbconvert_exporter": "python",
   "pygments_lexer": "ipython3",
   "version": "3.11.12"
  }
 },
 "nbformat": 4,
 "nbformat_minor": 5
}
