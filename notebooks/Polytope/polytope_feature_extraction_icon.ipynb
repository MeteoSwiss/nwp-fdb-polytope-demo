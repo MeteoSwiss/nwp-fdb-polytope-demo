{
 "cells": [
  {
   "cell_type": "markdown",
   "id": "c275f633",
   "metadata": {},
   "source": [
    "# Location and Time Series Access Using Polytope Feature Extraction\n",
    "\n",
    "This notebook showcases efficient geo-location and time series access using polytope feature extraction. By leveraging this feature, we significantly reduce data retrieval from storage, optimizing workflows and resource utilization."
   ]
  },
  {
   "cell_type": "markdown",
   "id": "14590001",
   "metadata": {},
   "source": [
    "## Installation\n",
    "See instruction in [Polytope installation](https://github.com/MeteoSwiss/nwp-fdb-polytope-demo/blob/main/README.md#Installation-1)"
   ]
  },
  {
   "cell_type": "markdown",
   "id": "cfcfc520",
   "metadata": {},
   "source": [
    "**Configuring Access to Polytope**"
   ]
  },
  {
   "cell_type": "code",
   "execution_count": 55,
   "id": "d31a6eaa-f842-41f4-92e9-fa98c429c475",
   "metadata": {},
   "outputs": [],
   "source": [
    "import os\n",
    "import dataclasses as dc\n",
    "from meteodatalab import mars\n",
    "\n",
    "#ECMWF polytope credentials\n",
    "os.environ[\"POLYTOPE_USER_KEY\"] = \"\"\n",
    "os.environ[\"POLYTOPE_USER_EMAIL\"] = \"\"\n",
    "\n",
    "#ICON-CSCS polytope credentials\n",
    "os.environ[\"POLYTOPE_USER_KEY\"] = \"xxxx\"\n",
    "os.environ[\"POLYTOPE_ADDRESS\"] = \"https://polytope-dev.mchml.cscs.ch\"\n",
    "os.environ[\"POLYTOPE_LOG_LEVEL\"] = \"INFO\"\n"
   ]
  },
  {
   "cell_type": "markdown",
   "id": "b9dc71fd",
   "metadata": {},
   "source": [
    "**Selecting geo-location point of interest in rotated lat-lon grid (ICON-CH1 & ICON-CH2) as well as in geographical coordinates**"
   ]
  },
  {
   "cell_type": "code",
   "execution_count": null,
   "id": "397d3f67",
   "metadata": {},
   "outputs": [],
   "source": [
    "import cartopy.crs as ccrs\n",
    "import numpy as np\n",
    "#zrh_gc = (8.55,47.3367)\n",
    "rot_coord = (0,0)\n",
    "\n",
    "\n",
    "# South pole rotation of lon=10, latitude=-43\n",
    "rotated_crs = ccrs.RotatedPole(\n",
    "    pole_longitude=190, pole_latitude=43\n",
    ")\n",
    "\n",
    "# Convert a point from geographic to rotated coordinates\n",
    "original_crs = ccrs.PlateCarree()\n",
    "(x,y) = original_crs.transform_point(*rot_coord, rotated_crs)\n",
    "rotated_point = mars.Point(*rot_coord[::-1])\n",
    "geo_point = mars.Point(y,x)\n"
   ]
  },
  {
   "cell_type": "markdown",
   "id": "e31b92b1",
   "metadata": {},
   "source": [
    "**Selecting date,time of the forecast**"
   ]
  },
  {
   "cell_type": "code",
   "execution_count": 14,
   "id": "ce42ef6c",
   "metadata": {},
   "outputs": [
    {
     "data": {
      "text/plain": [
       "('20250708', '1800')"
      ]
     },
     "execution_count": 14,
     "metadata": {},
     "output_type": "execute_result"
    }
   ],
   "source": [
    "from datetime import datetime, timedelta\n",
    "\n",
    "# Current time\n",
    "now = datetime.now()\n",
    "\n",
    "# Subtract 12 hours\n",
    "past_time = now - timedelta(hours=12)\n",
    "\n",
    "# Round down to the nearest multiple of 6\n",
    "rounded_hour = (past_time.hour // 6) * 6\n",
    "rounded_time = past_time.replace(hour=rounded_hour, minute=0, second=0, microsecond=0)\n",
    "\n",
    "# Format as YYYYMMDD and HHMM\n",
    "date = rounded_time.strftime('%Y%m%d')\n",
    "time = rounded_time.strftime('%H%M')\n",
    "date,time\n"
   ]
  },
  {
   "cell_type": "markdown",
   "id": "b370671c",
   "metadata": {},
   "source": [
    "**Querying the data** <br>\n",
    "The `feature` attribute tells polytope to extract **only the relevant data at the given point**.\n",
    "The amount of data that is retrieved from storage is signficantly reduced."
   ]
  },
  {
   "cell_type": "code",
   "execution_count": 21,
   "id": "51050159",
   "metadata": {},
   "outputs": [],
   "source": [
    "request = mars.Request(\n",
    "    param=\"T_2M\",\n",
    "    date=date,\n",
    "    time=time,\n",
    "    model=mars.Model.ICON_CH2_EPS,\n",
    "    levtype=mars.LevType.SURFACE,\n",
    "    number=1,\n",
    "    feature=mars.TimeseriesFeature(\n",
    "        points=[rotated_point],\n",
    "        range=mars.Range(start=0, end=120),\n",
    "        time_axis=\"step\",\n",
    "    )\n",
    ")"
   ]
  },
  {
   "cell_type": "code",
   "execution_count": null,
   "id": "2280b32a",
   "metadata": {},
   "outputs": [],
   "source": [
    "import earthkit.data as ekd\n",
    "ds = ekd.from_source(\n",
    "    \"polytope\",\n",
    "    \"mchgj\",\n",
    "    request.to_polytope(),\n",
    "    stream=False\n",
    ").to_xarray()"
   ]
  },
  {
   "cell_type": "markdown",
   "id": "f64a4028",
   "metadata": {},
   "source": [
    "**Plot the results**"
   ]
  },
  {
   "cell_type": "code",
   "execution_count": 23,
   "id": "0001b5a3",
   "metadata": {},
   "outputs": [
    {
     "data": {
      "application/vnd.plotly.v1+json": {
       "config": {
        "plotlyServerURL": "https://plot.ly"
       },
       "data": [
        {
         "type": "scatter",
         "x": [
          "2025-07-08T18:00:00",
          "2025-07-08T19:00:00",
          "2025-07-08T20:00:00",
          "2025-07-08T21:00:00",
          "2025-07-08T22:00:00",
          "2025-07-08T23:00:00",
          "2025-07-09T00:00:00",
          "2025-07-09T01:00:00",
          "2025-07-09T02:00:00",
          "2025-07-09T03:00:00",
          "2025-07-09T04:00:00",
          "2025-07-09T05:00:00",
          "2025-07-09T06:00:00",
          "2025-07-09T07:00:00",
          "2025-07-09T08:00:00",
          "2025-07-09T09:00:00",
          "2025-07-09T10:00:00",
          "2025-07-09T11:00:00",
          "2025-07-09T12:00:00",
          "2025-07-09T13:00:00",
          "2025-07-09T14:00:00",
          "2025-07-09T15:00:00",
          "2025-07-09T16:00:00",
          "2025-07-09T17:00:00",
          "2025-07-09T18:00:00",
          "2025-07-09T19:00:00",
          "2025-07-09T20:00:00",
          "2025-07-09T21:00:00",
          "2025-07-09T22:00:00",
          "2025-07-09T23:00:00",
          "2025-07-10T00:00:00",
          "2025-07-10T01:00:00",
          "2025-07-10T02:00:00",
          "2025-07-10T03:00:00",
          "2025-07-10T04:00:00",
          "2025-07-10T05:00:00",
          "2025-07-10T06:00:00",
          "2025-07-10T07:00:00",
          "2025-07-10T08:00:00",
          "2025-07-10T09:00:00",
          "2025-07-10T10:00:00",
          "2025-07-10T11:00:00",
          "2025-07-10T12:00:00",
          "2025-07-10T13:00:00",
          "2025-07-10T14:00:00",
          "2025-07-10T15:00:00",
          "2025-07-10T16:00:00",
          "2025-07-10T17:00:00",
          "2025-07-10T18:00:00",
          "2025-07-10T19:00:00",
          "2025-07-10T20:00:00",
          "2025-07-10T21:00:00",
          "2025-07-10T22:00:00",
          "2025-07-10T23:00:00",
          "2025-07-11T00:00:00",
          "2025-07-11T01:00:00",
          "2025-07-11T02:00:00",
          "2025-07-11T03:00:00",
          "2025-07-11T04:00:00",
          "2025-07-11T05:00:00",
          "2025-07-11T06:00:00",
          "2025-07-11T07:00:00",
          "2025-07-11T08:00:00",
          "2025-07-11T09:00:00",
          "2025-07-11T10:00:00",
          "2025-07-11T11:00:00",
          "2025-07-11T12:00:00",
          "2025-07-11T13:00:00",
          "2025-07-11T14:00:00",
          "2025-07-11T15:00:00",
          "2025-07-11T16:00:00",
          "2025-07-11T17:00:00",
          "2025-07-11T18:00:00",
          "2025-07-11T19:00:00",
          "2025-07-11T20:00:00",
          "2025-07-11T21:00:00",
          "2025-07-11T22:00:00",
          "2025-07-11T23:00:00",
          "2025-07-12T00:00:00",
          "2025-07-12T01:00:00",
          "2025-07-12T02:00:00",
          "2025-07-12T03:00:00",
          "2025-07-12T04:00:00",
          "2025-07-12T05:00:00",
          "2025-07-12T06:00:00",
          "2025-07-12T07:00:00",
          "2025-07-12T08:00:00",
          "2025-07-12T09:00:00",
          "2025-07-12T10:00:00",
          "2025-07-12T11:00:00",
          "2025-07-12T12:00:00",
          "2025-07-12T13:00:00",
          "2025-07-12T14:00:00",
          "2025-07-12T15:00:00",
          "2025-07-12T16:00:00",
          "2025-07-12T17:00:00",
          "2025-07-12T18:00:00",
          "2025-07-12T19:00:00",
          "2025-07-12T20:00:00",
          "2025-07-12T21:00:00",
          "2025-07-12T22:00:00",
          "2025-07-12T23:00:00",
          "2025-07-13T00:00:00",
          "2025-07-13T01:00:00",
          "2025-07-13T02:00:00",
          "2025-07-13T03:00:00",
          "2025-07-13T04:00:00",
          "2025-07-13T05:00:00",
          "2025-07-13T06:00:00",
          "2025-07-13T07:00:00",
          "2025-07-13T08:00:00",
          "2025-07-13T09:00:00",
          "2025-07-13T10:00:00",
          "2025-07-13T11:00:00",
          "2025-07-13T12:00:00",
          "2025-07-13T13:00:00",
          "2025-07-13T14:00:00",
          "2025-07-13T15:00:00",
          "2025-07-13T16:00:00",
          "2025-07-13T17:00:00",
          "2025-07-13T18:00:00"
         ],
         "y": {
          "bdata": "AAAAQE1mcUAAAABgCmxxQAAAAGDnZHFAAAAAYHRkcUAAAABAbmJxQAAAAKCKX3FAAAAAAIhjcUAAAACg6GpxQAAAAAC4bXFAAAAAAMpscUAAAADARm5xQAAAAECfb3FAAAAAINJwcUAAAACA8HdxQAAAAIAHh3FAAAAAwM6jcUAAAADgY7ZxQAAAAKBlx3FAAAAAQH3ScUAAAACgtNxxQAAAAMBr5HFAAAAA4KzkcUAAAAAgfd1xQAAAAOBV0HFAAAAAgBDCcUAAAADA261xQAAAAAA9mnFAAAAAYIeVcUAAAABAPJNxQAAAAIAnjnFAAAAAoJWIcUAAAADg74JxQAAAAACTgHFAAAAAAPZ/cUAAAAAAvX9xQAAAAKDIkHFAAAAAgDSgcUAAAAAg37VxQAAAAGDD0nFAAAAAgNHqcUAAAAAgtP1xQAAAAIDdC3JAAAAAALMVckAAAACAiBtyQAAAACDCG3JAAAAAgHEYckAAAACgYhFyQAAAAACZBXJAAAAAgGn1cUAAAAAA9d9xQAAAAGD3znFAAAAAYLTFcUAAAADgHbtxQAAAAODPtXFAAAAAgIKzcUAAAAAgQq9xQAAAACD+qXFAAAAAQG+ncUAAAAAAaKVxQAAAAEAptXFAAAAAAKrHcUAAAAAAu9txQAAAAGDo9XFAAAAAILILckAAAAAAPB5yQAAAAEBdK3JAAAAAQJ4zckAAAADAlDdyQAAAAIBqNnJAAAAAwLovckAAAABANSZyQAAAAEAVG3JAAAAAAIQLckAAAADg1vNxQAAAACCh3HFAAAAAYHzacUAAAACAg81xQAAAAKB4yHFAAAAAIEfFcUAAAABg9sNxQAAAAEAvwHFAAAAAYO69cUAAAACA5rtxQAAAAOAUyXFAAAAAgFzdcUAAAACgf+5xQAAAACCkCnJAAAAAYOwhckAAAAAg9DJyQAAAAEDvPnJAAAAAgCNGckAAAADAnUhyQAAAAOCDSXJAAAAAgOxFckAAAACABT9yQAAAAECZNHJAAAAAwCcjckAAAADA4ApyQAAAAMAM7nFAAAAAAM/icUAAAACgyttxQAAAAGAa2HFAAAAAQDjVcUAAAAAgRNNxQAAAAGCA0nFAAAAA4AnRcUAAAAAAK9BxQAAAAIDd3nFAAAAAQKL6cUAAAACgpQtyQAAAAICGJHJAAAAAAEA6ckAAAABgbkRyQAAAAIBFVXJAAAAAAFBeckAAAACAbWRyQAAAAEAEaHJAAAAA4BtlckAAAACAmlxyQAAAAKCHUHJAAAAAADw9ckA=",
          "dtype": "f8"
         }
        }
       ],
       "layout": {
        "annotations": [
         {
          "font": {
           "size": 16
          },
          "showarrow": false,
          "text": "t_2m",
          "x": 0.5,
          "xanchor": "center",
          "xref": "paper",
          "y": 1,
          "yanchor": "bottom",
          "yref": "paper"
         }
        ],
        "colorway": [
         "#636EFA",
         "#EF553B",
         "#00CC96",
         "#AB63FA",
         "#FFA15A",
         "#19D3F3",
         "#FF6692",
         "#B6E880",
         "#FF97FF",
         "#FECB52"
        ],
        "height": 750,
        "hovermode": "x",
        "plot_bgcolor": "white",
        "showlegend": false,
        "template": {
         "data": {
          "bar": [
           {
            "error_x": {
             "color": "#2a3f5f"
            },
            "error_y": {
             "color": "#2a3f5f"
            },
            "marker": {
             "line": {
              "color": "#E5ECF6",
              "width": 0.5
             },
             "pattern": {
              "fillmode": "overlay",
              "size": 10,
              "solidity": 0.2
             }
            },
            "type": "bar"
           }
          ],
          "barpolar": [
           {
            "marker": {
             "line": {
              "color": "#E5ECF6",
              "width": 0.5
             },
             "pattern": {
              "fillmode": "overlay",
              "size": 10,
              "solidity": 0.2
             }
            },
            "type": "barpolar"
           }
          ],
          "carpet": [
           {
            "aaxis": {
             "endlinecolor": "#2a3f5f",
             "gridcolor": "white",
             "linecolor": "white",
             "minorgridcolor": "white",
             "startlinecolor": "#2a3f5f"
            },
            "baxis": {
             "endlinecolor": "#2a3f5f",
             "gridcolor": "white",
             "linecolor": "white",
             "minorgridcolor": "white",
             "startlinecolor": "#2a3f5f"
            },
            "type": "carpet"
           }
          ],
          "choropleth": [
           {
            "colorbar": {
             "outlinewidth": 0,
             "ticks": ""
            },
            "type": "choropleth"
           }
          ],
          "contour": [
           {
            "colorbar": {
             "outlinewidth": 0,
             "ticks": ""
            },
            "colorscale": [
             [
              0,
              "#0d0887"
             ],
             [
              0.1111111111111111,
              "#46039f"
             ],
             [
              0.2222222222222222,
              "#7201a8"
             ],
             [
              0.3333333333333333,
              "#9c179e"
             ],
             [
              0.4444444444444444,
              "#bd3786"
             ],
             [
              0.5555555555555556,
              "#d8576b"
             ],
             [
              0.6666666666666666,
              "#ed7953"
             ],
             [
              0.7777777777777778,
              "#fb9f3a"
             ],
             [
              0.8888888888888888,
              "#fdca26"
             ],
             [
              1,
              "#f0f921"
             ]
            ],
            "type": "contour"
           }
          ],
          "contourcarpet": [
           {
            "colorbar": {
             "outlinewidth": 0,
             "ticks": ""
            },
            "type": "contourcarpet"
           }
          ],
          "heatmap": [
           {
            "colorbar": {
             "outlinewidth": 0,
             "ticks": ""
            },
            "colorscale": [
             [
              0,
              "#0d0887"
             ],
             [
              0.1111111111111111,
              "#46039f"
             ],
             [
              0.2222222222222222,
              "#7201a8"
             ],
             [
              0.3333333333333333,
              "#9c179e"
             ],
             [
              0.4444444444444444,
              "#bd3786"
             ],
             [
              0.5555555555555556,
              "#d8576b"
             ],
             [
              0.6666666666666666,
              "#ed7953"
             ],
             [
              0.7777777777777778,
              "#fb9f3a"
             ],
             [
              0.8888888888888888,
              "#fdca26"
             ],
             [
              1,
              "#f0f921"
             ]
            ],
            "type": "heatmap"
           }
          ],
          "histogram": [
           {
            "marker": {
             "pattern": {
              "fillmode": "overlay",
              "size": 10,
              "solidity": 0.2
             }
            },
            "type": "histogram"
           }
          ],
          "histogram2d": [
           {
            "colorbar": {
             "outlinewidth": 0,
             "ticks": ""
            },
            "colorscale": [
             [
              0,
              "#0d0887"
             ],
             [
              0.1111111111111111,
              "#46039f"
             ],
             [
              0.2222222222222222,
              "#7201a8"
             ],
             [
              0.3333333333333333,
              "#9c179e"
             ],
             [
              0.4444444444444444,
              "#bd3786"
             ],
             [
              0.5555555555555556,
              "#d8576b"
             ],
             [
              0.6666666666666666,
              "#ed7953"
             ],
             [
              0.7777777777777778,
              "#fb9f3a"
             ],
             [
              0.8888888888888888,
              "#fdca26"
             ],
             [
              1,
              "#f0f921"
             ]
            ],
            "type": "histogram2d"
           }
          ],
          "histogram2dcontour": [
           {
            "colorbar": {
             "outlinewidth": 0,
             "ticks": ""
            },
            "colorscale": [
             [
              0,
              "#0d0887"
             ],
             [
              0.1111111111111111,
              "#46039f"
             ],
             [
              0.2222222222222222,
              "#7201a8"
             ],
             [
              0.3333333333333333,
              "#9c179e"
             ],
             [
              0.4444444444444444,
              "#bd3786"
             ],
             [
              0.5555555555555556,
              "#d8576b"
             ],
             [
              0.6666666666666666,
              "#ed7953"
             ],
             [
              0.7777777777777778,
              "#fb9f3a"
             ],
             [
              0.8888888888888888,
              "#fdca26"
             ],
             [
              1,
              "#f0f921"
             ]
            ],
            "type": "histogram2dcontour"
           }
          ],
          "mesh3d": [
           {
            "colorbar": {
             "outlinewidth": 0,
             "ticks": ""
            },
            "type": "mesh3d"
           }
          ],
          "parcoords": [
           {
            "line": {
             "colorbar": {
              "outlinewidth": 0,
              "ticks": ""
             }
            },
            "type": "parcoords"
           }
          ],
          "pie": [
           {
            "automargin": true,
            "type": "pie"
           }
          ],
          "scatter": [
           {
            "fillpattern": {
             "fillmode": "overlay",
             "size": 10,
             "solidity": 0.2
            },
            "type": "scatter"
           }
          ],
          "scatter3d": [
           {
            "line": {
             "colorbar": {
              "outlinewidth": 0,
              "ticks": ""
             }
            },
            "marker": {
             "colorbar": {
              "outlinewidth": 0,
              "ticks": ""
             }
            },
            "type": "scatter3d"
           }
          ],
          "scattercarpet": [
           {
            "marker": {
             "colorbar": {
              "outlinewidth": 0,
              "ticks": ""
             }
            },
            "type": "scattercarpet"
           }
          ],
          "scattergeo": [
           {
            "marker": {
             "colorbar": {
              "outlinewidth": 0,
              "ticks": ""
             }
            },
            "type": "scattergeo"
           }
          ],
          "scattergl": [
           {
            "marker": {
             "colorbar": {
              "outlinewidth": 0,
              "ticks": ""
             }
            },
            "type": "scattergl"
           }
          ],
          "scattermap": [
           {
            "marker": {
             "colorbar": {
              "outlinewidth": 0,
              "ticks": ""
             }
            },
            "type": "scattermap"
           }
          ],
          "scattermapbox": [
           {
            "marker": {
             "colorbar": {
              "outlinewidth": 0,
              "ticks": ""
             }
            },
            "type": "scattermapbox"
           }
          ],
          "scatterpolar": [
           {
            "marker": {
             "colorbar": {
              "outlinewidth": 0,
              "ticks": ""
             }
            },
            "type": "scatterpolar"
           }
          ],
          "scatterpolargl": [
           {
            "marker": {
             "colorbar": {
              "outlinewidth": 0,
              "ticks": ""
             }
            },
            "type": "scatterpolargl"
           }
          ],
          "scatterternary": [
           {
            "marker": {
             "colorbar": {
              "outlinewidth": 0,
              "ticks": ""
             }
            },
            "type": "scatterternary"
           }
          ],
          "surface": [
           {
            "colorbar": {
             "outlinewidth": 0,
             "ticks": ""
            },
            "colorscale": [
             [
              0,
              "#0d0887"
             ],
             [
              0.1111111111111111,
              "#46039f"
             ],
             [
              0.2222222222222222,
              "#7201a8"
             ],
             [
              0.3333333333333333,
              "#9c179e"
             ],
             [
              0.4444444444444444,
              "#bd3786"
             ],
             [
              0.5555555555555556,
              "#d8576b"
             ],
             [
              0.6666666666666666,
              "#ed7953"
             ],
             [
              0.7777777777777778,
              "#fb9f3a"
             ],
             [
              0.8888888888888888,
              "#fdca26"
             ],
             [
              1,
              "#f0f921"
             ]
            ],
            "type": "surface"
           }
          ],
          "table": [
           {
            "cells": {
             "fill": {
              "color": "#EBF0F8"
             },
             "line": {
              "color": "white"
             }
            },
            "header": {
             "fill": {
              "color": "#C8D4E3"
             },
             "line": {
              "color": "white"
             }
            },
            "type": "table"
           }
          ]
         },
         "layout": {
          "annotationdefaults": {
           "arrowcolor": "#2a3f5f",
           "arrowhead": 0,
           "arrowwidth": 1
          },
          "autotypenumbers": "strict",
          "coloraxis": {
           "colorbar": {
            "outlinewidth": 0,
            "ticks": ""
           }
          },
          "colorscale": {
           "diverging": [
            [
             0,
             "#8e0152"
            ],
            [
             0.1,
             "#c51b7d"
            ],
            [
             0.2,
             "#de77ae"
            ],
            [
             0.3,
             "#f1b6da"
            ],
            [
             0.4,
             "#fde0ef"
            ],
            [
             0.5,
             "#f7f7f7"
            ],
            [
             0.6,
             "#e6f5d0"
            ],
            [
             0.7,
             "#b8e186"
            ],
            [
             0.8,
             "#7fbc41"
            ],
            [
             0.9,
             "#4d9221"
            ],
            [
             1,
             "#276419"
            ]
           ],
           "sequential": [
            [
             0,
             "#0d0887"
            ],
            [
             0.1111111111111111,
             "#46039f"
            ],
            [
             0.2222222222222222,
             "#7201a8"
            ],
            [
             0.3333333333333333,
             "#9c179e"
            ],
            [
             0.4444444444444444,
             "#bd3786"
            ],
            [
             0.5555555555555556,
             "#d8576b"
            ],
            [
             0.6666666666666666,
             "#ed7953"
            ],
            [
             0.7777777777777778,
             "#fb9f3a"
            ],
            [
             0.8888888888888888,
             "#fdca26"
            ],
            [
             1,
             "#f0f921"
            ]
           ],
           "sequentialminus": [
            [
             0,
             "#0d0887"
            ],
            [
             0.1111111111111111,
             "#46039f"
            ],
            [
             0.2222222222222222,
             "#7201a8"
            ],
            [
             0.3333333333333333,
             "#9c179e"
            ],
            [
             0.4444444444444444,
             "#bd3786"
            ],
            [
             0.5555555555555556,
             "#d8576b"
            ],
            [
             0.6666666666666666,
             "#ed7953"
            ],
            [
             0.7777777777777778,
             "#fb9f3a"
            ],
            [
             0.8888888888888888,
             "#fdca26"
            ],
            [
             1,
             "#f0f921"
            ]
           ]
          },
          "colorway": [
           "#636efa",
           "#EF553B",
           "#00cc96",
           "#ab63fa",
           "#FFA15A",
           "#19d3f3",
           "#FF6692",
           "#B6E880",
           "#FF97FF",
           "#FECB52"
          ],
          "font": {
           "color": "#2a3f5f"
          },
          "geo": {
           "bgcolor": "white",
           "lakecolor": "white",
           "landcolor": "#E5ECF6",
           "showlakes": true,
           "showland": true,
           "subunitcolor": "white"
          },
          "hoverlabel": {
           "align": "left"
          },
          "hovermode": "closest",
          "mapbox": {
           "style": "light"
          },
          "paper_bgcolor": "white",
          "plot_bgcolor": "#E5ECF6",
          "polar": {
           "angularaxis": {
            "gridcolor": "white",
            "linecolor": "white",
            "ticks": ""
           },
           "bgcolor": "#E5ECF6",
           "radialaxis": {
            "gridcolor": "white",
            "linecolor": "white",
            "ticks": ""
           }
          },
          "scene": {
           "xaxis": {
            "backgroundcolor": "#E5ECF6",
            "gridcolor": "white",
            "gridwidth": 2,
            "linecolor": "white",
            "showbackground": true,
            "ticks": "",
            "zerolinecolor": "white"
           },
           "yaxis": {
            "backgroundcolor": "#E5ECF6",
            "gridcolor": "white",
            "gridwidth": 2,
            "linecolor": "white",
            "showbackground": true,
            "ticks": "",
            "zerolinecolor": "white"
           },
           "zaxis": {
            "backgroundcolor": "#E5ECF6",
            "gridcolor": "white",
            "gridwidth": 2,
            "linecolor": "white",
            "showbackground": true,
            "ticks": "",
            "zerolinecolor": "white"
           }
          },
          "shapedefaults": {
           "line": {
            "color": "#2a3f5f"
           }
          },
          "ternary": {
           "aaxis": {
            "gridcolor": "white",
            "linecolor": "white",
            "ticks": ""
           },
           "baxis": {
            "gridcolor": "white",
            "linecolor": "white",
            "ticks": ""
           },
           "bgcolor": "#E5ECF6",
           "caxis": {
            "gridcolor": "white",
            "linecolor": "white",
            "ticks": ""
           }
          },
          "title": {
           "x": 0.05
          },
          "xaxis": {
           "automargin": true,
           "gridcolor": "white",
           "linecolor": "white",
           "ticks": "",
           "title": {
            "standoff": 15
           },
           "zerolinecolor": "white",
           "zerolinewidth": 2
          },
          "yaxis": {
           "automargin": true,
           "gridcolor": "white",
           "linecolor": "white",
           "ticks": "",
           "title": {
            "standoff": 15
           },
           "zerolinecolor": "white",
           "zerolinewidth": 2
          }
         }
        },
        "xaxis": {
         "anchor": "y",
         "domain": [
          0,
          1
         ],
         "gridwidth": 1,
         "showgrid": false,
         "showline": false,
         "zeroline": false
        },
        "yaxis": {
         "anchor": "x",
         "domain": [
          0,
          1
         ],
         "gridcolor": "#EEEEEE",
         "linecolor": "black",
         "showgrid": true,
         "showline": true,
         "title": {
          "text": "K"
         },
         "zeroline": false
        }
       }
      }
     },
     "metadata": {},
     "output_type": "display_data"
    }
   ],
   "source": [
    "from earthkit.plots.interactive import Chart\n",
    "\n",
    "chart = Chart()\n",
    "TIME_FREQUENCY = \"1h\"\n",
    "\n",
    "chart.line(ds)\n",
    "#chart.line(ds,aggregation='mean', line_color='grey', time_frequency=TIME_FREQUENCY)\n",
    "chart.show()  # Replace with chart.show() in an interactive session!\n"
   ]
  },
  {
   "cell_type": "markdown",
   "id": "6ecbe31d",
   "metadata": {},
   "source": [
    "We can also query the entire ensemble data for the same geo-location. \n",
    "\n",
    "For ICON-CH2-EPS"
   ]
  },
  {
   "cell_type": "code",
   "execution_count": null,
   "id": "251da6f4",
   "metadata": {},
   "outputs": [],
   "source": [
    "import xarray as xr\n",
    "ds_mems = []\n",
    "for num in range(1,21):\n",
    "    req = dc.replace(request, number=str(num), model=mars.Model.ICON_CH2_EPS, feature=mars.TimeseriesFeature(\n",
    "        points=[rotated_point],\n",
    "        range=mars.Range(start=0, end=120),\n",
    "        time_axis=\"step\",\n",
    "    ))\n",
    "    print(req.to_polytope())\n",
    "    ds_mems.append(ekd.from_source(\n",
    "      \"polytope\",\n",
    "      \"mchgj\",\n",
    "      req.to_polytope(),\n",
    "      stream=False\n",
    "    ).to_xarray())\n",
    "\n",
    "ds_ch2 = xr.concat(ds_mems, dim='number')\n",
    "\n",
    "    "
   ]
  },
  {
   "cell_type": "markdown",
   "id": "353d31af",
   "metadata": {},
   "source": [
    "For ICON-CH1-EPS"
   ]
  },
  {
   "cell_type": "code",
   "execution_count": null,
   "id": "57208fb7",
   "metadata": {},
   "outputs": [],
   "source": [
    "import xarray as xr\n",
    "ds_mems = []\n",
    "for num in range(1,11):\n",
    "    req = dc.replace(request, number=str(num), model=mars.Model.ICON_CH1_EPS, feature=mars.TimeseriesFeature(\n",
    "        points=[rotated_point],\n",
    "        range=mars.Range(start=0, end=33),\n",
    "        time_axis=\"step\",\n",
    "    ))\n",
    "    print(req.to_polytope())\n",
    "    ds_mems.append(ekd.from_source(\n",
    "      \"polytope\",\n",
    "      \"mchgj\",\n",
    "      req.to_polytope(),\n",
    "      stream=False\n",
    "    ).to_xarray())\n",
    "\n",
    "ds_ch1 = xr.concat(ds_mems, dim='number')"
   ]
  },
  {
   "cell_type": "markdown",
   "id": "1dc90019",
   "metadata": {},
   "source": [
    "We can also request the same data for IFS using the polytope of ecmwf"
   ]
  },
  {
   "cell_type": "code",
   "execution_count": 59,
   "id": "040a0ee3",
   "metadata": {},
   "outputs": [],
   "source": [
    "import os\n",
    "\n",
    "os.environ[\"POLYTOPE_USER_KEY\"] = \"xxxx\"\n",
    "os.environ[\"POLYTOPE_USER_EMAIL\"] = \"xxx.yyy@domain.ch\"\n",
    "os.environ[\"POLYTOPE_ADDRESS\"] = \"polytope.ecmwf.int\""
   ]
  },
  {
   "cell_type": "code",
   "execution_count": null,
   "id": "766b6958",
   "metadata": {},
   "outputs": [],
   "source": [
    "\n",
    "request = {\n",
    "    \"class\": \"od\",\n",
    "    \"stream\" : \"enfo\",\n",
    "    \"type\" : \"pf\",\n",
    "    \"date\" : -1,\n",
    "    \"time\" : \"0000\",\n",
    "    \"levtype\" : \"sfc\",\n",
    "    \"expver\" : \"0001\",\n",
    "    \"domain\" : \"g\",\n",
    "    \"param\" : \"167\",\n",
    "    \"number\" : \"1/to/50\",\n",
    "    \"step\": \"0/to/360\",\n",
    "    \"feature\" : {\n",
    "        \"type\" : \"timeseries\",\n",
    "        \"points\": [[float(round(geo_point.lon,2)),float(round(geo_point.lat))]],\n",
    "        \"axes\": \"step\",\n",
    "    },\n",
    "}\n",
    "\n",
    "ds_ifs = ekd.from_source(\n",
    "    \"polytope\",\n",
    "    \"ecmwf-mars\",\n",
    "    request,\n",
    "    stream=False,\n",
    "    address='polytope.ecmwf.int',\n",
    ")"
   ]
  },
  {
   "cell_type": "markdown",
   "id": "3d40e194",
   "metadata": {},
   "source": [
    "**Plotting ensemble members of timeseries**"
   ]
  },
  {
   "cell_type": "code",
   "execution_count": 54,
   "id": "49a62740",
   "metadata": {},
   "outputs": [
    {
     "data": {
      "application/vnd.plotly.v1+json": {
       "config": {
        "plotlyServerURL": "https://plot.ly"
       },
       "data": [
        {
         "fillcolor": "#B1B6FC",
         "hoverinfo": "skip",
         "line": {
          "color": "#ea5545"
         },
         "lowerfence": {
          "bdata": "AAAAgCiHcUAAAADgZodxQAAAAGBVhnFAAAAAgHeAcUAAAABAOXxxQAAAACBQfXFAAAAAgON5cUAAAADAxHpxQAAAAICRe3FAAAAAwCl8cUAAAADgDH5xQAAAAEASgnFAAAAAwKyGcUAAAACAcY1xQAAAAOBglnFAAAAAgMmfcUAAAADALblxQAAAAMA1x3FAAAAAQNHTcUAAAACAK+NxQAAAAOBm8nFAAAAAgIr1cUAAAAAAWetxQAAAAIAi5nFAAAAAgJ3acUAAAADAFtBxQAAAAAARxnFAAAAA4PG1cUAAAABgv6txQAAAAAArpHFAAAAAgAiicUAAAAAg5JpxQAAAAIDsmXFAAAAA4KqWcUA=",
          "dtype": "f8"
         },
         "median": {
          "bdata": "AAAAYA+OcUAAAAAAhY1xQAAAABD0i3FAAAAAoBuHcUAAAABwl4RxQAAAALDghHFAAAAAEEiEcUAAAADQs4VxQAAAAKA6hXFAAAAAcCGGcUAAAADApYZxQAAAAECUiHFAAAAAgIuQcUAAAABQN5ZxQAAAAECgnXFAAAAAIJu7cUAAAAAAfs1xQAAAACBX3XFAAAAAQFjwcUAAAACwjAVyQAAAAMDNCnJAAAAAMFUMckAAAADwcv5xQAAAAJDY9XFAAAAAsMjpcUAAAABAYdtxQAAAACAozXFAAAAAQDO+cUAAAAAQqrhxQAAAAEBFtHFAAAAAcKuwcUAAAACwYa9xQAAAAICarHFAAAAAoM6ncUA=",
          "dtype": "f8"
         },
         "q1": {
          "bdata": "MzMzk0+KcUAzMzPTr4hxQJqZmYkkiHFAzczMXGCDcUAAAAAQI4BxQGZmZiYhfnFAZmZm5j99cUAAAABgSX1xQM3MzDx9fXFAMzMzE0+AcUBmZmZG/YBxQAAAAJD7hHFAzczMnIyJcUDNzMxsJI9xQAAAAFALl3FAMzMzk8WmcUBmZmbmVr1xQAAAAMA3y3FAmpmZuRrbcUAAAADAUuVxQGZmZla/9XFAAAAA0Er3cUCamZmZvO5xQM3MzOyv7XFAZmZm1rrecUDNzMy8M9ZxQGZmZoYXxnFAAAAAMKC3cUAAAACQbK1xQGZmZibYq3FAMzMz09SncUCamZm5W6JxQDMzM5O/n3FAzczMzHGccUA=",
          "dtype": "f8"
         },
         "q3": {
          "bdata": "zczMDOWRcUAAAABAjY9xQDMzM2PijnFAAAAAcNGLcUAAAACAlohxQJqZmfnYiXFAAAAAoI6IcUBmZmaGlopxQDMzM+MJi3FAmpmZqbCMcUDNzMycsItxQAAAAPCkkHFAAAAA8MSYcUBmZmam7aNxQAAAAPBYs3FAzczM3KzIcUDNzMxsk+FxQJqZmdnd+HFAmpmZObz9cUBmZmZG5RNyQAAAAJDKFnJAZmZmRtAVckDNzMzsMQxyQDMzM6OWA3JAzczMDLXycUCamZm5p+FxQAAAABBl03FAmpmZCa3RcUAzMzNzq8lxQGZmZmYgy3FAMzMzAxfIcUBmZmYGs8VxQGZmZoYzw3FAzczMjHa4cUA=",
          "dtype": "f8"
         },
         "type": "box",
         "upperfence": {
          "bdata": "AAAAgAqUcUAAAABgG5NxQAAAAKC4knFAAAAAgGaMcUAAAABg54pxQAAAAIBLinFAAAAAII+JcUAAAAAAnotxQAAAACDIi3FAAAAAQO6NcUAAAAAg6IxxQAAAAMBOknFAAAAAQKSZcUAAAABgsKZxQAAAAKCFuHFAAAAAYIbTcUAAAABgf+VxQAAAAICg/nFAAAAA4P4HckAAAABgaxRyQAAAAMBlGHJAAAAAwEAackAAAAAgmA1yQAAAACBrCHJAAAAAIPP2cUAAAAAgA+NxQAAAAICT13FAAAAA4P7ScUAAAABA+8xxQAAAAMCNy3FAAAAAwPDJcUAAAABAQ8ZxQAAAAOBHxXFAAAAAQIW+cUA=",
          "dtype": "f8"
         },
         "width": 1080000,
         "x": [
          "2025-07-08T18:00:00",
          "2025-07-08T19:00:00",
          "2025-07-08T20:00:00",
          "2025-07-08T21:00:00",
          "2025-07-08T22:00:00",
          "2025-07-08T23:00:00",
          "2025-07-09T00:00:00",
          "2025-07-09T01:00:00",
          "2025-07-09T02:00:00",
          "2025-07-09T03:00:00",
          "2025-07-09T04:00:00",
          "2025-07-09T05:00:00",
          "2025-07-09T06:00:00",
          "2025-07-09T07:00:00",
          "2025-07-09T08:00:00",
          "2025-07-09T09:00:00",
          "2025-07-09T10:00:00",
          "2025-07-09T11:00:00",
          "2025-07-09T12:00:00",
          "2025-07-09T13:00:00",
          "2025-07-09T14:00:00",
          "2025-07-09T15:00:00",
          "2025-07-09T16:00:00",
          "2025-07-09T17:00:00",
          "2025-07-09T18:00:00",
          "2025-07-09T19:00:00",
          "2025-07-09T20:00:00",
          "2025-07-09T21:00:00",
          "2025-07-09T22:00:00",
          "2025-07-09T23:00:00",
          "2025-07-10T00:00:00",
          "2025-07-10T01:00:00",
          "2025-07-10T02:00:00",
          "2025-07-10T03:00:00"
         ],
         "xaxis": "x",
         "yaxis": "y"
        },
        {
         "fillcolor": "#B1B6FC",
         "hoverinfo": "skip",
         "line": {
          "color": "#ea5545"
         },
         "lowerfence": {
          "bdata": "AAAAgCiHcUAAAADgZodxQAAAAGBVhnFAAAAAgHeAcUAAAABAOXxxQAAAACBQfXFAAAAAgON5cUAAAADAxHpxQAAAAICRe3FAAAAAwCl8cUAAAADgDH5xQAAAAEASgnFAAAAAwKyGcUAAAACAcY1xQAAAAOBglnFAAAAAgMmfcUAAAADALblxQAAAAMA1x3FAAAAAQNHTcUAAAACAK+NxQAAAAOBm8nFAAAAAgIr1cUAAAAAAWetxQAAAAIAi5nFAAAAAgJ3acUAAAADAFtBxQAAAAAARxnFAAAAA4PG1cUAAAABgv6txQAAAAAArpHFAAAAAgAiicUAAAAAg5JpxQAAAAIDsmXFAAAAA4KqWcUA=",
          "dtype": "f8"
         },
         "median": {
          "bdata": "AAAAYA+OcUAAAAAAhY1xQAAAABD0i3FAAAAAoBuHcUAAAABwl4RxQAAAALDghHFAAAAAEEiEcUAAAADQs4VxQAAAAKA6hXFAAAAAcCGGcUAAAADApYZxQAAAAECUiHFAAAAAgIuQcUAAAABQN5ZxQAAAAECgnXFAAAAAIJu7cUAAAAAAfs1xQAAAACBX3XFAAAAAQFjwcUAAAACwjAVyQAAAAMDNCnJAAAAAMFUMckAAAADwcv5xQAAAAJDY9XFAAAAAsMjpcUAAAABAYdtxQAAAACAozXFAAAAAQDO+cUAAAAAQqrhxQAAAAEBFtHFAAAAAcKuwcUAAAACwYa9xQAAAAICarHFAAAAAoM6ncUA=",
          "dtype": "f8"
         },
         "q1": {
          "bdata": "AAAAcHSLcUAAAABYNYtxQAAAAOASiXFAAAAAmHeEcUAAAAAoe4FxQAAAAJivgXFAAAAA+OGBcUAAAABwUIBxQAAAALjJgHFAAAAAeDKCcUAAAADo4IJxQAAAAEDShXFAAAAAGMWNcUAAAABIjZJxQAAAALCInHFAAAAAgL6scUAAAAAQtL5xQAAAAOBk0XFAAAAAYJzfcUAAAACYH+xxQAAAAFBP+XFAAAAAuET+cUAAAAAo6flxQAAAAKCo8HFAAAAAMOjjcUAAAAAYw9hxQAAAAIAvyXFAAAAAKOW5cUAAAAAAaq9xQAAAANhwrnFAAAAAILapcUAAAADIhKhxQAAAAMhNqHFAAAAAiLqhcUA=",
          "dtype": "f8"
         },
         "q3": {
          "bdata": "AAAAWLmQcUAAAADwS45xQAAAADDljXFAAAAA4OiJcUAAAAD4rodxQAAAAOiDiHFAAAAAqMqHcUAAAABguYlxQAAAAOD9hnFAAAAA0KeKcUAAAAAgbYlxQAAAAJiIjXFAAAAAQGmUcUAAAAD4PJ9xQAAAAMgRr3FAAAAA4AXGcUAAAACwt9xxQAAAAKAT8nFAAAAAqIf7cUAAAAC4TwtyQAAAALjQEXJAAAAAyC0QckAAAACoBQhyQAAAAHDh/nFAAAAAKHHtcUAAAABY099xQAAAAOA40nFAAAAAEC/JcUAAAABYWMdxQAAAAJgVxXFAAAAA4MS/cUAAAACAcb5xQAAAABAiunFAAAAA+PW1cUA=",
          "dtype": "f8"
         },
         "showwhiskers": false,
         "type": "box",
         "upperfence": {
          "bdata": "AAAAgAqUcUAAAABgG5NxQAAAAKC4knFAAAAAgGaMcUAAAABg54pxQAAAAIBLinFAAAAAII+JcUAAAAAAnotxQAAAACDIi3FAAAAAQO6NcUAAAAAg6IxxQAAAAMBOknFAAAAAQKSZcUAAAABgsKZxQAAAAKCFuHFAAAAAYIbTcUAAAABgf+VxQAAAAICg/nFAAAAA4P4HckAAAABgaxRyQAAAAMBlGHJAAAAAwEAackAAAAAgmA1yQAAAACBrCHJAAAAAIPP2cUAAAAAgA+NxQAAAAICT13FAAAAA4P7ScUAAAABA+8xxQAAAAMCNy3FAAAAAwPDJcUAAAABAQ8ZxQAAAAOBHxXFAAAAAQIW+cUA=",
          "dtype": "f8"
         },
         "width": 2160000,
         "x": [
          "2025-07-08T18:00:00",
          "2025-07-08T19:00:00",
          "2025-07-08T20:00:00",
          "2025-07-08T21:00:00",
          "2025-07-08T22:00:00",
          "2025-07-08T23:00:00",
          "2025-07-09T00:00:00",
          "2025-07-09T01:00:00",
          "2025-07-09T02:00:00",
          "2025-07-09T03:00:00",
          "2025-07-09T04:00:00",
          "2025-07-09T05:00:00",
          "2025-07-09T06:00:00",
          "2025-07-09T07:00:00",
          "2025-07-09T08:00:00",
          "2025-07-09T09:00:00",
          "2025-07-09T10:00:00",
          "2025-07-09T11:00:00",
          "2025-07-09T12:00:00",
          "2025-07-09T13:00:00",
          "2025-07-09T14:00:00",
          "2025-07-09T15:00:00",
          "2025-07-09T16:00:00",
          "2025-07-09T17:00:00",
          "2025-07-09T18:00:00",
          "2025-07-09T19:00:00",
          "2025-07-09T20:00:00",
          "2025-07-09T21:00:00",
          "2025-07-09T22:00:00",
          "2025-07-09T23:00:00",
          "2025-07-10T00:00:00",
          "2025-07-10T01:00:00",
          "2025-07-10T02:00:00",
          "2025-07-10T03:00:00"
         ],
         "xaxis": "x",
         "yaxis": "y"
        },
        {
         "hovertemplate": "%{y:.2f}<extra>P<sub>0%</sub></extra>",
         "marker": {
          "color": "#ea5545",
          "size": 0.00001
         },
         "mode": "markers",
         "type": "scatter",
         "x": [
          "2025-07-08T18:00:00",
          "2025-07-08T19:00:00",
          "2025-07-08T20:00:00",
          "2025-07-08T21:00:00",
          "2025-07-08T22:00:00",
          "2025-07-08T23:00:00",
          "2025-07-09T00:00:00",
          "2025-07-09T01:00:00",
          "2025-07-09T02:00:00",
          "2025-07-09T03:00:00",
          "2025-07-09T04:00:00",
          "2025-07-09T05:00:00",
          "2025-07-09T06:00:00",
          "2025-07-09T07:00:00",
          "2025-07-09T08:00:00",
          "2025-07-09T09:00:00",
          "2025-07-09T10:00:00",
          "2025-07-09T11:00:00",
          "2025-07-09T12:00:00",
          "2025-07-09T13:00:00",
          "2025-07-09T14:00:00",
          "2025-07-09T15:00:00",
          "2025-07-09T16:00:00",
          "2025-07-09T17:00:00",
          "2025-07-09T18:00:00",
          "2025-07-09T19:00:00",
          "2025-07-09T20:00:00",
          "2025-07-09T21:00:00",
          "2025-07-09T22:00:00",
          "2025-07-09T23:00:00",
          "2025-07-10T00:00:00",
          "2025-07-10T01:00:00",
          "2025-07-10T02:00:00",
          "2025-07-10T03:00:00"
         ],
         "xaxis": "x",
         "y": {
          "bdata": "AAAAgCiHcUAAAADgZodxQAAAAGBVhnFAAAAAgHeAcUAAAABAOXxxQAAAACBQfXFAAAAAgON5cUAAAADAxHpxQAAAAICRe3FAAAAAwCl8cUAAAADgDH5xQAAAAEASgnFAAAAAwKyGcUAAAACAcY1xQAAAAOBglnFAAAAAgMmfcUAAAADALblxQAAAAMA1x3FAAAAAQNHTcUAAAACAK+NxQAAAAOBm8nFAAAAAgIr1cUAAAAAAWetxQAAAAIAi5nFAAAAAgJ3acUAAAADAFtBxQAAAAAARxnFAAAAA4PG1cUAAAABgv6txQAAAAAArpHFAAAAAgAiicUAAAAAg5JpxQAAAAIDsmXFAAAAA4KqWcUA=",
          "dtype": "f8"
         },
         "yaxis": "y"
        },
        {
         "hovertemplate": "%{y:.2f}<extra>P<sub>10%</sub></extra>",
         "marker": {
          "color": "#ea5545",
          "size": 0.00001
         },
         "mode": "markers",
         "type": "scatter",
         "x": [
          "2025-07-08T18:00:00",
          "2025-07-08T19:00:00",
          "2025-07-08T20:00:00",
          "2025-07-08T21:00:00",
          "2025-07-08T22:00:00",
          "2025-07-08T23:00:00",
          "2025-07-09T00:00:00",
          "2025-07-09T01:00:00",
          "2025-07-09T02:00:00",
          "2025-07-09T03:00:00",
          "2025-07-09T04:00:00",
          "2025-07-09T05:00:00",
          "2025-07-09T06:00:00",
          "2025-07-09T07:00:00",
          "2025-07-09T08:00:00",
          "2025-07-09T09:00:00",
          "2025-07-09T10:00:00",
          "2025-07-09T11:00:00",
          "2025-07-09T12:00:00",
          "2025-07-09T13:00:00",
          "2025-07-09T14:00:00",
          "2025-07-09T15:00:00",
          "2025-07-09T16:00:00",
          "2025-07-09T17:00:00",
          "2025-07-09T18:00:00",
          "2025-07-09T19:00:00",
          "2025-07-09T20:00:00",
          "2025-07-09T21:00:00",
          "2025-07-09T22:00:00",
          "2025-07-09T23:00:00",
          "2025-07-10T00:00:00",
          "2025-07-10T01:00:00",
          "2025-07-10T02:00:00",
          "2025-07-10T03:00:00"
         ],
         "xaxis": "x",
         "y": {
          "bdata": "MzMzk0+KcUAzMzPTr4hxQJqZmYkkiHFAzczMXGCDcUAAAAAQI4BxQGZmZiYhfnFAZmZm5j99cUAAAABgSX1xQM3MzDx9fXFAMzMzE0+AcUBmZmZG/YBxQAAAAJD7hHFAzczMnIyJcUDNzMxsJI9xQAAAAFALl3FAMzMzk8WmcUBmZmbmVr1xQAAAAMA3y3FAmpmZuRrbcUAAAADAUuVxQGZmZla/9XFAAAAA0Er3cUCamZmZvO5xQM3MzOyv7XFAZmZm1rrecUDNzMy8M9ZxQGZmZoYXxnFAAAAAMKC3cUAAAACQbK1xQGZmZibYq3FAMzMz09SncUCamZm5W6JxQDMzM5O/n3FAzczMzHGccUA=",
          "dtype": "f8"
         },
         "yaxis": "y"
        },
        {
         "hovertemplate": "%{y:.2f}<extra>P<sub>25%</sub></extra>",
         "marker": {
          "color": "#ea5545",
          "size": 0.00001
         },
         "mode": "markers",
         "type": "scatter",
         "x": [
          "2025-07-08T18:00:00",
          "2025-07-08T19:00:00",
          "2025-07-08T20:00:00",
          "2025-07-08T21:00:00",
          "2025-07-08T22:00:00",
          "2025-07-08T23:00:00",
          "2025-07-09T00:00:00",
          "2025-07-09T01:00:00",
          "2025-07-09T02:00:00",
          "2025-07-09T03:00:00",
          "2025-07-09T04:00:00",
          "2025-07-09T05:00:00",
          "2025-07-09T06:00:00",
          "2025-07-09T07:00:00",
          "2025-07-09T08:00:00",
          "2025-07-09T09:00:00",
          "2025-07-09T10:00:00",
          "2025-07-09T11:00:00",
          "2025-07-09T12:00:00",
          "2025-07-09T13:00:00",
          "2025-07-09T14:00:00",
          "2025-07-09T15:00:00",
          "2025-07-09T16:00:00",
          "2025-07-09T17:00:00",
          "2025-07-09T18:00:00",
          "2025-07-09T19:00:00",
          "2025-07-09T20:00:00",
          "2025-07-09T21:00:00",
          "2025-07-09T22:00:00",
          "2025-07-09T23:00:00",
          "2025-07-10T00:00:00",
          "2025-07-10T01:00:00",
          "2025-07-10T02:00:00",
          "2025-07-10T03:00:00"
         ],
         "xaxis": "x",
         "y": {
          "bdata": "AAAAcHSLcUAAAABYNYtxQAAAAOASiXFAAAAAmHeEcUAAAAAoe4FxQAAAAJivgXFAAAAA+OGBcUAAAABwUIBxQAAAALjJgHFAAAAAeDKCcUAAAADo4IJxQAAAAEDShXFAAAAAGMWNcUAAAABIjZJxQAAAALCInHFAAAAAgL6scUAAAAAQtL5xQAAAAOBk0XFAAAAAYJzfcUAAAACYH+xxQAAAAFBP+XFAAAAAuET+cUAAAAAo6flxQAAAAKCo8HFAAAAAMOjjcUAAAAAYw9hxQAAAAIAvyXFAAAAAKOW5cUAAAAAAaq9xQAAAANhwrnFAAAAAILapcUAAAADIhKhxQAAAAMhNqHFAAAAAiLqhcUA=",
          "dtype": "f8"
         },
         "yaxis": "y"
        },
        {
         "hovertemplate": "%{y:.2f}<extra>P<sub>50%</sub></extra>",
         "marker": {
          "color": "#ea5545",
          "size": 0.00001
         },
         "mode": "markers",
         "type": "scatter",
         "x": [
          "2025-07-08T18:00:00",
          "2025-07-08T19:00:00",
          "2025-07-08T20:00:00",
          "2025-07-08T21:00:00",
          "2025-07-08T22:00:00",
          "2025-07-08T23:00:00",
          "2025-07-09T00:00:00",
          "2025-07-09T01:00:00",
          "2025-07-09T02:00:00",
          "2025-07-09T03:00:00",
          "2025-07-09T04:00:00",
          "2025-07-09T05:00:00",
          "2025-07-09T06:00:00",
          "2025-07-09T07:00:00",
          "2025-07-09T08:00:00",
          "2025-07-09T09:00:00",
          "2025-07-09T10:00:00",
          "2025-07-09T11:00:00",
          "2025-07-09T12:00:00",
          "2025-07-09T13:00:00",
          "2025-07-09T14:00:00",
          "2025-07-09T15:00:00",
          "2025-07-09T16:00:00",
          "2025-07-09T17:00:00",
          "2025-07-09T18:00:00",
          "2025-07-09T19:00:00",
          "2025-07-09T20:00:00",
          "2025-07-09T21:00:00",
          "2025-07-09T22:00:00",
          "2025-07-09T23:00:00",
          "2025-07-10T00:00:00",
          "2025-07-10T01:00:00",
          "2025-07-10T02:00:00",
          "2025-07-10T03:00:00"
         ],
         "xaxis": "x",
         "y": {
          "bdata": "AAAAYA+OcUAAAAAAhY1xQAAAABD0i3FAAAAAoBuHcUAAAABwl4RxQAAAALDghHFAAAAAEEiEcUAAAADQs4VxQAAAAKA6hXFAAAAAcCGGcUAAAADApYZxQAAAAECUiHFAAAAAgIuQcUAAAABQN5ZxQAAAAECgnXFAAAAAIJu7cUAAAAAAfs1xQAAAACBX3XFAAAAAQFjwcUAAAACwjAVyQAAAAMDNCnJAAAAAMFUMckAAAADwcv5xQAAAAJDY9XFAAAAAsMjpcUAAAABAYdtxQAAAACAozXFAAAAAQDO+cUAAAAAQqrhxQAAAAEBFtHFAAAAAcKuwcUAAAACwYa9xQAAAAICarHFAAAAAoM6ncUA=",
          "dtype": "f8"
         },
         "yaxis": "y"
        },
        {
         "hovertemplate": "%{y:.2f}<extra>P<sub>75%</sub></extra>",
         "marker": {
          "color": "#ea5545",
          "size": 0.00001
         },
         "mode": "markers",
         "type": "scatter",
         "x": [
          "2025-07-08T18:00:00",
          "2025-07-08T19:00:00",
          "2025-07-08T20:00:00",
          "2025-07-08T21:00:00",
          "2025-07-08T22:00:00",
          "2025-07-08T23:00:00",
          "2025-07-09T00:00:00",
          "2025-07-09T01:00:00",
          "2025-07-09T02:00:00",
          "2025-07-09T03:00:00",
          "2025-07-09T04:00:00",
          "2025-07-09T05:00:00",
          "2025-07-09T06:00:00",
          "2025-07-09T07:00:00",
          "2025-07-09T08:00:00",
          "2025-07-09T09:00:00",
          "2025-07-09T10:00:00",
          "2025-07-09T11:00:00",
          "2025-07-09T12:00:00",
          "2025-07-09T13:00:00",
          "2025-07-09T14:00:00",
          "2025-07-09T15:00:00",
          "2025-07-09T16:00:00",
          "2025-07-09T17:00:00",
          "2025-07-09T18:00:00",
          "2025-07-09T19:00:00",
          "2025-07-09T20:00:00",
          "2025-07-09T21:00:00",
          "2025-07-09T22:00:00",
          "2025-07-09T23:00:00",
          "2025-07-10T00:00:00",
          "2025-07-10T01:00:00",
          "2025-07-10T02:00:00",
          "2025-07-10T03:00:00"
         ],
         "xaxis": "x",
         "y": {
          "bdata": "AAAAWLmQcUAAAADwS45xQAAAADDljXFAAAAA4OiJcUAAAAD4rodxQAAAAOiDiHFAAAAAqMqHcUAAAABguYlxQAAAAOD9hnFAAAAA0KeKcUAAAAAgbYlxQAAAAJiIjXFAAAAAQGmUcUAAAAD4PJ9xQAAAAMgRr3FAAAAA4AXGcUAAAACwt9xxQAAAAKAT8nFAAAAAqIf7cUAAAAC4TwtyQAAAALjQEXJAAAAAyC0QckAAAACoBQhyQAAAAHDh/nFAAAAAKHHtcUAAAABY099xQAAAAOA40nFAAAAAEC/JcUAAAABYWMdxQAAAAJgVxXFAAAAA4MS/cUAAAACAcb5xQAAAABAiunFAAAAA+PW1cUA=",
          "dtype": "f8"
         },
         "yaxis": "y"
        },
        {
         "hovertemplate": "%{y:.2f}<extra>P<sub>90%</sub></extra>",
         "marker": {
          "color": "#ea5545",
          "size": 0.00001
         },
         "mode": "markers",
         "type": "scatter",
         "x": [
          "2025-07-08T18:00:00",
          "2025-07-08T19:00:00",
          "2025-07-08T20:00:00",
          "2025-07-08T21:00:00",
          "2025-07-08T22:00:00",
          "2025-07-08T23:00:00",
          "2025-07-09T00:00:00",
          "2025-07-09T01:00:00",
          "2025-07-09T02:00:00",
          "2025-07-09T03:00:00",
          "2025-07-09T04:00:00",
          "2025-07-09T05:00:00",
          "2025-07-09T06:00:00",
          "2025-07-09T07:00:00",
          "2025-07-09T08:00:00",
          "2025-07-09T09:00:00",
          "2025-07-09T10:00:00",
          "2025-07-09T11:00:00",
          "2025-07-09T12:00:00",
          "2025-07-09T13:00:00",
          "2025-07-09T14:00:00",
          "2025-07-09T15:00:00",
          "2025-07-09T16:00:00",
          "2025-07-09T17:00:00",
          "2025-07-09T18:00:00",
          "2025-07-09T19:00:00",
          "2025-07-09T20:00:00",
          "2025-07-09T21:00:00",
          "2025-07-09T22:00:00",
          "2025-07-09T23:00:00",
          "2025-07-10T00:00:00",
          "2025-07-10T01:00:00",
          "2025-07-10T02:00:00",
          "2025-07-10T03:00:00"
         ],
         "xaxis": "x",
         "y": {
          "bdata": "zczMDOWRcUAAAABAjY9xQDMzM2PijnFAAAAAcNGLcUAAAACAlohxQJqZmfnYiXFAAAAAoI6IcUBmZmaGlopxQDMzM+MJi3FAmpmZqbCMcUDNzMycsItxQAAAAPCkkHFAAAAA8MSYcUBmZmam7aNxQAAAAPBYs3FAzczM3KzIcUDNzMxsk+FxQJqZmdnd+HFAmpmZObz9cUBmZmZG5RNyQAAAAJDKFnJAZmZmRtAVckDNzMzsMQxyQDMzM6OWA3JAzczMDLXycUCamZm5p+FxQAAAABBl03FAmpmZCa3RcUAzMzNzq8lxQGZmZmYgy3FAMzMzAxfIcUBmZmYGs8VxQGZmZoYzw3FAzczMjHa4cUA=",
          "dtype": "f8"
         },
         "yaxis": "y"
        },
        {
         "hovertemplate": "%{y:.2f}<extra>P<sub>100%</sub></extra>",
         "marker": {
          "color": "#ea5545",
          "size": 0.00001
         },
         "mode": "markers",
         "type": "scatter",
         "x": [
          "2025-07-08T18:00:00",
          "2025-07-08T19:00:00",
          "2025-07-08T20:00:00",
          "2025-07-08T21:00:00",
          "2025-07-08T22:00:00",
          "2025-07-08T23:00:00",
          "2025-07-09T00:00:00",
          "2025-07-09T01:00:00",
          "2025-07-09T02:00:00",
          "2025-07-09T03:00:00",
          "2025-07-09T04:00:00",
          "2025-07-09T05:00:00",
          "2025-07-09T06:00:00",
          "2025-07-09T07:00:00",
          "2025-07-09T08:00:00",
          "2025-07-09T09:00:00",
          "2025-07-09T10:00:00",
          "2025-07-09T11:00:00",
          "2025-07-09T12:00:00",
          "2025-07-09T13:00:00",
          "2025-07-09T14:00:00",
          "2025-07-09T15:00:00",
          "2025-07-09T16:00:00",
          "2025-07-09T17:00:00",
          "2025-07-09T18:00:00",
          "2025-07-09T19:00:00",
          "2025-07-09T20:00:00",
          "2025-07-09T21:00:00",
          "2025-07-09T22:00:00",
          "2025-07-09T23:00:00",
          "2025-07-10T00:00:00",
          "2025-07-10T01:00:00",
          "2025-07-10T02:00:00",
          "2025-07-10T03:00:00"
         ],
         "xaxis": "x",
         "y": {
          "bdata": "AAAAgAqUcUAAAABgG5NxQAAAAKC4knFAAAAAgGaMcUAAAABg54pxQAAAAIBLinFAAAAAII+JcUAAAAAAnotxQAAAACDIi3FAAAAAQO6NcUAAAAAg6IxxQAAAAMBOknFAAAAAQKSZcUAAAABgsKZxQAAAAKCFuHFAAAAAYIbTcUAAAABgf+VxQAAAAICg/nFAAAAA4P4HckAAAABgaxRyQAAAAMBlGHJAAAAAwEAackAAAAAgmA1yQAAAACBrCHJAAAAAIPP2cUAAAAAgA+NxQAAAAICT13FAAAAA4P7ScUAAAABA+8xxQAAAAMCNy3FAAAAAwPDJcUAAAABAQ8ZxQAAAAOBHxXFAAAAAQIW+cUA=",
          "dtype": "f8"
         },
         "yaxis": "y"
        },
        {
         "line": {
          "color": "grey"
         },
         "name": "mean",
         "type": "scatter",
         "x": [
          "2025-07-08T18:00:00",
          "2025-07-08T19:00:00",
          "2025-07-08T20:00:00",
          "2025-07-08T21:00:00",
          "2025-07-08T22:00:00",
          "2025-07-08T23:00:00",
          "2025-07-09T00:00:00",
          "2025-07-09T01:00:00",
          "2025-07-09T02:00:00",
          "2025-07-09T03:00:00",
          "2025-07-09T04:00:00",
          "2025-07-09T05:00:00",
          "2025-07-09T06:00:00",
          "2025-07-09T07:00:00",
          "2025-07-09T08:00:00",
          "2025-07-09T09:00:00",
          "2025-07-09T10:00:00",
          "2025-07-09T11:00:00",
          "2025-07-09T12:00:00",
          "2025-07-09T13:00:00",
          "2025-07-09T14:00:00",
          "2025-07-09T15:00:00",
          "2025-07-09T16:00:00",
          "2025-07-09T17:00:00",
          "2025-07-09T18:00:00",
          "2025-07-09T19:00:00",
          "2025-07-09T20:00:00",
          "2025-07-09T21:00:00",
          "2025-07-09T22:00:00",
          "2025-07-09T23:00:00",
          "2025-07-10T00:00:00",
          "2025-07-10T01:00:00",
          "2025-07-10T02:00:00",
          "2025-07-10T03:00:00"
         ],
         "y": {
          "bdata": "zczM/PSNcUAzMzPD3oxxQDMzM2PVi3FAZmZm9iyHcUBmZmaGgoRxQAAAABCXhHFAzczMvLGDcUAAAABQuIRxQDMzMwNThHFAZmZmFjCGcUAAAABgJ4ZxQGZmZvauiXFAzczMvL+QcUAAAAAQTJhxQGZmZnbto3FAmpmZSYG5cUAzMzMzK85xQGZmZoZi4HFAZmZm1jvucUDNzMy8af5xQJqZmckWB3JAMzMzEzgIckCamZkJtf5xQJqZmTkZ93FAMzMzgwrpcUAAAACwdNtxQAAAAJCGzXFAZmZmdtHBcUCamZkJHrtxQM3MzMyvuHFAZmZmZlC0cUAAAABAnrFxQM3MzFyir3FAAAAA4H2qcUA=",
          "dtype": "f8"
         }
        },
        {
         "fillcolor": "#B1B6FC",
         "hoverinfo": "skip",
         "line": {
          "color": "#ef9b20"
         },
         "lowerfence": {
          "bdata": "AAAAwFhhcUAAAADg8mdxQAAAACBvXXFAAAAAYDJacUAAAADgillxQAAAAECRVnFAAAAAoMNXcUAAAAAgOVlxQAAAAKDRW3FAAAAAoExecUAAAAAgzV5xQAAAAIA/YnFAAAAAQIdkcUAAAACAfmpxQAAAAGBOcnFAAAAAIAeUcUAAAACA96NxQAAAACC4tXFAAAAA4E7BcUAAAADgb8ZxQAAAAKCMx3FAAAAA4NXPcUAAAACg1dBxQAAAACBaxHFAAAAAgHi2cUAAAABAuqhxQAAAAAA9mnFAAAAAQHKNcUAAAACgSIZxQAAAAGDuhXFAAAAAQMuAcUAAAADALHxxQAAAAGASe3FAAAAA4Hh4cUAAAAAgmXdxQAAAAABZhHFAAAAAwM6bcUAAAAAA1LJxQAAAAMDCyHFAAAAAwBLZcUAAAADAdOdxQAAAACBN83FAAAAAIK/7cUAAAAAgfwFyQAAAAOC9+HFAAAAA4Hj9cUAAAACgl/ZxQAAAAEAj7XFAAAAA4M7fcUAAAABgP81xQAAAAGA0tXFAAAAAYCKucUAAAAAgv6txQAAAAKC+onFAAAAAAH2ecUAAAAAAU5xxQAAAAOALnXFAAAAAADybcUAAAAAA2ZdxQAAAAKCLpHFAAAAAACu3cUAAAACAtMVxQAAAAEDF1nFAAAAAILrfcUAAAACgy9xxQAAAAGCF13FAAAAAIPrucUAAAABgRPlxQAAAAGBIAXJAAAAAgPf4cUAAAACAmvlxQAAAAECN6XFAAAAA4ILccUAAAADgA8xxQAAAAEACuHFAAAAAIJ2zcUAAAACAk6xxQAAAAOCkpnFAAAAAgEqgcUAAAACg2ZpxQAAAAMD8lnFAAAAAoOOTcUAAAABAMJFxQAAAACCwonFAAAAAQB63cUAAAADg4s1xQAAAAMBy6nFAAAAA4LABckAAAAAAQwtyQAAAACDDDnJAAAAAgNsJckAAAAAg7fZxQAAAAGBn93FAAAAAwMr3cUAAAADgmfpxQAAAAACR/XFAAAAAoGDycUAAAADAlOFxQAAAAOD81XFAAAAAgDXNcUAAAACA28ZxQAAAAMCcv3FAAAAAgB+8cUAAAACAzLlxQAAAAIC0uHFAAAAAQNi2cUAAAAAgaLlxQAAAAGBdxnFAAAAAgP7gcUAAAAAA5PJxQAAAAIBtCXJAAAAAoJwbckAAAAAAyCFyQAAAAKBkMHJAAAAAwOssckAAAACgwBByQAAAAEA/JXJAAAAAwBsQckAAAADgvi5yQAAAAIB8JHJAAAAAQIUTckA=",
          "dtype": "f8"
         },
         "median": {
          "bdata": "AAAAkBBmcUAAAAAg3mxxQAAAAEBRY3FAAAAAwJVhcUAAAAAg9V9xQAAAAJAUX3FAAAAAUHxgcUAAAADgpWRxQAAAANBOZXFAAAAAAMNqcUAAAABgxWpxQAAAAFASa3FAAAAAIDtwcUAAAABwi3lxQAAAAKC0inFAAAAAIEmicUAAAADgkbRxQAAAAKDtw3FAAAAAQA/NcUAAAAAgsdRxQAAAADBX23FAAAAA0FTbcUAAAAAQu9dxQAAAADDjzHFAAAAAkGHAcUAAAADgkq5xQAAAANBBpXFAAAAAYJSacUAAAACQcJBxQAAAAGBniXFAAAAAwK6GcUAAAACQnoRxQAAAAOA4gnFAAAAAkAKAcUAAAADAknxxQAAAACBvjHFAAAAAcImicUAAAAAQULhxQAAAAGBo0HFAAAAAILDjcUAAAABgnvNxQAAAANAJAXJAAAAAEMQLckAAAABg6RByQAAAALDhD3JAAAAAsHsLckAAAAAgAAZyQAAAAMB5+3FAAAAAkJ7scUAAAADwd9hxQAAAAIBTzXFAAAAAsNTCcUAAAACQJbdxQAAAAJDQsHFAAAAAcC2rcUAAAACwyqlxQAAAAJB4pnFAAAAAwDmjcUAAAABQvaFxQAAAAKBPr3FAAAAAkHTBcUAAAACAKNZxQAAAAPD47XFAAAAAIJAAckAAAADQ6w1yQAAAAJCUF3JAAAAAEJ8dckAAAADwGiNyQAAAAOCQIHJAAAAAkCEeckAAAABw/BdyQAAAADBeDHJAAAAAUFb6cUAAAABAQeVxQAAAAMCA0XFAAAAAUMXHcUAAAABA2cZxQAAAAEARv3FAAAAAoDK5cUAAAABgybVxQAAAACBXsXFAAAAAAGGucUAAAABgPq1xQAAAACBiu3FAAAAAoNLQcUAAAACQMOZxQAAAAMAX/nFAAAAAgNIRckAAAACAOCNyQAAAAGAsLnJAAAAAMDQ2ckAAAAAQEThyQAAAABCPOHJAAAAAkOwyckAAAACgxClyQAAAAKBLIXJAAAAA4K8TckAAAAAQ+f1xQAAAAJBg4nFAAAAAsGjccUAAAADghtZxQAAAANAI03FAAAAAIMfOcUAAAADgHsxxQAAAAODFxnFAAAAAsPjEcUAAAADwn8RxQAAAAIAn1HFAAAAAUEfucUAAAACA5AdyQAAAAFDfHHJAAAAAsL0tckAAAADApT1yQAAAAICvSXJAAAAAoL9TckAAAACAu1lyQAAAACD9U3JAAAAAQO5JckAAAABAKUZyQAAAAKD6PHJAAAAAEOsrckA=",
          "dtype": "f8"
         },
         "q1": {
          "bdata": "MzMzsw9icUDNzMyM/mlxQGZmZibMXnFAAAAAULtdcUCamZkZdFxxQGZmZkYUWnFAzczM3DJbcUAAAADgD19xQJqZmVm8XXFAMzMzM6ZgcUBmZmaGmWFxQM3MzIzRZHFAAAAAAFRocUBmZma2GXFxQGZmZpa0fnFAZmZmVpuacUBmZmbm9K5xQM3MzLwruXFAzczMvLrEcUBmZmZGa8txQDMzM8PL0XFAMzMzkxXYcUDNzMxsmdNxQAAAAKAmyXFAzczMrOm7cUDNzMxcpKpxQM3MzFznm3FAZmZmJvSQcUAAAABQQo1xQGZmZgaXh3FAzczMPBKDcUAAAADwEYBxQM3MzPw3fXFAAAAAsPx5cUAAAABwU3hxQGZmZhZyiXFAAAAAAOmdcUDNzMxMQ7RxQDMzM3NGzXFAzczMPBLfcUAAAABQ/O5xQAAAAACf+3FAMzMz8/sCckAzMzPT3wVyQJqZmQlzBXJAzczMbAoGckAzMzOTUQFyQM3MzKyZ9nFAMzMzY6XncUAzMzPTudJxQAAAAPC5w3FAZmZmtmi3cUAzMzMjEa1xQJqZmal8p3FAMzMzc5qlcUDNzMwcOqNxQDMzMwM/oHFAmpmZ2f6dcUCamZm5WZtxQGZmZoYQqnFAmpmZuWi+cUAzMzMTN9FxQM3MzCxR6XFAzczMzK33cUAAAAAQqf9xQDMzM0PWAXJAAAAAQAYHckCamZkJaAtyQDMzM7M+E3JAZmZmdokHckBmZmaGqghyQAAAAPCW+XFAAAAAsKLscUCamZm5aNtxQM3MzDwexnFAmpmZic+7cUBmZmbWArpxQJqZmelEs3FAAAAAMCeucUAzMzMjXqtxQGZmZsbhpnFAAAAAUIakcUAAAACwB6NxQGZmZmY9r3FAMzMz01vHcUAzMzNDedtxQJqZmXlJ83FAAAAA4GMHckDNzMx8zhVyQDMzM5NOInJAZmZmZuYrckBmZmZWHx9yQM3MzAxRGXJAMzMzk4YRckCamZnZWA1yQM3MzLzHBXJAZmZmlhz7cUAAAADwFu5xQDMzMxOL2nFAMzMzE5fScUCamZlJes5xQM3MzLzwx3FAZmZmxpHFcUAAAABArsNxQM3MzNzBwHFAMzMz8+e+cUAAAAAgxLtxQM3MzCzSy3FAAAAAMKHmcUBmZmaW8vpxQGZmZjb0FHJAmpmZ2fklckAAAAAQPzJyQDMzM2M8O3JAzczM3Hw0ckAzMzMzJCNyQGZmZkbGPnJAZmZm9qkxckCamZlZnzNyQGZmZpbDJnJAZmZmtvcWckA=",
          "dtype": "f8"
         },
         "q3": {
          "bdata": "zczMbBNrcUDNzMzcgXBxQDMzMzPkZnFAZmZmZk9mcUBmZma272RxQM3MzAzTYnFAAAAA0NRmcUDNzMwsLGtxQDMzM7MKbHFAmpmZeettcUDNzMwMBHFxQAAAAHBcc3FAmpmZyV93cUDNzMxsjn1xQAAAABBBkXFAmpmZOV2lcUAAAACAD7lxQAAAAIBsx3FAMzMzQ3XScUCamZnJgtxxQGZmZlY13nFAzczM3A7fcUCamZnZqttxQDMzM4Ns0HFAZmZmhkfDcUAzMzNjfrJxQJqZmZl7qnFAmpmZ+eOkcUAAAABgcJxxQDMzMwMsl3FAzczMHDuQcUBmZmamRo1xQDMzMzPcinFAzczMPIiIcUCamZlJ3IVxQGZmZpbmkHFAmpmZeWGkcUCamZmZsrpxQGZmZsb70nFAzczMDDHncUAAAACgIfdxQM3MzByoBnJAMzMzA5gQckDNzMwsLBZyQGZmZsbhF3JAzczMzFEUckAzMzOT+QtyQDMzM6MaAXJAMzMz0/DxcUCamZkZ9dxxQDMzM8M30XFAMzMz07TFcUCamZl5c71xQJqZmen5tnFAAAAAEKexcUAAAAAwe69xQGZmZsZ6qnFAzczM/OGocUAAAADwo6VxQAAAAFA2tXFAMzMzA4fHcUCamZkpw9pxQM3MzMwp8nFAmpmZWdEGckAAAAAAWRZyQGZmZmaII3JAMzMzk+YqckAzMzODVy9yQGZmZsb2LXJAMzMz06YockBmZma2jR9yQM3MzJyTFHJAMzMzc+cBckBmZmYGe+xxQM3MzCyu3HFAZmZmFn/XcUAAAACQx81xQDMzM9N9yHFAmpmZWX3IcUDNzMzcusNxQM3MzKzVvnFAmpmZ+Yi6cUDNzMy8frhxQJqZmbnQxHFAzczM7JbacUAzMzNTKO5xQJqZmUl2CXJAzczMbFUdckAAAADAXi5yQGZmZlZSOnJAAAAA0O9EckBmZma230hyQDMzMyNISXJAZmZmVvFFckCamZlp2TxyQGZmZpbGL3JAmpmZeQcgckBmZmZWAwtyQDMzM3PE8HFAAAAAoI3qcUAAAAAgceNxQGZmZqYZ4HFAmpmZyVfYcUCamZlJFddxQM3MzAzW03FAAAAAIEbUcUAzMzMTe9JxQAAAAHBC33FAMzMzo/H6cUAzMzNzDhRyQGZmZha9KXJAMzMzA7Y+ckBmZma28E5yQGZmZsZXXHJAMzMzs0xmckAAAABAh2pyQDMzM1NuaHJAZmZm1ihhckBmZmZGllRyQAAAAACbTHJAMzMzg2k9ckA=",
          "dtype": "f8"
         },
         "type": "box",
         "upperfence": {
          "bdata": "AAAAgCBscUAAAABgEndxQAAAAODTb3FAAAAAAJxpcUAAAABgRmxxQAAAAIBwZnFAAAAAQE1tcUAAAACgXG5xQAAAAIDhbnFAAAAAIDdycUAAAADgbnRxQAAAAIB/d3FAAAAAgN94cUAAAAAgSoBxQAAAAKC8kXFAAAAAAJaqcUAAAAAAGLpxQAAAAGDxyXFAAAAAAITTcUAAAACgtNxxQAAAAMBr5HFAAAAA4KzkcUAAAAAgfd1xQAAAAACx0XFAAAAAIIbEcUAAAAAg+rdxQAAAAOAsrHFAAAAA4I2lcUAAAAAAc55xQAAAAOByl3FAAAAAQPKVcUAAAADg5ZFxQAAAAIBdkHFAAAAAgMmPcUAAAACgFIxxQAAAAIA2lHFAAAAAIBGocUAAAACA37txQAAAAACE03FAAAAAgNHqcUAAAAAgtP1xQAAAAIDdC3JAAAAAALMVckAAAACAiBtyQAAAACDCG3JAAAAAgHEYckAAAACgYhFyQAAAAACZBXJAAAAAgGn1cUAAAAAA9d9xQAAAAEB303FAAAAAAFHHcUAAAABA7r5xQAAAAOBRuHFAAAAAgIKzcUAAAABgOLBxQAAAAECArXFAAAAAACypcUAAAABATKhxQAAAAAC6tXFAAAAAoNnHcUAAAACgI9xxQAAAAGDo9XFAAAAAILILckAAAAAAPB5yQAAAAEBdK3JAAAAAQJ4zckAAAADAlDdyQAAAAIBqNnJAAAAAwLovckAAAABANSZyQAAAAEAVG3JAAAAAAIQLckAAAADg1vNxQAAAAMBR33FAAAAAYHzacUAAAACA09hxQAAAACBL0nFAAAAAAMXLcUAAAACgactxQAAAAEAvwHFAAAAAYIbBcUAAAADA7sBxQAAAAKCdzHFAAAAAgFzdcUAAAAAA8PRxQAAAAOCBD3JAAAAAQNUlckAAAACgUzZyQAAAAOAUQHJAAAAAoDFIckAAAADgXEtyQAAAAKAQTXJAAAAAIIxJckAAAACA6T9yQAAAAECZNHJAAAAAwCcjckAAAACADg5yQAAAAGBu+XFAAAAA4JLxcUAAAABA2+1xQAAAAGA36HFAAAAAIMfmcUAAAACgDeFxQAAAAECX5HFAAAAAoGXjcUAAAAAAj9xxQAAAAGAY6HFAAAAA4M8CckAAAABARR9yQAAAAMCwMnJAAAAAoFBDckAAAACg7FRyQAAAAABRZHJAAAAAACxuckAAAADAUXNyQAAAAABndHJAAAAAAAZzckAAAACgCWxyQAAAAGC2X3JAAAAA4NdHckA=",
          "dtype": "f8"
         },
         "width": 1080000,
         "x": [
          "2025-07-08T18:00:00",
          "2025-07-08T19:00:00",
          "2025-07-08T20:00:00",
          "2025-07-08T21:00:00",
          "2025-07-08T22:00:00",
          "2025-07-08T23:00:00",
          "2025-07-09T00:00:00",
          "2025-07-09T01:00:00",
          "2025-07-09T02:00:00",
          "2025-07-09T03:00:00",
          "2025-07-09T04:00:00",
          "2025-07-09T05:00:00",
          "2025-07-09T06:00:00",
          "2025-07-09T07:00:00",
          "2025-07-09T08:00:00",
          "2025-07-09T09:00:00",
          "2025-07-09T10:00:00",
          "2025-07-09T11:00:00",
          "2025-07-09T12:00:00",
          "2025-07-09T13:00:00",
          "2025-07-09T14:00:00",
          "2025-07-09T15:00:00",
          "2025-07-09T16:00:00",
          "2025-07-09T17:00:00",
          "2025-07-09T18:00:00",
          "2025-07-09T19:00:00",
          "2025-07-09T20:00:00",
          "2025-07-09T21:00:00",
          "2025-07-09T22:00:00",
          "2025-07-09T23:00:00",
          "2025-07-10T00:00:00",
          "2025-07-10T01:00:00",
          "2025-07-10T02:00:00",
          "2025-07-10T03:00:00",
          "2025-07-10T04:00:00",
          "2025-07-10T05:00:00",
          "2025-07-10T06:00:00",
          "2025-07-10T07:00:00",
          "2025-07-10T08:00:00",
          "2025-07-10T09:00:00",
          "2025-07-10T10:00:00",
          "2025-07-10T11:00:00",
          "2025-07-10T12:00:00",
          "2025-07-10T13:00:00",
          "2025-07-10T14:00:00",
          "2025-07-10T15:00:00",
          "2025-07-10T16:00:00",
          "2025-07-10T17:00:00",
          "2025-07-10T18:00:00",
          "2025-07-10T19:00:00",
          "2025-07-10T20:00:00",
          "2025-07-10T21:00:00",
          "2025-07-10T22:00:00",
          "2025-07-10T23:00:00",
          "2025-07-11T00:00:00",
          "2025-07-11T01:00:00",
          "2025-07-11T02:00:00",
          "2025-07-11T03:00:00",
          "2025-07-11T04:00:00",
          "2025-07-11T05:00:00",
          "2025-07-11T06:00:00",
          "2025-07-11T07:00:00",
          "2025-07-11T08:00:00",
          "2025-07-11T09:00:00",
          "2025-07-11T10:00:00",
          "2025-07-11T11:00:00",
          "2025-07-11T12:00:00",
          "2025-07-11T13:00:00",
          "2025-07-11T14:00:00",
          "2025-07-11T15:00:00",
          "2025-07-11T16:00:00",
          "2025-07-11T17:00:00",
          "2025-07-11T18:00:00",
          "2025-07-11T19:00:00",
          "2025-07-11T20:00:00",
          "2025-07-11T21:00:00",
          "2025-07-11T22:00:00",
          "2025-07-11T23:00:00",
          "2025-07-12T00:00:00",
          "2025-07-12T01:00:00",
          "2025-07-12T02:00:00",
          "2025-07-12T03:00:00",
          "2025-07-12T04:00:00",
          "2025-07-12T05:00:00",
          "2025-07-12T06:00:00",
          "2025-07-12T07:00:00",
          "2025-07-12T08:00:00",
          "2025-07-12T09:00:00",
          "2025-07-12T10:00:00",
          "2025-07-12T11:00:00",
          "2025-07-12T12:00:00",
          "2025-07-12T13:00:00",
          "2025-07-12T14:00:00",
          "2025-07-12T15:00:00",
          "2025-07-12T16:00:00",
          "2025-07-12T17:00:00",
          "2025-07-12T18:00:00",
          "2025-07-12T19:00:00",
          "2025-07-12T20:00:00",
          "2025-07-12T21:00:00",
          "2025-07-12T22:00:00",
          "2025-07-12T23:00:00",
          "2025-07-13T00:00:00",
          "2025-07-13T01:00:00",
          "2025-07-13T02:00:00",
          "2025-07-13T03:00:00",
          "2025-07-13T04:00:00",
          "2025-07-13T05:00:00",
          "2025-07-13T06:00:00",
          "2025-07-13T07:00:00",
          "2025-07-13T08:00:00",
          "2025-07-13T09:00:00",
          "2025-07-13T10:00:00",
          "2025-07-13T11:00:00",
          "2025-07-13T12:00:00",
          "2025-07-13T13:00:00",
          "2025-07-13T14:00:00",
          "2025-07-13T15:00:00",
          "2025-07-13T16:00:00",
          "2025-07-13T17:00:00",
          "2025-07-13T18:00:00"
         ],
         "xaxis": "x",
         "yaxis": "y"
        },
        {
         "fillcolor": "#B1B6FC",
         "hoverinfo": "skip",
         "line": {
          "color": "#ef9b20"
         },
         "lowerfence": {
          "bdata": "AAAAwFhhcUAAAADg8mdxQAAAACBvXXFAAAAAYDJacUAAAADgillxQAAAAECRVnFAAAAAoMNXcUAAAAAgOVlxQAAAAKDRW3FAAAAAoExecUAAAAAgzV5xQAAAAIA/YnFAAAAAQIdkcUAAAACAfmpxQAAAAGBOcnFAAAAAIAeUcUAAAACA96NxQAAAACC4tXFAAAAA4E7BcUAAAADgb8ZxQAAAAKCMx3FAAAAA4NXPcUAAAACg1dBxQAAAACBaxHFAAAAAgHi2cUAAAABAuqhxQAAAAAA9mnFAAAAAQHKNcUAAAACgSIZxQAAAAGDuhXFAAAAAQMuAcUAAAADALHxxQAAAAGASe3FAAAAA4Hh4cUAAAAAgmXdxQAAAAABZhHFAAAAAwM6bcUAAAAAA1LJxQAAAAMDCyHFAAAAAwBLZcUAAAADAdOdxQAAAACBN83FAAAAAIK/7cUAAAAAgfwFyQAAAAOC9+HFAAAAA4Hj9cUAAAACgl/ZxQAAAAEAj7XFAAAAA4M7fcUAAAABgP81xQAAAAGA0tXFAAAAAYCKucUAAAAAgv6txQAAAAKC+onFAAAAAAH2ecUAAAAAAU5xxQAAAAOALnXFAAAAAADybcUAAAAAA2ZdxQAAAAKCLpHFAAAAAACu3cUAAAACAtMVxQAAAAEDF1nFAAAAAILrfcUAAAACgy9xxQAAAAGCF13FAAAAAIPrucUAAAABgRPlxQAAAAGBIAXJAAAAAgPf4cUAAAACAmvlxQAAAAECN6XFAAAAA4ILccUAAAADgA8xxQAAAAEACuHFAAAAAIJ2zcUAAAACAk6xxQAAAAOCkpnFAAAAAgEqgcUAAAACg2ZpxQAAAAMD8lnFAAAAAoOOTcUAAAABAMJFxQAAAACCwonFAAAAAQB63cUAAAADg4s1xQAAAAMBy6nFAAAAA4LABckAAAAAAQwtyQAAAACDDDnJAAAAAgNsJckAAAAAg7fZxQAAAAGBn93FAAAAAwMr3cUAAAADgmfpxQAAAAACR/XFAAAAAoGDycUAAAADAlOFxQAAAAOD81XFAAAAAgDXNcUAAAACA28ZxQAAAAMCcv3FAAAAAgB+8cUAAAACAzLlxQAAAAIC0uHFAAAAAQNi2cUAAAAAgaLlxQAAAAGBdxnFAAAAAgP7gcUAAAAAA5PJxQAAAAIBtCXJAAAAAoJwbckAAAAAAyCFyQAAAAKBkMHJAAAAAwOssckAAAACgwBByQAAAAEA/JXJAAAAAwBsQckAAAADgvi5yQAAAAIB8JHJAAAAAQIUTckA=",
          "dtype": "f8"
         },
         "median": {
          "bdata": "AAAAkBBmcUAAAAAg3mxxQAAAAEBRY3FAAAAAwJVhcUAAAAAg9V9xQAAAAJAUX3FAAAAAUHxgcUAAAADgpWRxQAAAANBOZXFAAAAAAMNqcUAAAABgxWpxQAAAAFASa3FAAAAAIDtwcUAAAABwi3lxQAAAAKC0inFAAAAAIEmicUAAAADgkbRxQAAAAKDtw3FAAAAAQA/NcUAAAAAgsdRxQAAAADBX23FAAAAA0FTbcUAAAAAQu9dxQAAAADDjzHFAAAAAkGHAcUAAAADgkq5xQAAAANBBpXFAAAAAYJSacUAAAACQcJBxQAAAAGBniXFAAAAAwK6GcUAAAACQnoRxQAAAAOA4gnFAAAAAkAKAcUAAAADAknxxQAAAACBvjHFAAAAAcImicUAAAAAQULhxQAAAAGBo0HFAAAAAILDjcUAAAABgnvNxQAAAANAJAXJAAAAAEMQLckAAAABg6RByQAAAALDhD3JAAAAAsHsLckAAAAAgAAZyQAAAAMB5+3FAAAAAkJ7scUAAAADwd9hxQAAAAIBTzXFAAAAAsNTCcUAAAACQJbdxQAAAAJDQsHFAAAAAcC2rcUAAAACwyqlxQAAAAJB4pnFAAAAAwDmjcUAAAABQvaFxQAAAAKBPr3FAAAAAkHTBcUAAAACAKNZxQAAAAPD47XFAAAAAIJAAckAAAADQ6w1yQAAAAJCUF3JAAAAAEJ8dckAAAADwGiNyQAAAAOCQIHJAAAAAkCEeckAAAABw/BdyQAAAADBeDHJAAAAAUFb6cUAAAABAQeVxQAAAAMCA0XFAAAAAUMXHcUAAAABA2cZxQAAAAEARv3FAAAAAoDK5cUAAAABgybVxQAAAACBXsXFAAAAAAGGucUAAAABgPq1xQAAAACBiu3FAAAAAoNLQcUAAAACQMOZxQAAAAMAX/nFAAAAAgNIRckAAAACAOCNyQAAAAGAsLnJAAAAAMDQ2ckAAAAAQEThyQAAAABCPOHJAAAAAkOwyckAAAACgxClyQAAAAKBLIXJAAAAA4K8TckAAAAAQ+f1xQAAAAJBg4nFAAAAAsGjccUAAAADghtZxQAAAANAI03FAAAAAIMfOcUAAAADgHsxxQAAAAODFxnFAAAAAsPjEcUAAAADwn8RxQAAAAIAn1HFAAAAAUEfucUAAAACA5AdyQAAAAFDfHHJAAAAAsL0tckAAAADApT1yQAAAAICvSXJAAAAAoL9TckAAAACAu1lyQAAAACD9U3JAAAAAQO5JckAAAABAKUZyQAAAAKD6PHJAAAAAEOsrckA=",
          "dtype": "f8"
         },
         "q1": {
          "bdata": "AAAAcBFkcUAAAADAzmpxQAAAAGDKX3FAAAAAuDtfcUAAAAAYO19xQAAAAKB9W3FAAAAAqItdcUAAAACQs2BxQAAAAOi/YHFAAAAAAD5kcUAAAABIoGNxQAAAACDXZ3FAAAAAmGJtcUAAAABI73RxQAAAANDIhHFAAAAA2I+dcUAAAABoUrFxQAAAAKgovnFAAAAAoMvGcUAAAADwa9FxQAAAAHiq13FAAAAA0O/YcUAAAACIbdRxQAAAAAgoy3FAAAAASK2+cUAAAACQ/6xxQAAAABgCoXFAAAAAOGeVcUAAAABwDI5xQAAAAADciHFAAAAAoOKDcUAAAACoAoJxQAAAANjVf3FAAAAAuIB8cUAAAABwm3pxQAAAADBUinFAAAAA0P2gcUAAAACItrZxQAAAADC/znFAAAAAQIXhcUAAAACI4fFxQAAAAKhE/nFAAAAASH0HckAAAAA4Ug1yQAAAAJCUC3JAAAAAYBoIckAAAADgIwNyQAAAANhK+nFAAAAAkBDrcUAAAAA479VxQAAAANhWy3FAAAAAkB25cUAAAAAQF7BxQAAAADgurXFAAAAA6PyocUAAAAAgLqVxQAAAALjuo3FAAAAAACagcUAAAABYFJ5xQAAAAGAdrXFAAAAA8O6+cUAAAACoyNNxQAAAAGib63FAAAAAgJz8cUAAAADAPQpyQAAAALhfEnJAAAAAsIoVckAAAAD4VRdyQAAAACANGnJAAAAAmJgVckAAAACgRxByQAAAACiaBHJAAAAAYM/ycUAAAABgzeBxQAAAACjLynFAAAAA2B/DcUAAAAAIyb1xQAAAAHA6uXFAAAAA+ECzcUAAAAAIf69xQAAAAOg5q3FAAAAAUFCocUAAAAC4OqhxQAAAADiEt3FAAAAA2OfLcUAAAAAQ1eBxQAAAAFiu+XFAAAAAQKANckAAAABQjx1yQAAAAAixKHJAAAAAGBgwckAAAADgajRyQAAAANDRKXJAAAAAkK8ockAAAAAwXCFyQAAAAFCsGnJAAAAASGINckAAAADQ//RxQAAAACh933FAAAAA+PXVcUAAAABojNJxQAAAANjUz3FAAAAA8O3KcUAAAACAE8ZxQAAAAGjew3FAAAAAQPC/cUAAAAAI9r5xQAAAANC/z3FAAAAAOFXpcUAAAABwQAJyQAAAAPiDGXJAAAAAuNwqckAAAAAghzVyQAAAAMB+RXJAAAAACLtKckAAAADIYE9yQAAAAEjyRXJAAAAA8D1CckAAAAAwgT1yQAAAANDcNHJAAAAAADwgckA=",
          "dtype": "f8"
         },
         "q3": {
          "bdata": "AAAAqGFocUAAAAAAtW5xQAAAAHD6ZHFAAAAAgHVkcUAAAAAIe2JxQAAAAHinYHFAAAAAkMtjcUAAAADgZGhxQAAAAKAoa3FAAAAA6JBscUAAAADYvG9xQAAAAOAScHFAAAAAeOx0cUAAAADQUHxxQAAAABDVjXFAAAAA2KejcUAAAAAAj7dxQAAAAKj/xXFAAAAAAG7QcUAAAADg8dhxQAAAACCr3HFAAAAAaN3dcUAAAACQ2tlxQAAAAHh+z3FAAAAAoBvCcUAAAABYbLFxQAAAAPCIp3FAAAAAgFugcUAAAABY/5RxQAAAAJBFkHFAAAAAsBiKcUAAAABwXodxQAAAACiWhHFAAAAAaJuBcUAAAABoiX5xQAAAALjjjnFAAAAAINqjcUAAAAD4wLlxQAAAAEA90XFAAAAAEMjlcUAAAAAotPZxQAAAAAjSA3JAAAAAmPwMckAAAAAw7xNyQAAAAEjRFHJAAAAAAP8PckAAAADQdglyQAAAAPjV/nFAAAAAEBrvcUAAAAAIhdpxQAAAAKBiz3FAAAAAQKLEcUAAAAB4KrtxQAAAAMh2tHFAAAAAaDCucUAAAACIpqxxQAAAABA2qXFAAAAAUHmncUAAAADYoaRxQAAAALg9snFAAAAAWLDEcUAAAACYlNhxQAAAAMDx8HFAAAAAKIQBckAAAADgThFyQAAAAOjMG3JAAAAAaHUjckAAAADIzyVyQAAAADgzJnJAAAAAIJIjckAAAAB4kBtyQAAAAMhkEHJAAAAAgHL+cUAAAACYB+pxQAAAADj92XFAAAAAELzRcUAAAABQQ8pxQAAAABh7xnFAAAAAgNnDcUAAAACwvb5xQAAAAHi1tnFAAAAAiO20cUAAAAAoibFxQAAAADiHwXFAAAAA8BrWcUAAAADQ0OhxQAAAACDrAnJAAAAAmLEXckAAAABoNipyQAAAAFCWNnJAAAAAiOk+ckAAAACYM0ByQAAAAPg6QXJAAAAAEGs8ckAAAABQ5zNyQAAAAPCEKXJAAAAAgG0YckAAAABo8gJyQAAAADjz6HFAAAAAuMbhcUAAAAAoJ9pxQAAAAJCn1XFAAAAAUCTTcUAAAACQdtBxQAAAAID5zXFAAAAASAHPcUAAAABgX85xQAAAAJB23XFAAAAAYEb3cUAAAADoGxByQAAAAHiGJXJAAAAAmEw7ckAAAADAeEtyQAAAAHDhVXJAAAAAyK9gckAAAAD4TGVyQAAAACjgX3JAAAAAeGJYckAAAACYFU9yQAAAAEAXQnJAAAAAKHMwckA=",
          "dtype": "f8"
         },
         "showwhiskers": false,
         "type": "box",
         "upperfence": {
          "bdata": "AAAAgCBscUAAAABgEndxQAAAAODTb3FAAAAAAJxpcUAAAABgRmxxQAAAAIBwZnFAAAAAQE1tcUAAAACgXG5xQAAAAIDhbnFAAAAAIDdycUAAAADgbnRxQAAAAIB/d3FAAAAAgN94cUAAAAAgSoBxQAAAAKC8kXFAAAAAAJaqcUAAAAAAGLpxQAAAAGDxyXFAAAAAAITTcUAAAACgtNxxQAAAAMBr5HFAAAAA4KzkcUAAAAAgfd1xQAAAAACx0XFAAAAAIIbEcUAAAAAg+rdxQAAAAOAsrHFAAAAA4I2lcUAAAAAAc55xQAAAAOByl3FAAAAAQPKVcUAAAADg5ZFxQAAAAIBdkHFAAAAAgMmPcUAAAACgFIxxQAAAAIA2lHFAAAAAIBGocUAAAACA37txQAAAAACE03FAAAAAgNHqcUAAAAAgtP1xQAAAAIDdC3JAAAAAALMVckAAAACAiBtyQAAAACDCG3JAAAAAgHEYckAAAACgYhFyQAAAAACZBXJAAAAAgGn1cUAAAAAA9d9xQAAAAEB303FAAAAAAFHHcUAAAABA7r5xQAAAAOBRuHFAAAAAgIKzcUAAAABgOLBxQAAAAECArXFAAAAAACypcUAAAABATKhxQAAAAAC6tXFAAAAAoNnHcUAAAACgI9xxQAAAAGDo9XFAAAAAILILckAAAAAAPB5yQAAAAEBdK3JAAAAAQJ4zckAAAADAlDdyQAAAAIBqNnJAAAAAwLovckAAAABANSZyQAAAAEAVG3JAAAAAAIQLckAAAADg1vNxQAAAAMBR33FAAAAAYHzacUAAAACA09hxQAAAACBL0nFAAAAAAMXLcUAAAACgactxQAAAAEAvwHFAAAAAYIbBcUAAAADA7sBxQAAAAKCdzHFAAAAAgFzdcUAAAAAA8PRxQAAAAOCBD3JAAAAAQNUlckAAAACgUzZyQAAAAOAUQHJAAAAAoDFIckAAAADgXEtyQAAAAKAQTXJAAAAAIIxJckAAAACA6T9yQAAAAECZNHJAAAAAwCcjckAAAACADg5yQAAAAGBu+XFAAAAA4JLxcUAAAABA2+1xQAAAAGA36HFAAAAAIMfmcUAAAACgDeFxQAAAAECX5HFAAAAAoGXjcUAAAAAAj9xxQAAAAGAY6HFAAAAA4M8CckAAAABARR9yQAAAAMCwMnJAAAAAoFBDckAAAACg7FRyQAAAAABRZHJAAAAAACxuckAAAADAUXNyQAAAAABndHJAAAAAAAZzckAAAACgCWxyQAAAAGC2X3JAAAAA4NdHckA=",
          "dtype": "f8"
         },
         "width": 2160000,
         "x": [
          "2025-07-08T18:00:00",
          "2025-07-08T19:00:00",
          "2025-07-08T20:00:00",
          "2025-07-08T21:00:00",
          "2025-07-08T22:00:00",
          "2025-07-08T23:00:00",
          "2025-07-09T00:00:00",
          "2025-07-09T01:00:00",
          "2025-07-09T02:00:00",
          "2025-07-09T03:00:00",
          "2025-07-09T04:00:00",
          "2025-07-09T05:00:00",
          "2025-07-09T06:00:00",
          "2025-07-09T07:00:00",
          "2025-07-09T08:00:00",
          "2025-07-09T09:00:00",
          "2025-07-09T10:00:00",
          "2025-07-09T11:00:00",
          "2025-07-09T12:00:00",
          "2025-07-09T13:00:00",
          "2025-07-09T14:00:00",
          "2025-07-09T15:00:00",
          "2025-07-09T16:00:00",
          "2025-07-09T17:00:00",
          "2025-07-09T18:00:00",
          "2025-07-09T19:00:00",
          "2025-07-09T20:00:00",
          "2025-07-09T21:00:00",
          "2025-07-09T22:00:00",
          "2025-07-09T23:00:00",
          "2025-07-10T00:00:00",
          "2025-07-10T01:00:00",
          "2025-07-10T02:00:00",
          "2025-07-10T03:00:00",
          "2025-07-10T04:00:00",
          "2025-07-10T05:00:00",
          "2025-07-10T06:00:00",
          "2025-07-10T07:00:00",
          "2025-07-10T08:00:00",
          "2025-07-10T09:00:00",
          "2025-07-10T10:00:00",
          "2025-07-10T11:00:00",
          "2025-07-10T12:00:00",
          "2025-07-10T13:00:00",
          "2025-07-10T14:00:00",
          "2025-07-10T15:00:00",
          "2025-07-10T16:00:00",
          "2025-07-10T17:00:00",
          "2025-07-10T18:00:00",
          "2025-07-10T19:00:00",
          "2025-07-10T20:00:00",
          "2025-07-10T21:00:00",
          "2025-07-10T22:00:00",
          "2025-07-10T23:00:00",
          "2025-07-11T00:00:00",
          "2025-07-11T01:00:00",
          "2025-07-11T02:00:00",
          "2025-07-11T03:00:00",
          "2025-07-11T04:00:00",
          "2025-07-11T05:00:00",
          "2025-07-11T06:00:00",
          "2025-07-11T07:00:00",
          "2025-07-11T08:00:00",
          "2025-07-11T09:00:00",
          "2025-07-11T10:00:00",
          "2025-07-11T11:00:00",
          "2025-07-11T12:00:00",
          "2025-07-11T13:00:00",
          "2025-07-11T14:00:00",
          "2025-07-11T15:00:00",
          "2025-07-11T16:00:00",
          "2025-07-11T17:00:00",
          "2025-07-11T18:00:00",
          "2025-07-11T19:00:00",
          "2025-07-11T20:00:00",
          "2025-07-11T21:00:00",
          "2025-07-11T22:00:00",
          "2025-07-11T23:00:00",
          "2025-07-12T00:00:00",
          "2025-07-12T01:00:00",
          "2025-07-12T02:00:00",
          "2025-07-12T03:00:00",
          "2025-07-12T04:00:00",
          "2025-07-12T05:00:00",
          "2025-07-12T06:00:00",
          "2025-07-12T07:00:00",
          "2025-07-12T08:00:00",
          "2025-07-12T09:00:00",
          "2025-07-12T10:00:00",
          "2025-07-12T11:00:00",
          "2025-07-12T12:00:00",
          "2025-07-12T13:00:00",
          "2025-07-12T14:00:00",
          "2025-07-12T15:00:00",
          "2025-07-12T16:00:00",
          "2025-07-12T17:00:00",
          "2025-07-12T18:00:00",
          "2025-07-12T19:00:00",
          "2025-07-12T20:00:00",
          "2025-07-12T21:00:00",
          "2025-07-12T22:00:00",
          "2025-07-12T23:00:00",
          "2025-07-13T00:00:00",
          "2025-07-13T01:00:00",
          "2025-07-13T02:00:00",
          "2025-07-13T03:00:00",
          "2025-07-13T04:00:00",
          "2025-07-13T05:00:00",
          "2025-07-13T06:00:00",
          "2025-07-13T07:00:00",
          "2025-07-13T08:00:00",
          "2025-07-13T09:00:00",
          "2025-07-13T10:00:00",
          "2025-07-13T11:00:00",
          "2025-07-13T12:00:00",
          "2025-07-13T13:00:00",
          "2025-07-13T14:00:00",
          "2025-07-13T15:00:00",
          "2025-07-13T16:00:00",
          "2025-07-13T17:00:00",
          "2025-07-13T18:00:00"
         ],
         "xaxis": "x",
         "yaxis": "y"
        },
        {
         "hovertemplate": "%{y:.2f}<extra>P<sub>0%</sub></extra>",
         "marker": {
          "color": "#ef9b20",
          "size": 0.00001
         },
         "mode": "markers",
         "type": "scatter",
         "x": [
          "2025-07-08T18:00:00",
          "2025-07-08T19:00:00",
          "2025-07-08T20:00:00",
          "2025-07-08T21:00:00",
          "2025-07-08T22:00:00",
          "2025-07-08T23:00:00",
          "2025-07-09T00:00:00",
          "2025-07-09T01:00:00",
          "2025-07-09T02:00:00",
          "2025-07-09T03:00:00",
          "2025-07-09T04:00:00",
          "2025-07-09T05:00:00",
          "2025-07-09T06:00:00",
          "2025-07-09T07:00:00",
          "2025-07-09T08:00:00",
          "2025-07-09T09:00:00",
          "2025-07-09T10:00:00",
          "2025-07-09T11:00:00",
          "2025-07-09T12:00:00",
          "2025-07-09T13:00:00",
          "2025-07-09T14:00:00",
          "2025-07-09T15:00:00",
          "2025-07-09T16:00:00",
          "2025-07-09T17:00:00",
          "2025-07-09T18:00:00",
          "2025-07-09T19:00:00",
          "2025-07-09T20:00:00",
          "2025-07-09T21:00:00",
          "2025-07-09T22:00:00",
          "2025-07-09T23:00:00",
          "2025-07-10T00:00:00",
          "2025-07-10T01:00:00",
          "2025-07-10T02:00:00",
          "2025-07-10T03:00:00",
          "2025-07-10T04:00:00",
          "2025-07-10T05:00:00",
          "2025-07-10T06:00:00",
          "2025-07-10T07:00:00",
          "2025-07-10T08:00:00",
          "2025-07-10T09:00:00",
          "2025-07-10T10:00:00",
          "2025-07-10T11:00:00",
          "2025-07-10T12:00:00",
          "2025-07-10T13:00:00",
          "2025-07-10T14:00:00",
          "2025-07-10T15:00:00",
          "2025-07-10T16:00:00",
          "2025-07-10T17:00:00",
          "2025-07-10T18:00:00",
          "2025-07-10T19:00:00",
          "2025-07-10T20:00:00",
          "2025-07-10T21:00:00",
          "2025-07-10T22:00:00",
          "2025-07-10T23:00:00",
          "2025-07-11T00:00:00",
          "2025-07-11T01:00:00",
          "2025-07-11T02:00:00",
          "2025-07-11T03:00:00",
          "2025-07-11T04:00:00",
          "2025-07-11T05:00:00",
          "2025-07-11T06:00:00",
          "2025-07-11T07:00:00",
          "2025-07-11T08:00:00",
          "2025-07-11T09:00:00",
          "2025-07-11T10:00:00",
          "2025-07-11T11:00:00",
          "2025-07-11T12:00:00",
          "2025-07-11T13:00:00",
          "2025-07-11T14:00:00",
          "2025-07-11T15:00:00",
          "2025-07-11T16:00:00",
          "2025-07-11T17:00:00",
          "2025-07-11T18:00:00",
          "2025-07-11T19:00:00",
          "2025-07-11T20:00:00",
          "2025-07-11T21:00:00",
          "2025-07-11T22:00:00",
          "2025-07-11T23:00:00",
          "2025-07-12T00:00:00",
          "2025-07-12T01:00:00",
          "2025-07-12T02:00:00",
          "2025-07-12T03:00:00",
          "2025-07-12T04:00:00",
          "2025-07-12T05:00:00",
          "2025-07-12T06:00:00",
          "2025-07-12T07:00:00",
          "2025-07-12T08:00:00",
          "2025-07-12T09:00:00",
          "2025-07-12T10:00:00",
          "2025-07-12T11:00:00",
          "2025-07-12T12:00:00",
          "2025-07-12T13:00:00",
          "2025-07-12T14:00:00",
          "2025-07-12T15:00:00",
          "2025-07-12T16:00:00",
          "2025-07-12T17:00:00",
          "2025-07-12T18:00:00",
          "2025-07-12T19:00:00",
          "2025-07-12T20:00:00",
          "2025-07-12T21:00:00",
          "2025-07-12T22:00:00",
          "2025-07-12T23:00:00",
          "2025-07-13T00:00:00",
          "2025-07-13T01:00:00",
          "2025-07-13T02:00:00",
          "2025-07-13T03:00:00",
          "2025-07-13T04:00:00",
          "2025-07-13T05:00:00",
          "2025-07-13T06:00:00",
          "2025-07-13T07:00:00",
          "2025-07-13T08:00:00",
          "2025-07-13T09:00:00",
          "2025-07-13T10:00:00",
          "2025-07-13T11:00:00",
          "2025-07-13T12:00:00",
          "2025-07-13T13:00:00",
          "2025-07-13T14:00:00",
          "2025-07-13T15:00:00",
          "2025-07-13T16:00:00",
          "2025-07-13T17:00:00",
          "2025-07-13T18:00:00"
         ],
         "xaxis": "x",
         "y": {
          "bdata": "AAAAwFhhcUAAAADg8mdxQAAAACBvXXFAAAAAYDJacUAAAADgillxQAAAAECRVnFAAAAAoMNXcUAAAAAgOVlxQAAAAKDRW3FAAAAAoExecUAAAAAgzV5xQAAAAIA/YnFAAAAAQIdkcUAAAACAfmpxQAAAAGBOcnFAAAAAIAeUcUAAAACA96NxQAAAACC4tXFAAAAA4E7BcUAAAADgb8ZxQAAAAKCMx3FAAAAA4NXPcUAAAACg1dBxQAAAACBaxHFAAAAAgHi2cUAAAABAuqhxQAAAAAA9mnFAAAAAQHKNcUAAAACgSIZxQAAAAGDuhXFAAAAAQMuAcUAAAADALHxxQAAAAGASe3FAAAAA4Hh4cUAAAAAgmXdxQAAAAABZhHFAAAAAwM6bcUAAAAAA1LJxQAAAAMDCyHFAAAAAwBLZcUAAAADAdOdxQAAAACBN83FAAAAAIK/7cUAAAAAgfwFyQAAAAOC9+HFAAAAA4Hj9cUAAAACgl/ZxQAAAAEAj7XFAAAAA4M7fcUAAAABgP81xQAAAAGA0tXFAAAAAYCKucUAAAAAgv6txQAAAAKC+onFAAAAAAH2ecUAAAAAAU5xxQAAAAOALnXFAAAAAADybcUAAAAAA2ZdxQAAAAKCLpHFAAAAAACu3cUAAAACAtMVxQAAAAEDF1nFAAAAAILrfcUAAAACgy9xxQAAAAGCF13FAAAAAIPrucUAAAABgRPlxQAAAAGBIAXJAAAAAgPf4cUAAAACAmvlxQAAAAECN6XFAAAAA4ILccUAAAADgA8xxQAAAAEACuHFAAAAAIJ2zcUAAAACAk6xxQAAAAOCkpnFAAAAAgEqgcUAAAACg2ZpxQAAAAMD8lnFAAAAAoOOTcUAAAABAMJFxQAAAACCwonFAAAAAQB63cUAAAADg4s1xQAAAAMBy6nFAAAAA4LABckAAAAAAQwtyQAAAACDDDnJAAAAAgNsJckAAAAAg7fZxQAAAAGBn93FAAAAAwMr3cUAAAADgmfpxQAAAAACR/XFAAAAAoGDycUAAAADAlOFxQAAAAOD81XFAAAAAgDXNcUAAAACA28ZxQAAAAMCcv3FAAAAAgB+8cUAAAACAzLlxQAAAAIC0uHFAAAAAQNi2cUAAAAAgaLlxQAAAAGBdxnFAAAAAgP7gcUAAAAAA5PJxQAAAAIBtCXJAAAAAoJwbckAAAAAAyCFyQAAAAKBkMHJAAAAAwOssckAAAACgwBByQAAAAEA/JXJAAAAAwBsQckAAAADgvi5yQAAAAIB8JHJAAAAAQIUTckA=",
          "dtype": "f8"
         },
         "yaxis": "y"
        },
        {
         "hovertemplate": "%{y:.2f}<extra>P<sub>10%</sub></extra>",
         "marker": {
          "color": "#ef9b20",
          "size": 0.00001
         },
         "mode": "markers",
         "type": "scatter",
         "x": [
          "2025-07-08T18:00:00",
          "2025-07-08T19:00:00",
          "2025-07-08T20:00:00",
          "2025-07-08T21:00:00",
          "2025-07-08T22:00:00",
          "2025-07-08T23:00:00",
          "2025-07-09T00:00:00",
          "2025-07-09T01:00:00",
          "2025-07-09T02:00:00",
          "2025-07-09T03:00:00",
          "2025-07-09T04:00:00",
          "2025-07-09T05:00:00",
          "2025-07-09T06:00:00",
          "2025-07-09T07:00:00",
          "2025-07-09T08:00:00",
          "2025-07-09T09:00:00",
          "2025-07-09T10:00:00",
          "2025-07-09T11:00:00",
          "2025-07-09T12:00:00",
          "2025-07-09T13:00:00",
          "2025-07-09T14:00:00",
          "2025-07-09T15:00:00",
          "2025-07-09T16:00:00",
          "2025-07-09T17:00:00",
          "2025-07-09T18:00:00",
          "2025-07-09T19:00:00",
          "2025-07-09T20:00:00",
          "2025-07-09T21:00:00",
          "2025-07-09T22:00:00",
          "2025-07-09T23:00:00",
          "2025-07-10T00:00:00",
          "2025-07-10T01:00:00",
          "2025-07-10T02:00:00",
          "2025-07-10T03:00:00",
          "2025-07-10T04:00:00",
          "2025-07-10T05:00:00",
          "2025-07-10T06:00:00",
          "2025-07-10T07:00:00",
          "2025-07-10T08:00:00",
          "2025-07-10T09:00:00",
          "2025-07-10T10:00:00",
          "2025-07-10T11:00:00",
          "2025-07-10T12:00:00",
          "2025-07-10T13:00:00",
          "2025-07-10T14:00:00",
          "2025-07-10T15:00:00",
          "2025-07-10T16:00:00",
          "2025-07-10T17:00:00",
          "2025-07-10T18:00:00",
          "2025-07-10T19:00:00",
          "2025-07-10T20:00:00",
          "2025-07-10T21:00:00",
          "2025-07-10T22:00:00",
          "2025-07-10T23:00:00",
          "2025-07-11T00:00:00",
          "2025-07-11T01:00:00",
          "2025-07-11T02:00:00",
          "2025-07-11T03:00:00",
          "2025-07-11T04:00:00",
          "2025-07-11T05:00:00",
          "2025-07-11T06:00:00",
          "2025-07-11T07:00:00",
          "2025-07-11T08:00:00",
          "2025-07-11T09:00:00",
          "2025-07-11T10:00:00",
          "2025-07-11T11:00:00",
          "2025-07-11T12:00:00",
          "2025-07-11T13:00:00",
          "2025-07-11T14:00:00",
          "2025-07-11T15:00:00",
          "2025-07-11T16:00:00",
          "2025-07-11T17:00:00",
          "2025-07-11T18:00:00",
          "2025-07-11T19:00:00",
          "2025-07-11T20:00:00",
          "2025-07-11T21:00:00",
          "2025-07-11T22:00:00",
          "2025-07-11T23:00:00",
          "2025-07-12T00:00:00",
          "2025-07-12T01:00:00",
          "2025-07-12T02:00:00",
          "2025-07-12T03:00:00",
          "2025-07-12T04:00:00",
          "2025-07-12T05:00:00",
          "2025-07-12T06:00:00",
          "2025-07-12T07:00:00",
          "2025-07-12T08:00:00",
          "2025-07-12T09:00:00",
          "2025-07-12T10:00:00",
          "2025-07-12T11:00:00",
          "2025-07-12T12:00:00",
          "2025-07-12T13:00:00",
          "2025-07-12T14:00:00",
          "2025-07-12T15:00:00",
          "2025-07-12T16:00:00",
          "2025-07-12T17:00:00",
          "2025-07-12T18:00:00",
          "2025-07-12T19:00:00",
          "2025-07-12T20:00:00",
          "2025-07-12T21:00:00",
          "2025-07-12T22:00:00",
          "2025-07-12T23:00:00",
          "2025-07-13T00:00:00",
          "2025-07-13T01:00:00",
          "2025-07-13T02:00:00",
          "2025-07-13T03:00:00",
          "2025-07-13T04:00:00",
          "2025-07-13T05:00:00",
          "2025-07-13T06:00:00",
          "2025-07-13T07:00:00",
          "2025-07-13T08:00:00",
          "2025-07-13T09:00:00",
          "2025-07-13T10:00:00",
          "2025-07-13T11:00:00",
          "2025-07-13T12:00:00",
          "2025-07-13T13:00:00",
          "2025-07-13T14:00:00",
          "2025-07-13T15:00:00",
          "2025-07-13T16:00:00",
          "2025-07-13T17:00:00",
          "2025-07-13T18:00:00"
         ],
         "xaxis": "x",
         "y": {
          "bdata": "MzMzsw9icUDNzMyM/mlxQGZmZibMXnFAAAAAULtdcUCamZkZdFxxQGZmZkYUWnFAzczM3DJbcUAAAADgD19xQJqZmVm8XXFAMzMzM6ZgcUBmZmaGmWFxQM3MzIzRZHFAAAAAAFRocUBmZma2GXFxQGZmZpa0fnFAZmZmVpuacUBmZmbm9K5xQM3MzLwruXFAzczMvLrEcUBmZmZGa8txQDMzM8PL0XFAMzMzkxXYcUDNzMxsmdNxQAAAAKAmyXFAzczMrOm7cUDNzMxcpKpxQM3MzFznm3FAZmZmJvSQcUAAAABQQo1xQGZmZgaXh3FAzczMPBKDcUAAAADwEYBxQM3MzPw3fXFAAAAAsPx5cUAAAABwU3hxQGZmZhZyiXFAAAAAAOmdcUDNzMxMQ7RxQDMzM3NGzXFAzczMPBLfcUAAAABQ/O5xQAAAAACf+3FAMzMz8/sCckAzMzPT3wVyQJqZmQlzBXJAzczMbAoGckAzMzOTUQFyQM3MzKyZ9nFAMzMzY6XncUAzMzPTudJxQAAAAPC5w3FAZmZmtmi3cUAzMzMjEa1xQJqZmal8p3FAMzMzc5qlcUDNzMwcOqNxQDMzMwM/oHFAmpmZ2f6dcUCamZm5WZtxQGZmZoYQqnFAmpmZuWi+cUAzMzMTN9FxQM3MzCxR6XFAzczMzK33cUAAAAAQqf9xQDMzM0PWAXJAAAAAQAYHckCamZkJaAtyQDMzM7M+E3JAZmZmdokHckBmZmaGqghyQAAAAPCW+XFAAAAAsKLscUCamZm5aNtxQM3MzDwexnFAmpmZic+7cUBmZmbWArpxQJqZmelEs3FAAAAAMCeucUAzMzMjXqtxQGZmZsbhpnFAAAAAUIakcUAAAACwB6NxQGZmZmY9r3FAMzMz01vHcUAzMzNDedtxQJqZmXlJ83FAAAAA4GMHckDNzMx8zhVyQDMzM5NOInJAZmZmZuYrckBmZmZWHx9yQM3MzAxRGXJAMzMzk4YRckCamZnZWA1yQM3MzLzHBXJAZmZmlhz7cUAAAADwFu5xQDMzMxOL2nFAMzMzE5fScUCamZlJes5xQM3MzLzwx3FAZmZmxpHFcUAAAABArsNxQM3MzNzBwHFAMzMz8+e+cUAAAAAgxLtxQM3MzCzSy3FAAAAAMKHmcUBmZmaW8vpxQGZmZjb0FHJAmpmZ2fklckAAAAAQPzJyQDMzM2M8O3JAzczM3Hw0ckAzMzMzJCNyQGZmZkbGPnJAZmZm9qkxckCamZlZnzNyQGZmZpbDJnJAZmZmtvcWckA=",
          "dtype": "f8"
         },
         "yaxis": "y"
        },
        {
         "hovertemplate": "%{y:.2f}<extra>P<sub>25%</sub></extra>",
         "marker": {
          "color": "#ef9b20",
          "size": 0.00001
         },
         "mode": "markers",
         "type": "scatter",
         "x": [
          "2025-07-08T18:00:00",
          "2025-07-08T19:00:00",
          "2025-07-08T20:00:00",
          "2025-07-08T21:00:00",
          "2025-07-08T22:00:00",
          "2025-07-08T23:00:00",
          "2025-07-09T00:00:00",
          "2025-07-09T01:00:00",
          "2025-07-09T02:00:00",
          "2025-07-09T03:00:00",
          "2025-07-09T04:00:00",
          "2025-07-09T05:00:00",
          "2025-07-09T06:00:00",
          "2025-07-09T07:00:00",
          "2025-07-09T08:00:00",
          "2025-07-09T09:00:00",
          "2025-07-09T10:00:00",
          "2025-07-09T11:00:00",
          "2025-07-09T12:00:00",
          "2025-07-09T13:00:00",
          "2025-07-09T14:00:00",
          "2025-07-09T15:00:00",
          "2025-07-09T16:00:00",
          "2025-07-09T17:00:00",
          "2025-07-09T18:00:00",
          "2025-07-09T19:00:00",
          "2025-07-09T20:00:00",
          "2025-07-09T21:00:00",
          "2025-07-09T22:00:00",
          "2025-07-09T23:00:00",
          "2025-07-10T00:00:00",
          "2025-07-10T01:00:00",
          "2025-07-10T02:00:00",
          "2025-07-10T03:00:00",
          "2025-07-10T04:00:00",
          "2025-07-10T05:00:00",
          "2025-07-10T06:00:00",
          "2025-07-10T07:00:00",
          "2025-07-10T08:00:00",
          "2025-07-10T09:00:00",
          "2025-07-10T10:00:00",
          "2025-07-10T11:00:00",
          "2025-07-10T12:00:00",
          "2025-07-10T13:00:00",
          "2025-07-10T14:00:00",
          "2025-07-10T15:00:00",
          "2025-07-10T16:00:00",
          "2025-07-10T17:00:00",
          "2025-07-10T18:00:00",
          "2025-07-10T19:00:00",
          "2025-07-10T20:00:00",
          "2025-07-10T21:00:00",
          "2025-07-10T22:00:00",
          "2025-07-10T23:00:00",
          "2025-07-11T00:00:00",
          "2025-07-11T01:00:00",
          "2025-07-11T02:00:00",
          "2025-07-11T03:00:00",
          "2025-07-11T04:00:00",
          "2025-07-11T05:00:00",
          "2025-07-11T06:00:00",
          "2025-07-11T07:00:00",
          "2025-07-11T08:00:00",
          "2025-07-11T09:00:00",
          "2025-07-11T10:00:00",
          "2025-07-11T11:00:00",
          "2025-07-11T12:00:00",
          "2025-07-11T13:00:00",
          "2025-07-11T14:00:00",
          "2025-07-11T15:00:00",
          "2025-07-11T16:00:00",
          "2025-07-11T17:00:00",
          "2025-07-11T18:00:00",
          "2025-07-11T19:00:00",
          "2025-07-11T20:00:00",
          "2025-07-11T21:00:00",
          "2025-07-11T22:00:00",
          "2025-07-11T23:00:00",
          "2025-07-12T00:00:00",
          "2025-07-12T01:00:00",
          "2025-07-12T02:00:00",
          "2025-07-12T03:00:00",
          "2025-07-12T04:00:00",
          "2025-07-12T05:00:00",
          "2025-07-12T06:00:00",
          "2025-07-12T07:00:00",
          "2025-07-12T08:00:00",
          "2025-07-12T09:00:00",
          "2025-07-12T10:00:00",
          "2025-07-12T11:00:00",
          "2025-07-12T12:00:00",
          "2025-07-12T13:00:00",
          "2025-07-12T14:00:00",
          "2025-07-12T15:00:00",
          "2025-07-12T16:00:00",
          "2025-07-12T17:00:00",
          "2025-07-12T18:00:00",
          "2025-07-12T19:00:00",
          "2025-07-12T20:00:00",
          "2025-07-12T21:00:00",
          "2025-07-12T22:00:00",
          "2025-07-12T23:00:00",
          "2025-07-13T00:00:00",
          "2025-07-13T01:00:00",
          "2025-07-13T02:00:00",
          "2025-07-13T03:00:00",
          "2025-07-13T04:00:00",
          "2025-07-13T05:00:00",
          "2025-07-13T06:00:00",
          "2025-07-13T07:00:00",
          "2025-07-13T08:00:00",
          "2025-07-13T09:00:00",
          "2025-07-13T10:00:00",
          "2025-07-13T11:00:00",
          "2025-07-13T12:00:00",
          "2025-07-13T13:00:00",
          "2025-07-13T14:00:00",
          "2025-07-13T15:00:00",
          "2025-07-13T16:00:00",
          "2025-07-13T17:00:00",
          "2025-07-13T18:00:00"
         ],
         "xaxis": "x",
         "y": {
          "bdata": "AAAAcBFkcUAAAADAzmpxQAAAAGDKX3FAAAAAuDtfcUAAAAAYO19xQAAAAKB9W3FAAAAAqItdcUAAAACQs2BxQAAAAOi/YHFAAAAAAD5kcUAAAABIoGNxQAAAACDXZ3FAAAAAmGJtcUAAAABI73RxQAAAANDIhHFAAAAA2I+dcUAAAABoUrFxQAAAAKgovnFAAAAAoMvGcUAAAADwa9FxQAAAAHiq13FAAAAA0O/YcUAAAACIbdRxQAAAAAgoy3FAAAAASK2+cUAAAACQ/6xxQAAAABgCoXFAAAAAOGeVcUAAAABwDI5xQAAAAADciHFAAAAAoOKDcUAAAACoAoJxQAAAANjVf3FAAAAAuIB8cUAAAABwm3pxQAAAADBUinFAAAAA0P2gcUAAAACItrZxQAAAADC/znFAAAAAQIXhcUAAAACI4fFxQAAAAKhE/nFAAAAASH0HckAAAAA4Ug1yQAAAAJCUC3JAAAAAYBoIckAAAADgIwNyQAAAANhK+nFAAAAAkBDrcUAAAAA479VxQAAAANhWy3FAAAAAkB25cUAAAAAQF7BxQAAAADgurXFAAAAA6PyocUAAAAAgLqVxQAAAALjuo3FAAAAAACagcUAAAABYFJ5xQAAAAGAdrXFAAAAA8O6+cUAAAACoyNNxQAAAAGib63FAAAAAgJz8cUAAAADAPQpyQAAAALhfEnJAAAAAsIoVckAAAAD4VRdyQAAAACANGnJAAAAAmJgVckAAAACgRxByQAAAACiaBHJAAAAAYM/ycUAAAABgzeBxQAAAACjLynFAAAAA2B/DcUAAAAAIyb1xQAAAAHA6uXFAAAAA+ECzcUAAAAAIf69xQAAAAOg5q3FAAAAAUFCocUAAAAC4OqhxQAAAADiEt3FAAAAA2OfLcUAAAAAQ1eBxQAAAAFiu+XFAAAAAQKANckAAAABQjx1yQAAAAAixKHJAAAAAGBgwckAAAADgajRyQAAAANDRKXJAAAAAkK8ockAAAAAwXCFyQAAAAFCsGnJAAAAASGINckAAAADQ//RxQAAAACh933FAAAAA+PXVcUAAAABojNJxQAAAANjUz3FAAAAA8O3KcUAAAACAE8ZxQAAAAGjew3FAAAAAQPC/cUAAAAAI9r5xQAAAANC/z3FAAAAAOFXpcUAAAABwQAJyQAAAAPiDGXJAAAAAuNwqckAAAAAghzVyQAAAAMB+RXJAAAAACLtKckAAAADIYE9yQAAAAEjyRXJAAAAA8D1CckAAAAAwgT1yQAAAANDcNHJAAAAAADwgckA=",
          "dtype": "f8"
         },
         "yaxis": "y"
        },
        {
         "hovertemplate": "%{y:.2f}<extra>P<sub>50%</sub></extra>",
         "marker": {
          "color": "#ef9b20",
          "size": 0.00001
         },
         "mode": "markers",
         "type": "scatter",
         "x": [
          "2025-07-08T18:00:00",
          "2025-07-08T19:00:00",
          "2025-07-08T20:00:00",
          "2025-07-08T21:00:00",
          "2025-07-08T22:00:00",
          "2025-07-08T23:00:00",
          "2025-07-09T00:00:00",
          "2025-07-09T01:00:00",
          "2025-07-09T02:00:00",
          "2025-07-09T03:00:00",
          "2025-07-09T04:00:00",
          "2025-07-09T05:00:00",
          "2025-07-09T06:00:00",
          "2025-07-09T07:00:00",
          "2025-07-09T08:00:00",
          "2025-07-09T09:00:00",
          "2025-07-09T10:00:00",
          "2025-07-09T11:00:00",
          "2025-07-09T12:00:00",
          "2025-07-09T13:00:00",
          "2025-07-09T14:00:00",
          "2025-07-09T15:00:00",
          "2025-07-09T16:00:00",
          "2025-07-09T17:00:00",
          "2025-07-09T18:00:00",
          "2025-07-09T19:00:00",
          "2025-07-09T20:00:00",
          "2025-07-09T21:00:00",
          "2025-07-09T22:00:00",
          "2025-07-09T23:00:00",
          "2025-07-10T00:00:00",
          "2025-07-10T01:00:00",
          "2025-07-10T02:00:00",
          "2025-07-10T03:00:00",
          "2025-07-10T04:00:00",
          "2025-07-10T05:00:00",
          "2025-07-10T06:00:00",
          "2025-07-10T07:00:00",
          "2025-07-10T08:00:00",
          "2025-07-10T09:00:00",
          "2025-07-10T10:00:00",
          "2025-07-10T11:00:00",
          "2025-07-10T12:00:00",
          "2025-07-10T13:00:00",
          "2025-07-10T14:00:00",
          "2025-07-10T15:00:00",
          "2025-07-10T16:00:00",
          "2025-07-10T17:00:00",
          "2025-07-10T18:00:00",
          "2025-07-10T19:00:00",
          "2025-07-10T20:00:00",
          "2025-07-10T21:00:00",
          "2025-07-10T22:00:00",
          "2025-07-10T23:00:00",
          "2025-07-11T00:00:00",
          "2025-07-11T01:00:00",
          "2025-07-11T02:00:00",
          "2025-07-11T03:00:00",
          "2025-07-11T04:00:00",
          "2025-07-11T05:00:00",
          "2025-07-11T06:00:00",
          "2025-07-11T07:00:00",
          "2025-07-11T08:00:00",
          "2025-07-11T09:00:00",
          "2025-07-11T10:00:00",
          "2025-07-11T11:00:00",
          "2025-07-11T12:00:00",
          "2025-07-11T13:00:00",
          "2025-07-11T14:00:00",
          "2025-07-11T15:00:00",
          "2025-07-11T16:00:00",
          "2025-07-11T17:00:00",
          "2025-07-11T18:00:00",
          "2025-07-11T19:00:00",
          "2025-07-11T20:00:00",
          "2025-07-11T21:00:00",
          "2025-07-11T22:00:00",
          "2025-07-11T23:00:00",
          "2025-07-12T00:00:00",
          "2025-07-12T01:00:00",
          "2025-07-12T02:00:00",
          "2025-07-12T03:00:00",
          "2025-07-12T04:00:00",
          "2025-07-12T05:00:00",
          "2025-07-12T06:00:00",
          "2025-07-12T07:00:00",
          "2025-07-12T08:00:00",
          "2025-07-12T09:00:00",
          "2025-07-12T10:00:00",
          "2025-07-12T11:00:00",
          "2025-07-12T12:00:00",
          "2025-07-12T13:00:00",
          "2025-07-12T14:00:00",
          "2025-07-12T15:00:00",
          "2025-07-12T16:00:00",
          "2025-07-12T17:00:00",
          "2025-07-12T18:00:00",
          "2025-07-12T19:00:00",
          "2025-07-12T20:00:00",
          "2025-07-12T21:00:00",
          "2025-07-12T22:00:00",
          "2025-07-12T23:00:00",
          "2025-07-13T00:00:00",
          "2025-07-13T01:00:00",
          "2025-07-13T02:00:00",
          "2025-07-13T03:00:00",
          "2025-07-13T04:00:00",
          "2025-07-13T05:00:00",
          "2025-07-13T06:00:00",
          "2025-07-13T07:00:00",
          "2025-07-13T08:00:00",
          "2025-07-13T09:00:00",
          "2025-07-13T10:00:00",
          "2025-07-13T11:00:00",
          "2025-07-13T12:00:00",
          "2025-07-13T13:00:00",
          "2025-07-13T14:00:00",
          "2025-07-13T15:00:00",
          "2025-07-13T16:00:00",
          "2025-07-13T17:00:00",
          "2025-07-13T18:00:00"
         ],
         "xaxis": "x",
         "y": {
          "bdata": "AAAAkBBmcUAAAAAg3mxxQAAAAEBRY3FAAAAAwJVhcUAAAAAg9V9xQAAAAJAUX3FAAAAAUHxgcUAAAADgpWRxQAAAANBOZXFAAAAAAMNqcUAAAABgxWpxQAAAAFASa3FAAAAAIDtwcUAAAABwi3lxQAAAAKC0inFAAAAAIEmicUAAAADgkbRxQAAAAKDtw3FAAAAAQA/NcUAAAAAgsdRxQAAAADBX23FAAAAA0FTbcUAAAAAQu9dxQAAAADDjzHFAAAAAkGHAcUAAAADgkq5xQAAAANBBpXFAAAAAYJSacUAAAACQcJBxQAAAAGBniXFAAAAAwK6GcUAAAACQnoRxQAAAAOA4gnFAAAAAkAKAcUAAAADAknxxQAAAACBvjHFAAAAAcImicUAAAAAQULhxQAAAAGBo0HFAAAAAILDjcUAAAABgnvNxQAAAANAJAXJAAAAAEMQLckAAAABg6RByQAAAALDhD3JAAAAAsHsLckAAAAAgAAZyQAAAAMB5+3FAAAAAkJ7scUAAAADwd9hxQAAAAIBTzXFAAAAAsNTCcUAAAACQJbdxQAAAAJDQsHFAAAAAcC2rcUAAAACwyqlxQAAAAJB4pnFAAAAAwDmjcUAAAABQvaFxQAAAAKBPr3FAAAAAkHTBcUAAAACAKNZxQAAAAPD47XFAAAAAIJAAckAAAADQ6w1yQAAAAJCUF3JAAAAAEJ8dckAAAADwGiNyQAAAAOCQIHJAAAAAkCEeckAAAABw/BdyQAAAADBeDHJAAAAAUFb6cUAAAABAQeVxQAAAAMCA0XFAAAAAUMXHcUAAAABA2cZxQAAAAEARv3FAAAAAoDK5cUAAAABgybVxQAAAACBXsXFAAAAAAGGucUAAAABgPq1xQAAAACBiu3FAAAAAoNLQcUAAAACQMOZxQAAAAMAX/nFAAAAAgNIRckAAAACAOCNyQAAAAGAsLnJAAAAAMDQ2ckAAAAAQEThyQAAAABCPOHJAAAAAkOwyckAAAACgxClyQAAAAKBLIXJAAAAA4K8TckAAAAAQ+f1xQAAAAJBg4nFAAAAAsGjccUAAAADghtZxQAAAANAI03FAAAAAIMfOcUAAAADgHsxxQAAAAODFxnFAAAAAsPjEcUAAAADwn8RxQAAAAIAn1HFAAAAAUEfucUAAAACA5AdyQAAAAFDfHHJAAAAAsL0tckAAAADApT1yQAAAAICvSXJAAAAAoL9TckAAAACAu1lyQAAAACD9U3JAAAAAQO5JckAAAABAKUZyQAAAAKD6PHJAAAAAEOsrckA=",
          "dtype": "f8"
         },
         "yaxis": "y"
        },
        {
         "hovertemplate": "%{y:.2f}<extra>P<sub>75%</sub></extra>",
         "marker": {
          "color": "#ef9b20",
          "size": 0.00001
         },
         "mode": "markers",
         "type": "scatter",
         "x": [
          "2025-07-08T18:00:00",
          "2025-07-08T19:00:00",
          "2025-07-08T20:00:00",
          "2025-07-08T21:00:00",
          "2025-07-08T22:00:00",
          "2025-07-08T23:00:00",
          "2025-07-09T00:00:00",
          "2025-07-09T01:00:00",
          "2025-07-09T02:00:00",
          "2025-07-09T03:00:00",
          "2025-07-09T04:00:00",
          "2025-07-09T05:00:00",
          "2025-07-09T06:00:00",
          "2025-07-09T07:00:00",
          "2025-07-09T08:00:00",
          "2025-07-09T09:00:00",
          "2025-07-09T10:00:00",
          "2025-07-09T11:00:00",
          "2025-07-09T12:00:00",
          "2025-07-09T13:00:00",
          "2025-07-09T14:00:00",
          "2025-07-09T15:00:00",
          "2025-07-09T16:00:00",
          "2025-07-09T17:00:00",
          "2025-07-09T18:00:00",
          "2025-07-09T19:00:00",
          "2025-07-09T20:00:00",
          "2025-07-09T21:00:00",
          "2025-07-09T22:00:00",
          "2025-07-09T23:00:00",
          "2025-07-10T00:00:00",
          "2025-07-10T01:00:00",
          "2025-07-10T02:00:00",
          "2025-07-10T03:00:00",
          "2025-07-10T04:00:00",
          "2025-07-10T05:00:00",
          "2025-07-10T06:00:00",
          "2025-07-10T07:00:00",
          "2025-07-10T08:00:00",
          "2025-07-10T09:00:00",
          "2025-07-10T10:00:00",
          "2025-07-10T11:00:00",
          "2025-07-10T12:00:00",
          "2025-07-10T13:00:00",
          "2025-07-10T14:00:00",
          "2025-07-10T15:00:00",
          "2025-07-10T16:00:00",
          "2025-07-10T17:00:00",
          "2025-07-10T18:00:00",
          "2025-07-10T19:00:00",
          "2025-07-10T20:00:00",
          "2025-07-10T21:00:00",
          "2025-07-10T22:00:00",
          "2025-07-10T23:00:00",
          "2025-07-11T00:00:00",
          "2025-07-11T01:00:00",
          "2025-07-11T02:00:00",
          "2025-07-11T03:00:00",
          "2025-07-11T04:00:00",
          "2025-07-11T05:00:00",
          "2025-07-11T06:00:00",
          "2025-07-11T07:00:00",
          "2025-07-11T08:00:00",
          "2025-07-11T09:00:00",
          "2025-07-11T10:00:00",
          "2025-07-11T11:00:00",
          "2025-07-11T12:00:00",
          "2025-07-11T13:00:00",
          "2025-07-11T14:00:00",
          "2025-07-11T15:00:00",
          "2025-07-11T16:00:00",
          "2025-07-11T17:00:00",
          "2025-07-11T18:00:00",
          "2025-07-11T19:00:00",
          "2025-07-11T20:00:00",
          "2025-07-11T21:00:00",
          "2025-07-11T22:00:00",
          "2025-07-11T23:00:00",
          "2025-07-12T00:00:00",
          "2025-07-12T01:00:00",
          "2025-07-12T02:00:00",
          "2025-07-12T03:00:00",
          "2025-07-12T04:00:00",
          "2025-07-12T05:00:00",
          "2025-07-12T06:00:00",
          "2025-07-12T07:00:00",
          "2025-07-12T08:00:00",
          "2025-07-12T09:00:00",
          "2025-07-12T10:00:00",
          "2025-07-12T11:00:00",
          "2025-07-12T12:00:00",
          "2025-07-12T13:00:00",
          "2025-07-12T14:00:00",
          "2025-07-12T15:00:00",
          "2025-07-12T16:00:00",
          "2025-07-12T17:00:00",
          "2025-07-12T18:00:00",
          "2025-07-12T19:00:00",
          "2025-07-12T20:00:00",
          "2025-07-12T21:00:00",
          "2025-07-12T22:00:00",
          "2025-07-12T23:00:00",
          "2025-07-13T00:00:00",
          "2025-07-13T01:00:00",
          "2025-07-13T02:00:00",
          "2025-07-13T03:00:00",
          "2025-07-13T04:00:00",
          "2025-07-13T05:00:00",
          "2025-07-13T06:00:00",
          "2025-07-13T07:00:00",
          "2025-07-13T08:00:00",
          "2025-07-13T09:00:00",
          "2025-07-13T10:00:00",
          "2025-07-13T11:00:00",
          "2025-07-13T12:00:00",
          "2025-07-13T13:00:00",
          "2025-07-13T14:00:00",
          "2025-07-13T15:00:00",
          "2025-07-13T16:00:00",
          "2025-07-13T17:00:00",
          "2025-07-13T18:00:00"
         ],
         "xaxis": "x",
         "y": {
          "bdata": "AAAAqGFocUAAAAAAtW5xQAAAAHD6ZHFAAAAAgHVkcUAAAAAIe2JxQAAAAHinYHFAAAAAkMtjcUAAAADgZGhxQAAAAKAoa3FAAAAA6JBscUAAAADYvG9xQAAAAOAScHFAAAAAeOx0cUAAAADQUHxxQAAAABDVjXFAAAAA2KejcUAAAAAAj7dxQAAAAKj/xXFAAAAAAG7QcUAAAADg8dhxQAAAACCr3HFAAAAAaN3dcUAAAACQ2tlxQAAAAHh+z3FAAAAAoBvCcUAAAABYbLFxQAAAAPCIp3FAAAAAgFugcUAAAABY/5RxQAAAAJBFkHFAAAAAsBiKcUAAAABwXodxQAAAACiWhHFAAAAAaJuBcUAAAABoiX5xQAAAALjjjnFAAAAAINqjcUAAAAD4wLlxQAAAAEA90XFAAAAAEMjlcUAAAAAotPZxQAAAAAjSA3JAAAAAmPwMckAAAAAw7xNyQAAAAEjRFHJAAAAAAP8PckAAAADQdglyQAAAAPjV/nFAAAAAEBrvcUAAAAAIhdpxQAAAAKBiz3FAAAAAQKLEcUAAAAB4KrtxQAAAAMh2tHFAAAAAaDCucUAAAACIpqxxQAAAABA2qXFAAAAAUHmncUAAAADYoaRxQAAAALg9snFAAAAAWLDEcUAAAACYlNhxQAAAAMDx8HFAAAAAKIQBckAAAADgThFyQAAAAOjMG3JAAAAAaHUjckAAAADIzyVyQAAAADgzJnJAAAAAIJIjckAAAAB4kBtyQAAAAMhkEHJAAAAAgHL+cUAAAACYB+pxQAAAADj92XFAAAAAELzRcUAAAABQQ8pxQAAAABh7xnFAAAAAgNnDcUAAAACwvb5xQAAAAHi1tnFAAAAAiO20cUAAAAAoibFxQAAAADiHwXFAAAAA8BrWcUAAAADQ0OhxQAAAACDrAnJAAAAAmLEXckAAAABoNipyQAAAAFCWNnJAAAAAiOk+ckAAAACYM0ByQAAAAPg6QXJAAAAAEGs8ckAAAABQ5zNyQAAAAPCEKXJAAAAAgG0YckAAAABo8gJyQAAAADjz6HFAAAAAuMbhcUAAAAAoJ9pxQAAAAJCn1XFAAAAAUCTTcUAAAACQdtBxQAAAAID5zXFAAAAASAHPcUAAAABgX85xQAAAAJB23XFAAAAAYEb3cUAAAADoGxByQAAAAHiGJXJAAAAAmEw7ckAAAADAeEtyQAAAAHDhVXJAAAAAyK9gckAAAAD4TGVyQAAAACjgX3JAAAAAeGJYckAAAACYFU9yQAAAAEAXQnJAAAAAKHMwckA=",
          "dtype": "f8"
         },
         "yaxis": "y"
        },
        {
         "hovertemplate": "%{y:.2f}<extra>P<sub>90%</sub></extra>",
         "marker": {
          "color": "#ef9b20",
          "size": 0.00001
         },
         "mode": "markers",
         "type": "scatter",
         "x": [
          "2025-07-08T18:00:00",
          "2025-07-08T19:00:00",
          "2025-07-08T20:00:00",
          "2025-07-08T21:00:00",
          "2025-07-08T22:00:00",
          "2025-07-08T23:00:00",
          "2025-07-09T00:00:00",
          "2025-07-09T01:00:00",
          "2025-07-09T02:00:00",
          "2025-07-09T03:00:00",
          "2025-07-09T04:00:00",
          "2025-07-09T05:00:00",
          "2025-07-09T06:00:00",
          "2025-07-09T07:00:00",
          "2025-07-09T08:00:00",
          "2025-07-09T09:00:00",
          "2025-07-09T10:00:00",
          "2025-07-09T11:00:00",
          "2025-07-09T12:00:00",
          "2025-07-09T13:00:00",
          "2025-07-09T14:00:00",
          "2025-07-09T15:00:00",
          "2025-07-09T16:00:00",
          "2025-07-09T17:00:00",
          "2025-07-09T18:00:00",
          "2025-07-09T19:00:00",
          "2025-07-09T20:00:00",
          "2025-07-09T21:00:00",
          "2025-07-09T22:00:00",
          "2025-07-09T23:00:00",
          "2025-07-10T00:00:00",
          "2025-07-10T01:00:00",
          "2025-07-10T02:00:00",
          "2025-07-10T03:00:00",
          "2025-07-10T04:00:00",
          "2025-07-10T05:00:00",
          "2025-07-10T06:00:00",
          "2025-07-10T07:00:00",
          "2025-07-10T08:00:00",
          "2025-07-10T09:00:00",
          "2025-07-10T10:00:00",
          "2025-07-10T11:00:00",
          "2025-07-10T12:00:00",
          "2025-07-10T13:00:00",
          "2025-07-10T14:00:00",
          "2025-07-10T15:00:00",
          "2025-07-10T16:00:00",
          "2025-07-10T17:00:00",
          "2025-07-10T18:00:00",
          "2025-07-10T19:00:00",
          "2025-07-10T20:00:00",
          "2025-07-10T21:00:00",
          "2025-07-10T22:00:00",
          "2025-07-10T23:00:00",
          "2025-07-11T00:00:00",
          "2025-07-11T01:00:00",
          "2025-07-11T02:00:00",
          "2025-07-11T03:00:00",
          "2025-07-11T04:00:00",
          "2025-07-11T05:00:00",
          "2025-07-11T06:00:00",
          "2025-07-11T07:00:00",
          "2025-07-11T08:00:00",
          "2025-07-11T09:00:00",
          "2025-07-11T10:00:00",
          "2025-07-11T11:00:00",
          "2025-07-11T12:00:00",
          "2025-07-11T13:00:00",
          "2025-07-11T14:00:00",
          "2025-07-11T15:00:00",
          "2025-07-11T16:00:00",
          "2025-07-11T17:00:00",
          "2025-07-11T18:00:00",
          "2025-07-11T19:00:00",
          "2025-07-11T20:00:00",
          "2025-07-11T21:00:00",
          "2025-07-11T22:00:00",
          "2025-07-11T23:00:00",
          "2025-07-12T00:00:00",
          "2025-07-12T01:00:00",
          "2025-07-12T02:00:00",
          "2025-07-12T03:00:00",
          "2025-07-12T04:00:00",
          "2025-07-12T05:00:00",
          "2025-07-12T06:00:00",
          "2025-07-12T07:00:00",
          "2025-07-12T08:00:00",
          "2025-07-12T09:00:00",
          "2025-07-12T10:00:00",
          "2025-07-12T11:00:00",
          "2025-07-12T12:00:00",
          "2025-07-12T13:00:00",
          "2025-07-12T14:00:00",
          "2025-07-12T15:00:00",
          "2025-07-12T16:00:00",
          "2025-07-12T17:00:00",
          "2025-07-12T18:00:00",
          "2025-07-12T19:00:00",
          "2025-07-12T20:00:00",
          "2025-07-12T21:00:00",
          "2025-07-12T22:00:00",
          "2025-07-12T23:00:00",
          "2025-07-13T00:00:00",
          "2025-07-13T01:00:00",
          "2025-07-13T02:00:00",
          "2025-07-13T03:00:00",
          "2025-07-13T04:00:00",
          "2025-07-13T05:00:00",
          "2025-07-13T06:00:00",
          "2025-07-13T07:00:00",
          "2025-07-13T08:00:00",
          "2025-07-13T09:00:00",
          "2025-07-13T10:00:00",
          "2025-07-13T11:00:00",
          "2025-07-13T12:00:00",
          "2025-07-13T13:00:00",
          "2025-07-13T14:00:00",
          "2025-07-13T15:00:00",
          "2025-07-13T16:00:00",
          "2025-07-13T17:00:00",
          "2025-07-13T18:00:00"
         ],
         "xaxis": "x",
         "y": {
          "bdata": "zczMbBNrcUDNzMzcgXBxQDMzMzPkZnFAZmZmZk9mcUBmZma272RxQM3MzAzTYnFAAAAA0NRmcUDNzMwsLGtxQDMzM7MKbHFAmpmZeettcUDNzMwMBHFxQAAAAHBcc3FAmpmZyV93cUDNzMxsjn1xQAAAABBBkXFAmpmZOV2lcUAAAACAD7lxQAAAAIBsx3FAMzMzQ3XScUCamZnJgtxxQGZmZlY13nFAzczM3A7fcUCamZnZqttxQDMzM4Ns0HFAZmZmhkfDcUAzMzNjfrJxQJqZmZl7qnFAmpmZ+eOkcUAAAABgcJxxQDMzMwMsl3FAzczMHDuQcUBmZmamRo1xQDMzMzPcinFAzczMPIiIcUCamZlJ3IVxQGZmZpbmkHFAmpmZeWGkcUCamZmZsrpxQGZmZsb70nFAzczMDDHncUAAAACgIfdxQM3MzByoBnJAMzMzA5gQckDNzMwsLBZyQGZmZsbhF3JAzczMzFEUckAzMzOT+QtyQDMzM6MaAXJAMzMz0/DxcUCamZkZ9dxxQDMzM8M30XFAMzMz07TFcUCamZl5c71xQJqZmen5tnFAAAAAEKexcUAAAAAwe69xQGZmZsZ6qnFAzczM/OGocUAAAADwo6VxQAAAAFA2tXFAMzMzA4fHcUCamZkpw9pxQM3MzMwp8nFAmpmZWdEGckAAAAAAWRZyQGZmZmaII3JAMzMzk+YqckAzMzODVy9yQGZmZsb2LXJAMzMz06YockBmZma2jR9yQM3MzJyTFHJAMzMzc+cBckBmZmYGe+xxQM3MzCyu3HFAZmZmFn/XcUAAAACQx81xQDMzM9N9yHFAmpmZWX3IcUDNzMzcusNxQM3MzKzVvnFAmpmZ+Yi6cUDNzMy8frhxQJqZmbnQxHFAzczM7JbacUAzMzNTKO5xQJqZmUl2CXJAzczMbFUdckAAAADAXi5yQGZmZlZSOnJAAAAA0O9EckBmZma230hyQDMzMyNISXJAZmZmVvFFckCamZlp2TxyQGZmZpbGL3JAmpmZeQcgckBmZmZWAwtyQDMzM3PE8HFAAAAAoI3qcUAAAAAgceNxQGZmZqYZ4HFAmpmZyVfYcUCamZlJFddxQM3MzAzW03FAAAAAIEbUcUAzMzMTe9JxQAAAAHBC33FAMzMzo/H6cUAzMzNzDhRyQGZmZha9KXJAMzMzA7Y+ckBmZma28E5yQGZmZsZXXHJAMzMzs0xmckAAAABAh2pyQDMzM1NuaHJAZmZm1ihhckBmZmZGllRyQAAAAACbTHJAMzMzg2k9ckA=",
          "dtype": "f8"
         },
         "yaxis": "y"
        },
        {
         "hovertemplate": "%{y:.2f}<extra>P<sub>100%</sub></extra>",
         "marker": {
          "color": "#ef9b20",
          "size": 0.00001
         },
         "mode": "markers",
         "type": "scatter",
         "x": [
          "2025-07-08T18:00:00",
          "2025-07-08T19:00:00",
          "2025-07-08T20:00:00",
          "2025-07-08T21:00:00",
          "2025-07-08T22:00:00",
          "2025-07-08T23:00:00",
          "2025-07-09T00:00:00",
          "2025-07-09T01:00:00",
          "2025-07-09T02:00:00",
          "2025-07-09T03:00:00",
          "2025-07-09T04:00:00",
          "2025-07-09T05:00:00",
          "2025-07-09T06:00:00",
          "2025-07-09T07:00:00",
          "2025-07-09T08:00:00",
          "2025-07-09T09:00:00",
          "2025-07-09T10:00:00",
          "2025-07-09T11:00:00",
          "2025-07-09T12:00:00",
          "2025-07-09T13:00:00",
          "2025-07-09T14:00:00",
          "2025-07-09T15:00:00",
          "2025-07-09T16:00:00",
          "2025-07-09T17:00:00",
          "2025-07-09T18:00:00",
          "2025-07-09T19:00:00",
          "2025-07-09T20:00:00",
          "2025-07-09T21:00:00",
          "2025-07-09T22:00:00",
          "2025-07-09T23:00:00",
          "2025-07-10T00:00:00",
          "2025-07-10T01:00:00",
          "2025-07-10T02:00:00",
          "2025-07-10T03:00:00",
          "2025-07-10T04:00:00",
          "2025-07-10T05:00:00",
          "2025-07-10T06:00:00",
          "2025-07-10T07:00:00",
          "2025-07-10T08:00:00",
          "2025-07-10T09:00:00",
          "2025-07-10T10:00:00",
          "2025-07-10T11:00:00",
          "2025-07-10T12:00:00",
          "2025-07-10T13:00:00",
          "2025-07-10T14:00:00",
          "2025-07-10T15:00:00",
          "2025-07-10T16:00:00",
          "2025-07-10T17:00:00",
          "2025-07-10T18:00:00",
          "2025-07-10T19:00:00",
          "2025-07-10T20:00:00",
          "2025-07-10T21:00:00",
          "2025-07-10T22:00:00",
          "2025-07-10T23:00:00",
          "2025-07-11T00:00:00",
          "2025-07-11T01:00:00",
          "2025-07-11T02:00:00",
          "2025-07-11T03:00:00",
          "2025-07-11T04:00:00",
          "2025-07-11T05:00:00",
          "2025-07-11T06:00:00",
          "2025-07-11T07:00:00",
          "2025-07-11T08:00:00",
          "2025-07-11T09:00:00",
          "2025-07-11T10:00:00",
          "2025-07-11T11:00:00",
          "2025-07-11T12:00:00",
          "2025-07-11T13:00:00",
          "2025-07-11T14:00:00",
          "2025-07-11T15:00:00",
          "2025-07-11T16:00:00",
          "2025-07-11T17:00:00",
          "2025-07-11T18:00:00",
          "2025-07-11T19:00:00",
          "2025-07-11T20:00:00",
          "2025-07-11T21:00:00",
          "2025-07-11T22:00:00",
          "2025-07-11T23:00:00",
          "2025-07-12T00:00:00",
          "2025-07-12T01:00:00",
          "2025-07-12T02:00:00",
          "2025-07-12T03:00:00",
          "2025-07-12T04:00:00",
          "2025-07-12T05:00:00",
          "2025-07-12T06:00:00",
          "2025-07-12T07:00:00",
          "2025-07-12T08:00:00",
          "2025-07-12T09:00:00",
          "2025-07-12T10:00:00",
          "2025-07-12T11:00:00",
          "2025-07-12T12:00:00",
          "2025-07-12T13:00:00",
          "2025-07-12T14:00:00",
          "2025-07-12T15:00:00",
          "2025-07-12T16:00:00",
          "2025-07-12T17:00:00",
          "2025-07-12T18:00:00",
          "2025-07-12T19:00:00",
          "2025-07-12T20:00:00",
          "2025-07-12T21:00:00",
          "2025-07-12T22:00:00",
          "2025-07-12T23:00:00",
          "2025-07-13T00:00:00",
          "2025-07-13T01:00:00",
          "2025-07-13T02:00:00",
          "2025-07-13T03:00:00",
          "2025-07-13T04:00:00",
          "2025-07-13T05:00:00",
          "2025-07-13T06:00:00",
          "2025-07-13T07:00:00",
          "2025-07-13T08:00:00",
          "2025-07-13T09:00:00",
          "2025-07-13T10:00:00",
          "2025-07-13T11:00:00",
          "2025-07-13T12:00:00",
          "2025-07-13T13:00:00",
          "2025-07-13T14:00:00",
          "2025-07-13T15:00:00",
          "2025-07-13T16:00:00",
          "2025-07-13T17:00:00",
          "2025-07-13T18:00:00"
         ],
         "xaxis": "x",
         "y": {
          "bdata": "AAAAgCBscUAAAABgEndxQAAAAODTb3FAAAAAAJxpcUAAAABgRmxxQAAAAIBwZnFAAAAAQE1tcUAAAACgXG5xQAAAAIDhbnFAAAAAIDdycUAAAADgbnRxQAAAAIB/d3FAAAAAgN94cUAAAAAgSoBxQAAAAKC8kXFAAAAAAJaqcUAAAAAAGLpxQAAAAGDxyXFAAAAAAITTcUAAAACgtNxxQAAAAMBr5HFAAAAA4KzkcUAAAAAgfd1xQAAAAACx0XFAAAAAIIbEcUAAAAAg+rdxQAAAAOAsrHFAAAAA4I2lcUAAAAAAc55xQAAAAOByl3FAAAAAQPKVcUAAAADg5ZFxQAAAAIBdkHFAAAAAgMmPcUAAAACgFIxxQAAAAIA2lHFAAAAAIBGocUAAAACA37txQAAAAACE03FAAAAAgNHqcUAAAAAgtP1xQAAAAIDdC3JAAAAAALMVckAAAACAiBtyQAAAACDCG3JAAAAAgHEYckAAAACgYhFyQAAAAACZBXJAAAAAgGn1cUAAAAAA9d9xQAAAAEB303FAAAAAAFHHcUAAAABA7r5xQAAAAOBRuHFAAAAAgIKzcUAAAABgOLBxQAAAAECArXFAAAAAACypcUAAAABATKhxQAAAAAC6tXFAAAAAoNnHcUAAAACgI9xxQAAAAGDo9XFAAAAAILILckAAAAAAPB5yQAAAAEBdK3JAAAAAQJ4zckAAAADAlDdyQAAAAIBqNnJAAAAAwLovckAAAABANSZyQAAAAEAVG3JAAAAAAIQLckAAAADg1vNxQAAAAMBR33FAAAAAYHzacUAAAACA09hxQAAAACBL0nFAAAAAAMXLcUAAAACgactxQAAAAEAvwHFAAAAAYIbBcUAAAADA7sBxQAAAAKCdzHFAAAAAgFzdcUAAAAAA8PRxQAAAAOCBD3JAAAAAQNUlckAAAACgUzZyQAAAAOAUQHJAAAAAoDFIckAAAADgXEtyQAAAAKAQTXJAAAAAIIxJckAAAACA6T9yQAAAAECZNHJAAAAAwCcjckAAAACADg5yQAAAAGBu+XFAAAAA4JLxcUAAAABA2+1xQAAAAGA36HFAAAAAIMfmcUAAAACgDeFxQAAAAECX5HFAAAAAoGXjcUAAAAAAj9xxQAAAAGAY6HFAAAAA4M8CckAAAABARR9yQAAAAMCwMnJAAAAAoFBDckAAAACg7FRyQAAAAABRZHJAAAAAACxuckAAAADAUXNyQAAAAABndHJAAAAAAAZzckAAAACgCWxyQAAAAGC2X3JAAAAA4NdHckA=",
          "dtype": "f8"
         },
         "yaxis": "y"
        },
        {
         "line": {
          "color": "grey"
         },
         "name": "mean",
         "type": "scatter",
         "x": [
          "2025-07-08T18:00:00",
          "2025-07-08T19:00:00",
          "2025-07-08T20:00:00",
          "2025-07-08T21:00:00",
          "2025-07-08T22:00:00",
          "2025-07-08T23:00:00",
          "2025-07-09T00:00:00",
          "2025-07-09T01:00:00",
          "2025-07-09T02:00:00",
          "2025-07-09T03:00:00",
          "2025-07-09T04:00:00",
          "2025-07-09T05:00:00",
          "2025-07-09T06:00:00",
          "2025-07-09T07:00:00",
          "2025-07-09T08:00:00",
          "2025-07-09T09:00:00",
          "2025-07-09T10:00:00",
          "2025-07-09T11:00:00",
          "2025-07-09T12:00:00",
          "2025-07-09T13:00:00",
          "2025-07-09T14:00:00",
          "2025-07-09T15:00:00",
          "2025-07-09T16:00:00",
          "2025-07-09T17:00:00",
          "2025-07-09T18:00:00",
          "2025-07-09T19:00:00",
          "2025-07-09T20:00:00",
          "2025-07-09T21:00:00",
          "2025-07-09T22:00:00",
          "2025-07-09T23:00:00",
          "2025-07-10T00:00:00",
          "2025-07-10T01:00:00",
          "2025-07-10T02:00:00",
          "2025-07-10T03:00:00",
          "2025-07-10T04:00:00",
          "2025-07-10T05:00:00",
          "2025-07-10T06:00:00",
          "2025-07-10T07:00:00",
          "2025-07-10T08:00:00",
          "2025-07-10T09:00:00",
          "2025-07-10T10:00:00",
          "2025-07-10T11:00:00",
          "2025-07-10T12:00:00",
          "2025-07-10T13:00:00",
          "2025-07-10T14:00:00",
          "2025-07-10T15:00:00",
          "2025-07-10T16:00:00",
          "2025-07-10T17:00:00",
          "2025-07-10T18:00:00",
          "2025-07-10T19:00:00",
          "2025-07-10T20:00:00",
          "2025-07-10T21:00:00",
          "2025-07-10T22:00:00",
          "2025-07-10T23:00:00",
          "2025-07-11T00:00:00",
          "2025-07-11T01:00:00",
          "2025-07-11T02:00:00",
          "2025-07-11T03:00:00",
          "2025-07-11T04:00:00",
          "2025-07-11T05:00:00",
          "2025-07-11T06:00:00",
          "2025-07-11T07:00:00",
          "2025-07-11T08:00:00",
          "2025-07-11T09:00:00",
          "2025-07-11T10:00:00",
          "2025-07-11T11:00:00",
          "2025-07-11T12:00:00",
          "2025-07-11T13:00:00",
          "2025-07-11T14:00:00",
          "2025-07-11T15:00:00",
          "2025-07-11T16:00:00",
          "2025-07-11T17:00:00",
          "2025-07-11T18:00:00",
          "2025-07-11T19:00:00",
          "2025-07-11T20:00:00",
          "2025-07-11T21:00:00",
          "2025-07-11T22:00:00",
          "2025-07-11T23:00:00",
          "2025-07-12T00:00:00",
          "2025-07-12T01:00:00",
          "2025-07-12T02:00:00",
          "2025-07-12T03:00:00",
          "2025-07-12T04:00:00",
          "2025-07-12T05:00:00",
          "2025-07-12T06:00:00",
          "2025-07-12T07:00:00",
          "2025-07-12T08:00:00",
          "2025-07-12T09:00:00",
          "2025-07-12T10:00:00",
          "2025-07-12T11:00:00",
          "2025-07-12T12:00:00",
          "2025-07-12T13:00:00",
          "2025-07-12T14:00:00",
          "2025-07-12T15:00:00",
          "2025-07-12T16:00:00",
          "2025-07-12T17:00:00",
          "2025-07-12T18:00:00",
          "2025-07-12T19:00:00",
          "2025-07-12T20:00:00",
          "2025-07-12T21:00:00",
          "2025-07-12T22:00:00",
          "2025-07-12T23:00:00",
          "2025-07-13T00:00:00",
          "2025-07-13T01:00:00",
          "2025-07-13T02:00:00",
          "2025-07-13T03:00:00",
          "2025-07-13T04:00:00",
          "2025-07-13T05:00:00",
          "2025-07-13T06:00:00",
          "2025-07-13T07:00:00",
          "2025-07-13T08:00:00",
          "2025-07-13T09:00:00",
          "2025-07-13T10:00:00",
          "2025-07-13T11:00:00",
          "2025-07-13T12:00:00",
          "2025-07-13T13:00:00",
          "2025-07-13T14:00:00",
          "2025-07-13T15:00:00",
          "2025-07-13T16:00:00",
          "2025-07-13T17:00:00",
          "2025-07-13T18:00:00"
         ],
         "y": {
          "bdata": "mpmZIS9mcUBmZmb+H21xQGZmZo5hY3FAMzMzW91hcUBmZmYWz2BxQGZmZvaIXnFAAAAAiBZhcUBmZmYWnGRxQJqZmYlhZXFAAAAAYF5ocUAzMzMLGWpxQDMzM1O4a3FAmpmZyX9wcUCamZnZAHhxQJqZmZF8iHFAmpmZcb2gcUCamZlxlrNxQGZmZu4QwnFAZmZmVt3LcUBmZmZm99NxQGZmZq6K2XFAmpmZ2ULbcUBmZmbuXddxQM3MzNTPzHFAAAAAQLS/cUDNzMy8HK9xQJqZmXkRpHFAzczM/NCacUDNzMwUOpJxQAAAAIDxjHFAZmZm9vuHcUCamZk5HoVxQJqZmbnkgnFAmpmZ6XGAcUCamZkR7n1xQM3MzOSzjHFAMzMzYxiicUAAAAAI8LdxQJqZmSkB0HFAMzMzA0DjcUAzMzMjq/NxQM3MzLwkAXJAmpmZKYQKckDNzMw0DxByQGZmZt7fDnJAAAAAELILckCamZkx2AVyQDMzM8va+3FAMzMzO7PscUBmZmauvtdxQDMzMxuty3FAZmZmDkC/cUAAAACI7rVxQGZmZlYGsHFAAAAAyFercUCamZkp3ahxQGZmZsYJpnFAZmZmriKjcUAAAAC476BxQAAAALBcr3FAAAAA6NHBcUCamZlRn9VxQDMzMzMX7XFAZmZmXqj+cUAzMzM7GQtyQAAAAPg1E3JAmpmZ0VIackAzMzO7Sx5yQAAAALBBH3JAZmZm1vYackAAAACAZhRyQGZmZka+CHJAAAAA2Pb3cUCamZlxPORxQAAAAHAO0XFAmpmZgVzJcUBmZmY+scNxQAAAAMDKvnFAzczMxLe5cUBmZmZGh7VxQDMzMwuwsHFAZmZmvkyucUCamZkhfKxxQJqZmVnsunFAzczMPMrPcUCamZmRI+RxQAAAANDg/XFAzczMHJQSckDNzMwcziJyQDMzMzuZLXJAZmZmtig1ckCamZm50jVyQJqZmXGuMnJAMzMz408uckAzMzNL9iZyQJqZmWEWH3JAMzMzmxARckAAAADg1fxxQDMzM+Oy5HFAzczMJNPccUAAAABYUtdxQM3MzJwN03FAZmZmphDPcUBmZmZm08txQJqZmal2yXFAmpmZkajHcUBmZmbWrsZxQM3MzEQq1nFAzczMrN/vcUBmZmZmrAhyQDMzM7MMH3JAzczMVLUxckCamZkJLT9yQGZmZibfS3JAZmZmdkRSckBmZmZWM1JyQM3MzHRsU3JAAAAAoHNKckCamZlJ6kZyQDMzM5s4PHJAZmZmDkIqckA=",
          "dtype": "f8"
         }
        },
        {
         "fillcolor": "#B1B6FC",
         "hoverinfo": "skip",
         "line": {
          "color": "#27aeef"
         },
         "lowerfence": {
          "bdata": "AAAAkA9zckAAAAAQb2hyQAAAAIAhYnJAAAAAwNJfckAAAACQ+W5yQAAAAHDPh3JAAAAAAOOeckAAAACA6a9yQAAAAKAStHJAAAAA8G7GckAAAADQyN5yQAAAAGCI+HJAAAAAINP8ckAAAAAQLvJyQAAAAEBR3HJAAAAAgNjIckAAAABgyrRyQAAAAFCotXJAAAAAcN+wckAAAAAQrKpyQAAAAADNonJAAAAA4JeYckAAAAAw9Y1yQAAAAGAShnJAAAAA8F6BckAAAADQCXxyQAAAAAAGdHJAAAAAQK9zckAAAADAfoNyQAAAACDAlHJAAAAAIO+qckAAAADApsNyQAAAALD513JAAAAAIODnckAAAADAbvJyQAAAAIBr+nJAAAAAwCH3ckAAAACQ0fpyQAAAAMB+5nJAAAAAsMx3ckAAAACwl2JyQAAAABAvaXJAAAAAQI17ckAAAADAjXxyQAAAALAwdXJAAAAAgIh9ckAAAABgun5yQAAAAJBPhXJAAAAAQK2FckAAAADgyn1yQAAAAAAXe3JAAAAAoEZxckAAAADQh3ZyQAAAAPCziXJAAAAAMICdckAAAADg2rJyQAAAABAgzXJAAAAAsC7gckAAAABwUvhyQAAAAIAGAXNAAAAA8DAIc0AAAADw0ftyQAAAAFCT53JAAAAA4IfNckAAAAAA9cRyQAAAAEAKtXJAAAAAsPajckAAAABgBp1yQAAAAEAtlnJAAAAAADCJckAAAABgZIFyQAAAALAUenJAAAAAgCBzckAAAACwhWxyQAAAAEBjZ3JAAAAA0KNgckAAAADAnWhyQAAAAICme3JAAAAAUMWRckAAAACgArByQAAAAMBzynJAAAAAkMjeckAAAADw4/JyQAAAAKCW3nJAAAAAgKztckAAAADA+t1yQAAAACD+vnJAAAAAcKBrckAAAAAwmWxyQAAAAADpdXJAAAAA4FuEckAAAABAKXdyQAAAAKCPZXJAAAAAAMtbckAAAABQCo1yQAAAAAALt3JAAAAA4BnhckAAAAAQqrVyQAAAAEC+lnJAAAAAwOCCckAAAABQVnRyQAAAAFCFbXJAAAAAMK6eckAAAADwz+FyQAAAAIAT6nJAAAAAMJK4ckAAAABwLJxyQAAAAIDliHJAAAAAoCCBckAAAABwl5JyQAAAABDExXJAAAAAcPOUckAAAABg3X5yQAAAAKDvhnJAAAAAMO3rckAAAAAg/qdyQAAAAFB0hXJAAAAAYMqfckAAAAAAI/hyQAAAAIBCsHJAAAAAIFx+ckAAAACQcppyQAAAAKBL43JAAAAAEFuLckAAAABAtmJyQAAAAJBGmnJAAAAAEN/mckAAAACAVp9yQAAAAHDqcHJAAAAAcMOZckAAAABg6AlzQAAAANBwpHJAAAAAUGhjckAAAAAwk5RyQAAAAOAtCHNAAAAAoMi5ckAAAABApHRyQAAAAKDTiXJAAAAAAFv6ckAAAADAcbRyQAAAACBKfHJAAAAA8Nl0ckAAAADgLfNyQAAAAED5n3JAAAAA0ExuckA=",
          "dtype": "f8"
         },
         "median": {
          "bdata": "AAAAuMmKckAAAABgPYByQAAAADjdeXJAAAAA6M11ckAAAADQo4JyQAAAAIB7l3JAAAAAIByvckAAAADwicxyQAAAANDK4HJAAAAA2Lz4ckAAAAAAAgxzQAAAAAgIF3NAAAAAULEVc0AAAABASwpzQAAAAKCI/XJAAAAAEF7tckAAAABwN99yQAAAAMiR0XJAAAAAqJPIckAAAACAiMByQAAAACjhtXJAAAAAOMOtckAAAACQV6ZyQAAAANDdnXJAAAAAMEqYckAAAACA6ZFyQAAAANiui3JAAAAAcByHckAAAADARJVyQAAAAIj8pXJAAAAAeLi7ckAAAADAm9ZyQAAAABgS8XJAAAAA8HUHc0AAAACoWBZzQAAAAMBXG3NAAAAACDcfc0AAAACAiRdzQAAAACgEDnNAAAAA+Nf+ckAAAAA4qO9yQAAAAJhL3nJAAAAAwLjTckAAAAAYRslyQAAAAKAkv3JAAAAA6IizckAAAACQWKlyQAAAALBsn3JAAAAAWICWckAAAADI9JByQAAAAMhWjXJAAAAAiPmLckAAAAAYkJlyQAAAAHAGrnJAAAAAqHi/ckAAAADwqNJyQAAAANC67HJAAAAACLQDc0AAAADIxBRzQAAAAMCtInNAAAAASHArc0AAAADwuChzQAAAADiEIHNAAAAA+KETc0AAAAB4TAJzQAAAACgU7XJAAAAAWPnackAAAABYRcpyQAAAAGB0vHJAAAAAKMGwckAAAACgyKVyQAAAAHDUm3JAAAAAsFSUckAAAACQIY1yQAAAAFjYhXJAAAAAGCSCckAAAACwfY5yQAAAADCxnnJAAAAAiPm1ckAAAACoRc9yQAAAAAhD63JAAAAA0LP+ckAAAAAA6Q1zQAAAAECyGXNAAAAAADofc0AAAABg2xlzQAAAAPjVD3NAAAAAUAf/ckAAAAAYhOxyQAAAAJAj2nJAAAAAMHfLckAAAABgralyQAAAAJA4jHJAAAAAmER+ckAAAACQmrByQAAAAEDPAXNAAAAAMH0kc0AAAABgXAdzQAAAAEiJ13JAAAAAgICwckAAAAAQCJdyQAAAAMDyiHJAAAAAsKK+ckAAAACgsgpzQAAAAGBMLHNAAAAAUNQMc0AAAAAQ+tpyQAAAAEAWtXJAAAAAeAKgckAAAACIDb1yQAAAAKgMKXNAAAAA8FPZckAAAAAw46JyQAAAAIijvnJAAAAAmK4oc0AAAAA4RdtyQAAAAKgJpXJAAAAAkFDJckAAAADQGTNzQAAAADg75XJAAAAAEAGrckAAAAD4xMdyQAAAAFjmLHNAAAAAcH3gckAAAABo0qFyQAAAAChGwHJAAAAA2Igvc0AAAADo591yQAAAALiQmXJAAAAAUIK+ckAAAADgyjdzQAAAAKD05nJAAAAACPyackAAAADANcFyQAAAALChNnNAAAAAAD/qckAAAAA4r5xyQAAAAIg7wnJAAAAAEEQ4c0AAAAD4XO1yQAAAAIiWonJAAAAAoLLCckAAAAAIZy5zQAAAAAgI5XJAAAAAEFGcckA=",
          "dtype": "f8"
         },
         "q1": {
          "bdata": "zczMxAx/ckCamZkBAndyQDMzM8sacXJAAAAAoDBtckCamZn5nHZyQM3MzFw8jHJAMzMz236kckAzMzOjjsByQM3MzJRU1HJAzczM9OrnckBmZmZuMv5yQJqZmWHmBHNAZmZmVq4Fc0AzMzOjLP5yQM3MzNRo5nJAmpmZaQ7ackDNzMx8189yQDMzM0s2wHJAAAAAMFW6ckCamZmpnrJyQAAAAGDmq3JAAAAAoKugckAzMzPzIplyQJqZmTGsj3JAmpmZaSKJckDNzMyMGIRyQDMzMzslgHJAmpmZGVR8ckDNzMwUbotyQJqZmWGLm3JAMzMz84GzckAzMzNjU8hyQDMzM/N04HJAzczMzNL0ckDNzMz0nf9yQDMzM/O+AnNAzczM7LMGc0DNzMykVAlzQJqZmTkH/HJAMzMzgwHickAAAAAAXd9yQJqZmamd0nJAzczMxN3GckCamZlZN7tyQAAAAChor3JAzczMlP6kckBmZmb2a5pyQAAAAIgqlHJAZmZmnluKckCamZmZboZyQM3MzCSVgHJAMzMzs8B8ckCamZnxOY5yQGZmZmZklXJAmpmZebqrckCamZkRHMlyQM3MzNwm5XJAzczM3Mz7ckDNzMxkXgxzQAAAALi2GHNAzczMnIkgc0DNzMyUeB1zQAAAAIhDF3NAZmZmVoMHc0CamZkJivNyQM3MzLRC3XJAAAAAuHjMckDNzMzsc8FyQAAAADhPtHJAAAAAaK+nckBmZmYWaptyQAAAADhCknJAZmZmrryIckAzMzPj/YFyQAAAAABve3JAAAAAGBl3ckCamZmR2XxyQDMzMwNHjnJAZmZm7vykckBmZmbW279yQJqZmVnb1nJAAAAAsJDtckBmZmY2Z/xyQM3MzASpB3NAMzMzMxAMc0AzMzPLbgdzQAAAAOCP83JAZmZmnl3pckDNzMwc0NdyQGZmZqbax3JAmpmZIem6ckCamZl5D5hyQJqZmZEXe3JAzczMvDhrckAAAAAYUaNyQGZmZpZE7nJAmpmZId8Ic0DNzMwsmfFyQM3MzFy1x3JAMzMz29+lckCamZmhcYlyQM3MzAyqenJAmpmZ6emxckBmZmbWEfdyQM3MzBQbF3NAAAAA+AHyckCamZl5FMlyQM3MzDTOpnJAMzMz44qSckDNzMzExKxyQGZmZqaQC3NAAAAAML7FckCamZkZcZByQJqZmelKrHJAmpmZaaMGc0CamZk5m85yQDMzM6NYk3JAMzMzw7a0ckAzMzPjhhlzQDMzMwsVzHJAmpmZ0UaYckCamZkhNKtyQJqZmfkYDHNAzczMNELDckDNzMx8W5ByQM3MzEQyp3JAMzMzE54Pc0AzMzNjNrpyQGZmZi4ugXJAMzMzC+ipckCamZkhMB9zQJqZmekLwHJAmpmZ4aSCckAzMzMb76hyQAAAAPC2I3NAmpmZ4aTVckBmZmbGP4tyQGZmZka9sXJAAAAAAMkVc0CamZkBI8VyQAAAAAhHgnJAAAAA4MSockDNzMzsphNzQDMzM/uwxXJAZmZmziOFckA=",
          "dtype": "f8"
         },
         "q3": {
          "bdata": "MzMzO6WdckDNzMy89pByQAAAAGDniHJAzczMxHGDckAzMzNrm45yQAAAAAgpo3JAzczMbM65ckAAAADIdNZyQGZmZtb87XJAmpmZwbYFc0BmZmaW4RtzQGZmZob5InNAmpmZETwqc0CamZmJXiFzQJqZmem4E3NAMzMzc+T6ckBmZmYOhvRyQGZmZrbt5HJAZmZmhiLVckAAAAAQastyQGZmZhagwXJAAAAAYMy3ckBmZmZO2rByQGZmZj61q3JAzczMpE6jckAAAABoOZ1yQJqZmZGRlnJAZmZmflaUckBmZmauLZ9yQDMzM1PgsnJAZmZm1vrGckCamZmRy95yQDMzM8Pg93JAzczMjBAUc0AzMzMTLCZzQDMzM2s6MHNAZmZmhoA0c0AzMzNTpC1zQM3MzFSmIXNAzczMxLUOc0AzMzOT0/9yQAAAAChS7XJAZmZm9sHcckBmZmYGv9FyQGZmZl7YyHJAmpmZCWO9ckCamZlBULVyQDMzM/NMqnJAZmZmbiGjckAAAADA9J1yQJqZmWk0mXJAZmZmtpaWckAAAAAgvqJyQJqZmeG7tnJAmpmZUVTLckAzMzOTf99yQJqZmRl593JAzczMxKMNc0AAAAAAKSJzQAAAADB5MHNAMzMzg4A4c0AAAAAI7jRzQDMzM5t3KnNAZmZmfkcdc0AzMzN7iglzQAAAAOhg93JAmpmZqTTockBmZmZWKdlyQM3MzHQtyXJAAAAAcA66ckCamZmpEq5yQM3MzPzTpHJAMzMzyzObckAzMzNTH5RyQJqZmZl6j3JAMzMzu7qOckBmZmZmKZlyQGZmZr5MrHJAAAAA+FbBckDNzMwcMt1yQAAAAKjl+HJAMzMzA6AOc0DNzMw0qB9zQDMzM6sFKXNAAAAAQNItc0CamZmplShzQM3MzLS5HHNAmpmZ+e8Lc0AzMzNjcvlyQM3MzPTk6HJAZmZmtpHYckBmZmamc7RyQGZmZlZjmnJAMzMzYxGKckDNzMxEKLpyQDMzM/OiEXNAAAAAEKczc0BmZmZ2UxRzQAAAALgW5nJAAAAAeNW/ckDNzMws8KNyQAAAAPBFmXJAmpmZuRnMckAzMzNjqRpzQAAAAJi4PXNAZmZmhr4gc0CamZnZ/OpyQM3MzFyKwnJAAAAAMJSockBmZmbuqs5yQGZmZi62OnNAzczMrM7vckCamZkBfrByQAAAABBOz3JAMzMzc4o5c0DNzMwE2vFyQJqZmaEKsXJAMzMzC/vWckCamZmJd0dzQM3MzNz/+HJAAAAAGAa3ckAAAACYuNlyQDMzMzv4QXNAzczMVLTxckCamZmpurFyQJqZmWnL1HJAmpmZUcJDc0AzMzO7jfZyQJqZmYH+q3JAMzMzE2/NckAzMzNj0kpzQGZmZi5d+XJAzczMFBGpckDNzMyEg89yQJqZmRmOTXNAmpmZaTH4ckAzMzNLDa9yQM3MzLzr1XJAMzMzwyBLc0DNzMw8EP9yQGZmZvaeuXJAMzMzY0vVckAzMzMrqkFzQDMzMwNF/HJAzczMlD+vckA=",
          "dtype": "f8"
         },
         "type": "box",
         "upperfence": {
          "bdata": "AAAAoL2ickAAAAAwlptyQAAAAKAalnJAAAAAIMyRckAAAABAGppyQAAAALBGqXJAAAAAACTAckAAAAAQT91yQAAAAHBd9nJAAAAAoNsQc0AAAACwoCJzQAAAABAkL3NAAAAA8J49c0AAAABQojJzQAAAAACXJXNAAAAAkKkbc0AAAACwh/pyQAAAACBG63JAAAAAMKbfckAAAACwp9dyQAAAAICsz3JAAAAA0PTMckAAAACwKcdyQAAAANDrvXJAAAAAcKe2ckAAAADwIbFyQAAAADA1qHJAAAAAANKkckAAAADwnLByQAAAAGBYv3JAAAAAIDrRckAAAABg7eNyQAAAAICIAXNAAAAAUAomc0AAAABQny5zQAAAAEBrOHNAAAAAsOA+c0AAAAAATjtzQAAAAJBIL3NAAAAAABUlc0AAAACAghRzQAAAACCI+XJAAAAAMK7tckAAAABQpt1yQAAAABCD1nJAAAAAAAfNckAAAAAQxMFyQAAAACB0u3JAAAAAkFm1ckAAAABAR7JyQAAAAGCdrnJAAAAAcImsckAAAADgL7lyQAAAAPDNx3JAAAAAkCzYckAAAABQb+9yQAAAACA6BHNAAAAAIGomc0AAAADwZz1zQAAAALCTQnNAAAAAcBdQc0AAAAAw00dzQAAAAJDyN3NAAAAA4D0nc0AAAABABh9zQAAAABBrAXNAAAAAwGvwckAAAACQIeVyQAAAAMBw1nJAAAAAsLrGckAAAACgSr5yQAAAAIBBtnJAAAAAwHWwckAAAAAwj6hyQAAAACCqonJAAAAAYLeeckAAAACwRKtyQAAAACDVu3JAAAAA4MbNckAAAADw/uVyQAAAADCHEnNAAAAA0IIqc0AAAADQnjZzQAAAAMAzMHNAAAAAoHkzc0AAAADgSC1zQAAAAHBwK3NAAAAAUK8hc0AAAACw3w5zQAAAAFAi+HJAAAAAoITickAAAACg875yQAAAAABQpnJAAAAAQCiXckAAAACg4c1yQAAAAJAfK3NAAAAAMKBAc0AAAAAQLyRzQAAAAPCw+nJAAAAA0OzMckAAAAAQHrtyQAAAAPBEp3JAAAAAQKbTckAAAAAwoClzQAAAAHCJSnNAAAAA0EAmc0AAAABwyflyQAAAAKBez3JAAAAAIM+1ckAAAADwFdVyQAAAANAJR3NAAAAAUHn9ckAAAADg3bZyQAAAAJDr1nJAAAAA0OZXc0AAAAAQXvtyQAAAAFD2vHJAAAAAoFvmckAAAABQBVpzQAAAANCPAHNAAAAAgMDKckAAAADg5+FyQAAAAOBUYnNAAAAA8MsIc0AAAABgqr9yQAAAAPB223JAAAAAULpSc0AAAAAgewtzQAAAABDXs3JAAAAA8JPackAAAABgNWBzQAAAABB7/nJAAAAAsF22ckAAAABg19dyQAAAAEAYYnNAAAAAgAIGc0AAAAAg87xyQAAAACBB5XJAAAAAMHBfc0AAAABAVwlzQAAAAEAmyXJAAAAAcO7nckAAAACwaEtzQAAAAGAHDXNAAAAAMJO9ckA=",
          "dtype": "f8"
         },
         "width": 1080000,
         "x": [
          "2025-07-08T00:00:00",
          "2025-07-08T01:00:00",
          "2025-07-08T02:00:00",
          "2025-07-08T03:00:00",
          "2025-07-08T04:00:00",
          "2025-07-08T05:00:00",
          "2025-07-08T06:00:00",
          "2025-07-08T07:00:00",
          "2025-07-08T08:00:00",
          "2025-07-08T09:00:00",
          "2025-07-08T10:00:00",
          "2025-07-08T11:00:00",
          "2025-07-08T12:00:00",
          "2025-07-08T13:00:00",
          "2025-07-08T14:00:00",
          "2025-07-08T15:00:00",
          "2025-07-08T16:00:00",
          "2025-07-08T17:00:00",
          "2025-07-08T18:00:00",
          "2025-07-08T19:00:00",
          "2025-07-08T20:00:00",
          "2025-07-08T21:00:00",
          "2025-07-08T22:00:00",
          "2025-07-08T23:00:00",
          "2025-07-09T00:00:00",
          "2025-07-09T01:00:00",
          "2025-07-09T02:00:00",
          "2025-07-09T03:00:00",
          "2025-07-09T04:00:00",
          "2025-07-09T05:00:00",
          "2025-07-09T06:00:00",
          "2025-07-09T07:00:00",
          "2025-07-09T08:00:00",
          "2025-07-09T09:00:00",
          "2025-07-09T10:00:00",
          "2025-07-09T11:00:00",
          "2025-07-09T12:00:00",
          "2025-07-09T13:00:00",
          "2025-07-09T14:00:00",
          "2025-07-09T15:00:00",
          "2025-07-09T16:00:00",
          "2025-07-09T17:00:00",
          "2025-07-09T18:00:00",
          "2025-07-09T19:00:00",
          "2025-07-09T20:00:00",
          "2025-07-09T21:00:00",
          "2025-07-09T22:00:00",
          "2025-07-09T23:00:00",
          "2025-07-10T00:00:00",
          "2025-07-10T01:00:00",
          "2025-07-10T02:00:00",
          "2025-07-10T03:00:00",
          "2025-07-10T04:00:00",
          "2025-07-10T05:00:00",
          "2025-07-10T06:00:00",
          "2025-07-10T07:00:00",
          "2025-07-10T08:00:00",
          "2025-07-10T09:00:00",
          "2025-07-10T10:00:00",
          "2025-07-10T11:00:00",
          "2025-07-10T12:00:00",
          "2025-07-10T13:00:00",
          "2025-07-10T14:00:00",
          "2025-07-10T15:00:00",
          "2025-07-10T16:00:00",
          "2025-07-10T17:00:00",
          "2025-07-10T18:00:00",
          "2025-07-10T19:00:00",
          "2025-07-10T20:00:00",
          "2025-07-10T21:00:00",
          "2025-07-10T22:00:00",
          "2025-07-10T23:00:00",
          "2025-07-11T00:00:00",
          "2025-07-11T01:00:00",
          "2025-07-11T02:00:00",
          "2025-07-11T03:00:00",
          "2025-07-11T04:00:00",
          "2025-07-11T05:00:00",
          "2025-07-11T06:00:00",
          "2025-07-11T07:00:00",
          "2025-07-11T08:00:00",
          "2025-07-11T09:00:00",
          "2025-07-11T10:00:00",
          "2025-07-11T11:00:00",
          "2025-07-11T12:00:00",
          "2025-07-11T13:00:00",
          "2025-07-11T14:00:00",
          "2025-07-11T15:00:00",
          "2025-07-11T16:00:00",
          "2025-07-11T17:00:00",
          "2025-07-11T18:00:00",
          "2025-07-11T21:00:00",
          "2025-07-12T00:00:00",
          "2025-07-12T03:00:00",
          "2025-07-12T06:00:00",
          "2025-07-12T09:00:00",
          "2025-07-12T12:00:00",
          "2025-07-12T15:00:00",
          "2025-07-12T18:00:00",
          "2025-07-12T21:00:00",
          "2025-07-13T00:00:00",
          "2025-07-13T03:00:00",
          "2025-07-13T06:00:00",
          "2025-07-13T09:00:00",
          "2025-07-13T12:00:00",
          "2025-07-13T15:00:00",
          "2025-07-13T18:00:00",
          "2025-07-13T21:00:00",
          "2025-07-14T00:00:00",
          "2025-07-14T06:00:00",
          "2025-07-14T12:00:00",
          "2025-07-14T18:00:00",
          "2025-07-15T00:00:00",
          "2025-07-15T06:00:00",
          "2025-07-15T12:00:00",
          "2025-07-15T18:00:00",
          "2025-07-16T00:00:00",
          "2025-07-16T06:00:00",
          "2025-07-16T12:00:00",
          "2025-07-16T18:00:00",
          "2025-07-17T00:00:00",
          "2025-07-17T06:00:00",
          "2025-07-17T12:00:00",
          "2025-07-17T18:00:00",
          "2025-07-18T00:00:00",
          "2025-07-18T06:00:00",
          "2025-07-18T12:00:00",
          "2025-07-18T18:00:00",
          "2025-07-19T00:00:00",
          "2025-07-19T06:00:00",
          "2025-07-19T12:00:00",
          "2025-07-19T18:00:00",
          "2025-07-20T00:00:00",
          "2025-07-20T06:00:00",
          "2025-07-20T12:00:00",
          "2025-07-20T18:00:00",
          "2025-07-21T00:00:00",
          "2025-07-21T06:00:00",
          "2025-07-21T12:00:00",
          "2025-07-21T18:00:00",
          "2025-07-22T00:00:00",
          "2025-07-22T06:00:00",
          "2025-07-22T12:00:00",
          "2025-07-22T18:00:00",
          "2025-07-23T00:00:00"
         ],
         "xaxis": "x",
         "yaxis": "y"
        },
        {
         "fillcolor": "#B1B6FC",
         "hoverinfo": "skip",
         "line": {
          "color": "#27aeef"
         },
         "lowerfence": {
          "bdata": "AAAAkA9zckAAAAAQb2hyQAAAAIAhYnJAAAAAwNJfckAAAACQ+W5yQAAAAHDPh3JAAAAAAOOeckAAAACA6a9yQAAAAKAStHJAAAAA8G7GckAAAADQyN5yQAAAAGCI+HJAAAAAINP8ckAAAAAQLvJyQAAAAEBR3HJAAAAAgNjIckAAAABgyrRyQAAAAFCotXJAAAAAcN+wckAAAAAQrKpyQAAAAADNonJAAAAA4JeYckAAAAAw9Y1yQAAAAGAShnJAAAAA8F6BckAAAADQCXxyQAAAAAAGdHJAAAAAQK9zckAAAADAfoNyQAAAACDAlHJAAAAAIO+qckAAAADApsNyQAAAALD513JAAAAAIODnckAAAADAbvJyQAAAAIBr+nJAAAAAwCH3ckAAAACQ0fpyQAAAAMB+5nJAAAAAsMx3ckAAAACwl2JyQAAAABAvaXJAAAAAQI17ckAAAADAjXxyQAAAALAwdXJAAAAAgIh9ckAAAABgun5yQAAAAJBPhXJAAAAAQK2FckAAAADgyn1yQAAAAAAXe3JAAAAAoEZxckAAAADQh3ZyQAAAAPCziXJAAAAAMICdckAAAADg2rJyQAAAABAgzXJAAAAAsC7gckAAAABwUvhyQAAAAIAGAXNAAAAA8DAIc0AAAADw0ftyQAAAAFCT53JAAAAA4IfNckAAAAAA9cRyQAAAAEAKtXJAAAAAsPajckAAAABgBp1yQAAAAEAtlnJAAAAAADCJckAAAABgZIFyQAAAALAUenJAAAAAgCBzckAAAACwhWxyQAAAAEBjZ3JAAAAA0KNgckAAAADAnWhyQAAAAICme3JAAAAAUMWRckAAAACgArByQAAAAMBzynJAAAAAkMjeckAAAADw4/JyQAAAAKCW3nJAAAAAgKztckAAAADA+t1yQAAAACD+vnJAAAAAcKBrckAAAAAwmWxyQAAAAADpdXJAAAAA4FuEckAAAABAKXdyQAAAAKCPZXJAAAAAAMtbckAAAABQCo1yQAAAAAALt3JAAAAA4BnhckAAAAAQqrVyQAAAAEC+lnJAAAAAwOCCckAAAABQVnRyQAAAAFCFbXJAAAAAMK6eckAAAADwz+FyQAAAAIAT6nJAAAAAMJK4ckAAAABwLJxyQAAAAIDliHJAAAAAoCCBckAAAABwl5JyQAAAABDExXJAAAAAcPOUckAAAABg3X5yQAAAAKDvhnJAAAAAMO3rckAAAAAg/qdyQAAAAFB0hXJAAAAAYMqfckAAAAAAI/hyQAAAAIBCsHJAAAAAIFx+ckAAAACQcppyQAAAAKBL43JAAAAAEFuLckAAAABAtmJyQAAAAJBGmnJAAAAAEN/mckAAAACAVp9yQAAAAHDqcHJAAAAAcMOZckAAAABg6AlzQAAAANBwpHJAAAAAUGhjckAAAAAwk5RyQAAAAOAtCHNAAAAAoMi5ckAAAABApHRyQAAAAKDTiXJAAAAAAFv6ckAAAADAcbRyQAAAACBKfHJAAAAA8Nl0ckAAAADgLfNyQAAAAED5n3JAAAAA0ExuckA=",
          "dtype": "f8"
         },
         "median": {
          "bdata": "AAAAuMmKckAAAABgPYByQAAAADjdeXJAAAAA6M11ckAAAADQo4JyQAAAAIB7l3JAAAAAIByvckAAAADwicxyQAAAANDK4HJAAAAA2Lz4ckAAAAAAAgxzQAAAAAgIF3NAAAAAULEVc0AAAABASwpzQAAAAKCI/XJAAAAAEF7tckAAAABwN99yQAAAAMiR0XJAAAAAqJPIckAAAACAiMByQAAAACjhtXJAAAAAOMOtckAAAACQV6ZyQAAAANDdnXJAAAAAMEqYckAAAACA6ZFyQAAAANiui3JAAAAAcByHckAAAADARJVyQAAAAIj8pXJAAAAAeLi7ckAAAADAm9ZyQAAAABgS8XJAAAAA8HUHc0AAAACoWBZzQAAAAMBXG3NAAAAACDcfc0AAAACAiRdzQAAAACgEDnNAAAAA+Nf+ckAAAAA4qO9yQAAAAJhL3nJAAAAAwLjTckAAAAAYRslyQAAAAKAkv3JAAAAA6IizckAAAACQWKlyQAAAALBsn3JAAAAAWICWckAAAADI9JByQAAAAMhWjXJAAAAAiPmLckAAAAAYkJlyQAAAAHAGrnJAAAAAqHi/ckAAAADwqNJyQAAAANC67HJAAAAACLQDc0AAAADIxBRzQAAAAMCtInNAAAAASHArc0AAAADwuChzQAAAADiEIHNAAAAA+KETc0AAAAB4TAJzQAAAACgU7XJAAAAAWPnackAAAABYRcpyQAAAAGB0vHJAAAAAKMGwckAAAACgyKVyQAAAAHDUm3JAAAAAsFSUckAAAACQIY1yQAAAAFjYhXJAAAAAGCSCckAAAACwfY5yQAAAADCxnnJAAAAAiPm1ckAAAACoRc9yQAAAAAhD63JAAAAA0LP+ckAAAAAA6Q1zQAAAAECyGXNAAAAAADofc0AAAABg2xlzQAAAAPjVD3NAAAAAUAf/ckAAAAAYhOxyQAAAAJAj2nJAAAAAMHfLckAAAABgralyQAAAAJA4jHJAAAAAmER+ckAAAACQmrByQAAAAEDPAXNAAAAAMH0kc0AAAABgXAdzQAAAAEiJ13JAAAAAgICwckAAAAAQCJdyQAAAAMDyiHJAAAAAsKK+ckAAAACgsgpzQAAAAGBMLHNAAAAAUNQMc0AAAAAQ+tpyQAAAAEAWtXJAAAAAeAKgckAAAACIDb1yQAAAAKgMKXNAAAAA8FPZckAAAAAw46JyQAAAAIijvnJAAAAAmK4oc0AAAAA4RdtyQAAAAKgJpXJAAAAAkFDJckAAAADQGTNzQAAAADg75XJAAAAAEAGrckAAAAD4xMdyQAAAAFjmLHNAAAAAcH3gckAAAABo0qFyQAAAAChGwHJAAAAA2Igvc0AAAADo591yQAAAALiQmXJAAAAAUIK+ckAAAADgyjdzQAAAAKD05nJAAAAACPyackAAAADANcFyQAAAALChNnNAAAAAAD/qckAAAAA4r5xyQAAAAIg7wnJAAAAAEEQ4c0AAAAD4XO1yQAAAAIiWonJAAAAAoLLCckAAAAAIZy5zQAAAAAgI5XJAAAAAEFGcckA=",
          "dtype": "f8"
         },
         "q1": {
          "bdata": "AAAAzIeDckAAAACcc3pyQAAAAEgLdHJAAAAA4LpwckAAAABYLHtyQAAAABDlkHJAAAAAfLinckAAAAC4sMdyQAAAAOjn2HJAAAAAhOjxckAAAAAIQwFzQAAAAGQVDHNAAAAA2NMMc0AAAABQmwJzQAAAAPhy8XJAAAAA5AblckAAAAAAO9hyQAAAALTqyXJAAAAAXBPAckAAAAD0VrhyQAAAANxHr3JAAAAA3IenckAAAACkop9yQAAAANC7l3JAAAAAZAuTckAAAABAjYpyQAAAAPiXg3JAAAAAjICCckAAAABUNo9yQAAAAOzJoHJAAAAAmCC2ckAAAADwAtFyQAAAAODV6XJAAAAAgIz8ckAAAAAU7AZzQAAAAHwpDXNAAAAAVMwPc0AAAAAo7w9zQAAAAKRBBHNAAAAAtCr1ckAAAACIcOlyQAAAADQc13JAAAAAZOLLckAAAADAy8NyQAAAAJgfuHJAAAAADGStckAAAAB4ZqFyQAAAAEAFmHJAAAAAMJCQckAAAACUm4pyQAAAANhYhXJAAAAAaFaFckAAAAB8F5ZyQAAAAJijoXJAAAAAZK61ckAAAAC4sMxyQAAAAPy/6HJAAAAAtP/+ckAAAADsghBzQAAAAFjCHXNAAAAAcLImc0AAAACwCCRzQAAAAPx1G3NAAAAADCUOc0AAAABADv1yQAAAAPhC5HJAAAAAIL7SckAAAAB8HsRyQAAAAExbtnJAAAAArPOqckAAAABwMaFyQAAAAFDPlXJAAAAA7NeNckAAAADgLYhyQAAAAGStgnJAAAAAZNh+ckAAAAC8p4dyQAAAAFyClXJAAAAA2N+uckAAAADkychyQAAAAMSJ4nJAAAAAmBr1ckAAAACIrgZzQAAAAMhKDnNAAAAA5LMSc0AAAABoDA5zQAAAAGRJAXNAAAAADAXyckAAAACUKOFyQAAAAMQy0XJAAAAATM3DckAAAAAcCZ9yQAAAAJyFgnJAAAAAiFFwckAAAACsi6hyQAAAAKxi9nJAAAAA4PoTc0AAAAC4M/pyQAAAAHznz3JAAAAAECerckAAAACQm5JyQAAAAKD9f3JAAAAAFEi4ckAAAAB4pQVzQAAAAJA0I3NAAAAAkMADc0AAAACIZc9yQAAAAFjIrXJAAAAA2BqYckAAAACQk7ZyQAAAAADBGXNAAAAAnC/NckAAAABMPphyQAAAANw8t3JAAAAA9FEic0AAAADYjNRyQAAAAPydnHJAAAAAvA+9ckAAAAA0jiVzQAAAAEj/23JAAAAAOOOdckAAAAD4WbdyQAAAAMztIHNAAAAAlGHSckAAAAA0LppyQAAAAHzBtXJAAAAAyMAdc0AAAACcqsVyQAAAAPjIjHJAAAAAtMC0ckAAAAAwNS1zQAAAADS40nJAAAAAvNSPckAAAABYELZyQAAAAPD4KnNAAAAAtO7dckAAAADsDpRyQAAAADjkt3JAAAAANKonc0AAAAAkRNtyQAAAAFxNlnJAAAAAeAK3ckAAAABMBh5zQAAAABhl0XJAAAAAHMORckA=",
          "dtype": "f8"
         },
         "q3": {
          "bdata": "AAAAALCTckAAAAC8SIhyQAAAAGy6gnJAAAAABHd9ckAAAABAe4hyQAAAAJC9nHJAAAAAmDW0ckAAAACYcM9yQAAAAKga53JAAAAAmNT/ckAAAAAUvBJzQAAAAOh4HXNAAAAAaAocc0AAAACIXhVzQAAAANRGA3NAAAAAsIfzckAAAABoyedyQAAAAPSF2HJAAAAA8D3PckAAAABsdMVyQAAAAFgnv3JAAAAAbKe1ckAAAACA7K1yQAAAAFzipnJAAAAAXLGfckAAAACg5JdyQAAAAJTZkXJAAAAAFHiPckAAAAD02ppyQAAAAHCprXJAAAAADMPCckAAAAA82NxyQAAAANx79XJAAAAA0LgPc0AAAABcNiFzQAAAALSdKnNAAAAAhGgvc0AAAABQBCNzQAAAAKxhFnNAAAAAnBQLc0AAAADQR/ZyQAAAADAf5HJAAAAAgCXYckAAAAAUzc5yQAAAAByIxHJAAAAAaNm4ckAAAADU5a5yQAAAANC/pXJAAAAALNmeckAAAAAI1ZdyQAAAANxmlHJAAAAAPAiSckAAAADcOp9yQAAAAESJsnJAAAAA4B7GckAAAADEYNxyQAAAAORB8XJAAAAASAcHc0AAAAA0ghxzQAAAAOhRK3NAAAAA4Dwzc0AAAADISDBzQAAAAPihJXNAAAAA8I0Yc0AAAACo1AZzQAAAAKh29HJAAAAASATjckAAAAAcjM9yQAAAAOSywXJAAAAANPy0ckAAAADkZKtyQAAAALgDonJAAAAAyAyYckAAAADsXpByQAAAAPSai3JAAAAAROCJckAAAACQDJZyQAAAAASKpnJAAAAACKK7ckAAAADMHNZyQAAAAIzF73JAAAAAGJQDc0AAAABQ0RNzQAAAAJhpIHNAAAAAlJ8oc0AAAACQ/SFzQAAAAAx8F3NAAAAAECYEc0AAAABwC/RyQAAAAGRP4HJAAAAATJbSckAAAABsQ7ByQAAAAACMknJAAAAADLWDckAAAACkVbZyQAAAAJTvB3NAAAAAWHwpc0AAAAAIdQ5zQAAAAHTi33JAAAAAQDq2ckAAAADERJ5yQAAAAGxxj3JAAAAAvEPEckAAAADYExRzQAAAALh2NHNAAAAAVHMac0AAAACw7+RyQAAAAKi6unJAAAAACJOkckAAAAAYWslyQAAAAAyHL3NAAAAA/P3kckAAAACgDaxyQAAAAPyKxnJAAAAAGDszc0AAAACki+RyQAAAALxSqXJAAAAAuOTOckAAAAAclDpzQAAAAMA68nJAAAAA9JexckAAAADsbtFyQAAAAExkO3NAAAAA+DDpckAAAAA4RatyQAAAAGxvyXJAAAAAUAc7c0AAAACcYO1yQAAAABQqo3JAAAAAeIrHckAAAAA8h0NzQAAAAHAx8HJAAAAAKMqgckAAAACkqcZyQAAAAIBFQHNAAAAAtNjxckAAAADsradyQAAAAFRNz3JAAAAABF5Cc0AAAAB8N/NyQAAAABgtqnJAAAAAZGvNckAAAACkvTpzQAAAALTd7nJAAAAANDWkckA=",
          "dtype": "f8"
         },
         "showwhiskers": false,
         "type": "box",
         "upperfence": {
          "bdata": "AAAAoL2ickAAAAAwlptyQAAAAKAalnJAAAAAIMyRckAAAABAGppyQAAAALBGqXJAAAAAACTAckAAAAAQT91yQAAAAHBd9nJAAAAAoNsQc0AAAACwoCJzQAAAABAkL3NAAAAA8J49c0AAAABQojJzQAAAAACXJXNAAAAAkKkbc0AAAACwh/pyQAAAACBG63JAAAAAMKbfckAAAACwp9dyQAAAAICsz3JAAAAA0PTMckAAAACwKcdyQAAAANDrvXJAAAAAcKe2ckAAAADwIbFyQAAAADA1qHJAAAAAANKkckAAAADwnLByQAAAAGBYv3JAAAAAIDrRckAAAABg7eNyQAAAAICIAXNAAAAAUAomc0AAAABQny5zQAAAAEBrOHNAAAAAsOA+c0AAAAAATjtzQAAAAJBIL3NAAAAAABUlc0AAAACAghRzQAAAACCI+XJAAAAAMK7tckAAAABQpt1yQAAAABCD1nJAAAAAAAfNckAAAAAQxMFyQAAAACB0u3JAAAAAkFm1ckAAAABAR7JyQAAAAGCdrnJAAAAAcImsckAAAADgL7lyQAAAAPDNx3JAAAAAkCzYckAAAABQb+9yQAAAACA6BHNAAAAAIGomc0AAAADwZz1zQAAAALCTQnNAAAAAcBdQc0AAAAAw00dzQAAAAJDyN3NAAAAA4D0nc0AAAABABh9zQAAAABBrAXNAAAAAwGvwckAAAACQIeVyQAAAAMBw1nJAAAAAsLrGckAAAACgSr5yQAAAAIBBtnJAAAAAwHWwckAAAAAwj6hyQAAAACCqonJAAAAAYLeeckAAAACwRKtyQAAAACDVu3JAAAAA4MbNckAAAADw/uVyQAAAADCHEnNAAAAA0IIqc0AAAADQnjZzQAAAAMAzMHNAAAAAoHkzc0AAAADgSC1zQAAAAHBwK3NAAAAAUK8hc0AAAACw3w5zQAAAAFAi+HJAAAAAoITickAAAACg875yQAAAAABQpnJAAAAAQCiXckAAAACg4c1yQAAAAJAfK3NAAAAAMKBAc0AAAAAQLyRzQAAAAPCw+nJAAAAA0OzMckAAAAAQHrtyQAAAAPBEp3JAAAAAQKbTckAAAAAwoClzQAAAAHCJSnNAAAAA0EAmc0AAAABwyflyQAAAAKBez3JAAAAAIM+1ckAAAADwFdVyQAAAANAJR3NAAAAAUHn9ckAAAADg3bZyQAAAAJDr1nJAAAAA0OZXc0AAAAAQXvtyQAAAAFD2vHJAAAAAoFvmckAAAABQBVpzQAAAANCPAHNAAAAAgMDKckAAAADg5+FyQAAAAOBUYnNAAAAA8MsIc0AAAABgqr9yQAAAAPB223JAAAAAULpSc0AAAAAgewtzQAAAABDXs3JAAAAA8JPackAAAABgNWBzQAAAABB7/nJAAAAAsF22ckAAAABg19dyQAAAAEAYYnNAAAAAgAIGc0AAAAAg87xyQAAAACBB5XJAAAAAMHBfc0AAAABAVwlzQAAAAEAmyXJAAAAAcO7nckAAAACwaEtzQAAAAGAHDXNAAAAAMJO9ckA=",
          "dtype": "f8"
         },
         "width": 2160000,
         "x": [
          "2025-07-08T00:00:00",
          "2025-07-08T01:00:00",
          "2025-07-08T02:00:00",
          "2025-07-08T03:00:00",
          "2025-07-08T04:00:00",
          "2025-07-08T05:00:00",
          "2025-07-08T06:00:00",
          "2025-07-08T07:00:00",
          "2025-07-08T08:00:00",
          "2025-07-08T09:00:00",
          "2025-07-08T10:00:00",
          "2025-07-08T11:00:00",
          "2025-07-08T12:00:00",
          "2025-07-08T13:00:00",
          "2025-07-08T14:00:00",
          "2025-07-08T15:00:00",
          "2025-07-08T16:00:00",
          "2025-07-08T17:00:00",
          "2025-07-08T18:00:00",
          "2025-07-08T19:00:00",
          "2025-07-08T20:00:00",
          "2025-07-08T21:00:00",
          "2025-07-08T22:00:00",
          "2025-07-08T23:00:00",
          "2025-07-09T00:00:00",
          "2025-07-09T01:00:00",
          "2025-07-09T02:00:00",
          "2025-07-09T03:00:00",
          "2025-07-09T04:00:00",
          "2025-07-09T05:00:00",
          "2025-07-09T06:00:00",
          "2025-07-09T07:00:00",
          "2025-07-09T08:00:00",
          "2025-07-09T09:00:00",
          "2025-07-09T10:00:00",
          "2025-07-09T11:00:00",
          "2025-07-09T12:00:00",
          "2025-07-09T13:00:00",
          "2025-07-09T14:00:00",
          "2025-07-09T15:00:00",
          "2025-07-09T16:00:00",
          "2025-07-09T17:00:00",
          "2025-07-09T18:00:00",
          "2025-07-09T19:00:00",
          "2025-07-09T20:00:00",
          "2025-07-09T21:00:00",
          "2025-07-09T22:00:00",
          "2025-07-09T23:00:00",
          "2025-07-10T00:00:00",
          "2025-07-10T01:00:00",
          "2025-07-10T02:00:00",
          "2025-07-10T03:00:00",
          "2025-07-10T04:00:00",
          "2025-07-10T05:00:00",
          "2025-07-10T06:00:00",
          "2025-07-10T07:00:00",
          "2025-07-10T08:00:00",
          "2025-07-10T09:00:00",
          "2025-07-10T10:00:00",
          "2025-07-10T11:00:00",
          "2025-07-10T12:00:00",
          "2025-07-10T13:00:00",
          "2025-07-10T14:00:00",
          "2025-07-10T15:00:00",
          "2025-07-10T16:00:00",
          "2025-07-10T17:00:00",
          "2025-07-10T18:00:00",
          "2025-07-10T19:00:00",
          "2025-07-10T20:00:00",
          "2025-07-10T21:00:00",
          "2025-07-10T22:00:00",
          "2025-07-10T23:00:00",
          "2025-07-11T00:00:00",
          "2025-07-11T01:00:00",
          "2025-07-11T02:00:00",
          "2025-07-11T03:00:00",
          "2025-07-11T04:00:00",
          "2025-07-11T05:00:00",
          "2025-07-11T06:00:00",
          "2025-07-11T07:00:00",
          "2025-07-11T08:00:00",
          "2025-07-11T09:00:00",
          "2025-07-11T10:00:00",
          "2025-07-11T11:00:00",
          "2025-07-11T12:00:00",
          "2025-07-11T13:00:00",
          "2025-07-11T14:00:00",
          "2025-07-11T15:00:00",
          "2025-07-11T16:00:00",
          "2025-07-11T17:00:00",
          "2025-07-11T18:00:00",
          "2025-07-11T21:00:00",
          "2025-07-12T00:00:00",
          "2025-07-12T03:00:00",
          "2025-07-12T06:00:00",
          "2025-07-12T09:00:00",
          "2025-07-12T12:00:00",
          "2025-07-12T15:00:00",
          "2025-07-12T18:00:00",
          "2025-07-12T21:00:00",
          "2025-07-13T00:00:00",
          "2025-07-13T03:00:00",
          "2025-07-13T06:00:00",
          "2025-07-13T09:00:00",
          "2025-07-13T12:00:00",
          "2025-07-13T15:00:00",
          "2025-07-13T18:00:00",
          "2025-07-13T21:00:00",
          "2025-07-14T00:00:00",
          "2025-07-14T06:00:00",
          "2025-07-14T12:00:00",
          "2025-07-14T18:00:00",
          "2025-07-15T00:00:00",
          "2025-07-15T06:00:00",
          "2025-07-15T12:00:00",
          "2025-07-15T18:00:00",
          "2025-07-16T00:00:00",
          "2025-07-16T06:00:00",
          "2025-07-16T12:00:00",
          "2025-07-16T18:00:00",
          "2025-07-17T00:00:00",
          "2025-07-17T06:00:00",
          "2025-07-17T12:00:00",
          "2025-07-17T18:00:00",
          "2025-07-18T00:00:00",
          "2025-07-18T06:00:00",
          "2025-07-18T12:00:00",
          "2025-07-18T18:00:00",
          "2025-07-19T00:00:00",
          "2025-07-19T06:00:00",
          "2025-07-19T12:00:00",
          "2025-07-19T18:00:00",
          "2025-07-20T00:00:00",
          "2025-07-20T06:00:00",
          "2025-07-20T12:00:00",
          "2025-07-20T18:00:00",
          "2025-07-21T00:00:00",
          "2025-07-21T06:00:00",
          "2025-07-21T12:00:00",
          "2025-07-21T18:00:00",
          "2025-07-22T00:00:00",
          "2025-07-22T06:00:00",
          "2025-07-22T12:00:00",
          "2025-07-22T18:00:00",
          "2025-07-23T00:00:00"
         ],
         "xaxis": "x",
         "yaxis": "y"
        },
        {
         "hovertemplate": "%{y:.2f}<extra>P<sub>0%</sub></extra>",
         "marker": {
          "color": "#27aeef",
          "size": 0.00001
         },
         "mode": "markers",
         "type": "scatter",
         "x": [
          "2025-07-08T00:00:00",
          "2025-07-08T01:00:00",
          "2025-07-08T02:00:00",
          "2025-07-08T03:00:00",
          "2025-07-08T04:00:00",
          "2025-07-08T05:00:00",
          "2025-07-08T06:00:00",
          "2025-07-08T07:00:00",
          "2025-07-08T08:00:00",
          "2025-07-08T09:00:00",
          "2025-07-08T10:00:00",
          "2025-07-08T11:00:00",
          "2025-07-08T12:00:00",
          "2025-07-08T13:00:00",
          "2025-07-08T14:00:00",
          "2025-07-08T15:00:00",
          "2025-07-08T16:00:00",
          "2025-07-08T17:00:00",
          "2025-07-08T18:00:00",
          "2025-07-08T19:00:00",
          "2025-07-08T20:00:00",
          "2025-07-08T21:00:00",
          "2025-07-08T22:00:00",
          "2025-07-08T23:00:00",
          "2025-07-09T00:00:00",
          "2025-07-09T01:00:00",
          "2025-07-09T02:00:00",
          "2025-07-09T03:00:00",
          "2025-07-09T04:00:00",
          "2025-07-09T05:00:00",
          "2025-07-09T06:00:00",
          "2025-07-09T07:00:00",
          "2025-07-09T08:00:00",
          "2025-07-09T09:00:00",
          "2025-07-09T10:00:00",
          "2025-07-09T11:00:00",
          "2025-07-09T12:00:00",
          "2025-07-09T13:00:00",
          "2025-07-09T14:00:00",
          "2025-07-09T15:00:00",
          "2025-07-09T16:00:00",
          "2025-07-09T17:00:00",
          "2025-07-09T18:00:00",
          "2025-07-09T19:00:00",
          "2025-07-09T20:00:00",
          "2025-07-09T21:00:00",
          "2025-07-09T22:00:00",
          "2025-07-09T23:00:00",
          "2025-07-10T00:00:00",
          "2025-07-10T01:00:00",
          "2025-07-10T02:00:00",
          "2025-07-10T03:00:00",
          "2025-07-10T04:00:00",
          "2025-07-10T05:00:00",
          "2025-07-10T06:00:00",
          "2025-07-10T07:00:00",
          "2025-07-10T08:00:00",
          "2025-07-10T09:00:00",
          "2025-07-10T10:00:00",
          "2025-07-10T11:00:00",
          "2025-07-10T12:00:00",
          "2025-07-10T13:00:00",
          "2025-07-10T14:00:00",
          "2025-07-10T15:00:00",
          "2025-07-10T16:00:00",
          "2025-07-10T17:00:00",
          "2025-07-10T18:00:00",
          "2025-07-10T19:00:00",
          "2025-07-10T20:00:00",
          "2025-07-10T21:00:00",
          "2025-07-10T22:00:00",
          "2025-07-10T23:00:00",
          "2025-07-11T00:00:00",
          "2025-07-11T01:00:00",
          "2025-07-11T02:00:00",
          "2025-07-11T03:00:00",
          "2025-07-11T04:00:00",
          "2025-07-11T05:00:00",
          "2025-07-11T06:00:00",
          "2025-07-11T07:00:00",
          "2025-07-11T08:00:00",
          "2025-07-11T09:00:00",
          "2025-07-11T10:00:00",
          "2025-07-11T11:00:00",
          "2025-07-11T12:00:00",
          "2025-07-11T13:00:00",
          "2025-07-11T14:00:00",
          "2025-07-11T15:00:00",
          "2025-07-11T16:00:00",
          "2025-07-11T17:00:00",
          "2025-07-11T18:00:00",
          "2025-07-11T21:00:00",
          "2025-07-12T00:00:00",
          "2025-07-12T03:00:00",
          "2025-07-12T06:00:00",
          "2025-07-12T09:00:00",
          "2025-07-12T12:00:00",
          "2025-07-12T15:00:00",
          "2025-07-12T18:00:00",
          "2025-07-12T21:00:00",
          "2025-07-13T00:00:00",
          "2025-07-13T03:00:00",
          "2025-07-13T06:00:00",
          "2025-07-13T09:00:00",
          "2025-07-13T12:00:00",
          "2025-07-13T15:00:00",
          "2025-07-13T18:00:00",
          "2025-07-13T21:00:00",
          "2025-07-14T00:00:00",
          "2025-07-14T06:00:00",
          "2025-07-14T12:00:00",
          "2025-07-14T18:00:00",
          "2025-07-15T00:00:00",
          "2025-07-15T06:00:00",
          "2025-07-15T12:00:00",
          "2025-07-15T18:00:00",
          "2025-07-16T00:00:00",
          "2025-07-16T06:00:00",
          "2025-07-16T12:00:00",
          "2025-07-16T18:00:00",
          "2025-07-17T00:00:00",
          "2025-07-17T06:00:00",
          "2025-07-17T12:00:00",
          "2025-07-17T18:00:00",
          "2025-07-18T00:00:00",
          "2025-07-18T06:00:00",
          "2025-07-18T12:00:00",
          "2025-07-18T18:00:00",
          "2025-07-19T00:00:00",
          "2025-07-19T06:00:00",
          "2025-07-19T12:00:00",
          "2025-07-19T18:00:00",
          "2025-07-20T00:00:00",
          "2025-07-20T06:00:00",
          "2025-07-20T12:00:00",
          "2025-07-20T18:00:00",
          "2025-07-21T00:00:00",
          "2025-07-21T06:00:00",
          "2025-07-21T12:00:00",
          "2025-07-21T18:00:00",
          "2025-07-22T00:00:00",
          "2025-07-22T06:00:00",
          "2025-07-22T12:00:00",
          "2025-07-22T18:00:00",
          "2025-07-23T00:00:00"
         ],
         "xaxis": "x",
         "y": {
          "bdata": "AAAAkA9zckAAAAAQb2hyQAAAAIAhYnJAAAAAwNJfckAAAACQ+W5yQAAAAHDPh3JAAAAAAOOeckAAAACA6a9yQAAAAKAStHJAAAAA8G7GckAAAADQyN5yQAAAAGCI+HJAAAAAINP8ckAAAAAQLvJyQAAAAEBR3HJAAAAAgNjIckAAAABgyrRyQAAAAFCotXJAAAAAcN+wckAAAAAQrKpyQAAAAADNonJAAAAA4JeYckAAAAAw9Y1yQAAAAGAShnJAAAAA8F6BckAAAADQCXxyQAAAAAAGdHJAAAAAQK9zckAAAADAfoNyQAAAACDAlHJAAAAAIO+qckAAAADApsNyQAAAALD513JAAAAAIODnckAAAADAbvJyQAAAAIBr+nJAAAAAwCH3ckAAAACQ0fpyQAAAAMB+5nJAAAAAsMx3ckAAAACwl2JyQAAAABAvaXJAAAAAQI17ckAAAADAjXxyQAAAALAwdXJAAAAAgIh9ckAAAABgun5yQAAAAJBPhXJAAAAAQK2FckAAAADgyn1yQAAAAAAXe3JAAAAAoEZxckAAAADQh3ZyQAAAAPCziXJAAAAAMICdckAAAADg2rJyQAAAABAgzXJAAAAAsC7gckAAAABwUvhyQAAAAIAGAXNAAAAA8DAIc0AAAADw0ftyQAAAAFCT53JAAAAA4IfNckAAAAAA9cRyQAAAAEAKtXJAAAAAsPajckAAAABgBp1yQAAAAEAtlnJAAAAAADCJckAAAABgZIFyQAAAALAUenJAAAAAgCBzckAAAACwhWxyQAAAAEBjZ3JAAAAA0KNgckAAAADAnWhyQAAAAICme3JAAAAAUMWRckAAAACgArByQAAAAMBzynJAAAAAkMjeckAAAADw4/JyQAAAAKCW3nJAAAAAgKztckAAAADA+t1yQAAAACD+vnJAAAAAcKBrckAAAAAwmWxyQAAAAADpdXJAAAAA4FuEckAAAABAKXdyQAAAAKCPZXJAAAAAAMtbckAAAABQCo1yQAAAAAALt3JAAAAA4BnhckAAAAAQqrVyQAAAAEC+lnJAAAAAwOCCckAAAABQVnRyQAAAAFCFbXJAAAAAMK6eckAAAADwz+FyQAAAAIAT6nJAAAAAMJK4ckAAAABwLJxyQAAAAIDliHJAAAAAoCCBckAAAABwl5JyQAAAABDExXJAAAAAcPOUckAAAABg3X5yQAAAAKDvhnJAAAAAMO3rckAAAAAg/qdyQAAAAFB0hXJAAAAAYMqfckAAAAAAI/hyQAAAAIBCsHJAAAAAIFx+ckAAAACQcppyQAAAAKBL43JAAAAAEFuLckAAAABAtmJyQAAAAJBGmnJAAAAAEN/mckAAAACAVp9yQAAAAHDqcHJAAAAAcMOZckAAAABg6AlzQAAAANBwpHJAAAAAUGhjckAAAAAwk5RyQAAAAOAtCHNAAAAAoMi5ckAAAABApHRyQAAAAKDTiXJAAAAAAFv6ckAAAADAcbRyQAAAACBKfHJAAAAA8Nl0ckAAAADgLfNyQAAAAED5n3JAAAAA0ExuckA=",
          "dtype": "f8"
         },
         "yaxis": "y"
        },
        {
         "hovertemplate": "%{y:.2f}<extra>P<sub>10%</sub></extra>",
         "marker": {
          "color": "#27aeef",
          "size": 0.00001
         },
         "mode": "markers",
         "type": "scatter",
         "x": [
          "2025-07-08T00:00:00",
          "2025-07-08T01:00:00",
          "2025-07-08T02:00:00",
          "2025-07-08T03:00:00",
          "2025-07-08T04:00:00",
          "2025-07-08T05:00:00",
          "2025-07-08T06:00:00",
          "2025-07-08T07:00:00",
          "2025-07-08T08:00:00",
          "2025-07-08T09:00:00",
          "2025-07-08T10:00:00",
          "2025-07-08T11:00:00",
          "2025-07-08T12:00:00",
          "2025-07-08T13:00:00",
          "2025-07-08T14:00:00",
          "2025-07-08T15:00:00",
          "2025-07-08T16:00:00",
          "2025-07-08T17:00:00",
          "2025-07-08T18:00:00",
          "2025-07-08T19:00:00",
          "2025-07-08T20:00:00",
          "2025-07-08T21:00:00",
          "2025-07-08T22:00:00",
          "2025-07-08T23:00:00",
          "2025-07-09T00:00:00",
          "2025-07-09T01:00:00",
          "2025-07-09T02:00:00",
          "2025-07-09T03:00:00",
          "2025-07-09T04:00:00",
          "2025-07-09T05:00:00",
          "2025-07-09T06:00:00",
          "2025-07-09T07:00:00",
          "2025-07-09T08:00:00",
          "2025-07-09T09:00:00",
          "2025-07-09T10:00:00",
          "2025-07-09T11:00:00",
          "2025-07-09T12:00:00",
          "2025-07-09T13:00:00",
          "2025-07-09T14:00:00",
          "2025-07-09T15:00:00",
          "2025-07-09T16:00:00",
          "2025-07-09T17:00:00",
          "2025-07-09T18:00:00",
          "2025-07-09T19:00:00",
          "2025-07-09T20:00:00",
          "2025-07-09T21:00:00",
          "2025-07-09T22:00:00",
          "2025-07-09T23:00:00",
          "2025-07-10T00:00:00",
          "2025-07-10T01:00:00",
          "2025-07-10T02:00:00",
          "2025-07-10T03:00:00",
          "2025-07-10T04:00:00",
          "2025-07-10T05:00:00",
          "2025-07-10T06:00:00",
          "2025-07-10T07:00:00",
          "2025-07-10T08:00:00",
          "2025-07-10T09:00:00",
          "2025-07-10T10:00:00",
          "2025-07-10T11:00:00",
          "2025-07-10T12:00:00",
          "2025-07-10T13:00:00",
          "2025-07-10T14:00:00",
          "2025-07-10T15:00:00",
          "2025-07-10T16:00:00",
          "2025-07-10T17:00:00",
          "2025-07-10T18:00:00",
          "2025-07-10T19:00:00",
          "2025-07-10T20:00:00",
          "2025-07-10T21:00:00",
          "2025-07-10T22:00:00",
          "2025-07-10T23:00:00",
          "2025-07-11T00:00:00",
          "2025-07-11T01:00:00",
          "2025-07-11T02:00:00",
          "2025-07-11T03:00:00",
          "2025-07-11T04:00:00",
          "2025-07-11T05:00:00",
          "2025-07-11T06:00:00",
          "2025-07-11T07:00:00",
          "2025-07-11T08:00:00",
          "2025-07-11T09:00:00",
          "2025-07-11T10:00:00",
          "2025-07-11T11:00:00",
          "2025-07-11T12:00:00",
          "2025-07-11T13:00:00",
          "2025-07-11T14:00:00",
          "2025-07-11T15:00:00",
          "2025-07-11T16:00:00",
          "2025-07-11T17:00:00",
          "2025-07-11T18:00:00",
          "2025-07-11T21:00:00",
          "2025-07-12T00:00:00",
          "2025-07-12T03:00:00",
          "2025-07-12T06:00:00",
          "2025-07-12T09:00:00",
          "2025-07-12T12:00:00",
          "2025-07-12T15:00:00",
          "2025-07-12T18:00:00",
          "2025-07-12T21:00:00",
          "2025-07-13T00:00:00",
          "2025-07-13T03:00:00",
          "2025-07-13T06:00:00",
          "2025-07-13T09:00:00",
          "2025-07-13T12:00:00",
          "2025-07-13T15:00:00",
          "2025-07-13T18:00:00",
          "2025-07-13T21:00:00",
          "2025-07-14T00:00:00",
          "2025-07-14T06:00:00",
          "2025-07-14T12:00:00",
          "2025-07-14T18:00:00",
          "2025-07-15T00:00:00",
          "2025-07-15T06:00:00",
          "2025-07-15T12:00:00",
          "2025-07-15T18:00:00",
          "2025-07-16T00:00:00",
          "2025-07-16T06:00:00",
          "2025-07-16T12:00:00",
          "2025-07-16T18:00:00",
          "2025-07-17T00:00:00",
          "2025-07-17T06:00:00",
          "2025-07-17T12:00:00",
          "2025-07-17T18:00:00",
          "2025-07-18T00:00:00",
          "2025-07-18T06:00:00",
          "2025-07-18T12:00:00",
          "2025-07-18T18:00:00",
          "2025-07-19T00:00:00",
          "2025-07-19T06:00:00",
          "2025-07-19T12:00:00",
          "2025-07-19T18:00:00",
          "2025-07-20T00:00:00",
          "2025-07-20T06:00:00",
          "2025-07-20T12:00:00",
          "2025-07-20T18:00:00",
          "2025-07-21T00:00:00",
          "2025-07-21T06:00:00",
          "2025-07-21T12:00:00",
          "2025-07-21T18:00:00",
          "2025-07-22T00:00:00",
          "2025-07-22T06:00:00",
          "2025-07-22T12:00:00",
          "2025-07-22T18:00:00",
          "2025-07-23T00:00:00"
         ],
         "xaxis": "x",
         "y": {
          "bdata": "zczMxAx/ckCamZkBAndyQDMzM8sacXJAAAAAoDBtckCamZn5nHZyQM3MzFw8jHJAMzMz236kckAzMzOjjsByQM3MzJRU1HJAzczM9OrnckBmZmZuMv5yQJqZmWHmBHNAZmZmVq4Fc0AzMzOjLP5yQM3MzNRo5nJAmpmZaQ7ackDNzMx8189yQDMzM0s2wHJAAAAAMFW6ckCamZmpnrJyQAAAAGDmq3JAAAAAoKugckAzMzPzIplyQJqZmTGsj3JAmpmZaSKJckDNzMyMGIRyQDMzMzslgHJAmpmZGVR8ckDNzMwUbotyQJqZmWGLm3JAMzMz84GzckAzMzNjU8hyQDMzM/N04HJAzczMzNL0ckDNzMz0nf9yQDMzM/O+AnNAzczM7LMGc0DNzMykVAlzQJqZmTkH/HJAMzMzgwHickAAAAAAXd9yQJqZmamd0nJAzczMxN3GckCamZlZN7tyQAAAAChor3JAzczMlP6kckBmZmb2a5pyQAAAAIgqlHJAZmZmnluKckCamZmZboZyQM3MzCSVgHJAMzMzs8B8ckCamZnxOY5yQGZmZmZklXJAmpmZebqrckCamZkRHMlyQM3MzNwm5XJAzczM3Mz7ckDNzMxkXgxzQAAAALi2GHNAzczMnIkgc0DNzMyUeB1zQAAAAIhDF3NAZmZmVoMHc0CamZkJivNyQM3MzLRC3XJAAAAAuHjMckDNzMzsc8FyQAAAADhPtHJAAAAAaK+nckBmZmYWaptyQAAAADhCknJAZmZmrryIckAzMzPj/YFyQAAAAABve3JAAAAAGBl3ckCamZmR2XxyQDMzMwNHjnJAZmZm7vykckBmZmbW279yQJqZmVnb1nJAAAAAsJDtckBmZmY2Z/xyQM3MzASpB3NAMzMzMxAMc0AzMzPLbgdzQAAAAOCP83JAZmZmnl3pckDNzMwc0NdyQGZmZqbax3JAmpmZIem6ckCamZl5D5hyQJqZmZEXe3JAzczMvDhrckAAAAAYUaNyQGZmZpZE7nJAmpmZId8Ic0DNzMwsmfFyQM3MzFy1x3JAMzMz29+lckCamZmhcYlyQM3MzAyqenJAmpmZ6emxckBmZmbWEfdyQM3MzBQbF3NAAAAA+AHyckCamZl5FMlyQM3MzDTOpnJAMzMz44qSckDNzMzExKxyQGZmZqaQC3NAAAAAML7FckCamZkZcZByQJqZmelKrHJAmpmZaaMGc0CamZk5m85yQDMzM6NYk3JAMzMzw7a0ckAzMzPjhhlzQDMzMwsVzHJAmpmZ0UaYckCamZkhNKtyQJqZmfkYDHNAzczMNELDckDNzMx8W5ByQM3MzEQyp3JAMzMzE54Pc0AzMzNjNrpyQGZmZi4ugXJAMzMzC+ipckCamZkhMB9zQJqZmekLwHJAmpmZ4aSCckAzMzMb76hyQAAAAPC2I3NAmpmZ4aTVckBmZmbGP4tyQGZmZka9sXJAAAAAAMkVc0CamZkBI8VyQAAAAAhHgnJAAAAA4MSockDNzMzsphNzQDMzM/uwxXJAZmZmziOFckA=",
          "dtype": "f8"
         },
         "yaxis": "y"
        },
        {
         "hovertemplate": "%{y:.2f}<extra>P<sub>25%</sub></extra>",
         "marker": {
          "color": "#27aeef",
          "size": 0.00001
         },
         "mode": "markers",
         "type": "scatter",
         "x": [
          "2025-07-08T00:00:00",
          "2025-07-08T01:00:00",
          "2025-07-08T02:00:00",
          "2025-07-08T03:00:00",
          "2025-07-08T04:00:00",
          "2025-07-08T05:00:00",
          "2025-07-08T06:00:00",
          "2025-07-08T07:00:00",
          "2025-07-08T08:00:00",
          "2025-07-08T09:00:00",
          "2025-07-08T10:00:00",
          "2025-07-08T11:00:00",
          "2025-07-08T12:00:00",
          "2025-07-08T13:00:00",
          "2025-07-08T14:00:00",
          "2025-07-08T15:00:00",
          "2025-07-08T16:00:00",
          "2025-07-08T17:00:00",
          "2025-07-08T18:00:00",
          "2025-07-08T19:00:00",
          "2025-07-08T20:00:00",
          "2025-07-08T21:00:00",
          "2025-07-08T22:00:00",
          "2025-07-08T23:00:00",
          "2025-07-09T00:00:00",
          "2025-07-09T01:00:00",
          "2025-07-09T02:00:00",
          "2025-07-09T03:00:00",
          "2025-07-09T04:00:00",
          "2025-07-09T05:00:00",
          "2025-07-09T06:00:00",
          "2025-07-09T07:00:00",
          "2025-07-09T08:00:00",
          "2025-07-09T09:00:00",
          "2025-07-09T10:00:00",
          "2025-07-09T11:00:00",
          "2025-07-09T12:00:00",
          "2025-07-09T13:00:00",
          "2025-07-09T14:00:00",
          "2025-07-09T15:00:00",
          "2025-07-09T16:00:00",
          "2025-07-09T17:00:00",
          "2025-07-09T18:00:00",
          "2025-07-09T19:00:00",
          "2025-07-09T20:00:00",
          "2025-07-09T21:00:00",
          "2025-07-09T22:00:00",
          "2025-07-09T23:00:00",
          "2025-07-10T00:00:00",
          "2025-07-10T01:00:00",
          "2025-07-10T02:00:00",
          "2025-07-10T03:00:00",
          "2025-07-10T04:00:00",
          "2025-07-10T05:00:00",
          "2025-07-10T06:00:00",
          "2025-07-10T07:00:00",
          "2025-07-10T08:00:00",
          "2025-07-10T09:00:00",
          "2025-07-10T10:00:00",
          "2025-07-10T11:00:00",
          "2025-07-10T12:00:00",
          "2025-07-10T13:00:00",
          "2025-07-10T14:00:00",
          "2025-07-10T15:00:00",
          "2025-07-10T16:00:00",
          "2025-07-10T17:00:00",
          "2025-07-10T18:00:00",
          "2025-07-10T19:00:00",
          "2025-07-10T20:00:00",
          "2025-07-10T21:00:00",
          "2025-07-10T22:00:00",
          "2025-07-10T23:00:00",
          "2025-07-11T00:00:00",
          "2025-07-11T01:00:00",
          "2025-07-11T02:00:00",
          "2025-07-11T03:00:00",
          "2025-07-11T04:00:00",
          "2025-07-11T05:00:00",
          "2025-07-11T06:00:00",
          "2025-07-11T07:00:00",
          "2025-07-11T08:00:00",
          "2025-07-11T09:00:00",
          "2025-07-11T10:00:00",
          "2025-07-11T11:00:00",
          "2025-07-11T12:00:00",
          "2025-07-11T13:00:00",
          "2025-07-11T14:00:00",
          "2025-07-11T15:00:00",
          "2025-07-11T16:00:00",
          "2025-07-11T17:00:00",
          "2025-07-11T18:00:00",
          "2025-07-11T21:00:00",
          "2025-07-12T00:00:00",
          "2025-07-12T03:00:00",
          "2025-07-12T06:00:00",
          "2025-07-12T09:00:00",
          "2025-07-12T12:00:00",
          "2025-07-12T15:00:00",
          "2025-07-12T18:00:00",
          "2025-07-12T21:00:00",
          "2025-07-13T00:00:00",
          "2025-07-13T03:00:00",
          "2025-07-13T06:00:00",
          "2025-07-13T09:00:00",
          "2025-07-13T12:00:00",
          "2025-07-13T15:00:00",
          "2025-07-13T18:00:00",
          "2025-07-13T21:00:00",
          "2025-07-14T00:00:00",
          "2025-07-14T06:00:00",
          "2025-07-14T12:00:00",
          "2025-07-14T18:00:00",
          "2025-07-15T00:00:00",
          "2025-07-15T06:00:00",
          "2025-07-15T12:00:00",
          "2025-07-15T18:00:00",
          "2025-07-16T00:00:00",
          "2025-07-16T06:00:00",
          "2025-07-16T12:00:00",
          "2025-07-16T18:00:00",
          "2025-07-17T00:00:00",
          "2025-07-17T06:00:00",
          "2025-07-17T12:00:00",
          "2025-07-17T18:00:00",
          "2025-07-18T00:00:00",
          "2025-07-18T06:00:00",
          "2025-07-18T12:00:00",
          "2025-07-18T18:00:00",
          "2025-07-19T00:00:00",
          "2025-07-19T06:00:00",
          "2025-07-19T12:00:00",
          "2025-07-19T18:00:00",
          "2025-07-20T00:00:00",
          "2025-07-20T06:00:00",
          "2025-07-20T12:00:00",
          "2025-07-20T18:00:00",
          "2025-07-21T00:00:00",
          "2025-07-21T06:00:00",
          "2025-07-21T12:00:00",
          "2025-07-21T18:00:00",
          "2025-07-22T00:00:00",
          "2025-07-22T06:00:00",
          "2025-07-22T12:00:00",
          "2025-07-22T18:00:00",
          "2025-07-23T00:00:00"
         ],
         "xaxis": "x",
         "y": {
          "bdata": "AAAAzIeDckAAAACcc3pyQAAAAEgLdHJAAAAA4LpwckAAAABYLHtyQAAAABDlkHJAAAAAfLinckAAAAC4sMdyQAAAAOjn2HJAAAAAhOjxckAAAAAIQwFzQAAAAGQVDHNAAAAA2NMMc0AAAABQmwJzQAAAAPhy8XJAAAAA5AblckAAAAAAO9hyQAAAALTqyXJAAAAAXBPAckAAAAD0VrhyQAAAANxHr3JAAAAA3IenckAAAACkop9yQAAAANC7l3JAAAAAZAuTckAAAABAjYpyQAAAAPiXg3JAAAAAjICCckAAAABUNo9yQAAAAOzJoHJAAAAAmCC2ckAAAADwAtFyQAAAAODV6XJAAAAAgIz8ckAAAAAU7AZzQAAAAHwpDXNAAAAAVMwPc0AAAAAo7w9zQAAAAKRBBHNAAAAAtCr1ckAAAACIcOlyQAAAADQc13JAAAAAZOLLckAAAADAy8NyQAAAAJgfuHJAAAAADGStckAAAAB4ZqFyQAAAAEAFmHJAAAAAMJCQckAAAACUm4pyQAAAANhYhXJAAAAAaFaFckAAAAB8F5ZyQAAAAJijoXJAAAAAZK61ckAAAAC4sMxyQAAAAPy/6HJAAAAAtP/+ckAAAADsghBzQAAAAFjCHXNAAAAAcLImc0AAAACwCCRzQAAAAPx1G3NAAAAADCUOc0AAAABADv1yQAAAAPhC5HJAAAAAIL7SckAAAAB8HsRyQAAAAExbtnJAAAAArPOqckAAAABwMaFyQAAAAFDPlXJAAAAA7NeNckAAAADgLYhyQAAAAGStgnJAAAAAZNh+ckAAAAC8p4dyQAAAAFyClXJAAAAA2N+uckAAAADkychyQAAAAMSJ4nJAAAAAmBr1ckAAAACIrgZzQAAAAMhKDnNAAAAA5LMSc0AAAABoDA5zQAAAAGRJAXNAAAAADAXyckAAAACUKOFyQAAAAMQy0XJAAAAATM3DckAAAAAcCZ9yQAAAAJyFgnJAAAAAiFFwckAAAACsi6hyQAAAAKxi9nJAAAAA4PoTc0AAAAC4M/pyQAAAAHznz3JAAAAAECerckAAAACQm5JyQAAAAKD9f3JAAAAAFEi4ckAAAAB4pQVzQAAAAJA0I3NAAAAAkMADc0AAAACIZc9yQAAAAFjIrXJAAAAA2BqYckAAAACQk7ZyQAAAAADBGXNAAAAAnC/NckAAAABMPphyQAAAANw8t3JAAAAA9FEic0AAAADYjNRyQAAAAPydnHJAAAAAvA+9ckAAAAA0jiVzQAAAAEj/23JAAAAAOOOdckAAAAD4WbdyQAAAAMztIHNAAAAAlGHSckAAAAA0LppyQAAAAHzBtXJAAAAAyMAdc0AAAACcqsVyQAAAAPjIjHJAAAAAtMC0ckAAAAAwNS1zQAAAADS40nJAAAAAvNSPckAAAABYELZyQAAAAPD4KnNAAAAAtO7dckAAAADsDpRyQAAAADjkt3JAAAAANKonc0AAAAAkRNtyQAAAAFxNlnJAAAAAeAK3ckAAAABMBh5zQAAAABhl0XJAAAAAHMORckA=",
          "dtype": "f8"
         },
         "yaxis": "y"
        },
        {
         "hovertemplate": "%{y:.2f}<extra>P<sub>50%</sub></extra>",
         "marker": {
          "color": "#27aeef",
          "size": 0.00001
         },
         "mode": "markers",
         "type": "scatter",
         "x": [
          "2025-07-08T00:00:00",
          "2025-07-08T01:00:00",
          "2025-07-08T02:00:00",
          "2025-07-08T03:00:00",
          "2025-07-08T04:00:00",
          "2025-07-08T05:00:00",
          "2025-07-08T06:00:00",
          "2025-07-08T07:00:00",
          "2025-07-08T08:00:00",
          "2025-07-08T09:00:00",
          "2025-07-08T10:00:00",
          "2025-07-08T11:00:00",
          "2025-07-08T12:00:00",
          "2025-07-08T13:00:00",
          "2025-07-08T14:00:00",
          "2025-07-08T15:00:00",
          "2025-07-08T16:00:00",
          "2025-07-08T17:00:00",
          "2025-07-08T18:00:00",
          "2025-07-08T19:00:00",
          "2025-07-08T20:00:00",
          "2025-07-08T21:00:00",
          "2025-07-08T22:00:00",
          "2025-07-08T23:00:00",
          "2025-07-09T00:00:00",
          "2025-07-09T01:00:00",
          "2025-07-09T02:00:00",
          "2025-07-09T03:00:00",
          "2025-07-09T04:00:00",
          "2025-07-09T05:00:00",
          "2025-07-09T06:00:00",
          "2025-07-09T07:00:00",
          "2025-07-09T08:00:00",
          "2025-07-09T09:00:00",
          "2025-07-09T10:00:00",
          "2025-07-09T11:00:00",
          "2025-07-09T12:00:00",
          "2025-07-09T13:00:00",
          "2025-07-09T14:00:00",
          "2025-07-09T15:00:00",
          "2025-07-09T16:00:00",
          "2025-07-09T17:00:00",
          "2025-07-09T18:00:00",
          "2025-07-09T19:00:00",
          "2025-07-09T20:00:00",
          "2025-07-09T21:00:00",
          "2025-07-09T22:00:00",
          "2025-07-09T23:00:00",
          "2025-07-10T00:00:00",
          "2025-07-10T01:00:00",
          "2025-07-10T02:00:00",
          "2025-07-10T03:00:00",
          "2025-07-10T04:00:00",
          "2025-07-10T05:00:00",
          "2025-07-10T06:00:00",
          "2025-07-10T07:00:00",
          "2025-07-10T08:00:00",
          "2025-07-10T09:00:00",
          "2025-07-10T10:00:00",
          "2025-07-10T11:00:00",
          "2025-07-10T12:00:00",
          "2025-07-10T13:00:00",
          "2025-07-10T14:00:00",
          "2025-07-10T15:00:00",
          "2025-07-10T16:00:00",
          "2025-07-10T17:00:00",
          "2025-07-10T18:00:00",
          "2025-07-10T19:00:00",
          "2025-07-10T20:00:00",
          "2025-07-10T21:00:00",
          "2025-07-10T22:00:00",
          "2025-07-10T23:00:00",
          "2025-07-11T00:00:00",
          "2025-07-11T01:00:00",
          "2025-07-11T02:00:00",
          "2025-07-11T03:00:00",
          "2025-07-11T04:00:00",
          "2025-07-11T05:00:00",
          "2025-07-11T06:00:00",
          "2025-07-11T07:00:00",
          "2025-07-11T08:00:00",
          "2025-07-11T09:00:00",
          "2025-07-11T10:00:00",
          "2025-07-11T11:00:00",
          "2025-07-11T12:00:00",
          "2025-07-11T13:00:00",
          "2025-07-11T14:00:00",
          "2025-07-11T15:00:00",
          "2025-07-11T16:00:00",
          "2025-07-11T17:00:00",
          "2025-07-11T18:00:00",
          "2025-07-11T21:00:00",
          "2025-07-12T00:00:00",
          "2025-07-12T03:00:00",
          "2025-07-12T06:00:00",
          "2025-07-12T09:00:00",
          "2025-07-12T12:00:00",
          "2025-07-12T15:00:00",
          "2025-07-12T18:00:00",
          "2025-07-12T21:00:00",
          "2025-07-13T00:00:00",
          "2025-07-13T03:00:00",
          "2025-07-13T06:00:00",
          "2025-07-13T09:00:00",
          "2025-07-13T12:00:00",
          "2025-07-13T15:00:00",
          "2025-07-13T18:00:00",
          "2025-07-13T21:00:00",
          "2025-07-14T00:00:00",
          "2025-07-14T06:00:00",
          "2025-07-14T12:00:00",
          "2025-07-14T18:00:00",
          "2025-07-15T00:00:00",
          "2025-07-15T06:00:00",
          "2025-07-15T12:00:00",
          "2025-07-15T18:00:00",
          "2025-07-16T00:00:00",
          "2025-07-16T06:00:00",
          "2025-07-16T12:00:00",
          "2025-07-16T18:00:00",
          "2025-07-17T00:00:00",
          "2025-07-17T06:00:00",
          "2025-07-17T12:00:00",
          "2025-07-17T18:00:00",
          "2025-07-18T00:00:00",
          "2025-07-18T06:00:00",
          "2025-07-18T12:00:00",
          "2025-07-18T18:00:00",
          "2025-07-19T00:00:00",
          "2025-07-19T06:00:00",
          "2025-07-19T12:00:00",
          "2025-07-19T18:00:00",
          "2025-07-20T00:00:00",
          "2025-07-20T06:00:00",
          "2025-07-20T12:00:00",
          "2025-07-20T18:00:00",
          "2025-07-21T00:00:00",
          "2025-07-21T06:00:00",
          "2025-07-21T12:00:00",
          "2025-07-21T18:00:00",
          "2025-07-22T00:00:00",
          "2025-07-22T06:00:00",
          "2025-07-22T12:00:00",
          "2025-07-22T18:00:00",
          "2025-07-23T00:00:00"
         ],
         "xaxis": "x",
         "y": {
          "bdata": "AAAAuMmKckAAAABgPYByQAAAADjdeXJAAAAA6M11ckAAAADQo4JyQAAAAIB7l3JAAAAAIByvckAAAADwicxyQAAAANDK4HJAAAAA2Lz4ckAAAAAAAgxzQAAAAAgIF3NAAAAAULEVc0AAAABASwpzQAAAAKCI/XJAAAAAEF7tckAAAABwN99yQAAAAMiR0XJAAAAAqJPIckAAAACAiMByQAAAACjhtXJAAAAAOMOtckAAAACQV6ZyQAAAANDdnXJAAAAAMEqYckAAAACA6ZFyQAAAANiui3JAAAAAcByHckAAAADARJVyQAAAAIj8pXJAAAAAeLi7ckAAAADAm9ZyQAAAABgS8XJAAAAA8HUHc0AAAACoWBZzQAAAAMBXG3NAAAAACDcfc0AAAACAiRdzQAAAACgEDnNAAAAA+Nf+ckAAAAA4qO9yQAAAAJhL3nJAAAAAwLjTckAAAAAYRslyQAAAAKAkv3JAAAAA6IizckAAAACQWKlyQAAAALBsn3JAAAAAWICWckAAAADI9JByQAAAAMhWjXJAAAAAiPmLckAAAAAYkJlyQAAAAHAGrnJAAAAAqHi/ckAAAADwqNJyQAAAANC67HJAAAAACLQDc0AAAADIxBRzQAAAAMCtInNAAAAASHArc0AAAADwuChzQAAAADiEIHNAAAAA+KETc0AAAAB4TAJzQAAAACgU7XJAAAAAWPnackAAAABYRcpyQAAAAGB0vHJAAAAAKMGwckAAAACgyKVyQAAAAHDUm3JAAAAAsFSUckAAAACQIY1yQAAAAFjYhXJAAAAAGCSCckAAAACwfY5yQAAAADCxnnJAAAAAiPm1ckAAAACoRc9yQAAAAAhD63JAAAAA0LP+ckAAAAAA6Q1zQAAAAECyGXNAAAAAADofc0AAAABg2xlzQAAAAPjVD3NAAAAAUAf/ckAAAAAYhOxyQAAAAJAj2nJAAAAAMHfLckAAAABgralyQAAAAJA4jHJAAAAAmER+ckAAAACQmrByQAAAAEDPAXNAAAAAMH0kc0AAAABgXAdzQAAAAEiJ13JAAAAAgICwckAAAAAQCJdyQAAAAMDyiHJAAAAAsKK+ckAAAACgsgpzQAAAAGBMLHNAAAAAUNQMc0AAAAAQ+tpyQAAAAEAWtXJAAAAAeAKgckAAAACIDb1yQAAAAKgMKXNAAAAA8FPZckAAAAAw46JyQAAAAIijvnJAAAAAmK4oc0AAAAA4RdtyQAAAAKgJpXJAAAAAkFDJckAAAADQGTNzQAAAADg75XJAAAAAEAGrckAAAAD4xMdyQAAAAFjmLHNAAAAAcH3gckAAAABo0qFyQAAAAChGwHJAAAAA2Igvc0AAAADo591yQAAAALiQmXJAAAAAUIK+ckAAAADgyjdzQAAAAKD05nJAAAAACPyackAAAADANcFyQAAAALChNnNAAAAAAD/qckAAAAA4r5xyQAAAAIg7wnJAAAAAEEQ4c0AAAAD4XO1yQAAAAIiWonJAAAAAoLLCckAAAAAIZy5zQAAAAAgI5XJAAAAAEFGcckA=",
          "dtype": "f8"
         },
         "yaxis": "y"
        },
        {
         "hovertemplate": "%{y:.2f}<extra>P<sub>75%</sub></extra>",
         "marker": {
          "color": "#27aeef",
          "size": 0.00001
         },
         "mode": "markers",
         "type": "scatter",
         "x": [
          "2025-07-08T00:00:00",
          "2025-07-08T01:00:00",
          "2025-07-08T02:00:00",
          "2025-07-08T03:00:00",
          "2025-07-08T04:00:00",
          "2025-07-08T05:00:00",
          "2025-07-08T06:00:00",
          "2025-07-08T07:00:00",
          "2025-07-08T08:00:00",
          "2025-07-08T09:00:00",
          "2025-07-08T10:00:00",
          "2025-07-08T11:00:00",
          "2025-07-08T12:00:00",
          "2025-07-08T13:00:00",
          "2025-07-08T14:00:00",
          "2025-07-08T15:00:00",
          "2025-07-08T16:00:00",
          "2025-07-08T17:00:00",
          "2025-07-08T18:00:00",
          "2025-07-08T19:00:00",
          "2025-07-08T20:00:00",
          "2025-07-08T21:00:00",
          "2025-07-08T22:00:00",
          "2025-07-08T23:00:00",
          "2025-07-09T00:00:00",
          "2025-07-09T01:00:00",
          "2025-07-09T02:00:00",
          "2025-07-09T03:00:00",
          "2025-07-09T04:00:00",
          "2025-07-09T05:00:00",
          "2025-07-09T06:00:00",
          "2025-07-09T07:00:00",
          "2025-07-09T08:00:00",
          "2025-07-09T09:00:00",
          "2025-07-09T10:00:00",
          "2025-07-09T11:00:00",
          "2025-07-09T12:00:00",
          "2025-07-09T13:00:00",
          "2025-07-09T14:00:00",
          "2025-07-09T15:00:00",
          "2025-07-09T16:00:00",
          "2025-07-09T17:00:00",
          "2025-07-09T18:00:00",
          "2025-07-09T19:00:00",
          "2025-07-09T20:00:00",
          "2025-07-09T21:00:00",
          "2025-07-09T22:00:00",
          "2025-07-09T23:00:00",
          "2025-07-10T00:00:00",
          "2025-07-10T01:00:00",
          "2025-07-10T02:00:00",
          "2025-07-10T03:00:00",
          "2025-07-10T04:00:00",
          "2025-07-10T05:00:00",
          "2025-07-10T06:00:00",
          "2025-07-10T07:00:00",
          "2025-07-10T08:00:00",
          "2025-07-10T09:00:00",
          "2025-07-10T10:00:00",
          "2025-07-10T11:00:00",
          "2025-07-10T12:00:00",
          "2025-07-10T13:00:00",
          "2025-07-10T14:00:00",
          "2025-07-10T15:00:00",
          "2025-07-10T16:00:00",
          "2025-07-10T17:00:00",
          "2025-07-10T18:00:00",
          "2025-07-10T19:00:00",
          "2025-07-10T20:00:00",
          "2025-07-10T21:00:00",
          "2025-07-10T22:00:00",
          "2025-07-10T23:00:00",
          "2025-07-11T00:00:00",
          "2025-07-11T01:00:00",
          "2025-07-11T02:00:00",
          "2025-07-11T03:00:00",
          "2025-07-11T04:00:00",
          "2025-07-11T05:00:00",
          "2025-07-11T06:00:00",
          "2025-07-11T07:00:00",
          "2025-07-11T08:00:00",
          "2025-07-11T09:00:00",
          "2025-07-11T10:00:00",
          "2025-07-11T11:00:00",
          "2025-07-11T12:00:00",
          "2025-07-11T13:00:00",
          "2025-07-11T14:00:00",
          "2025-07-11T15:00:00",
          "2025-07-11T16:00:00",
          "2025-07-11T17:00:00",
          "2025-07-11T18:00:00",
          "2025-07-11T21:00:00",
          "2025-07-12T00:00:00",
          "2025-07-12T03:00:00",
          "2025-07-12T06:00:00",
          "2025-07-12T09:00:00",
          "2025-07-12T12:00:00",
          "2025-07-12T15:00:00",
          "2025-07-12T18:00:00",
          "2025-07-12T21:00:00",
          "2025-07-13T00:00:00",
          "2025-07-13T03:00:00",
          "2025-07-13T06:00:00",
          "2025-07-13T09:00:00",
          "2025-07-13T12:00:00",
          "2025-07-13T15:00:00",
          "2025-07-13T18:00:00",
          "2025-07-13T21:00:00",
          "2025-07-14T00:00:00",
          "2025-07-14T06:00:00",
          "2025-07-14T12:00:00",
          "2025-07-14T18:00:00",
          "2025-07-15T00:00:00",
          "2025-07-15T06:00:00",
          "2025-07-15T12:00:00",
          "2025-07-15T18:00:00",
          "2025-07-16T00:00:00",
          "2025-07-16T06:00:00",
          "2025-07-16T12:00:00",
          "2025-07-16T18:00:00",
          "2025-07-17T00:00:00",
          "2025-07-17T06:00:00",
          "2025-07-17T12:00:00",
          "2025-07-17T18:00:00",
          "2025-07-18T00:00:00",
          "2025-07-18T06:00:00",
          "2025-07-18T12:00:00",
          "2025-07-18T18:00:00",
          "2025-07-19T00:00:00",
          "2025-07-19T06:00:00",
          "2025-07-19T12:00:00",
          "2025-07-19T18:00:00",
          "2025-07-20T00:00:00",
          "2025-07-20T06:00:00",
          "2025-07-20T12:00:00",
          "2025-07-20T18:00:00",
          "2025-07-21T00:00:00",
          "2025-07-21T06:00:00",
          "2025-07-21T12:00:00",
          "2025-07-21T18:00:00",
          "2025-07-22T00:00:00",
          "2025-07-22T06:00:00",
          "2025-07-22T12:00:00",
          "2025-07-22T18:00:00",
          "2025-07-23T00:00:00"
         ],
         "xaxis": "x",
         "y": {
          "bdata": "AAAAALCTckAAAAC8SIhyQAAAAGy6gnJAAAAABHd9ckAAAABAe4hyQAAAAJC9nHJAAAAAmDW0ckAAAACYcM9yQAAAAKga53JAAAAAmNT/ckAAAAAUvBJzQAAAAOh4HXNAAAAAaAocc0AAAACIXhVzQAAAANRGA3NAAAAAsIfzckAAAABoyedyQAAAAPSF2HJAAAAA8D3PckAAAABsdMVyQAAAAFgnv3JAAAAAbKe1ckAAAACA7K1yQAAAAFzipnJAAAAAXLGfckAAAACg5JdyQAAAAJTZkXJAAAAAFHiPckAAAAD02ppyQAAAAHCprXJAAAAADMPCckAAAAA82NxyQAAAANx79XJAAAAA0LgPc0AAAABcNiFzQAAAALSdKnNAAAAAhGgvc0AAAABQBCNzQAAAAKxhFnNAAAAAnBQLc0AAAADQR/ZyQAAAADAf5HJAAAAAgCXYckAAAAAUzc5yQAAAAByIxHJAAAAAaNm4ckAAAADU5a5yQAAAANC/pXJAAAAALNmeckAAAAAI1ZdyQAAAANxmlHJAAAAAPAiSckAAAADcOp9yQAAAAESJsnJAAAAA4B7GckAAAADEYNxyQAAAAORB8XJAAAAASAcHc0AAAAA0ghxzQAAAAOhRK3NAAAAA4Dwzc0AAAADISDBzQAAAAPihJXNAAAAA8I0Yc0AAAACo1AZzQAAAAKh29HJAAAAASATjckAAAAAcjM9yQAAAAOSywXJAAAAANPy0ckAAAADkZKtyQAAAALgDonJAAAAAyAyYckAAAADsXpByQAAAAPSai3JAAAAAROCJckAAAACQDJZyQAAAAASKpnJAAAAACKK7ckAAAADMHNZyQAAAAIzF73JAAAAAGJQDc0AAAABQ0RNzQAAAAJhpIHNAAAAAlJ8oc0AAAACQ/SFzQAAAAAx8F3NAAAAAECYEc0AAAABwC/RyQAAAAGRP4HJAAAAATJbSckAAAABsQ7ByQAAAAACMknJAAAAADLWDckAAAACkVbZyQAAAAJTvB3NAAAAAWHwpc0AAAAAIdQ5zQAAAAHTi33JAAAAAQDq2ckAAAADERJ5yQAAAAGxxj3JAAAAAvEPEckAAAADYExRzQAAAALh2NHNAAAAAVHMac0AAAACw7+RyQAAAAKi6unJAAAAACJOkckAAAAAYWslyQAAAAAyHL3NAAAAA/P3kckAAAACgDaxyQAAAAPyKxnJAAAAAGDszc0AAAACki+RyQAAAALxSqXJAAAAAuOTOckAAAAAclDpzQAAAAMA68nJAAAAA9JexckAAAADsbtFyQAAAAExkO3NAAAAA+DDpckAAAAA4RatyQAAAAGxvyXJAAAAAUAc7c0AAAACcYO1yQAAAABQqo3JAAAAAeIrHckAAAAA8h0NzQAAAAHAx8HJAAAAAKMqgckAAAACkqcZyQAAAAIBFQHNAAAAAtNjxckAAAADsradyQAAAAFRNz3JAAAAABF5Cc0AAAAB8N/NyQAAAABgtqnJAAAAAZGvNckAAAACkvTpzQAAAALTd7nJAAAAANDWkckA=",
          "dtype": "f8"
         },
         "yaxis": "y"
        },
        {
         "hovertemplate": "%{y:.2f}<extra>P<sub>90%</sub></extra>",
         "marker": {
          "color": "#27aeef",
          "size": 0.00001
         },
         "mode": "markers",
         "type": "scatter",
         "x": [
          "2025-07-08T00:00:00",
          "2025-07-08T01:00:00",
          "2025-07-08T02:00:00",
          "2025-07-08T03:00:00",
          "2025-07-08T04:00:00",
          "2025-07-08T05:00:00",
          "2025-07-08T06:00:00",
          "2025-07-08T07:00:00",
          "2025-07-08T08:00:00",
          "2025-07-08T09:00:00",
          "2025-07-08T10:00:00",
          "2025-07-08T11:00:00",
          "2025-07-08T12:00:00",
          "2025-07-08T13:00:00",
          "2025-07-08T14:00:00",
          "2025-07-08T15:00:00",
          "2025-07-08T16:00:00",
          "2025-07-08T17:00:00",
          "2025-07-08T18:00:00",
          "2025-07-08T19:00:00",
          "2025-07-08T20:00:00",
          "2025-07-08T21:00:00",
          "2025-07-08T22:00:00",
          "2025-07-08T23:00:00",
          "2025-07-09T00:00:00",
          "2025-07-09T01:00:00",
          "2025-07-09T02:00:00",
          "2025-07-09T03:00:00",
          "2025-07-09T04:00:00",
          "2025-07-09T05:00:00",
          "2025-07-09T06:00:00",
          "2025-07-09T07:00:00",
          "2025-07-09T08:00:00",
          "2025-07-09T09:00:00",
          "2025-07-09T10:00:00",
          "2025-07-09T11:00:00",
          "2025-07-09T12:00:00",
          "2025-07-09T13:00:00",
          "2025-07-09T14:00:00",
          "2025-07-09T15:00:00",
          "2025-07-09T16:00:00",
          "2025-07-09T17:00:00",
          "2025-07-09T18:00:00",
          "2025-07-09T19:00:00",
          "2025-07-09T20:00:00",
          "2025-07-09T21:00:00",
          "2025-07-09T22:00:00",
          "2025-07-09T23:00:00",
          "2025-07-10T00:00:00",
          "2025-07-10T01:00:00",
          "2025-07-10T02:00:00",
          "2025-07-10T03:00:00",
          "2025-07-10T04:00:00",
          "2025-07-10T05:00:00",
          "2025-07-10T06:00:00",
          "2025-07-10T07:00:00",
          "2025-07-10T08:00:00",
          "2025-07-10T09:00:00",
          "2025-07-10T10:00:00",
          "2025-07-10T11:00:00",
          "2025-07-10T12:00:00",
          "2025-07-10T13:00:00",
          "2025-07-10T14:00:00",
          "2025-07-10T15:00:00",
          "2025-07-10T16:00:00",
          "2025-07-10T17:00:00",
          "2025-07-10T18:00:00",
          "2025-07-10T19:00:00",
          "2025-07-10T20:00:00",
          "2025-07-10T21:00:00",
          "2025-07-10T22:00:00",
          "2025-07-10T23:00:00",
          "2025-07-11T00:00:00",
          "2025-07-11T01:00:00",
          "2025-07-11T02:00:00",
          "2025-07-11T03:00:00",
          "2025-07-11T04:00:00",
          "2025-07-11T05:00:00",
          "2025-07-11T06:00:00",
          "2025-07-11T07:00:00",
          "2025-07-11T08:00:00",
          "2025-07-11T09:00:00",
          "2025-07-11T10:00:00",
          "2025-07-11T11:00:00",
          "2025-07-11T12:00:00",
          "2025-07-11T13:00:00",
          "2025-07-11T14:00:00",
          "2025-07-11T15:00:00",
          "2025-07-11T16:00:00",
          "2025-07-11T17:00:00",
          "2025-07-11T18:00:00",
          "2025-07-11T21:00:00",
          "2025-07-12T00:00:00",
          "2025-07-12T03:00:00",
          "2025-07-12T06:00:00",
          "2025-07-12T09:00:00",
          "2025-07-12T12:00:00",
          "2025-07-12T15:00:00",
          "2025-07-12T18:00:00",
          "2025-07-12T21:00:00",
          "2025-07-13T00:00:00",
          "2025-07-13T03:00:00",
          "2025-07-13T06:00:00",
          "2025-07-13T09:00:00",
          "2025-07-13T12:00:00",
          "2025-07-13T15:00:00",
          "2025-07-13T18:00:00",
          "2025-07-13T21:00:00",
          "2025-07-14T00:00:00",
          "2025-07-14T06:00:00",
          "2025-07-14T12:00:00",
          "2025-07-14T18:00:00",
          "2025-07-15T00:00:00",
          "2025-07-15T06:00:00",
          "2025-07-15T12:00:00",
          "2025-07-15T18:00:00",
          "2025-07-16T00:00:00",
          "2025-07-16T06:00:00",
          "2025-07-16T12:00:00",
          "2025-07-16T18:00:00",
          "2025-07-17T00:00:00",
          "2025-07-17T06:00:00",
          "2025-07-17T12:00:00",
          "2025-07-17T18:00:00",
          "2025-07-18T00:00:00",
          "2025-07-18T06:00:00",
          "2025-07-18T12:00:00",
          "2025-07-18T18:00:00",
          "2025-07-19T00:00:00",
          "2025-07-19T06:00:00",
          "2025-07-19T12:00:00",
          "2025-07-19T18:00:00",
          "2025-07-20T00:00:00",
          "2025-07-20T06:00:00",
          "2025-07-20T12:00:00",
          "2025-07-20T18:00:00",
          "2025-07-21T00:00:00",
          "2025-07-21T06:00:00",
          "2025-07-21T12:00:00",
          "2025-07-21T18:00:00",
          "2025-07-22T00:00:00",
          "2025-07-22T06:00:00",
          "2025-07-22T12:00:00",
          "2025-07-22T18:00:00",
          "2025-07-23T00:00:00"
         ],
         "xaxis": "x",
         "y": {
          "bdata": "MzMzO6WdckDNzMy89pByQAAAAGDniHJAzczMxHGDckAzMzNrm45yQAAAAAgpo3JAzczMbM65ckAAAADIdNZyQGZmZtb87XJAmpmZwbYFc0BmZmaW4RtzQGZmZob5InNAmpmZETwqc0CamZmJXiFzQJqZmem4E3NAMzMzc+T6ckBmZmYOhvRyQGZmZrbt5HJAZmZmhiLVckAAAAAQastyQGZmZhagwXJAAAAAYMy3ckBmZmZO2rByQGZmZj61q3JAzczMpE6jckAAAABoOZ1yQJqZmZGRlnJAZmZmflaUckBmZmauLZ9yQDMzM1PgsnJAZmZm1vrGckCamZmRy95yQDMzM8Pg93JAzczMjBAUc0AzMzMTLCZzQDMzM2s6MHNAZmZmhoA0c0AzMzNTpC1zQM3MzFSmIXNAzczMxLUOc0AzMzOT0/9yQAAAAChS7XJAZmZm9sHcckBmZmYGv9FyQGZmZl7YyHJAmpmZCWO9ckCamZlBULVyQDMzM/NMqnJAZmZmbiGjckAAAADA9J1yQJqZmWk0mXJAZmZmtpaWckAAAAAgvqJyQJqZmeG7tnJAmpmZUVTLckAzMzOTf99yQJqZmRl593JAzczMxKMNc0AAAAAAKSJzQAAAADB5MHNAMzMzg4A4c0AAAAAI7jRzQDMzM5t3KnNAZmZmfkcdc0AzMzN7iglzQAAAAOhg93JAmpmZqTTockBmZmZWKdlyQM3MzHQtyXJAAAAAcA66ckCamZmpEq5yQM3MzPzTpHJAMzMzyzObckAzMzNTH5RyQJqZmZl6j3JAMzMzu7qOckBmZmZmKZlyQGZmZr5MrHJAAAAA+FbBckDNzMwcMt1yQAAAAKjl+HJAMzMzA6AOc0DNzMw0qB9zQDMzM6sFKXNAAAAAQNItc0CamZmplShzQM3MzLS5HHNAmpmZ+e8Lc0AzMzNjcvlyQM3MzPTk6HJAZmZmtpHYckBmZmamc7RyQGZmZlZjmnJAMzMzYxGKckDNzMxEKLpyQDMzM/OiEXNAAAAAEKczc0BmZmZ2UxRzQAAAALgW5nJAAAAAeNW/ckDNzMws8KNyQAAAAPBFmXJAmpmZuRnMckAzMzNjqRpzQAAAAJi4PXNAZmZmhr4gc0CamZnZ/OpyQM3MzFyKwnJAAAAAMJSockBmZmbuqs5yQGZmZi62OnNAzczMrM7vckCamZkBfrByQAAAABBOz3JAMzMzc4o5c0DNzMwE2vFyQJqZmaEKsXJAMzMzC/vWckCamZmJd0dzQM3MzNz/+HJAAAAAGAa3ckAAAACYuNlyQDMzMzv4QXNAzczMVLTxckCamZmpurFyQJqZmWnL1HJAmpmZUcJDc0AzMzO7jfZyQJqZmYH+q3JAMzMzE2/NckAzMzNj0kpzQGZmZi5d+XJAzczMFBGpckDNzMyEg89yQJqZmRmOTXNAmpmZaTH4ckAzMzNLDa9yQM3MzLzr1XJAMzMzwyBLc0DNzMw8EP9yQGZmZvaeuXJAMzMzY0vVckAzMzMrqkFzQDMzMwNF/HJAzczMlD+vckA=",
          "dtype": "f8"
         },
         "yaxis": "y"
        },
        {
         "hovertemplate": "%{y:.2f}<extra>P<sub>100%</sub></extra>",
         "marker": {
          "color": "#27aeef",
          "size": 0.00001
         },
         "mode": "markers",
         "type": "scatter",
         "x": [
          "2025-07-08T00:00:00",
          "2025-07-08T01:00:00",
          "2025-07-08T02:00:00",
          "2025-07-08T03:00:00",
          "2025-07-08T04:00:00",
          "2025-07-08T05:00:00",
          "2025-07-08T06:00:00",
          "2025-07-08T07:00:00",
          "2025-07-08T08:00:00",
          "2025-07-08T09:00:00",
          "2025-07-08T10:00:00",
          "2025-07-08T11:00:00",
          "2025-07-08T12:00:00",
          "2025-07-08T13:00:00",
          "2025-07-08T14:00:00",
          "2025-07-08T15:00:00",
          "2025-07-08T16:00:00",
          "2025-07-08T17:00:00",
          "2025-07-08T18:00:00",
          "2025-07-08T19:00:00",
          "2025-07-08T20:00:00",
          "2025-07-08T21:00:00",
          "2025-07-08T22:00:00",
          "2025-07-08T23:00:00",
          "2025-07-09T00:00:00",
          "2025-07-09T01:00:00",
          "2025-07-09T02:00:00",
          "2025-07-09T03:00:00",
          "2025-07-09T04:00:00",
          "2025-07-09T05:00:00",
          "2025-07-09T06:00:00",
          "2025-07-09T07:00:00",
          "2025-07-09T08:00:00",
          "2025-07-09T09:00:00",
          "2025-07-09T10:00:00",
          "2025-07-09T11:00:00",
          "2025-07-09T12:00:00",
          "2025-07-09T13:00:00",
          "2025-07-09T14:00:00",
          "2025-07-09T15:00:00",
          "2025-07-09T16:00:00",
          "2025-07-09T17:00:00",
          "2025-07-09T18:00:00",
          "2025-07-09T19:00:00",
          "2025-07-09T20:00:00",
          "2025-07-09T21:00:00",
          "2025-07-09T22:00:00",
          "2025-07-09T23:00:00",
          "2025-07-10T00:00:00",
          "2025-07-10T01:00:00",
          "2025-07-10T02:00:00",
          "2025-07-10T03:00:00",
          "2025-07-10T04:00:00",
          "2025-07-10T05:00:00",
          "2025-07-10T06:00:00",
          "2025-07-10T07:00:00",
          "2025-07-10T08:00:00",
          "2025-07-10T09:00:00",
          "2025-07-10T10:00:00",
          "2025-07-10T11:00:00",
          "2025-07-10T12:00:00",
          "2025-07-10T13:00:00",
          "2025-07-10T14:00:00",
          "2025-07-10T15:00:00",
          "2025-07-10T16:00:00",
          "2025-07-10T17:00:00",
          "2025-07-10T18:00:00",
          "2025-07-10T19:00:00",
          "2025-07-10T20:00:00",
          "2025-07-10T21:00:00",
          "2025-07-10T22:00:00",
          "2025-07-10T23:00:00",
          "2025-07-11T00:00:00",
          "2025-07-11T01:00:00",
          "2025-07-11T02:00:00",
          "2025-07-11T03:00:00",
          "2025-07-11T04:00:00",
          "2025-07-11T05:00:00",
          "2025-07-11T06:00:00",
          "2025-07-11T07:00:00",
          "2025-07-11T08:00:00",
          "2025-07-11T09:00:00",
          "2025-07-11T10:00:00",
          "2025-07-11T11:00:00",
          "2025-07-11T12:00:00",
          "2025-07-11T13:00:00",
          "2025-07-11T14:00:00",
          "2025-07-11T15:00:00",
          "2025-07-11T16:00:00",
          "2025-07-11T17:00:00",
          "2025-07-11T18:00:00",
          "2025-07-11T21:00:00",
          "2025-07-12T00:00:00",
          "2025-07-12T03:00:00",
          "2025-07-12T06:00:00",
          "2025-07-12T09:00:00",
          "2025-07-12T12:00:00",
          "2025-07-12T15:00:00",
          "2025-07-12T18:00:00",
          "2025-07-12T21:00:00",
          "2025-07-13T00:00:00",
          "2025-07-13T03:00:00",
          "2025-07-13T06:00:00",
          "2025-07-13T09:00:00",
          "2025-07-13T12:00:00",
          "2025-07-13T15:00:00",
          "2025-07-13T18:00:00",
          "2025-07-13T21:00:00",
          "2025-07-14T00:00:00",
          "2025-07-14T06:00:00",
          "2025-07-14T12:00:00",
          "2025-07-14T18:00:00",
          "2025-07-15T00:00:00",
          "2025-07-15T06:00:00",
          "2025-07-15T12:00:00",
          "2025-07-15T18:00:00",
          "2025-07-16T00:00:00",
          "2025-07-16T06:00:00",
          "2025-07-16T12:00:00",
          "2025-07-16T18:00:00",
          "2025-07-17T00:00:00",
          "2025-07-17T06:00:00",
          "2025-07-17T12:00:00",
          "2025-07-17T18:00:00",
          "2025-07-18T00:00:00",
          "2025-07-18T06:00:00",
          "2025-07-18T12:00:00",
          "2025-07-18T18:00:00",
          "2025-07-19T00:00:00",
          "2025-07-19T06:00:00",
          "2025-07-19T12:00:00",
          "2025-07-19T18:00:00",
          "2025-07-20T00:00:00",
          "2025-07-20T06:00:00",
          "2025-07-20T12:00:00",
          "2025-07-20T18:00:00",
          "2025-07-21T00:00:00",
          "2025-07-21T06:00:00",
          "2025-07-21T12:00:00",
          "2025-07-21T18:00:00",
          "2025-07-22T00:00:00",
          "2025-07-22T06:00:00",
          "2025-07-22T12:00:00",
          "2025-07-22T18:00:00",
          "2025-07-23T00:00:00"
         ],
         "xaxis": "x",
         "y": {
          "bdata": "AAAAoL2ickAAAAAwlptyQAAAAKAalnJAAAAAIMyRckAAAABAGppyQAAAALBGqXJAAAAAACTAckAAAAAQT91yQAAAAHBd9nJAAAAAoNsQc0AAAACwoCJzQAAAABAkL3NAAAAA8J49c0AAAABQojJzQAAAAACXJXNAAAAAkKkbc0AAAACwh/pyQAAAACBG63JAAAAAMKbfckAAAACwp9dyQAAAAICsz3JAAAAA0PTMckAAAACwKcdyQAAAANDrvXJAAAAAcKe2ckAAAADwIbFyQAAAADA1qHJAAAAAANKkckAAAADwnLByQAAAAGBYv3JAAAAAIDrRckAAAABg7eNyQAAAAICIAXNAAAAAUAomc0AAAABQny5zQAAAAEBrOHNAAAAAsOA+c0AAAAAATjtzQAAAAJBIL3NAAAAAABUlc0AAAACAghRzQAAAACCI+XJAAAAAMK7tckAAAABQpt1yQAAAABCD1nJAAAAAAAfNckAAAAAQxMFyQAAAACB0u3JAAAAAkFm1ckAAAABAR7JyQAAAAGCdrnJAAAAAcImsckAAAADgL7lyQAAAAPDNx3JAAAAAkCzYckAAAABQb+9yQAAAACA6BHNAAAAAIGomc0AAAADwZz1zQAAAALCTQnNAAAAAcBdQc0AAAAAw00dzQAAAAJDyN3NAAAAA4D0nc0AAAABABh9zQAAAABBrAXNAAAAAwGvwckAAAACQIeVyQAAAAMBw1nJAAAAAsLrGckAAAACgSr5yQAAAAIBBtnJAAAAAwHWwckAAAAAwj6hyQAAAACCqonJAAAAAYLeeckAAAACwRKtyQAAAACDVu3JAAAAA4MbNckAAAADw/uVyQAAAADCHEnNAAAAA0IIqc0AAAADQnjZzQAAAAMAzMHNAAAAAoHkzc0AAAADgSC1zQAAAAHBwK3NAAAAAUK8hc0AAAACw3w5zQAAAAFAi+HJAAAAAoITickAAAACg875yQAAAAABQpnJAAAAAQCiXckAAAACg4c1yQAAAAJAfK3NAAAAAMKBAc0AAAAAQLyRzQAAAAPCw+nJAAAAA0OzMckAAAAAQHrtyQAAAAPBEp3JAAAAAQKbTckAAAAAwoClzQAAAAHCJSnNAAAAA0EAmc0AAAABwyflyQAAAAKBez3JAAAAAIM+1ckAAAADwFdVyQAAAANAJR3NAAAAAUHn9ckAAAADg3bZyQAAAAJDr1nJAAAAA0OZXc0AAAAAQXvtyQAAAAFD2vHJAAAAAoFvmckAAAABQBVpzQAAAANCPAHNAAAAAgMDKckAAAADg5+FyQAAAAOBUYnNAAAAA8MsIc0AAAABgqr9yQAAAAPB223JAAAAAULpSc0AAAAAgewtzQAAAABDXs3JAAAAA8JPackAAAABgNWBzQAAAABB7/nJAAAAAsF22ckAAAABg19dyQAAAAEAYYnNAAAAAgAIGc0AAAAAg87xyQAAAACBB5XJAAAAAMHBfc0AAAABAVwlzQAAAAEAmyXJAAAAAcO7nckAAAACwaEtzQAAAAGAHDXNAAAAAMJO9ckA=",
          "dtype": "f8"
         },
         "yaxis": "y"
        },
        {
         "line": {
          "color": "grey"
         },
         "name": "mean",
         "type": "scatter",
         "x": [
          "2025-07-08T00:00:00",
          "2025-07-08T01:00:00",
          "2025-07-08T02:00:00",
          "2025-07-08T03:00:00",
          "2025-07-08T04:00:00",
          "2025-07-08T05:00:00",
          "2025-07-08T06:00:00",
          "2025-07-08T07:00:00",
          "2025-07-08T08:00:00",
          "2025-07-08T09:00:00",
          "2025-07-08T10:00:00",
          "2025-07-08T11:00:00",
          "2025-07-08T12:00:00",
          "2025-07-08T13:00:00",
          "2025-07-08T14:00:00",
          "2025-07-08T15:00:00",
          "2025-07-08T16:00:00",
          "2025-07-08T17:00:00",
          "2025-07-08T18:00:00",
          "2025-07-08T19:00:00",
          "2025-07-08T20:00:00",
          "2025-07-08T21:00:00",
          "2025-07-08T22:00:00",
          "2025-07-08T23:00:00",
          "2025-07-09T00:00:00",
          "2025-07-09T01:00:00",
          "2025-07-09T02:00:00",
          "2025-07-09T03:00:00",
          "2025-07-09T04:00:00",
          "2025-07-09T05:00:00",
          "2025-07-09T06:00:00",
          "2025-07-09T07:00:00",
          "2025-07-09T08:00:00",
          "2025-07-09T09:00:00",
          "2025-07-09T10:00:00",
          "2025-07-09T11:00:00",
          "2025-07-09T12:00:00",
          "2025-07-09T13:00:00",
          "2025-07-09T14:00:00",
          "2025-07-09T15:00:00",
          "2025-07-09T16:00:00",
          "2025-07-09T17:00:00",
          "2025-07-09T18:00:00",
          "2025-07-09T19:00:00",
          "2025-07-09T20:00:00",
          "2025-07-09T21:00:00",
          "2025-07-09T22:00:00",
          "2025-07-09T23:00:00",
          "2025-07-10T00:00:00",
          "2025-07-10T01:00:00",
          "2025-07-10T02:00:00",
          "2025-07-10T03:00:00",
          "2025-07-10T04:00:00",
          "2025-07-10T05:00:00",
          "2025-07-10T06:00:00",
          "2025-07-10T07:00:00",
          "2025-07-10T08:00:00",
          "2025-07-10T09:00:00",
          "2025-07-10T10:00:00",
          "2025-07-10T11:00:00",
          "2025-07-10T12:00:00",
          "2025-07-10T13:00:00",
          "2025-07-10T14:00:00",
          "2025-07-10T15:00:00",
          "2025-07-10T16:00:00",
          "2025-07-10T17:00:00",
          "2025-07-10T18:00:00",
          "2025-07-10T19:00:00",
          "2025-07-10T20:00:00",
          "2025-07-10T21:00:00",
          "2025-07-10T22:00:00",
          "2025-07-10T23:00:00",
          "2025-07-11T00:00:00",
          "2025-07-11T01:00:00",
          "2025-07-11T02:00:00",
          "2025-07-11T03:00:00",
          "2025-07-11T04:00:00",
          "2025-07-11T05:00:00",
          "2025-07-11T06:00:00",
          "2025-07-11T07:00:00",
          "2025-07-11T08:00:00",
          "2025-07-11T09:00:00",
          "2025-07-11T10:00:00",
          "2025-07-11T11:00:00",
          "2025-07-11T12:00:00",
          "2025-07-11T13:00:00",
          "2025-07-11T14:00:00",
          "2025-07-11T15:00:00",
          "2025-07-11T16:00:00",
          "2025-07-11T17:00:00",
          "2025-07-11T18:00:00",
          "2025-07-11T19:00:00",
          "2025-07-11T20:00:00",
          "2025-07-11T21:00:00",
          "2025-07-11T22:00:00",
          "2025-07-11T23:00:00",
          "2025-07-12T00:00:00",
          "2025-07-12T01:00:00",
          "2025-07-12T02:00:00",
          "2025-07-12T03:00:00",
          "2025-07-12T04:00:00",
          "2025-07-12T05:00:00",
          "2025-07-12T06:00:00",
          "2025-07-12T07:00:00",
          "2025-07-12T08:00:00",
          "2025-07-12T09:00:00",
          "2025-07-12T10:00:00",
          "2025-07-12T11:00:00",
          "2025-07-12T12:00:00",
          "2025-07-12T13:00:00",
          "2025-07-12T14:00:00",
          "2025-07-12T15:00:00",
          "2025-07-12T16:00:00",
          "2025-07-12T17:00:00",
          "2025-07-12T18:00:00",
          "2025-07-12T19:00:00",
          "2025-07-12T20:00:00",
          "2025-07-12T21:00:00",
          "2025-07-12T22:00:00",
          "2025-07-12T23:00:00",
          "2025-07-13T00:00:00",
          "2025-07-13T01:00:00",
          "2025-07-13T02:00:00",
          "2025-07-13T03:00:00",
          "2025-07-13T04:00:00",
          "2025-07-13T05:00:00",
          "2025-07-13T06:00:00",
          "2025-07-13T07:00:00",
          "2025-07-13T08:00:00",
          "2025-07-13T09:00:00",
          "2025-07-13T10:00:00",
          "2025-07-13T11:00:00",
          "2025-07-13T12:00:00",
          "2025-07-13T13:00:00",
          "2025-07-13T14:00:00",
          "2025-07-13T15:00:00",
          "2025-07-13T16:00:00",
          "2025-07-13T17:00:00",
          "2025-07-13T18:00:00",
          "2025-07-13T19:00:00",
          "2025-07-13T20:00:00",
          "2025-07-13T21:00:00",
          "2025-07-13T22:00:00",
          "2025-07-13T23:00:00",
          "2025-07-14T00:00:00",
          "2025-07-14T01:00:00",
          "2025-07-14T02:00:00",
          "2025-07-14T03:00:00",
          "2025-07-14T04:00:00",
          "2025-07-14T05:00:00",
          "2025-07-14T06:00:00",
          "2025-07-14T07:00:00",
          "2025-07-14T08:00:00",
          "2025-07-14T09:00:00",
          "2025-07-14T10:00:00",
          "2025-07-14T11:00:00",
          "2025-07-14T12:00:00",
          "2025-07-14T13:00:00",
          "2025-07-14T14:00:00",
          "2025-07-14T15:00:00",
          "2025-07-14T16:00:00",
          "2025-07-14T17:00:00",
          "2025-07-14T18:00:00",
          "2025-07-14T19:00:00",
          "2025-07-14T20:00:00",
          "2025-07-14T21:00:00",
          "2025-07-14T22:00:00",
          "2025-07-14T23:00:00",
          "2025-07-15T00:00:00",
          "2025-07-15T01:00:00",
          "2025-07-15T02:00:00",
          "2025-07-15T03:00:00",
          "2025-07-15T04:00:00",
          "2025-07-15T05:00:00",
          "2025-07-15T06:00:00",
          "2025-07-15T07:00:00",
          "2025-07-15T08:00:00",
          "2025-07-15T09:00:00",
          "2025-07-15T10:00:00",
          "2025-07-15T11:00:00",
          "2025-07-15T12:00:00",
          "2025-07-15T13:00:00",
          "2025-07-15T14:00:00",
          "2025-07-15T15:00:00",
          "2025-07-15T16:00:00",
          "2025-07-15T17:00:00",
          "2025-07-15T18:00:00",
          "2025-07-15T19:00:00",
          "2025-07-15T20:00:00",
          "2025-07-15T21:00:00",
          "2025-07-15T22:00:00",
          "2025-07-15T23:00:00",
          "2025-07-16T00:00:00",
          "2025-07-16T01:00:00",
          "2025-07-16T02:00:00",
          "2025-07-16T03:00:00",
          "2025-07-16T04:00:00",
          "2025-07-16T05:00:00",
          "2025-07-16T06:00:00",
          "2025-07-16T07:00:00",
          "2025-07-16T08:00:00",
          "2025-07-16T09:00:00",
          "2025-07-16T10:00:00",
          "2025-07-16T11:00:00",
          "2025-07-16T12:00:00",
          "2025-07-16T13:00:00",
          "2025-07-16T14:00:00",
          "2025-07-16T15:00:00",
          "2025-07-16T16:00:00",
          "2025-07-16T17:00:00",
          "2025-07-16T18:00:00",
          "2025-07-16T19:00:00",
          "2025-07-16T20:00:00",
          "2025-07-16T21:00:00",
          "2025-07-16T22:00:00",
          "2025-07-16T23:00:00",
          "2025-07-17T00:00:00",
          "2025-07-17T01:00:00",
          "2025-07-17T02:00:00",
          "2025-07-17T03:00:00",
          "2025-07-17T04:00:00",
          "2025-07-17T05:00:00",
          "2025-07-17T06:00:00",
          "2025-07-17T07:00:00",
          "2025-07-17T08:00:00",
          "2025-07-17T09:00:00",
          "2025-07-17T10:00:00",
          "2025-07-17T11:00:00",
          "2025-07-17T12:00:00",
          "2025-07-17T13:00:00",
          "2025-07-17T14:00:00",
          "2025-07-17T15:00:00",
          "2025-07-17T16:00:00",
          "2025-07-17T17:00:00",
          "2025-07-17T18:00:00",
          "2025-07-17T19:00:00",
          "2025-07-17T20:00:00",
          "2025-07-17T21:00:00",
          "2025-07-17T22:00:00",
          "2025-07-17T23:00:00",
          "2025-07-18T00:00:00",
          "2025-07-18T01:00:00",
          "2025-07-18T02:00:00",
          "2025-07-18T03:00:00",
          "2025-07-18T04:00:00",
          "2025-07-18T05:00:00",
          "2025-07-18T06:00:00",
          "2025-07-18T07:00:00",
          "2025-07-18T08:00:00",
          "2025-07-18T09:00:00",
          "2025-07-18T10:00:00",
          "2025-07-18T11:00:00",
          "2025-07-18T12:00:00",
          "2025-07-18T13:00:00",
          "2025-07-18T14:00:00",
          "2025-07-18T15:00:00",
          "2025-07-18T16:00:00",
          "2025-07-18T17:00:00",
          "2025-07-18T18:00:00",
          "2025-07-18T19:00:00",
          "2025-07-18T20:00:00",
          "2025-07-18T21:00:00",
          "2025-07-18T22:00:00",
          "2025-07-18T23:00:00",
          "2025-07-19T00:00:00",
          "2025-07-19T01:00:00",
          "2025-07-19T02:00:00",
          "2025-07-19T03:00:00",
          "2025-07-19T04:00:00",
          "2025-07-19T05:00:00",
          "2025-07-19T06:00:00",
          "2025-07-19T07:00:00",
          "2025-07-19T08:00:00",
          "2025-07-19T09:00:00",
          "2025-07-19T10:00:00",
          "2025-07-19T11:00:00",
          "2025-07-19T12:00:00",
          "2025-07-19T13:00:00",
          "2025-07-19T14:00:00",
          "2025-07-19T15:00:00",
          "2025-07-19T16:00:00",
          "2025-07-19T17:00:00",
          "2025-07-19T18:00:00",
          "2025-07-19T19:00:00",
          "2025-07-19T20:00:00",
          "2025-07-19T21:00:00",
          "2025-07-19T22:00:00",
          "2025-07-19T23:00:00",
          "2025-07-20T00:00:00",
          "2025-07-20T01:00:00",
          "2025-07-20T02:00:00",
          "2025-07-20T03:00:00",
          "2025-07-20T04:00:00",
          "2025-07-20T05:00:00",
          "2025-07-20T06:00:00",
          "2025-07-20T07:00:00",
          "2025-07-20T08:00:00",
          "2025-07-20T09:00:00",
          "2025-07-20T10:00:00",
          "2025-07-20T11:00:00",
          "2025-07-20T12:00:00",
          "2025-07-20T13:00:00",
          "2025-07-20T14:00:00",
          "2025-07-20T15:00:00",
          "2025-07-20T16:00:00",
          "2025-07-20T17:00:00",
          "2025-07-20T18:00:00",
          "2025-07-20T19:00:00",
          "2025-07-20T20:00:00",
          "2025-07-20T21:00:00",
          "2025-07-20T22:00:00",
          "2025-07-20T23:00:00",
          "2025-07-21T00:00:00",
          "2025-07-21T01:00:00",
          "2025-07-21T02:00:00",
          "2025-07-21T03:00:00",
          "2025-07-21T04:00:00",
          "2025-07-21T05:00:00",
          "2025-07-21T06:00:00",
          "2025-07-21T07:00:00",
          "2025-07-21T08:00:00",
          "2025-07-21T09:00:00",
          "2025-07-21T10:00:00",
          "2025-07-21T11:00:00",
          "2025-07-21T12:00:00",
          "2025-07-21T13:00:00",
          "2025-07-21T14:00:00",
          "2025-07-21T15:00:00",
          "2025-07-21T16:00:00",
          "2025-07-21T17:00:00",
          "2025-07-21T18:00:00",
          "2025-07-21T19:00:00",
          "2025-07-21T20:00:00",
          "2025-07-21T21:00:00",
          "2025-07-21T22:00:00",
          "2025-07-21T23:00:00",
          "2025-07-22T00:00:00",
          "2025-07-22T01:00:00",
          "2025-07-22T02:00:00",
          "2025-07-22T03:00:00",
          "2025-07-22T04:00:00",
          "2025-07-22T05:00:00",
          "2025-07-22T06:00:00",
          "2025-07-22T07:00:00",
          "2025-07-22T08:00:00",
          "2025-07-22T09:00:00",
          "2025-07-22T10:00:00",
          "2025-07-22T11:00:00",
          "2025-07-22T12:00:00",
          "2025-07-22T13:00:00",
          "2025-07-22T14:00:00",
          "2025-07-22T15:00:00",
          "2025-07-22T16:00:00",
          "2025-07-22T17:00:00",
          "2025-07-22T18:00:00",
          "2025-07-22T19:00:00",
          "2025-07-22T20:00:00",
          "2025-07-22T21:00:00",
          "2025-07-22T22:00:00",
          "2025-07-22T23:00:00",
          "2025-07-23T00:00:00"
         ],
         "y": {
          "bdata": "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",
          "dtype": "f8"
         }
        }
       ],
       "layout": {
        "annotations": [
         {
          "font": {
           "size": 16
          },
          "showarrow": false,
          "text": "t_2m",
          "x": 0.5,
          "xanchor": "center",
          "xref": "paper",
          "y": 1,
          "yanchor": "bottom",
          "yref": "paper"
         }
        ],
        "colorway": [
         "#636EFA",
         "#EF553B",
         "#00CC96",
         "#AB63FA",
         "#FFA15A",
         "#19D3F3",
         "#FF6692",
         "#B6E880",
         "#FF97FF",
         "#FECB52"
        ],
        "height": 750,
        "hovermode": "x",
        "plot_bgcolor": "white",
        "showlegend": false,
        "template": {
         "data": {
          "bar": [
           {
            "error_x": {
             "color": "#2a3f5f"
            },
            "error_y": {
             "color": "#2a3f5f"
            },
            "marker": {
             "line": {
              "color": "#E5ECF6",
              "width": 0.5
             },
             "pattern": {
              "fillmode": "overlay",
              "size": 10,
              "solidity": 0.2
             }
            },
            "type": "bar"
           }
          ],
          "barpolar": [
           {
            "marker": {
             "line": {
              "color": "#E5ECF6",
              "width": 0.5
             },
             "pattern": {
              "fillmode": "overlay",
              "size": 10,
              "solidity": 0.2
             }
            },
            "type": "barpolar"
           }
          ],
          "carpet": [
           {
            "aaxis": {
             "endlinecolor": "#2a3f5f",
             "gridcolor": "white",
             "linecolor": "white",
             "minorgridcolor": "white",
             "startlinecolor": "#2a3f5f"
            },
            "baxis": {
             "endlinecolor": "#2a3f5f",
             "gridcolor": "white",
             "linecolor": "white",
             "minorgridcolor": "white",
             "startlinecolor": "#2a3f5f"
            },
            "type": "carpet"
           }
          ],
          "choropleth": [
           {
            "colorbar": {
             "outlinewidth": 0,
             "ticks": ""
            },
            "type": "choropleth"
           }
          ],
          "contour": [
           {
            "colorbar": {
             "outlinewidth": 0,
             "ticks": ""
            },
            "colorscale": [
             [
              0,
              "#0d0887"
             ],
             [
              0.1111111111111111,
              "#46039f"
             ],
             [
              0.2222222222222222,
              "#7201a8"
             ],
             [
              0.3333333333333333,
              "#9c179e"
             ],
             [
              0.4444444444444444,
              "#bd3786"
             ],
             [
              0.5555555555555556,
              "#d8576b"
             ],
             [
              0.6666666666666666,
              "#ed7953"
             ],
             [
              0.7777777777777778,
              "#fb9f3a"
             ],
             [
              0.8888888888888888,
              "#fdca26"
             ],
             [
              1,
              "#f0f921"
             ]
            ],
            "type": "contour"
           }
          ],
          "contourcarpet": [
           {
            "colorbar": {
             "outlinewidth": 0,
             "ticks": ""
            },
            "type": "contourcarpet"
           }
          ],
          "heatmap": [
           {
            "colorbar": {
             "outlinewidth": 0,
             "ticks": ""
            },
            "colorscale": [
             [
              0,
              "#0d0887"
             ],
             [
              0.1111111111111111,
              "#46039f"
             ],
             [
              0.2222222222222222,
              "#7201a8"
             ],
             [
              0.3333333333333333,
              "#9c179e"
             ],
             [
              0.4444444444444444,
              "#bd3786"
             ],
             [
              0.5555555555555556,
              "#d8576b"
             ],
             [
              0.6666666666666666,
              "#ed7953"
             ],
             [
              0.7777777777777778,
              "#fb9f3a"
             ],
             [
              0.8888888888888888,
              "#fdca26"
             ],
             [
              1,
              "#f0f921"
             ]
            ],
            "type": "heatmap"
           }
          ],
          "histogram": [
           {
            "marker": {
             "pattern": {
              "fillmode": "overlay",
              "size": 10,
              "solidity": 0.2
             }
            },
            "type": "histogram"
           }
          ],
          "histogram2d": [
           {
            "colorbar": {
             "outlinewidth": 0,
             "ticks": ""
            },
            "colorscale": [
             [
              0,
              "#0d0887"
             ],
             [
              0.1111111111111111,
              "#46039f"
             ],
             [
              0.2222222222222222,
              "#7201a8"
             ],
             [
              0.3333333333333333,
              "#9c179e"
             ],
             [
              0.4444444444444444,
              "#bd3786"
             ],
             [
              0.5555555555555556,
              "#d8576b"
             ],
             [
              0.6666666666666666,
              "#ed7953"
             ],
             [
              0.7777777777777778,
              "#fb9f3a"
             ],
             [
              0.8888888888888888,
              "#fdca26"
             ],
             [
              1,
              "#f0f921"
             ]
            ],
            "type": "histogram2d"
           }
          ],
          "histogram2dcontour": [
           {
            "colorbar": {
             "outlinewidth": 0,
             "ticks": ""
            },
            "colorscale": [
             [
              0,
              "#0d0887"
             ],
             [
              0.1111111111111111,
              "#46039f"
             ],
             [
              0.2222222222222222,
              "#7201a8"
             ],
             [
              0.3333333333333333,
              "#9c179e"
             ],
             [
              0.4444444444444444,
              "#bd3786"
             ],
             [
              0.5555555555555556,
              "#d8576b"
             ],
             [
              0.6666666666666666,
              "#ed7953"
             ],
             [
              0.7777777777777778,
              "#fb9f3a"
             ],
             [
              0.8888888888888888,
              "#fdca26"
             ],
             [
              1,
              "#f0f921"
             ]
            ],
            "type": "histogram2dcontour"
           }
          ],
          "mesh3d": [
           {
            "colorbar": {
             "outlinewidth": 0,
             "ticks": ""
            },
            "type": "mesh3d"
           }
          ],
          "parcoords": [
           {
            "line": {
             "colorbar": {
              "outlinewidth": 0,
              "ticks": ""
             }
            },
            "type": "parcoords"
           }
          ],
          "pie": [
           {
            "automargin": true,
            "type": "pie"
           }
          ],
          "scatter": [
           {
            "fillpattern": {
             "fillmode": "overlay",
             "size": 10,
             "solidity": 0.2
            },
            "type": "scatter"
           }
          ],
          "scatter3d": [
           {
            "line": {
             "colorbar": {
              "outlinewidth": 0,
              "ticks": ""
             }
            },
            "marker": {
             "colorbar": {
              "outlinewidth": 0,
              "ticks": ""
             }
            },
            "type": "scatter3d"
           }
          ],
          "scattercarpet": [
           {
            "marker": {
             "colorbar": {
              "outlinewidth": 0,
              "ticks": ""
             }
            },
            "type": "scattercarpet"
           }
          ],
          "scattergeo": [
           {
            "marker": {
             "colorbar": {
              "outlinewidth": 0,
              "ticks": ""
             }
            },
            "type": "scattergeo"
           }
          ],
          "scattergl": [
           {
            "marker": {
             "colorbar": {
              "outlinewidth": 0,
              "ticks": ""
             }
            },
            "type": "scattergl"
           }
          ],
          "scattermap": [
           {
            "marker": {
             "colorbar": {
              "outlinewidth": 0,
              "ticks": ""
             }
            },
            "type": "scattermap"
           }
          ],
          "scattermapbox": [
           {
            "marker": {
             "colorbar": {
              "outlinewidth": 0,
              "ticks": ""
             }
            },
            "type": "scattermapbox"
           }
          ],
          "scatterpolar": [
           {
            "marker": {
             "colorbar": {
              "outlinewidth": 0,
              "ticks": ""
             }
            },
            "type": "scatterpolar"
           }
          ],
          "scatterpolargl": [
           {
            "marker": {
             "colorbar": {
              "outlinewidth": 0,
              "ticks": ""
             }
            },
            "type": "scatterpolargl"
           }
          ],
          "scatterternary": [
           {
            "marker": {
             "colorbar": {
              "outlinewidth": 0,
              "ticks": ""
             }
            },
            "type": "scatterternary"
           }
          ],
          "surface": [
           {
            "colorbar": {
             "outlinewidth": 0,
             "ticks": ""
            },
            "colorscale": [
             [
              0,
              "#0d0887"
             ],
             [
              0.1111111111111111,
              "#46039f"
             ],
             [
              0.2222222222222222,
              "#7201a8"
             ],
             [
              0.3333333333333333,
              "#9c179e"
             ],
             [
              0.4444444444444444,
              "#bd3786"
             ],
             [
              0.5555555555555556,
              "#d8576b"
             ],
             [
              0.6666666666666666,
              "#ed7953"
             ],
             [
              0.7777777777777778,
              "#fb9f3a"
             ],
             [
              0.8888888888888888,
              "#fdca26"
             ],
             [
              1,
              "#f0f921"
             ]
            ],
            "type": "surface"
           }
          ],
          "table": [
           {
            "cells": {
             "fill": {
              "color": "#EBF0F8"
             },
             "line": {
              "color": "white"
             }
            },
            "header": {
             "fill": {
              "color": "#C8D4E3"
             },
             "line": {
              "color": "white"
             }
            },
            "type": "table"
           }
          ]
         },
         "layout": {
          "annotationdefaults": {
           "arrowcolor": "#2a3f5f",
           "arrowhead": 0,
           "arrowwidth": 1
          },
          "autotypenumbers": "strict",
          "coloraxis": {
           "colorbar": {
            "outlinewidth": 0,
            "ticks": ""
           }
          },
          "colorscale": {
           "diverging": [
            [
             0,
             "#8e0152"
            ],
            [
             0.1,
             "#c51b7d"
            ],
            [
             0.2,
             "#de77ae"
            ],
            [
             0.3,
             "#f1b6da"
            ],
            [
             0.4,
             "#fde0ef"
            ],
            [
             0.5,
             "#f7f7f7"
            ],
            [
             0.6,
             "#e6f5d0"
            ],
            [
             0.7,
             "#b8e186"
            ],
            [
             0.8,
             "#7fbc41"
            ],
            [
             0.9,
             "#4d9221"
            ],
            [
             1,
             "#276419"
            ]
           ],
           "sequential": [
            [
             0,
             "#0d0887"
            ],
            [
             0.1111111111111111,
             "#46039f"
            ],
            [
             0.2222222222222222,
             "#7201a8"
            ],
            [
             0.3333333333333333,
             "#9c179e"
            ],
            [
             0.4444444444444444,
             "#bd3786"
            ],
            [
             0.5555555555555556,
             "#d8576b"
            ],
            [
             0.6666666666666666,
             "#ed7953"
            ],
            [
             0.7777777777777778,
             "#fb9f3a"
            ],
            [
             0.8888888888888888,
             "#fdca26"
            ],
            [
             1,
             "#f0f921"
            ]
           ],
           "sequentialminus": [
            [
             0,
             "#0d0887"
            ],
            [
             0.1111111111111111,
             "#46039f"
            ],
            [
             0.2222222222222222,
             "#7201a8"
            ],
            [
             0.3333333333333333,
             "#9c179e"
            ],
            [
             0.4444444444444444,
             "#bd3786"
            ],
            [
             0.5555555555555556,
             "#d8576b"
            ],
            [
             0.6666666666666666,
             "#ed7953"
            ],
            [
             0.7777777777777778,
             "#fb9f3a"
            ],
            [
             0.8888888888888888,
             "#fdca26"
            ],
            [
             1,
             "#f0f921"
            ]
           ]
          },
          "colorway": [
           "#636efa",
           "#EF553B",
           "#00cc96",
           "#ab63fa",
           "#FFA15A",
           "#19d3f3",
           "#FF6692",
           "#B6E880",
           "#FF97FF",
           "#FECB52"
          ],
          "font": {
           "color": "#2a3f5f"
          },
          "geo": {
           "bgcolor": "white",
           "lakecolor": "white",
           "landcolor": "#E5ECF6",
           "showlakes": true,
           "showland": true,
           "subunitcolor": "white"
          },
          "hoverlabel": {
           "align": "left"
          },
          "hovermode": "closest",
          "mapbox": {
           "style": "light"
          },
          "paper_bgcolor": "white",
          "plot_bgcolor": "#E5ECF6",
          "polar": {
           "angularaxis": {
            "gridcolor": "white",
            "linecolor": "white",
            "ticks": ""
           },
           "bgcolor": "#E5ECF6",
           "radialaxis": {
            "gridcolor": "white",
            "linecolor": "white",
            "ticks": ""
           }
          },
          "scene": {
           "xaxis": {
            "backgroundcolor": "#E5ECF6",
            "gridcolor": "white",
            "gridwidth": 2,
            "linecolor": "white",
            "showbackground": true,
            "ticks": "",
            "zerolinecolor": "white"
           },
           "yaxis": {
            "backgroundcolor": "#E5ECF6",
            "gridcolor": "white",
            "gridwidth": 2,
            "linecolor": "white",
            "showbackground": true,
            "ticks": "",
            "zerolinecolor": "white"
           },
           "zaxis": {
            "backgroundcolor": "#E5ECF6",
            "gridcolor": "white",
            "gridwidth": 2,
            "linecolor": "white",
            "showbackground": true,
            "ticks": "",
            "zerolinecolor": "white"
           }
          },
          "shapedefaults": {
           "line": {
            "color": "#2a3f5f"
           }
          },
          "ternary": {
           "aaxis": {
            "gridcolor": "white",
            "linecolor": "white",
            "ticks": ""
           },
           "baxis": {
            "gridcolor": "white",
            "linecolor": "white",
            "ticks": ""
           },
           "bgcolor": "#E5ECF6",
           "caxis": {
            "gridcolor": "white",
            "linecolor": "white",
            "ticks": ""
           }
          },
          "title": {
           "x": 0.05
          },
          "xaxis": {
           "automargin": true,
           "gridcolor": "white",
           "linecolor": "white",
           "ticks": "",
           "title": {
            "standoff": 15
           },
           "zerolinecolor": "white",
           "zerolinewidth": 2
          },
          "yaxis": {
           "automargin": true,
           "gridcolor": "white",
           "linecolor": "white",
           "ticks": "",
           "title": {
            "standoff": 15
           },
           "zerolinecolor": "white",
           "zerolinewidth": 2
          }
         }
        },
        "xaxis": {
         "anchor": "y",
         "domain": [
          0,
          1
         ],
         "gridwidth": 1,
         "showgrid": false,
         "showline": false,
         "zeroline": false
        },
        "yaxis": {
         "anchor": "x",
         "domain": [
          0,
          1
         ],
         "gridcolor": "#EEEEEE",
         "linecolor": "black",
         "showgrid": true,
         "showline": true,
         "title": {
          "text": "K"
         },
         "zeroline": false
        }
       }
      }
     },
     "metadata": {},
     "output_type": "display_data"
    }
   ],
   "source": [
    "from earthkit.plots.interactive import Chart\n",
    "\n",
    "\n",
    "TIME_FREQUENCY = \"1h\"\n",
    "QUANTILES = [0, 0.1, 0.25, 0.5, 0.75, 0.9, 1]\n",
    "\n",
    "chart = Chart()\n",
    "chart.box(ds_ch1, quantiles=QUANTILES, line_color='#ea5545' )\n",
    "chart.line(ds_ch1,aggregation='mean', line_color='grey', time_frequency=TIME_FREQUENCY)\n",
    "chart.box(ds_ch2, quantiles=QUANTILES, line_color=\"#ef9b20\")\n",
    "chart.line(ds_ch2,aggregation='mean', line_color='grey', time_frequency=TIME_FREQUENCY)\n",
    "chart.box(ds_ifs, quantiles=QUANTILES, line_color=\"#27aeef\")\n",
    "chart.line(ds_ifs,aggregation='mean', line_color='grey', time_frequency=TIME_FREQUENCY)\n",
    "\n",
    "chart.show()  # Repla\n"
   ]
  }
 ],
 "metadata": {
  "kernelspec": {
   "display_name": "polytope demo",
   "language": "python",
   "name": "polytope-demo"
  },
  "language_info": {
   "codemirror_mode": {
    "name": "ipython",
    "version": 3
   },
   "file_extension": ".py",
   "mimetype": "text/x-python",
   "name": "python",
   "nbconvert_exporter": "python",
   "pygments_lexer": "ipython3",
   "version": "3.11.6"
  }
 },
 "nbformat": 4,
 "nbformat_minor": 5
}
