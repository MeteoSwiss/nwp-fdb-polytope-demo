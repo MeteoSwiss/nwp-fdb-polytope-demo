{
 "cells": [
  {
   "cell_type": "markdown",
   "id": "c275f633",
   "metadata": {},
   "source": [
    "# Location and Time Series Access Using Polytope Feature Extraction\n",
    "\n",
    "This notebook showcases efficient geo-location and time series access using polytope feature extraction. By leveraging this feature, we significantly reduce data retrieval from storage, optimizing workflows and resource utilization.\n",
    "\n",
    "A rendered version of this notebook with outputs can be found in https://meteoswiss.github.io/nwp-fdb-polytope-demo/polytope_feature_extraction_icon.html"
   ]
  },
  {
   "cell_type": "markdown",
   "id": "14590001",
   "metadata": {},
   "source": [
    "## Installation\n",
    "See instruction in [Polytope installation](https://github.com/MeteoSwiss/nwp-fdb-polytope-demo/blob/main/README.md#Installation-1)"
   ]
  },
  {
   "cell_type": "markdown",
   "id": "cfcfc520",
   "metadata": {},
   "source": [
    "**Configuring Access to Polytope**"
   ]
  },
  {
   "cell_type": "code",
   "execution_count": 1,
   "id": "d31a6eaa-f842-41f4-92e9-fa98c429c475",
   "metadata": {},
   "outputs": [],
   "source": [
    "import os\n",
    "import dataclasses as dc\n",
    "from meteodatalab import mars\n",
    "\n",
    "#ECMWF polytope credentials\n",
    "# leave empty for ICON-CSCS polytope\n",
    "os.environ[\"POLYTOPE_USER_KEY\"] = \"\"\n",
    "os.environ[\"POLYTOPE_USER_EMAIL\"] = \"\"\n",
    "\n",
    "#ICON-CSCS polytope credentials\n",
    "# leave empty for ecmwf polytope\n",
    "os.environ[\"POLYTOPE_USER_KEY\"] = \"xxxx\"\n",
    "os.environ[\"POLYTOPE_ADDRESS\"] = \"https://polytope-dev.mchml.cscs.ch\"\n",
    "os.environ[\"POLYTOPE_LOG_LEVEL\"] = \"INFO\""
   ]
  },
  {
   "cell_type": "markdown",
   "id": "b9dc71fd",
   "metadata": {},
   "source": [
    "**Selecting geo-location point of interest in rotated lat-lon grid (ICON-CH1 & ICON-CH2) as well as in geographical coordinates**"
   ]
  },
  {
   "cell_type": "code",
   "execution_count": 2,
   "id": "397d3f67",
   "metadata": {},
   "outputs": [],
   "source": [
    "import cartopy.crs as ccrs\n",
    "import numpy as np\n",
    "#zrh_gc = (8.55,47.3367)\n",
    "rot_coord = (0,0)\n",
    "\n",
    "\n",
    "# South pole rotation of lon=10, latitude=-43\n",
    "rotated_crs = ccrs.RotatedPole(\n",
    "    pole_longitude=190, pole_latitude=43\n",
    ")\n",
    "\n",
    "# Convert a point from geographic to rotated coordinates\n",
    "original_crs = ccrs.PlateCarree()\n",
    "(x,y) = original_crs.transform_point(*rot_coord, rotated_crs)\n",
    "rotated_point = mars.Point(*rot_coord[::-1])\n",
    "geo_point = mars.Point(y,x)\n"
   ]
  },
  {
   "cell_type": "markdown",
   "id": "e31b92b1",
   "metadata": {},
   "source": [
    "**Selecting date,time of the forecast**"
   ]
  },
  {
   "cell_type": "code",
   "execution_count": 3,
   "id": "ce42ef6c",
   "metadata": {},
   "outputs": [
    {
     "data": {
      "text/plain": [
       "('20250904', '0000')"
      ]
     },
     "execution_count": 3,
     "metadata": {},
     "output_type": "execute_result"
    }
   ],
   "source": [
    "from datetime import datetime, timedelta\n",
    "\n",
    "# Current time\n",
    "now = datetime.now()\n",
    "\n",
    "# Subtract 12 hours\n",
    "past_time = now - timedelta(hours=12)\n",
    "\n",
    "# Round down to the nearest multiple of 6\n",
    "rounded_hour = (past_time.hour // 6) * 6\n",
    "rounded_time = past_time.replace(hour=rounded_hour, minute=0, second=0, microsecond=0)\n",
    "\n",
    "# Format as YYYYMMDD and HHMM\n",
    "date = rounded_time.strftime('%Y%m%d')\n",
    "time = rounded_time.strftime('%H%M')\n",
    "date,time\n"
   ]
  },
  {
   "cell_type": "markdown",
   "id": "b370671c",
   "metadata": {},
   "source": [
    "**Querying the data** <br>\n",
    "The `feature` attribute tells polytope to extract **only the relevant data at the given point**.\n",
    "The amount of data that is retrieved from storage is signficantly reduced."
   ]
  },
  {
   "cell_type": "code",
   "execution_count": 4,
   "id": "51050159",
   "metadata": {},
   "outputs": [],
   "source": [
    "request = mars.Request(\n",
    "    param=\"T_2M\",\n",
    "    date=date,\n",
    "    time=time,\n",
    "    model=mars.Model.ICON_CH2_EPS,\n",
    "    levtype=mars.LevType.SURFACE,\n",
    "    number=1,\n",
    "    type=\"pf\",\n",
    "    feature={\n",
    "        \"type\" : \"timeseries\",\n",
    "        \"points\": [rotated_point],\n",
    "        \"time_axis\": \"step\",\n",
    "        \"range\" : {\n",
    "            \"start\" : 0,\n",
    "            \"end\" : 120,\n",
    "            },\n",
    "        \"axes\" : [\"latitude\", \"longitude\"]\n",
    "    }\n",
    ")"
   ]
  },
  {
   "cell_type": "code",
   "execution_count": null,
   "id": "2280b32a",
   "metadata": {},
   "outputs": [],
   "source": [
    "import earthkit.data as ekd\n",
    "ds = ekd.from_source(\n",
    "    \"polytope\",\n",
    "    \"mchgj\",\n",
    "    request.to_polytope(),\n",
    "    stream=False\n",
    ").to_xarray()"
   ]
  },
  {
   "cell_type": "markdown",
   "id": "f64a4028",
   "metadata": {},
   "source": [
    "**Plot the results**"
   ]
  },
  {
   "cell_type": "code",
   "execution_count": 6,
   "id": "0001b5a3",
   "metadata": {},
   "outputs": [
    {
     "data": {
      "application/vnd.plotly.v1+json": {
       "config": {
        "plotlyServerURL": "https://plot.ly"
       },
       "data": [
        {
         "type": "scatter",
         "x": [
          "2025-09-04T00:00:00",
          "2025-09-04T01:00:00",
          "2025-09-04T02:00:00",
          "2025-09-04T03:00:00",
          "2025-09-04T04:00:00",
          "2025-09-04T05:00:00",
          "2025-09-04T06:00:00",
          "2025-09-04T07:00:00",
          "2025-09-04T08:00:00",
          "2025-09-04T09:00:00",
          "2025-09-04T10:00:00",
          "2025-09-04T11:00:00",
          "2025-09-04T12:00:00",
          "2025-09-04T13:00:00",
          "2025-09-04T14:00:00",
          "2025-09-04T15:00:00",
          "2025-09-04T16:00:00",
          "2025-09-04T17:00:00",
          "2025-09-04T18:00:00",
          "2025-09-04T19:00:00",
          "2025-09-04T20:00:00",
          "2025-09-04T21:00:00",
          "2025-09-04T22:00:00",
          "2025-09-04T23:00:00",
          "2025-09-05T00:00:00",
          "2025-09-05T01:00:00",
          "2025-09-05T02:00:00",
          "2025-09-05T03:00:00",
          "2025-09-05T04:00:00",
          "2025-09-05T05:00:00",
          "2025-09-05T06:00:00",
          "2025-09-05T07:00:00",
          "2025-09-05T08:00:00",
          "2025-09-05T09:00:00",
          "2025-09-05T10:00:00",
          "2025-09-05T11:00:00",
          "2025-09-05T12:00:00",
          "2025-09-05T13:00:00",
          "2025-09-05T14:00:00",
          "2025-09-05T15:00:00",
          "2025-09-05T16:00:00",
          "2025-09-05T17:00:00",
          "2025-09-05T18:00:00",
          "2025-09-05T19:00:00",
          "2025-09-05T20:00:00",
          "2025-09-05T21:00:00",
          "2025-09-05T22:00:00",
          "2025-09-05T23:00:00",
          "2025-09-06T00:00:00",
          "2025-09-06T01:00:00",
          "2025-09-06T02:00:00",
          "2025-09-06T03:00:00",
          "2025-09-06T04:00:00",
          "2025-09-06T05:00:00",
          "2025-09-06T06:00:00",
          "2025-09-06T07:00:00",
          "2025-09-06T08:00:00",
          "2025-09-06T09:00:00",
          "2025-09-06T10:00:00",
          "2025-09-06T11:00:00",
          "2025-09-06T12:00:00",
          "2025-09-06T13:00:00",
          "2025-09-06T14:00:00",
          "2025-09-06T15:00:00",
          "2025-09-06T16:00:00",
          "2025-09-06T17:00:00",
          "2025-09-06T18:00:00",
          "2025-09-06T19:00:00",
          "2025-09-06T20:00:00",
          "2025-09-06T21:00:00",
          "2025-09-06T22:00:00",
          "2025-09-06T23:00:00",
          "2025-09-07T00:00:00",
          "2025-09-07T01:00:00",
          "2025-09-07T02:00:00",
          "2025-09-07T03:00:00",
          "2025-09-07T04:00:00",
          "2025-09-07T05:00:00",
          "2025-09-07T06:00:00",
          "2025-09-07T07:00:00",
          "2025-09-07T08:00:00",
          "2025-09-07T09:00:00",
          "2025-09-07T10:00:00",
          "2025-09-07T11:00:00",
          "2025-09-07T12:00:00",
          "2025-09-07T13:00:00",
          "2025-09-07T14:00:00",
          "2025-09-07T15:00:00",
          "2025-09-07T16:00:00",
          "2025-09-07T17:00:00",
          "2025-09-07T18:00:00",
          "2025-09-07T19:00:00",
          "2025-09-07T20:00:00",
          "2025-09-07T21:00:00",
          "2025-09-07T22:00:00",
          "2025-09-07T23:00:00",
          "2025-09-08T00:00:00",
          "2025-09-08T01:00:00",
          "2025-09-08T02:00:00",
          "2025-09-08T03:00:00",
          "2025-09-08T04:00:00",
          "2025-09-08T05:00:00",
          "2025-09-08T06:00:00",
          "2025-09-08T07:00:00",
          "2025-09-08T08:00:00",
          "2025-09-08T09:00:00",
          "2025-09-08T10:00:00",
          "2025-09-08T11:00:00",
          "2025-09-08T12:00:00",
          "2025-09-08T13:00:00",
          "2025-09-08T14:00:00",
          "2025-09-08T15:00:00",
          "2025-09-08T16:00:00",
          "2025-09-08T17:00:00",
          "2025-09-08T18:00:00",
          "2025-09-08T19:00:00",
          "2025-09-08T20:00:00",
          "2025-09-08T21:00:00",
          "2025-09-08T22:00:00",
          "2025-09-08T23:00:00",
          "2025-09-09T00:00:00"
         ],
         "y": {
          "bdata": "AAAAoL79cUAAAAAAOdtxQAAAAKAd5XFAAAAAgNXjcUAAAAAgzuBxQAAAAADh2nFAAAAAQFXmcUAAAAAAEftxQAAAAACODXJAAAAAICksckAAAABg9kpyQAAAAABnYnJAAAAAoLhockAAAACA819yQAAAAKD9VnJAAAAAgI9UckAAAABAXU5yQAAAAKCzPHJAAAAAAKgqckAAAAAgTRJyQAAAAIDH7HFAAAAAgBTicUAAAAAgmNhxQAAAAKAbx3FAAAAAAIjDcUAAAACgRr1xQAAAAKCis3FAAAAAYFGvcUAAAABAkaRxQAAAAKC/rHFAAAAAoG+0cUAAAABgibpxQAAAAKBpunFAAAAAALmjcUAAAACAUaBxQAAAAEArknFAAAAAQISHcUAAAABAWX5xQAAAAEAIi3FAAAAAoPWXcUAAAADAj5pxQAAAAOC9mHFAAAAAoBKOcUAAAABgoHpxQAAAAKDbeHFAAAAAYBZ2cUAAAADgc3JxQAAAAKAOb3FAAAAAQOVtcUAAAABAdmtxQAAAAKDFaXFAAAAAoAlncUAAAAAAQ2ZxQAAAAMAeZnFAAAAAgE17cUAAAACAY5FxQAAAAGBhqnFAAAAAoM/NcUAAAABAmOlxQAAAACB9AXJAAAAAgEsUckAAAADgyhlyQAAAAIAVGXJAAAAAwGoQckAAAADAmAZyQAAAAICf9nFAAAAA4FnmcUAAAACgNddxQAAAAEA20nFAAAAAoD3RcUAAAACgo9BxQAAAAKAn0XFAAAAAwKXPcUAAAABgFs9xQAAAAIC4zXFAAAAAgA7OcUAAAAAAOc5xQAAAAEAPy3FAAAAAoH7TcUAAAAAAtPVxQAAAAIDfD3JAAAAAoKkpckAAAAAgVUByQAAAAOBjWnJAAAAAgEdpckAAAABAtnByQAAAAKAccHJAAAAAwJtgckAAAACg6E1yQAAAAMAANHJAAAAAAAsbckAAAADAtA5yQAAAAGDwBXJAAAAAIAPrcUAAAADgkelxQAAAAEAK7HFAAAAAAATicUAAAACgXuVxQAAAAEB+5nFAAAAAgN3lcUAAAABguOJxQAAAAMDU4HFAAAAAQPnlcUAAAACAvPVxQAAAAECFBXJAAAAAQAEcckAAAADARS1yQAAAACDTL3JAAAAAgPA/ckAAAABANUVyQAAAAKDBQXJAAAAAoKU5ckAAAABAki5yQAAAAACKHXJAAAAAYMgHckAAAACgdgByQAAAAIAi+nFAAAAA4OrzcUAAAADghe5xQAAAAGCZ7nFAAAAAwJThcUA=",
          "dtype": "f8"
         }
        }
       ],
       "layout": {
        "annotations": [
         {
          "font": {
           "size": 16
          },
          "showarrow": false,
          "text": "t_2m",
          "x": 0.5,
          "xanchor": "center",
          "xref": "paper",
          "y": 1,
          "yanchor": "bottom",
          "yref": "paper"
         }
        ],
        "colorway": [
         "#636EFA",
         "#EF553B",
         "#00CC96",
         "#AB63FA",
         "#FFA15A",
         "#19D3F3",
         "#FF6692",
         "#B6E880",
         "#FF97FF",
         "#FECB52"
        ],
        "height": 750,
        "hovermode": "x",
        "plot_bgcolor": "white",
        "showlegend": false,
        "template": {
         "data": {
          "bar": [
           {
            "error_x": {
             "color": "#2a3f5f"
            },
            "error_y": {
             "color": "#2a3f5f"
            },
            "marker": {
             "line": {
              "color": "#E5ECF6",
              "width": 0.5
             },
             "pattern": {
              "fillmode": "overlay",
              "size": 10,
              "solidity": 0.2
             }
            },
            "type": "bar"
           }
          ],
          "barpolar": [
           {
            "marker": {
             "line": {
              "color": "#E5ECF6",
              "width": 0.5
             },
             "pattern": {
              "fillmode": "overlay",
              "size": 10,
              "solidity": 0.2
             }
            },
            "type": "barpolar"
           }
          ],
          "carpet": [
           {
            "aaxis": {
             "endlinecolor": "#2a3f5f",
             "gridcolor": "white",
             "linecolor": "white",
             "minorgridcolor": "white",
             "startlinecolor": "#2a3f5f"
            },
            "baxis": {
             "endlinecolor": "#2a3f5f",
             "gridcolor": "white",
             "linecolor": "white",
             "minorgridcolor": "white",
             "startlinecolor": "#2a3f5f"
            },
            "type": "carpet"
           }
          ],
          "choropleth": [
           {
            "colorbar": {
             "outlinewidth": 0,
             "ticks": ""
            },
            "type": "choropleth"
           }
          ],
          "contour": [
           {
            "colorbar": {
             "outlinewidth": 0,
             "ticks": ""
            },
            "colorscale": [
             [
              0,
              "#0d0887"
             ],
             [
              0.1111111111111111,
              "#46039f"
             ],
             [
              0.2222222222222222,
              "#7201a8"
             ],
             [
              0.3333333333333333,
              "#9c179e"
             ],
             [
              0.4444444444444444,
              "#bd3786"
             ],
             [
              0.5555555555555556,
              "#d8576b"
             ],
             [
              0.6666666666666666,
              "#ed7953"
             ],
             [
              0.7777777777777778,
              "#fb9f3a"
             ],
             [
              0.8888888888888888,
              "#fdca26"
             ],
             [
              1,
              "#f0f921"
             ]
            ],
            "type": "contour"
           }
          ],
          "contourcarpet": [
           {
            "colorbar": {
             "outlinewidth": 0,
             "ticks": ""
            },
            "type": "contourcarpet"
           }
          ],
          "heatmap": [
           {
            "colorbar": {
             "outlinewidth": 0,
             "ticks": ""
            },
            "colorscale": [
             [
              0,
              "#0d0887"
             ],
             [
              0.1111111111111111,
              "#46039f"
             ],
             [
              0.2222222222222222,
              "#7201a8"
             ],
             [
              0.3333333333333333,
              "#9c179e"
             ],
             [
              0.4444444444444444,
              "#bd3786"
             ],
             [
              0.5555555555555556,
              "#d8576b"
             ],
             [
              0.6666666666666666,
              "#ed7953"
             ],
             [
              0.7777777777777778,
              "#fb9f3a"
             ],
             [
              0.8888888888888888,
              "#fdca26"
             ],
             [
              1,
              "#f0f921"
             ]
            ],
            "type": "heatmap"
           }
          ],
          "histogram": [
           {
            "marker": {
             "pattern": {
              "fillmode": "overlay",
              "size": 10,
              "solidity": 0.2
             }
            },
            "type": "histogram"
           }
          ],
          "histogram2d": [
           {
            "colorbar": {
             "outlinewidth": 0,
             "ticks": ""
            },
            "colorscale": [
             [
              0,
              "#0d0887"
             ],
             [
              0.1111111111111111,
              "#46039f"
             ],
             [
              0.2222222222222222,
              "#7201a8"
             ],
             [
              0.3333333333333333,
              "#9c179e"
             ],
             [
              0.4444444444444444,
              "#bd3786"
             ],
             [
              0.5555555555555556,
              "#d8576b"
             ],
             [
              0.6666666666666666,
              "#ed7953"
             ],
             [
              0.7777777777777778,
              "#fb9f3a"
             ],
             [
              0.8888888888888888,
              "#fdca26"
             ],
             [
              1,
              "#f0f921"
             ]
            ],
            "type": "histogram2d"
           }
          ],
          "histogram2dcontour": [
           {
            "colorbar": {
             "outlinewidth": 0,
             "ticks": ""
            },
            "colorscale": [
             [
              0,
              "#0d0887"
             ],
             [
              0.1111111111111111,
              "#46039f"
             ],
             [
              0.2222222222222222,
              "#7201a8"
             ],
             [
              0.3333333333333333,
              "#9c179e"
             ],
             [
              0.4444444444444444,
              "#bd3786"
             ],
             [
              0.5555555555555556,
              "#d8576b"
             ],
             [
              0.6666666666666666,
              "#ed7953"
             ],
             [
              0.7777777777777778,
              "#fb9f3a"
             ],
             [
              0.8888888888888888,
              "#fdca26"
             ],
             [
              1,
              "#f0f921"
             ]
            ],
            "type": "histogram2dcontour"
           }
          ],
          "mesh3d": [
           {
            "colorbar": {
             "outlinewidth": 0,
             "ticks": ""
            },
            "type": "mesh3d"
           }
          ],
          "parcoords": [
           {
            "line": {
             "colorbar": {
              "outlinewidth": 0,
              "ticks": ""
             }
            },
            "type": "parcoords"
           }
          ],
          "pie": [
           {
            "automargin": true,
            "type": "pie"
           }
          ],
          "scatter": [
           {
            "fillpattern": {
             "fillmode": "overlay",
             "size": 10,
             "solidity": 0.2
            },
            "type": "scatter"
           }
          ],
          "scatter3d": [
           {
            "line": {
             "colorbar": {
              "outlinewidth": 0,
              "ticks": ""
             }
            },
            "marker": {
             "colorbar": {
              "outlinewidth": 0,
              "ticks": ""
             }
            },
            "type": "scatter3d"
           }
          ],
          "scattercarpet": [
           {
            "marker": {
             "colorbar": {
              "outlinewidth": 0,
              "ticks": ""
             }
            },
            "type": "scattercarpet"
           }
          ],
          "scattergeo": [
           {
            "marker": {
             "colorbar": {
              "outlinewidth": 0,
              "ticks": ""
             }
            },
            "type": "scattergeo"
           }
          ],
          "scattergl": [
           {
            "marker": {
             "colorbar": {
              "outlinewidth": 0,
              "ticks": ""
             }
            },
            "type": "scattergl"
           }
          ],
          "scattermap": [
           {
            "marker": {
             "colorbar": {
              "outlinewidth": 0,
              "ticks": ""
             }
            },
            "type": "scattermap"
           }
          ],
          "scattermapbox": [
           {
            "marker": {
             "colorbar": {
              "outlinewidth": 0,
              "ticks": ""
             }
            },
            "type": "scattermapbox"
           }
          ],
          "scatterpolar": [
           {
            "marker": {
             "colorbar": {
              "outlinewidth": 0,
              "ticks": ""
             }
            },
            "type": "scatterpolar"
           }
          ],
          "scatterpolargl": [
           {
            "marker": {
             "colorbar": {
              "outlinewidth": 0,
              "ticks": ""
             }
            },
            "type": "scatterpolargl"
           }
          ],
          "scatterternary": [
           {
            "marker": {
             "colorbar": {
              "outlinewidth": 0,
              "ticks": ""
             }
            },
            "type": "scatterternary"
           }
          ],
          "surface": [
           {
            "colorbar": {
             "outlinewidth": 0,
             "ticks": ""
            },
            "colorscale": [
             [
              0,
              "#0d0887"
             ],
             [
              0.1111111111111111,
              "#46039f"
             ],
             [
              0.2222222222222222,
              "#7201a8"
             ],
             [
              0.3333333333333333,
              "#9c179e"
             ],
             [
              0.4444444444444444,
              "#bd3786"
             ],
             [
              0.5555555555555556,
              "#d8576b"
             ],
             [
              0.6666666666666666,
              "#ed7953"
             ],
             [
              0.7777777777777778,
              "#fb9f3a"
             ],
             [
              0.8888888888888888,
              "#fdca26"
             ],
             [
              1,
              "#f0f921"
             ]
            ],
            "type": "surface"
           }
          ],
          "table": [
           {
            "cells": {
             "fill": {
              "color": "#EBF0F8"
             },
             "line": {
              "color": "white"
             }
            },
            "header": {
             "fill": {
              "color": "#C8D4E3"
             },
             "line": {
              "color": "white"
             }
            },
            "type": "table"
           }
          ]
         },
         "layout": {
          "annotationdefaults": {
           "arrowcolor": "#2a3f5f",
           "arrowhead": 0,
           "arrowwidth": 1
          },
          "autotypenumbers": "strict",
          "coloraxis": {
           "colorbar": {
            "outlinewidth": 0,
            "ticks": ""
           }
          },
          "colorscale": {
           "diverging": [
            [
             0,
             "#8e0152"
            ],
            [
             0.1,
             "#c51b7d"
            ],
            [
             0.2,
             "#de77ae"
            ],
            [
             0.3,
             "#f1b6da"
            ],
            [
             0.4,
             "#fde0ef"
            ],
            [
             0.5,
             "#f7f7f7"
            ],
            [
             0.6,
             "#e6f5d0"
            ],
            [
             0.7,
             "#b8e186"
            ],
            [
             0.8,
             "#7fbc41"
            ],
            [
             0.9,
             "#4d9221"
            ],
            [
             1,
             "#276419"
            ]
           ],
           "sequential": [
            [
             0,
             "#0d0887"
            ],
            [
             0.1111111111111111,
             "#46039f"
            ],
            [
             0.2222222222222222,
             "#7201a8"
            ],
            [
             0.3333333333333333,
             "#9c179e"
            ],
            [
             0.4444444444444444,
             "#bd3786"
            ],
            [
             0.5555555555555556,
             "#d8576b"
            ],
            [
             0.6666666666666666,
             "#ed7953"
            ],
            [
             0.7777777777777778,
             "#fb9f3a"
            ],
            [
             0.8888888888888888,
             "#fdca26"
            ],
            [
             1,
             "#f0f921"
            ]
           ],
           "sequentialminus": [
            [
             0,
             "#0d0887"
            ],
            [
             0.1111111111111111,
             "#46039f"
            ],
            [
             0.2222222222222222,
             "#7201a8"
            ],
            [
             0.3333333333333333,
             "#9c179e"
            ],
            [
             0.4444444444444444,
             "#bd3786"
            ],
            [
             0.5555555555555556,
             "#d8576b"
            ],
            [
             0.6666666666666666,
             "#ed7953"
            ],
            [
             0.7777777777777778,
             "#fb9f3a"
            ],
            [
             0.8888888888888888,
             "#fdca26"
            ],
            [
             1,
             "#f0f921"
            ]
           ]
          },
          "colorway": [
           "#636efa",
           "#EF553B",
           "#00cc96",
           "#ab63fa",
           "#FFA15A",
           "#19d3f3",
           "#FF6692",
           "#B6E880",
           "#FF97FF",
           "#FECB52"
          ],
          "font": {
           "color": "#2a3f5f"
          },
          "geo": {
           "bgcolor": "white",
           "lakecolor": "white",
           "landcolor": "#E5ECF6",
           "showlakes": true,
           "showland": true,
           "subunitcolor": "white"
          },
          "hoverlabel": {
           "align": "left"
          },
          "hovermode": "closest",
          "mapbox": {
           "style": "light"
          },
          "paper_bgcolor": "white",
          "plot_bgcolor": "#E5ECF6",
          "polar": {
           "angularaxis": {
            "gridcolor": "white",
            "linecolor": "white",
            "ticks": ""
           },
           "bgcolor": "#E5ECF6",
           "radialaxis": {
            "gridcolor": "white",
            "linecolor": "white",
            "ticks": ""
           }
          },
          "scene": {
           "xaxis": {
            "backgroundcolor": "#E5ECF6",
            "gridcolor": "white",
            "gridwidth": 2,
            "linecolor": "white",
            "showbackground": true,
            "ticks": "",
            "zerolinecolor": "white"
           },
           "yaxis": {
            "backgroundcolor": "#E5ECF6",
            "gridcolor": "white",
            "gridwidth": 2,
            "linecolor": "white",
            "showbackground": true,
            "ticks": "",
            "zerolinecolor": "white"
           },
           "zaxis": {
            "backgroundcolor": "#E5ECF6",
            "gridcolor": "white",
            "gridwidth": 2,
            "linecolor": "white",
            "showbackground": true,
            "ticks": "",
            "zerolinecolor": "white"
           }
          },
          "shapedefaults": {
           "line": {
            "color": "#2a3f5f"
           }
          },
          "ternary": {
           "aaxis": {
            "gridcolor": "white",
            "linecolor": "white",
            "ticks": ""
           },
           "baxis": {
            "gridcolor": "white",
            "linecolor": "white",
            "ticks": ""
           },
           "bgcolor": "#E5ECF6",
           "caxis": {
            "gridcolor": "white",
            "linecolor": "white",
            "ticks": ""
           }
          },
          "title": {
           "x": 0.05
          },
          "xaxis": {
           "automargin": true,
           "gridcolor": "white",
           "linecolor": "white",
           "ticks": "",
           "title": {
            "standoff": 15
           },
           "zerolinecolor": "white",
           "zerolinewidth": 2
          },
          "yaxis": {
           "automargin": true,
           "gridcolor": "white",
           "linecolor": "white",
           "ticks": "",
           "title": {
            "standoff": 15
           },
           "zerolinecolor": "white",
           "zerolinewidth": 2
          }
         }
        },
        "xaxis": {
         "anchor": "y",
         "domain": [
          0,
          1
         ],
         "gridwidth": 1,
         "showgrid": false,
         "showline": false,
         "zeroline": false
        },
        "yaxis": {
         "anchor": "x",
         "domain": [
          0,
          1
         ],
         "gridcolor": "#EEEEEE",
         "linecolor": "black",
         "showgrid": true,
         "showline": true,
         "title": {
          "text": "K"
         },
         "zeroline": false
        }
       }
      }
     },
     "metadata": {},
     "output_type": "display_data"
    }
   ],
   "source": [
    "from earthkit.plots.interactive import Chart\n",
    "\n",
    "chart = Chart()\n",
    "chart.line(ds)\n",
    "chart.show()  # Replace with chart.show() in an interactive session!\n",
    "\n"
   ]
  },
  {
   "cell_type": "markdown",
   "id": "6ecbe31d",
   "metadata": {},
   "source": [
    "We can also query the entire ensemble data for the same geo-location. \n",
    "\n",
    "For ICON-CH2-EPS"
   ]
  },
  {
   "cell_type": "code",
   "execution_count": null,
   "id": "251da6f4",
   "metadata": {},
   "outputs": [],
   "source": [
    "import xarray as xr\n",
    "ds_mems = []\n",
    "for num in range(1,21):\n",
    "    req = dc.replace(request, number=str(num), type=\"pf\", model=mars.Model.ICON_CH2_EPS, feature={\n",
    "        \"type\" : \"timeseries\",\n",
    "        \"points\": [rotated_point],\n",
    "        \"time_axis\": \"step\",\n",
    "        \"range\" : {\n",
    "            \"start\" : 0,\n",
    "            \"end\" : 120,\n",
    "            },\n",
    "        \"axes\" : [\"latitude\", \"longitude\"]\n",
    "        })\n",
    "    print(req.to_polytope())\n",
    "    ds_mems.append(ekd.from_source(\n",
    "      \"polytope\",\n",
    "      \"mchgj\",\n",
    "      req.to_polytope(),\n",
    "      stream=False\n",
    "    ).to_xarray())\n",
    "\n",
    "ds_ch2 = xr.concat(ds_mems, dim='number')\n",
    "\n",
    "    "
   ]
  },
  {
   "cell_type": "markdown",
   "id": "353d31af",
   "metadata": {},
   "source": [
    "For ICON-CH1-EPS"
   ]
  },
  {
   "cell_type": "code",
   "execution_count": null,
   "id": "57208fb7",
   "metadata": {},
   "outputs": [],
   "source": [
    "import xarray as xr\n",
    "ds_mems = []\n",
    "for num in range(1,11):\n",
    "    req = dc.replace(request, number=str(num), type=\"pf\", model=mars.Model.ICON_CH1_EPS,     feature={\n",
    "        \"type\" : \"timeseries\",\n",
    "        \"points\": [rotated_point],\n",
    "        \"time_axis\": \"step\",\n",
    "        \"range\" : {\n",
    "            \"start\" : 0,\n",
    "            \"end\" : 33,\n",
    "            },\n",
    "        \"axes\" : [\"latitude\", \"longitude\"]\n",
    "        })\n",
    "    print(req.to_polytope())\n",
    "    ds_mems.append(ekd.from_source(\n",
    "      \"polytope\",\n",
    "      \"mchgj\",\n",
    "      req.to_polytope(),\n",
    "      stream=False\n",
    "    ).to_xarray())\n",
    "\n",
    "ds_ch1 = xr.concat(ds_mems, dim='number')"
   ]
  },
  {
   "cell_type": "markdown",
   "id": "1dc90019",
   "metadata": {},
   "source": [
    "We can also request the same data for IFS using the polytope of ecmwf"
   ]
  },
  {
   "cell_type": "code",
   "execution_count": 9,
   "id": "040a0ee3",
   "metadata": {},
   "outputs": [],
   "source": [
    "import os\n",
    "\n",
    "os.environ[\"POLYTOPE_USER_KEY\"] = \"xxxx\"\n",
    "os.environ[\"POLYTOPE_USER_EMAIL\"] = \"xxx.yyy@domain.ch\"\n",
    "os.environ[\"POLYTOPE_ADDRESS\"] = \"polytope.ecmwf.int\""
   ]
  },
  {
   "cell_type": "code",
   "execution_count": null,
   "id": "766b6958",
   "metadata": {},
   "outputs": [],
   "source": [
    "\n",
    "request = {\n",
    "    \"class\": \"od\",\n",
    "    \"stream\" : \"enfo\",\n",
    "    \"type\" : \"pf\",\n",
    "    \"date\" : \"\",\n",
    "    \"time\" : \"0000\",\n",
    "    \"levtype\" : \"sfc\",\n",
    "    \"expver\" : \"0001\",\n",
    "    \"domain\" : \"g\",\n",
    "    \"param\" : \"167\",\n",
    "    \"number\" : \"1/to/50\",\n",
    "    \"step\": \"0/to/160\",\n",
    "    \"feature\" : {\n",
    "        \"type\" : \"timeseries\",\n",
    "        \"points\": [[float(round(geo_point.lon,2)),float(round(geo_point.lat))]],\n",
    "        \"time_axis\": \"step\",\n",
    "        \"axes\": [\"longitude\", \"latitude\"],  # because points are [lon, lat]\n",
    "\n",
    "    },\n",
    "}\n",
    "\n",
    "ds_ifs = ekd.from_source(\n",
    "    \"polytope\",\n",
    "    \"ecmwf-mars\",\n",
    "    request,\n",
    "    stream=False,\n",
    "    address='polytope.ecmwf.int',\n",
    ")"
   ]
  },
  {
   "cell_type": "markdown",
   "id": "3d40e194",
   "metadata": {},
   "source": [
    "**Plotting ensemble members of timeseries**"
   ]
  },
  {
   "cell_type": "code",
   "execution_count": null,
   "id": "49a62740",
   "metadata": {},
   "outputs": [],
   "source": [
    "from earthkit.plots.interactive import Chart\n",
    "\n",
    "\n",
    "TIME_FREQUENCY = \"1h\"\n",
    "QUANTILES = [0, 0.1, 0.25, 0.5, 0.75, 0.9, 1]\n",
    "\n",
    "chart = Chart()\n",
    "chart.box(ds_ch1, quantiles=QUANTILES, line_color='#ea5545' )\n",
    "chart.line(ds_ch1,aggregation='mean', line_color='grey', time_frequency=TIME_FREQUENCY)\n",
    "chart.box(ds_ch2, quantiles=QUANTILES, line_color=\"#ef9b20\")\n",
    "chart.line(ds_ch2,aggregation='mean', line_color='grey', time_frequency=TIME_FREQUENCY)\n",
    "chart.box(ds_ifs, quantiles=QUANTILES, line_color=\"#27aeef\")\n",
    "chart.line(ds_ifs,aggregation='mean', line_color='grey', time_frequency=TIME_FREQUENCY)\n",
    "\n",
    "chart.show()  # Replace with chart.show() in an interactive session!"
   ]
  }
 ],
 "metadata": {
  "kernelspec": {
   "display_name": "polytope demo",
   "language": "python",
   "name": "polytope-demo"
  },
  "language_info": {
   "codemirror_mode": {
    "name": "ipython",
    "version": 3
   },
   "file_extension": ".py",
   "mimetype": "text/x-python",
   "name": "python",
   "nbconvert_exporter": "python",
   "pygments_lexer": "ipython3",
   "version": "3.11.6"
  }
 },
 "nbformat": 4,
 "nbformat_minor": 5
}
