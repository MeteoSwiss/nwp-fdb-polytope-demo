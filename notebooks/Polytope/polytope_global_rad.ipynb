{
 "cells": [
  {
   "cell_type": "markdown",
   "id": "c275f633",
   "metadata": {},
   "source": [
    "# Polytop FDB Access"
   ]
  },
  {
   "cell_type": "markdown",
   "id": "14590001",
   "metadata": {},
   "source": [
    "## Installation\n",
    "See instruction in [Polytope installation](https://github.com/MeteoSwiss/nwp-fdb-polytope-demo/blob/main/README.md#Installation-1)"
   ]
  },
  {
   "cell_type": "markdown",
   "id": "cfcfc520",
   "metadata": {},
   "source": [
    "**Configuring Access to Polytope**"
   ]
  },
  {
   "cell_type": "code",
   "execution_count": null,
   "id": "d31a6eaa-f842-41f4-92e9-fa98c429c475",
   "metadata": {},
   "outputs": [],
   "source": [
    "import os\n",
    "import dataclasses as dc\n",
    "from meteodatalab import mars, mch_model_data\n",
    "\n",
    "#ECMWF polytope credentials\n",
    "# leave empty for ICON-CSCS polytope\n",
    "os.environ[\"POLYTOPE_USER_KEY\"] = \"\"\n",
    "os.environ[\"POLYTOPE_USER_EMAIL\"] = \"\"\n",
    "\n",
    "#ICON-CSCS polytope credentials\n",
    "# leave empty for ecmwf polytope\n",
    "os.environ[\"POLYTOPE_USERNAME\"] =\n",
    "os.environ[\"POLYTOPE_PASSWORD\"] =\n",
    "os.environ[\"POLYTOPE_ADDRESS\"] = \"https://polytope-dev.mchml.cscs.ch\""
   ]
  },
  {
   "cell_type": "markdown",
   "id": "e31b92b1",
   "metadata": {},
   "source": [
    "**Selecting date,time of the forecast**"
   ]
  },
  {
   "cell_type": "code",
   "execution_count": null,
   "id": "ce42ef6c",
   "metadata": {},
   "outputs": [],
   "source": [
    "from datetime import datetime, timedelta\n",
    "\n",
    "# Current time\n",
    "now = datetime.now()\n",
    "\n",
    "# Subtract 12 hours\n",
    "past_time = now - timedelta(hours=12)\n",
    "\n",
    "# Round down to the nearest multiple of 6\n",
    "rounded_hour = (past_time.hour // 6) * 6\n",
    "rounded_time = past_time.replace(hour=rounded_hour, minute=0, second=0, microsecond=0)\n",
    "\n",
    "# Format as YYYYMMDD and HHMM\n",
    "date = rounded_time.strftime('%Y%m%d')\n",
    "time = rounded_time.strftime('%H%M')\n",
    "date,time\n"
   ]
  },
  {
   "cell_type": "markdown",
   "id": "b370671c",
   "metadata": {},
   "source": [
    "**Querying the data**"
   ]
  },
  {
   "cell_type": "code",
   "execution_count": null,
   "id": "51050159",
   "metadata": {},
   "outputs": [],
   "source": [
    "request = mars.Request(\n",
    "    param=\"T_2M\",\n",
    "    date=date,\n",
    "    time=time,\n",
    "    model=mars.Model.ICON_CH1_EPS,\n",
    "    levtype=mars.LevType.SURFACE,\n",
    "    number=1,\n",
    "    step=0\n",
    ")"
   ]
  },
  {
   "cell_type": "code",
   "execution_count": null,
   "id": "2280b32a",
   "metadata": {},
   "outputs": [],
   "source": [
    "ds = mch_model_data.get_from_polytope(request)"
   ]
  },
  {
   "cell_type": "code",
   "execution_count": null,
   "id": "8c1c1cdb",
   "metadata": {},
   "outputs": [],
   "source": [
    "ds_temp = ds[\"T_2M\"]\n",
    "lons = ds_temp[\"lon\"].values\n",
    "lats = ds_temp[\"lat\"].values"
   ]
  },
  {
   "cell_type": "code",
   "execution_count": null,
   "id": "6bf7e4a9",
   "metadata": {},
   "outputs": [],
   "source": [
    "import geopandas as gpd\n",
    "import matplotlib.pyplot as plt\n",
    "from shapely.geometry import Polygon,Point\n",
    "import numpy as np\n",
    "\n",
    "triangle_coords = [\n",
    "    (8.0, 43.5),  # central point-ish\n",
    "    (5, 46.7),  # east\n",
    "    (10.2, 48.9)   # north\n",
    "]\n",
    "triangle = Polygon(triangle_coords)\n",
    "\n",
    "\n",
    "triangle_gdf = gpd.GeoDataFrame(\n",
    "    {\"name\": [\"triangle\"]},\n",
    "    geometry=[triangle],\n",
    "    crs=\"EPSG:4326\"\n",
    ")\n",
    "\n",
    "points = gpd.GeoSeries.from_xy(lons.ravel(), lats.ravel(), crs=\"EPSG:4326\")\n",
    "\n",
    "mask = points.within(triangle)\n",
    "mask_2d = mask.values.reshape(lats.shape)\n",
    "\n",
    "ds_triangle = ds_temp.where(mask_2d)\n",
    "\n",
    "ds_triangle.plot()\n"
   ]
  },
  {
   "cell_type": "markdown",
   "id": "7eebc25f",
   "metadata": {},
   "source": [
    "**Convert to degree celcius**"
   ]
  },
  {
   "cell_type": "code",
   "execution_count": null,
   "id": "866c0f3f",
   "metadata": {},
   "outputs": [],
   "source": [
    "temp2m = ds['T_2M']\n",
    "temp2m_m = temp2m.mean(dim='eps', keep_attrs=True)\n",
    "temp2m_m.values = temp2m_m.values - 273.15"
   ]
  },
  {
   "cell_type": "markdown",
   "id": "df6c81f9",
   "metadata": {},
   "source": [
    "**Regrid**"
   ]
  },
  {
   "cell_type": "code",
   "execution_count": null,
   "id": "f2d78b5b",
   "metadata": {},
   "outputs": [],
   "source": [
    "from meteodatalab.operators.regrid import regrid, RegularGrid, Resampling, CRS\n",
    "\n",
    "dst = RegularGrid(\n",
    "    crs=CRS.from_epsg(21781),\n",
    "    xmin=400000,\n",
    "    xmax=900000,\n",
    "    ymin=50000,\n",
    "    ymax=350000,\n",
    "    nx=500,\n",
    "    ny=300,\n",
    ")\n",
    "t_final = regrid(temp2m_m, dst, Resampling.bilinear)\n"
   ]
  },
  {
   "cell_type": "markdown",
   "id": "f64a4028",
   "metadata": {},
   "source": [
    "**Plot the results**"
   ]
  },
  {
   "cell_type": "code",
   "execution_count": null,
   "id": "b20c37dc",
   "metadata": {},
   "outputs": [],
   "source": [
    "import matplotlib.pyplot as plt\n",
    "from cartopy import crs as ccrs\n",
    "from cartopy import feature as cfeature\n",
    "\n",
    "crs = ccrs.epsg(21781)\n",
    "fig = plt.figure(figsize=(11, 8))\n",
    "ax = fig.add_subplot(1, 1, 1, projection=crs)\n",
    "\n",
    "f = t_final.squeeze()\n",
    "c = ax.contourf(dst.x, dst.y, f.values, transform=crs, cmap='RdBu_r')\n",
    "fig.colorbar(c, label=\"°C\", orientation=\"horizontal\")\n",
    "\n",
    "ax.add_feature(cfeature.BORDERS)\n",
    "ax.add_feature(cfeature.LAKES, alpha=0.5)\n",
    "ax.add_feature(cfeature.RIVERS)\n",
    "\n",
    "ax.set_title(\"2 Meter Temperature\")"
   ]
  }
 ],
 "metadata": {
  "kernelspec": {
   "display_name": "polytope-demo",
   "language": "python",
   "name": "3.11"
  },
  "language_info": {
   "codemirror_mode": {
    "name": "ipython",
    "version": 3
   },
   "file_extension": ".py",
   "mimetype": "text/x-python",
   "name": "python",
   "nbconvert_exporter": "python",
   "pygments_lexer": "ipython3",
   "version": "3.11.8"
  }
 },
 "nbformat": 4,
 "nbformat_minor": 5
}
